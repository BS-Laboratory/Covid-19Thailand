{
  "nbformat": 4,
  "nbformat_minor": 0,
  "metadata": {
    "colab": {
      "name": "Covid-python - with apple",
      "provenance": [],
      "collapsed_sections": [],
      "toc_visible": true,
      "authorship_tag": "ABX9TyN3W36KykY6AhKdy7apd0G3",
      "include_colab_link": true
    },
    "kernelspec": {
      "display_name": "Python 3",
      "name": "python3"
    },
    "language_info": {
      "name": "python"
    }
  },
  "cells": [
    {
      "cell_type": "markdown",
      "metadata": {
        "id": "view-in-github",
        "colab_type": "text"
      },
      "source": [
        "<a href=\"https://colab.research.google.com/github/Tanainan/Covid-19Thailand/blob/main/Covid_python_with_apple.ipynb\" target=\"_parent\"><img src=\"https://colab.research.google.com/assets/colab-badge.svg\" alt=\"Open In Colab\"/></a>"
      ]
    },
    {
      "cell_type": "markdown",
      "metadata": {
        "id": "49t5kJ6QuESg"
      },
      "source": [
        "# Covid-19 Trends Prediction in Thailand Using Time Series Neural Networks\n",
        "\n",
        "---\n",
        "\n",
        "\n",
        "We used convolutional neural network (CNN), recurrent neural networks (RNNs), gated recurrent unit (GRU) and long short-term memory (LSTM) to predict Covid-19 cases and deaths in Thailand, using 14 previous days as samples to predict the next 1 day. These models particularly deal with time series data. Further, we ran multivariate neural networks with policy implementations, mobility changes, transportation behavior changes, vaccination, confirmed cases (for predicting deaths) and confirmed deaths (for predicting cases) as additional predictors. Our goal was to minimize the mean average percentage error (MAPE) between the actual values and predictions.  \n",
        "\n",
        "\n",
        "\n",
        "## Data Sources\n",
        "\n",
        "\n",
        "The Covid-19 data was from https://github.com/CSSEGISandData/COVID-19 by John Hopkins University. The data included both confirmed infects and confirmed deaths reported by Thailand’s Ministry of Public Health. \n",
        "Policy implementation in Thailand data was gathered by Oxford Covid-19 Government Response Tracker (OxCGRT) (https://github.com/OxCGRT/covid-policy-tracker). This policy record indicated when and how the government in each country responded to the pandemic at specific time periods. We used containment and health index which consisted of school closing, workplace closing, canceling public events, restrictions on gatherings, close public transport, stay at home requirements, international travel controls, and public information campaign. Each indicator was coded in different levels of implementations (see more: ​​https://github.com/OxCGRT/covid-policy-tracker/blob/master/documentation/codebook.md)\n",
        "The mobility data was from Google (https://www.google.com/covid19/mobility). Google calculated the changes of mobility based on Location History of users on Google Map. The baseline of the changes was the median value from January, 3rd to February 6th, 2020. There were four categories: groceries and pharmacy, retail and recreation, transit stations, and finally, parks. Another source of mobility was from Apple where it tracked wkiving and walking behaviors during the pandemic (https://covid19.apple.com/mobility). \n",
        "Vaccination count was gathered from Thailand’s Ministry of Health (https://github.com/porames/the-researcher-covid-data?fbclid=IwAR1-SAiA8pMKD5qbcN7S5c-p_snBIIWd42wYOq4qiM9yA6FTf_GcyYgxtvA). This vaccination information that was used in this study was the amount of Thai people who received their first shot, second shot of vaccines, regardless of the vaccine types. \n",
        "Finally, the last input data was transportation behavior from Thai’s Ministry of Transportation (https://datagov.mot.go.th/dataset/covid-19/resource/71a552d0-0fea-4e05-b78c-42d58aa88db6?fbclid=IwAR18p4TQY3qlD9snnhADdvrAWVjOgofse54GbNKm8Qb-pMgBb-ZejebWD-w). The information included the rate of use for both public and private transportation systems in Thailand. \n",
        "\n"
      ]
    },
    {
      "cell_type": "markdown",
      "metadata": {
        "id": "8Ix5ZBdJGub1"
      },
      "source": [
        "## Import packages"
      ]
    },
    {
      "cell_type": "code",
      "metadata": {
        "colab": {
          "base_uri": "https://localhost:8080/"
        },
        "id": "OwNlMasL65To",
        "outputId": "7f58e40a-8dba-4250-d8a0-64ddfb1638b2"
      },
      "source": [
        "!pip install -U tensorflow-addons\n",
        "from numpy import array\n",
        "from numpy import hstack\n",
        "from keras.models import Sequential\n",
        "from keras.layers import LSTM\n",
        "from keras.layers import Dense, Dropout, Activation\n",
        "from keras.layers import GRU\n",
        "from keras.layers import SimpleRNN\n",
        "from keras.layers import TimeDistributed\n",
        "from keras.layers import Bidirectional\n",
        "from keras.layers.convolutional import Conv1D\n",
        "from keras.layers.convolutional import MaxPooling1D\n",
        "from tensorflow_addons.layers import InstanceNormalization, GroupNormalization\n",
        "from keras.layers import LayerNormalization\n",
        "from keras.layers import Flatten\n",
        "from pandas import read_csv\n",
        "from pandas import DataFrame\n",
        "from pandas import concat\n",
        "import pandas as pd\n",
        "import numpy as np\n",
        "from statistics import stdev\n",
        "from statistics import mean\n",
        "from matplotlib import pyplot\n",
        "from numpy.random import seed\n",
        "seed(1)\n",
        "import tensorflow\n",
        "tensorflow.random.set_seed(1)\n",
        "from matplotlib import pyplot as plt\n",
        "import datetime as dt\n",
        "import matplotlib.ticker as ticker\n",
        "import plotly.graph_objects as go\n",
        "from statsmodels.graphics.factorplots import interaction_plot\n",
        "np.set_printoptions(threshold=np.inf)\n",
        "pd.set_option('display.max_rows', None)\n",
        "import itertools\n",
        "!pip install -U scikit-learn\n",
        "from sklearn.metrics import mean_absolute_percentage_error\n",
        "from tensorflow.keras.utils import to_categorical"
      ],
      "execution_count": 121,
      "outputs": [
        {
          "output_type": "stream",
          "name": "stdout",
          "text": [
            "Requirement already satisfied: tensorflow-addons in /usr/local/lib/python3.7/dist-packages (0.15.0)\n",
            "Requirement already satisfied: typeguard>=2.7 in /usr/local/lib/python3.7/dist-packages (from tensorflow-addons) (2.7.1)\n",
            "Requirement already satisfied: scikit-learn in /usr/local/lib/python3.7/dist-packages (1.0.1)\n",
            "Requirement already satisfied: threadpoolctl>=2.0.0 in /usr/local/lib/python3.7/dist-packages (from scikit-learn) (3.0.0)\n",
            "Requirement already satisfied: scipy>=1.1.0 in /usr/local/lib/python3.7/dist-packages (from scikit-learn) (1.4.1)\n",
            "Requirement already satisfied: joblib>=0.11 in /usr/local/lib/python3.7/dist-packages (from scikit-learn) (1.1.0)\n",
            "Requirement already satisfied: numpy>=1.14.6 in /usr/local/lib/python3.7/dist-packages (from scikit-learn) (1.19.5)\n"
          ]
        }
      ]
    },
    {
      "cell_type": "code",
      "metadata": {
        "colab": {
          "base_uri": "https://localhost:8080/"
        },
        "id": "NLqZL1TdFazQ",
        "outputId": "58fe358d-2b3b-4337-cdbf-e28812c24467"
      },
      "source": [
        "data = read_csv(\"https://raw.githubusercontent.com/OxCGRT/covid-policy-tracker/d98db2da901d5707dc3225ee163903005e7645f3/data/OxCGRT_latest.csv\")\n",
        "\n",
        "data = pd.DataFrame(data)\n",
        "\n",
        "# select Thailand only\n",
        "data = data.loc[data['CountryName'] == \"Thailand\"]\n",
        "\n",
        "# select columns\n",
        "data = data[[\"Date\",\"ConfirmedCases\", \"ConfirmedDeaths\"]]\n",
        "\n",
        "# change date format\n",
        "data.Date =  pd.to_datetime(data[\"Date\"], format='%Y%m%d')\n",
        "\n",
        "# reset index\n",
        "data = data.reset_index(drop = True)\n",
        "\n",
        "# replace NaN with 0 for ConfirmedCases and ConfirmedDeaths\n",
        "data[[\"ConfirmedCases\", \"ConfirmedDeaths\"]] = data[[\"ConfirmedCases\", \"ConfirmedDeaths\"]].replace(np.nan, 0)\n",
        "\n",
        "# remove NaN rows (bottom part)\n",
        "data = data.dropna()\n",
        "\n",
        "# add daily cases columns\n",
        "data[[\"Cases_daily\"]] = data['ConfirmedCases'].rolling(window=2).apply(lambda x: x.iloc[1] - x.iloc[0])\n",
        "data[[\"Deaths_daily\"]] = data['ConfirmedDeaths'].rolling(window=2).apply(lambda x: x.iloc[1] - x.iloc[0])\n",
        "\n",
        "# replace NaN with 0 for ConfirmedCases and Deaths_daily\n",
        "data[[\"Cases_daily\", \"Deaths_daily\"]] = data[[\"Cases_daily\", \"Deaths_daily\"]].replace(np.nan, 0)\n",
        "\n",
        "\n",
        "# start from 15/2/2020\n",
        "data = data[data.loc[data['Date'] == \"2020-02-15\"].index[0]:]\n",
        "\n",
        "# reset index\n",
        "data = data.reset_index(drop = True)\n",
        "\n"
      ],
      "execution_count": 122,
      "outputs": [
        {
          "output_type": "stream",
          "name": "stderr",
          "text": [
            "/usr/local/lib/python3.7/dist-packages/IPython/core/interactiveshell.py:2718: DtypeWarning:\n",
            "\n",
            "Columns (2,3) have mixed types.Specify dtype option on import or set low_memory=False.\n",
            "\n"
          ]
        }
      ]
    },
    {
      "cell_type": "code",
      "metadata": {
        "colab": {
          "base_uri": "https://localhost:8080/"
        },
        "id": "zSp2BWwkkDGZ",
        "outputId": "4b935f45-1485-43d1-ac3d-d683de612c10"
      },
      "source": [
        "apple = read_csv(\"https://raw.githubusercontent.com/ActiveConclusion/COVID19_mobility/master/apple_reports/applemobilitytrends.csv\")\n",
        "\n",
        "apple = pd.DataFrame(apple)\n",
        "\n",
        "apple = apple.loc[apple['region'] == \"Thailand\"]\n",
        "\n",
        "apple = apple.T\n",
        "\n",
        "# select rows\n",
        "apple = apple.drop(apple.index[[0,1,2,3,4,5]], axis= 0)\n",
        "\n",
        "apple[\"Date\"] = pd.to_datetime(apple.index)\n",
        "\n",
        "# change column names\n",
        "apple = apple.rename(columns= {135:\"Driving\", 136:\"Walking\"})\n",
        "\n",
        "apple['Driving'] = apple['Driving'].astype(float, errors = 'raise')\n",
        "apple['Walking'] = apple['Walking'].astype(float, errors = 'raise')\n",
        "\n",
        "# start from 15/2/2020\n",
        "apple = apple[apple.loc[apple['Date'] == \"2020-02-15\"].index[0]:]\n",
        "\n",
        "apple = apple.reset_index(drop=True)\n",
        "\n",
        "# omit Date column\n",
        "apple0 = apple.drop([\"Date\"], axis = 1)"
      ],
      "execution_count": 123,
      "outputs": [
        {
          "output_type": "stream",
          "name": "stderr",
          "text": [
            "/usr/local/lib/python3.7/dist-packages/IPython/core/interactiveshell.py:2718: DtypeWarning:\n",
            "\n",
            "Columns (3,4) have mixed types.Specify dtype option on import or set low_memory=False.\n",
            "\n"
          ]
        }
      ]
    },
    {
      "cell_type": "code",
      "metadata": {
        "id": "wCuFtjqMkWbW"
      },
      "source": [
        "# whichever has fewer data\n",
        "length = min(len(data), len(apple))\n",
        "\n",
        "# Cases daily\n",
        "data_i = pd.concat([data.Cases_daily[:length], \n",
        "                    data.Date[:length],\n",
        "                    apple0[:length]], axis = 1)\n",
        "\n",
        "data_i = data_i.rename(columns = {\"Cases_daily\":\"data_i\"})\n",
        "data_i = data_i[data_i.loc[data_i['Date'] == \"2021-06-15\"].index[0]:]\n",
        "\n",
        "# drop date column\n",
        "data_i = data_i.drop([\"Date\"], axis = 1)\n",
        "\n",
        "# Deaths daily\n",
        "data_d = pd.concat([data.Deaths_daily[:length], \n",
        "                    data.Date[:length],\n",
        "                    apple0[:length]], axis = 1)\n",
        "\n",
        "data_d = data_d.rename(columns = {\"Deaths_daily\":\"data_d\"})\n",
        "data_d = data_d[data_d.loc[data_d['Date'] == \"2021-06-15\"].index[0]:]\n",
        "\n",
        "# drop date column\n",
        "data_d = data_d.drop([\"Date\"], axis = 1)"
      ],
      "execution_count": 124,
      "outputs": []
    },
    {
      "cell_type": "code",
      "metadata": {
        "colab": {
          "base_uri": "https://localhost:8080/"
        },
        "id": "baqSI-cT6srS",
        "outputId": "7f958ef4-e4e5-4573-af34-ecad775425d6"
      },
      "source": [
        "case = read_csv(\"https://raw.githubusercontent.com/OxCGRT/covid-policy-tracker/d98db2da901d5707dc3225ee163903005e7645f3/data/OxCGRT_latest.csv\")\n",
        "\n",
        "case = pd.DataFrame(case)\n",
        "\n",
        "# select Thailand only\n",
        "case = case.loc[case['CountryName'] == \"Thailand\"]\n",
        "\n",
        "case = case[[\"Date\", \"ConfirmedCases\", \"ConfirmedDeaths\"]]\n",
        "\n",
        "# change date format\n",
        "case.Date =  pd.to_datetime(case[\"Date\"], format='%Y%m%d')\n",
        "\n",
        "# reset index\n",
        "case = case.reset_index(drop = True)\n",
        "\n",
        "# replace NaN with 0 for ConfirmedCases and ConfirmedDeaths\n",
        "case[[\"ConfirmedCases\", \"ConfirmedDeaths\"]] = case[[\"ConfirmedCases\", \"ConfirmedDeaths\"]].replace(np.nan, 0)\n",
        "\n",
        "# add daily cases columns\n",
        "case[[\"Cases_daily\"]] = case['ConfirmedCases'].rolling(window=2).apply(lambda x: x.iloc[1] - x.iloc[0])\n",
        "case[[\"Deaths_daily\"]] = case['ConfirmedDeaths'].rolling(window=2).apply(lambda x: x.iloc[1] - x.iloc[0])\n",
        "\n",
        "# replace NaN with 0 for ConfirmedCases and Deaths_daily\n",
        "case[[\"Cases_daily\", \"Deaths_daily\"]] = case[[\"Cases_daily\", \"Deaths_daily\"]].replace(np.nan, 0)\n",
        "\n",
        "# start from 15/2/2020\n",
        "case = case[case.loc[case['Date'] == \"2020-02-15\"].index[0]:]\n",
        "\n",
        "# reset index\n",
        "case = case.reset_index(drop = True)\n",
        "\n",
        "# remove the last rows with incomplete info\n",
        "case = case.loc[~(case[[\"ConfirmedCases\"]]==0).all(axis=1)]\n"
      ],
      "execution_count": 125,
      "outputs": [
        {
          "output_type": "stream",
          "name": "stderr",
          "text": [
            "/usr/local/lib/python3.7/dist-packages/IPython/core/interactiveshell.py:2718: DtypeWarning:\n",
            "\n",
            "Columns (2,3) have mixed types.Specify dtype option on import or set low_memory=False.\n",
            "\n",
            "/usr/local/lib/python3.7/dist-packages/pandas/core/generic.py:5170: SettingWithCopyWarning:\n",
            "\n",
            "\n",
            "A value is trying to be set on a copy of a slice from a DataFrame.\n",
            "Try using .loc[row_indexer,col_indexer] = value instead\n",
            "\n",
            "See the caveats in the documentation: https://pandas.pydata.org/pandas-docs/stable/user_guide/indexing.html#returning-a-view-versus-a-copy\n",
            "\n"
          ]
        }
      ]
    },
    {
      "cell_type": "code",
      "metadata": {
        "id": "uhNLba3MCmCK"
      },
      "source": [
        "data = data[data.loc[data['Date'] == \"2021-06-15\"].index[0]:]\n",
        "# apple = apple[apple.loc[apple['Date'] == \"2021-06-15\"].index[0]:]\n",
        "actual = case[case.loc[case['Date'] == \"2021-06-15\"].index[0]:]\n"
      ],
      "execution_count": 126,
      "outputs": []
    },
    {
      "cell_type": "markdown",
      "metadata": {
        "id": "JY3Wjb_5geVH"
      },
      "source": [
        "## Import data"
      ]
    },
    {
      "cell_type": "code",
      "metadata": {
        "id": "F1j1ksxigihL"
      },
      "source": [
        "\n",
        "# use the previous 14 days to predict the next day\n",
        "lag = 14\n",
        "prediction = 1\n",
        "window = 3 # for moving average\n",
        "\n",
        "# moving average\n",
        "data_i['data_i'] = data_i.data_i.rolling(window).mean()\n",
        "data_d['data_d'] = data_d.data_d.rolling(window).mean()\n",
        "\n",
        "# remove NaN\n",
        "data_i.dropna(subset = [\"data_i\"], inplace=True)\n",
        "data_d.dropna(subset = [\"data_d\"], inplace=True)\n",
        "\n",
        "data = data.reset_index(drop = True)\n",
        "data_i = data_i.reset_index(drop = True)\n",
        "data_d = data_d.reset_index(drop = True)\n",
        "\n"
      ],
      "execution_count": 127,
      "outputs": []
    },
    {
      "cell_type": "markdown",
      "metadata": {
        "id": "i3nAzFaX2b5E"
      },
      "source": [
        "## Methods\n",
        "\n",
        "---\n",
        "\n",
        "\n",
        "The data was available from February 22nd, 2020 to September 9th, 2021 (as the date the data was retrieved). However, the third wave of the epidemic in Thailand started after April 1st, 2021, and the trend started to rise after June. Thus, we used the data from, June 15th to July 29th, 2021 for our training; July 30th to August 18th, 2021 for our validation, and August 19th to September 2nd, 2021 for our prediction. There were 31 samples in total for training, 20 samples for validation, and predictions of 15 days ahead. \n",
        "\n",
        "Since confirmed cases, confirmed deaths and vaccination data were given in cumulative counts, we computed the daily cases, deaths and vaccination to match the format of other predictors: mobility and transportation changes. Neural networks required input and output in forms of matrices. The experiments consisted of univariate and multivariate approaches for training, validation, and prediction\n",
        "\n",
        "For the univariate, we created an input matrix with 14 columns as the previous 14 days input. The number of rows was equal to total samples - 14 days - 1-day prediction + 1 or 31 rows. To demonstrate, the first row would have the 1st to the 14th day. The second row would have the 2nd to the 15th day, and so forth as a rolling window. The output matrix would be the 1 column for 1-day prediction with the same amount of rows as the input matrix. For example, the first row would be the 15th day for the 1-day prediction. Since the neural networks could only work with at least 2 dimensions, we transformed both input and output matrices into 3 dimensions (with 1 as the third dimension)."
      ]
    },
    {
      "cell_type": "markdown",
      "metadata": {
        "id": "SGBoNeLdOjdy"
      },
      "source": [
        "## Data Preprocessing: Multivariate"
      ]
    },
    {
      "cell_type": "code",
      "metadata": {
        "id": "g9mNq2fInQs5"
      },
      "source": [
        "def split_sequence(sequence, lag):\n",
        "  x, y = list(), list()\n",
        "  for i in range(len(sequence)):\n",
        "    # find the end of this pattern\n",
        "    end_ix = i + lag\n",
        "    # check if we are beyond the sequence\n",
        "    if end_ix > len(sequence)-1:\n",
        "      break\n",
        "    # gather input and output parts of the pattern\n",
        "    seq_x, seq_y = sequence[i:end_ix], sequence[end_ix]\n",
        "    x.append(seq_x)\n",
        "    y.append(seq_y)\n",
        "  return array(x), array(y)\n",
        "\n",
        "index = 30\n"
      ],
      "execution_count": 128,
      "outputs": []
    },
    {
      "cell_type": "code",
      "metadata": {
        "id": "ogP6ikmAMqcl"
      },
      "source": [
        "# confirmed cases\n",
        "nrow_total = data_i.shape[0] - lag - prediction + 1\n",
        "\n",
        "\n",
        "y_i = np.array([data_i.data_i[lag:data_i.shape[0]]])\n",
        "y_i = y_i.T # transpose the matrix\n",
        "\n",
        "# split into training and test sets\n",
        "# Driving\n",
        "input_list = [np.expand_dims(data_i[i:lag+i][[\"data_i\", \"Driving\"]], axis=0) for i in range(nrow_total)] \n",
        "X_i = np.concatenate(input_list, axis=0)\n",
        "X_i_tr_dr = X_i[0:index+1, :, :]\n",
        "X_i_ts_dr = X_i[index+1:data_i.shape[0], :, :]\n",
        "\n",
        "\n",
        "# Walking\n",
        "input_list = [np.expand_dims(data_i[i:lag+i][[\"data_i\", \"Walking\"]], axis=0) for i in range(nrow_total)] \n",
        "X_i = np.concatenate(input_list, axis=0)\n",
        "X_i_tr_wk = X_i[0:index+1, :, :]\n",
        "X_i_ts_wk = X_i[index+1:data_i.shape[0], :, :]\n",
        "\n",
        "\n",
        "y_i_tr = y_i[0:index+1]\n",
        "y_i_ts = y_i[index+1:data_i.shape[0]]\n",
        "\n",
        "# confirmed deaths\n",
        "nrow_total = data_d.shape[0] - lag - prediction + 1\n",
        "\n",
        "\n",
        "y_d = np.array([data_d.data_d[lag:data_d.shape[0]]])\n",
        "y_d = y_d.T # transpose the matrix\n",
        "\n",
        "\n",
        "# split into training and test sets\n",
        "# Driving\n",
        "input_list = [np.expand_dims(data_d[i:lag+i][[\"data_d\", \"Driving\"]], axis=0) for i in range(nrow_total)] \n",
        "X_d = np.concatenate(input_list, axis=0)\n",
        "X_d_tr_dr = X_d[0:index+1, :, :]\n",
        "X_d_ts_dr = X_d[index+1:data_d.shape[0], :, :]\n",
        "\n",
        "\n",
        "# Walking\n",
        "input_list = [np.expand_dims(data_d[i:lag+i][[\"data_d\", \"Walking\"]], axis=0) for i in range(nrow_total)] \n",
        "X_d = np.concatenate(input_list, axis=0)\n",
        "X_d_tr_wk = X_d[0:index+1, :, :]\n",
        "X_d_ts_wk = X_d[index+1:data_d.shape[0], :, :]\n",
        "\n",
        "\n",
        "y_d_tr = y_d[0:index+1]\n",
        "y_d_ts = y_d[index+1:data_d.shape[0]]\n"
      ],
      "execution_count": 130,
      "outputs": []
    },
    {
      "cell_type": "markdown",
      "metadata": {
        "id": "eCEO9U_tX6nP"
      },
      "source": [
        "## Analysis: Driving\n",
        "\n",
        "---\n",
        "\n",
        "\n",
        "\n",
        "### Hyperparameters Tuning\n",
        "\n",
        "\n",
        "Using the training set matrices for confirmed cases and confirmed deaths and univiariate and multivariate, we tuned for the most optimal numbers of parameters, staring from basic architectures. In this case, we searched for numbers of nodes for LSTM, GRU, and RNNs, and filter, kernel size, and pool for CNN. In the input layer, we added instance normalization to make all values between 0 and 1. Since we were dealing with some data that we had never seen before and the data seemed to be non-stationary, instance normalization might provide more advantages than typical standardization or normalization. The numbers of nodes that we used for our LSTM, GRU, and RNNs experiments were 4, 8, 16, 32, 64, 128, 256, 512, and 1024. Similarly, we used the same pool for CNN filter with kernel size of 3, 5 and 7, and pool of 2 and 3. The activation function for this hidden layer was sigmoid. Next, we added another instance normalization. Finally, the output layer contained one node and Linear activation function. Epoch and batch size were 50 and 1, respectively. We used mean squared error (MSE) as our loss function, ADAM optimization and mean absolute percentage error (MAPE) as a metric for model evaluation.\n"
      ]
    },
    {
      "cell_type": "markdown",
      "metadata": {
        "id": "PgWYXmJLYATE"
      },
      "source": [
        "### CNN"
      ]
    },
    {
      "cell_type": "code",
      "metadata": {
        "id": "pZJnpt8jZRZZ"
      },
      "source": [
        "# CNN Tuning\n",
        "\n",
        "def evaluate_cnn(trainX, trainy, filter, kernel_size, pool):\n",
        "    seed(1)\n",
        "    tensorflow.random.set_seed(1)\n",
        "\n",
        "    verbose, epochs, batch_size = 0, 50, 1\n",
        "    n_timesteps, n_features = trainX.shape[1], trainX.shape[2]\n",
        "\n",
        "    model = Sequential()\n",
        "    model.add(Conv1D(filters = filter, kernel_size=kernel_size, activation='relu',input_shape=(n_timesteps,n_features)))\n",
        "    model.add(MaxPooling1D(pool_size= pool))\n",
        "    model.add(Flatten())\n",
        "    model.add(Dense(1, activation='linear'))\n",
        "    model.compile(loss='mse', optimizer='adam', metrics=['MAPE'])\n",
        "  \n",
        "    # fit network\n",
        "    model.fit(trainX, trainy, epochs=epochs, batch_size=batch_size, verbose=verbose, shuffle = False)\n",
        "    # evaluate model\n",
        "    _, accuracy = model.evaluate(trainX, trainy, batch_size=batch_size, verbose=0)\n",
        "    return accuracy\n",
        "\n",
        "# run an experiment\n",
        "def run_experiment(filters, kernel_size, pool, trainX, trainy):\n",
        "    # test each parameter\n",
        "    all_scores = list()\n",
        "    for filter in filters:\n",
        "      for kernel in kernel_size:\n",
        "        for pooling in pool:\n",
        "          score = evaluate_cnn(trainX, trainy, filter, kernel_size, pool)\n",
        "          print('filter = %d, kernel size = %d, pooling size = %d: %.3f' % (filter, kernel, pooling, score))\n",
        "          all_scores.append(score)\n",
        "    return all_scores\n",
        "    \n",
        "\n",
        "\n",
        "filter = [2, 4, 8, 16, 32, 64, 128, 256, 512, 1024] \n"
      ],
      "execution_count": 131,
      "outputs": []
    },
    {
      "cell_type": "code",
      "metadata": {
        "colab": {
          "base_uri": "https://localhost:8080/"
        },
        "id": "ixTPBVxFn3GN",
        "outputId": "40057c40-858e-4e3b-f04f-b6350ac03b1d"
      },
      "source": [
        "# Multivariate CNN confirmed cases\n",
        "\n",
        "kernel = [3, 5, 7]\n",
        "pool = [2]\n",
        "cnn_i_multi_dr = list()\n",
        "\n",
        "for i in kernel:\n",
        "  for j in pool: \n",
        "    score = list()\n",
        "    kernel_size, pool = [i],[j]\n",
        "    score = run_experiment(filter, kernel_size, pool,X_i_tr_dr, y_i_tr)\n",
        "    cnn_i_multi_dr.append(score)\n",
        "\n",
        "pool = [3]\n",
        "\n",
        "for i in kernel:\n",
        "  for j in pool: \n",
        "    kernel_size, pool = [i],[j]\n",
        "    score = run_experiment(filter, kernel_size, pool, X_i_tr_dr, y_i_tr)\n",
        "    cnn_i_multi_dr.append(score)\n",
        "\n",
        "cnn_i_multi_dr = pd.DataFrame(cnn_i_multi_dr).T\n",
        "cnn_i_multi_dr.columns = ['k3p2', 'k5p2','k7p2', 'k3p3', 'k5p3', 'k7p3']"
      ],
      "execution_count": 132,
      "outputs": [
        {
          "output_type": "stream",
          "name": "stdout",
          "text": [
            "filter = 2, kernel size = 3, pooling size = 2: 5.251\n",
            "filter = 4, kernel size = 3, pooling size = 2: 4.807\n",
            "filter = 8, kernel size = 3, pooling size = 2: 5.433\n",
            "filter = 16, kernel size = 3, pooling size = 2: 3.949\n",
            "filter = 32, kernel size = 3, pooling size = 2: 3.995\n",
            "filter = 64, kernel size = 3, pooling size = 2: 3.663\n",
            "filter = 128, kernel size = 3, pooling size = 2: 3.882\n",
            "filter = 256, kernel size = 3, pooling size = 2: 4.198\n",
            "filter = 512, kernel size = 3, pooling size = 2: 5.362\n",
            "filter = 1024, kernel size = 3, pooling size = 2: 5.690\n",
            "filter = 2, kernel size = 5, pooling size = 2: 5.290\n",
            "filter = 4, kernel size = 5, pooling size = 2: 4.533\n",
            "filter = 8, kernel size = 5, pooling size = 2: 5.092\n",
            "filter = 16, kernel size = 5, pooling size = 2: 4.969\n",
            "filter = 32, kernel size = 5, pooling size = 2: 3.999\n",
            "filter = 64, kernel size = 5, pooling size = 2: 4.170\n",
            "filter = 128, kernel size = 5, pooling size = 2: 3.857\n",
            "filter = 256, kernel size = 5, pooling size = 2: 3.956\n",
            "filter = 512, kernel size = 5, pooling size = 2: 5.538\n",
            "filter = 1024, kernel size = 5, pooling size = 2: 6.282\n",
            "filter = 2, kernel size = 7, pooling size = 2: 5.212\n",
            "filter = 4, kernel size = 7, pooling size = 2: 5.562\n",
            "filter = 8, kernel size = 7, pooling size = 2: 4.430\n",
            "filter = 16, kernel size = 7, pooling size = 2: 5.321\n",
            "filter = 32, kernel size = 7, pooling size = 2: 3.775\n",
            "filter = 64, kernel size = 7, pooling size = 2: 3.838\n",
            "filter = 128, kernel size = 7, pooling size = 2: 3.893\n",
            "filter = 256, kernel size = 7, pooling size = 2: 4.588\n",
            "filter = 512, kernel size = 7, pooling size = 2: 5.652\n",
            "filter = 1024, kernel size = 7, pooling size = 2: 6.432\n",
            "filter = 2, kernel size = 3, pooling size = 3: 5.301\n",
            "filter = 4, kernel size = 3, pooling size = 3: 6.293\n",
            "filter = 8, kernel size = 3, pooling size = 3: 4.472\n",
            "filter = 16, kernel size = 3, pooling size = 3: 4.979\n",
            "filter = 32, kernel size = 3, pooling size = 3: 4.311\n",
            "filter = 64, kernel size = 3, pooling size = 3: 4.314\n",
            "filter = 128, kernel size = 3, pooling size = 3: 4.003\n",
            "filter = 256, kernel size = 3, pooling size = 3: 3.701\n",
            "filter = 512, kernel size = 3, pooling size = 3: 4.775\n",
            "filter = 1024, kernel size = 3, pooling size = 3: 5.445\n",
            "filter = 2, kernel size = 5, pooling size = 3: 5.604\n",
            "filter = 4, kernel size = 5, pooling size = 3: 4.807\n",
            "filter = 8, kernel size = 5, pooling size = 3: 5.344\n",
            "filter = 16, kernel size = 5, pooling size = 3: 5.888\n",
            "filter = 32, kernel size = 5, pooling size = 3: 4.447\n",
            "filter = 64, kernel size = 5, pooling size = 3: 4.856\n",
            "filter = 128, kernel size = 5, pooling size = 3: 4.419\n",
            "filter = 256, kernel size = 5, pooling size = 3: 4.565\n",
            "filter = 512, kernel size = 5, pooling size = 3: 4.849\n",
            "filter = 1024, kernel size = 5, pooling size = 3: 5.308\n",
            "filter = 2, kernel size = 7, pooling size = 3: 5.559\n",
            "filter = 4, kernel size = 7, pooling size = 3: 99.984\n",
            "filter = 8, kernel size = 7, pooling size = 3: 5.700\n",
            "filter = 16, kernel size = 7, pooling size = 3: 5.895\n",
            "filter = 32, kernel size = 7, pooling size = 3: 5.029\n",
            "filter = 64, kernel size = 7, pooling size = 3: 5.001\n",
            "filter = 128, kernel size = 7, pooling size = 3: 4.573\n",
            "filter = 256, kernel size = 7, pooling size = 3: 4.690\n",
            "filter = 512, kernel size = 7, pooling size = 3: 4.791\n",
            "filter = 1024, kernel size = 7, pooling size = 3: 5.813\n"
          ]
        }
      ]
    },
    {
      "cell_type": "code",
      "metadata": {
        "colab": {
          "base_uri": "https://localhost:8080/"
        },
        "id": "f9h_O6Nsnz2C",
        "outputId": "56d997bf-9d55-42cb-fd56-903b400ffafd"
      },
      "source": [
        "# Multivariate CNN confirmed deaths\n",
        "\n",
        "pool = [2]\n",
        "cnn_d_multi_dr = list()\n",
        "\n",
        "for i in kernel:\n",
        "  for j in pool:\n",
        "    score = list() \n",
        "    kernel_size, pool = [i],[j]\n",
        "    score = run_experiment(filter, kernel_size, pool, X_d_tr_dr, y_d_tr)\n",
        "    cnn_d_multi_dr.append(score)\n",
        "\n",
        "pool = [3]\n",
        "\n",
        "for i in kernel:\n",
        "  for j in pool: \n",
        "    score = list()\n",
        "    kernel_size, pool = [i],[j]\n",
        "    score = run_experiment(filter, kernel_size, pool, X_d_tr_dr, y_d_tr)\n",
        "    cnn_d_multi_dr.append(score)\n",
        "\n",
        "cnn_d_multi_dr = pd.DataFrame(cnn_d_multi_dr).T\n",
        "cnn_d_multi_dr.columns = ['k3p2', 'k3p3','k5p2', 'k7p2', 'k5p3', 'k7p3']"
      ],
      "execution_count": 133,
      "outputs": [
        {
          "output_type": "stream",
          "name": "stdout",
          "text": [
            "filter = 2, kernel size = 3, pooling size = 2: 11.633\n",
            "filter = 4, kernel size = 3, pooling size = 2: 11.016\n",
            "filter = 8, kernel size = 3, pooling size = 2: 8.797\n",
            "filter = 16, kernel size = 3, pooling size = 2: 8.617\n",
            "filter = 32, kernel size = 3, pooling size = 2: 7.112\n",
            "filter = 64, kernel size = 3, pooling size = 2: 6.176\n",
            "filter = 128, kernel size = 3, pooling size = 2: 5.640\n",
            "filter = 256, kernel size = 3, pooling size = 2: 5.278\n",
            "filter = 512, kernel size = 3, pooling size = 2: 4.558\n",
            "filter = 1024, kernel size = 3, pooling size = 2: 4.288\n",
            "filter = 2, kernel size = 5, pooling size = 2: 9.935\n",
            "filter = 4, kernel size = 5, pooling size = 2: 9.676\n",
            "filter = 8, kernel size = 5, pooling size = 2: 7.101\n",
            "filter = 16, kernel size = 5, pooling size = 2: 7.800\n",
            "filter = 32, kernel size = 5, pooling size = 2: 6.750\n",
            "filter = 64, kernel size = 5, pooling size = 2: 7.848\n",
            "filter = 128, kernel size = 5, pooling size = 2: 6.749\n",
            "filter = 256, kernel size = 5, pooling size = 2: 6.133\n",
            "filter = 512, kernel size = 5, pooling size = 2: 6.295\n",
            "filter = 1024, kernel size = 5, pooling size = 2: 5.650\n",
            "filter = 2, kernel size = 7, pooling size = 2: 10.325\n",
            "filter = 4, kernel size = 7, pooling size = 2: 9.569\n",
            "filter = 8, kernel size = 7, pooling size = 2: 7.718\n",
            "filter = 16, kernel size = 7, pooling size = 2: 8.730\n",
            "filter = 32, kernel size = 7, pooling size = 2: 7.218\n",
            "filter = 64, kernel size = 7, pooling size = 2: 7.421\n",
            "filter = 128, kernel size = 7, pooling size = 2: 7.020\n",
            "filter = 256, kernel size = 7, pooling size = 2: 7.334\n",
            "filter = 512, kernel size = 7, pooling size = 2: 7.515\n",
            "filter = 1024, kernel size = 7, pooling size = 2: 8.458\n",
            "filter = 2, kernel size = 3, pooling size = 3: 10.716\n",
            "filter = 4, kernel size = 3, pooling size = 3: 12.299\n",
            "filter = 8, kernel size = 3, pooling size = 3: 9.616\n",
            "filter = 16, kernel size = 3, pooling size = 3: 8.322\n",
            "filter = 32, kernel size = 3, pooling size = 3: 8.386\n",
            "filter = 64, kernel size = 3, pooling size = 3: 6.508\n",
            "filter = 128, kernel size = 3, pooling size = 3: 6.404\n",
            "filter = 256, kernel size = 3, pooling size = 3: 5.197\n",
            "filter = 512, kernel size = 3, pooling size = 3: 4.476\n",
            "filter = 1024, kernel size = 3, pooling size = 3: 3.834\n",
            "filter = 2, kernel size = 5, pooling size = 3: 11.419\n",
            "filter = 4, kernel size = 5, pooling size = 3: 9.872\n",
            "filter = 8, kernel size = 5, pooling size = 3: 9.666\n",
            "filter = 16, kernel size = 5, pooling size = 3: 8.945\n",
            "filter = 32, kernel size = 5, pooling size = 3: 8.445\n",
            "filter = 64, kernel size = 5, pooling size = 3: 8.030\n",
            "filter = 128, kernel size = 5, pooling size = 3: 7.398\n",
            "filter = 256, kernel size = 5, pooling size = 3: 7.024\n",
            "filter = 512, kernel size = 5, pooling size = 3: 7.387\n",
            "filter = 1024, kernel size = 5, pooling size = 3: 7.746\n",
            "filter = 2, kernel size = 7, pooling size = 3: 11.167\n",
            "filter = 4, kernel size = 7, pooling size = 3: 10.064\n",
            "filter = 8, kernel size = 7, pooling size = 3: 9.668\n",
            "filter = 16, kernel size = 7, pooling size = 3: 8.798\n",
            "filter = 32, kernel size = 7, pooling size = 3: 8.950\n",
            "filter = 64, kernel size = 7, pooling size = 3: 7.291\n",
            "filter = 128, kernel size = 7, pooling size = 3: 7.768\n",
            "filter = 256, kernel size = 7, pooling size = 3: 7.858\n",
            "filter = 512, kernel size = 7, pooling size = 3: 7.895\n",
            "filter = 1024, kernel size = 7, pooling size = 3: 8.466\n"
          ]
        }
      ]
    },
    {
      "cell_type": "markdown",
      "metadata": {
        "id": "eDXGbHvPZNn1"
      },
      "source": [
        "### LSTM"
      ]
    },
    {
      "cell_type": "code",
      "metadata": {
        "id": "XwruQErcVIGp"
      },
      "source": [
        "def evaluate_lstm(trainX, trainy, units):\n",
        "    seed(1)\n",
        "    tensorflow.random.set_seed(1)\n",
        "\n",
        "    verbose, epochs, batch_size = 0, 50, 1\n",
        "    n_timesteps, n_features = trainX.shape[1], trainX.shape[2]\n",
        "\n",
        "    model = Sequential()\n",
        "    model.add(LSTM(units = units, activation='relu', input_shape=(n_timesteps,n_features)))\n",
        "    model.add(Dense(1, activation='linear'))\n",
        "    model.compile(loss='mse', optimizer='adam', metrics=['MAPE'])\n",
        "  \n",
        "    # fit network\n",
        "    model.fit(trainX, trainy, epochs=epochs, batch_size=batch_size, verbose=verbose, shuffle = False)\n",
        "    # evaluate model\n",
        "    _, accuracy = model.evaluate(trainX, trainy, batch_size=batch_size, verbose=0)\n",
        "    return accuracy\n",
        "\n",
        "units = [2, 4,8,16,32,64,128,256,512, 1024]\n",
        "\n",
        "# Multivariate LSTM confirmed cases\n",
        "\n",
        "lstm_i_multi_dr = list()\n",
        "\n",
        "for i in units:\n",
        "  score = list()\n",
        "  score = evaluate_lstm(X_i_tr_dr, y_i_tr, i)\n",
        "  lstm_i_multi_dr.append(score)\n",
        "\n",
        "\n",
        "\n",
        "# Multivariate LSTM confirmed deaths\n",
        "\n",
        "lstm_d_multi_dr = list()\n",
        "\n",
        "for i in units:\n",
        "  score = list()\n",
        "  score = evaluate_lstm(X_d_tr_dr, y_d_tr, i)\n",
        "  lstm_d_multi_dr.append(score)"
      ],
      "execution_count": 134,
      "outputs": []
    },
    {
      "cell_type": "markdown",
      "metadata": {
        "id": "u5EHjmk8ZwNb"
      },
      "source": [
        "### GRU"
      ]
    },
    {
      "cell_type": "code",
      "metadata": {
        "id": "8Pkcl1joZuxL"
      },
      "source": [
        "def evaluate_gru(trainX, trainy, units):\n",
        "    seed(1)\n",
        "    tensorflow.random.set_seed(1)\n",
        "\n",
        "    verbose, epochs, batch_size = 0, 50, 1\n",
        "    n_timesteps, n_features = trainX.shape[1], trainX.shape[2]\n",
        "\n",
        "    model = Sequential()\n",
        "    model.add(GRU(units = units, activation='relu', input_shape=(n_timesteps,n_features)))\n",
        "    model.add(Dense(1, activation='linear'))\n",
        "    model.compile(loss='mse', optimizer='adam', metrics=['MAPE'])\n",
        "  \n",
        "    # fit network\n",
        "    model.fit(trainX, trainy, epochs=epochs, batch_size=batch_size, verbose=verbose, shuffle = False)\n",
        "    # evaluate model\n",
        "    _, accuracy = model.evaluate(trainX, trainy, batch_size=batch_size, verbose=0)\n",
        "    return accuracy\n",
        "\n",
        "\n",
        "# Multivariate GRU confirmed cases\n",
        "\n",
        "gru_i_multi_dr = list()\n",
        "\n",
        "for i in units:\n",
        "  score = list()\n",
        "  score = evaluate_gru(X_i_tr_dr, y_i_tr, i)\n",
        "  gru_i_multi_dr.append(score)\n",
        "\n",
        "\n",
        "# Multivariate GRU confirmed deaths\n",
        "\n",
        "gru_d_multi_dr = list()\n",
        "\n",
        "for i in units:\n",
        "  score = list()\n",
        "  score = evaluate_gru(X_d_tr_dr, y_d_tr, i)\n",
        "  gru_d_multi_dr.append(score)"
      ],
      "execution_count": 135,
      "outputs": []
    },
    {
      "cell_type": "markdown",
      "metadata": {
        "id": "LxvR7HvgbL9i"
      },
      "source": [
        "### RNNs"
      ]
    },
    {
      "cell_type": "code",
      "metadata": {
        "id": "pHWbTWi0bOet"
      },
      "source": [
        "def evaluate_rnn(trainX, trainy, units):\n",
        "    seed(1)\n",
        "    tensorflow.random.set_seed(1)\n",
        "\n",
        "    verbose, epochs, batch_size = 0, 50, 1\n",
        "    n_timesteps, n_features = trainX.shape[1], trainX.shape[2]\n",
        "\n",
        "    model = Sequential()\n",
        "    model.add(SimpleRNN(units = units, activation='relu', input_shape=(n_timesteps,n_features)))\n",
        "    model.add(Dense(1, activation='linear'))\n",
        "    model.compile(loss='mse', optimizer='adam', metrics=['MAPE'])\n",
        "  \n",
        "    # fit network\n",
        "    model.fit(trainX, trainy, epochs=epochs, batch_size=batch_size, verbose=verbose, shuffle = False)\n",
        "    # evaluate model\n",
        "    _, accuracy = model.evaluate(trainX, trainy, batch_size=batch_size, verbose=0)\n",
        "    return accuracy\n",
        "\n",
        "# Multivariate RNNs confirmed cases\n",
        "\n",
        "rnn_i_multi_dr = list()\n",
        "\n",
        "for i in units:\n",
        "  score = list()\n",
        "  score = evaluate_rnn(X_i_tr_dr, y_i_tr, i)\n",
        "  rnn_i_multi_dr.append(score)\n",
        "\n",
        "\n",
        "# Multivariate RNNs confirmed deaths\n",
        "\n",
        "rnn_d_multi_dr = list()\n",
        "\n",
        "for i in units:\n",
        "  score = list()\n",
        "  score = evaluate_rnn(X_d_tr_dr, y_d_tr, i)\n",
        "  rnn_d_multi_dr.append(score)"
      ],
      "execution_count": 136,
      "outputs": []
    },
    {
      "cell_type": "markdown",
      "metadata": {
        "id": "91h9IuDksSs2"
      },
      "source": [
        "### Result Table"
      ]
    },
    {
      "cell_type": "markdown",
      "metadata": {
        "id": "wWeNmaup5b5U"
      },
      "source": [
        "#### Multivariate Confirmed Cases"
      ]
    },
    {
      "cell_type": "code",
      "metadata": {
        "id": "0nimG2vW0zLO",
        "colab": {
          "base_uri": "https://localhost:8080/",
          "height": 717
        },
        "outputId": "ec69de65-a8a3-4332-dad9-bac762ccff9e"
      },
      "source": [
        "fig = go.Figure(data=[go.Table(header=dict(values=['Model', 'Kernel size', 'Pool', '2 Nodes', '4 Nodes', '8 Nodes', '16 Nodes', \n",
        "                                                   '32 Nodes', \"64 Nodes\", '128 Nodes', '256 Nodes', '512 Nodes', '1024 Nodes'],\n",
        "                                           line_color = 'gray'),\n",
        "                               cells=dict(values=[['LSTM', 'GRU', 'RNNs', 'CNN',\n",
        "                                                   'CNN', 'CNN', 'CNN', 'CNN', 'CNN'],\n",
        "                                                  ['-', '-', '-', '3', '5', '7', '3', '5', '7'],\n",
        "                                                  ['-', '-', '-', '2', '2', '2', '3', '3', '3'],\n",
        "                                    [round(lstm_i_multi_dr[0],3), \n",
        "                                     round(gru_i_multi_dr[0],3),\n",
        "                                     round(rnn_i_multi_dr[0],3), \n",
        "                                     round(cnn_i_multi_dr.iloc[0,0],3),\n",
        "                                     round(cnn_i_multi_dr.iloc[0,1],3),\n",
        "                                     round(cnn_i_multi_dr.iloc[0,2],3),\n",
        "                                     round(cnn_i_multi_dr.iloc[0,3],3),\n",
        "                                     round(cnn_i_multi_dr.iloc[0,4],3),\n",
        "                                     round(cnn_i_multi_dr.iloc[0,5],3)],\n",
        "                                     [round(lstm_i_multi_dr[1],3), \n",
        "                                     round(gru_i_multi_dr[1],3),\n",
        "                                     round(rnn_i_multi_dr[1],3), \n",
        "                                     round(cnn_i_multi_dr.iloc[1,0],3),\n",
        "                                     round(cnn_i_multi_dr.iloc[1,1],3),\n",
        "                                     round(cnn_i_multi_dr.iloc[1,2],3),\n",
        "                                     round(cnn_i_multi_dr.iloc[1,3],3),\n",
        "                                     round(cnn_i_multi_dr.iloc[1,4],3),\n",
        "                                     round(cnn_i_multi_dr.iloc[1,5],3)],\n",
        "                                     [round(lstm_i_multi_dr[2],3), \n",
        "                                     round(gru_i_multi_dr[2],3),\n",
        "                                     round(rnn_i_multi_dr[2],3), \n",
        "                                     round(cnn_i_multi_dr.iloc[2,0],3),\n",
        "                                     round(cnn_i_multi_dr.iloc[2,1],3),\n",
        "                                     round(cnn_i_multi_dr.iloc[2,2],3),\n",
        "                                     round(cnn_i_multi_dr.iloc[2,3],3),\n",
        "                                     round(cnn_i_multi_dr.iloc[2,4],3),\n",
        "                                     round(cnn_i_multi_dr.iloc[2,5],3)],\n",
        "                                     [round(lstm_i_multi_dr[3],3), \n",
        "                                     round(gru_i_multi_dr[3],3),\n",
        "                                     round(rnn_i_multi_dr[3],3), \n",
        "                                     round(cnn_i_multi_dr.iloc[3,0],3),\n",
        "                                     round(cnn_i_multi_dr.iloc[3,1],3),\n",
        "                                     round(cnn_i_multi_dr.iloc[3,2],3),\n",
        "                                     round(cnn_i_multi_dr.iloc[3,3],3),\n",
        "                                     round(cnn_i_multi_dr.iloc[3,4],3),\n",
        "                                     round(cnn_i_multi_dr.iloc[3,5],3)],\n",
        "                                     [round(lstm_i_multi_dr[4],3), \n",
        "                                     round(gru_i_multi_dr[4],3),\n",
        "                                     round(rnn_i_multi_dr[4],3), \n",
        "                                     round(cnn_i_multi_dr.iloc[4,0],3),\n",
        "                                     round(cnn_i_multi_dr.iloc[4,1],3),\n",
        "                                     round(cnn_i_multi_dr.iloc[4,2],3),\n",
        "                                     round(cnn_i_multi_dr.iloc[4,3],3),\n",
        "                                     round(cnn_i_multi_dr.iloc[4,4],3),\n",
        "                                     round(cnn_i_multi_dr.iloc[4,5],3)],\n",
        "                                     [round(lstm_i_multi_dr[5],3), \n",
        "                                     round(gru_i_multi_dr[5],3),\n",
        "                                     round(rnn_i_multi_dr[5],3), \n",
        "                                     round(cnn_i_multi_dr.iloc[5,0],3),\n",
        "                                     round(cnn_i_multi_dr.iloc[5,1],3),\n",
        "                                     round(cnn_i_multi_dr.iloc[5,2],3),\n",
        "                                     round(cnn_i_multi_dr.iloc[5,3],3),\n",
        "                                     round(cnn_i_multi_dr.iloc[5,4],3),\n",
        "                                     round(cnn_i_multi_dr.iloc[5,5],3)],\n",
        "                                     [round(lstm_i_multi_dr[6],3), \n",
        "                                     round(gru_i_multi_dr[6],3),\n",
        "                                     round(rnn_i_multi_dr[6],3), \n",
        "                                     round(cnn_i_multi_dr.iloc[6,0],3),\n",
        "                                     round(cnn_i_multi_dr.iloc[6,1],3),\n",
        "                                     round(cnn_i_multi_dr.iloc[6,2],3),\n",
        "                                     round(cnn_i_multi_dr.iloc[6,3],3),\n",
        "                                     round(cnn_i_multi_dr.iloc[6,4],3),\n",
        "                                     round(cnn_i_multi_dr.iloc[6,5],3)],\n",
        "                                     [round(lstm_i_multi_dr[7],3), \n",
        "                                     round(gru_i_multi_dr[7],3),\n",
        "                                     round(rnn_i_multi_dr[7],3), \n",
        "                                     round(cnn_i_multi_dr.iloc[7,0],3),\n",
        "                                     round(cnn_i_multi_dr.iloc[7,1],3),\n",
        "                                     round(cnn_i_multi_dr.iloc[7,2],3),\n",
        "                                     round(cnn_i_multi_dr.iloc[7,3],3),\n",
        "                                     round(cnn_i_multi_dr.iloc[7,4],3),\n",
        "                                     round(cnn_i_multi_dr.iloc[7,5],3)],\n",
        "                                     [round(lstm_i_multi_dr[8],3), \n",
        "                                     round(gru_i_multi_dr[8],3),\n",
        "                                     round(rnn_i_multi_dr[8],3), \n",
        "                                     round(cnn_i_multi_dr.iloc[8,0],3),\n",
        "                                     round(cnn_i_multi_dr.iloc[8,1],3),\n",
        "                                     round(cnn_i_multi_dr.iloc[8,2],3),\n",
        "                                     round(cnn_i_multi_dr.iloc[8,3],3),\n",
        "                                     round(cnn_i_multi_dr.iloc[8,4],3),\n",
        "                                     round(cnn_i_multi_dr.iloc[8,5],3)],\n",
        "                                     [round(lstm_i_multi_dr[9],3), \n",
        "                                     round(gru_i_multi_dr[9],3),\n",
        "                                     round(rnn_i_multi_dr[9],3), \n",
        "                                     round(cnn_i_multi_dr.iloc[9,0],3),\n",
        "                                     round(cnn_i_multi_dr.iloc[9,1],3),\n",
        "                                     round(cnn_i_multi_dr.iloc[9,2],3),\n",
        "                                     round(cnn_i_multi_dr.iloc[9,3],3),\n",
        "                                     round(cnn_i_multi_dr.iloc[9,4],3),\n",
        "                                     round(cnn_i_multi_dr.iloc[9,5],3)]],\n",
        "                            align=['left','center', 'center', \n",
        "                                   'right','right','right',\n",
        "                                   'right','right','right',\n",
        "                                   'right','right','right','right'],\n",
        "                            fill_color = 'white',\n",
        "                            line_color = 'gray'))\n",
        "                     ])\n",
        "fig.update_layout(title = \"Parameter Tunings Mean Absolute Percentage Error: Multivariate Confirmed Cases\",\n",
        "                  title_x=0.5, height = 700, width = 1200)\n",
        "fig.show()"
      ],
      "execution_count": 139,
      "outputs": [
        {
          "output_type": "display_data",
          "data": {
            "text/html": [
              "<html>\n",
              "<head><meta charset=\"utf-8\" /></head>\n",
              "<body>\n",
              "    <div>\n",
              "            <script src=\"https://cdnjs.cloudflare.com/ajax/libs/mathjax/2.7.5/MathJax.js?config=TeX-AMS-MML_SVG\"></script><script type=\"text/javascript\">if (window.MathJax) {MathJax.Hub.Config({SVG: {font: \"STIX-Web\"}});}</script>\n",
              "                <script type=\"text/javascript\">window.PlotlyConfig = {MathJaxConfig: 'local'};</script>\n",
              "        <script src=\"https://cdn.plot.ly/plotly-latest.min.js\"></script>    \n",
              "            <div id=\"14ea647d-2ae9-406a-a599-97758ffb4e7c\" class=\"plotly-graph-div\" style=\"height:700px; width:1200px;\"></div>\n",
              "            <script type=\"text/javascript\">\n",
              "                \n",
              "                    window.PLOTLYENV=window.PLOTLYENV || {};\n",
              "                    \n",
              "                if (document.getElementById(\"14ea647d-2ae9-406a-a599-97758ffb4e7c\")) {\n",
              "                    Plotly.newPlot(\n",
              "                        '14ea647d-2ae9-406a-a599-97758ffb4e7c',\n",
              "                        [{\"cells\": {\"align\": [\"left\", \"center\", \"center\", \"right\", \"right\", \"right\", \"right\", \"right\", \"right\", \"right\", \"right\", \"right\", \"right\"], \"fill\": {\"color\": \"white\"}, \"line\": {\"color\": \"gray\"}, \"values\": [[\"LSTM\", \"GRU\", \"RNNs\", \"CNN\", \"CNN\", \"CNN\", \"CNN\", \"CNN\", \"CNN\"], [\"-\", \"-\", \"-\", \"3\", \"5\", \"7\", \"3\", \"5\", \"7\"], [\"-\", \"-\", \"-\", \"2\", \"2\", \"2\", \"3\", \"3\", \"3\"], [99.984, 99.984, 4.565, 5.251, 5.29, 5.212, 5.301, 5.604, 5.559], [99.984, 3.886, 3.662, 4.807, 4.533, 5.562, 6.293, 4.807, 99.984], [99.984, 4.179, 5.673, 5.433, 5.092, 4.43, 4.472, 5.344, 5.7], [4.249, 4.652, 3.985, 3.949, 4.969, 5.321, 4.979, 5.888, 5.895], [3.753, 4.43, 2.935, 3.995, 3.999, 3.775, 4.311, 4.447, 5.029], [3.972, 4.082, 3.171, 3.663, 4.17, 3.838, 4.314, 4.856, 5.001], [4.144, 4.4, 3.116, 3.882, 3.857, 3.893, 4.003, 4.419, 4.573], [4.339, 4.025, 3.3, 4.198, 3.956, 4.588, 3.701, 4.565, 4.69], [4.311, 3.736, 2.845, 5.362, 5.538, 5.652, 4.775, 4.849, 4.791], [4.215, 3.55, 3.318, 5.69, 6.282, 6.432, 5.445, 5.308, 5.813]]}, \"header\": {\"line\": {\"color\": \"gray\"}, \"values\": [\"Model\", \"Kernel size\", \"Pool\", \"2 Nodes\", \"4 Nodes\", \"8 Nodes\", \"16 Nodes\", \"32 Nodes\", \"64 Nodes\", \"128 Nodes\", \"256 Nodes\", \"512 Nodes\", \"1024 Nodes\"]}, \"type\": \"table\"}],\n",
              "                        {\"height\": 700, \"template\": {\"data\": {\"bar\": [{\"error_x\": {\"color\": \"#2a3f5f\"}, \"error_y\": {\"color\": \"#2a3f5f\"}, \"marker\": {\"line\": {\"color\": \"#E5ECF6\", \"width\": 0.5}}, \"type\": \"bar\"}], \"barpolar\": [{\"marker\": {\"line\": {\"color\": \"#E5ECF6\", \"width\": 0.5}}, \"type\": \"barpolar\"}], \"carpet\": [{\"aaxis\": {\"endlinecolor\": \"#2a3f5f\", \"gridcolor\": \"white\", \"linecolor\": \"white\", \"minorgridcolor\": \"white\", \"startlinecolor\": \"#2a3f5f\"}, \"baxis\": {\"endlinecolor\": \"#2a3f5f\", \"gridcolor\": \"white\", \"linecolor\": \"white\", \"minorgridcolor\": \"white\", \"startlinecolor\": \"#2a3f5f\"}, \"type\": \"carpet\"}], \"choropleth\": [{\"colorbar\": {\"outlinewidth\": 0, \"ticks\": \"\"}, \"type\": \"choropleth\"}], \"contour\": [{\"colorbar\": {\"outlinewidth\": 0, \"ticks\": \"\"}, \"colorscale\": [[0.0, \"#0d0887\"], [0.1111111111111111, \"#46039f\"], [0.2222222222222222, \"#7201a8\"], [0.3333333333333333, \"#9c179e\"], [0.4444444444444444, \"#bd3786\"], [0.5555555555555556, \"#d8576b\"], [0.6666666666666666, \"#ed7953\"], [0.7777777777777778, \"#fb9f3a\"], [0.8888888888888888, \"#fdca26\"], [1.0, \"#f0f921\"]], \"type\": \"contour\"}], \"contourcarpet\": [{\"colorbar\": {\"outlinewidth\": 0, \"ticks\": \"\"}, \"type\": \"contourcarpet\"}], \"heatmap\": [{\"colorbar\": {\"outlinewidth\": 0, \"ticks\": \"\"}, \"colorscale\": [[0.0, \"#0d0887\"], [0.1111111111111111, \"#46039f\"], [0.2222222222222222, \"#7201a8\"], [0.3333333333333333, \"#9c179e\"], [0.4444444444444444, \"#bd3786\"], [0.5555555555555556, \"#d8576b\"], [0.6666666666666666, \"#ed7953\"], [0.7777777777777778, \"#fb9f3a\"], [0.8888888888888888, \"#fdca26\"], [1.0, \"#f0f921\"]], \"type\": \"heatmap\"}], \"heatmapgl\": [{\"colorbar\": {\"outlinewidth\": 0, \"ticks\": \"\"}, \"colorscale\": [[0.0, \"#0d0887\"], [0.1111111111111111, \"#46039f\"], [0.2222222222222222, \"#7201a8\"], [0.3333333333333333, \"#9c179e\"], [0.4444444444444444, \"#bd3786\"], [0.5555555555555556, \"#d8576b\"], [0.6666666666666666, \"#ed7953\"], [0.7777777777777778, \"#fb9f3a\"], [0.8888888888888888, \"#fdca26\"], [1.0, \"#f0f921\"]], \"type\": \"heatmapgl\"}], \"histogram\": [{\"marker\": {\"colorbar\": {\"outlinewidth\": 0, \"ticks\": \"\"}}, \"type\": \"histogram\"}], \"histogram2d\": [{\"colorbar\": {\"outlinewidth\": 0, \"ticks\": \"\"}, \"colorscale\": [[0.0, \"#0d0887\"], [0.1111111111111111, \"#46039f\"], [0.2222222222222222, \"#7201a8\"], [0.3333333333333333, \"#9c179e\"], [0.4444444444444444, \"#bd3786\"], [0.5555555555555556, \"#d8576b\"], [0.6666666666666666, \"#ed7953\"], [0.7777777777777778, \"#fb9f3a\"], [0.8888888888888888, \"#fdca26\"], [1.0, \"#f0f921\"]], \"type\": \"histogram2d\"}], \"histogram2dcontour\": [{\"colorbar\": {\"outlinewidth\": 0, \"ticks\": \"\"}, \"colorscale\": [[0.0, \"#0d0887\"], [0.1111111111111111, \"#46039f\"], [0.2222222222222222, \"#7201a8\"], [0.3333333333333333, \"#9c179e\"], [0.4444444444444444, \"#bd3786\"], [0.5555555555555556, \"#d8576b\"], [0.6666666666666666, \"#ed7953\"], [0.7777777777777778, \"#fb9f3a\"], [0.8888888888888888, \"#fdca26\"], [1.0, \"#f0f921\"]], \"type\": \"histogram2dcontour\"}], \"mesh3d\": [{\"colorbar\": {\"outlinewidth\": 0, \"ticks\": \"\"}, \"type\": \"mesh3d\"}], \"parcoords\": [{\"line\": {\"colorbar\": {\"outlinewidth\": 0, \"ticks\": \"\"}}, \"type\": \"parcoords\"}], \"pie\": [{\"automargin\": true, \"type\": \"pie\"}], \"scatter\": [{\"marker\": {\"colorbar\": {\"outlinewidth\": 0, \"ticks\": \"\"}}, \"type\": \"scatter\"}], \"scatter3d\": [{\"line\": {\"colorbar\": {\"outlinewidth\": 0, \"ticks\": \"\"}}, \"marker\": {\"colorbar\": {\"outlinewidth\": 0, \"ticks\": \"\"}}, \"type\": \"scatter3d\"}], \"scattercarpet\": [{\"marker\": {\"colorbar\": {\"outlinewidth\": 0, \"ticks\": \"\"}}, \"type\": \"scattercarpet\"}], \"scattergeo\": [{\"marker\": {\"colorbar\": {\"outlinewidth\": 0, \"ticks\": \"\"}}, \"type\": \"scattergeo\"}], \"scattergl\": [{\"marker\": {\"colorbar\": {\"outlinewidth\": 0, \"ticks\": \"\"}}, \"type\": \"scattergl\"}], \"scattermapbox\": [{\"marker\": {\"colorbar\": {\"outlinewidth\": 0, \"ticks\": \"\"}}, \"type\": \"scattermapbox\"}], \"scatterpolar\": [{\"marker\": {\"colorbar\": {\"outlinewidth\": 0, \"ticks\": \"\"}}, \"type\": \"scatterpolar\"}], \"scatterpolargl\": [{\"marker\": {\"colorbar\": {\"outlinewidth\": 0, \"ticks\": \"\"}}, \"type\": \"scatterpolargl\"}], \"scatterternary\": [{\"marker\": {\"colorbar\": {\"outlinewidth\": 0, \"ticks\": \"\"}}, \"type\": \"scatterternary\"}], \"surface\": [{\"colorbar\": {\"outlinewidth\": 0, \"ticks\": \"\"}, \"colorscale\": [[0.0, \"#0d0887\"], [0.1111111111111111, \"#46039f\"], [0.2222222222222222, \"#7201a8\"], [0.3333333333333333, \"#9c179e\"], [0.4444444444444444, \"#bd3786\"], [0.5555555555555556, \"#d8576b\"], [0.6666666666666666, \"#ed7953\"], [0.7777777777777778, \"#fb9f3a\"], [0.8888888888888888, \"#fdca26\"], [1.0, \"#f0f921\"]], \"type\": \"surface\"}], \"table\": [{\"cells\": {\"fill\": {\"color\": \"#EBF0F8\"}, \"line\": {\"color\": \"white\"}}, \"header\": {\"fill\": {\"color\": \"#C8D4E3\"}, \"line\": {\"color\": \"white\"}}, \"type\": \"table\"}]}, \"layout\": {\"annotationdefaults\": {\"arrowcolor\": \"#2a3f5f\", \"arrowhead\": 0, \"arrowwidth\": 1}, \"coloraxis\": {\"colorbar\": {\"outlinewidth\": 0, \"ticks\": \"\"}}, \"colorscale\": {\"diverging\": [[0, \"#8e0152\"], [0.1, \"#c51b7d\"], [0.2, \"#de77ae\"], [0.3, \"#f1b6da\"], [0.4, \"#fde0ef\"], [0.5, \"#f7f7f7\"], [0.6, \"#e6f5d0\"], [0.7, \"#b8e186\"], [0.8, \"#7fbc41\"], [0.9, \"#4d9221\"], [1, \"#276419\"]], \"sequential\": [[0.0, \"#0d0887\"], [0.1111111111111111, \"#46039f\"], [0.2222222222222222, \"#7201a8\"], [0.3333333333333333, \"#9c179e\"], [0.4444444444444444, \"#bd3786\"], [0.5555555555555556, \"#d8576b\"], [0.6666666666666666, \"#ed7953\"], [0.7777777777777778, \"#fb9f3a\"], [0.8888888888888888, \"#fdca26\"], [1.0, \"#f0f921\"]], \"sequentialminus\": [[0.0, \"#0d0887\"], [0.1111111111111111, \"#46039f\"], [0.2222222222222222, \"#7201a8\"], [0.3333333333333333, \"#9c179e\"], [0.4444444444444444, \"#bd3786\"], [0.5555555555555556, \"#d8576b\"], [0.6666666666666666, \"#ed7953\"], [0.7777777777777778, \"#fb9f3a\"], [0.8888888888888888, \"#fdca26\"], [1.0, \"#f0f921\"]]}, \"colorway\": [\"#636efa\", \"#EF553B\", \"#00cc96\", \"#ab63fa\", \"#FFA15A\", \"#19d3f3\", \"#FF6692\", \"#B6E880\", \"#FF97FF\", \"#FECB52\"], \"font\": {\"color\": \"#2a3f5f\"}, \"geo\": {\"bgcolor\": \"white\", \"lakecolor\": \"white\", \"landcolor\": \"#E5ECF6\", \"showlakes\": true, \"showland\": true, \"subunitcolor\": \"white\"}, \"hoverlabel\": {\"align\": \"left\"}, \"hovermode\": \"closest\", \"mapbox\": {\"style\": \"light\"}, \"paper_bgcolor\": \"white\", \"plot_bgcolor\": \"#E5ECF6\", \"polar\": {\"angularaxis\": {\"gridcolor\": \"white\", \"linecolor\": \"white\", \"ticks\": \"\"}, \"bgcolor\": \"#E5ECF6\", \"radialaxis\": {\"gridcolor\": \"white\", \"linecolor\": \"white\", \"ticks\": \"\"}}, \"scene\": {\"xaxis\": {\"backgroundcolor\": \"#E5ECF6\", \"gridcolor\": \"white\", \"gridwidth\": 2, \"linecolor\": \"white\", \"showbackground\": true, \"ticks\": \"\", \"zerolinecolor\": \"white\"}, \"yaxis\": {\"backgroundcolor\": \"#E5ECF6\", \"gridcolor\": \"white\", \"gridwidth\": 2, \"linecolor\": \"white\", \"showbackground\": true, \"ticks\": \"\", \"zerolinecolor\": \"white\"}, \"zaxis\": {\"backgroundcolor\": \"#E5ECF6\", \"gridcolor\": \"white\", \"gridwidth\": 2, \"linecolor\": \"white\", \"showbackground\": true, \"ticks\": \"\", \"zerolinecolor\": \"white\"}}, \"shapedefaults\": {\"line\": {\"color\": \"#2a3f5f\"}}, \"ternary\": {\"aaxis\": {\"gridcolor\": \"white\", \"linecolor\": \"white\", \"ticks\": \"\"}, \"baxis\": {\"gridcolor\": \"white\", \"linecolor\": \"white\", \"ticks\": \"\"}, \"bgcolor\": \"#E5ECF6\", \"caxis\": {\"gridcolor\": \"white\", \"linecolor\": \"white\", \"ticks\": \"\"}}, \"title\": {\"x\": 0.05}, \"xaxis\": {\"automargin\": true, \"gridcolor\": \"white\", \"linecolor\": \"white\", \"ticks\": \"\", \"title\": {\"standoff\": 15}, \"zerolinecolor\": \"white\", \"zerolinewidth\": 2}, \"yaxis\": {\"automargin\": true, \"gridcolor\": \"white\", \"linecolor\": \"white\", \"ticks\": \"\", \"title\": {\"standoff\": 15}, \"zerolinecolor\": \"white\", \"zerolinewidth\": 2}}}, \"title\": {\"text\": \"Parameter Tunings Mean Absolute Percentage Error: Multivariate Confirmed Cases\", \"x\": 0.5}, \"width\": 1200},\n",
              "                        {\"responsive\": true}\n",
              "                    ).then(function(){\n",
              "                            \n",
              "var gd = document.getElementById('14ea647d-2ae9-406a-a599-97758ffb4e7c');\n",
              "var x = new MutationObserver(function (mutations, observer) {{\n",
              "        var display = window.getComputedStyle(gd).display;\n",
              "        if (!display || display === 'none') {{\n",
              "            console.log([gd, 'removed!']);\n",
              "            Plotly.purge(gd);\n",
              "            observer.disconnect();\n",
              "        }}\n",
              "}});\n",
              "\n",
              "// Listen for the removal of the full notebook cells\n",
              "var notebookContainer = gd.closest('#notebook-container');\n",
              "if (notebookContainer) {{\n",
              "    x.observe(notebookContainer, {childList: true});\n",
              "}}\n",
              "\n",
              "// Listen for the clearing of the current output cell\n",
              "var outputEl = gd.closest('.output');\n",
              "if (outputEl) {{\n",
              "    x.observe(outputEl, {childList: true});\n",
              "}}\n",
              "\n",
              "                        })\n",
              "                };\n",
              "                \n",
              "            </script>\n",
              "        </div>\n",
              "</body>\n",
              "</html>"
            ]
          },
          "metadata": {}
        }
      ]
    },
    {
      "cell_type": "markdown",
      "metadata": {
        "id": "jjt0C2lR5puq"
      },
      "source": [
        "#### Multivariate Confirmed Deaths"
      ]
    },
    {
      "cell_type": "code",
      "metadata": {
        "id": "tEs71xle1nbi",
        "colab": {
          "base_uri": "https://localhost:8080/",
          "height": 717
        },
        "outputId": "96818c0f-2264-4637-eba7-423a321ed092"
      },
      "source": [
        "fig = go.Figure(data=[go.Table(header=dict(values=['Model', 'Kernel size', 'Pool', '2 Nodes','4 Nodes', '8 Nodes', '16 Nodes', '32 Nodes',\n",
        "                                                   \"64 Nodes\", '128 Nodes', '256 Nodes', '512 Nodes' , '1024 Nodes'],\n",
        "                                           line_color = 'gray'),\n",
        "                               cells=dict(values=[['LSTM', 'GRU', 'RNNs', 'CNN',\n",
        "                                                   'CNN', 'CNN', 'CNN', 'CNN', 'CNN'],\n",
        "                                                  ['-', '-', '-', '3', '5', '7', '3', '5', '7'],\n",
        "                                                  ['-', '-', '-', '2', '2', '2', '3', '3', '3'],\n",
        "                                    [round(lstm_d_multi_dr[0],3), \n",
        "                                     round(gru_d_multi_dr[0],3),\n",
        "                                     round(rnn_d_multi_dr[0],3), \n",
        "                                     round(cnn_d_multi_dr.iloc[0,0],3),\n",
        "                                     round(cnn_d_multi_dr.iloc[0,1],3),\n",
        "                                     round(cnn_d_multi_dr.iloc[0,2],3),\n",
        "                                     round(cnn_d_multi_dr.iloc[0,3],3),\n",
        "                                     round(cnn_d_multi_dr.iloc[0,4],3),\n",
        "                                     round(cnn_d_multi_dr.iloc[0,5],3)],\n",
        "                                     [round(lstm_d_multi_dr[1],3), \n",
        "                                     round(gru_d_multi_dr[1],3),\n",
        "                                     round(rnn_d_multi_dr[1],3), \n",
        "                                     round(cnn_d_multi_dr.iloc[1,0],3),\n",
        "                                     round(cnn_d_multi_dr.iloc[1,1],3),\n",
        "                                     round(cnn_d_multi_dr.iloc[1,2],3),\n",
        "                                     round(cnn_d_multi_dr.iloc[1,3],3),\n",
        "                                     round(cnn_d_multi_dr.iloc[1,4],3),\n",
        "                                     round(cnn_d_multi_dr.iloc[1,5],3)],\n",
        "                                     [round(lstm_d_multi_dr[2],3), \n",
        "                                     round(gru_d_multi_dr[2],3),\n",
        "                                     round(rnn_d_multi_dr[2],3), \n",
        "                                     round(cnn_d_multi_dr.iloc[2,0],3),\n",
        "                                     round(cnn_d_multi_dr.iloc[2,1],3),\n",
        "                                     round(cnn_d_multi_dr.iloc[2,2],3),\n",
        "                                     round(cnn_d_multi_dr.iloc[2,3],3),\n",
        "                                     round(cnn_d_multi_dr.iloc[2,4],3),\n",
        "                                     round(cnn_d_multi_dr.iloc[2,5],3)],\n",
        "                                     [round(lstm_d_multi_dr[3],3), \n",
        "                                     round(gru_d_multi_dr[3],3),\n",
        "                                     round(rnn_d_multi_dr[3],3), \n",
        "                                     round(cnn_d_multi_dr.iloc[3,0],3),\n",
        "                                     round(cnn_d_multi_dr.iloc[3,1],3),\n",
        "                                     round(cnn_d_multi_dr.iloc[3,2],3),\n",
        "                                     round(cnn_d_multi_dr.iloc[3,3],3),\n",
        "                                     round(cnn_d_multi_dr.iloc[3,4],3),\n",
        "                                     round(cnn_d_multi_dr.iloc[3,5],3)],\n",
        "                                     [round(lstm_d_multi_dr[4],3), \n",
        "                                     round(gru_d_multi_dr[4],3),\n",
        "                                     round(rnn_d_multi_dr[4],3), \n",
        "                                     round(cnn_d_multi_dr.iloc[4,0],3),\n",
        "                                     round(cnn_d_multi_dr.iloc[4,1],3),\n",
        "                                     round(cnn_d_multi_dr.iloc[4,2],3),\n",
        "                                     round(cnn_d_multi_dr.iloc[4,3],3),\n",
        "                                     round(cnn_d_multi_dr.iloc[4,4],3),\n",
        "                                     round(cnn_d_multi_dr.iloc[4,5],3)],\n",
        "                                     [round(lstm_d_multi_dr[5],3), \n",
        "                                     round(gru_d_multi_dr[5],3),\n",
        "                                     round(rnn_d_multi_dr[5],3), \n",
        "                                     round(cnn_d_multi_dr.iloc[5,0],3),\n",
        "                                     round(cnn_d_multi_dr.iloc[5,1],3),\n",
        "                                     round(cnn_d_multi_dr.iloc[5,2],3),\n",
        "                                     round(cnn_d_multi_dr.iloc[5,3],3),\n",
        "                                     round(cnn_d_multi_dr.iloc[5,4],3),\n",
        "                                     round(cnn_d_multi_dr.iloc[5,5],3)],\n",
        "                                     [round(lstm_d_multi_dr[6],3), \n",
        "                                     round(gru_d_multi_dr[6],3),\n",
        "                                     round(rnn_d_multi_dr[6],3), \n",
        "                                     round(cnn_d_multi_dr.iloc[6,0],3),\n",
        "                                     round(cnn_d_multi_dr.iloc[6,1],3),\n",
        "                                     round(cnn_d_multi_dr.iloc[6,2],3),\n",
        "                                     round(cnn_d_multi_dr.iloc[6,3],3),\n",
        "                                     round(cnn_d_multi_dr.iloc[6,4],3),\n",
        "                                     round(cnn_d_multi_dr.iloc[6,5],3)],\n",
        "                                     [round(lstm_d_multi_dr[7],3), \n",
        "                                     round(gru_d_multi_dr[7],3),\n",
        "                                     round(rnn_d_multi_dr[7],3), \n",
        "                                     round(cnn_d_multi_dr.iloc[7,0],3),\n",
        "                                     round(cnn_d_multi_dr.iloc[7,1],3),\n",
        "                                     round(cnn_d_multi_dr.iloc[7,2],3),\n",
        "                                     round(cnn_d_multi_dr.iloc[7,3],3),\n",
        "                                     round(cnn_d_multi_dr.iloc[7,4],3),\n",
        "                                     round(cnn_d_multi_dr.iloc[7,5],3)],\n",
        "                                     [round(lstm_d_multi_dr[8],3), \n",
        "                                     round(gru_d_multi_dr[8],3),\n",
        "                                     round(rnn_d_multi_dr[8],3), \n",
        "                                     round(cnn_d_multi_dr.iloc[8,0],3),\n",
        "                                     round(cnn_d_multi_dr.iloc[8,1],3),\n",
        "                                     round(cnn_d_multi_dr.iloc[8,2],3),\n",
        "                                     round(cnn_d_multi_dr.iloc[8,3],3),\n",
        "                                     round(cnn_d_multi_dr.iloc[8,4],3),\n",
        "                                     round(cnn_d_multi_dr.iloc[8,5],3)],\n",
        "                                     [round(lstm_d_multi_dr[9],3), \n",
        "                                     round(gru_d_multi_dr[9],3),\n",
        "                                     round(rnn_d_multi_dr[9],3), \n",
        "                                     round(cnn_d_multi_dr.iloc[9,0],3),\n",
        "                                     round(cnn_d_multi_dr.iloc[9,1],3),\n",
        "                                     round(cnn_d_multi_dr.iloc[9,2],3),\n",
        "                                     round(cnn_d_multi_dr.iloc[9,3],3),\n",
        "                                     round(cnn_d_multi_dr.iloc[9,4],3),\n",
        "                                     round(cnn_d_multi_dr.iloc[9,5],3)]],\n",
        "                            align=['left','center', 'center', \n",
        "                                   'right','right','right',\n",
        "                                   'right','right','right',\n",
        "                                   'right','right','right','right'],\n",
        "                            fill_color = 'white',\n",
        "                            line_color = 'gray'))\n",
        "                     ])\n",
        "fig.update_layout(title = \"Parameter Tunings Mean Absolute Percentage Error: Multivariate Confirmed Deaths\",\n",
        "                  title_x=0.5, height = 700, width = 1200)\n",
        "fig.show()"
      ],
      "execution_count": 141,
      "outputs": [
        {
          "output_type": "display_data",
          "data": {
            "text/html": [
              "<html>\n",
              "<head><meta charset=\"utf-8\" /></head>\n",
              "<body>\n",
              "    <div>\n",
              "            <script src=\"https://cdnjs.cloudflare.com/ajax/libs/mathjax/2.7.5/MathJax.js?config=TeX-AMS-MML_SVG\"></script><script type=\"text/javascript\">if (window.MathJax) {MathJax.Hub.Config({SVG: {font: \"STIX-Web\"}});}</script>\n",
              "                <script type=\"text/javascript\">window.PlotlyConfig = {MathJaxConfig: 'local'};</script>\n",
              "        <script src=\"https://cdn.plot.ly/plotly-latest.min.js\"></script>    \n",
              "            <div id=\"fc6b2e00-9896-4e60-9c62-393a75bc677a\" class=\"plotly-graph-div\" style=\"height:700px; width:1200px;\"></div>\n",
              "            <script type=\"text/javascript\">\n",
              "                \n",
              "                    window.PLOTLYENV=window.PLOTLYENV || {};\n",
              "                    \n",
              "                if (document.getElementById(\"fc6b2e00-9896-4e60-9c62-393a75bc677a\")) {\n",
              "                    Plotly.newPlot(\n",
              "                        'fc6b2e00-9896-4e60-9c62-393a75bc677a',\n",
              "                        [{\"cells\": {\"align\": [\"left\", \"center\", \"center\", \"right\", \"right\", \"right\", \"right\", \"right\", \"right\", \"right\", \"right\", \"right\", \"right\"], \"fill\": {\"color\": \"white\"}, \"line\": {\"color\": \"gray\"}, \"values\": [[\"LSTM\", \"GRU\", \"RNNs\", \"CNN\", \"CNN\", \"CNN\", \"CNN\", \"CNN\", \"CNN\"], [\"-\", \"-\", \"-\", \"3\", \"5\", \"7\", \"3\", \"5\", \"7\"], [\"-\", \"-\", \"-\", \"2\", \"2\", \"2\", \"3\", \"3\", \"3\"], [12.054, 11.945, 13.197, 11.633, 9.935, 10.325, 10.716, 11.419, 11.167], [15.095, 9.631, 11.732, 11.016, 9.676, 9.569, 12.299, 9.872, 10.064], [7.862, 9.726, 9.465, 8.797, 7.101, 7.718, 9.616, 9.666, 9.668], [8.808, 6.24, 9.009, 8.617, 7.8, 8.73, 8.322, 8.945, 8.798], [5.72, 6.817, 4.181, 7.112, 6.75, 7.218, 8.386, 8.445, 8.95], [13.697, 6.669, 5.97, 6.176, 7.848, 7.421, 6.508, 8.03, 7.291], [13.71, 7.451, 8.822, 5.64, 6.749, 7.02, 6.404, 7.398, 7.768], [9.766, 8.511, 7.847, 5.278, 6.133, 7.334, 5.197, 7.024, 7.858], [22.37, 4.866, 9.123, 4.558, 6.295, 7.515, 4.476, 7.387, 7.895], [9.737, 4.122, 6.469, 4.288, 5.65, 8.458, 3.834, 7.746, 8.466]]}, \"header\": {\"line\": {\"color\": \"gray\"}, \"values\": [\"Model\", \"Kernel size\", \"Pool\", \"2 Nodes\", \"4 Nodes\", \"8 Nodes\", \"16 Nodes\", \"32 Nodes\", \"64 Nodes\", \"128 Nodes\", \"256 Nodes\", \"512 Nodes\", \"1024 Nodes\"]}, \"type\": \"table\"}],\n",
              "                        {\"height\": 700, \"template\": {\"data\": {\"bar\": [{\"error_x\": {\"color\": \"#2a3f5f\"}, \"error_y\": {\"color\": \"#2a3f5f\"}, \"marker\": {\"line\": {\"color\": \"#E5ECF6\", \"width\": 0.5}}, \"type\": \"bar\"}], \"barpolar\": [{\"marker\": {\"line\": {\"color\": \"#E5ECF6\", \"width\": 0.5}}, \"type\": \"barpolar\"}], \"carpet\": [{\"aaxis\": {\"endlinecolor\": \"#2a3f5f\", \"gridcolor\": \"white\", \"linecolor\": \"white\", \"minorgridcolor\": \"white\", \"startlinecolor\": \"#2a3f5f\"}, \"baxis\": {\"endlinecolor\": \"#2a3f5f\", \"gridcolor\": \"white\", \"linecolor\": \"white\", \"minorgridcolor\": \"white\", \"startlinecolor\": \"#2a3f5f\"}, \"type\": \"carpet\"}], \"choropleth\": [{\"colorbar\": {\"outlinewidth\": 0, \"ticks\": \"\"}, \"type\": \"choropleth\"}], \"contour\": [{\"colorbar\": {\"outlinewidth\": 0, \"ticks\": \"\"}, \"colorscale\": [[0.0, \"#0d0887\"], [0.1111111111111111, \"#46039f\"], [0.2222222222222222, \"#7201a8\"], [0.3333333333333333, \"#9c179e\"], [0.4444444444444444, \"#bd3786\"], [0.5555555555555556, \"#d8576b\"], [0.6666666666666666, \"#ed7953\"], [0.7777777777777778, \"#fb9f3a\"], [0.8888888888888888, \"#fdca26\"], [1.0, \"#f0f921\"]], \"type\": \"contour\"}], \"contourcarpet\": [{\"colorbar\": {\"outlinewidth\": 0, \"ticks\": \"\"}, \"type\": \"contourcarpet\"}], \"heatmap\": [{\"colorbar\": {\"outlinewidth\": 0, \"ticks\": \"\"}, \"colorscale\": [[0.0, \"#0d0887\"], [0.1111111111111111, \"#46039f\"], [0.2222222222222222, \"#7201a8\"], [0.3333333333333333, \"#9c179e\"], [0.4444444444444444, \"#bd3786\"], [0.5555555555555556, \"#d8576b\"], [0.6666666666666666, \"#ed7953\"], [0.7777777777777778, \"#fb9f3a\"], [0.8888888888888888, \"#fdca26\"], [1.0, \"#f0f921\"]], \"type\": \"heatmap\"}], \"heatmapgl\": [{\"colorbar\": {\"outlinewidth\": 0, \"ticks\": \"\"}, \"colorscale\": [[0.0, \"#0d0887\"], [0.1111111111111111, \"#46039f\"], [0.2222222222222222, \"#7201a8\"], [0.3333333333333333, \"#9c179e\"], [0.4444444444444444, \"#bd3786\"], [0.5555555555555556, \"#d8576b\"], [0.6666666666666666, \"#ed7953\"], [0.7777777777777778, \"#fb9f3a\"], [0.8888888888888888, \"#fdca26\"], [1.0, \"#f0f921\"]], \"type\": \"heatmapgl\"}], \"histogram\": [{\"marker\": {\"colorbar\": {\"outlinewidth\": 0, \"ticks\": \"\"}}, \"type\": \"histogram\"}], \"histogram2d\": [{\"colorbar\": {\"outlinewidth\": 0, \"ticks\": \"\"}, \"colorscale\": [[0.0, \"#0d0887\"], [0.1111111111111111, \"#46039f\"], [0.2222222222222222, \"#7201a8\"], [0.3333333333333333, \"#9c179e\"], [0.4444444444444444, \"#bd3786\"], [0.5555555555555556, \"#d8576b\"], [0.6666666666666666, \"#ed7953\"], [0.7777777777777778, \"#fb9f3a\"], [0.8888888888888888, \"#fdca26\"], [1.0, \"#f0f921\"]], \"type\": \"histogram2d\"}], \"histogram2dcontour\": [{\"colorbar\": {\"outlinewidth\": 0, \"ticks\": \"\"}, \"colorscale\": [[0.0, \"#0d0887\"], [0.1111111111111111, \"#46039f\"], [0.2222222222222222, \"#7201a8\"], [0.3333333333333333, \"#9c179e\"], [0.4444444444444444, \"#bd3786\"], [0.5555555555555556, \"#d8576b\"], [0.6666666666666666, \"#ed7953\"], [0.7777777777777778, \"#fb9f3a\"], [0.8888888888888888, \"#fdca26\"], [1.0, \"#f0f921\"]], \"type\": \"histogram2dcontour\"}], \"mesh3d\": [{\"colorbar\": {\"outlinewidth\": 0, \"ticks\": \"\"}, \"type\": \"mesh3d\"}], \"parcoords\": [{\"line\": {\"colorbar\": {\"outlinewidth\": 0, \"ticks\": \"\"}}, \"type\": \"parcoords\"}], \"pie\": [{\"automargin\": true, \"type\": \"pie\"}], \"scatter\": [{\"marker\": {\"colorbar\": {\"outlinewidth\": 0, \"ticks\": \"\"}}, \"type\": \"scatter\"}], \"scatter3d\": [{\"line\": {\"colorbar\": {\"outlinewidth\": 0, \"ticks\": \"\"}}, \"marker\": {\"colorbar\": {\"outlinewidth\": 0, \"ticks\": \"\"}}, \"type\": \"scatter3d\"}], \"scattercarpet\": [{\"marker\": {\"colorbar\": {\"outlinewidth\": 0, \"ticks\": \"\"}}, \"type\": \"scattercarpet\"}], \"scattergeo\": [{\"marker\": {\"colorbar\": {\"outlinewidth\": 0, \"ticks\": \"\"}}, \"type\": \"scattergeo\"}], \"scattergl\": [{\"marker\": {\"colorbar\": {\"outlinewidth\": 0, \"ticks\": \"\"}}, \"type\": \"scattergl\"}], \"scattermapbox\": [{\"marker\": {\"colorbar\": {\"outlinewidth\": 0, \"ticks\": \"\"}}, \"type\": \"scattermapbox\"}], \"scatterpolar\": [{\"marker\": {\"colorbar\": {\"outlinewidth\": 0, \"ticks\": \"\"}}, \"type\": \"scatterpolar\"}], \"scatterpolargl\": [{\"marker\": {\"colorbar\": {\"outlinewidth\": 0, \"ticks\": \"\"}}, \"type\": \"scatterpolargl\"}], \"scatterternary\": [{\"marker\": {\"colorbar\": {\"outlinewidth\": 0, \"ticks\": \"\"}}, \"type\": \"scatterternary\"}], \"surface\": [{\"colorbar\": {\"outlinewidth\": 0, \"ticks\": \"\"}, \"colorscale\": [[0.0, \"#0d0887\"], [0.1111111111111111, \"#46039f\"], [0.2222222222222222, \"#7201a8\"], [0.3333333333333333, \"#9c179e\"], [0.4444444444444444, \"#bd3786\"], [0.5555555555555556, \"#d8576b\"], [0.6666666666666666, \"#ed7953\"], [0.7777777777777778, \"#fb9f3a\"], [0.8888888888888888, \"#fdca26\"], [1.0, \"#f0f921\"]], \"type\": \"surface\"}], \"table\": [{\"cells\": {\"fill\": {\"color\": \"#EBF0F8\"}, \"line\": {\"color\": \"white\"}}, \"header\": {\"fill\": {\"color\": \"#C8D4E3\"}, \"line\": {\"color\": \"white\"}}, \"type\": \"table\"}]}, \"layout\": {\"annotationdefaults\": {\"arrowcolor\": \"#2a3f5f\", \"arrowhead\": 0, \"arrowwidth\": 1}, \"coloraxis\": {\"colorbar\": {\"outlinewidth\": 0, \"ticks\": \"\"}}, \"colorscale\": {\"diverging\": [[0, \"#8e0152\"], [0.1, \"#c51b7d\"], [0.2, \"#de77ae\"], [0.3, \"#f1b6da\"], [0.4, \"#fde0ef\"], [0.5, \"#f7f7f7\"], [0.6, \"#e6f5d0\"], [0.7, \"#b8e186\"], [0.8, \"#7fbc41\"], [0.9, \"#4d9221\"], [1, \"#276419\"]], \"sequential\": [[0.0, \"#0d0887\"], [0.1111111111111111, \"#46039f\"], [0.2222222222222222, \"#7201a8\"], [0.3333333333333333, \"#9c179e\"], [0.4444444444444444, \"#bd3786\"], [0.5555555555555556, \"#d8576b\"], [0.6666666666666666, \"#ed7953\"], [0.7777777777777778, \"#fb9f3a\"], [0.8888888888888888, \"#fdca26\"], [1.0, \"#f0f921\"]], \"sequentialminus\": [[0.0, \"#0d0887\"], [0.1111111111111111, \"#46039f\"], [0.2222222222222222, \"#7201a8\"], [0.3333333333333333, \"#9c179e\"], [0.4444444444444444, \"#bd3786\"], [0.5555555555555556, \"#d8576b\"], [0.6666666666666666, \"#ed7953\"], [0.7777777777777778, \"#fb9f3a\"], [0.8888888888888888, \"#fdca26\"], [1.0, \"#f0f921\"]]}, \"colorway\": [\"#636efa\", \"#EF553B\", \"#00cc96\", \"#ab63fa\", \"#FFA15A\", \"#19d3f3\", \"#FF6692\", \"#B6E880\", \"#FF97FF\", \"#FECB52\"], \"font\": {\"color\": \"#2a3f5f\"}, \"geo\": {\"bgcolor\": \"white\", \"lakecolor\": \"white\", \"landcolor\": \"#E5ECF6\", \"showlakes\": true, \"showland\": true, \"subunitcolor\": \"white\"}, \"hoverlabel\": {\"align\": \"left\"}, \"hovermode\": \"closest\", \"mapbox\": {\"style\": \"light\"}, \"paper_bgcolor\": \"white\", \"plot_bgcolor\": \"#E5ECF6\", \"polar\": {\"angularaxis\": {\"gridcolor\": \"white\", \"linecolor\": \"white\", \"ticks\": \"\"}, \"bgcolor\": \"#E5ECF6\", \"radialaxis\": {\"gridcolor\": \"white\", \"linecolor\": \"white\", \"ticks\": \"\"}}, \"scene\": {\"xaxis\": {\"backgroundcolor\": \"#E5ECF6\", \"gridcolor\": \"white\", \"gridwidth\": 2, \"linecolor\": \"white\", \"showbackground\": true, \"ticks\": \"\", \"zerolinecolor\": \"white\"}, \"yaxis\": {\"backgroundcolor\": \"#E5ECF6\", \"gridcolor\": \"white\", \"gridwidth\": 2, \"linecolor\": \"white\", \"showbackground\": true, \"ticks\": \"\", \"zerolinecolor\": \"white\"}, \"zaxis\": {\"backgroundcolor\": \"#E5ECF6\", \"gridcolor\": \"white\", \"gridwidth\": 2, \"linecolor\": \"white\", \"showbackground\": true, \"ticks\": \"\", \"zerolinecolor\": \"white\"}}, \"shapedefaults\": {\"line\": {\"color\": \"#2a3f5f\"}}, \"ternary\": {\"aaxis\": {\"gridcolor\": \"white\", \"linecolor\": \"white\", \"ticks\": \"\"}, \"baxis\": {\"gridcolor\": \"white\", \"linecolor\": \"white\", \"ticks\": \"\"}, \"bgcolor\": \"#E5ECF6\", \"caxis\": {\"gridcolor\": \"white\", \"linecolor\": \"white\", \"ticks\": \"\"}}, \"title\": {\"x\": 0.05}, \"xaxis\": {\"automargin\": true, \"gridcolor\": \"white\", \"linecolor\": \"white\", \"ticks\": \"\", \"title\": {\"standoff\": 15}, \"zerolinecolor\": \"white\", \"zerolinewidth\": 2}, \"yaxis\": {\"automargin\": true, \"gridcolor\": \"white\", \"linecolor\": \"white\", \"ticks\": \"\", \"title\": {\"standoff\": 15}, \"zerolinecolor\": \"white\", \"zerolinewidth\": 2}}}, \"title\": {\"text\": \"Parameter Tunings Mean Absolute Percentage Error: Multivariate Confirmed Deaths\", \"x\": 0.5}, \"width\": 1200},\n",
              "                        {\"responsive\": true}\n",
              "                    ).then(function(){\n",
              "                            \n",
              "var gd = document.getElementById('fc6b2e00-9896-4e60-9c62-393a75bc677a');\n",
              "var x = new MutationObserver(function (mutations, observer) {{\n",
              "        var display = window.getComputedStyle(gd).display;\n",
              "        if (!display || display === 'none') {{\n",
              "            console.log([gd, 'removed!']);\n",
              "            Plotly.purge(gd);\n",
              "            observer.disconnect();\n",
              "        }}\n",
              "}});\n",
              "\n",
              "// Listen for the removal of the full notebook cells\n",
              "var notebookContainer = gd.closest('#notebook-container');\n",
              "if (notebookContainer) {{\n",
              "    x.observe(notebookContainer, {childList: true});\n",
              "}}\n",
              "\n",
              "// Listen for the clearing of the current output cell\n",
              "var outputEl = gd.closest('.output');\n",
              "if (outputEl) {{\n",
              "    x.observe(outputEl, {childList: true});\n",
              "}}\n",
              "\n",
              "                        })\n",
              "                };\n",
              "                \n",
              "            </script>\n",
              "        </div>\n",
              "</body>\n",
              "</html>"
            ]
          },
          "metadata": {}
        }
      ]
    },
    {
      "cell_type": "markdown",
      "metadata": {
        "id": "vc5YHb2g7fIF"
      },
      "source": [
        "## Training and Validation: Driving\n",
        "\n",
        "---\n",
        "\n",
        "After models were selected, using the training data set, we adjusted and trained the models to get the prediction with the lowest MAPE. We, then, used test samples for model validations and combined predicted values from both training and test sets together. This was only for illustration purpose.\n"
      ]
    },
    {
      "cell_type": "markdown",
      "metadata": {
        "id": "7X0mIDbGFxE0"
      },
      "source": [
        "### Multivariate Confirmed Cases"
      ]
    },
    {
      "cell_type": "code",
      "metadata": {
        "id": "LQbv37lbF0FY",
        "colab": {
          "base_uri": "https://localhost:8080/"
        },
        "outputId": "7318203e-25ae-4ff1-d2bc-4155de3f8a2a"
      },
      "source": [
        "seed(1)\n",
        "tensorflow.random.set_seed(1)\n",
        "\n",
        "# model_multi_dr_i = Sequential()\n",
        "# model_multi_dr_i.add(Conv1D(filters = 1024, kernel_size = 5, activation='relu', input_shape=(X_i_tr.shape[1], X_i_tr.shape[2])))\n",
        "# # model_multi_dr_i.add(MaxPooling1D(pool_size = 2))\n",
        "# model_multi_dr_i.add(Flatten())\n",
        "# # model_multi_dr_i.add(Dense(64, activation = \"relu\"))\n",
        "# model_multi_dr_i.add(Dense(1, activation = \"linear\"))\n",
        "# model_multi_dr_i.compile(loss='mse', optimizer='adam', metrics = \"MAPE\")\n",
        "\n",
        "model_multi_dr_i = Sequential()\n",
        "model_multi_dr_i.add(SimpleRNN(512, activation='relu', input_shape=(X_i_tr_dr.shape[1], X_i_tr_dr.shape[2])))\n",
        "# model_multi_dr_i.add(Dense(2, activation = \"relu\"))\n",
        "model_multi_dr_i.add(Dense(1, activation = \"linear\"))\n",
        "model_multi_dr_i.compile(loss='mse', optimizer='adam', metrics = \"MAPE\")\n",
        "\n",
        "# fit network\n",
        "model_multi_dr_i.fit(X_i_tr_dr, y_i_tr, \n",
        "                           epochs=50, \n",
        "                           batch_size=1, \n",
        "                           verbose=0, \n",
        "                           shuffle=False)\n",
        "\n",
        "\n",
        "scores_multi_dr_i1 = model_multi_dr_i.evaluate(X_i_tr_dr, y_i_tr, verbose=0)\n",
        "\n",
        "# MAPE\n",
        "print(\"MAPE: training = \",scores_multi_dr_i1[1])\n",
        "\n",
        "scores_multi_dr_i = model_multi_dr_i.evaluate(X_i_ts_dr, y_i_ts, verbose=0)\n",
        "\n",
        "# MAPE\n",
        "print(\"MAPE: test = \",scores_multi_dr_i[1])"
      ],
      "execution_count": 140,
      "outputs": [
        {
          "output_type": "stream",
          "name": "stdout",
          "text": [
            "MAPE: training =  2.84519624710083\n",
            "MAPE: test =  9.011537551879883\n"
          ]
        }
      ]
    },
    {
      "cell_type": "code",
      "metadata": {
        "id": "PGGnOECzF0MN"
      },
      "source": [
        "# make a prediction\n",
        "# training set\n",
        "y_multi_dr_i_tr = pd.DataFrame(model_multi_dr_i.predict(X_i_tr_dr))\n",
        "\n",
        "# test set\n",
        "y_multi_dr_i_ts = pd.DataFrame(model_multi_dr_i.predict(X_i_ts_dr))\n",
        "\n",
        "# combine training and test predictions\n",
        "y_multi_dr_i_total = pd.concat([y_multi_dr_i_tr, y_multi_dr_i_ts], ignore_index=True)\n"
      ],
      "execution_count": null,
      "outputs": []
    },
    {
      "cell_type": "markdown",
      "metadata": {
        "id": "LX_viW2LFOgn"
      },
      "source": [
        "### Multivariate Confirmed Deaths"
      ]
    },
    {
      "cell_type": "code",
      "metadata": {
        "id": "ETqGykawFR0f",
        "colab": {
          "base_uri": "https://localhost:8080/"
        },
        "outputId": "b4cf9377-606f-475b-fb7d-91a40956def7"
      },
      "source": [
        "seed(1)\n",
        "tensorflow.random.set_seed(1)\n",
        "\n",
        "# model_multi_dr_d = Sequential()\n",
        "# model_multi_dr_d.add(GRU(32, activation = 'relu', input_shape=(X_d_tr_dr.shape[1], X_d_tr_dr.shape[2])))\n",
        "# # model_multi_dr_d.add(Dense(4, activation = \"relu\"))\n",
        "# model_multi_dr_d.add(Dense(1, activation = \"linear\"))\n",
        "# model_multi_dr_d.compile(loss='mse', optimizer='adam', metrics = \"MAPE\")\n",
        "\n",
        "model_multi_dr_d = Sequential()\n",
        "model_multi_dr_d.add(Conv1D(1024, kernel_size = 3, activation = 'relu', input_shape=(X_d_tr_dr.shape[1], X_d_tr_dr.shape[2])))\n",
        "model_multi_dr_d.add(MaxPooling1D(3))\n",
        "model_multi_dr_d.add(Flatten())\n",
        "# model_multi_dr_d.add(Dense(2, activation = \"relu\"))\n",
        "model_multi_dr_d.add(Dense(1, activation = \"linear\"))\n",
        "model_multi_dr_d.compile(loss='mse', optimizer='adam', metrics = \"MAPE\")\n",
        "\n",
        "# fit network\n",
        "model_multi_dr_d.fit(X_d_tr_dr, y_d_tr, \n",
        "                           epochs=50, \n",
        "                           batch_size=1, \n",
        "                           verbose=0, \n",
        "                           shuffle=False)\n",
        "\n",
        "scores_multi_dr_d1 = model_multi_dr_d.evaluate(X_d_tr_dr, y_d_tr, verbose=0)\n",
        "\n",
        "# MAPE\n",
        "print(\"MAPE: training = \",scores_multi_dr_d1[1])\n",
        "\n",
        "scores_multi_dr_d = model_multi_dr_d.evaluate(X_d_ts_dr, y_d_ts, verbose=0)\n",
        "\n",
        "# MAPE\n",
        "print(\"MAPE: test = \",scores_multi_dr_d[1])"
      ],
      "execution_count": 161,
      "outputs": [
        {
          "output_type": "stream",
          "name": "stdout",
          "text": [
            "MAPE: training =  3.8341445922851562\n",
            "MAPE: test =  61.26941680908203\n"
          ]
        }
      ]
    },
    {
      "cell_type": "code",
      "metadata": {
        "id": "NlPeIWWTFR7X"
      },
      "source": [
        "# make a prediction\n",
        "# training set\n",
        "y_multi_dr_d_tr = pd.DataFrame(model_multi_dr_d.predict(X_d_tr_dr))\n",
        "\n",
        "# test set\n",
        "y_multi_dr_d_ts = pd.DataFrame(model_multi_dr_d.predict(X_d_ts_dr))\n",
        "\n",
        "# combine training and test predictions\n",
        "y_multi_dr_d_total = pd.concat([y_multi_dr_d_tr, y_multi_dr_d_ts], ignore_index=True)\n"
      ],
      "execution_count": 162,
      "outputs": []
    },
    {
      "cell_type": "code",
      "metadata": {
        "id": "AUJOWqqPSZjB"
      },
      "source": [
        "\n",
        "multi_in = \"RNNs\"\n",
        "multi_de = \"CNN\"\n",
        "tick_spacing = 5\n",
        "date_test = data['Date'][0+index+lag-1]"
      ],
      "execution_count": 163,
      "outputs": []
    },
    {
      "cell_type": "markdown",
      "metadata": {
        "id": "hyai-GAA1pto"
      },
      "source": [
        "### Plots"
      ]
    },
    {
      "cell_type": "code",
      "metadata": {
        "colab": {
          "base_uri": "https://localhost:8080/",
          "height": 333
        },
        "id": "ek5gwdXqfgyp",
        "outputId": "d7ecefc1-ea1a-4b30-f3a8-ed80bf1eb65e"
      },
      "source": [
        "infect = pd.concat([y_multi_dr_i_total,\n",
        "                   data.Cases_daily.iloc[lag:].reset_index(drop = True), \n",
        "                   data.Date.iloc[lag:].reset_index(drop = True)],\n",
        "                   axis=1)\n",
        "infect.columns = ['multi_i', 'actual', 'Date']\n",
        "\n",
        "infect.dropna(subset = ['multi_i', 'actual', 'Date'], inplace=True)\n",
        "\n",
        "\n",
        "plt.plot(infect['Date'],infect['multi_i'], label = \"Predicted\")\n",
        "plt.plot(infect['Date'],infect['actual'], label = \"Actual\")\n",
        "plt.legend(frameon=False, loc='upper center', ncol = 2, fontsize = 'x-large')\n",
        "plt.title(\"Apple Driving Predicts Confirmed Cases\", fontsize = 'xx-large')\n",
        "plt.tick_params('x',labelrotation=90)\n",
        "plt.axvline(date_test, color=\"gray\", linestyle=\"--\")\n",
        "plt.grid(True, which='both', alpha=0.3)"
      ],
      "execution_count": 148,
      "outputs": [
        {
          "output_type": "display_data",
          "data": {
            "image/png": "[encoded data removed]",
            "text/plain": [
              "<Figure size 432x288 with 1 Axes>"
            ]
          },
          "metadata": {
            "needs_background": "light"
          }
        }
      ]
    },
    {
      "cell_type": "code",
      "metadata": {
        "id": "EyzgkqsZUst1",
        "colab": {
          "base_uri": "https://localhost:8080/",
          "height": 333
        },
        "outputId": "01d7d555-bdae-497c-bcf1-cf5f9fa19a22"
      },
      "source": [
        "death = pd.concat([y_multi_dr_d_total,\n",
        "                   data.Deaths_daily.iloc[lag:].reset_index(drop = True), \n",
        "                   data.Date.iloc[lag:].reset_index(drop = True)],\n",
        "                  axis=1)\n",
        "death.columns = ['multi_d', 'actual', 'Date']\n",
        "\n",
        "death.dropna(subset = ['multi_d', 'actual', 'Date'], inplace=True)\n",
        "\n",
        "\n",
        "plt.plot(death['Date'],death['multi_d'], label = \"Predicted\")\n",
        "plt.plot(death['Date'],death['actual'], label = \"Actual\")\n",
        "plt.legend(frameon=False, loc='upper center', ncol = 2, fontsize = 'x-large')\n",
        "plt.title(\"Apple Driving Predicts Confirmed Deaths\", fontsize = 'xx-large')\n",
        "plt.tick_params('x',labelrotation=90)\n",
        "plt.axvline(date_test, color=\"gray\", linestyle=\"--\")\n",
        "plt.grid(True, which='both', alpha=0.3)\n"
      ],
      "execution_count": 164,
      "outputs": [
        {
          "output_type": "display_data",
          "data": {
            "image/png": "[encoded data removed]",
            "text/plain": [
              "<Figure size 432x288 with 1 Axes>"
            ]
          },
          "metadata": {
            "needs_background": "light"
          }
        }
      ]
    },
    {
      "cell_type": "markdown",
      "metadata": {
        "id": "mYcJN621o8A2"
      },
      "source": [
        "### Result Table"
      ]
    },
    {
      "cell_type": "code",
      "metadata": {
        "id": "fHC8w-KqZG7-",
        "colab": {
          "base_uri": "https://localhost:8080/",
          "height": 542
        },
        "outputId": "e68cb399-0449-4cd4-f487-a37fea10d188"
      },
      "source": [
        "fig = go.Figure(data=[go.Table(header=dict(values=['Model Type', 'Best Model', 'Training', 'Test'],\n",
        "                                           line_color = 'gray'),\n",
        "                               cells=dict(values=[['Multivariate: Confirmed Cases',\n",
        "                                                   'Multivariate: Confirmed Deaths'],\n",
        "                                                  [multi_in, multi_de],\n",
        "                                    [round(scores_multi_dr_i1[1],3), round(scores_multi_dr_d1[1],3)],\n",
        "                                    [round(scores_multi_dr_i[1],3), round(scores_multi_dr_d[1],3)]],\n",
        "                            align=['left','center', 'center', 'center'],\n",
        "                            fill_color = 'white',\n",
        "                            line_color = 'gray'))\n",
        "                     ])\n",
        "fig.update_layout(title = \"Mean Absolute Percentage Error\",title_x=0.5)\n",
        "fig.show()"
      ],
      "execution_count": 165,
      "outputs": [
        {
          "output_type": "display_data",
          "data": {
            "text/html": [
              "<html>\n",
              "<head><meta charset=\"utf-8\" /></head>\n",
              "<body>\n",
              "    <div>\n",
              "            <script src=\"https://cdnjs.cloudflare.com/ajax/libs/mathjax/2.7.5/MathJax.js?config=TeX-AMS-MML_SVG\"></script><script type=\"text/javascript\">if (window.MathJax) {MathJax.Hub.Config({SVG: {font: \"STIX-Web\"}});}</script>\n",
              "                <script type=\"text/javascript\">window.PlotlyConfig = {MathJaxConfig: 'local'};</script>\n",
              "        <script src=\"https://cdn.plot.ly/plotly-latest.min.js\"></script>    \n",
              "            <div id=\"e3579446-367f-467f-a389-38967485005f\" class=\"plotly-graph-div\" style=\"height:525px; width:100%;\"></div>\n",
              "            <script type=\"text/javascript\">\n",
              "                \n",
              "                    window.PLOTLYENV=window.PLOTLYENV || {};\n",
              "                    \n",
              "                if (document.getElementById(\"e3579446-367f-467f-a389-38967485005f\")) {\n",
              "                    Plotly.newPlot(\n",
              "                        'e3579446-367f-467f-a389-38967485005f',\n",
              "                        [{\"cells\": {\"align\": [\"left\", \"center\", \"center\", \"center\"], \"fill\": {\"color\": \"white\"}, \"line\": {\"color\": \"gray\"}, \"values\": [[\"Multivariate: Confirmed Cases\", \"Multivariate: Confirmed Deaths\"], [\"RNNs\", \"CNN\"], [2.845, 3.834], [9.012, 61.269]]}, \"header\": {\"line\": {\"color\": \"gray\"}, \"values\": [\"Model Type\", \"Best Model\", \"Training\", \"Test\"]}, \"type\": \"table\"}],\n",
              "                        {\"template\": {\"data\": {\"bar\": [{\"error_x\": {\"color\": \"#2a3f5f\"}, \"error_y\": {\"color\": \"#2a3f5f\"}, \"marker\": {\"line\": {\"color\": \"#E5ECF6\", \"width\": 0.5}}, \"type\": \"bar\"}], \"barpolar\": [{\"marker\": {\"line\": {\"color\": \"#E5ECF6\", \"width\": 0.5}}, \"type\": \"barpolar\"}], \"carpet\": [{\"aaxis\": {\"endlinecolor\": \"#2a3f5f\", \"gridcolor\": \"white\", \"linecolor\": \"white\", \"minorgridcolor\": \"white\", \"startlinecolor\": \"#2a3f5f\"}, \"baxis\": {\"endlinecolor\": \"#2a3f5f\", \"gridcolor\": \"white\", \"linecolor\": \"white\", \"minorgridcolor\": \"white\", \"startlinecolor\": \"#2a3f5f\"}, \"type\": \"carpet\"}], \"choropleth\": [{\"colorbar\": {\"outlinewidth\": 0, \"ticks\": \"\"}, \"type\": \"choropleth\"}], \"contour\": [{\"colorbar\": {\"outlinewidth\": 0, \"ticks\": \"\"}, \"colorscale\": [[0.0, \"#0d0887\"], [0.1111111111111111, \"#46039f\"], [0.2222222222222222, \"#7201a8\"], [0.3333333333333333, \"#9c179e\"], [0.4444444444444444, \"#bd3786\"], [0.5555555555555556, \"#d8576b\"], [0.6666666666666666, \"#ed7953\"], [0.7777777777777778, \"#fb9f3a\"], [0.8888888888888888, \"#fdca26\"], [1.0, \"#f0f921\"]], \"type\": \"contour\"}], \"contourcarpet\": [{\"colorbar\": {\"outlinewidth\": 0, \"ticks\": \"\"}, \"type\": \"contourcarpet\"}], \"heatmap\": [{\"colorbar\": {\"outlinewidth\": 0, \"ticks\": \"\"}, \"colorscale\": [[0.0, \"#0d0887\"], [0.1111111111111111, \"#46039f\"], [0.2222222222222222, \"#7201a8\"], [0.3333333333333333, \"#9c179e\"], [0.4444444444444444, \"#bd3786\"], [0.5555555555555556, \"#d8576b\"], [0.6666666666666666, \"#ed7953\"], [0.7777777777777778, \"#fb9f3a\"], [0.8888888888888888, \"#fdca26\"], [1.0, \"#f0f921\"]], \"type\": \"heatmap\"}], \"heatmapgl\": [{\"colorbar\": {\"outlinewidth\": 0, \"ticks\": \"\"}, \"colorscale\": [[0.0, \"#0d0887\"], [0.1111111111111111, \"#46039f\"], [0.2222222222222222, \"#7201a8\"], [0.3333333333333333, \"#9c179e\"], [0.4444444444444444, \"#bd3786\"], [0.5555555555555556, \"#d8576b\"], [0.6666666666666666, \"#ed7953\"], [0.7777777777777778, \"#fb9f3a\"], [0.8888888888888888, \"#fdca26\"], [1.0, \"#f0f921\"]], \"type\": \"heatmapgl\"}], \"histogram\": [{\"marker\": {\"colorbar\": {\"outlinewidth\": 0, \"ticks\": \"\"}}, \"type\": \"histogram\"}], \"histogram2d\": [{\"colorbar\": {\"outlinewidth\": 0, \"ticks\": \"\"}, \"colorscale\": [[0.0, \"#0d0887\"], [0.1111111111111111, \"#46039f\"], [0.2222222222222222, \"#7201a8\"], [0.3333333333333333, \"#9c179e\"], [0.4444444444444444, \"#bd3786\"], [0.5555555555555556, \"#d8576b\"], [0.6666666666666666, \"#ed7953\"], [0.7777777777777778, \"#fb9f3a\"], [0.8888888888888888, \"#fdca26\"], [1.0, \"#f0f921\"]], \"type\": \"histogram2d\"}], \"histogram2dcontour\": [{\"colorbar\": {\"outlinewidth\": 0, \"ticks\": \"\"}, \"colorscale\": [[0.0, \"#0d0887\"], [0.1111111111111111, \"#46039f\"], [0.2222222222222222, \"#7201a8\"], [0.3333333333333333, \"#9c179e\"], [0.4444444444444444, \"#bd3786\"], [0.5555555555555556, \"#d8576b\"], [0.6666666666666666, \"#ed7953\"], [0.7777777777777778, \"#fb9f3a\"], [0.8888888888888888, \"#fdca26\"], [1.0, \"#f0f921\"]], \"type\": \"histogram2dcontour\"}], \"mesh3d\": [{\"colorbar\": {\"outlinewidth\": 0, \"ticks\": \"\"}, \"type\": \"mesh3d\"}], \"parcoords\": [{\"line\": {\"colorbar\": {\"outlinewidth\": 0, \"ticks\": \"\"}}, \"type\": \"parcoords\"}], \"pie\": [{\"automargin\": true, \"type\": \"pie\"}], \"scatter\": [{\"marker\": {\"colorbar\": {\"outlinewidth\": 0, \"ticks\": \"\"}}, \"type\": \"scatter\"}], \"scatter3d\": [{\"line\": {\"colorbar\": {\"outlinewidth\": 0, \"ticks\": \"\"}}, \"marker\": {\"colorbar\": {\"outlinewidth\": 0, \"ticks\": \"\"}}, \"type\": \"scatter3d\"}], \"scattercarpet\": [{\"marker\": {\"colorbar\": {\"outlinewidth\": 0, \"ticks\": \"\"}}, \"type\": \"scattercarpet\"}], \"scattergeo\": [{\"marker\": {\"colorbar\": {\"outlinewidth\": 0, \"ticks\": \"\"}}, \"type\": \"scattergeo\"}], \"scattergl\": [{\"marker\": {\"colorbar\": {\"outlinewidth\": 0, \"ticks\": \"\"}}, \"type\": \"scattergl\"}], \"scattermapbox\": [{\"marker\": {\"colorbar\": {\"outlinewidth\": 0, \"ticks\": \"\"}}, \"type\": \"scattermapbox\"}], \"scatterpolar\": [{\"marker\": {\"colorbar\": {\"outlinewidth\": 0, \"ticks\": \"\"}}, \"type\": \"scatterpolar\"}], \"scatterpolargl\": [{\"marker\": {\"colorbar\": {\"outlinewidth\": 0, \"ticks\": \"\"}}, \"type\": \"scatterpolargl\"}], \"scatterternary\": [{\"marker\": {\"colorbar\": {\"outlinewidth\": 0, \"ticks\": \"\"}}, \"type\": \"scatterternary\"}], \"surface\": [{\"colorbar\": {\"outlinewidth\": 0, \"ticks\": \"\"}, \"colorscale\": [[0.0, \"#0d0887\"], [0.1111111111111111, \"#46039f\"], [0.2222222222222222, \"#7201a8\"], [0.3333333333333333, \"#9c179e\"], [0.4444444444444444, \"#bd3786\"], [0.5555555555555556, \"#d8576b\"], [0.6666666666666666, \"#ed7953\"], [0.7777777777777778, \"#fb9f3a\"], [0.8888888888888888, \"#fdca26\"], [1.0, \"#f0f921\"]], \"type\": \"surface\"}], \"table\": [{\"cells\": {\"fill\": {\"color\": \"#EBF0F8\"}, \"line\": {\"color\": \"white\"}}, \"header\": {\"fill\": {\"color\": \"#C8D4E3\"}, \"line\": {\"color\": \"white\"}}, \"type\": \"table\"}]}, \"layout\": {\"annotationdefaults\": {\"arrowcolor\": \"#2a3f5f\", \"arrowhead\": 0, \"arrowwidth\": 1}, \"coloraxis\": {\"colorbar\": {\"outlinewidth\": 0, \"ticks\": \"\"}}, \"colorscale\": {\"diverging\": [[0, \"#8e0152\"], [0.1, \"#c51b7d\"], [0.2, \"#de77ae\"], [0.3, \"#f1b6da\"], [0.4, \"#fde0ef\"], [0.5, \"#f7f7f7\"], [0.6, \"#e6f5d0\"], [0.7, \"#b8e186\"], [0.8, \"#7fbc41\"], [0.9, \"#4d9221\"], [1, \"#276419\"]], \"sequential\": [[0.0, \"#0d0887\"], [0.1111111111111111, \"#46039f\"], [0.2222222222222222, \"#7201a8\"], [0.3333333333333333, \"#9c179e\"], [0.4444444444444444, \"#bd3786\"], [0.5555555555555556, \"#d8576b\"], [0.6666666666666666, \"#ed7953\"], [0.7777777777777778, \"#fb9f3a\"], [0.8888888888888888, \"#fdca26\"], [1.0, \"#f0f921\"]], \"sequentialminus\": [[0.0, \"#0d0887\"], [0.1111111111111111, \"#46039f\"], [0.2222222222222222, \"#7201a8\"], [0.3333333333333333, \"#9c179e\"], [0.4444444444444444, \"#bd3786\"], [0.5555555555555556, \"#d8576b\"], [0.6666666666666666, \"#ed7953\"], [0.7777777777777778, \"#fb9f3a\"], [0.8888888888888888, \"#fdca26\"], [1.0, \"#f0f921\"]]}, \"colorway\": [\"#636efa\", \"#EF553B\", \"#00cc96\", \"#ab63fa\", \"#FFA15A\", \"#19d3f3\", \"#FF6692\", \"#B6E880\", \"#FF97FF\", \"#FECB52\"], \"font\": {\"color\": \"#2a3f5f\"}, \"geo\": {\"bgcolor\": \"white\", \"lakecolor\": \"white\", \"landcolor\": \"#E5ECF6\", \"showlakes\": true, \"showland\": true, \"subunitcolor\": \"white\"}, \"hoverlabel\": {\"align\": \"left\"}, \"hovermode\": \"closest\", \"mapbox\": {\"style\": \"light\"}, \"paper_bgcolor\": \"white\", \"plot_bgcolor\": \"#E5ECF6\", \"polar\": {\"angularaxis\": {\"gridcolor\": \"white\", \"linecolor\": \"white\", \"ticks\": \"\"}, \"bgcolor\": \"#E5ECF6\", \"radialaxis\": {\"gridcolor\": \"white\", \"linecolor\": \"white\", \"ticks\": \"\"}}, \"scene\": {\"xaxis\": {\"backgroundcolor\": \"#E5ECF6\", \"gridcolor\": \"white\", \"gridwidth\": 2, \"linecolor\": \"white\", \"showbackground\": true, \"ticks\": \"\", \"zerolinecolor\": \"white\"}, \"yaxis\": {\"backgroundcolor\": \"#E5ECF6\", \"gridcolor\": \"white\", \"gridwidth\": 2, \"linecolor\": \"white\", \"showbackground\": true, \"ticks\": \"\", \"zerolinecolor\": \"white\"}, \"zaxis\": {\"backgroundcolor\": \"#E5ECF6\", \"gridcolor\": \"white\", \"gridwidth\": 2, \"linecolor\": \"white\", \"showbackground\": true, \"ticks\": \"\", \"zerolinecolor\": \"white\"}}, \"shapedefaults\": {\"line\": {\"color\": \"#2a3f5f\"}}, \"ternary\": {\"aaxis\": {\"gridcolor\": \"white\", \"linecolor\": \"white\", \"ticks\": \"\"}, \"baxis\": {\"gridcolor\": \"white\", \"linecolor\": \"white\", \"ticks\": \"\"}, \"bgcolor\": \"#E5ECF6\", \"caxis\": {\"gridcolor\": \"white\", \"linecolor\": \"white\", \"ticks\": \"\"}}, \"title\": {\"x\": 0.05}, \"xaxis\": {\"automargin\": true, \"gridcolor\": \"white\", \"linecolor\": \"white\", \"ticks\": \"\", \"title\": {\"standoff\": 15}, \"zerolinecolor\": \"white\", \"zerolinewidth\": 2}, \"yaxis\": {\"automargin\": true, \"gridcolor\": \"white\", \"linecolor\": \"white\", \"ticks\": \"\", \"title\": {\"standoff\": 15}, \"zerolinecolor\": \"white\", \"zerolinewidth\": 2}}}, \"title\": {\"text\": \"Mean Absolute Percentage Error\", \"x\": 0.5}},\n",
              "                        {\"responsive\": true}\n",
              "                    ).then(function(){\n",
              "                            \n",
              "var gd = document.getElementById('e3579446-367f-467f-a389-38967485005f');\n",
              "var x = new MutationObserver(function (mutations, observer) {{\n",
              "        var display = window.getComputedStyle(gd).display;\n",
              "        if (!display || display === 'none') {{\n",
              "            console.log([gd, 'removed!']);\n",
              "            Plotly.purge(gd);\n",
              "            observer.disconnect();\n",
              "        }}\n",
              "}});\n",
              "\n",
              "// Listen for the removal of the full notebook cells\n",
              "var notebookContainer = gd.closest('#notebook-container');\n",
              "if (notebookContainer) {{\n",
              "    x.observe(notebookContainer, {childList: true});\n",
              "}}\n",
              "\n",
              "// Listen for the clearing of the current output cell\n",
              "var outputEl = gd.closest('.output');\n",
              "if (outputEl) {{\n",
              "    x.observe(outputEl, {childList: true});\n",
              "}}\n",
              "\n",
              "                        })\n",
              "                };\n",
              "                \n",
              "            </script>\n",
              "        </div>\n",
              "</body>\n",
              "</html>"
            ]
          },
          "metadata": {}
        }
      ]
    },
    {
      "cell_type": "markdown",
      "metadata": {
        "id": "v7wyqhGdqmXS"
      },
      "source": [
        "## Analysis: Walking\n",
        "\n",
        "---\n",
        "\n",
        "\n",
        "\n",
        "### Hyperparameters Tuning\n",
        "\n",
        "\n",
        "Using the training set matrices for confirmed cases and confirmed deaths and univiariate and multivariate, we tuned for the most optimal numbers of parameters, staring from basic architectures. In this case, we searched for numbers of nodes for LSTM, GRU, and RNNs, and filter, kernel size, and pool for CNN. In the input layer, we added instance normalization to make all values between 0 and 1. Since we were dealing with some data that we had never seen before and the data seemed to be non-stationary, instance normalization might provide more advantages than typical standardization or normalization. The numbers of nodes that we used for our LSTM, GRU, and RNNs experiments were 4, 8, 16, 32, 64, 128, 256, 512, and 1024. Similarly, we used the same pool for CNN filter with kernel size of 3, 5 and 7, and pool of 2 and 3. The activation function for this hidden layer was sigmoid. Next, we added another instance normalization. Finally, the output layer contained one node and Linear activation function. Epoch and batch size were 50 and 1, respectively. We used mean squared error (MSE) as our loss function, ADAM optimization and mean absolute percentage error (MAPE) as a metric for model evaluation.\n"
      ]
    },
    {
      "cell_type": "markdown",
      "metadata": {
        "id": "kQY_YVKHqmXT"
      },
      "source": [
        "### CNN"
      ]
    },
    {
      "cell_type": "code",
      "metadata": {
        "colab": {
          "base_uri": "https://localhost:8080/"
        },
        "id": "WOWxun45qmXT",
        "outputId": "b0b6019d-03d0-4e50-916c-f77c967b13e8"
      },
      "source": [
        "# Multivariate CNN confirmed cases\n",
        "\n",
        "kernel = [3, 5, 7]\n",
        "pool = [2]\n",
        "cnn_i_multi_wk = list()\n",
        "\n",
        "for i in kernel:\n",
        "  for j in pool: \n",
        "    score = list()\n",
        "    kernel_size, pool = [i],[j]\n",
        "    score = run_experiment(filter, kernel_size, pool,X_i_tr_wk, y_i_tr)\n",
        "    cnn_i_multi_wk.append(score)\n",
        "\n",
        "pool = [3]\n",
        "\n",
        "for i in kernel:\n",
        "  for j in pool: \n",
        "    kernel_size, pool = [i],[j]\n",
        "    score = run_experiment(filter, kernel_size, pool, X_i_tr_wk, y_i_tr)\n",
        "    cnn_i_multi_wk.append(score)\n",
        "\n",
        "cnn_i_multi_wk = pd.DataFrame(cnn_i_multi_wk).T\n",
        "cnn_i_multi_wk.columns = ['k3p2', 'k5p2','k7p2', 'k3p3', 'k5p3', 'k7p3']"
      ],
      "execution_count": 166,
      "outputs": [
        {
          "output_type": "stream",
          "name": "stdout",
          "text": [
            "filter = 2, kernel size = 3, pooling size = 2: 5.259\n",
            "filter = 4, kernel size = 3, pooling size = 2: 4.809\n",
            "filter = 8, kernel size = 3, pooling size = 2: 5.444\n",
            "filter = 16, kernel size = 3, pooling size = 2: 3.970\n",
            "filter = 32, kernel size = 3, pooling size = 2: 4.019\n",
            "filter = 64, kernel size = 3, pooling size = 2: 3.668\n",
            "filter = 128, kernel size = 3, pooling size = 2: 3.863\n",
            "filter = 256, kernel size = 3, pooling size = 2: 4.084\n",
            "filter = 512, kernel size = 3, pooling size = 2: 5.267\n",
            "filter = 1024, kernel size = 3, pooling size = 2: 5.618\n",
            "filter = 2, kernel size = 5, pooling size = 2: 5.265\n",
            "filter = 4, kernel size = 5, pooling size = 2: 4.551\n",
            "filter = 8, kernel size = 5, pooling size = 2: 5.118\n",
            "filter = 16, kernel size = 5, pooling size = 2: 4.979\n",
            "filter = 32, kernel size = 5, pooling size = 2: 3.968\n",
            "filter = 64, kernel size = 5, pooling size = 2: 4.192\n",
            "filter = 128, kernel size = 5, pooling size = 2: 3.774\n",
            "filter = 256, kernel size = 5, pooling size = 2: 3.971\n",
            "filter = 512, kernel size = 5, pooling size = 2: 5.201\n",
            "filter = 1024, kernel size = 5, pooling size = 2: 6.269\n",
            "filter = 2, kernel size = 7, pooling size = 2: 5.241\n",
            "filter = 4, kernel size = 7, pooling size = 2: 5.587\n",
            "filter = 8, kernel size = 7, pooling size = 2: 4.435\n",
            "filter = 16, kernel size = 7, pooling size = 2: 5.344\n",
            "filter = 32, kernel size = 7, pooling size = 2: 3.767\n",
            "filter = 64, kernel size = 7, pooling size = 2: 3.849\n",
            "filter = 128, kernel size = 7, pooling size = 2: 3.817\n",
            "filter = 256, kernel size = 7, pooling size = 2: 4.427\n",
            "filter = 512, kernel size = 7, pooling size = 2: 4.574\n",
            "filter = 1024, kernel size = 7, pooling size = 2: 6.562\n",
            "filter = 2, kernel size = 3, pooling size = 3: 5.325\n",
            "filter = 4, kernel size = 3, pooling size = 3: 6.300\n",
            "filter = 8, kernel size = 3, pooling size = 3: 4.477\n",
            "filter = 16, kernel size = 3, pooling size = 3: 5.002\n",
            "filter = 32, kernel size = 3, pooling size = 3: 4.315\n",
            "filter = 64, kernel size = 3, pooling size = 3: 4.323\n",
            "filter = 128, kernel size = 3, pooling size = 3: 3.953\n",
            "filter = 256, kernel size = 3, pooling size = 3: 3.643\n",
            "filter = 512, kernel size = 3, pooling size = 3: 4.783\n",
            "filter = 1024, kernel size = 3, pooling size = 3: 4.950\n",
            "filter = 2, kernel size = 5, pooling size = 3: 5.631\n",
            "filter = 4, kernel size = 5, pooling size = 3: 4.823\n",
            "filter = 8, kernel size = 5, pooling size = 3: 5.368\n",
            "filter = 16, kernel size = 5, pooling size = 3: 5.928\n",
            "filter = 32, kernel size = 5, pooling size = 3: 4.454\n",
            "filter = 64, kernel size = 5, pooling size = 3: 4.861\n",
            "filter = 128, kernel size = 5, pooling size = 3: 4.413\n",
            "filter = 256, kernel size = 5, pooling size = 3: 4.499\n",
            "filter = 512, kernel size = 5, pooling size = 3: 4.704\n",
            "filter = 1024, kernel size = 5, pooling size = 3: 5.068\n",
            "filter = 2, kernel size = 7, pooling size = 3: 5.591\n",
            "filter = 4, kernel size = 7, pooling size = 3: 99.984\n",
            "filter = 8, kernel size = 7, pooling size = 3: 5.726\n",
            "filter = 16, kernel size = 7, pooling size = 3: 5.931\n",
            "filter = 32, kernel size = 7, pooling size = 3: 5.075\n",
            "filter = 64, kernel size = 7, pooling size = 3: 5.018\n",
            "filter = 128, kernel size = 7, pooling size = 3: 4.618\n",
            "filter = 256, kernel size = 7, pooling size = 3: 4.617\n",
            "filter = 512, kernel size = 7, pooling size = 3: 4.741\n",
            "filter = 1024, kernel size = 7, pooling size = 3: 5.724\n"
          ]
        }
      ]
    },
    {
      "cell_type": "code",
      "metadata": {
        "colab": {
          "base_uri": "https://localhost:8080/"
        },
        "id": "xiIvyvBMqmXT",
        "outputId": "0b811ba6-7a0e-4ea1-e391-4a0d5fc8364f"
      },
      "source": [
        "# Multivariate CNN confirmed deaths\n",
        "\n",
        "pool = [2]\n",
        "cnn_d_multi_wk = list()\n",
        "\n",
        "for i in kernel:\n",
        "  for j in pool:\n",
        "    score = list() \n",
        "    kernel_size, pool = [i],[j]\n",
        "    score = run_experiment(filter, kernel_size, pool, X_d_tr_wk, y_d_tr)\n",
        "    cnn_d_multi_wk.append(score)\n",
        "\n",
        "pool = [3]\n",
        "\n",
        "for i in kernel:\n",
        "  for j in pool: \n",
        "    score = list()\n",
        "    kernel_size, pool = [i],[j]\n",
        "    score = run_experiment(filter, kernel_size, pool, X_d_tr_wk, y_d_tr)\n",
        "    cnn_d_multi_wk.append(score)\n",
        "\n",
        "cnn_d_multi_wk = pd.DataFrame(cnn_d_multi_wk).T\n",
        "cnn_d_multi_wk.columns = ['k3p2', 'k3p3','k5p2', 'k7p2', 'k5p3', 'k7p3']"
      ],
      "execution_count": 167,
      "outputs": [
        {
          "output_type": "stream",
          "name": "stdout",
          "text": [
            "filter = 2, kernel size = 3, pooling size = 2: 11.831\n",
            "filter = 4, kernel size = 3, pooling size = 2: 10.805\n",
            "filter = 8, kernel size = 3, pooling size = 2: 8.917\n",
            "filter = 16, kernel size = 3, pooling size = 2: 8.652\n",
            "filter = 32, kernel size = 3, pooling size = 2: 6.593\n",
            "filter = 64, kernel size = 3, pooling size = 2: 5.897\n",
            "filter = 128, kernel size = 3, pooling size = 2: 6.127\n",
            "filter = 256, kernel size = 3, pooling size = 2: 5.222\n",
            "filter = 512, kernel size = 3, pooling size = 2: 4.339\n",
            "filter = 1024, kernel size = 3, pooling size = 2: 4.539\n",
            "filter = 2, kernel size = 5, pooling size = 2: 9.965\n",
            "filter = 4, kernel size = 5, pooling size = 2: 9.245\n",
            "filter = 8, kernel size = 5, pooling size = 2: 6.725\n",
            "filter = 16, kernel size = 5, pooling size = 2: 8.287\n",
            "filter = 32, kernel size = 5, pooling size = 2: 7.097\n",
            "filter = 64, kernel size = 5, pooling size = 2: 7.762\n",
            "filter = 128, kernel size = 5, pooling size = 2: 6.819\n",
            "filter = 256, kernel size = 5, pooling size = 2: 6.070\n",
            "filter = 512, kernel size = 5, pooling size = 2: 6.828\n",
            "filter = 1024, kernel size = 5, pooling size = 2: 7.688\n",
            "filter = 2, kernel size = 7, pooling size = 2: 10.242\n",
            "filter = 4, kernel size = 7, pooling size = 2: 9.529\n",
            "filter = 8, kernel size = 7, pooling size = 2: 7.492\n",
            "filter = 16, kernel size = 7, pooling size = 2: 8.855\n",
            "filter = 32, kernel size = 7, pooling size = 2: 7.785\n",
            "filter = 64, kernel size = 7, pooling size = 2: 7.554\n",
            "filter = 128, kernel size = 7, pooling size = 2: 6.796\n",
            "filter = 256, kernel size = 7, pooling size = 2: 7.453\n",
            "filter = 512, kernel size = 7, pooling size = 2: 8.814\n",
            "filter = 1024, kernel size = 7, pooling size = 2: 9.033\n",
            "filter = 2, kernel size = 3, pooling size = 3: 10.640\n",
            "filter = 4, kernel size = 3, pooling size = 3: 11.962\n",
            "filter = 8, kernel size = 3, pooling size = 3: 9.045\n",
            "filter = 16, kernel size = 3, pooling size = 3: 8.478\n",
            "filter = 32, kernel size = 3, pooling size = 3: 8.754\n",
            "filter = 64, kernel size = 3, pooling size = 3: 6.680\n",
            "filter = 128, kernel size = 3, pooling size = 3: 6.042\n",
            "filter = 256, kernel size = 3, pooling size = 3: 5.349\n",
            "filter = 512, kernel size = 3, pooling size = 3: 4.896\n",
            "filter = 1024, kernel size = 3, pooling size = 3: 4.730\n",
            "filter = 2, kernel size = 5, pooling size = 3: 11.147\n",
            "filter = 4, kernel size = 5, pooling size = 3: 10.485\n",
            "filter = 8, kernel size = 5, pooling size = 3: 9.579\n",
            "filter = 16, kernel size = 5, pooling size = 3: 9.755\n",
            "filter = 32, kernel size = 5, pooling size = 3: 8.690\n",
            "filter = 64, kernel size = 5, pooling size = 3: 8.617\n",
            "filter = 128, kernel size = 5, pooling size = 3: 7.315\n",
            "filter = 256, kernel size = 5, pooling size = 3: 7.481\n",
            "filter = 512, kernel size = 5, pooling size = 3: 7.996\n",
            "filter = 1024, kernel size = 5, pooling size = 3: 8.066\n",
            "filter = 2, kernel size = 7, pooling size = 3: 11.340\n",
            "filter = 4, kernel size = 7, pooling size = 3: 10.051\n",
            "filter = 8, kernel size = 7, pooling size = 3: 10.127\n",
            "filter = 16, kernel size = 7, pooling size = 3: 8.762\n",
            "filter = 32, kernel size = 7, pooling size = 3: 8.962\n",
            "filter = 64, kernel size = 7, pooling size = 3: 7.141\n",
            "filter = 128, kernel size = 7, pooling size = 3: 7.700\n",
            "filter = 256, kernel size = 7, pooling size = 3: 8.088\n",
            "filter = 512, kernel size = 7, pooling size = 3: 8.211\n",
            "filter = 1024, kernel size = 7, pooling size = 3: 8.817\n"
          ]
        }
      ]
    },
    {
      "cell_type": "markdown",
      "metadata": {
        "id": "gS5gS2kNqmXU"
      },
      "source": [
        "### LSTM"
      ]
    },
    {
      "cell_type": "code",
      "metadata": {
        "id": "NgpwclZ8qmXU"
      },
      "source": [
        "def evaluate_lstm(trainX, trainy, units):\n",
        "    seed(1)\n",
        "    tensorflow.random.set_seed(1)\n",
        "\n",
        "    verbose, epochs, batch_size = 0, 50, 1\n",
        "    n_timesteps, n_features = trainX.shape[1], trainX.shape[2]\n",
        "\n",
        "    model = Sequential()\n",
        "    model.add(LSTM(units = units, activation='relu', input_shape=(n_timesteps,n_features)))\n",
        "    model.add(Dense(1, activation='linear'))\n",
        "    model.compile(loss='mse', optimizer='adam', metrics=['MAPE'])\n",
        "  \n",
        "    # fit network\n",
        "    model.fit(trainX, trainy, epochs=epochs, batch_size=batch_size, verbose=verbose, shuffle = False)\n",
        "    # evaluate model\n",
        "    _, accuracy = model.evaluate(trainX, trainy, batch_size=batch_size, verbose=0)\n",
        "    return accuracy\n",
        "\n",
        "units = [2, 4,8,16,32,64,128,256,512, 1024]\n",
        "\n",
        "# Multivariate LSTM confirmed cases\n",
        "\n",
        "lstm_i_multi_wk = list()\n",
        "\n",
        "for i in units:\n",
        "  score = list()\n",
        "  score = evaluate_lstm(X_i_tr_wk, y_i_tr, i)\n",
        "  lstm_i_multi_wk.append(score)\n",
        "\n",
        "\n",
        "\n",
        "# Multivariate LSTM confirmed deaths\n",
        "\n",
        "lstm_d_multi_wk = list()\n",
        "\n",
        "for i in units:\n",
        "  score = list()\n",
        "  score = evaluate_lstm(X_d_tr_wk, y_d_tr, i)\n",
        "  lstm_d_multi_wk.append(score)"
      ],
      "execution_count": 168,
      "outputs": []
    },
    {
      "cell_type": "markdown",
      "metadata": {
        "id": "3rCKp7NVqmXU"
      },
      "source": [
        "### GRU"
      ]
    },
    {
      "cell_type": "code",
      "metadata": {
        "id": "mdSz0_W6qmXU"
      },
      "source": [
        "def evaluate_gru(trainX, trainy, units):\n",
        "    seed(1)\n",
        "    tensorflow.random.set_seed(1)\n",
        "\n",
        "    verbose, epochs, batch_size = 0, 50, 1\n",
        "    n_timesteps, n_features = trainX.shape[1], trainX.shape[2]\n",
        "\n",
        "    model = Sequential()\n",
        "    model.add(GRU(units = units, activation='relu', input_shape=(n_timesteps,n_features)))\n",
        "    model.add(Dense(1, activation='linear'))\n",
        "    model.compile(loss='mse', optimizer='adam', metrics=['MAPE'])\n",
        "  \n",
        "    # fit network\n",
        "    model.fit(trainX, trainy, epochs=epochs, batch_size=batch_size, verbose=verbose, shuffle = False)\n",
        "    # evaluate model\n",
        "    _, accuracy = model.evaluate(trainX, trainy, batch_size=batch_size, verbose=0)\n",
        "    return accuracy\n",
        "\n",
        "\n",
        "# Multivariate GRU confirmed cases\n",
        "\n",
        "gru_i_multi_wk = list()\n",
        "\n",
        "for i in units:\n",
        "  score = list()\n",
        "  score = evaluate_gru(X_i_tr_wk, y_i_tr, i)\n",
        "  gru_i_multi_wk.append(score)\n",
        "\n",
        "\n",
        "# Multivariate GRU confirmed deaths\n",
        "\n",
        "gru_d_multi_wk = list()\n",
        "\n",
        "for i in units:\n",
        "  score = list()\n",
        "  score = evaluate_gru(X_d_tr_wk, y_d_tr, i)\n",
        "  gru_d_multi_wk.append(score)"
      ],
      "execution_count": 169,
      "outputs": []
    },
    {
      "cell_type": "markdown",
      "metadata": {
        "id": "PzqTQXbAqmXU"
      },
      "source": [
        "### RNNs"
      ]
    },
    {
      "cell_type": "code",
      "metadata": {
        "id": "_VaenldWqmXU"
      },
      "source": [
        "def evaluate_rnn(trainX, trainy, units):\n",
        "    seed(1)\n",
        "    tensorflow.random.set_seed(1)\n",
        "\n",
        "    verbose, epochs, batch_size = 0, 50, 1\n",
        "    n_timesteps, n_features = trainX.shape[1], trainX.shape[2]\n",
        "\n",
        "    model = Sequential()\n",
        "    model.add(SimpleRNN(units = units, activation='relu', input_shape=(n_timesteps,n_features)))\n",
        "    model.add(Dense(1, activation='linear'))\n",
        "    model.compile(loss='mse', optimizer='adam', metrics=['MAPE'])\n",
        "  \n",
        "    # fit network\n",
        "    model.fit(trainX, trainy, epochs=epochs, batch_size=batch_size, verbose=verbose, shuffle = False)\n",
        "    # evaluate model\n",
        "    _, accuracy = model.evaluate(trainX, trainy, batch_size=batch_size, verbose=0)\n",
        "    return accuracy\n",
        "\n",
        "# Multivariate RNNs confirmed cases\n",
        "\n",
        "rnn_i_multi_wk = list()\n",
        "\n",
        "for i in units:\n",
        "  score = list()\n",
        "  score = evaluate_rnn(X_i_tr_wk, y_i_tr, i)\n",
        "  rnn_i_multi_wk.append(score)\n",
        "\n",
        "\n",
        "# Multivariate RNNs confirmed deaths\n",
        "\n",
        "rnn_d_multi_wk = list()\n",
        "\n",
        "for i in units:\n",
        "  score = list()\n",
        "  score = evaluate_rnn(X_d_tr_wk, y_d_tr, i)\n",
        "  rnn_d_multi_wk.append(score)"
      ],
      "execution_count": 170,
      "outputs": []
    },
    {
      "cell_type": "markdown",
      "metadata": {
        "id": "dqjchPldqmXU"
      },
      "source": [
        "### Result Table"
      ]
    },
    {
      "cell_type": "markdown",
      "metadata": {
        "id": "Velg1PIoqmXU"
      },
      "source": [
        "#### Multivariate Confirmed Cases"
      ]
    },
    {
      "cell_type": "code",
      "metadata": {
        "colab": {
          "base_uri": "https://localhost:8080/",
          "height": 737
        },
        "id": "5Y8G6KlCqmXV",
        "outputId": "34ed6c87-e05c-4295-ef68-1676175c4ffd"
      },
      "source": [
        "fig = go.Figure(data=[go.Table(header=dict(values=['Model', 'Kernel size', 'Pool', '2 Nodes', '4 Nodes', '8 Nodes', '16 Nodes', \n",
        "                                                   '32 Nodes', \"64 Nodes\", '128 Nodes', '256 Nodes', '512 Nodes', '1024 Nodes'],\n",
        "                                           line_color = 'gray'),\n",
        "                               cells=dict(values=[['LSTM', 'GRU', 'RNNs', 'CNN',\n",
        "                                                   'CNN', 'CNN', 'CNN', 'CNN', 'CNN'],\n",
        "                                                  ['-', '-', '-', '3', '5', '7', '3', '5', '7'],\n",
        "                                                  ['-', '-', '-', '2', '2', '2', '3', '3', '3'],\n",
        "                                    [round(lstm_i_multi_wk[0],3), \n",
        "                                     round(gru_i_multi_wk[0],3),\n",
        "                                     round(rnn_i_multi_wk[0],3), \n",
        "                                     round(cnn_i_multi_wk.iloc[0,0],3),\n",
        "                                     round(cnn_i_multi_wk.iloc[0,1],3),\n",
        "                                     round(cnn_i_multi_wk.iloc[0,2],3),\n",
        "                                     round(cnn_i_multi_wk.iloc[0,3],3),\n",
        "                                     round(cnn_i_multi_wk.iloc[0,4],3),\n",
        "                                     round(cnn_i_multi_wk.iloc[0,5],3)],\n",
        "                                     [round(lstm_i_multi_wk[1],3), \n",
        "                                     round(gru_i_multi_wk[1],3),\n",
        "                                     round(rnn_i_multi_wk[1],3), \n",
        "                                     round(cnn_i_multi_wk.iloc[1,0],3),\n",
        "                                     round(cnn_i_multi_wk.iloc[1,1],3),\n",
        "                                     round(cnn_i_multi_wk.iloc[1,2],3),\n",
        "                                     round(cnn_i_multi_wk.iloc[1,3],3),\n",
        "                                     round(cnn_i_multi_wk.iloc[1,4],3),\n",
        "                                     round(cnn_i_multi_wk.iloc[1,5],3)],\n",
        "                                     [round(lstm_i_multi_wk[2],3), \n",
        "                                     round(gru_i_multi_wk[2],3),\n",
        "                                     round(rnn_i_multi_wk[2],3), \n",
        "                                     round(cnn_i_multi_wk.iloc[2,0],3),\n",
        "                                     round(cnn_i_multi_wk.iloc[2,1],3),\n",
        "                                     round(cnn_i_multi_wk.iloc[2,2],3),\n",
        "                                     round(cnn_i_multi_wk.iloc[2,3],3),\n",
        "                                     round(cnn_i_multi_wk.iloc[2,4],3),\n",
        "                                     round(cnn_i_multi_wk.iloc[2,5],3)],\n",
        "                                     [round(lstm_i_multi_wk[3],3), \n",
        "                                     round(gru_i_multi_wk[3],3),\n",
        "                                     round(rnn_i_multi_wk[3],3), \n",
        "                                     round(cnn_i_multi_wk.iloc[3,0],3),\n",
        "                                     round(cnn_i_multi_wk.iloc[3,1],3),\n",
        "                                     round(cnn_i_multi_wk.iloc[3,2],3),\n",
        "                                     round(cnn_i_multi_wk.iloc[3,3],3),\n",
        "                                     round(cnn_i_multi_wk.iloc[3,4],3),\n",
        "                                     round(cnn_i_multi_wk.iloc[3,5],3)],\n",
        "                                     [round(lstm_i_multi_wk[4],3), \n",
        "                                     round(gru_i_multi_wk[4],3),\n",
        "                                     round(rnn_i_multi_wk[4],3), \n",
        "                                     round(cnn_i_multi_wk.iloc[4,0],3),\n",
        "                                     round(cnn_i_multi_wk.iloc[4,1],3),\n",
        "                                     round(cnn_i_multi_wk.iloc[4,2],3),\n",
        "                                     round(cnn_i_multi_wk.iloc[4,3],3),\n",
        "                                     round(cnn_i_multi_wk.iloc[4,4],3),\n",
        "                                     round(cnn_i_multi_wk.iloc[4,5],3)],\n",
        "                                     [round(lstm_i_multi_wk[5],3), \n",
        "                                     round(gru_i_multi_wk[5],3),\n",
        "                                     round(rnn_i_multi_wk[5],3), \n",
        "                                     round(cnn_i_multi_wk.iloc[5,0],3),\n",
        "                                     round(cnn_i_multi_wk.iloc[5,1],3),\n",
        "                                     round(cnn_i_multi_wk.iloc[5,2],3),\n",
        "                                     round(cnn_i_multi_wk.iloc[5,3],3),\n",
        "                                     round(cnn_i_multi_wk.iloc[5,4],3),\n",
        "                                     round(cnn_i_multi_wk.iloc[5,5],3)],\n",
        "                                     [round(lstm_i_multi_wk[6],3), \n",
        "                                     round(gru_i_multi_wk[6],3),\n",
        "                                     round(rnn_i_multi_wk[6],3), \n",
        "                                     round(cnn_i_multi_wk.iloc[6,0],3),\n",
        "                                     round(cnn_i_multi_wk.iloc[6,1],3),\n",
        "                                     round(cnn_i_multi_wk.iloc[6,2],3),\n",
        "                                     round(cnn_i_multi_wk.iloc[6,3],3),\n",
        "                                     round(cnn_i_multi_wk.iloc[6,4],3),\n",
        "                                     round(cnn_i_multi_wk.iloc[6,5],3)],\n",
        "                                     [round(lstm_i_multi_wk[7],3), \n",
        "                                     round(gru_i_multi_wk[7],3),\n",
        "                                     round(rnn_i_multi_wk[7],3), \n",
        "                                     round(cnn_i_multi_wk.iloc[7,0],3),\n",
        "                                     round(cnn_i_multi_wk.iloc[7,1],3),\n",
        "                                     round(cnn_i_multi_wk.iloc[7,2],3),\n",
        "                                     round(cnn_i_multi_wk.iloc[7,3],3),\n",
        "                                     round(cnn_i_multi_wk.iloc[7,4],3),\n",
        "                                     round(cnn_i_multi_wk.iloc[7,5],3)],\n",
        "                                     [round(lstm_i_multi_wk[8],3), \n",
        "                                     round(gru_i_multi_wk[8],3),\n",
        "                                     round(rnn_i_multi_wk[8],3), \n",
        "                                     round(cnn_i_multi_wk.iloc[8,0],3),\n",
        "                                     round(cnn_i_multi_wk.iloc[8,1],3),\n",
        "                                     round(cnn_i_multi_wk.iloc[8,2],3),\n",
        "                                     round(cnn_i_multi_wk.iloc[8,3],3),\n",
        "                                     round(cnn_i_multi_wk.iloc[8,4],3),\n",
        "                                     round(cnn_i_multi_wk.iloc[8,5],3)],\n",
        "                                     [round(lstm_i_multi_wk[9],3), \n",
        "                                     round(gru_i_multi_wk[9],3),\n",
        "                                     round(rnn_i_multi_wk[9],3), \n",
        "                                     round(cnn_i_multi_wk.iloc[9,0],3),\n",
        "                                     round(cnn_i_multi_wk.iloc[9,1],3),\n",
        "                                     round(cnn_i_multi_wk.iloc[9,2],3),\n",
        "                                     round(cnn_i_multi_wk.iloc[9,3],3),\n",
        "                                     round(cnn_i_multi_wk.iloc[9,4],3),\n",
        "                                     round(cnn_i_multi_wk.iloc[9,5],3)]],\n",
        "                            align=['left','center', 'center', \n",
        "                                   'right','right','right',\n",
        "                                   'right','right','right',\n",
        "                                   'right','right','right','right'],\n",
        "                            fill_color = 'white',\n",
        "                            line_color = 'gray'))\n",
        "                     ])\n",
        "fig.update_layout(title = \"Parameter Tunings Mean Absolute Percentage Error: Multivariate Confirmed Cases\",\n",
        "                  title_x=0.5, height = 700, width = 1200)\n",
        "fig.show()"
      ],
      "execution_count": null,
      "outputs": [
        {
          "output_type": "display_data",
          "data": {
            "text/html": [
              "<html>\n",
              "<head><meta charset=\"utf-8\" /></head>\n",
              "<body>\n",
              "    <div>\n",
              "            <script src=\"https://cdnjs.cloudflare.com/ajax/libs/mathjax/2.7.5/MathJax.js?config=TeX-AMS-MML_SVG\"></script><script type=\"text/javascript\">if (window.MathJax) {MathJax.Hub.Config({SVG: {font: \"STIX-Web\"}});}</script>\n",
              "                <script type=\"text/javascript\">window.PlotlyConfig = {MathJaxConfig: 'local'};</script>\n",
              "        <script src=\"https://cdn.plot.ly/plotly-latest.min.js\"></script>    \n",
              "            <div id=\"94600f67-6fbb-4a26-8982-1069b20bbe38\" class=\"plotly-graph-div\" style=\"height:700px; width:1200px;\"></div>\n",
              "            <script type=\"text/javascript\">\n",
              "                \n",
              "                    window.PLOTLYENV=window.PLOTLYENV || {};\n",
              "                    \n",
              "                if (document.getElementById(\"94600f67-6fbb-4a26-8982-1069b20bbe38\")) {\n",
              "                    Plotly.newPlot(\n",
              "                        '94600f67-6fbb-4a26-8982-1069b20bbe38',\n",
              "                        [{\"cells\": {\"align\": [\"left\", \"center\", \"center\", \"right\", \"right\", \"right\", \"right\", \"right\", \"right\", \"right\", \"right\", \"right\", \"right\"], \"fill\": {\"color\": \"white\"}, \"line\": {\"color\": \"gray\"}, \"values\": [[\"LSTM\", \"GRU\", \"RNNs\", \"CNN\", \"CNN\", \"CNN\", \"CNN\", \"CNN\", \"CNN\"], [\"-\", \"-\", \"-\", \"3\", \"5\", \"7\", \"3\", \"5\", \"7\"], [\"-\", \"-\", \"-\", \"2\", \"2\", \"2\", \"3\", \"3\", \"3\"], [20.813, 99.984, 46.514, 60.301, 40.956, 40.596, 71.682, 43.486, 44.943], [99.984, 46.131, 46.991, 41.253, 41.338, 40.579, 42.524, 41.245, 68.219], [46.494, 43.05, 46.932, 42.469, 45.996, 44.254, 41.579, 40.893, 45.295], [45.713, 46.193, 47.786, 45.193, 46.514, 44.28, 43.805, 45.823, 41.808], [9.405, 41.935, 51.406, 47.143, 47.279, 46.816, 46.927, 46.562, 43.191], [45.693, 46.21, 93.098, 47.329, 47.406, 47.247, 47.583, 47.433, 46.803], [13.936, 44.962, 39.937, 47.378, 47.449, 47.293, 47.672, 47.565, 47.138], [22.553, 20.151, 141.932, 47.443, 47.547, 47.385, 47.722, 47.619, 47.213], [16.644, 42.83, 94.406, 47.544, 47.67, 47.53, 47.809, 47.725, 47.298], [70.099, 16.495, 39.487, 47.663, 47.837, 47.699, 47.899, 47.85, 47.412]]}, \"header\": {\"line\": {\"color\": \"gray\"}, \"values\": [\"Model\", \"Kernel size\", \"Pool\", \"2 Nodes\", \"4 Nodes\", \"8 Nodes\", \"16 Nodes\", \"32 Nodes\", \"64 Nodes\", \"128 Nodes\", \"256 Nodes\", \"512 Nodes\", \"1024 Nodes\"]}, \"type\": \"table\"}],\n",
              "                        {\"height\": 700, \"template\": {\"data\": {\"bar\": [{\"error_x\": {\"color\": \"#2a3f5f\"}, \"error_y\": {\"color\": \"#2a3f5f\"}, \"marker\": {\"line\": {\"color\": \"#E5ECF6\", \"width\": 0.5}}, \"type\": \"bar\"}], \"barpolar\": [{\"marker\": {\"line\": {\"color\": \"#E5ECF6\", \"width\": 0.5}}, \"type\": \"barpolar\"}], \"carpet\": [{\"aaxis\": {\"endlinecolor\": \"#2a3f5f\", \"gridcolor\": \"white\", \"linecolor\": \"white\", \"minorgridcolor\": \"white\", \"startlinecolor\": \"#2a3f5f\"}, \"baxis\": {\"endlinecolor\": \"#2a3f5f\", \"gridcolor\": \"white\", \"linecolor\": \"white\", \"minorgridcolor\": \"white\", \"startlinecolor\": \"#2a3f5f\"}, \"type\": \"carpet\"}], \"choropleth\": [{\"colorbar\": {\"outlinewidth\": 0, \"ticks\": \"\"}, \"type\": \"choropleth\"}], \"contour\": [{\"colorbar\": {\"outlinewidth\": 0, \"ticks\": \"\"}, \"colorscale\": [[0.0, \"#0d0887\"], [0.1111111111111111, \"#46039f\"], [0.2222222222222222, \"#7201a8\"], [0.3333333333333333, \"#9c179e\"], [0.4444444444444444, \"#bd3786\"], [0.5555555555555556, \"#d8576b\"], [0.6666666666666666, \"#ed7953\"], [0.7777777777777778, \"#fb9f3a\"], [0.8888888888888888, \"#fdca26\"], [1.0, \"#f0f921\"]], \"type\": \"contour\"}], \"contourcarpet\": [{\"colorbar\": {\"outlinewidth\": 0, \"ticks\": \"\"}, \"type\": \"contourcarpet\"}], \"heatmap\": [{\"colorbar\": {\"outlinewidth\": 0, \"ticks\": \"\"}, \"colorscale\": [[0.0, \"#0d0887\"], [0.1111111111111111, \"#46039f\"], [0.2222222222222222, \"#7201a8\"], [0.3333333333333333, \"#9c179e\"], [0.4444444444444444, \"#bd3786\"], [0.5555555555555556, \"#d8576b\"], [0.6666666666666666, \"#ed7953\"], [0.7777777777777778, \"#fb9f3a\"], [0.8888888888888888, \"#fdca26\"], [1.0, \"#f0f921\"]], \"type\": \"heatmap\"}], \"heatmapgl\": [{\"colorbar\": {\"outlinewidth\": 0, \"ticks\": \"\"}, \"colorscale\": [[0.0, \"#0d0887\"], [0.1111111111111111, \"#46039f\"], [0.2222222222222222, \"#7201a8\"], [0.3333333333333333, \"#9c179e\"], [0.4444444444444444, \"#bd3786\"], [0.5555555555555556, \"#d8576b\"], [0.6666666666666666, \"#ed7953\"], [0.7777777777777778, \"#fb9f3a\"], [0.8888888888888888, \"#fdca26\"], [1.0, \"#f0f921\"]], \"type\": \"heatmapgl\"}], \"histogram\": [{\"marker\": {\"colorbar\": {\"outlinewidth\": 0, \"ticks\": \"\"}}, \"type\": \"histogram\"}], \"histogram2d\": [{\"colorbar\": {\"outlinewidth\": 0, \"ticks\": \"\"}, \"colorscale\": [[0.0, \"#0d0887\"], [0.1111111111111111, \"#46039f\"], [0.2222222222222222, \"#7201a8\"], [0.3333333333333333, \"#9c179e\"], [0.4444444444444444, \"#bd3786\"], [0.5555555555555556, \"#d8576b\"], [0.6666666666666666, \"#ed7953\"], [0.7777777777777778, \"#fb9f3a\"], [0.8888888888888888, \"#fdca26\"], [1.0, \"#f0f921\"]], \"type\": \"histogram2d\"}], \"histogram2dcontour\": [{\"colorbar\": {\"outlinewidth\": 0, \"ticks\": \"\"}, \"colorscale\": [[0.0, \"#0d0887\"], [0.1111111111111111, \"#46039f\"], [0.2222222222222222, \"#7201a8\"], [0.3333333333333333, \"#9c179e\"], [0.4444444444444444, \"#bd3786\"], [0.5555555555555556, \"#d8576b\"], [0.6666666666666666, \"#ed7953\"], [0.7777777777777778, \"#fb9f3a\"], [0.8888888888888888, \"#fdca26\"], [1.0, \"#f0f921\"]], \"type\": \"histogram2dcontour\"}], \"mesh3d\": [{\"colorbar\": {\"outlinewidth\": 0, \"ticks\": \"\"}, \"type\": \"mesh3d\"}], \"parcoords\": [{\"line\": {\"colorbar\": {\"outlinewidth\": 0, \"ticks\": \"\"}}, \"type\": \"parcoords\"}], \"pie\": [{\"automargin\": true, \"type\": \"pie\"}], \"scatter\": [{\"marker\": {\"colorbar\": {\"outlinewidth\": 0, \"ticks\": \"\"}}, \"type\": \"scatter\"}], \"scatter3d\": [{\"line\": {\"colorbar\": {\"outlinewidth\": 0, \"ticks\": \"\"}}, \"marker\": {\"colorbar\": {\"outlinewidth\": 0, \"ticks\": \"\"}}, \"type\": \"scatter3d\"}], \"scattercarpet\": [{\"marker\": {\"colorbar\": {\"outlinewidth\": 0, \"ticks\": \"\"}}, \"type\": \"scattercarpet\"}], \"scattergeo\": [{\"marker\": {\"colorbar\": {\"outlinewidth\": 0, \"ticks\": \"\"}}, \"type\": \"scattergeo\"}], \"scattergl\": [{\"marker\": {\"colorbar\": {\"outlinewidth\": 0, \"ticks\": \"\"}}, \"type\": \"scattergl\"}], \"scattermapbox\": [{\"marker\": {\"colorbar\": {\"outlinewidth\": 0, \"ticks\": \"\"}}, \"type\": \"scattermapbox\"}], \"scatterpolar\": [{\"marker\": {\"colorbar\": {\"outlinewidth\": 0, \"ticks\": \"\"}}, \"type\": \"scatterpolar\"}], \"scatterpolargl\": [{\"marker\": {\"colorbar\": {\"outlinewidth\": 0, \"ticks\": \"\"}}, \"type\": \"scatterpolargl\"}], \"scatterternary\": [{\"marker\": {\"colorbar\": {\"outlinewidth\": 0, \"ticks\": \"\"}}, \"type\": \"scatterternary\"}], \"surface\": [{\"colorbar\": {\"outlinewidth\": 0, \"ticks\": \"\"}, \"colorscale\": [[0.0, \"#0d0887\"], [0.1111111111111111, \"#46039f\"], [0.2222222222222222, \"#7201a8\"], [0.3333333333333333, \"#9c179e\"], [0.4444444444444444, \"#bd3786\"], [0.5555555555555556, \"#d8576b\"], [0.6666666666666666, \"#ed7953\"], [0.7777777777777778, \"#fb9f3a\"], [0.8888888888888888, \"#fdca26\"], [1.0, \"#f0f921\"]], \"type\": \"surface\"}], \"table\": [{\"cells\": {\"fill\": {\"color\": \"#EBF0F8\"}, \"line\": {\"color\": \"white\"}}, \"header\": {\"fill\": {\"color\": \"#C8D4E3\"}, \"line\": {\"color\": \"white\"}}, \"type\": \"table\"}]}, \"layout\": {\"annotationdefaults\": {\"arrowcolor\": \"#2a3f5f\", \"arrowhead\": 0, \"arrowwidth\": 1}, \"coloraxis\": {\"colorbar\": {\"outlinewidth\": 0, \"ticks\": \"\"}}, \"colorscale\": {\"diverging\": [[0, \"#8e0152\"], [0.1, \"#c51b7d\"], [0.2, \"#de77ae\"], [0.3, \"#f1b6da\"], [0.4, \"#fde0ef\"], [0.5, \"#f7f7f7\"], [0.6, \"#e6f5d0\"], [0.7, \"#b8e186\"], [0.8, \"#7fbc41\"], [0.9, \"#4d9221\"], [1, \"#276419\"]], \"sequential\": [[0.0, \"#0d0887\"], [0.1111111111111111, \"#46039f\"], [0.2222222222222222, \"#7201a8\"], [0.3333333333333333, \"#9c179e\"], [0.4444444444444444, \"#bd3786\"], [0.5555555555555556, \"#d8576b\"], [0.6666666666666666, \"#ed7953\"], [0.7777777777777778, \"#fb9f3a\"], [0.8888888888888888, \"#fdca26\"], [1.0, \"#f0f921\"]], \"sequentialminus\": [[0.0, \"#0d0887\"], [0.1111111111111111, \"#46039f\"], [0.2222222222222222, \"#7201a8\"], [0.3333333333333333, \"#9c179e\"], [0.4444444444444444, \"#bd3786\"], [0.5555555555555556, \"#d8576b\"], [0.6666666666666666, \"#ed7953\"], [0.7777777777777778, \"#fb9f3a\"], [0.8888888888888888, \"#fdca26\"], [1.0, \"#f0f921\"]]}, \"colorway\": [\"#636efa\", \"#EF553B\", \"#00cc96\", \"#ab63fa\", \"#FFA15A\", \"#19d3f3\", \"#FF6692\", \"#B6E880\", \"#FF97FF\", \"#FECB52\"], \"font\": {\"color\": \"#2a3f5f\"}, \"geo\": {\"bgcolor\": \"white\", \"lakecolor\": \"white\", \"landcolor\": \"#E5ECF6\", \"showlakes\": true, \"showland\": true, \"subunitcolor\": \"white\"}, \"hoverlabel\": {\"align\": \"left\"}, \"hovermode\": \"closest\", \"mapbox\": {\"style\": \"light\"}, \"paper_bgcolor\": \"white\", \"plot_bgcolor\": \"#E5ECF6\", \"polar\": {\"angularaxis\": {\"gridcolor\": \"white\", \"linecolor\": \"white\", \"ticks\": \"\"}, \"bgcolor\": \"#E5ECF6\", \"radialaxis\": {\"gridcolor\": \"white\", \"linecolor\": \"white\", \"ticks\": \"\"}}, \"scene\": {\"xaxis\": {\"backgroundcolor\": \"#E5ECF6\", \"gridcolor\": \"white\", \"gridwidth\": 2, \"linecolor\": \"white\", \"showbackground\": true, \"ticks\": \"\", \"zerolinecolor\": \"white\"}, \"yaxis\": {\"backgroundcolor\": \"#E5ECF6\", \"gridcolor\": \"white\", \"gridwidth\": 2, \"linecolor\": \"white\", \"showbackground\": true, \"ticks\": \"\", \"zerolinecolor\": \"white\"}, \"zaxis\": {\"backgroundcolor\": \"#E5ECF6\", \"gridcolor\": \"white\", \"gridwidth\": 2, \"linecolor\": \"white\", \"showbackground\": true, \"ticks\": \"\", \"zerolinecolor\": \"white\"}}, \"shapedefaults\": {\"line\": {\"color\": \"#2a3f5f\"}}, \"ternary\": {\"aaxis\": {\"gridcolor\": \"white\", \"linecolor\": \"white\", \"ticks\": \"\"}, \"baxis\": {\"gridcolor\": \"white\", \"linecolor\": \"white\", \"ticks\": \"\"}, \"bgcolor\": \"#E5ECF6\", \"caxis\": {\"gridcolor\": \"white\", \"linecolor\": \"white\", \"ticks\": \"\"}}, \"title\": {\"x\": 0.05}, \"xaxis\": {\"automargin\": true, \"gridcolor\": \"white\", \"linecolor\": \"white\", \"ticks\": \"\", \"title\": {\"standoff\": 15}, \"zerolinecolor\": \"white\", \"zerolinewidth\": 2}, \"yaxis\": {\"automargin\": true, \"gridcolor\": \"white\", \"linecolor\": \"white\", \"ticks\": \"\", \"title\": {\"standoff\": 15}, \"zerolinecolor\": \"white\", \"zerolinewidth\": 2}}}, \"title\": {\"text\": \"Parameter Tunings Mean Absolute Percentage Error: Multivariate Confirmed Cases\", \"x\": 0.5}, \"width\": 1200},\n",
              "                        {\"responsive\": true}\n",
              "                    ).then(function(){\n",
              "                            \n",
              "var gd = document.getElementById('94600f67-6fbb-4a26-8982-1069b20bbe38');\n",
              "var x = new MutationObserver(function (mutations, observer) {{\n",
              "        var display = window.getComputedStyle(gd).display;\n",
              "        if (!display || display === 'none') {{\n",
              "            console.log([gd, 'removed!']);\n",
              "            Plotly.purge(gd);\n",
              "            observer.disconnect();\n",
              "        }}\n",
              "}});\n",
              "\n",
              "// Listen for the removal of the full notebook cells\n",
              "var notebookContainer = gd.closest('#notebook-container');\n",
              "if (notebookContainer) {{\n",
              "    x.observe(notebookContainer, {childList: true});\n",
              "}}\n",
              "\n",
              "// Listen for the clearing of the current output cell\n",
              "var outputEl = gd.closest('.output');\n",
              "if (outputEl) {{\n",
              "    x.observe(outputEl, {childList: true});\n",
              "}}\n",
              "\n",
              "                        })\n",
              "                };\n",
              "                \n",
              "            </script>\n",
              "        </div>\n",
              "</body>\n",
              "</html>"
            ]
          },
          "metadata": {}
        }
      ]
    },
    {
      "cell_type": "markdown",
      "metadata": {
        "id": "9Y3vWR7BqmXV"
      },
      "source": [
        "#### Multivariate Confirmed Deaths"
      ]
    },
    {
      "cell_type": "code",
      "metadata": {
        "colab": {
          "base_uri": "https://localhost:8080/",
          "height": 737
        },
        "id": "je3p-vL1qmXV",
        "outputId": "6293dce5-ed53-4901-c2b3-9315c67a7330"
      },
      "source": [
        "fig = go.Figure(data=[go.Table(header=dict(values=['Model', 'Kernel size', 'Pool', '2 Nodes','4 Nodes', '8 Nodes', '16 Nodes', '32 Nodes',\n",
        "                                                   \"64 Nodes\", '128 Nodes', '256 Nodes', '512 Nodes' , '1024 Nodes'],\n",
        "                                           line_color = 'gray'),\n",
        "                               cells=dict(values=[['LSTM', 'GRU', 'RNNs', 'CNN',\n",
        "                                                   'CNN', 'CNN', 'CNN', 'CNN', 'CNN'],\n",
        "                                                  ['-', '-', '-', '3', '5', '7', '3', '5', '7'],\n",
        "                                                  ['-', '-', '-', '2', '2', '2', '3', '3', '3'],\n",
        "                                    [round(lstm_d_multi_wk[0],3), \n",
        "                                     round(gru_d_multi_wk[0],3),\n",
        "                                     round(rnn_d_multi_wk[0],3), \n",
        "                                     round(cnn_d_multi_wk.iloc[0,0],3),\n",
        "                                     round(cnn_d_multi_wk.iloc[0,1],3),\n",
        "                                     round(cnn_d_multi_wk.iloc[0,2],3),\n",
        "                                     round(cnn_d_multi_wk.iloc[0,3],3),\n",
        "                                     round(cnn_d_multi_wk.iloc[0,4],3),\n",
        "                                     round(cnn_d_multi_wk.iloc[0,5],3)],\n",
        "                                     [round(lstm_d_multi_wk[1],3), \n",
        "                                     round(gru_d_multi_wk[1],3),\n",
        "                                     round(rnn_d_multi_wk[1],3), \n",
        "                                     round(cnn_d_multi_wk.iloc[1,0],3),\n",
        "                                     round(cnn_d_multi_wk.iloc[1,1],3),\n",
        "                                     round(cnn_d_multi_wk.iloc[1,2],3),\n",
        "                                     round(cnn_d_multi_wk.iloc[1,3],3),\n",
        "                                     round(cnn_d_multi_wk.iloc[1,4],3),\n",
        "                                     round(cnn_d_multi_wk.iloc[1,5],3)],\n",
        "                                     [round(lstm_d_multi_wk[2],3), \n",
        "                                     round(gru_d_multi_wk[2],3),\n",
        "                                     round(rnn_d_multi_wk[2],3), \n",
        "                                     round(cnn_d_multi_wk.iloc[2,0],3),\n",
        "                                     round(cnn_d_multi_wk.iloc[2,1],3),\n",
        "                                     round(cnn_d_multi_wk.iloc[2,2],3),\n",
        "                                     round(cnn_d_multi_wk.iloc[2,3],3),\n",
        "                                     round(cnn_d_multi_wk.iloc[2,4],3),\n",
        "                                     round(cnn_d_multi_wk.iloc[2,5],3)],\n",
        "                                     [round(lstm_d_multi_wk[3],3), \n",
        "                                     round(gru_d_multi_wk[3],3),\n",
        "                                     round(rnn_d_multi_wk[3],3), \n",
        "                                     round(cnn_d_multi_wk.iloc[3,0],3),\n",
        "                                     round(cnn_d_multi_wk.iloc[3,1],3),\n",
        "                                     round(cnn_d_multi_wk.iloc[3,2],3),\n",
        "                                     round(cnn_d_multi_wk.iloc[3,3],3),\n",
        "                                     round(cnn_d_multi_wk.iloc[3,4],3),\n",
        "                                     round(cnn_d_multi_wk.iloc[3,5],3)],\n",
        "                                     [round(lstm_d_multi_wk[4],3), \n",
        "                                     round(gru_d_multi_wk[4],3),\n",
        "                                     round(rnn_d_multi_wk[4],3), \n",
        "                                     round(cnn_d_multi_wk.iloc[4,0],3),\n",
        "                                     round(cnn_d_multi_wk.iloc[4,1],3),\n",
        "                                     round(cnn_d_multi_wk.iloc[4,2],3),\n",
        "                                     round(cnn_d_multi_wk.iloc[4,3],3),\n",
        "                                     round(cnn_d_multi_wk.iloc[4,4],3),\n",
        "                                     round(cnn_d_multi_wk.iloc[4,5],3)],\n",
        "                                     [round(lstm_d_multi_wk[5],3), \n",
        "                                     round(gru_d_multi_wk[5],3),\n",
        "                                     round(rnn_d_multi_wk[5],3), \n",
        "                                     round(cnn_d_multi_wk.iloc[5,0],3),\n",
        "                                     round(cnn_d_multi_wk.iloc[5,1],3),\n",
        "                                     round(cnn_d_multi_wk.iloc[5,2],3),\n",
        "                                     round(cnn_d_multi_wk.iloc[5,3],3),\n",
        "                                     round(cnn_d_multi_wk.iloc[5,4],3),\n",
        "                                     round(cnn_d_multi_wk.iloc[5,5],3)],\n",
        "                                     [round(lstm_d_multi_wk[6],3), \n",
        "                                     round(gru_d_multi_wk[6],3),\n",
        "                                     round(rnn_d_multi_wk[6],3), \n",
        "                                     round(cnn_d_multi_wk.iloc[6,0],3),\n",
        "                                     round(cnn_d_multi_wk.iloc[6,1],3),\n",
        "                                     round(cnn_d_multi_wk.iloc[6,2],3),\n",
        "                                     round(cnn_d_multi_wk.iloc[6,3],3),\n",
        "                                     round(cnn_d_multi_wk.iloc[6,4],3),\n",
        "                                     round(cnn_d_multi_wk.iloc[6,5],3)],\n",
        "                                     [round(lstm_d_multi_wk[7],3), \n",
        "                                     round(gru_d_multi_wk[7],3),\n",
        "                                     round(rnn_d_multi_wk[7],3), \n",
        "                                     round(cnn_d_multi_wk.iloc[7,0],3),\n",
        "                                     round(cnn_d_multi_wk.iloc[7,1],3),\n",
        "                                     round(cnn_d_multi_wk.iloc[7,2],3),\n",
        "                                     round(cnn_d_multi_wk.iloc[7,3],3),\n",
        "                                     round(cnn_d_multi_wk.iloc[7,4],3),\n",
        "                                     round(cnn_d_multi_wk.iloc[7,5],3)],\n",
        "                                     [round(lstm_d_multi_wk[8],3), \n",
        "                                     round(gru_d_multi_wk[8],3),\n",
        "                                     round(rnn_d_multi_wk[8],3), \n",
        "                                     round(cnn_d_multi_wk.iloc[8,0],3),\n",
        "                                     round(cnn_d_multi_wk.iloc[8,1],3),\n",
        "                                     round(cnn_d_multi_wk.iloc[8,2],3),\n",
        "                                     round(cnn_d_multi_wk.iloc[8,3],3),\n",
        "                                     round(cnn_d_multi_wk.iloc[8,4],3),\n",
        "                                     round(cnn_d_multi_wk.iloc[8,5],3)],\n",
        "                                     [round(lstm_d_multi_wk[9],3), \n",
        "                                     round(gru_d_multi_wk[9],3),\n",
        "                                     round(rnn_d_multi_wk[9],3), \n",
        "                                     round(cnn_d_multi_wk.iloc[9,0],3),\n",
        "                                     round(cnn_d_multi_wk.iloc[9,1],3),\n",
        "                                     round(cnn_d_multi_wk.iloc[9,2],3),\n",
        "                                     round(cnn_d_multi_wk.iloc[9,3],3),\n",
        "                                     round(cnn_d_multi_wk.iloc[9,4],3),\n",
        "                                     round(cnn_d_multi_wk.iloc[9,5],3)]],\n",
        "                            align=['left','center', 'center', \n",
        "                                   'right','right','right',\n",
        "                                   'right','right','right',\n",
        "                                   'right','right','right','right'],\n",
        "                            fill_color = 'white',\n",
        "                            line_color = 'gray'))\n",
        "                     ])\n",
        "fig.update_layout(title = \"Parameter Tunings Mean Absolute Percentage Error: Multivariate Confirmed Deaths\",\n",
        "                  title_x=0.5, height = 700, width = 1200)\n",
        "fig.show()"
      ],
      "execution_count": null,
      "outputs": [
        {
          "output_type": "display_data",
          "data": {
            "text/html": [
              "<html>\n",
              "<head><meta charset=\"utf-8\" /></head>\n",
              "<body>\n",
              "    <div>\n",
              "            <script src=\"https://cdnjs.cloudflare.com/ajax/libs/mathjax/2.7.5/MathJax.js?config=TeX-AMS-MML_SVG\"></script><script type=\"text/javascript\">if (window.MathJax) {MathJax.Hub.Config({SVG: {font: \"STIX-Web\"}});}</script>\n",
              "                <script type=\"text/javascript\">window.PlotlyConfig = {MathJaxConfig: 'local'};</script>\n",
              "        <script src=\"https://cdn.plot.ly/plotly-latest.min.js\"></script>    \n",
              "            <div id=\"87b53fff-e16c-43f2-a5cd-56cc32309a21\" class=\"plotly-graph-div\" style=\"height:700px; width:1200px;\"></div>\n",
              "            <script type=\"text/javascript\">\n",
              "                \n",
              "                    window.PLOTLYENV=window.PLOTLYENV || {};\n",
              "                    \n",
              "                if (document.getElementById(\"87b53fff-e16c-43f2-a5cd-56cc32309a21\")) {\n",
              "                    Plotly.newPlot(\n",
              "                        '87b53fff-e16c-43f2-a5cd-56cc32309a21',\n",
              "                        [{\"cells\": {\"align\": [\"left\", \"center\", \"center\", \"right\", \"right\", \"right\", \"right\", \"right\", \"right\", \"right\", \"right\", \"right\", \"right\"], \"fill\": {\"color\": \"white\"}, \"line\": {\"color\": \"gray\"}, \"values\": [[\"LSTM\", \"GRU\", \"RNNs\", \"CNN\", \"CNN\", \"CNN\", \"CNN\", \"CNN\", \"CNN\"], [\"-\", \"-\", \"-\", \"3\", \"5\", \"7\", \"3\", \"5\", \"7\"], [\"-\", \"-\", \"-\", \"2\", \"2\", \"2\", \"3\", \"3\", \"3\"], [42.304, 98.116, 42.423, 42.774, 43.085, 43.043, 43.321, 43.4, 43.097], [33.072, 41.143, 41.872, 43.114, 43.797, 43.241, 43.412, 44.011, 43.129], [12.963, 40.506, 42.348, 42.592, 43.323, 43.124, 42.497, 43.332, 42.789], [21.658, 19.78, 42.485, 43.233, 43.288, 43.393, 43.555, 43.528, 43.332], [13.978, 39.214, 42.646, 43.493, 43.637, 43.392, 43.73, 43.56, 43.12], [41.271, 36.934, 41.879, 43.462, 43.899, 43.614, 43.78, 43.853, 43.33], [41.395, 41.771, 39.828, 43.834, 44.26, 44.317, 43.875, 44.04, 43.547], [82.42, 12.791, 41.766, 44.117, 44.725, 44.696, 44.222, 44.438, 43.842], [15.596, 26.727, 41.472, 44.774, 45.142, 44.862, 44.882, 44.939, 44.44], [35.326, 69.79, 41.866, 44.648, 44.993, 45.094, 44.922, 45.22, 44.798]]}, \"header\": {\"line\": {\"color\": \"gray\"}, \"values\": [\"Model\", \"Kernel size\", \"Pool\", \"2 Nodes\", \"4 Nodes\", \"8 Nodes\", \"16 Nodes\", \"32 Nodes\", \"64 Nodes\", \"128 Nodes\", \"256 Nodes\", \"512 Nodes\", \"1024 Nodes\"]}, \"type\": \"table\"}],\n",
              "                        {\"height\": 700, \"template\": {\"data\": {\"bar\": [{\"error_x\": {\"color\": \"#2a3f5f\"}, \"error_y\": {\"color\": \"#2a3f5f\"}, \"marker\": {\"line\": {\"color\": \"#E5ECF6\", \"width\": 0.5}}, \"type\": \"bar\"}], \"barpolar\": [{\"marker\": {\"line\": {\"color\": \"#E5ECF6\", \"width\": 0.5}}, \"type\": \"barpolar\"}], \"carpet\": [{\"aaxis\": {\"endlinecolor\": \"#2a3f5f\", \"gridcolor\": \"white\", \"linecolor\": \"white\", \"minorgridcolor\": \"white\", \"startlinecolor\": \"#2a3f5f\"}, \"baxis\": {\"endlinecolor\": \"#2a3f5f\", \"gridcolor\": \"white\", \"linecolor\": \"white\", \"minorgridcolor\": \"white\", \"startlinecolor\": \"#2a3f5f\"}, \"type\": \"carpet\"}], \"choropleth\": [{\"colorbar\": {\"outlinewidth\": 0, \"ticks\": \"\"}, \"type\": \"choropleth\"}], \"contour\": [{\"colorbar\": {\"outlinewidth\": 0, \"ticks\": \"\"}, \"colorscale\": [[0.0, \"#0d0887\"], [0.1111111111111111, \"#46039f\"], [0.2222222222222222, \"#7201a8\"], [0.3333333333333333, \"#9c179e\"], [0.4444444444444444, \"#bd3786\"], [0.5555555555555556, \"#d8576b\"], [0.6666666666666666, \"#ed7953\"], [0.7777777777777778, \"#fb9f3a\"], [0.8888888888888888, \"#fdca26\"], [1.0, \"#f0f921\"]], \"type\": \"contour\"}], \"contourcarpet\": [{\"colorbar\": {\"outlinewidth\": 0, \"ticks\": \"\"}, \"type\": \"contourcarpet\"}], \"heatmap\": [{\"colorbar\": {\"outlinewidth\": 0, \"ticks\": \"\"}, \"colorscale\": [[0.0, \"#0d0887\"], [0.1111111111111111, \"#46039f\"], [0.2222222222222222, \"#7201a8\"], [0.3333333333333333, \"#9c179e\"], [0.4444444444444444, \"#bd3786\"], [0.5555555555555556, \"#d8576b\"], [0.6666666666666666, \"#ed7953\"], [0.7777777777777778, \"#fb9f3a\"], [0.8888888888888888, \"#fdca26\"], [1.0, \"#f0f921\"]], \"type\": \"heatmap\"}], \"heatmapgl\": [{\"colorbar\": {\"outlinewidth\": 0, \"ticks\": \"\"}, \"colorscale\": [[0.0, \"#0d0887\"], [0.1111111111111111, \"#46039f\"], [0.2222222222222222, \"#7201a8\"], [0.3333333333333333, \"#9c179e\"], [0.4444444444444444, \"#bd3786\"], [0.5555555555555556, \"#d8576b\"], [0.6666666666666666, \"#ed7953\"], [0.7777777777777778, \"#fb9f3a\"], [0.8888888888888888, \"#fdca26\"], [1.0, \"#f0f921\"]], \"type\": \"heatmapgl\"}], \"histogram\": [{\"marker\": {\"colorbar\": {\"outlinewidth\": 0, \"ticks\": \"\"}}, \"type\": \"histogram\"}], \"histogram2d\": [{\"colorbar\": {\"outlinewidth\": 0, \"ticks\": \"\"}, \"colorscale\": [[0.0, \"#0d0887\"], [0.1111111111111111, \"#46039f\"], [0.2222222222222222, \"#7201a8\"], [0.3333333333333333, \"#9c179e\"], [0.4444444444444444, \"#bd3786\"], [0.5555555555555556, \"#d8576b\"], [0.6666666666666666, \"#ed7953\"], [0.7777777777777778, \"#fb9f3a\"], [0.8888888888888888, \"#fdca26\"], [1.0, \"#f0f921\"]], \"type\": \"histogram2d\"}], \"histogram2dcontour\": [{\"colorbar\": {\"outlinewidth\": 0, \"ticks\": \"\"}, \"colorscale\": [[0.0, \"#0d0887\"], [0.1111111111111111, \"#46039f\"], [0.2222222222222222, \"#7201a8\"], [0.3333333333333333, \"#9c179e\"], [0.4444444444444444, \"#bd3786\"], [0.5555555555555556, \"#d8576b\"], [0.6666666666666666, \"#ed7953\"], [0.7777777777777778, \"#fb9f3a\"], [0.8888888888888888, \"#fdca26\"], [1.0, \"#f0f921\"]], \"type\": \"histogram2dcontour\"}], \"mesh3d\": [{\"colorbar\": {\"outlinewidth\": 0, \"ticks\": \"\"}, \"type\": \"mesh3d\"}], \"parcoords\": [{\"line\": {\"colorbar\": {\"outlinewidth\": 0, \"ticks\": \"\"}}, \"type\": \"parcoords\"}], \"pie\": [{\"automargin\": true, \"type\": \"pie\"}], \"scatter\": [{\"marker\": {\"colorbar\": {\"outlinewidth\": 0, \"ticks\": \"\"}}, \"type\": \"scatter\"}], \"scatter3d\": [{\"line\": {\"colorbar\": {\"outlinewidth\": 0, \"ticks\": \"\"}}, \"marker\": {\"colorbar\": {\"outlinewidth\": 0, \"ticks\": \"\"}}, \"type\": \"scatter3d\"}], \"scattercarpet\": [{\"marker\": {\"colorbar\": {\"outlinewidth\": 0, \"ticks\": \"\"}}, \"type\": \"scattercarpet\"}], \"scattergeo\": [{\"marker\": {\"colorbar\": {\"outlinewidth\": 0, \"ticks\": \"\"}}, \"type\": \"scattergeo\"}], \"scattergl\": [{\"marker\": {\"colorbar\": {\"outlinewidth\": 0, \"ticks\": \"\"}}, \"type\": \"scattergl\"}], \"scattermapbox\": [{\"marker\": {\"colorbar\": {\"outlinewidth\": 0, \"ticks\": \"\"}}, \"type\": \"scattermapbox\"}], \"scatterpolar\": [{\"marker\": {\"colorbar\": {\"outlinewidth\": 0, \"ticks\": \"\"}}, \"type\": \"scatterpolar\"}], \"scatterpolargl\": [{\"marker\": {\"colorbar\": {\"outlinewidth\": 0, \"ticks\": \"\"}}, \"type\": \"scatterpolargl\"}], \"scatterternary\": [{\"marker\": {\"colorbar\": {\"outlinewidth\": 0, \"ticks\": \"\"}}, \"type\": \"scatterternary\"}], \"surface\": [{\"colorbar\": {\"outlinewidth\": 0, \"ticks\": \"\"}, \"colorscale\": [[0.0, \"#0d0887\"], [0.1111111111111111, \"#46039f\"], [0.2222222222222222, \"#7201a8\"], [0.3333333333333333, \"#9c179e\"], [0.4444444444444444, \"#bd3786\"], [0.5555555555555556, \"#d8576b\"], [0.6666666666666666, \"#ed7953\"], [0.7777777777777778, \"#fb9f3a\"], [0.8888888888888888, \"#fdca26\"], [1.0, \"#f0f921\"]], \"type\": \"surface\"}], \"table\": [{\"cells\": {\"fill\": {\"color\": \"#EBF0F8\"}, \"line\": {\"color\": \"white\"}}, \"header\": {\"fill\": {\"color\": \"#C8D4E3\"}, \"line\": {\"color\": \"white\"}}, \"type\": \"table\"}]}, \"layout\": {\"annotationdefaults\": {\"arrowcolor\": \"#2a3f5f\", \"arrowhead\": 0, \"arrowwidth\": 1}, \"coloraxis\": {\"colorbar\": {\"outlinewidth\": 0, \"ticks\": \"\"}}, \"colorscale\": {\"diverging\": [[0, \"#8e0152\"], [0.1, \"#c51b7d\"], [0.2, \"#de77ae\"], [0.3, \"#f1b6da\"], [0.4, \"#fde0ef\"], [0.5, \"#f7f7f7\"], [0.6, \"#e6f5d0\"], [0.7, \"#b8e186\"], [0.8, \"#7fbc41\"], [0.9, \"#4d9221\"], [1, \"#276419\"]], \"sequential\": [[0.0, \"#0d0887\"], [0.1111111111111111, \"#46039f\"], [0.2222222222222222, \"#7201a8\"], [0.3333333333333333, \"#9c179e\"], [0.4444444444444444, \"#bd3786\"], [0.5555555555555556, \"#d8576b\"], [0.6666666666666666, \"#ed7953\"], [0.7777777777777778, \"#fb9f3a\"], [0.8888888888888888, \"#fdca26\"], [1.0, \"#f0f921\"]], \"sequentialminus\": [[0.0, \"#0d0887\"], [0.1111111111111111, \"#46039f\"], [0.2222222222222222, \"#7201a8\"], [0.3333333333333333, \"#9c179e\"], [0.4444444444444444, \"#bd3786\"], [0.5555555555555556, \"#d8576b\"], [0.6666666666666666, \"#ed7953\"], [0.7777777777777778, \"#fb9f3a\"], [0.8888888888888888, \"#fdca26\"], [1.0, \"#f0f921\"]]}, \"colorway\": [\"#636efa\", \"#EF553B\", \"#00cc96\", \"#ab63fa\", \"#FFA15A\", \"#19d3f3\", \"#FF6692\", \"#B6E880\", \"#FF97FF\", \"#FECB52\"], \"font\": {\"color\": \"#2a3f5f\"}, \"geo\": {\"bgcolor\": \"white\", \"lakecolor\": \"white\", \"landcolor\": \"#E5ECF6\", \"showlakes\": true, \"showland\": true, \"subunitcolor\": \"white\"}, \"hoverlabel\": {\"align\": \"left\"}, \"hovermode\": \"closest\", \"mapbox\": {\"style\": \"light\"}, \"paper_bgcolor\": \"white\", \"plot_bgcolor\": \"#E5ECF6\", \"polar\": {\"angularaxis\": {\"gridcolor\": \"white\", \"linecolor\": \"white\", \"ticks\": \"\"}, \"bgcolor\": \"#E5ECF6\", \"radialaxis\": {\"gridcolor\": \"white\", \"linecolor\": \"white\", \"ticks\": \"\"}}, \"scene\": {\"xaxis\": {\"backgroundcolor\": \"#E5ECF6\", \"gridcolor\": \"white\", \"gridwidth\": 2, \"linecolor\": \"white\", \"showbackground\": true, \"ticks\": \"\", \"zerolinecolor\": \"white\"}, \"yaxis\": {\"backgroundcolor\": \"#E5ECF6\", \"gridcolor\": \"white\", \"gridwidth\": 2, \"linecolor\": \"white\", \"showbackground\": true, \"ticks\": \"\", \"zerolinecolor\": \"white\"}, \"zaxis\": {\"backgroundcolor\": \"#E5ECF6\", \"gridcolor\": \"white\", \"gridwidth\": 2, \"linecolor\": \"white\", \"showbackground\": true, \"ticks\": \"\", \"zerolinecolor\": \"white\"}}, \"shapedefaults\": {\"line\": {\"color\": \"#2a3f5f\"}}, \"ternary\": {\"aaxis\": {\"gridcolor\": \"white\", \"linecolor\": \"white\", \"ticks\": \"\"}, \"baxis\": {\"gridcolor\": \"white\", \"linecolor\": \"white\", \"ticks\": \"\"}, \"bgcolor\": \"#E5ECF6\", \"caxis\": {\"gridcolor\": \"white\", \"linecolor\": \"white\", \"ticks\": \"\"}}, \"title\": {\"x\": 0.05}, \"xaxis\": {\"automargin\": true, \"gridcolor\": \"white\", \"linecolor\": \"white\", \"ticks\": \"\", \"title\": {\"standoff\": 15}, \"zerolinecolor\": \"white\", \"zerolinewidth\": 2}, \"yaxis\": {\"automargin\": true, \"gridcolor\": \"white\", \"linecolor\": \"white\", \"ticks\": \"\", \"title\": {\"standoff\": 15}, \"zerolinecolor\": \"white\", \"zerolinewidth\": 2}}}, \"title\": {\"text\": \"Parameter Tunings Mean Absolute Percentage Error: Multivariate Confirmed Deaths\", \"x\": 0.5}, \"width\": 1200},\n",
              "                        {\"responsive\": true}\n",
              "                    ).then(function(){\n",
              "                            \n",
              "var gd = document.getElementById('87b53fff-e16c-43f2-a5cd-56cc32309a21');\n",
              "var x = new MutationObserver(function (mutations, observer) {{\n",
              "        var display = window.getComputedStyle(gd).display;\n",
              "        if (!display || display === 'none') {{\n",
              "            console.log([gd, 'removed!']);\n",
              "            Plotly.purge(gd);\n",
              "            observer.disconnect();\n",
              "        }}\n",
              "}});\n",
              "\n",
              "// Listen for the removal of the full notebook cells\n",
              "var notebookContainer = gd.closest('#notebook-container');\n",
              "if (notebookContainer) {{\n",
              "    x.observe(notebookContainer, {childList: true});\n",
              "}}\n",
              "\n",
              "// Listen for the clearing of the current output cell\n",
              "var outputEl = gd.closest('.output');\n",
              "if (outputEl) {{\n",
              "    x.observe(outputEl, {childList: true});\n",
              "}}\n",
              "\n",
              "                        })\n",
              "                };\n",
              "                \n",
              "            </script>\n",
              "        </div>\n",
              "</body>\n",
              "</html>"
            ]
          },
          "metadata": {}
        }
      ]
    },
    {
      "cell_type": "markdown",
      "metadata": {
        "id": "JtnJ-yNWquLH"
      },
      "source": [
        "## Training and Validation: Walking\n",
        "\n",
        "---\n",
        "\n",
        "After models were selected, using the training data set, we adjusted and trained the models to get the prediction with the lowest MAPE. We, then, used test samples for model validations and combined predicted values from both training and test sets together. This was only for illustration purpose.\n"
      ]
    },
    {
      "cell_type": "markdown",
      "metadata": {
        "id": "lBCXwIciquLI"
      },
      "source": [
        "### Multivariate Confirmed Cases"
      ]
    },
    {
      "cell_type": "code",
      "metadata": {
        "colab": {
          "base_uri": "https://localhost:8080/"
        },
        "id": "tvUcdiCLquLI",
        "outputId": "289e4452-98d1-4167-9354-b5be85e522dd"
      },
      "source": [
        "seed(1)\n",
        "tensorflow.random.set_seed(1)\n",
        "\n",
        "# model_multi_wk_i = Sequential()\n",
        "# model_multi_wk_i.add(Conv1D(filters = 1024, kernel_size = 5, activation='relu', input_shape=(X_i_tr.shape[1], X_i_tr.shape[2])))\n",
        "# # model_multi_wk_i.add(MaxPooling1D(pool_size = 2))\n",
        "# model_multi_wk_i.add(Flatten())\n",
        "# # model_multi_wk_i.add(Dense(64, activation = \"relu\"))\n",
        "# model_multi_wk_i.add(Dense(1, activation = \"linear\"))\n",
        "# model_multi_wk_i.compile(loss='mse', optimizer='adam', metrics = \"MAPE\")\n",
        "\n",
        "model_multi_wk_i = Sequential()\n",
        "model_multi_wk_i.add(LSTM(32, activation='relu', input_shape=(X_i_tr_wk.shape[1], X_i_tr_wk.shape[2])))\n",
        "# model_multi_wk_i.add(Dense(2, activation = \"relu\"))\n",
        "model_multi_wk_i.add(Dense(1, activation = \"linear\"))\n",
        "model_multi_wk_i.compile(loss='mse', optimizer='adam', metrics = \"MAPE\")\n",
        "\n",
        "# fit network\n",
        "model_multi_wk_i.fit(X_i_tr_wk, y_i_tr, \n",
        "                           epochs=50, \n",
        "                           batch_size=1, \n",
        "                           verbose=0, \n",
        "                           shuffle=False)\n",
        "\n",
        "\n",
        "scores_multi_wk_i1 = model_multi_wk_i.evaluate(X_i_tr_wk, y_i_tr, verbose=0)\n",
        "\n",
        "# MAPE\n",
        "print(\"MAPE: training = \",scores_multi_wk_i1[1])\n",
        "\n",
        "scores_multi_wk_i = model_multi_wk_i.evaluate(X_i_ts_wk, y_i_ts, verbose=0)\n",
        "\n",
        "# MAPE\n",
        "print(\"MAPE: test = \",scores_multi_wk_i[1])"
      ],
      "execution_count": 171,
      "outputs": [
        {
          "output_type": "stream",
          "name": "stdout",
          "text": [
            "MAPE: training =  4.531622409820557\n",
            "MAPE: test =  49.939945220947266\n"
          ]
        }
      ]
    },
    {
      "cell_type": "code",
      "metadata": {
        "id": "0AvJ_Z_bquLI"
      },
      "source": [
        "# make a prediction\n",
        "# training set\n",
        "y_multi_wk_i_tr = pd.DataFrame(model_multi_wk_i.predict(X_i_tr_wk))\n",
        "\n",
        "# test set\n",
        "y_multi_wk_i_ts = pd.DataFrame(model_multi_wk_i.predict(X_i_ts_wk))\n",
        "\n",
        "# combine training and test predictions\n",
        "y_multi_wk_i_total = pd.concat([y_multi_wk_i_tr, y_multi_wk_i_ts], ignore_index=True)\n"
      ],
      "execution_count": 172,
      "outputs": []
    },
    {
      "cell_type": "markdown",
      "metadata": {
        "id": "wgHbs3RPquLI"
      },
      "source": [
        "### Multivariate Confirmed Deaths"
      ]
    },
    {
      "cell_type": "code",
      "metadata": {
        "colab": {
          "base_uri": "https://localhost:8080/"
        },
        "id": "WsAIBKuKquLJ",
        "outputId": "2b3d5fc4-7558-4999-cc41-d92e2dae366a"
      },
      "source": [
        "seed(1)\n",
        "tensorflow.random.set_seed(1)\n",
        "\n",
        "model_multi_wk_d = Sequential()\n",
        "model_multi_wk_d.add(GRU(256, activation = 'relu', input_shape=(X_d_tr_wk.shape[1], X_d_tr_wk.shape[2])))\n",
        "# model_multi_wk_d.add(Dense(2, activation = \"relu\"))\n",
        "model_multi_wk_d.add(Dense(1, activation = \"linear\"))\n",
        "model_multi_wk_d.compile(loss='mse', optimizer='adam', metrics = \"MAPE\")\n",
        "\n",
        "# model_multi_wk_d = Sequential()\n",
        "# model_multi_wk_d.add(Conv1D(1024, kernel_size = 3, activation = 'relu', input_shape=(X_d_tr.shape[1], X_d_tr.shape[2])))\n",
        "# model_multi_wk_d.add(MaxPooling1D(3))\n",
        "# model_multi_wk_d.add(Flatten())\n",
        "# # model_multi_wk_d.add(Dense(4, activation = \"relu\"))\n",
        "# model_multi_wk_d.add(Dense(1, activation = \"linear\"))\n",
        "# model_multi_wk_d.compile(loss='mse', optimizer='adam', metrics = \"MAPE\")\n",
        "\n",
        "# fit network\n",
        "model_multi_wk_d.fit(X_d_tr_wk, y_d_tr, \n",
        "                           epochs=50, \n",
        "                           batch_size=1, \n",
        "                           verbose=0, \n",
        "                           shuffle=False)\n",
        "\n",
        "scores_multi_wk_d1 = model_multi_wk_d.evaluate(X_d_tr_wk, y_d_tr, verbose=0)\n",
        "\n",
        "# MAPE\n",
        "print(\"MAPE: training = \",scores_multi_wk_d1[1])\n",
        "\n",
        "scores_multi_wk_d = model_multi_wk_d.evaluate(X_d_ts_wk, y_d_ts, verbose=0)\n",
        "\n",
        "# MAPE\n",
        "print(\"MAPE: test = \",scores_multi_wk_d[1])"
      ],
      "execution_count": 173,
      "outputs": [
        {
          "output_type": "stream",
          "name": "stdout",
          "text": [
            "MAPE: training =  5.8008809089660645\n",
            "MAPE: test =  42.581058502197266\n"
          ]
        }
      ]
    },
    {
      "cell_type": "code",
      "metadata": {
        "id": "ExA4P_vLquLJ"
      },
      "source": [
        "# make a prediction\n",
        "# training set\n",
        "y_multi_wk_d_tr = pd.DataFrame(model_multi_wk_d.predict(X_d_tr_wk))\n",
        "\n",
        "# test set\n",
        "y_multi_wk_d_ts = pd.DataFrame(model_multi_wk_d.predict(X_d_ts_wk))\n",
        "\n",
        "# combine training and test predictions\n",
        "y_multi_wk_d_total = pd.concat([y_multi_wk_d_tr, y_multi_wk_d_ts], ignore_index=True)\n"
      ],
      "execution_count": 174,
      "outputs": []
    },
    {
      "cell_type": "code",
      "metadata": {
        "id": "9OYpC6CWquLJ"
      },
      "source": [
        "\n",
        "multi_in = \"LSTM\"\n",
        "multi_de = \"GRU\"\n",
        "tick_spacing = 5\n",
        "date_test = data['Date'][0+index+lag-1]"
      ],
      "execution_count": 175,
      "outputs": []
    },
    {
      "cell_type": "markdown",
      "metadata": {
        "id": "P4F5VjlZquLJ"
      },
      "source": [
        "### Plots"
      ]
    },
    {
      "cell_type": "code",
      "metadata": {
        "colab": {
          "base_uri": "https://localhost:8080/",
          "height": 333
        },
        "id": "Ws5qfZWtquLJ",
        "outputId": "4c305ad2-72b7-46f1-9657-e2f2cfb244e8"
      },
      "source": [
        "infect = pd.concat([y_multi_wk_i_total,\n",
        "                   data.Cases_daily.iloc[lag:].reset_index(drop = True), \n",
        "                   data.Date.iloc[lag:].reset_index(drop = True)],\n",
        "                   axis=1)\n",
        "infect.columns = ['multi_i', 'actual', 'Date']\n",
        "\n",
        "infect.dropna(subset = ['multi_i', 'actual', 'Date'], inplace=True)\n",
        "\n",
        "\n",
        "plt.plot(infect['Date'],infect['multi_i'], label = \"Predicted\")\n",
        "plt.plot(infect['Date'],infect['actual'], label = \"Actual\")\n",
        "plt.legend(frameon=False, loc='upper center', ncol = 2, fontsize = 'x-large')\n",
        "plt.title(\"Apple: Walking Predicts Confirmed Cases\", fontsize = 'xx-large')\n",
        "plt.tick_params('x',labelrotation=90)\n",
        "plt.axvline(date_test, color=\"gray\", linestyle=\"--\")\n",
        "plt.grid(True, which='both', alpha=0.3)"
      ],
      "execution_count": 176,
      "outputs": [
        {
          "output_type": "display_data",
          "data": {
            "image/png": "[encoded data removed]",
            "text/plain": [
              "<Figure size 432x288 with 1 Axes>"
            ]
          },
          "metadata": {
            "needs_background": "light"
          }
        }
      ]
    },
    {
      "cell_type": "code",
      "metadata": {
        "colab": {
          "base_uri": "https://localhost:8080/",
          "height": 333
        },
        "id": "gWQMODRdquLK",
        "outputId": "523027c7-ea2b-4643-ea0b-46a9a7297883"
      },
      "source": [
        "death = pd.concat([y_multi_wk_d_total,\n",
        "                   data.Deaths_daily.iloc[lag:].reset_index(drop = True), \n",
        "                   data.Date.iloc[lag:].reset_index(drop = True)],\n",
        "                  axis=1)\n",
        "death.columns = ['multi_d', 'actual', 'Date']\n",
        "\n",
        "death.dropna(subset = ['multi_d', 'actual', 'Date'], inplace=True)\n",
        "\n",
        "\n",
        "plt.plot(death['Date'],death['multi_d'], label = \"Predicted\")\n",
        "plt.plot(death['Date'],death['actual'], label = \"Actual\")\n",
        "plt.legend(frameon=False, loc='upper center', ncol = 2, fontsize = 'x-large')\n",
        "plt.title(\"Apple: Walking Predicts Confirmed Deaths\", fontsize = 'xx-large')\n",
        "plt.tick_params('x',labelrotation=90)\n",
        "plt.axvline(date_test, color=\"gray\", linestyle=\"--\")\n",
        "plt.grid(True, which='both', alpha=0.3)\n"
      ],
      "execution_count": 177,
      "outputs": [
        {
          "output_type": "display_data",
          "data": {
            "image/png": "[encoded data removed]",
            "text/plain": [
              "<Figure size 432x288 with 1 Axes>"
            ]
          },
          "metadata": {
            "needs_background": "light"
          }
        }
      ]
    },
    {
      "cell_type": "markdown",
      "metadata": {
        "id": "zxURpMEzquLK"
      },
      "source": [
        "### Result Table"
      ]
    },
    {
      "cell_type": "code",
      "metadata": {
        "colab": {
          "base_uri": "https://localhost:8080/",
          "height": 542
        },
        "id": "Qj5fsuSmquLK",
        "outputId": "2478e817-36e4-469d-e514-ab3635d466d4"
      },
      "source": [
        "fig = go.Figure(data=[go.Table(header=dict(values=['Model Type', 'Best Model', 'Training', 'Test'],\n",
        "                                           line_color = 'gray'),\n",
        "                               cells=dict(values=[['Multivariate: Confirmed Cases',\n",
        "                                                   'Multivariate: Confirmed Deaths'],\n",
        "                                                  [multi_in, multi_de],\n",
        "                                    [round(scores_multi_wk_i1[1],3), round(scores_multi_wk_d1[1],3)],\n",
        "                                    [round(scores_multi_wk_i[1],3), round(scores_multi_wk_d[1],3)]],\n",
        "                            align=['left','center', 'center', 'center'],\n",
        "                            fill_color = 'white',\n",
        "                            line_color = 'gray'))\n",
        "                     ])\n",
        "fig.update_layout(title = \"Mean Absolute Percentage Error\",title_x=0.5)\n",
        "fig.show()"
      ],
      "execution_count": 178,
      "outputs": [
        {
          "output_type": "display_data",
          "data": {
            "text/html": [
              "<html>\n",
              "<head><meta charset=\"utf-8\" /></head>\n",
              "<body>\n",
              "    <div>\n",
              "            <script src=\"https://cdnjs.cloudflare.com/ajax/libs/mathjax/2.7.5/MathJax.js?config=TeX-AMS-MML_SVG\"></script><script type=\"text/javascript\">if (window.MathJax) {MathJax.Hub.Config({SVG: {font: \"STIX-Web\"}});}</script>\n",
              "                <script type=\"text/javascript\">window.PlotlyConfig = {MathJaxConfig: 'local'};</script>\n",
              "        <script src=\"https://cdn.plot.ly/plotly-latest.min.js\"></script>    \n",
              "            <div id=\"ee544c32-8691-42ae-9c6d-25113adad1b1\" class=\"plotly-graph-div\" style=\"height:525px; width:100%;\"></div>\n",
              "            <script type=\"text/javascript\">\n",
              "                \n",
              "                    window.PLOTLYENV=window.PLOTLYENV || {};\n",
              "                    \n",
              "                if (document.getElementById(\"ee544c32-8691-42ae-9c6d-25113adad1b1\")) {\n",
              "                    Plotly.newPlot(\n",
              "                        'ee544c32-8691-42ae-9c6d-25113adad1b1',\n",
              "                        [{\"cells\": {\"align\": [\"left\", \"center\", \"center\", \"center\"], \"fill\": {\"color\": \"white\"}, \"line\": {\"color\": \"gray\"}, \"values\": [[\"Multivariate: Confirmed Cases\", \"Multivariate: Confirmed Deaths\"], [\"LSTM\", \"GRU\"], [4.532, 5.801], [49.94, 42.581]]}, \"header\": {\"line\": {\"color\": \"gray\"}, \"values\": [\"Model Type\", \"Best Model\", \"Training\", \"Test\"]}, \"type\": \"table\"}],\n",
              "                        {\"template\": {\"data\": {\"bar\": [{\"error_x\": {\"color\": \"#2a3f5f\"}, \"error_y\": {\"color\": \"#2a3f5f\"}, \"marker\": {\"line\": {\"color\": \"#E5ECF6\", \"width\": 0.5}}, \"type\": \"bar\"}], \"barpolar\": [{\"marker\": {\"line\": {\"color\": \"#E5ECF6\", \"width\": 0.5}}, \"type\": \"barpolar\"}], \"carpet\": [{\"aaxis\": {\"endlinecolor\": \"#2a3f5f\", \"gridcolor\": \"white\", \"linecolor\": \"white\", \"minorgridcolor\": \"white\", \"startlinecolor\": \"#2a3f5f\"}, \"baxis\": {\"endlinecolor\": \"#2a3f5f\", \"gridcolor\": \"white\", \"linecolor\": \"white\", \"minorgridcolor\": \"white\", \"startlinecolor\": \"#2a3f5f\"}, \"type\": \"carpet\"}], \"choropleth\": [{\"colorbar\": {\"outlinewidth\": 0, \"ticks\": \"\"}, \"type\": \"choropleth\"}], \"contour\": [{\"colorbar\": {\"outlinewidth\": 0, \"ticks\": \"\"}, \"colorscale\": [[0.0, \"#0d0887\"], [0.1111111111111111, \"#46039f\"], [0.2222222222222222, \"#7201a8\"], [0.3333333333333333, \"#9c179e\"], [0.4444444444444444, \"#bd3786\"], [0.5555555555555556, \"#d8576b\"], [0.6666666666666666, \"#ed7953\"], [0.7777777777777778, \"#fb9f3a\"], [0.8888888888888888, \"#fdca26\"], [1.0, \"#f0f921\"]], \"type\": \"contour\"}], \"contourcarpet\": [{\"colorbar\": {\"outlinewidth\": 0, \"ticks\": \"\"}, \"type\": \"contourcarpet\"}], \"heatmap\": [{\"colorbar\": {\"outlinewidth\": 0, \"ticks\": \"\"}, \"colorscale\": [[0.0, \"#0d0887\"], [0.1111111111111111, \"#46039f\"], [0.2222222222222222, \"#7201a8\"], [0.3333333333333333, \"#9c179e\"], [0.4444444444444444, \"#bd3786\"], [0.5555555555555556, \"#d8576b\"], [0.6666666666666666, \"#ed7953\"], [0.7777777777777778, \"#fb9f3a\"], [0.8888888888888888, \"#fdca26\"], [1.0, \"#f0f921\"]], \"type\": \"heatmap\"}], \"heatmapgl\": [{\"colorbar\": {\"outlinewidth\": 0, \"ticks\": \"\"}, \"colorscale\": [[0.0, \"#0d0887\"], [0.1111111111111111, \"#46039f\"], [0.2222222222222222, \"#7201a8\"], [0.3333333333333333, \"#9c179e\"], [0.4444444444444444, \"#bd3786\"], [0.5555555555555556, \"#d8576b\"], [0.6666666666666666, \"#ed7953\"], [0.7777777777777778, \"#fb9f3a\"], [0.8888888888888888, \"#fdca26\"], [1.0, \"#f0f921\"]], \"type\": \"heatmapgl\"}], \"histogram\": [{\"marker\": {\"colorbar\": {\"outlinewidth\": 0, \"ticks\": \"\"}}, \"type\": \"histogram\"}], \"histogram2d\": [{\"colorbar\": {\"outlinewidth\": 0, \"ticks\": \"\"}, \"colorscale\": [[0.0, \"#0d0887\"], [0.1111111111111111, \"#46039f\"], [0.2222222222222222, \"#7201a8\"], [0.3333333333333333, \"#9c179e\"], [0.4444444444444444, \"#bd3786\"], [0.5555555555555556, \"#d8576b\"], [0.6666666666666666, \"#ed7953\"], [0.7777777777777778, \"#fb9f3a\"], [0.8888888888888888, \"#fdca26\"], [1.0, \"#f0f921\"]], \"type\": \"histogram2d\"}], \"histogram2dcontour\": [{\"colorbar\": {\"outlinewidth\": 0, \"ticks\": \"\"}, \"colorscale\": [[0.0, \"#0d0887\"], [0.1111111111111111, \"#46039f\"], [0.2222222222222222, \"#7201a8\"], [0.3333333333333333, \"#9c179e\"], [0.4444444444444444, \"#bd3786\"], [0.5555555555555556, \"#d8576b\"], [0.6666666666666666, \"#ed7953\"], [0.7777777777777778, \"#fb9f3a\"], [0.8888888888888888, \"#fdca26\"], [1.0, \"#f0f921\"]], \"type\": \"histogram2dcontour\"}], \"mesh3d\": [{\"colorbar\": {\"outlinewidth\": 0, \"ticks\": \"\"}, \"type\": \"mesh3d\"}], \"parcoords\": [{\"line\": {\"colorbar\": {\"outlinewidth\": 0, \"ticks\": \"\"}}, \"type\": \"parcoords\"}], \"pie\": [{\"automargin\": true, \"type\": \"pie\"}], \"scatter\": [{\"marker\": {\"colorbar\": {\"outlinewidth\": 0, \"ticks\": \"\"}}, \"type\": \"scatter\"}], \"scatter3d\": [{\"line\": {\"colorbar\": {\"outlinewidth\": 0, \"ticks\": \"\"}}, \"marker\": {\"colorbar\": {\"outlinewidth\": 0, \"ticks\": \"\"}}, \"type\": \"scatter3d\"}], \"scattercarpet\": [{\"marker\": {\"colorbar\": {\"outlinewidth\": 0, \"ticks\": \"\"}}, \"type\": \"scattercarpet\"}], \"scattergeo\": [{\"marker\": {\"colorbar\": {\"outlinewidth\": 0, \"ticks\": \"\"}}, \"type\": \"scattergeo\"}], \"scattergl\": [{\"marker\": {\"colorbar\": {\"outlinewidth\": 0, \"ticks\": \"\"}}, \"type\": \"scattergl\"}], \"scattermapbox\": [{\"marker\": {\"colorbar\": {\"outlinewidth\": 0, \"ticks\": \"\"}}, \"type\": \"scattermapbox\"}], \"scatterpolar\": [{\"marker\": {\"colorbar\": {\"outlinewidth\": 0, \"ticks\": \"\"}}, \"type\": \"scatterpolar\"}], \"scatterpolargl\": [{\"marker\": {\"colorbar\": {\"outlinewidth\": 0, \"ticks\": \"\"}}, \"type\": \"scatterpolargl\"}], \"scatterternary\": [{\"marker\": {\"colorbar\": {\"outlinewidth\": 0, \"ticks\": \"\"}}, \"type\": \"scatterternary\"}], \"surface\": [{\"colorbar\": {\"outlinewidth\": 0, \"ticks\": \"\"}, \"colorscale\": [[0.0, \"#0d0887\"], [0.1111111111111111, \"#46039f\"], [0.2222222222222222, \"#7201a8\"], [0.3333333333333333, \"#9c179e\"], [0.4444444444444444, \"#bd3786\"], [0.5555555555555556, \"#d8576b\"], [0.6666666666666666, \"#ed7953\"], [0.7777777777777778, \"#fb9f3a\"], [0.8888888888888888, \"#fdca26\"], [1.0, \"#f0f921\"]], \"type\": \"surface\"}], \"table\": [{\"cells\": {\"fill\": {\"color\": \"#EBF0F8\"}, \"line\": {\"color\": \"white\"}}, \"header\": {\"fill\": {\"color\": \"#C8D4E3\"}, \"line\": {\"color\": \"white\"}}, \"type\": \"table\"}]}, \"layout\": {\"annotationdefaults\": {\"arrowcolor\": \"#2a3f5f\", \"arrowhead\": 0, \"arrowwidth\": 1}, \"coloraxis\": {\"colorbar\": {\"outlinewidth\": 0, \"ticks\": \"\"}}, \"colorscale\": {\"diverging\": [[0, \"#8e0152\"], [0.1, \"#c51b7d\"], [0.2, \"#de77ae\"], [0.3, \"#f1b6da\"], [0.4, \"#fde0ef\"], [0.5, \"#f7f7f7\"], [0.6, \"#e6f5d0\"], [0.7, \"#b8e186\"], [0.8, \"#7fbc41\"], [0.9, \"#4d9221\"], [1, \"#276419\"]], \"sequential\": [[0.0, \"#0d0887\"], [0.1111111111111111, \"#46039f\"], [0.2222222222222222, \"#7201a8\"], [0.3333333333333333, \"#9c179e\"], [0.4444444444444444, \"#bd3786\"], [0.5555555555555556, \"#d8576b\"], [0.6666666666666666, \"#ed7953\"], [0.7777777777777778, \"#fb9f3a\"], [0.8888888888888888, \"#fdca26\"], [1.0, \"#f0f921\"]], \"sequentialminus\": [[0.0, \"#0d0887\"], [0.1111111111111111, \"#46039f\"], [0.2222222222222222, \"#7201a8\"], [0.3333333333333333, \"#9c179e\"], [0.4444444444444444, \"#bd3786\"], [0.5555555555555556, \"#d8576b\"], [0.6666666666666666, \"#ed7953\"], [0.7777777777777778, \"#fb9f3a\"], [0.8888888888888888, \"#fdca26\"], [1.0, \"#f0f921\"]]}, \"colorway\": [\"#636efa\", \"#EF553B\", \"#00cc96\", \"#ab63fa\", \"#FFA15A\", \"#19d3f3\", \"#FF6692\", \"#B6E880\", \"#FF97FF\", \"#FECB52\"], \"font\": {\"color\": \"#2a3f5f\"}, \"geo\": {\"bgcolor\": \"white\", \"lakecolor\": \"white\", \"landcolor\": \"#E5ECF6\", \"showlakes\": true, \"showland\": true, \"subunitcolor\": \"white\"}, \"hoverlabel\": {\"align\": \"left\"}, \"hovermode\": \"closest\", \"mapbox\": {\"style\": \"light\"}, \"paper_bgcolor\": \"white\", \"plot_bgcolor\": \"#E5ECF6\", \"polar\": {\"angularaxis\": {\"gridcolor\": \"white\", \"linecolor\": \"white\", \"ticks\": \"\"}, \"bgcolor\": \"#E5ECF6\", \"radialaxis\": {\"gridcolor\": \"white\", \"linecolor\": \"white\", \"ticks\": \"\"}}, \"scene\": {\"xaxis\": {\"backgroundcolor\": \"#E5ECF6\", \"gridcolor\": \"white\", \"gridwidth\": 2, \"linecolor\": \"white\", \"showbackground\": true, \"ticks\": \"\", \"zerolinecolor\": \"white\"}, \"yaxis\": {\"backgroundcolor\": \"#E5ECF6\", \"gridcolor\": \"white\", \"gridwidth\": 2, \"linecolor\": \"white\", \"showbackground\": true, \"ticks\": \"\", \"zerolinecolor\": \"white\"}, \"zaxis\": {\"backgroundcolor\": \"#E5ECF6\", \"gridcolor\": \"white\", \"gridwidth\": 2, \"linecolor\": \"white\", \"showbackground\": true, \"ticks\": \"\", \"zerolinecolor\": \"white\"}}, \"shapedefaults\": {\"line\": {\"color\": \"#2a3f5f\"}}, \"ternary\": {\"aaxis\": {\"gridcolor\": \"white\", \"linecolor\": \"white\", \"ticks\": \"\"}, \"baxis\": {\"gridcolor\": \"white\", \"linecolor\": \"white\", \"ticks\": \"\"}, \"bgcolor\": \"#E5ECF6\", \"caxis\": {\"gridcolor\": \"white\", \"linecolor\": \"white\", \"ticks\": \"\"}}, \"title\": {\"x\": 0.05}, \"xaxis\": {\"automargin\": true, \"gridcolor\": \"white\", \"linecolor\": \"white\", \"ticks\": \"\", \"title\": {\"standoff\": 15}, \"zerolinecolor\": \"white\", \"zerolinewidth\": 2}, \"yaxis\": {\"automargin\": true, \"gridcolor\": \"white\", \"linecolor\": \"white\", \"ticks\": \"\", \"title\": {\"standoff\": 15}, \"zerolinecolor\": \"white\", \"zerolinewidth\": 2}}}, \"title\": {\"text\": \"Mean Absolute Percentage Error\", \"x\": 0.5}},\n",
              "                        {\"responsive\": true}\n",
              "                    ).then(function(){\n",
              "                            \n",
              "var gd = document.getElementById('ee544c32-8691-42ae-9c6d-25113adad1b1');\n",
              "var x = new MutationObserver(function (mutations, observer) {{\n",
              "        var display = window.getComputedStyle(gd).display;\n",
              "        if (!display || display === 'none') {{\n",
              "            console.log([gd, 'removed!']);\n",
              "            Plotly.purge(gd);\n",
              "            observer.disconnect();\n",
              "        }}\n",
              "}});\n",
              "\n",
              "// Listen for the removal of the full notebook cells\n",
              "var notebookContainer = gd.closest('#notebook-container');\n",
              "if (notebookContainer) {{\n",
              "    x.observe(notebookContainer, {childList: true});\n",
              "}}\n",
              "\n",
              "// Listen for the clearing of the current output cell\n",
              "var outputEl = gd.closest('.output');\n",
              "if (outputEl) {{\n",
              "    x.observe(outputEl, {childList: true});\n",
              "}}\n",
              "\n",
              "                        })\n",
              "                };\n",
              "                \n",
              "            </script>\n",
              "        </div>\n",
              "</body>\n",
              "</html>"
            ]
          },
          "metadata": {}
        }
      ]
    },
    {
      "cell_type": "code",
      "metadata": {
        "id": "KZsNrGzs3kRu"
      },
      "source": [
        ""
      ],
      "execution_count": null,
      "outputs": []
    }
  ]
}