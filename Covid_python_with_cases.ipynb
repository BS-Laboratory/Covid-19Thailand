{
  "nbformat": 4,
  "nbformat_minor": 0,
  "metadata": {
    "colab": {
      "name": "Covid-python - with cases",
      "provenance": [],
      "collapsed_sections": [],
      "toc_visible": true,
      "authorship_tag": "ABX9TyOXFoLSRjiYA5aZHBB+O7gq",
      "include_colab_link": true
    },
    "kernelspec": {
      "display_name": "Python 3",
      "name": "python3"
    },
    "language_info": {
      "name": "python"
    }
  },
  "cells": [
    {
      "cell_type": "markdown",
      "metadata": {
        "id": "view-in-github",
        "colab_type": "text"
      },
      "source": [
        "<a href=\"https://colab.research.google.com/github/Tanainan/Covid-19Thailand/blob/main/Covid_python_with_cases.ipynb\" target=\"_parent\"><img src=\"https://colab.research.google.com/assets/colab-badge.svg\" alt=\"Open In Colab\"/></a>"
      ]
    },
    {
      "cell_type": "markdown",
      "metadata": {
        "id": "8Ix5ZBdJGub1"
      },
      "source": [
        "## Import packages"
      ]
    },
    {
      "cell_type": "code",
      "metadata": {
        "colab": {
          "base_uri": "https://localhost:8080/"
        },
        "id": "OwNlMasL65To",
        "outputId": "57943646-5d68-4cc4-8116-5099fa7c2ce0"
      },
      "source": [
        "!pip install -U tensorflow-addons\n",
        "from numpy import array\n",
        "from numpy import hstack\n",
        "from keras.models import Sequential\n",
        "from keras.layers import LSTM\n",
        "from keras.layers import Dense, Dropout, Activation\n",
        "from keras.layers import GRU\n",
        "from keras.layers import SimpleRNN\n",
        "from keras.layers import TimeDistributed\n",
        "from keras.layers import Bidirectional\n",
        "from keras.layers.convolutional import Conv1D\n",
        "from keras.layers.convolutional import MaxPooling1D\n",
        "from tensorflow_addons.layers import InstanceNormalization, GroupNormalization\n",
        "from keras.layers import LayerNormalization\n",
        "from keras.layers import Flatten\n",
        "from pandas import read_csv\n",
        "from pandas import DataFrame\n",
        "from pandas import concat\n",
        "import pandas as pd\n",
        "import numpy as np\n",
        "from statistics import stdev\n",
        "from statistics import mean\n",
        "from matplotlib import pyplot\n",
        "from numpy.random import seed\n",
        "seed(1)\n",
        "import tensorflow\n",
        "tensorflow.random.set_seed(1)\n",
        "from matplotlib import pyplot as plt\n",
        "import datetime as dt\n",
        "import matplotlib.ticker as ticker\n",
        "import plotly.graph_objects as go\n",
        "from statsmodels.graphics.factorplots import interaction_plot\n",
        "np.set_printoptions(threshold=np.inf)\n",
        "pd.set_option('display.max_rows', None)\n",
        "import itertools\n",
        "!pip install -U scikit-learn\n",
        "from sklearn.metrics import mean_absolute_percentage_error\n"
      ],
      "execution_count": 1,
      "outputs": [
        {
          "output_type": "stream",
          "name": "stdout",
          "text": [
            "Collecting tensorflow-addons\n",
            "  Downloading tensorflow_addons-0.15.0-cp37-cp37m-manylinux_2_12_x86_64.manylinux2010_x86_64.whl (1.1 MB)\n",
            "\u001b[K     |████████████████████████████████| 1.1 MB 4.1 MB/s \n",
            "\u001b[?25hRequirement already satisfied: typeguard>=2.7 in /usr/local/lib/python3.7/dist-packages (from tensorflow-addons) (2.7.1)\n",
            "Installing collected packages: tensorflow-addons\n",
            "Successfully installed tensorflow-addons-0.15.0\n"
          ]
        },
        {
          "output_type": "stream",
          "name": "stderr",
          "text": [
            "/usr/local/lib/python3.7/dist-packages/statsmodels/tools/_testing.py:19: FutureWarning:\n",
            "\n",
            "pandas.util.testing is deprecated. Use the functions in the public API at pandas.testing instead.\n",
            "\n"
          ]
        },
        {
          "output_type": "stream",
          "name": "stdout",
          "text": [
            "Requirement already satisfied: scikit-learn in /usr/local/lib/python3.7/dist-packages (1.0.1)\n",
            "Requirement already satisfied: numpy>=1.14.6 in /usr/local/lib/python3.7/dist-packages (from scikit-learn) (1.19.5)\n",
            "Requirement already satisfied: joblib>=0.11 in /usr/local/lib/python3.7/dist-packages (from scikit-learn) (1.1.0)\n",
            "Requirement already satisfied: scipy>=1.1.0 in /usr/local/lib/python3.7/dist-packages (from scikit-learn) (1.4.1)\n",
            "Requirement already satisfied: threadpoolctl>=2.0.0 in /usr/local/lib/python3.7/dist-packages (from scikit-learn) (3.0.0)\n"
          ]
        }
      ]
    },
    {
      "cell_type": "markdown",
      "metadata": {
        "id": "JY3Wjb_5geVH"
      },
      "source": [
        "## Import data"
      ]
    },
    {
      "cell_type": "code",
      "metadata": {
        "colab": {
          "base_uri": "https://localhost:8080/"
        },
        "id": "NLqZL1TdFazQ",
        "outputId": "b3343b31-78dc-4484-b4f7-3a3414a244e5"
      },
      "source": [
        "data = read_csv(\"https://raw.githubusercontent.com/OxCGRT/covid-policy-tracker/d98db2da901d5707dc3225ee163903005e7645f3/data/OxCGRT_latest.csv\")\n",
        "\n",
        "data = pd.DataFrame(data)\n",
        "\n",
        "# select Thailand only\n",
        "data = data.loc[data['CountryName'] == \"Thailand\"]\n",
        "\n",
        "# select columns\n",
        "data = data[[\"Date\",\"ConfirmedCases\", \"ConfirmedDeaths\"]]\n",
        "\n",
        "# change date format\n",
        "data.Date =  pd.to_datetime(data[\"Date\"], format='%Y%m%d')\n",
        "\n",
        "# reset index\n",
        "data = data.reset_index(drop = True)\n",
        "\n",
        "# replace NaN with 0 for ConfirmedCases and ConfirmedDeaths (before infect found)\n",
        "data[[\"ConfirmedCases\", \"ConfirmedDeaths\"]] = data[[\"ConfirmedCases\", \"ConfirmedDeaths\"]].replace(np.nan, 0)\n",
        "\n",
        "# remove NaN rows (bottom part)\n",
        "data = data.dropna()\n",
        "\n",
        "# add daily cases columns\n",
        "data[[\"Cases_daily\"]] = data['ConfirmedCases'].rolling(window=2).apply(lambda x: x.iloc[1] - x.iloc[0])\n",
        "data[[\"Deaths_daily\"]] = data['ConfirmedDeaths'].rolling(window=2).apply(lambda x: x.iloc[1] - x.iloc[0])\n",
        "\n",
        "# # replace NaN with 0 for ConfirmedCases and Deaths_daily\n",
        "data[[\"Cases_daily\", \"Deaths_daily\"]] = data[[\"Cases_daily\", \"Deaths_daily\"]].replace(np.nan, 0)\n",
        "\n",
        "# reset index\n",
        "data = data.reset_index(drop = True)\n",
        "\n",
        "# start from 15/6/2021\n",
        "data = data[data.loc[data['Date'] == \"2021-06-15\"].index[0]:]\n",
        "\n",
        "# remove the last rows with incomplete info\n",
        "data = data.loc[~(data[[\"ConfirmedCases\"]]==0).all(axis=1)]\n",
        "\n",
        "# reset index\n",
        "data = data.reset_index(drop = True)\n",
        "\n",
        "data2 = data\n",
        "\n",
        "# drop confirmed cases and confirmed deaths\n",
        "data = data.drop(['ConfirmedCases', 'ConfirmedDeaths', 'Date'], axis=1)\n",
        "\n",
        "# data"
      ],
      "execution_count": 27,
      "outputs": [
        {
          "output_type": "stream",
          "name": "stderr",
          "text": [
            "/usr/local/lib/python3.7/dist-packages/IPython/core/interactiveshell.py:2718: DtypeWarning:\n",
            "\n",
            "Columns (2,3) have mixed types.Specify dtype option on import or set low_memory=False.\n",
            "\n"
          ]
        }
      ]
    },
    {
      "cell_type": "markdown",
      "metadata": {
        "id": "SGBoNeLdOjdy"
      },
      "source": [
        "## Data Preprocessing: Multivariate"
      ]
    },
    {
      "cell_type": "code",
      "metadata": {
        "id": "ogP6ikmAMqcl"
      },
      "source": [
        "lag = 14\n",
        "prediction = 1\n",
        "index = 30\n",
        "\n",
        "# confirmed cases\n",
        "nrow_total = data.shape[0] - lag - prediction + 1\n",
        "input_list = [np.expand_dims(data[i:lag+i], axis=0) for i in range(nrow_total)] \n",
        "X_i_p = np.concatenate(input_list, axis=0)\n",
        "\n",
        "y_i_p = np.array([data.Cases_daily[lag:data.shape[0]]])\n",
        "y_i_p = y_i_p.T # transpose the matrix\n",
        "\n",
        "# split into training and test sets\n",
        "X_i_p_tr = X_i_p[0:index+1, :, :]\n",
        "X_i_p_ts = X_i_p[index+1:data.shape[0], :, :]\n",
        "\n",
        "y_i_p_tr = y_i_p[0:index+1]\n",
        "y_i_p_ts = y_i_p[index+1:data.shape[0]]\n",
        "\n",
        "# confirmed deaths\n",
        "nrow_total = data.shape[0] - lag - prediction + 1\n",
        "input_list = [np.expand_dims(data[i:lag+i], axis=0) for i in range(nrow_total)] \n",
        "X_d_p = np.concatenate(input_list, axis=0)\n",
        "\n",
        "y_d_p = np.array([data.Deaths_daily[lag:data.shape[0]]])\n",
        "y_d_p = y_d_p.T # transpose the matrix\n",
        "\n",
        "\n",
        "# split into training and test sets\n",
        "X_d_p_tr = X_d_p[0:index+1, :, :]\n",
        "X_d_p_ts = X_d_p[index+1:data.shape[0], :, :]\n",
        "\n",
        "y_d_p_tr = y_d_p[0:index+1]\n",
        "y_d_p_ts = y_d_p[index+1:data.shape[0]]\n"
      ],
      "execution_count": 12,
      "outputs": []
    },
    {
      "cell_type": "markdown",
      "metadata": {
        "id": "eCEO9U_tX6nP"
      },
      "source": [
        "## Analysis\n",
        "\n",
        "---\n",
        "\n",
        "\n",
        "\n",
        "### Hyperparameters Tuning\n",
        "\n",
        "\n",
        "Using the training set matrices for confirmed cases and confirmed deaths and univiariate and multivariate, we tuned for the most optimal numbers of parameters, staring from basic architectures. In this case, we searched for numbers of nodes for LSTM, GRU, and RNNs, and filter, kernel size, and pool for CNN. In the input layer, we added instance normalization to make all values between 0 and 1. Since we were dealing with some data that we had never seen before and the data seemed to be non-stationary, instance normalization might provide more advantages than typical standardization or normalization. The numbers of nodes that we used for our LSTM, GRU, and RNNs experiments were 4, 8, 16, 32, 64, 128, 256, 512, and 1024. Similarly, we used the same pool for CNN filter with kernel size of 3, 5 and 7, and pool of 2 and 3. The activation function for this hidden layer was sigmoid. Next, we added another instance normalization. Finally, the output layer contained one node and Linear activation function. Epoch and batch size were 50 and 1, respectively. We used mean squared error (MSE) as our loss function, ADAM optimization and mean absolute percentage error (MAPE) as a metric for model evaluation.\n"
      ]
    },
    {
      "cell_type": "markdown",
      "metadata": {
        "id": "PgWYXmJLYATE"
      },
      "source": [
        "### CNN"
      ]
    },
    {
      "cell_type": "code",
      "metadata": {
        "id": "pZJnpt8jZRZZ"
      },
      "source": [
        "# CNN Tuning\n",
        "\n",
        "def evaluate_cnn(trainX, trainy, filter, kernel_size, pool):\n",
        "    seed(1)\n",
        "    tensorflow.random.set_seed(1)\n",
        "\n",
        "    verbose, epochs, batch_size = 0, 50, 1\n",
        "    n_timesteps, n_features = trainX.shape[1], trainX.shape[2]\n",
        "\n",
        "    model = Sequential()\n",
        "    model.add(Conv1D(filters = filter, kernel_size=kernel_size, activation='relu',input_shape=(n_timesteps,n_features)))\n",
        "    model.add(MaxPooling1D(pool_size= pool))\n",
        "    model.add(Flatten())\n",
        "    model.add(Dense(1, activation='linear'))\n",
        "    model.compile(loss='mse', optimizer='adam', metrics=['MAPE'])\n",
        "  \n",
        "    # fit network\n",
        "    model.fit(trainX, trainy, epochs=epochs, batch_size=batch_size, verbose=verbose, shuffle = False)\n",
        "    # evaluate model\n",
        "    _, accuracy = model.evaluate(trainX, trainy, batch_size=batch_size, verbose=0)\n",
        "    return accuracy\n",
        "\n",
        "# run an experiment\n",
        "def run_experiment(filters, kernel_size, pool, trainX, trainy):\n",
        "    # test each parameter\n",
        "    all_scores = list()\n",
        "    for filter in filters:\n",
        "      for kernel in kernel_size:\n",
        "        for pooling in pool:\n",
        "          score = evaluate_cnn(trainX, trainy, filter, kernel_size, pool)\n",
        "          print('filter = %d, kernel size = %d, pooling size = %d: %.3f' % (filter, kernel, pooling, score))\n",
        "          all_scores.append(score)\n",
        "    return all_scores\n",
        "    \n",
        "\n",
        "\n",
        "filter = [2, 4, 8, 16, 32, 64, 128, 256, 512, 1024] \n"
      ],
      "execution_count": 13,
      "outputs": []
    },
    {
      "cell_type": "code",
      "metadata": {
        "colab": {
          "base_uri": "https://localhost:8080/"
        },
        "id": "ixTPBVxFn3GN",
        "outputId": "cf716331-ccea-4f13-80a6-d4155f8130bb"
      },
      "source": [
        "# Multivariate CNN confirmed cases\n",
        "\n",
        "kernel = [3, 5, 7]\n",
        "pool = [2]\n",
        "cnn_i_multi = list()\n",
        "\n",
        "for i in kernel:\n",
        "  for j in pool: \n",
        "    score = list()\n",
        "    kernel_size, pool = [i],[j]\n",
        "    score = run_experiment(filter, kernel_size, pool,X_i_p_tr, y_i_p_tr)\n",
        "    cnn_i_multi.append(score)\n",
        "\n",
        "pool = [3]\n",
        "\n",
        "for i in kernel:\n",
        "  for j in pool: \n",
        "    kernel_size, pool = [i],[j]\n",
        "    score = run_experiment(filter, kernel_size, pool, X_i_p_tr, y_i_p_tr)\n",
        "    cnn_i_multi.append(score)\n",
        "\n",
        "cnn_i_multi = pd.DataFrame(cnn_i_multi).T\n",
        "cnn_i_multi.columns = ['k3p2', 'k5p2','k7p2', 'k3p3', 'k5p3', 'k7p3']"
      ],
      "execution_count": 14,
      "outputs": [
        {
          "output_type": "stream",
          "name": "stdout",
          "text": [
            "filter = 2, kernel size = 3, pooling size = 2: 6.480\n",
            "filter = 4, kernel size = 3, pooling size = 2: 6.135\n",
            "filter = 8, kernel size = 3, pooling size = 2: 7.039\n",
            "filter = 16, kernel size = 3, pooling size = 2: 5.090\n",
            "filter = 32, kernel size = 3, pooling size = 2: 5.637\n",
            "filter = 64, kernel size = 3, pooling size = 2: 5.099\n",
            "filter = 128, kernel size = 3, pooling size = 2: 5.327\n",
            "filter = 256, kernel size = 3, pooling size = 2: 5.430\n",
            "filter = 512, kernel size = 3, pooling size = 2: 6.248\n",
            "filter = 1024, kernel size = 3, pooling size = 2: 6.830\n",
            "filter = 2, kernel size = 5, pooling size = 2: 6.647\n",
            "filter = 4, kernel size = 5, pooling size = 2: 6.249\n",
            "filter = 8, kernel size = 5, pooling size = 2: 6.684\n",
            "filter = 16, kernel size = 5, pooling size = 2: 6.073\n",
            "filter = 32, kernel size = 5, pooling size = 2: 5.628\n",
            "filter = 64, kernel size = 5, pooling size = 2: 5.317\n",
            "filter = 128, kernel size = 5, pooling size = 2: 5.418\n",
            "filter = 256, kernel size = 5, pooling size = 2: 5.377\n",
            "filter = 512, kernel size = 5, pooling size = 2: 6.524\n",
            "filter = 1024, kernel size = 5, pooling size = 2: 6.701\n",
            "filter = 2, kernel size = 7, pooling size = 2: 6.969\n",
            "filter = 4, kernel size = 7, pooling size = 2: 6.531\n",
            "filter = 8, kernel size = 7, pooling size = 2: 6.239\n",
            "filter = 16, kernel size = 7, pooling size = 2: 6.174\n",
            "filter = 32, kernel size = 7, pooling size = 2: 5.538\n",
            "filter = 64, kernel size = 7, pooling size = 2: 5.059\n",
            "filter = 128, kernel size = 7, pooling size = 2: 5.239\n",
            "filter = 256, kernel size = 7, pooling size = 2: 5.885\n",
            "filter = 512, kernel size = 7, pooling size = 2: 6.214\n",
            "filter = 1024, kernel size = 7, pooling size = 2: 6.410\n",
            "filter = 2, kernel size = 3, pooling size = 3: 6.806\n",
            "filter = 4, kernel size = 3, pooling size = 3: 7.344\n",
            "filter = 8, kernel size = 3, pooling size = 3: 6.193\n",
            "filter = 16, kernel size = 3, pooling size = 3: 6.142\n",
            "filter = 32, kernel size = 3, pooling size = 3: 5.904\n",
            "filter = 64, kernel size = 3, pooling size = 3: 5.547\n",
            "filter = 128, kernel size = 3, pooling size = 3: 5.219\n",
            "filter = 256, kernel size = 3, pooling size = 3: 5.659\n",
            "filter = 512, kernel size = 3, pooling size = 3: 6.144\n",
            "filter = 1024, kernel size = 3, pooling size = 3: 6.688\n",
            "filter = 2, kernel size = 5, pooling size = 3: 7.507\n",
            "filter = 4, kernel size = 5, pooling size = 3: 6.124\n",
            "filter = 8, kernel size = 5, pooling size = 3: 6.667\n",
            "filter = 16, kernel size = 5, pooling size = 3: 6.931\n",
            "filter = 32, kernel size = 5, pooling size = 3: 6.438\n",
            "filter = 64, kernel size = 5, pooling size = 3: 6.015\n",
            "filter = 128, kernel size = 5, pooling size = 3: 5.224\n",
            "filter = 256, kernel size = 5, pooling size = 3: 5.549\n",
            "filter = 512, kernel size = 5, pooling size = 3: 6.387\n",
            "filter = 1024, kernel size = 5, pooling size = 3: 7.011\n",
            "filter = 2, kernel size = 7, pooling size = 3: 6.700\n",
            "filter = 4, kernel size = 7, pooling size = 3: 99.983\n",
            "filter = 8, kernel size = 7, pooling size = 3: 6.618\n",
            "filter = 16, kernel size = 7, pooling size = 3: 6.959\n",
            "filter = 32, kernel size = 7, pooling size = 3: 5.921\n",
            "filter = 64, kernel size = 7, pooling size = 3: 5.818\n",
            "filter = 128, kernel size = 7, pooling size = 3: 5.522\n",
            "filter = 256, kernel size = 7, pooling size = 3: 5.229\n",
            "filter = 512, kernel size = 7, pooling size = 3: 6.019\n",
            "filter = 1024, kernel size = 7, pooling size = 3: 7.396\n"
          ]
        }
      ]
    },
    {
      "cell_type": "code",
      "metadata": {
        "colab": {
          "base_uri": "https://localhost:8080/"
        },
        "id": "f9h_O6Nsnz2C",
        "outputId": "2d8f571c-3908-45e9-832c-067c85431e56"
      },
      "source": [
        "# Multivariate CNN confirmed deaths\n",
        "\n",
        "pool = [2]\n",
        "cnn_d_multi = list()\n",
        "\n",
        "for i in kernel:\n",
        "  for j in pool:\n",
        "    score = list() \n",
        "    kernel_size, pool = [i],[j]\n",
        "    score = run_experiment(filter, kernel_size, pool, X_d_p_tr, y_d_p_tr)\n",
        "    cnn_d_multi.append(score)\n",
        "\n",
        "pool = [3]\n",
        "\n",
        "for i in kernel:\n",
        "  for j in pool: \n",
        "    score = list()\n",
        "    kernel_size, pool = [i],[j]\n",
        "    score = run_experiment(filter, kernel_size, pool, X_d_p_tr, y_d_p_tr)\n",
        "    cnn_d_multi.append(score)\n",
        "\n",
        "cnn_d_multi = pd.DataFrame(cnn_d_multi).T\n",
        "cnn_d_multi.columns = ['k3p2', 'k3p3','k5p2', 'k7p2', 'k5p3', 'k7p3']"
      ],
      "execution_count": 15,
      "outputs": [
        {
          "output_type": "stream",
          "name": "stdout",
          "text": [
            "filter = 2, kernel size = 3, pooling size = 2: 148.430\n",
            "filter = 4, kernel size = 3, pooling size = 2: 103.859\n",
            "filter = 8, kernel size = 3, pooling size = 2: 82.415\n",
            "filter = 16, kernel size = 3, pooling size = 2: 82.483\n",
            "filter = 32, kernel size = 3, pooling size = 2: 25.726\n",
            "filter = 64, kernel size = 3, pooling size = 2: 38.086\n",
            "filter = 128, kernel size = 3, pooling size = 2: 22.954\n",
            "filter = 256, kernel size = 3, pooling size = 2: 125.163\n",
            "filter = 512, kernel size = 3, pooling size = 2: 14.512\n",
            "filter = 1024, kernel size = 3, pooling size = 2: 15.984\n",
            "filter = 2, kernel size = 5, pooling size = 2: 172.771\n",
            "filter = 4, kernel size = 5, pooling size = 2: 96.059\n",
            "filter = 8, kernel size = 5, pooling size = 2: 82.170\n",
            "filter = 16, kernel size = 5, pooling size = 2: 60.991\n",
            "filter = 32, kernel size = 5, pooling size = 2: 81.041\n",
            "filter = 64, kernel size = 5, pooling size = 2: 27.628\n",
            "filter = 128, kernel size = 5, pooling size = 2: 24.158\n",
            "filter = 256, kernel size = 5, pooling size = 2: 14.050\n",
            "filter = 512, kernel size = 5, pooling size = 2: 11.430\n",
            "filter = 1024, kernel size = 5, pooling size = 2: 30.590\n",
            "filter = 2, kernel size = 7, pooling size = 2: 102.066\n",
            "filter = 4, kernel size = 7, pooling size = 2: 92.144\n",
            "filter = 8, kernel size = 7, pooling size = 2: 76.603\n",
            "filter = 16, kernel size = 7, pooling size = 2: 48.725\n",
            "filter = 32, kernel size = 7, pooling size = 2: 49.862\n",
            "filter = 64, kernel size = 7, pooling size = 2: 19.620\n",
            "filter = 128, kernel size = 7, pooling size = 2: 44.611\n",
            "filter = 256, kernel size = 7, pooling size = 2: 13.648\n",
            "filter = 512, kernel size = 7, pooling size = 2: 18.333\n",
            "filter = 1024, kernel size = 7, pooling size = 2: 11.259\n",
            "filter = 2, kernel size = 3, pooling size = 3: 194.768\n",
            "filter = 4, kernel size = 3, pooling size = 3: 240.113\n",
            "filter = 8, kernel size = 3, pooling size = 3: 58.689\n",
            "filter = 16, kernel size = 3, pooling size = 3: 73.441\n",
            "filter = 32, kernel size = 3, pooling size = 3: 135.097\n",
            "filter = 64, kernel size = 3, pooling size = 3: 24.267\n",
            "filter = 128, kernel size = 3, pooling size = 3: 30.995\n",
            "filter = 256, kernel size = 3, pooling size = 3: 19.114\n",
            "filter = 512, kernel size = 3, pooling size = 3: 12.015\n",
            "filter = 1024, kernel size = 3, pooling size = 3: 12.837\n",
            "filter = 2, kernel size = 5, pooling size = 3: 95.849\n",
            "filter = 4, kernel size = 5, pooling size = 3: 115.305\n",
            "filter = 8, kernel size = 5, pooling size = 3: 57.433\n",
            "filter = 16, kernel size = 5, pooling size = 3: 60.125\n",
            "filter = 32, kernel size = 5, pooling size = 3: 66.749\n",
            "filter = 64, kernel size = 5, pooling size = 3: 27.665\n",
            "filter = 128, kernel size = 5, pooling size = 3: 30.654\n",
            "filter = 256, kernel size = 5, pooling size = 3: 12.359\n",
            "filter = 512, kernel size = 5, pooling size = 3: 18.707\n",
            "filter = 1024, kernel size = 5, pooling size = 3: 81.752\n",
            "filter = 2, kernel size = 7, pooling size = 3: 258.723\n",
            "filter = 4, kernel size = 7, pooling size = 3: 99.145\n",
            "filter = 8, kernel size = 7, pooling size = 3: 63.742\n",
            "filter = 16, kernel size = 7, pooling size = 3: 41.143\n",
            "filter = 32, kernel size = 7, pooling size = 3: 48.292\n",
            "filter = 64, kernel size = 7, pooling size = 3: 28.146\n",
            "filter = 128, kernel size = 7, pooling size = 3: 21.921\n",
            "filter = 256, kernel size = 7, pooling size = 3: 166.809\n",
            "filter = 512, kernel size = 7, pooling size = 3: 31.967\n",
            "filter = 1024, kernel size = 7, pooling size = 3: 14.649\n"
          ]
        }
      ]
    },
    {
      "cell_type": "markdown",
      "metadata": {
        "id": "eDXGbHvPZNn1"
      },
      "source": [
        "### LSTM"
      ]
    },
    {
      "cell_type": "code",
      "metadata": {
        "id": "XwruQErcVIGp"
      },
      "source": [
        "def evaluate_lstm(trainX, trainy, units):\n",
        "    seed(1)\n",
        "    tensorflow.random.set_seed(1)\n",
        "\n",
        "    verbose, epochs, batch_size = 0, 50, 1\n",
        "    n_timesteps, n_features = trainX.shape[1], trainX.shape[2]\n",
        "\n",
        "    model = Sequential()\n",
        "    model.add(LSTM(units = units, activation='relu', input_shape=(n_timesteps,n_features)))\n",
        "    model.add(Dense(1, activation='linear'))\n",
        "    model.compile(loss='mse', optimizer='adam', metrics=['MAPE'])\n",
        "  \n",
        "    # fit network\n",
        "    model.fit(trainX, trainy, epochs=epochs, batch_size=batch_size, verbose=verbose, shuffle = False)\n",
        "    # evaluate model\n",
        "    _, accuracy = model.evaluate(trainX, trainy, batch_size=batch_size, verbose=0)\n",
        "    return accuracy\n",
        "\n",
        "\n",
        "units = [2, 4,8,16,32,64,128,256,512, 1024]\n",
        "\n",
        "\n",
        "# Multivariate LSTM confirmed cases\n",
        "\n",
        "lstm_i_multi = list()\n",
        "\n",
        "for i in units:\n",
        "  score = list()\n",
        "  score = evaluate_lstm(X_i_p_tr, y_i_p_tr, i)\n",
        "  lstm_i_multi.append(score)\n",
        "\n",
        "\n",
        "\n",
        "# Multivariate LSTM confirmed deaths\n",
        "\n",
        "lstm_d_multi = list()\n",
        "\n",
        "for i in units:\n",
        "  score = list()\n",
        "  score = evaluate_lstm(X_d_p_tr, y_d_p_tr, i)\n",
        "  lstm_d_multi.append(score)"
      ],
      "execution_count": 16,
      "outputs": []
    },
    {
      "cell_type": "markdown",
      "metadata": {
        "id": "u5EHjmk8ZwNb"
      },
      "source": [
        "### GRU"
      ]
    },
    {
      "cell_type": "code",
      "metadata": {
        "id": "8Pkcl1joZuxL"
      },
      "source": [
        "def evaluate_gru(trainX, trainy, units):\n",
        "    seed(1)\n",
        "    tensorflow.random.set_seed(1)\n",
        "\n",
        "    verbose, epochs, batch_size = 0, 50, 1\n",
        "    n_timesteps, n_features = trainX.shape[1], trainX.shape[2]\n",
        "\n",
        "    model = Sequential()\n",
        "    model.add(GRU(units = units, activation='relu', input_shape=(n_timesteps,n_features)))\n",
        "    model.add(Dense(1, activation='linear'))\n",
        "    model.compile(loss='mse', optimizer='adam', metrics=['MAPE'])\n",
        "  \n",
        "    # fit network\n",
        "    model.fit(trainX, trainy, epochs=epochs, batch_size=batch_size, verbose=verbose, shuffle = False)\n",
        "    # evaluate model\n",
        "    _, accuracy = model.evaluate(trainX, trainy, batch_size=batch_size, verbose=0)\n",
        "    return accuracy\n",
        "\n",
        "\n",
        "# Multivariate GRU confirmed cases\n",
        "\n",
        "gru_i_multi = list()\n",
        "\n",
        "for i in units:\n",
        "  score = list()\n",
        "  score = evaluate_gru(X_i_p_tr, y_i_p_tr, i)\n",
        "  gru_i_multi.append(score)\n",
        "\n",
        "\n",
        "# Multivariate GRU confirmed deaths\n",
        "\n",
        "gru_d_multi = list()\n",
        "\n",
        "for i in units:\n",
        "  score = list()\n",
        "  score = evaluate_gru(X_d_p_tr, y_d_p_tr, i)\n",
        "  gru_d_multi.append(score)"
      ],
      "execution_count": 17,
      "outputs": []
    },
    {
      "cell_type": "markdown",
      "metadata": {
        "id": "LxvR7HvgbL9i"
      },
      "source": [
        "### RNNs"
      ]
    },
    {
      "cell_type": "code",
      "metadata": {
        "id": "pHWbTWi0bOet"
      },
      "source": [
        "def evaluate_rnn(trainX, trainy, units):\n",
        "    seed(1)\n",
        "    tensorflow.random.set_seed(1)\n",
        "\n",
        "    verbose, epochs, batch_size = 0, 50, 1\n",
        "    n_timesteps, n_features = trainX.shape[1], trainX.shape[2]\n",
        "\n",
        "    model = Sequential()\n",
        "    model.add(SimpleRNN(units = units, activation='relu', input_shape=(n_timesteps,n_features)))\n",
        "    model.add(Dense(1, activation='linear'))\n",
        "    model.compile(loss='mse', optimizer='adam', metrics=['MAPE'])\n",
        "  \n",
        "    # fit network\n",
        "    model.fit(trainX, trainy, epochs=epochs, batch_size=batch_size, verbose=verbose, shuffle = False)\n",
        "    # evaluate model\n",
        "    _, accuracy = model.evaluate(trainX, trainy, batch_size=batch_size, verbose=0)\n",
        "    return accuracy\n",
        "\n",
        "\n",
        "\n",
        "# Multivariate RNNs confirmed cases\n",
        "\n",
        "rnn_i_multi = list()\n",
        "\n",
        "for i in units:\n",
        "  score = list()\n",
        "  score = evaluate_rnn(X_i_p_tr, y_i_p_tr, i)\n",
        "  rnn_i_multi.append(score)\n",
        "\n",
        "\n",
        "# Multivariate RNNs confirmed deaths\n",
        "\n",
        "rnn_d_multi = list()\n",
        "\n",
        "for i in units:\n",
        "  score = list()\n",
        "  score = evaluate_rnn(X_d_p_tr, y_d_p_tr, i)\n",
        "  rnn_d_multi.append(score)"
      ],
      "execution_count": 18,
      "outputs": []
    },
    {
      "cell_type": "markdown",
      "metadata": {
        "id": "91h9IuDksSs2"
      },
      "source": [
        "### Result Table"
      ]
    },
    {
      "cell_type": "markdown",
      "metadata": {
        "id": "wWeNmaup5b5U"
      },
      "source": [
        "#### Multivariate Confirmed Cases"
      ]
    },
    {
      "cell_type": "code",
      "metadata": {
        "colab": {
          "base_uri": "https://localhost:8080/",
          "height": 717
        },
        "id": "0nimG2vW0zLO",
        "outputId": "323bb9ad-8dbe-4a41-c3c3-d98483f9176f"
      },
      "source": [
        "fig = go.Figure(data=[go.Table(header=dict(values=['Model', 'Kernel size', 'Pool', '2 Nodes', '4 Nodes', '8 Nodes', '16 Nodes', \n",
        "                                                   '32 Nodes', \"64 Nodes\", '128 Nodes', '256 Nodes', '512 Nodes', '1024 Nodes'],\n",
        "                                           line_color = 'gray'),\n",
        "                               cells=dict(values=[['LSTM', 'GRU', 'RNNs', 'CNN',\n",
        "                                                   'CNN', 'CNN', 'CNN', 'CNN', 'CNN'],\n",
        "                                                  ['-', '-', '-', '3', '5', '7', '3', '5', '7'],\n",
        "                                                  ['-', '-', '-', '2', '2', '2', '3', '3', '3'],\n",
        "                                    [round(lstm_i_multi[0],3), \n",
        "                                     round(gru_i_multi[0],3),\n",
        "                                     round(rnn_i_multi[0],3), \n",
        "                                     round(cnn_i_multi.iloc[0,0],3),\n",
        "                                     round(cnn_i_multi.iloc[0,1],3),\n",
        "                                     round(cnn_i_multi.iloc[0,2],3),\n",
        "                                     round(cnn_i_multi.iloc[0,3],3),\n",
        "                                     round(cnn_i_multi.iloc[0,4],3),\n",
        "                                     round(cnn_i_multi.iloc[0,5],3)],\n",
        "                                     [round(lstm_i_multi[1],3), \n",
        "                                     round(gru_i_multi[1],3),\n",
        "                                     round(rnn_i_multi[1],3), \n",
        "                                     round(cnn_i_multi.iloc[1,0],3),\n",
        "                                     round(cnn_i_multi.iloc[1,1],3),\n",
        "                                     round(cnn_i_multi.iloc[1,2],3),\n",
        "                                     round(cnn_i_multi.iloc[1,3],3),\n",
        "                                     round(cnn_i_multi.iloc[1,4],3),\n",
        "                                     round(cnn_i_multi.iloc[1,5],3)],\n",
        "                                     [round(lstm_i_multi[2],3), \n",
        "                                     round(gru_i_multi[2],3),\n",
        "                                     round(rnn_i_multi[2],3), \n",
        "                                     round(cnn_i_multi.iloc[2,0],3),\n",
        "                                     round(cnn_i_multi.iloc[2,1],3),\n",
        "                                     round(cnn_i_multi.iloc[2,2],3),\n",
        "                                     round(cnn_i_multi.iloc[2,3],3),\n",
        "                                     round(cnn_i_multi.iloc[2,4],3),\n",
        "                                     round(cnn_i_multi.iloc[2,5],3)],\n",
        "                                     [round(lstm_i_multi[3],3), \n",
        "                                     round(gru_i_multi[3],3),\n",
        "                                     round(rnn_i_multi[3],3), \n",
        "                                     round(cnn_i_multi.iloc[3,0],3),\n",
        "                                     round(cnn_i_multi.iloc[3,1],3),\n",
        "                                     round(cnn_i_multi.iloc[3,2],3),\n",
        "                                     round(cnn_i_multi.iloc[3,3],3),\n",
        "                                     round(cnn_i_multi.iloc[3,4],3),\n",
        "                                     round(cnn_i_multi.iloc[3,5],3)],\n",
        "                                     [round(lstm_i_multi[4],3), \n",
        "                                     round(gru_i_multi[4],3),\n",
        "                                     round(rnn_i_multi[4],3), \n",
        "                                     round(cnn_i_multi.iloc[4,0],3),\n",
        "                                     round(cnn_i_multi.iloc[4,1],3),\n",
        "                                     round(cnn_i_multi.iloc[4,2],3),\n",
        "                                     round(cnn_i_multi.iloc[4,3],3),\n",
        "                                     round(cnn_i_multi.iloc[4,4],3),\n",
        "                                     round(cnn_i_multi.iloc[4,5],3)],\n",
        "                                     [round(lstm_i_multi[5],3), \n",
        "                                     round(gru_i_multi[5],3),\n",
        "                                     round(rnn_i_multi[5],3), \n",
        "                                     round(cnn_i_multi.iloc[5,0],3),\n",
        "                                     round(cnn_i_multi.iloc[5,1],3),\n",
        "                                     round(cnn_i_multi.iloc[5,2],3),\n",
        "                                     round(cnn_i_multi.iloc[5,3],3),\n",
        "                                     round(cnn_i_multi.iloc[5,4],3),\n",
        "                                     round(cnn_i_multi.iloc[5,5],3)],\n",
        "                                     [round(lstm_i_multi[6],3), \n",
        "                                     round(gru_i_multi[6],3),\n",
        "                                     round(rnn_i_multi[6],3), \n",
        "                                     round(cnn_i_multi.iloc[6,0],3),\n",
        "                                     round(cnn_i_multi.iloc[6,1],3),\n",
        "                                     round(cnn_i_multi.iloc[6,2],3),\n",
        "                                     round(cnn_i_multi.iloc[6,3],3),\n",
        "                                     round(cnn_i_multi.iloc[6,4],3),\n",
        "                                     round(cnn_i_multi.iloc[6,5],3)],\n",
        "                                     [round(lstm_i_multi[7],3), \n",
        "                                     round(gru_i_multi[7],3),\n",
        "                                     round(rnn_i_multi[7],3), \n",
        "                                     round(cnn_i_multi.iloc[7,0],3),\n",
        "                                     round(cnn_i_multi.iloc[7,1],3),\n",
        "                                     round(cnn_i_multi.iloc[7,2],3),\n",
        "                                     round(cnn_i_multi.iloc[7,3],3),\n",
        "                                     round(cnn_i_multi.iloc[7,4],3),\n",
        "                                     round(cnn_i_multi.iloc[7,5],3)],\n",
        "                                     [round(lstm_i_multi[8],3), \n",
        "                                     round(gru_i_multi[8],3),\n",
        "                                     round(rnn_i_multi[8],3), \n",
        "                                     round(cnn_i_multi.iloc[8,0],3),\n",
        "                                     round(cnn_i_multi.iloc[8,1],3),\n",
        "                                     round(cnn_i_multi.iloc[8,2],3),\n",
        "                                     round(cnn_i_multi.iloc[8,3],3),\n",
        "                                     round(cnn_i_multi.iloc[8,4],3),\n",
        "                                     round(cnn_i_multi.iloc[8,5],3)],\n",
        "                                     [round(lstm_i_multi[9],3), \n",
        "                                     round(gru_i_multi[9],3),\n",
        "                                     round(rnn_i_multi[9],3), \n",
        "                                     round(cnn_i_multi.iloc[9,0],3),\n",
        "                                     round(cnn_i_multi.iloc[9,1],3),\n",
        "                                     round(cnn_i_multi.iloc[9,2],3),\n",
        "                                     round(cnn_i_multi.iloc[9,3],3),\n",
        "                                     round(cnn_i_multi.iloc[9,4],3),\n",
        "                                     round(cnn_i_multi.iloc[9,5],3)]],\n",
        "                            align=['left','center', 'center', \n",
        "                                   'right','right','right',\n",
        "                                   'right','right','right',\n",
        "                                   'right','right','right','right'],\n",
        "                            fill_color = 'white',\n",
        "                            line_color = 'gray'))\n",
        "                     ])\n",
        "fig.update_layout(title = \"Parameter Tunings Mean Absolute Percentage Error: Multivariate Confirmed Cases\",\n",
        "                  title_x=0.5, height = 700, width = 1200)\n",
        "fig.show()"
      ],
      "execution_count": 19,
      "outputs": [
        {
          "output_type": "display_data",
          "data": {
            "text/html": [
              "<html>\n",
              "<head><meta charset=\"utf-8\" /></head>\n",
              "<body>\n",
              "    <div>\n",
              "            <script src=\"https://cdnjs.cloudflare.com/ajax/libs/mathjax/2.7.5/MathJax.js?config=TeX-AMS-MML_SVG\"></script><script type=\"text/javascript\">if (window.MathJax) {MathJax.Hub.Config({SVG: {font: \"STIX-Web\"}});}</script>\n",
              "                <script type=\"text/javascript\">window.PlotlyConfig = {MathJaxConfig: 'local'};</script>\n",
              "        <script src=\"https://cdn.plot.ly/plotly-latest.min.js\"></script>    \n",
              "            <div id=\"b106320c-4de5-4ef7-8d07-606e3e5c836c\" class=\"plotly-graph-div\" style=\"height:700px; width:1200px;\"></div>\n",
              "            <script type=\"text/javascript\">\n",
              "                \n",
              "                    window.PLOTLYENV=window.PLOTLYENV || {};\n",
              "                    \n",
              "                if (document.getElementById(\"b106320c-4de5-4ef7-8d07-606e3e5c836c\")) {\n",
              "                    Plotly.newPlot(\n",
              "                        'b106320c-4de5-4ef7-8d07-606e3e5c836c',\n",
              "                        [{\"cells\": {\"align\": [\"left\", \"center\", \"center\", \"right\", \"right\", \"right\", \"right\", \"right\", \"right\", \"right\", \"right\", \"right\", \"right\"], \"fill\": {\"color\": \"white\"}, \"line\": {\"color\": \"gray\"}, \"values\": [[\"LSTM\", \"GRU\", \"RNNs\", \"CNN\", \"CNN\", \"CNN\", \"CNN\", \"CNN\", \"CNN\"], [\"-\", \"-\", \"-\", \"3\", \"5\", \"7\", \"3\", \"5\", \"7\"], [\"-\", \"-\", \"-\", \"2\", \"2\", \"2\", \"3\", \"3\", \"3\"], [99.983, 99.983, 6.395, 6.48, 6.647, 6.969, 6.806, 7.507, 6.7], [66.167, 6.551, 6.571, 6.135, 6.249, 6.531, 7.344, 6.124, 99.983], [99.983, 6.194, 6.643, 7.039, 6.684, 6.239, 6.193, 6.667, 6.618], [6.4, 6.743, 6.652, 5.09, 6.073, 6.174, 6.142, 6.931, 6.959], [5.362, 6.734, 4.845, 5.637, 5.628, 5.538, 5.904, 6.438, 5.921], [5.55, 6.66, 6.06, 5.099, 5.317, 5.059, 5.547, 6.015, 5.818], [5.185, 6.482, 6.101, 5.327, 5.418, 5.239, 5.219, 5.224, 5.522], [5.202, 6.679, 5.999, 5.43, 5.377, 5.885, 5.659, 5.549, 5.229], [5.003, 6.783, 6.926, 6.248, 6.524, 6.214, 6.144, 6.387, 6.019], [5.432, 6.74, 6.999, 6.83, 6.701, 6.41, 6.688, 7.011, 7.396]]}, \"header\": {\"line\": {\"color\": \"gray\"}, \"values\": [\"Model\", \"Kernel size\", \"Pool\", \"2 Nodes\", \"4 Nodes\", \"8 Nodes\", \"16 Nodes\", \"32 Nodes\", \"64 Nodes\", \"128 Nodes\", \"256 Nodes\", \"512 Nodes\", \"1024 Nodes\"]}, \"type\": \"table\"}],\n",
              "                        {\"height\": 700, \"template\": {\"data\": {\"bar\": [{\"error_x\": {\"color\": \"#2a3f5f\"}, \"error_y\": {\"color\": \"#2a3f5f\"}, \"marker\": {\"line\": {\"color\": \"#E5ECF6\", \"width\": 0.5}}, \"type\": \"bar\"}], \"barpolar\": [{\"marker\": {\"line\": {\"color\": \"#E5ECF6\", \"width\": 0.5}}, \"type\": \"barpolar\"}], \"carpet\": [{\"aaxis\": {\"endlinecolor\": \"#2a3f5f\", \"gridcolor\": \"white\", \"linecolor\": \"white\", \"minorgridcolor\": \"white\", \"startlinecolor\": \"#2a3f5f\"}, \"baxis\": {\"endlinecolor\": \"#2a3f5f\", \"gridcolor\": \"white\", \"linecolor\": \"white\", \"minorgridcolor\": \"white\", \"startlinecolor\": \"#2a3f5f\"}, \"type\": \"carpet\"}], \"choropleth\": [{\"colorbar\": {\"outlinewidth\": 0, \"ticks\": \"\"}, \"type\": \"choropleth\"}], \"contour\": [{\"colorbar\": {\"outlinewidth\": 0, \"ticks\": \"\"}, \"colorscale\": [[0.0, \"#0d0887\"], [0.1111111111111111, \"#46039f\"], [0.2222222222222222, \"#7201a8\"], [0.3333333333333333, \"#9c179e\"], [0.4444444444444444, \"#bd3786\"], [0.5555555555555556, \"#d8576b\"], [0.6666666666666666, \"#ed7953\"], [0.7777777777777778, \"#fb9f3a\"], [0.8888888888888888, \"#fdca26\"], [1.0, \"#f0f921\"]], \"type\": \"contour\"}], \"contourcarpet\": [{\"colorbar\": {\"outlinewidth\": 0, \"ticks\": \"\"}, \"type\": \"contourcarpet\"}], \"heatmap\": [{\"colorbar\": {\"outlinewidth\": 0, \"ticks\": \"\"}, \"colorscale\": [[0.0, \"#0d0887\"], [0.1111111111111111, \"#46039f\"], [0.2222222222222222, \"#7201a8\"], [0.3333333333333333, \"#9c179e\"], [0.4444444444444444, \"#bd3786\"], [0.5555555555555556, \"#d8576b\"], [0.6666666666666666, \"#ed7953\"], [0.7777777777777778, \"#fb9f3a\"], [0.8888888888888888, \"#fdca26\"], [1.0, \"#f0f921\"]], \"type\": \"heatmap\"}], \"heatmapgl\": [{\"colorbar\": {\"outlinewidth\": 0, \"ticks\": \"\"}, \"colorscale\": [[0.0, \"#0d0887\"], [0.1111111111111111, \"#46039f\"], [0.2222222222222222, \"#7201a8\"], [0.3333333333333333, \"#9c179e\"], [0.4444444444444444, \"#bd3786\"], [0.5555555555555556, \"#d8576b\"], [0.6666666666666666, \"#ed7953\"], [0.7777777777777778, \"#fb9f3a\"], [0.8888888888888888, \"#fdca26\"], [1.0, \"#f0f921\"]], \"type\": \"heatmapgl\"}], \"histogram\": [{\"marker\": {\"colorbar\": {\"outlinewidth\": 0, \"ticks\": \"\"}}, \"type\": \"histogram\"}], \"histogram2d\": [{\"colorbar\": {\"outlinewidth\": 0, \"ticks\": \"\"}, \"colorscale\": [[0.0, \"#0d0887\"], [0.1111111111111111, \"#46039f\"], [0.2222222222222222, \"#7201a8\"], [0.3333333333333333, \"#9c179e\"], [0.4444444444444444, \"#bd3786\"], [0.5555555555555556, \"#d8576b\"], [0.6666666666666666, \"#ed7953\"], [0.7777777777777778, \"#fb9f3a\"], [0.8888888888888888, \"#fdca26\"], [1.0, \"#f0f921\"]], \"type\": \"histogram2d\"}], \"histogram2dcontour\": [{\"colorbar\": {\"outlinewidth\": 0, \"ticks\": \"\"}, \"colorscale\": [[0.0, \"#0d0887\"], [0.1111111111111111, \"#46039f\"], [0.2222222222222222, \"#7201a8\"], [0.3333333333333333, \"#9c179e\"], [0.4444444444444444, \"#bd3786\"], [0.5555555555555556, \"#d8576b\"], [0.6666666666666666, \"#ed7953\"], [0.7777777777777778, \"#fb9f3a\"], [0.8888888888888888, \"#fdca26\"], [1.0, \"#f0f921\"]], \"type\": \"histogram2dcontour\"}], \"mesh3d\": [{\"colorbar\": {\"outlinewidth\": 0, \"ticks\": \"\"}, \"type\": \"mesh3d\"}], \"parcoords\": [{\"line\": {\"colorbar\": {\"outlinewidth\": 0, \"ticks\": \"\"}}, \"type\": \"parcoords\"}], \"pie\": [{\"automargin\": true, \"type\": \"pie\"}], \"scatter\": [{\"marker\": {\"colorbar\": {\"outlinewidth\": 0, \"ticks\": \"\"}}, \"type\": \"scatter\"}], \"scatter3d\": [{\"line\": {\"colorbar\": {\"outlinewidth\": 0, \"ticks\": \"\"}}, \"marker\": {\"colorbar\": {\"outlinewidth\": 0, \"ticks\": \"\"}}, \"type\": \"scatter3d\"}], \"scattercarpet\": [{\"marker\": {\"colorbar\": {\"outlinewidth\": 0, \"ticks\": \"\"}}, \"type\": \"scattercarpet\"}], \"scattergeo\": [{\"marker\": {\"colorbar\": {\"outlinewidth\": 0, \"ticks\": \"\"}}, \"type\": \"scattergeo\"}], \"scattergl\": [{\"marker\": {\"colorbar\": {\"outlinewidth\": 0, \"ticks\": \"\"}}, \"type\": \"scattergl\"}], \"scattermapbox\": [{\"marker\": {\"colorbar\": {\"outlinewidth\": 0, \"ticks\": \"\"}}, \"type\": \"scattermapbox\"}], \"scatterpolar\": [{\"marker\": {\"colorbar\": {\"outlinewidth\": 0, \"ticks\": \"\"}}, \"type\": \"scatterpolar\"}], \"scatterpolargl\": [{\"marker\": {\"colorbar\": {\"outlinewidth\": 0, \"ticks\": \"\"}}, \"type\": \"scatterpolargl\"}], \"scatterternary\": [{\"marker\": {\"colorbar\": {\"outlinewidth\": 0, \"ticks\": \"\"}}, \"type\": \"scatterternary\"}], \"surface\": [{\"colorbar\": {\"outlinewidth\": 0, \"ticks\": \"\"}, \"colorscale\": [[0.0, \"#0d0887\"], [0.1111111111111111, \"#46039f\"], [0.2222222222222222, \"#7201a8\"], [0.3333333333333333, \"#9c179e\"], [0.4444444444444444, \"#bd3786\"], [0.5555555555555556, \"#d8576b\"], [0.6666666666666666, \"#ed7953\"], [0.7777777777777778, \"#fb9f3a\"], [0.8888888888888888, \"#fdca26\"], [1.0, \"#f0f921\"]], \"type\": \"surface\"}], \"table\": [{\"cells\": {\"fill\": {\"color\": \"#EBF0F8\"}, \"line\": {\"color\": \"white\"}}, \"header\": {\"fill\": {\"color\": \"#C8D4E3\"}, \"line\": {\"color\": \"white\"}}, \"type\": \"table\"}]}, \"layout\": {\"annotationdefaults\": {\"arrowcolor\": \"#2a3f5f\", \"arrowhead\": 0, \"arrowwidth\": 1}, \"coloraxis\": {\"colorbar\": {\"outlinewidth\": 0, \"ticks\": \"\"}}, \"colorscale\": {\"diverging\": [[0, \"#8e0152\"], [0.1, \"#c51b7d\"], [0.2, \"#de77ae\"], [0.3, \"#f1b6da\"], [0.4, \"#fde0ef\"], [0.5, \"#f7f7f7\"], [0.6, \"#e6f5d0\"], [0.7, \"#b8e186\"], [0.8, \"#7fbc41\"], [0.9, \"#4d9221\"], [1, \"#276419\"]], \"sequential\": [[0.0, \"#0d0887\"], [0.1111111111111111, \"#46039f\"], [0.2222222222222222, \"#7201a8\"], [0.3333333333333333, \"#9c179e\"], [0.4444444444444444, \"#bd3786\"], [0.5555555555555556, \"#d8576b\"], [0.6666666666666666, \"#ed7953\"], [0.7777777777777778, \"#fb9f3a\"], [0.8888888888888888, \"#fdca26\"], [1.0, \"#f0f921\"]], \"sequentialminus\": [[0.0, \"#0d0887\"], [0.1111111111111111, \"#46039f\"], [0.2222222222222222, \"#7201a8\"], [0.3333333333333333, \"#9c179e\"], [0.4444444444444444, \"#bd3786\"], [0.5555555555555556, \"#d8576b\"], [0.6666666666666666, \"#ed7953\"], [0.7777777777777778, \"#fb9f3a\"], [0.8888888888888888, \"#fdca26\"], [1.0, \"#f0f921\"]]}, \"colorway\": [\"#636efa\", \"#EF553B\", \"#00cc96\", \"#ab63fa\", \"#FFA15A\", \"#19d3f3\", \"#FF6692\", \"#B6E880\", \"#FF97FF\", \"#FECB52\"], \"font\": {\"color\": \"#2a3f5f\"}, \"geo\": {\"bgcolor\": \"white\", \"lakecolor\": \"white\", \"landcolor\": \"#E5ECF6\", \"showlakes\": true, \"showland\": true, \"subunitcolor\": \"white\"}, \"hoverlabel\": {\"align\": \"left\"}, \"hovermode\": \"closest\", \"mapbox\": {\"style\": \"light\"}, \"paper_bgcolor\": \"white\", \"plot_bgcolor\": \"#E5ECF6\", \"polar\": {\"angularaxis\": {\"gridcolor\": \"white\", \"linecolor\": \"white\", \"ticks\": \"\"}, \"bgcolor\": \"#E5ECF6\", \"radialaxis\": {\"gridcolor\": \"white\", \"linecolor\": \"white\", \"ticks\": \"\"}}, \"scene\": {\"xaxis\": {\"backgroundcolor\": \"#E5ECF6\", \"gridcolor\": \"white\", \"gridwidth\": 2, \"linecolor\": \"white\", \"showbackground\": true, \"ticks\": \"\", \"zerolinecolor\": \"white\"}, \"yaxis\": {\"backgroundcolor\": \"#E5ECF6\", \"gridcolor\": \"white\", \"gridwidth\": 2, \"linecolor\": \"white\", \"showbackground\": true, \"ticks\": \"\", \"zerolinecolor\": \"white\"}, \"zaxis\": {\"backgroundcolor\": \"#E5ECF6\", \"gridcolor\": \"white\", \"gridwidth\": 2, \"linecolor\": \"white\", \"showbackground\": true, \"ticks\": \"\", \"zerolinecolor\": \"white\"}}, \"shapedefaults\": {\"line\": {\"color\": \"#2a3f5f\"}}, \"ternary\": {\"aaxis\": {\"gridcolor\": \"white\", \"linecolor\": \"white\", \"ticks\": \"\"}, \"baxis\": {\"gridcolor\": \"white\", \"linecolor\": \"white\", \"ticks\": \"\"}, \"bgcolor\": \"#E5ECF6\", \"caxis\": {\"gridcolor\": \"white\", \"linecolor\": \"white\", \"ticks\": \"\"}}, \"title\": {\"x\": 0.05}, \"xaxis\": {\"automargin\": true, \"gridcolor\": \"white\", \"linecolor\": \"white\", \"ticks\": \"\", \"title\": {\"standoff\": 15}, \"zerolinecolor\": \"white\", \"zerolinewidth\": 2}, \"yaxis\": {\"automargin\": true, \"gridcolor\": \"white\", \"linecolor\": \"white\", \"ticks\": \"\", \"title\": {\"standoff\": 15}, \"zerolinecolor\": \"white\", \"zerolinewidth\": 2}}}, \"title\": {\"text\": \"Parameter Tunings Mean Absolute Percentage Error: Multivariate Confirmed Cases\", \"x\": 0.5}, \"width\": 1200},\n",
              "                        {\"responsive\": true}\n",
              "                    ).then(function(){\n",
              "                            \n",
              "var gd = document.getElementById('b106320c-4de5-4ef7-8d07-606e3e5c836c');\n",
              "var x = new MutationObserver(function (mutations, observer) {{\n",
              "        var display = window.getComputedStyle(gd).display;\n",
              "        if (!display || display === 'none') {{\n",
              "            console.log([gd, 'removed!']);\n",
              "            Plotly.purge(gd);\n",
              "            observer.disconnect();\n",
              "        }}\n",
              "}});\n",
              "\n",
              "// Listen for the removal of the full notebook cells\n",
              "var notebookContainer = gd.closest('#notebook-container');\n",
              "if (notebookContainer) {{\n",
              "    x.observe(notebookContainer, {childList: true});\n",
              "}}\n",
              "\n",
              "// Listen for the clearing of the current output cell\n",
              "var outputEl = gd.closest('.output');\n",
              "if (outputEl) {{\n",
              "    x.observe(outputEl, {childList: true});\n",
              "}}\n",
              "\n",
              "                        })\n",
              "                };\n",
              "                \n",
              "            </script>\n",
              "        </div>\n",
              "</body>\n",
              "</html>"
            ]
          },
          "metadata": {}
        }
      ]
    },
    {
      "cell_type": "markdown",
      "metadata": {
        "id": "jjt0C2lR5puq"
      },
      "source": [
        "#### Multivariate Confirmed Deaths"
      ]
    },
    {
      "cell_type": "code",
      "metadata": {
        "colab": {
          "base_uri": "https://localhost:8080/",
          "height": 717
        },
        "id": "tEs71xle1nbi",
        "outputId": "328ed9d8-f623-4aca-a887-22fcab0b0122"
      },
      "source": [
        "fig = go.Figure(data=[go.Table(header=dict(values=['Model', 'Kernel size', 'Pool', '2 Nodes','4 Nodes', '8 Nodes', '16 Nodes', '32 Nodes',\n",
        "                                                   \"64 Nodes\", '128 Nodes', '256 Nodes', '512 Nodes' , '1024 Nodes'],\n",
        "                                           line_color = 'gray'),\n",
        "                               cells=dict(values=[['LSTM', 'GRU', 'RNNs', 'CNN',\n",
        "                                                   'CNN', 'CNN', 'CNN', 'CNN', 'CNN'],\n",
        "                                                  ['-', '-', '-', '3', '5', '7', '3', '5', '7'],\n",
        "                                                  ['-', '-', '-', '2', '2', '2', '3', '3', '3'],\n",
        "                                    [round(lstm_d_multi[0],3), \n",
        "                                     round(gru_d_multi[0],3),\n",
        "                                     round(rnn_d_multi[0],3), \n",
        "                                     round(cnn_d_multi.iloc[0,0],3),\n",
        "                                     round(cnn_d_multi.iloc[0,1],3),\n",
        "                                     round(cnn_d_multi.iloc[0,2],3),\n",
        "                                     round(cnn_d_multi.iloc[0,3],3),\n",
        "                                     round(cnn_d_multi.iloc[0,4],3),\n",
        "                                     round(cnn_d_multi.iloc[0,5],3)],\n",
        "                                     [round(lstm_d_multi[1],3), \n",
        "                                     round(gru_d_multi[1],3),\n",
        "                                     round(rnn_d_multi[1],3), \n",
        "                                     round(cnn_d_multi.iloc[1,0],3),\n",
        "                                     round(cnn_d_multi.iloc[1,1],3),\n",
        "                                     round(cnn_d_multi.iloc[1,2],3),\n",
        "                                     round(cnn_d_multi.iloc[1,3],3),\n",
        "                                     round(cnn_d_multi.iloc[1,4],3),\n",
        "                                     round(cnn_d_multi.iloc[1,5],3)],\n",
        "                                     [round(lstm_d_multi[2],3), \n",
        "                                     round(gru_d_multi[2],3),\n",
        "                                     round(rnn_d_multi[2],3), \n",
        "                                     round(cnn_d_multi.iloc[2,0],3),\n",
        "                                     round(cnn_d_multi.iloc[2,1],3),\n",
        "                                     round(cnn_d_multi.iloc[2,2],3),\n",
        "                                     round(cnn_d_multi.iloc[2,3],3),\n",
        "                                     round(cnn_d_multi.iloc[2,4],3),\n",
        "                                     round(cnn_d_multi.iloc[2,5],3)],\n",
        "                                     [round(lstm_d_multi[3],3), \n",
        "                                     round(gru_d_multi[3],3),\n",
        "                                     round(rnn_d_multi[3],3), \n",
        "                                     round(cnn_d_multi.iloc[3,0],3),\n",
        "                                     round(cnn_d_multi.iloc[3,1],3),\n",
        "                                     round(cnn_d_multi.iloc[3,2],3),\n",
        "                                     round(cnn_d_multi.iloc[3,3],3),\n",
        "                                     round(cnn_d_multi.iloc[3,4],3),\n",
        "                                     round(cnn_d_multi.iloc[3,5],3)],\n",
        "                                     [round(lstm_d_multi[4],3), \n",
        "                                     round(gru_d_multi[4],3),\n",
        "                                     round(rnn_d_multi[4],3), \n",
        "                                     round(cnn_d_multi.iloc[4,0],3),\n",
        "                                     round(cnn_d_multi.iloc[4,1],3),\n",
        "                                     round(cnn_d_multi.iloc[4,2],3),\n",
        "                                     round(cnn_d_multi.iloc[4,3],3),\n",
        "                                     round(cnn_d_multi.iloc[4,4],3),\n",
        "                                     round(cnn_d_multi.iloc[4,5],3)],\n",
        "                                     [round(lstm_d_multi[5],3), \n",
        "                                     round(gru_d_multi[5],3),\n",
        "                                     round(rnn_d_multi[5],3), \n",
        "                                     round(cnn_d_multi.iloc[5,0],3),\n",
        "                                     round(cnn_d_multi.iloc[5,1],3),\n",
        "                                     round(cnn_d_multi.iloc[5,2],3),\n",
        "                                     round(cnn_d_multi.iloc[5,3],3),\n",
        "                                     round(cnn_d_multi.iloc[5,4],3),\n",
        "                                     round(cnn_d_multi.iloc[5,5],3)],\n",
        "                                     [round(lstm_d_multi[6],3), \n",
        "                                     round(gru_d_multi[6],3),\n",
        "                                     round(rnn_d_multi[6],3), \n",
        "                                     round(cnn_d_multi.iloc[6,0],3),\n",
        "                                     round(cnn_d_multi.iloc[6,1],3),\n",
        "                                     round(cnn_d_multi.iloc[6,2],3),\n",
        "                                     round(cnn_d_multi.iloc[6,3],3),\n",
        "                                     round(cnn_d_multi.iloc[6,4],3),\n",
        "                                     round(cnn_d_multi.iloc[6,5],3)],\n",
        "                                     [round(lstm_d_multi[7],3), \n",
        "                                     round(gru_d_multi[7],3),\n",
        "                                     round(rnn_d_multi[7],3), \n",
        "                                     round(cnn_d_multi.iloc[7,0],3),\n",
        "                                     round(cnn_d_multi.iloc[7,1],3),\n",
        "                                     round(cnn_d_multi.iloc[7,2],3),\n",
        "                                     round(cnn_d_multi.iloc[7,3],3),\n",
        "                                     round(cnn_d_multi.iloc[7,4],3),\n",
        "                                     round(cnn_d_multi.iloc[7,5],3)],\n",
        "                                     [round(lstm_d_multi[8],3), \n",
        "                                     round(gru_d_multi[8],3),\n",
        "                                     round(rnn_d_multi[8],3), \n",
        "                                     round(cnn_d_multi.iloc[8,0],3),\n",
        "                                     round(cnn_d_multi.iloc[8,1],3),\n",
        "                                     round(cnn_d_multi.iloc[8,2],3),\n",
        "                                     round(cnn_d_multi.iloc[8,3],3),\n",
        "                                     round(cnn_d_multi.iloc[8,4],3),\n",
        "                                     round(cnn_d_multi.iloc[8,5],3)],\n",
        "                                     [round(lstm_d_multi[9],3), \n",
        "                                     round(gru_d_multi[9],3),\n",
        "                                     round(rnn_d_multi[9],3), \n",
        "                                     round(cnn_d_multi.iloc[9,0],3),\n",
        "                                     round(cnn_d_multi.iloc[9,1],3),\n",
        "                                     round(cnn_d_multi.iloc[9,2],3),\n",
        "                                     round(cnn_d_multi.iloc[9,3],3),\n",
        "                                     round(cnn_d_multi.iloc[9,4],3),\n",
        "                                     round(cnn_d_multi.iloc[9,5],3)]],\n",
        "                            align=['left','center', 'center', \n",
        "                                   'right','right','right',\n",
        "                                   'right','right','right',\n",
        "                                   'right','right','right','right'],\n",
        "                            fill_color = 'white',\n",
        "                            line_color = 'gray'))\n",
        "                     ])\n",
        "fig.update_layout(title = \"Parameter Tunings Mean Absolute Percentage Error: Multivariate Confirmed Deaths\",\n",
        "                  title_x=0.5, height = 700, width = 1200)\n",
        "fig.show()"
      ],
      "execution_count": 20,
      "outputs": [
        {
          "output_type": "display_data",
          "data": {
            "text/html": [
              "<html>\n",
              "<head><meta charset=\"utf-8\" /></head>\n",
              "<body>\n",
              "    <div>\n",
              "            <script src=\"https://cdnjs.cloudflare.com/ajax/libs/mathjax/2.7.5/MathJax.js?config=TeX-AMS-MML_SVG\"></script><script type=\"text/javascript\">if (window.MathJax) {MathJax.Hub.Config({SVG: {font: \"STIX-Web\"}});}</script>\n",
              "                <script type=\"text/javascript\">window.PlotlyConfig = {MathJaxConfig: 'local'};</script>\n",
              "        <script src=\"https://cdn.plot.ly/plotly-latest.min.js\"></script>    \n",
              "            <div id=\"1e765aa3-6e50-432b-9ae9-9ed0adc69409\" class=\"plotly-graph-div\" style=\"height:700px; width:1200px;\"></div>\n",
              "            <script type=\"text/javascript\">\n",
              "                \n",
              "                    window.PLOTLYENV=window.PLOTLYENV || {};\n",
              "                    \n",
              "                if (document.getElementById(\"1e765aa3-6e50-432b-9ae9-9ed0adc69409\")) {\n",
              "                    Plotly.newPlot(\n",
              "                        '1e765aa3-6e50-432b-9ae9-9ed0adc69409',\n",
              "                        [{\"cells\": {\"align\": [\"left\", \"center\", \"center\", \"right\", \"right\", \"right\", \"right\", \"right\", \"right\", \"right\", \"right\", \"right\", \"right\"], \"fill\": {\"color\": \"white\"}, \"line\": {\"color\": \"gray\"}, \"values\": [[\"LSTM\", \"GRU\", \"RNNs\", \"CNN\", \"CNN\", \"CNN\", \"CNN\", \"CNN\", \"CNN\"], [\"-\", \"-\", \"-\", \"3\", \"5\", \"7\", \"3\", \"5\", \"7\"], [\"-\", \"-\", \"-\", \"2\", \"2\", \"2\", \"3\", \"3\", \"3\"], [98.016, 98.016, 983.297, 148.43, 172.771, 102.066, 194.768, 95.849, 258.723], [51.49, 17.1, 18.342, 103.859, 96.059, 92.144, 240.113, 115.305, 99.145], [98.016, 20.707, 113.217, 82.415, 82.17, 76.603, 58.689, 57.433, 63.742], [28.294, 18.325, 16.428, 82.483, 60.991, 48.725, 73.441, 60.125, 41.143], [28.965, 18.487, 21.754, 25.726, 81.041, 49.862, 135.097, 66.749, 48.292], [66.947, 22.751, 17.317, 38.086, 27.628, 19.62, 24.267, 27.665, 28.146], [18.926, 17.781, 20.346, 22.954, 24.158, 44.611, 30.995, 30.654, 21.921], [68.383, 23.427, 16.256, 125.163, 14.05, 13.648, 19.114, 12.359, 166.809], [63.986, 23.051, 22.167, 14.512, 11.43, 18.333, 12.015, 18.707, 31.967], [30.698, 22.726, 24.002, 15.984, 30.59, 11.259, 12.837, 81.752, 14.649]]}, \"header\": {\"line\": {\"color\": \"gray\"}, \"values\": [\"Model\", \"Kernel size\", \"Pool\", \"2 Nodes\", \"4 Nodes\", \"8 Nodes\", \"16 Nodes\", \"32 Nodes\", \"64 Nodes\", \"128 Nodes\", \"256 Nodes\", \"512 Nodes\", \"1024 Nodes\"]}, \"type\": \"table\"}],\n",
              "                        {\"height\": 700, \"template\": {\"data\": {\"bar\": [{\"error_x\": {\"color\": \"#2a3f5f\"}, \"error_y\": {\"color\": \"#2a3f5f\"}, \"marker\": {\"line\": {\"color\": \"#E5ECF6\", \"width\": 0.5}}, \"type\": \"bar\"}], \"barpolar\": [{\"marker\": {\"line\": {\"color\": \"#E5ECF6\", \"width\": 0.5}}, \"type\": \"barpolar\"}], \"carpet\": [{\"aaxis\": {\"endlinecolor\": \"#2a3f5f\", \"gridcolor\": \"white\", \"linecolor\": \"white\", \"minorgridcolor\": \"white\", \"startlinecolor\": \"#2a3f5f\"}, \"baxis\": {\"endlinecolor\": \"#2a3f5f\", \"gridcolor\": \"white\", \"linecolor\": \"white\", \"minorgridcolor\": \"white\", \"startlinecolor\": \"#2a3f5f\"}, \"type\": \"carpet\"}], \"choropleth\": [{\"colorbar\": {\"outlinewidth\": 0, \"ticks\": \"\"}, \"type\": \"choropleth\"}], \"contour\": [{\"colorbar\": {\"outlinewidth\": 0, \"ticks\": \"\"}, \"colorscale\": [[0.0, \"#0d0887\"], [0.1111111111111111, \"#46039f\"], [0.2222222222222222, \"#7201a8\"], [0.3333333333333333, \"#9c179e\"], [0.4444444444444444, \"#bd3786\"], [0.5555555555555556, \"#d8576b\"], [0.6666666666666666, \"#ed7953\"], [0.7777777777777778, \"#fb9f3a\"], [0.8888888888888888, \"#fdca26\"], [1.0, \"#f0f921\"]], \"type\": \"contour\"}], \"contourcarpet\": [{\"colorbar\": {\"outlinewidth\": 0, \"ticks\": \"\"}, \"type\": \"contourcarpet\"}], \"heatmap\": [{\"colorbar\": {\"outlinewidth\": 0, \"ticks\": \"\"}, \"colorscale\": [[0.0, \"#0d0887\"], [0.1111111111111111, \"#46039f\"], [0.2222222222222222, \"#7201a8\"], [0.3333333333333333, \"#9c179e\"], [0.4444444444444444, \"#bd3786\"], [0.5555555555555556, \"#d8576b\"], [0.6666666666666666, \"#ed7953\"], [0.7777777777777778, \"#fb9f3a\"], [0.8888888888888888, \"#fdca26\"], [1.0, \"#f0f921\"]], \"type\": \"heatmap\"}], \"heatmapgl\": [{\"colorbar\": {\"outlinewidth\": 0, \"ticks\": \"\"}, \"colorscale\": [[0.0, \"#0d0887\"], [0.1111111111111111, \"#46039f\"], [0.2222222222222222, \"#7201a8\"], [0.3333333333333333, \"#9c179e\"], [0.4444444444444444, \"#bd3786\"], [0.5555555555555556, \"#d8576b\"], [0.6666666666666666, \"#ed7953\"], [0.7777777777777778, \"#fb9f3a\"], [0.8888888888888888, \"#fdca26\"], [1.0, \"#f0f921\"]], \"type\": \"heatmapgl\"}], \"histogram\": [{\"marker\": {\"colorbar\": {\"outlinewidth\": 0, \"ticks\": \"\"}}, \"type\": \"histogram\"}], \"histogram2d\": [{\"colorbar\": {\"outlinewidth\": 0, \"ticks\": \"\"}, \"colorscale\": [[0.0, \"#0d0887\"], [0.1111111111111111, \"#46039f\"], [0.2222222222222222, \"#7201a8\"], [0.3333333333333333, \"#9c179e\"], [0.4444444444444444, \"#bd3786\"], [0.5555555555555556, \"#d8576b\"], [0.6666666666666666, \"#ed7953\"], [0.7777777777777778, \"#fb9f3a\"], [0.8888888888888888, \"#fdca26\"], [1.0, \"#f0f921\"]], \"type\": \"histogram2d\"}], \"histogram2dcontour\": [{\"colorbar\": {\"outlinewidth\": 0, \"ticks\": \"\"}, \"colorscale\": [[0.0, \"#0d0887\"], [0.1111111111111111, \"#46039f\"], [0.2222222222222222, \"#7201a8\"], [0.3333333333333333, \"#9c179e\"], [0.4444444444444444, \"#bd3786\"], [0.5555555555555556, \"#d8576b\"], [0.6666666666666666, \"#ed7953\"], [0.7777777777777778, \"#fb9f3a\"], [0.8888888888888888, \"#fdca26\"], [1.0, \"#f0f921\"]], \"type\": \"histogram2dcontour\"}], \"mesh3d\": [{\"colorbar\": {\"outlinewidth\": 0, \"ticks\": \"\"}, \"type\": \"mesh3d\"}], \"parcoords\": [{\"line\": {\"colorbar\": {\"outlinewidth\": 0, \"ticks\": \"\"}}, \"type\": \"parcoords\"}], \"pie\": [{\"automargin\": true, \"type\": \"pie\"}], \"scatter\": [{\"marker\": {\"colorbar\": {\"outlinewidth\": 0, \"ticks\": \"\"}}, \"type\": \"scatter\"}], \"scatter3d\": [{\"line\": {\"colorbar\": {\"outlinewidth\": 0, \"ticks\": \"\"}}, \"marker\": {\"colorbar\": {\"outlinewidth\": 0, \"ticks\": \"\"}}, \"type\": \"scatter3d\"}], \"scattercarpet\": [{\"marker\": {\"colorbar\": {\"outlinewidth\": 0, \"ticks\": \"\"}}, \"type\": \"scattercarpet\"}], \"scattergeo\": [{\"marker\": {\"colorbar\": {\"outlinewidth\": 0, \"ticks\": \"\"}}, \"type\": \"scattergeo\"}], \"scattergl\": [{\"marker\": {\"colorbar\": {\"outlinewidth\": 0, \"ticks\": \"\"}}, \"type\": \"scattergl\"}], \"scattermapbox\": [{\"marker\": {\"colorbar\": {\"outlinewidth\": 0, \"ticks\": \"\"}}, \"type\": \"scattermapbox\"}], \"scatterpolar\": [{\"marker\": {\"colorbar\": {\"outlinewidth\": 0, \"ticks\": \"\"}}, \"type\": \"scatterpolar\"}], \"scatterpolargl\": [{\"marker\": {\"colorbar\": {\"outlinewidth\": 0, \"ticks\": \"\"}}, \"type\": \"scatterpolargl\"}], \"scatterternary\": [{\"marker\": {\"colorbar\": {\"outlinewidth\": 0, \"ticks\": \"\"}}, \"type\": \"scatterternary\"}], \"surface\": [{\"colorbar\": {\"outlinewidth\": 0, \"ticks\": \"\"}, \"colorscale\": [[0.0, \"#0d0887\"], [0.1111111111111111, \"#46039f\"], [0.2222222222222222, \"#7201a8\"], [0.3333333333333333, \"#9c179e\"], [0.4444444444444444, \"#bd3786\"], [0.5555555555555556, \"#d8576b\"], [0.6666666666666666, \"#ed7953\"], [0.7777777777777778, \"#fb9f3a\"], [0.8888888888888888, \"#fdca26\"], [1.0, \"#f0f921\"]], \"type\": \"surface\"}], \"table\": [{\"cells\": {\"fill\": {\"color\": \"#EBF0F8\"}, \"line\": {\"color\": \"white\"}}, \"header\": {\"fill\": {\"color\": \"#C8D4E3\"}, \"line\": {\"color\": \"white\"}}, \"type\": \"table\"}]}, \"layout\": {\"annotationdefaults\": {\"arrowcolor\": \"#2a3f5f\", \"arrowhead\": 0, \"arrowwidth\": 1}, \"coloraxis\": {\"colorbar\": {\"outlinewidth\": 0, \"ticks\": \"\"}}, \"colorscale\": {\"diverging\": [[0, \"#8e0152\"], [0.1, \"#c51b7d\"], [0.2, \"#de77ae\"], [0.3, \"#f1b6da\"], [0.4, \"#fde0ef\"], [0.5, \"#f7f7f7\"], [0.6, \"#e6f5d0\"], [0.7, \"#b8e186\"], [0.8, \"#7fbc41\"], [0.9, \"#4d9221\"], [1, \"#276419\"]], \"sequential\": [[0.0, \"#0d0887\"], [0.1111111111111111, \"#46039f\"], [0.2222222222222222, \"#7201a8\"], [0.3333333333333333, \"#9c179e\"], [0.4444444444444444, \"#bd3786\"], [0.5555555555555556, \"#d8576b\"], [0.6666666666666666, \"#ed7953\"], [0.7777777777777778, \"#fb9f3a\"], [0.8888888888888888, \"#fdca26\"], [1.0, \"#f0f921\"]], \"sequentialminus\": [[0.0, \"#0d0887\"], [0.1111111111111111, \"#46039f\"], [0.2222222222222222, \"#7201a8\"], [0.3333333333333333, \"#9c179e\"], [0.4444444444444444, \"#bd3786\"], [0.5555555555555556, \"#d8576b\"], [0.6666666666666666, \"#ed7953\"], [0.7777777777777778, \"#fb9f3a\"], [0.8888888888888888, \"#fdca26\"], [1.0, \"#f0f921\"]]}, \"colorway\": [\"#636efa\", \"#EF553B\", \"#00cc96\", \"#ab63fa\", \"#FFA15A\", \"#19d3f3\", \"#FF6692\", \"#B6E880\", \"#FF97FF\", \"#FECB52\"], \"font\": {\"color\": \"#2a3f5f\"}, \"geo\": {\"bgcolor\": \"white\", \"lakecolor\": \"white\", \"landcolor\": \"#E5ECF6\", \"showlakes\": true, \"showland\": true, \"subunitcolor\": \"white\"}, \"hoverlabel\": {\"align\": \"left\"}, \"hovermode\": \"closest\", \"mapbox\": {\"style\": \"light\"}, \"paper_bgcolor\": \"white\", \"plot_bgcolor\": \"#E5ECF6\", \"polar\": {\"angularaxis\": {\"gridcolor\": \"white\", \"linecolor\": \"white\", \"ticks\": \"\"}, \"bgcolor\": \"#E5ECF6\", \"radialaxis\": {\"gridcolor\": \"white\", \"linecolor\": \"white\", \"ticks\": \"\"}}, \"scene\": {\"xaxis\": {\"backgroundcolor\": \"#E5ECF6\", \"gridcolor\": \"white\", \"gridwidth\": 2, \"linecolor\": \"white\", \"showbackground\": true, \"ticks\": \"\", \"zerolinecolor\": \"white\"}, \"yaxis\": {\"backgroundcolor\": \"#E5ECF6\", \"gridcolor\": \"white\", \"gridwidth\": 2, \"linecolor\": \"white\", \"showbackground\": true, \"ticks\": \"\", \"zerolinecolor\": \"white\"}, \"zaxis\": {\"backgroundcolor\": \"#E5ECF6\", \"gridcolor\": \"white\", \"gridwidth\": 2, \"linecolor\": \"white\", \"showbackground\": true, \"ticks\": \"\", \"zerolinecolor\": \"white\"}}, \"shapedefaults\": {\"line\": {\"color\": \"#2a3f5f\"}}, \"ternary\": {\"aaxis\": {\"gridcolor\": \"white\", \"linecolor\": \"white\", \"ticks\": \"\"}, \"baxis\": {\"gridcolor\": \"white\", \"linecolor\": \"white\", \"ticks\": \"\"}, \"bgcolor\": \"#E5ECF6\", \"caxis\": {\"gridcolor\": \"white\", \"linecolor\": \"white\", \"ticks\": \"\"}}, \"title\": {\"x\": 0.05}, \"xaxis\": {\"automargin\": true, \"gridcolor\": \"white\", \"linecolor\": \"white\", \"ticks\": \"\", \"title\": {\"standoff\": 15}, \"zerolinecolor\": \"white\", \"zerolinewidth\": 2}, \"yaxis\": {\"automargin\": true, \"gridcolor\": \"white\", \"linecolor\": \"white\", \"ticks\": \"\", \"title\": {\"standoff\": 15}, \"zerolinecolor\": \"white\", \"zerolinewidth\": 2}}}, \"title\": {\"text\": \"Parameter Tunings Mean Absolute Percentage Error: Multivariate Confirmed Deaths\", \"x\": 0.5}, \"width\": 1200},\n",
              "                        {\"responsive\": true}\n",
              "                    ).then(function(){\n",
              "                            \n",
              "var gd = document.getElementById('1e765aa3-6e50-432b-9ae9-9ed0adc69409');\n",
              "var x = new MutationObserver(function (mutations, observer) {{\n",
              "        var display = window.getComputedStyle(gd).display;\n",
              "        if (!display || display === 'none') {{\n",
              "            console.log([gd, 'removed!']);\n",
              "            Plotly.purge(gd);\n",
              "            observer.disconnect();\n",
              "        }}\n",
              "}});\n",
              "\n",
              "// Listen for the removal of the full notebook cells\n",
              "var notebookContainer = gd.closest('#notebook-container');\n",
              "if (notebookContainer) {{\n",
              "    x.observe(notebookContainer, {childList: true});\n",
              "}}\n",
              "\n",
              "// Listen for the clearing of the current output cell\n",
              "var outputEl = gd.closest('.output');\n",
              "if (outputEl) {{\n",
              "    x.observe(outputEl, {childList: true});\n",
              "}}\n",
              "\n",
              "                        })\n",
              "                };\n",
              "                \n",
              "            </script>\n",
              "        </div>\n",
              "</body>\n",
              "</html>"
            ]
          },
          "metadata": {}
        }
      ]
    },
    {
      "cell_type": "markdown",
      "metadata": {
        "id": "vc5YHb2g7fIF"
      },
      "source": [
        "## Training and Validation\n",
        "\n",
        "---\n",
        "\n",
        "After models were selected, using the training data set, we adjusted and trained the models to get the prediction with the lowest MAPE. We, then, used test samples for model validations and combined predicted values from both training and test sets together. This was only for illustration purpose.\n"
      ]
    },
    {
      "cell_type": "markdown",
      "metadata": {
        "id": "7X0mIDbGFxE0"
      },
      "source": [
        "### Multivariate Confirmed Cases"
      ]
    },
    {
      "cell_type": "code",
      "metadata": {
        "colab": {
          "base_uri": "https://localhost:8080/"
        },
        "id": "LQbv37lbF0FY",
        "outputId": "83bd6836-c342-4436-f0cb-c6c0826a0335"
      },
      "source": [
        "seed(1)\n",
        "tensorflow.random.set_seed(1)\n",
        "\n",
        "# model_multi_i = Sequential()\n",
        "# model_multi_i.add(Conv1D(filters = 4, kernel_size = 5, activation='relu', input_shape=(X_i_p_tr.shape[1], X_i_p_tr.shape[2])))\n",
        "# model_multi_i.add(MaxPooling1D(pool_size = 2))\n",
        "# model_multi_i.add(Flatten())\n",
        "# model_multi_i.add(Dense(64, activation = \"relu\"))\n",
        "# model_multi_i.add(Dense(1, activation = \"linear\"))\n",
        "# model_multi_i.compile(loss='mse', optimizer='adam', metrics = \"MAPE\")\n",
        "\n",
        "model_multi_i = Sequential()\n",
        "model_multi_i.add(SimpleRNN(32, activation='relu', input_shape=(X_i_p_tr.shape[1], X_i_p_tr.shape[2])))\n",
        "# model_multi_i.add(Dense(32, activation = \"relu\"))\n",
        "model_multi_i.add(Dense(1, activation = \"linear\"))\n",
        "model_multi_i.compile(loss='mse', optimizer='adam', metrics = \"MAPE\")\n",
        "\n",
        "# fit network\n",
        "model_multi_i.fit(X_i_p_tr, y_i_p_tr, \n",
        "                           epochs=50, \n",
        "                           batch_size=1, \n",
        "                           verbose=0, \n",
        "                           shuffle=False)\n",
        "\n",
        "\n",
        "scores_multi_i1 = model_multi_i.evaluate(X_i_p_tr, y_i_p_tr, verbose=0)\n",
        "\n",
        "# MAPE\n",
        "print(\"MAPE: training = \",scores_multi_i1[1])\n",
        "\n",
        "scores_multi_i = model_multi_i.evaluate(X_i_p_ts, y_i_p_ts, verbose=0)\n",
        "\n",
        "# MAPE\n",
        "print(\"MAPE: test = \",scores_multi_i[1])"
      ],
      "execution_count": 21,
      "outputs": [
        {
          "output_type": "stream",
          "name": "stdout",
          "text": [
            "MAPE: training =  4.844964504241943\n",
            "MAPE: test =  201933848576.0\n"
          ]
        }
      ]
    },
    {
      "cell_type": "code",
      "metadata": {
        "id": "PGGnOECzF0MN"
      },
      "source": [
        "# make a prediction\n",
        "# training set\n",
        "y_multi_i_tr = pd.DataFrame(model_multi_i.predict(X_i_p_tr))\n",
        "\n",
        "# test set\n",
        "y_multi_i_ts = pd.DataFrame(model_multi_i.predict(X_i_p_ts))\n",
        "\n",
        "# combine training and test predictions\n",
        "y_multi_i_total = pd.concat([y_multi_i_tr, y_multi_i_ts], ignore_index=True)\n"
      ],
      "execution_count": 22,
      "outputs": []
    },
    {
      "cell_type": "markdown",
      "metadata": {
        "id": "LX_viW2LFOgn"
      },
      "source": [
        "### Multivariate Confirmed Deaths"
      ]
    },
    {
      "cell_type": "code",
      "metadata": {
        "colab": {
          "base_uri": "https://localhost:8080/"
        },
        "id": "ETqGykawFR0f",
        "outputId": "180af01d-04a4-4f46-fac6-a00d377fabd6"
      },
      "source": [
        "seed(1)\n",
        "tensorflow.random.set_seed(1)\n",
        "\n",
        "# model_multi_d = Sequential()\n",
        "# model_multi_d.add(GRU(8, activation = 'relu', input_shape=(X_d_p_tr.shape[1], X_d_p_tr.shape[2])))\n",
        "# model_multi_d.add(Dense(4, activation = \"relu\"))\n",
        "# model_multi_d.add(Dense(1, activation = \"linear\"))\n",
        "# model_multi_d.compile(loss='mse', optimizer='adam', metrics = \"MAPE\")\n",
        "\n",
        "model_multi_d = Sequential()\n",
        "model_multi_d.add(Conv1D(1024, kernel_size = 7, activation = 'relu', input_shape=(X_d_p_tr.shape[1], X_d_p_tr.shape[2])))\n",
        "model_multi_d.add(MaxPooling1D(2))\n",
        "model_multi_d.add(Flatten())\n",
        "model_multi_d.add(Dense(1, activation = \"linear\"))\n",
        "model_multi_d.compile(loss='mse', optimizer='adam', metrics = \"MAPE\")\n",
        "\n",
        "# fit network\n",
        "model_multi_d.fit(X_d_p_tr, y_d_p_tr, \n",
        "                           epochs=50, \n",
        "                           batch_size=1, \n",
        "                           verbose=0, \n",
        "                           shuffle=False)\n",
        "\n",
        "scores_multi_d1 = model_multi_d.evaluate(X_d_p_tr, y_d_p_tr, verbose=0)\n",
        "\n",
        "# MAPE\n",
        "print(\"MAPE: training = \",scores_multi_d1[1])\n",
        "\n",
        "scores_multi_d = model_multi_d.evaluate(X_d_p_ts, y_d_p_ts, verbose=0)\n",
        "\n",
        "# MAPE\n",
        "print(\"MAPE: test = \",scores_multi_d[1])"
      ],
      "execution_count": 23,
      "outputs": [
        {
          "output_type": "stream",
          "name": "stdout",
          "text": [
            "MAPE: training =  11.258814811706543\n",
            "MAPE: test =  1567862144.0\n"
          ]
        }
      ]
    },
    {
      "cell_type": "code",
      "metadata": {
        "id": "NlPeIWWTFR7X"
      },
      "source": [
        "# make a prediction\n",
        "# training set\n",
        "y_multi_d_tr = pd.DataFrame(model_multi_d.predict(X_d_p_tr))\n",
        "\n",
        "# test set\n",
        "y_multi_d_ts = pd.DataFrame(model_multi_d.predict(X_d_p_ts))\n",
        "\n",
        "# combine training and test predictions\n",
        "y_multi_d_total = pd.concat([y_multi_d_tr, y_multi_d_ts], ignore_index=True)\n"
      ],
      "execution_count": 24,
      "outputs": []
    },
    {
      "cell_type": "code",
      "metadata": {
        "id": "AUJOWqqPSZjB"
      },
      "source": [
        "multi_in = \"RNNs\"\n",
        "multi_de = \"CNN\"\n",
        "tick_spacing = 5\n",
        "date_test = data2['Date'][0+index+lag-1]"
      ],
      "execution_count": 31,
      "outputs": []
    },
    {
      "cell_type": "markdown",
      "metadata": {
        "id": "hyai-GAA1pto"
      },
      "source": [
        "### Plots"
      ]
    },
    {
      "cell_type": "code",
      "metadata": {
        "colab": {
          "base_uri": "https://localhost:8080/",
          "height": 333
        },
        "id": "EyzgkqsZUst1",
        "outputId": "701ab0eb-d96a-49f8-b458-59b8cb9128be"
      },
      "source": [
        "infect = pd.concat([y_multi_i_total,\n",
        "                   data2.Cases_daily.iloc[lag:].reset_index(drop = True), \n",
        "                   data2.Date.iloc[lag:].reset_index(drop = True)],\n",
        "                   axis=1)\n",
        "infect.columns = ['multi_i', 'actual', 'Date']\n",
        "\n",
        "infect.dropna(subset = ['multi_i', 'actual', 'Date'], inplace=True)\n",
        "\n",
        "plt.plot(infect['Date'],infect['multi_i'], label = \"Predicted\")\n",
        "plt.plot(infect['Date'],infect['actual'], label = \"Actual\")\n",
        "plt.legend(frameon=False, loc='upper center', ncol = 2, fontsize = 'x-large')\n",
        "plt.title(\"Predicting Confirmed Cases\", fontsize = 'xx-large')\n",
        "plt.tick_params('x',labelrotation=90)\n",
        "plt.axvline(date_test, color=\"gray\", linestyle=\"--\")\n",
        "plt.grid(True, which='both', alpha=0.3)\n",
        "\n",
        "\n",
        "\n"
      ],
      "execution_count": 32,
      "outputs": [
        {
          "output_type": "display_data",
          "data": {
            "image/png": "[encoded data removed]",
            "text/plain": [
              "<Figure size 432x288 with 1 Axes>"
            ]
          },
          "metadata": {
            "needs_background": "light"
          }
        }
      ]
    },
    {
      "cell_type": "code",
      "metadata": {
        "colab": {
          "base_uri": "https://localhost:8080/",
          "height": 333
        },
        "id": "oZkoOixokk10",
        "outputId": "287974ef-630f-4433-97ed-9f5a6ce09525"
      },
      "source": [
        "\n",
        "death = pd.concat([y_multi_d_total,\n",
        "                   data2.Deaths_daily.iloc[lag:].reset_index(drop = True), \n",
        "                   data2.Date.iloc[lag:].reset_index(drop = True)],\n",
        "                  axis=1)\n",
        "death.columns = ['multi_d', 'actual', 'Date']\n",
        "\n",
        "death.dropna(subset = ['multi_d', 'actual', 'Date'], inplace=True)\n",
        "\n",
        "\n",
        "plt.plot(death['Date'],death['multi_d'], label = \"Predicted\")\n",
        "plt.plot(death['Date'],death['actual'], label = \"Actual\")\n",
        "plt.legend(frameon=False, loc='upper center', ncol = 2, fontsize = 'x-large')\n",
        "plt.title(\"Predicting Confirmed Deaths\", fontsize = 'xx-large')\n",
        "plt.tick_params('x',labelrotation=90)\n",
        "plt.axvline(date_test, color=\"gray\", linestyle=\"--\")\n",
        "plt.grid(True, which='both', alpha=0.3)"
      ],
      "execution_count": 34,
      "outputs": [
        {
          "output_type": "display_data",
          "data": {
            "image/png": "[encoded data removed]",
            "text/plain": [
              "<Figure size 432x288 with 1 Axes>"
            ]
          },
          "metadata": {
            "needs_background": "light"
          }
        }
      ]
    },
    {
      "cell_type": "markdown",
      "metadata": {
        "id": "mYcJN621o8A2"
      },
      "source": [
        "### Result Table"
      ]
    },
    {
      "cell_type": "code",
      "metadata": {
        "colab": {
          "base_uri": "https://localhost:8080/",
          "height": 542
        },
        "id": "fHC8w-KqZG7-",
        "outputId": "ce8698ab-adc1-4eda-ec8d-a7bc0d972172"
      },
      "source": [
        "fig = go.Figure(data=[go.Table(header=dict(values=['Model Type', 'Best Model', 'Training', 'Test'],\n",
        "                                           line_color = 'gray'),\n",
        "                               cells=dict(values=[['Multivariate: Confirmed Cases',\n",
        "                                                   'Multivariate: Confirmed Deaths'],\n",
        "                                                  [multi_in, multi_de],\n",
        "                                    [round(scores_multi_i1[1],3), round(scores_multi_d1[1],3)],\n",
        "                                    [round(scores_multi_i[1],3), round(scores_multi_d[1],3)]],\n",
        "                            align=['left','center', 'center', 'center'],\n",
        "                            fill_color = 'white',\n",
        "                            line_color = 'gray'))\n",
        "                     ])\n",
        "fig.update_layout(title = \"Mean Absolute Percentage Error\",title_x=0.5)\n",
        "fig.show()"
      ],
      "execution_count": 35,
      "outputs": [
        {
          "output_type": "display_data",
          "data": {
            "text/html": [
              "<html>\n",
              "<head><meta charset=\"utf-8\" /></head>\n",
              "<body>\n",
              "    <div>\n",
              "            <script src=\"https://cdnjs.cloudflare.com/ajax/libs/mathjax/2.7.5/MathJax.js?config=TeX-AMS-MML_SVG\"></script><script type=\"text/javascript\">if (window.MathJax) {MathJax.Hub.Config({SVG: {font: \"STIX-Web\"}});}</script>\n",
              "                <script type=\"text/javascript\">window.PlotlyConfig = {MathJaxConfig: 'local'};</script>\n",
              "        <script src=\"https://cdn.plot.ly/plotly-latest.min.js\"></script>    \n",
              "            <div id=\"c7851d73-3d26-44f0-bea0-d4476c5da3b5\" class=\"plotly-graph-div\" style=\"height:525px; width:100%;\"></div>\n",
              "            <script type=\"text/javascript\">\n",
              "                \n",
              "                    window.PLOTLYENV=window.PLOTLYENV || {};\n",
              "                    \n",
              "                if (document.getElementById(\"c7851d73-3d26-44f0-bea0-d4476c5da3b5\")) {\n",
              "                    Plotly.newPlot(\n",
              "                        'c7851d73-3d26-44f0-bea0-d4476c5da3b5',\n",
              "                        [{\"cells\": {\"align\": [\"left\", \"center\", \"center\", \"center\"], \"fill\": {\"color\": \"white\"}, \"line\": {\"color\": \"gray\"}, \"values\": [[\"Multivariate: Confirmed Cases\", \"Multivariate: Confirmed Deaths\"], [\"RNNs\", \"CNN\"], [4.845, 11.259], [201933848576.0, 1567862144.0]]}, \"header\": {\"line\": {\"color\": \"gray\"}, \"values\": [\"Model Type\", \"Best Model\", \"Training\", \"Test\"]}, \"type\": \"table\"}],\n",
              "                        {\"template\": {\"data\": {\"bar\": [{\"error_x\": {\"color\": \"#2a3f5f\"}, \"error_y\": {\"color\": \"#2a3f5f\"}, \"marker\": {\"line\": {\"color\": \"#E5ECF6\", \"width\": 0.5}}, \"type\": \"bar\"}], \"barpolar\": [{\"marker\": {\"line\": {\"color\": \"#E5ECF6\", \"width\": 0.5}}, \"type\": \"barpolar\"}], \"carpet\": [{\"aaxis\": {\"endlinecolor\": \"#2a3f5f\", \"gridcolor\": \"white\", \"linecolor\": \"white\", \"minorgridcolor\": \"white\", \"startlinecolor\": \"#2a3f5f\"}, \"baxis\": {\"endlinecolor\": \"#2a3f5f\", \"gridcolor\": \"white\", \"linecolor\": \"white\", \"minorgridcolor\": \"white\", \"startlinecolor\": \"#2a3f5f\"}, \"type\": \"carpet\"}], \"choropleth\": [{\"colorbar\": {\"outlinewidth\": 0, \"ticks\": \"\"}, \"type\": \"choropleth\"}], \"contour\": [{\"colorbar\": {\"outlinewidth\": 0, \"ticks\": \"\"}, \"colorscale\": [[0.0, \"#0d0887\"], [0.1111111111111111, \"#46039f\"], [0.2222222222222222, \"#7201a8\"], [0.3333333333333333, \"#9c179e\"], [0.4444444444444444, \"#bd3786\"], [0.5555555555555556, \"#d8576b\"], [0.6666666666666666, \"#ed7953\"], [0.7777777777777778, \"#fb9f3a\"], [0.8888888888888888, \"#fdca26\"], [1.0, \"#f0f921\"]], \"type\": \"contour\"}], \"contourcarpet\": [{\"colorbar\": {\"outlinewidth\": 0, \"ticks\": \"\"}, \"type\": \"contourcarpet\"}], \"heatmap\": [{\"colorbar\": {\"outlinewidth\": 0, \"ticks\": \"\"}, \"colorscale\": [[0.0, \"#0d0887\"], [0.1111111111111111, \"#46039f\"], [0.2222222222222222, \"#7201a8\"], [0.3333333333333333, \"#9c179e\"], [0.4444444444444444, \"#bd3786\"], [0.5555555555555556, \"#d8576b\"], [0.6666666666666666, \"#ed7953\"], [0.7777777777777778, \"#fb9f3a\"], [0.8888888888888888, \"#fdca26\"], [1.0, \"#f0f921\"]], \"type\": \"heatmap\"}], \"heatmapgl\": [{\"colorbar\": {\"outlinewidth\": 0, \"ticks\": \"\"}, \"colorscale\": [[0.0, \"#0d0887\"], [0.1111111111111111, \"#46039f\"], [0.2222222222222222, \"#7201a8\"], [0.3333333333333333, \"#9c179e\"], [0.4444444444444444, \"#bd3786\"], [0.5555555555555556, \"#d8576b\"], [0.6666666666666666, \"#ed7953\"], [0.7777777777777778, \"#fb9f3a\"], [0.8888888888888888, \"#fdca26\"], [1.0, \"#f0f921\"]], \"type\": \"heatmapgl\"}], \"histogram\": [{\"marker\": {\"colorbar\": {\"outlinewidth\": 0, \"ticks\": \"\"}}, \"type\": \"histogram\"}], \"histogram2d\": [{\"colorbar\": {\"outlinewidth\": 0, \"ticks\": \"\"}, \"colorscale\": [[0.0, \"#0d0887\"], [0.1111111111111111, \"#46039f\"], [0.2222222222222222, \"#7201a8\"], [0.3333333333333333, \"#9c179e\"], [0.4444444444444444, \"#bd3786\"], [0.5555555555555556, \"#d8576b\"], [0.6666666666666666, \"#ed7953\"], [0.7777777777777778, \"#fb9f3a\"], [0.8888888888888888, \"#fdca26\"], [1.0, \"#f0f921\"]], \"type\": \"histogram2d\"}], \"histogram2dcontour\": [{\"colorbar\": {\"outlinewidth\": 0, \"ticks\": \"\"}, \"colorscale\": [[0.0, \"#0d0887\"], [0.1111111111111111, \"#46039f\"], [0.2222222222222222, \"#7201a8\"], [0.3333333333333333, \"#9c179e\"], [0.4444444444444444, \"#bd3786\"], [0.5555555555555556, \"#d8576b\"], [0.6666666666666666, \"#ed7953\"], [0.7777777777777778, \"#fb9f3a\"], [0.8888888888888888, \"#fdca26\"], [1.0, \"#f0f921\"]], \"type\": \"histogram2dcontour\"}], \"mesh3d\": [{\"colorbar\": {\"outlinewidth\": 0, \"ticks\": \"\"}, \"type\": \"mesh3d\"}], \"parcoords\": [{\"line\": {\"colorbar\": {\"outlinewidth\": 0, \"ticks\": \"\"}}, \"type\": \"parcoords\"}], \"pie\": [{\"automargin\": true, \"type\": \"pie\"}], \"scatter\": [{\"marker\": {\"colorbar\": {\"outlinewidth\": 0, \"ticks\": \"\"}}, \"type\": \"scatter\"}], \"scatter3d\": [{\"line\": {\"colorbar\": {\"outlinewidth\": 0, \"ticks\": \"\"}}, \"marker\": {\"colorbar\": {\"outlinewidth\": 0, \"ticks\": \"\"}}, \"type\": \"scatter3d\"}], \"scattercarpet\": [{\"marker\": {\"colorbar\": {\"outlinewidth\": 0, \"ticks\": \"\"}}, \"type\": \"scattercarpet\"}], \"scattergeo\": [{\"marker\": {\"colorbar\": {\"outlinewidth\": 0, \"ticks\": \"\"}}, \"type\": \"scattergeo\"}], \"scattergl\": [{\"marker\": {\"colorbar\": {\"outlinewidth\": 0, \"ticks\": \"\"}}, \"type\": \"scattergl\"}], \"scattermapbox\": [{\"marker\": {\"colorbar\": {\"outlinewidth\": 0, \"ticks\": \"\"}}, \"type\": \"scattermapbox\"}], \"scatterpolar\": [{\"marker\": {\"colorbar\": {\"outlinewidth\": 0, \"ticks\": \"\"}}, \"type\": \"scatterpolar\"}], \"scatterpolargl\": [{\"marker\": {\"colorbar\": {\"outlinewidth\": 0, \"ticks\": \"\"}}, \"type\": \"scatterpolargl\"}], \"scatterternary\": [{\"marker\": {\"colorbar\": {\"outlinewidth\": 0, \"ticks\": \"\"}}, \"type\": \"scatterternary\"}], \"surface\": [{\"colorbar\": {\"outlinewidth\": 0, \"ticks\": \"\"}, \"colorscale\": [[0.0, \"#0d0887\"], [0.1111111111111111, \"#46039f\"], [0.2222222222222222, \"#7201a8\"], [0.3333333333333333, \"#9c179e\"], [0.4444444444444444, \"#bd3786\"], [0.5555555555555556, \"#d8576b\"], [0.6666666666666666, \"#ed7953\"], [0.7777777777777778, \"#fb9f3a\"], [0.8888888888888888, \"#fdca26\"], [1.0, \"#f0f921\"]], \"type\": \"surface\"}], \"table\": [{\"cells\": {\"fill\": {\"color\": \"#EBF0F8\"}, \"line\": {\"color\": \"white\"}}, \"header\": {\"fill\": {\"color\": \"#C8D4E3\"}, \"line\": {\"color\": \"white\"}}, \"type\": \"table\"}]}, \"layout\": {\"annotationdefaults\": {\"arrowcolor\": \"#2a3f5f\", \"arrowhead\": 0, \"arrowwidth\": 1}, \"coloraxis\": {\"colorbar\": {\"outlinewidth\": 0, \"ticks\": \"\"}}, \"colorscale\": {\"diverging\": [[0, \"#8e0152\"], [0.1, \"#c51b7d\"], [0.2, \"#de77ae\"], [0.3, \"#f1b6da\"], [0.4, \"#fde0ef\"], [0.5, \"#f7f7f7\"], [0.6, \"#e6f5d0\"], [0.7, \"#b8e186\"], [0.8, \"#7fbc41\"], [0.9, \"#4d9221\"], [1, \"#276419\"]], \"sequential\": [[0.0, \"#0d0887\"], [0.1111111111111111, \"#46039f\"], [0.2222222222222222, \"#7201a8\"], [0.3333333333333333, \"#9c179e\"], [0.4444444444444444, \"#bd3786\"], [0.5555555555555556, \"#d8576b\"], [0.6666666666666666, \"#ed7953\"], [0.7777777777777778, \"#fb9f3a\"], [0.8888888888888888, \"#fdca26\"], [1.0, \"#f0f921\"]], \"sequentialminus\": [[0.0, \"#0d0887\"], [0.1111111111111111, \"#46039f\"], [0.2222222222222222, \"#7201a8\"], [0.3333333333333333, \"#9c179e\"], [0.4444444444444444, \"#bd3786\"], [0.5555555555555556, \"#d8576b\"], [0.6666666666666666, \"#ed7953\"], [0.7777777777777778, \"#fb9f3a\"], [0.8888888888888888, \"#fdca26\"], [1.0, \"#f0f921\"]]}, \"colorway\": [\"#636efa\", \"#EF553B\", \"#00cc96\", \"#ab63fa\", \"#FFA15A\", \"#19d3f3\", \"#FF6692\", \"#B6E880\", \"#FF97FF\", \"#FECB52\"], \"font\": {\"color\": \"#2a3f5f\"}, \"geo\": {\"bgcolor\": \"white\", \"lakecolor\": \"white\", \"landcolor\": \"#E5ECF6\", \"showlakes\": true, \"showland\": true, \"subunitcolor\": \"white\"}, \"hoverlabel\": {\"align\": \"left\"}, \"hovermode\": \"closest\", \"mapbox\": {\"style\": \"light\"}, \"paper_bgcolor\": \"white\", \"plot_bgcolor\": \"#E5ECF6\", \"polar\": {\"angularaxis\": {\"gridcolor\": \"white\", \"linecolor\": \"white\", \"ticks\": \"\"}, \"bgcolor\": \"#E5ECF6\", \"radialaxis\": {\"gridcolor\": \"white\", \"linecolor\": \"white\", \"ticks\": \"\"}}, \"scene\": {\"xaxis\": {\"backgroundcolor\": \"#E5ECF6\", \"gridcolor\": \"white\", \"gridwidth\": 2, \"linecolor\": \"white\", \"showbackground\": true, \"ticks\": \"\", \"zerolinecolor\": \"white\"}, \"yaxis\": {\"backgroundcolor\": \"#E5ECF6\", \"gridcolor\": \"white\", \"gridwidth\": 2, \"linecolor\": \"white\", \"showbackground\": true, \"ticks\": \"\", \"zerolinecolor\": \"white\"}, \"zaxis\": {\"backgroundcolor\": \"#E5ECF6\", \"gridcolor\": \"white\", \"gridwidth\": 2, \"linecolor\": \"white\", \"showbackground\": true, \"ticks\": \"\", \"zerolinecolor\": \"white\"}}, \"shapedefaults\": {\"line\": {\"color\": \"#2a3f5f\"}}, \"ternary\": {\"aaxis\": {\"gridcolor\": \"white\", \"linecolor\": \"white\", \"ticks\": \"\"}, \"baxis\": {\"gridcolor\": \"white\", \"linecolor\": \"white\", \"ticks\": \"\"}, \"bgcolor\": \"#E5ECF6\", \"caxis\": {\"gridcolor\": \"white\", \"linecolor\": \"white\", \"ticks\": \"\"}}, \"title\": {\"x\": 0.05}, \"xaxis\": {\"automargin\": true, \"gridcolor\": \"white\", \"linecolor\": \"white\", \"ticks\": \"\", \"title\": {\"standoff\": 15}, \"zerolinecolor\": \"white\", \"zerolinewidth\": 2}, \"yaxis\": {\"automargin\": true, \"gridcolor\": \"white\", \"linecolor\": \"white\", \"ticks\": \"\", \"title\": {\"standoff\": 15}, \"zerolinecolor\": \"white\", \"zerolinewidth\": 2}}}, \"title\": {\"text\": \"Mean Absolute Percentage Error\", \"x\": 0.5}},\n",
              "                        {\"responsive\": true}\n",
              "                    ).then(function(){\n",
              "                            \n",
              "var gd = document.getElementById('c7851d73-3d26-44f0-bea0-d4476c5da3b5');\n",
              "var x = new MutationObserver(function (mutations, observer) {{\n",
              "        var display = window.getComputedStyle(gd).display;\n",
              "        if (!display || display === 'none') {{\n",
              "            console.log([gd, 'removed!']);\n",
              "            Plotly.purge(gd);\n",
              "            observer.disconnect();\n",
              "        }}\n",
              "}});\n",
              "\n",
              "// Listen for the removal of the full notebook cells\n",
              "var notebookContainer = gd.closest('#notebook-container');\n",
              "if (notebookContainer) {{\n",
              "    x.observe(notebookContainer, {childList: true});\n",
              "}}\n",
              "\n",
              "// Listen for the clearing of the current output cell\n",
              "var outputEl = gd.closest('.output');\n",
              "if (outputEl) {{\n",
              "    x.observe(outputEl, {childList: true});\n",
              "}}\n",
              "\n",
              "                        })\n",
              "                };\n",
              "                \n",
              "            </script>\n",
              "        </div>\n",
              "</body>\n",
              "</html>"
            ]
          },
          "metadata": {}
        }
      ]
    },
    {
      "cell_type": "code",
      "metadata": {
        "id": "e3TAUcoBr34N"
      },
      "source": [
        ""
      ],
      "execution_count": null,
      "outputs": []
    }
  ]
}