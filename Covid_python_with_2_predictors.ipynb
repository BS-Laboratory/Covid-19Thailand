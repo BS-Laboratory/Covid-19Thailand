{
  "nbformat": 4,
  "nbformat_minor": 0,
  "metadata": {
    "colab": {
      "name": "Covid-python - with 2 predictors",
      "provenance": [],
      "collapsed_sections": [],
      "toc_visible": true,
      "authorship_tag": "ABX9TyN69FpVO7+ptSDmAw2NNoke",
      "include_colab_link": true
    },
    "kernelspec": {
      "display_name": "Python 3",
      "name": "python3"
    },
    "language_info": {
      "name": "python"
    }
  },
  "cells": [
    {
      "cell_type": "markdown",
      "metadata": {
        "id": "view-in-github",
        "colab_type": "text"
      },
      "source": [
        "<a href=\"https://colab.research.google.com/github/Tanainan/Covid-19Thailand/blob/main/Covid_python_with_2_predictors.ipynb\" target=\"_parent\"><img src=\"https://colab.research.google.com/assets/colab-badge.svg\" alt=\"Open In Colab\"/></a>"
      ]
    },
    {
      "cell_type": "markdown",
      "metadata": {
        "id": "49t5kJ6QuESg"
      },
      "source": [
        "# Covid-19 Trends Prediction in Thailand Using Time Series Neural Networks\n",
        "\n",
        "---\n",
        "\n",
        "\n",
        "We used convolutional neural network (CNN), recurrent neural networks (RNNs), gated recurrent unit (GRU) and long short-term memory (LSTM) to predict Covid-19 cases and deaths in Thailand, using 14 previous days as samples to predict the next 1 day. These models particularly deal with time series data. Further, we ran multivariate neural networks with policy implementations, mobility changes, transportation behavior changes, vaccination, confirmed cases (for predicting deaths) and confirmed deaths (for predicting cases) as additional predictors. Our goal was to minimize the mean average percentage error (MAPE) between the actual values and predictions.  \n",
        "\n",
        "\n",
        "\n",
        "## Data Sources\n",
        "\n",
        "\n",
        "The Covid-19 data was from https://github.com/CSSEGISandData/COVID-19 by John Hopkins University. The data included both confirmed infects and confirmed deaths reported by Thailand’s Ministry of Public Health. \n",
        "Policy implementation in Thailand data was gathered by Oxford Covid-19 Government Response Tracker (OxCGRT) (https://github.com/OxCGRT/covid-policy-tracker). This policy record indicated when and how the government in each country responded to the pandemic at specific time periods. We used containment and health index which consisted of school closing, workplace closing, canceling public events, restrictions on gatherings, close public transport, stay at home requirements, international travel controls, and public information campaign. Each indicator was coded in different levels of implementations (see more: ​​https://github.com/OxCGRT/covid-policy-tracker/blob/master/documentation/codebook.md)\n",
        "The mobility data was from Google (https://www.google.com/covid19/mobility). Google calculated the changes of mobility based on Location History of users on Google Map. The baseline of the changes was the median value from January, 3rd to February 6th, 2020. There were four categories: groceries and pharmacy, retail and recreation, transit stations, and finally, parks. Another source of mobility was from Apple where it tracked driving and walking behaviors during the pandemic (https://covid19.apple.com/mobility). \n",
        "Vaccination count was gathered from Thailand’s Ministry of Health (https://github.com/porames/the-researcher-covid-data?fbclid=IwAR1-SAiA8pMKD5qbcN7S5c-p_snBIIWd42wYOq4qiM9yA6FTf_GcyYgxtvA). This vaccination information that was used in this study was the amount of Thai people who received their first shot, second shot of vaccines, regardless of the vaccine types. \n",
        "Finally, the last input data was transportation behavior from Thai’s Ministry of Transportation (https://datagov.mot.go.th/dataset/covid-19/resource/71a552d0-0fea-4e05-b78c-42d58aa88db6?fbclid=IwAR18p4TQY3qlD9snnhADdvrAWVjOgofse54GbNKm8Qb-pMgBb-ZejebWD-w). The information included the rate of use for both public and private transportation systems in Thailand. \n",
        "\n"
      ]
    },
    {
      "cell_type": "markdown",
      "metadata": {
        "id": "8Ix5ZBdJGub1"
      },
      "source": [
        "## Import packages"
      ]
    },
    {
      "cell_type": "code",
      "metadata": {
        "colab": {
          "base_uri": "https://localhost:8080/"
        },
        "id": "OwNlMasL65To",
        "outputId": "30614b2d-617d-4509-8ee2-51b1e709efb4"
      },
      "source": [
        "!pip install -U tensorflow-addons\n",
        "from numpy import array\n",
        "from numpy import hstack\n",
        "from keras.models import Sequential\n",
        "from keras.layers import LSTM\n",
        "from keras.layers import Dense, Dropout, Activation\n",
        "from keras.layers import GRU\n",
        "from keras.layers import SimpleRNN\n",
        "from keras.layers import TimeDistributed\n",
        "from keras.layers import Bidirectional\n",
        "from keras.layers.convolutional import Conv1D\n",
        "from keras.layers.convolutional import MaxPooling1D\n",
        "from tensorflow_addons.layers import InstanceNormalization, GroupNormalization\n",
        "from keras.layers import LayerNormalization\n",
        "from keras.layers import Flatten\n",
        "from pandas import read_csv\n",
        "from pandas import DataFrame\n",
        "from pandas import concat\n",
        "import pandas as pd\n",
        "import numpy as np\n",
        "from statistics import stdev\n",
        "from statistics import mean\n",
        "from matplotlib import pyplot\n",
        "from numpy.random import seed\n",
        "seed(1)\n",
        "import tensorflow\n",
        "tensorflow.random.set_seed(1)\n",
        "from matplotlib import pyplot as plt\n",
        "import datetime as dt\n",
        "import matplotlib.ticker as ticker\n",
        "import plotly.graph_objects as go\n",
        "from statsmodels.graphics.factorplots import interaction_plot\n",
        "# np.set_printoptions(threshold=np.inf)\n",
        "# pd.set_option('display.max_rows', None)\n",
        "import itertools\n",
        "!pip install -U scikit-learn\n",
        "from sklearn.metrics import mean_absolute_percentage_error\n",
        "from tensorflow.keras.utils import to_categorical\n"
      ],
      "execution_count": 14,
      "outputs": [
        {
          "output_type": "stream",
          "name": "stdout",
          "text": [
            "Requirement already satisfied: tensorflow-addons in /usr/local/lib/python3.7/dist-packages (0.14.0)\n",
            "Requirement already satisfied: typeguard>=2.7 in /usr/local/lib/python3.7/dist-packages (from tensorflow-addons) (2.7.1)\n",
            "Requirement already satisfied: scikit-learn in /usr/local/lib/python3.7/dist-packages (1.0.1)\n",
            "Requirement already satisfied: joblib>=0.11 in /usr/local/lib/python3.7/dist-packages (from scikit-learn) (1.0.1)\n",
            "Requirement already satisfied: scipy>=1.1.0 in /usr/local/lib/python3.7/dist-packages (from scikit-learn) (1.4.1)\n",
            "Requirement already satisfied: numpy>=1.14.6 in /usr/local/lib/python3.7/dist-packages (from scikit-learn) (1.19.5)\n",
            "Requirement already satisfied: threadpoolctl>=2.0.0 in /usr/local/lib/python3.7/dist-packages (from scikit-learn) (3.0.0)\n"
          ]
        }
      ]
    },
    {
      "cell_type": "markdown",
      "metadata": {
        "id": "JY3Wjb_5geVH"
      },
      "source": [
        "## Import data"
      ]
    },
    {
      "cell_type": "markdown",
      "metadata": {
        "id": "lN8_Q1q2FmaH"
      },
      "source": [
        "### Cases and Policies"
      ]
    },
    {
      "cell_type": "code",
      "metadata": {
        "colab": {
          "base_uri": "https://localhost:8080/"
        },
        "id": "NLqZL1TdFazQ",
        "outputId": "bbd9ecac-c2f0-46cd-ad2e-ef615a696b43"
      },
      "source": [
        "data = read_csv(\"https://raw.githubusercontent.com/OxCGRT/covid-policy-tracker/d98db2da901d5707dc3225ee163903005e7645f3/data/OxCGRT_latest.csv\")\n",
        "\n",
        "data = pd.DataFrame(data)\n",
        "\n",
        "# select Thailand only\n",
        "data = data.loc[data['CountryName'] == \"Thailand\"]\n",
        "\n",
        "# select columns\n",
        "data = data[[\"Date\", \"C1_School closing\",\n",
        "            \"C2_Workplace closing\",\n",
        "            \"C3_Cancel public events\", \"C4_Restrictions on gatherings\",\n",
        "            \"C5_Close public transport\", \"C6_Stay at home requirements\",\n",
        "            \"C7_Restrictions on internal movement\", \"C8_International travel controls\",\n",
        "            \"H1_Public information campaigns\", \"ConfirmedCases\", \"ConfirmedDeaths\"]]\n",
        "\n",
        "# change column names\n",
        "data = data.rename(columns = {\"C1_School closing\":\"C1_School.closing\",\n",
        "            \"C2_Workplace closing\":\"C2_Workplace.closing\",\n",
        "            \"C3_Cancel public events\":\"C3_Cancel.public.events\",\n",
        "            \"C4_Restrictions on gatherings\":\"C4_Restrictions.on.gatherings\",\n",
        "            \"C5_Close public transport\":\"C5_Close.public.transport\",\n",
        "            \"C6_Stay at home requirements\":\"C6_Stay.at.home.requirements\",\n",
        "            \"C7_Restrictions on internal movement\":\"C7_Restrictions.on.internal.movement\",\n",
        "            \"C8_International travel controls\":\"C8_International.travel.controls\",\n",
        "            \"H1_Public information campaigns\":\"H1_Public.information.campaigns\"})\n",
        "\n",
        "# change date format\n",
        "data.Date =  pd.to_datetime(data[\"Date\"], format='%Y%m%d')\n",
        "\n",
        "# reset index\n",
        "data = data.reset_index(drop = True)\n",
        "\n",
        "# replace NaN with 0 for ConfirmedCases and ConfirmedDeaths\n",
        "data[[\"ConfirmedCases\", \"ConfirmedDeaths\"]] = data[[\"ConfirmedCases\", \"ConfirmedDeaths\"]].replace(np.nan, 0)\n",
        "\n",
        "# remove NaN rows (bottom part)\n",
        "data = data.dropna()\n",
        "\n",
        "# add daily cases columns\n",
        "data[[\"Cases_daily\"]] = data['ConfirmedCases'].rolling(window=2).apply(lambda x: x.iloc[1] - x.iloc[0])\n",
        "data[[\"Deaths_daily\"]] = data['ConfirmedDeaths'].rolling(window=2).apply(lambda x: x.iloc[1] - x.iloc[0])\n",
        "\n",
        "# replace NaN with 0 for ConfirmedCases and Deaths_daily\n",
        "data[[\"Cases_daily\", \"Deaths_daily\"]] = data[[\"Cases_daily\", \"Deaths_daily\"]].replace(np.nan, 0)\n",
        "\n",
        "\n",
        "# start from 15/2/2020\n",
        "data = data[data.loc[data['Date'] == \"2020-02-15\"].index[0]:]\n",
        "\n",
        "# reset index\n",
        "data = data.reset_index(drop = True)\n",
        "\n",
        "# one-hot encoding\n",
        "a = pd.DataFrame(to_categorical(data[[\"C1_School.closing\"]]))\n",
        "b = pd.DataFrame(to_categorical(data[[\"C2_Workplace.closing\"]]))\n",
        "c = pd.DataFrame(to_categorical(data[[\"C3_Cancel.public.events\"]]))\n",
        "d = pd.DataFrame(to_categorical(data[[\"C4_Restrictions.on.gatherings\"]]))\n",
        "e = pd.DataFrame(to_categorical(data[[\"C5_Close.public.transport\"]]))\n",
        "f = pd.DataFrame(to_categorical(data[[\"C6_Stay.at.home.requirements\"]]))\n",
        "g = pd.DataFrame(to_categorical(data[[\"C7_Restrictions.on.internal.movement\"]]))\n",
        "h = pd.DataFrame(to_categorical(data[[\"C8_International.travel.controls\"]]))\n",
        "j = pd.DataFrame(to_categorical(data[[\"H1_Public.information.campaigns\"]]))\n",
        "\n",
        "\n"
      ],
      "execution_count": 15,
      "outputs": [
        {
          "output_type": "stream",
          "name": "stderr",
          "text": [
            "/usr/local/lib/python3.7/dist-packages/IPython/core/interactiveshell.py:2718: DtypeWarning:\n",
            "\n",
            "Columns (2,3) have mixed types.Specify dtype option on import or set low_memory=False.\n",
            "\n"
          ]
        }
      ]
    },
    {
      "cell_type": "markdown",
      "metadata": {
        "id": "jUCMFx4XkBca"
      },
      "source": [
        "### Google Mobility"
      ]
    },
    {
      "cell_type": "code",
      "metadata": {
        "colab": {
          "base_uri": "https://localhost:8080/"
        },
        "id": "zSp2BWwkkDGZ",
        "outputId": "15270da6-2675-4cb5-d6b5-05478aa33ce6"
      },
      "source": [
        "mob = read_csv(\"https://www.gstatic.com/covid19/mobility/Global_Mobility_Report.csv\")\n",
        "\n",
        "mob = pd.DataFrame(mob)\n",
        "\n",
        "# select only Thailand\n",
        "mob = mob.loc[mob['country_region'] == \"Thailand\"]\n",
        "\n",
        "# select columns\n",
        "mob = mob[[\"date\",\n",
        "              \"retail_and_recreation_percent_change_from_baseline\",\n",
        "              \"grocery_and_pharmacy_percent_change_from_baseline\",\n",
        "              \"parks_percent_change_from_baseline\",\n",
        "              \"transit_stations_percent_change_from_baseline\",\n",
        "              \"workplaces_percent_change_from_baseline\",\n",
        "              \"residential_percent_change_from_baseline\"]]\n",
        "\n",
        "# change date format\n",
        "mob.date =  pd.to_datetime(mob[\"date\"])\n",
        "\n",
        "# change column name\n",
        "mob = mob.rename(columns = {'date':'Date'})\n",
        "\n",
        "# reset index\n",
        "mob = mob.reset_index(drop = True)\n",
        "\n",
        "# start from 15/2/2020\n",
        "mob = mob[mob.loc[mob['Date'] == \"2020-02-15\"].index[0]:]\n",
        "\n",
        "# omit Date column\n",
        "mob0 = mob.drop([\"Date\"], axis = 1)\n"
      ],
      "execution_count": 16,
      "outputs": [
        {
          "output_type": "stream",
          "name": "stderr",
          "text": [
            "/usr/local/lib/python3.7/dist-packages/IPython/core/interactiveshell.py:2718: DtypeWarning:\n",
            "\n",
            "Columns (3,4,5) have mixed types.Specify dtype option on import or set low_memory=False.\n",
            "\n"
          ]
        }
      ]
    },
    {
      "cell_type": "markdown",
      "metadata": {
        "id": "WMeiynS74A0s"
      },
      "source": [
        "### Combining Data"
      ]
    },
    {
      "cell_type": "code",
      "metadata": {
        "id": "wCuFtjqMkWbW"
      },
      "source": [
        "# whichever has fewer data\n",
        "length = min(len(data), len(mob))\n",
        "\n",
        "# Cases daily\n",
        "data_i = pd.concat([data.Cases_daily[:length],\n",
        "                    data.Date[:length], \n",
        "                    a[:length],\n",
        "                    b[:length],\n",
        "                    c[:length],\n",
        "                    d[:length],\n",
        "                    e[:length],\n",
        "                    f[:length],\n",
        "                    g[:length],\n",
        "                    h[:length],\n",
        "                    j[:length],\n",
        "                    mob0[:length]], axis = 1)\n",
        "\n",
        "data_i = data_i.rename(columns = {\"Cases_daily\":\"data_i\"})\n",
        "data_i = data_i[data_i.loc[data_i['Date'] == \"2021-06-15\"].index[0]:]\n",
        "\n",
        "# drop date column\n",
        "data_i = data_i.drop([\"Date\"], axis = 1)\n",
        "\n",
        "# Deaths daily\n",
        "data_d = pd.concat([data.Deaths_daily[:length], \n",
        "                    data.Date[:length],\n",
        "                    a[:length],\n",
        "                    b[:length],\n",
        "                    c[:length],\n",
        "                    d[:length],\n",
        "                    e[:length],\n",
        "                    f[:length],\n",
        "                    g[:length],\n",
        "                    h[:length],\n",
        "                    j[:length],\n",
        "                    mob0[:length]], axis = 1)\n",
        "\n",
        "data_d = data_d.rename(columns = {\"Deaths_daily\":\"data_d\"})\n",
        "data_d = data_d[data_d.loc[data_d['Date'] == \"2021-06-15\"].index[0]:]\n",
        "\n",
        "# drop date column\n",
        "data_d = data_d.drop([\"Date\"], axis = 1)"
      ],
      "execution_count": 17,
      "outputs": []
    },
    {
      "cell_type": "markdown",
      "metadata": {
        "id": "IhvRrripCCpL"
      },
      "source": [
        "### Actual Cases"
      ]
    },
    {
      "cell_type": "code",
      "metadata": {
        "colab": {
          "base_uri": "https://localhost:8080/"
        },
        "id": "baqSI-cT6srS",
        "outputId": "ddd9e688-b3bd-4776-949b-a5c04cceecfc"
      },
      "source": [
        "case = read_csv(\"https://raw.githubusercontent.com/OxCGRT/covid-policy-tracker/d98db2da901d5707dc3225ee163903005e7645f3/data/OxCGRT_latest.csv\")\n",
        "\n",
        "case = pd.DataFrame(case)\n",
        "\n",
        "# select Thailand only\n",
        "case = case.loc[case['CountryName'] == \"Thailand\"]\n",
        "\n",
        "case = case[[\"Date\", \"ConfirmedCases\", \"ConfirmedDeaths\"]]\n",
        "\n",
        "# change date format\n",
        "case.Date =  pd.to_datetime(case[\"Date\"], format='%Y%m%d')\n",
        "\n",
        "# reset index\n",
        "case = case.reset_index(drop = True)\n",
        "\n",
        "# replace NaN with 0 for ConfirmedCases and ConfirmedDeaths\n",
        "case[[\"ConfirmedCases\", \"ConfirmedDeaths\"]] = case[[\"ConfirmedCases\", \"ConfirmedDeaths\"]].replace(np.nan, 0)\n",
        "\n",
        "# add daily cases columns\n",
        "case[[\"Cases_daily\"]] = case['ConfirmedCases'].rolling(window=2).apply(lambda x: x.iloc[1] - x.iloc[0])\n",
        "case[[\"Deaths_daily\"]] = case['ConfirmedDeaths'].rolling(window=2).apply(lambda x: x.iloc[1] - x.iloc[0])\n",
        "\n",
        "# replace NaN with 0 for ConfirmedCases and Deaths_daily\n",
        "case[[\"Cases_daily\", \"Deaths_daily\"]] = case[[\"Cases_daily\", \"Deaths_daily\"]].replace(np.nan, 0)\n",
        "\n",
        "# start from 15/2/2020\n",
        "case = case[case.loc[case['Date'] == \"2020-02-15\"].index[0]:]\n",
        "\n",
        "# reset index\n",
        "case = case.reset_index(drop = True)\n",
        "\n",
        "# remove the last rows with incomplete info\n",
        "case = case.loc[~(case[[\"ConfirmedCases\"]]==0).all(axis=1)]\n"
      ],
      "execution_count": 18,
      "outputs": [
        {
          "output_type": "stream",
          "name": "stderr",
          "text": [
            "/usr/local/lib/python3.7/dist-packages/IPython/core/interactiveshell.py:2718: DtypeWarning:\n",
            "\n",
            "Columns (2,3) have mixed types.Specify dtype option on import or set low_memory=False.\n",
            "\n"
          ]
        }
      ]
    },
    {
      "cell_type": "markdown",
      "metadata": {
        "id": "exK4_fNMG_Bz"
      },
      "source": [
        "### Start from 15/6/2021"
      ]
    },
    {
      "cell_type": "code",
      "metadata": {
        "id": "uhNLba3MCmCK"
      },
      "source": [
        "data = data[data.loc[data['Date'] == \"2021-06-15\"].index[0]:]\n",
        "mob = mob[mob.loc[mob['Date'] == \"2021-06-15\"].index[0]:]\n",
        "actual = case[case.loc[case['Date'] == \"2021-06-15\"].index[0]:]\n"
      ],
      "execution_count": 19,
      "outputs": []
    },
    {
      "cell_type": "code",
      "metadata": {
        "id": "F1j1ksxigihL",
        "colab": {
          "base_uri": "https://localhost:8080/"
        },
        "outputId": "9f8b7c3a-cdc0-4ce7-a7ac-85e3d2670435"
      },
      "source": [
        "# use the previous 14 days to predict the next day\n",
        "lag = 14\n",
        "prediction = 1\n",
        "window = 3 # for moving average\n",
        "\n",
        "# moving average\n",
        "data['Cases_daily2'] = data.Cases_daily\n",
        "data['Cases_daily'] = data.Cases_daily.rolling(window).mean()\n",
        "\n",
        "data['Deaths_daily2'] = data.Deaths_daily\n",
        "data['Deaths_daily'] = data.Deaths_daily.rolling(window).mean()\n",
        "\n",
        "data_i['data_i'] = data_i.data_i.rolling(window).mean()\n",
        "data_d['data_d'] = data_d.data_d.rolling(window).mean()\n",
        "\n",
        "# remove NaN\n",
        "data.dropna(subset = [\"Cases_daily\", \"Deaths_daily\"], inplace=True)\n",
        "data_i.dropna(subset = [\"data_i\"], inplace=True)\n",
        "data_d.dropna(subset = [\"data_d\"], inplace=True)\n",
        "\n",
        "data = data.reset_index(drop = True)\n",
        "data_i = data_i.reset_index(drop = True)\n",
        "data_d = data_d.reset_index(drop = True)\n",
        "\n"
      ],
      "execution_count": 20,
      "outputs": [
        {
          "output_type": "stream",
          "name": "stderr",
          "text": [
            "/usr/local/lib/python3.7/dist-packages/ipykernel_launcher.py:7: SettingWithCopyWarning:\n",
            "\n",
            "\n",
            "A value is trying to be set on a copy of a slice from a DataFrame.\n",
            "Try using .loc[row_indexer,col_indexer] = value instead\n",
            "\n",
            "See the caveats in the documentation: https://pandas.pydata.org/pandas-docs/stable/user_guide/indexing.html#returning-a-view-versus-a-copy\n",
            "\n",
            "/usr/local/lib/python3.7/dist-packages/ipykernel_launcher.py:8: SettingWithCopyWarning:\n",
            "\n",
            "\n",
            "A value is trying to be set on a copy of a slice from a DataFrame.\n",
            "Try using .loc[row_indexer,col_indexer] = value instead\n",
            "\n",
            "See the caveats in the documentation: https://pandas.pydata.org/pandas-docs/stable/user_guide/indexing.html#returning-a-view-versus-a-copy\n",
            "\n",
            "/usr/local/lib/python3.7/dist-packages/ipykernel_launcher.py:10: SettingWithCopyWarning:\n",
            "\n",
            "\n",
            "A value is trying to be set on a copy of a slice from a DataFrame.\n",
            "Try using .loc[row_indexer,col_indexer] = value instead\n",
            "\n",
            "See the caveats in the documentation: https://pandas.pydata.org/pandas-docs/stable/user_guide/indexing.html#returning-a-view-versus-a-copy\n",
            "\n",
            "/usr/local/lib/python3.7/dist-packages/ipykernel_launcher.py:11: SettingWithCopyWarning:\n",
            "\n",
            "\n",
            "A value is trying to be set on a copy of a slice from a DataFrame.\n",
            "Try using .loc[row_indexer,col_indexer] = value instead\n",
            "\n",
            "See the caveats in the documentation: https://pandas.pydata.org/pandas-docs/stable/user_guide/indexing.html#returning-a-view-versus-a-copy\n",
            "\n",
            "/usr/local/lib/python3.7/dist-packages/ipykernel_launcher.py:17: SettingWithCopyWarning:\n",
            "\n",
            "\n",
            "A value is trying to be set on a copy of a slice from a DataFrame\n",
            "\n",
            "See the caveats in the documentation: https://pandas.pydata.org/pandas-docs/stable/user_guide/indexing.html#returning-a-view-versus-a-copy\n",
            "\n"
          ]
        }
      ]
    },
    {
      "cell_type": "markdown",
      "metadata": {
        "id": "i3nAzFaX2b5E"
      },
      "source": [
        "## Methods\n",
        "\n",
        "---\n",
        "\n",
        "\n",
        "The data was available from February 22nd, 2020 to September 9th, 2021 (as the date the data was retrieved). However, the third wave of the epidemic in Thailand started after April 1st, 2021, and the trend started to rise after June. Thus, we used the data from, June 15th to July 29th, 2021 for our training; July 30th to August 18th, 2021 for our validation, and August 19th to September 2nd, 2021 for our prediction. There were 31 samples in total for training, 20 samples for validation, and predictions of 15 days ahead. \n",
        "\n",
        "Since confirmed cases, confirmed deaths and vaccination data were given in cumulative counts, we computed the daily cases, deaths and vaccination to match the format of other predictors: mobility and transportation changes. Neural networks required input and output in forms of matrices. The experiments consisted of univariate and multivariate approaches for training, validation, and prediction\n",
        "\n",
        "For the univariate, we created an input matrix with 14 columns as the previous 14 days input. The number of rows was equal to total samples - 14 days - 1-day prediction + 1 or 31 rows. To demonstrate, the first row would have the 1st to the 14th day. The second row would have the 2nd to the 15th day, and so forth as a rolling window. The output matrix would be the 1 column for 1-day prediction with the same amount of rows as the input matrix. For example, the first row would be the 15th day for the 1-day prediction. Since the neural networks could only work with at least 2 dimensions, we transformed both input and output matrices into 3 dimensions (with 1 as the third dimension)."
      ]
    },
    {
      "cell_type": "markdown",
      "metadata": {
        "id": "PY8BCaEbOUkH"
      },
      "source": [
        "## Data Preprocessing: Univariate"
      ]
    },
    {
      "cell_type": "code",
      "metadata": {
        "id": "g9mNq2fInQs5"
      },
      "source": [
        "def split_sequence(sequence, lag):\n",
        "  x, y = list(), list()\n",
        "  for i in range(len(sequence)):\n",
        "    # find the end of this pattern\n",
        "    end_ix = i + lag\n",
        "    # check if we are beyond the sequence\n",
        "    if end_ix > len(sequence)-1:\n",
        "      break\n",
        "    # gather input and output parts of the pattern\n",
        "    seq_x, seq_y = sequence[i:end_ix], sequence[end_ix]\n",
        "    x.append(seq_x)\n",
        "    y.append(seq_y)\n",
        "  return array(x), array(y)\n",
        "\n"
      ],
      "execution_count": 21,
      "outputs": []
    },
    {
      "cell_type": "code",
      "metadata": {
        "id": "_waovDFXxY11"
      },
      "source": [
        "# confirmed cases\n",
        "x_i, y_i = split_sequence(data.Cases_daily, lag)\n",
        "\n",
        "# split into training and test sets\n",
        "index = 30 # 31 days for trainings\n",
        "X_i_tr = x_i[0:index+1, :]\n",
        "X_i_ts = x_i[index+1:x_i.shape[0], :]\n",
        "X_i_tr = X_i_tr.reshape(X_i_tr.shape[0], X_i_tr.shape[1], 1) # reshape input into 3D\n",
        "X_i_ts = X_i_ts.reshape(X_i_ts.shape[0], X_i_ts.shape[1], 1)\n",
        "\n",
        "y_i_tr = y_i[0:index+1]\n",
        "y_i_ts = y_i[index+1:x_i.shape[0]]\n",
        "y_i_tr = y_i_tr.reshape(y_i_tr.shape[0], 1, 1) # reshape output into 3D\n",
        "y_i_ts = y_i_ts.reshape(y_i_ts.shape[0], 1, 1)       \n",
        "\n",
        "# confirmed deaths\n",
        "x_d, y_d = split_sequence(data.Deaths_daily, lag)\n",
        "\n",
        "# split\n",
        "X_d_tr = x_d[0:index+1, :]\n",
        "X_d_ts = x_d[index+1:x_d.shape[0], :]\n",
        "X_d_tr = X_d_tr.reshape(X_d_tr.shape[0], X_d_tr.shape[1], 1)\n",
        "X_d_ts = X_d_ts.reshape(X_d_ts.shape[0], X_d_ts.shape[1],1)\n",
        "\n",
        "y_d_tr = y_d[0:index+1]\n",
        "y_d_ts = y_d[index+1:x_d.shape[0]]\n",
        "y_d_tr = y_d_tr.reshape(y_d_tr.shape[0], 1, 1)\n",
        "y_d_ts = y_d_ts.reshape(y_d_ts.shape[0], 1, 1)"
      ],
      "execution_count": 22,
      "outputs": []
    },
    {
      "cell_type": "markdown",
      "metadata": {
        "id": "5ynklcRy3lIW"
      },
      "source": [
        "For the multivariate prediction, the input matrix included 14 columns and 31 rows (total samples - 14 days - 14-days prediction + 1). The output matrices’ columns were the same as in the univariate prediction. However, since we had many predictors, we created tensors for each predictor. Note that all categorical predictors (i.e., policies) must be transformed by one-hot coding beforehand. Thus, the input matrix for the multivariate would have 3 dimensions: number of samples, timelag, features. A few cells of missing data from Apple mobility were replaced with an average of its data."
      ]
    },
    {
      "cell_type": "markdown",
      "metadata": {
        "id": "SGBoNeLdOjdy"
      },
      "source": [
        "## Data Preprocessing: Multivariate"
      ]
    },
    {
      "cell_type": "code",
      "metadata": {
        "id": "ogP6ikmAMqcl"
      },
      "source": [
        "# confirmed cases\n",
        "nrow_total = data_i.shape[0] - lag - prediction + 1\n",
        "input_list = [np.expand_dims(data_i[i:lag+i], axis=0) for i in range(nrow_total)] \n",
        "X_i_p = np.concatenate(input_list, axis=0)\n",
        "\n",
        "y_i_p = np.array([data_i.data_i[lag:data_i.shape[0]]])\n",
        "y_i_p = y_i_p.T # transpose the matrix\n",
        "\n",
        "# split into training and test sets\n",
        "X_i_p_tr = X_i_p[0:index+1, :, :]\n",
        "X_i_p_ts = X_i_p[index+1:data_i.shape[0], :, :]\n",
        "\n",
        "y_i_p_tr = y_i_p[0:index+1]\n",
        "y_i_p_ts = y_i_p[index+1:data_i.shape[0]]\n",
        "\n",
        "# confirmed deaths\n",
        "nrow_total = data_d.shape[0] - lag - prediction + 1\n",
        "input_list = [np.expand_dims(data_d[i:lag+i], axis=0) for i in range(nrow_total)] \n",
        "X_d_p = np.concatenate(input_list, axis=0)\n",
        "\n",
        "y_d_p = np.array([data_d.data_d[lag:data_d.shape[0]]])\n",
        "y_d_p = y_d_p.T # transpose the matrix\n",
        "\n",
        "\n",
        "# split into training and test sets\n",
        "X_d_p_tr = X_d_p[0:index+1, :, :]\n",
        "X_d_p_ts = X_d_p[index+1:data_d.shape[0], :, :]\n",
        "\n",
        "y_d_p_tr = y_d_p[0:index+1]\n",
        "y_d_p_ts = y_d_p[index+1:data_d.shape[0]]\n"
      ],
      "execution_count": 23,
      "outputs": []
    },
    {
      "cell_type": "markdown",
      "metadata": {
        "id": "eCEO9U_tX6nP"
      },
      "source": [
        "## Analysis\n",
        "\n",
        "---\n",
        "\n",
        "\n",
        "\n",
        "### Hyperparameters Tuning\n",
        "\n",
        "\n",
        "Using the training set matrices for confirmed cases and confirmed deaths and univiariate and multivariate, we tuned for the most optimal numbers of parameters, staring from basic architectures. In this case, we searched for numbers of nodes for LSTM, GRU, and RNNs, and filter, kernel size, and pool for CNN. In the input layer, we added instance normalization to make all values between 0 and 1. Since we were dealing with some data that we had never seen before and the data seemed to be non-stationary, instance normalization might provide more advantages than typical standardization or normalization. The numbers of nodes that we used for our LSTM, GRU, and RNNs experiments were 4, 8, 16, 32, 64, 128, 256, 512, and 1024. Similarly, we used the same pool for CNN filter with kernel size of 3, 5 and 7, and pool of 2 and 3. The activation function for this hidden layer was sigmoid. Next, we added another instance normalization. Finally, the output layer contained one node and Linear activation function. Epoch and batch size were 50 and 1, respectively. We used mean squared error (MSE) as our loss function, ADAM optimization and mean absolute percentage error (MAPE) as a metric for model evaluation.\n"
      ]
    },
    {
      "cell_type": "markdown",
      "metadata": {
        "id": "PgWYXmJLYATE"
      },
      "source": [
        "### CNN"
      ]
    },
    {
      "cell_type": "code",
      "metadata": {
        "id": "pZJnpt8jZRZZ"
      },
      "source": [
        "# CNN Tuning\n",
        "\n",
        "def evaluate_cnn(trainX, trainy, filter, kernel_size, pool):\n",
        "    seed(1)\n",
        "    tensorflow.random.set_seed(1)\n",
        "\n",
        "    verbose, epochs, batch_size = 0, 50, 1\n",
        "    n_timesteps, n_features = trainX.shape[1], trainX.shape[2]\n",
        "\n",
        "    model = Sequential()\n",
        "    model.add(Conv1D(filters = filter, kernel_size=kernel_size, activation='relu',input_shape=(n_timesteps,n_features)))\n",
        "    model.add(MaxPooling1D(pool_size= pool))\n",
        "    model.add(Flatten())\n",
        "    model.add(Dense(1, activation='linear'))\n",
        "    model.compile(loss='mse', optimizer='adam', metrics=['MAPE'])\n",
        "  \n",
        "    # fit network\n",
        "    model.fit(trainX, trainy, epochs=epochs, batch_size=batch_size, verbose=verbose, shuffle = False)\n",
        "    # evaluate model\n",
        "    _, accuracy = model.evaluate(trainX, trainy, batch_size=batch_size, verbose=0)\n",
        "    return accuracy\n",
        "\n",
        "# run an experiment\n",
        "def run_experiment(filters, kernel_size, pool, trainX, trainy):\n",
        "    # test each parameter\n",
        "    all_scores = list()\n",
        "    for filter in filters:\n",
        "      for kernel in kernel_size:\n",
        "        for pooling in pool:\n",
        "          score = evaluate_cnn(trainX, trainy, filter, kernel_size, pool)\n",
        "          print('filter = %d, kernel size = %d, pooling size = %d: %.3f' % (filter, kernel, pooling, score))\n",
        "          all_scores.append(score)\n",
        "    return all_scores\n",
        "    \n",
        "\n",
        "\n",
        "filter = [2, 4, 8, 16, 32, 64, 128, 256, 512, 1024] \n"
      ],
      "execution_count": 24,
      "outputs": []
    },
    {
      "cell_type": "code",
      "metadata": {
        "colab": {
          "base_uri": "https://localhost:8080/"
        },
        "id": "2cQn5aHWa2yz",
        "outputId": "5d04be9f-6e47-478a-8796-490773c712c3"
      },
      "source": [
        "# Univariate CNN confirmed cases\n",
        "kernel = [3, 5, 7]\n",
        "pool = [2]\n",
        "\n",
        "cnn_i_uni = list()\n",
        "\n",
        "for i in kernel:\n",
        "  for j in pool: \n",
        "    score = list()\n",
        "    kernel_size, pool = [i],[j]\n",
        "    score = run_experiment(filter, kernel_size, pool, X_i_tr, y_i_tr)\n",
        "    cnn_i_uni.append(score)\n",
        "\n",
        "pool = [3]\n",
        "\n",
        "for i in kernel:\n",
        "  for j in pool: \n",
        "    score = list()\n",
        "    kernel_size, pool = [i],[j]\n",
        "    score = run_experiment(filter, kernel_size, pool, X_i_tr, y_i_tr)\n",
        "    cnn_i_uni.append(score)\n",
        "\n",
        "cnn_i_uni = pd.DataFrame(cnn_i_uni).T\n",
        "cnn_i_uni.columns = ['k3p2', 'k5p2','k7p2', 'k3p3', 'k5p3', 'k7p3'] # k3p2: kernel size = 3, pool = 2"
      ],
      "execution_count": 25,
      "outputs": [
        {
          "output_type": "stream",
          "name": "stdout",
          "text": [
            "filter = 2, kernel size = 3, pooling size = 2: 5.172\n",
            "filter = 4, kernel size = 3, pooling size = 2: 5.153\n",
            "filter = 8, kernel size = 3, pooling size = 2: 4.463\n",
            "filter = 16, kernel size = 3, pooling size = 2: 4.832\n",
            "filter = 32, kernel size = 3, pooling size = 2: 4.274\n",
            "filter = 64, kernel size = 3, pooling size = 2: 4.200\n",
            "filter = 128, kernel size = 3, pooling size = 2: 3.843\n",
            "filter = 256, kernel size = 3, pooling size = 2: 4.020\n",
            "filter = 512, kernel size = 3, pooling size = 2: 4.351\n",
            "filter = 1024, kernel size = 3, pooling size = 2: 4.441\n",
            "filter = 2, kernel size = 5, pooling size = 2: 5.081\n",
            "filter = 4, kernel size = 5, pooling size = 2: 5.934\n",
            "filter = 8, kernel size = 5, pooling size = 2: 5.050\n",
            "filter = 16, kernel size = 5, pooling size = 2: 3.693\n",
            "filter = 32, kernel size = 5, pooling size = 2: 4.226\n",
            "filter = 64, kernel size = 5, pooling size = 2: 3.996\n",
            "filter = 128, kernel size = 5, pooling size = 2: 3.238\n",
            "filter = 256, kernel size = 5, pooling size = 2: 3.840\n",
            "filter = 512, kernel size = 5, pooling size = 2: 5.994\n",
            "filter = 1024, kernel size = 5, pooling size = 2: 5.195\n",
            "filter = 2, kernel size = 7, pooling size = 2: 5.424\n",
            "filter = 4, kernel size = 7, pooling size = 2: 5.487\n",
            "filter = 8, kernel size = 7, pooling size = 2: 4.587\n",
            "filter = 16, kernel size = 7, pooling size = 2: 5.452\n",
            "filter = 32, kernel size = 7, pooling size = 2: 5.188\n",
            "filter = 64, kernel size = 7, pooling size = 2: 4.066\n",
            "filter = 128, kernel size = 7, pooling size = 2: 3.797\n",
            "filter = 256, kernel size = 7, pooling size = 2: 3.724\n",
            "filter = 512, kernel size = 7, pooling size = 2: 4.773\n",
            "filter = 1024, kernel size = 7, pooling size = 2: 4.840\n",
            "filter = 2, kernel size = 3, pooling size = 3: 5.085\n",
            "filter = 4, kernel size = 3, pooling size = 3: 5.631\n",
            "filter = 8, kernel size = 3, pooling size = 3: 3.882\n",
            "filter = 16, kernel size = 3, pooling size = 3: 5.135\n",
            "filter = 32, kernel size = 3, pooling size = 3: 4.348\n",
            "filter = 64, kernel size = 3, pooling size = 3: 3.982\n",
            "filter = 128, kernel size = 3, pooling size = 3: 3.984\n",
            "filter = 256, kernel size = 3, pooling size = 3: 3.765\n",
            "filter = 512, kernel size = 3, pooling size = 3: 3.754\n",
            "filter = 1024, kernel size = 3, pooling size = 3: 4.632\n",
            "filter = 2, kernel size = 5, pooling size = 3: 5.487\n",
            "filter = 4, kernel size = 5, pooling size = 3: 6.766\n",
            "filter = 8, kernel size = 5, pooling size = 3: 4.903\n",
            "filter = 16, kernel size = 5, pooling size = 3: 5.308\n",
            "filter = 32, kernel size = 5, pooling size = 3: 5.087\n",
            "filter = 64, kernel size = 5, pooling size = 3: 4.974\n",
            "filter = 128, kernel size = 5, pooling size = 3: 4.517\n",
            "filter = 256, kernel size = 5, pooling size = 3: 4.378\n",
            "filter = 512, kernel size = 5, pooling size = 3: 4.924\n",
            "filter = 1024, kernel size = 5, pooling size = 3: 5.882\n",
            "filter = 2, kernel size = 7, pooling size = 3: 5.942\n",
            "filter = 4, kernel size = 7, pooling size = 3: 6.726\n",
            "filter = 8, kernel size = 7, pooling size = 3: 5.550\n",
            "filter = 16, kernel size = 7, pooling size = 3: 5.407\n",
            "filter = 32, kernel size = 7, pooling size = 3: 5.747\n",
            "filter = 64, kernel size = 7, pooling size = 3: 5.217\n",
            "filter = 128, kernel size = 7, pooling size = 3: 4.572\n",
            "filter = 256, kernel size = 7, pooling size = 3: 4.541\n",
            "filter = 512, kernel size = 7, pooling size = 3: 4.770\n",
            "filter = 1024, kernel size = 7, pooling size = 3: 5.303\n"
          ]
        }
      ]
    },
    {
      "cell_type": "code",
      "metadata": {
        "colab": {
          "base_uri": "https://localhost:8080/"
        },
        "id": "AEC_fs_9nBN8",
        "outputId": "512299be-5f73-4379-d664-bdf4b21999c8"
      },
      "source": [
        "# Univariate CNN confirmed deaths\n",
        "pool = [2]\n",
        "\n",
        "cnn_d_uni = list()\n",
        "\n",
        "for i in kernel:\n",
        "  for j in pool: \n",
        "    kernel_size, pool = [i],[j]\n",
        "    score = list()\n",
        "    score = run_experiment(filter, kernel_size, pool, X_d_tr, y_d_tr)\n",
        "    cnn_d_uni.append(score)\n",
        "\n",
        "pool = [3]\n",
        "\n",
        "for i in kernel:\n",
        "  for j in pool: \n",
        "    kernel_size, pool = [i],[j]\n",
        "    score = list()\n",
        "    score = run_experiment(filter, kernel_size, pool, X_d_tr, y_d_tr)\n",
        "    cnn_d_uni.append(score)\n",
        "\n",
        "cnn_d_uni = pd.DataFrame(cnn_d_uni).T\n",
        "cnn_d_uni.columns = ['k3p2', 'k5p2','k7p2', 'k3p3', 'k5p3', 'k7p3']"
      ],
      "execution_count": 26,
      "outputs": [
        {
          "output_type": "stream",
          "name": "stdout",
          "text": [
            "filter = 2, kernel size = 3, pooling size = 2: 11.430\n",
            "filter = 4, kernel size = 3, pooling size = 2: 10.756\n",
            "filter = 8, kernel size = 3, pooling size = 2: 7.691\n",
            "filter = 16, kernel size = 3, pooling size = 2: 9.191\n",
            "filter = 32, kernel size = 3, pooling size = 2: 8.271\n",
            "filter = 64, kernel size = 3, pooling size = 2: 8.443\n",
            "filter = 128, kernel size = 3, pooling size = 2: 8.257\n",
            "filter = 256, kernel size = 3, pooling size = 2: 10.281\n",
            "filter = 512, kernel size = 3, pooling size = 2: 11.570\n",
            "filter = 1024, kernel size = 3, pooling size = 2: 11.544\n",
            "filter = 2, kernel size = 5, pooling size = 2: 8.959\n",
            "filter = 4, kernel size = 5, pooling size = 2: 9.267\n",
            "filter = 8, kernel size = 5, pooling size = 2: 9.621\n",
            "filter = 16, kernel size = 5, pooling size = 2: 9.079\n",
            "filter = 32, kernel size = 5, pooling size = 2: 8.443\n",
            "filter = 64, kernel size = 5, pooling size = 2: 8.651\n",
            "filter = 128, kernel size = 5, pooling size = 2: 9.351\n",
            "filter = 256, kernel size = 5, pooling size = 2: 10.713\n",
            "filter = 512, kernel size = 5, pooling size = 2: 12.928\n",
            "filter = 1024, kernel size = 5, pooling size = 2: 13.360\n",
            "filter = 2, kernel size = 7, pooling size = 2: 9.060\n",
            "filter = 4, kernel size = 7, pooling size = 2: 9.487\n",
            "filter = 8, kernel size = 7, pooling size = 2: 8.184\n",
            "filter = 16, kernel size = 7, pooling size = 2: 9.633\n",
            "filter = 32, kernel size = 7, pooling size = 2: 9.624\n",
            "filter = 64, kernel size = 7, pooling size = 2: 8.512\n",
            "filter = 128, kernel size = 7, pooling size = 2: 9.909\n",
            "filter = 256, kernel size = 7, pooling size = 2: 11.068\n",
            "filter = 512, kernel size = 7, pooling size = 2: 12.084\n",
            "filter = 1024, kernel size = 7, pooling size = 2: 13.950\n",
            "filter = 2, kernel size = 3, pooling size = 3: 12.192\n",
            "filter = 4, kernel size = 3, pooling size = 3: 10.513\n",
            "filter = 8, kernel size = 3, pooling size = 3: 9.597\n",
            "filter = 16, kernel size = 3, pooling size = 3: 8.790\n",
            "filter = 32, kernel size = 3, pooling size = 3: 8.374\n",
            "filter = 64, kernel size = 3, pooling size = 3: 8.920\n",
            "filter = 128, kernel size = 3, pooling size = 3: 8.417\n",
            "filter = 256, kernel size = 3, pooling size = 3: 8.719\n",
            "filter = 512, kernel size = 3, pooling size = 3: 10.680\n",
            "filter = 1024, kernel size = 3, pooling size = 3: 11.105\n",
            "filter = 2, kernel size = 5, pooling size = 3: 11.453\n",
            "filter = 4, kernel size = 5, pooling size = 3: 9.332\n",
            "filter = 8, kernel size = 5, pooling size = 3: 9.507\n",
            "filter = 16, kernel size = 5, pooling size = 3: 8.224\n",
            "filter = 32, kernel size = 5, pooling size = 3: 8.825\n",
            "filter = 64, kernel size = 5, pooling size = 3: 8.946\n",
            "filter = 128, kernel size = 5, pooling size = 3: 8.981\n",
            "filter = 256, kernel size = 5, pooling size = 3: 9.807\n",
            "filter = 512, kernel size = 5, pooling size = 3: 12.066\n",
            "filter = 1024, kernel size = 5, pooling size = 3: 13.295\n",
            "filter = 2, kernel size = 7, pooling size = 3: 10.920\n",
            "filter = 4, kernel size = 7, pooling size = 3: 8.956\n",
            "filter = 8, kernel size = 7, pooling size = 3: 10.452\n",
            "filter = 16, kernel size = 7, pooling size = 3: 9.448\n",
            "filter = 32, kernel size = 7, pooling size = 3: 9.936\n",
            "filter = 64, kernel size = 7, pooling size = 3: 9.302\n",
            "filter = 128, kernel size = 7, pooling size = 3: 9.301\n",
            "filter = 256, kernel size = 7, pooling size = 3: 9.888\n",
            "filter = 512, kernel size = 7, pooling size = 3: 11.915\n",
            "filter = 1024, kernel size = 7, pooling size = 3: 13.760\n"
          ]
        }
      ]
    },
    {
      "cell_type": "code",
      "metadata": {
        "colab": {
          "base_uri": "https://localhost:8080/"
        },
        "id": "ixTPBVxFn3GN",
        "outputId": "9d1b9506-b59b-4069-c183-19836b296c17"
      },
      "source": [
        "# Multivariate CNN confirmed cases\n",
        "\n",
        "kernel = [3, 5, 7]\n",
        "pool = [2]\n",
        "cnn_i_multi = list()\n",
        "\n",
        "for i in kernel:\n",
        "  for j in pool: \n",
        "    score = list()\n",
        "    kernel_size, pool = [i],[j]\n",
        "    score = run_experiment(filter, kernel_size, pool,X_i_p_tr, y_i_p_tr)\n",
        "    cnn_i_multi.append(score)\n",
        "\n",
        "pool = [3]\n",
        "\n",
        "for i in kernel:\n",
        "  for j in pool: \n",
        "    kernel_size, pool = [i],[j]\n",
        "    score = run_experiment(filter, kernel_size, pool, X_i_p_tr, y_i_p_tr)\n",
        "    cnn_i_multi.append(score)\n",
        "\n",
        "cnn_i_multi = pd.DataFrame(cnn_i_multi).T\n",
        "cnn_i_multi.columns = ['k3p2', 'k5p2','k7p2', 'k3p3', 'k5p3', 'k7p3']"
      ],
      "execution_count": 27,
      "outputs": [
        {
          "output_type": "stream",
          "name": "stdout",
          "text": [
            "filter = 2, kernel size = 3, pooling size = 2: 4.926\n",
            "filter = 4, kernel size = 3, pooling size = 2: 4.817\n",
            "filter = 8, kernel size = 3, pooling size = 2: 5.057\n",
            "filter = 16, kernel size = 3, pooling size = 2: 4.412\n",
            "filter = 32, kernel size = 3, pooling size = 2: 4.134\n",
            "filter = 64, kernel size = 3, pooling size = 2: 3.862\n",
            "filter = 128, kernel size = 3, pooling size = 2: 3.638\n",
            "filter = 256, kernel size = 3, pooling size = 2: 4.722\n",
            "filter = 512, kernel size = 3, pooling size = 2: 5.552\n",
            "filter = 1024, kernel size = 3, pooling size = 2: 5.361\n",
            "filter = 2, kernel size = 5, pooling size = 2: 4.827\n",
            "filter = 4, kernel size = 5, pooling size = 2: 4.555\n",
            "filter = 8, kernel size = 5, pooling size = 2: 5.163\n",
            "filter = 16, kernel size = 5, pooling size = 2: 4.684\n",
            "filter = 32, kernel size = 5, pooling size = 2: 4.097\n",
            "filter = 64, kernel size = 5, pooling size = 2: 3.800\n",
            "filter = 128, kernel size = 5, pooling size = 2: 4.458\n",
            "filter = 256, kernel size = 5, pooling size = 2: 4.262\n",
            "filter = 512, kernel size = 5, pooling size = 2: 5.890\n",
            "filter = 1024, kernel size = 5, pooling size = 2: 6.957\n",
            "filter = 2, kernel size = 7, pooling size = 2: 5.270\n",
            "filter = 4, kernel size = 7, pooling size = 2: 5.507\n",
            "filter = 8, kernel size = 7, pooling size = 2: 4.811\n",
            "filter = 16, kernel size = 7, pooling size = 2: 5.088\n",
            "filter = 32, kernel size = 7, pooling size = 2: 4.024\n",
            "filter = 64, kernel size = 7, pooling size = 2: 4.096\n",
            "filter = 128, kernel size = 7, pooling size = 2: 4.227\n",
            "filter = 256, kernel size = 7, pooling size = 2: 4.467\n",
            "filter = 512, kernel size = 7, pooling size = 2: 5.857\n",
            "filter = 1024, kernel size = 7, pooling size = 2: 6.081\n",
            "filter = 2, kernel size = 3, pooling size = 3: 4.962\n",
            "filter = 4, kernel size = 3, pooling size = 3: 5.086\n",
            "filter = 8, kernel size = 3, pooling size = 3: 5.039\n",
            "filter = 16, kernel size = 3, pooling size = 3: 4.640\n",
            "filter = 32, kernel size = 3, pooling size = 3: 4.445\n",
            "filter = 64, kernel size = 3, pooling size = 3: 4.248\n",
            "filter = 128, kernel size = 3, pooling size = 3: 3.820\n",
            "filter = 256, kernel size = 3, pooling size = 3: 4.016\n",
            "filter = 512, kernel size = 3, pooling size = 3: 4.889\n",
            "filter = 1024, kernel size = 3, pooling size = 3: 5.386\n",
            "filter = 2, kernel size = 5, pooling size = 3: 6.438\n",
            "filter = 4, kernel size = 5, pooling size = 3: 4.859\n",
            "filter = 8, kernel size = 5, pooling size = 3: 5.787\n",
            "filter = 16, kernel size = 5, pooling size = 3: 5.091\n",
            "filter = 32, kernel size = 5, pooling size = 3: 4.909\n",
            "filter = 64, kernel size = 5, pooling size = 3: 4.392\n",
            "filter = 128, kernel size = 5, pooling size = 3: 4.678\n",
            "filter = 256, kernel size = 5, pooling size = 3: 4.550\n",
            "filter = 512, kernel size = 5, pooling size = 3: 5.109\n",
            "filter = 1024, kernel size = 5, pooling size = 3: 5.983\n",
            "filter = 2, kernel size = 7, pooling size = 3: 6.208\n",
            "filter = 4, kernel size = 7, pooling size = 3: 5.176\n",
            "filter = 8, kernel size = 7, pooling size = 3: 5.761\n",
            "filter = 16, kernel size = 7, pooling size = 3: 5.650\n",
            "filter = 32, kernel size = 7, pooling size = 3: 5.133\n",
            "filter = 64, kernel size = 7, pooling size = 3: 4.761\n",
            "filter = 128, kernel size = 7, pooling size = 3: 4.876\n",
            "filter = 256, kernel size = 7, pooling size = 3: 4.898\n",
            "filter = 512, kernel size = 7, pooling size = 3: 5.337\n",
            "filter = 1024, kernel size = 7, pooling size = 3: 6.475\n"
          ]
        }
      ]
    },
    {
      "cell_type": "code",
      "metadata": {
        "colab": {
          "base_uri": "https://localhost:8080/"
        },
        "id": "f9h_O6Nsnz2C",
        "outputId": "abacfe8f-bcb5-48a5-b8a7-d3cde6c6c4f9"
      },
      "source": [
        "# Multivariate CNN confirmed deaths\n",
        "\n",
        "pool = [2]\n",
        "cnn_d_multi = list()\n",
        "\n",
        "for i in kernel:\n",
        "  for j in pool:\n",
        "    score = list() \n",
        "    kernel_size, pool = [i],[j]\n",
        "    score = run_experiment(filter, kernel_size, pool, X_d_p_tr, y_d_p_tr)\n",
        "    cnn_d_multi.append(score)\n",
        "\n",
        "pool = [3]\n",
        "\n",
        "for i in kernel:\n",
        "  for j in pool: \n",
        "    score = list()\n",
        "    kernel_size, pool = [i],[j]\n",
        "    score = run_experiment(filter, kernel_size, pool, X_d_p_tr, y_d_p_tr)\n",
        "    cnn_d_multi.append(score)\n",
        "\n",
        "cnn_d_multi = pd.DataFrame(cnn_d_multi).T\n",
        "cnn_d_multi.columns = ['k3p2', 'k3p3','k5p2', 'k7p2', 'k5p3', 'k7p3']"
      ],
      "execution_count": 28,
      "outputs": [
        {
          "output_type": "stream",
          "name": "stdout",
          "text": [
            "filter = 2, kernel size = 3, pooling size = 2: 11.195\n",
            "filter = 4, kernel size = 3, pooling size = 2: 8.988\n",
            "filter = 8, kernel size = 3, pooling size = 2: 6.141\n",
            "filter = 16, kernel size = 3, pooling size = 2: 5.021\n",
            "filter = 32, kernel size = 3, pooling size = 2: 9.357\n",
            "filter = 64, kernel size = 3, pooling size = 2: 12.203\n",
            "filter = 128, kernel size = 3, pooling size = 2: 7.268\n",
            "filter = 256, kernel size = 3, pooling size = 2: 9.386\n",
            "filter = 512, kernel size = 3, pooling size = 2: 6.817\n",
            "filter = 1024, kernel size = 3, pooling size = 2: 9.845\n",
            "filter = 2, kernel size = 5, pooling size = 2: 8.713\n",
            "filter = 4, kernel size = 5, pooling size = 2: 7.988\n",
            "filter = 8, kernel size = 5, pooling size = 2: 6.048\n",
            "filter = 16, kernel size = 5, pooling size = 2: 15.751\n",
            "filter = 32, kernel size = 5, pooling size = 2: 5.445\n",
            "filter = 64, kernel size = 5, pooling size = 2: 13.592\n",
            "filter = 128, kernel size = 5, pooling size = 2: 6.084\n",
            "filter = 256, kernel size = 5, pooling size = 2: 8.580\n",
            "filter = 512, kernel size = 5, pooling size = 2: 6.840\n",
            "filter = 1024, kernel size = 5, pooling size = 2: 11.338\n",
            "filter = 2, kernel size = 7, pooling size = 2: 8.280\n",
            "filter = 4, kernel size = 7, pooling size = 2: 10.254\n",
            "filter = 8, kernel size = 7, pooling size = 2: 6.235\n",
            "filter = 16, kernel size = 7, pooling size = 2: 7.166\n",
            "filter = 32, kernel size = 7, pooling size = 2: 8.671\n",
            "filter = 64, kernel size = 7, pooling size = 2: 15.462\n",
            "filter = 128, kernel size = 7, pooling size = 2: 5.972\n",
            "filter = 256, kernel size = 7, pooling size = 2: 6.006\n",
            "filter = 512, kernel size = 7, pooling size = 2: 32.956\n",
            "filter = 1024, kernel size = 7, pooling size = 2: 23.961\n",
            "filter = 2, kernel size = 3, pooling size = 3: 9.616\n",
            "filter = 4, kernel size = 3, pooling size = 3: 8.391\n",
            "filter = 8, kernel size = 3, pooling size = 3: 6.206\n",
            "filter = 16, kernel size = 3, pooling size = 3: 6.789\n",
            "filter = 32, kernel size = 3, pooling size = 3: 5.505\n",
            "filter = 64, kernel size = 3, pooling size = 3: 5.419\n",
            "filter = 128, kernel size = 3, pooling size = 3: 20.839\n",
            "filter = 256, kernel size = 3, pooling size = 3: 20.891\n",
            "filter = 512, kernel size = 3, pooling size = 3: 6.627\n",
            "filter = 1024, kernel size = 3, pooling size = 3: 10.338\n",
            "filter = 2, kernel size = 5, pooling size = 3: 9.632\n",
            "filter = 4, kernel size = 5, pooling size = 3: 13.336\n",
            "filter = 8, kernel size = 5, pooling size = 3: 6.196\n",
            "filter = 16, kernel size = 5, pooling size = 3: 4.268\n",
            "filter = 32, kernel size = 5, pooling size = 3: 6.242\n",
            "filter = 64, kernel size = 5, pooling size = 3: 6.838\n",
            "filter = 128, kernel size = 5, pooling size = 3: 5.508\n",
            "filter = 256, kernel size = 5, pooling size = 3: 20.317\n",
            "filter = 512, kernel size = 5, pooling size = 3: 8.123\n",
            "filter = 1024, kernel size = 5, pooling size = 3: 9.609\n",
            "filter = 2, kernel size = 7, pooling size = 3: 6.837\n",
            "filter = 4, kernel size = 7, pooling size = 3: 98.131\n",
            "filter = 8, kernel size = 7, pooling size = 3: 9.046\n",
            "filter = 16, kernel size = 7, pooling size = 3: 4.887\n",
            "filter = 32, kernel size = 7, pooling size = 3: 5.061\n",
            "filter = 64, kernel size = 7, pooling size = 3: 8.619\n",
            "filter = 128, kernel size = 7, pooling size = 3: 9.825\n",
            "filter = 256, kernel size = 7, pooling size = 3: 8.850\n",
            "filter = 512, kernel size = 7, pooling size = 3: 7.083\n",
            "filter = 1024, kernel size = 7, pooling size = 3: 13.200\n"
          ]
        }
      ]
    },
    {
      "cell_type": "markdown",
      "metadata": {
        "id": "eDXGbHvPZNn1"
      },
      "source": [
        "### LSTM"
      ]
    },
    {
      "cell_type": "code",
      "metadata": {
        "id": "XwruQErcVIGp"
      },
      "source": [
        "def evaluate_lstm(trainX, trainy, units):\n",
        "    seed(1)\n",
        "    tensorflow.random.set_seed(1)\n",
        "\n",
        "    verbose, epochs, batch_size = 0, 50, 1\n",
        "    n_timesteps, n_features = trainX.shape[1], trainX.shape[2]\n",
        "\n",
        "    model = Sequential()\n",
        "    model.add(LSTM(units = units, activation='relu', input_shape=(n_timesteps,n_features)))\n",
        "    model.add(Dense(1, activation='linear'))\n",
        "    model.compile(loss='mse', optimizer='adam', metrics=['MAPE'])\n",
        "  \n",
        "    # fit network\n",
        "    model.fit(trainX, trainy, epochs=epochs, batch_size=batch_size, verbose=verbose, shuffle = False)\n",
        "    # evaluate model\n",
        "    _, accuracy = model.evaluate(trainX, trainy, batch_size=batch_size, verbose=0)\n",
        "    return accuracy\n",
        "\n",
        "\n",
        "# # Univariate LSTM confirmed cases\n",
        "units = [2, 4,8,16,32,64,128,256,512, 1024]\n",
        "\n",
        "lstm_i_uni = list()\n",
        "\n",
        "for i in units:\n",
        "  score = list()\n",
        "  score = evaluate_lstm(X_i_tr, y_i_tr, i)\n",
        "  lstm_i_uni.append(score)\n",
        "\n",
        "\n",
        "# Univariate LSTM confirmed deaths\n",
        "\n",
        "lstm_d_uni = list()\n",
        "\n",
        "for i in units:\n",
        "  score = list()\n",
        "  score = evaluate_lstm(X_d_tr, y_d_tr, i)\n",
        "  lstm_d_uni.append(score)\n",
        "\n",
        "\n",
        "# Multivariate LSTM confirmed cases\n",
        "\n",
        "lstm_i_multi = list()\n",
        "\n",
        "for i in units:\n",
        "  score = list()\n",
        "  score = evaluate_lstm(X_i_p_tr, y_i_p_tr, i)\n",
        "  lstm_i_multi.append(score)\n",
        "\n",
        "\n",
        "\n",
        "# Multivariate LSTM confirmed deaths\n",
        "\n",
        "lstm_d_multi = list()\n",
        "\n",
        "for i in units:\n",
        "  score = list()\n",
        "  score = evaluate_lstm(X_d_p_tr, y_d_p_tr, i)\n",
        "  lstm_d_multi.append(score)"
      ],
      "execution_count": 29,
      "outputs": []
    },
    {
      "cell_type": "markdown",
      "metadata": {
        "id": "u5EHjmk8ZwNb"
      },
      "source": [
        "### GRU"
      ]
    },
    {
      "cell_type": "code",
      "metadata": {
        "id": "8Pkcl1joZuxL"
      },
      "source": [
        "def evaluate_gru(trainX, trainy, units):\n",
        "    seed(1)\n",
        "    tensorflow.random.set_seed(1)\n",
        "\n",
        "    verbose, epochs, batch_size = 0, 50, 1\n",
        "    n_timesteps, n_features = trainX.shape[1], trainX.shape[2]\n",
        "\n",
        "    model = Sequential()\n",
        "    model.add(GRU(units = units, activation='relu', input_shape=(n_timesteps,n_features)))\n",
        "    model.add(Dense(1, activation='linear'))\n",
        "    model.compile(loss='mse', optimizer='adam', metrics=['MAPE'])\n",
        "  \n",
        "    # fit network\n",
        "    model.fit(trainX, trainy, epochs=epochs, batch_size=batch_size, verbose=verbose, shuffle = False)\n",
        "    # evaluate model\n",
        "    _, accuracy = model.evaluate(trainX, trainy, batch_size=batch_size, verbose=0)\n",
        "    return accuracy\n",
        "\n",
        "\n",
        "# Univariate GRU confirmed cases\n",
        "\n",
        "gru_i_uni = list()\n",
        "\n",
        "for i in units:\n",
        "  score = list()\n",
        "  score = evaluate_gru(X_i_tr, y_i_tr, i)\n",
        "  gru_i_uni.append(score)\n",
        "\n",
        "\n",
        "# Univariate GRU confirmed deaths\n",
        "\n",
        "gru_d_uni = list()\n",
        "\n",
        "for i in units:\n",
        "  score = list()\n",
        "  score = evaluate_gru(X_d_tr, y_d_tr, i)\n",
        "  gru_d_uni.append(score)\n",
        "\n",
        "\n",
        "# Multivariate GRU confirmed cases\n",
        "\n",
        "gru_i_multi = list()\n",
        "\n",
        "for i in units:\n",
        "  score = list()\n",
        "  score = evaluate_gru(X_i_p_tr, y_i_p_tr, i)\n",
        "  gru_i_multi.append(score)\n",
        "\n",
        "\n",
        "# Multivariate GRU confirmed deaths\n",
        "\n",
        "gru_d_multi = list()\n",
        "\n",
        "for i in units:\n",
        "  score = list()\n",
        "  score = evaluate_gru(X_d_p_tr, y_d_p_tr, i)\n",
        "  gru_d_multi.append(score)"
      ],
      "execution_count": 30,
      "outputs": []
    },
    {
      "cell_type": "markdown",
      "metadata": {
        "id": "LxvR7HvgbL9i"
      },
      "source": [
        "### RNNs"
      ]
    },
    {
      "cell_type": "code",
      "metadata": {
        "id": "pHWbTWi0bOet"
      },
      "source": [
        "def evaluate_rnn(trainX, trainy, units):\n",
        "    seed(1)\n",
        "    tensorflow.random.set_seed(1)\n",
        "\n",
        "    verbose, epochs, batch_size = 0, 50, 1\n",
        "    n_timesteps, n_features = trainX.shape[1], trainX.shape[2]\n",
        "\n",
        "    model = Sequential()\n",
        "    model.add(SimpleRNN(units = units, activation='relu', input_shape=(n_timesteps,n_features)))\n",
        "    model.add(Dense(1, activation='linear'))\n",
        "    model.compile(loss='mse', optimizer='adam', metrics=['MAPE'])\n",
        "  \n",
        "    # fit network\n",
        "    model.fit(trainX, trainy, epochs=epochs, batch_size=batch_size, verbose=verbose, shuffle = False)\n",
        "    # evaluate model\n",
        "    _, accuracy = model.evaluate(trainX, trainy, batch_size=batch_size, verbose=0)\n",
        "    return accuracy\n",
        "\n",
        "\n",
        "# Univariate RNNs confirmed cases\n",
        "\n",
        "rnn_i_uni = list()\n",
        "\n",
        "for i in units:\n",
        "  score = list()\n",
        "  score = evaluate_rnn(X_i_tr, y_i_tr, i)\n",
        "  rnn_i_uni.append(score)\n",
        "\n",
        "\n",
        "# Univariate RNNs confirmed deaths\n",
        "\n",
        "rnn_d_uni = list()\n",
        "\n",
        "for i in units:\n",
        "  score = list()\n",
        "  score = evaluate_rnn(X_d_tr, y_d_tr, i)\n",
        "  rnn_d_uni.append(score)\n",
        "\n",
        "\n",
        "# Multivariate RNNs confirmed cases\n",
        "\n",
        "rnn_i_multi = list()\n",
        "\n",
        "for i in units:\n",
        "  score = list()\n",
        "  score = evaluate_rnn(X_i_p_tr, y_i_p_tr, i)\n",
        "  rnn_i_multi.append(score)\n",
        "\n",
        "\n",
        "# Multivariate RNNs confirmed deaths\n",
        "\n",
        "rnn_d_multi = list()\n",
        "\n",
        "for i in units:\n",
        "  score = list()\n",
        "  score = evaluate_rnn(X_d_p_tr, y_d_p_tr, i)\n",
        "  rnn_d_multi.append(score)"
      ],
      "execution_count": 31,
      "outputs": []
    },
    {
      "cell_type": "markdown",
      "metadata": {
        "id": "91h9IuDksSs2"
      },
      "source": [
        "### Result Table"
      ]
    },
    {
      "cell_type": "markdown",
      "metadata": {
        "id": "qOG0E7Fb5VX-"
      },
      "source": [
        "#### Univariate Confirmed Cases"
      ]
    },
    {
      "cell_type": "code",
      "metadata": {
        "colab": {
          "base_uri": "https://localhost:8080/",
          "height": 717
        },
        "id": "2pwy5q8msPyK",
        "outputId": "4ff244e9-7c40-4bcc-ade9-e1d912e67c35"
      },
      "source": [
        "fig = go.Figure(data=[go.Table(header=dict(values=['Model', 'Kernel size', 'Pool', '2 Nodes', '4 Nodes', '8 Nodes', '16 Nodes', '32 Nodes',\n",
        "                                                   \"64 Nodes\", '128 Nodes', '256 Nodes', '512 Nodes', '1024 Nodes'],\n",
        "                                           line_color = 'gray'),\n",
        "                               cells=dict(values=[['LSTM', 'GRU', 'RNNs', 'CNN',\n",
        "                                                   'CNN', 'CNN', 'CNN', 'CNN', 'CNN'],\n",
        "                                                  ['-', '-', '-', '3', '5', '7', '3', '5', '7'],\n",
        "                                                  ['-', '-', '-', '2', '2', '2', '3', '3', '3'],\n",
        "                                    [round(lstm_i_uni[0],3), \n",
        "                                     round(gru_i_uni[0],3),\n",
        "                                     round(rnn_i_uni[0],3), \n",
        "                                     round(cnn_i_uni.iloc[0,0],3),\n",
        "                                     round(cnn_i_uni.iloc[0,1],3),\n",
        "                                     round(cnn_i_uni.iloc[0,2],3),\n",
        "                                     round(cnn_i_uni.iloc[0,3],3),\n",
        "                                     round(cnn_i_uni.iloc[0,4],3),\n",
        "                                     round(cnn_i_uni.iloc[0,5],3)],\n",
        "                                     [round(lstm_i_uni[1],3), \n",
        "                                     round(gru_i_uni[1],3),\n",
        "                                     round(rnn_i_uni[1],3), \n",
        "                                     round(cnn_i_uni.iloc[1,0],3),\n",
        "                                     round(cnn_i_uni.iloc[1,1],3),\n",
        "                                     round(cnn_i_uni.iloc[1,2],3),\n",
        "                                     round(cnn_i_uni.iloc[1,3],3),\n",
        "                                     round(cnn_i_uni.iloc[1,4],3),\n",
        "                                     round(cnn_i_uni.iloc[1,5],3)],\n",
        "                                     [round(lstm_i_uni[2],3), \n",
        "                                     round(gru_i_uni[2],3),\n",
        "                                     round(rnn_i_uni[2],3), \n",
        "                                     round(cnn_i_uni.iloc[2,0],3),\n",
        "                                     round(cnn_i_uni.iloc[2,1],3),\n",
        "                                     round(cnn_i_uni.iloc[2,2],3),\n",
        "                                     round(cnn_i_uni.iloc[2,3],3),\n",
        "                                     round(cnn_i_uni.iloc[2,4],3),\n",
        "                                     round(cnn_i_uni.iloc[2,5],3)],\n",
        "                                     [round(lstm_i_uni[3],3), \n",
        "                                     round(gru_i_uni[3],3),\n",
        "                                     round(rnn_i_uni[3],3), \n",
        "                                     round(cnn_i_uni.iloc[3,0],3),\n",
        "                                     round(cnn_i_uni.iloc[3,1],3),\n",
        "                                     round(cnn_i_uni.iloc[3,2],3),\n",
        "                                     round(cnn_i_uni.iloc[3,3],3),\n",
        "                                     round(cnn_i_uni.iloc[3,4],3),\n",
        "                                     round(cnn_i_uni.iloc[3,5],3)],\n",
        "                                     [round(lstm_i_uni[4],3), \n",
        "                                     round(gru_i_uni[4],3),\n",
        "                                     round(rnn_i_uni[4],3), \n",
        "                                     round(cnn_i_uni.iloc[4,0],3),\n",
        "                                     round(cnn_i_uni.iloc[4,1],3),\n",
        "                                     round(cnn_i_uni.iloc[4,2],3),\n",
        "                                     round(cnn_i_uni.iloc[4,3],3),\n",
        "                                     round(cnn_i_uni.iloc[4,4],3),\n",
        "                                     round(cnn_i_uni.iloc[4,5],3)],\n",
        "                                     [round(lstm_i_uni[5],3), \n",
        "                                     round(gru_i_uni[5],3),\n",
        "                                     round(rnn_i_uni[5],3), \n",
        "                                     round(cnn_i_uni.iloc[5,0],3),\n",
        "                                     round(cnn_i_uni.iloc[5,1],3),\n",
        "                                     round(cnn_i_uni.iloc[5,2],3),\n",
        "                                     round(cnn_i_uni.iloc[5,3],3),\n",
        "                                     round(cnn_i_uni.iloc[5,4],3),\n",
        "                                     round(cnn_i_uni.iloc[5,5],3)],\n",
        "                                     [round(lstm_i_uni[6],3), \n",
        "                                     round(gru_i_uni[6],3),\n",
        "                                     round(rnn_i_uni[6],3), \n",
        "                                     round(cnn_i_uni.iloc[6,0],3),\n",
        "                                     round(cnn_i_uni.iloc[6,1],3),\n",
        "                                     round(cnn_i_uni.iloc[6,2],3),\n",
        "                                     round(cnn_i_uni.iloc[6,3],3),\n",
        "                                     round(cnn_i_uni.iloc[6,4],3),\n",
        "                                     round(cnn_i_uni.iloc[6,5],3)],\n",
        "                                     [round(lstm_i_uni[7],3), \n",
        "                                     round(gru_i_uni[7],3),\n",
        "                                     round(rnn_i_uni[7],3), \n",
        "                                     round(cnn_i_uni.iloc[7,0],3),\n",
        "                                     round(cnn_i_uni.iloc[7,1],3),\n",
        "                                     round(cnn_i_uni.iloc[7,2],3),\n",
        "                                     round(cnn_i_uni.iloc[7,3],3),\n",
        "                                     round(cnn_i_uni.iloc[7,4],3),\n",
        "                                     round(cnn_i_uni.iloc[7,5],3)],\n",
        "                                     [round(lstm_i_uni[8],3), \n",
        "                                     round(gru_i_uni[8],3),\n",
        "                                     round(rnn_i_uni[8],3), \n",
        "                                     round(cnn_i_uni.iloc[8,0],3),\n",
        "                                     round(cnn_i_uni.iloc[8,1],3),\n",
        "                                     round(cnn_i_uni.iloc[8,2],3),\n",
        "                                     round(cnn_i_uni.iloc[8,3],3),\n",
        "                                     round(cnn_i_uni.iloc[8,4],3),\n",
        "                                     round(cnn_i_uni.iloc[8,5],3)],\n",
        "                                     [round(lstm_i_uni[9],3), \n",
        "                                     round(gru_i_uni[9],3),\n",
        "                                     round(rnn_i_uni[9],3), \n",
        "                                     round(cnn_i_uni.iloc[9,0],3),\n",
        "                                     round(cnn_i_uni.iloc[9,1],3),\n",
        "                                     round(cnn_i_uni.iloc[9,2],3),\n",
        "                                     round(cnn_i_uni.iloc[9,3],3),\n",
        "                                     round(cnn_i_uni.iloc[9,4],3),\n",
        "                                     round(cnn_i_uni.iloc[9,5],3)]],\n",
        "                            align=['left','center', 'center', \n",
        "                                   'right','right','right',\n",
        "                                   'right','right','right',\n",
        "                                   'right','right', 'right', 'right'],\n",
        "                            fill_color = 'white',\n",
        "                            line_color = 'gray'))\n",
        "                     ])\n",
        "fig.update_layout(title = \"Parameter Tunings Mean Absolute Percentage Error: Univariate Confirmed Cases\",\n",
        "                  title_x=0.5, height = 700, width = 1200)\n",
        "fig.show()"
      ],
      "execution_count": 32,
      "outputs": [
        {
          "output_type": "display_data",
          "data": {
            "text/html": [
              "<html>\n",
              "<head><meta charset=\"utf-8\" /></head>\n",
              "<body>\n",
              "    <div>\n",
              "            <script src=\"https://cdnjs.cloudflare.com/ajax/libs/mathjax/2.7.5/MathJax.js?config=TeX-AMS-MML_SVG\"></script><script type=\"text/javascript\">if (window.MathJax) {MathJax.Hub.Config({SVG: {font: \"STIX-Web\"}});}</script>\n",
              "                <script type=\"text/javascript\">window.PlotlyConfig = {MathJaxConfig: 'local'};</script>\n",
              "        <script src=\"https://cdn.plot.ly/plotly-latest.min.js\"></script>    \n",
              "            <div id=\"779085f9-c140-4284-9626-526a0099ba54\" class=\"plotly-graph-div\" style=\"height:700px; width:1200px;\"></div>\n",
              "            <script type=\"text/javascript\">\n",
              "                \n",
              "                    window.PLOTLYENV=window.PLOTLYENV || {};\n",
              "                    \n",
              "                if (document.getElementById(\"779085f9-c140-4284-9626-526a0099ba54\")) {\n",
              "                    Plotly.newPlot(\n",
              "                        '779085f9-c140-4284-9626-526a0099ba54',\n",
              "                        [{\"cells\": {\"align\": [\"left\", \"center\", \"center\", \"right\", \"right\", \"right\", \"right\", \"right\", \"right\", \"right\", \"right\", \"right\", \"right\"], \"fill\": {\"color\": \"white\"}, \"line\": {\"color\": \"gray\"}, \"values\": [[\"LSTM\", \"GRU\", \"RNNs\", \"CNN\", \"CNN\", \"CNN\", \"CNN\", \"CNN\", \"CNN\"], [\"-\", \"-\", \"-\", \"3\", \"5\", \"7\", \"3\", \"5\", \"7\"], [\"-\", \"-\", \"-\", \"2\", \"2\", \"2\", \"3\", \"3\", \"3\"], [99.984, 99.984, 4.557, 5.172, 5.081, 5.424, 5.085, 5.487, 5.942], [3.974, 4.206, 3.594, 5.153, 5.934, 5.487, 5.631, 6.766, 6.726], [99.984, 4.143, 5.851, 4.463, 5.05, 4.587, 3.882, 4.903, 5.55], [4.46, 4.635, 3.955, 4.832, 3.693, 5.452, 5.135, 5.308, 5.407], [4.182, 4.282, 2.857, 4.274, 4.226, 5.188, 4.348, 5.087, 5.747], [4.693, 4.256, 3.436, 4.2, 3.996, 4.066, 3.982, 4.974, 5.217], [4.641, 4.771, 3.554, 3.843, 3.238, 3.797, 3.984, 4.517, 4.572], [4.171, 4.138, 3.641, 4.02, 3.84, 3.724, 3.765, 4.378, 4.541], [4.505, 3.898, 2.887, 4.351, 5.994, 4.773, 3.754, 4.924, 4.77], [4.135, 3.453, 2.715, 4.441, 5.195, 4.84, 4.632, 5.882, 5.303]]}, \"header\": {\"line\": {\"color\": \"gray\"}, \"values\": [\"Model\", \"Kernel size\", \"Pool\", \"2 Nodes\", \"4 Nodes\", \"8 Nodes\", \"16 Nodes\", \"32 Nodes\", \"64 Nodes\", \"128 Nodes\", \"256 Nodes\", \"512 Nodes\", \"1024 Nodes\"]}, \"type\": \"table\"}],\n",
              "                        {\"height\": 700, \"template\": {\"data\": {\"bar\": [{\"error_x\": {\"color\": \"#2a3f5f\"}, \"error_y\": {\"color\": \"#2a3f5f\"}, \"marker\": {\"line\": {\"color\": \"#E5ECF6\", \"width\": 0.5}}, \"type\": \"bar\"}], \"barpolar\": [{\"marker\": {\"line\": {\"color\": \"#E5ECF6\", \"width\": 0.5}}, \"type\": \"barpolar\"}], \"carpet\": [{\"aaxis\": {\"endlinecolor\": \"#2a3f5f\", \"gridcolor\": \"white\", \"linecolor\": \"white\", \"minorgridcolor\": \"white\", \"startlinecolor\": \"#2a3f5f\"}, \"baxis\": {\"endlinecolor\": \"#2a3f5f\", \"gridcolor\": \"white\", \"linecolor\": \"white\", \"minorgridcolor\": \"white\", \"startlinecolor\": \"#2a3f5f\"}, \"type\": \"carpet\"}], \"choropleth\": [{\"colorbar\": {\"outlinewidth\": 0, \"ticks\": \"\"}, \"type\": \"choropleth\"}], \"contour\": [{\"colorbar\": {\"outlinewidth\": 0, \"ticks\": \"\"}, \"colorscale\": [[0.0, \"#0d0887\"], [0.1111111111111111, \"#46039f\"], [0.2222222222222222, \"#7201a8\"], [0.3333333333333333, \"#9c179e\"], [0.4444444444444444, \"#bd3786\"], [0.5555555555555556, \"#d8576b\"], [0.6666666666666666, \"#ed7953\"], [0.7777777777777778, \"#fb9f3a\"], [0.8888888888888888, \"#fdca26\"], [1.0, \"#f0f921\"]], \"type\": \"contour\"}], \"contourcarpet\": [{\"colorbar\": {\"outlinewidth\": 0, \"ticks\": \"\"}, \"type\": \"contourcarpet\"}], \"heatmap\": [{\"colorbar\": {\"outlinewidth\": 0, \"ticks\": \"\"}, \"colorscale\": [[0.0, \"#0d0887\"], [0.1111111111111111, \"#46039f\"], [0.2222222222222222, \"#7201a8\"], [0.3333333333333333, \"#9c179e\"], [0.4444444444444444, \"#bd3786\"], [0.5555555555555556, \"#d8576b\"], [0.6666666666666666, \"#ed7953\"], [0.7777777777777778, \"#fb9f3a\"], [0.8888888888888888, \"#fdca26\"], [1.0, \"#f0f921\"]], \"type\": \"heatmap\"}], \"heatmapgl\": [{\"colorbar\": {\"outlinewidth\": 0, \"ticks\": \"\"}, \"colorscale\": [[0.0, \"#0d0887\"], [0.1111111111111111, \"#46039f\"], [0.2222222222222222, \"#7201a8\"], [0.3333333333333333, \"#9c179e\"], [0.4444444444444444, \"#bd3786\"], [0.5555555555555556, \"#d8576b\"], [0.6666666666666666, \"#ed7953\"], [0.7777777777777778, \"#fb9f3a\"], [0.8888888888888888, \"#fdca26\"], [1.0, \"#f0f921\"]], \"type\": \"heatmapgl\"}], \"histogram\": [{\"marker\": {\"colorbar\": {\"outlinewidth\": 0, \"ticks\": \"\"}}, \"type\": \"histogram\"}], \"histogram2d\": [{\"colorbar\": {\"outlinewidth\": 0, \"ticks\": \"\"}, \"colorscale\": [[0.0, \"#0d0887\"], [0.1111111111111111, \"#46039f\"], [0.2222222222222222, \"#7201a8\"], [0.3333333333333333, \"#9c179e\"], [0.4444444444444444, \"#bd3786\"], [0.5555555555555556, \"#d8576b\"], [0.6666666666666666, \"#ed7953\"], [0.7777777777777778, \"#fb9f3a\"], [0.8888888888888888, \"#fdca26\"], [1.0, \"#f0f921\"]], \"type\": \"histogram2d\"}], \"histogram2dcontour\": [{\"colorbar\": {\"outlinewidth\": 0, \"ticks\": \"\"}, \"colorscale\": [[0.0, \"#0d0887\"], [0.1111111111111111, \"#46039f\"], [0.2222222222222222, \"#7201a8\"], [0.3333333333333333, \"#9c179e\"], [0.4444444444444444, \"#bd3786\"], [0.5555555555555556, \"#d8576b\"], [0.6666666666666666, \"#ed7953\"], [0.7777777777777778, \"#fb9f3a\"], [0.8888888888888888, \"#fdca26\"], [1.0, \"#f0f921\"]], \"type\": \"histogram2dcontour\"}], \"mesh3d\": [{\"colorbar\": {\"outlinewidth\": 0, \"ticks\": \"\"}, \"type\": \"mesh3d\"}], \"parcoords\": [{\"line\": {\"colorbar\": {\"outlinewidth\": 0, \"ticks\": \"\"}}, \"type\": \"parcoords\"}], \"pie\": [{\"automargin\": true, \"type\": \"pie\"}], \"scatter\": [{\"marker\": {\"colorbar\": {\"outlinewidth\": 0, \"ticks\": \"\"}}, \"type\": \"scatter\"}], \"scatter3d\": [{\"line\": {\"colorbar\": {\"outlinewidth\": 0, \"ticks\": \"\"}}, \"marker\": {\"colorbar\": {\"outlinewidth\": 0, \"ticks\": \"\"}}, \"type\": \"scatter3d\"}], \"scattercarpet\": [{\"marker\": {\"colorbar\": {\"outlinewidth\": 0, \"ticks\": \"\"}}, \"type\": \"scattercarpet\"}], \"scattergeo\": [{\"marker\": {\"colorbar\": {\"outlinewidth\": 0, \"ticks\": \"\"}}, \"type\": \"scattergeo\"}], \"scattergl\": [{\"marker\": {\"colorbar\": {\"outlinewidth\": 0, \"ticks\": \"\"}}, \"type\": \"scattergl\"}], \"scattermapbox\": [{\"marker\": {\"colorbar\": {\"outlinewidth\": 0, \"ticks\": \"\"}}, \"type\": \"scattermapbox\"}], \"scatterpolar\": [{\"marker\": {\"colorbar\": {\"outlinewidth\": 0, \"ticks\": \"\"}}, \"type\": \"scatterpolar\"}], \"scatterpolargl\": [{\"marker\": {\"colorbar\": {\"outlinewidth\": 0, \"ticks\": \"\"}}, \"type\": \"scatterpolargl\"}], \"scatterternary\": [{\"marker\": {\"colorbar\": {\"outlinewidth\": 0, \"ticks\": \"\"}}, \"type\": \"scatterternary\"}], \"surface\": [{\"colorbar\": {\"outlinewidth\": 0, \"ticks\": \"\"}, \"colorscale\": [[0.0, \"#0d0887\"], [0.1111111111111111, \"#46039f\"], [0.2222222222222222, \"#7201a8\"], [0.3333333333333333, \"#9c179e\"], [0.4444444444444444, \"#bd3786\"], [0.5555555555555556, \"#d8576b\"], [0.6666666666666666, \"#ed7953\"], [0.7777777777777778, \"#fb9f3a\"], [0.8888888888888888, \"#fdca26\"], [1.0, \"#f0f921\"]], \"type\": \"surface\"}], \"table\": [{\"cells\": {\"fill\": {\"color\": \"#EBF0F8\"}, \"line\": {\"color\": \"white\"}}, \"header\": {\"fill\": {\"color\": \"#C8D4E3\"}, \"line\": {\"color\": \"white\"}}, \"type\": \"table\"}]}, \"layout\": {\"annotationdefaults\": {\"arrowcolor\": \"#2a3f5f\", \"arrowhead\": 0, \"arrowwidth\": 1}, \"coloraxis\": {\"colorbar\": {\"outlinewidth\": 0, \"ticks\": \"\"}}, \"colorscale\": {\"diverging\": [[0, \"#8e0152\"], [0.1, \"#c51b7d\"], [0.2, \"#de77ae\"], [0.3, \"#f1b6da\"], [0.4, \"#fde0ef\"], [0.5, \"#f7f7f7\"], [0.6, \"#e6f5d0\"], [0.7, \"#b8e186\"], [0.8, \"#7fbc41\"], [0.9, \"#4d9221\"], [1, \"#276419\"]], \"sequential\": [[0.0, \"#0d0887\"], [0.1111111111111111, \"#46039f\"], [0.2222222222222222, \"#7201a8\"], [0.3333333333333333, \"#9c179e\"], [0.4444444444444444, \"#bd3786\"], [0.5555555555555556, \"#d8576b\"], [0.6666666666666666, \"#ed7953\"], [0.7777777777777778, \"#fb9f3a\"], [0.8888888888888888, \"#fdca26\"], [1.0, \"#f0f921\"]], \"sequentialminus\": [[0.0, \"#0d0887\"], [0.1111111111111111, \"#46039f\"], [0.2222222222222222, \"#7201a8\"], [0.3333333333333333, \"#9c179e\"], [0.4444444444444444, \"#bd3786\"], [0.5555555555555556, \"#d8576b\"], [0.6666666666666666, \"#ed7953\"], [0.7777777777777778, \"#fb9f3a\"], [0.8888888888888888, \"#fdca26\"], [1.0, \"#f0f921\"]]}, \"colorway\": [\"#636efa\", \"#EF553B\", \"#00cc96\", \"#ab63fa\", \"#FFA15A\", \"#19d3f3\", \"#FF6692\", \"#B6E880\", \"#FF97FF\", \"#FECB52\"], \"font\": {\"color\": \"#2a3f5f\"}, \"geo\": {\"bgcolor\": \"white\", \"lakecolor\": \"white\", \"landcolor\": \"#E5ECF6\", \"showlakes\": true, \"showland\": true, \"subunitcolor\": \"white\"}, \"hoverlabel\": {\"align\": \"left\"}, \"hovermode\": \"closest\", \"mapbox\": {\"style\": \"light\"}, \"paper_bgcolor\": \"white\", \"plot_bgcolor\": \"#E5ECF6\", \"polar\": {\"angularaxis\": {\"gridcolor\": \"white\", \"linecolor\": \"white\", \"ticks\": \"\"}, \"bgcolor\": \"#E5ECF6\", \"radialaxis\": {\"gridcolor\": \"white\", \"linecolor\": \"white\", \"ticks\": \"\"}}, \"scene\": {\"xaxis\": {\"backgroundcolor\": \"#E5ECF6\", \"gridcolor\": \"white\", \"gridwidth\": 2, \"linecolor\": \"white\", \"showbackground\": true, \"ticks\": \"\", \"zerolinecolor\": \"white\"}, \"yaxis\": {\"backgroundcolor\": \"#E5ECF6\", \"gridcolor\": \"white\", \"gridwidth\": 2, \"linecolor\": \"white\", \"showbackground\": true, \"ticks\": \"\", \"zerolinecolor\": \"white\"}, \"zaxis\": {\"backgroundcolor\": \"#E5ECF6\", \"gridcolor\": \"white\", \"gridwidth\": 2, \"linecolor\": \"white\", \"showbackground\": true, \"ticks\": \"\", \"zerolinecolor\": \"white\"}}, \"shapedefaults\": {\"line\": {\"color\": \"#2a3f5f\"}}, \"ternary\": {\"aaxis\": {\"gridcolor\": \"white\", \"linecolor\": \"white\", \"ticks\": \"\"}, \"baxis\": {\"gridcolor\": \"white\", \"linecolor\": \"white\", \"ticks\": \"\"}, \"bgcolor\": \"#E5ECF6\", \"caxis\": {\"gridcolor\": \"white\", \"linecolor\": \"white\", \"ticks\": \"\"}}, \"title\": {\"x\": 0.05}, \"xaxis\": {\"automargin\": true, \"gridcolor\": \"white\", \"linecolor\": \"white\", \"ticks\": \"\", \"title\": {\"standoff\": 15}, \"zerolinecolor\": \"white\", \"zerolinewidth\": 2}, \"yaxis\": {\"automargin\": true, \"gridcolor\": \"white\", \"linecolor\": \"white\", \"ticks\": \"\", \"title\": {\"standoff\": 15}, \"zerolinecolor\": \"white\", \"zerolinewidth\": 2}}}, \"title\": {\"text\": \"Parameter Tunings Mean Absolute Percentage Error: Univariate Confirmed Cases\", \"x\": 0.5}, \"width\": 1200},\n",
              "                        {\"responsive\": true}\n",
              "                    ).then(function(){\n",
              "                            \n",
              "var gd = document.getElementById('779085f9-c140-4284-9626-526a0099ba54');\n",
              "var x = new MutationObserver(function (mutations, observer) {{\n",
              "        var display = window.getComputedStyle(gd).display;\n",
              "        if (!display || display === 'none') {{\n",
              "            console.log([gd, 'removed!']);\n",
              "            Plotly.purge(gd);\n",
              "            observer.disconnect();\n",
              "        }}\n",
              "}});\n",
              "\n",
              "// Listen for the removal of the full notebook cells\n",
              "var notebookContainer = gd.closest('#notebook-container');\n",
              "if (notebookContainer) {{\n",
              "    x.observe(notebookContainer, {childList: true});\n",
              "}}\n",
              "\n",
              "// Listen for the clearing of the current output cell\n",
              "var outputEl = gd.closest('.output');\n",
              "if (outputEl) {{\n",
              "    x.observe(outputEl, {childList: true});\n",
              "}}\n",
              "\n",
              "                        })\n",
              "                };\n",
              "                \n",
              "            </script>\n",
              "        </div>\n",
              "</body>\n",
              "</html>"
            ]
          },
          "metadata": {}
        }
      ]
    },
    {
      "cell_type": "markdown",
      "metadata": {
        "id": "amGjvQT85efx"
      },
      "source": [
        "#### Univariate Confirmed Deaths"
      ]
    },
    {
      "cell_type": "code",
      "metadata": {
        "colab": {
          "base_uri": "https://localhost:8080/",
          "height": 717
        },
        "id": "V4rl-5BkyHf9",
        "outputId": "7e03a6b5-abbe-464a-e8a3-368fa82e95bd"
      },
      "source": [
        "fig = go.Figure(data=[go.Table(header=dict(values=['Model', 'Kernel size', 'Pool', '2 Nodes','4 Nodes', '8 Nodes', '16 Nodes', '32 Nodes',\n",
        "                                                   \"64 Nodes\", '128 Nodes', '256 Nodes', '512 Nodes', '1024 Nodes'],\n",
        "                                           line_color = 'gray'),\n",
        "                               cells=dict(values=[['LSTM', 'GRU', 'RNNs', 'CNN',\n",
        "                                                   'CNN', 'CNN', 'CNN', 'CNN', 'CNN'],\n",
        "                                                  ['-', '-', '-', '3', '5', '7', '3', '5', '7'],\n",
        "                                                  ['-', '-', '-', '2', '2', '2', '3', '3', '3'],\n",
        "                                    [round(lstm_d_uni[0],3), \n",
        "                                     round(gru_d_uni[0],3),\n",
        "                                     round(rnn_d_uni[0],3), \n",
        "                                     round(cnn_d_uni.iloc[0,0],3),\n",
        "                                     round(cnn_d_uni.iloc[0,1],3),\n",
        "                                     round(cnn_d_uni.iloc[0,2],3),\n",
        "                                     round(cnn_d_uni.iloc[0,3],3),\n",
        "                                     round(cnn_d_uni.iloc[0,4],3),\n",
        "                                     round(cnn_d_uni.iloc[0,5],3)],\n",
        "                                     [round(lstm_d_uni[1],3), \n",
        "                                     round(gru_d_uni[1],3),\n",
        "                                     round(rnn_d_uni[1],3), \n",
        "                                     round(cnn_d_uni.iloc[1,0],3),\n",
        "                                     round(cnn_d_uni.iloc[1,1],3),\n",
        "                                     round(cnn_d_uni.iloc[1,2],3),\n",
        "                                     round(cnn_d_uni.iloc[1,3],3),\n",
        "                                     round(cnn_d_uni.iloc[1,4],3),\n",
        "                                     round(cnn_d_uni.iloc[1,5],3)],\n",
        "                                     [round(lstm_d_uni[2],3), \n",
        "                                     round(gru_d_uni[2],3),\n",
        "                                     round(rnn_d_uni[2],3), \n",
        "                                     round(cnn_d_uni.iloc[2,0],3),\n",
        "                                     round(cnn_d_uni.iloc[2,1],3),\n",
        "                                     round(cnn_d_uni.iloc[2,2],3),\n",
        "                                     round(cnn_d_uni.iloc[2,3],3),\n",
        "                                     round(cnn_d_uni.iloc[2,4],3),\n",
        "                                     round(cnn_d_uni.iloc[2,5],3)],\n",
        "                                     [round(lstm_d_uni[3],3), \n",
        "                                     round(gru_d_uni[3],3),\n",
        "                                     round(rnn_d_uni[3],3), \n",
        "                                     round(cnn_d_uni.iloc[3,0],3),\n",
        "                                     round(cnn_d_uni.iloc[3,1],3),\n",
        "                                     round(cnn_d_uni.iloc[3,2],3),\n",
        "                                     round(cnn_d_uni.iloc[3,3],3),\n",
        "                                     round(cnn_d_uni.iloc[3,4],3),\n",
        "                                     round(cnn_d_uni.iloc[3,5],3)],\n",
        "                                     [round(lstm_d_uni[4],3), \n",
        "                                     round(gru_d_uni[4],3),\n",
        "                                     round(rnn_d_uni[4],3), \n",
        "                                     round(cnn_d_uni.iloc[4,0],3),\n",
        "                                     round(cnn_d_uni.iloc[4,1],3),\n",
        "                                     round(cnn_d_uni.iloc[4,2],3),\n",
        "                                     round(cnn_d_uni.iloc[4,3],3),\n",
        "                                     round(cnn_d_uni.iloc[4,4],3),\n",
        "                                     round(cnn_d_uni.iloc[4,5],3)],\n",
        "                                     [round(lstm_d_uni[5],3), \n",
        "                                     round(gru_d_uni[5],3),\n",
        "                                     round(rnn_d_uni[5],3), \n",
        "                                     round(cnn_d_uni.iloc[5,0],3),\n",
        "                                     round(cnn_d_uni.iloc[5,1],3),\n",
        "                                     round(cnn_d_uni.iloc[5,2],3),\n",
        "                                     round(cnn_d_uni.iloc[5,3],3),\n",
        "                                     round(cnn_d_uni.iloc[5,4],3),\n",
        "                                     round(cnn_d_uni.iloc[5,5],3)],\n",
        "                                     [round(lstm_d_uni[6],3), \n",
        "                                     round(gru_d_uni[6],3),\n",
        "                                     round(rnn_d_uni[6],3), \n",
        "                                     round(cnn_d_uni.iloc[6,0],3),\n",
        "                                     round(cnn_d_uni.iloc[6,1],3),\n",
        "                                     round(cnn_d_uni.iloc[6,2],3),\n",
        "                                     round(cnn_d_uni.iloc[6,3],3),\n",
        "                                     round(cnn_d_uni.iloc[6,4],3),\n",
        "                                     round(cnn_d_uni.iloc[6,5],3)],\n",
        "                                     [round(lstm_d_uni[7],3), \n",
        "                                     round(gru_d_uni[7],3),\n",
        "                                     round(rnn_d_uni[7],3), \n",
        "                                     round(cnn_d_uni.iloc[7,0],3),\n",
        "                                     round(cnn_d_uni.iloc[7,1],3),\n",
        "                                     round(cnn_d_uni.iloc[7,2],3),\n",
        "                                     round(cnn_d_uni.iloc[7,3],3),\n",
        "                                     round(cnn_d_uni.iloc[7,4],3),\n",
        "                                     round(cnn_d_uni.iloc[7,5],3)],\n",
        "                                     [round(lstm_d_uni[8],3), \n",
        "                                     round(gru_d_uni[8],3),\n",
        "                                     round(rnn_d_uni[8],3), \n",
        "                                     round(cnn_d_uni.iloc[8,0],3),\n",
        "                                     round(cnn_d_uni.iloc[8,1],3),\n",
        "                                     round(cnn_d_uni.iloc[8,2],3),\n",
        "                                     round(cnn_d_uni.iloc[8,3],3),\n",
        "                                     round(cnn_d_uni.iloc[8,4],3),\n",
        "                                     round(cnn_d_uni.iloc[8,5],3)],\n",
        "                                     [round(lstm_d_uni[9],3), \n",
        "                                     round(gru_d_uni[9],3),\n",
        "                                     round(rnn_d_uni[9],3), \n",
        "                                     round(cnn_d_uni.iloc[9,0],3),\n",
        "                                     round(cnn_d_uni.iloc[9,1],3),\n",
        "                                     round(cnn_d_uni.iloc[9,2],3),\n",
        "                                     round(cnn_d_uni.iloc[9,3],3),\n",
        "                                     round(cnn_d_uni.iloc[9,4],3),\n",
        "                                     round(cnn_d_uni.iloc[9,5],3)]],\n",
        "                            align=['left','center', 'center', \n",
        "                                   'right','right','right',\n",
        "                                   'right','right','right',\n",
        "                                   'right','right','right', 'right'],\n",
        "                            fill_color = 'white',\n",
        "                            line_color = 'gray'))\n",
        "                     ])\n",
        "fig.update_layout(title = \"Parameter Tunings Mean Absolute Percentage Error: Univariate Confirmed Deaths\",\n",
        "                  title_x=0.5, height = 700, width = 1200)\n",
        "fig.show()"
      ],
      "execution_count": 33,
      "outputs": [
        {
          "output_type": "display_data",
          "data": {
            "text/html": [
              "<html>\n",
              "<head><meta charset=\"utf-8\" /></head>\n",
              "<body>\n",
              "    <div>\n",
              "            <script src=\"https://cdnjs.cloudflare.com/ajax/libs/mathjax/2.7.5/MathJax.js?config=TeX-AMS-MML_SVG\"></script><script type=\"text/javascript\">if (window.MathJax) {MathJax.Hub.Config({SVG: {font: \"STIX-Web\"}});}</script>\n",
              "                <script type=\"text/javascript\">window.PlotlyConfig = {MathJaxConfig: 'local'};</script>\n",
              "        <script src=\"https://cdn.plot.ly/plotly-latest.min.js\"></script>    \n",
              "            <div id=\"f439f35a-fe7a-4973-9b8e-cf103e73a4dc\" class=\"plotly-graph-div\" style=\"height:700px; width:1200px;\"></div>\n",
              "            <script type=\"text/javascript\">\n",
              "                \n",
              "                    window.PLOTLYENV=window.PLOTLYENV || {};\n",
              "                    \n",
              "                if (document.getElementById(\"f439f35a-fe7a-4973-9b8e-cf103e73a4dc\")) {\n",
              "                    Plotly.newPlot(\n",
              "                        'f439f35a-fe7a-4973-9b8e-cf103e73a4dc',\n",
              "                        [{\"cells\": {\"align\": [\"left\", \"center\", \"center\", \"right\", \"right\", \"right\", \"right\", \"right\", \"right\", \"right\", \"right\", \"right\", \"right\"], \"fill\": {\"color\": \"white\"}, \"line\": {\"color\": \"gray\"}, \"values\": [[\"LSTM\", \"GRU\", \"RNNs\", \"CNN\", \"CNN\", \"CNN\", \"CNN\", \"CNN\", \"CNN\"], [\"-\", \"-\", \"-\", \"3\", \"5\", \"7\", \"3\", \"5\", \"7\"], [\"-\", \"-\", \"-\", \"2\", \"2\", \"2\", \"3\", \"3\", \"3\"], [9.77, 98.116, 9.996, 11.43, 8.959, 9.06, 12.192, 11.453, 10.92], [58.043, 8.296, 8.325, 10.756, 9.267, 9.487, 10.513, 9.332, 8.956], [9.122, 7.743, 10.867, 7.691, 9.621, 8.184, 9.597, 9.507, 10.452], [8.278, 7.228, 8.844, 9.191, 9.079, 9.633, 8.79, 8.224, 9.448], [5.387, 6.364, 6.397, 8.271, 8.443, 9.624, 8.374, 8.825, 9.936], [11.109, 8.147, 6.188, 8.443, 8.651, 8.512, 8.92, 8.946, 9.302], [9.93, 7.32, 5.931, 8.257, 9.351, 9.909, 8.417, 8.981, 9.301], [9.83, 10.037, 7.936, 10.281, 10.713, 11.068, 8.719, 9.807, 9.888], [8.942, 11.895, 8.254, 11.57, 12.928, 12.084, 10.68, 12.066, 11.915], [9.187, 11.826, 8.945, 11.544, 13.36, 13.95, 11.105, 13.295, 13.76]]}, \"header\": {\"line\": {\"color\": \"gray\"}, \"values\": [\"Model\", \"Kernel size\", \"Pool\", \"2 Nodes\", \"4 Nodes\", \"8 Nodes\", \"16 Nodes\", \"32 Nodes\", \"64 Nodes\", \"128 Nodes\", \"256 Nodes\", \"512 Nodes\", \"1024 Nodes\"]}, \"type\": \"table\"}],\n",
              "                        {\"height\": 700, \"template\": {\"data\": {\"bar\": [{\"error_x\": {\"color\": \"#2a3f5f\"}, \"error_y\": {\"color\": \"#2a3f5f\"}, \"marker\": {\"line\": {\"color\": \"#E5ECF6\", \"width\": 0.5}}, \"type\": \"bar\"}], \"barpolar\": [{\"marker\": {\"line\": {\"color\": \"#E5ECF6\", \"width\": 0.5}}, \"type\": \"barpolar\"}], \"carpet\": [{\"aaxis\": {\"endlinecolor\": \"#2a3f5f\", \"gridcolor\": \"white\", \"linecolor\": \"white\", \"minorgridcolor\": \"white\", \"startlinecolor\": \"#2a3f5f\"}, \"baxis\": {\"endlinecolor\": \"#2a3f5f\", \"gridcolor\": \"white\", \"linecolor\": \"white\", \"minorgridcolor\": \"white\", \"startlinecolor\": \"#2a3f5f\"}, \"type\": \"carpet\"}], \"choropleth\": [{\"colorbar\": {\"outlinewidth\": 0, \"ticks\": \"\"}, \"type\": \"choropleth\"}], \"contour\": [{\"colorbar\": {\"outlinewidth\": 0, \"ticks\": \"\"}, \"colorscale\": [[0.0, \"#0d0887\"], [0.1111111111111111, \"#46039f\"], [0.2222222222222222, \"#7201a8\"], [0.3333333333333333, \"#9c179e\"], [0.4444444444444444, \"#bd3786\"], [0.5555555555555556, \"#d8576b\"], [0.6666666666666666, \"#ed7953\"], [0.7777777777777778, \"#fb9f3a\"], [0.8888888888888888, \"#fdca26\"], [1.0, \"#f0f921\"]], \"type\": \"contour\"}], \"contourcarpet\": [{\"colorbar\": {\"outlinewidth\": 0, \"ticks\": \"\"}, \"type\": \"contourcarpet\"}], \"heatmap\": [{\"colorbar\": {\"outlinewidth\": 0, \"ticks\": \"\"}, \"colorscale\": [[0.0, \"#0d0887\"], [0.1111111111111111, \"#46039f\"], [0.2222222222222222, \"#7201a8\"], [0.3333333333333333, \"#9c179e\"], [0.4444444444444444, \"#bd3786\"], [0.5555555555555556, \"#d8576b\"], [0.6666666666666666, \"#ed7953\"], [0.7777777777777778, \"#fb9f3a\"], [0.8888888888888888, \"#fdca26\"], [1.0, \"#f0f921\"]], \"type\": \"heatmap\"}], \"heatmapgl\": [{\"colorbar\": {\"outlinewidth\": 0, \"ticks\": \"\"}, \"colorscale\": [[0.0, \"#0d0887\"], [0.1111111111111111, \"#46039f\"], [0.2222222222222222, \"#7201a8\"], [0.3333333333333333, \"#9c179e\"], [0.4444444444444444, \"#bd3786\"], [0.5555555555555556, \"#d8576b\"], [0.6666666666666666, \"#ed7953\"], [0.7777777777777778, \"#fb9f3a\"], [0.8888888888888888, \"#fdca26\"], [1.0, \"#f0f921\"]], \"type\": \"heatmapgl\"}], \"histogram\": [{\"marker\": {\"colorbar\": {\"outlinewidth\": 0, \"ticks\": \"\"}}, \"type\": \"histogram\"}], \"histogram2d\": [{\"colorbar\": {\"outlinewidth\": 0, \"ticks\": \"\"}, \"colorscale\": [[0.0, \"#0d0887\"], [0.1111111111111111, \"#46039f\"], [0.2222222222222222, \"#7201a8\"], [0.3333333333333333, \"#9c179e\"], [0.4444444444444444, \"#bd3786\"], [0.5555555555555556, \"#d8576b\"], [0.6666666666666666, \"#ed7953\"], [0.7777777777777778, \"#fb9f3a\"], [0.8888888888888888, \"#fdca26\"], [1.0, \"#f0f921\"]], \"type\": \"histogram2d\"}], \"histogram2dcontour\": [{\"colorbar\": {\"outlinewidth\": 0, \"ticks\": \"\"}, \"colorscale\": [[0.0, \"#0d0887\"], [0.1111111111111111, \"#46039f\"], [0.2222222222222222, \"#7201a8\"], [0.3333333333333333, \"#9c179e\"], [0.4444444444444444, \"#bd3786\"], [0.5555555555555556, \"#d8576b\"], [0.6666666666666666, \"#ed7953\"], [0.7777777777777778, \"#fb9f3a\"], [0.8888888888888888, \"#fdca26\"], [1.0, \"#f0f921\"]], \"type\": \"histogram2dcontour\"}], \"mesh3d\": [{\"colorbar\": {\"outlinewidth\": 0, \"ticks\": \"\"}, \"type\": \"mesh3d\"}], \"parcoords\": [{\"line\": {\"colorbar\": {\"outlinewidth\": 0, \"ticks\": \"\"}}, \"type\": \"parcoords\"}], \"pie\": [{\"automargin\": true, \"type\": \"pie\"}], \"scatter\": [{\"marker\": {\"colorbar\": {\"outlinewidth\": 0, \"ticks\": \"\"}}, \"type\": \"scatter\"}], \"scatter3d\": [{\"line\": {\"colorbar\": {\"outlinewidth\": 0, \"ticks\": \"\"}}, \"marker\": {\"colorbar\": {\"outlinewidth\": 0, \"ticks\": \"\"}}, \"type\": \"scatter3d\"}], \"scattercarpet\": [{\"marker\": {\"colorbar\": {\"outlinewidth\": 0, \"ticks\": \"\"}}, \"type\": \"scattercarpet\"}], \"scattergeo\": [{\"marker\": {\"colorbar\": {\"outlinewidth\": 0, \"ticks\": \"\"}}, \"type\": \"scattergeo\"}], \"scattergl\": [{\"marker\": {\"colorbar\": {\"outlinewidth\": 0, \"ticks\": \"\"}}, \"type\": \"scattergl\"}], \"scattermapbox\": [{\"marker\": {\"colorbar\": {\"outlinewidth\": 0, \"ticks\": \"\"}}, \"type\": \"scattermapbox\"}], \"scatterpolar\": [{\"marker\": {\"colorbar\": {\"outlinewidth\": 0, \"ticks\": \"\"}}, \"type\": \"scatterpolar\"}], \"scatterpolargl\": [{\"marker\": {\"colorbar\": {\"outlinewidth\": 0, \"ticks\": \"\"}}, \"type\": \"scatterpolargl\"}], \"scatterternary\": [{\"marker\": {\"colorbar\": {\"outlinewidth\": 0, \"ticks\": \"\"}}, \"type\": \"scatterternary\"}], \"surface\": [{\"colorbar\": {\"outlinewidth\": 0, \"ticks\": \"\"}, \"colorscale\": [[0.0, \"#0d0887\"], [0.1111111111111111, \"#46039f\"], [0.2222222222222222, \"#7201a8\"], [0.3333333333333333, \"#9c179e\"], [0.4444444444444444, \"#bd3786\"], [0.5555555555555556, \"#d8576b\"], [0.6666666666666666, \"#ed7953\"], [0.7777777777777778, \"#fb9f3a\"], [0.8888888888888888, \"#fdca26\"], [1.0, \"#f0f921\"]], \"type\": \"surface\"}], \"table\": [{\"cells\": {\"fill\": {\"color\": \"#EBF0F8\"}, \"line\": {\"color\": \"white\"}}, \"header\": {\"fill\": {\"color\": \"#C8D4E3\"}, \"line\": {\"color\": \"white\"}}, \"type\": \"table\"}]}, \"layout\": {\"annotationdefaults\": {\"arrowcolor\": \"#2a3f5f\", \"arrowhead\": 0, \"arrowwidth\": 1}, \"coloraxis\": {\"colorbar\": {\"outlinewidth\": 0, \"ticks\": \"\"}}, \"colorscale\": {\"diverging\": [[0, \"#8e0152\"], [0.1, \"#c51b7d\"], [0.2, \"#de77ae\"], [0.3, \"#f1b6da\"], [0.4, \"#fde0ef\"], [0.5, \"#f7f7f7\"], [0.6, \"#e6f5d0\"], [0.7, \"#b8e186\"], [0.8, \"#7fbc41\"], [0.9, \"#4d9221\"], [1, \"#276419\"]], \"sequential\": [[0.0, \"#0d0887\"], [0.1111111111111111, \"#46039f\"], [0.2222222222222222, \"#7201a8\"], [0.3333333333333333, \"#9c179e\"], [0.4444444444444444, \"#bd3786\"], [0.5555555555555556, \"#d8576b\"], [0.6666666666666666, \"#ed7953\"], [0.7777777777777778, \"#fb9f3a\"], [0.8888888888888888, \"#fdca26\"], [1.0, \"#f0f921\"]], \"sequentialminus\": [[0.0, \"#0d0887\"], [0.1111111111111111, \"#46039f\"], [0.2222222222222222, \"#7201a8\"], [0.3333333333333333, \"#9c179e\"], [0.4444444444444444, \"#bd3786\"], [0.5555555555555556, \"#d8576b\"], [0.6666666666666666, \"#ed7953\"], [0.7777777777777778, \"#fb9f3a\"], [0.8888888888888888, \"#fdca26\"], [1.0, \"#f0f921\"]]}, \"colorway\": [\"#636efa\", \"#EF553B\", \"#00cc96\", \"#ab63fa\", \"#FFA15A\", \"#19d3f3\", \"#FF6692\", \"#B6E880\", \"#FF97FF\", \"#FECB52\"], \"font\": {\"color\": \"#2a3f5f\"}, \"geo\": {\"bgcolor\": \"white\", \"lakecolor\": \"white\", \"landcolor\": \"#E5ECF6\", \"showlakes\": true, \"showland\": true, \"subunitcolor\": \"white\"}, \"hoverlabel\": {\"align\": \"left\"}, \"hovermode\": \"closest\", \"mapbox\": {\"style\": \"light\"}, \"paper_bgcolor\": \"white\", \"plot_bgcolor\": \"#E5ECF6\", \"polar\": {\"angularaxis\": {\"gridcolor\": \"white\", \"linecolor\": \"white\", \"ticks\": \"\"}, \"bgcolor\": \"#E5ECF6\", \"radialaxis\": {\"gridcolor\": \"white\", \"linecolor\": \"white\", \"ticks\": \"\"}}, \"scene\": {\"xaxis\": {\"backgroundcolor\": \"#E5ECF6\", \"gridcolor\": \"white\", \"gridwidth\": 2, \"linecolor\": \"white\", \"showbackground\": true, \"ticks\": \"\", \"zerolinecolor\": \"white\"}, \"yaxis\": {\"backgroundcolor\": \"#E5ECF6\", \"gridcolor\": \"white\", \"gridwidth\": 2, \"linecolor\": \"white\", \"showbackground\": true, \"ticks\": \"\", \"zerolinecolor\": \"white\"}, \"zaxis\": {\"backgroundcolor\": \"#E5ECF6\", \"gridcolor\": \"white\", \"gridwidth\": 2, \"linecolor\": \"white\", \"showbackground\": true, \"ticks\": \"\", \"zerolinecolor\": \"white\"}}, \"shapedefaults\": {\"line\": {\"color\": \"#2a3f5f\"}}, \"ternary\": {\"aaxis\": {\"gridcolor\": \"white\", \"linecolor\": \"white\", \"ticks\": \"\"}, \"baxis\": {\"gridcolor\": \"white\", \"linecolor\": \"white\", \"ticks\": \"\"}, \"bgcolor\": \"#E5ECF6\", \"caxis\": {\"gridcolor\": \"white\", \"linecolor\": \"white\", \"ticks\": \"\"}}, \"title\": {\"x\": 0.05}, \"xaxis\": {\"automargin\": true, \"gridcolor\": \"white\", \"linecolor\": \"white\", \"ticks\": \"\", \"title\": {\"standoff\": 15}, \"zerolinecolor\": \"white\", \"zerolinewidth\": 2}, \"yaxis\": {\"automargin\": true, \"gridcolor\": \"white\", \"linecolor\": \"white\", \"ticks\": \"\", \"title\": {\"standoff\": 15}, \"zerolinecolor\": \"white\", \"zerolinewidth\": 2}}}, \"title\": {\"text\": \"Parameter Tunings Mean Absolute Percentage Error: Univariate Confirmed Deaths\", \"x\": 0.5}, \"width\": 1200},\n",
              "                        {\"responsive\": true}\n",
              "                    ).then(function(){\n",
              "                            \n",
              "var gd = document.getElementById('f439f35a-fe7a-4973-9b8e-cf103e73a4dc');\n",
              "var x = new MutationObserver(function (mutations, observer) {{\n",
              "        var display = window.getComputedStyle(gd).display;\n",
              "        if (!display || display === 'none') {{\n",
              "            console.log([gd, 'removed!']);\n",
              "            Plotly.purge(gd);\n",
              "            observer.disconnect();\n",
              "        }}\n",
              "}});\n",
              "\n",
              "// Listen for the removal of the full notebook cells\n",
              "var notebookContainer = gd.closest('#notebook-container');\n",
              "if (notebookContainer) {{\n",
              "    x.observe(notebookContainer, {childList: true});\n",
              "}}\n",
              "\n",
              "// Listen for the clearing of the current output cell\n",
              "var outputEl = gd.closest('.output');\n",
              "if (outputEl) {{\n",
              "    x.observe(outputEl, {childList: true});\n",
              "}}\n",
              "\n",
              "                        })\n",
              "                };\n",
              "                \n",
              "            </script>\n",
              "        </div>\n",
              "</body>\n",
              "</html>"
            ]
          },
          "metadata": {}
        }
      ]
    },
    {
      "cell_type": "markdown",
      "metadata": {
        "id": "wWeNmaup5b5U"
      },
      "source": [
        "#### Multivariate Confirmed Cases"
      ]
    },
    {
      "cell_type": "code",
      "metadata": {
        "colab": {
          "base_uri": "https://localhost:8080/",
          "height": 717
        },
        "id": "0nimG2vW0zLO",
        "outputId": "340d5fe4-8fa1-4ce8-e0f4-9c47a4ca4aad"
      },
      "source": [
        "fig = go.Figure(data=[go.Table(header=dict(values=['Model', 'Kernel size', 'Pool', '2 Nodes', '4 Nodes', '8 Nodes', '16 Nodes', \n",
        "                                                   '32 Nodes', \"64 Nodes\", '128 Nodes', '256 Nodes', '512 Nodes', '1024 Nodes'],\n",
        "                                           line_color = 'gray'),\n",
        "                               cells=dict(values=[['LSTM', 'GRU', 'RNNs', 'CNN',\n",
        "                                                   'CNN', 'CNN', 'CNN', 'CNN', 'CNN'],\n",
        "                                                  ['-', '-', '-', '3', '5', '7', '3', '5', '7'],\n",
        "                                                  ['-', '-', '-', '2', '2', '2', '3', '3', '3'],\n",
        "                                    [round(lstm_i_multi[0],3), \n",
        "                                     round(gru_i_multi[0],3),\n",
        "                                     round(rnn_i_multi[0],3), \n",
        "                                     round(cnn_i_multi.iloc[0,0],3),\n",
        "                                     round(cnn_i_multi.iloc[0,1],3),\n",
        "                                     round(cnn_i_multi.iloc[0,2],3),\n",
        "                                     round(cnn_i_multi.iloc[0,3],3),\n",
        "                                     round(cnn_i_multi.iloc[0,4],3),\n",
        "                                     round(cnn_i_multi.iloc[0,5],3)],\n",
        "                                     [round(lstm_i_multi[1],3), \n",
        "                                     round(gru_i_multi[1],3),\n",
        "                                     round(rnn_i_multi[1],3), \n",
        "                                     round(cnn_i_multi.iloc[1,0],3),\n",
        "                                     round(cnn_i_multi.iloc[1,1],3),\n",
        "                                     round(cnn_i_multi.iloc[1,2],3),\n",
        "                                     round(cnn_i_multi.iloc[1,3],3),\n",
        "                                     round(cnn_i_multi.iloc[1,4],3),\n",
        "                                     round(cnn_i_multi.iloc[1,5],3)],\n",
        "                                     [round(lstm_i_multi[2],3), \n",
        "                                     round(gru_i_multi[2],3),\n",
        "                                     round(rnn_i_multi[2],3), \n",
        "                                     round(cnn_i_multi.iloc[2,0],3),\n",
        "                                     round(cnn_i_multi.iloc[2,1],3),\n",
        "                                     round(cnn_i_multi.iloc[2,2],3),\n",
        "                                     round(cnn_i_multi.iloc[2,3],3),\n",
        "                                     round(cnn_i_multi.iloc[2,4],3),\n",
        "                                     round(cnn_i_multi.iloc[2,5],3)],\n",
        "                                     [round(lstm_i_multi[3],3), \n",
        "                                     round(gru_i_multi[3],3),\n",
        "                                     round(rnn_i_multi[3],3), \n",
        "                                     round(cnn_i_multi.iloc[3,0],3),\n",
        "                                     round(cnn_i_multi.iloc[3,1],3),\n",
        "                                     round(cnn_i_multi.iloc[3,2],3),\n",
        "                                     round(cnn_i_multi.iloc[3,3],3),\n",
        "                                     round(cnn_i_multi.iloc[3,4],3),\n",
        "                                     round(cnn_i_multi.iloc[3,5],3)],\n",
        "                                     [round(lstm_i_multi[4],3), \n",
        "                                     round(gru_i_multi[4],3),\n",
        "                                     round(rnn_i_multi[4],3), \n",
        "                                     round(cnn_i_multi.iloc[4,0],3),\n",
        "                                     round(cnn_i_multi.iloc[4,1],3),\n",
        "                                     round(cnn_i_multi.iloc[4,2],3),\n",
        "                                     round(cnn_i_multi.iloc[4,3],3),\n",
        "                                     round(cnn_i_multi.iloc[4,4],3),\n",
        "                                     round(cnn_i_multi.iloc[4,5],3)],\n",
        "                                     [round(lstm_i_multi[5],3), \n",
        "                                     round(gru_i_multi[5],3),\n",
        "                                     round(rnn_i_multi[5],3), \n",
        "                                     round(cnn_i_multi.iloc[5,0],3),\n",
        "                                     round(cnn_i_multi.iloc[5,1],3),\n",
        "                                     round(cnn_i_multi.iloc[5,2],3),\n",
        "                                     round(cnn_i_multi.iloc[5,3],3),\n",
        "                                     round(cnn_i_multi.iloc[5,4],3),\n",
        "                                     round(cnn_i_multi.iloc[5,5],3)],\n",
        "                                     [round(lstm_i_multi[6],3), \n",
        "                                     round(gru_i_multi[6],3),\n",
        "                                     round(rnn_i_multi[6],3), \n",
        "                                     round(cnn_i_multi.iloc[6,0],3),\n",
        "                                     round(cnn_i_multi.iloc[6,1],3),\n",
        "                                     round(cnn_i_multi.iloc[6,2],3),\n",
        "                                     round(cnn_i_multi.iloc[6,3],3),\n",
        "                                     round(cnn_i_multi.iloc[6,4],3),\n",
        "                                     round(cnn_i_multi.iloc[6,5],3)],\n",
        "                                     [round(lstm_i_multi[7],3), \n",
        "                                     round(gru_i_multi[7],3),\n",
        "                                     round(rnn_i_multi[7],3), \n",
        "                                     round(cnn_i_multi.iloc[7,0],3),\n",
        "                                     round(cnn_i_multi.iloc[7,1],3),\n",
        "                                     round(cnn_i_multi.iloc[7,2],3),\n",
        "                                     round(cnn_i_multi.iloc[7,3],3),\n",
        "                                     round(cnn_i_multi.iloc[7,4],3),\n",
        "                                     round(cnn_i_multi.iloc[7,5],3)],\n",
        "                                     [round(lstm_i_multi[8],3), \n",
        "                                     round(gru_i_multi[8],3),\n",
        "                                     round(rnn_i_multi[8],3), \n",
        "                                     round(cnn_i_multi.iloc[8,0],3),\n",
        "                                     round(cnn_i_multi.iloc[8,1],3),\n",
        "                                     round(cnn_i_multi.iloc[8,2],3),\n",
        "                                     round(cnn_i_multi.iloc[8,3],3),\n",
        "                                     round(cnn_i_multi.iloc[8,4],3),\n",
        "                                     round(cnn_i_multi.iloc[8,5],3)],\n",
        "                                     [round(lstm_i_multi[9],3), \n",
        "                                     round(gru_i_multi[9],3),\n",
        "                                     round(rnn_i_multi[9],3), \n",
        "                                     round(cnn_i_multi.iloc[9,0],3),\n",
        "                                     round(cnn_i_multi.iloc[9,1],3),\n",
        "                                     round(cnn_i_multi.iloc[9,2],3),\n",
        "                                     round(cnn_i_multi.iloc[9,3],3),\n",
        "                                     round(cnn_i_multi.iloc[9,4],3),\n",
        "                                     round(cnn_i_multi.iloc[9,5],3)]],\n",
        "                            align=['left','center', 'center', \n",
        "                                   'right','right','right',\n",
        "                                   'right','right','right',\n",
        "                                   'right','right','right','right'],\n",
        "                            fill_color = 'white',\n",
        "                            line_color = 'gray'))\n",
        "                     ])\n",
        "fig.update_layout(title = \"Parameter Tunings Mean Absolute Percentage Error: Multivariate Confirmed Cases\",\n",
        "                  title_x=0.5, height = 700, width = 1200)\n",
        "fig.show()"
      ],
      "execution_count": 34,
      "outputs": [
        {
          "output_type": "display_data",
          "data": {
            "text/html": [
              "<html>\n",
              "<head><meta charset=\"utf-8\" /></head>\n",
              "<body>\n",
              "    <div>\n",
              "            <script src=\"https://cdnjs.cloudflare.com/ajax/libs/mathjax/2.7.5/MathJax.js?config=TeX-AMS-MML_SVG\"></script><script type=\"text/javascript\">if (window.MathJax) {MathJax.Hub.Config({SVG: {font: \"STIX-Web\"}});}</script>\n",
              "                <script type=\"text/javascript\">window.PlotlyConfig = {MathJaxConfig: 'local'};</script>\n",
              "        <script src=\"https://cdn.plot.ly/plotly-latest.min.js\"></script>    \n",
              "            <div id=\"becce9ff-d709-4022-baac-83b777c9649a\" class=\"plotly-graph-div\" style=\"height:700px; width:1200px;\"></div>\n",
              "            <script type=\"text/javascript\">\n",
              "                \n",
              "                    window.PLOTLYENV=window.PLOTLYENV || {};\n",
              "                    \n",
              "                if (document.getElementById(\"becce9ff-d709-4022-baac-83b777c9649a\")) {\n",
              "                    Plotly.newPlot(\n",
              "                        'becce9ff-d709-4022-baac-83b777c9649a',\n",
              "                        [{\"cells\": {\"align\": [\"left\", \"center\", \"center\", \"right\", \"right\", \"right\", \"right\", \"right\", \"right\", \"right\", \"right\", \"right\", \"right\"], \"fill\": {\"color\": \"white\"}, \"line\": {\"color\": \"gray\"}, \"values\": [[\"LSTM\", \"GRU\", \"RNNs\", \"CNN\", \"CNN\", \"CNN\", \"CNN\", \"CNN\", \"CNN\"], [\"-\", \"-\", \"-\", \"3\", \"5\", \"7\", \"3\", \"5\", \"7\"], [\"-\", \"-\", \"-\", \"2\", \"2\", \"2\", \"3\", \"3\", \"3\"], [99.984, 99.984, 4.441, 4.926, 4.827, 5.27, 4.962, 6.438, 6.208], [3.886, 3.992, 4.935, 4.817, 4.555, 5.507, 5.086, 4.859, 5.176], [99.984, 4.75, 4.494, 5.057, 5.163, 4.811, 5.039, 5.787, 5.761], [4.229, 4.76, 4.316, 4.412, 4.684, 5.088, 4.64, 5.091, 5.65], [4.331, 3.777, 2.803, 4.134, 4.097, 4.024, 4.445, 4.909, 5.133], [4.327, 4.09, 3.1, 3.862, 3.8, 4.096, 4.248, 4.392, 4.761], [3.871, 4.49, 3.191, 3.638, 4.458, 4.227, 3.82, 4.678, 4.876], [3.733, 3.325, 3.283, 4.722, 4.262, 4.467, 4.016, 4.55, 4.898], [3.792, 3.526, 3.086, 5.552, 5.89, 5.857, 4.889, 5.109, 5.337], [4.187, 3.526, 3.093, 5.361, 6.957, 6.081, 5.386, 5.983, 6.475]]}, \"header\": {\"line\": {\"color\": \"gray\"}, \"values\": [\"Model\", \"Kernel size\", \"Pool\", \"2 Nodes\", \"4 Nodes\", \"8 Nodes\", \"16 Nodes\", \"32 Nodes\", \"64 Nodes\", \"128 Nodes\", \"256 Nodes\", \"512 Nodes\", \"1024 Nodes\"]}, \"type\": \"table\"}],\n",
              "                        {\"height\": 700, \"template\": {\"data\": {\"bar\": [{\"error_x\": {\"color\": \"#2a3f5f\"}, \"error_y\": {\"color\": \"#2a3f5f\"}, \"marker\": {\"line\": {\"color\": \"#E5ECF6\", \"width\": 0.5}}, \"type\": \"bar\"}], \"barpolar\": [{\"marker\": {\"line\": {\"color\": \"#E5ECF6\", \"width\": 0.5}}, \"type\": \"barpolar\"}], \"carpet\": [{\"aaxis\": {\"endlinecolor\": \"#2a3f5f\", \"gridcolor\": \"white\", \"linecolor\": \"white\", \"minorgridcolor\": \"white\", \"startlinecolor\": \"#2a3f5f\"}, \"baxis\": {\"endlinecolor\": \"#2a3f5f\", \"gridcolor\": \"white\", \"linecolor\": \"white\", \"minorgridcolor\": \"white\", \"startlinecolor\": \"#2a3f5f\"}, \"type\": \"carpet\"}], \"choropleth\": [{\"colorbar\": {\"outlinewidth\": 0, \"ticks\": \"\"}, \"type\": \"choropleth\"}], \"contour\": [{\"colorbar\": {\"outlinewidth\": 0, \"ticks\": \"\"}, \"colorscale\": [[0.0, \"#0d0887\"], [0.1111111111111111, \"#46039f\"], [0.2222222222222222, \"#7201a8\"], [0.3333333333333333, \"#9c179e\"], [0.4444444444444444, \"#bd3786\"], [0.5555555555555556, \"#d8576b\"], [0.6666666666666666, \"#ed7953\"], [0.7777777777777778, \"#fb9f3a\"], [0.8888888888888888, \"#fdca26\"], [1.0, \"#f0f921\"]], \"type\": \"contour\"}], \"contourcarpet\": [{\"colorbar\": {\"outlinewidth\": 0, \"ticks\": \"\"}, \"type\": \"contourcarpet\"}], \"heatmap\": [{\"colorbar\": {\"outlinewidth\": 0, \"ticks\": \"\"}, \"colorscale\": [[0.0, \"#0d0887\"], [0.1111111111111111, \"#46039f\"], [0.2222222222222222, \"#7201a8\"], [0.3333333333333333, \"#9c179e\"], [0.4444444444444444, \"#bd3786\"], [0.5555555555555556, \"#d8576b\"], [0.6666666666666666, \"#ed7953\"], [0.7777777777777778, \"#fb9f3a\"], [0.8888888888888888, \"#fdca26\"], [1.0, \"#f0f921\"]], \"type\": \"heatmap\"}], \"heatmapgl\": [{\"colorbar\": {\"outlinewidth\": 0, \"ticks\": \"\"}, \"colorscale\": [[0.0, \"#0d0887\"], [0.1111111111111111, \"#46039f\"], [0.2222222222222222, \"#7201a8\"], [0.3333333333333333, \"#9c179e\"], [0.4444444444444444, \"#bd3786\"], [0.5555555555555556, \"#d8576b\"], [0.6666666666666666, \"#ed7953\"], [0.7777777777777778, \"#fb9f3a\"], [0.8888888888888888, \"#fdca26\"], [1.0, \"#f0f921\"]], \"type\": \"heatmapgl\"}], \"histogram\": [{\"marker\": {\"colorbar\": {\"outlinewidth\": 0, \"ticks\": \"\"}}, \"type\": \"histogram\"}], \"histogram2d\": [{\"colorbar\": {\"outlinewidth\": 0, \"ticks\": \"\"}, \"colorscale\": [[0.0, \"#0d0887\"], [0.1111111111111111, \"#46039f\"], [0.2222222222222222, \"#7201a8\"], [0.3333333333333333, \"#9c179e\"], [0.4444444444444444, \"#bd3786\"], [0.5555555555555556, \"#d8576b\"], [0.6666666666666666, \"#ed7953\"], [0.7777777777777778, \"#fb9f3a\"], [0.8888888888888888, \"#fdca26\"], [1.0, \"#f0f921\"]], \"type\": \"histogram2d\"}], \"histogram2dcontour\": [{\"colorbar\": {\"outlinewidth\": 0, \"ticks\": \"\"}, \"colorscale\": [[0.0, \"#0d0887\"], [0.1111111111111111, \"#46039f\"], [0.2222222222222222, \"#7201a8\"], [0.3333333333333333, \"#9c179e\"], [0.4444444444444444, \"#bd3786\"], [0.5555555555555556, \"#d8576b\"], [0.6666666666666666, \"#ed7953\"], [0.7777777777777778, \"#fb9f3a\"], [0.8888888888888888, \"#fdca26\"], [1.0, \"#f0f921\"]], \"type\": \"histogram2dcontour\"}], \"mesh3d\": [{\"colorbar\": {\"outlinewidth\": 0, \"ticks\": \"\"}, \"type\": \"mesh3d\"}], \"parcoords\": [{\"line\": {\"colorbar\": {\"outlinewidth\": 0, \"ticks\": \"\"}}, \"type\": \"parcoords\"}], \"pie\": [{\"automargin\": true, \"type\": \"pie\"}], \"scatter\": [{\"marker\": {\"colorbar\": {\"outlinewidth\": 0, \"ticks\": \"\"}}, \"type\": \"scatter\"}], \"scatter3d\": [{\"line\": {\"colorbar\": {\"outlinewidth\": 0, \"ticks\": \"\"}}, \"marker\": {\"colorbar\": {\"outlinewidth\": 0, \"ticks\": \"\"}}, \"type\": \"scatter3d\"}], \"scattercarpet\": [{\"marker\": {\"colorbar\": {\"outlinewidth\": 0, \"ticks\": \"\"}}, \"type\": \"scattercarpet\"}], \"scattergeo\": [{\"marker\": {\"colorbar\": {\"outlinewidth\": 0, \"ticks\": \"\"}}, \"type\": \"scattergeo\"}], \"scattergl\": [{\"marker\": {\"colorbar\": {\"outlinewidth\": 0, \"ticks\": \"\"}}, \"type\": \"scattergl\"}], \"scattermapbox\": [{\"marker\": {\"colorbar\": {\"outlinewidth\": 0, \"ticks\": \"\"}}, \"type\": \"scattermapbox\"}], \"scatterpolar\": [{\"marker\": {\"colorbar\": {\"outlinewidth\": 0, \"ticks\": \"\"}}, \"type\": \"scatterpolar\"}], \"scatterpolargl\": [{\"marker\": {\"colorbar\": {\"outlinewidth\": 0, \"ticks\": \"\"}}, \"type\": \"scatterpolargl\"}], \"scatterternary\": [{\"marker\": {\"colorbar\": {\"outlinewidth\": 0, \"ticks\": \"\"}}, \"type\": \"scatterternary\"}], \"surface\": [{\"colorbar\": {\"outlinewidth\": 0, \"ticks\": \"\"}, \"colorscale\": [[0.0, \"#0d0887\"], [0.1111111111111111, \"#46039f\"], [0.2222222222222222, \"#7201a8\"], [0.3333333333333333, \"#9c179e\"], [0.4444444444444444, \"#bd3786\"], [0.5555555555555556, \"#d8576b\"], [0.6666666666666666, \"#ed7953\"], [0.7777777777777778, \"#fb9f3a\"], [0.8888888888888888, \"#fdca26\"], [1.0, \"#f0f921\"]], \"type\": \"surface\"}], \"table\": [{\"cells\": {\"fill\": {\"color\": \"#EBF0F8\"}, \"line\": {\"color\": \"white\"}}, \"header\": {\"fill\": {\"color\": \"#C8D4E3\"}, \"line\": {\"color\": \"white\"}}, \"type\": \"table\"}]}, \"layout\": {\"annotationdefaults\": {\"arrowcolor\": \"#2a3f5f\", \"arrowhead\": 0, \"arrowwidth\": 1}, \"coloraxis\": {\"colorbar\": {\"outlinewidth\": 0, \"ticks\": \"\"}}, \"colorscale\": {\"diverging\": [[0, \"#8e0152\"], [0.1, \"#c51b7d\"], [0.2, \"#de77ae\"], [0.3, \"#f1b6da\"], [0.4, \"#fde0ef\"], [0.5, \"#f7f7f7\"], [0.6, \"#e6f5d0\"], [0.7, \"#b8e186\"], [0.8, \"#7fbc41\"], [0.9, \"#4d9221\"], [1, \"#276419\"]], \"sequential\": [[0.0, \"#0d0887\"], [0.1111111111111111, \"#46039f\"], [0.2222222222222222, \"#7201a8\"], [0.3333333333333333, \"#9c179e\"], [0.4444444444444444, \"#bd3786\"], [0.5555555555555556, \"#d8576b\"], [0.6666666666666666, \"#ed7953\"], [0.7777777777777778, \"#fb9f3a\"], [0.8888888888888888, \"#fdca26\"], [1.0, \"#f0f921\"]], \"sequentialminus\": [[0.0, \"#0d0887\"], [0.1111111111111111, \"#46039f\"], [0.2222222222222222, \"#7201a8\"], [0.3333333333333333, \"#9c179e\"], [0.4444444444444444, \"#bd3786\"], [0.5555555555555556, \"#d8576b\"], [0.6666666666666666, \"#ed7953\"], [0.7777777777777778, \"#fb9f3a\"], [0.8888888888888888, \"#fdca26\"], [1.0, \"#f0f921\"]]}, \"colorway\": [\"#636efa\", \"#EF553B\", \"#00cc96\", \"#ab63fa\", \"#FFA15A\", \"#19d3f3\", \"#FF6692\", \"#B6E880\", \"#FF97FF\", \"#FECB52\"], \"font\": {\"color\": \"#2a3f5f\"}, \"geo\": {\"bgcolor\": \"white\", \"lakecolor\": \"white\", \"landcolor\": \"#E5ECF6\", \"showlakes\": true, \"showland\": true, \"subunitcolor\": \"white\"}, \"hoverlabel\": {\"align\": \"left\"}, \"hovermode\": \"closest\", \"mapbox\": {\"style\": \"light\"}, \"paper_bgcolor\": \"white\", \"plot_bgcolor\": \"#E5ECF6\", \"polar\": {\"angularaxis\": {\"gridcolor\": \"white\", \"linecolor\": \"white\", \"ticks\": \"\"}, \"bgcolor\": \"#E5ECF6\", \"radialaxis\": {\"gridcolor\": \"white\", \"linecolor\": \"white\", \"ticks\": \"\"}}, \"scene\": {\"xaxis\": {\"backgroundcolor\": \"#E5ECF6\", \"gridcolor\": \"white\", \"gridwidth\": 2, \"linecolor\": \"white\", \"showbackground\": true, \"ticks\": \"\", \"zerolinecolor\": \"white\"}, \"yaxis\": {\"backgroundcolor\": \"#E5ECF6\", \"gridcolor\": \"white\", \"gridwidth\": 2, \"linecolor\": \"white\", \"showbackground\": true, \"ticks\": \"\", \"zerolinecolor\": \"white\"}, \"zaxis\": {\"backgroundcolor\": \"#E5ECF6\", \"gridcolor\": \"white\", \"gridwidth\": 2, \"linecolor\": \"white\", \"showbackground\": true, \"ticks\": \"\", \"zerolinecolor\": \"white\"}}, \"shapedefaults\": {\"line\": {\"color\": \"#2a3f5f\"}}, \"ternary\": {\"aaxis\": {\"gridcolor\": \"white\", \"linecolor\": \"white\", \"ticks\": \"\"}, \"baxis\": {\"gridcolor\": \"white\", \"linecolor\": \"white\", \"ticks\": \"\"}, \"bgcolor\": \"#E5ECF6\", \"caxis\": {\"gridcolor\": \"white\", \"linecolor\": \"white\", \"ticks\": \"\"}}, \"title\": {\"x\": 0.05}, \"xaxis\": {\"automargin\": true, \"gridcolor\": \"white\", \"linecolor\": \"white\", \"ticks\": \"\", \"title\": {\"standoff\": 15}, \"zerolinecolor\": \"white\", \"zerolinewidth\": 2}, \"yaxis\": {\"automargin\": true, \"gridcolor\": \"white\", \"linecolor\": \"white\", \"ticks\": \"\", \"title\": {\"standoff\": 15}, \"zerolinecolor\": \"white\", \"zerolinewidth\": 2}}}, \"title\": {\"text\": \"Parameter Tunings Mean Absolute Percentage Error: Multivariate Confirmed Cases\", \"x\": 0.5}, \"width\": 1200},\n",
              "                        {\"responsive\": true}\n",
              "                    ).then(function(){\n",
              "                            \n",
              "var gd = document.getElementById('becce9ff-d709-4022-baac-83b777c9649a');\n",
              "var x = new MutationObserver(function (mutations, observer) {{\n",
              "        var display = window.getComputedStyle(gd).display;\n",
              "        if (!display || display === 'none') {{\n",
              "            console.log([gd, 'removed!']);\n",
              "            Plotly.purge(gd);\n",
              "            observer.disconnect();\n",
              "        }}\n",
              "}});\n",
              "\n",
              "// Listen for the removal of the full notebook cells\n",
              "var notebookContainer = gd.closest('#notebook-container');\n",
              "if (notebookContainer) {{\n",
              "    x.observe(notebookContainer, {childList: true});\n",
              "}}\n",
              "\n",
              "// Listen for the clearing of the current output cell\n",
              "var outputEl = gd.closest('.output');\n",
              "if (outputEl) {{\n",
              "    x.observe(outputEl, {childList: true});\n",
              "}}\n",
              "\n",
              "                        })\n",
              "                };\n",
              "                \n",
              "            </script>\n",
              "        </div>\n",
              "</body>\n",
              "</html>"
            ]
          },
          "metadata": {}
        }
      ]
    },
    {
      "cell_type": "markdown",
      "metadata": {
        "id": "jjt0C2lR5puq"
      },
      "source": [
        "#### Multivariate Confirmed Deaths"
      ]
    },
    {
      "cell_type": "code",
      "metadata": {
        "colab": {
          "base_uri": "https://localhost:8080/",
          "height": 717
        },
        "id": "tEs71xle1nbi",
        "outputId": "27c54855-2955-4306-fb89-418e66b8de86"
      },
      "source": [
        "fig = go.Figure(data=[go.Table(header=dict(values=['Model', 'Kernel size', 'Pool', '2 Nodes','4 Nodes', '8 Nodes', '16 Nodes', '32 Nodes',\n",
        "                                                   \"64 Nodes\", '128 Nodes', '256 Nodes', '512 Nodes' , '1024 Nodes'],\n",
        "                                           line_color = 'gray'),\n",
        "                               cells=dict(values=[['LSTM', 'GRU', 'RNNs', 'CNN',\n",
        "                                                   'CNN', 'CNN', 'CNN', 'CNN', 'CNN'],\n",
        "                                                  ['-', '-', '-', '3', '5', '7', '3', '5', '7'],\n",
        "                                                  ['-', '-', '-', '2', '2', '2', '3', '3', '3'],\n",
        "                                    [round(lstm_d_multi[0],3), \n",
        "                                     round(gru_d_multi[0],3),\n",
        "                                     round(rnn_d_multi[0],3), \n",
        "                                     round(cnn_d_multi.iloc[0,0],3),\n",
        "                                     round(cnn_d_multi.iloc[0,1],3),\n",
        "                                     round(cnn_d_multi.iloc[0,2],3),\n",
        "                                     round(cnn_d_multi.iloc[0,3],3),\n",
        "                                     round(cnn_d_multi.iloc[0,4],3),\n",
        "                                     round(cnn_d_multi.iloc[0,5],3)],\n",
        "                                     [round(lstm_d_multi[1],3), \n",
        "                                     round(gru_d_multi[1],3),\n",
        "                                     round(rnn_d_multi[1],3), \n",
        "                                     round(cnn_d_multi.iloc[1,0],3),\n",
        "                                     round(cnn_d_multi.iloc[1,1],3),\n",
        "                                     round(cnn_d_multi.iloc[1,2],3),\n",
        "                                     round(cnn_d_multi.iloc[1,3],3),\n",
        "                                     round(cnn_d_multi.iloc[1,4],3),\n",
        "                                     round(cnn_d_multi.iloc[1,5],3)],\n",
        "                                     [round(lstm_d_multi[2],3), \n",
        "                                     round(gru_d_multi[2],3),\n",
        "                                     round(rnn_d_multi[2],3), \n",
        "                                     round(cnn_d_multi.iloc[2,0],3),\n",
        "                                     round(cnn_d_multi.iloc[2,1],3),\n",
        "                                     round(cnn_d_multi.iloc[2,2],3),\n",
        "                                     round(cnn_d_multi.iloc[2,3],3),\n",
        "                                     round(cnn_d_multi.iloc[2,4],3),\n",
        "                                     round(cnn_d_multi.iloc[2,5],3)],\n",
        "                                     [round(lstm_d_multi[3],3), \n",
        "                                     round(gru_d_multi[3],3),\n",
        "                                     round(rnn_d_multi[3],3), \n",
        "                                     round(cnn_d_multi.iloc[3,0],3),\n",
        "                                     round(cnn_d_multi.iloc[3,1],3),\n",
        "                                     round(cnn_d_multi.iloc[3,2],3),\n",
        "                                     round(cnn_d_multi.iloc[3,3],3),\n",
        "                                     round(cnn_d_multi.iloc[3,4],3),\n",
        "                                     round(cnn_d_multi.iloc[3,5],3)],\n",
        "                                     [round(lstm_d_multi[4],3), \n",
        "                                     round(gru_d_multi[4],3),\n",
        "                                     round(rnn_d_multi[4],3), \n",
        "                                     round(cnn_d_multi.iloc[4,0],3),\n",
        "                                     round(cnn_d_multi.iloc[4,1],3),\n",
        "                                     round(cnn_d_multi.iloc[4,2],3),\n",
        "                                     round(cnn_d_multi.iloc[4,3],3),\n",
        "                                     round(cnn_d_multi.iloc[4,4],3),\n",
        "                                     round(cnn_d_multi.iloc[4,5],3)],\n",
        "                                     [round(lstm_d_multi[5],3), \n",
        "                                     round(gru_d_multi[5],3),\n",
        "                                     round(rnn_d_multi[5],3), \n",
        "                                     round(cnn_d_multi.iloc[5,0],3),\n",
        "                                     round(cnn_d_multi.iloc[5,1],3),\n",
        "                                     round(cnn_d_multi.iloc[5,2],3),\n",
        "                                     round(cnn_d_multi.iloc[5,3],3),\n",
        "                                     round(cnn_d_multi.iloc[5,4],3),\n",
        "                                     round(cnn_d_multi.iloc[5,5],3)],\n",
        "                                     [round(lstm_d_multi[6],3), \n",
        "                                     round(gru_d_multi[6],3),\n",
        "                                     round(rnn_d_multi[6],3), \n",
        "                                     round(cnn_d_multi.iloc[6,0],3),\n",
        "                                     round(cnn_d_multi.iloc[6,1],3),\n",
        "                                     round(cnn_d_multi.iloc[6,2],3),\n",
        "                                     round(cnn_d_multi.iloc[6,3],3),\n",
        "                                     round(cnn_d_multi.iloc[6,4],3),\n",
        "                                     round(cnn_d_multi.iloc[6,5],3)],\n",
        "                                     [round(lstm_d_multi[7],3), \n",
        "                                     round(gru_d_multi[7],3),\n",
        "                                     round(rnn_d_multi[7],3), \n",
        "                                     round(cnn_d_multi.iloc[7,0],3),\n",
        "                                     round(cnn_d_multi.iloc[7,1],3),\n",
        "                                     round(cnn_d_multi.iloc[7,2],3),\n",
        "                                     round(cnn_d_multi.iloc[7,3],3),\n",
        "                                     round(cnn_d_multi.iloc[7,4],3),\n",
        "                                     round(cnn_d_multi.iloc[7,5],3)],\n",
        "                                     [round(lstm_d_multi[8],3), \n",
        "                                     round(gru_d_multi[8],3),\n",
        "                                     round(rnn_d_multi[8],3), \n",
        "                                     round(cnn_d_multi.iloc[8,0],3),\n",
        "                                     round(cnn_d_multi.iloc[8,1],3),\n",
        "                                     round(cnn_d_multi.iloc[8,2],3),\n",
        "                                     round(cnn_d_multi.iloc[8,3],3),\n",
        "                                     round(cnn_d_multi.iloc[8,4],3),\n",
        "                                     round(cnn_d_multi.iloc[8,5],3)],\n",
        "                                     [round(lstm_d_multi[9],3), \n",
        "                                     round(gru_d_multi[9],3),\n",
        "                                     round(rnn_d_multi[9],3), \n",
        "                                     round(cnn_d_multi.iloc[9,0],3),\n",
        "                                     round(cnn_d_multi.iloc[9,1],3),\n",
        "                                     round(cnn_d_multi.iloc[9,2],3),\n",
        "                                     round(cnn_d_multi.iloc[9,3],3),\n",
        "                                     round(cnn_d_multi.iloc[9,4],3),\n",
        "                                     round(cnn_d_multi.iloc[9,5],3)]],\n",
        "                            align=['left','center', 'center', \n",
        "                                   'right','right','right',\n",
        "                                   'right','right','right',\n",
        "                                   'right','right','right','right'],\n",
        "                            fill_color = 'white',\n",
        "                            line_color = 'gray'))\n",
        "                     ])\n",
        "fig.update_layout(title = \"Parameter Tunings Mean Absolute Percentage Error: Multivariate Confirmed Deaths\",\n",
        "                  title_x=0.5, height = 700, width = 1200)\n",
        "fig.show()"
      ],
      "execution_count": 35,
      "outputs": [
        {
          "output_type": "display_data",
          "data": {
            "text/html": [
              "<html>\n",
              "<head><meta charset=\"utf-8\" /></head>\n",
              "<body>\n",
              "    <div>\n",
              "            <script src=\"https://cdnjs.cloudflare.com/ajax/libs/mathjax/2.7.5/MathJax.js?config=TeX-AMS-MML_SVG\"></script><script type=\"text/javascript\">if (window.MathJax) {MathJax.Hub.Config({SVG: {font: \"STIX-Web\"}});}</script>\n",
              "                <script type=\"text/javascript\">window.PlotlyConfig = {MathJaxConfig: 'local'};</script>\n",
              "        <script src=\"https://cdn.plot.ly/plotly-latest.min.js\"></script>    \n",
              "            <div id=\"00ebe97e-e6da-484b-b49a-a8d7b4ea1133\" class=\"plotly-graph-div\" style=\"height:700px; width:1200px;\"></div>\n",
              "            <script type=\"text/javascript\">\n",
              "                \n",
              "                    window.PLOTLYENV=window.PLOTLYENV || {};\n",
              "                    \n",
              "                if (document.getElementById(\"00ebe97e-e6da-484b-b49a-a8d7b4ea1133\")) {\n",
              "                    Plotly.newPlot(\n",
              "                        '00ebe97e-e6da-484b-b49a-a8d7b4ea1133',\n",
              "                        [{\"cells\": {\"align\": [\"left\", \"center\", \"center\", \"right\", \"right\", \"right\", \"right\", \"right\", \"right\", \"right\", \"right\", \"right\", \"right\"], \"fill\": {\"color\": \"white\"}, \"line\": {\"color\": \"gray\"}, \"values\": [[\"LSTM\", \"GRU\", \"RNNs\", \"CNN\", \"CNN\", \"CNN\", \"CNN\", \"CNN\", \"CNN\"], [\"-\", \"-\", \"-\", \"3\", \"5\", \"7\", \"3\", \"5\", \"7\"], [\"-\", \"-\", \"-\", \"2\", \"2\", \"2\", \"3\", \"3\", \"3\"], [7.665, 13.141, 9.361, 11.195, 8.713, 8.28, 9.616, 9.632, 6.837], [12.426, 10.642, 9.593, 8.988, 7.988, 10.254, 8.391, 13.336, 98.131], [8.709, 6.585, 9.819, 6.141, 6.048, 6.235, 6.206, 6.196, 9.046], [10.326, 5.097, 10.485, 5.021, 15.751, 7.166, 6.789, 4.268, 4.887], [6.839, 5.469, 5.932, 9.357, 5.445, 8.671, 5.505, 6.242, 5.061], [10.083, 3.324, 6.288, 12.203, 13.592, 15.462, 5.419, 6.838, 8.619], [6.493, 5.395, 5.408, 7.268, 6.084, 5.972, 20.839, 5.508, 9.825], [5.894, 12.495, 6.443, 9.386, 8.58, 6.006, 20.891, 20.317, 8.85], [10.528, 4.516, 7.543, 6.817, 6.84, 32.956, 6.627, 8.123, 7.083], [15.026, 6.525, 9.408, 9.845, 11.338, 23.961, 10.338, 9.609, 13.2]]}, \"header\": {\"line\": {\"color\": \"gray\"}, \"values\": [\"Model\", \"Kernel size\", \"Pool\", \"2 Nodes\", \"4 Nodes\", \"8 Nodes\", \"16 Nodes\", \"32 Nodes\", \"64 Nodes\", \"128 Nodes\", \"256 Nodes\", \"512 Nodes\", \"1024 Nodes\"]}, \"type\": \"table\"}],\n",
              "                        {\"height\": 700, \"template\": {\"data\": {\"bar\": [{\"error_x\": {\"color\": \"#2a3f5f\"}, \"error_y\": {\"color\": \"#2a3f5f\"}, \"marker\": {\"line\": {\"color\": \"#E5ECF6\", \"width\": 0.5}}, \"type\": \"bar\"}], \"barpolar\": [{\"marker\": {\"line\": {\"color\": \"#E5ECF6\", \"width\": 0.5}}, \"type\": \"barpolar\"}], \"carpet\": [{\"aaxis\": {\"endlinecolor\": \"#2a3f5f\", \"gridcolor\": \"white\", \"linecolor\": \"white\", \"minorgridcolor\": \"white\", \"startlinecolor\": \"#2a3f5f\"}, \"baxis\": {\"endlinecolor\": \"#2a3f5f\", \"gridcolor\": \"white\", \"linecolor\": \"white\", \"minorgridcolor\": \"white\", \"startlinecolor\": \"#2a3f5f\"}, \"type\": \"carpet\"}], \"choropleth\": [{\"colorbar\": {\"outlinewidth\": 0, \"ticks\": \"\"}, \"type\": \"choropleth\"}], \"contour\": [{\"colorbar\": {\"outlinewidth\": 0, \"ticks\": \"\"}, \"colorscale\": [[0.0, \"#0d0887\"], [0.1111111111111111, \"#46039f\"], [0.2222222222222222, \"#7201a8\"], [0.3333333333333333, \"#9c179e\"], [0.4444444444444444, \"#bd3786\"], [0.5555555555555556, \"#d8576b\"], [0.6666666666666666, \"#ed7953\"], [0.7777777777777778, \"#fb9f3a\"], [0.8888888888888888, \"#fdca26\"], [1.0, \"#f0f921\"]], \"type\": \"contour\"}], \"contourcarpet\": [{\"colorbar\": {\"outlinewidth\": 0, \"ticks\": \"\"}, \"type\": \"contourcarpet\"}], \"heatmap\": [{\"colorbar\": {\"outlinewidth\": 0, \"ticks\": \"\"}, \"colorscale\": [[0.0, \"#0d0887\"], [0.1111111111111111, \"#46039f\"], [0.2222222222222222, \"#7201a8\"], [0.3333333333333333, \"#9c179e\"], [0.4444444444444444, \"#bd3786\"], [0.5555555555555556, \"#d8576b\"], [0.6666666666666666, \"#ed7953\"], [0.7777777777777778, \"#fb9f3a\"], [0.8888888888888888, \"#fdca26\"], [1.0, \"#f0f921\"]], \"type\": \"heatmap\"}], \"heatmapgl\": [{\"colorbar\": {\"outlinewidth\": 0, \"ticks\": \"\"}, \"colorscale\": [[0.0, \"#0d0887\"], [0.1111111111111111, \"#46039f\"], [0.2222222222222222, \"#7201a8\"], [0.3333333333333333, \"#9c179e\"], [0.4444444444444444, \"#bd3786\"], [0.5555555555555556, \"#d8576b\"], [0.6666666666666666, \"#ed7953\"], [0.7777777777777778, \"#fb9f3a\"], [0.8888888888888888, \"#fdca26\"], [1.0, \"#f0f921\"]], \"type\": \"heatmapgl\"}], \"histogram\": [{\"marker\": {\"colorbar\": {\"outlinewidth\": 0, \"ticks\": \"\"}}, \"type\": \"histogram\"}], \"histogram2d\": [{\"colorbar\": {\"outlinewidth\": 0, \"ticks\": \"\"}, \"colorscale\": [[0.0, \"#0d0887\"], [0.1111111111111111, \"#46039f\"], [0.2222222222222222, \"#7201a8\"], [0.3333333333333333, \"#9c179e\"], [0.4444444444444444, \"#bd3786\"], [0.5555555555555556, \"#d8576b\"], [0.6666666666666666, \"#ed7953\"], [0.7777777777777778, \"#fb9f3a\"], [0.8888888888888888, \"#fdca26\"], [1.0, \"#f0f921\"]], \"type\": \"histogram2d\"}], \"histogram2dcontour\": [{\"colorbar\": {\"outlinewidth\": 0, \"ticks\": \"\"}, \"colorscale\": [[0.0, \"#0d0887\"], [0.1111111111111111, \"#46039f\"], [0.2222222222222222, \"#7201a8\"], [0.3333333333333333, \"#9c179e\"], [0.4444444444444444, \"#bd3786\"], [0.5555555555555556, \"#d8576b\"], [0.6666666666666666, \"#ed7953\"], [0.7777777777777778, \"#fb9f3a\"], [0.8888888888888888, \"#fdca26\"], [1.0, \"#f0f921\"]], \"type\": \"histogram2dcontour\"}], \"mesh3d\": [{\"colorbar\": {\"outlinewidth\": 0, \"ticks\": \"\"}, \"type\": \"mesh3d\"}], \"parcoords\": [{\"line\": {\"colorbar\": {\"outlinewidth\": 0, \"ticks\": \"\"}}, \"type\": \"parcoords\"}], \"pie\": [{\"automargin\": true, \"type\": \"pie\"}], \"scatter\": [{\"marker\": {\"colorbar\": {\"outlinewidth\": 0, \"ticks\": \"\"}}, \"type\": \"scatter\"}], \"scatter3d\": [{\"line\": {\"colorbar\": {\"outlinewidth\": 0, \"ticks\": \"\"}}, \"marker\": {\"colorbar\": {\"outlinewidth\": 0, \"ticks\": \"\"}}, \"type\": \"scatter3d\"}], \"scattercarpet\": [{\"marker\": {\"colorbar\": {\"outlinewidth\": 0, \"ticks\": \"\"}}, \"type\": \"scattercarpet\"}], \"scattergeo\": [{\"marker\": {\"colorbar\": {\"outlinewidth\": 0, \"ticks\": \"\"}}, \"type\": \"scattergeo\"}], \"scattergl\": [{\"marker\": {\"colorbar\": {\"outlinewidth\": 0, \"ticks\": \"\"}}, \"type\": \"scattergl\"}], \"scattermapbox\": [{\"marker\": {\"colorbar\": {\"outlinewidth\": 0, \"ticks\": \"\"}}, \"type\": \"scattermapbox\"}], \"scatterpolar\": [{\"marker\": {\"colorbar\": {\"outlinewidth\": 0, \"ticks\": \"\"}}, \"type\": \"scatterpolar\"}], \"scatterpolargl\": [{\"marker\": {\"colorbar\": {\"outlinewidth\": 0, \"ticks\": \"\"}}, \"type\": \"scatterpolargl\"}], \"scatterternary\": [{\"marker\": {\"colorbar\": {\"outlinewidth\": 0, \"ticks\": \"\"}}, \"type\": \"scatterternary\"}], \"surface\": [{\"colorbar\": {\"outlinewidth\": 0, \"ticks\": \"\"}, \"colorscale\": [[0.0, \"#0d0887\"], [0.1111111111111111, \"#46039f\"], [0.2222222222222222, \"#7201a8\"], [0.3333333333333333, \"#9c179e\"], [0.4444444444444444, \"#bd3786\"], [0.5555555555555556, \"#d8576b\"], [0.6666666666666666, \"#ed7953\"], [0.7777777777777778, \"#fb9f3a\"], [0.8888888888888888, \"#fdca26\"], [1.0, \"#f0f921\"]], \"type\": \"surface\"}], \"table\": [{\"cells\": {\"fill\": {\"color\": \"#EBF0F8\"}, \"line\": {\"color\": \"white\"}}, \"header\": {\"fill\": {\"color\": \"#C8D4E3\"}, \"line\": {\"color\": \"white\"}}, \"type\": \"table\"}]}, \"layout\": {\"annotationdefaults\": {\"arrowcolor\": \"#2a3f5f\", \"arrowhead\": 0, \"arrowwidth\": 1}, \"coloraxis\": {\"colorbar\": {\"outlinewidth\": 0, \"ticks\": \"\"}}, \"colorscale\": {\"diverging\": [[0, \"#8e0152\"], [0.1, \"#c51b7d\"], [0.2, \"#de77ae\"], [0.3, \"#f1b6da\"], [0.4, \"#fde0ef\"], [0.5, \"#f7f7f7\"], [0.6, \"#e6f5d0\"], [0.7, \"#b8e186\"], [0.8, \"#7fbc41\"], [0.9, \"#4d9221\"], [1, \"#276419\"]], \"sequential\": [[0.0, \"#0d0887\"], [0.1111111111111111, \"#46039f\"], [0.2222222222222222, \"#7201a8\"], [0.3333333333333333, \"#9c179e\"], [0.4444444444444444, \"#bd3786\"], [0.5555555555555556, \"#d8576b\"], [0.6666666666666666, \"#ed7953\"], [0.7777777777777778, \"#fb9f3a\"], [0.8888888888888888, \"#fdca26\"], [1.0, \"#f0f921\"]], \"sequentialminus\": [[0.0, \"#0d0887\"], [0.1111111111111111, \"#46039f\"], [0.2222222222222222, \"#7201a8\"], [0.3333333333333333, \"#9c179e\"], [0.4444444444444444, \"#bd3786\"], [0.5555555555555556, \"#d8576b\"], [0.6666666666666666, \"#ed7953\"], [0.7777777777777778, \"#fb9f3a\"], [0.8888888888888888, \"#fdca26\"], [1.0, \"#f0f921\"]]}, \"colorway\": [\"#636efa\", \"#EF553B\", \"#00cc96\", \"#ab63fa\", \"#FFA15A\", \"#19d3f3\", \"#FF6692\", \"#B6E880\", \"#FF97FF\", \"#FECB52\"], \"font\": {\"color\": \"#2a3f5f\"}, \"geo\": {\"bgcolor\": \"white\", \"lakecolor\": \"white\", \"landcolor\": \"#E5ECF6\", \"showlakes\": true, \"showland\": true, \"subunitcolor\": \"white\"}, \"hoverlabel\": {\"align\": \"left\"}, \"hovermode\": \"closest\", \"mapbox\": {\"style\": \"light\"}, \"paper_bgcolor\": \"white\", \"plot_bgcolor\": \"#E5ECF6\", \"polar\": {\"angularaxis\": {\"gridcolor\": \"white\", \"linecolor\": \"white\", \"ticks\": \"\"}, \"bgcolor\": \"#E5ECF6\", \"radialaxis\": {\"gridcolor\": \"white\", \"linecolor\": \"white\", \"ticks\": \"\"}}, \"scene\": {\"xaxis\": {\"backgroundcolor\": \"#E5ECF6\", \"gridcolor\": \"white\", \"gridwidth\": 2, \"linecolor\": \"white\", \"showbackground\": true, \"ticks\": \"\", \"zerolinecolor\": \"white\"}, \"yaxis\": {\"backgroundcolor\": \"#E5ECF6\", \"gridcolor\": \"white\", \"gridwidth\": 2, \"linecolor\": \"white\", \"showbackground\": true, \"ticks\": \"\", \"zerolinecolor\": \"white\"}, \"zaxis\": {\"backgroundcolor\": \"#E5ECF6\", \"gridcolor\": \"white\", \"gridwidth\": 2, \"linecolor\": \"white\", \"showbackground\": true, \"ticks\": \"\", \"zerolinecolor\": \"white\"}}, \"shapedefaults\": {\"line\": {\"color\": \"#2a3f5f\"}}, \"ternary\": {\"aaxis\": {\"gridcolor\": \"white\", \"linecolor\": \"white\", \"ticks\": \"\"}, \"baxis\": {\"gridcolor\": \"white\", \"linecolor\": \"white\", \"ticks\": \"\"}, \"bgcolor\": \"#E5ECF6\", \"caxis\": {\"gridcolor\": \"white\", \"linecolor\": \"white\", \"ticks\": \"\"}}, \"title\": {\"x\": 0.05}, \"xaxis\": {\"automargin\": true, \"gridcolor\": \"white\", \"linecolor\": \"white\", \"ticks\": \"\", \"title\": {\"standoff\": 15}, \"zerolinecolor\": \"white\", \"zerolinewidth\": 2}, \"yaxis\": {\"automargin\": true, \"gridcolor\": \"white\", \"linecolor\": \"white\", \"ticks\": \"\", \"title\": {\"standoff\": 15}, \"zerolinecolor\": \"white\", \"zerolinewidth\": 2}}}, \"title\": {\"text\": \"Parameter Tunings Mean Absolute Percentage Error: Multivariate Confirmed Deaths\", \"x\": 0.5}, \"width\": 1200},\n",
              "                        {\"responsive\": true}\n",
              "                    ).then(function(){\n",
              "                            \n",
              "var gd = document.getElementById('00ebe97e-e6da-484b-b49a-a8d7b4ea1133');\n",
              "var x = new MutationObserver(function (mutations, observer) {{\n",
              "        var display = window.getComputedStyle(gd).display;\n",
              "        if (!display || display === 'none') {{\n",
              "            console.log([gd, 'removed!']);\n",
              "            Plotly.purge(gd);\n",
              "            observer.disconnect();\n",
              "        }}\n",
              "}});\n",
              "\n",
              "// Listen for the removal of the full notebook cells\n",
              "var notebookContainer = gd.closest('#notebook-container');\n",
              "if (notebookContainer) {{\n",
              "    x.observe(notebookContainer, {childList: true});\n",
              "}}\n",
              "\n",
              "// Listen for the clearing of the current output cell\n",
              "var outputEl = gd.closest('.output');\n",
              "if (outputEl) {{\n",
              "    x.observe(outputEl, {childList: true});\n",
              "}}\n",
              "\n",
              "                        })\n",
              "                };\n",
              "                \n",
              "            </script>\n",
              "        </div>\n",
              "</body>\n",
              "</html>"
            ]
          },
          "metadata": {}
        }
      ]
    },
    {
      "cell_type": "markdown",
      "metadata": {
        "id": "vc5YHb2g7fIF"
      },
      "source": [
        "## Training and Validation\n",
        "\n",
        "---\n",
        "\n",
        "After models were selected, using the training data set, we adjusted and trained the models to get the prediction with the lowest MAPE. We, then, used test samples for model validations and combined predicted values from both training and test sets together. This was only for illustration purpose.\n"
      ]
    },
    {
      "cell_type": "markdown",
      "metadata": {
        "id": "_TID0eqpymUJ"
      },
      "source": [
        "### Univariate Confirmed Cases"
      ]
    },
    {
      "cell_type": "code",
      "metadata": {
        "colab": {
          "base_uri": "https://localhost:8080/"
        },
        "id": "-IwVQacQylZ8",
        "outputId": "d248fc78-248b-4596-a9ba-cbd6de149128"
      },
      "source": [
        "seed(1)\n",
        "tensorflow.random.set_seed(1)\n",
        "\n",
        "model_uni_i = Sequential()\n",
        "model_uni_i.add(SimpleRNN(units = 1024, activation='relu', input_shape=(X_d_tr.shape[1], X_d_tr.shape[2])))\n",
        "model_uni_i.add(Dense(1, activation = \"linear\"))\n",
        "model_uni_i.compile(loss='mse', optimizer='adam', metrics = \"MAPE\")\n",
        "\n",
        "# fit network\n",
        "model_uni_i.fit(X_i_tr, y_i_tr, \n",
        "                           epochs=50, \n",
        "                           batch_size=1, \n",
        "                           verbose=0, \n",
        "                           shuffle=False)\n",
        "\n",
        "scores_uni_i1 = model_uni_i.evaluate(X_i_tr, y_i_tr, verbose=0)\n",
        "\n",
        "# MAPE\n",
        "print(\"MAPE: training = \",scores_uni_i1[1])\n",
        "\n",
        "scores_uni_i = model_uni_i.evaluate(X_i_ts, y_i_ts, verbose=0)\n",
        "\n",
        "# MAPE\n",
        "print(\"MAPE: test = \",scores_uni_i[1])"
      ],
      "execution_count": 78,
      "outputs": [
        {
          "output_type": "stream",
          "name": "stdout",
          "text": [
            "MAPE: training =  2.715256690979004\n",
            "MAPE: test =  6.3116679191589355\n"
          ]
        }
      ]
    },
    {
      "cell_type": "code",
      "metadata": {
        "id": "DfAOIynPyC7b"
      },
      "source": [
        "# make a prediction\n",
        "# training set\n",
        "y_uni_i_tr = pd.DataFrame(model_uni_i.predict(X_i_tr))\n",
        "\n",
        "# test set\n",
        "y_uni_i_ts = pd.DataFrame(model_uni_i.predict(X_i_ts))\n",
        "\n",
        "# combine training and test predictions\n",
        "y_uni_i_total = pd.concat([y_uni_i_tr, y_uni_i_ts], ignore_index=True)\n"
      ],
      "execution_count": 79,
      "outputs": []
    },
    {
      "cell_type": "markdown",
      "metadata": {
        "id": "8nHH_zo7x6ID"
      },
      "source": [
        "### Univariate Confirmed Deaths"
      ]
    },
    {
      "cell_type": "code",
      "metadata": {
        "colab": {
          "base_uri": "https://localhost:8080/"
        },
        "id": "izeC4sF6yCJS",
        "outputId": "03e3d7b9-d8a8-44a7-bddc-77a8bcce00f9"
      },
      "source": [
        "seed(1)\n",
        "tensorflow.random.set_seed(1)\n",
        "\n",
        "model_uni_d = Sequential()\n",
        "model_uni_d.add(LSTM(32, activation='relu', input_shape=(X_d_tr.shape[1], X_d_tr.shape[2])))\n",
        "# model_uni_d.add(Dense(2, activation = \"relu\"))\n",
        "model_uni_d.add(Dense(1, activation = \"linear\"))\n",
        "model_uni_d.compile(loss='mse', optimizer='adam', metrics = \"MAPE\")\n",
        "\n",
        "# fit network\n",
        "model_uni_d.fit(X_d_tr, y_d_tr, \n",
        "                           epochs=50, \n",
        "                           batch_size=1, \n",
        "                           verbose=0, \n",
        "                           shuffle=False)\n",
        "\n",
        "scores_uni_d1 = model_uni_d.evaluate(X_d_tr, y_d_tr, verbose=0)\n",
        "\n",
        "# MAPE\n",
        "print(\"MAPE: training = \",scores_uni_d1[1])\n",
        "\n",
        "scores_uni_d = model_uni_d.evaluate(X_d_ts, y_d_ts, verbose=0)\n",
        "\n",
        "# MAPE\n",
        "print(\"MAPE: test = \",scores_uni_d[1])"
      ],
      "execution_count": 77,
      "outputs": [
        {
          "output_type": "stream",
          "name": "stdout",
          "text": [
            "MAPE: training =  5.386639595031738\n",
            "MAPE: test =  18.296846389770508\n"
          ]
        }
      ]
    },
    {
      "cell_type": "code",
      "metadata": {
        "id": "kDUebMKdyC4P"
      },
      "source": [
        "# make a prediction\n",
        "# training set\n",
        "y_uni_d_tr = pd.DataFrame(model_uni_d.predict(X_d_tr))\n",
        "\n",
        "# test set\n",
        "y_uni_d_ts = pd.DataFrame(model_uni_d.predict(X_d_ts))\n",
        "\n",
        "# combine training and test predictions\n",
        "y_uni_d_total = pd.concat([y_uni_d_tr, y_uni_d_ts], ignore_index=True)\n"
      ],
      "execution_count": 59,
      "outputs": []
    },
    {
      "cell_type": "markdown",
      "metadata": {
        "id": "7X0mIDbGFxE0"
      },
      "source": [
        "### Multivariate Confirmed Cases"
      ]
    },
    {
      "cell_type": "code",
      "metadata": {
        "colab": {
          "base_uri": "https://localhost:8080/"
        },
        "id": "LQbv37lbF0FY",
        "outputId": "d12d97cb-e201-4569-9f61-555f0bfaa29e"
      },
      "source": [
        "seed(1)\n",
        "tensorflow.random.set_seed(1)\n",
        "\n",
        "# model_multi_i = Sequential()\n",
        "# model_multi_i.add(Conv1D(filters = 1024, kernel_size = 7, activation='relu', input_shape=(X_i_p_tr.shape[1], X_i_p_tr.shape[2])))\n",
        "# model_multi_i.add(MaxPooling1D(pool_size = 2))\n",
        "# model_multi_i.add(Flatten())\n",
        "# # model_multi_i.add(Dense(64, activation = \"relu\"))\n",
        "# model_multi_i.add(Dense(1, activation = \"linear\"))\n",
        "# model_multi_i.compile(loss='mse', optimizer='adam', metrics = \"MAPE\")\n",
        "\n",
        "model_multi_i = Sequential()\n",
        "model_multi_i.add(SimpleRNN(32, activation='relu', input_shape=(X_i_p_tr.shape[1], X_i_p_tr.shape[2])))\n",
        "# model_multi_i.add(Dense(32, activation = \"relu\"))\n",
        "model_multi_i.add(Dense(1, activation = \"linear\"))\n",
        "model_multi_i.compile(loss='mse', optimizer='adam', metrics = \"MAPE\")\n",
        "\n",
        "# fit network\n",
        "model_multi_i.fit(X_i_p_tr, y_i_p_tr, \n",
        "                           epochs=50, \n",
        "                           batch_size=1, \n",
        "                           verbose=0, \n",
        "                           shuffle=False)\n",
        "\n",
        "\n",
        "scores_multi_i1 = model_multi_i.evaluate(X_i_p_tr, y_i_p_tr, verbose=0)\n",
        "\n",
        "# MAPE\n",
        "print(\"MAPE: training = \",scores_multi_i1[1])\n",
        "\n",
        "scores_multi_i = model_multi_i.evaluate(X_i_p_ts, y_i_p_ts, verbose=0)\n",
        "\n",
        "# MAPE\n",
        "print(\"MAPE: test = \",scores_multi_i[1])"
      ],
      "execution_count": 92,
      "outputs": [
        {
          "output_type": "stream",
          "name": "stdout",
          "text": [
            "MAPE: training =  2.802544355392456\n",
            "MAPE: test =  31.94021987915039\n"
          ]
        }
      ]
    },
    {
      "cell_type": "code",
      "metadata": {
        "id": "PGGnOECzF0MN"
      },
      "source": [
        "# make a prediction\n",
        "# training set\n",
        "y_multi_i_tr = pd.DataFrame(model_multi_i.predict(X_i_p_tr))\n",
        "\n",
        "# test set\n",
        "y_multi_i_ts = pd.DataFrame(model_multi_i.predict(X_i_p_ts))\n",
        "\n",
        "# combine training and test predictions\n",
        "y_multi_i_total = pd.concat([y_multi_i_tr, y_multi_i_ts], ignore_index=True)\n"
      ],
      "execution_count": 93,
      "outputs": []
    },
    {
      "cell_type": "markdown",
      "metadata": {
        "id": "LX_viW2LFOgn"
      },
      "source": [
        "### Multivariate Confirmed Deaths"
      ]
    },
    {
      "cell_type": "code",
      "metadata": {
        "colab": {
          "base_uri": "https://localhost:8080/"
        },
        "id": "ETqGykawFR0f",
        "outputId": "0eb0cfc6-2cb1-41ae-cf74-c83dc8ab7b5d"
      },
      "source": [
        "seed(1)\n",
        "tensorflow.random.set_seed(1)\n",
        "\n",
        "model_multi_d = Sequential()\n",
        "model_multi_d.add(GRU(64, activation = 'relu', input_shape=(X_d_p_tr.shape[1], X_d_p_tr.shape[2])))\n",
        "model_multi_d.add(Dense(1, activation = \"linear\"))\n",
        "model_multi_d.compile(loss='mse', optimizer='adam', metrics = \"MAPE\")\n",
        "\n",
        "# model_multi_d = Sequential()\n",
        "# model_multi_d.add(Conv1D(128, kernel_size = 5, activation = 'relu', input_shape=(X_d_p_tr.shape[1], X_d_p_tr.shape[2])))\n",
        "# model_multi_d.add(MaxPooling1D(3))\n",
        "# model_multi_d.add(Flatten())\n",
        "# # model_multi_d.add(Dense(4, activation = \"relu\"))\n",
        "# model_multi_d.add(Dense(1, activation = \"linear\"))\n",
        "# model_multi_d.compile(loss='mse', optimizer='adam', metrics = \"MAPE\")\n",
        "\n",
        "# fit network\n",
        "model_multi_d.fit(X_d_p_tr, y_d_p_tr, \n",
        "                           epochs=50, \n",
        "                           batch_size=1, \n",
        "                           verbose=0, \n",
        "                           shuffle=False)\n",
        "\n",
        "scores_multi_d1 = model_multi_d.evaluate(X_d_p_tr, y_d_p_tr, verbose=0)\n",
        "\n",
        "# MAPE\n",
        "print(\"MAPE: training = \",scores_multi_d1[1])\n",
        "\n",
        "scores_multi_d = model_multi_d.evaluate(X_d_p_ts, y_d_p_ts, verbose=0)\n",
        "\n",
        "# MAPE\n",
        "print(\"MAPE: test = \",scores_multi_d[1])"
      ],
      "execution_count": 68,
      "outputs": [
        {
          "output_type": "stream",
          "name": "stdout",
          "text": [
            "MAPE: training =  3.324288845062256\n",
            "MAPE: test =  15.190264701843262\n"
          ]
        }
      ]
    },
    {
      "cell_type": "code",
      "metadata": {
        "id": "NlPeIWWTFR7X"
      },
      "source": [
        "# make a prediction\n",
        "# training set\n",
        "y_multi_d_tr = pd.DataFrame(model_multi_d.predict(X_d_p_tr))\n",
        "\n",
        "# test set\n",
        "y_multi_d_ts = pd.DataFrame(model_multi_d.predict(X_d_p_ts))\n",
        "\n",
        "# combine training and test predictions\n",
        "y_multi_d_total = pd.concat([y_multi_d_tr, y_multi_d_ts], ignore_index=True)\n"
      ],
      "execution_count": 69,
      "outputs": []
    },
    {
      "cell_type": "code",
      "metadata": {
        "id": "AUJOWqqPSZjB"
      },
      "source": [
        "uni_in = \"RNNs\"\n",
        "uni_de = \"LSTM\"\n",
        "multi_in = \"RNNs\"\n",
        "multi_de = \"GRU\""
      ],
      "execution_count": 70,
      "outputs": []
    },
    {
      "cell_type": "markdown",
      "metadata": {
        "id": "hyai-GAA1pto"
      },
      "source": [
        "### Plots"
      ]
    },
    {
      "cell_type": "code",
      "metadata": {
        "colab": {
          "base_uri": "https://localhost:8080/",
          "height": 754
        },
        "id": "EyzgkqsZUst1",
        "outputId": "52287fb0-1254-437a-81e9-3cbcfe610487"
      },
      "source": [
        "infect = pd.concat([y_uni_i_total, y_multi_i_total,\n",
        "                   data.Cases_daily2.iloc[lag:].reset_index(drop = True), \n",
        "                   data.Date.iloc[lag:].reset_index(drop = True)],\n",
        "                   axis=1)\n",
        "infect.columns = ['uni_i', 'multi_i', 'actual', 'Date']\n",
        "\n",
        "death = pd.concat([y_uni_d_total, y_multi_d_total,\n",
        "                   data.Deaths_daily2.iloc[lag:].reset_index(drop = True), \n",
        "                   data.Date.iloc[lag:].reset_index(drop = True)],\n",
        "                  axis=1)\n",
        "death.columns = ['uni_d', 'multi_d', 'actual', 'Date']\n",
        "tick_spacing = 5\n",
        "date_test = data['Date'][0+index+lag-1]\n",
        "\n",
        "\n",
        "fig, axes = plt.subplots(2, 2, figsize=(15,10)) \n",
        "fig.suptitle(\"Covid-19 Prediction in Thailand\", fontsize=20)\n",
        "\n",
        "# Univariate confirmed cases\n",
        "axes[0, 0].plot(infect['Date'],infect['uni_i'], label = uni_in)\n",
        "axes[0, 0].plot(infect['Date'],infect['actual'], label = \"Actual\")\n",
        "axes[0, 0].legend(frameon=False, loc='upper center', ncol = 2, fontsize = 'x-large')\n",
        "axes[0, 0].set_title(\"Univariate: Confirmed Cases\", fontsize = 'xx-large')\n",
        "axes[0, 0].tick_params('x',labelrotation=90)\n",
        "axes[0, 0].axvline(date_test, color=\"gray\", linestyle=\"--\")\n",
        "axes[0, 0].xaxis.set_major_locator(ticker.MultipleLocator(tick_spacing))\n",
        "axes[0, 0].xaxis.grid(True, which='both', alpha=0.3)\n",
        "axes[0, 0].set_xticks(infect['Date'], minor=True)\n",
        "\n",
        "# Multivariate confirmed cases\n",
        "axes[0, 1].plot(infect['Date'],infect['multi_i'], label = multi_in)\n",
        "axes[0, 1].plot(infect['Date'],infect['actual'], label = \"Actual\")\n",
        "axes[0, 1].legend(frameon=False, loc='upper center', ncol = 2, fontsize = 'x-large')\n",
        "axes[0, 1].set_title(\"Multivariate: Confirmed Cases\", fontsize = 'xx-large')\n",
        "axes[0, 1].tick_params('x',labelrotation=90)\n",
        "axes[0, 1].axvline(date_test, color=\"gray\", linestyle=\"--\")\n",
        "axes[0, 1].xaxis.set_major_locator(ticker.MultipleLocator(tick_spacing))\n",
        "axes[0, 1].set_xticks(infect['Date'], minor=True)\n",
        "axes[0, 1].xaxis.grid(True, which='both', alpha=0.3)\n",
        "\n",
        "# Univariate confirmed deaths\n",
        "axes[1, 0].plot(death['Date'],death['uni_d'], label = uni_de)\n",
        "axes[1, 0].plot(death['Date'],death['actual'], label = \"Actual\")\n",
        "axes[1, 0].legend(frameon=False, loc='upper center', ncol = 2, fontsize = 'x-large')\n",
        "axes[1, 0].set_title(\"Univariate: Confirmed Deaths\", fontsize = 'xx-large')\n",
        "axes[1, 0].tick_params('x',labelrotation=90)\n",
        "axes[1, 0].axvline(date_test, color=\"gray\", linestyle=\"--\")\n",
        "axes[1, 0].xaxis.set_major_locator(ticker.MultipleLocator(tick_spacing))\n",
        "axes[1, 0].set_xticks(death['Date'], minor=True)\n",
        "axes[1, 0].xaxis.grid(True, which='both', alpha=0.3)\n",
        "\n",
        "\n",
        "# Multivariate confirmed deaths\n",
        "axes[1, 1].plot(death['Date'],death['multi_d'], label = multi_de)\n",
        "axes[1, 1].plot(death['Date'],death['actual'], label = \"Actual\")\n",
        "axes[1, 1].legend(frameon=False, loc='upper center', ncol = 2, fontsize = 'x-large')\n",
        "axes[1, 1].set_title(\"Multivariate: Confirmed Deaths\", fontsize = 'xx-large')\n",
        "axes[1, 1].tick_params('x',labelrotation=90)\n",
        "axes[1, 1].axvline(date_test, color=\"gray\", linestyle=\"--\")\n",
        "axes[1, 1].xaxis.set_major_locator(ticker.MultipleLocator(tick_spacing))\n",
        "axes[1, 1].set_xticks(death['Date'], minor=True)\n",
        "axes[1, 1].xaxis.grid(True, which='both', alpha=0.3)\n",
        "\n",
        "\n",
        "\n",
        "fig.text(0.5, -0.02, 'Date', ha='center', fontsize=15)\n",
        "fig.text(-0.02, 0.5, 'Cases', va='center', rotation='vertical', fontsize=15)\n",
        "fig.tight_layout(pad=3.0)\n",
        "fig.subplots_adjust(top=0.9)\n",
        "plt.show()"
      ],
      "execution_count": 80,
      "outputs": [
        {
          "output_type": "display_data",
          "data": {
            "image/png": "[encoded data removed]",
            "text/plain": [
              "<Figure size 1080x720 with 4 Axes>"
            ]
          },
          "metadata": {
            "needs_background": "light"
          }
        }
      ]
    },
    {
      "cell_type": "markdown",
      "metadata": {
        "id": "mYcJN621o8A2"
      },
      "source": [
        "### Result Table"
      ]
    },
    {
      "cell_type": "code",
      "metadata": {
        "colab": {
          "base_uri": "https://localhost:8080/",
          "height": 542
        },
        "id": "fHC8w-KqZG7-",
        "outputId": "cbdc161a-b174-4352-c75a-a9a627cd223d"
      },
      "source": [
        "fig = go.Figure(data=[go.Table(header=dict(values=['Model Type', 'Best Model', 'Training', 'Test'],\n",
        "                                           line_color = 'gray'),\n",
        "                               cells=dict(values=[['Univariate: Confirmed Cases', \n",
        "                                                   'Univariate: Confirmed Deaths',\n",
        "                                                   'Multivariate: Confirmed Cases',\n",
        "                                                   'Multivariate: Confirmed Deaths'],\n",
        "                                                  [uni_in, uni_de, multi_in, multi_de],\n",
        "                                    [round(scores_uni_i1[1],3), round(scores_uni_d1[1],3),\n",
        "                                     round(scores_multi_i1[1],3), round(scores_multi_d1[1],3)],\n",
        "                                    [round(scores_uni_i[1],3), round(scores_uni_d[1],3),\n",
        "                                     round(scores_multi_i[1],3), round(scores_multi_d[1],3)]],\n",
        "                            align=['left','center', 'center', 'center'],\n",
        "                            fill_color = 'white',\n",
        "                            line_color = 'gray'))\n",
        "                     ])\n",
        "fig.update_layout(title = \"Mean Absolute Percentage Error\",title_x=0.5)\n",
        "fig.show()"
      ],
      "execution_count": 81,
      "outputs": [
        {
          "output_type": "display_data",
          "data": {
            "text/html": [
              "<html>\n",
              "<head><meta charset=\"utf-8\" /></head>\n",
              "<body>\n",
              "    <div>\n",
              "            <script src=\"https://cdnjs.cloudflare.com/ajax/libs/mathjax/2.7.5/MathJax.js?config=TeX-AMS-MML_SVG\"></script><script type=\"text/javascript\">if (window.MathJax) {MathJax.Hub.Config({SVG: {font: \"STIX-Web\"}});}</script>\n",
              "                <script type=\"text/javascript\">window.PlotlyConfig = {MathJaxConfig: 'local'};</script>\n",
              "        <script src=\"https://cdn.plot.ly/plotly-latest.min.js\"></script>    \n",
              "            <div id=\"77fe07cf-75c6-43aa-ba0d-19a053905c0f\" class=\"plotly-graph-div\" style=\"height:525px; width:100%;\"></div>\n",
              "            <script type=\"text/javascript\">\n",
              "                \n",
              "                    window.PLOTLYENV=window.PLOTLYENV || {};\n",
              "                    \n",
              "                if (document.getElementById(\"77fe07cf-75c6-43aa-ba0d-19a053905c0f\")) {\n",
              "                    Plotly.newPlot(\n",
              "                        '77fe07cf-75c6-43aa-ba0d-19a053905c0f',\n",
              "                        [{\"cells\": {\"align\": [\"left\", \"center\", \"center\", \"center\"], \"fill\": {\"color\": \"white\"}, \"line\": {\"color\": \"gray\"}, \"values\": [[\"Univariate: Confirmed Cases\", \"Univariate: Confirmed Deaths\", \"Multivariate: Confirmed Cases\", \"Multivariate: Confirmed Deaths\"], [\"RNNs\", \"LSTM\", \"RNNs\", \"GRU\"], [2.715, 5.387, 2.803, 3.324], [6.312, 18.297, 31.94, 15.19]]}, \"header\": {\"line\": {\"color\": \"gray\"}, \"values\": [\"Model Type\", \"Best Model\", \"Training\", \"Test\"]}, \"type\": \"table\"}],\n",
              "                        {\"template\": {\"data\": {\"bar\": [{\"error_x\": {\"color\": \"#2a3f5f\"}, \"error_y\": {\"color\": \"#2a3f5f\"}, \"marker\": {\"line\": {\"color\": \"#E5ECF6\", \"width\": 0.5}}, \"type\": \"bar\"}], \"barpolar\": [{\"marker\": {\"line\": {\"color\": \"#E5ECF6\", \"width\": 0.5}}, \"type\": \"barpolar\"}], \"carpet\": [{\"aaxis\": {\"endlinecolor\": \"#2a3f5f\", \"gridcolor\": \"white\", \"linecolor\": \"white\", \"minorgridcolor\": \"white\", \"startlinecolor\": \"#2a3f5f\"}, \"baxis\": {\"endlinecolor\": \"#2a3f5f\", \"gridcolor\": \"white\", \"linecolor\": \"white\", \"minorgridcolor\": \"white\", \"startlinecolor\": \"#2a3f5f\"}, \"type\": \"carpet\"}], \"choropleth\": [{\"colorbar\": {\"outlinewidth\": 0, \"ticks\": \"\"}, \"type\": \"choropleth\"}], \"contour\": [{\"colorbar\": {\"outlinewidth\": 0, \"ticks\": \"\"}, \"colorscale\": [[0.0, \"#0d0887\"], [0.1111111111111111, \"#46039f\"], [0.2222222222222222, \"#7201a8\"], [0.3333333333333333, \"#9c179e\"], [0.4444444444444444, \"#bd3786\"], [0.5555555555555556, \"#d8576b\"], [0.6666666666666666, \"#ed7953\"], [0.7777777777777778, \"#fb9f3a\"], [0.8888888888888888, \"#fdca26\"], [1.0, \"#f0f921\"]], \"type\": \"contour\"}], \"contourcarpet\": [{\"colorbar\": {\"outlinewidth\": 0, \"ticks\": \"\"}, \"type\": \"contourcarpet\"}], \"heatmap\": [{\"colorbar\": {\"outlinewidth\": 0, \"ticks\": \"\"}, \"colorscale\": [[0.0, \"#0d0887\"], [0.1111111111111111, \"#46039f\"], [0.2222222222222222, \"#7201a8\"], [0.3333333333333333, \"#9c179e\"], [0.4444444444444444, \"#bd3786\"], [0.5555555555555556, \"#d8576b\"], [0.6666666666666666, \"#ed7953\"], [0.7777777777777778, \"#fb9f3a\"], [0.8888888888888888, \"#fdca26\"], [1.0, \"#f0f921\"]], \"type\": \"heatmap\"}], \"heatmapgl\": [{\"colorbar\": {\"outlinewidth\": 0, \"ticks\": \"\"}, \"colorscale\": [[0.0, \"#0d0887\"], [0.1111111111111111, \"#46039f\"], [0.2222222222222222, \"#7201a8\"], [0.3333333333333333, \"#9c179e\"], [0.4444444444444444, \"#bd3786\"], [0.5555555555555556, \"#d8576b\"], [0.6666666666666666, \"#ed7953\"], [0.7777777777777778, \"#fb9f3a\"], [0.8888888888888888, \"#fdca26\"], [1.0, \"#f0f921\"]], \"type\": \"heatmapgl\"}], \"histogram\": [{\"marker\": {\"colorbar\": {\"outlinewidth\": 0, \"ticks\": \"\"}}, \"type\": \"histogram\"}], \"histogram2d\": [{\"colorbar\": {\"outlinewidth\": 0, \"ticks\": \"\"}, \"colorscale\": [[0.0, \"#0d0887\"], [0.1111111111111111, \"#46039f\"], [0.2222222222222222, \"#7201a8\"], [0.3333333333333333, \"#9c179e\"], [0.4444444444444444, \"#bd3786\"], [0.5555555555555556, \"#d8576b\"], [0.6666666666666666, \"#ed7953\"], [0.7777777777777778, \"#fb9f3a\"], [0.8888888888888888, \"#fdca26\"], [1.0, \"#f0f921\"]], \"type\": \"histogram2d\"}], \"histogram2dcontour\": [{\"colorbar\": {\"outlinewidth\": 0, \"ticks\": \"\"}, \"colorscale\": [[0.0, \"#0d0887\"], [0.1111111111111111, \"#46039f\"], [0.2222222222222222, \"#7201a8\"], [0.3333333333333333, \"#9c179e\"], [0.4444444444444444, \"#bd3786\"], [0.5555555555555556, \"#d8576b\"], [0.6666666666666666, \"#ed7953\"], [0.7777777777777778, \"#fb9f3a\"], [0.8888888888888888, \"#fdca26\"], [1.0, \"#f0f921\"]], \"type\": \"histogram2dcontour\"}], \"mesh3d\": [{\"colorbar\": {\"outlinewidth\": 0, \"ticks\": \"\"}, \"type\": \"mesh3d\"}], \"parcoords\": [{\"line\": {\"colorbar\": {\"outlinewidth\": 0, \"ticks\": \"\"}}, \"type\": \"parcoords\"}], \"pie\": [{\"automargin\": true, \"type\": \"pie\"}], \"scatter\": [{\"marker\": {\"colorbar\": {\"outlinewidth\": 0, \"ticks\": \"\"}}, \"type\": \"scatter\"}], \"scatter3d\": [{\"line\": {\"colorbar\": {\"outlinewidth\": 0, \"ticks\": \"\"}}, \"marker\": {\"colorbar\": {\"outlinewidth\": 0, \"ticks\": \"\"}}, \"type\": \"scatter3d\"}], \"scattercarpet\": [{\"marker\": {\"colorbar\": {\"outlinewidth\": 0, \"ticks\": \"\"}}, \"type\": \"scattercarpet\"}], \"scattergeo\": [{\"marker\": {\"colorbar\": {\"outlinewidth\": 0, \"ticks\": \"\"}}, \"type\": \"scattergeo\"}], \"scattergl\": [{\"marker\": {\"colorbar\": {\"outlinewidth\": 0, \"ticks\": \"\"}}, \"type\": \"scattergl\"}], \"scattermapbox\": [{\"marker\": {\"colorbar\": {\"outlinewidth\": 0, \"ticks\": \"\"}}, \"type\": \"scattermapbox\"}], \"scatterpolar\": [{\"marker\": {\"colorbar\": {\"outlinewidth\": 0, \"ticks\": \"\"}}, \"type\": \"scatterpolar\"}], \"scatterpolargl\": [{\"marker\": {\"colorbar\": {\"outlinewidth\": 0, \"ticks\": \"\"}}, \"type\": \"scatterpolargl\"}], \"scatterternary\": [{\"marker\": {\"colorbar\": {\"outlinewidth\": 0, \"ticks\": \"\"}}, \"type\": \"scatterternary\"}], \"surface\": [{\"colorbar\": {\"outlinewidth\": 0, \"ticks\": \"\"}, \"colorscale\": [[0.0, \"#0d0887\"], [0.1111111111111111, \"#46039f\"], [0.2222222222222222, \"#7201a8\"], [0.3333333333333333, \"#9c179e\"], [0.4444444444444444, \"#bd3786\"], [0.5555555555555556, \"#d8576b\"], [0.6666666666666666, \"#ed7953\"], [0.7777777777777778, \"#fb9f3a\"], [0.8888888888888888, \"#fdca26\"], [1.0, \"#f0f921\"]], \"type\": \"surface\"}], \"table\": [{\"cells\": {\"fill\": {\"color\": \"#EBF0F8\"}, \"line\": {\"color\": \"white\"}}, \"header\": {\"fill\": {\"color\": \"#C8D4E3\"}, \"line\": {\"color\": \"white\"}}, \"type\": \"table\"}]}, \"layout\": {\"annotationdefaults\": {\"arrowcolor\": \"#2a3f5f\", \"arrowhead\": 0, \"arrowwidth\": 1}, \"coloraxis\": {\"colorbar\": {\"outlinewidth\": 0, \"ticks\": \"\"}}, \"colorscale\": {\"diverging\": [[0, \"#8e0152\"], [0.1, \"#c51b7d\"], [0.2, \"#de77ae\"], [0.3, \"#f1b6da\"], [0.4, \"#fde0ef\"], [0.5, \"#f7f7f7\"], [0.6, \"#e6f5d0\"], [0.7, \"#b8e186\"], [0.8, \"#7fbc41\"], [0.9, \"#4d9221\"], [1, \"#276419\"]], \"sequential\": [[0.0, \"#0d0887\"], [0.1111111111111111, \"#46039f\"], [0.2222222222222222, \"#7201a8\"], [0.3333333333333333, \"#9c179e\"], [0.4444444444444444, \"#bd3786\"], [0.5555555555555556, \"#d8576b\"], [0.6666666666666666, \"#ed7953\"], [0.7777777777777778, \"#fb9f3a\"], [0.8888888888888888, \"#fdca26\"], [1.0, \"#f0f921\"]], \"sequentialminus\": [[0.0, \"#0d0887\"], [0.1111111111111111, \"#46039f\"], [0.2222222222222222, \"#7201a8\"], [0.3333333333333333, \"#9c179e\"], [0.4444444444444444, \"#bd3786\"], [0.5555555555555556, \"#d8576b\"], [0.6666666666666666, \"#ed7953\"], [0.7777777777777778, \"#fb9f3a\"], [0.8888888888888888, \"#fdca26\"], [1.0, \"#f0f921\"]]}, \"colorway\": [\"#636efa\", \"#EF553B\", \"#00cc96\", \"#ab63fa\", \"#FFA15A\", \"#19d3f3\", \"#FF6692\", \"#B6E880\", \"#FF97FF\", \"#FECB52\"], \"font\": {\"color\": \"#2a3f5f\"}, \"geo\": {\"bgcolor\": \"white\", \"lakecolor\": \"white\", \"landcolor\": \"#E5ECF6\", \"showlakes\": true, \"showland\": true, \"subunitcolor\": \"white\"}, \"hoverlabel\": {\"align\": \"left\"}, \"hovermode\": \"closest\", \"mapbox\": {\"style\": \"light\"}, \"paper_bgcolor\": \"white\", \"plot_bgcolor\": \"#E5ECF6\", \"polar\": {\"angularaxis\": {\"gridcolor\": \"white\", \"linecolor\": \"white\", \"ticks\": \"\"}, \"bgcolor\": \"#E5ECF6\", \"radialaxis\": {\"gridcolor\": \"white\", \"linecolor\": \"white\", \"ticks\": \"\"}}, \"scene\": {\"xaxis\": {\"backgroundcolor\": \"#E5ECF6\", \"gridcolor\": \"white\", \"gridwidth\": 2, \"linecolor\": \"white\", \"showbackground\": true, \"ticks\": \"\", \"zerolinecolor\": \"white\"}, \"yaxis\": {\"backgroundcolor\": \"#E5ECF6\", \"gridcolor\": \"white\", \"gridwidth\": 2, \"linecolor\": \"white\", \"showbackground\": true, \"ticks\": \"\", \"zerolinecolor\": \"white\"}, \"zaxis\": {\"backgroundcolor\": \"#E5ECF6\", \"gridcolor\": \"white\", \"gridwidth\": 2, \"linecolor\": \"white\", \"showbackground\": true, \"ticks\": \"\", \"zerolinecolor\": \"white\"}}, \"shapedefaults\": {\"line\": {\"color\": \"#2a3f5f\"}}, \"ternary\": {\"aaxis\": {\"gridcolor\": \"white\", \"linecolor\": \"white\", \"ticks\": \"\"}, \"baxis\": {\"gridcolor\": \"white\", \"linecolor\": \"white\", \"ticks\": \"\"}, \"bgcolor\": \"#E5ECF6\", \"caxis\": {\"gridcolor\": \"white\", \"linecolor\": \"white\", \"ticks\": \"\"}}, \"title\": {\"x\": 0.05}, \"xaxis\": {\"automargin\": true, \"gridcolor\": \"white\", \"linecolor\": \"white\", \"ticks\": \"\", \"title\": {\"standoff\": 15}, \"zerolinecolor\": \"white\", \"zerolinewidth\": 2}, \"yaxis\": {\"automargin\": true, \"gridcolor\": \"white\", \"linecolor\": \"white\", \"ticks\": \"\", \"title\": {\"standoff\": 15}, \"zerolinecolor\": \"white\", \"zerolinewidth\": 2}}}, \"title\": {\"text\": \"Mean Absolute Percentage Error\", \"x\": 0.5}},\n",
              "                        {\"responsive\": true}\n",
              "                    ).then(function(){\n",
              "                            \n",
              "var gd = document.getElementById('77fe07cf-75c6-43aa-ba0d-19a053905c0f');\n",
              "var x = new MutationObserver(function (mutations, observer) {{\n",
              "        var display = window.getComputedStyle(gd).display;\n",
              "        if (!display || display === 'none') {{\n",
              "            console.log([gd, 'removed!']);\n",
              "            Plotly.purge(gd);\n",
              "            observer.disconnect();\n",
              "        }}\n",
              "}});\n",
              "\n",
              "// Listen for the removal of the full notebook cells\n",
              "var notebookContainer = gd.closest('#notebook-container');\n",
              "if (notebookContainer) {{\n",
              "    x.observe(notebookContainer, {childList: true});\n",
              "}}\n",
              "\n",
              "// Listen for the clearing of the current output cell\n",
              "var outputEl = gd.closest('.output');\n",
              "if (outputEl) {{\n",
              "    x.observe(outputEl, {childList: true});\n",
              "}}\n",
              "\n",
              "                        })\n",
              "                };\n",
              "                \n",
              "            </script>\n",
              "        </div>\n",
              "</body>\n",
              "</html>"
            ]
          },
          "metadata": {}
        }
      ]
    },
    {
      "cell_type": "markdown",
      "metadata": {
        "id": "A3e1k3G6ADwq"
      },
      "source": [
        "## Future Predictions\n",
        "\n",
        "---\n",
        "\n"
      ]
    },
    {
      "cell_type": "code",
      "metadata": {
        "id": "99EJjObuAGWS"
      },
      "source": [
        "# Univariate\n",
        "def future_prediction_uni(input, model, days_predicted, total_prediction):\n",
        "  all_prediction = pd.DataFrame(total_prediction)\n",
        "\n",
        "  # use the last 14 days from actual data\n",
        "  all_input = input\n",
        "\n",
        "  for i in range(1,days_predicted + 1):\n",
        "    # create a matrix of input with 14 previous days\n",
        "    new_input = np.array(all_input[-14:])\n",
        "    new_input = new_input.reshape(1,14,1)\n",
        "\n",
        "    # set seed\n",
        "    seed(1)\n",
        "    tensorflow.random.set_seed(1)\n",
        "\n",
        "    # make the next day prediction\n",
        "    last_output = model.predict(new_input)\n",
        "\n",
        "    all_prediction = pd.concat([all_prediction, pd.DataFrame(last_output)], ignore_index=True)\n",
        "\n",
        "    # feed the output back as new input\n",
        "    all_input = pd.concat([all_input, pd.DataFrame(last_output)], ignore_index=True)\n",
        "    all_input = pd.DataFrame(all_input)\n",
        "  return all_prediction\n"
      ],
      "execution_count": 82,
      "outputs": []
    },
    {
      "cell_type": "code",
      "metadata": {
        "id": "OGSzHCk9ZXWD"
      },
      "source": [
        "# Multivariate\n",
        "def future_prediction_multi(input, model, days_predicted, total_prediction):\n",
        "  all_prediction = pd.DataFrame(total_prediction)\n",
        "\n",
        "  # use the last 14 days from actual data\n",
        "  all_input = input[-14:]\n",
        "\n",
        "  for i in range(1,days_predicted + 1):\n",
        "    # create a matrix of input with 14 previous days for all features\n",
        "    new_input = np.expand_dims(all_input[-14:], axis = 0) \n",
        "\n",
        "    # set seed\n",
        "    seed(1)\n",
        "    tensorflow.random.set_seed(1)\n",
        "\n",
        "    # make the next day prediction\n",
        "    last_output = pd.DataFrame(model.predict(new_input))\n",
        "\n",
        "    # record the prediction\n",
        "    all_prediction = pd.concat([all_prediction, pd.DataFrame(last_output)], ignore_index=True)\n",
        "\n",
        "    # new row\n",
        "    new_row = [last_output[0], all_input.iloc[-1, 1:31], data_d.iloc[-14:, 31:49].mean(axis = 0)]\n",
        "    new_row = list(itertools.chain(*new_row))\n",
        "\n",
        "    # feed the new row back to data frame as new input\n",
        "    all_input.loc[len(all_input)] = new_row\n",
        "  return all_prediction\n"
      ],
      "execution_count": 48,
      "outputs": []
    },
    {
      "cell_type": "code",
      "metadata": {
        "colab": {
          "base_uri": "https://localhost:8080/"
        },
        "id": "7QTBeaH8eXZh",
        "outputId": "21f77887-83f7-4cab-ffb1-10332ec856fb"
      },
      "source": [
        "days_predicted = 3\n",
        "\n",
        "# univariate confirmed cases\n",
        "uni_i_pred = future_prediction_uni(data.Cases_daily2, model_uni_i, days_predicted, y_uni_i_total)\n",
        "\n",
        "# univariate confirmed deaths\n",
        "uni_d_pred = future_prediction_uni(data.Deaths_daily2, model_uni_d, days_predicted, y_uni_d_total)\n",
        "\n",
        "# multivariate confirmed cases\n",
        "multi_i_pred = future_prediction_multi(data_i, model_multi_i, days_predicted, y_multi_i_total)\n",
        "\n",
        "# multivariate confirmed deaths\n",
        "multi_d_pred = future_prediction_multi(data_d, model_multi_d, days_predicted, y_multi_d_total)\n"
      ],
      "execution_count": 83,
      "outputs": [
        {
          "output_type": "stream",
          "name": "stderr",
          "text": [
            "/usr/local/lib/python3.7/dist-packages/pandas/core/indexing.py:670: SettingWithCopyWarning:\n",
            "\n",
            "\n",
            "A value is trying to be set on a copy of a slice from a DataFrame\n",
            "\n",
            "See the caveats in the documentation: https://pandas.pydata.org/pandas-docs/stable/user_guide/indexing.html#returning-a-view-versus-a-copy\n",
            "\n"
          ]
        }
      ]
    },
    {
      "cell_type": "markdown",
      "metadata": {
        "id": "Spgb1Mqcoj3N"
      },
      "source": [
        "### Plots"
      ]
    },
    {
      "cell_type": "code",
      "metadata": {
        "colab": {
          "base_uri": "https://localhost:8080/",
          "height": 754
        },
        "id": "iGH4saqYm13w",
        "outputId": "dd08bfc8-2cc3-4460-8660-93afe85cec6b"
      },
      "source": [
        "\n",
        "pred = pd.concat([uni_i_pred, \n",
        "                  uni_d_pred,\n",
        "                  multi_i_pred, \n",
        "                  multi_d_pred],\n",
        "                 axis=1)\n",
        "pred.columns = ['uni_i', 'uni_d', 'multi_i', 'multi_d']\n",
        "\n",
        "start_date = infect.Date[0]\n",
        "\n",
        "# extract actual data\n",
        "act = actual[(actual['Date'] >= start_date)].reset_index(drop = True)\n",
        "act = act[0:len(pred)]\n",
        "\n",
        "pred = pd.concat([pred, act], axis = 1)\n",
        "\n",
        "date_test = pred['Date'][0+index]\n",
        "date_predict = pred['Date'][len(x_i)-1]\n",
        "tick_spacing = 5\n",
        "\n",
        "fig, axes = plt.subplots(2, 2, figsize=(20,10)) \n",
        "fig.suptitle(\"Covid-19 Future Prediction in Thailand\", fontsize=20)\n",
        "\n",
        "# Univariate confirmed cases\n",
        "axes[0,0].plot(pred['Date'], pred['uni_i'], label = uni_in)\n",
        "axes[0,0].plot(pred['Date'], pred['Cases_daily'], label = \"Actual\")\n",
        "axes[0,0].legend(frameon=False, loc='upper center', ncol = 2, fontsize = 'x-large')\n",
        "axes[0,0].set_title(\"Univariate: Confirmed Cases\", fontsize = 'xx-large')\n",
        "axes[0,0].tick_params('x',labelrotation=90)\n",
        "axes[0,0].axvline(date_test, color=\"gray\", linestyle=\"--\")\n",
        "axes[0,0].axvline(date_predict, color=\"gray\", linestyle=\"--\")\n",
        "axes[0,0].xaxis.set_major_locator(ticker.MultipleLocator(tick_spacing))\n",
        "axes[0,0].set_xticks(pred['Date'], minor=True)\n",
        "axes[0,0].xaxis.grid(True, which='both', alpha=0.3)\n",
        "\n",
        "# Multivariate confirmed cases\n",
        "axes[0,1].plot(pred['Date'], pred['multi_i'], label = multi_in)\n",
        "axes[0,1].plot(pred['Date'], pred['Cases_daily'], label = \"Actual\")\n",
        "axes[0,1].legend(frameon=False, loc='upper center', ncol = 2, fontsize = 'x-large')\n",
        "axes[0,1].set_title(\"Multivariate: Confirmed Cases\", fontsize = 'xx-large')\n",
        "axes[0,1].tick_params('x',labelrotation=90)\n",
        "axes[0,1].axvline(date_test, color=\"gray\", linestyle=\"--\")\n",
        "axes[0,1].axvline(date_predict, color=\"gray\", linestyle=\"--\")\n",
        "axes[0,1].xaxis.set_major_locator(ticker.MultipleLocator(tick_spacing))\n",
        "axes[0,1].set_xticks(pred['Date'], minor=True)\n",
        "axes[0,1].xaxis.grid(True, which='both', alpha=0.3)\n",
        "\n",
        "# Univariate confirmed deaths\n",
        "axes[1,0].plot(pred['Date'],pred['uni_d'], label = uni_de)\n",
        "axes[1,0].plot(pred['Date'], pred['Deaths_daily'], label = \"Actual\")\n",
        "axes[1,0].legend(frameon=False, loc='upper center', ncol = 2, fontsize = 'x-large')\n",
        "axes[1,0].set_title(\"Univariate: Confirmed Deaths\", fontsize = 'xx-large')\n",
        "axes[1,0].tick_params('x',labelrotation=90)\n",
        "axes[1,0].axvline(date_test, color=\"gray\", linestyle=\"--\")\n",
        "axes[1,0].axvline(date_predict, color=\"gray\", linestyle=\"--\")\n",
        "axes[1,0].xaxis.set_major_locator(ticker.MultipleLocator(tick_spacing))\n",
        "axes[1,0].set_xticks(pred['Date'], minor=True)\n",
        "axes[1,0].xaxis.grid(True, which='both', alpha=0.3)\n",
        "\n",
        "\n",
        "# Multivariate confirmed deaths\n",
        "axes[1,1].plot(pred['Date'],pred['multi_d'], label = multi_de)\n",
        "axes[1,1].plot(pred['Date'], pred['Deaths_daily'], label = \"Actual\")\n",
        "axes[1,1].legend(frameon=False, loc='upper center', ncol = 2, fontsize = 'x-large')\n",
        "axes[1,1].set_title(\"Multivariate: Confirmed Deaths\", fontsize = 'xx-large')\n",
        "axes[1,1].tick_params('x',labelrotation=90)\n",
        "axes[1,1].axvline(date_test, color=\"gray\", linestyle=\"--\")\n",
        "axes[1,1].axvline(date_predict, color=\"gray\", linestyle=\"--\")\n",
        "axes[1,1].xaxis.set_major_locator(ticker.MultipleLocator(tick_spacing))\n",
        "axes[1,1].set_xticks(pred['Date'], minor=True)\n",
        "axes[1,1].xaxis.grid(True, which='both', alpha=0.3)\n",
        "\n",
        "\n",
        "\n",
        "fig.text(0.5, -0.02, 'Date', ha='center', fontsize=15)\n",
        "fig.text(-0.02, 0.5, 'Cases', va='center', rotation='vertical', fontsize=15)\n",
        "fig.tight_layout(pad=3.0)\n",
        "fig.subplots_adjust(top=0.9)\n",
        "plt.show()"
      ],
      "execution_count": 84,
      "outputs": [
        {
          "output_type": "display_data",
          "data": {
            "image/png": "[encoded data removed]",
            "text/plain": [
              "<Figure size 1440x720 with 4 Axes>"
            ]
          },
          "metadata": {
            "needs_background": "light"
          }
        }
      ]
    },
    {
      "cell_type": "code",
      "metadata": {
        "id": "pRP-JlO1In8P"
      },
      "source": [
        ""
      ],
      "execution_count": 50,
      "outputs": []
    }
  ]
}