{
  "nbformat": 4,
  "nbformat_minor": 0,
  "metadata": {
    "colab": {
      "name": "DNN multivariate deaths",
      "provenance": [],
      "toc_visible": true,
      "collapsed_sections": [
        "eCEO9U_tX6nP"
      ],
      "authorship_tag": "ABX9TyNX2+a41nehbuGaHE30M5/g",
      "include_colab_link": true
    },
    "kernelspec": {
      "display_name": "Python 3",
      "name": "python3"
    },
    "language_info": {
      "name": "python"
    }
  },
  "cells": [
    {
      "cell_type": "markdown",
      "metadata": {
        "id": "view-in-github",
        "colab_type": "text"
      },
      "source": [
        "<a href=\"https://colab.research.google.com/github/Tanainan/Covid-19Thailand/blob/main/DNN_multivariate_deaths.ipynb\" target=\"_parent\"><img src=\"https://colab.research.google.com/assets/colab-badge.svg\" alt=\"Open In Colab\"/></a>"
      ]
    },
    {
      "cell_type": "markdown",
      "metadata": {
        "id": "IKtXnoSr408H"
      },
      "source": [
        "# Covid-19 Trends Prediction in Thailand Using Time Series Neural Networks\n",
        "\n",
        "---\n",
        "\n",
        "\n",
        "We used convolutional neural network (CNN), recurrent neural networks (RNNs), gated recurrent unit (GRU) and long short-term memory (LSTM) to predict Covid-19 deaths in Thailand, using 14 previous days as samples to predict the next 1 day. These models particularly deal with time series data. Further, we ran multivariate neural networks with mobility changes as additional predictors. Our goal was to minimize the mean average percentage error (MAPE) between the actual values and predictions.  \n",
        "\n",
        "\n",
        "\n",
        "## Data Sources\n",
        "\n",
        "\n",
        "The Covid-19 data was from https://github.com/CSSEGISandData/COVID-19 by John Hopkins University. The data included confirmed deaths reported by Thailand’s Ministry of Public Health. \n",
        "\n",
        "The mobility data was from Google (https://www.google.com/covid19/mobility). Google calculated the changes of mobility based on Location History of users on Google Map. The baseline of the changes was the median value from January, 3rd to February 6th, 2020. There were four categories: groceries and pharmacy, retail and recreation, transit stations, and finally, parks. However, we only used resident in this study since it had predictive power while others were underperformed (see: https://github.com/Tanainan/Covid-19Thailand/blob/main/Covid_python_with_google.ipynb).\n"
      ]
    },
    {
      "cell_type": "markdown",
      "metadata": {
        "id": "nql6C-sLih4Q"
      },
      "source": [
        "# Import"
      ]
    },
    {
      "cell_type": "code",
      "metadata": {
        "colab": {
          "base_uri": "https://localhost:8080/"
        },
        "id": "7wkBPHU6VW_u",
        "outputId": "f6767c85-97db-493c-fad1-65b7e497ec3a"
      },
      "source": [
        "!pip install -U tensorflow-addons\n",
        "from numpy import array\n",
        "from numpy import hstack\n",
        "from keras.models import Sequential\n",
        "from keras.layers import LSTM\n",
        "from keras.layers import Dense, Dropout, Activation\n",
        "from keras.layers import GRU\n",
        "from keras.layers import SimpleRNN\n",
        "from keras.layers import TimeDistributed\n",
        "from keras.layers import Bidirectional\n",
        "from keras.layers.convolutional import Conv1D\n",
        "from keras.layers.convolutional import MaxPooling1D\n",
        "from tensorflow_addons.layers import InstanceNormalization, GroupNormalization\n",
        "from keras.layers import LayerNormalization\n",
        "from keras.layers import Flatten\n",
        "from pandas import read_csv\n",
        "from pandas import DataFrame\n",
        "from pandas import concat\n",
        "import pandas as pd\n",
        "import numpy as np\n",
        "from statistics import stdev\n",
        "from statistics import mean\n",
        "from matplotlib import pyplot\n",
        "from numpy.random import seed\n",
        "import tensorflow\n",
        "from matplotlib import pyplot as plt\n",
        "import datetime as dt\n",
        "import matplotlib.ticker as ticker\n",
        "import plotly.graph_objects as go\n",
        "from statsmodels.graphics.factorplots import interaction_plot\n",
        "np.set_printoptions(threshold=np.inf)\n",
        "pd.set_option('display.max_rows', None)\n",
        "import itertools\n",
        "!pip install -U scikit-learn\n",
        "from sklearn.metrics import mean_absolute_percentage_error\n",
        "from tensorflow.keras.utils import to_categorical\n",
        "import random\n",
        "\n"
      ],
      "execution_count": 1,
      "outputs": [
        {
          "output_type": "stream",
          "name": "stdout",
          "text": [
            "Collecting tensorflow-addons\n",
            "  Downloading tensorflow_addons-0.15.0-cp37-cp37m-manylinux_2_12_x86_64.manylinux2010_x86_64.whl (1.1 MB)\n",
            "\u001b[?25l\r\u001b[K     |▎                               | 10 kB 22.3 MB/s eta 0:00:01\r\u001b[K     |▋                               | 20 kB 13.3 MB/s eta 0:00:01\r\u001b[K     |▉                               | 30 kB 10.0 MB/s eta 0:00:01\r\u001b[K     |█▏                              | 40 kB 7.7 MB/s eta 0:00:01\r\u001b[K     |█▌                              | 51 kB 5.3 MB/s eta 0:00:01\r\u001b[K     |█▊                              | 61 kB 5.8 MB/s eta 0:00:01\r\u001b[K     |██                              | 71 kB 5.7 MB/s eta 0:00:01\r\u001b[K     |██▍                             | 81 kB 6.4 MB/s eta 0:00:01\r\u001b[K     |██▋                             | 92 kB 4.9 MB/s eta 0:00:01\r\u001b[K     |███                             | 102 kB 5.3 MB/s eta 0:00:01\r\u001b[K     |███▎                            | 112 kB 5.3 MB/s eta 0:00:01\r\u001b[K     |███▌                            | 122 kB 5.3 MB/s eta 0:00:01\r\u001b[K     |███▉                            | 133 kB 5.3 MB/s eta 0:00:01\r\u001b[K     |████▏                           | 143 kB 5.3 MB/s eta 0:00:01\r\u001b[K     |████▍                           | 153 kB 5.3 MB/s eta 0:00:01\r\u001b[K     |████▊                           | 163 kB 5.3 MB/s eta 0:00:01\r\u001b[K     |█████                           | 174 kB 5.3 MB/s eta 0:00:01\r\u001b[K     |█████▎                          | 184 kB 5.3 MB/s eta 0:00:01\r\u001b[K     |█████▋                          | 194 kB 5.3 MB/s eta 0:00:01\r\u001b[K     |█████▉                          | 204 kB 5.3 MB/s eta 0:00:01\r\u001b[K     |██████▏                         | 215 kB 5.3 MB/s eta 0:00:01\r\u001b[K     |██████▌                         | 225 kB 5.3 MB/s eta 0:00:01\r\u001b[K     |██████▊                         | 235 kB 5.3 MB/s eta 0:00:01\r\u001b[K     |███████                         | 245 kB 5.3 MB/s eta 0:00:01\r\u001b[K     |███████▍                        | 256 kB 5.3 MB/s eta 0:00:01\r\u001b[K     |███████▋                        | 266 kB 5.3 MB/s eta 0:00:01\r\u001b[K     |████████                        | 276 kB 5.3 MB/s eta 0:00:01\r\u001b[K     |████████▎                       | 286 kB 5.3 MB/s eta 0:00:01\r\u001b[K     |████████▌                       | 296 kB 5.3 MB/s eta 0:00:01\r\u001b[K     |████████▉                       | 307 kB 5.3 MB/s eta 0:00:01\r\u001b[K     |█████████                       | 317 kB 5.3 MB/s eta 0:00:01\r\u001b[K     |█████████▍                      | 327 kB 5.3 MB/s eta 0:00:01\r\u001b[K     |█████████▊                      | 337 kB 5.3 MB/s eta 0:00:01\r\u001b[K     |██████████                      | 348 kB 5.3 MB/s eta 0:00:01\r\u001b[K     |██████████▎                     | 358 kB 5.3 MB/s eta 0:00:01\r\u001b[K     |██████████▋                     | 368 kB 5.3 MB/s eta 0:00:01\r\u001b[K     |██████████▉                     | 378 kB 5.3 MB/s eta 0:00:01\r\u001b[K     |███████████▏                    | 389 kB 5.3 MB/s eta 0:00:01\r\u001b[K     |███████████▌                    | 399 kB 5.3 MB/s eta 0:00:01\r\u001b[K     |███████████▊                    | 409 kB 5.3 MB/s eta 0:00:01\r\u001b[K     |████████████                    | 419 kB 5.3 MB/s eta 0:00:01\r\u001b[K     |████████████▍                   | 430 kB 5.3 MB/s eta 0:00:01\r\u001b[K     |████████████▋                   | 440 kB 5.3 MB/s eta 0:00:01\r\u001b[K     |█████████████                   | 450 kB 5.3 MB/s eta 0:00:01\r\u001b[K     |█████████████▎                  | 460 kB 5.3 MB/s eta 0:00:01\r\u001b[K     |█████████████▌                  | 471 kB 5.3 MB/s eta 0:00:01\r\u001b[K     |█████████████▉                  | 481 kB 5.3 MB/s eta 0:00:01\r\u001b[K     |██████████████                  | 491 kB 5.3 MB/s eta 0:00:01\r\u001b[K     |██████████████▍                 | 501 kB 5.3 MB/s eta 0:00:01\r\u001b[K     |██████████████▊                 | 512 kB 5.3 MB/s eta 0:00:01\r\u001b[K     |███████████████                 | 522 kB 5.3 MB/s eta 0:00:01\r\u001b[K     |███████████████▎                | 532 kB 5.3 MB/s eta 0:00:01\r\u001b[K     |███████████████▋                | 542 kB 5.3 MB/s eta 0:00:01\r\u001b[K     |███████████████▉                | 552 kB 5.3 MB/s eta 0:00:01\r\u001b[K     |████████████████▏               | 563 kB 5.3 MB/s eta 0:00:01\r\u001b[K     |████████████████▌               | 573 kB 5.3 MB/s eta 0:00:01\r\u001b[K     |████████████████▊               | 583 kB 5.3 MB/s eta 0:00:01\r\u001b[K     |█████████████████               | 593 kB 5.3 MB/s eta 0:00:01\r\u001b[K     |█████████████████▍              | 604 kB 5.3 MB/s eta 0:00:01\r\u001b[K     |█████████████████▋              | 614 kB 5.3 MB/s eta 0:00:01\r\u001b[K     |██████████████████              | 624 kB 5.3 MB/s eta 0:00:01\r\u001b[K     |██████████████████▏             | 634 kB 5.3 MB/s eta 0:00:01\r\u001b[K     |██████████████████▌             | 645 kB 5.3 MB/s eta 0:00:01\r\u001b[K     |██████████████████▉             | 655 kB 5.3 MB/s eta 0:00:01\r\u001b[K     |███████████████████             | 665 kB 5.3 MB/s eta 0:00:01\r\u001b[K     |███████████████████▍            | 675 kB 5.3 MB/s eta 0:00:01\r\u001b[K     |███████████████████▊            | 686 kB 5.3 MB/s eta 0:00:01\r\u001b[K     |████████████████████            | 696 kB 5.3 MB/s eta 0:00:01\r\u001b[K     |████████████████████▎           | 706 kB 5.3 MB/s eta 0:00:01\r\u001b[K     |████████████████████▋           | 716 kB 5.3 MB/s eta 0:00:01\r\u001b[K     |████████████████████▉           | 727 kB 5.3 MB/s eta 0:00:01\r\u001b[K     |█████████████████████▏          | 737 kB 5.3 MB/s eta 0:00:01\r\u001b[K     |█████████████████████▌          | 747 kB 5.3 MB/s eta 0:00:01\r\u001b[K     |█████████████████████▊          | 757 kB 5.3 MB/s eta 0:00:01\r\u001b[K     |██████████████████████          | 768 kB 5.3 MB/s eta 0:00:01\r\u001b[K     |██████████████████████▎         | 778 kB 5.3 MB/s eta 0:00:01\r\u001b[K     |██████████████████████▋         | 788 kB 5.3 MB/s eta 0:00:01\r\u001b[K     |███████████████████████         | 798 kB 5.3 MB/s eta 0:00:01\r\u001b[K     |███████████████████████▏        | 808 kB 5.3 MB/s eta 0:00:01\r\u001b[K     |███████████████████████▌        | 819 kB 5.3 MB/s eta 0:00:01\r\u001b[K     |███████████████████████▉        | 829 kB 5.3 MB/s eta 0:00:01\r\u001b[K     |████████████████████████        | 839 kB 5.3 MB/s eta 0:00:01\r\u001b[K     |████████████████████████▍       | 849 kB 5.3 MB/s eta 0:00:01\r\u001b[K     |████████████████████████▊       | 860 kB 5.3 MB/s eta 0:00:01\r\u001b[K     |█████████████████████████       | 870 kB 5.3 MB/s eta 0:00:01\r\u001b[K     |█████████████████████████▎      | 880 kB 5.3 MB/s eta 0:00:01\r\u001b[K     |█████████████████████████▋      | 890 kB 5.3 MB/s eta 0:00:01\r\u001b[K     |█████████████████████████▉      | 901 kB 5.3 MB/s eta 0:00:01\r\u001b[K     |██████████████████████████▏     | 911 kB 5.3 MB/s eta 0:00:01\r\u001b[K     |██████████████████████████▌     | 921 kB 5.3 MB/s eta 0:00:01\r\u001b[K     |██████████████████████████▊     | 931 kB 5.3 MB/s eta 0:00:01\r\u001b[K     |███████████████████████████     | 942 kB 5.3 MB/s eta 0:00:01\r\u001b[K     |███████████████████████████▎    | 952 kB 5.3 MB/s eta 0:00:01\r\u001b[K     |███████████████████████████▋    | 962 kB 5.3 MB/s eta 0:00:01\r\u001b[K     |████████████████████████████    | 972 kB 5.3 MB/s eta 0:00:01\r\u001b[K     |████████████████████████████▏   | 983 kB 5.3 MB/s eta 0:00:01\r\u001b[K     |████████████████████████████▌   | 993 kB 5.3 MB/s eta 0:00:01\r\u001b[K     |████████████████████████████▉   | 1.0 MB 5.3 MB/s eta 0:00:01\r\u001b[K     |█████████████████████████████   | 1.0 MB 5.3 MB/s eta 0:00:01\r\u001b[K     |█████████████████████████████▍  | 1.0 MB 5.3 MB/s eta 0:00:01\r\u001b[K     |█████████████████████████████▊  | 1.0 MB 5.3 MB/s eta 0:00:01\r\u001b[K     |██████████████████████████████  | 1.0 MB 5.3 MB/s eta 0:00:01\r\u001b[K     |██████████████████████████████▎ | 1.1 MB 5.3 MB/s eta 0:00:01\r\u001b[K     |██████████████████████████████▋ | 1.1 MB 5.3 MB/s eta 0:00:01\r\u001b[K     |██████████████████████████████▉ | 1.1 MB 5.3 MB/s eta 0:00:01\r\u001b[K     |███████████████████████████████▏| 1.1 MB 5.3 MB/s eta 0:00:01\r\u001b[K     |███████████████████████████████▍| 1.1 MB 5.3 MB/s eta 0:00:01\r\u001b[K     |███████████████████████████████▊| 1.1 MB 5.3 MB/s eta 0:00:01\r\u001b[K     |████████████████████████████████| 1.1 MB 5.3 MB/s \n",
            "\u001b[?25hRequirement already satisfied: typeguard>=2.7 in /usr/local/lib/python3.7/dist-packages (from tensorflow-addons) (2.7.1)\n",
            "Installing collected packages: tensorflow-addons\n",
            "Successfully installed tensorflow-addons-0.15.0\n"
          ]
        },
        {
          "output_type": "stream",
          "name": "stderr",
          "text": [
            "/usr/local/lib/python3.7/dist-packages/statsmodels/tools/_testing.py:19: FutureWarning:\n",
            "\n",
            "pandas.util.testing is deprecated. Use the functions in the public API at pandas.testing instead.\n",
            "\n"
          ]
        },
        {
          "output_type": "stream",
          "name": "stdout",
          "text": [
            "Requirement already satisfied: scikit-learn in /usr/local/lib/python3.7/dist-packages (1.0.2)\n",
            "Requirement already satisfied: scipy>=1.1.0 in /usr/local/lib/python3.7/dist-packages (from scikit-learn) (1.4.1)\n",
            "Requirement already satisfied: numpy>=1.14.6 in /usr/local/lib/python3.7/dist-packages (from scikit-learn) (1.19.5)\n",
            "Requirement already satisfied: threadpoolctl>=2.0.0 in /usr/local/lib/python3.7/dist-packages (from scikit-learn) (3.0.0)\n",
            "Requirement already satisfied: joblib>=0.11 in /usr/local/lib/python3.7/dist-packages (from scikit-learn) (1.1.0)\n"
          ]
        }
      ]
    },
    {
      "cell_type": "code",
      "metadata": {
        "id": "NLqZL1TdFazQ"
      },
      "source": [
        "data = read_csv(\"https://raw.githubusercontent.com/owid/covid-19-data/master/public/data/jhu/new_deaths.csv\")\n",
        "\n",
        "data = pd.DataFrame(data)\n",
        "\n",
        "# select columns\n",
        "data = data[[\"date\", \"Thailand\"]]\n",
        "\n",
        "# change column name\n",
        "data = data.rename(columns = {'date':'Date', 'Thailand':'Deaths_daily'})\n",
        "\n",
        "# # change date format\n",
        "data.Date =  pd.to_datetime(data[\"Date\"])\n",
        "\n",
        "# replace NaN with 0 for ConfirmedCases and ConfirmedDeaths\n",
        "data[[\"Deaths_daily\"]] = data[[\"Deaths_daily\"]].replace(np.nan, 0)\n",
        "\n",
        "# start from 15/6/2021\n",
        "data = data[data.loc[data['Date'] == \"2021-06-15\"].index[0]:]\n",
        "\n",
        "# # reset index\n",
        "data = data.reset_index(drop = True)\n"
      ],
      "execution_count": 2,
      "outputs": []
    },
    {
      "cell_type": "code",
      "metadata": {
        "colab": {
          "base_uri": "https://localhost:8080/"
        },
        "id": "ypeAPm23VfB0",
        "outputId": "072a677e-1ad5-4d36-c93b-41e310ac1d8c"
      },
      "source": [
        "mob = read_csv(\"https://www.gstatic.com/covid19/mobility/Global_Mobility_Report.csv\")\n",
        "\n",
        "mob = pd.DataFrame(mob)\n",
        "\n",
        "# select only Thailand\n",
        "mob = mob.loc[mob['country_region'] == \"Thailand\"]\n",
        "\n",
        "# select columns\n",
        "mob = mob[[\"date\", \"residential_percent_change_from_baseline\"]]\n",
        "\n",
        "# change date format\n",
        "mob.date =  pd.to_datetime(mob[\"date\"])\n",
        "\n",
        "# change column name\n",
        "mob = mob.rename(columns = {'date':'Date', \"residential_percent_change_from_baseline\":\"resident\"})\n",
        "\n",
        "# reset index\n",
        "mob = mob.reset_index(drop = True)\n",
        "\n",
        "# start from 15/6/2021\n",
        "mob = mob[mob.loc[mob['Date'] == \"2021-06-15\"].index[0]:]\n",
        "\n",
        "# reset index\n",
        "mob = mob.reset_index(drop = True)\n",
        "\n",
        "# omit Date column\n",
        "mob = mob.drop([\"Date\"], axis = 1)"
      ],
      "execution_count": 3,
      "outputs": [
        {
          "output_type": "stream",
          "name": "stderr",
          "text": [
            "/usr/local/lib/python3.7/dist-packages/IPython/core/interactiveshell.py:2718: DtypeWarning:\n",
            "\n",
            "Columns (3,4,5) have mixed types.Specify dtype option on import or set low_memory=False.\n",
            "\n"
          ]
        }
      ]
    },
    {
      "cell_type": "code",
      "metadata": {
        "id": "wCuFtjqMkWbW"
      },
      "source": [
        "# whichever has fewer data\n",
        "length = min(len(data), len(mob))\n",
        "\n",
        "# Deaths daily\n",
        "data_d = pd.concat([data.Deaths_daily[:length], \n",
        "                    data.Date[:length],\n",
        "                    mob[:length]], axis = 1)\n",
        "\n",
        "data_d = data_d.rename(columns = {\"Deaths_daily\":\"data_d\"})\n",
        "# data_d = data_d[data_d.loc[data_d['Date'] == \"2021-06-15\"].index[0]:]\n"
      ],
      "execution_count": 4,
      "outputs": []
    },
    {
      "cell_type": "code",
      "metadata": {
        "id": "yLHeWiiPXRCO"
      },
      "source": [
        "# use the previous 14 days to predict the next day\n",
        "lag = 14\n",
        "prediction = 1\n",
        "window = 3 # for moving average\n",
        "index = 30\n",
        "days_predicted = 14\n",
        "\n",
        "data_d['data_d'] = data_d.data_d.rolling(window).mean()\n",
        "\n",
        "data_d.dropna(subset = [\"data_d\"], inplace=True) # remove the first 2 rows\n",
        "\n",
        "data_d = data_d.reset_index(drop = True)\n",
        "\n",
        "\n",
        "# drop date column\n",
        "data_d = data_d.drop([\"Date\"], axis = 1)\n",
        "\n",
        "# remove last rows for days_predicted\n",
        "data_d = data_d[:-days_predicted]\n",
        "\n",
        "# confirmed deaths\n",
        "nrow_total = data_d.shape[0] - lag - prediction + 1\n",
        "input_list = [np.expand_dims(data_d[i:lag+i], axis=0) for i in range(nrow_total)] \n",
        "X_d_p = np.concatenate(input_list, axis=0)\n",
        "\n",
        "y_d_p = np.array([data_d.data_d[lag:data_d.shape[0]]])\n",
        "y_d_p = y_d_p.T # transpose the matrix\n",
        "\n",
        "\n",
        "# split into training and test sets\n",
        "X_d_p_tr = X_d_p[0:index+1, :, :]\n",
        "X_d_p_ts = X_d_p[index+1:data_d.shape[0], :, :]\n",
        "\n",
        "y_d_p_tr = y_d_p[0:index+1]\n",
        "y_d_p_ts = y_d_p[index+1:data_d.shape[0]]\n"
      ],
      "execution_count": 5,
      "outputs": []
    },
    {
      "cell_type": "code",
      "metadata": {
        "id": "g9mNq2fInQs5"
      },
      "source": [
        "def split_sequence(sequence, lag):\n",
        "  x, y = list(), list()\n",
        "  for i in range(len(sequence)):\n",
        "    # find the end of this pattern\n",
        "    end_ix = i + lag\n",
        "    # check if we are beyond the sequence\n",
        "    if end_ix > len(sequence)-1:\n",
        "      break\n",
        "    # gather input and output parts of the pattern\n",
        "    seq_x, seq_y = sequence[i:end_ix], sequence[end_ix]\n",
        "    x.append(seq_x)\n",
        "    y.append(seq_y)\n",
        "  return array(x), array(y)\n",
        "\n"
      ],
      "execution_count": 6,
      "outputs": []
    },
    {
      "cell_type": "code",
      "metadata": {
        "id": "pgqjYqMK7Nxm"
      },
      "source": [
        "# resident (univariate)\n",
        "\n",
        "# confirmed cases\n",
        "x_mob, y_mob = split_sequence(data_d.resident, lag)\n",
        "\n",
        "# split into training and test sets\n",
        "X_tr_resident = x_mob[0:index+1, :]\n",
        "X_ts_resident = x_mob[index+1:x_mob.shape[0]-days_predicted, :]\n",
        "X_tr_resident = X_tr_resident.reshape(X_tr_resident.shape[0], X_tr_resident.shape[1], 1) # reshape input into 3D\n",
        "X_ts_resident = X_ts_resident.reshape(X_ts_resident.shape[0], X_ts_resident.shape[1], 1)\n",
        "\n",
        "y_tr_resident = y_mob[0:index+1]\n",
        "y_ts_resident = y_mob[index+1:x_mob.shape[0]-days_predicted]\n",
        "y_tr_resident = y_tr_resident.reshape(y_tr_resident.shape[0], 1, 1) # reshape output into 3D\n",
        "y_ts_resident = y_ts_resident.reshape(y_ts_resident.shape[0], 1, 1) "
      ],
      "execution_count": 7,
      "outputs": []
    },
    {
      "cell_type": "markdown",
      "metadata": {
        "id": "eCEO9U_tX6nP"
      },
      "source": [
        "## Analysis\n",
        "\n",
        "---\n",
        "\n",
        "\n",
        "\n",
        "### Hyperparameters Tuning\n",
        "\n",
        "\n",
        "Using the training set matrices for confirmed cases and confirmed deaths and univiariate and multivariate, we tuned for the most optimal numbers of parameters, staring from basic architectures. In this case, we searched for numbers of nodes for LSTM, GRU, and RNNs, and filter, kernel size, and pool for CNN. In the input layer, we added instance normalization to make all values between 0 and 1. Since we were dealing with some data that we had never seen before and the data seemed to be non-stationary, instance normalization might provide more advantages than typical standardization or normalization. The numbers of nodes that we used for our LSTM, GRU, and RNNs experiments were 4, 8, 16, 32, 64, 128, 256, 512, and 1024. Similarly, we used the same pool for CNN filter with kernel size of 3, 5 and 7, and pool of 2 and 3. The activation function for this hidden layer was sigmoid. Next, we added another instance normalization. Finally, the output layer contained one node and Linear activation function. Epoch and batch size were 50 and 1, respectively. We used mean squared error (MSE) as our loss function, ADAM optimization and mean absolute percentage error (MAPE) as a metric for model evaluation.\n"
      ]
    },
    {
      "cell_type": "markdown",
      "metadata": {
        "id": "PgWYXmJLYATE"
      },
      "source": [
        "### CNN"
      ]
    },
    {
      "cell_type": "code",
      "metadata": {
        "id": "pZJnpt8jZRZZ"
      },
      "source": [
        "# CNN Tuning\n",
        "\n",
        "def evaluate_cnn(trainX, trainy, filter, kernel_size, pool):\n",
        "    seed(1)\n",
        "    tensorflow.random.set_seed(1)\n",
        "\n",
        "    verbose, epochs, batch_size = 0, 50, 1\n",
        "    n_timesteps, n_features = trainX.shape[1], trainX.shape[2]\n",
        "\n",
        "    model = Sequential()\n",
        "    model.add(Conv1D(filters = filter, kernel_size=kernel_size, activation='relu',input_shape=(n_timesteps,n_features)))\n",
        "    model.add(MaxPooling1D(pool_size= pool))\n",
        "    model.add(Flatten())\n",
        "    model.add(Dense(1, activation='linear'))\n",
        "    model.compile(loss='mse', optimizer='adam', metrics=['MAPE'])\n",
        "  \n",
        "    # fit network\n",
        "    model.fit(trainX, trainy, epochs=epochs, batch_size=batch_size, verbose=verbose, shuffle = False)\n",
        "    # evaluate model\n",
        "    _, accuracy = model.evaluate(trainX, trainy, batch_size=batch_size, verbose=0)\n",
        "    return accuracy\n",
        "\n",
        "# run an experiment\n",
        "def run_experiment(filters, kernel_size, pool, trainX, trainy):\n",
        "    # test each parameter\n",
        "    all_scores = list()\n",
        "    for filter in filters:\n",
        "      for kernel in kernel_size:\n",
        "        for pooling in pool:\n",
        "          score = evaluate_cnn(trainX, trainy, filter, kernel_size, pool)\n",
        "          print('filter = %d, kernel size = %d, pooling size = %d: %.3f' % (filter, kernel, pooling, score))\n",
        "          all_scores.append(score)\n",
        "    return all_scores\n",
        "    \n",
        "\n",
        "\n",
        "filter = [2, 4, 8, 16, 32, 64, 128, 256, 512, 1024] \n"
      ],
      "execution_count": null,
      "outputs": []
    },
    {
      "cell_type": "code",
      "metadata": {
        "colab": {
          "base_uri": "https://localhost:8080/"
        },
        "id": "f9h_O6Nsnz2C",
        "outputId": "eb55ab87-39dd-4518-91a9-e3d310daf17e"
      },
      "source": [
        "# Multivariate CNN confirmed deaths\n",
        "kernel = [3, 5, 7]\n",
        "pool = [2]\n",
        "cnn_d_multi = list()\n",
        "\n",
        "for i in kernel:\n",
        "  for j in pool:\n",
        "    score = list() \n",
        "    kernel_size, pool = [i],[j]\n",
        "    score = run_experiment(filter, kernel_size, pool, X_d_p_tr, y_d_p_tr)\n",
        "    cnn_d_multi.append(score)\n",
        "\n",
        "pool = [3]\n",
        "\n",
        "for i in kernel:\n",
        "  for j in pool: \n",
        "    score = list()\n",
        "    kernel_size, pool = [i],[j]\n",
        "    score = run_experiment(filter, kernel_size, pool, X_d_p_tr, y_d_p_tr)\n",
        "    cnn_d_multi.append(score)\n",
        "\n",
        "cnn_d_multi = pd.DataFrame(cnn_d_multi).T\n",
        "cnn_d_multi.columns = ['k3p2', 'k3p3','k5p2', 'k7p2', 'k5p3', 'k7p3']"
      ],
      "execution_count": null,
      "outputs": [
        {
          "output_type": "stream",
          "name": "stdout",
          "text": [
            "filter = 2, kernel size = 3, pooling size = 2: 11.513\n",
            "filter = 4, kernel size = 3, pooling size = 2: 12.077\n",
            "filter = 8, kernel size = 3, pooling size = 2: 9.970\n",
            "filter = 16, kernel size = 3, pooling size = 2: 7.790\n",
            "filter = 32, kernel size = 3, pooling size = 2: 8.695\n",
            "filter = 64, kernel size = 3, pooling size = 2: 7.547\n",
            "filter = 128, kernel size = 3, pooling size = 2: 8.525\n",
            "filter = 256, kernel size = 3, pooling size = 2: 11.184\n",
            "filter = 512, kernel size = 3, pooling size = 2: 11.338\n",
            "filter = 1024, kernel size = 3, pooling size = 2: 11.531\n",
            "filter = 2, kernel size = 5, pooling size = 2: 10.210\n",
            "filter = 4, kernel size = 5, pooling size = 2: 10.278\n",
            "filter = 8, kernel size = 5, pooling size = 2: 7.242\n",
            "filter = 16, kernel size = 5, pooling size = 2: 9.702\n",
            "filter = 32, kernel size = 5, pooling size = 2: 7.634\n",
            "filter = 64, kernel size = 5, pooling size = 2: 8.848\n",
            "filter = 128, kernel size = 5, pooling size = 2: 9.589\n",
            "filter = 256, kernel size = 5, pooling size = 2: 12.363\n",
            "filter = 512, kernel size = 5, pooling size = 2: 13.474\n",
            "filter = 1024, kernel size = 5, pooling size = 2: 15.677\n",
            "filter = 2, kernel size = 7, pooling size = 2: 10.290\n",
            "filter = 4, kernel size = 7, pooling size = 2: 9.396\n",
            "filter = 8, kernel size = 7, pooling size = 2: 8.127\n",
            "filter = 16, kernel size = 7, pooling size = 2: 8.664\n",
            "filter = 32, kernel size = 7, pooling size = 2: 8.043\n",
            "filter = 64, kernel size = 7, pooling size = 2: 8.479\n",
            "filter = 128, kernel size = 7, pooling size = 2: 9.784\n",
            "filter = 256, kernel size = 7, pooling size = 2: 13.401\n",
            "filter = 512, kernel size = 7, pooling size = 2: 13.560\n",
            "filter = 1024, kernel size = 7, pooling size = 2: 23.501\n",
            "filter = 2, kernel size = 3, pooling size = 3: 11.614\n",
            "filter = 4, kernel size = 3, pooling size = 3: 11.819\n",
            "filter = 8, kernel size = 3, pooling size = 3: 8.658\n",
            "filter = 16, kernel size = 3, pooling size = 3: 9.062\n",
            "filter = 32, kernel size = 3, pooling size = 3: 8.301\n",
            "filter = 64, kernel size = 3, pooling size = 3: 7.350\n",
            "filter = 128, kernel size = 3, pooling size = 3: 7.878\n",
            "filter = 256, kernel size = 3, pooling size = 3: 9.557\n",
            "filter = 512, kernel size = 3, pooling size = 3: 11.567\n",
            "filter = 1024, kernel size = 3, pooling size = 3: 12.235\n",
            "filter = 2, kernel size = 5, pooling size = 3: 11.489\n",
            "filter = 4, kernel size = 5, pooling size = 3: 10.520\n",
            "filter = 8, kernel size = 5, pooling size = 3: 9.884\n",
            "filter = 16, kernel size = 5, pooling size = 3: 8.918\n",
            "filter = 32, kernel size = 5, pooling size = 3: 8.437\n",
            "filter = 64, kernel size = 5, pooling size = 3: 9.615\n",
            "filter = 128, kernel size = 5, pooling size = 3: 8.851\n",
            "filter = 256, kernel size = 5, pooling size = 3: 11.359\n",
            "filter = 512, kernel size = 5, pooling size = 3: 13.711\n",
            "filter = 1024, kernel size = 5, pooling size = 3: 14.919\n",
            "filter = 2, kernel size = 7, pooling size = 3: 12.085\n",
            "filter = 4, kernel size = 7, pooling size = 3: 98.132\n",
            "filter = 8, kernel size = 7, pooling size = 3: 10.367\n",
            "filter = 16, kernel size = 7, pooling size = 3: 8.747\n",
            "filter = 32, kernel size = 7, pooling size = 3: 9.491\n",
            "filter = 64, kernel size = 7, pooling size = 3: 8.686\n",
            "filter = 128, kernel size = 7, pooling size = 3: 8.773\n",
            "filter = 256, kernel size = 7, pooling size = 3: 10.490\n",
            "filter = 512, kernel size = 7, pooling size = 3: 12.629\n",
            "filter = 1024, kernel size = 7, pooling size = 3: 14.575\n"
          ]
        }
      ]
    },
    {
      "cell_type": "markdown",
      "metadata": {
        "id": "eDXGbHvPZNn1"
      },
      "source": [
        "### LSTM"
      ]
    },
    {
      "cell_type": "code",
      "metadata": {
        "id": "XwruQErcVIGp"
      },
      "source": [
        "def evaluate_lstm(trainX, trainy, units):\n",
        "    seed(1)\n",
        "    tensorflow.random.set_seed(1)\n",
        "\n",
        "    verbose, epochs, batch_size = 0, 50, 1\n",
        "    n_timesteps, n_features = trainX.shape[1], trainX.shape[2]\n",
        "\n",
        "    model = Sequential()\n",
        "    model.add(LSTM(units = units, activation='relu', input_shape=(n_timesteps,n_features)))\n",
        "    model.add(Dense(1, activation='linear'))\n",
        "    model.compile(loss='mse', optimizer='adam', metrics=['MAPE'])\n",
        "  \n",
        "    # fit network\n",
        "    model.fit(trainX, trainy, epochs=epochs, batch_size=batch_size, verbose=verbose, shuffle = False)\n",
        "    # evaluate model\n",
        "    _, accuracy = model.evaluate(trainX, trainy, batch_size=batch_size, verbose=0)\n",
        "    return accuracy\n",
        "\n",
        "\n",
        "units = [2, 4,8,16,32,64,128,256,512, 1024]\n",
        "\n",
        "# Multivariate LSTM confirmed deaths\n",
        "\n",
        "lstm_d_multi = list()\n",
        "\n",
        "for i in units:\n",
        "  score = list()\n",
        "  score = evaluate_lstm(X_d_p_tr, y_d_p_tr, i)\n",
        "  lstm_d_multi.append(score)"
      ],
      "execution_count": null,
      "outputs": []
    },
    {
      "cell_type": "markdown",
      "metadata": {
        "id": "u5EHjmk8ZwNb"
      },
      "source": [
        "### GRU"
      ]
    },
    {
      "cell_type": "code",
      "metadata": {
        "id": "8Pkcl1joZuxL"
      },
      "source": [
        "def evaluate_gru(trainX, trainy, units):\n",
        "    seed(1)\n",
        "    tensorflow.random.set_seed(1)\n",
        "\n",
        "    verbose, epochs, batch_size = 0, 50, 1\n",
        "    n_timesteps, n_features = trainX.shape[1], trainX.shape[2]\n",
        "\n",
        "    model = Sequential()\n",
        "    model.add(GRU(units = units, activation='relu', input_shape=(n_timesteps,n_features)))\n",
        "    model.add(Dense(1, activation='linear'))\n",
        "    model.compile(loss='mse', optimizer='adam', metrics=['MAPE'])\n",
        "  \n",
        "    # fit network\n",
        "    model.fit(trainX, trainy, epochs=epochs, batch_size=batch_size, verbose=verbose, shuffle = False)\n",
        "    # evaluate model\n",
        "    _, accuracy = model.evaluate(trainX, trainy, batch_size=batch_size, verbose=0)\n",
        "    return accuracy\n",
        "\n",
        "# Multivariate GRU confirmed deaths\n",
        "\n",
        "gru_d_multi = list()\n",
        "\n",
        "for i in units:\n",
        "  score = list()\n",
        "  score = evaluate_gru(X_d_p_tr, y_d_p_tr, i)\n",
        "  gru_d_multi.append(score)"
      ],
      "execution_count": null,
      "outputs": []
    },
    {
      "cell_type": "markdown",
      "metadata": {
        "id": "LxvR7HvgbL9i"
      },
      "source": [
        "### RNNs"
      ]
    },
    {
      "cell_type": "code",
      "metadata": {
        "id": "pHWbTWi0bOet"
      },
      "source": [
        "def evaluate_rnn(trainX, trainy, units):\n",
        "    seed(1)\n",
        "    tensorflow.random.set_seed(1)\n",
        "\n",
        "    verbose, epochs, batch_size = 0, 50, 1\n",
        "    n_timesteps, n_features = trainX.shape[1], trainX.shape[2]\n",
        "\n",
        "    model = Sequential()\n",
        "    model.add(SimpleRNN(units = units, activation='relu', input_shape=(n_timesteps,n_features)))\n",
        "    model.add(Dense(1, activation='linear'))\n",
        "    model.compile(loss='mse', optimizer='adam', metrics=['MAPE'])\n",
        "  \n",
        "    # fit network\n",
        "    model.fit(trainX, trainy, epochs=epochs, batch_size=batch_size, verbose=verbose, shuffle = False)\n",
        "    # evaluate model\n",
        "    _, accuracy = model.evaluate(trainX, trainy, batch_size=batch_size, verbose=0)\n",
        "    return accuracy\n",
        "\n",
        "\n",
        "# Multivariate RNNs confirmed deaths\n",
        "\n",
        "rnn_d_multi = list()\n",
        "\n",
        "for i in units:\n",
        "  score = list()\n",
        "  score = evaluate_rnn(X_d_p_tr, y_d_p_tr, i)\n",
        "  rnn_d_multi.append(score)"
      ],
      "execution_count": null,
      "outputs": []
    },
    {
      "cell_type": "markdown",
      "metadata": {
        "id": "91h9IuDksSs2"
      },
      "source": [
        "### Result Table"
      ]
    },
    {
      "cell_type": "code",
      "metadata": {
        "colab": {
          "base_uri": "https://localhost:8080/",
          "height": 737
        },
        "id": "tEs71xle1nbi",
        "outputId": "7b7a741b-a68c-4434-f32e-07643a0829eb"
      },
      "source": [
        "fig = go.Figure(data=[go.Table(header=dict(values=['Model', 'Kernel size', 'Pool', '2 Nodes','4 Nodes', '8 Nodes', '16 Nodes', '32 Nodes',\n",
        "                                                   \"64 Nodes\", '128 Nodes', '256 Nodes', '512 Nodes' , '1024 Nodes'],\n",
        "                                           line_color = 'gray'),\n",
        "                               cells=dict(values=[['LSTM', 'GRU', 'RNNs', 'CNN',\n",
        "                                                   'CNN', 'CNN', 'CNN', 'CNN', 'CNN'],\n",
        "                                                  ['-', '-', '-', '3', '5', '7', '3', '5', '7'],\n",
        "                                                  ['-', '-', '-', '2', '2', '2', '3', '3', '3'],\n",
        "                                    [round(lstm_d_multi[0],3), \n",
        "                                     round(gru_d_multi[0],3),\n",
        "                                     round(rnn_d_multi[0],3), \n",
        "                                     round(cnn_d_multi.iloc[0,0],3),\n",
        "                                     round(cnn_d_multi.iloc[0,1],3),\n",
        "                                     round(cnn_d_multi.iloc[0,2],3),\n",
        "                                     round(cnn_d_multi.iloc[0,3],3),\n",
        "                                     round(cnn_d_multi.iloc[0,4],3),\n",
        "                                     round(cnn_d_multi.iloc[0,5],3)],\n",
        "                                     [round(lstm_d_multi[1],3), \n",
        "                                     round(gru_d_multi[1],3),\n",
        "                                     round(rnn_d_multi[1],3), \n",
        "                                     round(cnn_d_multi.iloc[1,0],3),\n",
        "                                     round(cnn_d_multi.iloc[1,1],3),\n",
        "                                     round(cnn_d_multi.iloc[1,2],3),\n",
        "                                     round(cnn_d_multi.iloc[1,3],3),\n",
        "                                     round(cnn_d_multi.iloc[1,4],3),\n",
        "                                     round(cnn_d_multi.iloc[1,5],3)],\n",
        "                                     [round(lstm_d_multi[2],3), \n",
        "                                     round(gru_d_multi[2],3),\n",
        "                                     round(rnn_d_multi[2],3), \n",
        "                                     round(cnn_d_multi.iloc[2,0],3),\n",
        "                                     round(cnn_d_multi.iloc[2,1],3),\n",
        "                                     round(cnn_d_multi.iloc[2,2],3),\n",
        "                                     round(cnn_d_multi.iloc[2,3],3),\n",
        "                                     round(cnn_d_multi.iloc[2,4],3),\n",
        "                                     round(cnn_d_multi.iloc[2,5],3)],\n",
        "                                     [round(lstm_d_multi[3],3), \n",
        "                                     round(gru_d_multi[3],3),\n",
        "                                     round(rnn_d_multi[3],3), \n",
        "                                     round(cnn_d_multi.iloc[3,0],3),\n",
        "                                     round(cnn_d_multi.iloc[3,1],3),\n",
        "                                     round(cnn_d_multi.iloc[3,2],3),\n",
        "                                     round(cnn_d_multi.iloc[3,3],3),\n",
        "                                     round(cnn_d_multi.iloc[3,4],3),\n",
        "                                     round(cnn_d_multi.iloc[3,5],3)],\n",
        "                                     [round(lstm_d_multi[4],3), \n",
        "                                     round(gru_d_multi[4],3),\n",
        "                                     round(rnn_d_multi[4],3), \n",
        "                                     round(cnn_d_multi.iloc[4,0],3),\n",
        "                                     round(cnn_d_multi.iloc[4,1],3),\n",
        "                                     round(cnn_d_multi.iloc[4,2],3),\n",
        "                                     round(cnn_d_multi.iloc[4,3],3),\n",
        "                                     round(cnn_d_multi.iloc[4,4],3),\n",
        "                                     round(cnn_d_multi.iloc[4,5],3)],\n",
        "                                     [round(lstm_d_multi[5],3), \n",
        "                                     round(gru_d_multi[5],3),\n",
        "                                     round(rnn_d_multi[5],3), \n",
        "                                     round(cnn_d_multi.iloc[5,0],3),\n",
        "                                     round(cnn_d_multi.iloc[5,1],3),\n",
        "                                     round(cnn_d_multi.iloc[5,2],3),\n",
        "                                     round(cnn_d_multi.iloc[5,3],3),\n",
        "                                     round(cnn_d_multi.iloc[5,4],3),\n",
        "                                     round(cnn_d_multi.iloc[5,5],3)],\n",
        "                                     [round(lstm_d_multi[6],3), \n",
        "                                     round(gru_d_multi[6],3),\n",
        "                                     round(rnn_d_multi[6],3), \n",
        "                                     round(cnn_d_multi.iloc[6,0],3),\n",
        "                                     round(cnn_d_multi.iloc[6,1],3),\n",
        "                                     round(cnn_d_multi.iloc[6,2],3),\n",
        "                                     round(cnn_d_multi.iloc[6,3],3),\n",
        "                                     round(cnn_d_multi.iloc[6,4],3),\n",
        "                                     round(cnn_d_multi.iloc[6,5],3)],\n",
        "                                     [round(lstm_d_multi[7],3), \n",
        "                                     round(gru_d_multi[7],3),\n",
        "                                     round(rnn_d_multi[7],3), \n",
        "                                     round(cnn_d_multi.iloc[7,0],3),\n",
        "                                     round(cnn_d_multi.iloc[7,1],3),\n",
        "                                     round(cnn_d_multi.iloc[7,2],3),\n",
        "                                     round(cnn_d_multi.iloc[7,3],3),\n",
        "                                     round(cnn_d_multi.iloc[7,4],3),\n",
        "                                     round(cnn_d_multi.iloc[7,5],3)],\n",
        "                                     [round(lstm_d_multi[8],3), \n",
        "                                     round(gru_d_multi[8],3),\n",
        "                                     round(rnn_d_multi[8],3), \n",
        "                                     round(cnn_d_multi.iloc[8,0],3),\n",
        "                                     round(cnn_d_multi.iloc[8,1],3),\n",
        "                                     round(cnn_d_multi.iloc[8,2],3),\n",
        "                                     round(cnn_d_multi.iloc[8,3],3),\n",
        "                                     round(cnn_d_multi.iloc[8,4],3),\n",
        "                                     round(cnn_d_multi.iloc[8,5],3)],\n",
        "                                     [round(lstm_d_multi[9],3), \n",
        "                                     round(gru_d_multi[9],3),\n",
        "                                     round(rnn_d_multi[9],3), \n",
        "                                     round(cnn_d_multi.iloc[9,0],3),\n",
        "                                     round(cnn_d_multi.iloc[9,1],3),\n",
        "                                     round(cnn_d_multi.iloc[9,2],3),\n",
        "                                     round(cnn_d_multi.iloc[9,3],3),\n",
        "                                     round(cnn_d_multi.iloc[9,4],3),\n",
        "                                     round(cnn_d_multi.iloc[9,5],3)]],\n",
        "                            align=['left','center', 'center', \n",
        "                                   'right','right','right',\n",
        "                                   'right','right','right',\n",
        "                                   'right','right','right','right'],\n",
        "                            fill_color = 'white',\n",
        "                            line_color = 'gray'))\n",
        "                     ])\n",
        "fig.update_layout(title = \"Parameter Tunings Mean Absolute Percentage Error: Multivariate Confirmed Deaths\",\n",
        "                  title_x=0.5, height = 700, width = 1200)\n",
        "fig.show()"
      ],
      "execution_count": null,
      "outputs": [
        {
          "output_type": "display_data",
          "data": {
            "text/html": [
              "<html>\n",
              "<head><meta charset=\"utf-8\" /></head>\n",
              "<body>\n",
              "    <div>\n",
              "            <script src=\"https://cdnjs.cloudflare.com/ajax/libs/mathjax/2.7.5/MathJax.js?config=TeX-AMS-MML_SVG\"></script><script type=\"text/javascript\">if (window.MathJax) {MathJax.Hub.Config({SVG: {font: \"STIX-Web\"}});}</script>\n",
              "                <script type=\"text/javascript\">window.PlotlyConfig = {MathJaxConfig: 'local'};</script>\n",
              "        <script src=\"https://cdn.plot.ly/plotly-latest.min.js\"></script>    \n",
              "            <div id=\"6e13fbc4-e42b-4b96-bfe3-8f5c5a136358\" class=\"plotly-graph-div\" style=\"height:700px; width:1200px;\"></div>\n",
              "            <script type=\"text/javascript\">\n",
              "                \n",
              "                    window.PLOTLYENV=window.PLOTLYENV || {};\n",
              "                    \n",
              "                if (document.getElementById(\"6e13fbc4-e42b-4b96-bfe3-8f5c5a136358\")) {\n",
              "                    Plotly.newPlot(\n",
              "                        '6e13fbc4-e42b-4b96-bfe3-8f5c5a136358',\n",
              "                        [{\"cells\": {\"align\": [\"left\", \"center\", \"center\", \"right\", \"right\", \"right\", \"right\", \"right\", \"right\", \"right\", \"right\", \"right\", \"right\"], \"fill\": {\"color\": \"white\"}, \"line\": {\"color\": \"gray\"}, \"values\": [[\"LSTM\", \"GRU\", \"RNNs\", \"CNN\", \"CNN\", \"CNN\", \"CNN\", \"CNN\", \"CNN\"], [\"-\", \"-\", \"-\", \"3\", \"5\", \"7\", \"3\", \"5\", \"7\"], [\"-\", \"-\", \"-\", \"2\", \"2\", \"2\", \"3\", \"3\", \"3\"], [9.314, 98.116, 10.106, 11.513, 10.21, 10.29, 11.614, 11.489, 12.085], [54.496, 8.088, 8.016, 12.077, 10.278, 9.396, 11.819, 10.52, 98.132], [10.361, 8.064, 10.981, 9.97, 7.242, 8.127, 8.658, 9.884, 10.367], [9.189, 8.225, 8.179, 7.79, 9.702, 8.664, 9.062, 8.918, 8.747], [8.05, 7.4, 7.268, 8.695, 7.634, 8.043, 8.301, 8.437, 9.491], [8.473, 7.187, 6.705, 7.547, 8.848, 8.479, 7.35, 9.615, 8.686], [11.151, 7.483, 6.549, 8.525, 9.589, 9.784, 7.878, 8.851, 8.773], [10.198, 7.973, 5.189, 11.184, 12.363, 13.401, 9.557, 11.359, 10.49], [9.411, 9.772, 5.028, 11.338, 13.474, 13.56, 11.567, 13.711, 12.629], [12.859, 12.444, 7.292, 11.531, 15.677, 23.501, 12.235, 14.919, 14.575]]}, \"header\": {\"line\": {\"color\": \"gray\"}, \"values\": [\"Model\", \"Kernel size\", \"Pool\", \"2 Nodes\", \"4 Nodes\", \"8 Nodes\", \"16 Nodes\", \"32 Nodes\", \"64 Nodes\", \"128 Nodes\", \"256 Nodes\", \"512 Nodes\", \"1024 Nodes\"]}, \"type\": \"table\"}],\n",
              "                        {\"height\": 700, \"template\": {\"data\": {\"bar\": [{\"error_x\": {\"color\": \"#2a3f5f\"}, \"error_y\": {\"color\": \"#2a3f5f\"}, \"marker\": {\"line\": {\"color\": \"#E5ECF6\", \"width\": 0.5}}, \"type\": \"bar\"}], \"barpolar\": [{\"marker\": {\"line\": {\"color\": \"#E5ECF6\", \"width\": 0.5}}, \"type\": \"barpolar\"}], \"carpet\": [{\"aaxis\": {\"endlinecolor\": \"#2a3f5f\", \"gridcolor\": \"white\", \"linecolor\": \"white\", \"minorgridcolor\": \"white\", \"startlinecolor\": \"#2a3f5f\"}, \"baxis\": {\"endlinecolor\": \"#2a3f5f\", \"gridcolor\": \"white\", \"linecolor\": \"white\", \"minorgridcolor\": \"white\", \"startlinecolor\": \"#2a3f5f\"}, \"type\": \"carpet\"}], \"choropleth\": [{\"colorbar\": {\"outlinewidth\": 0, \"ticks\": \"\"}, \"type\": \"choropleth\"}], \"contour\": [{\"colorbar\": {\"outlinewidth\": 0, \"ticks\": \"\"}, \"colorscale\": [[0.0, \"#0d0887\"], [0.1111111111111111, \"#46039f\"], [0.2222222222222222, \"#7201a8\"], [0.3333333333333333, \"#9c179e\"], [0.4444444444444444, \"#bd3786\"], [0.5555555555555556, \"#d8576b\"], [0.6666666666666666, \"#ed7953\"], [0.7777777777777778, \"#fb9f3a\"], [0.8888888888888888, \"#fdca26\"], [1.0, \"#f0f921\"]], \"type\": \"contour\"}], \"contourcarpet\": [{\"colorbar\": {\"outlinewidth\": 0, \"ticks\": \"\"}, \"type\": \"contourcarpet\"}], \"heatmap\": [{\"colorbar\": {\"outlinewidth\": 0, \"ticks\": \"\"}, \"colorscale\": [[0.0, \"#0d0887\"], [0.1111111111111111, \"#46039f\"], [0.2222222222222222, \"#7201a8\"], [0.3333333333333333, \"#9c179e\"], [0.4444444444444444, \"#bd3786\"], [0.5555555555555556, \"#d8576b\"], [0.6666666666666666, \"#ed7953\"], [0.7777777777777778, \"#fb9f3a\"], [0.8888888888888888, \"#fdca26\"], [1.0, \"#f0f921\"]], \"type\": \"heatmap\"}], \"heatmapgl\": [{\"colorbar\": {\"outlinewidth\": 0, \"ticks\": \"\"}, \"colorscale\": [[0.0, \"#0d0887\"], [0.1111111111111111, \"#46039f\"], [0.2222222222222222, \"#7201a8\"], [0.3333333333333333, \"#9c179e\"], [0.4444444444444444, \"#bd3786\"], [0.5555555555555556, \"#d8576b\"], [0.6666666666666666, \"#ed7953\"], [0.7777777777777778, \"#fb9f3a\"], [0.8888888888888888, \"#fdca26\"], [1.0, \"#f0f921\"]], \"type\": \"heatmapgl\"}], \"histogram\": [{\"marker\": {\"colorbar\": {\"outlinewidth\": 0, \"ticks\": \"\"}}, \"type\": \"histogram\"}], \"histogram2d\": [{\"colorbar\": {\"outlinewidth\": 0, \"ticks\": \"\"}, \"colorscale\": [[0.0, \"#0d0887\"], [0.1111111111111111, \"#46039f\"], [0.2222222222222222, \"#7201a8\"], [0.3333333333333333, \"#9c179e\"], [0.4444444444444444, \"#bd3786\"], [0.5555555555555556, \"#d8576b\"], [0.6666666666666666, \"#ed7953\"], [0.7777777777777778, \"#fb9f3a\"], [0.8888888888888888, \"#fdca26\"], [1.0, \"#f0f921\"]], \"type\": \"histogram2d\"}], \"histogram2dcontour\": [{\"colorbar\": {\"outlinewidth\": 0, \"ticks\": \"\"}, \"colorscale\": [[0.0, \"#0d0887\"], [0.1111111111111111, \"#46039f\"], [0.2222222222222222, \"#7201a8\"], [0.3333333333333333, \"#9c179e\"], [0.4444444444444444, \"#bd3786\"], [0.5555555555555556, \"#d8576b\"], [0.6666666666666666, \"#ed7953\"], [0.7777777777777778, \"#fb9f3a\"], [0.8888888888888888, \"#fdca26\"], [1.0, \"#f0f921\"]], \"type\": \"histogram2dcontour\"}], \"mesh3d\": [{\"colorbar\": {\"outlinewidth\": 0, \"ticks\": \"\"}, \"type\": \"mesh3d\"}], \"parcoords\": [{\"line\": {\"colorbar\": {\"outlinewidth\": 0, \"ticks\": \"\"}}, \"type\": \"parcoords\"}], \"pie\": [{\"automargin\": true, \"type\": \"pie\"}], \"scatter\": [{\"marker\": {\"colorbar\": {\"outlinewidth\": 0, \"ticks\": \"\"}}, \"type\": \"scatter\"}], \"scatter3d\": [{\"line\": {\"colorbar\": {\"outlinewidth\": 0, \"ticks\": \"\"}}, \"marker\": {\"colorbar\": {\"outlinewidth\": 0, \"ticks\": \"\"}}, \"type\": \"scatter3d\"}], \"scattercarpet\": [{\"marker\": {\"colorbar\": {\"outlinewidth\": 0, \"ticks\": \"\"}}, \"type\": \"scattercarpet\"}], \"scattergeo\": [{\"marker\": {\"colorbar\": {\"outlinewidth\": 0, \"ticks\": \"\"}}, \"type\": \"scattergeo\"}], \"scattergl\": [{\"marker\": {\"colorbar\": {\"outlinewidth\": 0, \"ticks\": \"\"}}, \"type\": \"scattergl\"}], \"scattermapbox\": [{\"marker\": {\"colorbar\": {\"outlinewidth\": 0, \"ticks\": \"\"}}, \"type\": \"scattermapbox\"}], \"scatterpolar\": [{\"marker\": {\"colorbar\": {\"outlinewidth\": 0, \"ticks\": \"\"}}, \"type\": \"scatterpolar\"}], \"scatterpolargl\": [{\"marker\": {\"colorbar\": {\"outlinewidth\": 0, \"ticks\": \"\"}}, \"type\": \"scatterpolargl\"}], \"scatterternary\": [{\"marker\": {\"colorbar\": {\"outlinewidth\": 0, \"ticks\": \"\"}}, \"type\": \"scatterternary\"}], \"surface\": [{\"colorbar\": {\"outlinewidth\": 0, \"ticks\": \"\"}, \"colorscale\": [[0.0, \"#0d0887\"], [0.1111111111111111, \"#46039f\"], [0.2222222222222222, \"#7201a8\"], [0.3333333333333333, \"#9c179e\"], [0.4444444444444444, \"#bd3786\"], [0.5555555555555556, \"#d8576b\"], [0.6666666666666666, \"#ed7953\"], [0.7777777777777778, \"#fb9f3a\"], [0.8888888888888888, \"#fdca26\"], [1.0, \"#f0f921\"]], \"type\": \"surface\"}], \"table\": [{\"cells\": {\"fill\": {\"color\": \"#EBF0F8\"}, \"line\": {\"color\": \"white\"}}, \"header\": {\"fill\": {\"color\": \"#C8D4E3\"}, \"line\": {\"color\": \"white\"}}, \"type\": \"table\"}]}, \"layout\": {\"annotationdefaults\": {\"arrowcolor\": \"#2a3f5f\", \"arrowhead\": 0, \"arrowwidth\": 1}, \"coloraxis\": {\"colorbar\": {\"outlinewidth\": 0, \"ticks\": \"\"}}, \"colorscale\": {\"diverging\": [[0, \"#8e0152\"], [0.1, \"#c51b7d\"], [0.2, \"#de77ae\"], [0.3, \"#f1b6da\"], [0.4, \"#fde0ef\"], [0.5, \"#f7f7f7\"], [0.6, \"#e6f5d0\"], [0.7, \"#b8e186\"], [0.8, \"#7fbc41\"], [0.9, \"#4d9221\"], [1, \"#276419\"]], \"sequential\": [[0.0, \"#0d0887\"], [0.1111111111111111, \"#46039f\"], [0.2222222222222222, \"#7201a8\"], [0.3333333333333333, \"#9c179e\"], [0.4444444444444444, \"#bd3786\"], [0.5555555555555556, \"#d8576b\"], [0.6666666666666666, \"#ed7953\"], [0.7777777777777778, \"#fb9f3a\"], [0.8888888888888888, \"#fdca26\"], [1.0, \"#f0f921\"]], \"sequentialminus\": [[0.0, \"#0d0887\"], [0.1111111111111111, \"#46039f\"], [0.2222222222222222, \"#7201a8\"], [0.3333333333333333, \"#9c179e\"], [0.4444444444444444, \"#bd3786\"], [0.5555555555555556, \"#d8576b\"], [0.6666666666666666, \"#ed7953\"], [0.7777777777777778, \"#fb9f3a\"], [0.8888888888888888, \"#fdca26\"], [1.0, \"#f0f921\"]]}, \"colorway\": [\"#636efa\", \"#EF553B\", \"#00cc96\", \"#ab63fa\", \"#FFA15A\", \"#19d3f3\", \"#FF6692\", \"#B6E880\", \"#FF97FF\", \"#FECB52\"], \"font\": {\"color\": \"#2a3f5f\"}, \"geo\": {\"bgcolor\": \"white\", \"lakecolor\": \"white\", \"landcolor\": \"#E5ECF6\", \"showlakes\": true, \"showland\": true, \"subunitcolor\": \"white\"}, \"hoverlabel\": {\"align\": \"left\"}, \"hovermode\": \"closest\", \"mapbox\": {\"style\": \"light\"}, \"paper_bgcolor\": \"white\", \"plot_bgcolor\": \"#E5ECF6\", \"polar\": {\"angularaxis\": {\"gridcolor\": \"white\", \"linecolor\": \"white\", \"ticks\": \"\"}, \"bgcolor\": \"#E5ECF6\", \"radialaxis\": {\"gridcolor\": \"white\", \"linecolor\": \"white\", \"ticks\": \"\"}}, \"scene\": {\"xaxis\": {\"backgroundcolor\": \"#E5ECF6\", \"gridcolor\": \"white\", \"gridwidth\": 2, \"linecolor\": \"white\", \"showbackground\": true, \"ticks\": \"\", \"zerolinecolor\": \"white\"}, \"yaxis\": {\"backgroundcolor\": \"#E5ECF6\", \"gridcolor\": \"white\", \"gridwidth\": 2, \"linecolor\": \"white\", \"showbackground\": true, \"ticks\": \"\", \"zerolinecolor\": \"white\"}, \"zaxis\": {\"backgroundcolor\": \"#E5ECF6\", \"gridcolor\": \"white\", \"gridwidth\": 2, \"linecolor\": \"white\", \"showbackground\": true, \"ticks\": \"\", \"zerolinecolor\": \"white\"}}, \"shapedefaults\": {\"line\": {\"color\": \"#2a3f5f\"}}, \"ternary\": {\"aaxis\": {\"gridcolor\": \"white\", \"linecolor\": \"white\", \"ticks\": \"\"}, \"baxis\": {\"gridcolor\": \"white\", \"linecolor\": \"white\", \"ticks\": \"\"}, \"bgcolor\": \"#E5ECF6\", \"caxis\": {\"gridcolor\": \"white\", \"linecolor\": \"white\", \"ticks\": \"\"}}, \"title\": {\"x\": 0.05}, \"xaxis\": {\"automargin\": true, \"gridcolor\": \"white\", \"linecolor\": \"white\", \"ticks\": \"\", \"title\": {\"standoff\": 15}, \"zerolinecolor\": \"white\", \"zerolinewidth\": 2}, \"yaxis\": {\"automargin\": true, \"gridcolor\": \"white\", \"linecolor\": \"white\", \"ticks\": \"\", \"title\": {\"standoff\": 15}, \"zerolinecolor\": \"white\", \"zerolinewidth\": 2}}}, \"title\": {\"text\": \"Parameter Tunings Mean Absolute Percentage Error: Multivariate Confirmed Deaths\", \"x\": 0.5}, \"width\": 1200},\n",
              "                        {\"responsive\": true}\n",
              "                    ).then(function(){\n",
              "                            \n",
              "var gd = document.getElementById('6e13fbc4-e42b-4b96-bfe3-8f5c5a136358');\n",
              "var x = new MutationObserver(function (mutations, observer) {{\n",
              "        var display = window.getComputedStyle(gd).display;\n",
              "        if (!display || display === 'none') {{\n",
              "            console.log([gd, 'removed!']);\n",
              "            Plotly.purge(gd);\n",
              "            observer.disconnect();\n",
              "        }}\n",
              "}});\n",
              "\n",
              "// Listen for the removal of the full notebook cells\n",
              "var notebookContainer = gd.closest('#notebook-container');\n",
              "if (notebookContainer) {{\n",
              "    x.observe(notebookContainer, {childList: true});\n",
              "}}\n",
              "\n",
              "// Listen for the clearing of the current output cell\n",
              "var outputEl = gd.closest('.output');\n",
              "if (outputEl) {{\n",
              "    x.observe(outputEl, {childList: true});\n",
              "}}\n",
              "\n",
              "                        })\n",
              "                };\n",
              "                \n",
              "            </script>\n",
              "        </div>\n",
              "</body>\n",
              "</html>"
            ]
          },
          "metadata": {}
        }
      ]
    },
    {
      "cell_type": "markdown",
      "metadata": {
        "id": "yI6wklL8sbos"
      },
      "source": [
        "The best model with the lowest MAPE was RNNs with 512 nodes. We trained the model to improve accuracy."
      ]
    },
    {
      "cell_type": "markdown",
      "metadata": {
        "id": "vc5YHb2g7fIF"
      },
      "source": [
        "## Training and Validation\n",
        "\n",
        "---\n",
        "\n",
        "After models were selected, using the training data set, we adjusted and trained the models to get the prediction with the lowest MAPE. We, then, used test samples for model validations and combined predicted values from both training and test sets together. This was only for illustration purpose.\n"
      ]
    },
    {
      "cell_type": "markdown",
      "metadata": {
        "id": "LX_viW2LFOgn"
      },
      "source": [
        "### Multivariate Confirmed Deaths"
      ]
    },
    {
      "cell_type": "code",
      "metadata": {
        "colab": {
          "base_uri": "https://localhost:8080/"
        },
        "id": "ETqGykawFR0f",
        "outputId": "d3ce0f91-5bf9-4c91-9a34-8d61af51d4d6"
      },
      "source": [
        "seed(1)\n",
        "tensorflow.random.set_seed(1)\n",
        "\n",
        "model_multi_d = Sequential()\n",
        "model_multi_d.add(SimpleRNN(512, activation = 'relu', input_shape=(X_d_p_tr.shape[1], X_d_p_tr.shape[2])))\n",
        "model_multi_d.add(Dense(1, activation = \"linear\"))\n",
        "model_multi_d.compile(loss='mse', optimizer='adam', metrics = \"MAPE\")\n",
        "\n",
        "# model_multi_d = Sequential()\n",
        "# model_multi_d.add(Conv1D(128, kernel_size = 5, activation = 'relu', input_shape=(X_d_p_tr.shape[1], X_d_p_tr.shape[2])))\n",
        "# model_multi_d.add(MaxPooling1D(3))\n",
        "# model_multi_d.add(Flatten())\n",
        "# # model_multi_d.add(Dense(4, activation = \"relu\"))\n",
        "# model_multi_d.add(Dense(1, activation = \"linear\"))\n",
        "# model_multi_d.compile(loss='mse', optimizer='adam', metrics = \"MAPE\")\n",
        "\n",
        "# fit network\n",
        "model_multi_d.fit(X_d_p_tr, y_d_p_tr, \n",
        "                           epochs=50, \n",
        "                           batch_size=1, \n",
        "                           verbose=0, \n",
        "                           shuffle=False)\n",
        "\n",
        "scores_multi_d1 = model_multi_d.evaluate(X_d_p_tr, y_d_p_tr, verbose=0)\n",
        "\n",
        "# MAPE\n",
        "print(\"MAPE: training = \",scores_multi_d1[1])\n",
        "\n",
        "scores_multi_d = model_multi_d.evaluate(X_d_p_ts, y_d_p_ts, verbose=0)\n",
        "\n",
        "# MAPE\n",
        "print(\"MAPE: test = \",scores_multi_d[1])"
      ],
      "execution_count": 8,
      "outputs": [
        {
          "output_type": "stream",
          "name": "stdout",
          "text": [
            "MAPE: training =  5.027554988861084\n",
            "MAPE: test =  8.023310661315918\n"
          ]
        }
      ]
    },
    {
      "cell_type": "code",
      "metadata": {
        "id": "NlPeIWWTFR7X"
      },
      "source": [
        "# make a prediction\n",
        "# training set\n",
        "y_multi_d_tr = pd.DataFrame(model_multi_d.predict(X_d_p_tr))\n",
        "\n",
        "# test set\n",
        "y_multi_d_ts = pd.DataFrame(model_multi_d.predict(X_d_p_ts))\n",
        "\n",
        "# combine training and test predictions\n",
        "y_multi_d_total = pd.concat([y_multi_d_tr, y_multi_d_ts], ignore_index=True)\n"
      ],
      "execution_count": 9,
      "outputs": []
    },
    {
      "cell_type": "code",
      "metadata": {
        "id": "AUJOWqqPSZjB"
      },
      "source": [
        "multi_de = \"RNNs\""
      ],
      "execution_count": 10,
      "outputs": []
    },
    {
      "cell_type": "markdown",
      "metadata": {
        "id": "hyai-GAA1pto"
      },
      "source": [
        "### Plots"
      ]
    },
    {
      "cell_type": "code",
      "metadata": {
        "colab": {
          "base_uri": "https://localhost:8080/",
          "height": 0
        },
        "id": "EyzgkqsZUst1",
        "outputId": "1264f2c3-c32d-40d9-fcac-1f8460a01798"
      },
      "source": [
        "\n",
        "death = pd.concat([y_multi_d_total,\n",
        "                   data.Deaths_daily.iloc[lag+2:lag+2+len(y_multi_d_total)].reset_index(drop = True), \n",
        "                   data.Date.iloc[lag+2:lag+2+len(y_multi_d_total)].reset_index(drop = True)],\n",
        "                  axis=1)\n",
        "death.columns = ['multi_d', 'actual', 'Date']\n",
        "tick_spacing = 5\n",
        "date_test = data['Date'][0+index+lag-1]\n",
        "\n",
        "\n",
        "ax = plt.axes()\n",
        "plt.plot(death['Date'],death['multi_d'], label = \"Predicted\")\n",
        "plt.plot(data['Date'],data['Deaths_daily'], label = \"Actual\")\n",
        "plt.legend(frameon=False, loc='upper center', ncol = 2, fontsize = 'x-large')\n",
        "plt.title(\"Deaths Prediction\", fontsize = 'xx-large')\n",
        "plt.tick_params('x',labelrotation=90)\n",
        "plt.axvline(date_test, color=\"gray\", linestyle=\"--\")\n",
        "plt.grid(True, which='both', alpha=0.3)\n"
      ],
      "execution_count": 11,
      "outputs": [
        {
          "output_type": "display_data",
          "data": {
            "image/png": "[encoded data removed]",
            "text/plain": [
              "<Figure size 432x288 with 1 Axes>"
            ]
          },
          "metadata": {
            "needs_background": "light"
          }
        }
      ]
    },
    {
      "cell_type": "markdown",
      "metadata": {
        "id": "mYcJN621o8A2"
      },
      "source": [
        "### Result Table"
      ]
    },
    {
      "cell_type": "code",
      "metadata": {
        "colab": {
          "base_uri": "https://localhost:8080/",
          "height": 0
        },
        "id": "fHC8w-KqZG7-",
        "outputId": "d1487c73-08cd-4ab0-85ba-24c1f839e8c0"
      },
      "source": [
        "fig = go.Figure(data=[go.Table(header=dict(values=['Model Type', 'Best Model', 'Training', 'Test'],\n",
        "                                           line_color = 'gray'),\n",
        "                               cells=dict(values=[['Multivariate: Confirmed Deaths'],\n",
        "                                                  [multi_de],\n",
        "                                    [round(scores_multi_d1[1],3)],\n",
        "                                    [round(scores_multi_d[1],3)]],\n",
        "                            align=['left','center', 'center', 'center'],\n",
        "                            fill_color = 'white',\n",
        "                            line_color = 'gray'))\n",
        "                     ])\n",
        "fig.update_layout(title = \"Mean Absolute Percentage Error\",title_x=0.5)\n",
        "fig.show()"
      ],
      "execution_count": 12,
      "outputs": [
        {
          "output_type": "display_data",
          "data": {
            "text/html": [
              "<html>\n",
              "<head><meta charset=\"utf-8\" /></head>\n",
              "<body>\n",
              "    <div>\n",
              "            <script src=\"https://cdnjs.cloudflare.com/ajax/libs/mathjax/2.7.5/MathJax.js?config=TeX-AMS-MML_SVG\"></script><script type=\"text/javascript\">if (window.MathJax) {MathJax.Hub.Config({SVG: {font: \"STIX-Web\"}});}</script>\n",
              "                <script type=\"text/javascript\">window.PlotlyConfig = {MathJaxConfig: 'local'};</script>\n",
              "        <script src=\"https://cdn.plot.ly/plotly-latest.min.js\"></script>    \n",
              "            <div id=\"4d0bc69f-2700-48a5-96f6-e2ca65749892\" class=\"plotly-graph-div\" style=\"height:525px; width:100%;\"></div>\n",
              "            <script type=\"text/javascript\">\n",
              "                \n",
              "                    window.PLOTLYENV=window.PLOTLYENV || {};\n",
              "                    \n",
              "                if (document.getElementById(\"4d0bc69f-2700-48a5-96f6-e2ca65749892\")) {\n",
              "                    Plotly.newPlot(\n",
              "                        '4d0bc69f-2700-48a5-96f6-e2ca65749892',\n",
              "                        [{\"cells\": {\"align\": [\"left\", \"center\", \"center\", \"center\"], \"fill\": {\"color\": \"white\"}, \"line\": {\"color\": \"gray\"}, \"values\": [[\"Multivariate: Confirmed Deaths\"], [\"RNNs\"], [5.028], [8.023]]}, \"header\": {\"line\": {\"color\": \"gray\"}, \"values\": [\"Model Type\", \"Best Model\", \"Training\", \"Test\"]}, \"type\": \"table\"}],\n",
              "                        {\"template\": {\"data\": {\"bar\": [{\"error_x\": {\"color\": \"#2a3f5f\"}, \"error_y\": {\"color\": \"#2a3f5f\"}, \"marker\": {\"line\": {\"color\": \"#E5ECF6\", \"width\": 0.5}}, \"type\": \"bar\"}], \"barpolar\": [{\"marker\": {\"line\": {\"color\": \"#E5ECF6\", \"width\": 0.5}}, \"type\": \"barpolar\"}], \"carpet\": [{\"aaxis\": {\"endlinecolor\": \"#2a3f5f\", \"gridcolor\": \"white\", \"linecolor\": \"white\", \"minorgridcolor\": \"white\", \"startlinecolor\": \"#2a3f5f\"}, \"baxis\": {\"endlinecolor\": \"#2a3f5f\", \"gridcolor\": \"white\", \"linecolor\": \"white\", \"minorgridcolor\": \"white\", \"startlinecolor\": \"#2a3f5f\"}, \"type\": \"carpet\"}], \"choropleth\": [{\"colorbar\": {\"outlinewidth\": 0, \"ticks\": \"\"}, \"type\": \"choropleth\"}], \"contour\": [{\"colorbar\": {\"outlinewidth\": 0, \"ticks\": \"\"}, \"colorscale\": [[0.0, \"#0d0887\"], [0.1111111111111111, \"#46039f\"], [0.2222222222222222, \"#7201a8\"], [0.3333333333333333, \"#9c179e\"], [0.4444444444444444, \"#bd3786\"], [0.5555555555555556, \"#d8576b\"], [0.6666666666666666, \"#ed7953\"], [0.7777777777777778, \"#fb9f3a\"], [0.8888888888888888, \"#fdca26\"], [1.0, \"#f0f921\"]], \"type\": \"contour\"}], \"contourcarpet\": [{\"colorbar\": {\"outlinewidth\": 0, \"ticks\": \"\"}, \"type\": \"contourcarpet\"}], \"heatmap\": [{\"colorbar\": {\"outlinewidth\": 0, \"ticks\": \"\"}, \"colorscale\": [[0.0, \"#0d0887\"], [0.1111111111111111, \"#46039f\"], [0.2222222222222222, \"#7201a8\"], [0.3333333333333333, \"#9c179e\"], [0.4444444444444444, \"#bd3786\"], [0.5555555555555556, \"#d8576b\"], [0.6666666666666666, \"#ed7953\"], [0.7777777777777778, \"#fb9f3a\"], [0.8888888888888888, \"#fdca26\"], [1.0, \"#f0f921\"]], \"type\": \"heatmap\"}], \"heatmapgl\": [{\"colorbar\": {\"outlinewidth\": 0, \"ticks\": \"\"}, \"colorscale\": [[0.0, \"#0d0887\"], [0.1111111111111111, \"#46039f\"], [0.2222222222222222, \"#7201a8\"], [0.3333333333333333, \"#9c179e\"], [0.4444444444444444, \"#bd3786\"], [0.5555555555555556, \"#d8576b\"], [0.6666666666666666, \"#ed7953\"], [0.7777777777777778, \"#fb9f3a\"], [0.8888888888888888, \"#fdca26\"], [1.0, \"#f0f921\"]], \"type\": \"heatmapgl\"}], \"histogram\": [{\"marker\": {\"colorbar\": {\"outlinewidth\": 0, \"ticks\": \"\"}}, \"type\": \"histogram\"}], \"histogram2d\": [{\"colorbar\": {\"outlinewidth\": 0, \"ticks\": \"\"}, \"colorscale\": [[0.0, \"#0d0887\"], [0.1111111111111111, \"#46039f\"], [0.2222222222222222, \"#7201a8\"], [0.3333333333333333, \"#9c179e\"], [0.4444444444444444, \"#bd3786\"], [0.5555555555555556, \"#d8576b\"], [0.6666666666666666, \"#ed7953\"], [0.7777777777777778, \"#fb9f3a\"], [0.8888888888888888, \"#fdca26\"], [1.0, \"#f0f921\"]], \"type\": \"histogram2d\"}], \"histogram2dcontour\": [{\"colorbar\": {\"outlinewidth\": 0, \"ticks\": \"\"}, \"colorscale\": [[0.0, \"#0d0887\"], [0.1111111111111111, \"#46039f\"], [0.2222222222222222, \"#7201a8\"], [0.3333333333333333, \"#9c179e\"], [0.4444444444444444, \"#bd3786\"], [0.5555555555555556, \"#d8576b\"], [0.6666666666666666, \"#ed7953\"], [0.7777777777777778, \"#fb9f3a\"], [0.8888888888888888, \"#fdca26\"], [1.0, \"#f0f921\"]], \"type\": \"histogram2dcontour\"}], \"mesh3d\": [{\"colorbar\": {\"outlinewidth\": 0, \"ticks\": \"\"}, \"type\": \"mesh3d\"}], \"parcoords\": [{\"line\": {\"colorbar\": {\"outlinewidth\": 0, \"ticks\": \"\"}}, \"type\": \"parcoords\"}], \"pie\": [{\"automargin\": true, \"type\": \"pie\"}], \"scatter\": [{\"marker\": {\"colorbar\": {\"outlinewidth\": 0, \"ticks\": \"\"}}, \"type\": \"scatter\"}], \"scatter3d\": [{\"line\": {\"colorbar\": {\"outlinewidth\": 0, \"ticks\": \"\"}}, \"marker\": {\"colorbar\": {\"outlinewidth\": 0, \"ticks\": \"\"}}, \"type\": \"scatter3d\"}], \"scattercarpet\": [{\"marker\": {\"colorbar\": {\"outlinewidth\": 0, \"ticks\": \"\"}}, \"type\": \"scattercarpet\"}], \"scattergeo\": [{\"marker\": {\"colorbar\": {\"outlinewidth\": 0, \"ticks\": \"\"}}, \"type\": \"scattergeo\"}], \"scattergl\": [{\"marker\": {\"colorbar\": {\"outlinewidth\": 0, \"ticks\": \"\"}}, \"type\": \"scattergl\"}], \"scattermapbox\": [{\"marker\": {\"colorbar\": {\"outlinewidth\": 0, \"ticks\": \"\"}}, \"type\": \"scattermapbox\"}], \"scatterpolar\": [{\"marker\": {\"colorbar\": {\"outlinewidth\": 0, \"ticks\": \"\"}}, \"type\": \"scatterpolar\"}], \"scatterpolargl\": [{\"marker\": {\"colorbar\": {\"outlinewidth\": 0, \"ticks\": \"\"}}, \"type\": \"scatterpolargl\"}], \"scatterternary\": [{\"marker\": {\"colorbar\": {\"outlinewidth\": 0, \"ticks\": \"\"}}, \"type\": \"scatterternary\"}], \"surface\": [{\"colorbar\": {\"outlinewidth\": 0, \"ticks\": \"\"}, \"colorscale\": [[0.0, \"#0d0887\"], [0.1111111111111111, \"#46039f\"], [0.2222222222222222, \"#7201a8\"], [0.3333333333333333, \"#9c179e\"], [0.4444444444444444, \"#bd3786\"], [0.5555555555555556, \"#d8576b\"], [0.6666666666666666, \"#ed7953\"], [0.7777777777777778, \"#fb9f3a\"], [0.8888888888888888, \"#fdca26\"], [1.0, \"#f0f921\"]], \"type\": \"surface\"}], \"table\": [{\"cells\": {\"fill\": {\"color\": \"#EBF0F8\"}, \"line\": {\"color\": \"white\"}}, \"header\": {\"fill\": {\"color\": \"#C8D4E3\"}, \"line\": {\"color\": \"white\"}}, \"type\": \"table\"}]}, \"layout\": {\"annotationdefaults\": {\"arrowcolor\": \"#2a3f5f\", \"arrowhead\": 0, \"arrowwidth\": 1}, \"coloraxis\": {\"colorbar\": {\"outlinewidth\": 0, \"ticks\": \"\"}}, \"colorscale\": {\"diverging\": [[0, \"#8e0152\"], [0.1, \"#c51b7d\"], [0.2, \"#de77ae\"], [0.3, \"#f1b6da\"], [0.4, \"#fde0ef\"], [0.5, \"#f7f7f7\"], [0.6, \"#e6f5d0\"], [0.7, \"#b8e186\"], [0.8, \"#7fbc41\"], [0.9, \"#4d9221\"], [1, \"#276419\"]], \"sequential\": [[0.0, \"#0d0887\"], [0.1111111111111111, \"#46039f\"], [0.2222222222222222, \"#7201a8\"], [0.3333333333333333, \"#9c179e\"], [0.4444444444444444, \"#bd3786\"], [0.5555555555555556, \"#d8576b\"], [0.6666666666666666, \"#ed7953\"], [0.7777777777777778, \"#fb9f3a\"], [0.8888888888888888, \"#fdca26\"], [1.0, \"#f0f921\"]], \"sequentialminus\": [[0.0, \"#0d0887\"], [0.1111111111111111, \"#46039f\"], [0.2222222222222222, \"#7201a8\"], [0.3333333333333333, \"#9c179e\"], [0.4444444444444444, \"#bd3786\"], [0.5555555555555556, \"#d8576b\"], [0.6666666666666666, \"#ed7953\"], [0.7777777777777778, \"#fb9f3a\"], [0.8888888888888888, \"#fdca26\"], [1.0, \"#f0f921\"]]}, \"colorway\": [\"#636efa\", \"#EF553B\", \"#00cc96\", \"#ab63fa\", \"#FFA15A\", \"#19d3f3\", \"#FF6692\", \"#B6E880\", \"#FF97FF\", \"#FECB52\"], \"font\": {\"color\": \"#2a3f5f\"}, \"geo\": {\"bgcolor\": \"white\", \"lakecolor\": \"white\", \"landcolor\": \"#E5ECF6\", \"showlakes\": true, \"showland\": true, \"subunitcolor\": \"white\"}, \"hoverlabel\": {\"align\": \"left\"}, \"hovermode\": \"closest\", \"mapbox\": {\"style\": \"light\"}, \"paper_bgcolor\": \"white\", \"plot_bgcolor\": \"#E5ECF6\", \"polar\": {\"angularaxis\": {\"gridcolor\": \"white\", \"linecolor\": \"white\", \"ticks\": \"\"}, \"bgcolor\": \"#E5ECF6\", \"radialaxis\": {\"gridcolor\": \"white\", \"linecolor\": \"white\", \"ticks\": \"\"}}, \"scene\": {\"xaxis\": {\"backgroundcolor\": \"#E5ECF6\", \"gridcolor\": \"white\", \"gridwidth\": 2, \"linecolor\": \"white\", \"showbackground\": true, \"ticks\": \"\", \"zerolinecolor\": \"white\"}, \"yaxis\": {\"backgroundcolor\": \"#E5ECF6\", \"gridcolor\": \"white\", \"gridwidth\": 2, \"linecolor\": \"white\", \"showbackground\": true, \"ticks\": \"\", \"zerolinecolor\": \"white\"}, \"zaxis\": {\"backgroundcolor\": \"#E5ECF6\", \"gridcolor\": \"white\", \"gridwidth\": 2, \"linecolor\": \"white\", \"showbackground\": true, \"ticks\": \"\", \"zerolinecolor\": \"white\"}}, \"shapedefaults\": {\"line\": {\"color\": \"#2a3f5f\"}}, \"ternary\": {\"aaxis\": {\"gridcolor\": \"white\", \"linecolor\": \"white\", \"ticks\": \"\"}, \"baxis\": {\"gridcolor\": \"white\", \"linecolor\": \"white\", \"ticks\": \"\"}, \"bgcolor\": \"#E5ECF6\", \"caxis\": {\"gridcolor\": \"white\", \"linecolor\": \"white\", \"ticks\": \"\"}}, \"title\": {\"x\": 0.05}, \"xaxis\": {\"automargin\": true, \"gridcolor\": \"white\", \"linecolor\": \"white\", \"ticks\": \"\", \"title\": {\"standoff\": 15}, \"zerolinecolor\": \"white\", \"zerolinewidth\": 2}, \"yaxis\": {\"automargin\": true, \"gridcolor\": \"white\", \"linecolor\": \"white\", \"ticks\": \"\", \"title\": {\"standoff\": 15}, \"zerolinecolor\": \"white\", \"zerolinewidth\": 2}}}, \"title\": {\"text\": \"Mean Absolute Percentage Error\", \"x\": 0.5}},\n",
              "                        {\"responsive\": true}\n",
              "                    ).then(function(){\n",
              "                            \n",
              "var gd = document.getElementById('4d0bc69f-2700-48a5-96f6-e2ca65749892');\n",
              "var x = new MutationObserver(function (mutations, observer) {{\n",
              "        var display = window.getComputedStyle(gd).display;\n",
              "        if (!display || display === 'none') {{\n",
              "            console.log([gd, 'removed!']);\n",
              "            Plotly.purge(gd);\n",
              "            observer.disconnect();\n",
              "        }}\n",
              "}});\n",
              "\n",
              "// Listen for the removal of the full notebook cells\n",
              "var notebookContainer = gd.closest('#notebook-container');\n",
              "if (notebookContainer) {{\n",
              "    x.observe(notebookContainer, {childList: true});\n",
              "}}\n",
              "\n",
              "// Listen for the clearing of the current output cell\n",
              "var outputEl = gd.closest('.output');\n",
              "if (outputEl) {{\n",
              "    x.observe(outputEl, {childList: true});\n",
              "}}\n",
              "\n",
              "                        })\n",
              "                };\n",
              "                \n",
              "            </script>\n",
              "        </div>\n",
              "</body>\n",
              "</html>"
            ]
          },
          "metadata": {}
        }
      ]
    },
    {
      "cell_type": "markdown",
      "metadata": {
        "id": "PJHJnsmuPsQT"
      },
      "source": [
        "Overall, model's predictions followed the actual trend of Covid-19 confirmed deaths. Next, we used predicted predictors as an input to forecast the next 14 days' daily deaths."
      ]
    },
    {
      "cell_type": "markdown",
      "metadata": {
        "id": "A3e1k3G6ADwq"
      },
      "source": [
        "## Future Predictions\n",
        "\n",
        "---\n",
        "Using deep neural network, we predicted future resident percent change from baseline from its previous data. We, then used this information, together with the death data to predict future death cases. See https://github.com/Tanainan/Covid-19Thailand/blob/main/Predicting_Google_mobility.ipynb for Google's resident prediction detail. \n"
      ]
    },
    {
      "cell_type": "code",
      "metadata": {
        "colab": {
          "base_uri": "https://localhost:8080/"
        },
        "id": "OGSzHCk9ZXWD",
        "outputId": "2ceb9efb-0fa6-44bf-b99e-7bfa2f5947b0"
      },
      "source": [
        "# Multivariate\n",
        "def future_prediction_multi(input, model, days_predicted, total_prediction):\n",
        "  all_prediction = pd.DataFrame(total_prediction)\n",
        "\n",
        "  # use the last 14 days from actual data\n",
        "  all_input = input[-14:]\n",
        "\n",
        "  for i in range(1,days_predicted + 1):\n",
        "    # create a matrix of input with 14 previous days for all features\n",
        "    new_input = np.expand_dims(all_input[-14:], axis = 0) \n",
        "\n",
        "    # set seed\n",
        "    seed(1)\n",
        "    tensorflow.random.set_seed(1)\n",
        "\n",
        "    # make the next day prediction\n",
        "    last_output = pd.DataFrame(model.predict(new_input))\n",
        "\n",
        "    # record the prediction\n",
        "    all_prediction = pd.concat([all_prediction, pd.DataFrame(last_output)], ignore_index=True)\n",
        "\n",
        "\n",
        "    # use resident to predict future resident using trained model\n",
        "    new_predictor = pd.DataFrame(model_mob_resident.predict(np.array(all_input.iloc[-lag:, 1:]).reshape(1,lag,1)))\n",
        "\n",
        "    # new row\n",
        "    new_row = [last_output[0], new_predictor]\n",
        "    new_row = list(itertools.chain(*new_row))\n",
        "\n",
        "    # feed the new row back to data frame as new input\n",
        "    all_input.loc[len(all_input)] = new_row\n",
        "  return all_prediction\n",
        "\n",
        "\n",
        "# train model for resident\n",
        "seed(1)\n",
        "tensorflow.random.set_seed(1)\n",
        "model_mob_resident = Sequential()\n",
        "model_mob_resident.add(SimpleRNN(128, activation='relu', input_shape=(X_tr_resident.shape[1], X_tr_resident.shape[2])))\n",
        "model_mob_resident.add(Dense(1, activation = \"linear\"))\n",
        "model_mob_resident.compile(loss='mse', optimizer='adam', metrics = \"MAPE\")\n",
        "\n",
        "# fit network\n",
        "model_mob_resident.fit(X_tr_resident, y_tr_resident, \n",
        "                           epochs=50, \n",
        "                           batch_size=1, \n",
        "                           verbose=0, \n",
        "                           shuffle=False)\n"
      ],
      "execution_count": 13,
      "outputs": [
        {
          "output_type": "execute_result",
          "data": {
            "text/plain": [
              "<keras.callbacks.History at 0x7fe57f62ea90>"
            ]
          },
          "metadata": {},
          "execution_count": 13
        }
      ]
    },
    {
      "cell_type": "code",
      "metadata": {
        "colab": {
          "base_uri": "https://localhost:8080/"
        },
        "id": "7QTBeaH8eXZh",
        "outputId": "46a7eed7-6c8e-4294-da61-da2ebc16f128"
      },
      "source": [
        "\n",
        "# multivariate confirmed deaths\n",
        "multi_d_pred = future_prediction_multi(data_d, model_multi_d, days_predicted, y_multi_d_total)\n"
      ],
      "execution_count": 14,
      "outputs": [
        {
          "output_type": "stream",
          "name": "stderr",
          "text": [
            "/usr/local/lib/python3.7/dist-packages/pandas/core/indexing.py:670: SettingWithCopyWarning:\n",
            "\n",
            "\n",
            "A value is trying to be set on a copy of a slice from a DataFrame\n",
            "\n",
            "See the caveats in the documentation: https://pandas.pydata.org/pandas-docs/stable/user_guide/indexing.html#returning-a-view-versus-a-copy\n",
            "\n"
          ]
        }
      ]
    },
    {
      "cell_type": "markdown",
      "metadata": {
        "id": "Spgb1Mqcoj3N"
      },
      "source": [
        "### Plots"
      ]
    },
    {
      "cell_type": "code",
      "metadata": {
        "colab": {
          "base_uri": "https://localhost:8080/",
          "height": 754
        },
        "id": "iGH4saqYm13w",
        "outputId": "1ea37774-2771-41ea-c68f-844c09fb5d94"
      },
      "source": [
        "\n",
        "pred = pd.concat([multi_d_pred],\n",
        "                 axis=1)\n",
        "pred.columns = ['multi_d']\n",
        "\n",
        "start_date = death.Date[0]\n",
        "\n",
        "# extract actual data\n",
        "act = data[(data['Date'] >= start_date)].reset_index(drop = True)\n",
        "act = act[0:len(pred)]\n",
        "\n",
        "\n",
        "pred = pd.concat([pred, act], axis = 1)\n",
        "\n",
        "date_test = pred['Date'][0+index]\n",
        "date_predict = pred['Date'][len(death)]\n",
        "tick_spacing = 5\n",
        "\n",
        "fig, axes = plt.subplots(figsize=(20,10)) \n",
        "fig.suptitle(\"Covid-19 Future Prediction in Thailand\", fontsize=20)\n",
        "\n",
        "\n",
        "# Multivariate confirmed deaths\n",
        "axes.plot(pred['Date'],pred['multi_d'], label = multi_de)\n",
        "axes.plot(pred['Date'], pred['Deaths_daily'], label = \"Actual\")\n",
        "axes.legend(frameon=False, loc='upper center', ncol = 2, fontsize = 'x-large')\n",
        "axes.set_title(\"Multivariate: Confirmed Deaths\", fontsize = 'xx-large')\n",
        "axes.tick_params('x',labelrotation=90)\n",
        "axes.axvline(date_test, color=\"gray\", linestyle=\"--\")\n",
        "axes.axvline(date_predict, color=\"gray\", linestyle=\"--\")\n",
        "axes.xaxis.set_major_locator(ticker.MultipleLocator(tick_spacing))\n",
        "axes.set_xticks(pred['Date'], minor=True)\n",
        "axes.xaxis.grid(True, which='both', alpha=0.3)\n",
        "\n",
        "fig.text(0.5, -0.02, 'Date', ha='center', fontsize=15)\n",
        "fig.text(-0.02, 0.5, 'Cases', va='center', rotation='vertical', fontsize=15)\n",
        "fig.tight_layout(pad=3.0)\n",
        "fig.subplots_adjust(top=0.9)\n",
        "plt.show()"
      ],
      "execution_count": 15,
      "outputs": [
        {
          "output_type": "display_data",
          "data": {
            "image/png": "[encoded data removed]",
            "text/plain": [
              "<Figure size 1440x720 with 1 Axes>"
            ]
          },
          "metadata": {
            "needs_background": "light"
          }
        }
      ]
    },
    {
      "cell_type": "markdown",
      "metadata": {
        "id": "XhaeFl3BbrNk"
      },
      "source": [
        "On average, our model was able to predict the trend of Covid-19 death cases. This may imply that residential rate could predict death trend from Covid-19."
      ]
    },
    {
      "cell_type": "code",
      "metadata": {
        "id": "Xa86nWrI8zWz"
      },
      "source": [
        ""
      ],
      "execution_count": 15,
      "outputs": []
    },
    {
      "cell_type": "code",
      "metadata": {
        "id": "QrcfVV13Yx2f"
      },
      "source": [
        ""
      ],
      "execution_count": 15,
      "outputs": []
    }
  ]
}