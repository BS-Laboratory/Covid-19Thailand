{
  "nbformat": 4,
  "nbformat_minor": 0,
  "metadata": {
    "colab": {
      "name": "Predicting Cases - JHU no grocery, workplace",
      "provenance": [],
      "toc_visible": true,
      "authorship_tag": "ABX9TyPad3LwMAH4AL9iiYxiClpA",
      "include_colab_link": true
    },
    "kernelspec": {
      "name": "python3",
      "display_name": "Python 3"
    },
    "language_info": {
      "name": "python"
    }
  },
  "cells": [
    {
      "cell_type": "markdown",
      "metadata": {
        "id": "view-in-github",
        "colab_type": "text"
      },
      "source": [
        "<a href=\"https://colab.research.google.com/github/Tanainan/Covid-19Thailand/blob/main/Predicting_Cases_JHU_no_grocery%2C_workplace.ipynb\" target=\"_parent\"><img src=\"https://colab.research.google.com/assets/colab-badge.svg\" alt=\"Open In Colab\"/></a>"
      ]
    },
    {
      "cell_type": "markdown",
      "metadata": {
        "id": "nql6C-sLih4Q"
      },
      "source": [
        "# Import"
      ]
    },
    {
      "cell_type": "code",
      "metadata": {
        "colab": {
          "base_uri": "https://localhost:8080/"
        },
        "id": "7wkBPHU6VW_u",
        "outputId": "f0ba58a6-2cf7-4cb7-f044-9765e6e61396"
      },
      "source": [
        "!pip install -U tensorflow-addons\n",
        "from numpy import array\n",
        "from numpy import hstack\n",
        "from keras.models import Sequential\n",
        "from keras.layers import LSTM\n",
        "from keras.layers import Dense, Dropout, Activation\n",
        "from keras.layers import GRU\n",
        "from keras.layers import SimpleRNN\n",
        "from keras.layers import TimeDistributed\n",
        "from keras.layers import Bidirectional\n",
        "from keras.layers.convolutional import Conv1D\n",
        "from keras.layers.convolutional import MaxPooling1D\n",
        "from tensorflow_addons.layers import InstanceNormalization, GroupNormalization\n",
        "from keras.layers import LayerNormalization\n",
        "from keras.layers import Flatten\n",
        "from pandas import read_csv\n",
        "from pandas import DataFrame\n",
        "from pandas import concat\n",
        "import pandas as pd\n",
        "import numpy as np\n",
        "from statistics import stdev\n",
        "from statistics import mean\n",
        "from matplotlib import pyplot\n",
        "from numpy.random import seed\n",
        "import tensorflow\n",
        "from matplotlib import pyplot as plt\n",
        "import datetime as dt\n",
        "import matplotlib.ticker as ticker\n",
        "import plotly.graph_objects as go\n",
        "from statsmodels.graphics.factorplots import interaction_plot\n",
        "np.set_printoptions(threshold=np.inf)\n",
        "pd.set_option('display.max_rows', None)\n",
        "import itertools\n",
        "!pip install -U scikit-learn\n",
        "from sklearn.metrics import mean_absolute_percentage_error\n",
        "from tensorflow.keras.utils import to_categorical\n",
        "import random\n",
        "\n"
      ],
      "execution_count": 1,
      "outputs": [
        {
          "output_type": "stream",
          "name": "stdout",
          "text": [
            "Collecting tensorflow-addons\n",
            "  Downloading tensorflow_addons-0.15.0-cp37-cp37m-manylinux_2_12_x86_64.manylinux2010_x86_64.whl (1.1 MB)\n",
            "\u001b[K     |████████████████████████████████| 1.1 MB 5.1 MB/s \n",
            "\u001b[?25hRequirement already satisfied: typeguard>=2.7 in /usr/local/lib/python3.7/dist-packages (from tensorflow-addons) (2.7.1)\n",
            "Installing collected packages: tensorflow-addons\n",
            "Successfully installed tensorflow-addons-0.15.0\n"
          ]
        },
        {
          "output_type": "stream",
          "name": "stderr",
          "text": [
            "/usr/local/lib/python3.7/dist-packages/statsmodels/tools/_testing.py:19: FutureWarning:\n",
            "\n",
            "pandas.util.testing is deprecated. Use the functions in the public API at pandas.testing instead.\n",
            "\n"
          ]
        },
        {
          "output_type": "stream",
          "name": "stdout",
          "text": [
            "Requirement already satisfied: scikit-learn in /usr/local/lib/python3.7/dist-packages (1.0.1)\n",
            "Requirement already satisfied: numpy>=1.14.6 in /usr/local/lib/python3.7/dist-packages (from scikit-learn) (1.19.5)\n",
            "Requirement already satisfied: threadpoolctl>=2.0.0 in /usr/local/lib/python3.7/dist-packages (from scikit-learn) (3.0.0)\n",
            "Requirement already satisfied: scipy>=1.1.0 in /usr/local/lib/python3.7/dist-packages (from scikit-learn) (1.4.1)\n",
            "Requirement already satisfied: joblib>=0.11 in /usr/local/lib/python3.7/dist-packages (from scikit-learn) (1.1.0)\n"
          ]
        }
      ]
    },
    {
      "cell_type": "code",
      "metadata": {
        "id": "0Gi4CXOSs_bU"
      },
      "source": [
        "data = read_csv(\"https://raw.githubusercontent.com/owid/covid-19-data/master/public/data/jhu/new_cases.csv\")\n",
        "\n",
        "data = pd.DataFrame(data)\n",
        "\n",
        "# select columns\n",
        "data = data[[\"date\", \"Thailand\"]]\n",
        "\n",
        "# change column name\n",
        "data = data.rename(columns = {'date':'Date', 'Thailand':'Cases_daily'})\n",
        "\n",
        "# # change date format\n",
        "data.Date =  pd.to_datetime(data[\"Date\"])\n",
        "\n",
        "# replace NaN with 0 for ConfirmedCases and ConfirmedDeaths\n",
        "data[[\"Cases_daily\"]] = data[[\"Cases_daily\"]].replace(np.nan, 0)\n",
        "\n",
        "# start from 15/6/2021\n",
        "data = data[data.loc[data['Date'] == \"2021-06-15\"].index[0]:]\n",
        "\n",
        "# # reset index\n",
        "data = data.reset_index(drop = True)\n"
      ],
      "execution_count": 2,
      "outputs": []
    },
    {
      "cell_type": "code",
      "metadata": {
        "colab": {
          "base_uri": "https://localhost:8080/"
        },
        "id": "ypeAPm23VfB0",
        "outputId": "c395f887-00f9-4d44-ce27-23e4f8da9981"
      },
      "source": [
        "mob = read_csv(\"https://www.gstatic.com/covid19/mobility/Global_Mobility_Report.csv\")\n",
        "\n",
        "mob = pd.DataFrame(mob)\n",
        "\n",
        "# select only Thailand\n",
        "mob = mob.loc[mob['country_region'] == \"Thailand\"]\n",
        "\n",
        "# select columns\n",
        "mob = mob[[\"date\",\n",
        "              \"retail_and_recreation_percent_change_from_baseline\",\n",
        "              \"parks_percent_change_from_baseline\",\n",
        "              \"transit_stations_percent_change_from_baseline\",\n",
        "              \"residential_percent_change_from_baseline\"]]\n",
        "\n",
        "# change date format\n",
        "mob.date =  pd.to_datetime(mob[\"date\"])\n",
        "\n",
        "# change column name\n",
        "mob = mob.rename(columns = {'date':'Date',\n",
        "                            \"retail_and_recreation_percent_change_from_baseline\":'retail',\n",
        "                            \"parks_percent_change_from_baseline\":'parks',\n",
        "                            \"transit_stations_percent_change_from_baseline\":\"transit\",\n",
        "                            \"residential_percent_change_from_baseline\":\"resident\"})\n",
        "\n",
        "# reset index\n",
        "mob = mob.reset_index(drop = True)\n",
        "\n",
        "# start from 15/6/2021\n",
        "mob = mob[mob.loc[mob['Date'] == \"2021-06-15\"].index[0]:]\n",
        "\n",
        "# reset index\n",
        "mob = mob.reset_index(drop = True)\n",
        "\n",
        "# omit Date column\n",
        "mob = mob.drop([\"Date\"], axis = 1)"
      ],
      "execution_count": 7,
      "outputs": [
        {
          "output_type": "stream",
          "name": "stderr",
          "text": [
            "/usr/local/lib/python3.7/dist-packages/IPython/core/interactiveshell.py:2718: DtypeWarning:\n",
            "\n",
            "Columns (3,4,5) have mixed types.Specify dtype option on import or set low_memory=False.\n",
            "\n"
          ]
        }
      ]
    },
    {
      "cell_type": "code",
      "metadata": {
        "colab": {
          "base_uri": "https://localhost:8080/"
        },
        "id": "zSp2BWwkkDGZ",
        "outputId": "7ee95466-03e8-489a-dd3c-07cdfec95b18"
      },
      "source": [
        "apple = read_csv(\"https://raw.githubusercontent.com/ActiveConclusion/COVID19_mobility/master/apple_reports/applemobilitytrends.csv\")\n",
        "\n",
        "apple = pd.DataFrame(apple)\n",
        "\n",
        "apple = apple.loc[apple['region'] == \"Thailand\"]\n",
        "\n",
        "apple = apple.T\n",
        "\n",
        "# select rows\n",
        "apple = apple.drop(apple.index[[0,1,2,3,4,5]], axis= 0)\n",
        "\n",
        "apple[\"Date\"] = pd.to_datetime(apple.index)\n",
        "\n",
        "# change column names\n",
        "apple = apple.rename(columns= {135:\"Driving\", 136:\"Walking\"})\n",
        "\n",
        "apple['Driving'] = apple['Driving'].astype(float, errors = 'raise')\n",
        "apple['Walking'] = apple['Walking'].astype(float, errors = 'raise')\n",
        "\n",
        "# start from 15/6/2021\n",
        "apple = apple[apple.loc[apple['Date'] == \"2021-06-15\"].index[0]:]\n",
        "\n",
        "apple = apple.reset_index(drop=True)\n",
        "\n",
        "# omit Date column\n",
        "apple0 = apple.drop([\"Date\", \"Walking\"], axis = 1)"
      ],
      "execution_count": 8,
      "outputs": [
        {
          "output_type": "stream",
          "name": "stderr",
          "text": [
            "/usr/local/lib/python3.7/dist-packages/IPython/core/interactiveshell.py:2718: DtypeWarning:\n",
            "\n",
            "Columns (3,4) have mixed types.Specify dtype option on import or set low_memory=False.\n",
            "\n"
          ]
        }
      ]
    },
    {
      "cell_type": "code",
      "metadata": {
        "id": "wCuFtjqMkWbW"
      },
      "source": [
        "# whichever has fewer data\n",
        "length = min(len(data), len(mob), len(apple0))\n",
        "\n",
        "# Deaths daily\n",
        "data_i = pd.concat([data.Cases_daily[:length], \n",
        "                    data.Date[:length],\n",
        "                    apple0[:length],\n",
        "                    mob[:length]], axis = 1)\n",
        "\n",
        "data_i = data_i.rename(columns = {\"Cases_daily\":\"data_i\"})\n",
        "# data_i = data_i[data_i.loc[data_i['Date'] == \"2021-06-15\"].index[0]:]\n",
        "\n",
        "# drop date column\n",
        "data_i = data_i.drop([\"Date\"], axis = 1)"
      ],
      "execution_count": 9,
      "outputs": []
    },
    {
      "cell_type": "code",
      "metadata": {
        "colab": {
          "base_uri": "https://localhost:8080/"
        },
        "id": "baqSI-cT6srS",
        "outputId": "7bb86a1d-100f-4cef-cd2a-cb2454e2f8ad"
      },
      "source": [
        "case = read_csv(\"https://raw.githubusercontent.com/OxCGRT/covid-policy-tracker/d98db2da901d5707dc3225ee163903005e7645f3/data/OxCGRT_latest.csv\")\n",
        "\n",
        "case = pd.DataFrame(case)\n",
        "\n",
        "# select Thailand only\n",
        "case = case.loc[case['CountryName'] == \"Thailand\"]\n",
        "\n",
        "case = case[[\"Date\", \"ConfirmedCases\"]]\n",
        "\n",
        "# change date format\n",
        "case.Date =  pd.to_datetime(case[\"Date\"], format='%Y%m%d')\n",
        "\n",
        "# reset index\n",
        "case = case.reset_index(drop = True)\n",
        "\n",
        "# replace NaN with 0 for ConfirmedCases\n",
        "case[[\"ConfirmedCases\"]] = case[[\"ConfirmedCases\"]].replace(np.nan, 0)\n",
        "\n",
        "# add daily cases columns\n",
        "case[[\"Cases_daily\"]] = case['ConfirmedCases'].rolling(window=2).apply(lambda x: x.iloc[1] - x.iloc[0])\n",
        "\n",
        "# replace NaN with 0 for ConfirmedCases and Cases_daily\n",
        "case[[\"Cases_daily\"]] = case[[\"Cases_daily\"]].replace(np.nan, 0)\n",
        "\n",
        "# start from 15/6/2021\n",
        "case = case[case.loc[case['Date'] == \"2021-06-15\"].index[0]:]\n",
        "\n",
        "# reset index\n",
        "case = case.reset_index(drop = True)\n",
        "\n",
        "# remove the last rows with incomplete info\n",
        "case = case.loc[~(case[[\"ConfirmedCases\"]]==0).all(axis=1)]\n",
        "\n",
        "actual = case[case.loc[case['Date'] == \"2021-06-15\"].index[0]:]\n"
      ],
      "execution_count": 10,
      "outputs": [
        {
          "output_type": "stream",
          "name": "stderr",
          "text": [
            "/usr/local/lib/python3.7/dist-packages/IPython/core/interactiveshell.py:2718: DtypeWarning:\n",
            "\n",
            "Columns (2,3) have mixed types.Specify dtype option on import or set low_memory=False.\n",
            "\n"
          ]
        }
      ]
    },
    {
      "cell_type": "code",
      "metadata": {
        "id": "yLHeWiiPXRCO"
      },
      "source": [
        "# use the previous 14 days to predict the next day\n",
        "lag = 14\n",
        "prediction = 1\n",
        "window = 3 # for moving average\n",
        "index = 30\n",
        "days_predicted = 20\n",
        "\n",
        "data_i['data_i'] = data_i.data_i.rolling(window).mean()\n",
        "\n",
        "data_i.dropna(subset = [\"data_i\"], inplace=True) # remove the first 2 rows\n",
        "\n",
        "data_i = data_i.reset_index(drop = True)\n",
        "\n",
        "# confirmed deaths\n",
        "nrow_total = data_i.shape[0] - lag - prediction + 1\n",
        "input_list = [np.expand_dims(data_i[i:lag+i], axis=0) for i in range(nrow_total)] \n",
        "X_i_p = np.concatenate(input_list, axis=0)\n",
        "\n",
        "y_i_p = np.array([data_i.data_i[lag:data_i.shape[0]]])\n",
        "y_i_p = y_i_p.T # transpose the matrix\n",
        "\n",
        "\n",
        "# split into training and test sets\n",
        "X_i_p_tr = X_i_p[0:index+1, :, :]\n",
        "X_i_p_ts = X_i_p[index+1:data_i.shape[0]-days_predicted, :, :]\n",
        "\n",
        "y_i_p_tr = y_i_p[0:index+1]\n",
        "y_i_p_ts = y_i_p[index+1:data_i.shape[0]-days_predicted]\n"
      ],
      "execution_count": 11,
      "outputs": []
    },
    {
      "cell_type": "code",
      "metadata": {
        "id": "g9mNq2fInQs5"
      },
      "source": [
        " # For predicting each variable (final part)\n",
        "def split_sequence(sequence, lag):\n",
        "  x, y = list(), list()\n",
        "  for i in range(len(sequence)):\n",
        "    # find the end of this pattern\n",
        "    end_ix = i + lag\n",
        "    # check if we are beyond the sequence\n",
        "    if end_ix > len(sequence)-1:\n",
        "      break\n",
        "    # gather input and output parts of the pattern\n",
        "    seq_x, seq_y = sequence[i:end_ix], sequence[end_ix]\n",
        "    x.append(seq_x)\n",
        "    y.append(seq_y)\n",
        "  return array(x), array(y)\n",
        "\n"
      ],
      "execution_count": 12,
      "outputs": []
    },
    {
      "cell_type": "code",
      "metadata": {
        "id": "pgqjYqMK7Nxm"
      },
      "source": [
        "# retail (univariate)\n",
        "x_retail, y_retail = split_sequence(data_i.retail, lag)\n",
        "\n",
        "# split into training and test sets\n",
        "X_tr_retail = x_retail[0:index+1, :]\n",
        "X_ts_retail = x_retail[index+1:x_retail.shape[0]-days_predicted, :]\n",
        "X_tr_retail = X_tr_retail.reshape(X_tr_retail.shape[0], X_tr_retail.shape[1], 1) # reshape input into 3D\n",
        "X_ts_retail = X_ts_retail.reshape(X_ts_retail.shape[0], X_ts_retail.shape[1], 1)\n",
        "\n",
        "y_tr_retail = y_retail[0:index+1]\n",
        "y_ts_retail = y_retail[index+1:x_retail.shape[0]-days_predicted]\n",
        "y_tr_retail = y_tr_retail.reshape(y_tr_retail.shape[0], 1, 1) # reshape output into 3D\n",
        "y_ts_retail = y_ts_retail.reshape(y_ts_retail.shape[0], 1, 1) \n",
        "\n",
        "# parks (univariate)\n",
        "x_parks, y_parks = split_sequence(data_i.parks, lag)\n",
        "\n",
        "# split into training and test sets\n",
        "X_tr_parks = x_parks[0:index+1, :]\n",
        "X_ts_parks = x_parks[index+1:x_parks.shape[0]-days_predicted, :]\n",
        "X_tr_parks = X_tr_parks.reshape(X_tr_parks.shape[0], X_tr_parks.shape[1], 1) # reshape input into 3D\n",
        "X_ts_parks = X_ts_parks.reshape(X_ts_parks.shape[0], X_ts_parks.shape[1], 1)\n",
        "\n",
        "y_tr_parks = y_parks[0:index+1]\n",
        "y_ts_parks = y_parks[index+1:x_parks.shape[0]-days_predicted]\n",
        "y_tr_parks = y_tr_parks.reshape(y_tr_parks.shape[0], 1, 1) # reshape output into 3D\n",
        "y_ts_parks = y_ts_parks.reshape(y_ts_parks.shape[0], 1, 1) \n",
        "\n",
        "\n",
        "# transit (univariate)\n",
        "x_transit, y_transit = split_sequence(data_i.transit, lag)\n",
        "\n",
        "# split into training and test sets\n",
        "X_tr_transit = x_transit[0:index+1, :]\n",
        "X_ts_transit = x_transit[index+1:x_transit.shape[0]-days_predicted, :]\n",
        "X_tr_transit = X_tr_transit.reshape(X_tr_transit.shape[0], X_tr_transit.shape[1], 1) # reshape input into 3D\n",
        "X_ts_transit = X_ts_transit.reshape(X_ts_transit.shape[0], X_ts_transit.shape[1], 1)\n",
        "\n",
        "y_tr_transit = y_transit[0:index+1]\n",
        "y_ts_transit = y_transit[index+1:x_transit.shape[0]-days_predicted]\n",
        "y_tr_transit = y_tr_transit.reshape(y_tr_transit.shape[0], 1, 1) # reshape output into 3D\n",
        "y_ts_transit = y_ts_transit.reshape(y_ts_transit.shape[0], 1, 1) \n",
        "\n",
        "\n",
        "\n",
        "# resident (univariate)\n",
        "x_resident, y_resident = split_sequence(data_i.resident, lag)\n",
        "\n",
        "# split into training and test sets\n",
        "X_tr_resident = x_resident[0:index+1, :]\n",
        "X_ts_resident = x_resident[index+1:x_resident.shape[0]-days_predicted, :]\n",
        "X_tr_resident = X_tr_resident.reshape(X_tr_resident.shape[0], X_tr_resident.shape[1], 1) # reshape input into 3D\n",
        "X_ts_resident = X_ts_resident.reshape(X_ts_resident.shape[0], X_ts_resident.shape[1], 1)\n",
        "\n",
        "y_tr_resident = y_resident[0:index+1]\n",
        "y_ts_resident = y_resident[index+1:x_resident.shape[0]-days_predicted]\n",
        "y_tr_resident = y_tr_resident.reshape(y_tr_resident.shape[0], 1, 1) # reshape output into 3D\n",
        "y_ts_resident = y_ts_resident.reshape(y_ts_resident.shape[0], 1, 1) \n",
        "\n",
        "\n",
        "# Driving (univariate)\n",
        "x_Driving, y_Driving = split_sequence(data_i.Driving, lag)\n",
        "\n",
        "# split into training and test sets\n",
        "X_tr_Driving = x_Driving[0:index+1, :]\n",
        "X_ts_Driving = x_Driving[index+1:x_Driving.shape[0]-days_predicted, :]\n",
        "X_tr_Driving = X_tr_Driving.reshape(X_tr_Driving.shape[0], X_tr_Driving.shape[1], 1) # reshape input into 3D\n",
        "X_ts_Driving = X_ts_Driving.reshape(X_ts_Driving.shape[0], X_ts_Driving.shape[1], 1)\n",
        "\n",
        "y_tr_Driving = y_Driving[0:index+1]\n",
        "y_ts_Driving = y_Driving[index+1:x_Driving.shape[0]-days_predicted]\n",
        "y_tr_Driving = y_tr_Driving.reshape(y_tr_Driving.shape[0], 1, 1) # reshape output into 3D\n",
        "y_ts_Driving = y_ts_Driving.reshape(y_ts_Driving.shape[0], 1, 1) "
      ],
      "execution_count": 13,
      "outputs": []
    },
    {
      "cell_type": "markdown",
      "metadata": {
        "id": "eCEO9U_tX6nP"
      },
      "source": [
        "## Analysis\n",
        "\n",
        "---\n",
        "\n",
        "\n",
        "\n",
        "### Hyperparameters Tuning\n",
        "\n",
        "\n",
        "Using the training set matrices for confirmed cases and confirmed deaths and univiariate and multivariate, we tuned for the most optimal numbers of parameters, staring from basic architectures. In this case, we searched for numbers of nodes for LSTM, GRU, and RNNs, and filter, kernel size, and pool for CNN. In the input layer, we added instance normalization to make all values between 0 and 1. Since we were dealing with some data that we had never seen before and the data seemed to be non-stationary, instance normalization might provide more advantages than typical standardization or normalization. The numbers of nodes that we used for our LSTM, GRU, and RNNs experiments were 4, 8, 16, 32, 64, 128, 256, 512, and 1024. Similarly, we used the same pool for CNN filter with kernel size of 3, 5 and 7, and pool of 2 and 3. The activation function for this hidden layer was sigmoid. Next, we added another instance normalization. Finally, the output layer contained one node and Linear activation function. Epoch and batch size were 50 and 1, respectively. We used mean squared error (MSE) as our loss function, ADAM optimization and mean absolute percentage error (MAPE) as a metric for model evaluation.\n"
      ]
    },
    {
      "cell_type": "markdown",
      "metadata": {
        "id": "PgWYXmJLYATE"
      },
      "source": [
        "### CNN"
      ]
    },
    {
      "cell_type": "code",
      "metadata": {
        "id": "pZJnpt8jZRZZ"
      },
      "source": [
        "# CNN Tuning\n",
        "\n",
        "def evaluate_cnn(trainX, trainy, filter, kernel_size, pool):\n",
        "    seed(1)\n",
        "    tensorflow.random.set_seed(1)\n",
        "\n",
        "    verbose, epochs, batch_size = 0, 50, 1\n",
        "    n_timesteps, n_features = trainX.shape[1], trainX.shape[2]\n",
        "\n",
        "    model = Sequential()\n",
        "    model.add(Conv1D(filters = filter, kernel_size=kernel_size, activation='relu',input_shape=(n_timesteps,n_features)))\n",
        "    model.add(MaxPooling1D(pool_size= pool))\n",
        "    model.add(Flatten())\n",
        "    model.add(Dense(1, activation='linear'))\n",
        "    model.compile(loss='mse', optimizer='adam', metrics=['MAPE'])\n",
        "  \n",
        "    # fit network\n",
        "    model.fit(trainX, trainy, epochs=epochs, batch_size=batch_size, verbose=verbose, shuffle = False)\n",
        "    # evaluate model\n",
        "    _, accuracy = model.evaluate(trainX, trainy, batch_size=batch_size, verbose=0)\n",
        "    return accuracy\n",
        "\n",
        "# run an experiment\n",
        "def run_experiment(filters, kernel_size, pool, trainX, trainy):\n",
        "    # test each parameter\n",
        "    all_scores = list()\n",
        "    for filter in filters:\n",
        "      for kernel in kernel_size:\n",
        "        for pooling in pool:\n",
        "          score = evaluate_cnn(trainX, trainy, filter, kernel_size, pool)\n",
        "          print('filter = %d, kernel size = %d, pooling size = %d: %.3f' % (filter, kernel, pooling, score))\n",
        "          all_scores.append(score)\n",
        "    return all_scores\n",
        "    \n",
        "\n",
        "\n",
        "filter = [2, 4, 8, 16, 32, 64, 128, 256, 512, 1024] \n"
      ],
      "execution_count": 25,
      "outputs": []
    },
    {
      "cell_type": "code",
      "metadata": {
        "colab": {
          "base_uri": "https://localhost:8080/"
        },
        "id": "f9h_O6Nsnz2C",
        "outputId": "96e11af5-aa68-4326-9416-12bcad18d638"
      },
      "source": [
        "# Multivariate CNN confirmed cases\n",
        "kernel = [3, 5, 7]\n",
        "pool = [2]\n",
        "cnn_i_multi = list()\n",
        "\n",
        "for i in kernel:\n",
        "  for j in pool:\n",
        "    score = list() \n",
        "    kernel_size, pool = [i],[j]\n",
        "    score = run_experiment(filter, kernel_size, pool, X_i_p_tr, y_i_p_tr)\n",
        "    cnn_i_multi.append(score)\n",
        "\n",
        "pool = [3]\n",
        "\n",
        "for i in kernel:\n",
        "  for j in pool: \n",
        "    score = list()\n",
        "    kernel_size, pool = [i],[j]\n",
        "    score = run_experiment(filter, kernel_size, pool, X_i_p_tr, y_i_p_tr)\n",
        "    cnn_i_multi.append(score)\n",
        "\n",
        "cnn_i_multi = pd.DataFrame(cnn_i_multi).T\n",
        "cnn_i_multi.columns = ['k3p2', 'k3p3','k5p2', 'k7p2', 'k5p3', 'k7p3']"
      ],
      "execution_count": 26,
      "outputs": [
        {
          "output_type": "stream",
          "name": "stdout",
          "text": [
            "filter = 2, kernel size = 3, pooling size = 2: 5.123\n",
            "filter = 4, kernel size = 3, pooling size = 2: 5.549\n",
            "filter = 8, kernel size = 3, pooling size = 2: 4.966\n",
            "filter = 16, kernel size = 3, pooling size = 2: 5.183\n",
            "filter = 32, kernel size = 3, pooling size = 2: 3.908\n",
            "filter = 64, kernel size = 3, pooling size = 2: 3.594\n",
            "filter = 128, kernel size = 3, pooling size = 2: 3.504\n",
            "filter = 256, kernel size = 3, pooling size = 2: 4.564\n",
            "filter = 512, kernel size = 3, pooling size = 2: 5.624\n",
            "filter = 1024, kernel size = 3, pooling size = 2: 5.951\n",
            "filter = 2, kernel size = 5, pooling size = 2: 4.924\n",
            "filter = 4, kernel size = 5, pooling size = 2: 5.551\n",
            "filter = 8, kernel size = 5, pooling size = 2: 4.986\n",
            "filter = 16, kernel size = 5, pooling size = 2: 5.056\n",
            "filter = 32, kernel size = 5, pooling size = 2: 4.223\n",
            "filter = 64, kernel size = 5, pooling size = 2: 4.242\n",
            "filter = 128, kernel size = 5, pooling size = 2: 4.453\n",
            "filter = 256, kernel size = 5, pooling size = 2: 3.993\n",
            "filter = 512, kernel size = 5, pooling size = 2: 6.251\n",
            "filter = 1024, kernel size = 5, pooling size = 2: 6.481\n",
            "filter = 2, kernel size = 7, pooling size = 2: 5.130\n",
            "filter = 4, kernel size = 7, pooling size = 2: 5.878\n",
            "filter = 8, kernel size = 7, pooling size = 2: 4.319\n",
            "filter = 16, kernel size = 7, pooling size = 2: 4.625\n",
            "filter = 32, kernel size = 7, pooling size = 2: 3.847\n",
            "filter = 64, kernel size = 7, pooling size = 2: 3.970\n",
            "filter = 128, kernel size = 7, pooling size = 2: 4.511\n",
            "filter = 256, kernel size = 7, pooling size = 2: 4.571\n",
            "filter = 512, kernel size = 7, pooling size = 2: 6.303\n",
            "filter = 1024, kernel size = 7, pooling size = 2: 6.870\n",
            "filter = 2, kernel size = 3, pooling size = 3: 5.259\n",
            "filter = 4, kernel size = 3, pooling size = 3: 5.777\n",
            "filter = 8, kernel size = 3, pooling size = 3: 4.770\n",
            "filter = 16, kernel size = 3, pooling size = 3: 5.229\n",
            "filter = 32, kernel size = 3, pooling size = 3: 4.445\n",
            "filter = 64, kernel size = 3, pooling size = 3: 3.933\n",
            "filter = 128, kernel size = 3, pooling size = 3: 3.954\n",
            "filter = 256, kernel size = 3, pooling size = 3: 4.028\n",
            "filter = 512, kernel size = 3, pooling size = 3: 4.842\n",
            "filter = 1024, kernel size = 3, pooling size = 3: 5.982\n",
            "filter = 2, kernel size = 5, pooling size = 3: 6.877\n",
            "filter = 4, kernel size = 5, pooling size = 3: 6.011\n",
            "filter = 8, kernel size = 5, pooling size = 3: 5.386\n",
            "filter = 16, kernel size = 5, pooling size = 3: 5.253\n",
            "filter = 32, kernel size = 5, pooling size = 3: 4.445\n",
            "filter = 64, kernel size = 5, pooling size = 3: 4.803\n",
            "filter = 128, kernel size = 5, pooling size = 3: 4.734\n",
            "filter = 256, kernel size = 5, pooling size = 3: 4.784\n",
            "filter = 512, kernel size = 5, pooling size = 3: 5.064\n",
            "filter = 1024, kernel size = 5, pooling size = 3: 5.678\n",
            "filter = 2, kernel size = 7, pooling size = 3: 5.847\n",
            "filter = 4, kernel size = 7, pooling size = 3: 99.984\n",
            "filter = 8, kernel size = 7, pooling size = 3: 5.599\n",
            "filter = 16, kernel size = 7, pooling size = 3: 5.579\n",
            "filter = 32, kernel size = 7, pooling size = 3: 4.903\n",
            "filter = 64, kernel size = 7, pooling size = 3: 5.088\n",
            "filter = 128, kernel size = 7, pooling size = 3: 4.828\n",
            "filter = 256, kernel size = 7, pooling size = 3: 5.369\n",
            "filter = 512, kernel size = 7, pooling size = 3: 5.518\n",
            "filter = 1024, kernel size = 7, pooling size = 3: 6.471\n"
          ]
        }
      ]
    },
    {
      "cell_type": "markdown",
      "metadata": {
        "id": "eDXGbHvPZNn1"
      },
      "source": [
        "### LSTM"
      ]
    },
    {
      "cell_type": "code",
      "metadata": {
        "id": "XwruQErcVIGp"
      },
      "source": [
        "def evaluate_lstm(trainX, trainy, units):\n",
        "    seed(1)\n",
        "    tensorflow.random.set_seed(1)\n",
        "\n",
        "    verbose, epochs, batch_size = 0, 50, 1\n",
        "    n_timesteps, n_features = trainX.shape[1], trainX.shape[2]\n",
        "\n",
        "    model = Sequential()\n",
        "    model.add(LSTM(units = units, activation='relu', input_shape=(n_timesteps,n_features)))\n",
        "    model.add(Dense(1, activation='linear'))\n",
        "    model.compile(loss='mse', optimizer='adam', metrics=['MAPE'])\n",
        "  \n",
        "    # fit network\n",
        "    model.fit(trainX, trainy, epochs=epochs, batch_size=batch_size, verbose=verbose, shuffle = False)\n",
        "    # evaluate model\n",
        "    _, accuracy = model.evaluate(trainX, trainy, batch_size=batch_size, verbose=0)\n",
        "    return accuracy\n",
        "\n",
        "\n",
        "units = [2, 4,8,16,32,64,128,256,512, 1024]\n",
        "\n",
        "# Multivariate LSTM confirmed deaths\n",
        "\n",
        "lstm_i_multi = list()\n",
        "\n",
        "for i in units:\n",
        "  score = list()\n",
        "  score = evaluate_lstm(X_i_p_tr, y_i_p_tr, i)\n",
        "  lstm_i_multi.append(score)"
      ],
      "execution_count": 27,
      "outputs": []
    },
    {
      "cell_type": "markdown",
      "metadata": {
        "id": "u5EHjmk8ZwNb"
      },
      "source": [
        "### GRU"
      ]
    },
    {
      "cell_type": "code",
      "metadata": {
        "id": "8Pkcl1joZuxL"
      },
      "source": [
        "def evaluate_gru(trainX, trainy, units):\n",
        "    seed(1)\n",
        "    tensorflow.random.set_seed(1)\n",
        "\n",
        "    verbose, epochs, batch_size = 0, 50, 1\n",
        "    n_timesteps, n_features = trainX.shape[1], trainX.shape[2]\n",
        "\n",
        "    model = Sequential()\n",
        "    model.add(GRU(units = units, activation='relu', input_shape=(n_timesteps,n_features)))\n",
        "    model.add(Dense(1, activation='linear'))\n",
        "    model.compile(loss='mse', optimizer='adam', metrics=['MAPE'])\n",
        "  \n",
        "    # fit network\n",
        "    model.fit(trainX, trainy, epochs=epochs, batch_size=batch_size, verbose=verbose, shuffle = False)\n",
        "    # evaluate model\n",
        "    _, accuracy = model.evaluate(trainX, trainy, batch_size=batch_size, verbose=0)\n",
        "    return accuracy\n",
        "\n",
        "# Multivariate GRU confirmed deaths\n",
        "\n",
        "gru_i_multi = list()\n",
        "\n",
        "for i in units:\n",
        "  score = list()\n",
        "  score = evaluate_gru(X_i_p_tr, y_i_p_tr, i)\n",
        "  gru_i_multi.append(score)"
      ],
      "execution_count": 28,
      "outputs": []
    },
    {
      "cell_type": "markdown",
      "metadata": {
        "id": "LxvR7HvgbL9i"
      },
      "source": [
        "### RNNs"
      ]
    },
    {
      "cell_type": "code",
      "metadata": {
        "id": "pHWbTWi0bOet"
      },
      "source": [
        "def evaluate_rnn(trainX, trainy, units):\n",
        "    seed(1)\n",
        "    tensorflow.random.set_seed(1)\n",
        "\n",
        "    verbose, epochs, batch_size = 0, 50, 1\n",
        "    n_timesteps, n_features = trainX.shape[1], trainX.shape[2]\n",
        "\n",
        "    model = Sequential()\n",
        "    model.add(SimpleRNN(units = units, activation='relu', input_shape=(n_timesteps,n_features)))\n",
        "    model.add(Dense(1, activation='linear'))\n",
        "    model.compile(loss='mse', optimizer='adam', metrics=['MAPE'])\n",
        "  \n",
        "    # fit network\n",
        "    model.fit(trainX, trainy, epochs=epochs, batch_size=batch_size, verbose=verbose, shuffle = False)\n",
        "    # evaluate model\n",
        "    _, accuracy = model.evaluate(trainX, trainy, batch_size=batch_size, verbose=0)\n",
        "    return accuracy\n",
        "\n",
        "\n",
        "# Multivariate RNNs confirmed deaths\n",
        "\n",
        "rnn_i_multi = list()\n",
        "\n",
        "for i in units:\n",
        "  score = list()\n",
        "  score = evaluate_rnn(X_i_p_tr, y_i_p_tr, i)\n",
        "  rnn_i_multi.append(score)"
      ],
      "execution_count": 29,
      "outputs": []
    },
    {
      "cell_type": "markdown",
      "metadata": {
        "id": "91h9IuDksSs2"
      },
      "source": [
        "### Result Table"
      ]
    },
    {
      "cell_type": "markdown",
      "metadata": {
        "id": "jjt0C2lR5puq"
      },
      "source": [
        "#### Multivariate Confirmed Deaths"
      ]
    },
    {
      "cell_type": "code",
      "metadata": {
        "colab": {
          "base_uri": "https://localhost:8080/",
          "height": 717
        },
        "id": "tEs71xle1nbi",
        "outputId": "07a6a09c-25f6-49a7-bfe0-bb73ec656874"
      },
      "source": [
        "fig = go.Figure(data=[go.Table(header=dict(values=['Model', 'Kernel size', 'Pool', '2 Nodes','4 Nodes', '8 Nodes', '16 Nodes', '32 Nodes',\n",
        "                                                   \"64 Nodes\", '128 Nodes', '256 Nodes', '512 Nodes' , '1024 Nodes'],\n",
        "                                           line_color = 'gray'),\n",
        "                               cells=dict(values=[['LSTM', 'GRU', 'RNNs', 'CNN',\n",
        "                                                   'CNN', 'CNN', 'CNN', 'CNN', 'CNN'],\n",
        "                                                  ['-', '-', '-', '3', '5', '7', '3', '5', '7'],\n",
        "                                                  ['-', '-', '-', '2', '2', '2', '3', '3', '3'],\n",
        "                                    [round(lstm_i_multi[0],3), \n",
        "                                     round(gru_i_multi[0],3),\n",
        "                                     round(rnn_i_multi[0],3), \n",
        "                                     round(cnn_i_multi.iloc[0,0],3),\n",
        "                                     round(cnn_i_multi.iloc[0,1],3),\n",
        "                                     round(cnn_i_multi.iloc[0,2],3),\n",
        "                                     round(cnn_i_multi.iloc[0,3],3),\n",
        "                                     round(cnn_i_multi.iloc[0,4],3),\n",
        "                                     round(cnn_i_multi.iloc[0,5],3)],\n",
        "                                     [round(lstm_i_multi[1],3), \n",
        "                                     round(gru_i_multi[1],3),\n",
        "                                     round(rnn_i_multi[1],3), \n",
        "                                     round(cnn_i_multi.iloc[1,0],3),\n",
        "                                     round(cnn_i_multi.iloc[1,1],3),\n",
        "                                     round(cnn_i_multi.iloc[1,2],3),\n",
        "                                     round(cnn_i_multi.iloc[1,3],3),\n",
        "                                     round(cnn_i_multi.iloc[1,4],3),\n",
        "                                     round(cnn_i_multi.iloc[1,5],3)],\n",
        "                                     [round(lstm_i_multi[2],3), \n",
        "                                     round(gru_i_multi[2],3),\n",
        "                                     round(rnn_i_multi[2],3), \n",
        "                                     round(cnn_i_multi.iloc[2,0],3),\n",
        "                                     round(cnn_i_multi.iloc[2,1],3),\n",
        "                                     round(cnn_i_multi.iloc[2,2],3),\n",
        "                                     round(cnn_i_multi.iloc[2,3],3),\n",
        "                                     round(cnn_i_multi.iloc[2,4],3),\n",
        "                                     round(cnn_i_multi.iloc[2,5],3)],\n",
        "                                     [round(lstm_i_multi[3],3), \n",
        "                                     round(gru_i_multi[3],3),\n",
        "                                     round(rnn_i_multi[3],3), \n",
        "                                     round(cnn_i_multi.iloc[3,0],3),\n",
        "                                     round(cnn_i_multi.iloc[3,1],3),\n",
        "                                     round(cnn_i_multi.iloc[3,2],3),\n",
        "                                     round(cnn_i_multi.iloc[3,3],3),\n",
        "                                     round(cnn_i_multi.iloc[3,4],3),\n",
        "                                     round(cnn_i_multi.iloc[3,5],3)],\n",
        "                                     [round(lstm_i_multi[4],3), \n",
        "                                     round(gru_i_multi[4],3),\n",
        "                                     round(rnn_i_multi[4],3), \n",
        "                                     round(cnn_i_multi.iloc[4,0],3),\n",
        "                                     round(cnn_i_multi.iloc[4,1],3),\n",
        "                                     round(cnn_i_multi.iloc[4,2],3),\n",
        "                                     round(cnn_i_multi.iloc[4,3],3),\n",
        "                                     round(cnn_i_multi.iloc[4,4],3),\n",
        "                                     round(cnn_i_multi.iloc[4,5],3)],\n",
        "                                     [round(lstm_i_multi[5],3), \n",
        "                                     round(gru_i_multi[5],3),\n",
        "                                     round(rnn_i_multi[5],3), \n",
        "                                     round(cnn_i_multi.iloc[5,0],3),\n",
        "                                     round(cnn_i_multi.iloc[5,1],3),\n",
        "                                     round(cnn_i_multi.iloc[5,2],3),\n",
        "                                     round(cnn_i_multi.iloc[5,3],3),\n",
        "                                     round(cnn_i_multi.iloc[5,4],3),\n",
        "                                     round(cnn_i_multi.iloc[5,5],3)],\n",
        "                                     [round(lstm_i_multi[6],3), \n",
        "                                     round(gru_i_multi[6],3),\n",
        "                                     round(rnn_i_multi[6],3), \n",
        "                                     round(cnn_i_multi.iloc[6,0],3),\n",
        "                                     round(cnn_i_multi.iloc[6,1],3),\n",
        "                                     round(cnn_i_multi.iloc[6,2],3),\n",
        "                                     round(cnn_i_multi.iloc[6,3],3),\n",
        "                                     round(cnn_i_multi.iloc[6,4],3),\n",
        "                                     round(cnn_i_multi.iloc[6,5],3)],\n",
        "                                     [round(lstm_i_multi[7],3), \n",
        "                                     round(gru_i_multi[7],3),\n",
        "                                     round(rnn_i_multi[7],3), \n",
        "                                     round(cnn_i_multi.iloc[7,0],3),\n",
        "                                     round(cnn_i_multi.iloc[7,1],3),\n",
        "                                     round(cnn_i_multi.iloc[7,2],3),\n",
        "                                     round(cnn_i_multi.iloc[7,3],3),\n",
        "                                     round(cnn_i_multi.iloc[7,4],3),\n",
        "                                     round(cnn_i_multi.iloc[7,5],3)],\n",
        "                                     [round(lstm_i_multi[8],3), \n",
        "                                     round(gru_i_multi[8],3),\n",
        "                                     round(rnn_i_multi[8],3), \n",
        "                                     round(cnn_i_multi.iloc[8,0],3),\n",
        "                                     round(cnn_i_multi.iloc[8,1],3),\n",
        "                                     round(cnn_i_multi.iloc[8,2],3),\n",
        "                                     round(cnn_i_multi.iloc[8,3],3),\n",
        "                                     round(cnn_i_multi.iloc[8,4],3),\n",
        "                                     round(cnn_i_multi.iloc[8,5],3)],\n",
        "                                     [round(lstm_i_multi[9],3), \n",
        "                                     round(gru_i_multi[9],3),\n",
        "                                     round(rnn_i_multi[9],3), \n",
        "                                     round(cnn_i_multi.iloc[9,0],3),\n",
        "                                     round(cnn_i_multi.iloc[9,1],3),\n",
        "                                     round(cnn_i_multi.iloc[9,2],3),\n",
        "                                     round(cnn_i_multi.iloc[9,3],3),\n",
        "                                     round(cnn_i_multi.iloc[9,4],3),\n",
        "                                     round(cnn_i_multi.iloc[9,5],3)]],\n",
        "                            align=['left','center', 'center', \n",
        "                                   'right','right','right',\n",
        "                                   'right','right','right',\n",
        "                                   'right','right','right','right'],\n",
        "                            fill_color = 'white',\n",
        "                            line_color = 'gray'))\n",
        "                     ])\n",
        "fig.update_layout(title = \"Parameter Tunings Mean Absolute Percentage Error: Multivariate Confirmed Deaths\",\n",
        "                  title_x=0.5, height = 700, width = 1200)\n",
        "fig.show()"
      ],
      "execution_count": 30,
      "outputs": [
        {
          "output_type": "display_data",
          "data": {
            "text/html": [
              "<html>\n",
              "<head><meta charset=\"utf-8\" /></head>\n",
              "<body>\n",
              "    <div>\n",
              "            <script src=\"https://cdnjs.cloudflare.com/ajax/libs/mathjax/2.7.5/MathJax.js?config=TeX-AMS-MML_SVG\"></script><script type=\"text/javascript\">if (window.MathJax) {MathJax.Hub.Config({SVG: {font: \"STIX-Web\"}});}</script>\n",
              "                <script type=\"text/javascript\">window.PlotlyConfig = {MathJaxConfig: 'local'};</script>\n",
              "        <script src=\"https://cdn.plot.ly/plotly-latest.min.js\"></script>    \n",
              "            <div id=\"bd991f2e-7b14-43fc-a3f3-156df10fb339\" class=\"plotly-graph-div\" style=\"height:700px; width:1200px;\"></div>\n",
              "            <script type=\"text/javascript\">\n",
              "                \n",
              "                    window.PLOTLYENV=window.PLOTLYENV || {};\n",
              "                    \n",
              "                if (document.getElementById(\"bd991f2e-7b14-43fc-a3f3-156df10fb339\")) {\n",
              "                    Plotly.newPlot(\n",
              "                        'bd991f2e-7b14-43fc-a3f3-156df10fb339',\n",
              "                        [{\"cells\": {\"align\": [\"left\", \"center\", \"center\", \"right\", \"right\", \"right\", \"right\", \"right\", \"right\", \"right\", \"right\", \"right\", \"right\"], \"fill\": {\"color\": \"white\"}, \"line\": {\"color\": \"gray\"}, \"values\": [[\"LSTM\", \"GRU\", \"RNNs\", \"CNN\", \"CNN\", \"CNN\", \"CNN\", \"CNN\", \"CNN\"], [\"-\", \"-\", \"-\", \"3\", \"5\", \"7\", \"3\", \"5\", \"7\"], [\"-\", \"-\", \"-\", \"2\", \"2\", \"2\", \"3\", \"3\", \"3\"], [99.984, 99.984, 4.589, 5.123, 4.924, 5.13, 5.259, 6.877, 5.847], [93.841, 3.926, 4.933, 5.549, 5.551, 5.878, 5.777, 6.011, 99.984], [99.984, 4.211, 5.286, 4.966, 4.986, 4.319, 4.77, 5.386, 5.599], [3.885, 4.721, 4.013, 5.183, 5.056, 4.625, 5.229, 5.253, 5.579], [4.33, 4.462, 2.824, 3.908, 4.223, 3.847, 4.445, 4.445, 4.903], [9.391, 4.095, 3.071, 3.594, 4.242, 3.97, 3.933, 4.803, 5.088], [4.262, 4.398, 2.932, 3.504, 4.453, 4.511, 3.954, 4.734, 4.828], [4.064, 3.945, 3.082, 4.564, 3.993, 4.571, 4.028, 4.784, 5.369], [4.486, 3.558, 3.243, 5.624, 6.251, 6.303, 4.842, 5.064, 5.518], [4.251, 3.306, 3.376, 5.951, 6.481, 6.87, 5.982, 5.678, 6.471]]}, \"header\": {\"line\": {\"color\": \"gray\"}, \"values\": [\"Model\", \"Kernel size\", \"Pool\", \"2 Nodes\", \"4 Nodes\", \"8 Nodes\", \"16 Nodes\", \"32 Nodes\", \"64 Nodes\", \"128 Nodes\", \"256 Nodes\", \"512 Nodes\", \"1024 Nodes\"]}, \"type\": \"table\"}],\n",
              "                        {\"height\": 700, \"template\": {\"data\": {\"bar\": [{\"error_x\": {\"color\": \"#2a3f5f\"}, \"error_y\": {\"color\": \"#2a3f5f\"}, \"marker\": {\"line\": {\"color\": \"#E5ECF6\", \"width\": 0.5}}, \"type\": \"bar\"}], \"barpolar\": [{\"marker\": {\"line\": {\"color\": \"#E5ECF6\", \"width\": 0.5}}, \"type\": \"barpolar\"}], \"carpet\": [{\"aaxis\": {\"endlinecolor\": \"#2a3f5f\", \"gridcolor\": \"white\", \"linecolor\": \"white\", \"minorgridcolor\": \"white\", \"startlinecolor\": \"#2a3f5f\"}, \"baxis\": {\"endlinecolor\": \"#2a3f5f\", \"gridcolor\": \"white\", \"linecolor\": \"white\", \"minorgridcolor\": \"white\", \"startlinecolor\": \"#2a3f5f\"}, \"type\": \"carpet\"}], \"choropleth\": [{\"colorbar\": {\"outlinewidth\": 0, \"ticks\": \"\"}, \"type\": \"choropleth\"}], \"contour\": [{\"colorbar\": {\"outlinewidth\": 0, \"ticks\": \"\"}, \"colorscale\": [[0.0, \"#0d0887\"], [0.1111111111111111, \"#46039f\"], [0.2222222222222222, \"#7201a8\"], [0.3333333333333333, \"#9c179e\"], [0.4444444444444444, \"#bd3786\"], [0.5555555555555556, \"#d8576b\"], [0.6666666666666666, \"#ed7953\"], [0.7777777777777778, \"#fb9f3a\"], [0.8888888888888888, \"#fdca26\"], [1.0, \"#f0f921\"]], \"type\": \"contour\"}], \"contourcarpet\": [{\"colorbar\": {\"outlinewidth\": 0, \"ticks\": \"\"}, \"type\": \"contourcarpet\"}], \"heatmap\": [{\"colorbar\": {\"outlinewidth\": 0, \"ticks\": \"\"}, \"colorscale\": [[0.0, \"#0d0887\"], [0.1111111111111111, \"#46039f\"], [0.2222222222222222, \"#7201a8\"], [0.3333333333333333, \"#9c179e\"], [0.4444444444444444, \"#bd3786\"], [0.5555555555555556, \"#d8576b\"], [0.6666666666666666, \"#ed7953\"], [0.7777777777777778, \"#fb9f3a\"], [0.8888888888888888, \"#fdca26\"], [1.0, \"#f0f921\"]], \"type\": \"heatmap\"}], \"heatmapgl\": [{\"colorbar\": {\"outlinewidth\": 0, \"ticks\": \"\"}, \"colorscale\": [[0.0, \"#0d0887\"], [0.1111111111111111, \"#46039f\"], [0.2222222222222222, \"#7201a8\"], [0.3333333333333333, \"#9c179e\"], [0.4444444444444444, \"#bd3786\"], [0.5555555555555556, \"#d8576b\"], [0.6666666666666666, \"#ed7953\"], [0.7777777777777778, \"#fb9f3a\"], [0.8888888888888888, \"#fdca26\"], [1.0, \"#f0f921\"]], \"type\": \"heatmapgl\"}], \"histogram\": [{\"marker\": {\"colorbar\": {\"outlinewidth\": 0, \"ticks\": \"\"}}, \"type\": \"histogram\"}], \"histogram2d\": [{\"colorbar\": {\"outlinewidth\": 0, \"ticks\": \"\"}, \"colorscale\": [[0.0, \"#0d0887\"], [0.1111111111111111, \"#46039f\"], [0.2222222222222222, \"#7201a8\"], [0.3333333333333333, \"#9c179e\"], [0.4444444444444444, \"#bd3786\"], [0.5555555555555556, \"#d8576b\"], [0.6666666666666666, \"#ed7953\"], [0.7777777777777778, \"#fb9f3a\"], [0.8888888888888888, \"#fdca26\"], [1.0, \"#f0f921\"]], \"type\": \"histogram2d\"}], \"histogram2dcontour\": [{\"colorbar\": {\"outlinewidth\": 0, \"ticks\": \"\"}, \"colorscale\": [[0.0, \"#0d0887\"], [0.1111111111111111, \"#46039f\"], [0.2222222222222222, \"#7201a8\"], [0.3333333333333333, \"#9c179e\"], [0.4444444444444444, \"#bd3786\"], [0.5555555555555556, \"#d8576b\"], [0.6666666666666666, \"#ed7953\"], [0.7777777777777778, \"#fb9f3a\"], [0.8888888888888888, \"#fdca26\"], [1.0, \"#f0f921\"]], \"type\": \"histogram2dcontour\"}], \"mesh3d\": [{\"colorbar\": {\"outlinewidth\": 0, \"ticks\": \"\"}, \"type\": \"mesh3d\"}], \"parcoords\": [{\"line\": {\"colorbar\": {\"outlinewidth\": 0, \"ticks\": \"\"}}, \"type\": \"parcoords\"}], \"pie\": [{\"automargin\": true, \"type\": \"pie\"}], \"scatter\": [{\"marker\": {\"colorbar\": {\"outlinewidth\": 0, \"ticks\": \"\"}}, \"type\": \"scatter\"}], \"scatter3d\": [{\"line\": {\"colorbar\": {\"outlinewidth\": 0, \"ticks\": \"\"}}, \"marker\": {\"colorbar\": {\"outlinewidth\": 0, \"ticks\": \"\"}}, \"type\": \"scatter3d\"}], \"scattercarpet\": [{\"marker\": {\"colorbar\": {\"outlinewidth\": 0, \"ticks\": \"\"}}, \"type\": \"scattercarpet\"}], \"scattergeo\": [{\"marker\": {\"colorbar\": {\"outlinewidth\": 0, \"ticks\": \"\"}}, \"type\": \"scattergeo\"}], \"scattergl\": [{\"marker\": {\"colorbar\": {\"outlinewidth\": 0, \"ticks\": \"\"}}, \"type\": \"scattergl\"}], \"scattermapbox\": [{\"marker\": {\"colorbar\": {\"outlinewidth\": 0, \"ticks\": \"\"}}, \"type\": \"scattermapbox\"}], \"scatterpolar\": [{\"marker\": {\"colorbar\": {\"outlinewidth\": 0, \"ticks\": \"\"}}, \"type\": \"scatterpolar\"}], \"scatterpolargl\": [{\"marker\": {\"colorbar\": {\"outlinewidth\": 0, \"ticks\": \"\"}}, \"type\": \"scatterpolargl\"}], \"scatterternary\": [{\"marker\": {\"colorbar\": {\"outlinewidth\": 0, \"ticks\": \"\"}}, \"type\": \"scatterternary\"}], \"surface\": [{\"colorbar\": {\"outlinewidth\": 0, \"ticks\": \"\"}, \"colorscale\": [[0.0, \"#0d0887\"], [0.1111111111111111, \"#46039f\"], [0.2222222222222222, \"#7201a8\"], [0.3333333333333333, \"#9c179e\"], [0.4444444444444444, \"#bd3786\"], [0.5555555555555556, \"#d8576b\"], [0.6666666666666666, \"#ed7953\"], [0.7777777777777778, \"#fb9f3a\"], [0.8888888888888888, \"#fdca26\"], [1.0, \"#f0f921\"]], \"type\": \"surface\"}], \"table\": [{\"cells\": {\"fill\": {\"color\": \"#EBF0F8\"}, \"line\": {\"color\": \"white\"}}, \"header\": {\"fill\": {\"color\": \"#C8D4E3\"}, \"line\": {\"color\": \"white\"}}, \"type\": \"table\"}]}, \"layout\": {\"annotationdefaults\": {\"arrowcolor\": \"#2a3f5f\", \"arrowhead\": 0, \"arrowwidth\": 1}, \"coloraxis\": {\"colorbar\": {\"outlinewidth\": 0, \"ticks\": \"\"}}, \"colorscale\": {\"diverging\": [[0, \"#8e0152\"], [0.1, \"#c51b7d\"], [0.2, \"#de77ae\"], [0.3, \"#f1b6da\"], [0.4, \"#fde0ef\"], [0.5, \"#f7f7f7\"], [0.6, \"#e6f5d0\"], [0.7, \"#b8e186\"], [0.8, \"#7fbc41\"], [0.9, \"#4d9221\"], [1, \"#276419\"]], \"sequential\": [[0.0, \"#0d0887\"], [0.1111111111111111, \"#46039f\"], [0.2222222222222222, \"#7201a8\"], [0.3333333333333333, \"#9c179e\"], [0.4444444444444444, \"#bd3786\"], [0.5555555555555556, \"#d8576b\"], [0.6666666666666666, \"#ed7953\"], [0.7777777777777778, \"#fb9f3a\"], [0.8888888888888888, \"#fdca26\"], [1.0, \"#f0f921\"]], \"sequentialminus\": [[0.0, \"#0d0887\"], [0.1111111111111111, \"#46039f\"], [0.2222222222222222, \"#7201a8\"], [0.3333333333333333, \"#9c179e\"], [0.4444444444444444, \"#bd3786\"], [0.5555555555555556, \"#d8576b\"], [0.6666666666666666, \"#ed7953\"], [0.7777777777777778, \"#fb9f3a\"], [0.8888888888888888, \"#fdca26\"], [1.0, \"#f0f921\"]]}, \"colorway\": [\"#636efa\", \"#EF553B\", \"#00cc96\", \"#ab63fa\", \"#FFA15A\", \"#19d3f3\", \"#FF6692\", \"#B6E880\", \"#FF97FF\", \"#FECB52\"], \"font\": {\"color\": \"#2a3f5f\"}, \"geo\": {\"bgcolor\": \"white\", \"lakecolor\": \"white\", \"landcolor\": \"#E5ECF6\", \"showlakes\": true, \"showland\": true, \"subunitcolor\": \"white\"}, \"hoverlabel\": {\"align\": \"left\"}, \"hovermode\": \"closest\", \"mapbox\": {\"style\": \"light\"}, \"paper_bgcolor\": \"white\", \"plot_bgcolor\": \"#E5ECF6\", \"polar\": {\"angularaxis\": {\"gridcolor\": \"white\", \"linecolor\": \"white\", \"ticks\": \"\"}, \"bgcolor\": \"#E5ECF6\", \"radialaxis\": {\"gridcolor\": \"white\", \"linecolor\": \"white\", \"ticks\": \"\"}}, \"scene\": {\"xaxis\": {\"backgroundcolor\": \"#E5ECF6\", \"gridcolor\": \"white\", \"gridwidth\": 2, \"linecolor\": \"white\", \"showbackground\": true, \"ticks\": \"\", \"zerolinecolor\": \"white\"}, \"yaxis\": {\"backgroundcolor\": \"#E5ECF6\", \"gridcolor\": \"white\", \"gridwidth\": 2, \"linecolor\": \"white\", \"showbackground\": true, \"ticks\": \"\", \"zerolinecolor\": \"white\"}, \"zaxis\": {\"backgroundcolor\": \"#E5ECF6\", \"gridcolor\": \"white\", \"gridwidth\": 2, \"linecolor\": \"white\", \"showbackground\": true, \"ticks\": \"\", \"zerolinecolor\": \"white\"}}, \"shapedefaults\": {\"line\": {\"color\": \"#2a3f5f\"}}, \"ternary\": {\"aaxis\": {\"gridcolor\": \"white\", \"linecolor\": \"white\", \"ticks\": \"\"}, \"baxis\": {\"gridcolor\": \"white\", \"linecolor\": \"white\", \"ticks\": \"\"}, \"bgcolor\": \"#E5ECF6\", \"caxis\": {\"gridcolor\": \"white\", \"linecolor\": \"white\", \"ticks\": \"\"}}, \"title\": {\"x\": 0.05}, \"xaxis\": {\"automargin\": true, \"gridcolor\": \"white\", \"linecolor\": \"white\", \"ticks\": \"\", \"title\": {\"standoff\": 15}, \"zerolinecolor\": \"white\", \"zerolinewidth\": 2}, \"yaxis\": {\"automargin\": true, \"gridcolor\": \"white\", \"linecolor\": \"white\", \"ticks\": \"\", \"title\": {\"standoff\": 15}, \"zerolinecolor\": \"white\", \"zerolinewidth\": 2}}}, \"title\": {\"text\": \"Parameter Tunings Mean Absolute Percentage Error: Multivariate Confirmed Deaths\", \"x\": 0.5}, \"width\": 1200},\n",
              "                        {\"responsive\": true}\n",
              "                    ).then(function(){\n",
              "                            \n",
              "var gd = document.getElementById('bd991f2e-7b14-43fc-a3f3-156df10fb339');\n",
              "var x = new MutationObserver(function (mutations, observer) {{\n",
              "        var display = window.getComputedStyle(gd).display;\n",
              "        if (!display || display === 'none') {{\n",
              "            console.log([gd, 'removed!']);\n",
              "            Plotly.purge(gd);\n",
              "            observer.disconnect();\n",
              "        }}\n",
              "}});\n",
              "\n",
              "// Listen for the removal of the full notebook cells\n",
              "var notebookContainer = gd.closest('#notebook-container');\n",
              "if (notebookContainer) {{\n",
              "    x.observe(notebookContainer, {childList: true});\n",
              "}}\n",
              "\n",
              "// Listen for the clearing of the current output cell\n",
              "var outputEl = gd.closest('.output');\n",
              "if (outputEl) {{\n",
              "    x.observe(outputEl, {childList: true});\n",
              "}}\n",
              "\n",
              "                        })\n",
              "                };\n",
              "                \n",
              "            </script>\n",
              "        </div>\n",
              "</body>\n",
              "</html>"
            ]
          },
          "metadata": {}
        }
      ]
    },
    {
      "cell_type": "markdown",
      "metadata": {
        "id": "vc5YHb2g7fIF"
      },
      "source": [
        "## Training and Validation\n",
        "\n",
        "---\n",
        "\n",
        "After models were selected, using the training data set, we adjusted and trained the models to get the prediction with the lowest MAPE. We, then, used test samples for model validations and combined predicted values from both training and test sets together. This was only for illustration purpose.\n"
      ]
    },
    {
      "cell_type": "markdown",
      "metadata": {
        "id": "LX_viW2LFOgn"
      },
      "source": [
        "### Multivariate Confirmed Deaths"
      ]
    },
    {
      "cell_type": "code",
      "metadata": {
        "colab": {
          "base_uri": "https://localhost:8080/"
        },
        "id": "ETqGykawFR0f",
        "outputId": "081bfb52-7b90-45c1-cbd3-7184844e7a13"
      },
      "source": [
        "seed(1)\n",
        "tensorflow.random.set_seed(1)\n",
        "\n",
        "model_multi_i = Sequential()\n",
        "model_multi_i.add(SimpleRNN(32, activation = 'relu', input_shape=(X_i_p_tr.shape[1], X_i_p_tr.shape[2])))\n",
        "# model_multi_i.add(Dense(2, activation = \"relu\"))\n",
        "model_multi_i.add(Dense(1, activation = \"linear\"))\n",
        "model_multi_i.compile(loss='mse', optimizer='adam', metrics = \"MAPE\")\n",
        "\n",
        "# model_multi_i = Sequential()\n",
        "# model_multi_i.add(Conv1D(128, kernel_size = 5, activation = 'relu', input_shape=(X_i_p_tr.shape[1], X_i_p_tr.shape[2])))\n",
        "# model_multi_i.add(MaxPooling1D(3))\n",
        "# model_multi_i.add(Flatten())\n",
        "# # model_multi_i.add(Dense(4, activation = \"relu\"))\n",
        "# model_multi_i.add(Dense(1, activation = \"linear\"))\n",
        "# model_multi_i.compile(loss='mse', optimizer='adam', metrics = \"MAPE\")\n",
        "\n",
        "# fit network\n",
        "model_multi_i.fit(X_i_p_tr, y_i_p_tr, \n",
        "                           epochs=50, \n",
        "                           batch_size=1, \n",
        "                           verbose=0, \n",
        "                           shuffle=False)\n",
        "\n",
        "scores_multi_i1 = model_multi_i.evaluate(X_i_p_tr, y_i_p_tr, verbose=0)\n",
        "\n",
        "# MAPE\n",
        "print(\"MAPE: training = \",scores_multi_i1[1])\n",
        "\n",
        "scores_multi_i = model_multi_i.evaluate(X_i_p_ts, y_i_p_ts, verbose=0)\n",
        "\n",
        "# MAPE\n",
        "print(\"MAPE: test = \",scores_multi_i[1])"
      ],
      "execution_count": 31,
      "outputs": [
        {
          "output_type": "stream",
          "name": "stdout",
          "text": [
            "MAPE: training =  2.824108839035034\n",
            "MAPE: test =  28.702817916870117\n"
          ]
        }
      ]
    },
    {
      "cell_type": "code",
      "metadata": {
        "id": "NlPeIWWTFR7X"
      },
      "source": [
        "# make a prediction\n",
        "# training set\n",
        "y_multi_i_tr = pd.DataFrame(model_multi_i.predict(X_i_p_tr))\n",
        "\n",
        "# test set\n",
        "y_multi_i_ts = pd.DataFrame(model_multi_i.predict(X_i_p_ts))\n",
        "\n",
        "# combine training and test predictions\n",
        "y_multi_i_total = pd.concat([y_multi_i_tr, y_multi_i_ts], ignore_index=True)\n"
      ],
      "execution_count": 32,
      "outputs": []
    },
    {
      "cell_type": "code",
      "metadata": {
        "id": "AUJOWqqPSZjB"
      },
      "source": [
        "multi_ie = \"RNNs\""
      ],
      "execution_count": 33,
      "outputs": []
    },
    {
      "cell_type": "markdown",
      "metadata": {
        "id": "hyai-GAA1pto"
      },
      "source": [
        "### Plots"
      ]
    },
    {
      "cell_type": "code",
      "metadata": {
        "colab": {
          "base_uri": "https://localhost:8080/",
          "height": 317
        },
        "id": "EyzgkqsZUst1",
        "outputId": "c5731ce5-b78e-4a33-fb47-fefe084a4db5"
      },
      "source": [
        "\n",
        "infect = pd.concat([y_multi_i_total,\n",
        "                   data.Cases_daily.iloc[lag:].reset_index(drop = True), \n",
        "                   data.Date.iloc[lag:].reset_index(drop = True)],\n",
        "                  axis=1)\n",
        "infect.columns = ['multi_i', 'actual', 'Date']\n",
        "tick_spacing = 5\n",
        "date_test = data['Date'][0+index+lag-1]\n",
        "\n",
        "\n",
        "ax = plt.axes()\n",
        "plt.plot(infect['Date'],infect['multi_i'], label = \"Predicted\")\n",
        "plt.plot(data['Date'],data['Cases_daily'], label = \"Actual\")\n",
        "plt.legend(frameon=False, loc='upper center', ncol = 2, fontsize = 'x-large')\n",
        "plt.title(\"Cases Prediction\", fontsize = 'xx-large')\n",
        "plt.tick_params('x',labelrotation=90)\n",
        "plt.axvline(date_test, color=\"gray\", linestyle=\"--\")\n",
        "plt.grid(True, which='both', alpha=0.3)\n"
      ],
      "execution_count": 34,
      "outputs": [
        {
          "output_type": "display_data",
          "data": {
            "image/png": "[encoded data removed]",
            "text/plain": [
              "<Figure size 432x288 with 1 Axes>"
            ]
          },
          "metadata": {
            "needs_background": "light"
          }
        }
      ]
    },
    {
      "cell_type": "markdown",
      "metadata": {
        "id": "mYcJN621o8A2"
      },
      "source": [
        "### Result Table"
      ]
    },
    {
      "cell_type": "code",
      "metadata": {
        "colab": {
          "base_uri": "https://localhost:8080/",
          "height": 542
        },
        "id": "fHC8w-KqZG7-",
        "outputId": "b377d109-b0b8-4ad3-fc3a-09b351715111"
      },
      "source": [
        "fig = go.Figure(data=[go.Table(header=dict(values=['Model Type', 'Best Model', 'Training', 'Test'],\n",
        "                                           line_color = 'gray'),\n",
        "                               cells=dict(values=[['Multivariate: Confirmed Deaths'],\n",
        "                                                  [multi_ie],\n",
        "                                    [round(scores_multi_i1[1],3)],\n",
        "                                    [round(scores_multi_i[1],3)]],\n",
        "                            align=['left','center', 'center', 'center'],\n",
        "                            fill_color = 'white',\n",
        "                            line_color = 'gray'))\n",
        "                     ])\n",
        "fig.update_layout(title = \"Mean Absolute Percentage Error\",title_x=0.5)\n",
        "fig.show()"
      ],
      "execution_count": 35,
      "outputs": [
        {
          "output_type": "display_data",
          "data": {
            "text/html": [
              "<html>\n",
              "<head><meta charset=\"utf-8\" /></head>\n",
              "<body>\n",
              "    <div>\n",
              "            <script src=\"https://cdnjs.cloudflare.com/ajax/libs/mathjax/2.7.5/MathJax.js?config=TeX-AMS-MML_SVG\"></script><script type=\"text/javascript\">if (window.MathJax) {MathJax.Hub.Config({SVG: {font: \"STIX-Web\"}});}</script>\n",
              "                <script type=\"text/javascript\">window.PlotlyConfig = {MathJaxConfig: 'local'};</script>\n",
              "        <script src=\"https://cdn.plot.ly/plotly-latest.min.js\"></script>    \n",
              "            <div id=\"3e07f98e-2f9c-48cf-939b-e1df0d3aeff8\" class=\"plotly-graph-div\" style=\"height:525px; width:100%;\"></div>\n",
              "            <script type=\"text/javascript\">\n",
              "                \n",
              "                    window.PLOTLYENV=window.PLOTLYENV || {};\n",
              "                    \n",
              "                if (document.getElementById(\"3e07f98e-2f9c-48cf-939b-e1df0d3aeff8\")) {\n",
              "                    Plotly.newPlot(\n",
              "                        '3e07f98e-2f9c-48cf-939b-e1df0d3aeff8',\n",
              "                        [{\"cells\": {\"align\": [\"left\", \"center\", \"center\", \"center\"], \"fill\": {\"color\": \"white\"}, \"line\": {\"color\": \"gray\"}, \"values\": [[\"Multivariate: Confirmed Deaths\"], [\"RNNs\"], [2.824], [28.703]]}, \"header\": {\"line\": {\"color\": \"gray\"}, \"values\": [\"Model Type\", \"Best Model\", \"Training\", \"Test\"]}, \"type\": \"table\"}],\n",
              "                        {\"template\": {\"data\": {\"bar\": [{\"error_x\": {\"color\": \"#2a3f5f\"}, \"error_y\": {\"color\": \"#2a3f5f\"}, \"marker\": {\"line\": {\"color\": \"#E5ECF6\", \"width\": 0.5}}, \"type\": \"bar\"}], \"barpolar\": [{\"marker\": {\"line\": {\"color\": \"#E5ECF6\", \"width\": 0.5}}, \"type\": \"barpolar\"}], \"carpet\": [{\"aaxis\": {\"endlinecolor\": \"#2a3f5f\", \"gridcolor\": \"white\", \"linecolor\": \"white\", \"minorgridcolor\": \"white\", \"startlinecolor\": \"#2a3f5f\"}, \"baxis\": {\"endlinecolor\": \"#2a3f5f\", \"gridcolor\": \"white\", \"linecolor\": \"white\", \"minorgridcolor\": \"white\", \"startlinecolor\": \"#2a3f5f\"}, \"type\": \"carpet\"}], \"choropleth\": [{\"colorbar\": {\"outlinewidth\": 0, \"ticks\": \"\"}, \"type\": \"choropleth\"}], \"contour\": [{\"colorbar\": {\"outlinewidth\": 0, \"ticks\": \"\"}, \"colorscale\": [[0.0, \"#0d0887\"], [0.1111111111111111, \"#46039f\"], [0.2222222222222222, \"#7201a8\"], [0.3333333333333333, \"#9c179e\"], [0.4444444444444444, \"#bd3786\"], [0.5555555555555556, \"#d8576b\"], [0.6666666666666666, \"#ed7953\"], [0.7777777777777778, \"#fb9f3a\"], [0.8888888888888888, \"#fdca26\"], [1.0, \"#f0f921\"]], \"type\": \"contour\"}], \"contourcarpet\": [{\"colorbar\": {\"outlinewidth\": 0, \"ticks\": \"\"}, \"type\": \"contourcarpet\"}], \"heatmap\": [{\"colorbar\": {\"outlinewidth\": 0, \"ticks\": \"\"}, \"colorscale\": [[0.0, \"#0d0887\"], [0.1111111111111111, \"#46039f\"], [0.2222222222222222, \"#7201a8\"], [0.3333333333333333, \"#9c179e\"], [0.4444444444444444, \"#bd3786\"], [0.5555555555555556, \"#d8576b\"], [0.6666666666666666, \"#ed7953\"], [0.7777777777777778, \"#fb9f3a\"], [0.8888888888888888, \"#fdca26\"], [1.0, \"#f0f921\"]], \"type\": \"heatmap\"}], \"heatmapgl\": [{\"colorbar\": {\"outlinewidth\": 0, \"ticks\": \"\"}, \"colorscale\": [[0.0, \"#0d0887\"], [0.1111111111111111, \"#46039f\"], [0.2222222222222222, \"#7201a8\"], [0.3333333333333333, \"#9c179e\"], [0.4444444444444444, \"#bd3786\"], [0.5555555555555556, \"#d8576b\"], [0.6666666666666666, \"#ed7953\"], [0.7777777777777778, \"#fb9f3a\"], [0.8888888888888888, \"#fdca26\"], [1.0, \"#f0f921\"]], \"type\": \"heatmapgl\"}], \"histogram\": [{\"marker\": {\"colorbar\": {\"outlinewidth\": 0, \"ticks\": \"\"}}, \"type\": \"histogram\"}], \"histogram2d\": [{\"colorbar\": {\"outlinewidth\": 0, \"ticks\": \"\"}, \"colorscale\": [[0.0, \"#0d0887\"], [0.1111111111111111, \"#46039f\"], [0.2222222222222222, \"#7201a8\"], [0.3333333333333333, \"#9c179e\"], [0.4444444444444444, \"#bd3786\"], [0.5555555555555556, \"#d8576b\"], [0.6666666666666666, \"#ed7953\"], [0.7777777777777778, \"#fb9f3a\"], [0.8888888888888888, \"#fdca26\"], [1.0, \"#f0f921\"]], \"type\": \"histogram2d\"}], \"histogram2dcontour\": [{\"colorbar\": {\"outlinewidth\": 0, \"ticks\": \"\"}, \"colorscale\": [[0.0, \"#0d0887\"], [0.1111111111111111, \"#46039f\"], [0.2222222222222222, \"#7201a8\"], [0.3333333333333333, \"#9c179e\"], [0.4444444444444444, \"#bd3786\"], [0.5555555555555556, \"#d8576b\"], [0.6666666666666666, \"#ed7953\"], [0.7777777777777778, \"#fb9f3a\"], [0.8888888888888888, \"#fdca26\"], [1.0, \"#f0f921\"]], \"type\": \"histogram2dcontour\"}], \"mesh3d\": [{\"colorbar\": {\"outlinewidth\": 0, \"ticks\": \"\"}, \"type\": \"mesh3d\"}], \"parcoords\": [{\"line\": {\"colorbar\": {\"outlinewidth\": 0, \"ticks\": \"\"}}, \"type\": \"parcoords\"}], \"pie\": [{\"automargin\": true, \"type\": \"pie\"}], \"scatter\": [{\"marker\": {\"colorbar\": {\"outlinewidth\": 0, \"ticks\": \"\"}}, \"type\": \"scatter\"}], \"scatter3d\": [{\"line\": {\"colorbar\": {\"outlinewidth\": 0, \"ticks\": \"\"}}, \"marker\": {\"colorbar\": {\"outlinewidth\": 0, \"ticks\": \"\"}}, \"type\": \"scatter3d\"}], \"scattercarpet\": [{\"marker\": {\"colorbar\": {\"outlinewidth\": 0, \"ticks\": \"\"}}, \"type\": \"scattercarpet\"}], \"scattergeo\": [{\"marker\": {\"colorbar\": {\"outlinewidth\": 0, \"ticks\": \"\"}}, \"type\": \"scattergeo\"}], \"scattergl\": [{\"marker\": {\"colorbar\": {\"outlinewidth\": 0, \"ticks\": \"\"}}, \"type\": \"scattergl\"}], \"scattermapbox\": [{\"marker\": {\"colorbar\": {\"outlinewidth\": 0, \"ticks\": \"\"}}, \"type\": \"scattermapbox\"}], \"scatterpolar\": [{\"marker\": {\"colorbar\": {\"outlinewidth\": 0, \"ticks\": \"\"}}, \"type\": \"scatterpolar\"}], \"scatterpolargl\": [{\"marker\": {\"colorbar\": {\"outlinewidth\": 0, \"ticks\": \"\"}}, \"type\": \"scatterpolargl\"}], \"scatterternary\": [{\"marker\": {\"colorbar\": {\"outlinewidth\": 0, \"ticks\": \"\"}}, \"type\": \"scatterternary\"}], \"surface\": [{\"colorbar\": {\"outlinewidth\": 0, \"ticks\": \"\"}, \"colorscale\": [[0.0, \"#0d0887\"], [0.1111111111111111, \"#46039f\"], [0.2222222222222222, \"#7201a8\"], [0.3333333333333333, \"#9c179e\"], [0.4444444444444444, \"#bd3786\"], [0.5555555555555556, \"#d8576b\"], [0.6666666666666666, \"#ed7953\"], [0.7777777777777778, \"#fb9f3a\"], [0.8888888888888888, \"#fdca26\"], [1.0, \"#f0f921\"]], \"type\": \"surface\"}], \"table\": [{\"cells\": {\"fill\": {\"color\": \"#EBF0F8\"}, \"line\": {\"color\": \"white\"}}, \"header\": {\"fill\": {\"color\": \"#C8D4E3\"}, \"line\": {\"color\": \"white\"}}, \"type\": \"table\"}]}, \"layout\": {\"annotationdefaults\": {\"arrowcolor\": \"#2a3f5f\", \"arrowhead\": 0, \"arrowwidth\": 1}, \"coloraxis\": {\"colorbar\": {\"outlinewidth\": 0, \"ticks\": \"\"}}, \"colorscale\": {\"diverging\": [[0, \"#8e0152\"], [0.1, \"#c51b7d\"], [0.2, \"#de77ae\"], [0.3, \"#f1b6da\"], [0.4, \"#fde0ef\"], [0.5, \"#f7f7f7\"], [0.6, \"#e6f5d0\"], [0.7, \"#b8e186\"], [0.8, \"#7fbc41\"], [0.9, \"#4d9221\"], [1, \"#276419\"]], \"sequential\": [[0.0, \"#0d0887\"], [0.1111111111111111, \"#46039f\"], [0.2222222222222222, \"#7201a8\"], [0.3333333333333333, \"#9c179e\"], [0.4444444444444444, \"#bd3786\"], [0.5555555555555556, \"#d8576b\"], [0.6666666666666666, \"#ed7953\"], [0.7777777777777778, \"#fb9f3a\"], [0.8888888888888888, \"#fdca26\"], [1.0, \"#f0f921\"]], \"sequentialminus\": [[0.0, \"#0d0887\"], [0.1111111111111111, \"#46039f\"], [0.2222222222222222, \"#7201a8\"], [0.3333333333333333, \"#9c179e\"], [0.4444444444444444, \"#bd3786\"], [0.5555555555555556, \"#d8576b\"], [0.6666666666666666, \"#ed7953\"], [0.7777777777777778, \"#fb9f3a\"], [0.8888888888888888, \"#fdca26\"], [1.0, \"#f0f921\"]]}, \"colorway\": [\"#636efa\", \"#EF553B\", \"#00cc96\", \"#ab63fa\", \"#FFA15A\", \"#19d3f3\", \"#FF6692\", \"#B6E880\", \"#FF97FF\", \"#FECB52\"], \"font\": {\"color\": \"#2a3f5f\"}, \"geo\": {\"bgcolor\": \"white\", \"lakecolor\": \"white\", \"landcolor\": \"#E5ECF6\", \"showlakes\": true, \"showland\": true, \"subunitcolor\": \"white\"}, \"hoverlabel\": {\"align\": \"left\"}, \"hovermode\": \"closest\", \"mapbox\": {\"style\": \"light\"}, \"paper_bgcolor\": \"white\", \"plot_bgcolor\": \"#E5ECF6\", \"polar\": {\"angularaxis\": {\"gridcolor\": \"white\", \"linecolor\": \"white\", \"ticks\": \"\"}, \"bgcolor\": \"#E5ECF6\", \"radialaxis\": {\"gridcolor\": \"white\", \"linecolor\": \"white\", \"ticks\": \"\"}}, \"scene\": {\"xaxis\": {\"backgroundcolor\": \"#E5ECF6\", \"gridcolor\": \"white\", \"gridwidth\": 2, \"linecolor\": \"white\", \"showbackground\": true, \"ticks\": \"\", \"zerolinecolor\": \"white\"}, \"yaxis\": {\"backgroundcolor\": \"#E5ECF6\", \"gridcolor\": \"white\", \"gridwidth\": 2, \"linecolor\": \"white\", \"showbackground\": true, \"ticks\": \"\", \"zerolinecolor\": \"white\"}, \"zaxis\": {\"backgroundcolor\": \"#E5ECF6\", \"gridcolor\": \"white\", \"gridwidth\": 2, \"linecolor\": \"white\", \"showbackground\": true, \"ticks\": \"\", \"zerolinecolor\": \"white\"}}, \"shapedefaults\": {\"line\": {\"color\": \"#2a3f5f\"}}, \"ternary\": {\"aaxis\": {\"gridcolor\": \"white\", \"linecolor\": \"white\", \"ticks\": \"\"}, \"baxis\": {\"gridcolor\": \"white\", \"linecolor\": \"white\", \"ticks\": \"\"}, \"bgcolor\": \"#E5ECF6\", \"caxis\": {\"gridcolor\": \"white\", \"linecolor\": \"white\", \"ticks\": \"\"}}, \"title\": {\"x\": 0.05}, \"xaxis\": {\"automargin\": true, \"gridcolor\": \"white\", \"linecolor\": \"white\", \"ticks\": \"\", \"title\": {\"standoff\": 15}, \"zerolinecolor\": \"white\", \"zerolinewidth\": 2}, \"yaxis\": {\"automargin\": true, \"gridcolor\": \"white\", \"linecolor\": \"white\", \"ticks\": \"\", \"title\": {\"standoff\": 15}, \"zerolinecolor\": \"white\", \"zerolinewidth\": 2}}}, \"title\": {\"text\": \"Mean Absolute Percentage Error\", \"x\": 0.5}},\n",
              "                        {\"responsive\": true}\n",
              "                    ).then(function(){\n",
              "                            \n",
              "var gd = document.getElementById('3e07f98e-2f9c-48cf-939b-e1df0d3aeff8');\n",
              "var x = new MutationObserver(function (mutations, observer) {{\n",
              "        var display = window.getComputedStyle(gd).display;\n",
              "        if (!display || display === 'none') {{\n",
              "            console.log([gd, 'removed!']);\n",
              "            Plotly.purge(gd);\n",
              "            observer.disconnect();\n",
              "        }}\n",
              "}});\n",
              "\n",
              "// Listen for the removal of the full notebook cells\n",
              "var notebookContainer = gd.closest('#notebook-container');\n",
              "if (notebookContainer) {{\n",
              "    x.observe(notebookContainer, {childList: true});\n",
              "}}\n",
              "\n",
              "// Listen for the clearing of the current output cell\n",
              "var outputEl = gd.closest('.output');\n",
              "if (outputEl) {{\n",
              "    x.observe(outputEl, {childList: true});\n",
              "}}\n",
              "\n",
              "                        })\n",
              "                };\n",
              "                \n",
              "            </script>\n",
              "        </div>\n",
              "</body>\n",
              "</html>"
            ]
          },
          "metadata": {}
        }
      ]
    },
    {
      "cell_type": "markdown",
      "metadata": {
        "id": "A3e1k3G6ADwq"
      },
      "source": [
        "## Future Predictions\n",
        "\n",
        "---\n",
        "\n"
      ]
    },
    {
      "cell_type": "code",
      "metadata": {
        "id": "OGSzHCk9ZXWD"
      },
      "source": [
        "# Multivariate\n",
        "def future_prediction_multi(input, model, days_predicted, total_prediction):\n",
        "  all_prediction = pd.DataFrame(total_prediction)\n",
        "\n",
        "  # use the last 14 days from actual data\n",
        "  all_input = input[-14:]\n",
        "\n",
        "  for i in range(1,days_predicted + 1):\n",
        "    # create a matrix of input with 14 previous days for all features\n",
        "    new_input = np.expand_dims(all_input[-14:], axis = 0) \n",
        "\n",
        "    # set seed\n",
        "    seed(1)\n",
        "    tensorflow.random.set_seed(1)\n",
        "\n",
        "    # make the next day prediction\n",
        "    last_output = pd.DataFrame(model.predict(new_input))\n",
        "\n",
        "    # record the prediction\n",
        "    all_prediction = pd.concat([all_prediction, pd.DataFrame(last_output)], ignore_index=True)\n",
        "\n",
        "\n",
        "    # use resident to predict future resident using trained model\n",
        "    new_driving = pd.DataFrame(model_apple.predict(np.array(all_input.iloc[-lag:, 1]).reshape(1,lag,1)))\n",
        "    new_retail = pd.DataFrame(model_mob_retail.predict(np.array(all_input.iloc[-lag:, 2]).reshape(1,lag,1)))\n",
        "    new_parks = pd.DataFrame(model_mob_parks.predict(np.array(all_input.iloc[-lag:, 3]).reshape(1,lag,1)))\n",
        "    new_transit = pd.DataFrame(model_mob_transit.predict(np.array(all_input.iloc[-lag:, 4]).reshape(1,lag,1)))\n",
        "    new_resident = pd.DataFrame(model_mob_resident.predict(np.array(all_input.iloc[-lag:, 5]).reshape(1,lag,1)))\n",
        "\n",
        "    # new row\n",
        "    new_row = [last_output[0], new_driving, new_retail, new_parks, new_transit, new_resident]\n",
        "    new_row = list(itertools.chain(*new_row))\n",
        "\n",
        "    # feed the new row back to data frame as new input\n",
        "    all_input.loc[len(all_input)] = new_row\n",
        "  return all_prediction\n",
        "\n"
      ],
      "execution_count": 36,
      "outputs": []
    },
    {
      "cell_type": "code",
      "metadata": {
        "colab": {
          "base_uri": "https://localhost:8080/"
        },
        "id": "UtqJ3c_VmuPQ",
        "outputId": "b1f0c040-e33c-4452-89a8-838fdcb65ba3"
      },
      "source": [
        "# train model for Driving\n",
        "seed(1)\n",
        "tensorflow.random.set_seed(1)\n",
        "\n",
        "model_apple = Sequential()\n",
        "model_apple.add(SimpleRNN(1024, activation='relu', input_shape=(X_tr_Driving.shape[1], X_tr_Driving.shape[2])))\n",
        "model_apple.add(Dense(1, activation = \"linear\"))\n",
        "model_apple.compile(loss='mse', optimizer='adam', metrics = \"MAPE\")\n",
        "\n",
        "# fit network\n",
        "model_apple.fit(X_tr_Driving, y_tr_Driving, \n",
        "                           epochs=50, \n",
        "                           batch_size=1, \n",
        "                           verbose=0, \n",
        "                           shuffle=False)\n",
        "\n",
        "\n",
        "# train model for retail\n",
        "seed(1)\n",
        "tensorflow.random.set_seed(1)\n",
        "\n",
        "model_mob_retail = Sequential()\n",
        "model_mob_retail.add(LSTM(64, activation='relu', input_shape=(X_tr_retail.shape[1], X_tr_retail.shape[2])))\n",
        "model_mob_retail.add(Dense(1, activation = \"linear\"))\n",
        "model_mob_retail.compile(loss='mse', optimizer='adam', metrics = \"MAPE\")\n",
        "\n",
        "# fit network\n",
        "model_mob_retail.fit(X_tr_retail, y_tr_retail, \n",
        "                           epochs=50, \n",
        "                           batch_size=1, \n",
        "                           verbose=0, \n",
        "                           shuffle=False)\n",
        "\n",
        "\n",
        "\n",
        "# train model for parks\n",
        "seed(1)\n",
        "tensorflow.random.set_seed(1)\n",
        "\n",
        "model_mob_parks = Sequential()\n",
        "model_mob_parks.add(Conv1D(512, kernel_size = 7, activation='relu', input_shape=(X_tr_parks.shape[1], X_tr_parks.shape[2])))\n",
        "model_mob_parks.add(MaxPooling1D(2))\n",
        "model_mob_parks.add(Flatten())\n",
        "model_mob_parks.add(Dense(1, activation = \"linear\"))\n",
        "model_mob_parks.compile(loss='mse', optimizer='adam', metrics = \"MAPE\")\n",
        "\n",
        "# fit network\n",
        "model_mob_parks.fit(X_tr_parks, y_tr_parks, \n",
        "                           epochs=50, \n",
        "                           batch_size=1, \n",
        "                           verbose=0, \n",
        "                           shuffle=False)\n",
        "\n",
        "# train model for transit\n",
        "seed(1)\n",
        "tensorflow.random.set_seed(1)\n",
        "\n",
        "model_mob_transit = Sequential()\n",
        "model_mob_transit.add(SimpleRNN(8, activation='relu', input_shape=(X_tr_transit.shape[1], X_tr_transit.shape[2])))\n",
        "model_mob_transit.add(Dense(1, activation = \"linear\"))\n",
        "model_mob_transit.compile(loss='mse', optimizer='adam', metrics = \"MAPE\")\n",
        "\n",
        "# fit network\n",
        "model_mob_transit.fit(X_tr_transit, y_tr_transit, \n",
        "                           epochs=50, \n",
        "                           batch_size=1, \n",
        "                           verbose=0, \n",
        "                           shuffle=False)\n",
        "\n",
        "\n",
        "\n",
        "\n",
        "# train model for resident\n",
        "seed(1)\n",
        "tensorflow.random.set_seed(1)\n",
        "model_mob_resident = Sequential()\n",
        "model_mob_resident.add(SimpleRNN(128, activation='relu', input_shape=(X_tr_resident.shape[1], X_tr_resident.shape[2])))\n",
        "model_mob_resident.add(Dense(1, activation = \"linear\"))\n",
        "model_mob_resident.compile(loss='mse', optimizer='adam', metrics = \"MAPE\")\n",
        "\n",
        "# fit network\n",
        "model_mob_resident.fit(X_tr_resident, y_tr_resident, \n",
        "                           epochs=50, \n",
        "                           batch_size=1, \n",
        "                           verbose=0, \n",
        "                           shuffle=False)\n"
      ],
      "execution_count": 37,
      "outputs": [
        {
          "output_type": "execute_result",
          "data": {
            "text/plain": [
              "<keras.callbacks.History at 0x7ff606c25e10>"
            ]
          },
          "metadata": {},
          "execution_count": 37
        }
      ]
    },
    {
      "cell_type": "code",
      "metadata": {
        "colab": {
          "base_uri": "https://localhost:8080/"
        },
        "id": "7QTBeaH8eXZh",
        "outputId": "ada3d905-7400-4c2a-9b45-afc8f8c4a5e2"
      },
      "source": [
        "\n",
        "# multivariate confirmed deaths\n",
        "multi_i_pred = future_prediction_multi(data_i, model_multi_i, days_predicted, y_multi_i_total)\n"
      ],
      "execution_count": 38,
      "outputs": [
        {
          "output_type": "stream",
          "name": "stderr",
          "text": [
            "/usr/local/lib/python3.7/dist-packages/pandas/core/indexing.py:670: SettingWithCopyWarning:\n",
            "\n",
            "\n",
            "A value is trying to be set on a copy of a slice from a DataFrame\n",
            "\n",
            "See the caveats in the documentation: https://pandas.pydata.org/pandas-docs/stable/user_guide/indexing.html#returning-a-view-versus-a-copy\n",
            "\n"
          ]
        }
      ]
    },
    {
      "cell_type": "markdown",
      "metadata": {
        "id": "Spgb1Mqcoj3N"
      },
      "source": [
        "### Plots"
      ]
    },
    {
      "cell_type": "code",
      "metadata": {
        "colab": {
          "base_uri": "https://localhost:8080/",
          "height": 754
        },
        "id": "iGH4saqYm13w",
        "outputId": "71f415f2-220c-4a56-aa83-b16c5888ec2c"
      },
      "source": [
        "\n",
        "pred = pd.concat([multi_i_pred],\n",
        "                 axis=1)\n",
        "pred.columns = ['multi_i']\n",
        "\n",
        "start_date = data.Date[lag]\n",
        "\n",
        "# extract actual data\n",
        "act = data[(data['Date'] >= start_date)].reset_index(drop = True)\n",
        "act = act[0:len(pred)]\n",
        "\n",
        "\n",
        "pred = pd.concat([pred, act], axis = 1)\n",
        "\n",
        "date_test = pred['Date'][0+index]\n",
        "date_predict = data['Date'][len(y_multi_i_total)+lag]\n",
        "tick_spacing = 5\n",
        "\n",
        "fig, axes = plt.subplots(figsize=(20,10)) \n",
        "fig.suptitle(\"Covid-19 Future Prediction in Thailand\", fontsize=20)\n",
        "\n",
        "\n",
        "# Multivariate confirmed deaths\n",
        "axes.plot(pred['Date'],pred['multi_i'], label = multi_ie)\n",
        "axes.plot(pred['Date'], pred['Cases_daily'], label = \"Actual\")\n",
        "axes.legend(frameon=False, loc='upper center', ncol = 2, fontsize = 'x-large')\n",
        "axes.set_title(\"Multivariate: Confirmed Cases\", fontsize = 'xx-large')\n",
        "axes.tick_params('x',labelrotation=90)\n",
        "axes.axvline(date_test, color=\"gray\", linestyle=\"--\")\n",
        "axes.axvline(date_predict, color=\"gray\", linestyle=\"--\")\n",
        "axes.xaxis.set_major_locator(ticker.MultipleLocator(tick_spacing))\n",
        "axes.set_xticks(pred['Date'], minor=True)\n",
        "axes.xaxis.grid(True, which='both', alpha=0.3)\n",
        "\n",
        "fig.text(0.5, -0.02, 'Date', ha='center', fontsize=15)\n",
        "fig.text(-0.02, 0.5, 'Cases', va='center', rotation='vertical', fontsize=15)\n",
        "fig.tight_layout(pad=3.0)\n",
        "fig.subplots_adjust(top=0.9)\n",
        "plt.show()"
      ],
      "execution_count": 39,
      "outputs": [
        {
          "output_type": "display_data",
          "data": {
            "image/png": "[encoded data removed]",
            "text/plain": [
              "<Figure size 1440x720 with 1 Axes>"
            ]
          },
          "metadata": {
            "needs_background": "light"
          }
        }
      ]
    },
    {
      "cell_type": "code",
      "metadata": {
        "id": "Xa86nWrI8zWz"
      },
      "source": [
        ""
      ],
      "execution_count": null,
      "outputs": []
    },
    {
      "cell_type": "code",
      "metadata": {
        "id": "QrcfVV13Yx2f"
      },
      "source": [
        ""
      ],
      "execution_count": null,
      "outputs": []
    }
  ]
}