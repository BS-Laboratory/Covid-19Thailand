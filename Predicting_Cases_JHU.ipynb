{
  "nbformat": 4,
  "nbformat_minor": 0,
  "metadata": {
    "colab": {
      "name": "Predicting Cases - JHU",
      "provenance": [],
      "toc_visible": true,
      "authorship_tag": "ABX9TyNhotl46PBPl5OnI3dKtvVZ",
      "include_colab_link": true
    },
    "kernelspec": {
      "name": "python3",
      "display_name": "Python 3"
    },
    "language_info": {
      "name": "python"
    }
  },
  "cells": [
    {
      "cell_type": "markdown",
      "metadata": {
        "id": "view-in-github",
        "colab_type": "text"
      },
      "source": [
        "<a href=\"https://colab.research.google.com/github/Tanainan/Covid-19Thailand/blob/main/Predicting_Cases_JHU.ipynb\" target=\"_parent\"><img src=\"https://colab.research.google.com/assets/colab-badge.svg\" alt=\"Open In Colab\"/></a>"
      ]
    },
    {
      "cell_type": "markdown",
      "metadata": {
        "id": "IKtXnoSr408H"
      },
      "source": [
        "# Covid-19 Trends Prediction in Thailand Using Time Series Neural Networks\n",
        "\n",
        "---\n",
        "\n",
        "\n",
        "We used convolutional neural network (CNN), recurrent neural networks (RNNs), gated recurrent unit (GRU) and long short-term memory (LSTM) to predict Covid-19 cases in Thailand, using 14 previous days as samples to predict the next 1 day. These models particularly deal with time series data. Further, we ran multivariate neural networks with mobility changes as additional predictors. Our goal was to minimize the mean average percentage error (MAPE) between the actual values and predictions.  \n",
        "\n",
        "\n",
        "\n",
        "## Data Sources\n",
        "\n",
        "\n",
        "The Covid-19 data was from https://github.com/CSSEGISandData/COVID-19 by John Hopkins University. The data included confirmed infects reported by Thailand’s Ministry of Public Health. \n",
        "\n",
        "The mobility data was from Google (https://www.google.com/covid19/mobility). Google calculated the changes of mobility based on Location History of users on Google Map. The baseline of the changes was the median value from January, 3rd to February 6th, 2020. There were four categories: groceries and pharmacy, retail and recreation, transit stations, and finally, parks. Another source of mobility was from Apple where it tracked driving and walking behaviors during the pandemic (https://covid19.apple.com/mobility). However, we only used driving data from Apple in this experiment due to prediction accuracy of the variables. See more detail: https://github.com/Tanainan/Covid-19Thailand/blob/main/Covid_python_with_apple.ipynb. \n"
      ]
    },
    {
      "cell_type": "markdown",
      "metadata": {
        "id": "nql6C-sLih4Q"
      },
      "source": [
        "# Import"
      ]
    },
    {
      "cell_type": "code",
      "metadata": {
        "colab": {
          "base_uri": "https://localhost:8080/"
        },
        "id": "7wkBPHU6VW_u",
        "outputId": "98ee6808-6562-40be-ed13-ee8ef6b86206"
      },
      "source": [
        "!pip install -U tensorflow-addons\n",
        "from numpy import array\n",
        "from numpy import hstack\n",
        "from keras.models import Sequential\n",
        "from keras.layers import LSTM\n",
        "from keras.layers import Dense, Dropout, Activation\n",
        "from keras.layers import GRU\n",
        "from keras.layers import SimpleRNN\n",
        "from keras.layers import TimeDistributed\n",
        "from keras.layers import Bidirectional\n",
        "from keras.layers.convolutional import Conv1D\n",
        "from keras.layers.convolutional import MaxPooling1D\n",
        "from tensorflow_addons.layers import InstanceNormalization, GroupNormalization\n",
        "from keras.layers import LayerNormalization\n",
        "from keras.layers import Flatten\n",
        "from pandas import read_csv\n",
        "from pandas import DataFrame\n",
        "from pandas import concat\n",
        "import pandas as pd\n",
        "import numpy as np\n",
        "from statistics import stdev\n",
        "from statistics import mean\n",
        "from matplotlib import pyplot\n",
        "from numpy.random import seed\n",
        "import tensorflow\n",
        "from matplotlib import pyplot as plt\n",
        "import datetime as dt\n",
        "import matplotlib.ticker as ticker\n",
        "import plotly.graph_objects as go\n",
        "from statsmodels.graphics.factorplots import interaction_plot\n",
        "np.set_printoptions(threshold=np.inf)\n",
        "pd.set_option('display.max_rows', None)\n",
        "import itertools\n",
        "!pip install -U scikit-learn\n",
        "from sklearn.metrics import mean_absolute_percentage_error\n",
        "from tensorflow.keras.utils import to_categorical\n",
        "import random\n",
        "\n"
      ],
      "execution_count": 1,
      "outputs": [
        {
          "output_type": "stream",
          "name": "stdout",
          "text": [
            "Collecting tensorflow-addons\n",
            "  Downloading tensorflow_addons-0.15.0-cp37-cp37m-manylinux_2_12_x86_64.manylinux2010_x86_64.whl (1.1 MB)\n",
            "\u001b[?25l\r\u001b[K     |▎                               | 10 kB 23.4 MB/s eta 0:00:01\r\u001b[K     |▋                               | 20 kB 30.9 MB/s eta 0:00:01\r\u001b[K     |▉                               | 30 kB 36.1 MB/s eta 0:00:01\r\u001b[K     |█▏                              | 40 kB 38.8 MB/s eta 0:00:01\r\u001b[K     |█▌                              | 51 kB 38.4 MB/s eta 0:00:01\r\u001b[K     |█▊                              | 61 kB 37.2 MB/s eta 0:00:01\r\u001b[K     |██                              | 71 kB 28.9 MB/s eta 0:00:01\r\u001b[K     |██▍                             | 81 kB 28.6 MB/s eta 0:00:01\r\u001b[K     |██▋                             | 92 kB 28.7 MB/s eta 0:00:01\r\u001b[K     |███                             | 102 kB 30.6 MB/s eta 0:00:01\r\u001b[K     |███▎                            | 112 kB 30.6 MB/s eta 0:00:01\r\u001b[K     |███▌                            | 122 kB 30.6 MB/s eta 0:00:01\r\u001b[K     |███▉                            | 133 kB 30.6 MB/s eta 0:00:01\r\u001b[K     |████▏                           | 143 kB 30.6 MB/s eta 0:00:01\r\u001b[K     |████▍                           | 153 kB 30.6 MB/s eta 0:00:01\r\u001b[K     |████▊                           | 163 kB 30.6 MB/s eta 0:00:01\r\u001b[K     |█████                           | 174 kB 30.6 MB/s eta 0:00:01\r\u001b[K     |█████▎                          | 184 kB 30.6 MB/s eta 0:00:01\r\u001b[K     |█████▋                          | 194 kB 30.6 MB/s eta 0:00:01\r\u001b[K     |█████▉                          | 204 kB 30.6 MB/s eta 0:00:01\r\u001b[K     |██████▏                         | 215 kB 30.6 MB/s eta 0:00:01\r\u001b[K     |██████▌                         | 225 kB 30.6 MB/s eta 0:00:01\r\u001b[K     |██████▊                         | 235 kB 30.6 MB/s eta 0:00:01\r\u001b[K     |███████                         | 245 kB 30.6 MB/s eta 0:00:01\r\u001b[K     |███████▍                        | 256 kB 30.6 MB/s eta 0:00:01\r\u001b[K     |███████▋                        | 266 kB 30.6 MB/s eta 0:00:01\r\u001b[K     |████████                        | 276 kB 30.6 MB/s eta 0:00:01\r\u001b[K     |████████▎                       | 286 kB 30.6 MB/s eta 0:00:01\r\u001b[K     |████████▌                       | 296 kB 30.6 MB/s eta 0:00:01\r\u001b[K     |████████▉                       | 307 kB 30.6 MB/s eta 0:00:01\r\u001b[K     |█████████                       | 317 kB 30.6 MB/s eta 0:00:01\r\u001b[K     |█████████▍                      | 327 kB 30.6 MB/s eta 0:00:01\r\u001b[K     |█████████▊                      | 337 kB 30.6 MB/s eta 0:00:01\r\u001b[K     |██████████                      | 348 kB 30.6 MB/s eta 0:00:01\r\u001b[K     |██████████▎                     | 358 kB 30.6 MB/s eta 0:00:01\r\u001b[K     |██████████▋                     | 368 kB 30.6 MB/s eta 0:00:01\r\u001b[K     |██████████▉                     | 378 kB 30.6 MB/s eta 0:00:01\r\u001b[K     |███████████▏                    | 389 kB 30.6 MB/s eta 0:00:01\r\u001b[K     |███████████▌                    | 399 kB 30.6 MB/s eta 0:00:01\r\u001b[K     |███████████▊                    | 409 kB 30.6 MB/s eta 0:00:01\r\u001b[K     |████████████                    | 419 kB 30.6 MB/s eta 0:00:01\r\u001b[K     |████████████▍                   | 430 kB 30.6 MB/s eta 0:00:01\r\u001b[K     |████████████▋                   | 440 kB 30.6 MB/s eta 0:00:01\r\u001b[K     |█████████████                   | 450 kB 30.6 MB/s eta 0:00:01\r\u001b[K     |█████████████▎                  | 460 kB 30.6 MB/s eta 0:00:01\r\u001b[K     |█████████████▌                  | 471 kB 30.6 MB/s eta 0:00:01\r\u001b[K     |█████████████▉                  | 481 kB 30.6 MB/s eta 0:00:01\r\u001b[K     |██████████████                  | 491 kB 30.6 MB/s eta 0:00:01\r\u001b[K     |██████████████▍                 | 501 kB 30.6 MB/s eta 0:00:01\r\u001b[K     |██████████████▊                 | 512 kB 30.6 MB/s eta 0:00:01\r\u001b[K     |███████████████                 | 522 kB 30.6 MB/s eta 0:00:01\r\u001b[K     |███████████████▎                | 532 kB 30.6 MB/s eta 0:00:01\r\u001b[K     |███████████████▋                | 542 kB 30.6 MB/s eta 0:00:01\r\u001b[K     |███████████████▉                | 552 kB 30.6 MB/s eta 0:00:01\r\u001b[K     |████████████████▏               | 563 kB 30.6 MB/s eta 0:00:01\r\u001b[K     |████████████████▌               | 573 kB 30.6 MB/s eta 0:00:01\r\u001b[K     |████████████████▊               | 583 kB 30.6 MB/s eta 0:00:01\r\u001b[K     |█████████████████               | 593 kB 30.6 MB/s eta 0:00:01\r\u001b[K     |█████████████████▍              | 604 kB 30.6 MB/s eta 0:00:01\r\u001b[K     |█████████████████▋              | 614 kB 30.6 MB/s eta 0:00:01\r\u001b[K     |██████████████████              | 624 kB 30.6 MB/s eta 0:00:01\r\u001b[K     |██████████████████▏             | 634 kB 30.6 MB/s eta 0:00:01\r\u001b[K     |██████████████████▌             | 645 kB 30.6 MB/s eta 0:00:01\r\u001b[K     |██████████████████▉             | 655 kB 30.6 MB/s eta 0:00:01\r\u001b[K     |███████████████████             | 665 kB 30.6 MB/s eta 0:00:01\r\u001b[K     |███████████████████▍            | 675 kB 30.6 MB/s eta 0:00:01\r\u001b[K     |███████████████████▊            | 686 kB 30.6 MB/s eta 0:00:01\r\u001b[K     |████████████████████            | 696 kB 30.6 MB/s eta 0:00:01\r\u001b[K     |████████████████████▎           | 706 kB 30.6 MB/s eta 0:00:01\r\u001b[K     |████████████████████▋           | 716 kB 30.6 MB/s eta 0:00:01\r\u001b[K     |████████████████████▉           | 727 kB 30.6 MB/s eta 0:00:01\r\u001b[K     |█████████████████████▏          | 737 kB 30.6 MB/s eta 0:00:01\r\u001b[K     |█████████████████████▌          | 747 kB 30.6 MB/s eta 0:00:01\r\u001b[K     |█████████████████████▊          | 757 kB 30.6 MB/s eta 0:00:01\r\u001b[K     |██████████████████████          | 768 kB 30.6 MB/s eta 0:00:01\r\u001b[K     |██████████████████████▎         | 778 kB 30.6 MB/s eta 0:00:01\r\u001b[K     |██████████████████████▋         | 788 kB 30.6 MB/s eta 0:00:01\r\u001b[K     |███████████████████████         | 798 kB 30.6 MB/s eta 0:00:01\r\u001b[K     |███████████████████████▏        | 808 kB 30.6 MB/s eta 0:00:01\r\u001b[K     |███████████████████████▌        | 819 kB 30.6 MB/s eta 0:00:01\r\u001b[K     |███████████████████████▉        | 829 kB 30.6 MB/s eta 0:00:01\r\u001b[K     |████████████████████████        | 839 kB 30.6 MB/s eta 0:00:01\r\u001b[K     |████████████████████████▍       | 849 kB 30.6 MB/s eta 0:00:01\r\u001b[K     |████████████████████████▊       | 860 kB 30.6 MB/s eta 0:00:01\r\u001b[K     |█████████████████████████       | 870 kB 30.6 MB/s eta 0:00:01\r\u001b[K     |█████████████████████████▎      | 880 kB 30.6 MB/s eta 0:00:01\r\u001b[K     |█████████████████████████▋      | 890 kB 30.6 MB/s eta 0:00:01\r\u001b[K     |█████████████████████████▉      | 901 kB 30.6 MB/s eta 0:00:01\r\u001b[K     |██████████████████████████▏     | 911 kB 30.6 MB/s eta 0:00:01\r\u001b[K     |██████████████████████████▌     | 921 kB 30.6 MB/s eta 0:00:01\r\u001b[K     |██████████████████████████▊     | 931 kB 30.6 MB/s eta 0:00:01\r\u001b[K     |███████████████████████████     | 942 kB 30.6 MB/s eta 0:00:01\r\u001b[K     |███████████████████████████▎    | 952 kB 30.6 MB/s eta 0:00:01\r\u001b[K     |███████████████████████████▋    | 962 kB 30.6 MB/s eta 0:00:01\r\u001b[K     |████████████████████████████    | 972 kB 30.6 MB/s eta 0:00:01\r\u001b[K     |████████████████████████████▏   | 983 kB 30.6 MB/s eta 0:00:01\r\u001b[K     |████████████████████████████▌   | 993 kB 30.6 MB/s eta 0:00:01\r\u001b[K     |████████████████████████████▉   | 1.0 MB 30.6 MB/s eta 0:00:01\r\u001b[K     |█████████████████████████████   | 1.0 MB 30.6 MB/s eta 0:00:01\r\u001b[K     |█████████████████████████████▍  | 1.0 MB 30.6 MB/s eta 0:00:01\r\u001b[K     |█████████████████████████████▊  | 1.0 MB 30.6 MB/s eta 0:00:01\r\u001b[K     |██████████████████████████████  | 1.0 MB 30.6 MB/s eta 0:00:01\r\u001b[K     |██████████████████████████████▎ | 1.1 MB 30.6 MB/s eta 0:00:01\r\u001b[K     |██████████████████████████████▋ | 1.1 MB 30.6 MB/s eta 0:00:01\r\u001b[K     |██████████████████████████████▉ | 1.1 MB 30.6 MB/s eta 0:00:01\r\u001b[K     |███████████████████████████████▏| 1.1 MB 30.6 MB/s eta 0:00:01\r\u001b[K     |███████████████████████████████▍| 1.1 MB 30.6 MB/s eta 0:00:01\r\u001b[K     |███████████████████████████████▊| 1.1 MB 30.6 MB/s eta 0:00:01\r\u001b[K     |████████████████████████████████| 1.1 MB 30.6 MB/s \n",
            "\u001b[?25hRequirement already satisfied: typeguard>=2.7 in /usr/local/lib/python3.7/dist-packages (from tensorflow-addons) (2.7.1)\n",
            "Installing collected packages: tensorflow-addons\n",
            "Successfully installed tensorflow-addons-0.15.0\n"
          ]
        },
        {
          "output_type": "stream",
          "name": "stderr",
          "text": [
            "/usr/local/lib/python3.7/dist-packages/statsmodels/tools/_testing.py:19: FutureWarning:\n",
            "\n",
            "pandas.util.testing is deprecated. Use the functions in the public API at pandas.testing instead.\n",
            "\n"
          ]
        },
        {
          "output_type": "stream",
          "name": "stdout",
          "text": [
            "Requirement already satisfied: scikit-learn in /usr/local/lib/python3.7/dist-packages (1.0.1)\n",
            "Requirement already satisfied: numpy>=1.14.6 in /usr/local/lib/python3.7/dist-packages (from scikit-learn) (1.19.5)\n",
            "Requirement already satisfied: scipy>=1.1.0 in /usr/local/lib/python3.7/dist-packages (from scikit-learn) (1.4.1)\n",
            "Requirement already satisfied: joblib>=0.11 in /usr/local/lib/python3.7/dist-packages (from scikit-learn) (1.1.0)\n",
            "Requirement already satisfied: threadpoolctl>=2.0.0 in /usr/local/lib/python3.7/dist-packages (from scikit-learn) (3.0.0)\n"
          ]
        }
      ]
    },
    {
      "cell_type": "code",
      "metadata": {
        "id": "0Gi4CXOSs_bU"
      },
      "source": [
        "data = read_csv(\"https://raw.githubusercontent.com/owid/covid-19-data/master/public/data/jhu/new_cases.csv\")\n",
        "\n",
        "data = pd.DataFrame(data)\n",
        "\n",
        "# select columns\n",
        "data = data[[\"date\", \"Thailand\"]]\n",
        "\n",
        "# change column name\n",
        "data = data.rename(columns = {'date':'Date', 'Thailand':'Cases_daily'})\n",
        "\n",
        "# # change date format\n",
        "data.Date =  pd.to_datetime(data[\"Date\"])\n",
        "\n",
        "# replace NaN with 0 for ConfirmedCases and ConfirmedDeaths\n",
        "data[[\"Cases_daily\"]] = data[[\"Cases_daily\"]].replace(np.nan, 0)\n",
        "\n",
        "# start from 15/6/2021\n",
        "data = data[data.loc[data['Date'] == \"2021-06-15\"].index[0]:]\n",
        "\n",
        "# # reset index\n",
        "data = data.reset_index(drop = True)\n"
      ],
      "execution_count": 2,
      "outputs": []
    },
    {
      "cell_type": "code",
      "metadata": {
        "colab": {
          "base_uri": "https://localhost:8080/"
        },
        "id": "ypeAPm23VfB0",
        "outputId": "08bf0d86-962c-4aa5-e965-01e7a32e6ec0"
      },
      "source": [
        "mob = read_csv(\"https://www.gstatic.com/covid19/mobility/Global_Mobility_Report.csv\")\n",
        "\n",
        "mob = pd.DataFrame(mob)\n",
        "\n",
        "# select only Thailand\n",
        "mob = mob.loc[mob['country_region'] == \"Thailand\"]\n",
        "\n",
        "# select columns\n",
        "mob = mob[[\"date\",\n",
        "              \"retail_and_recreation_percent_change_from_baseline\",\n",
        "              \"grocery_and_pharmacy_percent_change_from_baseline\",\n",
        "              \"parks_percent_change_from_baseline\",\n",
        "              \"transit_stations_percent_change_from_baseline\",\n",
        "              \"workplaces_percent_change_from_baseline\",\n",
        "              \"residential_percent_change_from_baseline\"]]\n",
        "\n",
        "# change date format\n",
        "mob.date =  pd.to_datetime(mob[\"date\"])\n",
        "\n",
        "# change column name\n",
        "mob = mob.rename(columns = {'date':'Date',\n",
        "                            \"retail_and_recreation_percent_change_from_baseline\":'retail',\n",
        "                            \"grocery_and_pharmacy_percent_change_from_baseline\": \"grocery\",\n",
        "                            \"parks_percent_change_from_baseline\":'parks',\n",
        "                            \"transit_stations_percent_change_from_baseline\":\"transit\",\n",
        "                            \"workplaces_percent_change_from_baseline\":\"workplace\",\n",
        "                            \"residential_percent_change_from_baseline\":\"resident\"})\n",
        "\n",
        "# reset index\n",
        "mob = mob.reset_index(drop = True)\n",
        "\n",
        "# start from 15/6/2021\n",
        "mob = mob[mob.loc[mob['Date'] == \"2021-06-15\"].index[0]:]\n",
        "\n",
        "# reset index\n",
        "mob = mob.reset_index(drop = True)\n",
        "\n",
        "# omit Date column\n",
        "mob = mob.drop([\"Date\"], axis = 1)"
      ],
      "execution_count": 3,
      "outputs": [
        {
          "output_type": "stream",
          "name": "stderr",
          "text": [
            "/usr/local/lib/python3.7/dist-packages/IPython/core/interactiveshell.py:2718: DtypeWarning:\n",
            "\n",
            "Columns (3,4,5) have mixed types.Specify dtype option on import or set low_memory=False.\n",
            "\n"
          ]
        }
      ]
    },
    {
      "cell_type": "code",
      "metadata": {
        "colab": {
          "base_uri": "https://localhost:8080/"
        },
        "id": "zSp2BWwkkDGZ",
        "outputId": "4f7265a4-5720-43f9-fbde-baf1fc1f4db8"
      },
      "source": [
        "apple = read_csv(\"https://raw.githubusercontent.com/ActiveConclusion/COVID19_mobility/master/apple_reports/applemobilitytrends.csv\")\n",
        "\n",
        "apple = pd.DataFrame(apple)\n",
        "\n",
        "apple = apple.loc[apple['region'] == \"Thailand\"]\n",
        "\n",
        "apple = apple.T\n",
        "\n",
        "# select rows\n",
        "apple = apple.drop(apple.index[[0,1,2,3,4,5]], axis= 0)\n",
        "\n",
        "apple[\"Date\"] = pd.to_datetime(apple.index)\n",
        "\n",
        "# change column names\n",
        "apple = apple.rename(columns= {135:\"Driving\", 136:\"Walking\"})\n",
        "\n",
        "apple['Driving'] = apple['Driving'].astype(float, errors = 'raise')\n",
        "apple['Walking'] = apple['Walking'].astype(float, errors = 'raise')\n",
        "\n",
        "# start from 15/6/2021\n",
        "apple = apple[apple.loc[apple['Date'] == \"2021-06-15\"].index[0]:]\n",
        "\n",
        "apple = apple.reset_index(drop=True)\n",
        "\n",
        "# omit Date column\n",
        "apple0 = apple.drop([\"Date\", \"Walking\"], axis = 1)"
      ],
      "execution_count": 4,
      "outputs": [
        {
          "output_type": "stream",
          "name": "stderr",
          "text": [
            "/usr/local/lib/python3.7/dist-packages/IPython/core/interactiveshell.py:2718: DtypeWarning:\n",
            "\n",
            "Columns (3,4) have mixed types.Specify dtype option on import or set low_memory=False.\n",
            "\n"
          ]
        }
      ]
    },
    {
      "cell_type": "code",
      "metadata": {
        "id": "wCuFtjqMkWbW"
      },
      "source": [
        "# whichever has fewer data\n",
        "length = min(len(data), len(mob), len(apple0))\n",
        "\n",
        "# Deaths daily\n",
        "data_i = pd.concat([data.Cases_daily[:length], \n",
        "                    data.Date[:length],\n",
        "                    apple0[:length],\n",
        "                    mob[:length]], axis = 1)\n",
        "\n",
        "data_i = data_i.rename(columns = {\"Cases_daily\":\"data_i\"})\n",
        "# data_i = data_i[data_i.loc[data_i['Date'] == \"2021-06-15\"].index[0]:]\n",
        "\n"
      ],
      "execution_count": 122,
      "outputs": []
    },
    {
      "cell_type": "markdown",
      "metadata": {
        "id": "sXdEkwzi5iYG"
      },
      "source": [
        "Since there were some noises in the data, we adopted moving average method to reduce those noises. The window was 3 days."
      ]
    },
    {
      "cell_type": "code",
      "metadata": {
        "id": "yLHeWiiPXRCO"
      },
      "source": [
        "# use the previous 14 days to predict the next day\n",
        "lag = 14\n",
        "prediction = 1\n",
        "window = 3 # for moving average\n",
        "index = 30\n",
        "days_predicted =14\n",
        "\n",
        "data_i['data_i'] = data_i.data_i.rolling(window).mean()\n",
        "\n",
        "data_i.dropna(subset = [\"data_i\"], inplace=True) # remove the first 2 rows\n",
        "\n",
        "data_i = data_i.reset_index(drop = True)\n",
        "\n",
        "# drop date column\n",
        "data_i = data_i.drop([\"Date\"], axis = 1)\n",
        "\n",
        "# remove last rows for days_predicted\n",
        "data_i = data_i[:-days_predicted]\n",
        "\n",
        "# confirmed cases\n",
        "nrow_total = data_i.shape[0] - lag - prediction + 1\n",
        "input_list = [np.expand_dims(data_i[i:lag+i], axis=0) for i in range(nrow_total)] \n",
        "X_i_p = np.concatenate(input_list, axis=0)\n",
        "\n",
        "y_i_p = np.array([data_i.data_i[lag:data_i.shape[0]]])\n",
        "y_i_p = y_i_p.T # transpose the matrix\n",
        "\n",
        "\n",
        "# split into training and test sets\n",
        "X_i_p_tr = X_i_p[0:index, :, :]\n",
        "X_i_p_ts = X_i_p[index+1:data_i.shape[0], :, :]\n",
        "\n",
        "y_i_p_tr = y_i_p[0:index]\n",
        "y_i_p_ts = y_i_p[index+1:data_i.shape[0]]\n"
      ],
      "execution_count": 123,
      "outputs": []
    },
    {
      "cell_type": "code",
      "metadata": {
        "id": "g9mNq2fInQs5"
      },
      "source": [
        " # For predicting each variable (final part)\n",
        "def split_sequence(sequence, lag):\n",
        "  x, y = list(), list()\n",
        "  for i in range(len(sequence)):\n",
        "    # find the end of this pattern\n",
        "    end_ix = i + lag\n",
        "    # check if we are beyond the sequence\n",
        "    if end_ix > len(sequence)-1:\n",
        "      break\n",
        "    # gather input and output parts of the pattern\n",
        "    seq_x, seq_y = sequence[i:end_ix], sequence[end_ix]\n",
        "    x.append(seq_x)\n",
        "    y.append(seq_y)\n",
        "  return array(x), array(y)\n",
        "\n"
      ],
      "execution_count": 8,
      "outputs": []
    },
    {
      "cell_type": "code",
      "metadata": {
        "id": "pgqjYqMK7Nxm"
      },
      "source": [
        "# retail (univariate)\n",
        "x_retail, y_retail = split_sequence(data_i.retail, lag)\n",
        "\n",
        "# split into training and test sets\n",
        "X_tr_retail = x_retail[0:index+1, :]\n",
        "X_ts_retail = x_retail[index+1:x_retail.shape[0]-days_predicted, :]\n",
        "X_tr_retail = X_tr_retail.reshape(X_tr_retail.shape[0], X_tr_retail.shape[1], 1) # reshape input into 3D\n",
        "X_ts_retail = X_ts_retail.reshape(X_ts_retail.shape[0], X_ts_retail.shape[1], 1)\n",
        "\n",
        "y_tr_retail = y_retail[0:index+1]\n",
        "y_ts_retail = y_retail[index+1:x_retail.shape[0]-days_predicted]\n",
        "y_tr_retail = y_tr_retail.reshape(y_tr_retail.shape[0], 1, 1) # reshape output into 3D\n",
        "y_ts_retail = y_ts_retail.reshape(y_ts_retail.shape[0], 1, 1) \n",
        "\n",
        "# grocery (univariate)\n",
        "x_grocery, y_grocery = split_sequence(data_i.grocery, lag)\n",
        "\n",
        "# split into training and test sets\n",
        "X_tr_grocery = x_grocery[0:index+1, :]\n",
        "X_ts_grocery = x_grocery[index+1:x_grocery.shape[0]-days_predicted, :]\n",
        "X_tr_grocery = X_tr_grocery.reshape(X_tr_grocery.shape[0], X_tr_grocery.shape[1], 1) # reshape input into 3D\n",
        "X_ts_grocery = X_ts_grocery.reshape(X_ts_grocery.shape[0], X_ts_grocery.shape[1], 1)\n",
        "\n",
        "y_tr_grocery = y_grocery[0:index+1]\n",
        "y_ts_grocery = y_grocery[index+1:x_grocery.shape[0]-days_predicted]\n",
        "y_tr_grocery = y_tr_grocery.reshape(y_tr_grocery.shape[0], 1, 1) # reshape output into 3D\n",
        "y_ts_grocery = y_ts_grocery.reshape(y_ts_grocery.shape[0], 1, 1) \n",
        "\n",
        "# parks (univariate)\n",
        "x_parks, y_parks = split_sequence(data_i.parks, lag)\n",
        "\n",
        "# split into training and test sets\n",
        "X_tr_parks = x_parks[0:index+1, :]\n",
        "X_ts_parks = x_parks[index+1:x_parks.shape[0]-days_predicted, :]\n",
        "X_tr_parks = X_tr_parks.reshape(X_tr_parks.shape[0], X_tr_parks.shape[1], 1) # reshape input into 3D\n",
        "X_ts_parks = X_ts_parks.reshape(X_ts_parks.shape[0], X_ts_parks.shape[1], 1)\n",
        "\n",
        "y_tr_parks = y_parks[0:index+1]\n",
        "y_ts_parks = y_parks[index+1:x_parks.shape[0]-days_predicted]\n",
        "y_tr_parks = y_tr_parks.reshape(y_tr_parks.shape[0], 1, 1) # reshape output into 3D\n",
        "y_ts_parks = y_ts_parks.reshape(y_ts_parks.shape[0], 1, 1) \n",
        "\n",
        "\n",
        "# transit (univariate)\n",
        "x_transit, y_transit = split_sequence(data_i.transit, lag)\n",
        "\n",
        "# split into training and test sets\n",
        "X_tr_transit = x_transit[0:index+1, :]\n",
        "X_ts_transit = x_transit[index+1:x_transit.shape[0]-days_predicted, :]\n",
        "X_tr_transit = X_tr_transit.reshape(X_tr_transit.shape[0], X_tr_transit.shape[1], 1) # reshape input into 3D\n",
        "X_ts_transit = X_ts_transit.reshape(X_ts_transit.shape[0], X_ts_transit.shape[1], 1)\n",
        "\n",
        "y_tr_transit = y_transit[0:index+1]\n",
        "y_ts_transit = y_transit[index+1:x_transit.shape[0]-days_predicted]\n",
        "y_tr_transit = y_tr_transit.reshape(y_tr_transit.shape[0], 1, 1) # reshape output into 3D\n",
        "y_ts_transit = y_ts_transit.reshape(y_ts_transit.shape[0], 1, 1) \n",
        "\n",
        "\n",
        "# workplace (univariate)\n",
        "x_workplace, y_workplace = split_sequence(data_i.workplace, lag)\n",
        "\n",
        "# split into training and test sets\n",
        "X_tr_workplace = x_workplace[0:index+1, :]\n",
        "X_ts_workplace = x_workplace[index+1:x_workplace.shape[0]-days_predicted, :]\n",
        "X_tr_workplace = X_tr_workplace.reshape(X_tr_workplace.shape[0], X_tr_workplace.shape[1], 1) # reshape input into 3D\n",
        "X_ts_workplace = X_ts_workplace.reshape(X_ts_workplace.shape[0], X_ts_workplace.shape[1], 1)\n",
        "\n",
        "y_tr_workplace = y_workplace[0:index+1]\n",
        "y_ts_workplace = y_workplace[index+1:x_workplace.shape[0]-days_predicted]\n",
        "y_tr_workplace = y_tr_workplace.reshape(y_tr_workplace.shape[0], 1, 1) # reshape output into 3D\n",
        "y_ts_workplace = y_ts_workplace.reshape(y_ts_workplace.shape[0], 1, 1) \n",
        "\n",
        "\n",
        "# resident (univariate)\n",
        "x_resident, y_resident = split_sequence(data_i.resident, lag)\n",
        "\n",
        "# split into training and test sets\n",
        "X_tr_resident = x_resident[0:index+1, :]\n",
        "X_ts_resident = x_resident[index+1:x_resident.shape[0]-days_predicted, :]\n",
        "X_tr_resident = X_tr_resident.reshape(X_tr_resident.shape[0], X_tr_resident.shape[1], 1) # reshape input into 3D\n",
        "X_ts_resident = X_ts_resident.reshape(X_ts_resident.shape[0], X_ts_resident.shape[1], 1)\n",
        "\n",
        "y_tr_resident = y_resident[0:index+1]\n",
        "y_ts_resident = y_resident[index+1:x_resident.shape[0]-days_predicted]\n",
        "y_tr_resident = y_tr_resident.reshape(y_tr_resident.shape[0], 1, 1) # reshape output into 3D\n",
        "y_ts_resident = y_ts_resident.reshape(y_ts_resident.shape[0], 1, 1) \n",
        "\n",
        "\n",
        "# Driving (univariate)\n",
        "x_Driving, y_Driving = split_sequence(data_i.Driving, lag)\n",
        "\n",
        "# split into training and test sets\n",
        "X_tr_Driving = x_Driving[0:index+1, :]\n",
        "X_ts_Driving = x_Driving[index+1:x_Driving.shape[0]-days_predicted, :]\n",
        "X_tr_Driving = X_tr_Driving.reshape(X_tr_Driving.shape[0], X_tr_Driving.shape[1], 1) # reshape input into 3D\n",
        "X_ts_Driving = X_ts_Driving.reshape(X_ts_Driving.shape[0], X_ts_Driving.shape[1], 1)\n",
        "\n",
        "y_tr_Driving = y_Driving[0:index+1]\n",
        "y_ts_Driving = y_Driving[index+1:x_Driving.shape[0]-days_predicted]\n",
        "y_tr_Driving = y_tr_Driving.reshape(y_tr_Driving.shape[0], 1, 1) # reshape output into 3D\n",
        "y_ts_Driving = y_ts_Driving.reshape(y_ts_Driving.shape[0], 1, 1) "
      ],
      "execution_count": 124,
      "outputs": []
    },
    {
      "cell_type": "markdown",
      "metadata": {
        "id": "eCEO9U_tX6nP"
      },
      "source": [
        "# Analysis\n",
        "\n",
        "---\n",
        "\n",
        "\n",
        "\n",
        "## Hyperparameters Tuning\n",
        "\n",
        "\n",
        "Using the training set matrices for confirmed cases and confirmed deaths and univiariate and multivariate, we tuned for the most optimal numbers of parameters, staring from basic architectures. In this case, we searched for numbers of nodes for LSTM, GRU, and RNNs, and filter, kernel size, and pool for CNN. In the input layer, we added instance normalization to make all values between 0 and 1. Since we were dealing with some data that we had never seen before and the data seemed to be non-stationary, instance normalization might provide more advantages than typical standardization or normalization. The numbers of nodes that we used for our LSTM, GRU, and RNNs experiments were 4, 8, 16, 32, 64, 128, 256, 512, and 1024. Similarly, we used the same pool for CNN filter with kernel size of 3, 5 and 7, and pool of 2 and 3. The activation function for this hidden layer was sigmoid. Next, we added another instance normalization. Finally, the output layer contained one node and Linear activation function. Epoch and batch size were 50 and 1, respectively. We used mean squared error (MSE) as our loss function, ADAM optimization and mean absolute percentage error (MAPE) as a metric for model evaluation.\n"
      ]
    },
    {
      "cell_type": "markdown",
      "metadata": {
        "id": "PgWYXmJLYATE"
      },
      "source": [
        "### CNN"
      ]
    },
    {
      "cell_type": "code",
      "metadata": {
        "id": "pZJnpt8jZRZZ"
      },
      "source": [
        "# CNN Tuning\n",
        "\n",
        "def evaluate_cnn(trainX, trainy, filter, kernel_size, pool):\n",
        "    seed(1)\n",
        "    tensorflow.random.set_seed(1)\n",
        "\n",
        "    verbose, epochs, batch_size = 0, 50, 1\n",
        "    n_timesteps, n_features = trainX.shape[1], trainX.shape[2]\n",
        "\n",
        "    model = Sequential()\n",
        "    model.add(Conv1D(filters = filter, kernel_size=kernel_size, activation='relu',input_shape=(n_timesteps,n_features)))\n",
        "    model.add(MaxPooling1D(pool_size= pool))\n",
        "    model.add(Flatten())\n",
        "    model.add(Dense(1, activation='linear'))\n",
        "    model.compile(loss='mse', optimizer='adam', metrics=['MAPE'])\n",
        "  \n",
        "    # fit network\n",
        "    model.fit(trainX, trainy, epochs=epochs, batch_size=batch_size, verbose=verbose, shuffle = False)\n",
        "    # evaluate model\n",
        "    _, accuracy = model.evaluate(trainX, trainy, batch_size=batch_size, verbose=0)\n",
        "    return accuracy\n",
        "\n",
        "# run an experiment\n",
        "def run_experiment(filters, kernel_size, pool, trainX, trainy):\n",
        "    # test each parameter\n",
        "    all_scores = list()\n",
        "    for filter in filters:\n",
        "      for kernel in kernel_size:\n",
        "        for pooling in pool:\n",
        "          score = evaluate_cnn(trainX, trainy, filter, kernel_size, pool)\n",
        "          print('filter = %d, kernel size = %d, pooling size = %d: %.3f' % (filter, kernel, pooling, score))\n",
        "          all_scores.append(score)\n",
        "    return all_scores\n",
        "    \n",
        "\n",
        "\n",
        "filter = [2, 4, 8, 16, 32, 64, 128, 256, 512, 1024] \n"
      ],
      "execution_count": 125,
      "outputs": []
    },
    {
      "cell_type": "code",
      "metadata": {
        "colab": {
          "base_uri": "https://localhost:8080/"
        },
        "id": "f9h_O6Nsnz2C",
        "outputId": "d53a9ea6-6e82-42bb-bb98-19b64b56bcf3"
      },
      "source": [
        "# Multivariate CNN confirmed cases\n",
        "kernel = [3, 5, 7]\n",
        "pool = [2]\n",
        "cnn_i_multi = list()\n",
        "\n",
        "for i in kernel:\n",
        "  for j in pool:\n",
        "    score = list() \n",
        "    kernel_size, pool = [i],[j]\n",
        "    score = run_experiment(filter, kernel_size, pool, X_i_p_tr, y_i_p_tr)\n",
        "    cnn_i_multi.append(score)\n",
        "\n",
        "pool = [3]\n",
        "\n",
        "for i in kernel:\n",
        "  for j in pool: \n",
        "    score = list()\n",
        "    kernel_size, pool = [i],[j]\n",
        "    score = run_experiment(filter, kernel_size, pool, X_i_p_tr, y_i_p_tr)\n",
        "    cnn_i_multi.append(score)\n",
        "\n",
        "cnn_i_multi = pd.DataFrame(cnn_i_multi).T\n",
        "cnn_i_multi.columns = ['k3p2', 'k3p3','k5p2', 'k7p2', 'k5p3', 'k7p3']"
      ],
      "execution_count": 126,
      "outputs": [
        {
          "output_type": "stream",
          "name": "stdout",
          "text": [
            "filter = 2, kernel size = 3, pooling size = 2: 5.160\n",
            "filter = 4, kernel size = 3, pooling size = 2: 5.583\n",
            "filter = 8, kernel size = 3, pooling size = 2: 5.033\n",
            "filter = 16, kernel size = 3, pooling size = 2: 4.515\n",
            "filter = 32, kernel size = 3, pooling size = 2: 4.332\n",
            "filter = 64, kernel size = 3, pooling size = 2: 4.096\n",
            "filter = 128, kernel size = 3, pooling size = 2: 4.022\n",
            "filter = 256, kernel size = 3, pooling size = 2: 4.504\n",
            "filter = 512, kernel size = 3, pooling size = 2: 5.315\n",
            "filter = 1024, kernel size = 3, pooling size = 2: 4.383\n",
            "filter = 2, kernel size = 5, pooling size = 2: 5.118\n",
            "filter = 4, kernel size = 5, pooling size = 2: 5.614\n",
            "filter = 8, kernel size = 5, pooling size = 2: 4.870\n",
            "filter = 16, kernel size = 5, pooling size = 2: 5.316\n",
            "filter = 32, kernel size = 5, pooling size = 2: 4.161\n",
            "filter = 64, kernel size = 5, pooling size = 2: 3.981\n",
            "filter = 128, kernel size = 5, pooling size = 2: 4.866\n",
            "filter = 256, kernel size = 5, pooling size = 2: 5.268\n",
            "filter = 512, kernel size = 5, pooling size = 2: 5.152\n",
            "filter = 1024, kernel size = 5, pooling size = 2: 5.543\n",
            "filter = 2, kernel size = 7, pooling size = 2: 5.153\n",
            "filter = 4, kernel size = 7, pooling size = 2: 5.488\n",
            "filter = 8, kernel size = 7, pooling size = 2: 5.561\n",
            "filter = 16, kernel size = 7, pooling size = 2: 4.861\n",
            "filter = 32, kernel size = 7, pooling size = 2: 4.135\n",
            "filter = 64, kernel size = 7, pooling size = 2: 4.392\n",
            "filter = 128, kernel size = 7, pooling size = 2: 4.546\n",
            "filter = 256, kernel size = 7, pooling size = 2: 4.796\n",
            "filter = 512, kernel size = 7, pooling size = 2: 5.134\n",
            "filter = 1024, kernel size = 7, pooling size = 2: 5.005\n",
            "filter = 2, kernel size = 3, pooling size = 3: 4.837\n",
            "filter = 4, kernel size = 3, pooling size = 3: 5.199\n",
            "filter = 8, kernel size = 3, pooling size = 3: 4.637\n",
            "filter = 16, kernel size = 3, pooling size = 3: 4.914\n",
            "filter = 32, kernel size = 3, pooling size = 3: 4.300\n",
            "filter = 64, kernel size = 3, pooling size = 3: 4.088\n",
            "filter = 128, kernel size = 3, pooling size = 3: 4.226\n",
            "filter = 256, kernel size = 3, pooling size = 3: 4.595\n",
            "filter = 512, kernel size = 3, pooling size = 3: 5.373\n",
            "filter = 1024, kernel size = 3, pooling size = 3: 5.606\n",
            "filter = 2, kernel size = 5, pooling size = 3: 5.557\n",
            "filter = 4, kernel size = 5, pooling size = 3: 6.183\n",
            "filter = 8, kernel size = 5, pooling size = 3: 5.717\n",
            "filter = 16, kernel size = 5, pooling size = 3: 5.521\n",
            "filter = 32, kernel size = 5, pooling size = 3: 4.641\n",
            "filter = 64, kernel size = 5, pooling size = 3: 4.966\n",
            "filter = 128, kernel size = 5, pooling size = 3: 5.366\n",
            "filter = 256, kernel size = 5, pooling size = 3: 6.317\n",
            "filter = 512, kernel size = 5, pooling size = 3: 5.007\n",
            "filter = 1024, kernel size = 5, pooling size = 3: 5.917\n",
            "filter = 2, kernel size = 7, pooling size = 3: 6.143\n",
            "filter = 4, kernel size = 7, pooling size = 3: 6.288\n",
            "filter = 8, kernel size = 7, pooling size = 3: 6.027\n",
            "filter = 16, kernel size = 7, pooling size = 3: 5.318\n",
            "filter = 32, kernel size = 7, pooling size = 3: 4.913\n",
            "filter = 64, kernel size = 7, pooling size = 3: 5.231\n",
            "filter = 128, kernel size = 7, pooling size = 3: 5.344\n",
            "filter = 256, kernel size = 7, pooling size = 3: 6.057\n",
            "filter = 512, kernel size = 7, pooling size = 3: 6.088\n",
            "filter = 1024, kernel size = 7, pooling size = 3: 6.299\n"
          ]
        }
      ]
    },
    {
      "cell_type": "markdown",
      "metadata": {
        "id": "eDXGbHvPZNn1"
      },
      "source": [
        "### LSTM"
      ]
    },
    {
      "cell_type": "code",
      "metadata": {
        "id": "XwruQErcVIGp"
      },
      "source": [
        "def evaluate_lstm(trainX, trainy, units):\n",
        "    seed(1)\n",
        "    tensorflow.random.set_seed(1)\n",
        "\n",
        "    verbose, epochs, batch_size = 0, 50, 1\n",
        "    n_timesteps, n_features = trainX.shape[1], trainX.shape[2]\n",
        "\n",
        "    model = Sequential()\n",
        "    model.add(LSTM(units = units, activation='relu', input_shape=(n_timesteps,n_features)))\n",
        "    model.add(Dense(1, activation='linear'))\n",
        "    model.compile(loss='mse', optimizer='adam', metrics=['MAPE'])\n",
        "  \n",
        "    # fit network\n",
        "    model.fit(trainX, trainy, epochs=epochs, batch_size=batch_size, verbose=verbose, shuffle = False)\n",
        "    # evaluate model\n",
        "    _, accuracy = model.evaluate(trainX, trainy, batch_size=batch_size, verbose=0)\n",
        "    return accuracy\n",
        "\n",
        "\n",
        "units = [2, 4,8,16,32,64,128,256,512, 1024]\n",
        "\n",
        "# Multivariate LSTM confirmed deaths\n",
        "\n",
        "lstm_i_multi = list()\n",
        "\n",
        "for i in units:\n",
        "  score = list()\n",
        "  score = evaluate_lstm(X_i_p_tr, y_i_p_tr, i)\n",
        "  lstm_i_multi.append(score)"
      ],
      "execution_count": 127,
      "outputs": []
    },
    {
      "cell_type": "markdown",
      "metadata": {
        "id": "u5EHjmk8ZwNb"
      },
      "source": [
        "### GRU"
      ]
    },
    {
      "cell_type": "code",
      "metadata": {
        "id": "8Pkcl1joZuxL"
      },
      "source": [
        "def evaluate_gru(trainX, trainy, units):\n",
        "    seed(1)\n",
        "    tensorflow.random.set_seed(1)\n",
        "\n",
        "    verbose, epochs, batch_size = 0, 50, 1\n",
        "    n_timesteps, n_features = trainX.shape[1], trainX.shape[2]\n",
        "\n",
        "    model = Sequential()\n",
        "    model.add(GRU(units = units, activation='relu', input_shape=(n_timesteps,n_features)))\n",
        "    model.add(Dense(1, activation='linear'))\n",
        "    model.compile(loss='mse', optimizer='adam', metrics=['MAPE'])\n",
        "  \n",
        "    # fit network\n",
        "    model.fit(trainX, trainy, epochs=epochs, batch_size=batch_size, verbose=verbose, shuffle = False)\n",
        "    # evaluate model\n",
        "    _, accuracy = model.evaluate(trainX, trainy, batch_size=batch_size, verbose=0)\n",
        "    return accuracy\n",
        "\n",
        "# Multivariate GRU confirmed deaths\n",
        "\n",
        "gru_i_multi = list()\n",
        "\n",
        "for i in units:\n",
        "  score = list()\n",
        "  score = evaluate_gru(X_i_p_tr, y_i_p_tr, i)\n",
        "  gru_i_multi.append(score)"
      ],
      "execution_count": 128,
      "outputs": []
    },
    {
      "cell_type": "markdown",
      "metadata": {
        "id": "LxvR7HvgbL9i"
      },
      "source": [
        "### RNNs"
      ]
    },
    {
      "cell_type": "code",
      "metadata": {
        "id": "pHWbTWi0bOet"
      },
      "source": [
        "def evaluate_rnn(trainX, trainy, units):\n",
        "    seed(1)\n",
        "    tensorflow.random.set_seed(1)\n",
        "\n",
        "    verbose, epochs, batch_size = 0, 50, 1\n",
        "    n_timesteps, n_features = trainX.shape[1], trainX.shape[2]\n",
        "\n",
        "    model = Sequential()\n",
        "    model.add(SimpleRNN(units = units, activation='relu', input_shape=(n_timesteps,n_features)))\n",
        "    model.add(Dense(1, activation='linear'))\n",
        "    model.compile(loss='mse', optimizer='adam', metrics=['MAPE'])\n",
        "  \n",
        "    # fit network\n",
        "    model.fit(trainX, trainy, epochs=epochs, batch_size=batch_size, verbose=verbose, shuffle = False)\n",
        "    # evaluate model\n",
        "    _, accuracy = model.evaluate(trainX, trainy, batch_size=batch_size, verbose=0)\n",
        "    return accuracy\n",
        "\n",
        "\n",
        "# Multivariate RNNs confirmed deaths\n",
        "\n",
        "rnn_i_multi = list()\n",
        "\n",
        "for i in units:\n",
        "  score = list()\n",
        "  score = evaluate_rnn(X_i_p_tr, y_i_p_tr, i)\n",
        "  rnn_i_multi.append(score)"
      ],
      "execution_count": 129,
      "outputs": []
    },
    {
      "cell_type": "markdown",
      "metadata": {
        "id": "91h9IuDksSs2"
      },
      "source": [
        "### Result Table"
      ]
    },
    {
      "cell_type": "code",
      "metadata": {
        "colab": {
          "base_uri": "https://localhost:8080/",
          "height": 737
        },
        "id": "tEs71xle1nbi",
        "outputId": "9946293f-f181-4bcd-c107-9684901c322d"
      },
      "source": [
        "fig = go.Figure(data=[go.Table(header=dict(values=['Model', 'Kernel size', 'Pool', '2 Nodes','4 Nodes', '8 Nodes', '16 Nodes', '32 Nodes',\n",
        "                                                   \"64 Nodes\", '128 Nodes', '256 Nodes', '512 Nodes' , '1024 Nodes'],\n",
        "                                           line_color = 'gray'),\n",
        "                               cells=dict(values=[['LSTM', 'GRU', 'RNNs', 'CNN',\n",
        "                                                   'CNN', 'CNN', 'CNN', 'CNN', 'CNN'],\n",
        "                                                  ['-', '-', '-', '3', '5', '7', '3', '5', '7'],\n",
        "                                                  ['-', '-', '-', '2', '2', '2', '3', '3', '3'],\n",
        "                                    [round(lstm_i_multi[0],3), \n",
        "                                     round(gru_i_multi[0],3),\n",
        "                                     round(rnn_i_multi[0],3), \n",
        "                                     round(cnn_i_multi.iloc[0,0],3),\n",
        "                                     round(cnn_i_multi.iloc[0,1],3),\n",
        "                                     round(cnn_i_multi.iloc[0,2],3),\n",
        "                                     round(cnn_i_multi.iloc[0,3],3),\n",
        "                                     round(cnn_i_multi.iloc[0,4],3),\n",
        "                                     round(cnn_i_multi.iloc[0,5],3)],\n",
        "                                     [round(lstm_i_multi[1],3), \n",
        "                                     round(gru_i_multi[1],3),\n",
        "                                     round(rnn_i_multi[1],3), \n",
        "                                     round(cnn_i_multi.iloc[1,0],3),\n",
        "                                     round(cnn_i_multi.iloc[1,1],3),\n",
        "                                     round(cnn_i_multi.iloc[1,2],3),\n",
        "                                     round(cnn_i_multi.iloc[1,3],3),\n",
        "                                     round(cnn_i_multi.iloc[1,4],3),\n",
        "                                     round(cnn_i_multi.iloc[1,5],3)],\n",
        "                                     [round(lstm_i_multi[2],3), \n",
        "                                     round(gru_i_multi[2],3),\n",
        "                                     round(rnn_i_multi[2],3), \n",
        "                                     round(cnn_i_multi.iloc[2,0],3),\n",
        "                                     round(cnn_i_multi.iloc[2,1],3),\n",
        "                                     round(cnn_i_multi.iloc[2,2],3),\n",
        "                                     round(cnn_i_multi.iloc[2,3],3),\n",
        "                                     round(cnn_i_multi.iloc[2,4],3),\n",
        "                                     round(cnn_i_multi.iloc[2,5],3)],\n",
        "                                     [round(lstm_i_multi[3],3), \n",
        "                                     round(gru_i_multi[3],3),\n",
        "                                     round(rnn_i_multi[3],3), \n",
        "                                     round(cnn_i_multi.iloc[3,0],3),\n",
        "                                     round(cnn_i_multi.iloc[3,1],3),\n",
        "                                     round(cnn_i_multi.iloc[3,2],3),\n",
        "                                     round(cnn_i_multi.iloc[3,3],3),\n",
        "                                     round(cnn_i_multi.iloc[3,4],3),\n",
        "                                     round(cnn_i_multi.iloc[3,5],3)],\n",
        "                                     [round(lstm_i_multi[4],3), \n",
        "                                     round(gru_i_multi[4],3),\n",
        "                                     round(rnn_i_multi[4],3), \n",
        "                                     round(cnn_i_multi.iloc[4,0],3),\n",
        "                                     round(cnn_i_multi.iloc[4,1],3),\n",
        "                                     round(cnn_i_multi.iloc[4,2],3),\n",
        "                                     round(cnn_i_multi.iloc[4,3],3),\n",
        "                                     round(cnn_i_multi.iloc[4,4],3),\n",
        "                                     round(cnn_i_multi.iloc[4,5],3)],\n",
        "                                     [round(lstm_i_multi[5],3), \n",
        "                                     round(gru_i_multi[5],3),\n",
        "                                     round(rnn_i_multi[5],3), \n",
        "                                     round(cnn_i_multi.iloc[5,0],3),\n",
        "                                     round(cnn_i_multi.iloc[5,1],3),\n",
        "                                     round(cnn_i_multi.iloc[5,2],3),\n",
        "                                     round(cnn_i_multi.iloc[5,3],3),\n",
        "                                     round(cnn_i_multi.iloc[5,4],3),\n",
        "                                     round(cnn_i_multi.iloc[5,5],3)],\n",
        "                                     [round(lstm_i_multi[6],3), \n",
        "                                     round(gru_i_multi[6],3),\n",
        "                                     round(rnn_i_multi[6],3), \n",
        "                                     round(cnn_i_multi.iloc[6,0],3),\n",
        "                                     round(cnn_i_multi.iloc[6,1],3),\n",
        "                                     round(cnn_i_multi.iloc[6,2],3),\n",
        "                                     round(cnn_i_multi.iloc[6,3],3),\n",
        "                                     round(cnn_i_multi.iloc[6,4],3),\n",
        "                                     round(cnn_i_multi.iloc[6,5],3)],\n",
        "                                     [round(lstm_i_multi[7],3), \n",
        "                                     round(gru_i_multi[7],3),\n",
        "                                     round(rnn_i_multi[7],3), \n",
        "                                     round(cnn_i_multi.iloc[7,0],3),\n",
        "                                     round(cnn_i_multi.iloc[7,1],3),\n",
        "                                     round(cnn_i_multi.iloc[7,2],3),\n",
        "                                     round(cnn_i_multi.iloc[7,3],3),\n",
        "                                     round(cnn_i_multi.iloc[7,4],3),\n",
        "                                     round(cnn_i_multi.iloc[7,5],3)],\n",
        "                                     [round(lstm_i_multi[8],3), \n",
        "                                     round(gru_i_multi[8],3),\n",
        "                                     round(rnn_i_multi[8],3), \n",
        "                                     round(cnn_i_multi.iloc[8,0],3),\n",
        "                                     round(cnn_i_multi.iloc[8,1],3),\n",
        "                                     round(cnn_i_multi.iloc[8,2],3),\n",
        "                                     round(cnn_i_multi.iloc[8,3],3),\n",
        "                                     round(cnn_i_multi.iloc[8,4],3),\n",
        "                                     round(cnn_i_multi.iloc[8,5],3)],\n",
        "                                     [round(lstm_i_multi[9],3), \n",
        "                                     round(gru_i_multi[9],3),\n",
        "                                     round(rnn_i_multi[9],3), \n",
        "                                     round(cnn_i_multi.iloc[9,0],3),\n",
        "                                     round(cnn_i_multi.iloc[9,1],3),\n",
        "                                     round(cnn_i_multi.iloc[9,2],3),\n",
        "                                     round(cnn_i_multi.iloc[9,3],3),\n",
        "                                     round(cnn_i_multi.iloc[9,4],3),\n",
        "                                     round(cnn_i_multi.iloc[9,5],3)]],\n",
        "                            align=['left','center', 'center', \n",
        "                                   'right','right','right',\n",
        "                                   'right','right','right',\n",
        "                                   'right','right','right','right'],\n",
        "                            fill_color = 'white',\n",
        "                            line_color = 'gray'))\n",
        "                     ])\n",
        "fig.update_layout(title = \"Parameter Tunings Mean Absolute Percentage Error: Multivariate Confirmed Deaths\",\n",
        "                  title_x=0.5, height = 700, width = 1200)\n",
        "fig.show()"
      ],
      "execution_count": 132,
      "outputs": [
        {
          "output_type": "display_data",
          "data": {
            "text/html": [
              "<html>\n",
              "<head><meta charset=\"utf-8\" /></head>\n",
              "<body>\n",
              "    <div>\n",
              "            <script src=\"https://cdnjs.cloudflare.com/ajax/libs/mathjax/2.7.5/MathJax.js?config=TeX-AMS-MML_SVG\"></script><script type=\"text/javascript\">if (window.MathJax) {MathJax.Hub.Config({SVG: {font: \"STIX-Web\"}});}</script>\n",
              "                <script type=\"text/javascript\">window.PlotlyConfig = {MathJaxConfig: 'local'};</script>\n",
              "        <script src=\"https://cdn.plot.ly/plotly-latest.min.js\"></script>    \n",
              "            <div id=\"8a01369b-3dab-4977-baa1-fa7499c42ced\" class=\"plotly-graph-div\" style=\"height:700px; width:1200px;\"></div>\n",
              "            <script type=\"text/javascript\">\n",
              "                \n",
              "                    window.PLOTLYENV=window.PLOTLYENV || {};\n",
              "                    \n",
              "                if (document.getElementById(\"8a01369b-3dab-4977-baa1-fa7499c42ced\")) {\n",
              "                    Plotly.newPlot(\n",
              "                        '8a01369b-3dab-4977-baa1-fa7499c42ced',\n",
              "                        [{\"cells\": {\"align\": [\"left\", \"center\", \"center\", \"right\", \"right\", \"right\", \"right\", \"right\", \"right\", \"right\", \"right\", \"right\", \"right\"], \"fill\": {\"color\": \"white\"}, \"line\": {\"color\": \"gray\"}, \"values\": [[\"LSTM\", \"GRU\", \"RNNs\", \"CNN\", \"CNN\", \"CNN\", \"CNN\", \"CNN\", \"CNN\"], [\"-\", \"-\", \"-\", \"3\", \"5\", \"7\", \"3\", \"5\", \"7\"], [\"-\", \"-\", \"-\", \"2\", \"2\", \"2\", \"3\", \"3\", \"3\"], [99.984, 99.984, 4.756, 5.16, 5.118, 5.153, 4.837, 5.557, 6.143], [16.442, 4.023, 5.026, 5.583, 5.614, 5.488, 5.199, 6.183, 6.288], [99.984, 4.09, 5.019, 5.033, 4.87, 5.561, 4.637, 5.717, 6.027], [3.727, 4.787, 4.205, 4.515, 5.316, 4.861, 4.914, 5.521, 5.318], [4.468, 4.507, 2.997, 4.332, 4.161, 4.135, 4.3, 4.641, 4.913], [4.394, 4.212, 3.35, 4.096, 3.981, 4.392, 4.088, 4.966, 5.231], [4.891, 4.4, 3.22, 4.022, 4.866, 4.546, 4.226, 5.366, 5.344], [3.968, 4.181, 2.833, 4.504, 5.268, 4.796, 4.595, 6.317, 6.057], [4.403, 4.194, 5.588, 5.315, 5.152, 5.134, 5.373, 5.007, 6.088], [5.157, 4.025, 3.249, 4.383, 5.543, 5.005, 5.606, 5.917, 6.299]]}, \"header\": {\"line\": {\"color\": \"gray\"}, \"values\": [\"Model\", \"Kernel size\", \"Pool\", \"2 Nodes\", \"4 Nodes\", \"8 Nodes\", \"16 Nodes\", \"32 Nodes\", \"64 Nodes\", \"128 Nodes\", \"256 Nodes\", \"512 Nodes\", \"1024 Nodes\"]}, \"type\": \"table\"}],\n",
              "                        {\"height\": 700, \"template\": {\"data\": {\"bar\": [{\"error_x\": {\"color\": \"#2a3f5f\"}, \"error_y\": {\"color\": \"#2a3f5f\"}, \"marker\": {\"line\": {\"color\": \"#E5ECF6\", \"width\": 0.5}}, \"type\": \"bar\"}], \"barpolar\": [{\"marker\": {\"line\": {\"color\": \"#E5ECF6\", \"width\": 0.5}}, \"type\": \"barpolar\"}], \"carpet\": [{\"aaxis\": {\"endlinecolor\": \"#2a3f5f\", \"gridcolor\": \"white\", \"linecolor\": \"white\", \"minorgridcolor\": \"white\", \"startlinecolor\": \"#2a3f5f\"}, \"baxis\": {\"endlinecolor\": \"#2a3f5f\", \"gridcolor\": \"white\", \"linecolor\": \"white\", \"minorgridcolor\": \"white\", \"startlinecolor\": \"#2a3f5f\"}, \"type\": \"carpet\"}], \"choropleth\": [{\"colorbar\": {\"outlinewidth\": 0, \"ticks\": \"\"}, \"type\": \"choropleth\"}], \"contour\": [{\"colorbar\": {\"outlinewidth\": 0, \"ticks\": \"\"}, \"colorscale\": [[0.0, \"#0d0887\"], [0.1111111111111111, \"#46039f\"], [0.2222222222222222, \"#7201a8\"], [0.3333333333333333, \"#9c179e\"], [0.4444444444444444, \"#bd3786\"], [0.5555555555555556, \"#d8576b\"], [0.6666666666666666, \"#ed7953\"], [0.7777777777777778, \"#fb9f3a\"], [0.8888888888888888, \"#fdca26\"], [1.0, \"#f0f921\"]], \"type\": \"contour\"}], \"contourcarpet\": [{\"colorbar\": {\"outlinewidth\": 0, \"ticks\": \"\"}, \"type\": \"contourcarpet\"}], \"heatmap\": [{\"colorbar\": {\"outlinewidth\": 0, \"ticks\": \"\"}, \"colorscale\": [[0.0, \"#0d0887\"], [0.1111111111111111, \"#46039f\"], [0.2222222222222222, \"#7201a8\"], [0.3333333333333333, \"#9c179e\"], [0.4444444444444444, \"#bd3786\"], [0.5555555555555556, \"#d8576b\"], [0.6666666666666666, \"#ed7953\"], [0.7777777777777778, \"#fb9f3a\"], [0.8888888888888888, \"#fdca26\"], [1.0, \"#f0f921\"]], \"type\": \"heatmap\"}], \"heatmapgl\": [{\"colorbar\": {\"outlinewidth\": 0, \"ticks\": \"\"}, \"colorscale\": [[0.0, \"#0d0887\"], [0.1111111111111111, \"#46039f\"], [0.2222222222222222, \"#7201a8\"], [0.3333333333333333, \"#9c179e\"], [0.4444444444444444, \"#bd3786\"], [0.5555555555555556, \"#d8576b\"], [0.6666666666666666, \"#ed7953\"], [0.7777777777777778, \"#fb9f3a\"], [0.8888888888888888, \"#fdca26\"], [1.0, \"#f0f921\"]], \"type\": \"heatmapgl\"}], \"histogram\": [{\"marker\": {\"colorbar\": {\"outlinewidth\": 0, \"ticks\": \"\"}}, \"type\": \"histogram\"}], \"histogram2d\": [{\"colorbar\": {\"outlinewidth\": 0, \"ticks\": \"\"}, \"colorscale\": [[0.0, \"#0d0887\"], [0.1111111111111111, \"#46039f\"], [0.2222222222222222, \"#7201a8\"], [0.3333333333333333, \"#9c179e\"], [0.4444444444444444, \"#bd3786\"], [0.5555555555555556, \"#d8576b\"], [0.6666666666666666, \"#ed7953\"], [0.7777777777777778, \"#fb9f3a\"], [0.8888888888888888, \"#fdca26\"], [1.0, \"#f0f921\"]], \"type\": \"histogram2d\"}], \"histogram2dcontour\": [{\"colorbar\": {\"outlinewidth\": 0, \"ticks\": \"\"}, \"colorscale\": [[0.0, \"#0d0887\"], [0.1111111111111111, \"#46039f\"], [0.2222222222222222, \"#7201a8\"], [0.3333333333333333, \"#9c179e\"], [0.4444444444444444, \"#bd3786\"], [0.5555555555555556, \"#d8576b\"], [0.6666666666666666, \"#ed7953\"], [0.7777777777777778, \"#fb9f3a\"], [0.8888888888888888, \"#fdca26\"], [1.0, \"#f0f921\"]], \"type\": \"histogram2dcontour\"}], \"mesh3d\": [{\"colorbar\": {\"outlinewidth\": 0, \"ticks\": \"\"}, \"type\": \"mesh3d\"}], \"parcoords\": [{\"line\": {\"colorbar\": {\"outlinewidth\": 0, \"ticks\": \"\"}}, \"type\": \"parcoords\"}], \"pie\": [{\"automargin\": true, \"type\": \"pie\"}], \"scatter\": [{\"marker\": {\"colorbar\": {\"outlinewidth\": 0, \"ticks\": \"\"}}, \"type\": \"scatter\"}], \"scatter3d\": [{\"line\": {\"colorbar\": {\"outlinewidth\": 0, \"ticks\": \"\"}}, \"marker\": {\"colorbar\": {\"outlinewidth\": 0, \"ticks\": \"\"}}, \"type\": \"scatter3d\"}], \"scattercarpet\": [{\"marker\": {\"colorbar\": {\"outlinewidth\": 0, \"ticks\": \"\"}}, \"type\": \"scattercarpet\"}], \"scattergeo\": [{\"marker\": {\"colorbar\": {\"outlinewidth\": 0, \"ticks\": \"\"}}, \"type\": \"scattergeo\"}], \"scattergl\": [{\"marker\": {\"colorbar\": {\"outlinewidth\": 0, \"ticks\": \"\"}}, \"type\": \"scattergl\"}], \"scattermapbox\": [{\"marker\": {\"colorbar\": {\"outlinewidth\": 0, \"ticks\": \"\"}}, \"type\": \"scattermapbox\"}], \"scatterpolar\": [{\"marker\": {\"colorbar\": {\"outlinewidth\": 0, \"ticks\": \"\"}}, \"type\": \"scatterpolar\"}], \"scatterpolargl\": [{\"marker\": {\"colorbar\": {\"outlinewidth\": 0, \"ticks\": \"\"}}, \"type\": \"scatterpolargl\"}], \"scatterternary\": [{\"marker\": {\"colorbar\": {\"outlinewidth\": 0, \"ticks\": \"\"}}, \"type\": \"scatterternary\"}], \"surface\": [{\"colorbar\": {\"outlinewidth\": 0, \"ticks\": \"\"}, \"colorscale\": [[0.0, \"#0d0887\"], [0.1111111111111111, \"#46039f\"], [0.2222222222222222, \"#7201a8\"], [0.3333333333333333, \"#9c179e\"], [0.4444444444444444, \"#bd3786\"], [0.5555555555555556, \"#d8576b\"], [0.6666666666666666, \"#ed7953\"], [0.7777777777777778, \"#fb9f3a\"], [0.8888888888888888, \"#fdca26\"], [1.0, \"#f0f921\"]], \"type\": \"surface\"}], \"table\": [{\"cells\": {\"fill\": {\"color\": \"#EBF0F8\"}, \"line\": {\"color\": \"white\"}}, \"header\": {\"fill\": {\"color\": \"#C8D4E3\"}, \"line\": {\"color\": \"white\"}}, \"type\": \"table\"}]}, \"layout\": {\"annotationdefaults\": {\"arrowcolor\": \"#2a3f5f\", \"arrowhead\": 0, \"arrowwidth\": 1}, \"coloraxis\": {\"colorbar\": {\"outlinewidth\": 0, \"ticks\": \"\"}}, \"colorscale\": {\"diverging\": [[0, \"#8e0152\"], [0.1, \"#c51b7d\"], [0.2, \"#de77ae\"], [0.3, \"#f1b6da\"], [0.4, \"#fde0ef\"], [0.5, \"#f7f7f7\"], [0.6, \"#e6f5d0\"], [0.7, \"#b8e186\"], [0.8, \"#7fbc41\"], [0.9, \"#4d9221\"], [1, \"#276419\"]], \"sequential\": [[0.0, \"#0d0887\"], [0.1111111111111111, \"#46039f\"], [0.2222222222222222, \"#7201a8\"], [0.3333333333333333, \"#9c179e\"], [0.4444444444444444, \"#bd3786\"], [0.5555555555555556, \"#d8576b\"], [0.6666666666666666, \"#ed7953\"], [0.7777777777777778, \"#fb9f3a\"], [0.8888888888888888, \"#fdca26\"], [1.0, \"#f0f921\"]], \"sequentialminus\": [[0.0, \"#0d0887\"], [0.1111111111111111, \"#46039f\"], [0.2222222222222222, \"#7201a8\"], [0.3333333333333333, \"#9c179e\"], [0.4444444444444444, \"#bd3786\"], [0.5555555555555556, \"#d8576b\"], [0.6666666666666666, \"#ed7953\"], [0.7777777777777778, \"#fb9f3a\"], [0.8888888888888888, \"#fdca26\"], [1.0, \"#f0f921\"]]}, \"colorway\": [\"#636efa\", \"#EF553B\", \"#00cc96\", \"#ab63fa\", \"#FFA15A\", \"#19d3f3\", \"#FF6692\", \"#B6E880\", \"#FF97FF\", \"#FECB52\"], \"font\": {\"color\": \"#2a3f5f\"}, \"geo\": {\"bgcolor\": \"white\", \"lakecolor\": \"white\", \"landcolor\": \"#E5ECF6\", \"showlakes\": true, \"showland\": true, \"subunitcolor\": \"white\"}, \"hoverlabel\": {\"align\": \"left\"}, \"hovermode\": \"closest\", \"mapbox\": {\"style\": \"light\"}, \"paper_bgcolor\": \"white\", \"plot_bgcolor\": \"#E5ECF6\", \"polar\": {\"angularaxis\": {\"gridcolor\": \"white\", \"linecolor\": \"white\", \"ticks\": \"\"}, \"bgcolor\": \"#E5ECF6\", \"radialaxis\": {\"gridcolor\": \"white\", \"linecolor\": \"white\", \"ticks\": \"\"}}, \"scene\": {\"xaxis\": {\"backgroundcolor\": \"#E5ECF6\", \"gridcolor\": \"white\", \"gridwidth\": 2, \"linecolor\": \"white\", \"showbackground\": true, \"ticks\": \"\", \"zerolinecolor\": \"white\"}, \"yaxis\": {\"backgroundcolor\": \"#E5ECF6\", \"gridcolor\": \"white\", \"gridwidth\": 2, \"linecolor\": \"white\", \"showbackground\": true, \"ticks\": \"\", \"zerolinecolor\": \"white\"}, \"zaxis\": {\"backgroundcolor\": \"#E5ECF6\", \"gridcolor\": \"white\", \"gridwidth\": 2, \"linecolor\": \"white\", \"showbackground\": true, \"ticks\": \"\", \"zerolinecolor\": \"white\"}}, \"shapedefaults\": {\"line\": {\"color\": \"#2a3f5f\"}}, \"ternary\": {\"aaxis\": {\"gridcolor\": \"white\", \"linecolor\": \"white\", \"ticks\": \"\"}, \"baxis\": {\"gridcolor\": \"white\", \"linecolor\": \"white\", \"ticks\": \"\"}, \"bgcolor\": \"#E5ECF6\", \"caxis\": {\"gridcolor\": \"white\", \"linecolor\": \"white\", \"ticks\": \"\"}}, \"title\": {\"x\": 0.05}, \"xaxis\": {\"automargin\": true, \"gridcolor\": \"white\", \"linecolor\": \"white\", \"ticks\": \"\", \"title\": {\"standoff\": 15}, \"zerolinecolor\": \"white\", \"zerolinewidth\": 2}, \"yaxis\": {\"automargin\": true, \"gridcolor\": \"white\", \"linecolor\": \"white\", \"ticks\": \"\", \"title\": {\"standoff\": 15}, \"zerolinecolor\": \"white\", \"zerolinewidth\": 2}}}, \"title\": {\"text\": \"Parameter Tunings Mean Absolute Percentage Error: Multivariate Confirmed Deaths\", \"x\": 0.5}, \"width\": 1200},\n",
              "                        {\"responsive\": true}\n",
              "                    ).then(function(){\n",
              "                            \n",
              "var gd = document.getElementById('8a01369b-3dab-4977-baa1-fa7499c42ced');\n",
              "var x = new MutationObserver(function (mutations, observer) {{\n",
              "        var display = window.getComputedStyle(gd).display;\n",
              "        if (!display || display === 'none') {{\n",
              "            console.log([gd, 'removed!']);\n",
              "            Plotly.purge(gd);\n",
              "            observer.disconnect();\n",
              "        }}\n",
              "}});\n",
              "\n",
              "// Listen for the removal of the full notebook cells\n",
              "var notebookContainer = gd.closest('#notebook-container');\n",
              "if (notebookContainer) {{\n",
              "    x.observe(notebookContainer, {childList: true});\n",
              "}}\n",
              "\n",
              "// Listen for the clearing of the current output cell\n",
              "var outputEl = gd.closest('.output');\n",
              "if (outputEl) {{\n",
              "    x.observe(outputEl, {childList: true});\n",
              "}}\n",
              "\n",
              "                        })\n",
              "                };\n",
              "                \n",
              "            </script>\n",
              "        </div>\n",
              "</body>\n",
              "</html>"
            ]
          },
          "metadata": {}
        }
      ]
    },
    {
      "cell_type": "markdown",
      "metadata": {
        "id": "ni5GSkyO55in"
      },
      "source": [
        "The best model with the lowest MAPE was RNNs with 256 nodes. We, then, tune for the lowest MAPE possible using this model."
      ]
    },
    {
      "cell_type": "markdown",
      "metadata": {
        "id": "vc5YHb2g7fIF"
      },
      "source": [
        "# Training and Validation\n",
        "\n",
        "---\n",
        "\n",
        "After models were selected, using the training data set, we adjusted and trained the models to get the prediction with the lowest MAPE. We, then, used test samples for model validations and combined predicted values from both training and test sets together. This was only for illustration purpose.\n"
      ]
    },
    {
      "cell_type": "code",
      "metadata": {
        "colab": {
          "base_uri": "https://localhost:8080/"
        },
        "id": "ETqGykawFR0f",
        "outputId": "4626879d-5c55-4729-c13a-539a95bc76ef"
      },
      "source": [
        "seed(1)\n",
        "tensorflow.random.set_seed(1)\n",
        "\n",
        "model_multi_i = Sequential()\n",
        "model_multi_i.add(SimpleRNN(256, activation = 'relu', input_shape=(X_i_p_tr.shape[1], X_i_p_tr.shape[2])))\n",
        "# model_multi_i.add(Dense(2, activation = \"relu\"))\n",
        "# model_multi_i.add(Dropout(0.1))\n",
        "model_multi_i.add(Dense(1, activation = \"linear\"))\n",
        "model_multi_i.compile(loss='mse', optimizer='adam', metrics = \"MAPE\")\n",
        "\n",
        "# model_multi_i = Sequential()\n",
        "# model_multi_i.add(Conv1D(128, kernel_size = 5, activation = 'relu', input_shape=(X_i_p_tr.shape[1], X_i_p_tr.shape[2])))\n",
        "# model_multi_i.add(MaxPooling1D(3))\n",
        "# model_multi_i.add(Flatten())\n",
        "# # model_multi_i.add(Dense(4, activation = \"relu\"))\n",
        "# model_multi_i.add(Dense(1, activation = \"linear\"))\n",
        "# model_multi_i.compile(loss='mse', optimizer='adam', metrics = \"MAPE\")\n",
        "\n",
        "# fit network\n",
        "model_multi_i.fit(X_i_p_tr, y_i_p_tr, \n",
        "                           epochs=50, \n",
        "                           batch_size=1, \n",
        "                           verbose=0, \n",
        "                           shuffle=False)\n",
        "\n",
        "scores_multi_i1 = model_multi_i.evaluate(X_i_p_tr, y_i_p_tr, verbose=0)\n",
        "\n",
        "# MAPE\n",
        "print(\"MAPE: training = \",scores_multi_i1[1])\n",
        "\n",
        "scores_multi_i = model_multi_i.evaluate(X_i_p_ts, y_i_p_ts, verbose=0)\n",
        "\n",
        "# MAPE\n",
        "print(\"MAPE: test = \",scores_multi_i[1])"
      ],
      "execution_count": 131,
      "outputs": [
        {
          "output_type": "stream",
          "name": "stdout",
          "text": [
            "MAPE: training =  2.832801580429077\n",
            "MAPE: test =  10.510716438293457\n"
          ]
        }
      ]
    },
    {
      "cell_type": "code",
      "metadata": {
        "id": "NlPeIWWTFR7X"
      },
      "source": [
        "# make a prediction\n",
        "# training set\n",
        "y_multi_i_tr = pd.DataFrame(model_multi_i.predict(X_i_p_tr))\n",
        "\n",
        "# test set\n",
        "y_multi_i_ts = pd.DataFrame(model_multi_i.predict(X_i_p_ts))\n",
        "\n",
        "# combine training and test predictions\n",
        "y_multi_i_total = pd.concat([y_multi_i_tr, y_multi_i_ts], ignore_index=True)\n"
      ],
      "execution_count": 133,
      "outputs": []
    },
    {
      "cell_type": "code",
      "metadata": {
        "id": "AUJOWqqPSZjB"
      },
      "source": [
        "multi_ie = \"RNNs\""
      ],
      "execution_count": 134,
      "outputs": []
    },
    {
      "cell_type": "markdown",
      "metadata": {
        "id": "hyai-GAA1pto"
      },
      "source": [
        "### Plots"
      ]
    },
    {
      "cell_type": "code",
      "metadata": {
        "colab": {
          "base_uri": "https://localhost:8080/",
          "height": 317
        },
        "id": "EyzgkqsZUst1",
        "outputId": "f3a359d8-1fcc-4988-8e10-30d8310ac534"
      },
      "source": [
        "\n",
        "infect = pd.concat([y_multi_i_total,\n",
        "                   data.Cases_daily.iloc[lag+2: lag+2 + len(y_multi_i_total)].reset_index(drop = True), \n",
        "                   data.Date.iloc[lag+2: lag+2 + len(y_multi_i_total)].reset_index(drop = True)],\n",
        "                  axis=1)\n",
        "infect.columns = ['multi_i', 'actual', 'Date']\n",
        "tick_spacing = 5\n",
        "date_test = data['Date'][0+index+lag-1]\n",
        "\n",
        "\n",
        "ax = plt.axes()\n",
        "plt.plot(infect['Date'],infect['multi_i'], label = \"Predicted\")\n",
        "plt.plot(data['Date'],data['Cases_daily'], label = \"Actual\")\n",
        "plt.legend(frameon=False, loc='upper center', ncol = 2, fontsize = 'x-large')\n",
        "plt.title(\"Cases Prediction\", fontsize = 'xx-large')\n",
        "plt.tick_params('x',labelrotation=90)\n",
        "plt.axvline(date_test, color=\"gray\", linestyle=\"--\")\n",
        "plt.grid(True, which='both', alpha=0.3)\n"
      ],
      "execution_count": 135,
      "outputs": [
        {
          "output_type": "display_data",
          "data": {
            "image/png": "[encoded data removed]",
            "text/plain": [
              "<Figure size 432x288 with 1 Axes>"
            ]
          },
          "metadata": {
            "needs_background": "light"
          }
        }
      ]
    },
    {
      "cell_type": "markdown",
      "metadata": {
        "id": "MsF9tTC27Pdi"
      },
      "source": [
        "From this plot, multivariate RNNs performed well in both training and test period. Though, the prediction was slightly higher than the actual value, it followed the trend of confirmed cases. Note that the orange line in this plot was the actual value, instead of the moving average value (the model was trying to predict the moving average value)."
      ]
    },
    {
      "cell_type": "markdown",
      "metadata": {
        "id": "mYcJN621o8A2"
      },
      "source": [
        "### Result Table"
      ]
    },
    {
      "cell_type": "code",
      "metadata": {
        "colab": {
          "base_uri": "https://localhost:8080/",
          "height": 542
        },
        "id": "fHC8w-KqZG7-",
        "outputId": "ecb996fc-1dd9-420d-d03f-8c1b618bd72e"
      },
      "source": [
        "fig = go.Figure(data=[go.Table(header=dict(values=['Model Type', 'Best Model', 'Training', 'Test'],\n",
        "                                           line_color = 'gray'),\n",
        "                               cells=dict(values=[['Multivariate: Confirmed Deaths'],\n",
        "                                                  [multi_ie],\n",
        "                                    [round(scores_multi_i1[1],3)],\n",
        "                                    [round(scores_multi_i[1],3)]],\n",
        "                            align=['left','center', 'center', 'center'],\n",
        "                            fill_color = 'white',\n",
        "                            line_color = 'gray'))\n",
        "                     ])\n",
        "fig.update_layout(title = \"Mean Absolute Percentage Error\",title_x=0.5)\n",
        "fig.show()"
      ],
      "execution_count": 136,
      "outputs": [
        {
          "output_type": "display_data",
          "data": {
            "text/html": [
              "<html>\n",
              "<head><meta charset=\"utf-8\" /></head>\n",
              "<body>\n",
              "    <div>\n",
              "            <script src=\"https://cdnjs.cloudflare.com/ajax/libs/mathjax/2.7.5/MathJax.js?config=TeX-AMS-MML_SVG\"></script><script type=\"text/javascript\">if (window.MathJax) {MathJax.Hub.Config({SVG: {font: \"STIX-Web\"}});}</script>\n",
              "                <script type=\"text/javascript\">window.PlotlyConfig = {MathJaxConfig: 'local'};</script>\n",
              "        <script src=\"https://cdn.plot.ly/plotly-latest.min.js\"></script>    \n",
              "            <div id=\"f1487ad8-ca25-419a-82e3-715b72115269\" class=\"plotly-graph-div\" style=\"height:525px; width:100%;\"></div>\n",
              "            <script type=\"text/javascript\">\n",
              "                \n",
              "                    window.PLOTLYENV=window.PLOTLYENV || {};\n",
              "                    \n",
              "                if (document.getElementById(\"f1487ad8-ca25-419a-82e3-715b72115269\")) {\n",
              "                    Plotly.newPlot(\n",
              "                        'f1487ad8-ca25-419a-82e3-715b72115269',\n",
              "                        [{\"cells\": {\"align\": [\"left\", \"center\", \"center\", \"center\"], \"fill\": {\"color\": \"white\"}, \"line\": {\"color\": \"gray\"}, \"values\": [[\"Multivariate: Confirmed Deaths\"], [\"RNNs\"], [2.833], [10.511]]}, \"header\": {\"line\": {\"color\": \"gray\"}, \"values\": [\"Model Type\", \"Best Model\", \"Training\", \"Test\"]}, \"type\": \"table\"}],\n",
              "                        {\"template\": {\"data\": {\"bar\": [{\"error_x\": {\"color\": \"#2a3f5f\"}, \"error_y\": {\"color\": \"#2a3f5f\"}, \"marker\": {\"line\": {\"color\": \"#E5ECF6\", \"width\": 0.5}}, \"type\": \"bar\"}], \"barpolar\": [{\"marker\": {\"line\": {\"color\": \"#E5ECF6\", \"width\": 0.5}}, \"type\": \"barpolar\"}], \"carpet\": [{\"aaxis\": {\"endlinecolor\": \"#2a3f5f\", \"gridcolor\": \"white\", \"linecolor\": \"white\", \"minorgridcolor\": \"white\", \"startlinecolor\": \"#2a3f5f\"}, \"baxis\": {\"endlinecolor\": \"#2a3f5f\", \"gridcolor\": \"white\", \"linecolor\": \"white\", \"minorgridcolor\": \"white\", \"startlinecolor\": \"#2a3f5f\"}, \"type\": \"carpet\"}], \"choropleth\": [{\"colorbar\": {\"outlinewidth\": 0, \"ticks\": \"\"}, \"type\": \"choropleth\"}], \"contour\": [{\"colorbar\": {\"outlinewidth\": 0, \"ticks\": \"\"}, \"colorscale\": [[0.0, \"#0d0887\"], [0.1111111111111111, \"#46039f\"], [0.2222222222222222, \"#7201a8\"], [0.3333333333333333, \"#9c179e\"], [0.4444444444444444, \"#bd3786\"], [0.5555555555555556, \"#d8576b\"], [0.6666666666666666, \"#ed7953\"], [0.7777777777777778, \"#fb9f3a\"], [0.8888888888888888, \"#fdca26\"], [1.0, \"#f0f921\"]], \"type\": \"contour\"}], \"contourcarpet\": [{\"colorbar\": {\"outlinewidth\": 0, \"ticks\": \"\"}, \"type\": \"contourcarpet\"}], \"heatmap\": [{\"colorbar\": {\"outlinewidth\": 0, \"ticks\": \"\"}, \"colorscale\": [[0.0, \"#0d0887\"], [0.1111111111111111, \"#46039f\"], [0.2222222222222222, \"#7201a8\"], [0.3333333333333333, \"#9c179e\"], [0.4444444444444444, \"#bd3786\"], [0.5555555555555556, \"#d8576b\"], [0.6666666666666666, \"#ed7953\"], [0.7777777777777778, \"#fb9f3a\"], [0.8888888888888888, \"#fdca26\"], [1.0, \"#f0f921\"]], \"type\": \"heatmap\"}], \"heatmapgl\": [{\"colorbar\": {\"outlinewidth\": 0, \"ticks\": \"\"}, \"colorscale\": [[0.0, \"#0d0887\"], [0.1111111111111111, \"#46039f\"], [0.2222222222222222, \"#7201a8\"], [0.3333333333333333, \"#9c179e\"], [0.4444444444444444, \"#bd3786\"], [0.5555555555555556, \"#d8576b\"], [0.6666666666666666, \"#ed7953\"], [0.7777777777777778, \"#fb9f3a\"], [0.8888888888888888, \"#fdca26\"], [1.0, \"#f0f921\"]], \"type\": \"heatmapgl\"}], \"histogram\": [{\"marker\": {\"colorbar\": {\"outlinewidth\": 0, \"ticks\": \"\"}}, \"type\": \"histogram\"}], \"histogram2d\": [{\"colorbar\": {\"outlinewidth\": 0, \"ticks\": \"\"}, \"colorscale\": [[0.0, \"#0d0887\"], [0.1111111111111111, \"#46039f\"], [0.2222222222222222, \"#7201a8\"], [0.3333333333333333, \"#9c179e\"], [0.4444444444444444, \"#bd3786\"], [0.5555555555555556, \"#d8576b\"], [0.6666666666666666, \"#ed7953\"], [0.7777777777777778, \"#fb9f3a\"], [0.8888888888888888, \"#fdca26\"], [1.0, \"#f0f921\"]], \"type\": \"histogram2d\"}], \"histogram2dcontour\": [{\"colorbar\": {\"outlinewidth\": 0, \"ticks\": \"\"}, \"colorscale\": [[0.0, \"#0d0887\"], [0.1111111111111111, \"#46039f\"], [0.2222222222222222, \"#7201a8\"], [0.3333333333333333, \"#9c179e\"], [0.4444444444444444, \"#bd3786\"], [0.5555555555555556, \"#d8576b\"], [0.6666666666666666, \"#ed7953\"], [0.7777777777777778, \"#fb9f3a\"], [0.8888888888888888, \"#fdca26\"], [1.0, \"#f0f921\"]], \"type\": \"histogram2dcontour\"}], \"mesh3d\": [{\"colorbar\": {\"outlinewidth\": 0, \"ticks\": \"\"}, \"type\": \"mesh3d\"}], \"parcoords\": [{\"line\": {\"colorbar\": {\"outlinewidth\": 0, \"ticks\": \"\"}}, \"type\": \"parcoords\"}], \"pie\": [{\"automargin\": true, \"type\": \"pie\"}], \"scatter\": [{\"marker\": {\"colorbar\": {\"outlinewidth\": 0, \"ticks\": \"\"}}, \"type\": \"scatter\"}], \"scatter3d\": [{\"line\": {\"colorbar\": {\"outlinewidth\": 0, \"ticks\": \"\"}}, \"marker\": {\"colorbar\": {\"outlinewidth\": 0, \"ticks\": \"\"}}, \"type\": \"scatter3d\"}], \"scattercarpet\": [{\"marker\": {\"colorbar\": {\"outlinewidth\": 0, \"ticks\": \"\"}}, \"type\": \"scattercarpet\"}], \"scattergeo\": [{\"marker\": {\"colorbar\": {\"outlinewidth\": 0, \"ticks\": \"\"}}, \"type\": \"scattergeo\"}], \"scattergl\": [{\"marker\": {\"colorbar\": {\"outlinewidth\": 0, \"ticks\": \"\"}}, \"type\": \"scattergl\"}], \"scattermapbox\": [{\"marker\": {\"colorbar\": {\"outlinewidth\": 0, \"ticks\": \"\"}}, \"type\": \"scattermapbox\"}], \"scatterpolar\": [{\"marker\": {\"colorbar\": {\"outlinewidth\": 0, \"ticks\": \"\"}}, \"type\": \"scatterpolar\"}], \"scatterpolargl\": [{\"marker\": {\"colorbar\": {\"outlinewidth\": 0, \"ticks\": \"\"}}, \"type\": \"scatterpolargl\"}], \"scatterternary\": [{\"marker\": {\"colorbar\": {\"outlinewidth\": 0, \"ticks\": \"\"}}, \"type\": \"scatterternary\"}], \"surface\": [{\"colorbar\": {\"outlinewidth\": 0, \"ticks\": \"\"}, \"colorscale\": [[0.0, \"#0d0887\"], [0.1111111111111111, \"#46039f\"], [0.2222222222222222, \"#7201a8\"], [0.3333333333333333, \"#9c179e\"], [0.4444444444444444, \"#bd3786\"], [0.5555555555555556, \"#d8576b\"], [0.6666666666666666, \"#ed7953\"], [0.7777777777777778, \"#fb9f3a\"], [0.8888888888888888, \"#fdca26\"], [1.0, \"#f0f921\"]], \"type\": \"surface\"}], \"table\": [{\"cells\": {\"fill\": {\"color\": \"#EBF0F8\"}, \"line\": {\"color\": \"white\"}}, \"header\": {\"fill\": {\"color\": \"#C8D4E3\"}, \"line\": {\"color\": \"white\"}}, \"type\": \"table\"}]}, \"layout\": {\"annotationdefaults\": {\"arrowcolor\": \"#2a3f5f\", \"arrowhead\": 0, \"arrowwidth\": 1}, \"coloraxis\": {\"colorbar\": {\"outlinewidth\": 0, \"ticks\": \"\"}}, \"colorscale\": {\"diverging\": [[0, \"#8e0152\"], [0.1, \"#c51b7d\"], [0.2, \"#de77ae\"], [0.3, \"#f1b6da\"], [0.4, \"#fde0ef\"], [0.5, \"#f7f7f7\"], [0.6, \"#e6f5d0\"], [0.7, \"#b8e186\"], [0.8, \"#7fbc41\"], [0.9, \"#4d9221\"], [1, \"#276419\"]], \"sequential\": [[0.0, \"#0d0887\"], [0.1111111111111111, \"#46039f\"], [0.2222222222222222, \"#7201a8\"], [0.3333333333333333, \"#9c179e\"], [0.4444444444444444, \"#bd3786\"], [0.5555555555555556, \"#d8576b\"], [0.6666666666666666, \"#ed7953\"], [0.7777777777777778, \"#fb9f3a\"], [0.8888888888888888, \"#fdca26\"], [1.0, \"#f0f921\"]], \"sequentialminus\": [[0.0, \"#0d0887\"], [0.1111111111111111, \"#46039f\"], [0.2222222222222222, \"#7201a8\"], [0.3333333333333333, \"#9c179e\"], [0.4444444444444444, \"#bd3786\"], [0.5555555555555556, \"#d8576b\"], [0.6666666666666666, \"#ed7953\"], [0.7777777777777778, \"#fb9f3a\"], [0.8888888888888888, \"#fdca26\"], [1.0, \"#f0f921\"]]}, \"colorway\": [\"#636efa\", \"#EF553B\", \"#00cc96\", \"#ab63fa\", \"#FFA15A\", \"#19d3f3\", \"#FF6692\", \"#B6E880\", \"#FF97FF\", \"#FECB52\"], \"font\": {\"color\": \"#2a3f5f\"}, \"geo\": {\"bgcolor\": \"white\", \"lakecolor\": \"white\", \"landcolor\": \"#E5ECF6\", \"showlakes\": true, \"showland\": true, \"subunitcolor\": \"white\"}, \"hoverlabel\": {\"align\": \"left\"}, \"hovermode\": \"closest\", \"mapbox\": {\"style\": \"light\"}, \"paper_bgcolor\": \"white\", \"plot_bgcolor\": \"#E5ECF6\", \"polar\": {\"angularaxis\": {\"gridcolor\": \"white\", \"linecolor\": \"white\", \"ticks\": \"\"}, \"bgcolor\": \"#E5ECF6\", \"radialaxis\": {\"gridcolor\": \"white\", \"linecolor\": \"white\", \"ticks\": \"\"}}, \"scene\": {\"xaxis\": {\"backgroundcolor\": \"#E5ECF6\", \"gridcolor\": \"white\", \"gridwidth\": 2, \"linecolor\": \"white\", \"showbackground\": true, \"ticks\": \"\", \"zerolinecolor\": \"white\"}, \"yaxis\": {\"backgroundcolor\": \"#E5ECF6\", \"gridcolor\": \"white\", \"gridwidth\": 2, \"linecolor\": \"white\", \"showbackground\": true, \"ticks\": \"\", \"zerolinecolor\": \"white\"}, \"zaxis\": {\"backgroundcolor\": \"#E5ECF6\", \"gridcolor\": \"white\", \"gridwidth\": 2, \"linecolor\": \"white\", \"showbackground\": true, \"ticks\": \"\", \"zerolinecolor\": \"white\"}}, \"shapedefaults\": {\"line\": {\"color\": \"#2a3f5f\"}}, \"ternary\": {\"aaxis\": {\"gridcolor\": \"white\", \"linecolor\": \"white\", \"ticks\": \"\"}, \"baxis\": {\"gridcolor\": \"white\", \"linecolor\": \"white\", \"ticks\": \"\"}, \"bgcolor\": \"#E5ECF6\", \"caxis\": {\"gridcolor\": \"white\", \"linecolor\": \"white\", \"ticks\": \"\"}}, \"title\": {\"x\": 0.05}, \"xaxis\": {\"automargin\": true, \"gridcolor\": \"white\", \"linecolor\": \"white\", \"ticks\": \"\", \"title\": {\"standoff\": 15}, \"zerolinecolor\": \"white\", \"zerolinewidth\": 2}, \"yaxis\": {\"automargin\": true, \"gridcolor\": \"white\", \"linecolor\": \"white\", \"ticks\": \"\", \"title\": {\"standoff\": 15}, \"zerolinecolor\": \"white\", \"zerolinewidth\": 2}}}, \"title\": {\"text\": \"Mean Absolute Percentage Error\", \"x\": 0.5}},\n",
              "                        {\"responsive\": true}\n",
              "                    ).then(function(){\n",
              "                            \n",
              "var gd = document.getElementById('f1487ad8-ca25-419a-82e3-715b72115269');\n",
              "var x = new MutationObserver(function (mutations, observer) {{\n",
              "        var display = window.getComputedStyle(gd).display;\n",
              "        if (!display || display === 'none') {{\n",
              "            console.log([gd, 'removed!']);\n",
              "            Plotly.purge(gd);\n",
              "            observer.disconnect();\n",
              "        }}\n",
              "}});\n",
              "\n",
              "// Listen for the removal of the full notebook cells\n",
              "var notebookContainer = gd.closest('#notebook-container');\n",
              "if (notebookContainer) {{\n",
              "    x.observe(notebookContainer, {childList: true});\n",
              "}}\n",
              "\n",
              "// Listen for the clearing of the current output cell\n",
              "var outputEl = gd.closest('.output');\n",
              "if (outputEl) {{\n",
              "    x.observe(outputEl, {childList: true});\n",
              "}}\n",
              "\n",
              "                        })\n",
              "                };\n",
              "                \n",
              "            </script>\n",
              "        </div>\n",
              "</body>\n",
              "</html>"
            ]
          },
          "metadata": {}
        }
      ]
    },
    {
      "cell_type": "markdown",
      "metadata": {
        "id": "A3e1k3G6ADwq"
      },
      "source": [
        "# Future Predictions\n",
        "\n",
        "---\n",
        "\n",
        "Since we may not have all data available for the future prediction, we used deep learning to predict those data by themselves. The variables included all Google mobility data (see: https://github.com/Tanainan/Covid-19Thailand/blob/main/Predicting_Google_mobility.ipynb) and driving data from Apple (see: https://github.com/Tanainan/Covid-19Thailand/blob/main/Predicting_Apple_mobility.ipynb). Below, each variable was predicted and used as input to predict Covid-19 confirmed cases."
      ]
    },
    {
      "cell_type": "code",
      "metadata": {
        "id": "OGSzHCk9ZXWD"
      },
      "source": [
        "# Multivariate\n",
        "def future_prediction_multi(input, model, days_predicted, total_prediction):\n",
        "  all_prediction = pd.DataFrame(total_prediction)\n",
        "\n",
        "  # use the last 14 days from actual data\n",
        "  all_input = input[-14:]\n",
        "\n",
        "  for i in range(1,days_predicted + 1):\n",
        "    # create a matrix of input with 14 previous days for all features\n",
        "    new_input = np.expand_dims(all_input[-14:], axis = 0) \n",
        "\n",
        "    # set seed\n",
        "    seed(1)\n",
        "    tensorflow.random.set_seed(1)\n",
        "\n",
        "    # make the next day prediction\n",
        "    last_output = pd.DataFrame(model.predict(new_input))\n",
        "\n",
        "    # record the prediction\n",
        "    all_prediction = pd.concat([all_prediction, pd.DataFrame(last_output)], ignore_index=True)\n",
        "\n",
        "\n",
        "    # use resident to predict future resident using trained model\n",
        "    new_driving = pd.DataFrame(model_apple.predict(np.array(all_input.iloc[-lag:, 1]).reshape(1,lag,1)))\n",
        "    new_retail = pd.DataFrame(model_mob_retail.predict(np.array(all_input.iloc[-lag:, 2]).reshape(1,lag,1)))\n",
        "    new_grocery = pd.DataFrame(model_mob_grocery.predict(np.array(all_input.iloc[-lag:, 3]).reshape(1,lag,1)))\n",
        "    new_parks = pd.DataFrame(model_mob_parks.predict(np.array(all_input.iloc[-lag:, 4]).reshape(1,lag,1)))\n",
        "    new_transit = pd.DataFrame(model_mob_transit.predict(np.array(all_input.iloc[-lag:, 5]).reshape(1,lag,1)))\n",
        "    new_workplace = pd.DataFrame(model_mob_workplace.predict(np.array(all_input.iloc[-lag:, 6]).reshape(1,lag,1)))\n",
        "    new_resident = pd.DataFrame(model_mob_resident.predict(np.array(all_input.iloc[-lag:, 7]).reshape(1,lag,1)))\n",
        "\n",
        "    # new row\n",
        "    new_row = [last_output[0], new_driving, new_retail, new_grocery, new_parks, new_transit, new_workplace, new_resident]\n",
        "    new_row = list(itertools.chain(*new_row))\n",
        "\n",
        "    # feed the new row back to data frame as new input\n",
        "    all_input.loc[len(all_input)] = new_row\n",
        "  return all_prediction\n",
        "\n"
      ],
      "execution_count": 137,
      "outputs": []
    },
    {
      "cell_type": "code",
      "metadata": {
        "colab": {
          "base_uri": "https://localhost:8080/"
        },
        "id": "UtqJ3c_VmuPQ",
        "outputId": "46fe4a78-6e5c-4152-81b0-2febac27434a"
      },
      "source": [
        "# train model for Driving\n",
        "seed(1)\n",
        "tensorflow.random.set_seed(1)\n",
        "\n",
        "model_apple = Sequential()\n",
        "model_apple.add(SimpleRNN(1024, activation='relu', input_shape=(X_tr_Driving.shape[1], X_tr_Driving.shape[2])))\n",
        "model_apple.add(Dense(1, activation = \"linear\"))\n",
        "model_apple.compile(loss='mse', optimizer='adam', metrics = \"MAPE\")\n",
        "\n",
        "# fit network\n",
        "model_apple.fit(X_tr_Driving, y_tr_Driving, \n",
        "                           epochs=50, \n",
        "                           batch_size=1, \n",
        "                           verbose=0, \n",
        "                           shuffle=False)\n",
        "\n",
        "\n",
        "# train model for retail\n",
        "seed(1)\n",
        "tensorflow.random.set_seed(1)\n",
        "\n",
        "model_mob_retail = Sequential()\n",
        "model_mob_retail.add(LSTM(64, activation='relu', input_shape=(X_tr_retail.shape[1], X_tr_retail.shape[2])))\n",
        "model_mob_retail.add(Dense(1, activation = \"linear\"))\n",
        "model_mob_retail.compile(loss='mse', optimizer='adam', metrics = \"MAPE\")\n",
        "\n",
        "# fit network\n",
        "model_mob_retail.fit(X_tr_retail, y_tr_retail, \n",
        "                           epochs=50, \n",
        "                           batch_size=1, \n",
        "                           verbose=0, \n",
        "                           shuffle=False)\n",
        "\n",
        "# train model for grocery -- \n",
        "seed(1)\n",
        "tensorflow.random.set_seed(1)\n",
        "\n",
        "model_mob_grocery = Sequential()\n",
        "model_mob_grocery.add(GRU(64, activation='relu', input_shape=(X_tr_grocery.shape[1], X_tr_grocery.shape[2])))\n",
        "model_mob_grocery.add(Dense(1, activation = \"linear\"))\n",
        "model_mob_grocery.compile(loss='mse', optimizer='adam', metrics = \"MAPE\")\n",
        "\n",
        "# fit network\n",
        "model_mob_grocery.fit(X_tr_grocery, y_tr_grocery, \n",
        "                           epochs=50, \n",
        "                           batch_size=1, \n",
        "                           verbose=0, \n",
        "                           shuffle=False)\n",
        "\n",
        "# train model for parks\n",
        "seed(1)\n",
        "tensorflow.random.set_seed(1)\n",
        "\n",
        "model_mob_parks = Sequential()\n",
        "model_mob_parks.add(Conv1D(512, kernel_size = 7, activation='relu', input_shape=(X_tr_parks.shape[1], X_tr_parks.shape[2])))\n",
        "model_mob_parks.add(MaxPooling1D(2))\n",
        "model_mob_parks.add(Flatten())\n",
        "model_mob_parks.add(Dense(1, activation = \"linear\"))\n",
        "model_mob_parks.compile(loss='mse', optimizer='adam', metrics = \"MAPE\")\n",
        "\n",
        "# fit network\n",
        "model_mob_parks.fit(X_tr_parks, y_tr_parks, \n",
        "                           epochs=50, \n",
        "                           batch_size=1, \n",
        "                           verbose=0, \n",
        "                           shuffle=False)\n",
        "\n",
        "# train model for transit\n",
        "seed(1)\n",
        "tensorflow.random.set_seed(1)\n",
        "\n",
        "model_mob_transit = Sequential()\n",
        "model_mob_transit.add(SimpleRNN(8, activation='relu', input_shape=(X_tr_transit.shape[1], X_tr_transit.shape[2])))\n",
        "model_mob_transit.add(Dense(1, activation = \"linear\"))\n",
        "model_mob_transit.compile(loss='mse', optimizer='adam', metrics = \"MAPE\")\n",
        "\n",
        "# fit network\n",
        "model_mob_transit.fit(X_tr_transit, y_tr_transit, \n",
        "                           epochs=50, \n",
        "                           batch_size=1, \n",
        "                           verbose=0, \n",
        "                           shuffle=False)\n",
        "\n",
        "# train model for workplace --\n",
        "seed(1)\n",
        "tensorflow.random.set_seed(1)\n",
        "\n",
        "model_mob_workplace = Sequential()\n",
        "model_mob_workplace.add(GRU(256, activation='relu', input_shape=(X_tr_workplace.shape[1], X_tr_workplace.shape[2])))\n",
        "model_mob_workplace.add(Dense(1, activation = \"linear\"))\n",
        "model_mob_workplace.compile(loss='mse', optimizer='adam', metrics = \"MAPE\")\n",
        "\n",
        "# fit network\n",
        "model_mob_workplace.fit(X_tr_workplace, y_tr_workplace, \n",
        "                           epochs=50, \n",
        "                           batch_size=1, \n",
        "                           verbose=0, \n",
        "                           shuffle=False)\n",
        "\n",
        "\n",
        "# train model for resident\n",
        "seed(1)\n",
        "tensorflow.random.set_seed(1)\n",
        "model_mob_resident = Sequential()\n",
        "model_mob_resident.add(SimpleRNN(128, activation='relu', input_shape=(X_tr_resident.shape[1], X_tr_resident.shape[2])))\n",
        "model_mob_resident.add(Dense(1, activation = \"linear\"))\n",
        "model_mob_resident.compile(loss='mse', optimizer='adam', metrics = \"MAPE\")\n",
        "\n",
        "# fit network\n",
        "model_mob_resident.fit(X_tr_resident, y_tr_resident, \n",
        "                           epochs=50, \n",
        "                           batch_size=1, \n",
        "                           verbose=0, \n",
        "                           shuffle=False)\n"
      ],
      "execution_count": 138,
      "outputs": [
        {
          "output_type": "execute_result",
          "data": {
            "text/plain": [
              "<keras.callbacks.History at 0x7f94a32d3310>"
            ]
          },
          "metadata": {},
          "execution_count": 138
        }
      ]
    },
    {
      "cell_type": "code",
      "metadata": {
        "colab": {
          "base_uri": "https://localhost:8080/"
        },
        "id": "7QTBeaH8eXZh",
        "outputId": "a5166cf2-77ed-470c-8d5a-801e3a469dc6"
      },
      "source": [
        "\n",
        "# multivariate confirmed deaths\n",
        "multi_i_pred = future_prediction_multi(data_i, model_multi_i, days_predicted, y_multi_i_total)\n"
      ],
      "execution_count": 139,
      "outputs": [
        {
          "output_type": "stream",
          "name": "stderr",
          "text": [
            "/usr/local/lib/python3.7/dist-packages/pandas/core/indexing.py:670: SettingWithCopyWarning:\n",
            "\n",
            "\n",
            "A value is trying to be set on a copy of a slice from a DataFrame\n",
            "\n",
            "See the caveats in the documentation: https://pandas.pydata.org/pandas-docs/stable/user_guide/indexing.html#returning-a-view-versus-a-copy\n",
            "\n"
          ]
        }
      ]
    },
    {
      "cell_type": "markdown",
      "metadata": {
        "id": "Spgb1Mqcoj3N"
      },
      "source": [
        "### Plots"
      ]
    },
    {
      "cell_type": "code",
      "metadata": {
        "colab": {
          "base_uri": "https://localhost:8080/",
          "height": 774
        },
        "id": "iGH4saqYm13w",
        "outputId": "0392fc58-a872-4db8-f789-67a2d8a25d12"
      },
      "source": [
        "\n",
        "pred = pd.concat([multi_i_pred],\n",
        "                 axis=1)\n",
        "pred.columns = ['multi_i']\n",
        "\n",
        "start_date = infect.Date[0]\n",
        "\n",
        "# extract actual data\n",
        "act = data[(data['Date'] >= start_date)].reset_index(drop = True)\n",
        "act = act[0:len(pred)]\n",
        "\n",
        "pred = pd.concat([pred, act], axis = 1)\n",
        "\n",
        "date_test = pred['Date'][0+index]\n",
        "date_predict = pred['Date'][0+len(infect)]\n",
        "tick_spacing = 5\n",
        "\n",
        "fig, axes = plt.subplots(figsize=(20,10)) \n",
        "fig.suptitle(\"Covid-19 Future Prediction in Thailand\", fontsize=20)\n",
        "\n",
        "\n",
        "# Multivariate confirmed deaths\n",
        "axes.plot(pred['Date'],pred['multi_i'], label = multi_ie)\n",
        "axes.plot(pred['Date'], pred['Cases_daily'], label = \"Actual\")\n",
        "axes.legend(frameon=False, loc='upper center', ncol = 2, fontsize = 'x-large')\n",
        "axes.set_title(\"Multivariate: Confirmed Cases\", fontsize = 'xx-large')\n",
        "axes.tick_params('x',labelrotation=90)\n",
        "axes.axvline(date_test, color=\"gray\", linestyle=\"--\")\n",
        "axes.axvline(date_predict, color=\"gray\", linestyle=\"--\")\n",
        "axes.xaxis.set_major_locator(ticker.MultipleLocator(tick_spacing))\n",
        "axes.set_xticks(pred['Date'], minor=True)\n",
        "axes.xaxis.grid(True, which='both', alpha=0.3)\n",
        "\n",
        "fig.text(0.5, -0.02, 'Date', ha='center', fontsize=15)\n",
        "fig.text(-0.02, 0.5, 'Cases', va='center', rotation='vertical', fontsize=15)\n",
        "fig.tight_layout(pad=3.0)\n",
        "fig.subplots_adjust(top=0.9)\n",
        "plt.show()"
      ],
      "execution_count": 140,
      "outputs": [
        {
          "output_type": "display_data",
          "data": {
            "image/png": "[encoded data removed]",
            "text/plain": [
              "<Figure size 1440x720 with 1 Axes>"
            ]
          },
          "metadata": {
            "needs_background": "light"
          }
        }
      ]
    },
    {
      "cell_type": "markdown",
      "metadata": {
        "id": "5lbb6Rmgnn0z"
      },
      "source": [
        "Figure above showed predictions of Covid-19 daily confirmed cases in Thailand. On the right hand side, future prediction were made for 14 days ahead. Variables, such as retail visits, groery visits, park visits, transportation uses, workplace visits, residents, and driving data, were from deep learning predictions. Overall, the 14-day ahead prediction showed an upward trend which was not accurate, comparing to the actual values."
      ]
    },
    {
      "cell_type": "code",
      "metadata": {
        "id": "1ZLpxkXIouJm"
      },
      "source": [
        ""
      ],
      "execution_count": null,
      "outputs": []
    }
  ]
}