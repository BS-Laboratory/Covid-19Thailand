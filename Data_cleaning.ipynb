{
  "nbformat": 4,
  "nbformat_minor": 0,
  "metadata": {
    "colab": {
      "name": "Data cleaning",
      "provenance": [],
      "authorship_tag": "ABX9TyOj92236vjZF0xEZEsfebTp",
      "include_colab_link": true
    },
    "kernelspec": {
      "name": "python3",
      "display_name": "Python 3"
    },
    "language_info": {
      "name": "python"
    }
  },
  "cells": [
    {
      "cell_type": "markdown",
      "metadata": {
        "id": "view-in-github",
        "colab_type": "text"
      },
      "source": [
        "<a href=\"https://colab.research.google.com/github/Tanainan/Covid-19Thailand/blob/main/Data_cleaning.ipynb\" target=\"_parent\"><img src=\"https://colab.research.google.com/assets/colab-badge.svg\" alt=\"Open In Colab\"/></a>"
      ]
    },
    {
      "cell_type": "code",
      "metadata": {
        "id": "IBFSA8ehFJYX"
      },
      "source": [
        "# import packages\n",
        "from pandas import read_csv\n",
        "import datetime\n",
        "import pandas as pd\n",
        "import numpy as np\n",
        "import sys\n",
        "np.set_printoptions(threshold=sys.maxsize)\n",
        "pd.set_option('display.max_rows', 1000)\n",
        "from tensorflow.keras.utils import to_categorical"
      ],
      "execution_count": 145,
      "outputs": []
    },
    {
      "cell_type": "markdown",
      "metadata": {
        "id": "C7sqFsmZFgwK"
      },
      "source": [
        "# Import Data from Original Sources"
      ]
    },
    {
      "cell_type": "markdown",
      "metadata": {
        "id": "lN8_Q1q2FmaH"
      },
      "source": [
        "## Cases and Policies"
      ]
    },
    {
      "cell_type": "code",
      "metadata": {
        "colab": {
          "base_uri": "https://localhost:8080/"
        },
        "id": "NLqZL1TdFazQ",
        "outputId": "db89f05c-1232-49a6-fa3a-2f9c7d7fd646"
      },
      "source": [
        "data = read_csv(\"https://raw.githubusercontent.com/OxCGRT/covid-policy-tracker/d98db2da901d5707dc3225ee163903005e7645f3/data/OxCGRT_latest.csv\")\n",
        "\n",
        "data = pd.DataFrame(data)\n",
        "\n",
        "# select Thailand only\n",
        "data = data.loc[data['CountryName'] == \"Thailand\"]\n",
        "\n",
        "# select columns\n",
        "data = data[[\"Date\", \"C1_School closing\",\n",
        "            \"C2_Workplace closing\",\n",
        "            \"C3_Cancel public events\", \"C4_Restrictions on gatherings\",\n",
        "            \"C5_Close public transport\", \"C6_Stay at home requirements\",\n",
        "            \"C7_Restrictions on internal movement\", \"C8_International travel controls\",\n",
        "            \"H1_Public information campaigns\", \"ConfirmedCases\", \"ConfirmedDeaths\"]]\n",
        "\n",
        "# change column names\n",
        "data = data.rename(columns = {\"C1_School closing\":\"C1_School.closing\",\n",
        "            \"C2_Workplace closing\":\"C2_Workplace.closing\",\n",
        "            \"C3_Cancel public events\":\"C3_Cancel.public.events\",\n",
        "            \"C4_Restrictions on gatherings\":\"C4_Restrictions.on.gatherings\",\n",
        "            \"C5_Close public transport\":\"C5_Close.public.transport\",\n",
        "            \"C6_Stay at home requirements\":\"C6_Stay.at.home.requirements\",\n",
        "            \"C7_Restrictions on internal movement\":\"C7_Restrictions.on.internal.movement\",\n",
        "            \"C8_International travel controls\":\"C8_International.travel.controls\",\n",
        "            \"H1_Public information campaigns\":\"H1_Public.information.campaigns\"})\n",
        "\n",
        "# change date format\n",
        "data.Date =  pd.to_datetime(data[\"Date\"], format='%Y%m%d')\n",
        "\n",
        "# reset index\n",
        "data = data.reset_index(drop = True)\n",
        "\n",
        "# replace NaN with 0 for ConfirmedCases and ConfirmedDeaths\n",
        "data[[\"ConfirmedCases\", \"ConfirmedDeaths\"]] = data[[\"ConfirmedCases\", \"ConfirmedDeaths\"]].replace(np.nan, 0)\n",
        "\n",
        "# remove NaN rows (bottom part)\n",
        "data = data.dropna()\n",
        "\n",
        "# add daily cases columns\n",
        "data[[\"Cases_daily\"]] = data['ConfirmedCases'].rolling(window=2).apply(lambda x: x.iloc[1] - x.iloc[0])\n",
        "data[[\"Deaths_daily\"]] = data['ConfirmedDeaths'].rolling(window=2).apply(lambda x: x.iloc[1] - x.iloc[0])\n",
        "\n",
        "# replace NaN with 0 for ConfirmedCases and Deaths_daily\n",
        "data[[\"Cases_daily\", \"Deaths_daily\"]] = data[[\"Cases_daily\", \"Deaths_daily\"]].replace(np.nan, 0)\n",
        "\n",
        "\n",
        "# start from 15/2/2020\n",
        "data = data[data.loc[data['Date'] == \"2020-02-15\"].index[0]:]\n",
        "\n",
        "# reset index\n",
        "data = data.reset_index(drop = True)\n",
        "\n",
        "# one-hot encoding\n",
        "a = pd.DataFrame(to_categorical(data[[\"C1_School.closing\"]]))\n",
        "b = pd.DataFrame(to_categorical(data[[\"C2_Workplace.closing\"]]))\n",
        "c = pd.DataFrame(to_categorical(data[[\"C3_Cancel.public.events\"]]))\n",
        "d = pd.DataFrame(to_categorical(data[[\"C4_Restrictions.on.gatherings\"]]))\n",
        "e = pd.DataFrame(to_categorical(data[[\"C5_Close.public.transport\"]]))\n",
        "f = pd.DataFrame(to_categorical(data[[\"C6_Stay.at.home.requirements\"]]))\n",
        "g = pd.DataFrame(to_categorical(data[[\"C7_Restrictions.on.internal.movement\"]]))\n",
        "h = pd.DataFrame(to_categorical(data[[\"C8_International.travel.controls\"]]))\n",
        "j = pd.DataFrame(to_categorical(data[[\"H1_Public.information.campaigns\"]]))\n",
        "\n",
        "\n",
        "\n",
        "\n"
      ],
      "execution_count": 199,
      "outputs": [
        {
          "output_type": "stream",
          "name": "stderr",
          "text": [
            "/usr/local/lib/python3.7/dist-packages/IPython/core/interactiveshell.py:2718: DtypeWarning: Columns (2,3) have mixed types.Specify dtype option on import or set low_memory=False.\n",
            "  interactivity=interactivity, compiler=compiler, result=result)\n"
          ]
        }
      ]
    },
    {
      "cell_type": "markdown",
      "metadata": {
        "id": "Y1YnLhHjjV4n"
      },
      "source": [
        "## Apple Mobility"
      ]
    },
    {
      "cell_type": "markdown",
      "metadata": {
        "id": "jUCMFx4XkBca"
      },
      "source": [
        "## Google Mobility"
      ]
    },
    {
      "cell_type": "code",
      "metadata": {
        "colab": {
          "base_uri": "https://localhost:8080/"
        },
        "id": "zSp2BWwkkDGZ",
        "outputId": "7aadc4cc-a4b3-4aaf-9fb2-31ee91bbcfe4"
      },
      "source": [
        "mob = read_csv(\"https://www.gstatic.com/covid19/mobility/Global_Mobility_Report.csv\")\n",
        "\n",
        "mob = pd.DataFrame(mob)\n",
        "\n",
        "# select only Thailand\n",
        "mob = mob.loc[mob['country_region'] == \"Thailand\"]\n",
        "\n",
        "# select columns\n",
        "mob = mob[[\"date\",\n",
        "              \"retail_and_recreation_percent_change_from_baseline\",\n",
        "              \"grocery_and_pharmacy_percent_change_from_baseline\",\n",
        "              \"parks_percent_change_from_baseline\",\n",
        "              \"transit_stations_percent_change_from_baseline\",\n",
        "              \"workplaces_percent_change_from_baseline\",\n",
        "              \"residential_percent_change_from_baseline\"]]\n",
        "\n",
        "# change date format\n",
        "mob.date =  pd.to_datetime(mob[\"date\"])\n",
        "\n",
        "# change column name\n",
        "mob = mob.rename(columns = {'date':'Date'})\n",
        "\n",
        "# reset index\n",
        "mob = mob.reset_index(drop = True)\n",
        "\n",
        "# start from 15/2/2020\n",
        "mob = mob[mob.loc[mob['Date'] == \"2020-02-15\"].index[0]:]\n"
      ],
      "execution_count": 198,
      "outputs": [
        {
          "output_type": "stream",
          "name": "stderr",
          "text": [
            "/usr/local/lib/python3.7/dist-packages/IPython/core/interactiveshell.py:2718: DtypeWarning: Columns (3,4,5) have mixed types.Specify dtype option on import or set low_memory=False.\n",
            "  interactivity=interactivity, compiler=compiler, result=result)\n"
          ]
        }
      ]
    },
    {
      "cell_type": "markdown",
      "metadata": {
        "id": "WMeiynS74A0s"
      },
      "source": [
        "## Combine Data"
      ]
    },
    {
      "cell_type": "code",
      "metadata": {
        "id": "wCuFtjqMkWbW"
      },
      "source": [
        "# whichever has fewer data\n",
        "length = min(len(data), len(mob))\n",
        "\n",
        "# Cases daily\n",
        "data_i = pd.concat([data.Cases_daily[:length], \n",
        "                    a[:length],\n",
        "                    b[:length],\n",
        "                    c[:length],\n",
        "                    d[:length],\n",
        "                    e[:length],\n",
        "                    f[:length],\n",
        "                    g[:length],\n",
        "                    h[:length],\n",
        "                    j[:length],\n",
        "                    mob[:length]], axis = 1)\n",
        "\n",
        "# Deaths daily\n",
        "data_d = pd.concat([data.Deaths_daily[:length], \n",
        "                    a[:length],\n",
        "                    b[:length],\n",
        "                    c[:length],\n",
        "                    d[:length],\n",
        "                    e[:length],\n",
        "                    f[:length],\n",
        "                    g[:length],\n",
        "                    h[:length],\n",
        "                    j[:length],\n",
        "                    mob[:length]], axis = 1)\n"
      ],
      "execution_count": 213,
      "outputs": []
    },
    {
      "cell_type": "code",
      "metadata": {
        "id": "baqSI-cT6srS"
      },
      "source": [
        ""
      ],
      "execution_count": null,
      "outputs": []
    }
  ]
}