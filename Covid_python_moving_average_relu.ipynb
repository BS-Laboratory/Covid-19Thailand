{
  "nbformat": 4,
  "nbformat_minor": 0,
  "metadata": {
    "colab": {
      "name": "Covid-python moving average relu",
      "provenance": [],
      "collapsed_sections": [
        "9_ZpalgmNAgb",
        "GKiPvcvKM9FP",
        "P7Rtvf6_Fj-l",
        "-c6h5EBBFxnn"
      ],
      "toc_visible": true,
      "authorship_tag": "ABX9TyMQGCDhqVzYtmjdT1++xbQa",
      "include_colab_link": true
    },
    "kernelspec": {
      "name": "python3",
      "display_name": "Python 3"
    },
    "language_info": {
      "name": "python"
    }
  },
  "cells": [
    {
      "cell_type": "markdown",
      "metadata": {
        "id": "view-in-github",
        "colab_type": "text"
      },
      "source": [
        "<a href=\"https://colab.research.google.com/github/Tanainan/Covid-19Thailand/blob/main/Covid_python_moving_average_relu.ipynb\" target=\"_parent\"><img src=\"https://colab.research.google.com/assets/colab-badge.svg\" alt=\"Open In Colab\"/></a>"
      ]
    },
    {
      "cell_type": "markdown",
      "metadata": {
        "id": "49t5kJ6QuESg"
      },
      "source": [
        "# Covid-19 Trends Prediction in Thailand Using Time Series Neural Networks\n",
        "\n",
        "---\n",
        "\n",
        "\n",
        "We used convolutional neural network (CNN), recurrent neural networks (RNNs), gated recurrent unit (GRU) and long short-term memory (LSTM) to predict Covid-19 cases and deaths in Thailand, using 14 previous days as samples to predict the next 1 day. These models particularly deal with time series data. Further, we ran multivariate neural networks with policy implementations, mobility changes, transportation behavior changes, vaccination, confirmed cases (for predicting deaths) and confirmed deaths (for predicting cases) as additional predictors. Our goal was to minimize the mean average percentage error (MAPE) between the actual values and predictions.  \n",
        "\n",
        "\n",
        "\n",
        "## Data Sources\n",
        "\n",
        "\n",
        "The Covid-19 data was from https://github.com/CSSEGISandData/COVID-19 by John Hopkins University. The data included both confirmed infects and confirmed deaths reported by Thailand’s Ministry of Public Health. \n",
        "Policy implementation in Thailand data was gathered by Oxford Covid-19 Government Response Tracker (OxCGRT) (https://github.com/OxCGRT/covid-policy-tracker). This policy record indicated when and how the government in each country responded to the pandemic at specific time periods. We used containment and health index which consisted of school closing, workplace closing, canceling public events, restrictions on gatherings, close public transport, stay at home requirements, international travel controls, and public information campaign. Each indicator was coded in different levels of implementations (see more: ​​https://github.com/OxCGRT/covid-policy-tracker/blob/master/documentation/codebook.md)\n",
        "The mobility data was from Google (https://www.google.com/covid19/mobility). Google calculated the changes of mobility based on Location History of users on Google Map. The baseline of the changes was the median value from January, 3rd to February 6th, 2020. There were four categories: groceries and pharmacy, retail and recreation, transit stations, and finally, parks. Another source of mobility was from Apple where it tracked driving and walking behaviors during the pandemic (https://covid19.apple.com/mobility). \n",
        "Vaccination count was gathered from Thailand’s Ministry of Health (https://github.com/porames/the-researcher-covid-data?fbclid=IwAR1-SAiA8pMKD5qbcN7S5c-p_snBIIWd42wYOq4qiM9yA6FTf_GcyYgxtvA). This vaccination information that was used in this study was the amount of Thai people who received their first shot, second shot of vaccines, regardless of the vaccine types. \n",
        "Finally, the last input data was transportation behavior from Thai’s Ministry of Transportation (https://datagov.mot.go.th/dataset/covid-19/resource/71a552d0-0fea-4e05-b78c-42d58aa88db6?fbclid=IwAR18p4TQY3qlD9snnhADdvrAWVjOgofse54GbNKm8Qb-pMgBb-ZejebWD-w). The information included the rate of use for both public and private transportation systems in Thailand. \n",
        "\n"
      ]
    },
    {
      "cell_type": "markdown",
      "metadata": {
        "id": "8Ix5ZBdJGub1"
      },
      "source": [
        "## Import packages"
      ]
    },
    {
      "cell_type": "code",
      "metadata": {
        "id": "OwNlMasL65To",
        "colab": {
          "base_uri": "https://localhost:8080/"
        },
        "outputId": "76dcf138-4f74-4bd9-e23a-eed314000091"
      },
      "source": [
        "!pip install -U tensorflow-addons\n",
        "from numpy import array\n",
        "from numpy import hstack\n",
        "from keras.models import Sequential\n",
        "from keras.layers import LSTM\n",
        "from keras.layers import Dense, Dropout, Activation\n",
        "from keras.layers import GRU\n",
        "from keras.layers import SimpleRNN\n",
        "from keras.layers import TimeDistributed\n",
        "from keras.layers import Bidirectional\n",
        "from keras.layers.convolutional import Conv1D\n",
        "from keras.layers.convolutional import MaxPooling1D\n",
        "from tensorflow_addons.layers import InstanceNormalization, GroupNormalization\n",
        "from keras.layers import LayerNormalization\n",
        "from keras.layers import Flatten\n",
        "from pandas import read_csv\n",
        "from pandas import DataFrame\n",
        "from pandas import concat\n",
        "import pandas as pd\n",
        "import numpy as np\n",
        "from statistics import stdev\n",
        "from statistics import mean\n",
        "from matplotlib import pyplot\n",
        "from numpy.random import seed\n",
        "seed(1)\n",
        "import tensorflow\n",
        "tensorflow.random.set_seed(1)\n",
        "from matplotlib import pyplot as plt\n",
        "import datetime as dt\n",
        "import matplotlib.ticker as ticker\n",
        "import plotly.graph_objects as go\n",
        "from statsmodels.graphics.factorplots import interaction_plot\n",
        "np.set_printoptions(threshold=np.inf)\n",
        "pd.set_option('display.max_rows', None)\n",
        "import itertools\n",
        "!pip install -U scikit-learn\n",
        "from sklearn.metrics import mean_absolute_percentage_error"
      ],
      "execution_count": 1,
      "outputs": [
        {
          "output_type": "stream",
          "name": "stdout",
          "text": [
            "Requirement already satisfied: tensorflow-addons in /usr/local/lib/python3.7/dist-packages (0.14.0)\n",
            "Requirement already satisfied: typeguard>=2.7 in /usr/local/lib/python3.7/dist-packages (from tensorflow-addons) (2.7.1)\n"
          ]
        },
        {
          "output_type": "stream",
          "name": "stderr",
          "text": [
            "/usr/local/lib/python3.7/dist-packages/statsmodels/tools/_testing.py:19: FutureWarning:\n",
            "\n",
            "pandas.util.testing is deprecated. Use the functions in the public API at pandas.testing instead.\n",
            "\n"
          ]
        },
        {
          "output_type": "stream",
          "name": "stdout",
          "text": [
            "Requirement already satisfied: scikit-learn in /usr/local/lib/python3.7/dist-packages (1.0)\n",
            "Requirement already satisfied: scipy>=1.1.0 in /usr/local/lib/python3.7/dist-packages (from scikit-learn) (1.4.1)\n",
            "Requirement already satisfied: threadpoolctl>=2.0.0 in /usr/local/lib/python3.7/dist-packages (from scikit-learn) (3.0.0)\n",
            "Requirement already satisfied: numpy>=1.14.6 in /usr/local/lib/python3.7/dist-packages (from scikit-learn) (1.19.5)\n",
            "Requirement already satisfied: joblib>=0.11 in /usr/local/lib/python3.7/dist-packages (from scikit-learn) (1.0.1)\n"
          ]
        }
      ]
    },
    {
      "cell_type": "markdown",
      "metadata": {
        "id": "JY3Wjb_5geVH"
      },
      "source": [
        "## Import data"
      ]
    },
    {
      "cell_type": "code",
      "metadata": {
        "id": "F1j1ksxigihL"
      },
      "source": [
        "data = read_csv(\"https://github.com/Tanainan/Covid-19Thailand/raw/main/data.csv\")\n",
        "\n",
        "data_i = read_csv(\"https://github.com/Tanainan/Covid-19Thailand/raw/main/data_i.csv\")\n",
        "\n",
        "data_d = read_csv(\"https://github.com/Tanainan/Covid-19Thailand/raw/main/data_d.csv\")\n",
        "\n",
        "actual = read_csv(\"https://github.com/Tanainan/Covid-19Thailand/raw/main/actual.csv\") # this is for comparison with future prediction (the final part)\n",
        "\n",
        "# use the previous 14 days to predict the next day\n",
        "lag = 14\n",
        "prediction = 1\n",
        "window = 3 # for moving average\n"
      ],
      "execution_count": 2,
      "outputs": []
    },
    {
      "cell_type": "code",
      "metadata": {
        "id": "QpHei_6_rQBG"
      },
      "source": [
        "# moving average\n",
        "data['Cases_daily2'] = data.Cases_daily\n",
        "data['Cases_daily'] = data.Cases_daily.rolling(window).mean()\n",
        "\n",
        "data['Deaths_daily2'] = data.Deaths_daily\n",
        "data['Deaths_daily'] = data.Deaths_daily.rolling(window).mean()\n",
        "\n",
        "data_i['data_i'] = data_i.data_i.rolling(window).mean()\n",
        "data_d['data_d'] = data_d.data_d.rolling(window).mean()\n",
        "\n",
        "# remove NaN\n",
        "data.dropna(subset = [\"Cases_daily\", \"Deaths_daily\"], inplace=True)\n",
        "data_i.dropna(subset = [\"data_i\"], inplace=True)\n",
        "data_d.dropna(subset = [\"data_d\"], inplace=True)\n",
        "\n",
        "data = data.reset_index(drop = True)\n",
        "data_i = data_i.reset_index(drop = True)\n",
        "data_d = data_d.reset_index(drop = True)\n"
      ],
      "execution_count": 3,
      "outputs": []
    },
    {
      "cell_type": "markdown",
      "metadata": {
        "id": "i3nAzFaX2b5E"
      },
      "source": [
        "## Methods\n",
        "\n",
        "---\n",
        "\n",
        "\n",
        "The data was available from February 22nd, 2020 to September 9th, 2021 (as the date the data was retrieved). However, the third wave of the epidemic in Thailand started after April 1st, 2021, and the trend started to rise after June. Thus, we used the data from, June 15th to July 29th, 2021 for our training; July 30th to August 18th, 2021 for our validation, and August 19th to September 2nd, 2021 for our prediction. There were 31 samples in total for training, 20 samples for validation, and predictions of 15 days ahead. \n",
        "\n",
        "Since confirmed cases, confirmed deaths and vaccination data were given in cumulative counts, we computed the daily cases, deaths and vaccination to match the format of other predictors: mobility and transportation changes. Neural networks required input and output in forms of matrices. The experiments consisted of univariate and multivariate approaches for training, validation, and prediction\n",
        "\n",
        "For the univariate, we created an input matrix with 14 columns as the previous 14 days input. The number of rows was equal to total samples - 14 days - 1-day prediction + 1 or 31 rows. To demonstrate, the first row would have the 1st to the 14th day. The second row would have the 2nd to the 15th day, and so forth as a rolling window. The output matrix would be the 1 column for 1-day prediction with the same amount of rows as the input matrix. For example, the first row would be the 15th day for the 1-day prediction. Since the neural networks could only work with at least 2 dimensions, we transformed both input and output matrices into 3 dimensions (with 1 as the third dimension)."
      ]
    },
    {
      "cell_type": "markdown",
      "metadata": {
        "id": "PY8BCaEbOUkH"
      },
      "source": [
        "## Data Preprocessing: Univariate"
      ]
    },
    {
      "cell_type": "code",
      "metadata": {
        "id": "g9mNq2fInQs5"
      },
      "source": [
        "def split_sequence(sequence, lag):\n",
        "  x, y = list(), list()\n",
        "  for i in range(len(sequence)):\n",
        "    # find the end of this pattern\n",
        "    end_ix = i + lag\n",
        "    # check if we are beyond the sequence\n",
        "    if end_ix > len(sequence)-1:\n",
        "      break\n",
        "    # gather input and output parts of the pattern\n",
        "    seq_x, seq_y = sequence[i:end_ix], sequence[end_ix]\n",
        "    x.append(seq_x)\n",
        "    y.append(seq_y)\n",
        "  return array(x), array(y)\n",
        "\n"
      ],
      "execution_count": 4,
      "outputs": []
    },
    {
      "cell_type": "code",
      "metadata": {
        "id": "_waovDFXxY11"
      },
      "source": [
        "# confirmed cases\n",
        "x_i, y_i = split_sequence(data.Cases_daily, lag)\n",
        "\n",
        "# split into training and test sets\n",
        "index = 30 # 31 days for training and 7 days for test\n",
        "X_i_tr = x_i[0:index+1, :]\n",
        "X_i_ts = x_i[index+1:x_i.shape[0], :]\n",
        "X_i_tr = X_i_tr.reshape(X_i_tr.shape[0], X_i_tr.shape[1], 1) # reshape input into 3D\n",
        "X_i_ts = X_i_ts.reshape(X_i_ts.shape[0], X_i_ts.shape[1], 1)\n",
        "\n",
        "y_i_tr = y_i[0:index+1]\n",
        "y_i_ts = y_i[index+1:x_i.shape[0]]\n",
        "y_i_tr = y_i_tr.reshape(y_i_tr.shape[0], 1, 1) # reshape output into 3D\n",
        "y_i_ts = y_i_ts.reshape(y_i_ts.shape[0], 1, 1)       "
      ],
      "execution_count": 5,
      "outputs": []
    },
    {
      "cell_type": "code",
      "metadata": {
        "id": "3cIM3GDkLh_r"
      },
      "source": [
        "# confirmed deaths\n",
        "x_d, y_d = split_sequence(data.Deaths_daily, lag)\n",
        "\n",
        "# split\n",
        "X_d_tr = x_d[0:index+1, :]\n",
        "X_d_ts = x_d[index+1:x_d.shape[0], :]\n",
        "X_d_tr = X_d_tr.reshape(X_d_tr.shape[0], X_d_tr.shape[1], 1)\n",
        "X_d_ts = X_d_ts.reshape(X_d_ts.shape[0], X_d_ts.shape[1],1)\n",
        "\n",
        "y_d_tr = y_d[0:index+1]\n",
        "y_d_ts = y_d[index+1:x_d.shape[0]]\n",
        "y_d_tr = y_d_tr.reshape(y_i_tr.shape[0], 1, 1)\n",
        "y_d_ts = y_d_ts.reshape(y_i_ts.shape[0], 1, 1)"
      ],
      "execution_count": 6,
      "outputs": []
    },
    {
      "cell_type": "markdown",
      "metadata": {
        "id": "5ynklcRy3lIW"
      },
      "source": [
        "For the multivariate prediction, the input matrix included 14 columns and 31 rows (total samples - 14 days - 14-days prediction + 1). The output matrices’ columns were the same as in the univariate prediction. However, since we had many predictors, we created tensors for each predictor. Note that all categorical predictors (i.e., policies) must be transformed by one-hot coding beforehand. Thus, the input matrix for the multivariate would have 3 dimensions: number of samples, timelag, features. A few cells of missing data from Apple mobility were replaced with an average of its data."
      ]
    },
    {
      "cell_type": "markdown",
      "metadata": {
        "id": "SGBoNeLdOjdy"
      },
      "source": [
        "## Data Preprocessing: Multivariate"
      ]
    },
    {
      "cell_type": "code",
      "metadata": {
        "id": "ogP6ikmAMqcl"
      },
      "source": [
        "# confirmed cases\n",
        "nrow_total = data_i.shape[0] - lag - prediction + 1\n",
        "input_list = [np.expand_dims(data_i[i:lag+i], axis=0) for i in range(nrow_total)] \n",
        "X_i_p = np.concatenate(input_list, axis=0)\n",
        "\n",
        "y_i_p = np.array([data_i.data_i[lag:data_i.shape[0]]])\n",
        "y_i_p = y_i_p.T # transpose the matrix\n",
        "\n",
        "# split into training and test sets\n",
        "index = 30 # 31 days for training and 7 days for test\n",
        "X_i_p_tr = X_i_p[0:index+1, :, :]\n",
        "X_i_p_ts = X_i_p[index+1:data_i.shape[0], :, :]\n",
        "\n",
        "y_i_p_tr = y_i_p[0:index+1]\n",
        "y_i_p_ts = y_i_p[index+1:data_i.shape[0]]\n"
      ],
      "execution_count": 7,
      "outputs": []
    },
    {
      "cell_type": "code",
      "metadata": {
        "id": "Piv9ifhlL6Wd"
      },
      "source": [
        "# confirmed deaths\n",
        "nrow_total = data_d.shape[0] - lag - prediction + 1\n",
        "input_list = [np.expand_dims(data_d[i:lag+i], axis=0) for i in range(nrow_total)] \n",
        "X_d_p = np.concatenate(input_list, axis=0)\n",
        "\n",
        "y_d_p = np.array([data_d.data_d[lag:data_d.shape[0]]])\n",
        "y_d_p = y_d_p.T # transpose the matrix\n",
        "\n",
        "\n",
        "# split into training and test sets\n",
        "index = 30\n",
        "X_d_p_tr = X_d_p[0:index+1, :, :]\n",
        "X_d_p_ts = X_d_p[index+1:data_d.shape[0], :, :]\n",
        "\n",
        "y_d_p_tr = y_d_p[0:index+1]\n",
        "y_d_p_ts = y_d_p[index+1:data_d.shape[0]]"
      ],
      "execution_count": 8,
      "outputs": []
    },
    {
      "cell_type": "markdown",
      "metadata": {
        "id": "eCEO9U_tX6nP"
      },
      "source": [
        "## Analysis\n",
        "\n",
        "---\n",
        "\n",
        "\n",
        "\n",
        "### Hyperparameters Tuning\n",
        "\n",
        "\n",
        "Using the training set matrices for confirmed cases and confirmed deaths and univiariate and multivariate, we tuned for the most optimal numbers of parameters, staring from basic architectures. In this case, we searched for numbers of nodes for LSTM, GRU, and RNNs, and filter, kernel size, and pool for CNN. In the input layer, we added instance normalization to make all values between 0 and 1. Since we were dealing with some data that we had never seen before and the data seemed to be non-stationary, instance normalization might provide more advantages than typical standardization or normalization. The numbers of nodes that we used for our LSTM, GRU, and RNNs experiments were 4, 8, 16, 32, 64, 128, 256, 512, and 1024. Similarly, we used the same pool for CNN filter with kernel size of 3, 5 and 7, and pool of 2 and 3. The activation function for this hidden layer was sigmoid. Next, we added another instance normalization. Finally, the output layer contained one node and Linear activation function. Epoch and batch size were 50 and 1, respectively. We used mean squared error (MSE) as our loss function, ADAM optimization and mean absolute percentage error (MAPE) as a metric for model evaluation.\n"
      ]
    },
    {
      "cell_type": "markdown",
      "metadata": {
        "id": "PgWYXmJLYATE"
      },
      "source": [
        "### CNN"
      ]
    },
    {
      "cell_type": "code",
      "metadata": {
        "id": "pZJnpt8jZRZZ"
      },
      "source": [
        "# CNN Tuning\n",
        "\n",
        "def evaluate_cnn(trainX, trainy, filter, kernel_size, pool):\n",
        "    seed(1)\n",
        "    tensorflow.random.set_seed(1)\n",
        "\n",
        "    verbose, epochs, batch_size = 0, 50, 1\n",
        "    n_timesteps, n_features = trainX.shape[1], trainX.shape[2]\n",
        "\n",
        "    model = Sequential()\n",
        "    model.add(Conv1D(filters = filter, kernel_size=kernel_size, activation='relu',input_shape=(n_timesteps,n_features)))\n",
        "    model.add(MaxPooling1D(pool_size= pool))\n",
        "    model.add(Flatten())\n",
        "    model.add(Dense(1, activation='linear'))\n",
        "    model.compile(loss='mse', optimizer='adam', metrics=['MAPE'])\n",
        "  \n",
        "    # fit network\n",
        "    model.fit(trainX, trainy, epochs=epochs, batch_size=batch_size, verbose=verbose, shuffle = False)\n",
        "    # evaluate model\n",
        "    _, accuracy = model.evaluate(trainX, trainy, batch_size=batch_size, verbose=0)\n",
        "    return accuracy\n",
        "\n",
        "# run an experiment\n",
        "def run_experiment(filters, kernel_size, pool, trainX, trainy):\n",
        "    # test each parameter\n",
        "    all_scores = list()\n",
        "    for filter in filters:\n",
        "      for kernel in kernel_size:\n",
        "        for pooling in pool:\n",
        "          score = evaluate_cnn(trainX, trainy, filter, kernel_size, pool)\n",
        "          print('filter = %d, kernel size = %d, pooling size = %d: %.3f' % (filter, kernel, pooling, score))\n",
        "          all_scores.append(score)\n",
        "    return all_scores\n",
        "    \n",
        "\n",
        "\n",
        "filter = [2, 4, 8, 16, 32, 64, 128, 256, 512, 1024] \n"
      ],
      "execution_count": 9,
      "outputs": []
    },
    {
      "cell_type": "code",
      "metadata": {
        "colab": {
          "base_uri": "https://localhost:8080/"
        },
        "id": "2cQn5aHWa2yz",
        "outputId": "9f8f81ad-eacf-4523-bbcf-d342141dbdbd"
      },
      "source": [
        "# Univariate CNN confirmed cases\n",
        "kernel = [3, 5, 7]\n",
        "pool = [2]\n",
        "\n",
        "cnn_i_uni = list()\n",
        "\n",
        "for i in kernel:\n",
        "  for j in pool: \n",
        "    score = list()\n",
        "    kernel_size, pool = [i],[j]\n",
        "    score = run_experiment(filter, kernel_size, pool, X_i_tr, y_i_tr)\n",
        "    cnn_i_uni.append(score)\n",
        "\n",
        "pool = [3]\n",
        "\n",
        "for i in kernel:\n",
        "  for j in pool: \n",
        "    score = list()\n",
        "    kernel_size, pool = [i],[j]\n",
        "    score = run_experiment(filter, kernel_size, pool, X_i_tr, y_i_tr)\n",
        "    cnn_i_uni.append(score)\n",
        "\n",
        "cnn_i_uni = pd.DataFrame(cnn_i_uni).T\n",
        "cnn_i_uni.columns = ['k3p2', 'k5p2','k7p2', 'k3p3', 'k5p3', 'k7p3'] # k3p2: kernel size = 3, pool = 2"
      ],
      "execution_count": 10,
      "outputs": [
        {
          "output_type": "stream",
          "name": "stdout",
          "text": [
            "filter = 2, kernel size = 3, pooling size = 2: 5.172\n",
            "filter = 4, kernel size = 3, pooling size = 2: 5.153\n",
            "filter = 8, kernel size = 3, pooling size = 2: 4.463\n",
            "filter = 16, kernel size = 3, pooling size = 2: 4.832\n",
            "filter = 32, kernel size = 3, pooling size = 2: 4.274\n",
            "filter = 64, kernel size = 3, pooling size = 2: 4.200\n",
            "filter = 128, kernel size = 3, pooling size = 2: 3.843\n",
            "filter = 256, kernel size = 3, pooling size = 2: 4.020\n",
            "filter = 512, kernel size = 3, pooling size = 2: 4.351\n",
            "filter = 1024, kernel size = 3, pooling size = 2: 4.441\n",
            "filter = 2, kernel size = 5, pooling size = 2: 5.081\n",
            "filter = 4, kernel size = 5, pooling size = 2: 5.934\n",
            "filter = 8, kernel size = 5, pooling size = 2: 5.050\n",
            "filter = 16, kernel size = 5, pooling size = 2: 3.693\n",
            "filter = 32, kernel size = 5, pooling size = 2: 4.226\n",
            "filter = 64, kernel size = 5, pooling size = 2: 3.996\n",
            "filter = 128, kernel size = 5, pooling size = 2: 3.238\n",
            "filter = 256, kernel size = 5, pooling size = 2: 3.840\n",
            "filter = 512, kernel size = 5, pooling size = 2: 5.994\n",
            "filter = 1024, kernel size = 5, pooling size = 2: 5.195\n",
            "filter = 2, kernel size = 7, pooling size = 2: 5.424\n",
            "filter = 4, kernel size = 7, pooling size = 2: 5.487\n",
            "filter = 8, kernel size = 7, pooling size = 2: 4.587\n",
            "filter = 16, kernel size = 7, pooling size = 2: 5.452\n",
            "filter = 32, kernel size = 7, pooling size = 2: 5.188\n",
            "filter = 64, kernel size = 7, pooling size = 2: 4.066\n",
            "filter = 128, kernel size = 7, pooling size = 2: 3.797\n",
            "filter = 256, kernel size = 7, pooling size = 2: 3.724\n",
            "filter = 512, kernel size = 7, pooling size = 2: 4.773\n",
            "filter = 1024, kernel size = 7, pooling size = 2: 4.840\n",
            "filter = 2, kernel size = 3, pooling size = 3: 5.085\n",
            "filter = 4, kernel size = 3, pooling size = 3: 5.631\n",
            "filter = 8, kernel size = 3, pooling size = 3: 3.882\n",
            "filter = 16, kernel size = 3, pooling size = 3: 5.135\n",
            "filter = 32, kernel size = 3, pooling size = 3: 4.348\n",
            "filter = 64, kernel size = 3, pooling size = 3: 3.982\n",
            "filter = 128, kernel size = 3, pooling size = 3: 3.984\n",
            "filter = 256, kernel size = 3, pooling size = 3: 3.765\n",
            "filter = 512, kernel size = 3, pooling size = 3: 3.754\n",
            "filter = 1024, kernel size = 3, pooling size = 3: 4.632\n",
            "filter = 2, kernel size = 5, pooling size = 3: 5.487\n",
            "filter = 4, kernel size = 5, pooling size = 3: 6.766\n",
            "filter = 8, kernel size = 5, pooling size = 3: 4.903\n",
            "filter = 16, kernel size = 5, pooling size = 3: 5.308\n",
            "filter = 32, kernel size = 5, pooling size = 3: 5.087\n",
            "filter = 64, kernel size = 5, pooling size = 3: 4.974\n",
            "filter = 128, kernel size = 5, pooling size = 3: 4.517\n",
            "filter = 256, kernel size = 5, pooling size = 3: 4.378\n",
            "filter = 512, kernel size = 5, pooling size = 3: 4.924\n",
            "filter = 1024, kernel size = 5, pooling size = 3: 5.882\n",
            "filter = 2, kernel size = 7, pooling size = 3: 5.942\n",
            "filter = 4, kernel size = 7, pooling size = 3: 6.726\n",
            "filter = 8, kernel size = 7, pooling size = 3: 5.550\n",
            "filter = 16, kernel size = 7, pooling size = 3: 5.407\n",
            "filter = 32, kernel size = 7, pooling size = 3: 5.747\n",
            "filter = 64, kernel size = 7, pooling size = 3: 5.217\n",
            "filter = 128, kernel size = 7, pooling size = 3: 4.572\n",
            "filter = 256, kernel size = 7, pooling size = 3: 4.541\n",
            "filter = 512, kernel size = 7, pooling size = 3: 4.770\n",
            "filter = 1024, kernel size = 7, pooling size = 3: 5.303\n"
          ]
        }
      ]
    },
    {
      "cell_type": "code",
      "metadata": {
        "colab": {
          "base_uri": "https://localhost:8080/"
        },
        "id": "AEC_fs_9nBN8",
        "outputId": "e6632381-4dd4-4011-baba-f89c75d0be89"
      },
      "source": [
        "# Univariate CNN confirmed deaths\n",
        "pool = [2]\n",
        "\n",
        "cnn_d_uni = list()\n",
        "\n",
        "for i in kernel:\n",
        "  for j in pool: \n",
        "    kernel_size, pool = [i],[j]\n",
        "    score = list()\n",
        "    score = run_experiment(filter, kernel_size, pool, X_d_tr, y_d_tr)\n",
        "    cnn_d_uni.append(score)\n",
        "\n",
        "pool = [3]\n",
        "\n",
        "for i in kernel:\n",
        "  for j in pool: \n",
        "    kernel_size, pool = [i],[j]\n",
        "    score = list()\n",
        "    score = run_experiment(filter, kernel_size, pool, X_d_tr, y_d_tr)\n",
        "    cnn_d_uni.append(score)\n",
        "\n",
        "cnn_d_uni = pd.DataFrame(cnn_d_uni).T\n",
        "cnn_d_uni.columns = ['k3p2', 'k5p2','k7p2', 'k3p3', 'k5p3', 'k7p3']"
      ],
      "execution_count": 11,
      "outputs": [
        {
          "output_type": "stream",
          "name": "stdout",
          "text": [
            "filter = 2, kernel size = 3, pooling size = 2: 11.430\n",
            "filter = 4, kernel size = 3, pooling size = 2: 10.756\n",
            "filter = 8, kernel size = 3, pooling size = 2: 7.691\n",
            "filter = 16, kernel size = 3, pooling size = 2: 9.191\n",
            "filter = 32, kernel size = 3, pooling size = 2: 8.271\n",
            "filter = 64, kernel size = 3, pooling size = 2: 8.443\n",
            "filter = 128, kernel size = 3, pooling size = 2: 8.257\n",
            "filter = 256, kernel size = 3, pooling size = 2: 10.281\n",
            "filter = 512, kernel size = 3, pooling size = 2: 11.570\n",
            "filter = 1024, kernel size = 3, pooling size = 2: 11.544\n",
            "filter = 2, kernel size = 5, pooling size = 2: 8.959\n",
            "filter = 4, kernel size = 5, pooling size = 2: 9.267\n",
            "filter = 8, kernel size = 5, pooling size = 2: 9.621\n",
            "filter = 16, kernel size = 5, pooling size = 2: 9.079\n",
            "filter = 32, kernel size = 5, pooling size = 2: 8.443\n",
            "filter = 64, kernel size = 5, pooling size = 2: 8.651\n",
            "filter = 128, kernel size = 5, pooling size = 2: 9.351\n",
            "filter = 256, kernel size = 5, pooling size = 2: 10.713\n",
            "filter = 512, kernel size = 5, pooling size = 2: 12.928\n",
            "filter = 1024, kernel size = 5, pooling size = 2: 13.360\n",
            "filter = 2, kernel size = 7, pooling size = 2: 9.060\n",
            "filter = 4, kernel size = 7, pooling size = 2: 9.487\n",
            "filter = 8, kernel size = 7, pooling size = 2: 8.184\n",
            "filter = 16, kernel size = 7, pooling size = 2: 9.633\n",
            "filter = 32, kernel size = 7, pooling size = 2: 9.624\n",
            "filter = 64, kernel size = 7, pooling size = 2: 8.512\n",
            "filter = 128, kernel size = 7, pooling size = 2: 9.909\n",
            "filter = 256, kernel size = 7, pooling size = 2: 11.068\n",
            "filter = 512, kernel size = 7, pooling size = 2: 12.084\n",
            "filter = 1024, kernel size = 7, pooling size = 2: 13.950\n",
            "filter = 2, kernel size = 3, pooling size = 3: 12.192\n",
            "filter = 4, kernel size = 3, pooling size = 3: 10.513\n",
            "filter = 8, kernel size = 3, pooling size = 3: 9.597\n",
            "filter = 16, kernel size = 3, pooling size = 3: 8.790\n",
            "filter = 32, kernel size = 3, pooling size = 3: 8.374\n",
            "filter = 64, kernel size = 3, pooling size = 3: 8.920\n",
            "filter = 128, kernel size = 3, pooling size = 3: 8.417\n",
            "filter = 256, kernel size = 3, pooling size = 3: 8.719\n",
            "filter = 512, kernel size = 3, pooling size = 3: 10.680\n",
            "filter = 1024, kernel size = 3, pooling size = 3: 11.105\n",
            "filter = 2, kernel size = 5, pooling size = 3: 11.453\n",
            "filter = 4, kernel size = 5, pooling size = 3: 9.332\n",
            "filter = 8, kernel size = 5, pooling size = 3: 9.507\n",
            "filter = 16, kernel size = 5, pooling size = 3: 8.224\n",
            "filter = 32, kernel size = 5, pooling size = 3: 8.825\n",
            "filter = 64, kernel size = 5, pooling size = 3: 8.946\n",
            "filter = 128, kernel size = 5, pooling size = 3: 8.981\n",
            "filter = 256, kernel size = 5, pooling size = 3: 9.807\n",
            "filter = 512, kernel size = 5, pooling size = 3: 12.066\n",
            "filter = 1024, kernel size = 5, pooling size = 3: 13.295\n",
            "filter = 2, kernel size = 7, pooling size = 3: 10.920\n",
            "filter = 4, kernel size = 7, pooling size = 3: 8.956\n",
            "filter = 8, kernel size = 7, pooling size = 3: 10.452\n",
            "filter = 16, kernel size = 7, pooling size = 3: 9.448\n",
            "filter = 32, kernel size = 7, pooling size = 3: 9.936\n",
            "filter = 64, kernel size = 7, pooling size = 3: 9.302\n",
            "filter = 128, kernel size = 7, pooling size = 3: 9.301\n",
            "filter = 256, kernel size = 7, pooling size = 3: 9.888\n",
            "filter = 512, kernel size = 7, pooling size = 3: 11.915\n",
            "filter = 1024, kernel size = 7, pooling size = 3: 13.760\n"
          ]
        }
      ]
    },
    {
      "cell_type": "code",
      "metadata": {
        "id": "ixTPBVxFn3GN",
        "colab": {
          "base_uri": "https://localhost:8080/"
        },
        "outputId": "03ea4ddb-654e-479d-bd99-af7d8126f8e9"
      },
      "source": [
        "# Multivariate CNN confirmed cases\n",
        "\n",
        "kernel = [3, 5, 7]\n",
        "pool = [2]\n",
        "cnn_i_multi = list()\n",
        "\n",
        "for i in kernel:\n",
        "  for j in pool: \n",
        "    score = list()\n",
        "    kernel_size, pool = [i],[j]\n",
        "    score = run_experiment(filter, kernel_size, pool,X_i_p_tr, y_i_p_tr)\n",
        "    cnn_i_multi.append(score)\n",
        "\n",
        "pool = [3]\n",
        "\n",
        "for i in kernel:\n",
        "  for j in pool: \n",
        "    kernel_size, pool = [i],[j]\n",
        "    score = run_experiment(filter, kernel_size, pool, X_i_p_tr, y_i_p_tr)\n",
        "    cnn_i_multi.append(score)\n",
        "\n",
        "cnn_i_multi = pd.DataFrame(cnn_i_multi).T\n",
        "cnn_i_multi.columns = ['k3p2', 'k5p2','k7p2', 'k3p3', 'k5p3', 'k7p3']"
      ],
      "execution_count": 12,
      "outputs": [
        {
          "output_type": "stream",
          "name": "stdout",
          "text": [
            "filter = 2, kernel size = 3, pooling size = 2: 4.984\n",
            "filter = 4, kernel size = 3, pooling size = 2: 5.014\n",
            "filter = 8, kernel size = 3, pooling size = 2: 5.410\n",
            "filter = 16, kernel size = 3, pooling size = 2: 4.857\n",
            "filter = 32, kernel size = 3, pooling size = 2: 4.219\n",
            "filter = 64, kernel size = 3, pooling size = 2: 3.845\n",
            "filter = 128, kernel size = 3, pooling size = 2: 3.948\n",
            "filter = 256, kernel size = 3, pooling size = 2: 4.981\n",
            "filter = 512, kernel size = 3, pooling size = 2: 5.670\n",
            "filter = 1024, kernel size = 3, pooling size = 2: 5.633\n",
            "filter = 2, kernel size = 5, pooling size = 2: 4.830\n",
            "filter = 4, kernel size = 5, pooling size = 2: 4.630\n",
            "filter = 8, kernel size = 5, pooling size = 2: 4.094\n",
            "filter = 16, kernel size = 5, pooling size = 2: 4.570\n",
            "filter = 32, kernel size = 5, pooling size = 2: 4.488\n",
            "filter = 64, kernel size = 5, pooling size = 2: 4.583\n",
            "filter = 128, kernel size = 5, pooling size = 2: 4.631\n",
            "filter = 256, kernel size = 5, pooling size = 2: 4.627\n",
            "filter = 512, kernel size = 5, pooling size = 2: 5.627\n",
            "filter = 1024, kernel size = 5, pooling size = 2: 7.861\n",
            "filter = 2, kernel size = 7, pooling size = 2: 4.942\n",
            "filter = 4, kernel size = 7, pooling size = 2: 4.759\n",
            "filter = 8, kernel size = 7, pooling size = 2: 4.799\n",
            "filter = 16, kernel size = 7, pooling size = 2: 4.944\n",
            "filter = 32, kernel size = 7, pooling size = 2: 4.112\n",
            "filter = 64, kernel size = 7, pooling size = 2: 4.653\n",
            "filter = 128, kernel size = 7, pooling size = 2: 4.689\n",
            "filter = 256, kernel size = 7, pooling size = 2: 4.996\n",
            "filter = 512, kernel size = 7, pooling size = 2: 5.822\n",
            "filter = 1024, kernel size = 7, pooling size = 2: 7.265\n",
            "filter = 2, kernel size = 3, pooling size = 3: 4.827\n",
            "filter = 4, kernel size = 3, pooling size = 3: 5.000\n",
            "filter = 8, kernel size = 3, pooling size = 3: 4.809\n",
            "filter = 16, kernel size = 3, pooling size = 3: 4.657\n",
            "filter = 32, kernel size = 3, pooling size = 3: 4.473\n",
            "filter = 64, kernel size = 3, pooling size = 3: 3.945\n",
            "filter = 128, kernel size = 3, pooling size = 3: 4.046\n",
            "filter = 256, kernel size = 3, pooling size = 3: 4.009\n",
            "filter = 512, kernel size = 3, pooling size = 3: 5.435\n",
            "filter = 1024, kernel size = 3, pooling size = 3: 5.806\n",
            "filter = 2, kernel size = 5, pooling size = 3: 6.165\n",
            "filter = 4, kernel size = 5, pooling size = 3: 5.150\n",
            "filter = 8, kernel size = 5, pooling size = 3: 5.039\n",
            "filter = 16, kernel size = 5, pooling size = 3: 5.560\n",
            "filter = 32, kernel size = 5, pooling size = 3: 4.595\n",
            "filter = 64, kernel size = 5, pooling size = 3: 4.832\n",
            "filter = 128, kernel size = 5, pooling size = 3: 4.869\n",
            "filter = 256, kernel size = 5, pooling size = 3: 5.122\n",
            "filter = 512, kernel size = 5, pooling size = 3: 5.162\n",
            "filter = 1024, kernel size = 5, pooling size = 3: 5.774\n",
            "filter = 2, kernel size = 7, pooling size = 3: 5.885\n",
            "filter = 4, kernel size = 7, pooling size = 3: 5.022\n",
            "filter = 8, kernel size = 7, pooling size = 3: 5.350\n",
            "filter = 16, kernel size = 7, pooling size = 3: 5.370\n",
            "filter = 32, kernel size = 7, pooling size = 3: 5.154\n",
            "filter = 64, kernel size = 7, pooling size = 3: 4.950\n",
            "filter = 128, kernel size = 7, pooling size = 3: 4.983\n",
            "filter = 256, kernel size = 7, pooling size = 3: 5.704\n",
            "filter = 512, kernel size = 7, pooling size = 3: 5.972\n",
            "filter = 1024, kernel size = 7, pooling size = 3: 6.620\n"
          ]
        }
      ]
    },
    {
      "cell_type": "code",
      "metadata": {
        "id": "f9h_O6Nsnz2C",
        "colab": {
          "base_uri": "https://localhost:8080/"
        },
        "outputId": "35c66fc7-1d52-409f-ae49-0d8e30669cb1"
      },
      "source": [
        "# Multivariate CNN confirmed deaths\n",
        "\n",
        "pool = [2]\n",
        "cnn_d_multi = list()\n",
        "\n",
        "for i in kernel:\n",
        "  for j in pool:\n",
        "    score = list() \n",
        "    kernel_size, pool = [i],[j]\n",
        "    score = run_experiment(filter, kernel_size, pool, X_d_p_tr, y_d_p_tr)\n",
        "    cnn_d_multi.append(score)\n",
        "\n",
        "pool = [3]\n",
        "\n",
        "for i in kernel:\n",
        "  for j in pool: \n",
        "    score = list()\n",
        "    kernel_size, pool = [i],[j]\n",
        "    score = run_experiment(filter, kernel_size, pool, X_d_p_tr, y_d_p_tr)\n",
        "    cnn_d_multi.append(score)\n",
        "\n",
        "cnn_d_multi = pd.DataFrame(cnn_d_multi).T\n",
        "cnn_d_multi.columns = ['k3p2', 'k3p3','k5p2', 'k7p2', 'k5p3', 'k7p3']"
      ],
      "execution_count": 13,
      "outputs": [
        {
          "output_type": "stream",
          "name": "stdout",
          "text": [
            "filter = 2, kernel size = 3, pooling size = 2: 10.754\n",
            "filter = 4, kernel size = 3, pooling size = 2: 9.144\n",
            "filter = 8, kernel size = 3, pooling size = 2: 8.174\n",
            "filter = 16, kernel size = 3, pooling size = 2: 5.197\n",
            "filter = 32, kernel size = 3, pooling size = 2: 4.147\n",
            "filter = 64, kernel size = 3, pooling size = 2: 8.887\n",
            "filter = 128, kernel size = 3, pooling size = 2: 5.115\n",
            "filter = 256, kernel size = 3, pooling size = 2: 11.669\n",
            "filter = 512, kernel size = 3, pooling size = 2: 5.169\n",
            "filter = 1024, kernel size = 3, pooling size = 2: 5.766\n",
            "filter = 2, kernel size = 5, pooling size = 2: 9.726\n",
            "filter = 4, kernel size = 5, pooling size = 2: 11.023\n",
            "filter = 8, kernel size = 5, pooling size = 2: 9.366\n",
            "filter = 16, kernel size = 5, pooling size = 2: 4.248\n",
            "filter = 32, kernel size = 5, pooling size = 2: 4.660\n",
            "filter = 64, kernel size = 5, pooling size = 2: 6.207\n",
            "filter = 128, kernel size = 5, pooling size = 2: 5.158\n",
            "filter = 256, kernel size = 5, pooling size = 2: 4.055\n",
            "filter = 512, kernel size = 5, pooling size = 2: 5.129\n",
            "filter = 1024, kernel size = 5, pooling size = 2: 7.209\n",
            "filter = 2, kernel size = 7, pooling size = 2: 9.512\n",
            "filter = 4, kernel size = 7, pooling size = 2: 98.119\n",
            "filter = 8, kernel size = 7, pooling size = 2: 6.952\n",
            "filter = 16, kernel size = 7, pooling size = 2: 4.951\n",
            "filter = 32, kernel size = 7, pooling size = 2: 3.485\n",
            "filter = 64, kernel size = 7, pooling size = 2: 10.182\n",
            "filter = 128, kernel size = 7, pooling size = 2: 4.849\n",
            "filter = 256, kernel size = 7, pooling size = 2: 3.748\n",
            "filter = 512, kernel size = 7, pooling size = 2: 6.351\n",
            "filter = 1024, kernel size = 7, pooling size = 2: 9.533\n",
            "filter = 2, kernel size = 3, pooling size = 3: 9.588\n",
            "filter = 4, kernel size = 3, pooling size = 3: 8.856\n",
            "filter = 8, kernel size = 3, pooling size = 3: 9.988\n",
            "filter = 16, kernel size = 3, pooling size = 3: 5.708\n",
            "filter = 32, kernel size = 3, pooling size = 3: 4.673\n",
            "filter = 64, kernel size = 3, pooling size = 3: 3.253\n",
            "filter = 128, kernel size = 3, pooling size = 3: 13.251\n",
            "filter = 256, kernel size = 3, pooling size = 3: 12.266\n",
            "filter = 512, kernel size = 3, pooling size = 3: 9.760\n",
            "filter = 1024, kernel size = 3, pooling size = 3: 5.682\n",
            "filter = 2, kernel size = 5, pooling size = 3: 8.739\n",
            "filter = 4, kernel size = 5, pooling size = 3: 8.839\n",
            "filter = 8, kernel size = 5, pooling size = 3: 98.116\n",
            "filter = 16, kernel size = 5, pooling size = 3: 6.621\n",
            "filter = 32, kernel size = 5, pooling size = 3: 4.305\n",
            "filter = 64, kernel size = 5, pooling size = 3: 4.214\n",
            "filter = 128, kernel size = 5, pooling size = 3: 4.295\n",
            "filter = 256, kernel size = 5, pooling size = 3: 6.607\n",
            "filter = 512, kernel size = 5, pooling size = 3: 3.965\n",
            "filter = 1024, kernel size = 5, pooling size = 3: 7.646\n",
            "filter = 2, kernel size = 7, pooling size = 3: 7.365\n",
            "filter = 4, kernel size = 7, pooling size = 3: 8.572\n",
            "filter = 8, kernel size = 7, pooling size = 3: 9.249\n",
            "filter = 16, kernel size = 7, pooling size = 3: 6.539\n",
            "filter = 32, kernel size = 7, pooling size = 3: 3.600\n",
            "filter = 64, kernel size = 7, pooling size = 3: 6.600\n",
            "filter = 128, kernel size = 7, pooling size = 3: 5.347\n",
            "filter = 256, kernel size = 7, pooling size = 3: 3.137\n",
            "filter = 512, kernel size = 7, pooling size = 3: 4.047\n",
            "filter = 1024, kernel size = 7, pooling size = 3: 4.254\n"
          ]
        }
      ]
    },
    {
      "cell_type": "markdown",
      "metadata": {
        "id": "eDXGbHvPZNn1"
      },
      "source": [
        "### LSTM"
      ]
    },
    {
      "cell_type": "code",
      "metadata": {
        "id": "XwruQErcVIGp"
      },
      "source": [
        "def evaluate_lstm(trainX, trainy, units):\n",
        "    seed(1)\n",
        "    tensorflow.random.set_seed(1)\n",
        "\n",
        "    verbose, epochs, batch_size = 0, 50, 1\n",
        "    n_timesteps, n_features = trainX.shape[1], trainX.shape[2]\n",
        "\n",
        "    model = Sequential()\n",
        "    model.add(LSTM(units = units, activation='relu', input_shape=(n_timesteps,n_features)))\n",
        "    model.add(Dense(1, activation='linear'))\n",
        "    model.compile(loss='mse', optimizer='adam', metrics=['MAPE'])\n",
        "  \n",
        "    # fit network\n",
        "    model.fit(trainX, trainy, epochs=epochs, batch_size=batch_size, verbose=verbose, shuffle = False)\n",
        "    # evaluate model\n",
        "    _, accuracy = model.evaluate(trainX, trainy, batch_size=batch_size, verbose=0)\n",
        "    return accuracy\n",
        "\n",
        "\n",
        "# # Univariate LSTM confirmed cases\n",
        "units = [2, 4,8,16,32,64,128,256,512, 1024]\n",
        "\n",
        "lstm_i_uni = list()\n",
        "\n",
        "for i in units:\n",
        "  score = list()\n",
        "  score = evaluate_lstm(X_i_tr, y_i_tr, i)\n",
        "  lstm_i_uni.append(score)\n",
        "\n",
        "\n",
        "# Univariate LSTM confirmed deaths\n",
        "\n",
        "lstm_d_uni = list()\n",
        "\n",
        "for i in units:\n",
        "  score = list()\n",
        "  score = evaluate_lstm(X_d_tr, y_d_tr, i)\n",
        "  lstm_d_uni.append(score)\n",
        "\n",
        "\n",
        "# Multivariate LSTM confirmed cases\n",
        "\n",
        "lstm_i_multi = list()\n",
        "\n",
        "for i in units:\n",
        "  score = list()\n",
        "  score = evaluate_lstm(X_i_p_tr, y_i_p_tr, i)\n",
        "  lstm_i_multi.append(score)\n",
        "\n",
        "\n",
        "\n",
        "# Multivariate LSTM confirmed deaths\n",
        "\n",
        "lstm_d_multi = list()\n",
        "\n",
        "for i in units:\n",
        "  score = list()\n",
        "  score = evaluate_lstm(X_d_p_tr, y_d_p_tr, i)\n",
        "  lstm_d_multi.append(score)"
      ],
      "execution_count": 18,
      "outputs": []
    },
    {
      "cell_type": "markdown",
      "metadata": {
        "id": "u5EHjmk8ZwNb"
      },
      "source": [
        "### GRU"
      ]
    },
    {
      "cell_type": "code",
      "metadata": {
        "id": "8Pkcl1joZuxL"
      },
      "source": [
        "def evaluate_gru(trainX, trainy, units):\n",
        "    seed(1)\n",
        "    tensorflow.random.set_seed(1)\n",
        "\n",
        "    verbose, epochs, batch_size = 0, 50, 1\n",
        "    n_timesteps, n_features = trainX.shape[1], trainX.shape[2]\n",
        "\n",
        "    model = Sequential()\n",
        "    model.add(GRU(units = units, activation='relu', input_shape=(n_timesteps,n_features)))\n",
        "    model.add(Dense(1, activation='linear'))\n",
        "    model.compile(loss='mse', optimizer='adam', metrics=['MAPE'])\n",
        "  \n",
        "    # fit network\n",
        "    model.fit(trainX, trainy, epochs=epochs, batch_size=batch_size, verbose=verbose, shuffle = False)\n",
        "    # evaluate model\n",
        "    _, accuracy = model.evaluate(trainX, trainy, batch_size=batch_size, verbose=0)\n",
        "    return accuracy\n",
        "\n",
        "\n",
        "# Univariate GRU confirmed cases\n",
        "\n",
        "gru_i_uni = list()\n",
        "\n",
        "for i in units:\n",
        "  score = list()\n",
        "  score = evaluate_gru(X_i_tr, y_i_tr, i)\n",
        "  gru_i_uni.append(score)\n",
        "\n",
        "\n",
        "# Univariate GRU confirmed deaths\n",
        "\n",
        "gru_d_uni = list()\n",
        "\n",
        "for i in units:\n",
        "  score = list()\n",
        "  score = evaluate_gru(X_d_tr, y_d_tr, i)\n",
        "  gru_d_uni.append(score)\n",
        "\n",
        "\n",
        "# Multivariate GRU confirmed cases\n",
        "\n",
        "gru_i_multi = list()\n",
        "\n",
        "for i in units:\n",
        "  score = list()\n",
        "  score = evaluate_gru(X_i_p_tr, y_i_p_tr, i)\n",
        "  gru_i_multi.append(score)\n",
        "\n",
        "\n",
        "# Multivariate GRU confirmed deaths\n",
        "\n",
        "gru_d_multi = list()\n",
        "\n",
        "for i in units:\n",
        "  score = list()\n",
        "  score = evaluate_gru(X_d_p_tr, y_d_p_tr, i)\n",
        "  gru_d_multi.append(score)"
      ],
      "execution_count": 19,
      "outputs": []
    },
    {
      "cell_type": "markdown",
      "metadata": {
        "id": "LxvR7HvgbL9i"
      },
      "source": [
        "### RNNs"
      ]
    },
    {
      "cell_type": "code",
      "metadata": {
        "id": "pHWbTWi0bOet"
      },
      "source": [
        "def evaluate_rnn(trainX, trainy, units):\n",
        "    seed(1)\n",
        "    tensorflow.random.set_seed(1)\n",
        "\n",
        "    verbose, epochs, batch_size = 0, 50, 1\n",
        "    n_timesteps, n_features = trainX.shape[1], trainX.shape[2]\n",
        "\n",
        "    model = Sequential()\n",
        "    model.add(SimpleRNN(units = units, activation='relu', input_shape=(n_timesteps,n_features)))\n",
        "    model.add(Dense(1, activation='linear'))\n",
        "    model.compile(loss='mse', optimizer='adam', metrics=['MAPE'])\n",
        "  \n",
        "    # fit network\n",
        "    model.fit(trainX, trainy, epochs=epochs, batch_size=batch_size, verbose=verbose, shuffle = False)\n",
        "    # evaluate model\n",
        "    _, accuracy = model.evaluate(trainX, trainy, batch_size=batch_size, verbose=0)\n",
        "    return accuracy\n",
        "\n",
        "\n",
        "# Univariate RNNs confirmed cases\n",
        "\n",
        "rnn_i_uni = list()\n",
        "\n",
        "for i in units:\n",
        "  score = list()\n",
        "  score = evaluate_rnn(X_i_tr, y_i_tr, i)\n",
        "  rnn_i_uni.append(score)\n",
        "\n",
        "\n",
        "# Univariate RNNs confirmed deaths\n",
        "\n",
        "rnn_d_uni = list()\n",
        "\n",
        "for i in units:\n",
        "  score = list()\n",
        "  score = evaluate_rnn(X_d_tr, y_d_tr, i)\n",
        "  rnn_d_uni.append(score)\n",
        "\n",
        "\n",
        "# Multivariate RNNs confirmed cases\n",
        "\n",
        "rnn_i_multi = list()\n",
        "\n",
        "for i in units:\n",
        "  score = list()\n",
        "  score = evaluate_rnn(X_i_p_tr, y_i_p_tr, i)\n",
        "  rnn_i_multi.append(score)\n",
        "\n",
        "\n",
        "# Multivariate RNNs confirmed deaths\n",
        "\n",
        "rnn_d_multi = list()\n",
        "\n",
        "for i in units:\n",
        "  score = list()\n",
        "  score = evaluate_rnn(X_d_p_tr, y_d_p_tr, i)\n",
        "  rnn_d_multi.append(score)"
      ],
      "execution_count": 20,
      "outputs": []
    },
    {
      "cell_type": "markdown",
      "metadata": {
        "id": "91h9IuDksSs2"
      },
      "source": [
        "### Result Table"
      ]
    },
    {
      "cell_type": "markdown",
      "metadata": {
        "id": "qOG0E7Fb5VX-"
      },
      "source": [
        "#### Univariate Confirmed Cases"
      ]
    },
    {
      "cell_type": "code",
      "metadata": {
        "colab": {
          "base_uri": "https://localhost:8080/",
          "height": 737
        },
        "id": "2pwy5q8msPyK",
        "outputId": "6300c381-8fc3-4896-ec58-67166ad73b1c"
      },
      "source": [
        "fig = go.Figure(data=[go.Table(header=dict(values=['Model', 'Kernel size', 'Pool', '2 Nodes', '4 Nodes', '8 Nodes', '16 Nodes', '32 Nodes',\n",
        "                                                   \"64 Nodes\", '128 Nodes', '256 Nodes', '512 Nodes', '1024 Nodes'],\n",
        "                                           line_color = 'gray'),\n",
        "                               cells=dict(values=[['LSTM', 'GRU', 'RNNs', 'CNN',\n",
        "                                                   'CNN', 'CNN', 'CNN', 'CNN', 'CNN'],\n",
        "                                                  ['-', '-', '-', '3', '5', '7', '3', '5', '7'],\n",
        "                                                  ['-', '-', '-', '2', '2', '2', '3', '3', '3'],\n",
        "                                    [round(lstm_i_uni[0],3), \n",
        "                                     round(gru_i_uni[0],3),\n",
        "                                     round(rnn_i_uni[0],3), \n",
        "                                     round(cnn_i_uni.iloc[0,0],3),\n",
        "                                     round(cnn_i_uni.iloc[0,1],3),\n",
        "                                     round(cnn_i_uni.iloc[0,2],3),\n",
        "                                     round(cnn_i_uni.iloc[0,3],3),\n",
        "                                     round(cnn_i_uni.iloc[0,4],3),\n",
        "                                     round(cnn_i_uni.iloc[0,5],3)],\n",
        "                                     [round(lstm_i_uni[1],3), \n",
        "                                     round(gru_i_uni[1],3),\n",
        "                                     round(rnn_i_uni[1],3), \n",
        "                                     round(cnn_i_uni.iloc[1,0],3),\n",
        "                                     round(cnn_i_uni.iloc[1,1],3),\n",
        "                                     round(cnn_i_uni.iloc[1,2],3),\n",
        "                                     round(cnn_i_uni.iloc[1,3],3),\n",
        "                                     round(cnn_i_uni.iloc[1,4],3),\n",
        "                                     round(cnn_i_uni.iloc[1,5],3)],\n",
        "                                     [round(lstm_i_uni[2],3), \n",
        "                                     round(gru_i_uni[2],3),\n",
        "                                     round(rnn_i_uni[2],3), \n",
        "                                     round(cnn_i_uni.iloc[2,0],3),\n",
        "                                     round(cnn_i_uni.iloc[2,1],3),\n",
        "                                     round(cnn_i_uni.iloc[2,2],3),\n",
        "                                     round(cnn_i_uni.iloc[2,3],3),\n",
        "                                     round(cnn_i_uni.iloc[2,4],3),\n",
        "                                     round(cnn_i_uni.iloc[2,5],3)],\n",
        "                                     [round(lstm_i_uni[3],3), \n",
        "                                     round(gru_i_uni[3],3),\n",
        "                                     round(rnn_i_uni[3],3), \n",
        "                                     round(cnn_i_uni.iloc[3,0],3),\n",
        "                                     round(cnn_i_uni.iloc[3,1],3),\n",
        "                                     round(cnn_i_uni.iloc[3,2],3),\n",
        "                                     round(cnn_i_uni.iloc[3,3],3),\n",
        "                                     round(cnn_i_uni.iloc[3,4],3),\n",
        "                                     round(cnn_i_uni.iloc[3,5],3)],\n",
        "                                     [round(lstm_i_uni[4],3), \n",
        "                                     round(gru_i_uni[4],3),\n",
        "                                     round(rnn_i_uni[4],3), \n",
        "                                     round(cnn_i_uni.iloc[4,0],3),\n",
        "                                     round(cnn_i_uni.iloc[4,1],3),\n",
        "                                     round(cnn_i_uni.iloc[4,2],3),\n",
        "                                     round(cnn_i_uni.iloc[4,3],3),\n",
        "                                     round(cnn_i_uni.iloc[4,4],3),\n",
        "                                     round(cnn_i_uni.iloc[4,5],3)],\n",
        "                                     [round(lstm_i_uni[5],3), \n",
        "                                     round(gru_i_uni[5],3),\n",
        "                                     round(rnn_i_uni[5],3), \n",
        "                                     round(cnn_i_uni.iloc[5,0],3),\n",
        "                                     round(cnn_i_uni.iloc[5,1],3),\n",
        "                                     round(cnn_i_uni.iloc[5,2],3),\n",
        "                                     round(cnn_i_uni.iloc[5,3],3),\n",
        "                                     round(cnn_i_uni.iloc[5,4],3),\n",
        "                                     round(cnn_i_uni.iloc[5,5],3)],\n",
        "                                     [round(lstm_i_uni[6],3), \n",
        "                                     round(gru_i_uni[6],3),\n",
        "                                     round(rnn_i_uni[6],3), \n",
        "                                     round(cnn_i_uni.iloc[6,0],3),\n",
        "                                     round(cnn_i_uni.iloc[6,1],3),\n",
        "                                     round(cnn_i_uni.iloc[6,2],3),\n",
        "                                     round(cnn_i_uni.iloc[6,3],3),\n",
        "                                     round(cnn_i_uni.iloc[6,4],3),\n",
        "                                     round(cnn_i_uni.iloc[6,5],3)],\n",
        "                                     [round(lstm_i_uni[7],3), \n",
        "                                     round(gru_i_uni[7],3),\n",
        "                                     round(rnn_i_uni[7],3), \n",
        "                                     round(cnn_i_uni.iloc[7,0],3),\n",
        "                                     round(cnn_i_uni.iloc[7,1],3),\n",
        "                                     round(cnn_i_uni.iloc[7,2],3),\n",
        "                                     round(cnn_i_uni.iloc[7,3],3),\n",
        "                                     round(cnn_i_uni.iloc[7,4],3),\n",
        "                                     round(cnn_i_uni.iloc[7,5],3)],\n",
        "                                     [round(lstm_i_uni[8],3), \n",
        "                                     round(gru_i_uni[8],3),\n",
        "                                     round(rnn_i_uni[8],3), \n",
        "                                     round(cnn_i_uni.iloc[8,0],3),\n",
        "                                     round(cnn_i_uni.iloc[8,1],3),\n",
        "                                     round(cnn_i_uni.iloc[8,2],3),\n",
        "                                     round(cnn_i_uni.iloc[8,3],3),\n",
        "                                     round(cnn_i_uni.iloc[8,4],3),\n",
        "                                     round(cnn_i_uni.iloc[8,5],3)],\n",
        "                                     [round(lstm_i_uni[9],3), \n",
        "                                     round(gru_i_uni[9],3),\n",
        "                                     round(rnn_i_uni[9],3), \n",
        "                                     round(cnn_i_uni.iloc[9,0],3),\n",
        "                                     round(cnn_i_uni.iloc[9,1],3),\n",
        "                                     round(cnn_i_uni.iloc[9,2],3),\n",
        "                                     round(cnn_i_uni.iloc[9,3],3),\n",
        "                                     round(cnn_i_uni.iloc[9,4],3),\n",
        "                                     round(cnn_i_uni.iloc[9,5],3)]],\n",
        "                            align=['left','center', 'center', \n",
        "                                   'right','right','right',\n",
        "                                   'right','right','right',\n",
        "                                   'right','right', 'right', 'right'],\n",
        "                            fill_color = 'white',\n",
        "                            line_color = 'gray'))\n",
        "                     ])\n",
        "fig.update_layout(title = \"Parameter Tunings Mean Absolute Percentage Error: Univariate Confirmed Cases\",\n",
        "                  title_x=0.5, height = 700, width = 1200)\n",
        "fig.show()"
      ],
      "execution_count": 21,
      "outputs": [
        {
          "output_type": "display_data",
          "data": {
            "text/html": [
              "<html>\n",
              "<head><meta charset=\"utf-8\" /></head>\n",
              "<body>\n",
              "    <div>\n",
              "            <script src=\"https://cdnjs.cloudflare.com/ajax/libs/mathjax/2.7.5/MathJax.js?config=TeX-AMS-MML_SVG\"></script><script type=\"text/javascript\">if (window.MathJax) {MathJax.Hub.Config({SVG: {font: \"STIX-Web\"}});}</script>\n",
              "                <script type=\"text/javascript\">window.PlotlyConfig = {MathJaxConfig: 'local'};</script>\n",
              "        <script src=\"https://cdn.plot.ly/plotly-latest.min.js\"></script>    \n",
              "            <div id=\"456186f0-4a89-4f29-b87b-39237b84dc24\" class=\"plotly-graph-div\" style=\"height:700px; width:1200px;\"></div>\n",
              "            <script type=\"text/javascript\">\n",
              "                \n",
              "                    window.PLOTLYENV=window.PLOTLYENV || {};\n",
              "                    \n",
              "                if (document.getElementById(\"456186f0-4a89-4f29-b87b-39237b84dc24\")) {\n",
              "                    Plotly.newPlot(\n",
              "                        '456186f0-4a89-4f29-b87b-39237b84dc24',\n",
              "                        [{\"cells\": {\"align\": [\"left\", \"center\", \"center\", \"right\", \"right\", \"right\", \"right\", \"right\", \"right\", \"right\", \"right\", \"right\", \"right\"], \"fill\": {\"color\": \"white\"}, \"line\": {\"color\": \"gray\"}, \"values\": [[\"LSTM\", \"GRU\", \"RNNs\", \"CNN\", \"CNN\", \"CNN\", \"CNN\", \"CNN\", \"CNN\"], [\"-\", \"-\", \"-\", \"3\", \"5\", \"7\", \"3\", \"5\", \"7\"], [\"-\", \"-\", \"-\", \"2\", \"2\", \"2\", \"3\", \"3\", \"3\"], [99.984, 99.984, 4.557, 5.172, 5.081, 5.424, 5.085, 5.487, 5.942], [3.974, 4.206, 3.594, 5.153, 5.934, 5.487, 5.631, 6.766, 6.726], [99.984, 4.143, 5.851, 4.463, 5.05, 4.587, 3.882, 4.903, 5.55], [4.46, 4.635, 3.955, 4.832, 3.693, 5.452, 5.135, 5.308, 5.407], [4.182, 4.282, 2.857, 4.274, 4.226, 5.188, 4.348, 5.087, 5.747], [4.693, 4.256, 3.436, 4.2, 3.996, 4.066, 3.982, 4.974, 5.217], [4.641, 4.771, 3.554, 3.843, 3.238, 3.797, 3.984, 4.517, 4.572], [4.171, 4.138, 3.641, 4.02, 3.84, 3.724, 3.765, 4.378, 4.541], [4.505, 3.898, 2.887, 4.351, 5.994, 4.773, 3.754, 4.924, 4.77], [4.135, 3.453, 2.715, 4.441, 5.195, 4.84, 4.632, 5.882, 5.303]]}, \"header\": {\"line\": {\"color\": \"gray\"}, \"values\": [\"Model\", \"Kernel size\", \"Pool\", \"2 Nodes\", \"4 Nodes\", \"8 Nodes\", \"16 Nodes\", \"32 Nodes\", \"64 Nodes\", \"128 Nodes\", \"256 Nodes\", \"512 Nodes\", \"1024 Nodes\"]}, \"type\": \"table\"}],\n",
              "                        {\"height\": 700, \"template\": {\"data\": {\"bar\": [{\"error_x\": {\"color\": \"#2a3f5f\"}, \"error_y\": {\"color\": \"#2a3f5f\"}, \"marker\": {\"line\": {\"color\": \"#E5ECF6\", \"width\": 0.5}}, \"type\": \"bar\"}], \"barpolar\": [{\"marker\": {\"line\": {\"color\": \"#E5ECF6\", \"width\": 0.5}}, \"type\": \"barpolar\"}], \"carpet\": [{\"aaxis\": {\"endlinecolor\": \"#2a3f5f\", \"gridcolor\": \"white\", \"linecolor\": \"white\", \"minorgridcolor\": \"white\", \"startlinecolor\": \"#2a3f5f\"}, \"baxis\": {\"endlinecolor\": \"#2a3f5f\", \"gridcolor\": \"white\", \"linecolor\": \"white\", \"minorgridcolor\": \"white\", \"startlinecolor\": \"#2a3f5f\"}, \"type\": \"carpet\"}], \"choropleth\": [{\"colorbar\": {\"outlinewidth\": 0, \"ticks\": \"\"}, \"type\": \"choropleth\"}], \"contour\": [{\"colorbar\": {\"outlinewidth\": 0, \"ticks\": \"\"}, \"colorscale\": [[0.0, \"#0d0887\"], [0.1111111111111111, \"#46039f\"], [0.2222222222222222, \"#7201a8\"], [0.3333333333333333, \"#9c179e\"], [0.4444444444444444, \"#bd3786\"], [0.5555555555555556, \"#d8576b\"], [0.6666666666666666, \"#ed7953\"], [0.7777777777777778, \"#fb9f3a\"], [0.8888888888888888, \"#fdca26\"], [1.0, \"#f0f921\"]], \"type\": \"contour\"}], \"contourcarpet\": [{\"colorbar\": {\"outlinewidth\": 0, \"ticks\": \"\"}, \"type\": \"contourcarpet\"}], \"heatmap\": [{\"colorbar\": {\"outlinewidth\": 0, \"ticks\": \"\"}, \"colorscale\": [[0.0, \"#0d0887\"], [0.1111111111111111, \"#46039f\"], [0.2222222222222222, \"#7201a8\"], [0.3333333333333333, \"#9c179e\"], [0.4444444444444444, \"#bd3786\"], [0.5555555555555556, \"#d8576b\"], [0.6666666666666666, \"#ed7953\"], [0.7777777777777778, \"#fb9f3a\"], [0.8888888888888888, \"#fdca26\"], [1.0, \"#f0f921\"]], \"type\": \"heatmap\"}], \"heatmapgl\": [{\"colorbar\": {\"outlinewidth\": 0, \"ticks\": \"\"}, \"colorscale\": [[0.0, \"#0d0887\"], [0.1111111111111111, \"#46039f\"], [0.2222222222222222, \"#7201a8\"], [0.3333333333333333, \"#9c179e\"], [0.4444444444444444, \"#bd3786\"], [0.5555555555555556, \"#d8576b\"], [0.6666666666666666, \"#ed7953\"], [0.7777777777777778, \"#fb9f3a\"], [0.8888888888888888, \"#fdca26\"], [1.0, \"#f0f921\"]], \"type\": \"heatmapgl\"}], \"histogram\": [{\"marker\": {\"colorbar\": {\"outlinewidth\": 0, \"ticks\": \"\"}}, \"type\": \"histogram\"}], \"histogram2d\": [{\"colorbar\": {\"outlinewidth\": 0, \"ticks\": \"\"}, \"colorscale\": [[0.0, \"#0d0887\"], [0.1111111111111111, \"#46039f\"], [0.2222222222222222, \"#7201a8\"], [0.3333333333333333, \"#9c179e\"], [0.4444444444444444, \"#bd3786\"], [0.5555555555555556, \"#d8576b\"], [0.6666666666666666, \"#ed7953\"], [0.7777777777777778, \"#fb9f3a\"], [0.8888888888888888, \"#fdca26\"], [1.0, \"#f0f921\"]], \"type\": \"histogram2d\"}], \"histogram2dcontour\": [{\"colorbar\": {\"outlinewidth\": 0, \"ticks\": \"\"}, \"colorscale\": [[0.0, \"#0d0887\"], [0.1111111111111111, \"#46039f\"], [0.2222222222222222, \"#7201a8\"], [0.3333333333333333, \"#9c179e\"], [0.4444444444444444, \"#bd3786\"], [0.5555555555555556, \"#d8576b\"], [0.6666666666666666, \"#ed7953\"], [0.7777777777777778, \"#fb9f3a\"], [0.8888888888888888, \"#fdca26\"], [1.0, \"#f0f921\"]], \"type\": \"histogram2dcontour\"}], \"mesh3d\": [{\"colorbar\": {\"outlinewidth\": 0, \"ticks\": \"\"}, \"type\": \"mesh3d\"}], \"parcoords\": [{\"line\": {\"colorbar\": {\"outlinewidth\": 0, \"ticks\": \"\"}}, \"type\": \"parcoords\"}], \"pie\": [{\"automargin\": true, \"type\": \"pie\"}], \"scatter\": [{\"marker\": {\"colorbar\": {\"outlinewidth\": 0, \"ticks\": \"\"}}, \"type\": \"scatter\"}], \"scatter3d\": [{\"line\": {\"colorbar\": {\"outlinewidth\": 0, \"ticks\": \"\"}}, \"marker\": {\"colorbar\": {\"outlinewidth\": 0, \"ticks\": \"\"}}, \"type\": \"scatter3d\"}], \"scattercarpet\": [{\"marker\": {\"colorbar\": {\"outlinewidth\": 0, \"ticks\": \"\"}}, \"type\": \"scattercarpet\"}], \"scattergeo\": [{\"marker\": {\"colorbar\": {\"outlinewidth\": 0, \"ticks\": \"\"}}, \"type\": \"scattergeo\"}], \"scattergl\": [{\"marker\": {\"colorbar\": {\"outlinewidth\": 0, \"ticks\": \"\"}}, \"type\": \"scattergl\"}], \"scattermapbox\": [{\"marker\": {\"colorbar\": {\"outlinewidth\": 0, \"ticks\": \"\"}}, \"type\": \"scattermapbox\"}], \"scatterpolar\": [{\"marker\": {\"colorbar\": {\"outlinewidth\": 0, \"ticks\": \"\"}}, \"type\": \"scatterpolar\"}], \"scatterpolargl\": [{\"marker\": {\"colorbar\": {\"outlinewidth\": 0, \"ticks\": \"\"}}, \"type\": \"scatterpolargl\"}], \"scatterternary\": [{\"marker\": {\"colorbar\": {\"outlinewidth\": 0, \"ticks\": \"\"}}, \"type\": \"scatterternary\"}], \"surface\": [{\"colorbar\": {\"outlinewidth\": 0, \"ticks\": \"\"}, \"colorscale\": [[0.0, \"#0d0887\"], [0.1111111111111111, \"#46039f\"], [0.2222222222222222, \"#7201a8\"], [0.3333333333333333, \"#9c179e\"], [0.4444444444444444, \"#bd3786\"], [0.5555555555555556, \"#d8576b\"], [0.6666666666666666, \"#ed7953\"], [0.7777777777777778, \"#fb9f3a\"], [0.8888888888888888, \"#fdca26\"], [1.0, \"#f0f921\"]], \"type\": \"surface\"}], \"table\": [{\"cells\": {\"fill\": {\"color\": \"#EBF0F8\"}, \"line\": {\"color\": \"white\"}}, \"header\": {\"fill\": {\"color\": \"#C8D4E3\"}, \"line\": {\"color\": \"white\"}}, \"type\": \"table\"}]}, \"layout\": {\"annotationdefaults\": {\"arrowcolor\": \"#2a3f5f\", \"arrowhead\": 0, \"arrowwidth\": 1}, \"coloraxis\": {\"colorbar\": {\"outlinewidth\": 0, \"ticks\": \"\"}}, \"colorscale\": {\"diverging\": [[0, \"#8e0152\"], [0.1, \"#c51b7d\"], [0.2, \"#de77ae\"], [0.3, \"#f1b6da\"], [0.4, \"#fde0ef\"], [0.5, \"#f7f7f7\"], [0.6, \"#e6f5d0\"], [0.7, \"#b8e186\"], [0.8, \"#7fbc41\"], [0.9, \"#4d9221\"], [1, \"#276419\"]], \"sequential\": [[0.0, \"#0d0887\"], [0.1111111111111111, \"#46039f\"], [0.2222222222222222, \"#7201a8\"], [0.3333333333333333, \"#9c179e\"], [0.4444444444444444, \"#bd3786\"], [0.5555555555555556, \"#d8576b\"], [0.6666666666666666, \"#ed7953\"], [0.7777777777777778, \"#fb9f3a\"], [0.8888888888888888, \"#fdca26\"], [1.0, \"#f0f921\"]], \"sequentialminus\": [[0.0, \"#0d0887\"], [0.1111111111111111, \"#46039f\"], [0.2222222222222222, \"#7201a8\"], [0.3333333333333333, \"#9c179e\"], [0.4444444444444444, \"#bd3786\"], [0.5555555555555556, \"#d8576b\"], [0.6666666666666666, \"#ed7953\"], [0.7777777777777778, \"#fb9f3a\"], [0.8888888888888888, \"#fdca26\"], [1.0, \"#f0f921\"]]}, \"colorway\": [\"#636efa\", \"#EF553B\", \"#00cc96\", \"#ab63fa\", \"#FFA15A\", \"#19d3f3\", \"#FF6692\", \"#B6E880\", \"#FF97FF\", \"#FECB52\"], \"font\": {\"color\": \"#2a3f5f\"}, \"geo\": {\"bgcolor\": \"white\", \"lakecolor\": \"white\", \"landcolor\": \"#E5ECF6\", \"showlakes\": true, \"showland\": true, \"subunitcolor\": \"white\"}, \"hoverlabel\": {\"align\": \"left\"}, \"hovermode\": \"closest\", \"mapbox\": {\"style\": \"light\"}, \"paper_bgcolor\": \"white\", \"plot_bgcolor\": \"#E5ECF6\", \"polar\": {\"angularaxis\": {\"gridcolor\": \"white\", \"linecolor\": \"white\", \"ticks\": \"\"}, \"bgcolor\": \"#E5ECF6\", \"radialaxis\": {\"gridcolor\": \"white\", \"linecolor\": \"white\", \"ticks\": \"\"}}, \"scene\": {\"xaxis\": {\"backgroundcolor\": \"#E5ECF6\", \"gridcolor\": \"white\", \"gridwidth\": 2, \"linecolor\": \"white\", \"showbackground\": true, \"ticks\": \"\", \"zerolinecolor\": \"white\"}, \"yaxis\": {\"backgroundcolor\": \"#E5ECF6\", \"gridcolor\": \"white\", \"gridwidth\": 2, \"linecolor\": \"white\", \"showbackground\": true, \"ticks\": \"\", \"zerolinecolor\": \"white\"}, \"zaxis\": {\"backgroundcolor\": \"#E5ECF6\", \"gridcolor\": \"white\", \"gridwidth\": 2, \"linecolor\": \"white\", \"showbackground\": true, \"ticks\": \"\", \"zerolinecolor\": \"white\"}}, \"shapedefaults\": {\"line\": {\"color\": \"#2a3f5f\"}}, \"ternary\": {\"aaxis\": {\"gridcolor\": \"white\", \"linecolor\": \"white\", \"ticks\": \"\"}, \"baxis\": {\"gridcolor\": \"white\", \"linecolor\": \"white\", \"ticks\": \"\"}, \"bgcolor\": \"#E5ECF6\", \"caxis\": {\"gridcolor\": \"white\", \"linecolor\": \"white\", \"ticks\": \"\"}}, \"title\": {\"x\": 0.05}, \"xaxis\": {\"automargin\": true, \"gridcolor\": \"white\", \"linecolor\": \"white\", \"ticks\": \"\", \"title\": {\"standoff\": 15}, \"zerolinecolor\": \"white\", \"zerolinewidth\": 2}, \"yaxis\": {\"automargin\": true, \"gridcolor\": \"white\", \"linecolor\": \"white\", \"ticks\": \"\", \"title\": {\"standoff\": 15}, \"zerolinecolor\": \"white\", \"zerolinewidth\": 2}}}, \"title\": {\"text\": \"Parameter Tunings Mean Absolute Percentage Error: Univariate Confirmed Cases\", \"x\": 0.5}, \"width\": 1200},\n",
              "                        {\"responsive\": true}\n",
              "                    ).then(function(){\n",
              "                            \n",
              "var gd = document.getElementById('456186f0-4a89-4f29-b87b-39237b84dc24');\n",
              "var x = new MutationObserver(function (mutations, observer) {{\n",
              "        var display = window.getComputedStyle(gd).display;\n",
              "        if (!display || display === 'none') {{\n",
              "            console.log([gd, 'removed!']);\n",
              "            Plotly.purge(gd);\n",
              "            observer.disconnect();\n",
              "        }}\n",
              "}});\n",
              "\n",
              "// Listen for the removal of the full notebook cells\n",
              "var notebookContainer = gd.closest('#notebook-container');\n",
              "if (notebookContainer) {{\n",
              "    x.observe(notebookContainer, {childList: true});\n",
              "}}\n",
              "\n",
              "// Listen for the clearing of the current output cell\n",
              "var outputEl = gd.closest('.output');\n",
              "if (outputEl) {{\n",
              "    x.observe(outputEl, {childList: true});\n",
              "}}\n",
              "\n",
              "                        })\n",
              "                };\n",
              "                \n",
              "            </script>\n",
              "        </div>\n",
              "</body>\n",
              "</html>"
            ]
          },
          "metadata": {}
        }
      ]
    },
    {
      "cell_type": "markdown",
      "metadata": {
        "id": "amGjvQT85efx"
      },
      "source": [
        "#### Univariate Confirmed Deaths"
      ]
    },
    {
      "cell_type": "code",
      "metadata": {
        "colab": {
          "base_uri": "https://localhost:8080/",
          "height": 0
        },
        "id": "V4rl-5BkyHf9",
        "outputId": "fc16ad73-12bd-445c-ee96-e05ddf04287d"
      },
      "source": [
        "fig = go.Figure(data=[go.Table(header=dict(values=['Model', 'Kernel size', 'Pool', '2 Nodes','4 Nodes', '8 Nodes', '16 Nodes', '32 Nodes',\n",
        "                                                   \"64 Nodes\", '128 Nodes', '256 Nodes', '512 Nodes', '1024 Nodes'],\n",
        "                                           line_color = 'gray'),\n",
        "                               cells=dict(values=[['LSTM', 'GRU', 'RNNs', 'CNN',\n",
        "                                                   'CNN', 'CNN', 'CNN', 'CNN', 'CNN'],\n",
        "                                                  ['-', '-', '-', '3', '5', '7', '3', '5', '7'],\n",
        "                                                  ['-', '-', '-', '2', '2', '2', '3', '3', '3'],\n",
        "                                    [round(lstm_d_uni[0],3), \n",
        "                                     round(gru_d_uni[0],3),\n",
        "                                     round(rnn_d_uni[0],3), \n",
        "                                     round(cnn_d_uni.iloc[0,0],3),\n",
        "                                     round(cnn_d_uni.iloc[0,1],3),\n",
        "                                     round(cnn_d_uni.iloc[0,2],3),\n",
        "                                     round(cnn_d_uni.iloc[0,3],3),\n",
        "                                     round(cnn_d_uni.iloc[0,4],3),\n",
        "                                     round(cnn_d_uni.iloc[0,5],3)],\n",
        "                                     [round(lstm_d_uni[1],3), \n",
        "                                     round(gru_d_uni[1],3),\n",
        "                                     round(rnn_d_uni[1],3), \n",
        "                                     round(cnn_d_uni.iloc[1,0],3),\n",
        "                                     round(cnn_d_uni.iloc[1,1],3),\n",
        "                                     round(cnn_d_uni.iloc[1,2],3),\n",
        "                                     round(cnn_d_uni.iloc[1,3],3),\n",
        "                                     round(cnn_d_uni.iloc[1,4],3),\n",
        "                                     round(cnn_d_uni.iloc[1,5],3)],\n",
        "                                     [round(lstm_d_uni[2],3), \n",
        "                                     round(gru_d_uni[2],3),\n",
        "                                     round(rnn_d_uni[2],3), \n",
        "                                     round(cnn_d_uni.iloc[2,0],3),\n",
        "                                     round(cnn_d_uni.iloc[2,1],3),\n",
        "                                     round(cnn_d_uni.iloc[2,2],3),\n",
        "                                     round(cnn_d_uni.iloc[2,3],3),\n",
        "                                     round(cnn_d_uni.iloc[2,4],3),\n",
        "                                     round(cnn_d_uni.iloc[2,5],3)],\n",
        "                                     [round(lstm_d_uni[3],3), \n",
        "                                     round(gru_d_uni[3],3),\n",
        "                                     round(rnn_d_uni[3],3), \n",
        "                                     round(cnn_d_uni.iloc[3,0],3),\n",
        "                                     round(cnn_d_uni.iloc[3,1],3),\n",
        "                                     round(cnn_d_uni.iloc[3,2],3),\n",
        "                                     round(cnn_d_uni.iloc[3,3],3),\n",
        "                                     round(cnn_d_uni.iloc[3,4],3),\n",
        "                                     round(cnn_d_uni.iloc[3,5],3)],\n",
        "                                     [round(lstm_d_uni[4],3), \n",
        "                                     round(gru_d_uni[4],3),\n",
        "                                     round(rnn_d_uni[4],3), \n",
        "                                     round(cnn_d_uni.iloc[4,0],3),\n",
        "                                     round(cnn_d_uni.iloc[4,1],3),\n",
        "                                     round(cnn_d_uni.iloc[4,2],3),\n",
        "                                     round(cnn_d_uni.iloc[4,3],3),\n",
        "                                     round(cnn_d_uni.iloc[4,4],3),\n",
        "                                     round(cnn_d_uni.iloc[4,5],3)],\n",
        "                                     [round(lstm_d_uni[5],3), \n",
        "                                     round(gru_d_uni[5],3),\n",
        "                                     round(rnn_d_uni[5],3), \n",
        "                                     round(cnn_d_uni.iloc[5,0],3),\n",
        "                                     round(cnn_d_uni.iloc[5,1],3),\n",
        "                                     round(cnn_d_uni.iloc[5,2],3),\n",
        "                                     round(cnn_d_uni.iloc[5,3],3),\n",
        "                                     round(cnn_d_uni.iloc[5,4],3),\n",
        "                                     round(cnn_d_uni.iloc[5,5],3)],\n",
        "                                     [round(lstm_d_uni[6],3), \n",
        "                                     round(gru_d_uni[6],3),\n",
        "                                     round(rnn_d_uni[6],3), \n",
        "                                     round(cnn_d_uni.iloc[6,0],3),\n",
        "                                     round(cnn_d_uni.iloc[6,1],3),\n",
        "                                     round(cnn_d_uni.iloc[6,2],3),\n",
        "                                     round(cnn_d_uni.iloc[6,3],3),\n",
        "                                     round(cnn_d_uni.iloc[6,4],3),\n",
        "                                     round(cnn_d_uni.iloc[6,5],3)],\n",
        "                                     [round(lstm_d_uni[7],3), \n",
        "                                     round(gru_d_uni[7],3),\n",
        "                                     round(rnn_d_uni[7],3), \n",
        "                                     round(cnn_d_uni.iloc[7,0],3),\n",
        "                                     round(cnn_d_uni.iloc[7,1],3),\n",
        "                                     round(cnn_d_uni.iloc[7,2],3),\n",
        "                                     round(cnn_d_uni.iloc[7,3],3),\n",
        "                                     round(cnn_d_uni.iloc[7,4],3),\n",
        "                                     round(cnn_d_uni.iloc[7,5],3)],\n",
        "                                     [round(lstm_d_uni[8],3), \n",
        "                                     round(gru_d_uni[8],3),\n",
        "                                     round(rnn_d_uni[8],3), \n",
        "                                     round(cnn_d_uni.iloc[8,0],3),\n",
        "                                     round(cnn_d_uni.iloc[8,1],3),\n",
        "                                     round(cnn_d_uni.iloc[8,2],3),\n",
        "                                     round(cnn_d_uni.iloc[8,3],3),\n",
        "                                     round(cnn_d_uni.iloc[8,4],3),\n",
        "                                     round(cnn_d_uni.iloc[8,5],3)],\n",
        "                                     [round(lstm_d_uni[9],3), \n",
        "                                     round(gru_d_uni[9],3),\n",
        "                                     round(rnn_d_uni[9],3), \n",
        "                                     round(cnn_d_uni.iloc[9,0],3),\n",
        "                                     round(cnn_d_uni.iloc[9,1],3),\n",
        "                                     round(cnn_d_uni.iloc[9,2],3),\n",
        "                                     round(cnn_d_uni.iloc[9,3],3),\n",
        "                                     round(cnn_d_uni.iloc[9,4],3),\n",
        "                                     round(cnn_d_uni.iloc[9,5],3)]],\n",
        "                            align=['left','center', 'center', \n",
        "                                   'right','right','right',\n",
        "                                   'right','right','right',\n",
        "                                   'right','right','right', 'right'],\n",
        "                            fill_color = 'white',\n",
        "                            line_color = 'gray'))\n",
        "                     ])\n",
        "fig.update_layout(title = \"Parameter Tunings Mean Absolute Percentage Error: Univariate Confirmed Deaths\",\n",
        "                  title_x=0.5, height = 700, width = 1200)\n",
        "fig.show()"
      ],
      "execution_count": 22,
      "outputs": [
        {
          "output_type": "display_data",
          "data": {
            "text/html": [
              "<html>\n",
              "<head><meta charset=\"utf-8\" /></head>\n",
              "<body>\n",
              "    <div>\n",
              "            <script src=\"https://cdnjs.cloudflare.com/ajax/libs/mathjax/2.7.5/MathJax.js?config=TeX-AMS-MML_SVG\"></script><script type=\"text/javascript\">if (window.MathJax) {MathJax.Hub.Config({SVG: {font: \"STIX-Web\"}});}</script>\n",
              "                <script type=\"text/javascript\">window.PlotlyConfig = {MathJaxConfig: 'local'};</script>\n",
              "        <script src=\"https://cdn.plot.ly/plotly-latest.min.js\"></script>    \n",
              "            <div id=\"1342d9c6-9a10-441a-94ab-e1abbd5da537\" class=\"plotly-graph-div\" style=\"height:700px; width:1200px;\"></div>\n",
              "            <script type=\"text/javascript\">\n",
              "                \n",
              "                    window.PLOTLYENV=window.PLOTLYENV || {};\n",
              "                    \n",
              "                if (document.getElementById(\"1342d9c6-9a10-441a-94ab-e1abbd5da537\")) {\n",
              "                    Plotly.newPlot(\n",
              "                        '1342d9c6-9a10-441a-94ab-e1abbd5da537',\n",
              "                        [{\"cells\": {\"align\": [\"left\", \"center\", \"center\", \"right\", \"right\", \"right\", \"right\", \"right\", \"right\", \"right\", \"right\", \"right\", \"right\"], \"fill\": {\"color\": \"white\"}, \"line\": {\"color\": \"gray\"}, \"values\": [[\"LSTM\", \"GRU\", \"RNNs\", \"CNN\", \"CNN\", \"CNN\", \"CNN\", \"CNN\", \"CNN\"], [\"-\", \"-\", \"-\", \"3\", \"5\", \"7\", \"3\", \"5\", \"7\"], [\"-\", \"-\", \"-\", \"2\", \"2\", \"2\", \"3\", \"3\", \"3\"], [9.77, 98.116, 9.996, 11.43, 8.959, 9.06, 12.192, 11.453, 10.92], [58.043, 8.296, 8.325, 10.756, 9.267, 9.487, 10.513, 9.332, 8.956], [9.122, 7.743, 10.867, 7.691, 9.621, 8.184, 9.597, 9.507, 10.452], [8.278, 7.228, 8.844, 9.191, 9.079, 9.633, 8.79, 8.224, 9.448], [5.387, 6.364, 6.397, 8.271, 8.443, 9.624, 8.374, 8.825, 9.936], [11.109, 8.147, 6.188, 8.443, 8.651, 8.512, 8.92, 8.946, 9.302], [9.93, 7.32, 5.931, 8.257, 9.351, 9.909, 8.417, 8.981, 9.301], [9.83, 10.037, 7.936, 10.281, 10.713, 11.068, 8.719, 9.807, 9.888], [8.942, 11.895, 8.254, 11.57, 12.928, 12.084, 10.68, 12.066, 11.915], [9.187, 11.826, 8.945, 11.544, 13.36, 13.95, 11.105, 13.295, 13.76]]}, \"header\": {\"line\": {\"color\": \"gray\"}, \"values\": [\"Model\", \"Kernel size\", \"Pool\", \"2 Nodes\", \"4 Nodes\", \"8 Nodes\", \"16 Nodes\", \"32 Nodes\", \"64 Nodes\", \"128 Nodes\", \"256 Nodes\", \"512 Nodes\", \"1024 Nodes\"]}, \"type\": \"table\"}],\n",
              "                        {\"height\": 700, \"template\": {\"data\": {\"bar\": [{\"error_x\": {\"color\": \"#2a3f5f\"}, \"error_y\": {\"color\": \"#2a3f5f\"}, \"marker\": {\"line\": {\"color\": \"#E5ECF6\", \"width\": 0.5}}, \"type\": \"bar\"}], \"barpolar\": [{\"marker\": {\"line\": {\"color\": \"#E5ECF6\", \"width\": 0.5}}, \"type\": \"barpolar\"}], \"carpet\": [{\"aaxis\": {\"endlinecolor\": \"#2a3f5f\", \"gridcolor\": \"white\", \"linecolor\": \"white\", \"minorgridcolor\": \"white\", \"startlinecolor\": \"#2a3f5f\"}, \"baxis\": {\"endlinecolor\": \"#2a3f5f\", \"gridcolor\": \"white\", \"linecolor\": \"white\", \"minorgridcolor\": \"white\", \"startlinecolor\": \"#2a3f5f\"}, \"type\": \"carpet\"}], \"choropleth\": [{\"colorbar\": {\"outlinewidth\": 0, \"ticks\": \"\"}, \"type\": \"choropleth\"}], \"contour\": [{\"colorbar\": {\"outlinewidth\": 0, \"ticks\": \"\"}, \"colorscale\": [[0.0, \"#0d0887\"], [0.1111111111111111, \"#46039f\"], [0.2222222222222222, \"#7201a8\"], [0.3333333333333333, \"#9c179e\"], [0.4444444444444444, \"#bd3786\"], [0.5555555555555556, \"#d8576b\"], [0.6666666666666666, \"#ed7953\"], [0.7777777777777778, \"#fb9f3a\"], [0.8888888888888888, \"#fdca26\"], [1.0, \"#f0f921\"]], \"type\": \"contour\"}], \"contourcarpet\": [{\"colorbar\": {\"outlinewidth\": 0, \"ticks\": \"\"}, \"type\": \"contourcarpet\"}], \"heatmap\": [{\"colorbar\": {\"outlinewidth\": 0, \"ticks\": \"\"}, \"colorscale\": [[0.0, \"#0d0887\"], [0.1111111111111111, \"#46039f\"], [0.2222222222222222, \"#7201a8\"], [0.3333333333333333, \"#9c179e\"], [0.4444444444444444, \"#bd3786\"], [0.5555555555555556, \"#d8576b\"], [0.6666666666666666, \"#ed7953\"], [0.7777777777777778, \"#fb9f3a\"], [0.8888888888888888, \"#fdca26\"], [1.0, \"#f0f921\"]], \"type\": \"heatmap\"}], \"heatmapgl\": [{\"colorbar\": {\"outlinewidth\": 0, \"ticks\": \"\"}, \"colorscale\": [[0.0, \"#0d0887\"], [0.1111111111111111, \"#46039f\"], [0.2222222222222222, \"#7201a8\"], [0.3333333333333333, \"#9c179e\"], [0.4444444444444444, \"#bd3786\"], [0.5555555555555556, \"#d8576b\"], [0.6666666666666666, \"#ed7953\"], [0.7777777777777778, \"#fb9f3a\"], [0.8888888888888888, \"#fdca26\"], [1.0, \"#f0f921\"]], \"type\": \"heatmapgl\"}], \"histogram\": [{\"marker\": {\"colorbar\": {\"outlinewidth\": 0, \"ticks\": \"\"}}, \"type\": \"histogram\"}], \"histogram2d\": [{\"colorbar\": {\"outlinewidth\": 0, \"ticks\": \"\"}, \"colorscale\": [[0.0, \"#0d0887\"], [0.1111111111111111, \"#46039f\"], [0.2222222222222222, \"#7201a8\"], [0.3333333333333333, \"#9c179e\"], [0.4444444444444444, \"#bd3786\"], [0.5555555555555556, \"#d8576b\"], [0.6666666666666666, \"#ed7953\"], [0.7777777777777778, \"#fb9f3a\"], [0.8888888888888888, \"#fdca26\"], [1.0, \"#f0f921\"]], \"type\": \"histogram2d\"}], \"histogram2dcontour\": [{\"colorbar\": {\"outlinewidth\": 0, \"ticks\": \"\"}, \"colorscale\": [[0.0, \"#0d0887\"], [0.1111111111111111, \"#46039f\"], [0.2222222222222222, \"#7201a8\"], [0.3333333333333333, \"#9c179e\"], [0.4444444444444444, \"#bd3786\"], [0.5555555555555556, \"#d8576b\"], [0.6666666666666666, \"#ed7953\"], [0.7777777777777778, \"#fb9f3a\"], [0.8888888888888888, \"#fdca26\"], [1.0, \"#f0f921\"]], \"type\": \"histogram2dcontour\"}], \"mesh3d\": [{\"colorbar\": {\"outlinewidth\": 0, \"ticks\": \"\"}, \"type\": \"mesh3d\"}], \"parcoords\": [{\"line\": {\"colorbar\": {\"outlinewidth\": 0, \"ticks\": \"\"}}, \"type\": \"parcoords\"}], \"pie\": [{\"automargin\": true, \"type\": \"pie\"}], \"scatter\": [{\"marker\": {\"colorbar\": {\"outlinewidth\": 0, \"ticks\": \"\"}}, \"type\": \"scatter\"}], \"scatter3d\": [{\"line\": {\"colorbar\": {\"outlinewidth\": 0, \"ticks\": \"\"}}, \"marker\": {\"colorbar\": {\"outlinewidth\": 0, \"ticks\": \"\"}}, \"type\": \"scatter3d\"}], \"scattercarpet\": [{\"marker\": {\"colorbar\": {\"outlinewidth\": 0, \"ticks\": \"\"}}, \"type\": \"scattercarpet\"}], \"scattergeo\": [{\"marker\": {\"colorbar\": {\"outlinewidth\": 0, \"ticks\": \"\"}}, \"type\": \"scattergeo\"}], \"scattergl\": [{\"marker\": {\"colorbar\": {\"outlinewidth\": 0, \"ticks\": \"\"}}, \"type\": \"scattergl\"}], \"scattermapbox\": [{\"marker\": {\"colorbar\": {\"outlinewidth\": 0, \"ticks\": \"\"}}, \"type\": \"scattermapbox\"}], \"scatterpolar\": [{\"marker\": {\"colorbar\": {\"outlinewidth\": 0, \"ticks\": \"\"}}, \"type\": \"scatterpolar\"}], \"scatterpolargl\": [{\"marker\": {\"colorbar\": {\"outlinewidth\": 0, \"ticks\": \"\"}}, \"type\": \"scatterpolargl\"}], \"scatterternary\": [{\"marker\": {\"colorbar\": {\"outlinewidth\": 0, \"ticks\": \"\"}}, \"type\": \"scatterternary\"}], \"surface\": [{\"colorbar\": {\"outlinewidth\": 0, \"ticks\": \"\"}, \"colorscale\": [[0.0, \"#0d0887\"], [0.1111111111111111, \"#46039f\"], [0.2222222222222222, \"#7201a8\"], [0.3333333333333333, \"#9c179e\"], [0.4444444444444444, \"#bd3786\"], [0.5555555555555556, \"#d8576b\"], [0.6666666666666666, \"#ed7953\"], [0.7777777777777778, \"#fb9f3a\"], [0.8888888888888888, \"#fdca26\"], [1.0, \"#f0f921\"]], \"type\": \"surface\"}], \"table\": [{\"cells\": {\"fill\": {\"color\": \"#EBF0F8\"}, \"line\": {\"color\": \"white\"}}, \"header\": {\"fill\": {\"color\": \"#C8D4E3\"}, \"line\": {\"color\": \"white\"}}, \"type\": \"table\"}]}, \"layout\": {\"annotationdefaults\": {\"arrowcolor\": \"#2a3f5f\", \"arrowhead\": 0, \"arrowwidth\": 1}, \"coloraxis\": {\"colorbar\": {\"outlinewidth\": 0, \"ticks\": \"\"}}, \"colorscale\": {\"diverging\": [[0, \"#8e0152\"], [0.1, \"#c51b7d\"], [0.2, \"#de77ae\"], [0.3, \"#f1b6da\"], [0.4, \"#fde0ef\"], [0.5, \"#f7f7f7\"], [0.6, \"#e6f5d0\"], [0.7, \"#b8e186\"], [0.8, \"#7fbc41\"], [0.9, \"#4d9221\"], [1, \"#276419\"]], \"sequential\": [[0.0, \"#0d0887\"], [0.1111111111111111, \"#46039f\"], [0.2222222222222222, \"#7201a8\"], [0.3333333333333333, \"#9c179e\"], [0.4444444444444444, \"#bd3786\"], [0.5555555555555556, \"#d8576b\"], [0.6666666666666666, \"#ed7953\"], [0.7777777777777778, \"#fb9f3a\"], [0.8888888888888888, \"#fdca26\"], [1.0, \"#f0f921\"]], \"sequentialminus\": [[0.0, \"#0d0887\"], [0.1111111111111111, \"#46039f\"], [0.2222222222222222, \"#7201a8\"], [0.3333333333333333, \"#9c179e\"], [0.4444444444444444, \"#bd3786\"], [0.5555555555555556, \"#d8576b\"], [0.6666666666666666, \"#ed7953\"], [0.7777777777777778, \"#fb9f3a\"], [0.8888888888888888, \"#fdca26\"], [1.0, \"#f0f921\"]]}, \"colorway\": [\"#636efa\", \"#EF553B\", \"#00cc96\", \"#ab63fa\", \"#FFA15A\", \"#19d3f3\", \"#FF6692\", \"#B6E880\", \"#FF97FF\", \"#FECB52\"], \"font\": {\"color\": \"#2a3f5f\"}, \"geo\": {\"bgcolor\": \"white\", \"lakecolor\": \"white\", \"landcolor\": \"#E5ECF6\", \"showlakes\": true, \"showland\": true, \"subunitcolor\": \"white\"}, \"hoverlabel\": {\"align\": \"left\"}, \"hovermode\": \"closest\", \"mapbox\": {\"style\": \"light\"}, \"paper_bgcolor\": \"white\", \"plot_bgcolor\": \"#E5ECF6\", \"polar\": {\"angularaxis\": {\"gridcolor\": \"white\", \"linecolor\": \"white\", \"ticks\": \"\"}, \"bgcolor\": \"#E5ECF6\", \"radialaxis\": {\"gridcolor\": \"white\", \"linecolor\": \"white\", \"ticks\": \"\"}}, \"scene\": {\"xaxis\": {\"backgroundcolor\": \"#E5ECF6\", \"gridcolor\": \"white\", \"gridwidth\": 2, \"linecolor\": \"white\", \"showbackground\": true, \"ticks\": \"\", \"zerolinecolor\": \"white\"}, \"yaxis\": {\"backgroundcolor\": \"#E5ECF6\", \"gridcolor\": \"white\", \"gridwidth\": 2, \"linecolor\": \"white\", \"showbackground\": true, \"ticks\": \"\", \"zerolinecolor\": \"white\"}, \"zaxis\": {\"backgroundcolor\": \"#E5ECF6\", \"gridcolor\": \"white\", \"gridwidth\": 2, \"linecolor\": \"white\", \"showbackground\": true, \"ticks\": \"\", \"zerolinecolor\": \"white\"}}, \"shapedefaults\": {\"line\": {\"color\": \"#2a3f5f\"}}, \"ternary\": {\"aaxis\": {\"gridcolor\": \"white\", \"linecolor\": \"white\", \"ticks\": \"\"}, \"baxis\": {\"gridcolor\": \"white\", \"linecolor\": \"white\", \"ticks\": \"\"}, \"bgcolor\": \"#E5ECF6\", \"caxis\": {\"gridcolor\": \"white\", \"linecolor\": \"white\", \"ticks\": \"\"}}, \"title\": {\"x\": 0.05}, \"xaxis\": {\"automargin\": true, \"gridcolor\": \"white\", \"linecolor\": \"white\", \"ticks\": \"\", \"title\": {\"standoff\": 15}, \"zerolinecolor\": \"white\", \"zerolinewidth\": 2}, \"yaxis\": {\"automargin\": true, \"gridcolor\": \"white\", \"linecolor\": \"white\", \"ticks\": \"\", \"title\": {\"standoff\": 15}, \"zerolinecolor\": \"white\", \"zerolinewidth\": 2}}}, \"title\": {\"text\": \"Parameter Tunings Mean Absolute Percentage Error: Univariate Confirmed Deaths\", \"x\": 0.5}, \"width\": 1200},\n",
              "                        {\"responsive\": true}\n",
              "                    ).then(function(){\n",
              "                            \n",
              "var gd = document.getElementById('1342d9c6-9a10-441a-94ab-e1abbd5da537');\n",
              "var x = new MutationObserver(function (mutations, observer) {{\n",
              "        var display = window.getComputedStyle(gd).display;\n",
              "        if (!display || display === 'none') {{\n",
              "            console.log([gd, 'removed!']);\n",
              "            Plotly.purge(gd);\n",
              "            observer.disconnect();\n",
              "        }}\n",
              "}});\n",
              "\n",
              "// Listen for the removal of the full notebook cells\n",
              "var notebookContainer = gd.closest('#notebook-container');\n",
              "if (notebookContainer) {{\n",
              "    x.observe(notebookContainer, {childList: true});\n",
              "}}\n",
              "\n",
              "// Listen for the clearing of the current output cell\n",
              "var outputEl = gd.closest('.output');\n",
              "if (outputEl) {{\n",
              "    x.observe(outputEl, {childList: true});\n",
              "}}\n",
              "\n",
              "                        })\n",
              "                };\n",
              "                \n",
              "            </script>\n",
              "        </div>\n",
              "</body>\n",
              "</html>"
            ]
          },
          "metadata": {}
        }
      ]
    },
    {
      "cell_type": "markdown",
      "metadata": {
        "id": "wWeNmaup5b5U"
      },
      "source": [
        "#### Multivariate Confirmed Cases"
      ]
    },
    {
      "cell_type": "code",
      "metadata": {
        "colab": {
          "base_uri": "https://localhost:8080/",
          "height": 737
        },
        "id": "0nimG2vW0zLO",
        "outputId": "3385a642-98d8-445f-a0bd-d59d2f0ab501"
      },
      "source": [
        "fig = go.Figure(data=[go.Table(header=dict(values=['Model', 'Kernel size', 'Pool', '2 Nodes', '4 Nodes', '8 Nodes', '16 Nodes', \n",
        "                                                   '32 Nodes', \"64 Nodes\", '128 Nodes', '256 Nodes', '512 Nodes', '1024 Nodes'],\n",
        "                                           line_color = 'gray'),\n",
        "                               cells=dict(values=[['LSTM', 'GRU', 'RNNs', 'CNN',\n",
        "                                                   'CNN', 'CNN', 'CNN', 'CNN', 'CNN'],\n",
        "                                                  ['-', '-', '-', '3', '5', '7', '3', '5', '7'],\n",
        "                                                  ['-', '-', '-', '2', '2', '2', '3', '3', '3'],\n",
        "                                    [round(lstm_i_multi[0],3), \n",
        "                                     round(gru_i_multi[0],3),\n",
        "                                     round(rnn_i_multi[0],3), \n",
        "                                     round(cnn_i_multi.iloc[0,0],3),\n",
        "                                     round(cnn_i_multi.iloc[0,1],3),\n",
        "                                     round(cnn_i_multi.iloc[0,2],3),\n",
        "                                     round(cnn_i_multi.iloc[0,3],3),\n",
        "                                     round(cnn_i_multi.iloc[0,4],3),\n",
        "                                     round(cnn_i_multi.iloc[0,5],3)],\n",
        "                                     [round(lstm_i_multi[1],3), \n",
        "                                     round(gru_i_multi[1],3),\n",
        "                                     round(rnn_i_multi[1],3), \n",
        "                                     round(cnn_i_multi.iloc[1,0],3),\n",
        "                                     round(cnn_i_multi.iloc[1,1],3),\n",
        "                                     round(cnn_i_multi.iloc[1,2],3),\n",
        "                                     round(cnn_i_multi.iloc[1,3],3),\n",
        "                                     round(cnn_i_multi.iloc[1,4],3),\n",
        "                                     round(cnn_i_multi.iloc[1,5],3)],\n",
        "                                     [round(lstm_i_multi[2],3), \n",
        "                                     round(gru_i_multi[2],3),\n",
        "                                     round(rnn_i_multi[2],3), \n",
        "                                     round(cnn_i_multi.iloc[2,0],3),\n",
        "                                     round(cnn_i_multi.iloc[2,1],3),\n",
        "                                     round(cnn_i_multi.iloc[2,2],3),\n",
        "                                     round(cnn_i_multi.iloc[2,3],3),\n",
        "                                     round(cnn_i_multi.iloc[2,4],3),\n",
        "                                     round(cnn_i_multi.iloc[2,5],3)],\n",
        "                                     [round(lstm_i_multi[3],3), \n",
        "                                     round(gru_i_multi[3],3),\n",
        "                                     round(rnn_i_multi[3],3), \n",
        "                                     round(cnn_i_multi.iloc[3,0],3),\n",
        "                                     round(cnn_i_multi.iloc[3,1],3),\n",
        "                                     round(cnn_i_multi.iloc[3,2],3),\n",
        "                                     round(cnn_i_multi.iloc[3,3],3),\n",
        "                                     round(cnn_i_multi.iloc[3,4],3),\n",
        "                                     round(cnn_i_multi.iloc[3,5],3)],\n",
        "                                     [round(lstm_i_multi[4],3), \n",
        "                                     round(gru_i_multi[4],3),\n",
        "                                     round(rnn_i_multi[4],3), \n",
        "                                     round(cnn_i_multi.iloc[4,0],3),\n",
        "                                     round(cnn_i_multi.iloc[4,1],3),\n",
        "                                     round(cnn_i_multi.iloc[4,2],3),\n",
        "                                     round(cnn_i_multi.iloc[4,3],3),\n",
        "                                     round(cnn_i_multi.iloc[4,4],3),\n",
        "                                     round(cnn_i_multi.iloc[4,5],3)],\n",
        "                                     [round(lstm_i_multi[5],3), \n",
        "                                     round(gru_i_multi[5],3),\n",
        "                                     round(rnn_i_multi[5],3), \n",
        "                                     round(cnn_i_multi.iloc[5,0],3),\n",
        "                                     round(cnn_i_multi.iloc[5,1],3),\n",
        "                                     round(cnn_i_multi.iloc[5,2],3),\n",
        "                                     round(cnn_i_multi.iloc[5,3],3),\n",
        "                                     round(cnn_i_multi.iloc[5,4],3),\n",
        "                                     round(cnn_i_multi.iloc[5,5],3)],\n",
        "                                     [round(lstm_i_multi[6],3), \n",
        "                                     round(gru_i_multi[6],3),\n",
        "                                     round(rnn_i_multi[6],3), \n",
        "                                     round(cnn_i_multi.iloc[6,0],3),\n",
        "                                     round(cnn_i_multi.iloc[6,1],3),\n",
        "                                     round(cnn_i_multi.iloc[6,2],3),\n",
        "                                     round(cnn_i_multi.iloc[6,3],3),\n",
        "                                     round(cnn_i_multi.iloc[6,4],3),\n",
        "                                     round(cnn_i_multi.iloc[6,5],3)],\n",
        "                                     [round(lstm_i_multi[7],3), \n",
        "                                     round(gru_i_multi[7],3),\n",
        "                                     round(rnn_i_multi[7],3), \n",
        "                                     round(cnn_i_multi.iloc[7,0],3),\n",
        "                                     round(cnn_i_multi.iloc[7,1],3),\n",
        "                                     round(cnn_i_multi.iloc[7,2],3),\n",
        "                                     round(cnn_i_multi.iloc[7,3],3),\n",
        "                                     round(cnn_i_multi.iloc[7,4],3),\n",
        "                                     round(cnn_i_multi.iloc[7,5],3)],\n",
        "                                     [round(lstm_i_multi[8],3), \n",
        "                                     round(gru_i_multi[8],3),\n",
        "                                     round(rnn_i_multi[8],3), \n",
        "                                     round(cnn_i_multi.iloc[8,0],3),\n",
        "                                     round(cnn_i_multi.iloc[8,1],3),\n",
        "                                     round(cnn_i_multi.iloc[8,2],3),\n",
        "                                     round(cnn_i_multi.iloc[8,3],3),\n",
        "                                     round(cnn_i_multi.iloc[8,4],3),\n",
        "                                     round(cnn_i_multi.iloc[8,5],3)],\n",
        "                                     [round(lstm_i_multi[9],3), \n",
        "                                     round(gru_i_multi[9],3),\n",
        "                                     round(rnn_i_multi[9],3), \n",
        "                                     round(cnn_i_multi.iloc[9,0],3),\n",
        "                                     round(cnn_i_multi.iloc[9,1],3),\n",
        "                                     round(cnn_i_multi.iloc[9,2],3),\n",
        "                                     round(cnn_i_multi.iloc[9,3],3),\n",
        "                                     round(cnn_i_multi.iloc[9,4],3),\n",
        "                                     round(cnn_i_multi.iloc[9,5],3)]],\n",
        "                            align=['left','center', 'center', \n",
        "                                   'right','right','right',\n",
        "                                   'right','right','right',\n",
        "                                   'right','right','right','right'],\n",
        "                            fill_color = 'white',\n",
        "                            line_color = 'gray'))\n",
        "                     ])\n",
        "fig.update_layout(title = \"Parameter Tunings Mean Absolute Percentage Error: Multivariate Confirmed Cases\",\n",
        "                  title_x=0.5, height = 700, width = 1200)\n",
        "fig.show()"
      ],
      "execution_count": 23,
      "outputs": [
        {
          "output_type": "display_data",
          "data": {
            "text/html": [
              "<html>\n",
              "<head><meta charset=\"utf-8\" /></head>\n",
              "<body>\n",
              "    <div>\n",
              "            <script src=\"https://cdnjs.cloudflare.com/ajax/libs/mathjax/2.7.5/MathJax.js?config=TeX-AMS-MML_SVG\"></script><script type=\"text/javascript\">if (window.MathJax) {MathJax.Hub.Config({SVG: {font: \"STIX-Web\"}});}</script>\n",
              "                <script type=\"text/javascript\">window.PlotlyConfig = {MathJaxConfig: 'local'};</script>\n",
              "        <script src=\"https://cdn.plot.ly/plotly-latest.min.js\"></script>    \n",
              "            <div id=\"c2fd461b-036d-4ccf-bbd9-753e8439ec83\" class=\"plotly-graph-div\" style=\"height:700px; width:1200px;\"></div>\n",
              "            <script type=\"text/javascript\">\n",
              "                \n",
              "                    window.PLOTLYENV=window.PLOTLYENV || {};\n",
              "                    \n",
              "                if (document.getElementById(\"c2fd461b-036d-4ccf-bbd9-753e8439ec83\")) {\n",
              "                    Plotly.newPlot(\n",
              "                        'c2fd461b-036d-4ccf-bbd9-753e8439ec83',\n",
              "                        [{\"cells\": {\"align\": [\"left\", \"center\", \"center\", \"right\", \"right\", \"right\", \"right\", \"right\", \"right\", \"right\", \"right\", \"right\", \"right\"], \"fill\": {\"color\": \"white\"}, \"line\": {\"color\": \"gray\"}, \"values\": [[\"LSTM\", \"GRU\", \"RNNs\", \"CNN\", \"CNN\", \"CNN\", \"CNN\", \"CNN\", \"CNN\"], [\"-\", \"-\", \"-\", \"3\", \"5\", \"7\", \"3\", \"5\", \"7\"], [\"-\", \"-\", \"-\", \"2\", \"2\", \"2\", \"3\", \"3\", \"3\"], [99.984, 99.984, 4.337, 4.984, 4.83, 4.942, 4.827, 6.165, 5.885], [3.758, 4.058, 4.961, 5.014, 4.63, 4.759, 5.0, 5.15, 5.022], [99.984, 4.399, 4.5, 5.41, 4.094, 4.799, 4.809, 5.039, 5.35], [4.295, 4.746, 4.323, 4.857, 4.57, 4.944, 4.657, 5.56, 5.37], [3.916, 4.11, 2.822, 4.219, 4.488, 4.112, 4.473, 4.595, 5.154], [3.755, 4.191, 3.025, 3.845, 4.583, 4.653, 3.945, 4.832, 4.95], [3.916, 4.155, 3.006, 3.948, 4.631, 4.689, 4.046, 4.869, 4.983], [3.823, 4.014, 3.751, 4.981, 4.627, 4.996, 4.009, 5.122, 5.704], [4.667, 3.7, 3.17, 5.67, 5.627, 5.822, 5.435, 5.162, 5.972], [4.521, 3.581, 2.678, 5.633, 7.861, 7.265, 5.806, 5.774, 6.62]]}, \"header\": {\"line\": {\"color\": \"gray\"}, \"values\": [\"Model\", \"Kernel size\", \"Pool\", \"2 Nodes\", \"4 Nodes\", \"8 Nodes\", \"16 Nodes\", \"32 Nodes\", \"64 Nodes\", \"128 Nodes\", \"256 Nodes\", \"512 Nodes\", \"1024 Nodes\"]}, \"type\": \"table\"}],\n",
              "                        {\"height\": 700, \"template\": {\"data\": {\"bar\": [{\"error_x\": {\"color\": \"#2a3f5f\"}, \"error_y\": {\"color\": \"#2a3f5f\"}, \"marker\": {\"line\": {\"color\": \"#E5ECF6\", \"width\": 0.5}}, \"type\": \"bar\"}], \"barpolar\": [{\"marker\": {\"line\": {\"color\": \"#E5ECF6\", \"width\": 0.5}}, \"type\": \"barpolar\"}], \"carpet\": [{\"aaxis\": {\"endlinecolor\": \"#2a3f5f\", \"gridcolor\": \"white\", \"linecolor\": \"white\", \"minorgridcolor\": \"white\", \"startlinecolor\": \"#2a3f5f\"}, \"baxis\": {\"endlinecolor\": \"#2a3f5f\", \"gridcolor\": \"white\", \"linecolor\": \"white\", \"minorgridcolor\": \"white\", \"startlinecolor\": \"#2a3f5f\"}, \"type\": \"carpet\"}], \"choropleth\": [{\"colorbar\": {\"outlinewidth\": 0, \"ticks\": \"\"}, \"type\": \"choropleth\"}], \"contour\": [{\"colorbar\": {\"outlinewidth\": 0, \"ticks\": \"\"}, \"colorscale\": [[0.0, \"#0d0887\"], [0.1111111111111111, \"#46039f\"], [0.2222222222222222, \"#7201a8\"], [0.3333333333333333, \"#9c179e\"], [0.4444444444444444, \"#bd3786\"], [0.5555555555555556, \"#d8576b\"], [0.6666666666666666, \"#ed7953\"], [0.7777777777777778, \"#fb9f3a\"], [0.8888888888888888, \"#fdca26\"], [1.0, \"#f0f921\"]], \"type\": \"contour\"}], \"contourcarpet\": [{\"colorbar\": {\"outlinewidth\": 0, \"ticks\": \"\"}, \"type\": \"contourcarpet\"}], \"heatmap\": [{\"colorbar\": {\"outlinewidth\": 0, \"ticks\": \"\"}, \"colorscale\": [[0.0, \"#0d0887\"], [0.1111111111111111, \"#46039f\"], [0.2222222222222222, \"#7201a8\"], [0.3333333333333333, \"#9c179e\"], [0.4444444444444444, \"#bd3786\"], [0.5555555555555556, \"#d8576b\"], [0.6666666666666666, \"#ed7953\"], [0.7777777777777778, \"#fb9f3a\"], [0.8888888888888888, \"#fdca26\"], [1.0, \"#f0f921\"]], \"type\": \"heatmap\"}], \"heatmapgl\": [{\"colorbar\": {\"outlinewidth\": 0, \"ticks\": \"\"}, \"colorscale\": [[0.0, \"#0d0887\"], [0.1111111111111111, \"#46039f\"], [0.2222222222222222, \"#7201a8\"], [0.3333333333333333, \"#9c179e\"], [0.4444444444444444, \"#bd3786\"], [0.5555555555555556, \"#d8576b\"], [0.6666666666666666, \"#ed7953\"], [0.7777777777777778, \"#fb9f3a\"], [0.8888888888888888, \"#fdca26\"], [1.0, \"#f0f921\"]], \"type\": \"heatmapgl\"}], \"histogram\": [{\"marker\": {\"colorbar\": {\"outlinewidth\": 0, \"ticks\": \"\"}}, \"type\": \"histogram\"}], \"histogram2d\": [{\"colorbar\": {\"outlinewidth\": 0, \"ticks\": \"\"}, \"colorscale\": [[0.0, \"#0d0887\"], [0.1111111111111111, \"#46039f\"], [0.2222222222222222, \"#7201a8\"], [0.3333333333333333, \"#9c179e\"], [0.4444444444444444, \"#bd3786\"], [0.5555555555555556, \"#d8576b\"], [0.6666666666666666, \"#ed7953\"], [0.7777777777777778, \"#fb9f3a\"], [0.8888888888888888, \"#fdca26\"], [1.0, \"#f0f921\"]], \"type\": \"histogram2d\"}], \"histogram2dcontour\": [{\"colorbar\": {\"outlinewidth\": 0, \"ticks\": \"\"}, \"colorscale\": [[0.0, \"#0d0887\"], [0.1111111111111111, \"#46039f\"], [0.2222222222222222, \"#7201a8\"], [0.3333333333333333, \"#9c179e\"], [0.4444444444444444, \"#bd3786\"], [0.5555555555555556, \"#d8576b\"], [0.6666666666666666, \"#ed7953\"], [0.7777777777777778, \"#fb9f3a\"], [0.8888888888888888, \"#fdca26\"], [1.0, \"#f0f921\"]], \"type\": \"histogram2dcontour\"}], \"mesh3d\": [{\"colorbar\": {\"outlinewidth\": 0, \"ticks\": \"\"}, \"type\": \"mesh3d\"}], \"parcoords\": [{\"line\": {\"colorbar\": {\"outlinewidth\": 0, \"ticks\": \"\"}}, \"type\": \"parcoords\"}], \"pie\": [{\"automargin\": true, \"type\": \"pie\"}], \"scatter\": [{\"marker\": {\"colorbar\": {\"outlinewidth\": 0, \"ticks\": \"\"}}, \"type\": \"scatter\"}], \"scatter3d\": [{\"line\": {\"colorbar\": {\"outlinewidth\": 0, \"ticks\": \"\"}}, \"marker\": {\"colorbar\": {\"outlinewidth\": 0, \"ticks\": \"\"}}, \"type\": \"scatter3d\"}], \"scattercarpet\": [{\"marker\": {\"colorbar\": {\"outlinewidth\": 0, \"ticks\": \"\"}}, \"type\": \"scattercarpet\"}], \"scattergeo\": [{\"marker\": {\"colorbar\": {\"outlinewidth\": 0, \"ticks\": \"\"}}, \"type\": \"scattergeo\"}], \"scattergl\": [{\"marker\": {\"colorbar\": {\"outlinewidth\": 0, \"ticks\": \"\"}}, \"type\": \"scattergl\"}], \"scattermapbox\": [{\"marker\": {\"colorbar\": {\"outlinewidth\": 0, \"ticks\": \"\"}}, \"type\": \"scattermapbox\"}], \"scatterpolar\": [{\"marker\": {\"colorbar\": {\"outlinewidth\": 0, \"ticks\": \"\"}}, \"type\": \"scatterpolar\"}], \"scatterpolargl\": [{\"marker\": {\"colorbar\": {\"outlinewidth\": 0, \"ticks\": \"\"}}, \"type\": \"scatterpolargl\"}], \"scatterternary\": [{\"marker\": {\"colorbar\": {\"outlinewidth\": 0, \"ticks\": \"\"}}, \"type\": \"scatterternary\"}], \"surface\": [{\"colorbar\": {\"outlinewidth\": 0, \"ticks\": \"\"}, \"colorscale\": [[0.0, \"#0d0887\"], [0.1111111111111111, \"#46039f\"], [0.2222222222222222, \"#7201a8\"], [0.3333333333333333, \"#9c179e\"], [0.4444444444444444, \"#bd3786\"], [0.5555555555555556, \"#d8576b\"], [0.6666666666666666, \"#ed7953\"], [0.7777777777777778, \"#fb9f3a\"], [0.8888888888888888, \"#fdca26\"], [1.0, \"#f0f921\"]], \"type\": \"surface\"}], \"table\": [{\"cells\": {\"fill\": {\"color\": \"#EBF0F8\"}, \"line\": {\"color\": \"white\"}}, \"header\": {\"fill\": {\"color\": \"#C8D4E3\"}, \"line\": {\"color\": \"white\"}}, \"type\": \"table\"}]}, \"layout\": {\"annotationdefaults\": {\"arrowcolor\": \"#2a3f5f\", \"arrowhead\": 0, \"arrowwidth\": 1}, \"coloraxis\": {\"colorbar\": {\"outlinewidth\": 0, \"ticks\": \"\"}}, \"colorscale\": {\"diverging\": [[0, \"#8e0152\"], [0.1, \"#c51b7d\"], [0.2, \"#de77ae\"], [0.3, \"#f1b6da\"], [0.4, \"#fde0ef\"], [0.5, \"#f7f7f7\"], [0.6, \"#e6f5d0\"], [0.7, \"#b8e186\"], [0.8, \"#7fbc41\"], [0.9, \"#4d9221\"], [1, \"#276419\"]], \"sequential\": [[0.0, \"#0d0887\"], [0.1111111111111111, \"#46039f\"], [0.2222222222222222, \"#7201a8\"], [0.3333333333333333, \"#9c179e\"], [0.4444444444444444, \"#bd3786\"], [0.5555555555555556, \"#d8576b\"], [0.6666666666666666, \"#ed7953\"], [0.7777777777777778, \"#fb9f3a\"], [0.8888888888888888, \"#fdca26\"], [1.0, \"#f0f921\"]], \"sequentialminus\": [[0.0, \"#0d0887\"], [0.1111111111111111, \"#46039f\"], [0.2222222222222222, \"#7201a8\"], [0.3333333333333333, \"#9c179e\"], [0.4444444444444444, \"#bd3786\"], [0.5555555555555556, \"#d8576b\"], [0.6666666666666666, \"#ed7953\"], [0.7777777777777778, \"#fb9f3a\"], [0.8888888888888888, \"#fdca26\"], [1.0, \"#f0f921\"]]}, \"colorway\": [\"#636efa\", \"#EF553B\", \"#00cc96\", \"#ab63fa\", \"#FFA15A\", \"#19d3f3\", \"#FF6692\", \"#B6E880\", \"#FF97FF\", \"#FECB52\"], \"font\": {\"color\": \"#2a3f5f\"}, \"geo\": {\"bgcolor\": \"white\", \"lakecolor\": \"white\", \"landcolor\": \"#E5ECF6\", \"showlakes\": true, \"showland\": true, \"subunitcolor\": \"white\"}, \"hoverlabel\": {\"align\": \"left\"}, \"hovermode\": \"closest\", \"mapbox\": {\"style\": \"light\"}, \"paper_bgcolor\": \"white\", \"plot_bgcolor\": \"#E5ECF6\", \"polar\": {\"angularaxis\": {\"gridcolor\": \"white\", \"linecolor\": \"white\", \"ticks\": \"\"}, \"bgcolor\": \"#E5ECF6\", \"radialaxis\": {\"gridcolor\": \"white\", \"linecolor\": \"white\", \"ticks\": \"\"}}, \"scene\": {\"xaxis\": {\"backgroundcolor\": \"#E5ECF6\", \"gridcolor\": \"white\", \"gridwidth\": 2, \"linecolor\": \"white\", \"showbackground\": true, \"ticks\": \"\", \"zerolinecolor\": \"white\"}, \"yaxis\": {\"backgroundcolor\": \"#E5ECF6\", \"gridcolor\": \"white\", \"gridwidth\": 2, \"linecolor\": \"white\", \"showbackground\": true, \"ticks\": \"\", \"zerolinecolor\": \"white\"}, \"zaxis\": {\"backgroundcolor\": \"#E5ECF6\", \"gridcolor\": \"white\", \"gridwidth\": 2, \"linecolor\": \"white\", \"showbackground\": true, \"ticks\": \"\", \"zerolinecolor\": \"white\"}}, \"shapedefaults\": {\"line\": {\"color\": \"#2a3f5f\"}}, \"ternary\": {\"aaxis\": {\"gridcolor\": \"white\", \"linecolor\": \"white\", \"ticks\": \"\"}, \"baxis\": {\"gridcolor\": \"white\", \"linecolor\": \"white\", \"ticks\": \"\"}, \"bgcolor\": \"#E5ECF6\", \"caxis\": {\"gridcolor\": \"white\", \"linecolor\": \"white\", \"ticks\": \"\"}}, \"title\": {\"x\": 0.05}, \"xaxis\": {\"automargin\": true, \"gridcolor\": \"white\", \"linecolor\": \"white\", \"ticks\": \"\", \"title\": {\"standoff\": 15}, \"zerolinecolor\": \"white\", \"zerolinewidth\": 2}, \"yaxis\": {\"automargin\": true, \"gridcolor\": \"white\", \"linecolor\": \"white\", \"ticks\": \"\", \"title\": {\"standoff\": 15}, \"zerolinecolor\": \"white\", \"zerolinewidth\": 2}}}, \"title\": {\"text\": \"Parameter Tunings Mean Absolute Percentage Error: Multivariate Confirmed Cases\", \"x\": 0.5}, \"width\": 1200},\n",
              "                        {\"responsive\": true}\n",
              "                    ).then(function(){\n",
              "                            \n",
              "var gd = document.getElementById('c2fd461b-036d-4ccf-bbd9-753e8439ec83');\n",
              "var x = new MutationObserver(function (mutations, observer) {{\n",
              "        var display = window.getComputedStyle(gd).display;\n",
              "        if (!display || display === 'none') {{\n",
              "            console.log([gd, 'removed!']);\n",
              "            Plotly.purge(gd);\n",
              "            observer.disconnect();\n",
              "        }}\n",
              "}});\n",
              "\n",
              "// Listen for the removal of the full notebook cells\n",
              "var notebookContainer = gd.closest('#notebook-container');\n",
              "if (notebookContainer) {{\n",
              "    x.observe(notebookContainer, {childList: true});\n",
              "}}\n",
              "\n",
              "// Listen for the clearing of the current output cell\n",
              "var outputEl = gd.closest('.output');\n",
              "if (outputEl) {{\n",
              "    x.observe(outputEl, {childList: true});\n",
              "}}\n",
              "\n",
              "                        })\n",
              "                };\n",
              "                \n",
              "            </script>\n",
              "        </div>\n",
              "</body>\n",
              "</html>"
            ]
          },
          "metadata": {}
        }
      ]
    },
    {
      "cell_type": "markdown",
      "metadata": {
        "id": "jjt0C2lR5puq"
      },
      "source": [
        "#### Multivariate Confirmed Deaths"
      ]
    },
    {
      "cell_type": "code",
      "metadata": {
        "colab": {
          "base_uri": "https://localhost:8080/",
          "height": 737
        },
        "id": "tEs71xle1nbi",
        "outputId": "a8c73d36-e4a0-4f0f-cd33-718f33d7227a"
      },
      "source": [
        "fig = go.Figure(data=[go.Table(header=dict(values=['Model', 'Kernel size', 'Pool', '2 Nodes','4 Nodes', '8 Nodes', '16 Nodes', '32 Nodes',\n",
        "                                                   \"64 Nodes\", '128 Nodes', '256 Nodes', '512 Nodes' , '1024 Nodes'],\n",
        "                                           line_color = 'gray'),\n",
        "                               cells=dict(values=[['LSTM', 'GRU', 'RNNs', 'CNN',\n",
        "                                                   'CNN', 'CNN', 'CNN', 'CNN', 'CNN'],\n",
        "                                                  ['-', '-', '-', '3', '5', '7', '3', '5', '7'],\n",
        "                                                  ['-', '-', '-', '2', '2', '2', '3', '3', '3'],\n",
        "                                    [round(lstm_d_multi[0],3), \n",
        "                                     round(gru_d_multi[0],3),\n",
        "                                     round(rnn_d_multi[0],3), \n",
        "                                     round(cnn_d_multi.iloc[0,0],3),\n",
        "                                     round(cnn_d_multi.iloc[0,1],3),\n",
        "                                     round(cnn_d_multi.iloc[0,2],3),\n",
        "                                     round(cnn_d_multi.iloc[0,3],3),\n",
        "                                     round(cnn_d_multi.iloc[0,4],3),\n",
        "                                     round(cnn_d_multi.iloc[0,5],3)],\n",
        "                                     [round(lstm_d_multi[1],3), \n",
        "                                     round(gru_d_multi[1],3),\n",
        "                                     round(rnn_d_multi[1],3), \n",
        "                                     round(cnn_d_multi.iloc[1,0],3),\n",
        "                                     round(cnn_d_multi.iloc[1,1],3),\n",
        "                                     round(cnn_d_multi.iloc[1,2],3),\n",
        "                                     round(cnn_d_multi.iloc[1,3],3),\n",
        "                                     round(cnn_d_multi.iloc[1,4],3),\n",
        "                                     round(cnn_d_multi.iloc[1,5],3)],\n",
        "                                     [round(lstm_d_multi[2],3), \n",
        "                                     round(gru_d_multi[2],3),\n",
        "                                     round(rnn_d_multi[2],3), \n",
        "                                     round(cnn_d_multi.iloc[2,0],3),\n",
        "                                     round(cnn_d_multi.iloc[2,1],3),\n",
        "                                     round(cnn_d_multi.iloc[2,2],3),\n",
        "                                     round(cnn_d_multi.iloc[2,3],3),\n",
        "                                     round(cnn_d_multi.iloc[2,4],3),\n",
        "                                     round(cnn_d_multi.iloc[2,5],3)],\n",
        "                                     [round(lstm_d_multi[3],3), \n",
        "                                     round(gru_d_multi[3],3),\n",
        "                                     round(rnn_d_multi[3],3), \n",
        "                                     round(cnn_d_multi.iloc[3,0],3),\n",
        "                                     round(cnn_d_multi.iloc[3,1],3),\n",
        "                                     round(cnn_d_multi.iloc[3,2],3),\n",
        "                                     round(cnn_d_multi.iloc[3,3],3),\n",
        "                                     round(cnn_d_multi.iloc[3,4],3),\n",
        "                                     round(cnn_d_multi.iloc[3,5],3)],\n",
        "                                     [round(lstm_d_multi[4],3), \n",
        "                                     round(gru_d_multi[4],3),\n",
        "                                     round(rnn_d_multi[4],3), \n",
        "                                     round(cnn_d_multi.iloc[4,0],3),\n",
        "                                     round(cnn_d_multi.iloc[4,1],3),\n",
        "                                     round(cnn_d_multi.iloc[4,2],3),\n",
        "                                     round(cnn_d_multi.iloc[4,3],3),\n",
        "                                     round(cnn_d_multi.iloc[4,4],3),\n",
        "                                     round(cnn_d_multi.iloc[4,5],3)],\n",
        "                                     [round(lstm_d_multi[5],3), \n",
        "                                     round(gru_d_multi[5],3),\n",
        "                                     round(rnn_d_multi[5],3), \n",
        "                                     round(cnn_d_multi.iloc[5,0],3),\n",
        "                                     round(cnn_d_multi.iloc[5,1],3),\n",
        "                                     round(cnn_d_multi.iloc[5,2],3),\n",
        "                                     round(cnn_d_multi.iloc[5,3],3),\n",
        "                                     round(cnn_d_multi.iloc[5,4],3),\n",
        "                                     round(cnn_d_multi.iloc[5,5],3)],\n",
        "                                     [round(lstm_d_multi[6],3), \n",
        "                                     round(gru_d_multi[6],3),\n",
        "                                     round(rnn_d_multi[6],3), \n",
        "                                     round(cnn_d_multi.iloc[6,0],3),\n",
        "                                     round(cnn_d_multi.iloc[6,1],3),\n",
        "                                     round(cnn_d_multi.iloc[6,2],3),\n",
        "                                     round(cnn_d_multi.iloc[6,3],3),\n",
        "                                     round(cnn_d_multi.iloc[6,4],3),\n",
        "                                     round(cnn_d_multi.iloc[6,5],3)],\n",
        "                                     [round(lstm_d_multi[7],3), \n",
        "                                     round(gru_d_multi[7],3),\n",
        "                                     round(rnn_d_multi[7],3), \n",
        "                                     round(cnn_d_multi.iloc[7,0],3),\n",
        "                                     round(cnn_d_multi.iloc[7,1],3),\n",
        "                                     round(cnn_d_multi.iloc[7,2],3),\n",
        "                                     round(cnn_d_multi.iloc[7,3],3),\n",
        "                                     round(cnn_d_multi.iloc[7,4],3),\n",
        "                                     round(cnn_d_multi.iloc[7,5],3)],\n",
        "                                     [round(lstm_d_multi[8],3), \n",
        "                                     round(gru_d_multi[8],3),\n",
        "                                     round(rnn_d_multi[8],3), \n",
        "                                     round(cnn_d_multi.iloc[8,0],3),\n",
        "                                     round(cnn_d_multi.iloc[8,1],3),\n",
        "                                     round(cnn_d_multi.iloc[8,2],3),\n",
        "                                     round(cnn_d_multi.iloc[8,3],3),\n",
        "                                     round(cnn_d_multi.iloc[8,4],3),\n",
        "                                     round(cnn_d_multi.iloc[8,5],3)],\n",
        "                                     [round(lstm_d_multi[9],3), \n",
        "                                     round(gru_d_multi[9],3),\n",
        "                                     round(rnn_d_multi[9],3), \n",
        "                                     round(cnn_d_multi.iloc[9,0],3),\n",
        "                                     round(cnn_d_multi.iloc[9,1],3),\n",
        "                                     round(cnn_d_multi.iloc[9,2],3),\n",
        "                                     round(cnn_d_multi.iloc[9,3],3),\n",
        "                                     round(cnn_d_multi.iloc[9,4],3),\n",
        "                                     round(cnn_d_multi.iloc[9,5],3)]],\n",
        "                            align=['left','center', 'center', \n",
        "                                   'right','right','right',\n",
        "                                   'right','right','right',\n",
        "                                   'right','right','right','right'],\n",
        "                            fill_color = 'white',\n",
        "                            line_color = 'gray'))\n",
        "                     ])\n",
        "fig.update_layout(title = \"Parameter Tunings Mean Absolute Percentage Error: Multivariate Confirmed Deaths\",\n",
        "                  title_x=0.5, height = 700, width = 1200)\n",
        "fig.show()"
      ],
      "execution_count": 24,
      "outputs": [
        {
          "output_type": "display_data",
          "data": {
            "text/html": [
              "<html>\n",
              "<head><meta charset=\"utf-8\" /></head>\n",
              "<body>\n",
              "    <div>\n",
              "            <script src=\"https://cdnjs.cloudflare.com/ajax/libs/mathjax/2.7.5/MathJax.js?config=TeX-AMS-MML_SVG\"></script><script type=\"text/javascript\">if (window.MathJax) {MathJax.Hub.Config({SVG: {font: \"STIX-Web\"}});}</script>\n",
              "                <script type=\"text/javascript\">window.PlotlyConfig = {MathJaxConfig: 'local'};</script>\n",
              "        <script src=\"https://cdn.plot.ly/plotly-latest.min.js\"></script>    \n",
              "            <div id=\"0ec81831-0fb5-4011-9fa0-f340543e2c5d\" class=\"plotly-graph-div\" style=\"height:700px; width:1200px;\"></div>\n",
              "            <script type=\"text/javascript\">\n",
              "                \n",
              "                    window.PLOTLYENV=window.PLOTLYENV || {};\n",
              "                    \n",
              "                if (document.getElementById(\"0ec81831-0fb5-4011-9fa0-f340543e2c5d\")) {\n",
              "                    Plotly.newPlot(\n",
              "                        '0ec81831-0fb5-4011-9fa0-f340543e2c5d',\n",
              "                        [{\"cells\": {\"align\": [\"left\", \"center\", \"center\", \"right\", \"right\", \"right\", \"right\", \"right\", \"right\", \"right\", \"right\", \"right\", \"right\"], \"fill\": {\"color\": \"white\"}, \"line\": {\"color\": \"gray\"}, \"values\": [[\"LSTM\", \"GRU\", \"RNNs\", \"CNN\", \"CNN\", \"CNN\", \"CNN\", \"CNN\", \"CNN\"], [\"-\", \"-\", \"-\", \"3\", \"5\", \"7\", \"3\", \"5\", \"7\"], [\"-\", \"-\", \"-\", \"2\", \"2\", \"2\", \"3\", \"3\", \"3\"], [9.647, 98.116, 11.271, 10.754, 9.726, 9.512, 9.588, 8.739, 7.365], [61.288, 7.213, 9.261, 9.144, 11.023, 98.119, 8.856, 8.839, 8.572], [25.725, 8.096, 7.691, 8.174, 9.366, 6.952, 9.988, 98.116, 9.249], [8.231, 5.382, 6.385, 5.197, 4.248, 4.951, 5.708, 6.621, 6.539], [9.826, 4.094, 5.643, 4.147, 4.66, 3.485, 4.673, 4.305, 3.6], [9.09, 6.529, 3.38, 8.887, 6.207, 10.182, 3.253, 4.214, 6.6], [6.92, 6.097, 5.383, 5.115, 5.158, 4.849, 13.251, 4.295, 5.347], [12.899, 4.08, 11.92, 11.669, 4.055, 3.748, 12.266, 6.607, 3.137], [11.059, 4.903, 5.848, 5.169, 5.129, 6.351, 9.76, 3.965, 4.047], [16.758, 5.627, 8.323, 5.766, 7.209, 9.533, 5.682, 7.646, 4.254]]}, \"header\": {\"line\": {\"color\": \"gray\"}, \"values\": [\"Model\", \"Kernel size\", \"Pool\", \"2 Nodes\", \"4 Nodes\", \"8 Nodes\", \"16 Nodes\", \"32 Nodes\", \"64 Nodes\", \"128 Nodes\", \"256 Nodes\", \"512 Nodes\", \"1024 Nodes\"]}, \"type\": \"table\"}],\n",
              "                        {\"height\": 700, \"template\": {\"data\": {\"bar\": [{\"error_x\": {\"color\": \"#2a3f5f\"}, \"error_y\": {\"color\": \"#2a3f5f\"}, \"marker\": {\"line\": {\"color\": \"#E5ECF6\", \"width\": 0.5}}, \"type\": \"bar\"}], \"barpolar\": [{\"marker\": {\"line\": {\"color\": \"#E5ECF6\", \"width\": 0.5}}, \"type\": \"barpolar\"}], \"carpet\": [{\"aaxis\": {\"endlinecolor\": \"#2a3f5f\", \"gridcolor\": \"white\", \"linecolor\": \"white\", \"minorgridcolor\": \"white\", \"startlinecolor\": \"#2a3f5f\"}, \"baxis\": {\"endlinecolor\": \"#2a3f5f\", \"gridcolor\": \"white\", \"linecolor\": \"white\", \"minorgridcolor\": \"white\", \"startlinecolor\": \"#2a3f5f\"}, \"type\": \"carpet\"}], \"choropleth\": [{\"colorbar\": {\"outlinewidth\": 0, \"ticks\": \"\"}, \"type\": \"choropleth\"}], \"contour\": [{\"colorbar\": {\"outlinewidth\": 0, \"ticks\": \"\"}, \"colorscale\": [[0.0, \"#0d0887\"], [0.1111111111111111, \"#46039f\"], [0.2222222222222222, \"#7201a8\"], [0.3333333333333333, \"#9c179e\"], [0.4444444444444444, \"#bd3786\"], [0.5555555555555556, \"#d8576b\"], [0.6666666666666666, \"#ed7953\"], [0.7777777777777778, \"#fb9f3a\"], [0.8888888888888888, \"#fdca26\"], [1.0, \"#f0f921\"]], \"type\": \"contour\"}], \"contourcarpet\": [{\"colorbar\": {\"outlinewidth\": 0, \"ticks\": \"\"}, \"type\": \"contourcarpet\"}], \"heatmap\": [{\"colorbar\": {\"outlinewidth\": 0, \"ticks\": \"\"}, \"colorscale\": [[0.0, \"#0d0887\"], [0.1111111111111111, \"#46039f\"], [0.2222222222222222, \"#7201a8\"], [0.3333333333333333, \"#9c179e\"], [0.4444444444444444, \"#bd3786\"], [0.5555555555555556, \"#d8576b\"], [0.6666666666666666, \"#ed7953\"], [0.7777777777777778, \"#fb9f3a\"], [0.8888888888888888, \"#fdca26\"], [1.0, \"#f0f921\"]], \"type\": \"heatmap\"}], \"heatmapgl\": [{\"colorbar\": {\"outlinewidth\": 0, \"ticks\": \"\"}, \"colorscale\": [[0.0, \"#0d0887\"], [0.1111111111111111, \"#46039f\"], [0.2222222222222222, \"#7201a8\"], [0.3333333333333333, \"#9c179e\"], [0.4444444444444444, \"#bd3786\"], [0.5555555555555556, \"#d8576b\"], [0.6666666666666666, \"#ed7953\"], [0.7777777777777778, \"#fb9f3a\"], [0.8888888888888888, \"#fdca26\"], [1.0, \"#f0f921\"]], \"type\": \"heatmapgl\"}], \"histogram\": [{\"marker\": {\"colorbar\": {\"outlinewidth\": 0, \"ticks\": \"\"}}, \"type\": \"histogram\"}], \"histogram2d\": [{\"colorbar\": {\"outlinewidth\": 0, \"ticks\": \"\"}, \"colorscale\": [[0.0, \"#0d0887\"], [0.1111111111111111, \"#46039f\"], [0.2222222222222222, \"#7201a8\"], [0.3333333333333333, \"#9c179e\"], [0.4444444444444444, \"#bd3786\"], [0.5555555555555556, \"#d8576b\"], [0.6666666666666666, \"#ed7953\"], [0.7777777777777778, \"#fb9f3a\"], [0.8888888888888888, \"#fdca26\"], [1.0, \"#f0f921\"]], \"type\": \"histogram2d\"}], \"histogram2dcontour\": [{\"colorbar\": {\"outlinewidth\": 0, \"ticks\": \"\"}, \"colorscale\": [[0.0, \"#0d0887\"], [0.1111111111111111, \"#46039f\"], [0.2222222222222222, \"#7201a8\"], [0.3333333333333333, \"#9c179e\"], [0.4444444444444444, \"#bd3786\"], [0.5555555555555556, \"#d8576b\"], [0.6666666666666666, \"#ed7953\"], [0.7777777777777778, \"#fb9f3a\"], [0.8888888888888888, \"#fdca26\"], [1.0, \"#f0f921\"]], \"type\": \"histogram2dcontour\"}], \"mesh3d\": [{\"colorbar\": {\"outlinewidth\": 0, \"ticks\": \"\"}, \"type\": \"mesh3d\"}], \"parcoords\": [{\"line\": {\"colorbar\": {\"outlinewidth\": 0, \"ticks\": \"\"}}, \"type\": \"parcoords\"}], \"pie\": [{\"automargin\": true, \"type\": \"pie\"}], \"scatter\": [{\"marker\": {\"colorbar\": {\"outlinewidth\": 0, \"ticks\": \"\"}}, \"type\": \"scatter\"}], \"scatter3d\": [{\"line\": {\"colorbar\": {\"outlinewidth\": 0, \"ticks\": \"\"}}, \"marker\": {\"colorbar\": {\"outlinewidth\": 0, \"ticks\": \"\"}}, \"type\": \"scatter3d\"}], \"scattercarpet\": [{\"marker\": {\"colorbar\": {\"outlinewidth\": 0, \"ticks\": \"\"}}, \"type\": \"scattercarpet\"}], \"scattergeo\": [{\"marker\": {\"colorbar\": {\"outlinewidth\": 0, \"ticks\": \"\"}}, \"type\": \"scattergeo\"}], \"scattergl\": [{\"marker\": {\"colorbar\": {\"outlinewidth\": 0, \"ticks\": \"\"}}, \"type\": \"scattergl\"}], \"scattermapbox\": [{\"marker\": {\"colorbar\": {\"outlinewidth\": 0, \"ticks\": \"\"}}, \"type\": \"scattermapbox\"}], \"scatterpolar\": [{\"marker\": {\"colorbar\": {\"outlinewidth\": 0, \"ticks\": \"\"}}, \"type\": \"scatterpolar\"}], \"scatterpolargl\": [{\"marker\": {\"colorbar\": {\"outlinewidth\": 0, \"ticks\": \"\"}}, \"type\": \"scatterpolargl\"}], \"scatterternary\": [{\"marker\": {\"colorbar\": {\"outlinewidth\": 0, \"ticks\": \"\"}}, \"type\": \"scatterternary\"}], \"surface\": [{\"colorbar\": {\"outlinewidth\": 0, \"ticks\": \"\"}, \"colorscale\": [[0.0, \"#0d0887\"], [0.1111111111111111, \"#46039f\"], [0.2222222222222222, \"#7201a8\"], [0.3333333333333333, \"#9c179e\"], [0.4444444444444444, \"#bd3786\"], [0.5555555555555556, \"#d8576b\"], [0.6666666666666666, \"#ed7953\"], [0.7777777777777778, \"#fb9f3a\"], [0.8888888888888888, \"#fdca26\"], [1.0, \"#f0f921\"]], \"type\": \"surface\"}], \"table\": [{\"cells\": {\"fill\": {\"color\": \"#EBF0F8\"}, \"line\": {\"color\": \"white\"}}, \"header\": {\"fill\": {\"color\": \"#C8D4E3\"}, \"line\": {\"color\": \"white\"}}, \"type\": \"table\"}]}, \"layout\": {\"annotationdefaults\": {\"arrowcolor\": \"#2a3f5f\", \"arrowhead\": 0, \"arrowwidth\": 1}, \"coloraxis\": {\"colorbar\": {\"outlinewidth\": 0, \"ticks\": \"\"}}, \"colorscale\": {\"diverging\": [[0, \"#8e0152\"], [0.1, \"#c51b7d\"], [0.2, \"#de77ae\"], [0.3, \"#f1b6da\"], [0.4, \"#fde0ef\"], [0.5, \"#f7f7f7\"], [0.6, \"#e6f5d0\"], [0.7, \"#b8e186\"], [0.8, \"#7fbc41\"], [0.9, \"#4d9221\"], [1, \"#276419\"]], \"sequential\": [[0.0, \"#0d0887\"], [0.1111111111111111, \"#46039f\"], [0.2222222222222222, \"#7201a8\"], [0.3333333333333333, \"#9c179e\"], [0.4444444444444444, \"#bd3786\"], [0.5555555555555556, \"#d8576b\"], [0.6666666666666666, \"#ed7953\"], [0.7777777777777778, \"#fb9f3a\"], [0.8888888888888888, \"#fdca26\"], [1.0, \"#f0f921\"]], \"sequentialminus\": [[0.0, \"#0d0887\"], [0.1111111111111111, \"#46039f\"], [0.2222222222222222, \"#7201a8\"], [0.3333333333333333, \"#9c179e\"], [0.4444444444444444, \"#bd3786\"], [0.5555555555555556, \"#d8576b\"], [0.6666666666666666, \"#ed7953\"], [0.7777777777777778, \"#fb9f3a\"], [0.8888888888888888, \"#fdca26\"], [1.0, \"#f0f921\"]]}, \"colorway\": [\"#636efa\", \"#EF553B\", \"#00cc96\", \"#ab63fa\", \"#FFA15A\", \"#19d3f3\", \"#FF6692\", \"#B6E880\", \"#FF97FF\", \"#FECB52\"], \"font\": {\"color\": \"#2a3f5f\"}, \"geo\": {\"bgcolor\": \"white\", \"lakecolor\": \"white\", \"landcolor\": \"#E5ECF6\", \"showlakes\": true, \"showland\": true, \"subunitcolor\": \"white\"}, \"hoverlabel\": {\"align\": \"left\"}, \"hovermode\": \"closest\", \"mapbox\": {\"style\": \"light\"}, \"paper_bgcolor\": \"white\", \"plot_bgcolor\": \"#E5ECF6\", \"polar\": {\"angularaxis\": {\"gridcolor\": \"white\", \"linecolor\": \"white\", \"ticks\": \"\"}, \"bgcolor\": \"#E5ECF6\", \"radialaxis\": {\"gridcolor\": \"white\", \"linecolor\": \"white\", \"ticks\": \"\"}}, \"scene\": {\"xaxis\": {\"backgroundcolor\": \"#E5ECF6\", \"gridcolor\": \"white\", \"gridwidth\": 2, \"linecolor\": \"white\", \"showbackground\": true, \"ticks\": \"\", \"zerolinecolor\": \"white\"}, \"yaxis\": {\"backgroundcolor\": \"#E5ECF6\", \"gridcolor\": \"white\", \"gridwidth\": 2, \"linecolor\": \"white\", \"showbackground\": true, \"ticks\": \"\", \"zerolinecolor\": \"white\"}, \"zaxis\": {\"backgroundcolor\": \"#E5ECF6\", \"gridcolor\": \"white\", \"gridwidth\": 2, \"linecolor\": \"white\", \"showbackground\": true, \"ticks\": \"\", \"zerolinecolor\": \"white\"}}, \"shapedefaults\": {\"line\": {\"color\": \"#2a3f5f\"}}, \"ternary\": {\"aaxis\": {\"gridcolor\": \"white\", \"linecolor\": \"white\", \"ticks\": \"\"}, \"baxis\": {\"gridcolor\": \"white\", \"linecolor\": \"white\", \"ticks\": \"\"}, \"bgcolor\": \"#E5ECF6\", \"caxis\": {\"gridcolor\": \"white\", \"linecolor\": \"white\", \"ticks\": \"\"}}, \"title\": {\"x\": 0.05}, \"xaxis\": {\"automargin\": true, \"gridcolor\": \"white\", \"linecolor\": \"white\", \"ticks\": \"\", \"title\": {\"standoff\": 15}, \"zerolinecolor\": \"white\", \"zerolinewidth\": 2}, \"yaxis\": {\"automargin\": true, \"gridcolor\": \"white\", \"linecolor\": \"white\", \"ticks\": \"\", \"title\": {\"standoff\": 15}, \"zerolinecolor\": \"white\", \"zerolinewidth\": 2}}}, \"title\": {\"text\": \"Parameter Tunings Mean Absolute Percentage Error: Multivariate Confirmed Deaths\", \"x\": 0.5}, \"width\": 1200},\n",
              "                        {\"responsive\": true}\n",
              "                    ).then(function(){\n",
              "                            \n",
              "var gd = document.getElementById('0ec81831-0fb5-4011-9fa0-f340543e2c5d');\n",
              "var x = new MutationObserver(function (mutations, observer) {{\n",
              "        var display = window.getComputedStyle(gd).display;\n",
              "        if (!display || display === 'none') {{\n",
              "            console.log([gd, 'removed!']);\n",
              "            Plotly.purge(gd);\n",
              "            observer.disconnect();\n",
              "        }}\n",
              "}});\n",
              "\n",
              "// Listen for the removal of the full notebook cells\n",
              "var notebookContainer = gd.closest('#notebook-container');\n",
              "if (notebookContainer) {{\n",
              "    x.observe(notebookContainer, {childList: true});\n",
              "}}\n",
              "\n",
              "// Listen for the clearing of the current output cell\n",
              "var outputEl = gd.closest('.output');\n",
              "if (outputEl) {{\n",
              "    x.observe(outputEl, {childList: true});\n",
              "}}\n",
              "\n",
              "                        })\n",
              "                };\n",
              "                \n",
              "            </script>\n",
              "        </div>\n",
              "</body>\n",
              "</html>"
            ]
          },
          "metadata": {}
        }
      ]
    },
    {
      "cell_type": "markdown",
      "metadata": {
        "id": "vc5YHb2g7fIF"
      },
      "source": [
        "## Training and Validation\n",
        "\n",
        "---\n",
        "\n",
        "After models were selected, using the training data set, we adjusted and trained the models to get the prediction with the lowest MAPE. We, then, used test samples for model validations and combined predicted values from both training and test sets together. This was only for illustration purpose.\n"
      ]
    },
    {
      "cell_type": "markdown",
      "metadata": {
        "id": "_TID0eqpymUJ"
      },
      "source": [
        "### Univariate Confirmed Cases"
      ]
    },
    {
      "cell_type": "code",
      "metadata": {
        "colab": {
          "base_uri": "https://localhost:8080/"
        },
        "id": "-IwVQacQylZ8",
        "outputId": "6d83886d-d767-4bbb-81d9-642cece21b60"
      },
      "source": [
        "seed(1)\n",
        "tensorflow.random.set_seed(1)\n",
        "\n",
        "model_uni_i = Sequential()\n",
        "model_uni_i.add(SimpleRNN(units = 32, activation='relu', input_shape=(X_d_tr.shape[1], X_d_tr.shape[2])))\n",
        "model_uni_i.add(Dense(1, activation = \"linear\"))\n",
        "model_uni_i.compile(loss='mse', optimizer='adam', metrics = \"MAPE\")\n",
        "\n",
        "# fit network\n",
        "model_uni_i.fit(X_i_tr, y_i_tr, \n",
        "                           epochs=50, \n",
        "                           batch_size=1, \n",
        "                           verbose=0, \n",
        "                           shuffle=False)\n",
        "\n",
        "scores_uni_i1 = model_uni_i.evaluate(X_i_tr, y_i_tr, verbose=0)\n",
        "\n",
        "# MAPE\n",
        "print(\"MAPE: training = \",scores_uni_i1[1])\n",
        "\n",
        "scores_uni_i = model_uni_i.evaluate(X_i_ts, y_i_ts, verbose=0)\n",
        "\n",
        "# MAPE\n",
        "print(\"MAPE: test = \",scores_uni_i[1])"
      ],
      "execution_count": 25,
      "outputs": [
        {
          "output_type": "stream",
          "name": "stdout",
          "text": [
            "MAPE: training =  2.856912612915039\n",
            "MAPE: test =  12.099376678466797\n"
          ]
        }
      ]
    },
    {
      "cell_type": "code",
      "metadata": {
        "id": "DfAOIynPyC7b"
      },
      "source": [
        "# make a prediction\n",
        "# training set\n",
        "y_uni_i_tr = pd.DataFrame(model_uni_i.predict(X_i_tr))\n",
        "\n",
        "# test set\n",
        "y_uni_i_ts = pd.DataFrame(model_uni_i.predict(X_i_ts))\n",
        "\n",
        "# combine training and test predictions\n",
        "y_uni_i_total = pd.concat([y_uni_i_tr, y_uni_i_ts], ignore_index=True)\n"
      ],
      "execution_count": 26,
      "outputs": []
    },
    {
      "cell_type": "markdown",
      "metadata": {
        "id": "8nHH_zo7x6ID"
      },
      "source": [
        "### Univariate Confirmed Deaths"
      ]
    },
    {
      "cell_type": "code",
      "metadata": {
        "colab": {
          "base_uri": "https://localhost:8080/"
        },
        "id": "izeC4sF6yCJS",
        "outputId": "e3088820-6b63-4623-f7f3-55e97b1a673b"
      },
      "source": [
        "seed(1)\n",
        "tensorflow.random.set_seed(1)\n",
        "\n",
        "model_uni_d = Sequential()\n",
        "model_uni_d.add(LSTM(32, activation='relu', input_shape=(X_d_tr.shape[1], X_d_tr.shape[2])))\n",
        "model_uni_d.add(Dense(1, activation = \"linear\"))\n",
        "model_uni_d.compile(loss='mse', optimizer='adam', metrics = \"MAPE\")\n",
        "\n",
        "# fit network\n",
        "model_uni_d.fit(X_d_tr, y_d_tr, \n",
        "                           epochs=50, \n",
        "                           batch_size=1, \n",
        "                           verbose=0, \n",
        "                           shuffle=False)\n",
        "\n",
        "scores_uni_d1 = model_uni_d.evaluate(X_d_tr, y_d_tr, verbose=0)\n",
        "\n",
        "# MAPE\n",
        "print(\"MAPE: training = \",scores_uni_d1[1])\n",
        "\n",
        "scores_uni_d = model_uni_d.evaluate(X_d_ts, y_d_ts, verbose=0)\n",
        "\n",
        "# MAPE\n",
        "print(\"MAPE: test = \",scores_uni_d[1])"
      ],
      "execution_count": 27,
      "outputs": [
        {
          "output_type": "stream",
          "name": "stdout",
          "text": [
            "MAPE: training =  5.386639595031738\n",
            "MAPE: test =  7.061454772949219\n"
          ]
        }
      ]
    },
    {
      "cell_type": "code",
      "metadata": {
        "id": "kDUebMKdyC4P"
      },
      "source": [
        "# make a prediction\n",
        "# training set\n",
        "y_uni_d_tr = pd.DataFrame(model_uni_d.predict(X_d_tr))\n",
        "\n",
        "# test set\n",
        "y_uni_d_ts = pd.DataFrame(model_uni_d.predict(X_d_ts))\n",
        "\n",
        "# combine training and test predictions\n",
        "y_uni_d_total = pd.concat([y_uni_d_tr, y_uni_d_ts], ignore_index=True)\n"
      ],
      "execution_count": 28,
      "outputs": []
    },
    {
      "cell_type": "markdown",
      "metadata": {
        "id": "7X0mIDbGFxE0"
      },
      "source": [
        "### Multivariate Confirmed Cases"
      ]
    },
    {
      "cell_type": "code",
      "metadata": {
        "id": "LQbv37lbF0FY",
        "colab": {
          "base_uri": "https://localhost:8080/"
        },
        "outputId": "4573cbd4-4a9f-443c-f003-245fdbee70a9"
      },
      "source": [
        "seed(1)\n",
        "tensorflow.random.set_seed(1)\n",
        "\n",
        "model_multi_i = Sequential()\n",
        "model_multi_i.add(SimpleRNN(1024, activation='relu', input_shape=(X_i_p_tr.shape[1], X_i_p_tr.shape[2])))\n",
        "model_multi_i.add(Dense(1, activation = \"linear\"))\n",
        "model_multi_i.compile(loss='mse', optimizer='adam', metrics = \"MAPE\")\n",
        "\n",
        "# fit network\n",
        "model_multi_i.fit(X_i_p_tr, y_i_p_tr, \n",
        "                           epochs=50, \n",
        "                           batch_size=1, \n",
        "                           verbose=0, \n",
        "                           shuffle=False)\n",
        "\n",
        "\n",
        "scores_multi_i1 = model_multi_i.evaluate(X_i_p_tr, y_i_p_tr, verbose=0)\n",
        "\n",
        "# MAPE\n",
        "print(\"MAPE: training = \",scores_multi_i1[1])\n",
        "\n",
        "scores_multi_i = model_multi_i.evaluate(X_i_p_ts, y_i_p_ts, verbose=0)\n",
        "\n",
        "# MAPE\n",
        "print(\"MAPE: test = \",scores_multi_i[1])"
      ],
      "execution_count": 29,
      "outputs": [
        {
          "output_type": "stream",
          "name": "stdout",
          "text": [
            "MAPE: training =  2.67783260345459\n",
            "MAPE: test =  2.4436635971069336\n"
          ]
        }
      ]
    },
    {
      "cell_type": "code",
      "metadata": {
        "id": "PGGnOECzF0MN"
      },
      "source": [
        "# make a prediction\n",
        "# training set\n",
        "y_multi_i_tr = pd.DataFrame(model_multi_i.predict(X_i_p_tr))\n",
        "\n",
        "# test set\n",
        "y_multi_i_ts = pd.DataFrame(model_multi_i.predict(X_i_p_ts))\n",
        "\n",
        "# combine training and test predictions\n",
        "y_multi_i_total = pd.concat([y_multi_i_tr, y_multi_i_ts], ignore_index=True)\n"
      ],
      "execution_count": 30,
      "outputs": []
    },
    {
      "cell_type": "markdown",
      "metadata": {
        "id": "LX_viW2LFOgn"
      },
      "source": [
        "### Multivariate Confirmed Deaths"
      ]
    },
    {
      "cell_type": "code",
      "metadata": {
        "id": "ETqGykawFR0f",
        "colab": {
          "base_uri": "https://localhost:8080/"
        },
        "outputId": "0de4bbef-2728-493f-b22a-e39ad87f7a5d"
      },
      "source": [
        "seed(1)\n",
        "tensorflow.random.set_seed(1)\n",
        "\n",
        "model_multi_d = Sequential()\n",
        "model_multi_d.add(SimpleRNN(64, activation = 'relu', input_shape=(X_d_p_tr.shape[1], X_d_p_tr.shape[2])))\n",
        "model_multi_d.add(Dense(1, activation = \"linear\"))\n",
        "model_multi_d.compile(loss='mse', optimizer='adam', metrics = \"MAPE\")\n",
        "\n",
        "# fit network\n",
        "model_multi_d.fit(X_d_p_tr, y_d_p_tr, \n",
        "                           epochs=50, \n",
        "                           batch_size=1, \n",
        "                           verbose=0, \n",
        "                           shuffle=False)\n",
        "\n",
        "scores_multi_d1 = model_multi_d.evaluate(X_d_p_tr, y_d_p_tr, verbose=0)\n",
        "\n",
        "# MAPE\n",
        "print(\"MAPE: training = \",scores_multi_d1[1])\n",
        "\n",
        "scores_multi_d = model_multi_d.evaluate(X_d_p_ts, y_d_p_ts, verbose=0)\n",
        "\n",
        "# MAPE\n",
        "print(\"MAPE: test = \",scores_multi_d[1])"
      ],
      "execution_count": 31,
      "outputs": [
        {
          "output_type": "stream",
          "name": "stdout",
          "text": [
            "WARNING:tensorflow:5 out of the last 38 calls to <function Model.make_test_function.<locals>.test_function at 0x7f251a983950> triggered tf.function retracing. Tracing is expensive and the excessive number of tracings could be due to (1) creating @tf.function repeatedly in a loop, (2) passing tensors with different shapes, (3) passing Python objects instead of tensors. For (1), please define your @tf.function outside of the loop. For (2), @tf.function has experimental_relax_shapes=True option that relaxes argument shapes that can avoid unnecessary retracing. For (3), please refer to https://www.tensorflow.org/guide/function#controlling_retracing and https://www.tensorflow.org/api_docs/python/tf/function for  more details.\n",
            "MAPE: training =  3.3799991607666016\n",
            "MAPE: test =  8.75008773803711\n"
          ]
        }
      ]
    },
    {
      "cell_type": "code",
      "metadata": {
        "id": "NlPeIWWTFR7X"
      },
      "source": [
        "# make a prediction\n",
        "# training set\n",
        "y_multi_d_tr = pd.DataFrame(model_multi_d.predict(X_d_p_tr))\n",
        "\n",
        "# test set\n",
        "y_multi_d_ts = pd.DataFrame(model_multi_d.predict(X_d_p_ts))\n",
        "\n",
        "# combine training and test predictions\n",
        "y_multi_d_total = pd.concat([y_multi_d_tr, y_multi_d_ts], ignore_index=True)\n"
      ],
      "execution_count": 32,
      "outputs": []
    },
    {
      "cell_type": "markdown",
      "metadata": {
        "id": "hyai-GAA1pto"
      },
      "source": [
        "### Plots"
      ]
    },
    {
      "cell_type": "code",
      "metadata": {
        "id": "ADku6rpG33q5"
      },
      "source": [
        "# infect = pd.concat([y_uni_i_total, \n",
        "#                    data.Cases_daily2.iloc[lag:].reset_index(drop = True), \n",
        "#                    data.Date.iloc[lag:].reset_index(drop = True)],\n",
        "#                    axis=1)\n",
        "# infect.columns = ['uni_i', 'actual', 'Date']\n",
        "\n",
        "# death = pd.concat([y_uni_d_total, \n",
        "#                    data.Deaths_daily2.iloc[14:].reset_index(drop = True), \n",
        "#                    data.Date.iloc[14:].reset_index(drop = True)],\n",
        "#                   axis=1)\n",
        "# death.columns = ['uni_d','actual', 'Date']\n",
        "# tick_spacing = 5\n",
        "\n",
        "# fig, axes = plt.subplots(2, 1, figsize=(15,10)) \n",
        "# fig.suptitle(\"Covid-19 Prediction in Thailand\", fontsize=20)\n",
        "\n",
        "# # Univariate confirmed cases\n",
        "# axes[0].plot(infect['Date'],infect['uni_i'], label = \"Univaraite RNNs\")\n",
        "# axes[0].plot(infect['Date'],infect['actual'], label = \"Actual\")\n",
        "# axes[0].legend(frameon=False, loc='upper center', ncol = 2, fontsize = 'x-large')\n",
        "# axes[0].set_title(\"Univariate RNNs: Confirmed Cases\", fontsize = 'xx-large')\n",
        "# axes[0].tick_params('x',labelrotation=90)\n",
        "# axes[0].axvline(\"2021-07-29\", color=\"gray\", linestyle=\"--\")\n",
        "# axes[0].xaxis.set_major_locator(ticker.MultipleLocator(tick_spacing))\n",
        "# axes[0].xaxis.grid(True, which='both', alpha=0.3)\n",
        "# axes[0].set_xticks(infect['Date'], minor=True)\n",
        "\n",
        "\n",
        "# # Univariate confirmed deaths\n",
        "# axes[1].plot(death['Date'],death['uni_d'], label = \"Univariate CNN\")\n",
        "# axes[1].plot(death['Date'],death['actual'], label = \"Actual\")\n",
        "# axes[1].legend(frameon=False, loc='upper center', ncol = 2, fontsize = 'x-large')\n",
        "# axes[1].set_title(\"Univariate CNN: Confirmed Deaths\", fontsize = 'xx-large')\n",
        "# axes[1].tick_params('x',labelrotation=90)\n",
        "# axes[1].axvline(\"2021-07-29\", color=\"gray\", linestyle=\"--\")\n",
        "# axes[1].xaxis.set_major_locator(ticker.MultipleLocator(tick_spacing))\n",
        "# axes[1].set_xticks(death['Date'], minor=True)\n",
        "# axes[1].xaxis.grid(True, which='both', alpha=0.3)\n",
        "\n",
        "\n",
        "# fig.text(0.5, -0.02, 'Date', ha='center', fontsize=15)\n",
        "# fig.text(-0.02, 0.5, 'Cases', va='center', rotation='vertical', fontsize=15)\n",
        "# fig.tight_layout(pad=3.0)\n",
        "# fig.subplots_adjust(top=0.9)\n",
        "# plt.show()"
      ],
      "execution_count": 33,
      "outputs": []
    },
    {
      "cell_type": "code",
      "metadata": {
        "colab": {
          "base_uri": "https://localhost:8080/",
          "height": 634
        },
        "id": "EyzgkqsZUst1",
        "outputId": "c4d5cf78-0605-4922-be62-fef1183af720"
      },
      "source": [
        "infect = pd.concat([y_uni_i_total, y_multi_i_total,\n",
        "                   data.Cases_daily2.iloc[lag:].reset_index(drop = True), \n",
        "                   data.Date.iloc[lag:].reset_index(drop = True)],\n",
        "                   axis=1)\n",
        "infect.columns = ['uni_i', 'multi_i', 'actual', 'Date']\n",
        "\n",
        "death = pd.concat([y_uni_d_total, y_multi_d_total,\n",
        "                   data.Deaths_daily2.iloc[lag:].reset_index(drop = True), \n",
        "                   data.Date.iloc[lag:].reset_index(drop = True)],\n",
        "                  axis=1)\n",
        "death.columns = ['uni_d', 'multi_d', 'actual', 'Date']\n",
        "tick_spacing = 5\n",
        "date_test = data['Date'][0+index]\n",
        "\n",
        "\n",
        "fig, axes = plt.subplots(2, 2, figsize=(15,10)) \n",
        "fig.suptitle(\"Covid-19 Prediction in Thailand\", fontsize=20)\n",
        "\n",
        "# Univariate confirmed cases\n",
        "axes[0, 0].plot(infect['Date'],infect['uni_i'], label = \"Univaraite RNNs\")\n",
        "axes[0, 0].plot(infect['Date'],infect['actual'], label = \"Actual\")\n",
        "axes[0, 0].legend(frameon=False, loc='upper center', ncol = 2, fontsize = 'x-large')\n",
        "axes[0, 0].set_title(\"Univariate RNNs: Confirmed Cases\", fontsize = 'xx-large')\n",
        "axes[0, 0].tick_params('x',labelrotation=90)\n",
        "axes[0, 0].axvline(date_test, color=\"gray\", linestyle=\"--\")\n",
        "axes[0, 0].xaxis.set_major_locator(ticker.MultipleLocator(tick_spacing))\n",
        "axes[0, 0].xaxis.grid(True, which='both', alpha=0.3)\n",
        "axes[0, 0].set_xticks(infect['Date'], minor=True)\n",
        "\n",
        "# Multivariate confirmed cases\n",
        "axes[0, 1].plot(infect['Date'],infect['multi_i'], label = \"Multivariate RNNs\")\n",
        "axes[0, 1].plot(infect['Date'],infect['actual'], label = \"Actual\")\n",
        "axes[0, 1].legend(frameon=False, loc='upper center', ncol = 2, fontsize = 'x-large')\n",
        "axes[0, 1].set_title(\"Multivariate RNNs: Confirmed Cases\", fontsize = 'xx-large')\n",
        "axes[0, 1].tick_params('x',labelrotation=90)\n",
        "axes[0, 1].axvline(date_test, color=\"gray\", linestyle=\"--\")\n",
        "axes[0, 1].xaxis.set_major_locator(ticker.MultipleLocator(tick_spacing))\n",
        "axes[0, 1].set_xticks(infect['Date'], minor=True)\n",
        "axes[0, 1].xaxis.grid(True, which='both', alpha=0.3)\n",
        "\n",
        "# Univariate confirmed deaths\n",
        "axes[1, 0].plot(death['Date'],death['uni_d'], label = \"Univariate LSTM\")\n",
        "axes[1, 0].plot(death['Date'],death['actual'], label = \"Actual\")\n",
        "axes[1, 0].legend(frameon=False, loc='upper center', ncol = 2, fontsize = 'x-large')\n",
        "axes[1, 0].set_title(\"Univariate LSTM: Confirmed Deaths\", fontsize = 'xx-large')\n",
        "axes[1, 0].tick_params('x',labelrotation=90)\n",
        "axes[1, 0].axvline(date_test, color=\"gray\", linestyle=\"--\")\n",
        "axes[1, 0].xaxis.set_major_locator(ticker.MultipleLocator(tick_spacing))\n",
        "axes[1, 0].set_xticks(death['Date'], minor=True)\n",
        "axes[1, 0].xaxis.grid(True, which='both', alpha=0.3)\n",
        "\n",
        "\n",
        "# Multivariate confirmed deaths\n",
        "axes[1, 1].plot(death['Date'],death['multi_d'], label = \"Multivariate RNNs\")\n",
        "axes[1, 1].plot(death['Date'],death['actual'], label = \"Actual\")\n",
        "axes[1, 1].legend(frameon=False, loc='upper center', ncol = 2, fontsize = 'x-large')\n",
        "axes[1, 1].set_title(\"Multivariate RNNs: Confirmed Deaths\", fontsize = 'xx-large')\n",
        "axes[1, 1].tick_params('x',labelrotation=90)\n",
        "axes[1, 1].axvline(date_test, color=\"gray\", linestyle=\"--\")\n",
        "axes[1, 1].xaxis.set_major_locator(ticker.MultipleLocator(tick_spacing))\n",
        "axes[1, 1].set_xticks(death['Date'], minor=True)\n",
        "axes[1, 1].xaxis.grid(True, which='both', alpha=0.3)\n",
        "\n",
        "\n",
        "\n",
        "fig.text(0.5, -0.02, 'Date', ha='center', fontsize=15)\n",
        "fig.text(-0.02, 0.5, 'Cases', va='center', rotation='vertical', fontsize=15)\n",
        "fig.tight_layout(pad=3.0)\n",
        "fig.subplots_adjust(top=0.9)\n",
        "plt.show()"
      ],
      "execution_count": 87,
      "outputs": [
        {
          "output_type": "display_data",
          "data": {
            "image/png": "[encoded data removed]",
            "text/plain": [
              "<Figure size 1080x720 with 4 Axes>"
            ]
          },
          "metadata": {
            "needs_background": "light"
          }
        }
      ]
    },
    {
      "cell_type": "markdown",
      "metadata": {
        "id": "mYcJN621o8A2"
      },
      "source": [
        "### Result Table"
      ]
    },
    {
      "cell_type": "code",
      "metadata": {
        "colab": {
          "base_uri": "https://localhost:8080/",
          "height": 542
        },
        "id": "fHC8w-KqZG7-",
        "outputId": "b37bda2d-872b-4a71-fa4f-4a86c67d2a1c"
      },
      "source": [
        "fig = go.Figure(data=[go.Table(header=dict(values=['Model Type', 'Best Model', 'Training', 'Test'],\n",
        "                                           line_color = 'gray'),\n",
        "                               cells=dict(values=[['Univariate: Confirmed Cases', \n",
        "                                                   'Univariate: Confirmed Deaths',\n",
        "                                                   'Multivariate: Confirmed Cases',\n",
        "                                                   'Multivariate: Confirmed Deaths'],\n",
        "                                                  ['RNNs', 'LSTM', 'RNNs', 'RNNs'],\n",
        "                                    [round(scores_uni_i1[1],3), round(scores_uni_d1[1],3),\n",
        "                                     round(scores_multi_i1[1],3), round(scores_multi_d1[1],3)],\n",
        "                                    [round(scores_uni_i[1],3), round(scores_uni_d[1],3),\n",
        "                                     round(scores_multi_i[1],3), round(scores_multi_d[1],3)]],\n",
        "                            align=['left','center', 'center', 'center'],\n",
        "                            fill_color = 'white',\n",
        "                            line_color = 'gray'))\n",
        "                     ])\n",
        "fig.update_layout(title = \"Mean Absolute Percentage Error\",title_x=0.5)\n",
        "fig.show()"
      ],
      "execution_count": 35,
      "outputs": [
        {
          "output_type": "display_data",
          "data": {
            "text/html": [
              "<html>\n",
              "<head><meta charset=\"utf-8\" /></head>\n",
              "<body>\n",
              "    <div>\n",
              "            <script src=\"https://cdnjs.cloudflare.com/ajax/libs/mathjax/2.7.5/MathJax.js?config=TeX-AMS-MML_SVG\"></script><script type=\"text/javascript\">if (window.MathJax) {MathJax.Hub.Config({SVG: {font: \"STIX-Web\"}});}</script>\n",
              "                <script type=\"text/javascript\">window.PlotlyConfig = {MathJaxConfig: 'local'};</script>\n",
              "        <script src=\"https://cdn.plot.ly/plotly-latest.min.js\"></script>    \n",
              "            <div id=\"367ff9b6-4052-4f29-b904-468864c1d35d\" class=\"plotly-graph-div\" style=\"height:525px; width:100%;\"></div>\n",
              "            <script type=\"text/javascript\">\n",
              "                \n",
              "                    window.PLOTLYENV=window.PLOTLYENV || {};\n",
              "                    \n",
              "                if (document.getElementById(\"367ff9b6-4052-4f29-b904-468864c1d35d\")) {\n",
              "                    Plotly.newPlot(\n",
              "                        '367ff9b6-4052-4f29-b904-468864c1d35d',\n",
              "                        [{\"cells\": {\"align\": [\"left\", \"center\", \"center\", \"center\"], \"fill\": {\"color\": \"white\"}, \"line\": {\"color\": \"gray\"}, \"values\": [[\"Univariate: Confirmed Cases\", \"Univariate: Confirmed Deaths\", \"Multivariate: Confirmed Cases\", \"Multivariate: Confirmed Deaths\"], [\"RNNs\", \"LSTM\", \"RNNs\", \"RNNs\"], [2.857, 5.387, 2.678, 3.38], [12.099, 7.061, 2.444, 8.75]]}, \"header\": {\"line\": {\"color\": \"gray\"}, \"values\": [\"Model Type\", \"Best Model\", \"Training\", \"Test\"]}, \"type\": \"table\"}],\n",
              "                        {\"template\": {\"data\": {\"bar\": [{\"error_x\": {\"color\": \"#2a3f5f\"}, \"error_y\": {\"color\": \"#2a3f5f\"}, \"marker\": {\"line\": {\"color\": \"#E5ECF6\", \"width\": 0.5}}, \"type\": \"bar\"}], \"barpolar\": [{\"marker\": {\"line\": {\"color\": \"#E5ECF6\", \"width\": 0.5}}, \"type\": \"barpolar\"}], \"carpet\": [{\"aaxis\": {\"endlinecolor\": \"#2a3f5f\", \"gridcolor\": \"white\", \"linecolor\": \"white\", \"minorgridcolor\": \"white\", \"startlinecolor\": \"#2a3f5f\"}, \"baxis\": {\"endlinecolor\": \"#2a3f5f\", \"gridcolor\": \"white\", \"linecolor\": \"white\", \"minorgridcolor\": \"white\", \"startlinecolor\": \"#2a3f5f\"}, \"type\": \"carpet\"}], \"choropleth\": [{\"colorbar\": {\"outlinewidth\": 0, \"ticks\": \"\"}, \"type\": \"choropleth\"}], \"contour\": [{\"colorbar\": {\"outlinewidth\": 0, \"ticks\": \"\"}, \"colorscale\": [[0.0, \"#0d0887\"], [0.1111111111111111, \"#46039f\"], [0.2222222222222222, \"#7201a8\"], [0.3333333333333333, \"#9c179e\"], [0.4444444444444444, \"#bd3786\"], [0.5555555555555556, \"#d8576b\"], [0.6666666666666666, \"#ed7953\"], [0.7777777777777778, \"#fb9f3a\"], [0.8888888888888888, \"#fdca26\"], [1.0, \"#f0f921\"]], \"type\": \"contour\"}], \"contourcarpet\": [{\"colorbar\": {\"outlinewidth\": 0, \"ticks\": \"\"}, \"type\": \"contourcarpet\"}], \"heatmap\": [{\"colorbar\": {\"outlinewidth\": 0, \"ticks\": \"\"}, \"colorscale\": [[0.0, \"#0d0887\"], [0.1111111111111111, \"#46039f\"], [0.2222222222222222, \"#7201a8\"], [0.3333333333333333, \"#9c179e\"], [0.4444444444444444, \"#bd3786\"], [0.5555555555555556, \"#d8576b\"], [0.6666666666666666, \"#ed7953\"], [0.7777777777777778, \"#fb9f3a\"], [0.8888888888888888, \"#fdca26\"], [1.0, \"#f0f921\"]], \"type\": \"heatmap\"}], \"heatmapgl\": [{\"colorbar\": {\"outlinewidth\": 0, \"ticks\": \"\"}, \"colorscale\": [[0.0, \"#0d0887\"], [0.1111111111111111, \"#46039f\"], [0.2222222222222222, \"#7201a8\"], [0.3333333333333333, \"#9c179e\"], [0.4444444444444444, \"#bd3786\"], [0.5555555555555556, \"#d8576b\"], [0.6666666666666666, \"#ed7953\"], [0.7777777777777778, \"#fb9f3a\"], [0.8888888888888888, \"#fdca26\"], [1.0, \"#f0f921\"]], \"type\": \"heatmapgl\"}], \"histogram\": [{\"marker\": {\"colorbar\": {\"outlinewidth\": 0, \"ticks\": \"\"}}, \"type\": \"histogram\"}], \"histogram2d\": [{\"colorbar\": {\"outlinewidth\": 0, \"ticks\": \"\"}, \"colorscale\": [[0.0, \"#0d0887\"], [0.1111111111111111, \"#46039f\"], [0.2222222222222222, \"#7201a8\"], [0.3333333333333333, \"#9c179e\"], [0.4444444444444444, \"#bd3786\"], [0.5555555555555556, \"#d8576b\"], [0.6666666666666666, \"#ed7953\"], [0.7777777777777778, \"#fb9f3a\"], [0.8888888888888888, \"#fdca26\"], [1.0, \"#f0f921\"]], \"type\": \"histogram2d\"}], \"histogram2dcontour\": [{\"colorbar\": {\"outlinewidth\": 0, \"ticks\": \"\"}, \"colorscale\": [[0.0, \"#0d0887\"], [0.1111111111111111, \"#46039f\"], [0.2222222222222222, \"#7201a8\"], [0.3333333333333333, \"#9c179e\"], [0.4444444444444444, \"#bd3786\"], [0.5555555555555556, \"#d8576b\"], [0.6666666666666666, \"#ed7953\"], [0.7777777777777778, \"#fb9f3a\"], [0.8888888888888888, \"#fdca26\"], [1.0, \"#f0f921\"]], \"type\": \"histogram2dcontour\"}], \"mesh3d\": [{\"colorbar\": {\"outlinewidth\": 0, \"ticks\": \"\"}, \"type\": \"mesh3d\"}], \"parcoords\": [{\"line\": {\"colorbar\": {\"outlinewidth\": 0, \"ticks\": \"\"}}, \"type\": \"parcoords\"}], \"pie\": [{\"automargin\": true, \"type\": \"pie\"}], \"scatter\": [{\"marker\": {\"colorbar\": {\"outlinewidth\": 0, \"ticks\": \"\"}}, \"type\": \"scatter\"}], \"scatter3d\": [{\"line\": {\"colorbar\": {\"outlinewidth\": 0, \"ticks\": \"\"}}, \"marker\": {\"colorbar\": {\"outlinewidth\": 0, \"ticks\": \"\"}}, \"type\": \"scatter3d\"}], \"scattercarpet\": [{\"marker\": {\"colorbar\": {\"outlinewidth\": 0, \"ticks\": \"\"}}, \"type\": \"scattercarpet\"}], \"scattergeo\": [{\"marker\": {\"colorbar\": {\"outlinewidth\": 0, \"ticks\": \"\"}}, \"type\": \"scattergeo\"}], \"scattergl\": [{\"marker\": {\"colorbar\": {\"outlinewidth\": 0, \"ticks\": \"\"}}, \"type\": \"scattergl\"}], \"scattermapbox\": [{\"marker\": {\"colorbar\": {\"outlinewidth\": 0, \"ticks\": \"\"}}, \"type\": \"scattermapbox\"}], \"scatterpolar\": [{\"marker\": {\"colorbar\": {\"outlinewidth\": 0, \"ticks\": \"\"}}, \"type\": \"scatterpolar\"}], \"scatterpolargl\": [{\"marker\": {\"colorbar\": {\"outlinewidth\": 0, \"ticks\": \"\"}}, \"type\": \"scatterpolargl\"}], \"scatterternary\": [{\"marker\": {\"colorbar\": {\"outlinewidth\": 0, \"ticks\": \"\"}}, \"type\": \"scatterternary\"}], \"surface\": [{\"colorbar\": {\"outlinewidth\": 0, \"ticks\": \"\"}, \"colorscale\": [[0.0, \"#0d0887\"], [0.1111111111111111, \"#46039f\"], [0.2222222222222222, \"#7201a8\"], [0.3333333333333333, \"#9c179e\"], [0.4444444444444444, \"#bd3786\"], [0.5555555555555556, \"#d8576b\"], [0.6666666666666666, \"#ed7953\"], [0.7777777777777778, \"#fb9f3a\"], [0.8888888888888888, \"#fdca26\"], [1.0, \"#f0f921\"]], \"type\": \"surface\"}], \"table\": [{\"cells\": {\"fill\": {\"color\": \"#EBF0F8\"}, \"line\": {\"color\": \"white\"}}, \"header\": {\"fill\": {\"color\": \"#C8D4E3\"}, \"line\": {\"color\": \"white\"}}, \"type\": \"table\"}]}, \"layout\": {\"annotationdefaults\": {\"arrowcolor\": \"#2a3f5f\", \"arrowhead\": 0, \"arrowwidth\": 1}, \"coloraxis\": {\"colorbar\": {\"outlinewidth\": 0, \"ticks\": \"\"}}, \"colorscale\": {\"diverging\": [[0, \"#8e0152\"], [0.1, \"#c51b7d\"], [0.2, \"#de77ae\"], [0.3, \"#f1b6da\"], [0.4, \"#fde0ef\"], [0.5, \"#f7f7f7\"], [0.6, \"#e6f5d0\"], [0.7, \"#b8e186\"], [0.8, \"#7fbc41\"], [0.9, \"#4d9221\"], [1, \"#276419\"]], \"sequential\": [[0.0, \"#0d0887\"], [0.1111111111111111, \"#46039f\"], [0.2222222222222222, \"#7201a8\"], [0.3333333333333333, \"#9c179e\"], [0.4444444444444444, \"#bd3786\"], [0.5555555555555556, \"#d8576b\"], [0.6666666666666666, \"#ed7953\"], [0.7777777777777778, \"#fb9f3a\"], [0.8888888888888888, \"#fdca26\"], [1.0, \"#f0f921\"]], \"sequentialminus\": [[0.0, \"#0d0887\"], [0.1111111111111111, \"#46039f\"], [0.2222222222222222, \"#7201a8\"], [0.3333333333333333, \"#9c179e\"], [0.4444444444444444, \"#bd3786\"], [0.5555555555555556, \"#d8576b\"], [0.6666666666666666, \"#ed7953\"], [0.7777777777777778, \"#fb9f3a\"], [0.8888888888888888, \"#fdca26\"], [1.0, \"#f0f921\"]]}, \"colorway\": [\"#636efa\", \"#EF553B\", \"#00cc96\", \"#ab63fa\", \"#FFA15A\", \"#19d3f3\", \"#FF6692\", \"#B6E880\", \"#FF97FF\", \"#FECB52\"], \"font\": {\"color\": \"#2a3f5f\"}, \"geo\": {\"bgcolor\": \"white\", \"lakecolor\": \"white\", \"landcolor\": \"#E5ECF6\", \"showlakes\": true, \"showland\": true, \"subunitcolor\": \"white\"}, \"hoverlabel\": {\"align\": \"left\"}, \"hovermode\": \"closest\", \"mapbox\": {\"style\": \"light\"}, \"paper_bgcolor\": \"white\", \"plot_bgcolor\": \"#E5ECF6\", \"polar\": {\"angularaxis\": {\"gridcolor\": \"white\", \"linecolor\": \"white\", \"ticks\": \"\"}, \"bgcolor\": \"#E5ECF6\", \"radialaxis\": {\"gridcolor\": \"white\", \"linecolor\": \"white\", \"ticks\": \"\"}}, \"scene\": {\"xaxis\": {\"backgroundcolor\": \"#E5ECF6\", \"gridcolor\": \"white\", \"gridwidth\": 2, \"linecolor\": \"white\", \"showbackground\": true, \"ticks\": \"\", \"zerolinecolor\": \"white\"}, \"yaxis\": {\"backgroundcolor\": \"#E5ECF6\", \"gridcolor\": \"white\", \"gridwidth\": 2, \"linecolor\": \"white\", \"showbackground\": true, \"ticks\": \"\", \"zerolinecolor\": \"white\"}, \"zaxis\": {\"backgroundcolor\": \"#E5ECF6\", \"gridcolor\": \"white\", \"gridwidth\": 2, \"linecolor\": \"white\", \"showbackground\": true, \"ticks\": \"\", \"zerolinecolor\": \"white\"}}, \"shapedefaults\": {\"line\": {\"color\": \"#2a3f5f\"}}, \"ternary\": {\"aaxis\": {\"gridcolor\": \"white\", \"linecolor\": \"white\", \"ticks\": \"\"}, \"baxis\": {\"gridcolor\": \"white\", \"linecolor\": \"white\", \"ticks\": \"\"}, \"bgcolor\": \"#E5ECF6\", \"caxis\": {\"gridcolor\": \"white\", \"linecolor\": \"white\", \"ticks\": \"\"}}, \"title\": {\"x\": 0.05}, \"xaxis\": {\"automargin\": true, \"gridcolor\": \"white\", \"linecolor\": \"white\", \"ticks\": \"\", \"title\": {\"standoff\": 15}, \"zerolinecolor\": \"white\", \"zerolinewidth\": 2}, \"yaxis\": {\"automargin\": true, \"gridcolor\": \"white\", \"linecolor\": \"white\", \"ticks\": \"\", \"title\": {\"standoff\": 15}, \"zerolinecolor\": \"white\", \"zerolinewidth\": 2}}}, \"title\": {\"text\": \"Mean Absolute Percentage Error\", \"x\": 0.5}},\n",
              "                        {\"responsive\": true}\n",
              "                    ).then(function(){\n",
              "                            \n",
              "var gd = document.getElementById('367ff9b6-4052-4f29-b904-468864c1d35d');\n",
              "var x = new MutationObserver(function (mutations, observer) {{\n",
              "        var display = window.getComputedStyle(gd).display;\n",
              "        if (!display || display === 'none') {{\n",
              "            console.log([gd, 'removed!']);\n",
              "            Plotly.purge(gd);\n",
              "            observer.disconnect();\n",
              "        }}\n",
              "}});\n",
              "\n",
              "// Listen for the removal of the full notebook cells\n",
              "var notebookContainer = gd.closest('#notebook-container');\n",
              "if (notebookContainer) {{\n",
              "    x.observe(notebookContainer, {childList: true});\n",
              "}}\n",
              "\n",
              "// Listen for the clearing of the current output cell\n",
              "var outputEl = gd.closest('.output');\n",
              "if (outputEl) {{\n",
              "    x.observe(outputEl, {childList: true});\n",
              "}}\n",
              "\n",
              "                        })\n",
              "                };\n",
              "                \n",
              "            </script>\n",
              "        </div>\n",
              "</body>\n",
              "</html>"
            ]
          },
          "metadata": {}
        }
      ]
    },
    {
      "cell_type": "markdown",
      "metadata": {
        "id": "A3e1k3G6ADwq"
      },
      "source": [
        "## Future Predictions\n",
        "\n",
        "---\n",
        "\n"
      ]
    },
    {
      "cell_type": "code",
      "metadata": {
        "id": "99EJjObuAGWS"
      },
      "source": [
        "# Univariate\n",
        "def future_prediction_uni(input, model, days_predicted, total_prediction):\n",
        "  all_prediction = pd.DataFrame(total_prediction)\n",
        "\n",
        "  # use the last 14 days from actual data\n",
        "  all_input = input\n",
        "\n",
        "  for i in range(1,days_predicted + 1):\n",
        "    # create a matrix of input with 14 previous days\n",
        "    new_input = np.array(all_input[-14:])\n",
        "    new_input = new_input.reshape(1,14,1)\n",
        "\n",
        "    # set seed\n",
        "    seed(1)\n",
        "    tensorflow.random.set_seed(1)\n",
        "\n",
        "    # make the next day prediction\n",
        "    last_output = model.predict(new_input)\n",
        "\n",
        "    all_prediction = pd.concat([all_prediction, pd.DataFrame(last_output)], ignore_index=True)\n",
        "\n",
        "    # feed the output back as new input\n",
        "    all_input = pd.concat([all_input, pd.DataFrame(last_output)], ignore_index=True)\n",
        "    all_input = pd.DataFrame(all_input)\n",
        "  return all_prediction\n"
      ],
      "execution_count": 36,
      "outputs": []
    },
    {
      "cell_type": "code",
      "metadata": {
        "id": "OGSzHCk9ZXWD"
      },
      "source": [
        "# Multivariate\n",
        "def future_prediction_multi(input, model, days_predicted, total_prediction):\n",
        "  all_prediction = pd.DataFrame(total_prediction)\n",
        "\n",
        "  # use the last 14 days from actual data\n",
        "  all_input = input[-14:]\n",
        "\n",
        "  for i in range(1,days_predicted + 1):\n",
        "    # create a matrix of input with 14 previous days for all features\n",
        "    new_input = np.expand_dims(all_input[-14:], axis = 0) \n",
        "\n",
        "    # set seed\n",
        "    seed(1)\n",
        "    tensorflow.random.set_seed(1)\n",
        "\n",
        "    # make the next day prediction\n",
        "    last_output = pd.DataFrame(model.predict(new_input))\n",
        "\n",
        "    # record the prediction\n",
        "    all_prediction = pd.concat([all_prediction, pd.DataFrame(last_output)], ignore_index=True)\n",
        "\n",
        "    # new row\n",
        "    new_row = [last_output[0], all_input.iloc[-1, 1:31], data_d.iloc[-14:, 31:49].mean(axis = 0)]\n",
        "    new_row = list(itertools.chain(*new_row))\n",
        "\n",
        "    # feed the new row back to data frame as new input\n",
        "    all_input.loc[len(all_input)] = new_row\n",
        "  return all_prediction\n"
      ],
      "execution_count": 37,
      "outputs": []
    },
    {
      "cell_type": "code",
      "metadata": {
        "id": "7QTBeaH8eXZh",
        "colab": {
          "base_uri": "https://localhost:8080/"
        },
        "outputId": "514727fe-d718-4e40-c8d5-81ad2ef0810c"
      },
      "source": [
        "days_predicted = 15\n",
        "\n",
        "# univariate confirmed cases\n",
        "uni_i_pred = future_prediction_uni(data.Cases_daily2, model_uni_i, days_predicted, y_uni_i_total)\n",
        "\n",
        "# univariate confirmed deaths\n",
        "uni_d_pred = future_prediction_uni(data.Deaths_daily2, model_uni_d, days_predicted, y_uni_d_total)\n",
        "\n",
        "# multivariate confirmed cases\n",
        "multi_i_pred = future_prediction_multi(data_i, model_multi_i, days_predicted, y_multi_i_total)\n",
        "\n",
        "# multivariate confirmed deaths\n",
        "multi_d_pred = future_prediction_multi(data_d, model_multi_d, days_predicted, y_multi_d_total)\n"
      ],
      "execution_count": 38,
      "outputs": [
        {
          "output_type": "stream",
          "name": "stdout",
          "text": [
            "WARNING:tensorflow:5 out of the last 9 calls to <function Model.make_predict_function.<locals>.predict_function at 0x7f251d36d950> triggered tf.function retracing. Tracing is expensive and the excessive number of tracings could be due to (1) creating @tf.function repeatedly in a loop, (2) passing tensors with different shapes, (3) passing Python objects instead of tensors. For (1), please define your @tf.function outside of the loop. For (2), @tf.function has experimental_relax_shapes=True option that relaxes argument shapes that can avoid unnecessary retracing. For (3), please refer to https://www.tensorflow.org/guide/function#controlling_retracing and https://www.tensorflow.org/api_docs/python/tf/function for  more details.\n"
          ]
        },
        {
          "output_type": "stream",
          "name": "stderr",
          "text": [
            "/usr/local/lib/python3.7/dist-packages/pandas/core/indexing.py:670: SettingWithCopyWarning:\n",
            "\n",
            "\n",
            "A value is trying to be set on a copy of a slice from a DataFrame\n",
            "\n",
            "See the caveats in the documentation: https://pandas.pydata.org/pandas-docs/stable/user_guide/indexing.html#returning-a-view-versus-a-copy\n",
            "\n"
          ]
        }
      ]
    },
    {
      "cell_type": "markdown",
      "metadata": {
        "id": "Spgb1Mqcoj3N"
      },
      "source": [
        "### Plots"
      ]
    },
    {
      "cell_type": "code",
      "metadata": {
        "id": "N5Lcfwclpk7K"
      },
      "source": [
        "# Date = pd.date_range('2021-07-01', periods=len(infect)+days_predicted, freq='D')\n",
        "# Date = pd.DataFrame(Date)\n",
        "\n",
        "\n",
        "# pred = pd.concat([Date.reset_index(drop = True), \n",
        "#                   uni_i_pred, \n",
        "#                   uni_d_pred],\n",
        "#                  axis=1)\n",
        "# pred.columns = ['Date', 'uni_i', 'uni_d']\n",
        "\n",
        "\n",
        "# # extract actual data\n",
        "# act = actual[502: 502 + len(Date)].reset_index(drop = True)\n",
        "\n",
        "\n",
        "# tick_spacing = 5\n",
        "\n",
        "# fig, axes = plt.subplots(2, 1, figsize=(20,10)) \n",
        "# fig.suptitle(\"Covid-19 Future Prediction in Thailand\", fontsize=20)\n",
        "\n",
        "# # Univariate confirmed cases\n",
        "# axes[0].plot(pred['Date'], pred['uni_i'], label = \"CNN\")\n",
        "# axes[0].plot(pred['Date'], act['Cases_daily'], label = \"Actual\")\n",
        "# axes[0].legend(frameon=False, loc='upper center', ncol = 2, fontsize = 'x-large')\n",
        "# axes[0].set_title(\"Univariate CNN: Confirmed Cases\", fontsize = 'xx-large')\n",
        "# axes[0].tick_params('x',labelrotation=90)\n",
        "# axes[0].axvline(dt.datetime(2021, 7, 29), color=\"gray\", linestyle=\"--\")\n",
        "# axes[0].axvline(dt.datetime(2021, 8, 18), color=\"gray\", linestyle=\"--\")\n",
        "# axes[0].xaxis.set_major_locator(ticker.MultipleLocator(tick_spacing))\n",
        "# axes[0].set_xticks(pred['Date'], minor=True)\n",
        "# axes[0].xaxis.grid(True, which='both', alpha=0.3)\n",
        "\n",
        "# # Univariate confirmed deaths\n",
        "# axes[1].plot(pred['Date'],pred['uni_d'], label = \"CNN\")\n",
        "# axes[1].plot(pred['Date'], act['Deaths_daily'], label = \"Actual\")\n",
        "# axes[1].legend(frameon=False, loc='upper center', ncol = 2, fontsize = 'x-large')\n",
        "# axes[1].set_title(\"Univariate CNN: Confirmed Deaths\", fontsize = 'xx-large')\n",
        "# axes[1].tick_params('x',labelrotation=90)\n",
        "# axes[1].axvline(dt.datetime(2021, 7, 29), color=\"gray\", linestyle=\"--\")\n",
        "# axes[1].axvline(dt.datetime(2021, 8, 18), color=\"gray\", linestyle=\"--\")\n",
        "# axes[1].xaxis.set_major_locator(ticker.MultipleLocator(tick_spacing))\n",
        "# axes[1].set_xticks(pred['Date'], minor=True)\n",
        "# axes[1].xaxis.grid(True, which='both', alpha=0.3)\n",
        "\n",
        "\n",
        "\n",
        "# fig.text(0.5, -0.02, 'Date', ha='center', fontsize=15)\n",
        "# fig.text(-0.02, 0.5, 'Cases', va='center', rotation='vertical', fontsize=15)\n",
        "# fig.tight_layout(pad=3.0)\n",
        "# fig.subplots_adjust(top=0.9)\n",
        "# plt.show()"
      ],
      "execution_count": 39,
      "outputs": []
    },
    {
      "cell_type": "code",
      "metadata": {
        "colab": {
          "base_uri": "https://localhost:8080/",
          "height": 478
        },
        "id": "iGH4saqYm13w",
        "outputId": "0f8b40f3-8cba-4ecd-9efe-6895b86ebc8b"
      },
      "source": [
        "Date = pd.date_range('2021-07-01', periods=len(infect)+days_predicted, freq='D')\n",
        "Date = pd.DataFrame(Date)\n",
        "\n",
        "\n",
        "pred = pd.concat([Date.reset_index(drop = True), \n",
        "                  uni_i_pred, \n",
        "                  uni_d_pred,\n",
        "                  multi_i_pred, \n",
        "                  multi_d_pred],\n",
        "                 axis=1)\n",
        "pred.columns = ['Date', 'uni_i', 'uni_d', 'multi_i', 'multi_d']\n",
        "\n",
        "\n",
        "# extract actual data\n",
        "act = actual[502: 502 + len(Date)].reset_index(drop = True)\n",
        "\n",
        "date_test = pred['Date'][0+index]\n",
        "date_predict = pred['Date'][len(x_i)-1]\n",
        "tick_spacing = 5\n",
        "\n",
        "fig, axes = plt.subplots(2, 2, figsize=(20,10)) \n",
        "fig.suptitle(\"Covid-19 Future Prediction in Thailand\", fontsize=20)\n",
        "\n",
        "# Univariate confirmed cases\n",
        "axes[0,0].plot(pred['Date'], pred['uni_i'], label = \"RNNs\")\n",
        "axes[0,0].plot(pred['Date'], act['Cases_daily'], label = \"Actual\")\n",
        "axes[0,0].legend(frameon=False, loc='upper center', ncol = 2, fontsize = 'x-large')\n",
        "axes[0,0].set_title(\"Univariate RNNs: Confirmed Cases\", fontsize = 'xx-large')\n",
        "axes[0,0].tick_params('x',labelrotation=90)\n",
        "axes[0,0].axvline(date_test, color=\"gray\", linestyle=\"--\")\n",
        "axes[0,0].axvline(date_predict, color=\"gray\", linestyle=\"--\")\n",
        "axes[0,0].xaxis.set_major_locator(ticker.MultipleLocator(tick_spacing))\n",
        "axes[0,0].set_xticks(pred['Date'], minor=True)\n",
        "axes[0,0].xaxis.grid(True, which='both', alpha=0.3)\n",
        "\n",
        "# Multivariate confirmed cases\n",
        "axes[0,1].plot(pred['Date'], pred['multi_i'], label = \"RNNs\")\n",
        "axes[0,1].plot(pred['Date'], act['Cases_daily'], label = \"Actual\")\n",
        "axes[0,1].legend(frameon=False, loc='upper center', ncol = 2, fontsize = 'x-large')\n",
        "axes[0,1].set_title(\"Multivariate RNNs: Confirmed Cases\", fontsize = 'xx-large')\n",
        "axes[0,1].tick_params('x',labelrotation=90)\n",
        "axes[0,1].axvline(date_test, color=\"gray\", linestyle=\"--\")\n",
        "axes[0,1].axvline(date_predict, color=\"gray\", linestyle=\"--\")\n",
        "axes[0,1].xaxis.set_major_locator(ticker.MultipleLocator(tick_spacing))\n",
        "axes[0,1].set_xticks(pred['Date'], minor=True)\n",
        "axes[0,1].xaxis.grid(True, which='both', alpha=0.3)\n",
        "\n",
        "# Univariate confirmed deaths\n",
        "axes[1,0].plot(pred['Date'],pred['uni_d'], label = \"LSTM\")\n",
        "axes[1,0].plot(pred['Date'], act['Deaths_daily'], label = \"Actual\")\n",
        "axes[1,0].legend(frameon=False, loc='upper center', ncol = 2, fontsize = 'x-large')\n",
        "axes[1,0].set_title(\"Univariate LSTM: Confirmed Deaths\", fontsize = 'xx-large')\n",
        "axes[1,0].tick_params('x',labelrotation=90)\n",
        "axes[1,0].axvline(date_test, color=\"gray\", linestyle=\"--\")\n",
        "axes[1,0].axvline(date_predict, color=\"gray\", linestyle=\"--\")\n",
        "axes[1,0].xaxis.set_major_locator(ticker.MultipleLocator(tick_spacing))\n",
        "axes[1,0].set_xticks(pred['Date'], minor=True)\n",
        "axes[1,0].xaxis.grid(True, which='both', alpha=0.3)\n",
        "\n",
        "\n",
        "# Multivariate confirmed deaths\n",
        "axes[1,1].plot(pred['Date'],pred['multi_d'], label = \"RNNs\")\n",
        "axes[1,1].plot(pred['Date'], act['Deaths_daily'], label = \"Actual\")\n",
        "axes[1,1].legend(frameon=False, loc='upper center', ncol = 2, fontsize = 'x-large')\n",
        "axes[1,1].set_title(\"Multivariate RNNs: Confirmed Deaths\", fontsize = 'xx-large')\n",
        "axes[1,1].tick_params('x',labelrotation=90)\n",
        "axes[1,1].axvline(date_test, color=\"gray\", linestyle=\"--\")\n",
        "axes[1,1].axvline(date_predict, color=\"gray\", linestyle=\"--\")\n",
        "axes[1,1].xaxis.set_major_locator(ticker.MultipleLocator(tick_spacing))\n",
        "axes[1,1].set_xticks(pred['Date'], minor=True)\n",
        "axes[1,1].xaxis.grid(True, which='both', alpha=0.3)\n",
        "\n",
        "\n",
        "\n",
        "fig.text(0.5, -0.02, 'Date', ha='center', fontsize=15)\n",
        "fig.text(-0.02, 0.5, 'Cases', va='center', rotation='vertical', fontsize=15)\n",
        "fig.tight_layout(pad=3.0)\n",
        "fig.subplots_adjust(top=0.9)\n",
        "plt.show()"
      ],
      "execution_count": 92,
      "outputs": [
        {
          "output_type": "display_data",
          "data": {
            "image/png": "[encoded data removed]",
            "text/plain": [
              "<Figure size 1440x720 with 4 Axes>"
            ]
          },
          "metadata": {
            "needs_background": "light"
          }
        }
      ]
    },
    {
      "cell_type": "code",
      "metadata": {
        "id": "tLz5h7hCc77j"
      },
      "source": [
        ""
      ],
      "execution_count": 40,
      "outputs": []
    }
  ]
}