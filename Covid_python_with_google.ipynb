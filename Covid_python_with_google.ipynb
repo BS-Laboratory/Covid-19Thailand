{
  "nbformat": 4,
  "nbformat_minor": 0,
  "metadata": {
    "colab": {
      "name": "Covid-python - with google",
      "provenance": [],
      "collapsed_sections": [
        "JY3Wjb_5geVH",
        "SGBoNeLdOjdy",
        "v-qN6cz2F2R1",
        "oPrElE8xF2R1",
        "ZjNVTfhcF2R1",
        "xLFOyGfsGbeG",
        "p6bqauXwGbeG",
        "UNh1K2TXGbeH"
      ],
      "toc_visible": true,
      "authorship_tag": "ABX9TyNtZtbRT8m+eAPPOopzF4sl",
      "include_colab_link": true
    },
    "kernelspec": {
      "display_name": "Python 3",
      "name": "python3"
    },
    "language_info": {
      "name": "python"
    }
  },
  "cells": [
    {
      "cell_type": "markdown",
      "metadata": {
        "id": "view-in-github",
        "colab_type": "text"
      },
      "source": [
        "<a href=\"https://colab.research.google.com/github/Tanainan/Covid-19Thailand/blob/main/Covid_python_with_google.ipynb\" target=\"_parent\"><img src=\"https://colab.research.google.com/assets/colab-badge.svg\" alt=\"Open In Colab\"/></a>"
      ]
    },
    {
      "cell_type": "markdown",
      "metadata": {
        "id": "49t5kJ6QuESg"
      },
      "source": [
        "# Covid-19 Trends Prediction in Thailand Using Time Series Neural Networks\n",
        "\n",
        "---\n",
        "\n",
        "\n",
        "We used convolutional neural network (CNN), recurrent neural networks (RNNs), gated recurrent unit (GRU) and long short-term memory (LSTM) to predict Covid-19 cases and deaths in Thailand, using 14 previous days as samples to predict the next 1 day. These models particularly deal with time series data. Further, we ran multivariate neural networks with policy implementations, mobility changes, transportation behavior changes, vaccination, confirmed cases (for predicting deaths) and confirmed deaths (for predicting cases) as additional predictors. Our goal was to minimize the mean average percentage error (MAPE) between the actual values and predictions.  \n",
        "\n",
        "\n",
        "\n",
        "## Data Sources\n",
        "\n",
        "\n",
        "The Covid-19 data was from https://github.com/CSSEGISandData/COVID-19 by John Hopkins University. The data included both confirmed infects and confirmed deaths reported by Thailand’s Ministry of Public Health. \n",
        "Policy implementation in Thailand data was gathered by Oxford Covid-19 Government Response Tracker (OxCGRT) (https://github.com/OxCGRT/covid-policy-tracker). This policy record indicated when and how the government in each country responded to the pandemic at specific time periods. We used containment and health index which consisted of school closing, workplace closing, canceling public events, restrictions on gatherings, close public transport, stay at home requirements, international travel controls, and public information campaign. Each indicator was coded in different levels of implementations (see more: ​​https://github.com/OxCGRT/covid-policy-tracker/blob/master/documentation/codebook.md)\n",
        "The mobility data was from Google (https://www.google.com/covid19/mobility). Google calculated the changes of mobility based on Location History of users on Google Map. The baseline of the changes was the median value from January, 3rd to February 6th, 2020. There were four categories: groceries and pharmacy, retail and recreation, transit stations, and finally, parks. Another source of mobility was from Apple where it tracked driving and walking behaviors during the pandemic (https://covid19.apple.com/mobility). \n",
        "Vaccination count was gathered from Thailand’s Ministry of Health (https://github.com/porames/the-researcher-covid-data?fbclid=IwAR1-SAiA8pMKD5qbcN7S5c-p_snBIIWd42wYOq4qiM9yA6FTf_GcyYgxtvA). This vaccination information that was used in this study was the amount of Thai people who received their first shot, second shot of vaccines, regardless of the vaccine types. \n",
        "Finally, the last input data was transportation behavior from Thai’s Ministry of Transportation (https://datagov.mot.go.th/dataset/covid-19/resource/71a552d0-0fea-4e05-b78c-42d58aa88db6?fbclid=IwAR18p4TQY3qlD9snnhADdvrAWVjOgofse54GbNKm8Qb-pMgBb-ZejebWD-w). The information included the rate of use for both public and private transportation systems in Thailand. \n",
        "\n"
      ]
    },
    {
      "cell_type": "markdown",
      "metadata": {
        "id": "8Ix5ZBdJGub1"
      },
      "source": [
        "## Import packages"
      ]
    },
    {
      "cell_type": "code",
      "metadata": {
        "colab": {
          "base_uri": "https://localhost:8080/"
        },
        "id": "OwNlMasL65To",
        "outputId": "9c01629d-73fe-4846-a9c9-c1fc01dbf95c"
      },
      "source": [
        "!pip install -U tensorflow-addons\n",
        "from numpy import array\n",
        "from numpy import hstack\n",
        "from keras.models import Sequential\n",
        "from keras.layers import LSTM\n",
        "from keras.layers import Dense, Dropout, Activation\n",
        "from keras.layers import GRU\n",
        "from keras.layers import SimpleRNN\n",
        "from keras.layers import TimeDistributed\n",
        "from keras.layers import Bidirectional\n",
        "from keras.layers.convolutional import Conv1D\n",
        "from keras.layers.convolutional import MaxPooling1D\n",
        "from tensorflow_addons.layers import InstanceNormalization, GroupNormalization\n",
        "from keras.layers import LayerNormalization\n",
        "from keras.layers import Flatten\n",
        "from pandas import read_csv\n",
        "from pandas import DataFrame\n",
        "from pandas import concat\n",
        "import pandas as pd\n",
        "import numpy as np\n",
        "from statistics import stdev\n",
        "from statistics import mean\n",
        "from matplotlib import pyplot\n",
        "from numpy.random import seed\n",
        "seed(1)\n",
        "import tensorflow\n",
        "tensorflow.random.set_seed(1)\n",
        "from matplotlib import pyplot as plt\n",
        "import datetime as dt\n",
        "import matplotlib.ticker as ticker\n",
        "import plotly.graph_objects as go\n",
        "from statsmodels.graphics.factorplots import interaction_plot\n",
        "np.set_printoptions(threshold=np.inf)\n",
        "pd.set_option('display.max_rows', None)\n",
        "import itertools\n",
        "!pip install -U scikit-learn\n",
        "from sklearn.metrics import mean_absolute_percentage_error\n",
        "from tensorflow.keras.utils import to_categorical"
      ],
      "execution_count": null,
      "outputs": [
        {
          "output_type": "stream",
          "name": "stdout",
          "text": [
            "Requirement already satisfied: tensorflow-addons in /usr/local/lib/python3.7/dist-packages (0.15.0)\n",
            "Requirement already satisfied: typeguard>=2.7 in /usr/local/lib/python3.7/dist-packages (from tensorflow-addons) (2.7.1)\n"
          ]
        },
        {
          "output_type": "stream",
          "name": "stderr",
          "text": [
            "/usr/local/lib/python3.7/dist-packages/statsmodels/tools/_testing.py:19: FutureWarning:\n",
            "\n",
            "pandas.util.testing is deprecated. Use the functions in the public API at pandas.testing instead.\n",
            "\n"
          ]
        },
        {
          "output_type": "stream",
          "name": "stdout",
          "text": [
            "Requirement already satisfied: scikit-learn in /usr/local/lib/python3.7/dist-packages (1.0.1)\n",
            "Requirement already satisfied: scipy>=1.1.0 in /usr/local/lib/python3.7/dist-packages (from scikit-learn) (1.4.1)\n",
            "Requirement already satisfied: numpy>=1.14.6 in /usr/local/lib/python3.7/dist-packages (from scikit-learn) (1.19.5)\n",
            "Requirement already satisfied: joblib>=0.11 in /usr/local/lib/python3.7/dist-packages (from scikit-learn) (1.1.0)\n",
            "Requirement already satisfied: threadpoolctl>=2.0.0 in /usr/local/lib/python3.7/dist-packages (from scikit-learn) (3.0.0)\n"
          ]
        }
      ]
    },
    {
      "cell_type": "code",
      "metadata": {
        "colab": {
          "base_uri": "https://localhost:8080/"
        },
        "id": "NLqZL1TdFazQ",
        "outputId": "89f22c8c-90c2-41df-bad6-6bf6a354eac3"
      },
      "source": [
        "data = read_csv(\"https://raw.githubusercontent.com/OxCGRT/covid-policy-tracker/d98db2da901d5707dc3225ee163903005e7645f3/data/OxCGRT_latest.csv\")\n",
        "\n",
        "data = pd.DataFrame(data)\n",
        "\n",
        "# select Thailand only\n",
        "data = data.loc[data['CountryName'] == \"Thailand\"]\n",
        "\n",
        "# select columns\n",
        "data = data[[\"Date\",\"ConfirmedCases\", \"ConfirmedDeaths\"]]\n",
        "\n",
        "# change date format\n",
        "data.Date =  pd.to_datetime(data[\"Date\"], format='%Y%m%d')\n",
        "\n",
        "# reset index\n",
        "data = data.reset_index(drop = True)\n",
        "\n",
        "# replace NaN with 0 for ConfirmedCases and ConfirmedDeaths\n",
        "data[[\"ConfirmedCases\", \"ConfirmedDeaths\"]] = data[[\"ConfirmedCases\", \"ConfirmedDeaths\"]].replace(np.nan, 0)\n",
        "\n",
        "# remove NaN rows (bottom part)\n",
        "data = data.dropna()\n",
        "\n",
        "# add daily cases columns\n",
        "data[[\"Cases_daily\"]] = data['ConfirmedCases'].rolling(window=2).apply(lambda x: x.iloc[1] - x.iloc[0])\n",
        "data[[\"Deaths_daily\"]] = data['ConfirmedDeaths'].rolling(window=2).apply(lambda x: x.iloc[1] - x.iloc[0])\n",
        "\n",
        "# replace NaN with 0 for ConfirmedCases and Deaths_daily\n",
        "data[[\"Cases_daily\", \"Deaths_daily\"]] = data[[\"Cases_daily\", \"Deaths_daily\"]].replace(np.nan, 0)\n",
        "\n",
        "\n",
        "# start from 15/2/2020\n",
        "data = data[data.loc[data['Date'] == \"2020-02-15\"].index[0]:]\n",
        "\n",
        "# reset index\n",
        "data = data.reset_index(drop = True)\n",
        "\n"
      ],
      "execution_count": null,
      "outputs": [
        {
          "output_type": "stream",
          "name": "stderr",
          "text": [
            "/usr/local/lib/python3.7/dist-packages/IPython/core/interactiveshell.py:2718: DtypeWarning:\n",
            "\n",
            "Columns (2,3) have mixed types.Specify dtype option on import or set low_memory=False.\n",
            "\n"
          ]
        }
      ]
    },
    {
      "cell_type": "code",
      "metadata": {
        "colab": {
          "base_uri": "https://localhost:8080/"
        },
        "id": "zSp2BWwkkDGZ",
        "outputId": "1ccec9e5-5968-4b09-b441-a96154c58894"
      },
      "source": [
        "mob = read_csv(\"https://www.gstatic.com/covid19/mobility/Global_Mobility_Report.csv\")\n",
        "\n",
        "mob = pd.DataFrame(mob)\n",
        "\n",
        "# select only Thailand\n",
        "mob = mob.loc[mob['country_region'] == \"Thailand\"]\n",
        "\n",
        "# select columns\n",
        "mob = mob[[\"date\",\n",
        "              \"retail_and_recreation_percent_change_from_baseline\",\n",
        "              \"grocery_and_pharmacy_percent_change_from_baseline\",\n",
        "              \"parks_percent_change_from_baseline\",\n",
        "              \"transit_stations_percent_change_from_baseline\",\n",
        "              \"workplaces_percent_change_from_baseline\",\n",
        "              \"residential_percent_change_from_baseline\"]]\n",
        "\n",
        "# change date format\n",
        "mob.date =  pd.to_datetime(mob[\"date\"])\n",
        "\n",
        "# change column name\n",
        "mob = mob.rename(columns = {'date':'Date',\n",
        "                            \"retail_and_recreation_percent_change_from_baseline\":'retail',\n",
        "                            \"grocery_and_pharmacy_percent_change_from_baseline\": \"grocery\",\n",
        "                            \"parks_percent_change_from_baseline\":'parks',\n",
        "                            \"transit_stations_percent_change_from_baseline\":\"transit\",\n",
        "                            \"workplaces_percent_change_from_baseline\":\"workplace\",\n",
        "                            \"residential_percent_change_from_baseline\":\"resident\"})\n",
        "\n",
        "# reset index\n",
        "mob = mob.reset_index(drop = True)\n",
        "\n",
        "# start from 15/2/2020\n",
        "mob = mob[mob.loc[mob['Date'] == \"2020-02-15\"].index[0]:]\n",
        "\n",
        "# omit Date column\n",
        "mob0 = mob.drop([\"Date\"], axis = 1)\n"
      ],
      "execution_count": null,
      "outputs": [
        {
          "output_type": "stream",
          "name": "stderr",
          "text": [
            "/usr/local/lib/python3.7/dist-packages/IPython/core/interactiveshell.py:2718: DtypeWarning:\n",
            "\n",
            "Columns (3,4,5) have mixed types.Specify dtype option on import or set low_memory=False.\n",
            "\n"
          ]
        }
      ]
    },
    {
      "cell_type": "code",
      "metadata": {
        "id": "FdrCDwQTIE8D"
      },
      "source": [
        "# whichever has fewer data\n",
        "length = min(len(data), len(mob))\n",
        "\n",
        "# Cases daily\n",
        "data_i = pd.concat([data.Cases_daily[:length],\n",
        "                    data.Date[:length], \n",
        "                    mob0[:length]], axis = 1)\n",
        "\n",
        "data_i = data_i.rename(columns = {\"Cases_daily\":\"data_i\"})\n",
        "data_i = data_i[data_i.loc[data_i['Date'] == \"2021-06-15\"].index[0]:]\n",
        "\n",
        "# drop date column\n",
        "data_i = data_i.drop([\"Date\"], axis = 1)\n",
        "\n",
        "# Deaths daily\n",
        "data_d = pd.concat([data.Deaths_daily[:length], \n",
        "                    data.Date[:length],\n",
        "                    mob0[:length]], axis = 1)\n",
        "\n",
        "data_d = data_d.rename(columns = {\"Deaths_daily\":\"data_d\"})\n",
        "data_d = data_d[data_d.loc[data_d['Date'] == \"2021-06-15\"].index[0]:]\n",
        "\n",
        "# drop date column\n",
        "data_d = data_d.drop([\"Date\"], axis = 1)"
      ],
      "execution_count": null,
      "outputs": []
    },
    {
      "cell_type": "code",
      "metadata": {
        "colab": {
          "base_uri": "https://localhost:8080/"
        },
        "id": "baqSI-cT6srS",
        "outputId": "7863f67a-f231-47bf-9328-5dc9c831f1a4"
      },
      "source": [
        "case = read_csv(\"https://raw.githubusercontent.com/OxCGRT/covid-policy-tracker/d98db2da901d5707dc3225ee163903005e7645f3/data/OxCGRT_latest.csv\")\n",
        "\n",
        "case = pd.DataFrame(case)\n",
        "\n",
        "# select Thailand only\n",
        "case = case.loc[case['CountryName'] == \"Thailand\"]\n",
        "\n",
        "case = case[[\"Date\", \"ConfirmedCases\", \"ConfirmedDeaths\"]]\n",
        "\n",
        "# change date format\n",
        "case.Date =  pd.to_datetime(case[\"Date\"], format='%Y%m%d')\n",
        "\n",
        "# reset index\n",
        "case = case.reset_index(drop = True)\n",
        "\n",
        "# replace NaN with 0 for ConfirmedCases and ConfirmedDeaths\n",
        "case[[\"ConfirmedCases\", \"ConfirmedDeaths\"]] = case[[\"ConfirmedCases\", \"ConfirmedDeaths\"]].replace(np.nan, 0)\n",
        "\n",
        "# add daily cases columns\n",
        "case[[\"Cases_daily\"]] = case['ConfirmedCases'].rolling(window=2).apply(lambda x: x.iloc[1] - x.iloc[0])\n",
        "case[[\"Deaths_daily\"]] = case['ConfirmedDeaths'].rolling(window=2).apply(lambda x: x.iloc[1] - x.iloc[0])\n",
        "\n",
        "# replace NaN with 0 for ConfirmedCases and Deaths_daily\n",
        "case[[\"Cases_daily\", \"Deaths_daily\"]] = case[[\"Cases_daily\", \"Deaths_daily\"]].replace(np.nan, 0)\n",
        "\n",
        "# start from 15/2/2020\n",
        "case = case[case.loc[case['Date'] == \"2020-02-15\"].index[0]:]\n",
        "\n",
        "# reset index\n",
        "case = case.reset_index(drop = True)\n",
        "\n",
        "# remove the last rows with incomplete info\n",
        "case = case.loc[~(case[[\"ConfirmedCases\"]]==0).all(axis=1)]\n"
      ],
      "execution_count": null,
      "outputs": [
        {
          "output_type": "stream",
          "name": "stderr",
          "text": [
            "/usr/local/lib/python3.7/dist-packages/IPython/core/interactiveshell.py:2718: DtypeWarning:\n",
            "\n",
            "Columns (2,3) have mixed types.Specify dtype option on import or set low_memory=False.\n",
            "\n"
          ]
        }
      ]
    },
    {
      "cell_type": "code",
      "metadata": {
        "id": "uhNLba3MCmCK"
      },
      "source": [
        "data = data[data.loc[data['Date'] == \"2021-06-15\"].index[0]:]\n",
        "mob = mob[mob.loc[mob['Date'] == \"2021-06-15\"].index[0]:]\n",
        "actual = case[case.loc[case['Date'] == \"2021-06-15\"].index[0]:]\n"
      ],
      "execution_count": null,
      "outputs": []
    },
    {
      "cell_type": "markdown",
      "metadata": {
        "id": "JY3Wjb_5geVH"
      },
      "source": [
        "## Import data"
      ]
    },
    {
      "cell_type": "code",
      "metadata": {
        "id": "F1j1ksxigihL",
        "colab": {
          "base_uri": "https://localhost:8080/"
        },
        "outputId": "4424120e-da56-4a45-b342-ec89ad68efe5"
      },
      "source": [
        "\n",
        "# use the previous 14 days to predict the next day\n",
        "lag = 14\n",
        "prediction = 1\n",
        "window = 3 # for moving average\n",
        "\n",
        "# moving average\n",
        "data_i['data_i'] = data_i.data_i.rolling(window).mean()\n",
        "data_d['data_d'] = data_d.data_d.rolling(window).mean()\n",
        "\n",
        "# remove NaN\n",
        "data.dropna(subset = [\"Cases_daily\", \"Deaths_daily\"], inplace=True)\n",
        "data_i.dropna(subset = [\"data_i\"], inplace=True)\n",
        "data_d.dropna(subset = [\"data_d\"], inplace=True)\n",
        "\n",
        "data = data.reset_index(drop = True)\n",
        "data_i = data_i.reset_index(drop = True)\n",
        "data_d = data_d.reset_index(drop = True)\n",
        "\n"
      ],
      "execution_count": null,
      "outputs": [
        {
          "output_type": "stream",
          "name": "stderr",
          "text": [
            "/usr/local/lib/python3.7/dist-packages/ipykernel_launcher.py:12: SettingWithCopyWarning:\n",
            "\n",
            "\n",
            "A value is trying to be set on a copy of a slice from a DataFrame\n",
            "\n",
            "See the caveats in the documentation: https://pandas.pydata.org/pandas-docs/stable/user_guide/indexing.html#returning-a-view-versus-a-copy\n",
            "\n"
          ]
        }
      ]
    },
    {
      "cell_type": "markdown",
      "metadata": {
        "id": "i3nAzFaX2b5E"
      },
      "source": [
        "## Methods\n",
        "\n",
        "---\n",
        "\n",
        "\n",
        "The data was available from February 22nd, 2020 to September 9th, 2021 (as the date the data was retrieved). However, the third wave of the epidemic in Thailand started after April 1st, 2021, and the trend started to rise after June. Thus, we used the data from, June 15th to July 29th, 2021 for our training; July 30th to August 18th, 2021 for our validation, and August 19th to September 2nd, 2021 for our prediction. There were 31 samples in total for training, 20 samples for validation, and predictions of 15 days ahead. \n",
        "\n",
        "Since confirmed cases, confirmed deaths and vaccination data were given in cumulative counts, we computed the daily cases, deaths and vaccination to match the format of other predictors: mobility and transportation changes. Neural networks required input and output in forms of matrices. The experiments consisted of univariate and multivariate approaches for training, validation, and prediction\n",
        "\n",
        "For the univariate, we created an input matrix with 14 columns as the previous 14 days input. The number of rows was equal to total samples - 14 days - 1-day prediction + 1 or 31 rows. To demonstrate, the first row would have the 1st to the 14th day. The second row would have the 2nd to the 15th day, and so forth as a rolling window. The output matrix would be the 1 column for 1-day prediction with the same amount of rows as the input matrix. For example, the first row would be the 15th day for the 1-day prediction. Since the neural networks could only work with at least 2 dimensions, we transformed both input and output matrices into 3 dimensions (with 1 as the third dimension)."
      ]
    },
    {
      "cell_type": "markdown",
      "metadata": {
        "id": "SGBoNeLdOjdy"
      },
      "source": [
        "## Data Preprocessing: Multivariate"
      ]
    },
    {
      "cell_type": "code",
      "metadata": {
        "id": "g9mNq2fInQs5"
      },
      "source": [
        "def split_sequence(sequence, lag):\n",
        "  x, y = list(), list()\n",
        "  for i in range(len(sequence)):\n",
        "    # find the end of this pattern\n",
        "    end_ix = i + lag\n",
        "    # check if we are beyond the sequence\n",
        "    if end_ix > len(sequence)-1:\n",
        "      break\n",
        "    # gather input and output parts of the pattern\n",
        "    seq_x, seq_y = sequence[i:end_ix], sequence[end_ix]\n",
        "    x.append(seq_x)\n",
        "    y.append(seq_y)\n",
        "  return array(x), array(y)\n",
        "\n",
        "index = 30"
      ],
      "execution_count": null,
      "outputs": []
    },
    {
      "cell_type": "code",
      "metadata": {
        "id": "ogP6ikmAMqcl"
      },
      "source": [
        "# confirmed cases\n",
        "nrow_total = data_i.shape[0] - lag - prediction + 1\n",
        "\n",
        "y_i = np.array([data_i.data_i[lag:data_i.shape[0]]])\n",
        "y_i = y_i.T # transpose the matrix\n",
        "\n",
        "# split into training and test sets\n",
        "# retail\n",
        "input_list = [np.expand_dims(data_i[i:lag+i][[\"retail\", \"data_i\"]], axis=0) for i in range(nrow_total)] \n",
        "X_i = np.concatenate(input_list, axis=0)\n",
        "X_i_tr_retail = X_i[0:index+1, :, :]\n",
        "X_i_ts_retail = X_i[index+1:data_i.shape[0], :, :]\n",
        "\n",
        "# grocery\n",
        "input_list = [np.expand_dims(data_i[i:lag+i][[\"grocery\", \"data_i\"]], axis=0) for i in range(nrow_total)] \n",
        "X_i = np.concatenate(input_list, axis=0)\n",
        "X_i_tr_grocery = X_i[0:index+1, :, :]\n",
        "X_i_ts_grocery = X_i[index+1:data_i.shape[0], :, :]\n",
        "\n",
        "# parks\n",
        "input_list = [np.expand_dims(data_i[i:lag+i][[\"parks\", \"data_i\"]], axis=0) for i in range(nrow_total)] \n",
        "X_i = np.concatenate(input_list, axis=0)\n",
        "X_i_tr_parks = X_i[0:index+1, :, :]\n",
        "X_i_ts_parks = X_i[index+1:data_i.shape[0], :, :]\n",
        "\n",
        "# transit\n",
        "input_list = [np.expand_dims(data_i[i:lag+i][[\"transit\", \"data_i\"]], axis=0) for i in range(nrow_total)] \n",
        "X_i = np.concatenate(input_list, axis=0)\n",
        "X_i_tr_transit = X_i[0:index+1, :, :]\n",
        "X_i_ts_transit = X_i[index+1:data_i.shape[0], :, :]\n",
        "\n",
        "# workplace\n",
        "input_list = [np.expand_dims(data_i[i:lag+i][[\"workplace\", \"data_i\"]], axis=0) for i in range(nrow_total)] \n",
        "X_i = np.concatenate(input_list, axis=0)\n",
        "X_i_tr_workplace = X_i[0:index+1, :, :]\n",
        "X_i_ts_workplace = X_i[index+1:data_i.shape[0], :, :]\n",
        "\n",
        "# resident\n",
        "input_list = [np.expand_dims(data_i[i:lag+i][[\"resident\", \"data_i\"]], axis=0) for i in range(nrow_total)] \n",
        "X_i = np.concatenate(input_list, axis=0)\n",
        "X_i_tr_resident = X_i[0:index+1, :, :]\n",
        "X_i_ts_resident = X_i[index+1:data_i.shape[0], :, :]\n",
        "\n",
        "\n",
        "y_i_tr = y_i[0:index+1]\n",
        "y_i_ts = y_i[index+1:data_i.shape[0]]\n",
        "\n",
        "# confirmed deaths\n",
        "nrow_total = data_d.shape[0] - lag - prediction + 1\n",
        "\n",
        "y_d = np.array([data_d.data_d[lag:data_d.shape[0]]])\n",
        "y_d = y_d.T # transpose the matrix\n",
        "\n",
        "\n",
        "# split into training and test sets\n",
        "# retail\n",
        "input_list = [np.expand_dims(data_d[i:lag+i][[\"retail\", \"data_d\"]], axis=0) for i in range(nrow_total)] \n",
        "X_d = np.concatenate(input_list, axis=0)\n",
        "X_d_tr_retail = X_d[0:index+1, :, :]\n",
        "X_d_ts_retail = X_d[index+1:data_d.shape[0], :, :]\n",
        "\n",
        "# grocery\n",
        "input_list = [np.expand_dims(data_d[i:lag+i][[\"grocery\", \"data_d\"]], axis=0) for i in range(nrow_total)] \n",
        "X_d = np.concatenate(input_list, axis=0)\n",
        "X_d_tr_grocery = X_d[0:index+1, :, :]\n",
        "X_d_ts_grocery = X_d[index+1:data_d.shape[0], :, :]\n",
        "\n",
        "# parks\n",
        "input_list = [np.expand_dims(data_d[i:lag+i][[\"parks\", \"data_d\"]], axis=0) for i in range(nrow_total)] \n",
        "X_d = np.concatenate(input_list, axis=0)\n",
        "X_d_tr_parks = X_d[0:index+1, :, :]\n",
        "X_d_ts_parks = X_d[index+1:data_d.shape[0], :, :]\n",
        "\n",
        "# transit\n",
        "input_list = [np.expand_dims(data_d[i:lag+i][[\"transit\", \"data_d\"]], axis=0) for i in range(nrow_total)] \n",
        "X_d = np.concatenate(input_list, axis=0)\n",
        "X_d_tr_transit = X_d[0:index+1, :, :]\n",
        "X_d_ts_transit = X_d[index+1:data_d.shape[0], :, :]\n",
        "\n",
        "# workplace\n",
        "input_list = [np.expand_dims(data_d[i:lag+i][[\"workplace\", \"data_d\"]], axis=0) for i in range(nrow_total)] \n",
        "X_d = np.concatenate(input_list, axis=0)\n",
        "X_d_tr_workplace = X_d[0:index+1, :, :]\n",
        "X_d_ts_workplace = X_d[index+1:data_d.shape[0], :, :]\n",
        "\n",
        "# resident\n",
        "input_list = [np.expand_dims(data_d[i:lag+i][[\"resident\", \"data_d\"]], axis=0) for i in range(nrow_total)] \n",
        "X_d = np.concatenate(input_list, axis=0)\n",
        "X_d_tr_resident = X_d[0:index+1, :, :]\n",
        "X_d_ts_resident = X_d[index+1:data_d.shape[0], :, :]\n",
        "\n",
        "\n",
        "y_d_tr = y_d[0:index+1]\n",
        "y_d_ts = y_d[index+1:data_d.shape[0]]\n"
      ],
      "execution_count": null,
      "outputs": []
    },
    {
      "cell_type": "markdown",
      "metadata": {
        "id": "XjC_-GRDDUqM"
      },
      "source": [
        "# Retail"
      ]
    },
    {
      "cell_type": "markdown",
      "metadata": {
        "id": "eCEO9U_tX6nP"
      },
      "source": [
        "## Analysis\n",
        "\n",
        "---\n",
        "\n",
        "\n",
        "\n",
        "### Hyperparameters Tuning\n",
        "\n",
        "\n",
        "Using the training set matrices for confirmed cases and confirmed deaths and univiariate and multivariate, we tuned for the most optimal numbers of parameters, staring from basic architectures. In this case, we searched for numbers of nodes for LSTM, GRU, and RNNs, and filter, kernel size, and pool for CNN. In the input layer, we added instance normalization to make all values between 0 and 1. Since we were dealing with some data that we had never seen before and the data seemed to be non-stationary, instance normalization might provide more advantages than typical standardization or normalization. The numbers of nodes that we used for our LSTM, GRU, and RNNs experiments were 4, 8, 16, 32, 64, 128, 256, 512, and 1024. Similarly, we used the same pool for CNN filter with kernel size of 3, 5 and 7, and pool of 2 and 3. The activation function for this hidden layer was sigmoid. Next, we added another instance normalization. Finally, the output layer contained one node and Linear activation function. Epoch and batch size were 50 and 1, respectively. We used mean squared error (MSE) as our loss function, ADAM optimization and mean absolute percentage error (MAPE) as a metric for model evaluation.\n"
      ]
    },
    {
      "cell_type": "markdown",
      "metadata": {
        "id": "PgWYXmJLYATE"
      },
      "source": [
        "### CNN"
      ]
    },
    {
      "cell_type": "code",
      "metadata": {
        "id": "pZJnpt8jZRZZ"
      },
      "source": [
        "# CNN Tuning\n",
        "\n",
        "def evaluate_cnn(trainX, trainy, filter, kernel_size, pool):\n",
        "    seed(1)\n",
        "    tensorflow.random.set_seed(1)\n",
        "\n",
        "    verbose, epochs, batch_size = 0, 50, 1\n",
        "    n_timesteps, n_features = trainX.shape[1], trainX.shape[2]\n",
        "\n",
        "    model = Sequential()\n",
        "    model.add(Conv1D(filters = filter, kernel_size=kernel_size, activation='relu',input_shape=(n_timesteps,n_features)))\n",
        "    model.add(MaxPooling1D(pool_size= pool))\n",
        "    model.add(Flatten())\n",
        "    model.add(Dense(1, activation='linear'))\n",
        "    model.compile(loss='mse', optimizer='adam', metrics=['MAPE'])\n",
        "  \n",
        "    # fit network\n",
        "    model.fit(trainX, trainy, epochs=epochs, batch_size=batch_size, verbose=verbose, shuffle = False)\n",
        "    # evaluate model\n",
        "    _, accuracy = model.evaluate(trainX, trainy, batch_size=batch_size, verbose=0)\n",
        "    return accuracy\n",
        "\n",
        "# run an experiment\n",
        "def run_experiment(filters, kernel_size, pool, trainX, trainy):\n",
        "    # test each parameter\n",
        "    all_scores = list()\n",
        "    for filter in filters:\n",
        "      for kernel in kernel_size:\n",
        "        for pooling in pool:\n",
        "          score = evaluate_cnn(trainX, trainy, filter, kernel_size, pool)\n",
        "          print('filter = %d, kernel size = %d, pooling size = %d: %.3f' % (filter, kernel, pooling, score))\n",
        "          all_scores.append(score)\n",
        "    return all_scores\n",
        "    \n",
        "\n",
        "\n",
        "filter = [2, 4, 8, 16, 32, 64, 128, 256, 512, 1024] \n"
      ],
      "execution_count": null,
      "outputs": []
    },
    {
      "cell_type": "code",
      "metadata": {
        "colab": {
          "base_uri": "https://localhost:8080/"
        },
        "id": "ixTPBVxFn3GN",
        "outputId": "dcf9a0e8-4dda-4358-de50-d9725c85b0f1"
      },
      "source": [
        "# Multivariate CNN confirmed cases\n",
        "\n",
        "kernel = [3, 5, 7]\n",
        "pool = [2]\n",
        "cnn_i_multi_retail = list()\n",
        "\n",
        "for i in kernel:\n",
        "  for j in pool: \n",
        "    score = list()\n",
        "    kernel_size, pool = [i],[j]\n",
        "    score = run_experiment(filter, kernel_size, pool,X_i_tr_retail, y_i_tr)\n",
        "    cnn_i_multi_retail.append(score)\n",
        "\n",
        "pool = [3]\n",
        "\n",
        "for i in kernel:\n",
        "  for j in pool: \n",
        "    kernel_size, pool = [i],[j]\n",
        "    score = run_experiment(filter, kernel_size, pool, X_i_tr_retail, y_i_tr)\n",
        "    cnn_i_multi_retail.append(score)\n",
        "\n",
        "cnn_i_multi_retail = pd.DataFrame(cnn_i_multi_retail).T\n",
        "cnn_i_multi_retail.columns = ['k3p2', 'k5p2','k7p2', 'k3p3', 'k5p3', 'k7p3']"
      ],
      "execution_count": null,
      "outputs": [
        {
          "output_type": "stream",
          "name": "stdout",
          "text": [
            "filter = 2, kernel size = 3, pooling size = 2: 5.474\n",
            "filter = 4, kernel size = 3, pooling size = 2: 5.503\n",
            "filter = 8, kernel size = 3, pooling size = 2: 5.854\n",
            "filter = 16, kernel size = 3, pooling size = 2: 4.428\n",
            "filter = 32, kernel size = 3, pooling size = 2: 4.273\n",
            "filter = 64, kernel size = 3, pooling size = 2: 3.798\n",
            "filter = 128, kernel size = 3, pooling size = 2: 3.742\n",
            "filter = 256, kernel size = 3, pooling size = 2: 4.267\n",
            "filter = 512, kernel size = 3, pooling size = 2: 4.746\n",
            "filter = 1024, kernel size = 3, pooling size = 2: 4.886\n",
            "filter = 2, kernel size = 5, pooling size = 2: 5.606\n",
            "filter = 4, kernel size = 5, pooling size = 2: 4.751\n",
            "filter = 8, kernel size = 5, pooling size = 2: 4.462\n",
            "filter = 16, kernel size = 5, pooling size = 2: 3.421\n",
            "filter = 32, kernel size = 5, pooling size = 2: 4.365\n",
            "filter = 64, kernel size = 5, pooling size = 2: 3.858\n",
            "filter = 128, kernel size = 5, pooling size = 2: 3.736\n",
            "filter = 256, kernel size = 5, pooling size = 2: 4.433\n",
            "filter = 512, kernel size = 5, pooling size = 2: 4.699\n",
            "filter = 1024, kernel size = 5, pooling size = 2: 5.953\n",
            "filter = 2, kernel size = 7, pooling size = 2: 5.674\n",
            "filter = 4, kernel size = 7, pooling size = 2: 5.271\n",
            "filter = 8, kernel size = 7, pooling size = 2: 6.087\n",
            "filter = 16, kernel size = 7, pooling size = 2: 4.958\n",
            "filter = 32, kernel size = 7, pooling size = 2: 5.032\n",
            "filter = 64, kernel size = 7, pooling size = 2: 3.972\n",
            "filter = 128, kernel size = 7, pooling size = 2: 4.375\n",
            "filter = 256, kernel size = 7, pooling size = 2: 4.277\n",
            "filter = 512, kernel size = 7, pooling size = 2: 4.643\n",
            "filter = 1024, kernel size = 7, pooling size = 2: 5.417\n",
            "filter = 2, kernel size = 3, pooling size = 3: 5.580\n",
            "filter = 4, kernel size = 3, pooling size = 3: 4.724\n",
            "filter = 8, kernel size = 3, pooling size = 3: 4.392\n",
            "filter = 16, kernel size = 3, pooling size = 3: 4.681\n",
            "filter = 32, kernel size = 3, pooling size = 3: 4.306\n",
            "filter = 64, kernel size = 3, pooling size = 3: 4.346\n",
            "filter = 128, kernel size = 3, pooling size = 3: 3.878\n",
            "filter = 256, kernel size = 3, pooling size = 3: 3.843\n",
            "filter = 512, kernel size = 3, pooling size = 3: 4.198\n",
            "filter = 1024, kernel size = 3, pooling size = 3: 5.445\n",
            "filter = 2, kernel size = 5, pooling size = 3: 5.557\n",
            "filter = 4, kernel size = 5, pooling size = 3: 5.580\n",
            "filter = 8, kernel size = 5, pooling size = 3: 5.007\n",
            "filter = 16, kernel size = 5, pooling size = 3: 4.680\n",
            "filter = 32, kernel size = 5, pooling size = 3: 5.136\n",
            "filter = 64, kernel size = 5, pooling size = 3: 5.029\n",
            "filter = 128, kernel size = 5, pooling size = 3: 4.466\n",
            "filter = 256, kernel size = 5, pooling size = 3: 4.423\n",
            "filter = 512, kernel size = 5, pooling size = 3: 5.097\n",
            "filter = 1024, kernel size = 5, pooling size = 3: 5.397\n",
            "filter = 2, kernel size = 7, pooling size = 3: 5.160\n",
            "filter = 4, kernel size = 7, pooling size = 3: 5.848\n",
            "filter = 8, kernel size = 7, pooling size = 3: 6.257\n",
            "filter = 16, kernel size = 7, pooling size = 3: 4.991\n",
            "filter = 32, kernel size = 7, pooling size = 3: 5.903\n",
            "filter = 64, kernel size = 7, pooling size = 3: 4.897\n",
            "filter = 128, kernel size = 7, pooling size = 3: 4.666\n",
            "filter = 256, kernel size = 7, pooling size = 3: 4.596\n",
            "filter = 512, kernel size = 7, pooling size = 3: 4.883\n",
            "filter = 1024, kernel size = 7, pooling size = 3: 5.302\n"
          ]
        }
      ]
    },
    {
      "cell_type": "code",
      "metadata": {
        "colab": {
          "base_uri": "https://localhost:8080/"
        },
        "id": "f9h_O6Nsnz2C",
        "outputId": "e011f8b2-4698-4e94-9da7-9aaf9f9a89aa"
      },
      "source": [
        "# Multivariate CNN confirmed deaths\n",
        "\n",
        "pool = [2]\n",
        "cnn_d_multi_retail = list()\n",
        "\n",
        "for i in kernel:\n",
        "  for j in pool:\n",
        "    score = list() \n",
        "    kernel_size, pool = [i],[j]\n",
        "    score = run_experiment(filter, kernel_size, pool, X_d_tr_retail, y_d_tr)\n",
        "    cnn_d_multi_retail.append(score)\n",
        "\n",
        "pool = [3]\n",
        "\n",
        "for i in kernel:\n",
        "  for j in pool: \n",
        "    score = list()\n",
        "    kernel_size, pool = [i],[j]\n",
        "    score = run_experiment(filter, kernel_size, pool, X_d_tr_retail, y_d_tr)\n",
        "    cnn_d_multi_retail.append(score)\n",
        "\n",
        "cnn_d_multi_retail = pd.DataFrame(cnn_d_multi_retail).T\n",
        "cnn_d_multi_retail.columns = ['k3p2', 'k3p3','k5p2', 'k7p2', 'k5p3', 'k7p3']"
      ],
      "execution_count": null,
      "outputs": [
        {
          "output_type": "stream",
          "name": "stdout",
          "text": [
            "filter = 2, kernel size = 3, pooling size = 2: 11.323\n",
            "filter = 4, kernel size = 3, pooling size = 2: 11.252\n",
            "filter = 8, kernel size = 3, pooling size = 2: 9.561\n",
            "filter = 16, kernel size = 3, pooling size = 2: 10.212\n",
            "filter = 32, kernel size = 3, pooling size = 2: 9.218\n",
            "filter = 64, kernel size = 3, pooling size = 2: 6.300\n",
            "filter = 128, kernel size = 3, pooling size = 2: 6.138\n",
            "filter = 256, kernel size = 3, pooling size = 2: 5.434\n",
            "filter = 512, kernel size = 3, pooling size = 2: 5.749\n",
            "filter = 1024, kernel size = 3, pooling size = 2: 7.455\n",
            "filter = 2, kernel size = 5, pooling size = 2: 9.736\n",
            "filter = 4, kernel size = 5, pooling size = 2: 9.468\n",
            "filter = 8, kernel size = 5, pooling size = 2: 7.749\n",
            "filter = 16, kernel size = 5, pooling size = 2: 7.367\n",
            "filter = 32, kernel size = 5, pooling size = 2: 6.734\n",
            "filter = 64, kernel size = 5, pooling size = 2: 7.114\n",
            "filter = 128, kernel size = 5, pooling size = 2: 7.589\n",
            "filter = 256, kernel size = 5, pooling size = 2: 8.055\n",
            "filter = 512, kernel size = 5, pooling size = 2: 8.069\n",
            "filter = 1024, kernel size = 5, pooling size = 2: 9.860\n",
            "filter = 2, kernel size = 7, pooling size = 2: 10.069\n",
            "filter = 4, kernel size = 7, pooling size = 2: 11.312\n",
            "filter = 8, kernel size = 7, pooling size = 2: 9.972\n",
            "filter = 16, kernel size = 7, pooling size = 2: 8.970\n",
            "filter = 32, kernel size = 7, pooling size = 2: 7.388\n",
            "filter = 64, kernel size = 7, pooling size = 2: 6.613\n",
            "filter = 128, kernel size = 7, pooling size = 2: 7.508\n",
            "filter = 256, kernel size = 7, pooling size = 2: 9.248\n",
            "filter = 512, kernel size = 7, pooling size = 2: 9.165\n",
            "filter = 1024, kernel size = 7, pooling size = 2: 11.556\n",
            "filter = 2, kernel size = 3, pooling size = 3: 10.245\n",
            "filter = 4, kernel size = 3, pooling size = 3: 9.818\n",
            "filter = 8, kernel size = 3, pooling size = 3: 10.122\n",
            "filter = 16, kernel size = 3, pooling size = 3: 8.614\n",
            "filter = 32, kernel size = 3, pooling size = 3: 9.331\n",
            "filter = 64, kernel size = 3, pooling size = 3: 8.005\n",
            "filter = 128, kernel size = 3, pooling size = 3: 6.709\n",
            "filter = 256, kernel size = 3, pooling size = 3: 6.693\n",
            "filter = 512, kernel size = 3, pooling size = 3: 6.598\n",
            "filter = 1024, kernel size = 3, pooling size = 3: 6.920\n",
            "filter = 2, kernel size = 5, pooling size = 3: 10.372\n",
            "filter = 4, kernel size = 5, pooling size = 3: 9.993\n",
            "filter = 8, kernel size = 5, pooling size = 3: 9.757\n",
            "filter = 16, kernel size = 5, pooling size = 3: 7.944\n",
            "filter = 32, kernel size = 5, pooling size = 3: 8.649\n",
            "filter = 64, kernel size = 5, pooling size = 3: 7.422\n",
            "filter = 128, kernel size = 5, pooling size = 3: 7.163\n",
            "filter = 256, kernel size = 5, pooling size = 3: 8.309\n",
            "filter = 512, kernel size = 5, pooling size = 3: 7.912\n",
            "filter = 1024, kernel size = 5, pooling size = 3: 9.722\n",
            "filter = 2, kernel size = 7, pooling size = 3: 98.124\n",
            "filter = 4, kernel size = 7, pooling size = 3: 11.116\n",
            "filter = 8, kernel size = 7, pooling size = 3: 10.442\n",
            "filter = 16, kernel size = 7, pooling size = 3: 9.234\n",
            "filter = 32, kernel size = 7, pooling size = 3: 9.822\n",
            "filter = 64, kernel size = 7, pooling size = 3: 7.515\n",
            "filter = 128, kernel size = 7, pooling size = 3: 7.800\n",
            "filter = 256, kernel size = 7, pooling size = 3: 8.581\n",
            "filter = 512, kernel size = 7, pooling size = 3: 9.119\n",
            "filter = 1024, kernel size = 7, pooling size = 3: 9.680\n"
          ]
        }
      ]
    },
    {
      "cell_type": "markdown",
      "metadata": {
        "id": "eDXGbHvPZNn1"
      },
      "source": [
        "### LSTM"
      ]
    },
    {
      "cell_type": "code",
      "metadata": {
        "id": "XwruQErcVIGp"
      },
      "source": [
        "def evaluate_lstm(trainX, trainy, units):\n",
        "    seed(1)\n",
        "    tensorflow.random.set_seed(1)\n",
        "\n",
        "    verbose, epochs, batch_size = 0, 50, 1\n",
        "    n_timesteps, n_features = trainX.shape[1], trainX.shape[2]\n",
        "\n",
        "    model = Sequential()\n",
        "    model.add(LSTM(units = units, activation='relu', input_shape=(n_timesteps,n_features)))\n",
        "    model.add(Dense(1, activation='linear'))\n",
        "    model.compile(loss='mse', optimizer='adam', metrics=['MAPE'])\n",
        "  \n",
        "    # fit network\n",
        "    model.fit(trainX, trainy, epochs=epochs, batch_size=batch_size, verbose=verbose, shuffle = False)\n",
        "    # evaluate model\n",
        "    _, accuracy = model.evaluate(trainX, trainy, batch_size=batch_size, verbose=0)\n",
        "    return accuracy\n",
        "\n",
        "\n",
        "# # Univariate LSTM confirmed cases\n",
        "units = [2, 4,8,16,32,64,128,256,512, 1024]\n",
        "\n",
        "\n",
        "# Multivariate LSTM confirmed cases\n",
        "\n",
        "lstm_i_multi_retail = list()\n",
        "\n",
        "for i in units:\n",
        "  score = list()\n",
        "  score = evaluate_lstm(X_i_tr_retail, y_i_tr, i)\n",
        "  lstm_i_multi_retail.append(score)\n",
        "\n",
        "\n",
        "\n",
        "# Multivariate LSTM confirmed deaths\n",
        "\n",
        "lstm_d_multi_retail = list()\n",
        "\n",
        "for i in units:\n",
        "  score = list()\n",
        "  score = evaluate_lstm(X_d_tr_retail, y_d_tr, i)\n",
        "  lstm_d_multi_retail.append(score)"
      ],
      "execution_count": null,
      "outputs": []
    },
    {
      "cell_type": "markdown",
      "metadata": {
        "id": "u5EHjmk8ZwNb"
      },
      "source": [
        "### GRU"
      ]
    },
    {
      "cell_type": "code",
      "metadata": {
        "id": "8Pkcl1joZuxL"
      },
      "source": [
        "def evaluate_gru(trainX, trainy, units):\n",
        "    seed(1)\n",
        "    tensorflow.random.set_seed(1)\n",
        "\n",
        "    verbose, epochs, batch_size = 0, 50, 1\n",
        "    n_timesteps, n_features = trainX.shape[1], trainX.shape[2]\n",
        "\n",
        "    model = Sequential()\n",
        "    model.add(GRU(units = units, activation='relu', input_shape=(n_timesteps,n_features)))\n",
        "    model.add(Dense(1, activation='linear'))\n",
        "    model.compile(loss='mse', optimizer='adam', metrics=['MAPE'])\n",
        "  \n",
        "    # fit network\n",
        "    model.fit(trainX, trainy, epochs=epochs, batch_size=batch_size, verbose=verbose, shuffle = False)\n",
        "    # evaluate model\n",
        "    _, accuracy = model.evaluate(trainX, trainy, batch_size=batch_size, verbose=0)\n",
        "    return accuracy\n",
        "\n",
        "# Multivariate GRU confirmed cases\n",
        "\n",
        "gru_i_multi_retail = list()\n",
        "\n",
        "for i in units:\n",
        "  score = list()\n",
        "  score = evaluate_gru(X_i_tr_retail, y_i_tr, i)\n",
        "  gru_i_multi_retail.append(score)\n",
        "\n",
        "\n",
        "# Multivariate GRU confirmed deaths\n",
        "\n",
        "gru_d_multi_retail = list()\n",
        "\n",
        "for i in units:\n",
        "  score = list()\n",
        "  score = evaluate_gru(X_d_tr_retail, y_d_tr, i)\n",
        "  gru_d_multi_retail.append(score)"
      ],
      "execution_count": null,
      "outputs": []
    },
    {
      "cell_type": "markdown",
      "metadata": {
        "id": "LxvR7HvgbL9i"
      },
      "source": [
        "### RNNs"
      ]
    },
    {
      "cell_type": "code",
      "metadata": {
        "id": "pHWbTWi0bOet"
      },
      "source": [
        "def evaluate_rnn(trainX, trainy, units):\n",
        "    seed(1)\n",
        "    tensorflow.random.set_seed(1)\n",
        "\n",
        "    verbose, epochs, batch_size = 0, 50, 1\n",
        "    n_timesteps, n_features = trainX.shape[1], trainX.shape[2]\n",
        "\n",
        "    model = Sequential()\n",
        "    model.add(SimpleRNN(units = units, activation='relu', input_shape=(n_timesteps,n_features)))\n",
        "    model.add(Dense(1, activation='linear'))\n",
        "    model.compile(loss='mse', optimizer='adam', metrics=['MAPE'])\n",
        "  \n",
        "    # fit network\n",
        "    model.fit(trainX, trainy, epochs=epochs, batch_size=batch_size, verbose=verbose, shuffle = False)\n",
        "    # evaluate model\n",
        "    _, accuracy = model.evaluate(trainX, trainy, batch_size=batch_size, verbose=0)\n",
        "    return accuracy\n",
        "\n",
        "# Multivariate RNNs confirmed cases\n",
        "\n",
        "rnn_i_multi_retail = list()\n",
        "\n",
        "for i in units:\n",
        "  score = list()\n",
        "  score = evaluate_rnn(X_i_tr_retail, y_i_tr, i)\n",
        "  rnn_i_multi_retail.append(score)\n",
        "\n",
        "\n",
        "# Multivariate RNNs confirmed deaths\n",
        "\n",
        "rnn_d_multi_retail = list()\n",
        "\n",
        "for i in units:\n",
        "  score = list()\n",
        "  score = evaluate_rnn(X_d_tr_retail, y_d_tr, i)\n",
        "  rnn_d_multi_retail.append(score)"
      ],
      "execution_count": null,
      "outputs": []
    },
    {
      "cell_type": "markdown",
      "metadata": {
        "id": "91h9IuDksSs2"
      },
      "source": [
        "### Result Table"
      ]
    },
    {
      "cell_type": "markdown",
      "metadata": {
        "id": "wWeNmaup5b5U"
      },
      "source": [
        "#### Multivariate Confirmed Cases"
      ]
    },
    {
      "cell_type": "code",
      "metadata": {
        "colab": {
          "base_uri": "https://localhost:8080/",
          "height": 737
        },
        "id": "0nimG2vW0zLO",
        "outputId": "a07b4a46-3f35-4eb5-8b01-20b5598cc8c9"
      },
      "source": [
        "fig = go.Figure(data=[go.Table(header=dict(values=['Model', 'Kernel size', 'Pool', '2 Nodes', '4 Nodes', '8 Nodes', '16 Nodes', \n",
        "                                                   '32 Nodes', \"64 Nodes\", '128 Nodes', '256 Nodes', '512 Nodes', '1024 Nodes'],\n",
        "                                           line_color = 'gray'),\n",
        "                               cells=dict(values=[['LSTM', 'GRU', 'RNNs', 'CNN',\n",
        "                                                   'CNN', 'CNN', 'CNN', 'CNN', 'CNN'],\n",
        "                                                  ['-', '-', '-', '3', '5', '7', '3', '5', '7'],\n",
        "                                                  ['-', '-', '-', '2', '2', '2', '3', '3', '3'],\n",
        "                                    [round(lstm_i_multi_retail[0],3), \n",
        "                                     round(gru_i_multi_retail[0],3),\n",
        "                                     round(rnn_i_multi_retail[0],3), \n",
        "                                     round(cnn_i_multi_retail.iloc[0,0],3),\n",
        "                                     round(cnn_i_multi_retail.iloc[0,1],3),\n",
        "                                     round(cnn_i_multi_retail.iloc[0,2],3),\n",
        "                                     round(cnn_i_multi_retail.iloc[0,3],3),\n",
        "                                     round(cnn_i_multi_retail.iloc[0,4],3),\n",
        "                                     round(cnn_i_multi_retail.iloc[0,5],3)],\n",
        "                                     [round(lstm_i_multi_retail[1],3), \n",
        "                                     round(gru_i_multi_retail[1],3),\n",
        "                                     round(rnn_i_multi_retail[1],3), \n",
        "                                     round(cnn_i_multi_retail.iloc[1,0],3),\n",
        "                                     round(cnn_i_multi_retail.iloc[1,1],3),\n",
        "                                     round(cnn_i_multi_retail.iloc[1,2],3),\n",
        "                                     round(cnn_i_multi_retail.iloc[1,3],3),\n",
        "                                     round(cnn_i_multi_retail.iloc[1,4],3),\n",
        "                                     round(cnn_i_multi_retail.iloc[1,5],3)],\n",
        "                                     [round(lstm_i_multi_retail[2],3), \n",
        "                                     round(gru_i_multi_retail[2],3),\n",
        "                                     round(rnn_i_multi_retail[2],3), \n",
        "                                     round(cnn_i_multi_retail.iloc[2,0],3),\n",
        "                                     round(cnn_i_multi_retail.iloc[2,1],3),\n",
        "                                     round(cnn_i_multi_retail.iloc[2,2],3),\n",
        "                                     round(cnn_i_multi_retail.iloc[2,3],3),\n",
        "                                     round(cnn_i_multi_retail.iloc[2,4],3),\n",
        "                                     round(cnn_i_multi_retail.iloc[2,5],3)],\n",
        "                                     [round(lstm_i_multi_retail[3],3), \n",
        "                                     round(gru_i_multi_retail[3],3),\n",
        "                                     round(rnn_i_multi_retail[3],3), \n",
        "                                     round(cnn_i_multi_retail.iloc[3,0],3),\n",
        "                                     round(cnn_i_multi_retail.iloc[3,1],3),\n",
        "                                     round(cnn_i_multi_retail.iloc[3,2],3),\n",
        "                                     round(cnn_i_multi_retail.iloc[3,3],3),\n",
        "                                     round(cnn_i_multi_retail.iloc[3,4],3),\n",
        "                                     round(cnn_i_multi_retail.iloc[3,5],3)],\n",
        "                                     [round(lstm_i_multi_retail[4],3), \n",
        "                                     round(gru_i_multi_retail[4],3),\n",
        "                                     round(rnn_i_multi_retail[4],3), \n",
        "                                     round(cnn_i_multi_retail.iloc[4,0],3),\n",
        "                                     round(cnn_i_multi_retail.iloc[4,1],3),\n",
        "                                     round(cnn_i_multi_retail.iloc[4,2],3),\n",
        "                                     round(cnn_i_multi_retail.iloc[4,3],3),\n",
        "                                     round(cnn_i_multi_retail.iloc[4,4],3),\n",
        "                                     round(cnn_i_multi_retail.iloc[4,5],3)],\n",
        "                                     [round(lstm_i_multi_retail[5],3), \n",
        "                                     round(gru_i_multi_retail[5],3),\n",
        "                                     round(rnn_i_multi_retail[5],3), \n",
        "                                     round(cnn_i_multi_retail.iloc[5,0],3),\n",
        "                                     round(cnn_i_multi_retail.iloc[5,1],3),\n",
        "                                     round(cnn_i_multi_retail.iloc[5,2],3),\n",
        "                                     round(cnn_i_multi_retail.iloc[5,3],3),\n",
        "                                     round(cnn_i_multi_retail.iloc[5,4],3),\n",
        "                                     round(cnn_i_multi_retail.iloc[5,5],3)],\n",
        "                                     [round(lstm_i_multi_retail[6],3), \n",
        "                                     round(gru_i_multi_retail[6],3),\n",
        "                                     round(rnn_i_multi_retail[6],3), \n",
        "                                     round(cnn_i_multi_retail.iloc[6,0],3),\n",
        "                                     round(cnn_i_multi_retail.iloc[6,1],3),\n",
        "                                     round(cnn_i_multi_retail.iloc[6,2],3),\n",
        "                                     round(cnn_i_multi_retail.iloc[6,3],3),\n",
        "                                     round(cnn_i_multi_retail.iloc[6,4],3),\n",
        "                                     round(cnn_i_multi_retail.iloc[6,5],3)],\n",
        "                                     [round(lstm_i_multi_retail[7],3), \n",
        "                                     round(gru_i_multi_retail[7],3),\n",
        "                                     round(rnn_i_multi_retail[7],3), \n",
        "                                     round(cnn_i_multi_retail.iloc[7,0],3),\n",
        "                                     round(cnn_i_multi_retail.iloc[7,1],3),\n",
        "                                     round(cnn_i_multi_retail.iloc[7,2],3),\n",
        "                                     round(cnn_i_multi_retail.iloc[7,3],3),\n",
        "                                     round(cnn_i_multi_retail.iloc[7,4],3),\n",
        "                                     round(cnn_i_multi_retail.iloc[7,5],3)],\n",
        "                                     [round(lstm_i_multi_retail[8],3), \n",
        "                                     round(gru_i_multi_retail[8],3),\n",
        "                                     round(rnn_i_multi_retail[8],3), \n",
        "                                     round(cnn_i_multi_retail.iloc[8,0],3),\n",
        "                                     round(cnn_i_multi_retail.iloc[8,1],3),\n",
        "                                     round(cnn_i_multi_retail.iloc[8,2],3),\n",
        "                                     round(cnn_i_multi_retail.iloc[8,3],3),\n",
        "                                     round(cnn_i_multi_retail.iloc[8,4],3),\n",
        "                                     round(cnn_i_multi_retail.iloc[8,5],3)],\n",
        "                                     [round(lstm_i_multi_retail[9],3), \n",
        "                                     round(gru_i_multi_retail[9],3),\n",
        "                                     round(rnn_i_multi_retail[9],3), \n",
        "                                     round(cnn_i_multi_retail.iloc[9,0],3),\n",
        "                                     round(cnn_i_multi_retail.iloc[9,1],3),\n",
        "                                     round(cnn_i_multi_retail.iloc[9,2],3),\n",
        "                                     round(cnn_i_multi_retail.iloc[9,3],3),\n",
        "                                     round(cnn_i_multi_retail.iloc[9,4],3),\n",
        "                                     round(cnn_i_multi_retail.iloc[9,5],3)]],\n",
        "                            align=['left','center', 'center', \n",
        "                                   'right','right','right',\n",
        "                                   'right','right','right',\n",
        "                                   'right','right','right','right'],\n",
        "                            fill_color = 'white',\n",
        "                            line_color = 'gray'))\n",
        "                     ])\n",
        "fig.update_layout(title = \"Parameter Tunings Mean Absolute Percentage Error: Multivariate Confirmed Cases\",\n",
        "                  title_x=0.5, height = 700, width = 1200)\n",
        "fig.show()"
      ],
      "execution_count": null,
      "outputs": [
        {
          "output_type": "display_data",
          "data": {
            "text/html": [
              "<html>\n",
              "<head><meta charset=\"utf-8\" /></head>\n",
              "<body>\n",
              "    <div>\n",
              "            <script src=\"https://cdnjs.cloudflare.com/ajax/libs/mathjax/2.7.5/MathJax.js?config=TeX-AMS-MML_SVG\"></script><script type=\"text/javascript\">if (window.MathJax) {MathJax.Hub.Config({SVG: {font: \"STIX-Web\"}});}</script>\n",
              "                <script type=\"text/javascript\">window.PlotlyConfig = {MathJaxConfig: 'local'};</script>\n",
              "        <script src=\"https://cdn.plot.ly/plotly-latest.min.js\"></script>    \n",
              "            <div id=\"6eed51b2-4887-4726-aa78-5767818d31be\" class=\"plotly-graph-div\" style=\"height:700px; width:1200px;\"></div>\n",
              "            <script type=\"text/javascript\">\n",
              "                \n",
              "                    window.PLOTLYENV=window.PLOTLYENV || {};\n",
              "                    \n",
              "                if (document.getElementById(\"6eed51b2-4887-4726-aa78-5767818d31be\")) {\n",
              "                    Plotly.newPlot(\n",
              "                        '6eed51b2-4887-4726-aa78-5767818d31be',\n",
              "                        [{\"cells\": {\"align\": [\"left\", \"center\", \"center\", \"right\", \"right\", \"right\", \"right\", \"right\", \"right\", \"right\", \"right\", \"right\", \"right\"], \"fill\": {\"color\": \"white\"}, \"line\": {\"color\": \"gray\"}, \"values\": [[\"LSTM\", \"GRU\", \"RNNs\", \"CNN\", \"CNN\", \"CNN\", \"CNN\", \"CNN\", \"CNN\"], [\"-\", \"-\", \"-\", \"3\", \"5\", \"7\", \"3\", \"5\", \"7\"], [\"-\", \"-\", \"-\", \"2\", \"2\", \"2\", \"3\", \"3\", \"3\"], [99.984, 21.853, 6.022, 5.474, 5.606, 5.674, 5.58, 5.557, 5.16], [99.984, 99.984, 3.56, 5.503, 4.751, 5.271, 4.724, 5.58, 5.848], [4.338, 99.984, 4.084, 5.854, 4.462, 6.087, 4.392, 5.007, 6.257], [3.491, 4.459, 4.447, 4.428, 3.421, 4.958, 4.681, 4.68, 4.991], [4.061, 4.263, 3.992, 4.273, 4.365, 5.032, 4.306, 5.136, 5.903], [4.263, 3.727, 3.832, 3.798, 3.858, 3.972, 4.346, 5.029, 4.897], [4.047, 3.908, 3.216, 3.742, 3.736, 4.375, 3.878, 4.466, 4.666], [4.388, 4.526, 3.317, 4.267, 4.433, 4.277, 3.843, 4.423, 4.596], [4.201, 4.4, 3.115, 4.746, 4.699, 4.643, 4.198, 5.097, 4.883], [4.633, 3.7, 3.214, 4.886, 5.953, 5.417, 5.445, 5.397, 5.302]]}, \"header\": {\"line\": {\"color\": \"gray\"}, \"values\": [\"Model\", \"Kernel size\", \"Pool\", \"2 Nodes\", \"4 Nodes\", \"8 Nodes\", \"16 Nodes\", \"32 Nodes\", \"64 Nodes\", \"128 Nodes\", \"256 Nodes\", \"512 Nodes\", \"1024 Nodes\"]}, \"type\": \"table\"}],\n",
              "                        {\"height\": 700, \"template\": {\"data\": {\"bar\": [{\"error_x\": {\"color\": \"#2a3f5f\"}, \"error_y\": {\"color\": \"#2a3f5f\"}, \"marker\": {\"line\": {\"color\": \"#E5ECF6\", \"width\": 0.5}}, \"type\": \"bar\"}], \"barpolar\": [{\"marker\": {\"line\": {\"color\": \"#E5ECF6\", \"width\": 0.5}}, \"type\": \"barpolar\"}], \"carpet\": [{\"aaxis\": {\"endlinecolor\": \"#2a3f5f\", \"gridcolor\": \"white\", \"linecolor\": \"white\", \"minorgridcolor\": \"white\", \"startlinecolor\": \"#2a3f5f\"}, \"baxis\": {\"endlinecolor\": \"#2a3f5f\", \"gridcolor\": \"white\", \"linecolor\": \"white\", \"minorgridcolor\": \"white\", \"startlinecolor\": \"#2a3f5f\"}, \"type\": \"carpet\"}], \"choropleth\": [{\"colorbar\": {\"outlinewidth\": 0, \"ticks\": \"\"}, \"type\": \"choropleth\"}], \"contour\": [{\"colorbar\": {\"outlinewidth\": 0, \"ticks\": \"\"}, \"colorscale\": [[0.0, \"#0d0887\"], [0.1111111111111111, \"#46039f\"], [0.2222222222222222, \"#7201a8\"], [0.3333333333333333, \"#9c179e\"], [0.4444444444444444, \"#bd3786\"], [0.5555555555555556, \"#d8576b\"], [0.6666666666666666, \"#ed7953\"], [0.7777777777777778, \"#fb9f3a\"], [0.8888888888888888, \"#fdca26\"], [1.0, \"#f0f921\"]], \"type\": \"contour\"}], \"contourcarpet\": [{\"colorbar\": {\"outlinewidth\": 0, \"ticks\": \"\"}, \"type\": \"contourcarpet\"}], \"heatmap\": [{\"colorbar\": {\"outlinewidth\": 0, \"ticks\": \"\"}, \"colorscale\": [[0.0, \"#0d0887\"], [0.1111111111111111, \"#46039f\"], [0.2222222222222222, \"#7201a8\"], [0.3333333333333333, \"#9c179e\"], [0.4444444444444444, \"#bd3786\"], [0.5555555555555556, \"#d8576b\"], [0.6666666666666666, \"#ed7953\"], [0.7777777777777778, \"#fb9f3a\"], [0.8888888888888888, \"#fdca26\"], [1.0, \"#f0f921\"]], \"type\": \"heatmap\"}], \"heatmapgl\": [{\"colorbar\": {\"outlinewidth\": 0, \"ticks\": \"\"}, \"colorscale\": [[0.0, \"#0d0887\"], [0.1111111111111111, \"#46039f\"], [0.2222222222222222, \"#7201a8\"], [0.3333333333333333, \"#9c179e\"], [0.4444444444444444, \"#bd3786\"], [0.5555555555555556, \"#d8576b\"], [0.6666666666666666, \"#ed7953\"], [0.7777777777777778, \"#fb9f3a\"], [0.8888888888888888, \"#fdca26\"], [1.0, \"#f0f921\"]], \"type\": \"heatmapgl\"}], \"histogram\": [{\"marker\": {\"colorbar\": {\"outlinewidth\": 0, \"ticks\": \"\"}}, \"type\": \"histogram\"}], \"histogram2d\": [{\"colorbar\": {\"outlinewidth\": 0, \"ticks\": \"\"}, \"colorscale\": [[0.0, \"#0d0887\"], [0.1111111111111111, \"#46039f\"], [0.2222222222222222, \"#7201a8\"], [0.3333333333333333, \"#9c179e\"], [0.4444444444444444, \"#bd3786\"], [0.5555555555555556, \"#d8576b\"], [0.6666666666666666, \"#ed7953\"], [0.7777777777777778, \"#fb9f3a\"], [0.8888888888888888, \"#fdca26\"], [1.0, \"#f0f921\"]], \"type\": \"histogram2d\"}], \"histogram2dcontour\": [{\"colorbar\": {\"outlinewidth\": 0, \"ticks\": \"\"}, \"colorscale\": [[0.0, \"#0d0887\"], [0.1111111111111111, \"#46039f\"], [0.2222222222222222, \"#7201a8\"], [0.3333333333333333, \"#9c179e\"], [0.4444444444444444, \"#bd3786\"], [0.5555555555555556, \"#d8576b\"], [0.6666666666666666, \"#ed7953\"], [0.7777777777777778, \"#fb9f3a\"], [0.8888888888888888, \"#fdca26\"], [1.0, \"#f0f921\"]], \"type\": \"histogram2dcontour\"}], \"mesh3d\": [{\"colorbar\": {\"outlinewidth\": 0, \"ticks\": \"\"}, \"type\": \"mesh3d\"}], \"parcoords\": [{\"line\": {\"colorbar\": {\"outlinewidth\": 0, \"ticks\": \"\"}}, \"type\": \"parcoords\"}], \"pie\": [{\"automargin\": true, \"type\": \"pie\"}], \"scatter\": [{\"marker\": {\"colorbar\": {\"outlinewidth\": 0, \"ticks\": \"\"}}, \"type\": \"scatter\"}], \"scatter3d\": [{\"line\": {\"colorbar\": {\"outlinewidth\": 0, \"ticks\": \"\"}}, \"marker\": {\"colorbar\": {\"outlinewidth\": 0, \"ticks\": \"\"}}, \"type\": \"scatter3d\"}], \"scattercarpet\": [{\"marker\": {\"colorbar\": {\"outlinewidth\": 0, \"ticks\": \"\"}}, \"type\": \"scattercarpet\"}], \"scattergeo\": [{\"marker\": {\"colorbar\": {\"outlinewidth\": 0, \"ticks\": \"\"}}, \"type\": \"scattergeo\"}], \"scattergl\": [{\"marker\": {\"colorbar\": {\"outlinewidth\": 0, \"ticks\": \"\"}}, \"type\": \"scattergl\"}], \"scattermapbox\": [{\"marker\": {\"colorbar\": {\"outlinewidth\": 0, \"ticks\": \"\"}}, \"type\": \"scattermapbox\"}], \"scatterpolar\": [{\"marker\": {\"colorbar\": {\"outlinewidth\": 0, \"ticks\": \"\"}}, \"type\": \"scatterpolar\"}], \"scatterpolargl\": [{\"marker\": {\"colorbar\": {\"outlinewidth\": 0, \"ticks\": \"\"}}, \"type\": \"scatterpolargl\"}], \"scatterternary\": [{\"marker\": {\"colorbar\": {\"outlinewidth\": 0, \"ticks\": \"\"}}, \"type\": \"scatterternary\"}], \"surface\": [{\"colorbar\": {\"outlinewidth\": 0, \"ticks\": \"\"}, \"colorscale\": [[0.0, \"#0d0887\"], [0.1111111111111111, \"#46039f\"], [0.2222222222222222, \"#7201a8\"], [0.3333333333333333, \"#9c179e\"], [0.4444444444444444, \"#bd3786\"], [0.5555555555555556, \"#d8576b\"], [0.6666666666666666, \"#ed7953\"], [0.7777777777777778, \"#fb9f3a\"], [0.8888888888888888, \"#fdca26\"], [1.0, \"#f0f921\"]], \"type\": \"surface\"}], \"table\": [{\"cells\": {\"fill\": {\"color\": \"#EBF0F8\"}, \"line\": {\"color\": \"white\"}}, \"header\": {\"fill\": {\"color\": \"#C8D4E3\"}, \"line\": {\"color\": \"white\"}}, \"type\": \"table\"}]}, \"layout\": {\"annotationdefaults\": {\"arrowcolor\": \"#2a3f5f\", \"arrowhead\": 0, \"arrowwidth\": 1}, \"coloraxis\": {\"colorbar\": {\"outlinewidth\": 0, \"ticks\": \"\"}}, \"colorscale\": {\"diverging\": [[0, \"#8e0152\"], [0.1, \"#c51b7d\"], [0.2, \"#de77ae\"], [0.3, \"#f1b6da\"], [0.4, \"#fde0ef\"], [0.5, \"#f7f7f7\"], [0.6, \"#e6f5d0\"], [0.7, \"#b8e186\"], [0.8, \"#7fbc41\"], [0.9, \"#4d9221\"], [1, \"#276419\"]], \"sequential\": [[0.0, \"#0d0887\"], [0.1111111111111111, \"#46039f\"], [0.2222222222222222, \"#7201a8\"], [0.3333333333333333, \"#9c179e\"], [0.4444444444444444, \"#bd3786\"], [0.5555555555555556, \"#d8576b\"], [0.6666666666666666, \"#ed7953\"], [0.7777777777777778, \"#fb9f3a\"], [0.8888888888888888, \"#fdca26\"], [1.0, \"#f0f921\"]], \"sequentialminus\": [[0.0, \"#0d0887\"], [0.1111111111111111, \"#46039f\"], [0.2222222222222222, \"#7201a8\"], [0.3333333333333333, \"#9c179e\"], [0.4444444444444444, \"#bd3786\"], [0.5555555555555556, \"#d8576b\"], [0.6666666666666666, \"#ed7953\"], [0.7777777777777778, \"#fb9f3a\"], [0.8888888888888888, \"#fdca26\"], [1.0, \"#f0f921\"]]}, \"colorway\": [\"#636efa\", \"#EF553B\", \"#00cc96\", \"#ab63fa\", \"#FFA15A\", \"#19d3f3\", \"#FF6692\", \"#B6E880\", \"#FF97FF\", \"#FECB52\"], \"font\": {\"color\": \"#2a3f5f\"}, \"geo\": {\"bgcolor\": \"white\", \"lakecolor\": \"white\", \"landcolor\": \"#E5ECF6\", \"showlakes\": true, \"showland\": true, \"subunitcolor\": \"white\"}, \"hoverlabel\": {\"align\": \"left\"}, \"hovermode\": \"closest\", \"mapbox\": {\"style\": \"light\"}, \"paper_bgcolor\": \"white\", \"plot_bgcolor\": \"#E5ECF6\", \"polar\": {\"angularaxis\": {\"gridcolor\": \"white\", \"linecolor\": \"white\", \"ticks\": \"\"}, \"bgcolor\": \"#E5ECF6\", \"radialaxis\": {\"gridcolor\": \"white\", \"linecolor\": \"white\", \"ticks\": \"\"}}, \"scene\": {\"xaxis\": {\"backgroundcolor\": \"#E5ECF6\", \"gridcolor\": \"white\", \"gridwidth\": 2, \"linecolor\": \"white\", \"showbackground\": true, \"ticks\": \"\", \"zerolinecolor\": \"white\"}, \"yaxis\": {\"backgroundcolor\": \"#E5ECF6\", \"gridcolor\": \"white\", \"gridwidth\": 2, \"linecolor\": \"white\", \"showbackground\": true, \"ticks\": \"\", \"zerolinecolor\": \"white\"}, \"zaxis\": {\"backgroundcolor\": \"#E5ECF6\", \"gridcolor\": \"white\", \"gridwidth\": 2, \"linecolor\": \"white\", \"showbackground\": true, \"ticks\": \"\", \"zerolinecolor\": \"white\"}}, \"shapedefaults\": {\"line\": {\"color\": \"#2a3f5f\"}}, \"ternary\": {\"aaxis\": {\"gridcolor\": \"white\", \"linecolor\": \"white\", \"ticks\": \"\"}, \"baxis\": {\"gridcolor\": \"white\", \"linecolor\": \"white\", \"ticks\": \"\"}, \"bgcolor\": \"#E5ECF6\", \"caxis\": {\"gridcolor\": \"white\", \"linecolor\": \"white\", \"ticks\": \"\"}}, \"title\": {\"x\": 0.05}, \"xaxis\": {\"automargin\": true, \"gridcolor\": \"white\", \"linecolor\": \"white\", \"ticks\": \"\", \"title\": {\"standoff\": 15}, \"zerolinecolor\": \"white\", \"zerolinewidth\": 2}, \"yaxis\": {\"automargin\": true, \"gridcolor\": \"white\", \"linecolor\": \"white\", \"ticks\": \"\", \"title\": {\"standoff\": 15}, \"zerolinecolor\": \"white\", \"zerolinewidth\": 2}}}, \"title\": {\"text\": \"Parameter Tunings Mean Absolute Percentage Error: Multivariate Confirmed Cases\", \"x\": 0.5}, \"width\": 1200},\n",
              "                        {\"responsive\": true}\n",
              "                    ).then(function(){\n",
              "                            \n",
              "var gd = document.getElementById('6eed51b2-4887-4726-aa78-5767818d31be');\n",
              "var x = new MutationObserver(function (mutations, observer) {{\n",
              "        var display = window.getComputedStyle(gd).display;\n",
              "        if (!display || display === 'none') {{\n",
              "            console.log([gd, 'removed!']);\n",
              "            Plotly.purge(gd);\n",
              "            observer.disconnect();\n",
              "        }}\n",
              "}});\n",
              "\n",
              "// Listen for the removal of the full notebook cells\n",
              "var notebookContainer = gd.closest('#notebook-container');\n",
              "if (notebookContainer) {{\n",
              "    x.observe(notebookContainer, {childList: true});\n",
              "}}\n",
              "\n",
              "// Listen for the clearing of the current output cell\n",
              "var outputEl = gd.closest('.output');\n",
              "if (outputEl) {{\n",
              "    x.observe(outputEl, {childList: true});\n",
              "}}\n",
              "\n",
              "                        })\n",
              "                };\n",
              "                \n",
              "            </script>\n",
              "        </div>\n",
              "</body>\n",
              "</html>"
            ]
          },
          "metadata": {}
        }
      ]
    },
    {
      "cell_type": "markdown",
      "metadata": {
        "id": "jjt0C2lR5puq"
      },
      "source": [
        "#### Multivariate Confirmed Deaths"
      ]
    },
    {
      "cell_type": "code",
      "metadata": {
        "colab": {
          "base_uri": "https://localhost:8080/",
          "height": 737
        },
        "id": "tEs71xle1nbi",
        "outputId": "104e7f90-1d16-4f43-fbce-5051c8eb749d"
      },
      "source": [
        "fig = go.Figure(data=[go.Table(header=dict(values=['Model', 'Kernel size', 'Pool', '2 Nodes','4 Nodes', '8 Nodes', '16 Nodes', '32 Nodes',\n",
        "                                                   \"64 Nodes\", '128 Nodes', '256 Nodes', '512 Nodes' , '1024 Nodes'],\n",
        "                                           line_color = 'gray'),\n",
        "                               cells=dict(values=[['LSTM', 'GRU', 'RNNs', 'CNN',\n",
        "                                                   'CNN', 'CNN', 'CNN', 'CNN', 'CNN'],\n",
        "                                                  ['-', '-', '-', '3', '5', '7', '3', '5', '7'],\n",
        "                                                  ['-', '-', '-', '2', '2', '2', '3', '3', '3'],\n",
        "                                    [round(lstm_d_multi_retail[0],3), \n",
        "                                     round(gru_d_multi_retail[0],3),\n",
        "                                     round(rnn_d_multi_retail[0],3), \n",
        "                                     round(cnn_d_multi_retail.iloc[0,0],3),\n",
        "                                     round(cnn_d_multi_retail.iloc[0,1],3),\n",
        "                                     round(cnn_d_multi_retail.iloc[0,2],3),\n",
        "                                     round(cnn_d_multi_retail.iloc[0,3],3),\n",
        "                                     round(cnn_d_multi_retail.iloc[0,4],3),\n",
        "                                     round(cnn_d_multi_retail.iloc[0,5],3)],\n",
        "                                     [round(lstm_d_multi_retail[1],3), \n",
        "                                     round(gru_d_multi_retail[1],3),\n",
        "                                     round(rnn_d_multi_retail[1],3), \n",
        "                                     round(cnn_d_multi_retail.iloc[1,0],3),\n",
        "                                     round(cnn_d_multi_retail.iloc[1,1],3),\n",
        "                                     round(cnn_d_multi_retail.iloc[1,2],3),\n",
        "                                     round(cnn_d_multi_retail.iloc[1,3],3),\n",
        "                                     round(cnn_d_multi_retail.iloc[1,4],3),\n",
        "                                     round(cnn_d_multi_retail.iloc[1,5],3)],\n",
        "                                     [round(lstm_d_multi_retail[2],3), \n",
        "                                     round(gru_d_multi_retail[2],3),\n",
        "                                     round(rnn_d_multi_retail[2],3), \n",
        "                                     round(cnn_d_multi_retail.iloc[2,0],3),\n",
        "                                     round(cnn_d_multi_retail.iloc[2,1],3),\n",
        "                                     round(cnn_d_multi_retail.iloc[2,2],3),\n",
        "                                     round(cnn_d_multi_retail.iloc[2,3],3),\n",
        "                                     round(cnn_d_multi_retail.iloc[2,4],3),\n",
        "                                     round(cnn_d_multi_retail.iloc[2,5],3)],\n",
        "                                     [round(lstm_d_multi_retail[3],3), \n",
        "                                     round(gru_d_multi_retail[3],3),\n",
        "                                     round(rnn_d_multi_retail[3],3), \n",
        "                                     round(cnn_d_multi_retail.iloc[3,0],3),\n",
        "                                     round(cnn_d_multi_retail.iloc[3,1],3),\n",
        "                                     round(cnn_d_multi_retail.iloc[3,2],3),\n",
        "                                     round(cnn_d_multi_retail.iloc[3,3],3),\n",
        "                                     round(cnn_d_multi_retail.iloc[3,4],3),\n",
        "                                     round(cnn_d_multi_retail.iloc[3,5],3)],\n",
        "                                     [round(lstm_d_multi_retail[4],3), \n",
        "                                     round(gru_d_multi_retail[4],3),\n",
        "                                     round(rnn_d_multi_retail[4],3), \n",
        "                                     round(cnn_d_multi_retail.iloc[4,0],3),\n",
        "                                     round(cnn_d_multi_retail.iloc[4,1],3),\n",
        "                                     round(cnn_d_multi_retail.iloc[4,2],3),\n",
        "                                     round(cnn_d_multi_retail.iloc[4,3],3),\n",
        "                                     round(cnn_d_multi_retail.iloc[4,4],3),\n",
        "                                     round(cnn_d_multi_retail.iloc[4,5],3)],\n",
        "                                     [round(lstm_d_multi_retail[5],3), \n",
        "                                     round(gru_d_multi_retail[5],3),\n",
        "                                     round(rnn_d_multi_retail[5],3), \n",
        "                                     round(cnn_d_multi_retail.iloc[5,0],3),\n",
        "                                     round(cnn_d_multi_retail.iloc[5,1],3),\n",
        "                                     round(cnn_d_multi_retail.iloc[5,2],3),\n",
        "                                     round(cnn_d_multi_retail.iloc[5,3],3),\n",
        "                                     round(cnn_d_multi_retail.iloc[5,4],3),\n",
        "                                     round(cnn_d_multi_retail.iloc[5,5],3)],\n",
        "                                     [round(lstm_d_multi_retail[6],3), \n",
        "                                     round(gru_d_multi_retail[6],3),\n",
        "                                     round(rnn_d_multi_retail[6],3), \n",
        "                                     round(cnn_d_multi_retail.iloc[6,0],3),\n",
        "                                     round(cnn_d_multi_retail.iloc[6,1],3),\n",
        "                                     round(cnn_d_multi_retail.iloc[6,2],3),\n",
        "                                     round(cnn_d_multi_retail.iloc[6,3],3),\n",
        "                                     round(cnn_d_multi_retail.iloc[6,4],3),\n",
        "                                     round(cnn_d_multi_retail.iloc[6,5],3)],\n",
        "                                     [round(lstm_d_multi_retail[7],3), \n",
        "                                     round(gru_d_multi_retail[7],3),\n",
        "                                     round(rnn_d_multi_retail[7],3), \n",
        "                                     round(cnn_d_multi_retail.iloc[7,0],3),\n",
        "                                     round(cnn_d_multi_retail.iloc[7,1],3),\n",
        "                                     round(cnn_d_multi_retail.iloc[7,2],3),\n",
        "                                     round(cnn_d_multi_retail.iloc[7,3],3),\n",
        "                                     round(cnn_d_multi_retail.iloc[7,4],3),\n",
        "                                     round(cnn_d_multi_retail.iloc[7,5],3)],\n",
        "                                     [round(lstm_d_multi_retail[8],3), \n",
        "                                     round(gru_d_multi_retail[8],3),\n",
        "                                     round(rnn_d_multi_retail[8],3), \n",
        "                                     round(cnn_d_multi_retail.iloc[8,0],3),\n",
        "                                     round(cnn_d_multi_retail.iloc[8,1],3),\n",
        "                                     round(cnn_d_multi_retail.iloc[8,2],3),\n",
        "                                     round(cnn_d_multi_retail.iloc[8,3],3),\n",
        "                                     round(cnn_d_multi_retail.iloc[8,4],3),\n",
        "                                     round(cnn_d_multi_retail.iloc[8,5],3)],\n",
        "                                     [round(lstm_d_multi_retail[9],3), \n",
        "                                     round(gru_d_multi_retail[9],3),\n",
        "                                     round(rnn_d_multi_retail[9],3), \n",
        "                                     round(cnn_d_multi_retail.iloc[9,0],3),\n",
        "                                     round(cnn_d_multi_retail.iloc[9,1],3),\n",
        "                                     round(cnn_d_multi_retail.iloc[9,2],3),\n",
        "                                     round(cnn_d_multi_retail.iloc[9,3],3),\n",
        "                                     round(cnn_d_multi_retail.iloc[9,4],3),\n",
        "                                     round(cnn_d_multi_retail.iloc[9,5],3)]],\n",
        "                            align=['left','center', 'center', \n",
        "                                   'right','right','right',\n",
        "                                   'right','right','right',\n",
        "                                   'right','right','right','right'],\n",
        "                            fill_color = 'white',\n",
        "                            line_color = 'gray'))\n",
        "                     ])\n",
        "fig.update_layout(title = \"Parameter Tunings Mean Absolute Percentage Error: Multivariate Confirmed Deaths\",\n",
        "                  title_x=0.5, height = 700, width = 1200)\n",
        "fig.show()"
      ],
      "execution_count": null,
      "outputs": [
        {
          "output_type": "display_data",
          "data": {
            "text/html": [
              "<html>\n",
              "<head><meta charset=\"utf-8\" /></head>\n",
              "<body>\n",
              "    <div>\n",
              "            <script src=\"https://cdnjs.cloudflare.com/ajax/libs/mathjax/2.7.5/MathJax.js?config=TeX-AMS-MML_SVG\"></script><script type=\"text/javascript\">if (window.MathJax) {MathJax.Hub.Config({SVG: {font: \"STIX-Web\"}});}</script>\n",
              "                <script type=\"text/javascript\">window.PlotlyConfig = {MathJaxConfig: 'local'};</script>\n",
              "        <script src=\"https://cdn.plot.ly/plotly-latest.min.js\"></script>    \n",
              "            <div id=\"5bc2c6c2-7ffb-4d1b-bf3a-938ef7fad438\" class=\"plotly-graph-div\" style=\"height:700px; width:1200px;\"></div>\n",
              "            <script type=\"text/javascript\">\n",
              "                \n",
              "                    window.PLOTLYENV=window.PLOTLYENV || {};\n",
              "                    \n",
              "                if (document.getElementById(\"5bc2c6c2-7ffb-4d1b-bf3a-938ef7fad438\")) {\n",
              "                    Plotly.newPlot(\n",
              "                        '5bc2c6c2-7ffb-4d1b-bf3a-938ef7fad438',\n",
              "                        [{\"cells\": {\"align\": [\"left\", \"center\", \"center\", \"right\", \"right\", \"right\", \"right\", \"right\", \"right\", \"right\", \"right\", \"right\", \"right\"], \"fill\": {\"color\": \"white\"}, \"line\": {\"color\": \"gray\"}, \"values\": [[\"LSTM\", \"GRU\", \"RNNs\", \"CNN\", \"CNN\", \"CNN\", \"CNN\", \"CNN\", \"CNN\"], [\"-\", \"-\", \"-\", \"3\", \"5\", \"7\", \"3\", \"5\", \"7\"], [\"-\", \"-\", \"-\", \"2\", \"2\", \"2\", \"3\", \"3\", \"3\"], [79.239, 9.264, 17.053, 11.323, 9.736, 10.069, 10.245, 10.372, 98.124], [7.463, 98.116, 8.638, 11.252, 9.468, 11.312, 9.818, 9.993, 11.116], [9.476, 8.504, 10.947, 9.561, 7.749, 9.972, 10.122, 9.757, 10.442], [8.243, 7.782, 7.531, 10.212, 7.367, 8.97, 8.614, 7.944, 9.234], [5.964, 7.638, 7.394, 9.218, 6.734, 7.388, 9.331, 8.649, 9.822], [10.394, 6.565, 5.915, 6.3, 7.114, 6.613, 8.005, 7.422, 7.515], [6.903, 6.667, 5.829, 6.138, 7.589, 7.508, 6.709, 7.163, 7.8], [10.482, 6.345, 7.932, 5.434, 8.055, 9.248, 6.693, 8.309, 8.581], [9.835, 9.976, 9.297, 5.749, 8.069, 9.165, 6.598, 7.912, 9.119], [32.35, 12.564, 11.23, 7.455, 9.86, 11.556, 6.92, 9.722, 9.68]]}, \"header\": {\"line\": {\"color\": \"gray\"}, \"values\": [\"Model\", \"Kernel size\", \"Pool\", \"2 Nodes\", \"4 Nodes\", \"8 Nodes\", \"16 Nodes\", \"32 Nodes\", \"64 Nodes\", \"128 Nodes\", \"256 Nodes\", \"512 Nodes\", \"1024 Nodes\"]}, \"type\": \"table\"}],\n",
              "                        {\"height\": 700, \"template\": {\"data\": {\"bar\": [{\"error_x\": {\"color\": \"#2a3f5f\"}, \"error_y\": {\"color\": \"#2a3f5f\"}, \"marker\": {\"line\": {\"color\": \"#E5ECF6\", \"width\": 0.5}}, \"type\": \"bar\"}], \"barpolar\": [{\"marker\": {\"line\": {\"color\": \"#E5ECF6\", \"width\": 0.5}}, \"type\": \"barpolar\"}], \"carpet\": [{\"aaxis\": {\"endlinecolor\": \"#2a3f5f\", \"gridcolor\": \"white\", \"linecolor\": \"white\", \"minorgridcolor\": \"white\", \"startlinecolor\": \"#2a3f5f\"}, \"baxis\": {\"endlinecolor\": \"#2a3f5f\", \"gridcolor\": \"white\", \"linecolor\": \"white\", \"minorgridcolor\": \"white\", \"startlinecolor\": \"#2a3f5f\"}, \"type\": \"carpet\"}], \"choropleth\": [{\"colorbar\": {\"outlinewidth\": 0, \"ticks\": \"\"}, \"type\": \"choropleth\"}], \"contour\": [{\"colorbar\": {\"outlinewidth\": 0, \"ticks\": \"\"}, \"colorscale\": [[0.0, \"#0d0887\"], [0.1111111111111111, \"#46039f\"], [0.2222222222222222, \"#7201a8\"], [0.3333333333333333, \"#9c179e\"], [0.4444444444444444, \"#bd3786\"], [0.5555555555555556, \"#d8576b\"], [0.6666666666666666, \"#ed7953\"], [0.7777777777777778, \"#fb9f3a\"], [0.8888888888888888, \"#fdca26\"], [1.0, \"#f0f921\"]], \"type\": \"contour\"}], \"contourcarpet\": [{\"colorbar\": {\"outlinewidth\": 0, \"ticks\": \"\"}, \"type\": \"contourcarpet\"}], \"heatmap\": [{\"colorbar\": {\"outlinewidth\": 0, \"ticks\": \"\"}, \"colorscale\": [[0.0, \"#0d0887\"], [0.1111111111111111, \"#46039f\"], [0.2222222222222222, \"#7201a8\"], [0.3333333333333333, \"#9c179e\"], [0.4444444444444444, \"#bd3786\"], [0.5555555555555556, \"#d8576b\"], [0.6666666666666666, \"#ed7953\"], [0.7777777777777778, \"#fb9f3a\"], [0.8888888888888888, \"#fdca26\"], [1.0, \"#f0f921\"]], \"type\": \"heatmap\"}], \"heatmapgl\": [{\"colorbar\": {\"outlinewidth\": 0, \"ticks\": \"\"}, \"colorscale\": [[0.0, \"#0d0887\"], [0.1111111111111111, \"#46039f\"], [0.2222222222222222, \"#7201a8\"], [0.3333333333333333, \"#9c179e\"], [0.4444444444444444, \"#bd3786\"], [0.5555555555555556, \"#d8576b\"], [0.6666666666666666, \"#ed7953\"], [0.7777777777777778, \"#fb9f3a\"], [0.8888888888888888, \"#fdca26\"], [1.0, \"#f0f921\"]], \"type\": \"heatmapgl\"}], \"histogram\": [{\"marker\": {\"colorbar\": {\"outlinewidth\": 0, \"ticks\": \"\"}}, \"type\": \"histogram\"}], \"histogram2d\": [{\"colorbar\": {\"outlinewidth\": 0, \"ticks\": \"\"}, \"colorscale\": [[0.0, \"#0d0887\"], [0.1111111111111111, \"#46039f\"], [0.2222222222222222, \"#7201a8\"], [0.3333333333333333, \"#9c179e\"], [0.4444444444444444, \"#bd3786\"], [0.5555555555555556, \"#d8576b\"], [0.6666666666666666, \"#ed7953\"], [0.7777777777777778, \"#fb9f3a\"], [0.8888888888888888, \"#fdca26\"], [1.0, \"#f0f921\"]], \"type\": \"histogram2d\"}], \"histogram2dcontour\": [{\"colorbar\": {\"outlinewidth\": 0, \"ticks\": \"\"}, \"colorscale\": [[0.0, \"#0d0887\"], [0.1111111111111111, \"#46039f\"], [0.2222222222222222, \"#7201a8\"], [0.3333333333333333, \"#9c179e\"], [0.4444444444444444, \"#bd3786\"], [0.5555555555555556, \"#d8576b\"], [0.6666666666666666, \"#ed7953\"], [0.7777777777777778, \"#fb9f3a\"], [0.8888888888888888, \"#fdca26\"], [1.0, \"#f0f921\"]], \"type\": \"histogram2dcontour\"}], \"mesh3d\": [{\"colorbar\": {\"outlinewidth\": 0, \"ticks\": \"\"}, \"type\": \"mesh3d\"}], \"parcoords\": [{\"line\": {\"colorbar\": {\"outlinewidth\": 0, \"ticks\": \"\"}}, \"type\": \"parcoords\"}], \"pie\": [{\"automargin\": true, \"type\": \"pie\"}], \"scatter\": [{\"marker\": {\"colorbar\": {\"outlinewidth\": 0, \"ticks\": \"\"}}, \"type\": \"scatter\"}], \"scatter3d\": [{\"line\": {\"colorbar\": {\"outlinewidth\": 0, \"ticks\": \"\"}}, \"marker\": {\"colorbar\": {\"outlinewidth\": 0, \"ticks\": \"\"}}, \"type\": \"scatter3d\"}], \"scattercarpet\": [{\"marker\": {\"colorbar\": {\"outlinewidth\": 0, \"ticks\": \"\"}}, \"type\": \"scattercarpet\"}], \"scattergeo\": [{\"marker\": {\"colorbar\": {\"outlinewidth\": 0, \"ticks\": \"\"}}, \"type\": \"scattergeo\"}], \"scattergl\": [{\"marker\": {\"colorbar\": {\"outlinewidth\": 0, \"ticks\": \"\"}}, \"type\": \"scattergl\"}], \"scattermapbox\": [{\"marker\": {\"colorbar\": {\"outlinewidth\": 0, \"ticks\": \"\"}}, \"type\": \"scattermapbox\"}], \"scatterpolar\": [{\"marker\": {\"colorbar\": {\"outlinewidth\": 0, \"ticks\": \"\"}}, \"type\": \"scatterpolar\"}], \"scatterpolargl\": [{\"marker\": {\"colorbar\": {\"outlinewidth\": 0, \"ticks\": \"\"}}, \"type\": \"scatterpolargl\"}], \"scatterternary\": [{\"marker\": {\"colorbar\": {\"outlinewidth\": 0, \"ticks\": \"\"}}, \"type\": \"scatterternary\"}], \"surface\": [{\"colorbar\": {\"outlinewidth\": 0, \"ticks\": \"\"}, \"colorscale\": [[0.0, \"#0d0887\"], [0.1111111111111111, \"#46039f\"], [0.2222222222222222, \"#7201a8\"], [0.3333333333333333, \"#9c179e\"], [0.4444444444444444, \"#bd3786\"], [0.5555555555555556, \"#d8576b\"], [0.6666666666666666, \"#ed7953\"], [0.7777777777777778, \"#fb9f3a\"], [0.8888888888888888, \"#fdca26\"], [1.0, \"#f0f921\"]], \"type\": \"surface\"}], \"table\": [{\"cells\": {\"fill\": {\"color\": \"#EBF0F8\"}, \"line\": {\"color\": \"white\"}}, \"header\": {\"fill\": {\"color\": \"#C8D4E3\"}, \"line\": {\"color\": \"white\"}}, \"type\": \"table\"}]}, \"layout\": {\"annotationdefaults\": {\"arrowcolor\": \"#2a3f5f\", \"arrowhead\": 0, \"arrowwidth\": 1}, \"coloraxis\": {\"colorbar\": {\"outlinewidth\": 0, \"ticks\": \"\"}}, \"colorscale\": {\"diverging\": [[0, \"#8e0152\"], [0.1, \"#c51b7d\"], [0.2, \"#de77ae\"], [0.3, \"#f1b6da\"], [0.4, \"#fde0ef\"], [0.5, \"#f7f7f7\"], [0.6, \"#e6f5d0\"], [0.7, \"#b8e186\"], [0.8, \"#7fbc41\"], [0.9, \"#4d9221\"], [1, \"#276419\"]], \"sequential\": [[0.0, \"#0d0887\"], [0.1111111111111111, \"#46039f\"], [0.2222222222222222, \"#7201a8\"], [0.3333333333333333, \"#9c179e\"], [0.4444444444444444, \"#bd3786\"], [0.5555555555555556, \"#d8576b\"], [0.6666666666666666, \"#ed7953\"], [0.7777777777777778, \"#fb9f3a\"], [0.8888888888888888, \"#fdca26\"], [1.0, \"#f0f921\"]], \"sequentialminus\": [[0.0, \"#0d0887\"], [0.1111111111111111, \"#46039f\"], [0.2222222222222222, \"#7201a8\"], [0.3333333333333333, \"#9c179e\"], [0.4444444444444444, \"#bd3786\"], [0.5555555555555556, \"#d8576b\"], [0.6666666666666666, \"#ed7953\"], [0.7777777777777778, \"#fb9f3a\"], [0.8888888888888888, \"#fdca26\"], [1.0, \"#f0f921\"]]}, \"colorway\": [\"#636efa\", \"#EF553B\", \"#00cc96\", \"#ab63fa\", \"#FFA15A\", \"#19d3f3\", \"#FF6692\", \"#B6E880\", \"#FF97FF\", \"#FECB52\"], \"font\": {\"color\": \"#2a3f5f\"}, \"geo\": {\"bgcolor\": \"white\", \"lakecolor\": \"white\", \"landcolor\": \"#E5ECF6\", \"showlakes\": true, \"showland\": true, \"subunitcolor\": \"white\"}, \"hoverlabel\": {\"align\": \"left\"}, \"hovermode\": \"closest\", \"mapbox\": {\"style\": \"light\"}, \"paper_bgcolor\": \"white\", \"plot_bgcolor\": \"#E5ECF6\", \"polar\": {\"angularaxis\": {\"gridcolor\": \"white\", \"linecolor\": \"white\", \"ticks\": \"\"}, \"bgcolor\": \"#E5ECF6\", \"radialaxis\": {\"gridcolor\": \"white\", \"linecolor\": \"white\", \"ticks\": \"\"}}, \"scene\": {\"xaxis\": {\"backgroundcolor\": \"#E5ECF6\", \"gridcolor\": \"white\", \"gridwidth\": 2, \"linecolor\": \"white\", \"showbackground\": true, \"ticks\": \"\", \"zerolinecolor\": \"white\"}, \"yaxis\": {\"backgroundcolor\": \"#E5ECF6\", \"gridcolor\": \"white\", \"gridwidth\": 2, \"linecolor\": \"white\", \"showbackground\": true, \"ticks\": \"\", \"zerolinecolor\": \"white\"}, \"zaxis\": {\"backgroundcolor\": \"#E5ECF6\", \"gridcolor\": \"white\", \"gridwidth\": 2, \"linecolor\": \"white\", \"showbackground\": true, \"ticks\": \"\", \"zerolinecolor\": \"white\"}}, \"shapedefaults\": {\"line\": {\"color\": \"#2a3f5f\"}}, \"ternary\": {\"aaxis\": {\"gridcolor\": \"white\", \"linecolor\": \"white\", \"ticks\": \"\"}, \"baxis\": {\"gridcolor\": \"white\", \"linecolor\": \"white\", \"ticks\": \"\"}, \"bgcolor\": \"#E5ECF6\", \"caxis\": {\"gridcolor\": \"white\", \"linecolor\": \"white\", \"ticks\": \"\"}}, \"title\": {\"x\": 0.05}, \"xaxis\": {\"automargin\": true, \"gridcolor\": \"white\", \"linecolor\": \"white\", \"ticks\": \"\", \"title\": {\"standoff\": 15}, \"zerolinecolor\": \"white\", \"zerolinewidth\": 2}, \"yaxis\": {\"automargin\": true, \"gridcolor\": \"white\", \"linecolor\": \"white\", \"ticks\": \"\", \"title\": {\"standoff\": 15}, \"zerolinecolor\": \"white\", \"zerolinewidth\": 2}}}, \"title\": {\"text\": \"Parameter Tunings Mean Absolute Percentage Error: Multivariate Confirmed Deaths\", \"x\": 0.5}, \"width\": 1200},\n",
              "                        {\"responsive\": true}\n",
              "                    ).then(function(){\n",
              "                            \n",
              "var gd = document.getElementById('5bc2c6c2-7ffb-4d1b-bf3a-938ef7fad438');\n",
              "var x = new MutationObserver(function (mutations, observer) {{\n",
              "        var display = window.getComputedStyle(gd).display;\n",
              "        if (!display || display === 'none') {{\n",
              "            console.log([gd, 'removed!']);\n",
              "            Plotly.purge(gd);\n",
              "            observer.disconnect();\n",
              "        }}\n",
              "}});\n",
              "\n",
              "// Listen for the removal of the full notebook cells\n",
              "var notebookContainer = gd.closest('#notebook-container');\n",
              "if (notebookContainer) {{\n",
              "    x.observe(notebookContainer, {childList: true});\n",
              "}}\n",
              "\n",
              "// Listen for the clearing of the current output cell\n",
              "var outputEl = gd.closest('.output');\n",
              "if (outputEl) {{\n",
              "    x.observe(outputEl, {childList: true});\n",
              "}}\n",
              "\n",
              "                        })\n",
              "                };\n",
              "                \n",
              "            </script>\n",
              "        </div>\n",
              "</body>\n",
              "</html>"
            ]
          },
          "metadata": {}
        }
      ]
    },
    {
      "cell_type": "markdown",
      "metadata": {
        "id": "vc5YHb2g7fIF"
      },
      "source": [
        "## Training and Validation\n",
        "\n",
        "---\n",
        "\n",
        "After models were selected, using the training data set, we adjusted and trained the models to get the prediction with the lowest MAPE. We, then, used test samples for model validations and combined predicted values from both training and test sets together. This was only for illustration purpose.\n"
      ]
    },
    {
      "cell_type": "markdown",
      "metadata": {
        "id": "7X0mIDbGFxE0"
      },
      "source": [
        "### Multivariate Confirmed Cases"
      ]
    },
    {
      "cell_type": "code",
      "metadata": {
        "id": "LQbv37lbF0FY",
        "colab": {
          "base_uri": "https://localhost:8080/"
        },
        "outputId": "28d913e9-018b-4c6a-b11c-26bec4b4569a"
      },
      "source": [
        "seed(1)\n",
        "tensorflow.random.set_seed(1)\n",
        "\n",
        "# model_multi_retail_i = Sequential()\n",
        "# model_multi_retail_i.add(Conv1D(filters = 128, kernel_size = 3, activation='relu', input_shape=(X_i_tr_retail.shape[1], X_i_tr_retail.shape[2])))\n",
        "# model_multi_retail_i.add(MaxPooling1D(pool_size = 2))\n",
        "# model_multi_retail_i.add(Flatten())\n",
        "# # model_multi_retail_i.add(Dense(4, activation = \"relu\"))\n",
        "# model_multi_retail_i.add(Dense(1, activation = \"linear\"))\n",
        "# model_multi_retail_i.compile(loss='mse', optimizer='adam', metrics = \"MAPE\")\n",
        "\n",
        "model_multi_retail_i = Sequential()\n",
        "model_multi_retail_i.add(SimpleRNN(512, activation='relu', input_shape=(X_i_tr_retail.shape[1], X_i_tr_retail.shape[2])))\n",
        "model_multi_retail_i.add(Dense(1, activation = \"linear\"))\n",
        "model_multi_retail_i.compile(loss='mse', optimizer='adam', metrics = \"MAPE\")\n",
        "\n",
        "# fit network\n",
        "model_multi_retail_i.fit(X_i_tr_retail, y_i_tr, \n",
        "                           epochs=50, \n",
        "                           batch_size=1, \n",
        "                           verbose=0, \n",
        "                           shuffle=False)\n",
        "\n",
        "\n",
        "scores_multi_retail_i1 = model_multi_retail_i.evaluate(X_i_tr_retail, y_i_tr, verbose=0)\n",
        "\n",
        "# MAPE\n",
        "print(\"MAPE: training = \",scores_multi_retail_i1[1])\n",
        "\n",
        "scores_multi_retail_i = model_multi_retail_i.evaluate(X_i_ts_retail, y_i_ts, verbose=0)\n",
        "\n",
        "# MAPE\n",
        "print(\"MAPE: test = \",scores_multi_retail_i[1])"
      ],
      "execution_count": null,
      "outputs": [
        {
          "output_type": "stream",
          "name": "stdout",
          "text": [
            "MAPE: training =  3.115145206451416\n",
            "MAPE: test =  7.831284523010254\n"
          ]
        }
      ]
    },
    {
      "cell_type": "code",
      "metadata": {
        "id": "PGGnOECzF0MN"
      },
      "source": [
        "# make a prediction\n",
        "# training set\n",
        "y_multi_retail_i_tr = pd.DataFrame(model_multi_retail_i.predict(X_i_tr_retail))\n",
        "\n",
        "# test set\n",
        "y_multi_retail_i_ts = pd.DataFrame(model_multi_retail_i.predict(X_i_ts_retail))\n",
        "\n",
        "# combine training and test predictions\n",
        "y_multi_retail_i_total = pd.concat([y_multi_retail_i_tr, y_multi_retail_i_ts], ignore_index=True)\n"
      ],
      "execution_count": null,
      "outputs": []
    },
    {
      "cell_type": "markdown",
      "metadata": {
        "id": "LX_viW2LFOgn"
      },
      "source": [
        "### Multivariate Confirmed Deaths"
      ]
    },
    {
      "cell_type": "code",
      "metadata": {
        "colab": {
          "base_uri": "https://localhost:8080/"
        },
        "id": "ETqGykawFR0f",
        "outputId": "03a1060c-4cd1-4713-89d2-0d7bd674f925"
      },
      "source": [
        "seed(1)\n",
        "tensorflow.random.set_seed(1)\n",
        "\n",
        "# model_multi_retail_d = Sequential()\n",
        "# model_multi_retail_d.add(LSTM(8, activation = 'relu', input_shape=(X_d_tr_retail.shape[1], X_d_tr_retail.shape[2])))\n",
        "# model_multi_retail_d.add(Dense(4, activation = \"relu\"))\n",
        "# model_multi_retail_d.add(Dense(1, activation = \"linear\"))\n",
        "# model_multi_retail_d.compile(loss='mse', optimizer='adam', metrics = \"MAPE\")\n",
        "\n",
        "model_multi_retail_d = Sequential()\n",
        "model_multi_retail_d.add(Conv1D(256, kernel_size = 3, activation = 'relu', input_shape=(X_d_tr_retail.shape[1], X_d_tr_retail.shape[2])))\n",
        "model_multi_retail_d.add(MaxPooling1D(2))\n",
        "model_multi_retail_d.add(Flatten())\n",
        "# model_multi_retail_d.add(Dense(4, activation = \"relu\"))\n",
        "model_multi_retail_d.add(Dense(1, activation = \"linear\"))\n",
        "model_multi_retail_d.compile(loss='mse', optimizer='adam', metrics = \"MAPE\")\n",
        "\n",
        "# fit network\n",
        "model_multi_retail_d.fit(X_d_tr_retail, y_d_tr, \n",
        "                           epochs=50, \n",
        "                           batch_size=1, \n",
        "                           verbose=0, \n",
        "                           shuffle=False)\n",
        "\n",
        "scores_multi_retail_d1 = model_multi_retail_d.evaluate(X_d_tr_retail, y_d_tr, verbose=0)\n",
        "\n",
        "# MAPE\n",
        "print(\"MAPE: training = \",scores_multi_retail_d1[1])\n",
        "\n",
        "scores_multi_retail_d = model_multi_retail_d.evaluate(X_d_ts_retail, y_d_ts, verbose=0)\n",
        "\n",
        "# MAPE\n",
        "print(\"MAPE: test = \",scores_multi_retail_d[1])"
      ],
      "execution_count": null,
      "outputs": [
        {
          "output_type": "stream",
          "name": "stdout",
          "text": [
            "MAPE: training =  5.43396520614624\n",
            "MAPE: test =  21.691482543945312\n"
          ]
        }
      ]
    },
    {
      "cell_type": "code",
      "metadata": {
        "id": "NlPeIWWTFR7X"
      },
      "source": [
        "# make a prediction\n",
        "# training set\n",
        "y_multi_retail_d_tr = pd.DataFrame(model_multi_retail_d.predict(X_d_tr_retail))\n",
        "\n",
        "# test set\n",
        "y_multi_retail_d_ts = pd.DataFrame(model_multi_retail_d.predict(X_d_ts_retail))\n",
        "\n",
        "# combine training and test predictions\n",
        "y_multi_retail_d_total = pd.concat([y_multi_retail_d_tr, y_multi_retail_d_ts], ignore_index=True)\n"
      ],
      "execution_count": null,
      "outputs": []
    },
    {
      "cell_type": "code",
      "metadata": {
        "id": "AUJOWqqPSZjB"
      },
      "source": [
        "multi_in = \"RNNs\"\n",
        "multi_de = \"CNN\"\n",
        "tick_spacing = 5\n",
        "date_test = data['Date'][0+index+lag-1]"
      ],
      "execution_count": null,
      "outputs": []
    },
    {
      "cell_type": "markdown",
      "metadata": {
        "id": "hyai-GAA1pto"
      },
      "source": [
        "### Plots"
      ]
    },
    {
      "cell_type": "code",
      "metadata": {
        "colab": {
          "base_uri": "https://localhost:8080/",
          "height": 333
        },
        "id": "QNuUaYvHB0MZ",
        "outputId": "aae67826-4ad4-493b-be28-06e549c12dad"
      },
      "source": [
        "infect = pd.concat([y_multi_retail_i_total,\n",
        "                   data.Cases_daily.iloc[lag:].reset_index(drop = True), \n",
        "                   data.Date.iloc[lag:].reset_index(drop = True)],\n",
        "                   axis=1)\n",
        "infect.columns = ['multi_i', 'actual', 'Date']\n",
        "\n",
        "infect.dropna(subset = ['multi_i', 'actual', 'Date'], inplace=True)\n",
        "\n",
        "plt.plot(infect['Date'],infect['multi_i'], label = \"Predicted\")\n",
        "plt.plot(infect['Date'],infect['actual'], label = \"Actual\")\n",
        "plt.legend(frameon=False, loc='upper center', ncol = 2, fontsize = 'x-large')\n",
        "plt.title(\"Google: Retail Predicts Confirmed Cases\", fontsize = 'xx-large')\n",
        "plt.tick_params('x',labelrotation=90)\n",
        "plt.axvline(date_test, color=\"gray\", linestyle=\"--\")\n",
        "plt.grid(True, which='both', alpha=0.3)"
      ],
      "execution_count": null,
      "outputs": [
        {
          "output_type": "display_data",
          "data": {
            "image/png": "[encoded data removed]",
            "text/plain": [
              "<Figure size 432x288 with 1 Axes>"
            ]
          },
          "metadata": {
            "needs_background": "light"
          }
        }
      ]
    },
    {
      "cell_type": "code",
      "metadata": {
        "id": "EyzgkqsZUst1",
        "colab": {
          "base_uri": "https://localhost:8080/",
          "height": 333
        },
        "outputId": "73937f72-9c30-42d4-a88c-ff28318ca4a9"
      },
      "source": [
        "death = pd.concat([y_multi_retail_d_total,\n",
        "                   data.Deaths_daily.iloc[lag:].reset_index(drop = True), \n",
        "                   data.Date.iloc[lag:].reset_index(drop = True)],\n",
        "                  axis=1)\n",
        "death.columns = ['multi_d', 'actual', 'Date']\n",
        "\n",
        "death.dropna(subset = ['multi_d', 'actual', 'Date'], inplace=True)\n",
        "\n",
        "\n",
        "plt.plot(death['Date'],death['multi_d'], label = \"Predicted\")\n",
        "plt.plot(death['Date'],death['actual'], label = \"Actual\")\n",
        "plt.legend(frameon=False, loc='upper center', ncol = 2, fontsize = 'x-large')\n",
        "plt.title(\"Google: Retail Predicts Confirmed Deaths\", fontsize = 'xx-large')\n",
        "plt.tick_params('x',labelrotation=90)\n",
        "plt.axvline(date_test, color=\"gray\", linestyle=\"--\")\n",
        "plt.grid(True, which='both', alpha=0.3)\n"
      ],
      "execution_count": null,
      "outputs": [
        {
          "output_type": "display_data",
          "data": {
            "image/png": "[encoded data removed]",
            "text/plain": [
              "<Figure size 432x288 with 1 Axes>"
            ]
          },
          "metadata": {
            "needs_background": "light"
          }
        }
      ]
    },
    {
      "cell_type": "markdown",
      "metadata": {
        "id": "mYcJN621o8A2"
      },
      "source": [
        "### Result Table"
      ]
    },
    {
      "cell_type": "code",
      "metadata": {
        "id": "fHC8w-KqZG7-",
        "colab": {
          "base_uri": "https://localhost:8080/",
          "height": 542
        },
        "outputId": "94e814ca-f105-45a1-c86a-048f306fd0a1"
      },
      "source": [
        "fig = go.Figure(data=[go.Table(header=dict(values=['Model Type', 'Best Model', 'Training', 'Test'],\n",
        "                                           line_color = 'gray'),\n",
        "                               cells=dict(values=[['Multivariate: Confirmed Cases',\n",
        "                                                   'Multivariate: Confirmed Deaths'],\n",
        "                                                  [multi_in, multi_de],\n",
        "                                    [round(scores_multi_retail_i1[1],3), round(scores_multi_retail_d1[1],3)],\n",
        "                                    [round(scores_multi_retail_i[1],3), round(scores_multi_retail_d[1],3)]],\n",
        "                            align=['left','center', 'center', 'center'],\n",
        "                            fill_color = 'white',\n",
        "                            line_color = 'gray'))\n",
        "                     ])\n",
        "fig.update_layout(title = \"Mean Absolute Percentage Error\",title_x=0.5)\n",
        "fig.show()"
      ],
      "execution_count": null,
      "outputs": [
        {
          "output_type": "display_data",
          "data": {
            "text/html": [
              "<html>\n",
              "<head><meta charset=\"utf-8\" /></head>\n",
              "<body>\n",
              "    <div>\n",
              "            <script src=\"https://cdnjs.cloudflare.com/ajax/libs/mathjax/2.7.5/MathJax.js?config=TeX-AMS-MML_SVG\"></script><script type=\"text/javascript\">if (window.MathJax) {MathJax.Hub.Config({SVG: {font: \"STIX-Web\"}});}</script>\n",
              "                <script type=\"text/javascript\">window.PlotlyConfig = {MathJaxConfig: 'local'};</script>\n",
              "        <script src=\"https://cdn.plot.ly/plotly-latest.min.js\"></script>    \n",
              "            <div id=\"8db9ba75-add4-4c70-bfaf-fa53bd2a189f\" class=\"plotly-graph-div\" style=\"height:525px; width:100%;\"></div>\n",
              "            <script type=\"text/javascript\">\n",
              "                \n",
              "                    window.PLOTLYENV=window.PLOTLYENV || {};\n",
              "                    \n",
              "                if (document.getElementById(\"8db9ba75-add4-4c70-bfaf-fa53bd2a189f\")) {\n",
              "                    Plotly.newPlot(\n",
              "                        '8db9ba75-add4-4c70-bfaf-fa53bd2a189f',\n",
              "                        [{\"cells\": {\"align\": [\"left\", \"center\", \"center\", \"center\"], \"fill\": {\"color\": \"white\"}, \"line\": {\"color\": \"gray\"}, \"values\": [[\"Multivariate: Confirmed Cases\", \"Multivariate: Confirmed Deaths\"], [\"RNNs\", \"CNN\"], [3.115, 5.434], [7.831, 21.691]]}, \"header\": {\"line\": {\"color\": \"gray\"}, \"values\": [\"Model Type\", \"Best Model\", \"Training\", \"Test\"]}, \"type\": \"table\"}],\n",
              "                        {\"template\": {\"data\": {\"bar\": [{\"error_x\": {\"color\": \"#2a3f5f\"}, \"error_y\": {\"color\": \"#2a3f5f\"}, \"marker\": {\"line\": {\"color\": \"#E5ECF6\", \"width\": 0.5}}, \"type\": \"bar\"}], \"barpolar\": [{\"marker\": {\"line\": {\"color\": \"#E5ECF6\", \"width\": 0.5}}, \"type\": \"barpolar\"}], \"carpet\": [{\"aaxis\": {\"endlinecolor\": \"#2a3f5f\", \"gridcolor\": \"white\", \"linecolor\": \"white\", \"minorgridcolor\": \"white\", \"startlinecolor\": \"#2a3f5f\"}, \"baxis\": {\"endlinecolor\": \"#2a3f5f\", \"gridcolor\": \"white\", \"linecolor\": \"white\", \"minorgridcolor\": \"white\", \"startlinecolor\": \"#2a3f5f\"}, \"type\": \"carpet\"}], \"choropleth\": [{\"colorbar\": {\"outlinewidth\": 0, \"ticks\": \"\"}, \"type\": \"choropleth\"}], \"contour\": [{\"colorbar\": {\"outlinewidth\": 0, \"ticks\": \"\"}, \"colorscale\": [[0.0, \"#0d0887\"], [0.1111111111111111, \"#46039f\"], [0.2222222222222222, \"#7201a8\"], [0.3333333333333333, \"#9c179e\"], [0.4444444444444444, \"#bd3786\"], [0.5555555555555556, \"#d8576b\"], [0.6666666666666666, \"#ed7953\"], [0.7777777777777778, \"#fb9f3a\"], [0.8888888888888888, \"#fdca26\"], [1.0, \"#f0f921\"]], \"type\": \"contour\"}], \"contourcarpet\": [{\"colorbar\": {\"outlinewidth\": 0, \"ticks\": \"\"}, \"type\": \"contourcarpet\"}], \"heatmap\": [{\"colorbar\": {\"outlinewidth\": 0, \"ticks\": \"\"}, \"colorscale\": [[0.0, \"#0d0887\"], [0.1111111111111111, \"#46039f\"], [0.2222222222222222, \"#7201a8\"], [0.3333333333333333, \"#9c179e\"], [0.4444444444444444, \"#bd3786\"], [0.5555555555555556, \"#d8576b\"], [0.6666666666666666, \"#ed7953\"], [0.7777777777777778, \"#fb9f3a\"], [0.8888888888888888, \"#fdca26\"], [1.0, \"#f0f921\"]], \"type\": \"heatmap\"}], \"heatmapgl\": [{\"colorbar\": {\"outlinewidth\": 0, \"ticks\": \"\"}, \"colorscale\": [[0.0, \"#0d0887\"], [0.1111111111111111, \"#46039f\"], [0.2222222222222222, \"#7201a8\"], [0.3333333333333333, \"#9c179e\"], [0.4444444444444444, \"#bd3786\"], [0.5555555555555556, \"#d8576b\"], [0.6666666666666666, \"#ed7953\"], [0.7777777777777778, \"#fb9f3a\"], [0.8888888888888888, \"#fdca26\"], [1.0, \"#f0f921\"]], \"type\": \"heatmapgl\"}], \"histogram\": [{\"marker\": {\"colorbar\": {\"outlinewidth\": 0, \"ticks\": \"\"}}, \"type\": \"histogram\"}], \"histogram2d\": [{\"colorbar\": {\"outlinewidth\": 0, \"ticks\": \"\"}, \"colorscale\": [[0.0, \"#0d0887\"], [0.1111111111111111, \"#46039f\"], [0.2222222222222222, \"#7201a8\"], [0.3333333333333333, \"#9c179e\"], [0.4444444444444444, \"#bd3786\"], [0.5555555555555556, \"#d8576b\"], [0.6666666666666666, \"#ed7953\"], [0.7777777777777778, \"#fb9f3a\"], [0.8888888888888888, \"#fdca26\"], [1.0, \"#f0f921\"]], \"type\": \"histogram2d\"}], \"histogram2dcontour\": [{\"colorbar\": {\"outlinewidth\": 0, \"ticks\": \"\"}, \"colorscale\": [[0.0, \"#0d0887\"], [0.1111111111111111, \"#46039f\"], [0.2222222222222222, \"#7201a8\"], [0.3333333333333333, \"#9c179e\"], [0.4444444444444444, \"#bd3786\"], [0.5555555555555556, \"#d8576b\"], [0.6666666666666666, \"#ed7953\"], [0.7777777777777778, \"#fb9f3a\"], [0.8888888888888888, \"#fdca26\"], [1.0, \"#f0f921\"]], \"type\": \"histogram2dcontour\"}], \"mesh3d\": [{\"colorbar\": {\"outlinewidth\": 0, \"ticks\": \"\"}, \"type\": \"mesh3d\"}], \"parcoords\": [{\"line\": {\"colorbar\": {\"outlinewidth\": 0, \"ticks\": \"\"}}, \"type\": \"parcoords\"}], \"pie\": [{\"automargin\": true, \"type\": \"pie\"}], \"scatter\": [{\"marker\": {\"colorbar\": {\"outlinewidth\": 0, \"ticks\": \"\"}}, \"type\": \"scatter\"}], \"scatter3d\": [{\"line\": {\"colorbar\": {\"outlinewidth\": 0, \"ticks\": \"\"}}, \"marker\": {\"colorbar\": {\"outlinewidth\": 0, \"ticks\": \"\"}}, \"type\": \"scatter3d\"}], \"scattercarpet\": [{\"marker\": {\"colorbar\": {\"outlinewidth\": 0, \"ticks\": \"\"}}, \"type\": \"scattercarpet\"}], \"scattergeo\": [{\"marker\": {\"colorbar\": {\"outlinewidth\": 0, \"ticks\": \"\"}}, \"type\": \"scattergeo\"}], \"scattergl\": [{\"marker\": {\"colorbar\": {\"outlinewidth\": 0, \"ticks\": \"\"}}, \"type\": \"scattergl\"}], \"scattermapbox\": [{\"marker\": {\"colorbar\": {\"outlinewidth\": 0, \"ticks\": \"\"}}, \"type\": \"scattermapbox\"}], \"scatterpolar\": [{\"marker\": {\"colorbar\": {\"outlinewidth\": 0, \"ticks\": \"\"}}, \"type\": \"scatterpolar\"}], \"scatterpolargl\": [{\"marker\": {\"colorbar\": {\"outlinewidth\": 0, \"ticks\": \"\"}}, \"type\": \"scatterpolargl\"}], \"scatterternary\": [{\"marker\": {\"colorbar\": {\"outlinewidth\": 0, \"ticks\": \"\"}}, \"type\": \"scatterternary\"}], \"surface\": [{\"colorbar\": {\"outlinewidth\": 0, \"ticks\": \"\"}, \"colorscale\": [[0.0, \"#0d0887\"], [0.1111111111111111, \"#46039f\"], [0.2222222222222222, \"#7201a8\"], [0.3333333333333333, \"#9c179e\"], [0.4444444444444444, \"#bd3786\"], [0.5555555555555556, \"#d8576b\"], [0.6666666666666666, \"#ed7953\"], [0.7777777777777778, \"#fb9f3a\"], [0.8888888888888888, \"#fdca26\"], [1.0, \"#f0f921\"]], \"type\": \"surface\"}], \"table\": [{\"cells\": {\"fill\": {\"color\": \"#EBF0F8\"}, \"line\": {\"color\": \"white\"}}, \"header\": {\"fill\": {\"color\": \"#C8D4E3\"}, \"line\": {\"color\": \"white\"}}, \"type\": \"table\"}]}, \"layout\": {\"annotationdefaults\": {\"arrowcolor\": \"#2a3f5f\", \"arrowhead\": 0, \"arrowwidth\": 1}, \"coloraxis\": {\"colorbar\": {\"outlinewidth\": 0, \"ticks\": \"\"}}, \"colorscale\": {\"diverging\": [[0, \"#8e0152\"], [0.1, \"#c51b7d\"], [0.2, \"#de77ae\"], [0.3, \"#f1b6da\"], [0.4, \"#fde0ef\"], [0.5, \"#f7f7f7\"], [0.6, \"#e6f5d0\"], [0.7, \"#b8e186\"], [0.8, \"#7fbc41\"], [0.9, \"#4d9221\"], [1, \"#276419\"]], \"sequential\": [[0.0, \"#0d0887\"], [0.1111111111111111, \"#46039f\"], [0.2222222222222222, \"#7201a8\"], [0.3333333333333333, \"#9c179e\"], [0.4444444444444444, \"#bd3786\"], [0.5555555555555556, \"#d8576b\"], [0.6666666666666666, \"#ed7953\"], [0.7777777777777778, \"#fb9f3a\"], [0.8888888888888888, \"#fdca26\"], [1.0, \"#f0f921\"]], \"sequentialminus\": [[0.0, \"#0d0887\"], [0.1111111111111111, \"#46039f\"], [0.2222222222222222, \"#7201a8\"], [0.3333333333333333, \"#9c179e\"], [0.4444444444444444, \"#bd3786\"], [0.5555555555555556, \"#d8576b\"], [0.6666666666666666, \"#ed7953\"], [0.7777777777777778, \"#fb9f3a\"], [0.8888888888888888, \"#fdca26\"], [1.0, \"#f0f921\"]]}, \"colorway\": [\"#636efa\", \"#EF553B\", \"#00cc96\", \"#ab63fa\", \"#FFA15A\", \"#19d3f3\", \"#FF6692\", \"#B6E880\", \"#FF97FF\", \"#FECB52\"], \"font\": {\"color\": \"#2a3f5f\"}, \"geo\": {\"bgcolor\": \"white\", \"lakecolor\": \"white\", \"landcolor\": \"#E5ECF6\", \"showlakes\": true, \"showland\": true, \"subunitcolor\": \"white\"}, \"hoverlabel\": {\"align\": \"left\"}, \"hovermode\": \"closest\", \"mapbox\": {\"style\": \"light\"}, \"paper_bgcolor\": \"white\", \"plot_bgcolor\": \"#E5ECF6\", \"polar\": {\"angularaxis\": {\"gridcolor\": \"white\", \"linecolor\": \"white\", \"ticks\": \"\"}, \"bgcolor\": \"#E5ECF6\", \"radialaxis\": {\"gridcolor\": \"white\", \"linecolor\": \"white\", \"ticks\": \"\"}}, \"scene\": {\"xaxis\": {\"backgroundcolor\": \"#E5ECF6\", \"gridcolor\": \"white\", \"gridwidth\": 2, \"linecolor\": \"white\", \"showbackground\": true, \"ticks\": \"\", \"zerolinecolor\": \"white\"}, \"yaxis\": {\"backgroundcolor\": \"#E5ECF6\", \"gridcolor\": \"white\", \"gridwidth\": 2, \"linecolor\": \"white\", \"showbackground\": true, \"ticks\": \"\", \"zerolinecolor\": \"white\"}, \"zaxis\": {\"backgroundcolor\": \"#E5ECF6\", \"gridcolor\": \"white\", \"gridwidth\": 2, \"linecolor\": \"white\", \"showbackground\": true, \"ticks\": \"\", \"zerolinecolor\": \"white\"}}, \"shapedefaults\": {\"line\": {\"color\": \"#2a3f5f\"}}, \"ternary\": {\"aaxis\": {\"gridcolor\": \"white\", \"linecolor\": \"white\", \"ticks\": \"\"}, \"baxis\": {\"gridcolor\": \"white\", \"linecolor\": \"white\", \"ticks\": \"\"}, \"bgcolor\": \"#E5ECF6\", \"caxis\": {\"gridcolor\": \"white\", \"linecolor\": \"white\", \"ticks\": \"\"}}, \"title\": {\"x\": 0.05}, \"xaxis\": {\"automargin\": true, \"gridcolor\": \"white\", \"linecolor\": \"white\", \"ticks\": \"\", \"title\": {\"standoff\": 15}, \"zerolinecolor\": \"white\", \"zerolinewidth\": 2}, \"yaxis\": {\"automargin\": true, \"gridcolor\": \"white\", \"linecolor\": \"white\", \"ticks\": \"\", \"title\": {\"standoff\": 15}, \"zerolinecolor\": \"white\", \"zerolinewidth\": 2}}}, \"title\": {\"text\": \"Mean Absolute Percentage Error\", \"x\": 0.5}},\n",
              "                        {\"responsive\": true}\n",
              "                    ).then(function(){\n",
              "                            \n",
              "var gd = document.getElementById('8db9ba75-add4-4c70-bfaf-fa53bd2a189f');\n",
              "var x = new MutationObserver(function (mutations, observer) {{\n",
              "        var display = window.getComputedStyle(gd).display;\n",
              "        if (!display || display === 'none') {{\n",
              "            console.log([gd, 'removed!']);\n",
              "            Plotly.purge(gd);\n",
              "            observer.disconnect();\n",
              "        }}\n",
              "}});\n",
              "\n",
              "// Listen for the removal of the full notebook cells\n",
              "var notebookContainer = gd.closest('#notebook-container');\n",
              "if (notebookContainer) {{\n",
              "    x.observe(notebookContainer, {childList: true});\n",
              "}}\n",
              "\n",
              "// Listen for the clearing of the current output cell\n",
              "var outputEl = gd.closest('.output');\n",
              "if (outputEl) {{\n",
              "    x.observe(outputEl, {childList: true});\n",
              "}}\n",
              "\n",
              "                        })\n",
              "                };\n",
              "                \n",
              "            </script>\n",
              "        </div>\n",
              "</body>\n",
              "</html>"
            ]
          },
          "metadata": {}
        }
      ]
    },
    {
      "cell_type": "markdown",
      "metadata": {
        "id": "njuJMZAkDbeZ"
      },
      "source": [
        "# Grocery"
      ]
    },
    {
      "cell_type": "markdown",
      "metadata": {
        "id": "PQLVMWQIDbeZ"
      },
      "source": [
        "## Analysis\n",
        "\n",
        "---\n",
        "\n",
        "\n",
        "\n",
        "### Hyperparameters Tuning\n",
        "\n",
        "\n",
        "Using the training set matrices for confirmed cases and confirmed deaths and univiariate and multivariate, we tuned for the most optimal numbers of parameters, staring from basic architectures. In this case, we searched for numbers of nodes for LSTM, GRU, and RNNs, and filter, kernel size, and pool for CNN. In the input layer, we added instance normalization to make all values between 0 and 1. Since we were dealing with some data that we had never seen before and the data seemed to be non-stationary, instance normalization might provide more advantages than typical standardization or normalization. The numbers of nodes that we used for our LSTM, GRU, and RNNs experiments were 4, 8, 16, 32, 64, 128, 256, 512, and 1024. Similarly, we used the same pool for CNN filter with kernel size of 3, 5 and 7, and pool of 2 and 3. The activation function for this hidden layer was sigmoid. Next, we added another instance normalization. Finally, the output layer contained one node and Linear activation function. Epoch and batch size were 50 and 1, respectively. We used mean squared error (MSE) as our loss function, ADAM optimization and mean absolute percentage error (MAPE) as a metric for model evaluation.\n"
      ]
    },
    {
      "cell_type": "markdown",
      "metadata": {
        "id": "PWqAAzERDbea"
      },
      "source": [
        "### CNN"
      ]
    },
    {
      "cell_type": "code",
      "metadata": {
        "colab": {
          "base_uri": "https://localhost:8080/"
        },
        "id": "V3UlpZu1Dbec",
        "outputId": "2f6c5fa9-8d24-44b6-a11f-cd898cddb809"
      },
      "source": [
        "# Multivariate CNN confirmed cases\n",
        "\n",
        "kernel = [3, 5, 7]\n",
        "pool = [2]\n",
        "cnn_i_multi_grocery = list()\n",
        "\n",
        "for i in kernel:\n",
        "  for j in pool: \n",
        "    score = list()\n",
        "    kernel_size, pool = [i],[j]\n",
        "    score = run_experiment(filter, kernel_size, pool,X_i_tr_grocery, y_i_tr)\n",
        "    cnn_i_multi_grocery.append(score)\n",
        "\n",
        "pool = [3]\n",
        "\n",
        "for i in kernel:\n",
        "  for j in pool: \n",
        "    kernel_size, pool = [i],[j]\n",
        "    score = run_experiment(filter, kernel_size, pool, X_i_tr_grocery, y_i_tr)\n",
        "    cnn_i_multi_grocery.append(score)\n",
        "\n",
        "cnn_i_multi_grocery = pd.DataFrame(cnn_i_multi_grocery).T\n",
        "cnn_i_multi_grocery.columns = ['k3p2', 'k5p2','k7p2', 'k3p3', 'k5p3', 'k7p3']"
      ],
      "execution_count": null,
      "outputs": [
        {
          "output_type": "stream",
          "name": "stdout",
          "text": [
            "filter = 2, kernel size = 3, pooling size = 2: 5.466\n",
            "filter = 4, kernel size = 3, pooling size = 2: 5.507\n",
            "filter = 8, kernel size = 3, pooling size = 2: 5.821\n",
            "filter = 16, kernel size = 3, pooling size = 2: 4.440\n",
            "filter = 32, kernel size = 3, pooling size = 2: 4.278\n",
            "filter = 64, kernel size = 3, pooling size = 2: 3.800\n",
            "filter = 128, kernel size = 3, pooling size = 2: 3.714\n",
            "filter = 256, kernel size = 3, pooling size = 2: 4.274\n",
            "filter = 512, kernel size = 3, pooling size = 2: 4.736\n",
            "filter = 1024, kernel size = 3, pooling size = 2: 4.963\n",
            "filter = 2, kernel size = 5, pooling size = 2: 5.596\n",
            "filter = 4, kernel size = 5, pooling size = 2: 4.738\n",
            "filter = 8, kernel size = 5, pooling size = 2: 4.453\n",
            "filter = 16, kernel size = 5, pooling size = 2: 3.360\n",
            "filter = 32, kernel size = 5, pooling size = 2: 4.374\n",
            "filter = 64, kernel size = 5, pooling size = 2: 3.872\n",
            "filter = 128, kernel size = 5, pooling size = 2: 3.783\n",
            "filter = 256, kernel size = 5, pooling size = 2: 3.932\n",
            "filter = 512, kernel size = 5, pooling size = 2: 4.732\n",
            "filter = 1024, kernel size = 5, pooling size = 2: 5.271\n",
            "filter = 2, kernel size = 7, pooling size = 2: 5.656\n",
            "filter = 4, kernel size = 7, pooling size = 2: 5.258\n",
            "filter = 8, kernel size = 7, pooling size = 2: 6.058\n",
            "filter = 16, kernel size = 7, pooling size = 2: 4.941\n",
            "filter = 32, kernel size = 7, pooling size = 2: 5.011\n",
            "filter = 64, kernel size = 7, pooling size = 2: 4.032\n",
            "filter = 128, kernel size = 7, pooling size = 2: 4.283\n",
            "filter = 256, kernel size = 7, pooling size = 2: 3.463\n",
            "filter = 512, kernel size = 7, pooling size = 2: 4.305\n",
            "filter = 1024, kernel size = 7, pooling size = 2: 5.441\n",
            "filter = 2, kernel size = 3, pooling size = 3: 5.532\n",
            "filter = 4, kernel size = 3, pooling size = 3: 4.721\n",
            "filter = 8, kernel size = 3, pooling size = 3: 4.397\n",
            "filter = 16, kernel size = 3, pooling size = 3: 4.680\n",
            "filter = 32, kernel size = 3, pooling size = 3: 4.311\n",
            "filter = 64, kernel size = 3, pooling size = 3: 4.362\n",
            "filter = 128, kernel size = 3, pooling size = 3: 3.875\n",
            "filter = 256, kernel size = 3, pooling size = 3: 3.778\n",
            "filter = 512, kernel size = 3, pooling size = 3: 4.223\n",
            "filter = 1024, kernel size = 3, pooling size = 3: 5.673\n",
            "filter = 2, kernel size = 5, pooling size = 3: 5.552\n",
            "filter = 4, kernel size = 5, pooling size = 3: 5.561\n",
            "filter = 8, kernel size = 5, pooling size = 3: 5.009\n",
            "filter = 16, kernel size = 5, pooling size = 3: 4.680\n",
            "filter = 32, kernel size = 5, pooling size = 3: 5.132\n",
            "filter = 64, kernel size = 5, pooling size = 3: 5.020\n",
            "filter = 128, kernel size = 5, pooling size = 3: 4.402\n",
            "filter = 256, kernel size = 5, pooling size = 3: 4.239\n",
            "filter = 512, kernel size = 5, pooling size = 3: 5.072\n",
            "filter = 1024, kernel size = 5, pooling size = 3: 5.073\n",
            "filter = 2, kernel size = 7, pooling size = 3: 5.139\n",
            "filter = 4, kernel size = 7, pooling size = 3: 5.840\n",
            "filter = 8, kernel size = 7, pooling size = 3: 6.227\n",
            "filter = 16, kernel size = 7, pooling size = 3: 4.984\n",
            "filter = 32, kernel size = 7, pooling size = 3: 5.878\n",
            "filter = 64, kernel size = 7, pooling size = 3: 4.943\n",
            "filter = 128, kernel size = 7, pooling size = 3: 4.631\n",
            "filter = 256, kernel size = 7, pooling size = 3: 4.641\n",
            "filter = 512, kernel size = 7, pooling size = 3: 4.814\n",
            "filter = 1024, kernel size = 7, pooling size = 3: 5.116\n"
          ]
        }
      ]
    },
    {
      "cell_type": "code",
      "metadata": {
        "colab": {
          "base_uri": "https://localhost:8080/"
        },
        "id": "2VKr8ZnqDbec",
        "outputId": "01e05f52-0390-4dd2-b6d7-15cfda575a27"
      },
      "source": [
        "# Multivariate CNN confirmed deaths\n",
        "\n",
        "pool = [2]\n",
        "cnn_d_multi_grocery = list()\n",
        "\n",
        "for i in kernel:\n",
        "  for j in pool:\n",
        "    score = list() \n",
        "    kernel_size, pool = [i],[j]\n",
        "    score = run_experiment(filter, kernel_size, pool, X_d_tr_grocery, y_d_tr)\n",
        "    cnn_d_multi_grocery.append(score)\n",
        "\n",
        "pool = [3]\n",
        "\n",
        "for i in kernel:\n",
        "  for j in pool: \n",
        "    score = list()\n",
        "    kernel_size, pool = [i],[j]\n",
        "    score = run_experiment(filter, kernel_size, pool, X_d_tr_grocery, y_d_tr)\n",
        "    cnn_d_multi_grocery.append(score)\n",
        "\n",
        "cnn_d_multi_grocery = pd.DataFrame(cnn_d_multi_grocery).T\n",
        "cnn_d_multi_grocery.columns = ['k3p2', 'k3p3','k5p2', 'k7p2', 'k5p3', 'k7p3']"
      ],
      "execution_count": null,
      "outputs": [
        {
          "output_type": "stream",
          "name": "stdout",
          "text": [
            "filter = 2, kernel size = 3, pooling size = 2: 11.403\n",
            "filter = 4, kernel size = 3, pooling size = 2: 8.269\n",
            "filter = 8, kernel size = 3, pooling size = 2: 8.403\n",
            "filter = 16, kernel size = 3, pooling size = 2: 7.574\n",
            "filter = 32, kernel size = 3, pooling size = 2: 7.787\n",
            "filter = 64, kernel size = 3, pooling size = 2: 6.695\n",
            "filter = 128, kernel size = 3, pooling size = 2: 4.365\n",
            "filter = 256, kernel size = 3, pooling size = 2: 3.889\n",
            "filter = 512, kernel size = 3, pooling size = 2: 4.570\n",
            "filter = 1024, kernel size = 3, pooling size = 2: 4.266\n",
            "filter = 2, kernel size = 5, pooling size = 2: 8.683\n",
            "filter = 4, kernel size = 5, pooling size = 2: 9.538\n",
            "filter = 8, kernel size = 5, pooling size = 2: 7.138\n",
            "filter = 16, kernel size = 5, pooling size = 2: 6.752\n",
            "filter = 32, kernel size = 5, pooling size = 2: 6.552\n",
            "filter = 64, kernel size = 5, pooling size = 2: 7.249\n",
            "filter = 128, kernel size = 5, pooling size = 2: 5.834\n",
            "filter = 256, kernel size = 5, pooling size = 2: 4.866\n",
            "filter = 512, kernel size = 5, pooling size = 2: 4.416\n",
            "filter = 1024, kernel size = 5, pooling size = 2: 4.548\n",
            "filter = 2, kernel size = 7, pooling size = 2: 8.846\n",
            "filter = 4, kernel size = 7, pooling size = 2: 8.361\n",
            "filter = 8, kernel size = 7, pooling size = 2: 7.904\n",
            "filter = 16, kernel size = 7, pooling size = 2: 7.594\n",
            "filter = 32, kernel size = 7, pooling size = 2: 5.546\n",
            "filter = 64, kernel size = 7, pooling size = 2: 6.116\n",
            "filter = 128, kernel size = 7, pooling size = 2: 4.672\n",
            "filter = 256, kernel size = 7, pooling size = 2: 5.640\n",
            "filter = 512, kernel size = 7, pooling size = 2: 4.581\n",
            "filter = 1024, kernel size = 7, pooling size = 2: 4.680\n",
            "filter = 2, kernel size = 3, pooling size = 3: 9.443\n",
            "filter = 4, kernel size = 3, pooling size = 3: 9.484\n",
            "filter = 8, kernel size = 3, pooling size = 3: 9.706\n",
            "filter = 16, kernel size = 3, pooling size = 3: 8.457\n",
            "filter = 32, kernel size = 3, pooling size = 3: 8.962\n",
            "filter = 64, kernel size = 3, pooling size = 3: 7.638\n",
            "filter = 128, kernel size = 3, pooling size = 3: 6.576\n",
            "filter = 256, kernel size = 3, pooling size = 3: 5.043\n",
            "filter = 512, kernel size = 3, pooling size = 3: 5.178\n",
            "filter = 1024, kernel size = 3, pooling size = 3: 5.083\n",
            "filter = 2, kernel size = 5, pooling size = 3: 9.599\n",
            "filter = 4, kernel size = 5, pooling size = 3: 9.035\n",
            "filter = 8, kernel size = 5, pooling size = 3: 9.562\n",
            "filter = 16, kernel size = 5, pooling size = 3: 7.720\n",
            "filter = 32, kernel size = 5, pooling size = 3: 8.013\n",
            "filter = 64, kernel size = 5, pooling size = 3: 8.351\n",
            "filter = 128, kernel size = 5, pooling size = 3: 8.073\n",
            "filter = 256, kernel size = 5, pooling size = 3: 6.835\n",
            "filter = 512, kernel size = 5, pooling size = 3: 4.017\n",
            "filter = 1024, kernel size = 5, pooling size = 3: 4.225\n",
            "filter = 2, kernel size = 7, pooling size = 3: 98.124\n",
            "filter = 4, kernel size = 7, pooling size = 3: 8.862\n",
            "filter = 8, kernel size = 7, pooling size = 3: 8.964\n",
            "filter = 16, kernel size = 7, pooling size = 3: 7.225\n",
            "filter = 32, kernel size = 7, pooling size = 3: 7.967\n",
            "filter = 64, kernel size = 7, pooling size = 3: 7.490\n",
            "filter = 128, kernel size = 7, pooling size = 3: 7.680\n",
            "filter = 256, kernel size = 7, pooling size = 3: 8.125\n",
            "filter = 512, kernel size = 7, pooling size = 3: 8.834\n",
            "filter = 1024, kernel size = 7, pooling size = 3: 6.376\n"
          ]
        }
      ]
    },
    {
      "cell_type": "markdown",
      "metadata": {
        "id": "YZhBItpcDbed"
      },
      "source": [
        "### LSTM"
      ]
    },
    {
      "cell_type": "code",
      "metadata": {
        "id": "YaTWbUc_Dbed"
      },
      "source": [
        "def evaluate_lstm(trainX, trainy, units):\n",
        "    seed(1)\n",
        "    tensorflow.random.set_seed(1)\n",
        "\n",
        "    verbose, epochs, batch_size = 0, 50, 1\n",
        "    n_timesteps, n_features = trainX.shape[1], trainX.shape[2]\n",
        "\n",
        "    model = Sequential()\n",
        "    model.add(LSTM(units = units, activation='relu', input_shape=(n_timesteps,n_features)))\n",
        "    model.add(Dense(1, activation='linear'))\n",
        "    model.compile(loss='mse', optimizer='adam', metrics=['MAPE'])\n",
        "  \n",
        "    # fit network\n",
        "    model.fit(trainX, trainy, epochs=epochs, batch_size=batch_size, verbose=verbose, shuffle = False)\n",
        "    # evaluate model\n",
        "    _, accuracy = model.evaluate(trainX, trainy, batch_size=batch_size, verbose=0)\n",
        "    return accuracy\n",
        "\n",
        "\n",
        "# # Univariate LSTM confirmed cases\n",
        "units = [2, 4,8,16,32,64,128,256,512, 1024]\n",
        "\n",
        "\n",
        "# Multivariate LSTM confirmed cases\n",
        "\n",
        "lstm_i_multi_grocery = list()\n",
        "\n",
        "for i in units:\n",
        "  score = list()\n",
        "  score = evaluate_lstm(X_i_tr_grocery, y_i_tr, i)\n",
        "  lstm_i_multi_grocery.append(score)\n",
        "\n",
        "\n",
        "\n",
        "# Multivariate LSTM confirmed deaths\n",
        "\n",
        "lstm_d_multi_grocery = list()\n",
        "\n",
        "for i in units:\n",
        "  score = list()\n",
        "  score = evaluate_lstm(X_d_tr_grocery, y_d_tr, i)\n",
        "  lstm_d_multi_grocery.append(score)"
      ],
      "execution_count": null,
      "outputs": []
    },
    {
      "cell_type": "markdown",
      "metadata": {
        "id": "WX0lrXVUDbed"
      },
      "source": [
        "### GRU"
      ]
    },
    {
      "cell_type": "code",
      "metadata": {
        "id": "dM0X4YiRDbed"
      },
      "source": [
        "def evaluate_gru(trainX, trainy, units):\n",
        "    seed(1)\n",
        "    tensorflow.random.set_seed(1)\n",
        "\n",
        "    verbose, epochs, batch_size = 0, 50, 1\n",
        "    n_timesteps, n_features = trainX.shape[1], trainX.shape[2]\n",
        "\n",
        "    model = Sequential()\n",
        "    model.add(GRU(units = units, activation='relu', input_shape=(n_timesteps,n_features)))\n",
        "    model.add(Dense(1, activation='linear'))\n",
        "    model.compile(loss='mse', optimizer='adam', metrics=['MAPE'])\n",
        "  \n",
        "    # fit network\n",
        "    model.fit(trainX, trainy, epochs=epochs, batch_size=batch_size, verbose=verbose, shuffle = False)\n",
        "    # evaluate model\n",
        "    _, accuracy = model.evaluate(trainX, trainy, batch_size=batch_size, verbose=0)\n",
        "    return accuracy\n",
        "\n",
        "# Multivariate GRU confirmed cases\n",
        "\n",
        "gru_i_multi_grocery = list()\n",
        "\n",
        "for i in units:\n",
        "  score = list()\n",
        "  score = evaluate_gru(X_i_tr_grocery, y_i_tr, i)\n",
        "  gru_i_multi_grocery.append(score)\n",
        "\n",
        "\n",
        "# Multivariate GRU confirmed deaths\n",
        "\n",
        "gru_d_multi_grocery = list()\n",
        "\n",
        "for i in units:\n",
        "  score = list()\n",
        "  score = evaluate_gru(X_d_tr_grocery, y_d_tr, i)\n",
        "  gru_d_multi_grocery.append(score)"
      ],
      "execution_count": null,
      "outputs": []
    },
    {
      "cell_type": "markdown",
      "metadata": {
        "id": "PIh7LDVnDbef"
      },
      "source": [
        "### RNNs"
      ]
    },
    {
      "cell_type": "code",
      "metadata": {
        "id": "2keP4jMrDbef"
      },
      "source": [
        "def evaluate_rnn(trainX, trainy, units):\n",
        "    seed(1)\n",
        "    tensorflow.random.set_seed(1)\n",
        "\n",
        "    verbose, epochs, batch_size = 0, 50, 1\n",
        "    n_timesteps, n_features = trainX.shape[1], trainX.shape[2]\n",
        "\n",
        "    model = Sequential()\n",
        "    model.add(SimpleRNN(units = units, activation='relu', input_shape=(n_timesteps,n_features)))\n",
        "    model.add(Dense(1, activation='linear'))\n",
        "    model.compile(loss='mse', optimizer='adam', metrics=['MAPE'])\n",
        "  \n",
        "    # fit network\n",
        "    model.fit(trainX, trainy, epochs=epochs, batch_size=batch_size, verbose=verbose, shuffle = False)\n",
        "    # evaluate model\n",
        "    _, accuracy = model.evaluate(trainX, trainy, batch_size=batch_size, verbose=0)\n",
        "    return accuracy\n",
        "\n",
        "# Multivariate RNNs confirmed cases\n",
        "\n",
        "rnn_i_multi_grocery = list()\n",
        "\n",
        "for i in units:\n",
        "  score = list()\n",
        "  score = evaluate_rnn(X_i_tr_grocery, y_i_tr, i)\n",
        "  rnn_i_multi_grocery.append(score)\n",
        "\n",
        "\n",
        "# Multivariate RNNs confirmed deaths\n",
        "\n",
        "rnn_d_multi_grocery = list()\n",
        "\n",
        "for i in units:\n",
        "  score = list()\n",
        "  score = evaluate_rnn(X_d_tr_grocery, y_d_tr, i)\n",
        "  rnn_d_multi_grocery.append(score)"
      ],
      "execution_count": null,
      "outputs": []
    },
    {
      "cell_type": "markdown",
      "metadata": {
        "id": "2FMpKx7QDbeg"
      },
      "source": [
        "### Result Table"
      ]
    },
    {
      "cell_type": "markdown",
      "metadata": {
        "id": "0ow1elOyDbeg"
      },
      "source": [
        "#### Multivariate Confirmed Cases"
      ]
    },
    {
      "cell_type": "code",
      "metadata": {
        "colab": {
          "base_uri": "https://localhost:8080/",
          "height": 737
        },
        "id": "-YsNI4GvDbeg",
        "outputId": "612f80b3-34cf-46c4-8ec8-7cdf8b7076e3"
      },
      "source": [
        "fig = go.Figure(data=[go.Table(header=dict(values=['Model', 'Kernel size', 'Pool', '2 Nodes', '4 Nodes', '8 Nodes', '16 Nodes', \n",
        "                                                   '32 Nodes', \"64 Nodes\", '128 Nodes', '256 Nodes', '512 Nodes', '1024 Nodes'],\n",
        "                                           line_color = 'gray'),\n",
        "                               cells=dict(values=[['LSTM', 'GRU', 'RNNs', 'CNN',\n",
        "                                                   'CNN', 'CNN', 'CNN', 'CNN', 'CNN'],\n",
        "                                                  ['-', '-', '-', '3', '5', '7', '3', '5', '7'],\n",
        "                                                  ['-', '-', '-', '2', '2', '2', '3', '3', '3'],\n",
        "                                    [round(lstm_i_multi_grocery[0],3), \n",
        "                                     round(gru_i_multi_grocery[0],3),\n",
        "                                     round(rnn_i_multi_grocery[0],3), \n",
        "                                     round(cnn_i_multi_grocery.iloc[0,0],3),\n",
        "                                     round(cnn_i_multi_grocery.iloc[0,1],3),\n",
        "                                     round(cnn_i_multi_grocery.iloc[0,2],3),\n",
        "                                     round(cnn_i_multi_grocery.iloc[0,3],3),\n",
        "                                     round(cnn_i_multi_grocery.iloc[0,4],3),\n",
        "                                     round(cnn_i_multi_grocery.iloc[0,5],3)],\n",
        "                                     [round(lstm_i_multi_grocery[1],3), \n",
        "                                     round(gru_i_multi_grocery[1],3),\n",
        "                                     round(rnn_i_multi_grocery[1],3), \n",
        "                                     round(cnn_i_multi_grocery.iloc[1,0],3),\n",
        "                                     round(cnn_i_multi_grocery.iloc[1,1],3),\n",
        "                                     round(cnn_i_multi_grocery.iloc[1,2],3),\n",
        "                                     round(cnn_i_multi_grocery.iloc[1,3],3),\n",
        "                                     round(cnn_i_multi_grocery.iloc[1,4],3),\n",
        "                                     round(cnn_i_multi_grocery.iloc[1,5],3)],\n",
        "                                     [round(lstm_i_multi_grocery[2],3), \n",
        "                                     round(gru_i_multi_grocery[2],3),\n",
        "                                     round(rnn_i_multi_grocery[2],3), \n",
        "                                     round(cnn_i_multi_grocery.iloc[2,0],3),\n",
        "                                     round(cnn_i_multi_grocery.iloc[2,1],3),\n",
        "                                     round(cnn_i_multi_grocery.iloc[2,2],3),\n",
        "                                     round(cnn_i_multi_grocery.iloc[2,3],3),\n",
        "                                     round(cnn_i_multi_grocery.iloc[2,4],3),\n",
        "                                     round(cnn_i_multi_grocery.iloc[2,5],3)],\n",
        "                                     [round(lstm_i_multi_grocery[3],3), \n",
        "                                     round(gru_i_multi_grocery[3],3),\n",
        "                                     round(rnn_i_multi_grocery[3],3), \n",
        "                                     round(cnn_i_multi_grocery.iloc[3,0],3),\n",
        "                                     round(cnn_i_multi_grocery.iloc[3,1],3),\n",
        "                                     round(cnn_i_multi_grocery.iloc[3,2],3),\n",
        "                                     round(cnn_i_multi_grocery.iloc[3,3],3),\n",
        "                                     round(cnn_i_multi_grocery.iloc[3,4],3),\n",
        "                                     round(cnn_i_multi_grocery.iloc[3,5],3)],\n",
        "                                     [round(lstm_i_multi_grocery[4],3), \n",
        "                                     round(gru_i_multi_grocery[4],3),\n",
        "                                     round(rnn_i_multi_grocery[4],3), \n",
        "                                     round(cnn_i_multi_grocery.iloc[4,0],3),\n",
        "                                     round(cnn_i_multi_grocery.iloc[4,1],3),\n",
        "                                     round(cnn_i_multi_grocery.iloc[4,2],3),\n",
        "                                     round(cnn_i_multi_grocery.iloc[4,3],3),\n",
        "                                     round(cnn_i_multi_grocery.iloc[4,4],3),\n",
        "                                     round(cnn_i_multi_grocery.iloc[4,5],3)],\n",
        "                                     [round(lstm_i_multi_grocery[5],3), \n",
        "                                     round(gru_i_multi_grocery[5],3),\n",
        "                                     round(rnn_i_multi_grocery[5],3), \n",
        "                                     round(cnn_i_multi_grocery.iloc[5,0],3),\n",
        "                                     round(cnn_i_multi_grocery.iloc[5,1],3),\n",
        "                                     round(cnn_i_multi_grocery.iloc[5,2],3),\n",
        "                                     round(cnn_i_multi_grocery.iloc[5,3],3),\n",
        "                                     round(cnn_i_multi_grocery.iloc[5,4],3),\n",
        "                                     round(cnn_i_multi_grocery.iloc[5,5],3)],\n",
        "                                     [round(lstm_i_multi_grocery[6],3), \n",
        "                                     round(gru_i_multi_grocery[6],3),\n",
        "                                     round(rnn_i_multi_grocery[6],3), \n",
        "                                     round(cnn_i_multi_grocery.iloc[6,0],3),\n",
        "                                     round(cnn_i_multi_grocery.iloc[6,1],3),\n",
        "                                     round(cnn_i_multi_grocery.iloc[6,2],3),\n",
        "                                     round(cnn_i_multi_grocery.iloc[6,3],3),\n",
        "                                     round(cnn_i_multi_grocery.iloc[6,4],3),\n",
        "                                     round(cnn_i_multi_grocery.iloc[6,5],3)],\n",
        "                                     [round(lstm_i_multi_grocery[7],3), \n",
        "                                     round(gru_i_multi_grocery[7],3),\n",
        "                                     round(rnn_i_multi_grocery[7],3), \n",
        "                                     round(cnn_i_multi_grocery.iloc[7,0],3),\n",
        "                                     round(cnn_i_multi_grocery.iloc[7,1],3),\n",
        "                                     round(cnn_i_multi_grocery.iloc[7,2],3),\n",
        "                                     round(cnn_i_multi_grocery.iloc[7,3],3),\n",
        "                                     round(cnn_i_multi_grocery.iloc[7,4],3),\n",
        "                                     round(cnn_i_multi_grocery.iloc[7,5],3)],\n",
        "                                     [round(lstm_i_multi_grocery[8],3), \n",
        "                                     round(gru_i_multi_grocery[8],3),\n",
        "                                     round(rnn_i_multi_grocery[8],3), \n",
        "                                     round(cnn_i_multi_grocery.iloc[8,0],3),\n",
        "                                     round(cnn_i_multi_grocery.iloc[8,1],3),\n",
        "                                     round(cnn_i_multi_grocery.iloc[8,2],3),\n",
        "                                     round(cnn_i_multi_grocery.iloc[8,3],3),\n",
        "                                     round(cnn_i_multi_grocery.iloc[8,4],3),\n",
        "                                     round(cnn_i_multi_grocery.iloc[8,5],3)],\n",
        "                                     [round(lstm_i_multi_grocery[9],3), \n",
        "                                     round(gru_i_multi_grocery[9],3),\n",
        "                                     round(rnn_i_multi_grocery[9],3), \n",
        "                                     round(cnn_i_multi_grocery.iloc[9,0],3),\n",
        "                                     round(cnn_i_multi_grocery.iloc[9,1],3),\n",
        "                                     round(cnn_i_multi_grocery.iloc[9,2],3),\n",
        "                                     round(cnn_i_multi_grocery.iloc[9,3],3),\n",
        "                                     round(cnn_i_multi_grocery.iloc[9,4],3),\n",
        "                                     round(cnn_i_multi_grocery.iloc[9,5],3)]],\n",
        "                            align=['left','center', 'center', \n",
        "                                   'right','right','right',\n",
        "                                   'right','right','right',\n",
        "                                   'right','right','right','right'],\n",
        "                            fill_color = 'white',\n",
        "                            line_color = 'gray'))\n",
        "                     ])\n",
        "fig.update_layout(title = \"Parameter Tunings Mean Absolute Percentage Error: Multivariate Confirmed Cases\",\n",
        "                  title_x=0.5, height = 700, width = 1200)\n",
        "fig.show()"
      ],
      "execution_count": null,
      "outputs": [
        {
          "output_type": "display_data",
          "data": {
            "text/html": [
              "<html>\n",
              "<head><meta charset=\"utf-8\" /></head>\n",
              "<body>\n",
              "    <div>\n",
              "            <script src=\"https://cdnjs.cloudflare.com/ajax/libs/mathjax/2.7.5/MathJax.js?config=TeX-AMS-MML_SVG\"></script><script type=\"text/javascript\">if (window.MathJax) {MathJax.Hub.Config({SVG: {font: \"STIX-Web\"}});}</script>\n",
              "                <script type=\"text/javascript\">window.PlotlyConfig = {MathJaxConfig: 'local'};</script>\n",
              "        <script src=\"https://cdn.plot.ly/plotly-latest.min.js\"></script>    \n",
              "            <div id=\"85737e97-2422-4287-8b7e-48afa7f0a025\" class=\"plotly-graph-div\" style=\"height:700px; width:1200px;\"></div>\n",
              "            <script type=\"text/javascript\">\n",
              "                \n",
              "                    window.PLOTLYENV=window.PLOTLYENV || {};\n",
              "                    \n",
              "                if (document.getElementById(\"85737e97-2422-4287-8b7e-48afa7f0a025\")) {\n",
              "                    Plotly.newPlot(\n",
              "                        '85737e97-2422-4287-8b7e-48afa7f0a025',\n",
              "                        [{\"cells\": {\"align\": [\"left\", \"center\", \"center\", \"right\", \"right\", \"right\", \"right\", \"right\", \"right\", \"right\", \"right\", \"right\", \"right\"], \"fill\": {\"color\": \"white\"}, \"line\": {\"color\": \"gray\"}, \"values\": [[\"LSTM\", \"GRU\", \"RNNs\", \"CNN\", \"CNN\", \"CNN\", \"CNN\", \"CNN\", \"CNN\"], [\"-\", \"-\", \"-\", \"3\", \"5\", \"7\", \"3\", \"5\", \"7\"], [\"-\", \"-\", \"-\", \"2\", \"2\", \"2\", \"3\", \"3\", \"3\"], [99.984, 51.616, 6.12, 5.466, 5.596, 5.656, 5.532, 5.552, 5.139], [99.984, 99.984, 3.57, 5.507, 4.738, 5.258, 4.721, 5.561, 5.84], [4.342, 99.984, 4.113, 5.821, 4.453, 6.058, 4.397, 5.009, 6.227], [4.378, 4.034, 5.259, 4.44, 3.36, 4.941, 4.68, 4.68, 4.984], [3.562, 4.266, 3.838, 4.278, 4.374, 5.011, 4.311, 5.132, 5.878], [5.143, 3.829, 3.32, 3.8, 3.872, 4.032, 4.362, 5.02, 4.943], [4.871, 4.388, 3.006, 3.714, 3.783, 4.283, 3.875, 4.402, 4.631], [4.08, 4.351, 3.063, 4.274, 3.932, 3.463, 3.778, 4.239, 4.641], [4.153, 3.495, 3.364, 4.736, 4.732, 4.305, 4.223, 5.072, 4.814], [4.313, 4.837, 3.562, 4.963, 5.271, 5.441, 5.673, 5.073, 5.116]]}, \"header\": {\"line\": {\"color\": \"gray\"}, \"values\": [\"Model\", \"Kernel size\", \"Pool\", \"2 Nodes\", \"4 Nodes\", \"8 Nodes\", \"16 Nodes\", \"32 Nodes\", \"64 Nodes\", \"128 Nodes\", \"256 Nodes\", \"512 Nodes\", \"1024 Nodes\"]}, \"type\": \"table\"}],\n",
              "                        {\"height\": 700, \"template\": {\"data\": {\"bar\": [{\"error_x\": {\"color\": \"#2a3f5f\"}, \"error_y\": {\"color\": \"#2a3f5f\"}, \"marker\": {\"line\": {\"color\": \"#E5ECF6\", \"width\": 0.5}}, \"type\": \"bar\"}], \"barpolar\": [{\"marker\": {\"line\": {\"color\": \"#E5ECF6\", \"width\": 0.5}}, \"type\": \"barpolar\"}], \"carpet\": [{\"aaxis\": {\"endlinecolor\": \"#2a3f5f\", \"gridcolor\": \"white\", \"linecolor\": \"white\", \"minorgridcolor\": \"white\", \"startlinecolor\": \"#2a3f5f\"}, \"baxis\": {\"endlinecolor\": \"#2a3f5f\", \"gridcolor\": \"white\", \"linecolor\": \"white\", \"minorgridcolor\": \"white\", \"startlinecolor\": \"#2a3f5f\"}, \"type\": \"carpet\"}], \"choropleth\": [{\"colorbar\": {\"outlinewidth\": 0, \"ticks\": \"\"}, \"type\": \"choropleth\"}], \"contour\": [{\"colorbar\": {\"outlinewidth\": 0, \"ticks\": \"\"}, \"colorscale\": [[0.0, \"#0d0887\"], [0.1111111111111111, \"#46039f\"], [0.2222222222222222, \"#7201a8\"], [0.3333333333333333, \"#9c179e\"], [0.4444444444444444, \"#bd3786\"], [0.5555555555555556, \"#d8576b\"], [0.6666666666666666, \"#ed7953\"], [0.7777777777777778, \"#fb9f3a\"], [0.8888888888888888, \"#fdca26\"], [1.0, \"#f0f921\"]], \"type\": \"contour\"}], \"contourcarpet\": [{\"colorbar\": {\"outlinewidth\": 0, \"ticks\": \"\"}, \"type\": \"contourcarpet\"}], \"heatmap\": [{\"colorbar\": {\"outlinewidth\": 0, \"ticks\": \"\"}, \"colorscale\": [[0.0, \"#0d0887\"], [0.1111111111111111, \"#46039f\"], [0.2222222222222222, \"#7201a8\"], [0.3333333333333333, \"#9c179e\"], [0.4444444444444444, \"#bd3786\"], [0.5555555555555556, \"#d8576b\"], [0.6666666666666666, \"#ed7953\"], [0.7777777777777778, \"#fb9f3a\"], [0.8888888888888888, \"#fdca26\"], [1.0, \"#f0f921\"]], \"type\": \"heatmap\"}], \"heatmapgl\": [{\"colorbar\": {\"outlinewidth\": 0, \"ticks\": \"\"}, \"colorscale\": [[0.0, \"#0d0887\"], [0.1111111111111111, \"#46039f\"], [0.2222222222222222, \"#7201a8\"], [0.3333333333333333, \"#9c179e\"], [0.4444444444444444, \"#bd3786\"], [0.5555555555555556, \"#d8576b\"], [0.6666666666666666, \"#ed7953\"], [0.7777777777777778, \"#fb9f3a\"], [0.8888888888888888, \"#fdca26\"], [1.0, \"#f0f921\"]], \"type\": \"heatmapgl\"}], \"histogram\": [{\"marker\": {\"colorbar\": {\"outlinewidth\": 0, \"ticks\": \"\"}}, \"type\": \"histogram\"}], \"histogram2d\": [{\"colorbar\": {\"outlinewidth\": 0, \"ticks\": \"\"}, \"colorscale\": [[0.0, \"#0d0887\"], [0.1111111111111111, \"#46039f\"], [0.2222222222222222, \"#7201a8\"], [0.3333333333333333, \"#9c179e\"], [0.4444444444444444, \"#bd3786\"], [0.5555555555555556, \"#d8576b\"], [0.6666666666666666, \"#ed7953\"], [0.7777777777777778, \"#fb9f3a\"], [0.8888888888888888, \"#fdca26\"], [1.0, \"#f0f921\"]], \"type\": \"histogram2d\"}], \"histogram2dcontour\": [{\"colorbar\": {\"outlinewidth\": 0, \"ticks\": \"\"}, \"colorscale\": [[0.0, \"#0d0887\"], [0.1111111111111111, \"#46039f\"], [0.2222222222222222, \"#7201a8\"], [0.3333333333333333, \"#9c179e\"], [0.4444444444444444, \"#bd3786\"], [0.5555555555555556, \"#d8576b\"], [0.6666666666666666, \"#ed7953\"], [0.7777777777777778, \"#fb9f3a\"], [0.8888888888888888, \"#fdca26\"], [1.0, \"#f0f921\"]], \"type\": \"histogram2dcontour\"}], \"mesh3d\": [{\"colorbar\": {\"outlinewidth\": 0, \"ticks\": \"\"}, \"type\": \"mesh3d\"}], \"parcoords\": [{\"line\": {\"colorbar\": {\"outlinewidth\": 0, \"ticks\": \"\"}}, \"type\": \"parcoords\"}], \"pie\": [{\"automargin\": true, \"type\": \"pie\"}], \"scatter\": [{\"marker\": {\"colorbar\": {\"outlinewidth\": 0, \"ticks\": \"\"}}, \"type\": \"scatter\"}], \"scatter3d\": [{\"line\": {\"colorbar\": {\"outlinewidth\": 0, \"ticks\": \"\"}}, \"marker\": {\"colorbar\": {\"outlinewidth\": 0, \"ticks\": \"\"}}, \"type\": \"scatter3d\"}], \"scattercarpet\": [{\"marker\": {\"colorbar\": {\"outlinewidth\": 0, \"ticks\": \"\"}}, \"type\": \"scattercarpet\"}], \"scattergeo\": [{\"marker\": {\"colorbar\": {\"outlinewidth\": 0, \"ticks\": \"\"}}, \"type\": \"scattergeo\"}], \"scattergl\": [{\"marker\": {\"colorbar\": {\"outlinewidth\": 0, \"ticks\": \"\"}}, \"type\": \"scattergl\"}], \"scattermapbox\": [{\"marker\": {\"colorbar\": {\"outlinewidth\": 0, \"ticks\": \"\"}}, \"type\": \"scattermapbox\"}], \"scatterpolar\": [{\"marker\": {\"colorbar\": {\"outlinewidth\": 0, \"ticks\": \"\"}}, \"type\": \"scatterpolar\"}], \"scatterpolargl\": [{\"marker\": {\"colorbar\": {\"outlinewidth\": 0, \"ticks\": \"\"}}, \"type\": \"scatterpolargl\"}], \"scatterternary\": [{\"marker\": {\"colorbar\": {\"outlinewidth\": 0, \"ticks\": \"\"}}, \"type\": \"scatterternary\"}], \"surface\": [{\"colorbar\": {\"outlinewidth\": 0, \"ticks\": \"\"}, \"colorscale\": [[0.0, \"#0d0887\"], [0.1111111111111111, \"#46039f\"], [0.2222222222222222, \"#7201a8\"], [0.3333333333333333, \"#9c179e\"], [0.4444444444444444, \"#bd3786\"], [0.5555555555555556, \"#d8576b\"], [0.6666666666666666, \"#ed7953\"], [0.7777777777777778, \"#fb9f3a\"], [0.8888888888888888, \"#fdca26\"], [1.0, \"#f0f921\"]], \"type\": \"surface\"}], \"table\": [{\"cells\": {\"fill\": {\"color\": \"#EBF0F8\"}, \"line\": {\"color\": \"white\"}}, \"header\": {\"fill\": {\"color\": \"#C8D4E3\"}, \"line\": {\"color\": \"white\"}}, \"type\": \"table\"}]}, \"layout\": {\"annotationdefaults\": {\"arrowcolor\": \"#2a3f5f\", \"arrowhead\": 0, \"arrowwidth\": 1}, \"coloraxis\": {\"colorbar\": {\"outlinewidth\": 0, \"ticks\": \"\"}}, \"colorscale\": {\"diverging\": [[0, \"#8e0152\"], [0.1, \"#c51b7d\"], [0.2, \"#de77ae\"], [0.3, \"#f1b6da\"], [0.4, \"#fde0ef\"], [0.5, \"#f7f7f7\"], [0.6, \"#e6f5d0\"], [0.7, \"#b8e186\"], [0.8, \"#7fbc41\"], [0.9, \"#4d9221\"], [1, \"#276419\"]], \"sequential\": [[0.0, \"#0d0887\"], [0.1111111111111111, \"#46039f\"], [0.2222222222222222, \"#7201a8\"], [0.3333333333333333, \"#9c179e\"], [0.4444444444444444, \"#bd3786\"], [0.5555555555555556, \"#d8576b\"], [0.6666666666666666, \"#ed7953\"], [0.7777777777777778, \"#fb9f3a\"], [0.8888888888888888, \"#fdca26\"], [1.0, \"#f0f921\"]], \"sequentialminus\": [[0.0, \"#0d0887\"], [0.1111111111111111, \"#46039f\"], [0.2222222222222222, \"#7201a8\"], [0.3333333333333333, \"#9c179e\"], [0.4444444444444444, \"#bd3786\"], [0.5555555555555556, \"#d8576b\"], [0.6666666666666666, \"#ed7953\"], [0.7777777777777778, \"#fb9f3a\"], [0.8888888888888888, \"#fdca26\"], [1.0, \"#f0f921\"]]}, \"colorway\": [\"#636efa\", \"#EF553B\", \"#00cc96\", \"#ab63fa\", \"#FFA15A\", \"#19d3f3\", \"#FF6692\", \"#B6E880\", \"#FF97FF\", \"#FECB52\"], \"font\": {\"color\": \"#2a3f5f\"}, \"geo\": {\"bgcolor\": \"white\", \"lakecolor\": \"white\", \"landcolor\": \"#E5ECF6\", \"showlakes\": true, \"showland\": true, \"subunitcolor\": \"white\"}, \"hoverlabel\": {\"align\": \"left\"}, \"hovermode\": \"closest\", \"mapbox\": {\"style\": \"light\"}, \"paper_bgcolor\": \"white\", \"plot_bgcolor\": \"#E5ECF6\", \"polar\": {\"angularaxis\": {\"gridcolor\": \"white\", \"linecolor\": \"white\", \"ticks\": \"\"}, \"bgcolor\": \"#E5ECF6\", \"radialaxis\": {\"gridcolor\": \"white\", \"linecolor\": \"white\", \"ticks\": \"\"}}, \"scene\": {\"xaxis\": {\"backgroundcolor\": \"#E5ECF6\", \"gridcolor\": \"white\", \"gridwidth\": 2, \"linecolor\": \"white\", \"showbackground\": true, \"ticks\": \"\", \"zerolinecolor\": \"white\"}, \"yaxis\": {\"backgroundcolor\": \"#E5ECF6\", \"gridcolor\": \"white\", \"gridwidth\": 2, \"linecolor\": \"white\", \"showbackground\": true, \"ticks\": \"\", \"zerolinecolor\": \"white\"}, \"zaxis\": {\"backgroundcolor\": \"#E5ECF6\", \"gridcolor\": \"white\", \"gridwidth\": 2, \"linecolor\": \"white\", \"showbackground\": true, \"ticks\": \"\", \"zerolinecolor\": \"white\"}}, \"shapedefaults\": {\"line\": {\"color\": \"#2a3f5f\"}}, \"ternary\": {\"aaxis\": {\"gridcolor\": \"white\", \"linecolor\": \"white\", \"ticks\": \"\"}, \"baxis\": {\"gridcolor\": \"white\", \"linecolor\": \"white\", \"ticks\": \"\"}, \"bgcolor\": \"#E5ECF6\", \"caxis\": {\"gridcolor\": \"white\", \"linecolor\": \"white\", \"ticks\": \"\"}}, \"title\": {\"x\": 0.05}, \"xaxis\": {\"automargin\": true, \"gridcolor\": \"white\", \"linecolor\": \"white\", \"ticks\": \"\", \"title\": {\"standoff\": 15}, \"zerolinecolor\": \"white\", \"zerolinewidth\": 2}, \"yaxis\": {\"automargin\": true, \"gridcolor\": \"white\", \"linecolor\": \"white\", \"ticks\": \"\", \"title\": {\"standoff\": 15}, \"zerolinecolor\": \"white\", \"zerolinewidth\": 2}}}, \"title\": {\"text\": \"Parameter Tunings Mean Absolute Percentage Error: Multivariate Confirmed Cases\", \"x\": 0.5}, \"width\": 1200},\n",
              "                        {\"responsive\": true}\n",
              "                    ).then(function(){\n",
              "                            \n",
              "var gd = document.getElementById('85737e97-2422-4287-8b7e-48afa7f0a025');\n",
              "var x = new MutationObserver(function (mutations, observer) {{\n",
              "        var display = window.getComputedStyle(gd).display;\n",
              "        if (!display || display === 'none') {{\n",
              "            console.log([gd, 'removed!']);\n",
              "            Plotly.purge(gd);\n",
              "            observer.disconnect();\n",
              "        }}\n",
              "}});\n",
              "\n",
              "// Listen for the removal of the full notebook cells\n",
              "var notebookContainer = gd.closest('#notebook-container');\n",
              "if (notebookContainer) {{\n",
              "    x.observe(notebookContainer, {childList: true});\n",
              "}}\n",
              "\n",
              "// Listen for the clearing of the current output cell\n",
              "var outputEl = gd.closest('.output');\n",
              "if (outputEl) {{\n",
              "    x.observe(outputEl, {childList: true});\n",
              "}}\n",
              "\n",
              "                        })\n",
              "                };\n",
              "                \n",
              "            </script>\n",
              "        </div>\n",
              "</body>\n",
              "</html>"
            ]
          },
          "metadata": {}
        }
      ]
    },
    {
      "cell_type": "markdown",
      "metadata": {
        "id": "qaqZeqLfDbeh"
      },
      "source": [
        "#### Multivariate Confirmed Deaths"
      ]
    },
    {
      "cell_type": "code",
      "metadata": {
        "colab": {
          "base_uri": "https://localhost:8080/",
          "height": 737
        },
        "id": "jWSgQLnFDbeh",
        "outputId": "afc54f9e-c935-4a32-92e4-a032e2d79466"
      },
      "source": [
        "fig = go.Figure(data=[go.Table(header=dict(values=['Model', 'Kernel size', 'Pool', '2 Nodes','4 Nodes', '8 Nodes', '16 Nodes', '32 Nodes',\n",
        "                                                   \"64 Nodes\", '128 Nodes', '256 Nodes', '512 Nodes' , '1024 Nodes'],\n",
        "                                           line_color = 'gray'),\n",
        "                               cells=dict(values=[['LSTM', 'GRU', 'RNNs', 'CNN',\n",
        "                                                   'CNN', 'CNN', 'CNN', 'CNN', 'CNN'],\n",
        "                                                  ['-', '-', '-', '3', '5', '7', '3', '5', '7'],\n",
        "                                                  ['-', '-', '-', '2', '2', '2', '3', '3', '3'],\n",
        "                                    [round(lstm_d_multi_grocery[0],3), \n",
        "                                     round(gru_d_multi_grocery[0],3),\n",
        "                                     round(rnn_d_multi_grocery[0],3), \n",
        "                                     round(cnn_d_multi_grocery.iloc[0,0],3),\n",
        "                                     round(cnn_d_multi_grocery.iloc[0,1],3),\n",
        "                                     round(cnn_d_multi_grocery.iloc[0,2],3),\n",
        "                                     round(cnn_d_multi_grocery.iloc[0,3],3),\n",
        "                                     round(cnn_d_multi_grocery.iloc[0,4],3),\n",
        "                                     round(cnn_d_multi_grocery.iloc[0,5],3)],\n",
        "                                     [round(lstm_d_multi_grocery[1],3), \n",
        "                                     round(gru_d_multi_grocery[1],3),\n",
        "                                     round(rnn_d_multi_grocery[1],3), \n",
        "                                     round(cnn_d_multi_grocery.iloc[1,0],3),\n",
        "                                     round(cnn_d_multi_grocery.iloc[1,1],3),\n",
        "                                     round(cnn_d_multi_grocery.iloc[1,2],3),\n",
        "                                     round(cnn_d_multi_grocery.iloc[1,3],3),\n",
        "                                     round(cnn_d_multi_grocery.iloc[1,4],3),\n",
        "                                     round(cnn_d_multi_grocery.iloc[1,5],3)],\n",
        "                                     [round(lstm_d_multi_grocery[2],3), \n",
        "                                     round(gru_d_multi_grocery[2],3),\n",
        "                                     round(rnn_d_multi_grocery[2],3), \n",
        "                                     round(cnn_d_multi_grocery.iloc[2,0],3),\n",
        "                                     round(cnn_d_multi_grocery.iloc[2,1],3),\n",
        "                                     round(cnn_d_multi_grocery.iloc[2,2],3),\n",
        "                                     round(cnn_d_multi_grocery.iloc[2,3],3),\n",
        "                                     round(cnn_d_multi_grocery.iloc[2,4],3),\n",
        "                                     round(cnn_d_multi_grocery.iloc[2,5],3)],\n",
        "                                     [round(lstm_d_multi_grocery[3],3), \n",
        "                                     round(gru_d_multi_grocery[3],3),\n",
        "                                     round(rnn_d_multi_grocery[3],3), \n",
        "                                     round(cnn_d_multi_grocery.iloc[3,0],3),\n",
        "                                     round(cnn_d_multi_grocery.iloc[3,1],3),\n",
        "                                     round(cnn_d_multi_grocery.iloc[3,2],3),\n",
        "                                     round(cnn_d_multi_grocery.iloc[3,3],3),\n",
        "                                     round(cnn_d_multi_grocery.iloc[3,4],3),\n",
        "                                     round(cnn_d_multi_grocery.iloc[3,5],3)],\n",
        "                                     [round(lstm_d_multi_grocery[4],3), \n",
        "                                     round(gru_d_multi_grocery[4],3),\n",
        "                                     round(rnn_d_multi_grocery[4],3), \n",
        "                                     round(cnn_d_multi_grocery.iloc[4,0],3),\n",
        "                                     round(cnn_d_multi_grocery.iloc[4,1],3),\n",
        "                                     round(cnn_d_multi_grocery.iloc[4,2],3),\n",
        "                                     round(cnn_d_multi_grocery.iloc[4,3],3),\n",
        "                                     round(cnn_d_multi_grocery.iloc[4,4],3),\n",
        "                                     round(cnn_d_multi_grocery.iloc[4,5],3)],\n",
        "                                     [round(lstm_d_multi_grocery[5],3), \n",
        "                                     round(gru_d_multi_grocery[5],3),\n",
        "                                     round(rnn_d_multi_grocery[5],3), \n",
        "                                     round(cnn_d_multi_grocery.iloc[5,0],3),\n",
        "                                     round(cnn_d_multi_grocery.iloc[5,1],3),\n",
        "                                     round(cnn_d_multi_grocery.iloc[5,2],3),\n",
        "                                     round(cnn_d_multi_grocery.iloc[5,3],3),\n",
        "                                     round(cnn_d_multi_grocery.iloc[5,4],3),\n",
        "                                     round(cnn_d_multi_grocery.iloc[5,5],3)],\n",
        "                                     [round(lstm_d_multi_grocery[6],3), \n",
        "                                     round(gru_d_multi_grocery[6],3),\n",
        "                                     round(rnn_d_multi_grocery[6],3), \n",
        "                                     round(cnn_d_multi_grocery.iloc[6,0],3),\n",
        "                                     round(cnn_d_multi_grocery.iloc[6,1],3),\n",
        "                                     round(cnn_d_multi_grocery.iloc[6,2],3),\n",
        "                                     round(cnn_d_multi_grocery.iloc[6,3],3),\n",
        "                                     round(cnn_d_multi_grocery.iloc[6,4],3),\n",
        "                                     round(cnn_d_multi_grocery.iloc[6,5],3)],\n",
        "                                     [round(lstm_d_multi_grocery[7],3), \n",
        "                                     round(gru_d_multi_grocery[7],3),\n",
        "                                     round(rnn_d_multi_grocery[7],3), \n",
        "                                     round(cnn_d_multi_grocery.iloc[7,0],3),\n",
        "                                     round(cnn_d_multi_grocery.iloc[7,1],3),\n",
        "                                     round(cnn_d_multi_grocery.iloc[7,2],3),\n",
        "                                     round(cnn_d_multi_grocery.iloc[7,3],3),\n",
        "                                     round(cnn_d_multi_grocery.iloc[7,4],3),\n",
        "                                     round(cnn_d_multi_grocery.iloc[7,5],3)],\n",
        "                                     [round(lstm_d_multi_grocery[8],3), \n",
        "                                     round(gru_d_multi_grocery[8],3),\n",
        "                                     round(rnn_d_multi_grocery[8],3), \n",
        "                                     round(cnn_d_multi_grocery.iloc[8,0],3),\n",
        "                                     round(cnn_d_multi_grocery.iloc[8,1],3),\n",
        "                                     round(cnn_d_multi_grocery.iloc[8,2],3),\n",
        "                                     round(cnn_d_multi_grocery.iloc[8,3],3),\n",
        "                                     round(cnn_d_multi_grocery.iloc[8,4],3),\n",
        "                                     round(cnn_d_multi_grocery.iloc[8,5],3)],\n",
        "                                     [round(lstm_d_multi_grocery[9],3), \n",
        "                                     round(gru_d_multi_grocery[9],3),\n",
        "                                     round(rnn_d_multi_grocery[9],3), \n",
        "                                     round(cnn_d_multi_grocery.iloc[9,0],3),\n",
        "                                     round(cnn_d_multi_grocery.iloc[9,1],3),\n",
        "                                     round(cnn_d_multi_grocery.iloc[9,2],3),\n",
        "                                     round(cnn_d_multi_grocery.iloc[9,3],3),\n",
        "                                     round(cnn_d_multi_grocery.iloc[9,4],3),\n",
        "                                     round(cnn_d_multi_grocery.iloc[9,5],3)]],\n",
        "                            align=['left','center', 'center', \n",
        "                                   'right','right','right',\n",
        "                                   'right','right','right',\n",
        "                                   'right','right','right','right'],\n",
        "                            fill_color = 'white',\n",
        "                            line_color = 'gray'))\n",
        "                     ])\n",
        "fig.update_layout(title = \"Parameter Tunings Mean Absolute Percentage Error: Multivariate Confirmed Deaths\",\n",
        "                  title_x=0.5, height = 700, width = 1200)\n",
        "fig.show()"
      ],
      "execution_count": null,
      "outputs": [
        {
          "output_type": "display_data",
          "data": {
            "text/html": [
              "<html>\n",
              "<head><meta charset=\"utf-8\" /></head>\n",
              "<body>\n",
              "    <div>\n",
              "            <script src=\"https://cdnjs.cloudflare.com/ajax/libs/mathjax/2.7.5/MathJax.js?config=TeX-AMS-MML_SVG\"></script><script type=\"text/javascript\">if (window.MathJax) {MathJax.Hub.Config({SVG: {font: \"STIX-Web\"}});}</script>\n",
              "                <script type=\"text/javascript\">window.PlotlyConfig = {MathJaxConfig: 'local'};</script>\n",
              "        <script src=\"https://cdn.plot.ly/plotly-latest.min.js\"></script>    \n",
              "            <div id=\"c5ffc17f-ab56-406e-b773-4b1bd82008c0\" class=\"plotly-graph-div\" style=\"height:700px; width:1200px;\"></div>\n",
              "            <script type=\"text/javascript\">\n",
              "                \n",
              "                    window.PLOTLYENV=window.PLOTLYENV || {};\n",
              "                    \n",
              "                if (document.getElementById(\"c5ffc17f-ab56-406e-b773-4b1bd82008c0\")) {\n",
              "                    Plotly.newPlot(\n",
              "                        'c5ffc17f-ab56-406e-b773-4b1bd82008c0',\n",
              "                        [{\"cells\": {\"align\": [\"left\", \"center\", \"center\", \"right\", \"right\", \"right\", \"right\", \"right\", \"right\", \"right\", \"right\", \"right\", \"right\"], \"fill\": {\"color\": \"white\"}, \"line\": {\"color\": \"gray\"}, \"values\": [[\"LSTM\", \"GRU\", \"RNNs\", \"CNN\", \"CNN\", \"CNN\", \"CNN\", \"CNN\", \"CNN\"], [\"-\", \"-\", \"-\", \"3\", \"5\", \"7\", \"3\", \"5\", \"7\"], [\"-\", \"-\", \"-\", \"2\", \"2\", \"2\", \"3\", \"3\", \"3\"], [11.051, 7.868, 15.153, 11.403, 8.683, 8.846, 9.443, 9.599, 98.124], [20.885, 8.568, 10.201, 8.269, 9.538, 8.361, 9.484, 9.035, 8.862], [5.462, 8.435, 7.753, 8.403, 7.138, 7.904, 9.706, 9.562, 8.964], [9.86, 8.933, 7.743, 7.574, 6.752, 7.594, 8.457, 7.72, 7.225], [5.187, 5.995, 5.55, 7.787, 6.552, 5.546, 8.962, 8.013, 7.967], [8.839, 5.238, 5.489, 6.695, 7.249, 6.116, 7.638, 8.351, 7.49], [9.329, 6.383, 13.412, 4.365, 5.834, 4.672, 6.576, 8.073, 7.68], [8.23, 6.229, 13.324, 3.889, 4.866, 5.64, 5.043, 6.835, 8.125], [7.153, 7.751, 8.642, 4.57, 4.416, 4.581, 5.178, 4.017, 8.834], [7.683, 7.574, 8.013, 4.266, 4.548, 4.68, 5.083, 4.225, 6.376]]}, \"header\": {\"line\": {\"color\": \"gray\"}, \"values\": [\"Model\", \"Kernel size\", \"Pool\", \"2 Nodes\", \"4 Nodes\", \"8 Nodes\", \"16 Nodes\", \"32 Nodes\", \"64 Nodes\", \"128 Nodes\", \"256 Nodes\", \"512 Nodes\", \"1024 Nodes\"]}, \"type\": \"table\"}],\n",
              "                        {\"height\": 700, \"template\": {\"data\": {\"bar\": [{\"error_x\": {\"color\": \"#2a3f5f\"}, \"error_y\": {\"color\": \"#2a3f5f\"}, \"marker\": {\"line\": {\"color\": \"#E5ECF6\", \"width\": 0.5}}, \"type\": \"bar\"}], \"barpolar\": [{\"marker\": {\"line\": {\"color\": \"#E5ECF6\", \"width\": 0.5}}, \"type\": \"barpolar\"}], \"carpet\": [{\"aaxis\": {\"endlinecolor\": \"#2a3f5f\", \"gridcolor\": \"white\", \"linecolor\": \"white\", \"minorgridcolor\": \"white\", \"startlinecolor\": \"#2a3f5f\"}, \"baxis\": {\"endlinecolor\": \"#2a3f5f\", \"gridcolor\": \"white\", \"linecolor\": \"white\", \"minorgridcolor\": \"white\", \"startlinecolor\": \"#2a3f5f\"}, \"type\": \"carpet\"}], \"choropleth\": [{\"colorbar\": {\"outlinewidth\": 0, \"ticks\": \"\"}, \"type\": \"choropleth\"}], \"contour\": [{\"colorbar\": {\"outlinewidth\": 0, \"ticks\": \"\"}, \"colorscale\": [[0.0, \"#0d0887\"], [0.1111111111111111, \"#46039f\"], [0.2222222222222222, \"#7201a8\"], [0.3333333333333333, \"#9c179e\"], [0.4444444444444444, \"#bd3786\"], [0.5555555555555556, \"#d8576b\"], [0.6666666666666666, \"#ed7953\"], [0.7777777777777778, \"#fb9f3a\"], [0.8888888888888888, \"#fdca26\"], [1.0, \"#f0f921\"]], \"type\": \"contour\"}], \"contourcarpet\": [{\"colorbar\": {\"outlinewidth\": 0, \"ticks\": \"\"}, \"type\": \"contourcarpet\"}], \"heatmap\": [{\"colorbar\": {\"outlinewidth\": 0, \"ticks\": \"\"}, \"colorscale\": [[0.0, \"#0d0887\"], [0.1111111111111111, \"#46039f\"], [0.2222222222222222, \"#7201a8\"], [0.3333333333333333, \"#9c179e\"], [0.4444444444444444, \"#bd3786\"], [0.5555555555555556, \"#d8576b\"], [0.6666666666666666, \"#ed7953\"], [0.7777777777777778, \"#fb9f3a\"], [0.8888888888888888, \"#fdca26\"], [1.0, \"#f0f921\"]], \"type\": \"heatmap\"}], \"heatmapgl\": [{\"colorbar\": {\"outlinewidth\": 0, \"ticks\": \"\"}, \"colorscale\": [[0.0, \"#0d0887\"], [0.1111111111111111, \"#46039f\"], [0.2222222222222222, \"#7201a8\"], [0.3333333333333333, \"#9c179e\"], [0.4444444444444444, \"#bd3786\"], [0.5555555555555556, \"#d8576b\"], [0.6666666666666666, \"#ed7953\"], [0.7777777777777778, \"#fb9f3a\"], [0.8888888888888888, \"#fdca26\"], [1.0, \"#f0f921\"]], \"type\": \"heatmapgl\"}], \"histogram\": [{\"marker\": {\"colorbar\": {\"outlinewidth\": 0, \"ticks\": \"\"}}, \"type\": \"histogram\"}], \"histogram2d\": [{\"colorbar\": {\"outlinewidth\": 0, \"ticks\": \"\"}, \"colorscale\": [[0.0, \"#0d0887\"], [0.1111111111111111, \"#46039f\"], [0.2222222222222222, \"#7201a8\"], [0.3333333333333333, \"#9c179e\"], [0.4444444444444444, \"#bd3786\"], [0.5555555555555556, \"#d8576b\"], [0.6666666666666666, \"#ed7953\"], [0.7777777777777778, \"#fb9f3a\"], [0.8888888888888888, \"#fdca26\"], [1.0, \"#f0f921\"]], \"type\": \"histogram2d\"}], \"histogram2dcontour\": [{\"colorbar\": {\"outlinewidth\": 0, \"ticks\": \"\"}, \"colorscale\": [[0.0, \"#0d0887\"], [0.1111111111111111, \"#46039f\"], [0.2222222222222222, \"#7201a8\"], [0.3333333333333333, \"#9c179e\"], [0.4444444444444444, \"#bd3786\"], [0.5555555555555556, \"#d8576b\"], [0.6666666666666666, \"#ed7953\"], [0.7777777777777778, \"#fb9f3a\"], [0.8888888888888888, \"#fdca26\"], [1.0, \"#f0f921\"]], \"type\": \"histogram2dcontour\"}], \"mesh3d\": [{\"colorbar\": {\"outlinewidth\": 0, \"ticks\": \"\"}, \"type\": \"mesh3d\"}], \"parcoords\": [{\"line\": {\"colorbar\": {\"outlinewidth\": 0, \"ticks\": \"\"}}, \"type\": \"parcoords\"}], \"pie\": [{\"automargin\": true, \"type\": \"pie\"}], \"scatter\": [{\"marker\": {\"colorbar\": {\"outlinewidth\": 0, \"ticks\": \"\"}}, \"type\": \"scatter\"}], \"scatter3d\": [{\"line\": {\"colorbar\": {\"outlinewidth\": 0, \"ticks\": \"\"}}, \"marker\": {\"colorbar\": {\"outlinewidth\": 0, \"ticks\": \"\"}}, \"type\": \"scatter3d\"}], \"scattercarpet\": [{\"marker\": {\"colorbar\": {\"outlinewidth\": 0, \"ticks\": \"\"}}, \"type\": \"scattercarpet\"}], \"scattergeo\": [{\"marker\": {\"colorbar\": {\"outlinewidth\": 0, \"ticks\": \"\"}}, \"type\": \"scattergeo\"}], \"scattergl\": [{\"marker\": {\"colorbar\": {\"outlinewidth\": 0, \"ticks\": \"\"}}, \"type\": \"scattergl\"}], \"scattermapbox\": [{\"marker\": {\"colorbar\": {\"outlinewidth\": 0, \"ticks\": \"\"}}, \"type\": \"scattermapbox\"}], \"scatterpolar\": [{\"marker\": {\"colorbar\": {\"outlinewidth\": 0, \"ticks\": \"\"}}, \"type\": \"scatterpolar\"}], \"scatterpolargl\": [{\"marker\": {\"colorbar\": {\"outlinewidth\": 0, \"ticks\": \"\"}}, \"type\": \"scatterpolargl\"}], \"scatterternary\": [{\"marker\": {\"colorbar\": {\"outlinewidth\": 0, \"ticks\": \"\"}}, \"type\": \"scatterternary\"}], \"surface\": [{\"colorbar\": {\"outlinewidth\": 0, \"ticks\": \"\"}, \"colorscale\": [[0.0, \"#0d0887\"], [0.1111111111111111, \"#46039f\"], [0.2222222222222222, \"#7201a8\"], [0.3333333333333333, \"#9c179e\"], [0.4444444444444444, \"#bd3786\"], [0.5555555555555556, \"#d8576b\"], [0.6666666666666666, \"#ed7953\"], [0.7777777777777778, \"#fb9f3a\"], [0.8888888888888888, \"#fdca26\"], [1.0, \"#f0f921\"]], \"type\": \"surface\"}], \"table\": [{\"cells\": {\"fill\": {\"color\": \"#EBF0F8\"}, \"line\": {\"color\": \"white\"}}, \"header\": {\"fill\": {\"color\": \"#C8D4E3\"}, \"line\": {\"color\": \"white\"}}, \"type\": \"table\"}]}, \"layout\": {\"annotationdefaults\": {\"arrowcolor\": \"#2a3f5f\", \"arrowhead\": 0, \"arrowwidth\": 1}, \"coloraxis\": {\"colorbar\": {\"outlinewidth\": 0, \"ticks\": \"\"}}, \"colorscale\": {\"diverging\": [[0, \"#8e0152\"], [0.1, \"#c51b7d\"], [0.2, \"#de77ae\"], [0.3, \"#f1b6da\"], [0.4, \"#fde0ef\"], [0.5, \"#f7f7f7\"], [0.6, \"#e6f5d0\"], [0.7, \"#b8e186\"], [0.8, \"#7fbc41\"], [0.9, \"#4d9221\"], [1, \"#276419\"]], \"sequential\": [[0.0, \"#0d0887\"], [0.1111111111111111, \"#46039f\"], [0.2222222222222222, \"#7201a8\"], [0.3333333333333333, \"#9c179e\"], [0.4444444444444444, \"#bd3786\"], [0.5555555555555556, \"#d8576b\"], [0.6666666666666666, \"#ed7953\"], [0.7777777777777778, \"#fb9f3a\"], [0.8888888888888888, \"#fdca26\"], [1.0, \"#f0f921\"]], \"sequentialminus\": [[0.0, \"#0d0887\"], [0.1111111111111111, \"#46039f\"], [0.2222222222222222, \"#7201a8\"], [0.3333333333333333, \"#9c179e\"], [0.4444444444444444, \"#bd3786\"], [0.5555555555555556, \"#d8576b\"], [0.6666666666666666, \"#ed7953\"], [0.7777777777777778, \"#fb9f3a\"], [0.8888888888888888, \"#fdca26\"], [1.0, \"#f0f921\"]]}, \"colorway\": [\"#636efa\", \"#EF553B\", \"#00cc96\", \"#ab63fa\", \"#FFA15A\", \"#19d3f3\", \"#FF6692\", \"#B6E880\", \"#FF97FF\", \"#FECB52\"], \"font\": {\"color\": \"#2a3f5f\"}, \"geo\": {\"bgcolor\": \"white\", \"lakecolor\": \"white\", \"landcolor\": \"#E5ECF6\", \"showlakes\": true, \"showland\": true, \"subunitcolor\": \"white\"}, \"hoverlabel\": {\"align\": \"left\"}, \"hovermode\": \"closest\", \"mapbox\": {\"style\": \"light\"}, \"paper_bgcolor\": \"white\", \"plot_bgcolor\": \"#E5ECF6\", \"polar\": {\"angularaxis\": {\"gridcolor\": \"white\", \"linecolor\": \"white\", \"ticks\": \"\"}, \"bgcolor\": \"#E5ECF6\", \"radialaxis\": {\"gridcolor\": \"white\", \"linecolor\": \"white\", \"ticks\": \"\"}}, \"scene\": {\"xaxis\": {\"backgroundcolor\": \"#E5ECF6\", \"gridcolor\": \"white\", \"gridwidth\": 2, \"linecolor\": \"white\", \"showbackground\": true, \"ticks\": \"\", \"zerolinecolor\": \"white\"}, \"yaxis\": {\"backgroundcolor\": \"#E5ECF6\", \"gridcolor\": \"white\", \"gridwidth\": 2, \"linecolor\": \"white\", \"showbackground\": true, \"ticks\": \"\", \"zerolinecolor\": \"white\"}, \"zaxis\": {\"backgroundcolor\": \"#E5ECF6\", \"gridcolor\": \"white\", \"gridwidth\": 2, \"linecolor\": \"white\", \"showbackground\": true, \"ticks\": \"\", \"zerolinecolor\": \"white\"}}, \"shapedefaults\": {\"line\": {\"color\": \"#2a3f5f\"}}, \"ternary\": {\"aaxis\": {\"gridcolor\": \"white\", \"linecolor\": \"white\", \"ticks\": \"\"}, \"baxis\": {\"gridcolor\": \"white\", \"linecolor\": \"white\", \"ticks\": \"\"}, \"bgcolor\": \"#E5ECF6\", \"caxis\": {\"gridcolor\": \"white\", \"linecolor\": \"white\", \"ticks\": \"\"}}, \"title\": {\"x\": 0.05}, \"xaxis\": {\"automargin\": true, \"gridcolor\": \"white\", \"linecolor\": \"white\", \"ticks\": \"\", \"title\": {\"standoff\": 15}, \"zerolinecolor\": \"white\", \"zerolinewidth\": 2}, \"yaxis\": {\"automargin\": true, \"gridcolor\": \"white\", \"linecolor\": \"white\", \"ticks\": \"\", \"title\": {\"standoff\": 15}, \"zerolinecolor\": \"white\", \"zerolinewidth\": 2}}}, \"title\": {\"text\": \"Parameter Tunings Mean Absolute Percentage Error: Multivariate Confirmed Deaths\", \"x\": 0.5}, \"width\": 1200},\n",
              "                        {\"responsive\": true}\n",
              "                    ).then(function(){\n",
              "                            \n",
              "var gd = document.getElementById('c5ffc17f-ab56-406e-b773-4b1bd82008c0');\n",
              "var x = new MutationObserver(function (mutations, observer) {{\n",
              "        var display = window.getComputedStyle(gd).display;\n",
              "        if (!display || display === 'none') {{\n",
              "            console.log([gd, 'removed!']);\n",
              "            Plotly.purge(gd);\n",
              "            observer.disconnect();\n",
              "        }}\n",
              "}});\n",
              "\n",
              "// Listen for the removal of the full notebook cells\n",
              "var notebookContainer = gd.closest('#notebook-container');\n",
              "if (notebookContainer) {{\n",
              "    x.observe(notebookContainer, {childList: true});\n",
              "}}\n",
              "\n",
              "// Listen for the clearing of the current output cell\n",
              "var outputEl = gd.closest('.output');\n",
              "if (outputEl) {{\n",
              "    x.observe(outputEl, {childList: true});\n",
              "}}\n",
              "\n",
              "                        })\n",
              "                };\n",
              "                \n",
              "            </script>\n",
              "        </div>\n",
              "</body>\n",
              "</html>"
            ]
          },
          "metadata": {}
        }
      ]
    },
    {
      "cell_type": "markdown",
      "metadata": {
        "id": "iNDsXJvwDbeh"
      },
      "source": [
        "## Training and Validation\n",
        "\n",
        "---\n",
        "\n",
        "After models were selected, using the training data set, we adjusted and trained the models to get the prediction with the lowest MAPE. We, then, used test samples for model validations and combined predicted values from both training and test sets together. This was only for illustration purpose.\n"
      ]
    },
    {
      "cell_type": "markdown",
      "metadata": {
        "id": "IJ767vrvDbeh"
      },
      "source": [
        "### Multivariate Confirmed Cases"
      ]
    },
    {
      "cell_type": "code",
      "metadata": {
        "colab": {
          "base_uri": "https://localhost:8080/"
        },
        "id": "cJjePIwdDbei",
        "outputId": "9a1008f6-1e21-4d67-d58a-10bd20cd0592"
      },
      "source": [
        "seed(1)\n",
        "tensorflow.random.set_seed(1)\n",
        "\n",
        "# model_multi_grocery_i = Sequential()\n",
        "# model_multi_grocery_i.add(Conv1D(filters = 128, kernel_size = 3, activation='relu', input_shape=(X_i_tr_grocery.shape[1], X_i_tr_grocery.shape[2])))\n",
        "# model_multi_grocery_i.add(MaxPooling1D(pool_size = 2))\n",
        "# model_multi_grocery_i.add(Flatten())\n",
        "# # model_multi_grocery_i.add(Dense(4, activation = \"relu\"))\n",
        "# model_multi_grocery_i.add(Dense(1, activation = \"linear\"))\n",
        "# model_multi_grocery_i.compile(loss='mse', optimizer='adam', metrics = \"MAPE\")\n",
        "\n",
        "model_multi_grocery_i = Sequential()\n",
        "model_multi_grocery_i.add(SimpleRNN(128, activation='relu', input_shape=(X_i_tr_grocery.shape[1], X_i_tr_grocery.shape[2])))\n",
        "model_multi_grocery_i.add(Dense(1, activation = \"linear\"))\n",
        "model_multi_grocery_i.compile(loss='mse', optimizer='adam', metrics = \"MAPE\")\n",
        "\n",
        "# fit network\n",
        "model_multi_grocery_i.fit(X_i_tr_grocery, y_i_tr, \n",
        "                           epochs=50, \n",
        "                           batch_size=1, \n",
        "                           verbose=0, \n",
        "                           shuffle=False)\n",
        "\n",
        "\n",
        "scores_multi_grocery_i1 = model_multi_grocery_i.evaluate(X_i_tr_grocery, y_i_tr, verbose=0)\n",
        "\n",
        "# MAPE\n",
        "print(\"MAPE: training = \",scores_multi_grocery_i1[1])\n",
        "\n",
        "scores_multi_grocery_i = model_multi_grocery_i.evaluate(X_i_ts_grocery, y_i_ts, verbose=0)\n",
        "\n",
        "# MAPE\n",
        "print(\"MAPE: test = \",scores_multi_grocery_i[1])"
      ],
      "execution_count": null,
      "outputs": [
        {
          "output_type": "stream",
          "name": "stdout",
          "text": [
            "MAPE: training =  3.0059399604797363\n",
            "MAPE: test =  12.259368896484375\n"
          ]
        }
      ]
    },
    {
      "cell_type": "code",
      "metadata": {
        "id": "Coy1xnFjDbei"
      },
      "source": [
        "# make a prediction\n",
        "# training set\n",
        "y_multi_grocery_i_tr = pd.DataFrame(model_multi_grocery_i.predict(X_i_tr_grocery))\n",
        "\n",
        "# test set\n",
        "y_multi_grocery_i_ts = pd.DataFrame(model_multi_grocery_i.predict(X_i_ts_grocery))\n",
        "\n",
        "# combine training and test predictions\n",
        "y_multi_grocery_i_total = pd.concat([y_multi_grocery_i_tr, y_multi_grocery_i_ts], ignore_index=True)\n"
      ],
      "execution_count": null,
      "outputs": []
    },
    {
      "cell_type": "markdown",
      "metadata": {
        "id": "9-sSaUEKDbei"
      },
      "source": [
        "### Multivariate Confirmed Deaths"
      ]
    },
    {
      "cell_type": "code",
      "metadata": {
        "colab": {
          "base_uri": "https://localhost:8080/"
        },
        "id": "bXiz705-Dbei",
        "outputId": "1e2b8376-45d8-4f02-c0ab-98543a2fd081"
      },
      "source": [
        "seed(1)\n",
        "tensorflow.random.set_seed(1)\n",
        "\n",
        "# model_multi_grocery_d = Sequential()\n",
        "# model_multi_grocery_d.add(LSTM(8, activation = 'relu', input_shape=(X_d_tr_grocery.shape[1], X_d_tr_grocery.shape[2])))\n",
        "# model_multi_grocery_d.add(Dense(4, activation = \"relu\"))\n",
        "# model_multi_grocery_d.add(Dense(1, activation = \"linear\"))\n",
        "# model_multi_grocery_d.compile(loss='mse', optimizer='adam', metrics = \"MAPE\")\n",
        "\n",
        "model_multi_grocery_d = Sequential()\n",
        "model_multi_grocery_d.add(Conv1D(512, kernel_size = 5, activation = 'relu', input_shape=(X_d_tr_grocery.shape[1], X_d_tr_grocery.shape[2])))\n",
        "model_multi_grocery_d.add(MaxPooling1D(3))\n",
        "model_multi_grocery_d.add(Flatten())\n",
        "# model_multi_grocery_d.add(Dense(4, activation = \"relu\"))\n",
        "model_multi_grocery_d.add(Dense(1, activation = \"linear\"))\n",
        "model_multi_grocery_d.compile(loss='mse', optimizer='adam', metrics = \"MAPE\")\n",
        "\n",
        "# fit network\n",
        "model_multi_grocery_d.fit(X_d_tr_grocery, y_d_tr, \n",
        "                           epochs=50, \n",
        "                           batch_size=1, \n",
        "                           verbose=0, \n",
        "                           shuffle=False)\n",
        "\n",
        "scores_multi_grocery_d1 = model_multi_grocery_d.evaluate(X_d_tr_grocery, y_d_tr, verbose=0)\n",
        "\n",
        "# MAPE\n",
        "print(\"MAPE: training = \",scores_multi_grocery_d1[1])\n",
        "\n",
        "scores_multi_grocery_d = model_multi_grocery_d.evaluate(X_d_ts_grocery, y_d_ts, verbose=0)\n",
        "\n",
        "# MAPE\n",
        "print(\"MAPE: test = \",scores_multi_grocery_d[1])"
      ],
      "execution_count": null,
      "outputs": [
        {
          "output_type": "stream",
          "name": "stdout",
          "text": [
            "MAPE: training =  4.0170674324035645\n",
            "MAPE: test =  54.96936798095703\n"
          ]
        }
      ]
    },
    {
      "cell_type": "code",
      "metadata": {
        "id": "itBkRQKFDbei"
      },
      "source": [
        "# make a prediction\n",
        "# training set\n",
        "y_multi_grocery_d_tr = pd.DataFrame(model_multi_grocery_d.predict(X_d_tr_grocery))\n",
        "\n",
        "# test set\n",
        "y_multi_grocery_d_ts = pd.DataFrame(model_multi_grocery_d.predict(X_d_ts_grocery))\n",
        "\n",
        "# combine training and test predictions\n",
        "y_multi_grocery_d_total = pd.concat([y_multi_grocery_d_tr, y_multi_grocery_d_ts], ignore_index=True)\n"
      ],
      "execution_count": null,
      "outputs": []
    },
    {
      "cell_type": "code",
      "metadata": {
        "id": "rBZUDfPeDbej"
      },
      "source": [
        "multi_in = \"RNNs\"\n",
        "multi_de = \"CNN\"\n",
        "tick_spacing = 5\n",
        "date_test = data['Date'][0+index+lag-1]"
      ],
      "execution_count": null,
      "outputs": []
    },
    {
      "cell_type": "markdown",
      "metadata": {
        "id": "GZLycUiVDbej"
      },
      "source": [
        "### Plots"
      ]
    },
    {
      "cell_type": "code",
      "metadata": {
        "colab": {
          "base_uri": "https://localhost:8080/",
          "height": 333
        },
        "id": "VXsGGot_Dbej",
        "outputId": "1b51f836-8389-49a3-d157-16b86a56bb62"
      },
      "source": [
        "infect = pd.concat([y_multi_grocery_i_total,\n",
        "                   data.Cases_daily.iloc[lag:].reset_index(drop = True), \n",
        "                   data.Date.iloc[lag:].reset_index(drop = True)],\n",
        "                   axis=1)\n",
        "infect.columns = ['multi_i', 'actual', 'Date']\n",
        "\n",
        "infect.dropna(subset = ['multi_i', 'actual', 'Date'], inplace=True)\n",
        "\n",
        "plt.plot(infect['Date'],infect['multi_i'], label = \"Predicted\")\n",
        "plt.plot(infect['Date'],infect['actual'], label = \"Actual\")\n",
        "plt.legend(frameon=False, loc='upper center', ncol = 2, fontsize = 'x-large')\n",
        "plt.title(\"Google: Retail Predicts Confirmed Cases\", fontsize = 'xx-large')\n",
        "plt.tick_params('x',labelrotation=90)\n",
        "plt.axvline(date_test, color=\"gray\", linestyle=\"--\")\n",
        "plt.grid(True, which='both', alpha=0.3)"
      ],
      "execution_count": null,
      "outputs": [
        {
          "output_type": "display_data",
          "data": {
            "image/png": "[encoded data removed]",
            "text/plain": [
              "<Figure size 432x288 with 1 Axes>"
            ]
          },
          "metadata": {
            "needs_background": "light"
          }
        }
      ]
    },
    {
      "cell_type": "code",
      "metadata": {
        "colab": {
          "base_uri": "https://localhost:8080/",
          "height": 333
        },
        "id": "6Z5S7WNLDbej",
        "outputId": "044949b5-a433-4f4d-b593-40cf796409a7"
      },
      "source": [
        "death = pd.concat([y_multi_grocery_d_total,\n",
        "                   data.Deaths_daily.iloc[lag:].reset_index(drop = True), \n",
        "                   data.Date.iloc[lag:].reset_index(drop = True)],\n",
        "                  axis=1)\n",
        "death.columns = ['multi_d', 'actual', 'Date']\n",
        "\n",
        "death.dropna(subset = ['multi_d', 'actual', 'Date'], inplace=True)\n",
        "\n",
        "\n",
        "plt.plot(death['Date'],death['multi_d'], label = \"Predicted\")\n",
        "plt.plot(death['Date'],death['actual'], label = \"Actual\")\n",
        "plt.legend(frameon=False, loc='upper center', ncol = 2, fontsize = 'x-large')\n",
        "plt.title(\"Google: Retail Predicts Confirmed Deaths\", fontsize = 'xx-large')\n",
        "plt.tick_params('x',labelrotation=90)\n",
        "plt.axvline(date_test, color=\"gray\", linestyle=\"--\")\n",
        "plt.grid(True, which='both', alpha=0.3)\n"
      ],
      "execution_count": null,
      "outputs": [
        {
          "output_type": "display_data",
          "data": {
            "image/png": "[encoded data removed]",
            "text/plain": [
              "<Figure size 432x288 with 1 Axes>"
            ]
          },
          "metadata": {
            "needs_background": "light"
          }
        }
      ]
    },
    {
      "cell_type": "markdown",
      "metadata": {
        "id": "mjvw8LpdDbej"
      },
      "source": [
        "### Result Table"
      ]
    },
    {
      "cell_type": "code",
      "metadata": {
        "colab": {
          "base_uri": "https://localhost:8080/",
          "height": 542
        },
        "id": "PFktvr8tDbek",
        "outputId": "9f2ed8c7-b665-4b6e-c66f-b03785378171"
      },
      "source": [
        "fig = go.Figure(data=[go.Table(header=dict(values=['Model Type', 'Best Model', 'Training', 'Test'],\n",
        "                                           line_color = 'gray'),\n",
        "                               cells=dict(values=[['Multivariate: Confirmed Cases',\n",
        "                                                   'Multivariate: Confirmed Deaths'],\n",
        "                                                  [multi_in, multi_de],\n",
        "                                    [round(scores_multi_grocery_i1[1],3), round(scores_multi_grocery_d1[1],3)],\n",
        "                                    [round(scores_multi_grocery_i[1],3), round(scores_multi_grocery_d[1],3)]],\n",
        "                            align=['left','center', 'center', 'center'],\n",
        "                            fill_color = 'white',\n",
        "                            line_color = 'gray'))\n",
        "                     ])\n",
        "fig.update_layout(title = \"Mean Absolute Percentage Error\",title_x=0.5)\n",
        "fig.show()"
      ],
      "execution_count": null,
      "outputs": [
        {
          "output_type": "display_data",
          "data": {
            "text/html": [
              "<html>\n",
              "<head><meta charset=\"utf-8\" /></head>\n",
              "<body>\n",
              "    <div>\n",
              "            <script src=\"https://cdnjs.cloudflare.com/ajax/libs/mathjax/2.7.5/MathJax.js?config=TeX-AMS-MML_SVG\"></script><script type=\"text/javascript\">if (window.MathJax) {MathJax.Hub.Config({SVG: {font: \"STIX-Web\"}});}</script>\n",
              "                <script type=\"text/javascript\">window.PlotlyConfig = {MathJaxConfig: 'local'};</script>\n",
              "        <script src=\"https://cdn.plot.ly/plotly-latest.min.js\"></script>    \n",
              "            <div id=\"0a6a3416-5a51-4ef1-ace6-6bb641e3f2df\" class=\"plotly-graph-div\" style=\"height:525px; width:100%;\"></div>\n",
              "            <script type=\"text/javascript\">\n",
              "                \n",
              "                    window.PLOTLYENV=window.PLOTLYENV || {};\n",
              "                    \n",
              "                if (document.getElementById(\"0a6a3416-5a51-4ef1-ace6-6bb641e3f2df\")) {\n",
              "                    Plotly.newPlot(\n",
              "                        '0a6a3416-5a51-4ef1-ace6-6bb641e3f2df',\n",
              "                        [{\"cells\": {\"align\": [\"left\", \"center\", \"center\", \"center\"], \"fill\": {\"color\": \"white\"}, \"line\": {\"color\": \"gray\"}, \"values\": [[\"Multivariate: Confirmed Cases\", \"Multivariate: Confirmed Deaths\"], [\"RNNs\", \"CNN\"], [3.006, 4.017], [12.259, 54.969]]}, \"header\": {\"line\": {\"color\": \"gray\"}, \"values\": [\"Model Type\", \"Best Model\", \"Training\", \"Test\"]}, \"type\": \"table\"}],\n",
              "                        {\"template\": {\"data\": {\"bar\": [{\"error_x\": {\"color\": \"#2a3f5f\"}, \"error_y\": {\"color\": \"#2a3f5f\"}, \"marker\": {\"line\": {\"color\": \"#E5ECF6\", \"width\": 0.5}}, \"type\": \"bar\"}], \"barpolar\": [{\"marker\": {\"line\": {\"color\": \"#E5ECF6\", \"width\": 0.5}}, \"type\": \"barpolar\"}], \"carpet\": [{\"aaxis\": {\"endlinecolor\": \"#2a3f5f\", \"gridcolor\": \"white\", \"linecolor\": \"white\", \"minorgridcolor\": \"white\", \"startlinecolor\": \"#2a3f5f\"}, \"baxis\": {\"endlinecolor\": \"#2a3f5f\", \"gridcolor\": \"white\", \"linecolor\": \"white\", \"minorgridcolor\": \"white\", \"startlinecolor\": \"#2a3f5f\"}, \"type\": \"carpet\"}], \"choropleth\": [{\"colorbar\": {\"outlinewidth\": 0, \"ticks\": \"\"}, \"type\": \"choropleth\"}], \"contour\": [{\"colorbar\": {\"outlinewidth\": 0, \"ticks\": \"\"}, \"colorscale\": [[0.0, \"#0d0887\"], [0.1111111111111111, \"#46039f\"], [0.2222222222222222, \"#7201a8\"], [0.3333333333333333, \"#9c179e\"], [0.4444444444444444, \"#bd3786\"], [0.5555555555555556, \"#d8576b\"], [0.6666666666666666, \"#ed7953\"], [0.7777777777777778, \"#fb9f3a\"], [0.8888888888888888, \"#fdca26\"], [1.0, \"#f0f921\"]], \"type\": \"contour\"}], \"contourcarpet\": [{\"colorbar\": {\"outlinewidth\": 0, \"ticks\": \"\"}, \"type\": \"contourcarpet\"}], \"heatmap\": [{\"colorbar\": {\"outlinewidth\": 0, \"ticks\": \"\"}, \"colorscale\": [[0.0, \"#0d0887\"], [0.1111111111111111, \"#46039f\"], [0.2222222222222222, \"#7201a8\"], [0.3333333333333333, \"#9c179e\"], [0.4444444444444444, \"#bd3786\"], [0.5555555555555556, \"#d8576b\"], [0.6666666666666666, \"#ed7953\"], [0.7777777777777778, \"#fb9f3a\"], [0.8888888888888888, \"#fdca26\"], [1.0, \"#f0f921\"]], \"type\": \"heatmap\"}], \"heatmapgl\": [{\"colorbar\": {\"outlinewidth\": 0, \"ticks\": \"\"}, \"colorscale\": [[0.0, \"#0d0887\"], [0.1111111111111111, \"#46039f\"], [0.2222222222222222, \"#7201a8\"], [0.3333333333333333, \"#9c179e\"], [0.4444444444444444, \"#bd3786\"], [0.5555555555555556, \"#d8576b\"], [0.6666666666666666, \"#ed7953\"], [0.7777777777777778, \"#fb9f3a\"], [0.8888888888888888, \"#fdca26\"], [1.0, \"#f0f921\"]], \"type\": \"heatmapgl\"}], \"histogram\": [{\"marker\": {\"colorbar\": {\"outlinewidth\": 0, \"ticks\": \"\"}}, \"type\": \"histogram\"}], \"histogram2d\": [{\"colorbar\": {\"outlinewidth\": 0, \"ticks\": \"\"}, \"colorscale\": [[0.0, \"#0d0887\"], [0.1111111111111111, \"#46039f\"], [0.2222222222222222, \"#7201a8\"], [0.3333333333333333, \"#9c179e\"], [0.4444444444444444, \"#bd3786\"], [0.5555555555555556, \"#d8576b\"], [0.6666666666666666, \"#ed7953\"], [0.7777777777777778, \"#fb9f3a\"], [0.8888888888888888, \"#fdca26\"], [1.0, \"#f0f921\"]], \"type\": \"histogram2d\"}], \"histogram2dcontour\": [{\"colorbar\": {\"outlinewidth\": 0, \"ticks\": \"\"}, \"colorscale\": [[0.0, \"#0d0887\"], [0.1111111111111111, \"#46039f\"], [0.2222222222222222, \"#7201a8\"], [0.3333333333333333, \"#9c179e\"], [0.4444444444444444, \"#bd3786\"], [0.5555555555555556, \"#d8576b\"], [0.6666666666666666, \"#ed7953\"], [0.7777777777777778, \"#fb9f3a\"], [0.8888888888888888, \"#fdca26\"], [1.0, \"#f0f921\"]], \"type\": \"histogram2dcontour\"}], \"mesh3d\": [{\"colorbar\": {\"outlinewidth\": 0, \"ticks\": \"\"}, \"type\": \"mesh3d\"}], \"parcoords\": [{\"line\": {\"colorbar\": {\"outlinewidth\": 0, \"ticks\": \"\"}}, \"type\": \"parcoords\"}], \"pie\": [{\"automargin\": true, \"type\": \"pie\"}], \"scatter\": [{\"marker\": {\"colorbar\": {\"outlinewidth\": 0, \"ticks\": \"\"}}, \"type\": \"scatter\"}], \"scatter3d\": [{\"line\": {\"colorbar\": {\"outlinewidth\": 0, \"ticks\": \"\"}}, \"marker\": {\"colorbar\": {\"outlinewidth\": 0, \"ticks\": \"\"}}, \"type\": \"scatter3d\"}], \"scattercarpet\": [{\"marker\": {\"colorbar\": {\"outlinewidth\": 0, \"ticks\": \"\"}}, \"type\": \"scattercarpet\"}], \"scattergeo\": [{\"marker\": {\"colorbar\": {\"outlinewidth\": 0, \"ticks\": \"\"}}, \"type\": \"scattergeo\"}], \"scattergl\": [{\"marker\": {\"colorbar\": {\"outlinewidth\": 0, \"ticks\": \"\"}}, \"type\": \"scattergl\"}], \"scattermapbox\": [{\"marker\": {\"colorbar\": {\"outlinewidth\": 0, \"ticks\": \"\"}}, \"type\": \"scattermapbox\"}], \"scatterpolar\": [{\"marker\": {\"colorbar\": {\"outlinewidth\": 0, \"ticks\": \"\"}}, \"type\": \"scatterpolar\"}], \"scatterpolargl\": [{\"marker\": {\"colorbar\": {\"outlinewidth\": 0, \"ticks\": \"\"}}, \"type\": \"scatterpolargl\"}], \"scatterternary\": [{\"marker\": {\"colorbar\": {\"outlinewidth\": 0, \"ticks\": \"\"}}, \"type\": \"scatterternary\"}], \"surface\": [{\"colorbar\": {\"outlinewidth\": 0, \"ticks\": \"\"}, \"colorscale\": [[0.0, \"#0d0887\"], [0.1111111111111111, \"#46039f\"], [0.2222222222222222, \"#7201a8\"], [0.3333333333333333, \"#9c179e\"], [0.4444444444444444, \"#bd3786\"], [0.5555555555555556, \"#d8576b\"], [0.6666666666666666, \"#ed7953\"], [0.7777777777777778, \"#fb9f3a\"], [0.8888888888888888, \"#fdca26\"], [1.0, \"#f0f921\"]], \"type\": \"surface\"}], \"table\": [{\"cells\": {\"fill\": {\"color\": \"#EBF0F8\"}, \"line\": {\"color\": \"white\"}}, \"header\": {\"fill\": {\"color\": \"#C8D4E3\"}, \"line\": {\"color\": \"white\"}}, \"type\": \"table\"}]}, \"layout\": {\"annotationdefaults\": {\"arrowcolor\": \"#2a3f5f\", \"arrowhead\": 0, \"arrowwidth\": 1}, \"coloraxis\": {\"colorbar\": {\"outlinewidth\": 0, \"ticks\": \"\"}}, \"colorscale\": {\"diverging\": [[0, \"#8e0152\"], [0.1, \"#c51b7d\"], [0.2, \"#de77ae\"], [0.3, \"#f1b6da\"], [0.4, \"#fde0ef\"], [0.5, \"#f7f7f7\"], [0.6, \"#e6f5d0\"], [0.7, \"#b8e186\"], [0.8, \"#7fbc41\"], [0.9, \"#4d9221\"], [1, \"#276419\"]], \"sequential\": [[0.0, \"#0d0887\"], [0.1111111111111111, \"#46039f\"], [0.2222222222222222, \"#7201a8\"], [0.3333333333333333, \"#9c179e\"], [0.4444444444444444, \"#bd3786\"], [0.5555555555555556, \"#d8576b\"], [0.6666666666666666, \"#ed7953\"], [0.7777777777777778, \"#fb9f3a\"], [0.8888888888888888, \"#fdca26\"], [1.0, \"#f0f921\"]], \"sequentialminus\": [[0.0, \"#0d0887\"], [0.1111111111111111, \"#46039f\"], [0.2222222222222222, \"#7201a8\"], [0.3333333333333333, \"#9c179e\"], [0.4444444444444444, \"#bd3786\"], [0.5555555555555556, \"#d8576b\"], [0.6666666666666666, \"#ed7953\"], [0.7777777777777778, \"#fb9f3a\"], [0.8888888888888888, \"#fdca26\"], [1.0, \"#f0f921\"]]}, \"colorway\": [\"#636efa\", \"#EF553B\", \"#00cc96\", \"#ab63fa\", \"#FFA15A\", \"#19d3f3\", \"#FF6692\", \"#B6E880\", \"#FF97FF\", \"#FECB52\"], \"font\": {\"color\": \"#2a3f5f\"}, \"geo\": {\"bgcolor\": \"white\", \"lakecolor\": \"white\", \"landcolor\": \"#E5ECF6\", \"showlakes\": true, \"showland\": true, \"subunitcolor\": \"white\"}, \"hoverlabel\": {\"align\": \"left\"}, \"hovermode\": \"closest\", \"mapbox\": {\"style\": \"light\"}, \"paper_bgcolor\": \"white\", \"plot_bgcolor\": \"#E5ECF6\", \"polar\": {\"angularaxis\": {\"gridcolor\": \"white\", \"linecolor\": \"white\", \"ticks\": \"\"}, \"bgcolor\": \"#E5ECF6\", \"radialaxis\": {\"gridcolor\": \"white\", \"linecolor\": \"white\", \"ticks\": \"\"}}, \"scene\": {\"xaxis\": {\"backgroundcolor\": \"#E5ECF6\", \"gridcolor\": \"white\", \"gridwidth\": 2, \"linecolor\": \"white\", \"showbackground\": true, \"ticks\": \"\", \"zerolinecolor\": \"white\"}, \"yaxis\": {\"backgroundcolor\": \"#E5ECF6\", \"gridcolor\": \"white\", \"gridwidth\": 2, \"linecolor\": \"white\", \"showbackground\": true, \"ticks\": \"\", \"zerolinecolor\": \"white\"}, \"zaxis\": {\"backgroundcolor\": \"#E5ECF6\", \"gridcolor\": \"white\", \"gridwidth\": 2, \"linecolor\": \"white\", \"showbackground\": true, \"ticks\": \"\", \"zerolinecolor\": \"white\"}}, \"shapedefaults\": {\"line\": {\"color\": \"#2a3f5f\"}}, \"ternary\": {\"aaxis\": {\"gridcolor\": \"white\", \"linecolor\": \"white\", \"ticks\": \"\"}, \"baxis\": {\"gridcolor\": \"white\", \"linecolor\": \"white\", \"ticks\": \"\"}, \"bgcolor\": \"#E5ECF6\", \"caxis\": {\"gridcolor\": \"white\", \"linecolor\": \"white\", \"ticks\": \"\"}}, \"title\": {\"x\": 0.05}, \"xaxis\": {\"automargin\": true, \"gridcolor\": \"white\", \"linecolor\": \"white\", \"ticks\": \"\", \"title\": {\"standoff\": 15}, \"zerolinecolor\": \"white\", \"zerolinewidth\": 2}, \"yaxis\": {\"automargin\": true, \"gridcolor\": \"white\", \"linecolor\": \"white\", \"ticks\": \"\", \"title\": {\"standoff\": 15}, \"zerolinecolor\": \"white\", \"zerolinewidth\": 2}}}, \"title\": {\"text\": \"Mean Absolute Percentage Error\", \"x\": 0.5}},\n",
              "                        {\"responsive\": true}\n",
              "                    ).then(function(){\n",
              "                            \n",
              "var gd = document.getElementById('0a6a3416-5a51-4ef1-ace6-6bb641e3f2df');\n",
              "var x = new MutationObserver(function (mutations, observer) {{\n",
              "        var display = window.getComputedStyle(gd).display;\n",
              "        if (!display || display === 'none') {{\n",
              "            console.log([gd, 'removed!']);\n",
              "            Plotly.purge(gd);\n",
              "            observer.disconnect();\n",
              "        }}\n",
              "}});\n",
              "\n",
              "// Listen for the removal of the full notebook cells\n",
              "var notebookContainer = gd.closest('#notebook-container');\n",
              "if (notebookContainer) {{\n",
              "    x.observe(notebookContainer, {childList: true});\n",
              "}}\n",
              "\n",
              "// Listen for the clearing of the current output cell\n",
              "var outputEl = gd.closest('.output');\n",
              "if (outputEl) {{\n",
              "    x.observe(outputEl, {childList: true});\n",
              "}}\n",
              "\n",
              "                        })\n",
              "                };\n",
              "                \n",
              "            </script>\n",
              "        </div>\n",
              "</body>\n",
              "</html>"
            ]
          },
          "metadata": {}
        }
      ]
    },
    {
      "cell_type": "markdown",
      "metadata": {
        "id": "3-_0Ov_rEFP-"
      },
      "source": [
        "# Parks"
      ]
    },
    {
      "cell_type": "markdown",
      "metadata": {
        "id": "lP2VM0MzEFP-"
      },
      "source": [
        "## Analysis\n",
        "\n",
        "---\n",
        "\n",
        "\n",
        "\n",
        "### Hyperparameters Tuning\n",
        "\n",
        "\n",
        "Using the training set matrices for confirmed cases and confirmed deaths and univiariate and multivariate, we tuned for the most optimal numbers of parameters, staring from basic architectures. In this case, we searched for numbers of nodes for LSTM, GRU, and RNNs, and filter, kernel size, and pool for CNN. In the input layer, we added instance normalization to make all values between 0 and 1. Since we were dealing with some data that we had never seen before and the data seemed to be non-stationary, instance normalization might provide more advantages than typical standardization or normalization. The numbers of nodes that we used for our LSTM, GRU, and RNNs experiments were 4, 8, 16, 32, 64, 128, 256, 512, and 1024. Similarly, we used the same pool for CNN filter with kernel size of 3, 5 and 7, and pool of 2 and 3. The activation function for this hidden layer was sigmoid. Next, we added another instance normalization. Finally, the output layer contained one node and Linear activation function. Epoch and batch size were 50 and 1, respectively. We used mean squared error (MSE) as our loss function, ADAM optimization and mean absolute percentage error (MAPE) as a metric for model evaluation.\n"
      ]
    },
    {
      "cell_type": "markdown",
      "metadata": {
        "id": "_ghpjiYpEFP-"
      },
      "source": [
        "### CNN"
      ]
    },
    {
      "cell_type": "code",
      "metadata": {
        "colab": {
          "base_uri": "https://localhost:8080/"
        },
        "id": "lmrwjhxLEFP-",
        "outputId": "8cc20d52-bb4e-4bf3-f1cf-68824e13f541"
      },
      "source": [
        "# Multivariate CNN confirmed cases\n",
        "\n",
        "kernel = [3, 5, 7]\n",
        "pool = [2]\n",
        "cnn_i_multi_parks = list()\n",
        "\n",
        "for i in kernel:\n",
        "  for j in pool: \n",
        "    score = list()\n",
        "    kernel_size, pool = [i],[j]\n",
        "    score = run_experiment(filter, kernel_size, pool,X_i_tr_parks, y_i_tr)\n",
        "    cnn_i_multi_parks.append(score)\n",
        "\n",
        "pool = [3]\n",
        "\n",
        "for i in kernel:\n",
        "  for j in pool: \n",
        "    kernel_size, pool = [i],[j]\n",
        "    score = run_experiment(filter, kernel_size, pool, X_i_tr_parks, y_i_tr)\n",
        "    cnn_i_multi_parks.append(score)\n",
        "\n",
        "cnn_i_multi_parks = pd.DataFrame(cnn_i_multi_parks).T\n",
        "cnn_i_multi_parks.columns = ['k3p2', 'k5p2','k7p2', 'k3p3', 'k5p3', 'k7p3']"
      ],
      "execution_count": null,
      "outputs": [
        {
          "output_type": "stream",
          "name": "stdout",
          "text": [
            "filter = 2, kernel size = 3, pooling size = 2: 5.468\n",
            "filter = 4, kernel size = 3, pooling size = 2: 5.490\n",
            "filter = 8, kernel size = 3, pooling size = 2: 5.797\n",
            "filter = 16, kernel size = 3, pooling size = 2: 4.424\n",
            "filter = 32, kernel size = 3, pooling size = 2: 4.274\n",
            "filter = 64, kernel size = 3, pooling size = 2: 3.797\n",
            "filter = 128, kernel size = 3, pooling size = 2: 3.822\n",
            "filter = 256, kernel size = 3, pooling size = 2: 4.478\n",
            "filter = 512, kernel size = 3, pooling size = 2: 4.779\n",
            "filter = 1024, kernel size = 3, pooling size = 2: 5.396\n",
            "filter = 2, kernel size = 5, pooling size = 2: 5.570\n",
            "filter = 4, kernel size = 5, pooling size = 2: 4.703\n",
            "filter = 8, kernel size = 5, pooling size = 2: 4.427\n",
            "filter = 16, kernel size = 5, pooling size = 2: 3.341\n",
            "filter = 32, kernel size = 5, pooling size = 2: 4.355\n",
            "filter = 64, kernel size = 5, pooling size = 2: 3.912\n",
            "filter = 128, kernel size = 5, pooling size = 2: 3.879\n",
            "filter = 256, kernel size = 5, pooling size = 2: 4.470\n",
            "filter = 512, kernel size = 5, pooling size = 2: 5.104\n",
            "filter = 1024, kernel size = 5, pooling size = 2: 6.133\n",
            "filter = 2, kernel size = 7, pooling size = 2: 5.642\n",
            "filter = 4, kernel size = 7, pooling size = 2: 5.213\n",
            "filter = 8, kernel size = 7, pooling size = 2: 5.997\n",
            "filter = 16, kernel size = 7, pooling size = 2: 4.917\n",
            "filter = 32, kernel size = 7, pooling size = 2: 4.954\n",
            "filter = 64, kernel size = 7, pooling size = 2: 3.934\n",
            "filter = 128, kernel size = 7, pooling size = 2: 4.424\n",
            "filter = 256, kernel size = 7, pooling size = 2: 4.264\n",
            "filter = 512, kernel size = 7, pooling size = 2: 4.898\n",
            "filter = 1024, kernel size = 7, pooling size = 2: 6.665\n",
            "filter = 2, kernel size = 3, pooling size = 3: 5.572\n",
            "filter = 4, kernel size = 3, pooling size = 3: 4.708\n",
            "filter = 8, kernel size = 3, pooling size = 3: 4.383\n",
            "filter = 16, kernel size = 3, pooling size = 3: 4.671\n",
            "filter = 32, kernel size = 3, pooling size = 3: 4.298\n",
            "filter = 64, kernel size = 3, pooling size = 3: 4.335\n",
            "filter = 128, kernel size = 3, pooling size = 3: 3.917\n",
            "filter = 256, kernel size = 3, pooling size = 3: 4.095\n",
            "filter = 512, kernel size = 3, pooling size = 3: 4.414\n",
            "filter = 1024, kernel size = 3, pooling size = 3: 6.185\n",
            "filter = 2, kernel size = 5, pooling size = 3: 5.535\n",
            "filter = 4, kernel size = 5, pooling size = 3: 5.508\n",
            "filter = 8, kernel size = 5, pooling size = 3: 4.991\n",
            "filter = 16, kernel size = 5, pooling size = 3: 4.626\n",
            "filter = 32, kernel size = 5, pooling size = 3: 5.311\n",
            "filter = 64, kernel size = 5, pooling size = 3: 4.999\n",
            "filter = 128, kernel size = 5, pooling size = 3: 4.376\n",
            "filter = 256, kernel size = 5, pooling size = 3: 4.577\n",
            "filter = 512, kernel size = 5, pooling size = 3: 5.228\n",
            "filter = 1024, kernel size = 5, pooling size = 3: 5.587\n",
            "filter = 2, kernel size = 7, pooling size = 3: 5.129\n",
            "filter = 4, kernel size = 7, pooling size = 3: 5.773\n",
            "filter = 8, kernel size = 7, pooling size = 3: 6.205\n",
            "filter = 16, kernel size = 7, pooling size = 3: 4.955\n",
            "filter = 32, kernel size = 7, pooling size = 3: 5.827\n",
            "filter = 64, kernel size = 7, pooling size = 3: 4.930\n",
            "filter = 128, kernel size = 7, pooling size = 3: 4.641\n",
            "filter = 256, kernel size = 7, pooling size = 3: 4.635\n",
            "filter = 512, kernel size = 7, pooling size = 3: 4.917\n",
            "filter = 1024, kernel size = 7, pooling size = 3: 5.538\n"
          ]
        }
      ]
    },
    {
      "cell_type": "code",
      "metadata": {
        "colab": {
          "base_uri": "https://localhost:8080/"
        },
        "id": "yV-NkTtzEFP_",
        "outputId": "7c2cee40-1b85-49e8-cb00-15b69220b32f"
      },
      "source": [
        "# Multivariate CNN confirmed deaths\n",
        "\n",
        "pool = [2]\n",
        "cnn_d_multi_parks = list()\n",
        "\n",
        "for i in kernel:\n",
        "  for j in pool:\n",
        "    score = list() \n",
        "    kernel_size, pool = [i],[j]\n",
        "    score = run_experiment(filter, kernel_size, pool, X_d_tr_parks, y_d_tr)\n",
        "    cnn_d_multi_parks.append(score)\n",
        "\n",
        "pool = [3]\n",
        "\n",
        "for i in kernel:\n",
        "  for j in pool: \n",
        "    score = list()\n",
        "    kernel_size, pool = [i],[j]\n",
        "    score = run_experiment(filter, kernel_size, pool, X_d_tr_parks, y_d_tr)\n",
        "    cnn_d_multi_parks.append(score)\n",
        "\n",
        "cnn_d_multi_parks = pd.DataFrame(cnn_d_multi_parks).T\n",
        "cnn_d_multi_parks.columns = ['k3p2', 'k3p3','k5p2', 'k7p2', 'k5p3', 'k7p3']"
      ],
      "execution_count": null,
      "outputs": [
        {
          "output_type": "stream",
          "name": "stdout",
          "text": [
            "filter = 2, kernel size = 3, pooling size = 2: 11.876\n",
            "filter = 4, kernel size = 3, pooling size = 2: 11.831\n",
            "filter = 8, kernel size = 3, pooling size = 2: 9.407\n",
            "filter = 16, kernel size = 3, pooling size = 2: 9.226\n",
            "filter = 32, kernel size = 3, pooling size = 2: 8.030\n",
            "filter = 64, kernel size = 3, pooling size = 2: 5.932\n",
            "filter = 128, kernel size = 3, pooling size = 2: 5.722\n",
            "filter = 256, kernel size = 3, pooling size = 2: 5.188\n",
            "filter = 512, kernel size = 3, pooling size = 2: 4.709\n",
            "filter = 1024, kernel size = 3, pooling size = 2: 7.270\n",
            "filter = 2, kernel size = 5, pooling size = 2: 9.633\n",
            "filter = 4, kernel size = 5, pooling size = 2: 11.175\n",
            "filter = 8, kernel size = 5, pooling size = 2: 7.930\n",
            "filter = 16, kernel size = 5, pooling size = 2: 7.996\n",
            "filter = 32, kernel size = 5, pooling size = 2: 7.895\n",
            "filter = 64, kernel size = 5, pooling size = 2: 6.798\n",
            "filter = 128, kernel size = 5, pooling size = 2: 6.938\n",
            "filter = 256, kernel size = 5, pooling size = 2: 6.464\n",
            "filter = 512, kernel size = 5, pooling size = 2: 6.535\n",
            "filter = 1024, kernel size = 5, pooling size = 2: 7.179\n",
            "filter = 2, kernel size = 7, pooling size = 2: 9.899\n",
            "filter = 4, kernel size = 7, pooling size = 2: 11.152\n",
            "filter = 8, kernel size = 7, pooling size = 2: 9.677\n",
            "filter = 16, kernel size = 7, pooling size = 2: 7.882\n",
            "filter = 32, kernel size = 7, pooling size = 2: 7.288\n",
            "filter = 64, kernel size = 7, pooling size = 2: 6.844\n",
            "filter = 128, kernel size = 7, pooling size = 2: 6.773\n",
            "filter = 256, kernel size = 7, pooling size = 2: 7.233\n",
            "filter = 512, kernel size = 7, pooling size = 2: 7.936\n",
            "filter = 1024, kernel size = 7, pooling size = 2: 7.452\n",
            "filter = 2, kernel size = 3, pooling size = 3: 10.973\n",
            "filter = 4, kernel size = 3, pooling size = 3: 10.595\n",
            "filter = 8, kernel size = 3, pooling size = 3: 9.108\n",
            "filter = 16, kernel size = 3, pooling size = 3: 8.603\n",
            "filter = 32, kernel size = 3, pooling size = 3: 8.044\n",
            "filter = 64, kernel size = 3, pooling size = 3: 6.947\n",
            "filter = 128, kernel size = 3, pooling size = 3: 5.952\n",
            "filter = 256, kernel size = 3, pooling size = 3: 5.896\n",
            "filter = 512, kernel size = 3, pooling size = 3: 5.187\n",
            "filter = 1024, kernel size = 3, pooling size = 3: 5.995\n",
            "filter = 2, kernel size = 5, pooling size = 3: 10.114\n",
            "filter = 4, kernel size = 5, pooling size = 3: 11.376\n",
            "filter = 8, kernel size = 5, pooling size = 3: 9.834\n",
            "filter = 16, kernel size = 5, pooling size = 3: 9.030\n",
            "filter = 32, kernel size = 5, pooling size = 3: 8.747\n",
            "filter = 64, kernel size = 5, pooling size = 3: 7.356\n",
            "filter = 128, kernel size = 5, pooling size = 3: 7.535\n",
            "filter = 256, kernel size = 5, pooling size = 3: 6.691\n",
            "filter = 512, kernel size = 5, pooling size = 3: 6.431\n",
            "filter = 1024, kernel size = 5, pooling size = 3: 7.399\n",
            "filter = 2, kernel size = 7, pooling size = 3: 98.123\n",
            "filter = 4, kernel size = 7, pooling size = 3: 9.871\n",
            "filter = 8, kernel size = 7, pooling size = 3: 10.436\n",
            "filter = 16, kernel size = 7, pooling size = 3: 8.948\n",
            "filter = 32, kernel size = 7, pooling size = 3: 8.955\n",
            "filter = 64, kernel size = 7, pooling size = 3: 7.455\n",
            "filter = 128, kernel size = 7, pooling size = 3: 8.042\n",
            "filter = 256, kernel size = 7, pooling size = 3: 8.050\n",
            "filter = 512, kernel size = 7, pooling size = 3: 8.230\n",
            "filter = 1024, kernel size = 7, pooling size = 3: 8.401\n"
          ]
        }
      ]
    },
    {
      "cell_type": "markdown",
      "metadata": {
        "id": "nzE0ddfkEFP_"
      },
      "source": [
        "### LSTM"
      ]
    },
    {
      "cell_type": "code",
      "metadata": {
        "id": "_N69yWKuEFP_"
      },
      "source": [
        "def evaluate_lstm(trainX, trainy, units):\n",
        "    seed(1)\n",
        "    tensorflow.random.set_seed(1)\n",
        "\n",
        "    verbose, epochs, batch_size = 0, 50, 1\n",
        "    n_timesteps, n_features = trainX.shape[1], trainX.shape[2]\n",
        "\n",
        "    model = Sequential()\n",
        "    model.add(LSTM(units = units, activation='relu', input_shape=(n_timesteps,n_features)))\n",
        "    model.add(Dense(1, activation='linear'))\n",
        "    model.compile(loss='mse', optimizer='adam', metrics=['MAPE'])\n",
        "  \n",
        "    # fit network\n",
        "    model.fit(trainX, trainy, epochs=epochs, batch_size=batch_size, verbose=verbose, shuffle = False)\n",
        "    # evaluate model\n",
        "    _, accuracy = model.evaluate(trainX, trainy, batch_size=batch_size, verbose=0)\n",
        "    return accuracy\n",
        "\n",
        "\n",
        "# # Univariate LSTM confirmed cases\n",
        "units = [2, 4,8,16,32,64,128,256,512, 1024]\n",
        "\n",
        "\n",
        "# Multivariate LSTM confirmed cases\n",
        "\n",
        "lstm_i_multi_parks = list()\n",
        "\n",
        "for i in units:\n",
        "  score = list()\n",
        "  score = evaluate_lstm(X_i_tr_parks, y_i_tr, i)\n",
        "  lstm_i_multi_parks.append(score)\n",
        "\n",
        "\n",
        "\n",
        "# Multivariate LSTM confirmed deaths\n",
        "\n",
        "lstm_d_multi_parks = list()\n",
        "\n",
        "for i in units:\n",
        "  score = list()\n",
        "  score = evaluate_lstm(X_d_tr_grocery, y_d_tr, i)\n",
        "  lstm_d_multi_parks.append(score)"
      ],
      "execution_count": null,
      "outputs": []
    },
    {
      "cell_type": "markdown",
      "metadata": {
        "id": "5tcafSSiEFP_"
      },
      "source": [
        "### GRU"
      ]
    },
    {
      "cell_type": "code",
      "metadata": {
        "id": "w9edO01aEFQA"
      },
      "source": [
        "def evaluate_gru(trainX, trainy, units):\n",
        "    seed(1)\n",
        "    tensorflow.random.set_seed(1)\n",
        "\n",
        "    verbose, epochs, batch_size = 0, 50, 1\n",
        "    n_timesteps, n_features = trainX.shape[1], trainX.shape[2]\n",
        "\n",
        "    model = Sequential()\n",
        "    model.add(GRU(units = units, activation='relu', input_shape=(n_timesteps,n_features)))\n",
        "    model.add(Dense(1, activation='linear'))\n",
        "    model.compile(loss='mse', optimizer='adam', metrics=['MAPE'])\n",
        "  \n",
        "    # fit network\n",
        "    model.fit(trainX, trainy, epochs=epochs, batch_size=batch_size, verbose=verbose, shuffle = False)\n",
        "    # evaluate model\n",
        "    _, accuracy = model.evaluate(trainX, trainy, batch_size=batch_size, verbose=0)\n",
        "    return accuracy\n",
        "\n",
        "# Multivariate GRU confirmed cases\n",
        "\n",
        "gru_i_multi_parks = list()\n",
        "\n",
        "for i in units:\n",
        "  score = list()\n",
        "  score = evaluate_gru(X_i_tr_parks, y_i_tr, i)\n",
        "  gru_i_multi_parks.append(score)\n",
        "\n",
        "\n",
        "# Multivariate GRU confirmed deaths\n",
        "\n",
        "gru_d_multi_parks = list()\n",
        "\n",
        "for i in units:\n",
        "  score = list()\n",
        "  score = evaluate_gru(X_d_tr_parks, y_d_tr, i)\n",
        "  gru_d_multi_parks.append(score)"
      ],
      "execution_count": null,
      "outputs": []
    },
    {
      "cell_type": "markdown",
      "metadata": {
        "id": "YCJdsVzzEFQA"
      },
      "source": [
        "### RNNs"
      ]
    },
    {
      "cell_type": "code",
      "metadata": {
        "id": "cGVn_X0VEFQA"
      },
      "source": [
        "def evaluate_rnn(trainX, trainy, units):\n",
        "    seed(1)\n",
        "    tensorflow.random.set_seed(1)\n",
        "\n",
        "    verbose, epochs, batch_size = 0, 50, 1\n",
        "    n_timesteps, n_features = trainX.shape[1], trainX.shape[2]\n",
        "\n",
        "    model = Sequential()\n",
        "    model.add(SimpleRNN(units = units, activation='relu', input_shape=(n_timesteps,n_features)))\n",
        "    model.add(Dense(1, activation='linear'))\n",
        "    model.compile(loss='mse', optimizer='adam', metrics=['MAPE'])\n",
        "  \n",
        "    # fit network\n",
        "    model.fit(trainX, trainy, epochs=epochs, batch_size=batch_size, verbose=verbose, shuffle = False)\n",
        "    # evaluate model\n",
        "    _, accuracy = model.evaluate(trainX, trainy, batch_size=batch_size, verbose=0)\n",
        "    return accuracy\n",
        "\n",
        "# Multivariate RNNs confirmed cases\n",
        "\n",
        "rnn_i_multi_parks = list()\n",
        "\n",
        "for i in units:\n",
        "  score = list()\n",
        "  score = evaluate_rnn(X_i_tr_parks, y_i_tr, i)\n",
        "  rnn_i_multi_parks.append(score)\n",
        "\n",
        "\n",
        "# Multivariate RNNs confirmed deaths\n",
        "\n",
        "rnn_d_multi_parks = list()\n",
        "\n",
        "for i in units:\n",
        "  score = list()\n",
        "  score = evaluate_rnn(X_d_tr_parks, y_d_tr, i)\n",
        "  rnn_d_multi_parks.append(score)"
      ],
      "execution_count": null,
      "outputs": []
    },
    {
      "cell_type": "markdown",
      "metadata": {
        "id": "kmnWGhtjEFQA"
      },
      "source": [
        "### Result Table"
      ]
    },
    {
      "cell_type": "markdown",
      "metadata": {
        "id": "keI2sAtbEFQA"
      },
      "source": [
        "#### Multivariate Confirmed Cases"
      ]
    },
    {
      "cell_type": "code",
      "metadata": {
        "colab": {
          "base_uri": "https://localhost:8080/",
          "height": 737
        },
        "id": "nHyBAB2CEFQA",
        "outputId": "33196ec3-1c40-4679-a01b-911bb7dfbbb7"
      },
      "source": [
        "fig = go.Figure(data=[go.Table(header=dict(values=['Model', 'Kernel size', 'Pool', '2 Nodes', '4 Nodes', '8 Nodes', '16 Nodes', \n",
        "                                                   '32 Nodes', \"64 Nodes\", '128 Nodes', '256 Nodes', '512 Nodes', '1024 Nodes'],\n",
        "                                           line_color = 'gray'),\n",
        "                               cells=dict(values=[['LSTM', 'GRU', 'RNNs', 'CNN',\n",
        "                                                   'CNN', 'CNN', 'CNN', 'CNN', 'CNN'],\n",
        "                                                  ['-', '-', '-', '3', '5', '7', '3', '5', '7'],\n",
        "                                                  ['-', '-', '-', '2', '2', '2', '3', '3', '3'],\n",
        "                                    [round(lstm_i_multi_parks[0],3), \n",
        "                                     round(gru_i_multi_parks[0],3),\n",
        "                                     round(rnn_i_multi_parks[0],3), \n",
        "                                     round(cnn_i_multi_parks.iloc[0,0],3),\n",
        "                                     round(cnn_i_multi_parks.iloc[0,1],3),\n",
        "                                     round(cnn_i_multi_parks.iloc[0,2],3),\n",
        "                                     round(cnn_i_multi_parks.iloc[0,3],3),\n",
        "                                     round(cnn_i_multi_parks.iloc[0,4],3),\n",
        "                                     round(cnn_i_multi_parks.iloc[0,5],3)],\n",
        "                                     [round(lstm_i_multi_parks[1],3), \n",
        "                                     round(gru_i_multi_parks[1],3),\n",
        "                                     round(rnn_i_multi_parks[1],3), \n",
        "                                     round(cnn_i_multi_parks.iloc[1,0],3),\n",
        "                                     round(cnn_i_multi_parks.iloc[1,1],3),\n",
        "                                     round(cnn_i_multi_parks.iloc[1,2],3),\n",
        "                                     round(cnn_i_multi_parks.iloc[1,3],3),\n",
        "                                     round(cnn_i_multi_parks.iloc[1,4],3),\n",
        "                                     round(cnn_i_multi_parks.iloc[1,5],3)],\n",
        "                                     [round(lstm_i_multi_parks[2],3), \n",
        "                                     round(gru_i_multi_parks[2],3),\n",
        "                                     round(rnn_i_multi_parks[2],3), \n",
        "                                     round(cnn_i_multi_parks.iloc[2,0],3),\n",
        "                                     round(cnn_i_multi_parks.iloc[2,1],3),\n",
        "                                     round(cnn_i_multi_parks.iloc[2,2],3),\n",
        "                                     round(cnn_i_multi_parks.iloc[2,3],3),\n",
        "                                     round(cnn_i_multi_parks.iloc[2,4],3),\n",
        "                                     round(cnn_i_multi_parks.iloc[2,5],3)],\n",
        "                                     [round(lstm_i_multi_parks[3],3), \n",
        "                                     round(gru_i_multi_parks[3],3),\n",
        "                                     round(rnn_i_multi_parks[3],3), \n",
        "                                     round(cnn_i_multi_parks.iloc[3,0],3),\n",
        "                                     round(cnn_i_multi_parks.iloc[3,1],3),\n",
        "                                     round(cnn_i_multi_parks.iloc[3,2],3),\n",
        "                                     round(cnn_i_multi_parks.iloc[3,3],3),\n",
        "                                     round(cnn_i_multi_parks.iloc[3,4],3),\n",
        "                                     round(cnn_i_multi_parks.iloc[3,5],3)],\n",
        "                                     [round(lstm_i_multi_parks[4],3), \n",
        "                                     round(gru_i_multi_parks[4],3),\n",
        "                                     round(rnn_i_multi_parks[4],3), \n",
        "                                     round(cnn_i_multi_parks.iloc[4,0],3),\n",
        "                                     round(cnn_i_multi_parks.iloc[4,1],3),\n",
        "                                     round(cnn_i_multi_parks.iloc[4,2],3),\n",
        "                                     round(cnn_i_multi_parks.iloc[4,3],3),\n",
        "                                     round(cnn_i_multi_parks.iloc[4,4],3),\n",
        "                                     round(cnn_i_multi_parks.iloc[4,5],3)],\n",
        "                                     [round(lstm_i_multi_parks[5],3), \n",
        "                                     round(gru_i_multi_parks[5],3),\n",
        "                                     round(rnn_i_multi_parks[5],3), \n",
        "                                     round(cnn_i_multi_parks.iloc[5,0],3),\n",
        "                                     round(cnn_i_multi_parks.iloc[5,1],3),\n",
        "                                     round(cnn_i_multi_parks.iloc[5,2],3),\n",
        "                                     round(cnn_i_multi_parks.iloc[5,3],3),\n",
        "                                     round(cnn_i_multi_parks.iloc[5,4],3),\n",
        "                                     round(cnn_i_multi_parks.iloc[5,5],3)],\n",
        "                                     [round(lstm_i_multi_parks[6],3), \n",
        "                                     round(gru_i_multi_parks[6],3),\n",
        "                                     round(rnn_i_multi_parks[6],3), \n",
        "                                     round(cnn_i_multi_parks.iloc[6,0],3),\n",
        "                                     round(cnn_i_multi_parks.iloc[6,1],3),\n",
        "                                     round(cnn_i_multi_parks.iloc[6,2],3),\n",
        "                                     round(cnn_i_multi_parks.iloc[6,3],3),\n",
        "                                     round(cnn_i_multi_parks.iloc[6,4],3),\n",
        "                                     round(cnn_i_multi_parks.iloc[6,5],3)],\n",
        "                                     [round(lstm_i_multi_parks[7],3), \n",
        "                                     round(gru_i_multi_parks[7],3),\n",
        "                                     round(rnn_i_multi_parks[7],3), \n",
        "                                     round(cnn_i_multi_parks.iloc[7,0],3),\n",
        "                                     round(cnn_i_multi_parks.iloc[7,1],3),\n",
        "                                     round(cnn_i_multi_parks.iloc[7,2],3),\n",
        "                                     round(cnn_i_multi_parks.iloc[7,3],3),\n",
        "                                     round(cnn_i_multi_parks.iloc[7,4],3),\n",
        "                                     round(cnn_i_multi_parks.iloc[7,5],3)],\n",
        "                                     [round(lstm_i_multi_parks[8],3), \n",
        "                                     round(gru_i_multi_parks[8],3),\n",
        "                                     round(rnn_i_multi_parks[8],3), \n",
        "                                     round(cnn_i_multi_parks.iloc[8,0],3),\n",
        "                                     round(cnn_i_multi_parks.iloc[8,1],3),\n",
        "                                     round(cnn_i_multi_parks.iloc[8,2],3),\n",
        "                                     round(cnn_i_multi_parks.iloc[8,3],3),\n",
        "                                     round(cnn_i_multi_parks.iloc[8,4],3),\n",
        "                                     round(cnn_i_multi_parks.iloc[8,5],3)],\n",
        "                                     [round(lstm_i_multi_parks[9],3), \n",
        "                                     round(gru_i_multi_parks[9],3),\n",
        "                                     round(rnn_i_multi_parks[9],3), \n",
        "                                     round(cnn_i_multi_parks.iloc[9,0],3),\n",
        "                                     round(cnn_i_multi_parks.iloc[9,1],3),\n",
        "                                     round(cnn_i_multi_parks.iloc[9,2],3),\n",
        "                                     round(cnn_i_multi_parks.iloc[9,3],3),\n",
        "                                     round(cnn_i_multi_parks.iloc[9,4],3),\n",
        "                                     round(cnn_i_multi_parks.iloc[9,5],3)]],\n",
        "                            align=['left','center', 'center', \n",
        "                                   'right','right','right',\n",
        "                                   'right','right','right',\n",
        "                                   'right','right','right','right'],\n",
        "                            fill_color = 'white',\n",
        "                            line_color = 'gray'))\n",
        "                     ])\n",
        "fig.update_layout(title = \"Parameter Tunings Mean Absolute Percentage Error: Multivariate Confirmed Cases\",\n",
        "                  title_x=0.5, height = 700, width = 1200)\n",
        "fig.show()"
      ],
      "execution_count": null,
      "outputs": [
        {
          "output_type": "display_data",
          "data": {
            "text/html": [
              "<html>\n",
              "<head><meta charset=\"utf-8\" /></head>\n",
              "<body>\n",
              "    <div>\n",
              "            <script src=\"https://cdnjs.cloudflare.com/ajax/libs/mathjax/2.7.5/MathJax.js?config=TeX-AMS-MML_SVG\"></script><script type=\"text/javascript\">if (window.MathJax) {MathJax.Hub.Config({SVG: {font: \"STIX-Web\"}});}</script>\n",
              "                <script type=\"text/javascript\">window.PlotlyConfig = {MathJaxConfig: 'local'};</script>\n",
              "        <script src=\"https://cdn.plot.ly/plotly-latest.min.js\"></script>    \n",
              "            <div id=\"8c89d68a-8c18-48d8-af57-9e68ec662bd5\" class=\"plotly-graph-div\" style=\"height:700px; width:1200px;\"></div>\n",
              "            <script type=\"text/javascript\">\n",
              "                \n",
              "                    window.PLOTLYENV=window.PLOTLYENV || {};\n",
              "                    \n",
              "                if (document.getElementById(\"8c89d68a-8c18-48d8-af57-9e68ec662bd5\")) {\n",
              "                    Plotly.newPlot(\n",
              "                        '8c89d68a-8c18-48d8-af57-9e68ec662bd5',\n",
              "                        [{\"cells\": {\"align\": [\"left\", \"center\", \"center\", \"right\", \"right\", \"right\", \"right\", \"right\", \"right\", \"right\", \"right\", \"right\", \"right\"], \"fill\": {\"color\": \"white\"}, \"line\": {\"color\": \"gray\"}, \"values\": [[\"LSTM\", \"GRU\", \"RNNs\", \"CNN\", \"CNN\", \"CNN\", \"CNN\", \"CNN\", \"CNN\"], [\"-\", \"-\", \"-\", \"3\", \"5\", \"7\", \"3\", \"5\", \"7\"], [\"-\", \"-\", \"-\", \"2\", \"2\", \"2\", \"3\", \"3\", \"3\"], [99.984, 31.556, 6.038, 5.468, 5.57, 5.642, 5.572, 5.535, 5.129], [99.984, 99.984, 3.558, 5.49, 4.703, 5.213, 4.708, 5.508, 5.773], [15.301, 99.984, 4.063, 5.797, 4.427, 5.997, 4.383, 4.991, 6.205], [4.08, 3.946, 4.659, 4.424, 3.341, 4.917, 4.671, 4.626, 4.955], [3.83, 4.263, 3.916, 4.274, 4.355, 4.954, 4.298, 5.311, 5.827], [4.126, 3.846, 3.72, 3.797, 3.912, 3.934, 4.335, 4.999, 4.93], [3.932, 4.23, 3.501, 3.822, 3.879, 4.424, 3.917, 4.376, 4.641], [3.767, 4.133, 3.102, 4.478, 4.47, 4.264, 4.095, 4.577, 4.635], [4.768, 3.538, 3.171, 4.779, 5.104, 4.898, 4.414, 5.228, 4.917], [4.671, 3.518, 3.273, 5.396, 6.133, 6.665, 6.185, 5.587, 5.538]]}, \"header\": {\"line\": {\"color\": \"gray\"}, \"values\": [\"Model\", \"Kernel size\", \"Pool\", \"2 Nodes\", \"4 Nodes\", \"8 Nodes\", \"16 Nodes\", \"32 Nodes\", \"64 Nodes\", \"128 Nodes\", \"256 Nodes\", \"512 Nodes\", \"1024 Nodes\"]}, \"type\": \"table\"}],\n",
              "                        {\"height\": 700, \"template\": {\"data\": {\"bar\": [{\"error_x\": {\"color\": \"#2a3f5f\"}, \"error_y\": {\"color\": \"#2a3f5f\"}, \"marker\": {\"line\": {\"color\": \"#E5ECF6\", \"width\": 0.5}}, \"type\": \"bar\"}], \"barpolar\": [{\"marker\": {\"line\": {\"color\": \"#E5ECF6\", \"width\": 0.5}}, \"type\": \"barpolar\"}], \"carpet\": [{\"aaxis\": {\"endlinecolor\": \"#2a3f5f\", \"gridcolor\": \"white\", \"linecolor\": \"white\", \"minorgridcolor\": \"white\", \"startlinecolor\": \"#2a3f5f\"}, \"baxis\": {\"endlinecolor\": \"#2a3f5f\", \"gridcolor\": \"white\", \"linecolor\": \"white\", \"minorgridcolor\": \"white\", \"startlinecolor\": \"#2a3f5f\"}, \"type\": \"carpet\"}], \"choropleth\": [{\"colorbar\": {\"outlinewidth\": 0, \"ticks\": \"\"}, \"type\": \"choropleth\"}], \"contour\": [{\"colorbar\": {\"outlinewidth\": 0, \"ticks\": \"\"}, \"colorscale\": [[0.0, \"#0d0887\"], [0.1111111111111111, \"#46039f\"], [0.2222222222222222, \"#7201a8\"], [0.3333333333333333, \"#9c179e\"], [0.4444444444444444, \"#bd3786\"], [0.5555555555555556, \"#d8576b\"], [0.6666666666666666, \"#ed7953\"], [0.7777777777777778, \"#fb9f3a\"], [0.8888888888888888, \"#fdca26\"], [1.0, \"#f0f921\"]], \"type\": \"contour\"}], \"contourcarpet\": [{\"colorbar\": {\"outlinewidth\": 0, \"ticks\": \"\"}, \"type\": \"contourcarpet\"}], \"heatmap\": [{\"colorbar\": {\"outlinewidth\": 0, \"ticks\": \"\"}, \"colorscale\": [[0.0, \"#0d0887\"], [0.1111111111111111, \"#46039f\"], [0.2222222222222222, \"#7201a8\"], [0.3333333333333333, \"#9c179e\"], [0.4444444444444444, \"#bd3786\"], [0.5555555555555556, \"#d8576b\"], [0.6666666666666666, \"#ed7953\"], [0.7777777777777778, \"#fb9f3a\"], [0.8888888888888888, \"#fdca26\"], [1.0, \"#f0f921\"]], \"type\": \"heatmap\"}], \"heatmapgl\": [{\"colorbar\": {\"outlinewidth\": 0, \"ticks\": \"\"}, \"colorscale\": [[0.0, \"#0d0887\"], [0.1111111111111111, \"#46039f\"], [0.2222222222222222, \"#7201a8\"], [0.3333333333333333, \"#9c179e\"], [0.4444444444444444, \"#bd3786\"], [0.5555555555555556, \"#d8576b\"], [0.6666666666666666, \"#ed7953\"], [0.7777777777777778, \"#fb9f3a\"], [0.8888888888888888, \"#fdca26\"], [1.0, \"#f0f921\"]], \"type\": \"heatmapgl\"}], \"histogram\": [{\"marker\": {\"colorbar\": {\"outlinewidth\": 0, \"ticks\": \"\"}}, \"type\": \"histogram\"}], \"histogram2d\": [{\"colorbar\": {\"outlinewidth\": 0, \"ticks\": \"\"}, \"colorscale\": [[0.0, \"#0d0887\"], [0.1111111111111111, \"#46039f\"], [0.2222222222222222, \"#7201a8\"], [0.3333333333333333, \"#9c179e\"], [0.4444444444444444, \"#bd3786\"], [0.5555555555555556, \"#d8576b\"], [0.6666666666666666, \"#ed7953\"], [0.7777777777777778, \"#fb9f3a\"], [0.8888888888888888, \"#fdca26\"], [1.0, \"#f0f921\"]], \"type\": \"histogram2d\"}], \"histogram2dcontour\": [{\"colorbar\": {\"outlinewidth\": 0, \"ticks\": \"\"}, \"colorscale\": [[0.0, \"#0d0887\"], [0.1111111111111111, \"#46039f\"], [0.2222222222222222, \"#7201a8\"], [0.3333333333333333, \"#9c179e\"], [0.4444444444444444, \"#bd3786\"], [0.5555555555555556, \"#d8576b\"], [0.6666666666666666, \"#ed7953\"], [0.7777777777777778, \"#fb9f3a\"], [0.8888888888888888, \"#fdca26\"], [1.0, \"#f0f921\"]], \"type\": \"histogram2dcontour\"}], \"mesh3d\": [{\"colorbar\": {\"outlinewidth\": 0, \"ticks\": \"\"}, \"type\": \"mesh3d\"}], \"parcoords\": [{\"line\": {\"colorbar\": {\"outlinewidth\": 0, \"ticks\": \"\"}}, \"type\": \"parcoords\"}], \"pie\": [{\"automargin\": true, \"type\": \"pie\"}], \"scatter\": [{\"marker\": {\"colorbar\": {\"outlinewidth\": 0, \"ticks\": \"\"}}, \"type\": \"scatter\"}], \"scatter3d\": [{\"line\": {\"colorbar\": {\"outlinewidth\": 0, \"ticks\": \"\"}}, \"marker\": {\"colorbar\": {\"outlinewidth\": 0, \"ticks\": \"\"}}, \"type\": \"scatter3d\"}], \"scattercarpet\": [{\"marker\": {\"colorbar\": {\"outlinewidth\": 0, \"ticks\": \"\"}}, \"type\": \"scattercarpet\"}], \"scattergeo\": [{\"marker\": {\"colorbar\": {\"outlinewidth\": 0, \"ticks\": \"\"}}, \"type\": \"scattergeo\"}], \"scattergl\": [{\"marker\": {\"colorbar\": {\"outlinewidth\": 0, \"ticks\": \"\"}}, \"type\": \"scattergl\"}], \"scattermapbox\": [{\"marker\": {\"colorbar\": {\"outlinewidth\": 0, \"ticks\": \"\"}}, \"type\": \"scattermapbox\"}], \"scatterpolar\": [{\"marker\": {\"colorbar\": {\"outlinewidth\": 0, \"ticks\": \"\"}}, \"type\": \"scatterpolar\"}], \"scatterpolargl\": [{\"marker\": {\"colorbar\": {\"outlinewidth\": 0, \"ticks\": \"\"}}, \"type\": \"scatterpolargl\"}], \"scatterternary\": [{\"marker\": {\"colorbar\": {\"outlinewidth\": 0, \"ticks\": \"\"}}, \"type\": \"scatterternary\"}], \"surface\": [{\"colorbar\": {\"outlinewidth\": 0, \"ticks\": \"\"}, \"colorscale\": [[0.0, \"#0d0887\"], [0.1111111111111111, \"#46039f\"], [0.2222222222222222, \"#7201a8\"], [0.3333333333333333, \"#9c179e\"], [0.4444444444444444, \"#bd3786\"], [0.5555555555555556, \"#d8576b\"], [0.6666666666666666, \"#ed7953\"], [0.7777777777777778, \"#fb9f3a\"], [0.8888888888888888, \"#fdca26\"], [1.0, \"#f0f921\"]], \"type\": \"surface\"}], \"table\": [{\"cells\": {\"fill\": {\"color\": \"#EBF0F8\"}, \"line\": {\"color\": \"white\"}}, \"header\": {\"fill\": {\"color\": \"#C8D4E3\"}, \"line\": {\"color\": \"white\"}}, \"type\": \"table\"}]}, \"layout\": {\"annotationdefaults\": {\"arrowcolor\": \"#2a3f5f\", \"arrowhead\": 0, \"arrowwidth\": 1}, \"coloraxis\": {\"colorbar\": {\"outlinewidth\": 0, \"ticks\": \"\"}}, \"colorscale\": {\"diverging\": [[0, \"#8e0152\"], [0.1, \"#c51b7d\"], [0.2, \"#de77ae\"], [0.3, \"#f1b6da\"], [0.4, \"#fde0ef\"], [0.5, \"#f7f7f7\"], [0.6, \"#e6f5d0\"], [0.7, \"#b8e186\"], [0.8, \"#7fbc41\"], [0.9, \"#4d9221\"], [1, \"#276419\"]], \"sequential\": [[0.0, \"#0d0887\"], [0.1111111111111111, \"#46039f\"], [0.2222222222222222, \"#7201a8\"], [0.3333333333333333, \"#9c179e\"], [0.4444444444444444, \"#bd3786\"], [0.5555555555555556, \"#d8576b\"], [0.6666666666666666, \"#ed7953\"], [0.7777777777777778, \"#fb9f3a\"], [0.8888888888888888, \"#fdca26\"], [1.0, \"#f0f921\"]], \"sequentialminus\": [[0.0, \"#0d0887\"], [0.1111111111111111, \"#46039f\"], [0.2222222222222222, \"#7201a8\"], [0.3333333333333333, \"#9c179e\"], [0.4444444444444444, \"#bd3786\"], [0.5555555555555556, \"#d8576b\"], [0.6666666666666666, \"#ed7953\"], [0.7777777777777778, \"#fb9f3a\"], [0.8888888888888888, \"#fdca26\"], [1.0, \"#f0f921\"]]}, \"colorway\": [\"#636efa\", \"#EF553B\", \"#00cc96\", \"#ab63fa\", \"#FFA15A\", \"#19d3f3\", \"#FF6692\", \"#B6E880\", \"#FF97FF\", \"#FECB52\"], \"font\": {\"color\": \"#2a3f5f\"}, \"geo\": {\"bgcolor\": \"white\", \"lakecolor\": \"white\", \"landcolor\": \"#E5ECF6\", \"showlakes\": true, \"showland\": true, \"subunitcolor\": \"white\"}, \"hoverlabel\": {\"align\": \"left\"}, \"hovermode\": \"closest\", \"mapbox\": {\"style\": \"light\"}, \"paper_bgcolor\": \"white\", \"plot_bgcolor\": \"#E5ECF6\", \"polar\": {\"angularaxis\": {\"gridcolor\": \"white\", \"linecolor\": \"white\", \"ticks\": \"\"}, \"bgcolor\": \"#E5ECF6\", \"radialaxis\": {\"gridcolor\": \"white\", \"linecolor\": \"white\", \"ticks\": \"\"}}, \"scene\": {\"xaxis\": {\"backgroundcolor\": \"#E5ECF6\", \"gridcolor\": \"white\", \"gridwidth\": 2, \"linecolor\": \"white\", \"showbackground\": true, \"ticks\": \"\", \"zerolinecolor\": \"white\"}, \"yaxis\": {\"backgroundcolor\": \"#E5ECF6\", \"gridcolor\": \"white\", \"gridwidth\": 2, \"linecolor\": \"white\", \"showbackground\": true, \"ticks\": \"\", \"zerolinecolor\": \"white\"}, \"zaxis\": {\"backgroundcolor\": \"#E5ECF6\", \"gridcolor\": \"white\", \"gridwidth\": 2, \"linecolor\": \"white\", \"showbackground\": true, \"ticks\": \"\", \"zerolinecolor\": \"white\"}}, \"shapedefaults\": {\"line\": {\"color\": \"#2a3f5f\"}}, \"ternary\": {\"aaxis\": {\"gridcolor\": \"white\", \"linecolor\": \"white\", \"ticks\": \"\"}, \"baxis\": {\"gridcolor\": \"white\", \"linecolor\": \"white\", \"ticks\": \"\"}, \"bgcolor\": \"#E5ECF6\", \"caxis\": {\"gridcolor\": \"white\", \"linecolor\": \"white\", \"ticks\": \"\"}}, \"title\": {\"x\": 0.05}, \"xaxis\": {\"automargin\": true, \"gridcolor\": \"white\", \"linecolor\": \"white\", \"ticks\": \"\", \"title\": {\"standoff\": 15}, \"zerolinecolor\": \"white\", \"zerolinewidth\": 2}, \"yaxis\": {\"automargin\": true, \"gridcolor\": \"white\", \"linecolor\": \"white\", \"ticks\": \"\", \"title\": {\"standoff\": 15}, \"zerolinecolor\": \"white\", \"zerolinewidth\": 2}}}, \"title\": {\"text\": \"Parameter Tunings Mean Absolute Percentage Error: Multivariate Confirmed Cases\", \"x\": 0.5}, \"width\": 1200},\n",
              "                        {\"responsive\": true}\n",
              "                    ).then(function(){\n",
              "                            \n",
              "var gd = document.getElementById('8c89d68a-8c18-48d8-af57-9e68ec662bd5');\n",
              "var x = new MutationObserver(function (mutations, observer) {{\n",
              "        var display = window.getComputedStyle(gd).display;\n",
              "        if (!display || display === 'none') {{\n",
              "            console.log([gd, 'removed!']);\n",
              "            Plotly.purge(gd);\n",
              "            observer.disconnect();\n",
              "        }}\n",
              "}});\n",
              "\n",
              "// Listen for the removal of the full notebook cells\n",
              "var notebookContainer = gd.closest('#notebook-container');\n",
              "if (notebookContainer) {{\n",
              "    x.observe(notebookContainer, {childList: true});\n",
              "}}\n",
              "\n",
              "// Listen for the clearing of the current output cell\n",
              "var outputEl = gd.closest('.output');\n",
              "if (outputEl) {{\n",
              "    x.observe(outputEl, {childList: true});\n",
              "}}\n",
              "\n",
              "                        })\n",
              "                };\n",
              "                \n",
              "            </script>\n",
              "        </div>\n",
              "</body>\n",
              "</html>"
            ]
          },
          "metadata": {}
        }
      ]
    },
    {
      "cell_type": "markdown",
      "metadata": {
        "id": "IK3yRqT4EFQB"
      },
      "source": [
        "#### Multivariate Confirmed Deaths"
      ]
    },
    {
      "cell_type": "code",
      "metadata": {
        "colab": {
          "base_uri": "https://localhost:8080/",
          "height": 737
        },
        "id": "8O32Pm3WEFQB",
        "outputId": "ecef670b-ae37-400d-d328-d119a679810b"
      },
      "source": [
        "fig = go.Figure(data=[go.Table(header=dict(values=['Model', 'Kernel size', 'Pool', '2 Nodes','4 Nodes', '8 Nodes', '16 Nodes', '32 Nodes',\n",
        "                                                   \"64 Nodes\", '128 Nodes', '256 Nodes', '512 Nodes' , '1024 Nodes'],\n",
        "                                           line_color = 'gray'),\n",
        "                               cells=dict(values=[['LSTM', 'GRU', 'RNNs', 'CNN',\n",
        "                                                   'CNN', 'CNN', 'CNN', 'CNN', 'CNN'],\n",
        "                                                  ['-', '-', '-', '3', '5', '7', '3', '5', '7'],\n",
        "                                                  ['-', '-', '-', '2', '2', '2', '3', '3', '3'],\n",
        "                                    [round(lstm_d_multi_parks[0],3), \n",
        "                                     round(gru_d_multi_parks[0],3),\n",
        "                                     round(rnn_d_multi_parks[0],3), \n",
        "                                     round(cnn_d_multi_parks.iloc[0,0],3),\n",
        "                                     round(cnn_d_multi_parks.iloc[0,1],3),\n",
        "                                     round(cnn_d_multi_parks.iloc[0,2],3),\n",
        "                                     round(cnn_d_multi_parks.iloc[0,3],3),\n",
        "                                     round(cnn_d_multi_parks.iloc[0,4],3),\n",
        "                                     round(cnn_d_multi_parks.iloc[0,5],3)],\n",
        "                                     [round(lstm_d_multi_parks[1],3), \n",
        "                                     round(gru_d_multi_parks[1],3),\n",
        "                                     round(rnn_d_multi_parks[1],3), \n",
        "                                     round(cnn_d_multi_parks.iloc[1,0],3),\n",
        "                                     round(cnn_d_multi_parks.iloc[1,1],3),\n",
        "                                     round(cnn_d_multi_parks.iloc[1,2],3),\n",
        "                                     round(cnn_d_multi_parks.iloc[1,3],3),\n",
        "                                     round(cnn_d_multi_parks.iloc[1,4],3),\n",
        "                                     round(cnn_d_multi_parks.iloc[1,5],3)],\n",
        "                                     [round(lstm_d_multi_parks[2],3), \n",
        "                                     round(gru_d_multi_parks[2],3),\n",
        "                                     round(rnn_d_multi_parks[2],3), \n",
        "                                     round(cnn_d_multi_parks.iloc[2,0],3),\n",
        "                                     round(cnn_d_multi_parks.iloc[2,1],3),\n",
        "                                     round(cnn_d_multi_parks.iloc[2,2],3),\n",
        "                                     round(cnn_d_multi_parks.iloc[2,3],3),\n",
        "                                     round(cnn_d_multi_parks.iloc[2,4],3),\n",
        "                                     round(cnn_d_multi_parks.iloc[2,5],3)],\n",
        "                                     [round(lstm_d_multi_parks[3],3), \n",
        "                                     round(gru_d_multi_parks[3],3),\n",
        "                                     round(rnn_d_multi_parks[3],3), \n",
        "                                     round(cnn_d_multi_parks.iloc[3,0],3),\n",
        "                                     round(cnn_d_multi_parks.iloc[3,1],3),\n",
        "                                     round(cnn_d_multi_parks.iloc[3,2],3),\n",
        "                                     round(cnn_d_multi_parks.iloc[3,3],3),\n",
        "                                     round(cnn_d_multi_parks.iloc[3,4],3),\n",
        "                                     round(cnn_d_multi_parks.iloc[3,5],3)],\n",
        "                                     [round(lstm_d_multi_parks[4],3), \n",
        "                                     round(gru_d_multi_parks[4],3),\n",
        "                                     round(rnn_d_multi_parks[4],3), \n",
        "                                     round(cnn_d_multi_parks.iloc[4,0],3),\n",
        "                                     round(cnn_d_multi_parks.iloc[4,1],3),\n",
        "                                     round(cnn_d_multi_parks.iloc[4,2],3),\n",
        "                                     round(cnn_d_multi_parks.iloc[4,3],3),\n",
        "                                     round(cnn_d_multi_parks.iloc[4,4],3),\n",
        "                                     round(cnn_d_multi_parks.iloc[4,5],3)],\n",
        "                                     [round(lstm_d_multi_parks[5],3), \n",
        "                                     round(gru_d_multi_parks[5],3),\n",
        "                                     round(rnn_d_multi_parks[5],3), \n",
        "                                     round(cnn_d_multi_parks.iloc[5,0],3),\n",
        "                                     round(cnn_d_multi_parks.iloc[5,1],3),\n",
        "                                     round(cnn_d_multi_parks.iloc[5,2],3),\n",
        "                                     round(cnn_d_multi_parks.iloc[5,3],3),\n",
        "                                     round(cnn_d_multi_parks.iloc[5,4],3),\n",
        "                                     round(cnn_d_multi_parks.iloc[5,5],3)],\n",
        "                                     [round(lstm_d_multi_parks[6],3), \n",
        "                                     round(gru_d_multi_parks[6],3),\n",
        "                                     round(rnn_d_multi_parks[6],3), \n",
        "                                     round(cnn_d_multi_parks.iloc[6,0],3),\n",
        "                                     round(cnn_d_multi_parks.iloc[6,1],3),\n",
        "                                     round(cnn_d_multi_parks.iloc[6,2],3),\n",
        "                                     round(cnn_d_multi_parks.iloc[6,3],3),\n",
        "                                     round(cnn_d_multi_parks.iloc[6,4],3),\n",
        "                                     round(cnn_d_multi_parks.iloc[6,5],3)],\n",
        "                                     [round(lstm_d_multi_parks[7],3), \n",
        "                                     round(gru_d_multi_parks[7],3),\n",
        "                                     round(rnn_d_multi_parks[7],3), \n",
        "                                     round(cnn_d_multi_parks.iloc[7,0],3),\n",
        "                                     round(cnn_d_multi_parks.iloc[7,1],3),\n",
        "                                     round(cnn_d_multi_parks.iloc[7,2],3),\n",
        "                                     round(cnn_d_multi_parks.iloc[7,3],3),\n",
        "                                     round(cnn_d_multi_parks.iloc[7,4],3),\n",
        "                                     round(cnn_d_multi_parks.iloc[7,5],3)],\n",
        "                                     [round(lstm_d_multi_parks[8],3), \n",
        "                                     round(gru_d_multi_parks[8],3),\n",
        "                                     round(rnn_d_multi_parks[8],3), \n",
        "                                     round(cnn_d_multi_parks.iloc[8,0],3),\n",
        "                                     round(cnn_d_multi_parks.iloc[8,1],3),\n",
        "                                     round(cnn_d_multi_parks.iloc[8,2],3),\n",
        "                                     round(cnn_d_multi_parks.iloc[8,3],3),\n",
        "                                     round(cnn_d_multi_parks.iloc[8,4],3),\n",
        "                                     round(cnn_d_multi_parks.iloc[8,5],3)],\n",
        "                                     [round(lstm_d_multi_parks[9],3), \n",
        "                                     round(gru_d_multi_parks[9],3),\n",
        "                                     round(rnn_d_multi_parks[9],3), \n",
        "                                     round(cnn_d_multi_parks.iloc[9,0],3),\n",
        "                                     round(cnn_d_multi_parks.iloc[9,1],3),\n",
        "                                     round(cnn_d_multi_parks.iloc[9,2],3),\n",
        "                                     round(cnn_d_multi_parks.iloc[9,3],3),\n",
        "                                     round(cnn_d_multi_parks.iloc[9,4],3),\n",
        "                                     round(cnn_d_multi_parks.iloc[9,5],3)]],\n",
        "                            align=['left','center', 'center', \n",
        "                                   'right','right','right',\n",
        "                                   'right','right','right',\n",
        "                                   'right','right','right','right'],\n",
        "                            fill_color = 'white',\n",
        "                            line_color = 'gray'))\n",
        "                     ])\n",
        "fig.update_layout(title = \"Parameter Tunings Mean Absolute Percentage Error: Multivariate Confirmed Deaths\",\n",
        "                  title_x=0.5, height = 700, width = 1200)\n",
        "fig.show()"
      ],
      "execution_count": null,
      "outputs": [
        {
          "output_type": "display_data",
          "data": {
            "text/html": [
              "<html>\n",
              "<head><meta charset=\"utf-8\" /></head>\n",
              "<body>\n",
              "    <div>\n",
              "            <script src=\"https://cdnjs.cloudflare.com/ajax/libs/mathjax/2.7.5/MathJax.js?config=TeX-AMS-MML_SVG\"></script><script type=\"text/javascript\">if (window.MathJax) {MathJax.Hub.Config({SVG: {font: \"STIX-Web\"}});}</script>\n",
              "                <script type=\"text/javascript\">window.PlotlyConfig = {MathJaxConfig: 'local'};</script>\n",
              "        <script src=\"https://cdn.plot.ly/plotly-latest.min.js\"></script>    \n",
              "            <div id=\"a783c3f0-a495-43a3-9378-bcfc6fda4c12\" class=\"plotly-graph-div\" style=\"height:700px; width:1200px;\"></div>\n",
              "            <script type=\"text/javascript\">\n",
              "                \n",
              "                    window.PLOTLYENV=window.PLOTLYENV || {};\n",
              "                    \n",
              "                if (document.getElementById(\"a783c3f0-a495-43a3-9378-bcfc6fda4c12\")) {\n",
              "                    Plotly.newPlot(\n",
              "                        'a783c3f0-a495-43a3-9378-bcfc6fda4c12',\n",
              "                        [{\"cells\": {\"align\": [\"left\", \"center\", \"center\", \"right\", \"right\", \"right\", \"right\", \"right\", \"right\", \"right\", \"right\", \"right\", \"right\"], \"fill\": {\"color\": \"white\"}, \"line\": {\"color\": \"gray\"}, \"values\": [[\"LSTM\", \"GRU\", \"RNNs\", \"CNN\", \"CNN\", \"CNN\", \"CNN\", \"CNN\", \"CNN\"], [\"-\", \"-\", \"-\", \"3\", \"5\", \"7\", \"3\", \"5\", \"7\"], [\"-\", \"-\", \"-\", \"2\", \"2\", \"2\", \"3\", \"3\", \"3\"], [11.051, 8.288, 21.925, 11.876, 9.633, 9.899, 10.973, 10.114, 98.123], [20.885, 98.116, 7.645, 11.831, 11.175, 11.152, 10.595, 11.376, 9.871], [5.462, 7.615, 15.915, 9.407, 7.93, 9.677, 9.108, 9.834, 10.436], [9.86, 10.678, 7.199, 9.226, 7.996, 7.882, 8.603, 9.03, 8.948], [5.187, 5.67, 5.62, 8.03, 7.895, 7.288, 8.044, 8.747, 8.955], [8.839, 6.442, 7.624, 5.932, 6.798, 6.844, 6.947, 7.356, 7.455], [9.329, 5.549, 5.61, 5.722, 6.938, 6.773, 5.952, 7.535, 8.042], [8.23, 5.63, 7.605, 5.188, 6.464, 7.233, 5.896, 6.691, 8.05], [7.153, 7.4, 7.733, 4.709, 6.535, 7.936, 5.187, 6.431, 8.23], [7.683, 5.744, 14.382, 7.27, 7.179, 7.452, 5.995, 7.399, 8.401]]}, \"header\": {\"line\": {\"color\": \"gray\"}, \"values\": [\"Model\", \"Kernel size\", \"Pool\", \"2 Nodes\", \"4 Nodes\", \"8 Nodes\", \"16 Nodes\", \"32 Nodes\", \"64 Nodes\", \"128 Nodes\", \"256 Nodes\", \"512 Nodes\", \"1024 Nodes\"]}, \"type\": \"table\"}],\n",
              "                        {\"height\": 700, \"template\": {\"data\": {\"bar\": [{\"error_x\": {\"color\": \"#2a3f5f\"}, \"error_y\": {\"color\": \"#2a3f5f\"}, \"marker\": {\"line\": {\"color\": \"#E5ECF6\", \"width\": 0.5}}, \"type\": \"bar\"}], \"barpolar\": [{\"marker\": {\"line\": {\"color\": \"#E5ECF6\", \"width\": 0.5}}, \"type\": \"barpolar\"}], \"carpet\": [{\"aaxis\": {\"endlinecolor\": \"#2a3f5f\", \"gridcolor\": \"white\", \"linecolor\": \"white\", \"minorgridcolor\": \"white\", \"startlinecolor\": \"#2a3f5f\"}, \"baxis\": {\"endlinecolor\": \"#2a3f5f\", \"gridcolor\": \"white\", \"linecolor\": \"white\", \"minorgridcolor\": \"white\", \"startlinecolor\": \"#2a3f5f\"}, \"type\": \"carpet\"}], \"choropleth\": [{\"colorbar\": {\"outlinewidth\": 0, \"ticks\": \"\"}, \"type\": \"choropleth\"}], \"contour\": [{\"colorbar\": {\"outlinewidth\": 0, \"ticks\": \"\"}, \"colorscale\": [[0.0, \"#0d0887\"], [0.1111111111111111, \"#46039f\"], [0.2222222222222222, \"#7201a8\"], [0.3333333333333333, \"#9c179e\"], [0.4444444444444444, \"#bd3786\"], [0.5555555555555556, \"#d8576b\"], [0.6666666666666666, \"#ed7953\"], [0.7777777777777778, \"#fb9f3a\"], [0.8888888888888888, \"#fdca26\"], [1.0, \"#f0f921\"]], \"type\": \"contour\"}], \"contourcarpet\": [{\"colorbar\": {\"outlinewidth\": 0, \"ticks\": \"\"}, \"type\": \"contourcarpet\"}], \"heatmap\": [{\"colorbar\": {\"outlinewidth\": 0, \"ticks\": \"\"}, \"colorscale\": [[0.0, \"#0d0887\"], [0.1111111111111111, \"#46039f\"], [0.2222222222222222, \"#7201a8\"], [0.3333333333333333, \"#9c179e\"], [0.4444444444444444, \"#bd3786\"], [0.5555555555555556, \"#d8576b\"], [0.6666666666666666, \"#ed7953\"], [0.7777777777777778, \"#fb9f3a\"], [0.8888888888888888, \"#fdca26\"], [1.0, \"#f0f921\"]], \"type\": \"heatmap\"}], \"heatmapgl\": [{\"colorbar\": {\"outlinewidth\": 0, \"ticks\": \"\"}, \"colorscale\": [[0.0, \"#0d0887\"], [0.1111111111111111, \"#46039f\"], [0.2222222222222222, \"#7201a8\"], [0.3333333333333333, \"#9c179e\"], [0.4444444444444444, \"#bd3786\"], [0.5555555555555556, \"#d8576b\"], [0.6666666666666666, \"#ed7953\"], [0.7777777777777778, \"#fb9f3a\"], [0.8888888888888888, \"#fdca26\"], [1.0, \"#f0f921\"]], \"type\": \"heatmapgl\"}], \"histogram\": [{\"marker\": {\"colorbar\": {\"outlinewidth\": 0, \"ticks\": \"\"}}, \"type\": \"histogram\"}], \"histogram2d\": [{\"colorbar\": {\"outlinewidth\": 0, \"ticks\": \"\"}, \"colorscale\": [[0.0, \"#0d0887\"], [0.1111111111111111, \"#46039f\"], [0.2222222222222222, \"#7201a8\"], [0.3333333333333333, \"#9c179e\"], [0.4444444444444444, \"#bd3786\"], [0.5555555555555556, \"#d8576b\"], [0.6666666666666666, \"#ed7953\"], [0.7777777777777778, \"#fb9f3a\"], [0.8888888888888888, \"#fdca26\"], [1.0, \"#f0f921\"]], \"type\": \"histogram2d\"}], \"histogram2dcontour\": [{\"colorbar\": {\"outlinewidth\": 0, \"ticks\": \"\"}, \"colorscale\": [[0.0, \"#0d0887\"], [0.1111111111111111, \"#46039f\"], [0.2222222222222222, \"#7201a8\"], [0.3333333333333333, \"#9c179e\"], [0.4444444444444444, \"#bd3786\"], [0.5555555555555556, \"#d8576b\"], [0.6666666666666666, \"#ed7953\"], [0.7777777777777778, \"#fb9f3a\"], [0.8888888888888888, \"#fdca26\"], [1.0, \"#f0f921\"]], \"type\": \"histogram2dcontour\"}], \"mesh3d\": [{\"colorbar\": {\"outlinewidth\": 0, \"ticks\": \"\"}, \"type\": \"mesh3d\"}], \"parcoords\": [{\"line\": {\"colorbar\": {\"outlinewidth\": 0, \"ticks\": \"\"}}, \"type\": \"parcoords\"}], \"pie\": [{\"automargin\": true, \"type\": \"pie\"}], \"scatter\": [{\"marker\": {\"colorbar\": {\"outlinewidth\": 0, \"ticks\": \"\"}}, \"type\": \"scatter\"}], \"scatter3d\": [{\"line\": {\"colorbar\": {\"outlinewidth\": 0, \"ticks\": \"\"}}, \"marker\": {\"colorbar\": {\"outlinewidth\": 0, \"ticks\": \"\"}}, \"type\": \"scatter3d\"}], \"scattercarpet\": [{\"marker\": {\"colorbar\": {\"outlinewidth\": 0, \"ticks\": \"\"}}, \"type\": \"scattercarpet\"}], \"scattergeo\": [{\"marker\": {\"colorbar\": {\"outlinewidth\": 0, \"ticks\": \"\"}}, \"type\": \"scattergeo\"}], \"scattergl\": [{\"marker\": {\"colorbar\": {\"outlinewidth\": 0, \"ticks\": \"\"}}, \"type\": \"scattergl\"}], \"scattermapbox\": [{\"marker\": {\"colorbar\": {\"outlinewidth\": 0, \"ticks\": \"\"}}, \"type\": \"scattermapbox\"}], \"scatterpolar\": [{\"marker\": {\"colorbar\": {\"outlinewidth\": 0, \"ticks\": \"\"}}, \"type\": \"scatterpolar\"}], \"scatterpolargl\": [{\"marker\": {\"colorbar\": {\"outlinewidth\": 0, \"ticks\": \"\"}}, \"type\": \"scatterpolargl\"}], \"scatterternary\": [{\"marker\": {\"colorbar\": {\"outlinewidth\": 0, \"ticks\": \"\"}}, \"type\": \"scatterternary\"}], \"surface\": [{\"colorbar\": {\"outlinewidth\": 0, \"ticks\": \"\"}, \"colorscale\": [[0.0, \"#0d0887\"], [0.1111111111111111, \"#46039f\"], [0.2222222222222222, \"#7201a8\"], [0.3333333333333333, \"#9c179e\"], [0.4444444444444444, \"#bd3786\"], [0.5555555555555556, \"#d8576b\"], [0.6666666666666666, \"#ed7953\"], [0.7777777777777778, \"#fb9f3a\"], [0.8888888888888888, \"#fdca26\"], [1.0, \"#f0f921\"]], \"type\": \"surface\"}], \"table\": [{\"cells\": {\"fill\": {\"color\": \"#EBF0F8\"}, \"line\": {\"color\": \"white\"}}, \"header\": {\"fill\": {\"color\": \"#C8D4E3\"}, \"line\": {\"color\": \"white\"}}, \"type\": \"table\"}]}, \"layout\": {\"annotationdefaults\": {\"arrowcolor\": \"#2a3f5f\", \"arrowhead\": 0, \"arrowwidth\": 1}, \"coloraxis\": {\"colorbar\": {\"outlinewidth\": 0, \"ticks\": \"\"}}, \"colorscale\": {\"diverging\": [[0, \"#8e0152\"], [0.1, \"#c51b7d\"], [0.2, \"#de77ae\"], [0.3, \"#f1b6da\"], [0.4, \"#fde0ef\"], [0.5, \"#f7f7f7\"], [0.6, \"#e6f5d0\"], [0.7, \"#b8e186\"], [0.8, \"#7fbc41\"], [0.9, \"#4d9221\"], [1, \"#276419\"]], \"sequential\": [[0.0, \"#0d0887\"], [0.1111111111111111, \"#46039f\"], [0.2222222222222222, \"#7201a8\"], [0.3333333333333333, \"#9c179e\"], [0.4444444444444444, \"#bd3786\"], [0.5555555555555556, \"#d8576b\"], [0.6666666666666666, \"#ed7953\"], [0.7777777777777778, \"#fb9f3a\"], [0.8888888888888888, \"#fdca26\"], [1.0, \"#f0f921\"]], \"sequentialminus\": [[0.0, \"#0d0887\"], [0.1111111111111111, \"#46039f\"], [0.2222222222222222, \"#7201a8\"], [0.3333333333333333, \"#9c179e\"], [0.4444444444444444, \"#bd3786\"], [0.5555555555555556, \"#d8576b\"], [0.6666666666666666, \"#ed7953\"], [0.7777777777777778, \"#fb9f3a\"], [0.8888888888888888, \"#fdca26\"], [1.0, \"#f0f921\"]]}, \"colorway\": [\"#636efa\", \"#EF553B\", \"#00cc96\", \"#ab63fa\", \"#FFA15A\", \"#19d3f3\", \"#FF6692\", \"#B6E880\", \"#FF97FF\", \"#FECB52\"], \"font\": {\"color\": \"#2a3f5f\"}, \"geo\": {\"bgcolor\": \"white\", \"lakecolor\": \"white\", \"landcolor\": \"#E5ECF6\", \"showlakes\": true, \"showland\": true, \"subunitcolor\": \"white\"}, \"hoverlabel\": {\"align\": \"left\"}, \"hovermode\": \"closest\", \"mapbox\": {\"style\": \"light\"}, \"paper_bgcolor\": \"white\", \"plot_bgcolor\": \"#E5ECF6\", \"polar\": {\"angularaxis\": {\"gridcolor\": \"white\", \"linecolor\": \"white\", \"ticks\": \"\"}, \"bgcolor\": \"#E5ECF6\", \"radialaxis\": {\"gridcolor\": \"white\", \"linecolor\": \"white\", \"ticks\": \"\"}}, \"scene\": {\"xaxis\": {\"backgroundcolor\": \"#E5ECF6\", \"gridcolor\": \"white\", \"gridwidth\": 2, \"linecolor\": \"white\", \"showbackground\": true, \"ticks\": \"\", \"zerolinecolor\": \"white\"}, \"yaxis\": {\"backgroundcolor\": \"#E5ECF6\", \"gridcolor\": \"white\", \"gridwidth\": 2, \"linecolor\": \"white\", \"showbackground\": true, \"ticks\": \"\", \"zerolinecolor\": \"white\"}, \"zaxis\": {\"backgroundcolor\": \"#E5ECF6\", \"gridcolor\": \"white\", \"gridwidth\": 2, \"linecolor\": \"white\", \"showbackground\": true, \"ticks\": \"\", \"zerolinecolor\": \"white\"}}, \"shapedefaults\": {\"line\": {\"color\": \"#2a3f5f\"}}, \"ternary\": {\"aaxis\": {\"gridcolor\": \"white\", \"linecolor\": \"white\", \"ticks\": \"\"}, \"baxis\": {\"gridcolor\": \"white\", \"linecolor\": \"white\", \"ticks\": \"\"}, \"bgcolor\": \"#E5ECF6\", \"caxis\": {\"gridcolor\": \"white\", \"linecolor\": \"white\", \"ticks\": \"\"}}, \"title\": {\"x\": 0.05}, \"xaxis\": {\"automargin\": true, \"gridcolor\": \"white\", \"linecolor\": \"white\", \"ticks\": \"\", \"title\": {\"standoff\": 15}, \"zerolinecolor\": \"white\", \"zerolinewidth\": 2}, \"yaxis\": {\"automargin\": true, \"gridcolor\": \"white\", \"linecolor\": \"white\", \"ticks\": \"\", \"title\": {\"standoff\": 15}, \"zerolinecolor\": \"white\", \"zerolinewidth\": 2}}}, \"title\": {\"text\": \"Parameter Tunings Mean Absolute Percentage Error: Multivariate Confirmed Deaths\", \"x\": 0.5}, \"width\": 1200},\n",
              "                        {\"responsive\": true}\n",
              "                    ).then(function(){\n",
              "                            \n",
              "var gd = document.getElementById('a783c3f0-a495-43a3-9378-bcfc6fda4c12');\n",
              "var x = new MutationObserver(function (mutations, observer) {{\n",
              "        var display = window.getComputedStyle(gd).display;\n",
              "        if (!display || display === 'none') {{\n",
              "            console.log([gd, 'removed!']);\n",
              "            Plotly.purge(gd);\n",
              "            observer.disconnect();\n",
              "        }}\n",
              "}});\n",
              "\n",
              "// Listen for the removal of the full notebook cells\n",
              "var notebookContainer = gd.closest('#notebook-container');\n",
              "if (notebookContainer) {{\n",
              "    x.observe(notebookContainer, {childList: true});\n",
              "}}\n",
              "\n",
              "// Listen for the clearing of the current output cell\n",
              "var outputEl = gd.closest('.output');\n",
              "if (outputEl) {{\n",
              "    x.observe(outputEl, {childList: true});\n",
              "}}\n",
              "\n",
              "                        })\n",
              "                };\n",
              "                \n",
              "            </script>\n",
              "        </div>\n",
              "</body>\n",
              "</html>"
            ]
          },
          "metadata": {}
        }
      ]
    },
    {
      "cell_type": "markdown",
      "metadata": {
        "id": "B9_e0D7kEFQC"
      },
      "source": [
        "## Training and Validation\n",
        "\n",
        "---\n",
        "\n",
        "After models were selected, using the training data set, we adjusted and trained the models to get the prediction with the lowest MAPE. We, then, used test samples for model validations and combined predicted values from both training and test sets together. This was only for illustration purpose.\n"
      ]
    },
    {
      "cell_type": "markdown",
      "metadata": {
        "id": "f_pcBTkqEFQC"
      },
      "source": [
        "### Multivariate Confirmed Cases"
      ]
    },
    {
      "cell_type": "code",
      "metadata": {
        "colab": {
          "base_uri": "https://localhost:8080/"
        },
        "id": "HEKuTLYFEFQC",
        "outputId": "6696f88a-c061-41ba-e162-7b7b45b04839"
      },
      "source": [
        "seed(1)\n",
        "tensorflow.random.set_seed(1)\n",
        "\n",
        "# model_multi_parks_i = Sequential()\n",
        "# model_multi_parks_i.add(Conv1D(filters = 128, kernel_size = 3, activation='relu', input_shape=(X_i_tr_parks.shape[1], X_i_tr_parks.shape[2])))\n",
        "# model_multi_parks_i.add(MaxPooling1D(pool_size = 2))\n",
        "# model_multi_parks_i.add(Flatten())\n",
        "# # model_multi_parks_i.add(Dense(4, activation = \"relu\"))\n",
        "# model_multi_parks_i.add(Dense(1, activation = \"linear\"))\n",
        "# model_multi_parks_i.compile(loss='mse', optimizer='adam', metrics = \"MAPE\")\n",
        "\n",
        "model_multi_parks_i = Sequential()\n",
        "model_multi_parks_i.add(SimpleRNN(512, activation='relu', input_shape=(X_i_tr_parks.shape[1], X_i_tr_parks.shape[2])))\n",
        "model_multi_parks_i.add(Dense(1, activation = \"linear\"))\n",
        "model_multi_parks_i.compile(loss='mse', optimizer='adam', metrics = \"MAPE\")\n",
        "\n",
        "# fit network\n",
        "model_multi_parks_i.fit(X_i_tr_parks, y_i_tr, \n",
        "                           epochs=50, \n",
        "                           batch_size=1, \n",
        "                           verbose=0, \n",
        "                           shuffle=False)\n",
        "\n",
        "\n",
        "scores_multi_parks_i1 = model_multi_parks_i.evaluate(X_i_tr_parks, y_i_tr, verbose=0)\n",
        "\n",
        "# MAPE\n",
        "print(\"MAPE: training = \",scores_multi_parks_i1[1])\n",
        "\n",
        "scores_multi_parks_i = model_multi_parks_i.evaluate(X_i_ts_parks, y_i_ts, verbose=0)\n",
        "\n",
        "# MAPE\n",
        "print(\"MAPE: test = \",scores_multi_parks_i[1])"
      ],
      "execution_count": null,
      "outputs": [
        {
          "output_type": "stream",
          "name": "stdout",
          "text": [
            "MAPE: training =  3.1707143783569336\n",
            "MAPE: test =  8.190573692321777\n"
          ]
        }
      ]
    },
    {
      "cell_type": "code",
      "metadata": {
        "id": "Rtz0HzaaEFQC"
      },
      "source": [
        "# make a prediction\n",
        "# training set\n",
        "y_multi_parks_i_tr = pd.DataFrame(model_multi_parks_i.predict(X_i_tr_parks))\n",
        "\n",
        "# test set\n",
        "y_multi_parks_i_ts = pd.DataFrame(model_multi_parks_i.predict(X_i_ts_parks))\n",
        "\n",
        "# combine training and test predictions\n",
        "y_multi_parks_i_total = pd.concat([y_multi_parks_i_tr, y_multi_parks_i_ts], ignore_index=True)\n"
      ],
      "execution_count": null,
      "outputs": []
    },
    {
      "cell_type": "markdown",
      "metadata": {
        "id": "cMjUdMF1EFQC"
      },
      "source": [
        "### Multivariate Confirmed Deaths"
      ]
    },
    {
      "cell_type": "code",
      "metadata": {
        "colab": {
          "base_uri": "https://localhost:8080/"
        },
        "id": "1L1Aq6HHEFQC",
        "outputId": "f0840066-ebfd-48a1-e5c4-0c816454a091"
      },
      "source": [
        "seed(1)\n",
        "tensorflow.random.set_seed(1)\n",
        "\n",
        "model_multi_parks_d = Sequential()\n",
        "model_multi_parks_d.add(LSTM(32, activation = 'relu', input_shape=(X_d_tr_parks.shape[1], X_d_tr_parks.shape[2])))\n",
        "# model_multi_parks_d.add(Dense(4, activation = \"relu\"))\n",
        "model_multi_parks_d.add(Dense(1, activation = \"linear\"))\n",
        "model_multi_parks_d.compile(loss='mse', optimizer='adam', metrics = \"MAPE\")\n",
        "\n",
        "# model_multi_parks_d = Sequential()\n",
        "# model_multi_parks_d.add(Conv1D(32, kernel_size = 3, activation = 'relu', input_shape=(X_d_tr_parks.shape[1], X_d_tr_parks.shape[2])))\n",
        "# model_multi_parks_d.add(MaxPooling1D(2))\n",
        "# model_multi_parks_d.add(Flatten())\n",
        "# # model_multi_parks_d.add(Dense(4, activation = \"relu\"))\n",
        "# model_multi_parks_d.add(Dense(1, activation = \"linear\"))\n",
        "# model_multi_parks_d.compile(loss='mse', optimizer='adam', metrics = \"MAPE\")\n",
        "\n",
        "# fit network\n",
        "model_multi_parks_d.fit(X_d_tr_parks, y_d_tr, \n",
        "                           epochs=50, \n",
        "                           batch_size=1, \n",
        "                           verbose=0, \n",
        "                           shuffle=False)\n",
        "\n",
        "scores_multi_parks_d1 = model_multi_parks_d.evaluate(X_d_tr_parks, y_d_tr, verbose=0)\n",
        "\n",
        "# MAPE\n",
        "print(\"MAPE: training = \",scores_multi_parks_d1[1])\n",
        "\n",
        "scores_multi_parks_d = model_multi_parks_d.evaluate(X_d_ts_parks, y_d_ts, verbose=0)\n",
        "\n",
        "# MAPE\n",
        "print(\"MAPE: test = \",scores_multi_parks_d[1])"
      ],
      "execution_count": null,
      "outputs": [
        {
          "output_type": "stream",
          "name": "stdout",
          "text": [
            "MAPE: training =  5.685268402099609\n",
            "MAPE: test =  28.855693817138672\n"
          ]
        }
      ]
    },
    {
      "cell_type": "code",
      "metadata": {
        "id": "EjOO63T4EFQD"
      },
      "source": [
        "# make a prediction\n",
        "# training set\n",
        "y_multi_parks_d_tr = pd.DataFrame(model_multi_parks_d.predict(X_d_tr_parks))\n",
        "\n",
        "# test set\n",
        "y_multi_parks_d_ts = pd.DataFrame(model_multi_parks_d.predict(X_d_ts_parks))\n",
        "\n",
        "# combine training and test predictions\n",
        "y_multi_parks_d_total = pd.concat([y_multi_parks_d_tr, y_multi_parks_d_ts], ignore_index=True)\n"
      ],
      "execution_count": null,
      "outputs": []
    },
    {
      "cell_type": "code",
      "metadata": {
        "id": "-88qw_9TEFQE"
      },
      "source": [
        "multi_in = \"RNNs\"\n",
        "multi_de = \"LSTM\"\n",
        "tick_spacing = 5\n",
        "date_test = data['Date'][0+index+lag-1]"
      ],
      "execution_count": null,
      "outputs": []
    },
    {
      "cell_type": "markdown",
      "metadata": {
        "id": "D610Yb76EFQE"
      },
      "source": [
        "### Plots"
      ]
    },
    {
      "cell_type": "code",
      "metadata": {
        "colab": {
          "base_uri": "https://localhost:8080/",
          "height": 333
        },
        "id": "7uznVp1uEFQF",
        "outputId": "0971297f-81c4-449d-eaf6-d430c0358483"
      },
      "source": [
        "infect = pd.concat([y_multi_parks_i_total,\n",
        "                   data.Cases_daily.iloc[lag:].reset_index(drop = True), \n",
        "                   data.Date.iloc[lag:].reset_index(drop = True)],\n",
        "                   axis=1)\n",
        "infect.columns = ['multi_i', 'actual', 'Date']\n",
        "\n",
        "infect.dropna(subset = ['multi_i', 'actual', 'Date'], inplace=True)\n",
        "\n",
        "plt.plot(infect['Date'],infect['multi_i'], label = \"Predicted\")\n",
        "plt.plot(infect['Date'],infect['actual'], label = \"Actual\")\n",
        "plt.legend(frameon=False, loc='upper center', ncol = 2, fontsize = 'x-large')\n",
        "plt.title(\"Google: Retail Predicts Confirmed Cases\", fontsize = 'xx-large')\n",
        "plt.tick_params('x',labelrotation=90)\n",
        "plt.axvline(date_test, color=\"gray\", linestyle=\"--\")\n",
        "plt.grid(True, which='both', alpha=0.3)"
      ],
      "execution_count": null,
      "outputs": [
        {
          "output_type": "display_data",
          "data": {
            "image/png": "[encoded data removed]",
            "text/plain": [
              "<Figure size 432x288 with 1 Axes>"
            ]
          },
          "metadata": {
            "needs_background": "light"
          }
        }
      ]
    },
    {
      "cell_type": "code",
      "metadata": {
        "colab": {
          "base_uri": "https://localhost:8080/",
          "height": 333
        },
        "id": "JBeCsCIdEFQF",
        "outputId": "a193e6f3-1200-45ba-8717-f6303a17d386"
      },
      "source": [
        "death = pd.concat([y_multi_parks_d_total,\n",
        "                   data.Deaths_daily.iloc[lag:].reset_index(drop = True), \n",
        "                   data.Date.iloc[lag:].reset_index(drop = True)],\n",
        "                  axis=1)\n",
        "death.columns = ['multi_d', 'actual', 'Date']\n",
        "\n",
        "death.dropna(subset = ['multi_d', 'actual', 'Date'], inplace=True)\n",
        "\n",
        "\n",
        "plt.plot(death['Date'],death['multi_d'], label = \"Predicted\")\n",
        "plt.plot(death['Date'],death['actual'], label = \"Actual\")\n",
        "plt.legend(frameon=False, loc='upper center', ncol = 2, fontsize = 'x-large')\n",
        "plt.title(\"Google: Retail Predicts Confirmed Deaths\", fontsize = 'xx-large')\n",
        "plt.tick_params('x',labelrotation=90)\n",
        "plt.axvline(date_test, color=\"gray\", linestyle=\"--\")\n",
        "plt.grid(True, which='both', alpha=0.3)\n"
      ],
      "execution_count": null,
      "outputs": [
        {
          "output_type": "display_data",
          "data": {
            "image/png": "[encoded data removed]",
            "text/plain": [
              "<Figure size 432x288 with 1 Axes>"
            ]
          },
          "metadata": {
            "needs_background": "light"
          }
        }
      ]
    },
    {
      "cell_type": "markdown",
      "metadata": {
        "id": "vJlhnqNKEFQF"
      },
      "source": [
        "### Result Table"
      ]
    },
    {
      "cell_type": "code",
      "metadata": {
        "colab": {
          "base_uri": "https://localhost:8080/",
          "height": 542
        },
        "id": "yvWv_TJgEFQF",
        "outputId": "e35375e0-b952-4941-b230-72b9513c05a5"
      },
      "source": [
        "fig = go.Figure(data=[go.Table(header=dict(values=['Model Type', 'Best Model', 'Training', 'Test'],\n",
        "                                           line_color = 'gray'),\n",
        "                               cells=dict(values=[['Multivariate: Confirmed Cases',\n",
        "                                                   'Multivariate: Confirmed Deaths'],\n",
        "                                                  [multi_in, multi_de],\n",
        "                                    [round(scores_multi_parks_i1[1],3), round(scores_multi_parks_d1[1],3)],\n",
        "                                    [round(scores_multi_parks_i[1],3), round(scores_multi_parks_d[1],3)]],\n",
        "                            align=['left','center', 'center', 'center'],\n",
        "                            fill_color = 'white',\n",
        "                            line_color = 'gray'))\n",
        "                     ])\n",
        "fig.update_layout(title = \"Mean Absolute Percentage Error\",title_x=0.5)\n",
        "fig.show()"
      ],
      "execution_count": null,
      "outputs": [
        {
          "output_type": "display_data",
          "data": {
            "text/html": [
              "<html>\n",
              "<head><meta charset=\"utf-8\" /></head>\n",
              "<body>\n",
              "    <div>\n",
              "            <script src=\"https://cdnjs.cloudflare.com/ajax/libs/mathjax/2.7.5/MathJax.js?config=TeX-AMS-MML_SVG\"></script><script type=\"text/javascript\">if (window.MathJax) {MathJax.Hub.Config({SVG: {font: \"STIX-Web\"}});}</script>\n",
              "                <script type=\"text/javascript\">window.PlotlyConfig = {MathJaxConfig: 'local'};</script>\n",
              "        <script src=\"https://cdn.plot.ly/plotly-latest.min.js\"></script>    \n",
              "            <div id=\"f5219465-f555-40ab-b4bb-4773b6840409\" class=\"plotly-graph-div\" style=\"height:525px; width:100%;\"></div>\n",
              "            <script type=\"text/javascript\">\n",
              "                \n",
              "                    window.PLOTLYENV=window.PLOTLYENV || {};\n",
              "                    \n",
              "                if (document.getElementById(\"f5219465-f555-40ab-b4bb-4773b6840409\")) {\n",
              "                    Plotly.newPlot(\n",
              "                        'f5219465-f555-40ab-b4bb-4773b6840409',\n",
              "                        [{\"cells\": {\"align\": [\"left\", \"center\", \"center\", \"center\"], \"fill\": {\"color\": \"white\"}, \"line\": {\"color\": \"gray\"}, \"values\": [[\"Multivariate: Confirmed Cases\", \"Multivariate: Confirmed Deaths\"], [\"RNNs\", \"LSTM\"], [3.171, 5.685], [8.191, 28.856]]}, \"header\": {\"line\": {\"color\": \"gray\"}, \"values\": [\"Model Type\", \"Best Model\", \"Training\", \"Test\"]}, \"type\": \"table\"}],\n",
              "                        {\"template\": {\"data\": {\"bar\": [{\"error_x\": {\"color\": \"#2a3f5f\"}, \"error_y\": {\"color\": \"#2a3f5f\"}, \"marker\": {\"line\": {\"color\": \"#E5ECF6\", \"width\": 0.5}}, \"type\": \"bar\"}], \"barpolar\": [{\"marker\": {\"line\": {\"color\": \"#E5ECF6\", \"width\": 0.5}}, \"type\": \"barpolar\"}], \"carpet\": [{\"aaxis\": {\"endlinecolor\": \"#2a3f5f\", \"gridcolor\": \"white\", \"linecolor\": \"white\", \"minorgridcolor\": \"white\", \"startlinecolor\": \"#2a3f5f\"}, \"baxis\": {\"endlinecolor\": \"#2a3f5f\", \"gridcolor\": \"white\", \"linecolor\": \"white\", \"minorgridcolor\": \"white\", \"startlinecolor\": \"#2a3f5f\"}, \"type\": \"carpet\"}], \"choropleth\": [{\"colorbar\": {\"outlinewidth\": 0, \"ticks\": \"\"}, \"type\": \"choropleth\"}], \"contour\": [{\"colorbar\": {\"outlinewidth\": 0, \"ticks\": \"\"}, \"colorscale\": [[0.0, \"#0d0887\"], [0.1111111111111111, \"#46039f\"], [0.2222222222222222, \"#7201a8\"], [0.3333333333333333, \"#9c179e\"], [0.4444444444444444, \"#bd3786\"], [0.5555555555555556, \"#d8576b\"], [0.6666666666666666, \"#ed7953\"], [0.7777777777777778, \"#fb9f3a\"], [0.8888888888888888, \"#fdca26\"], [1.0, \"#f0f921\"]], \"type\": \"contour\"}], \"contourcarpet\": [{\"colorbar\": {\"outlinewidth\": 0, \"ticks\": \"\"}, \"type\": \"contourcarpet\"}], \"heatmap\": [{\"colorbar\": {\"outlinewidth\": 0, \"ticks\": \"\"}, \"colorscale\": [[0.0, \"#0d0887\"], [0.1111111111111111, \"#46039f\"], [0.2222222222222222, \"#7201a8\"], [0.3333333333333333, \"#9c179e\"], [0.4444444444444444, \"#bd3786\"], [0.5555555555555556, \"#d8576b\"], [0.6666666666666666, \"#ed7953\"], [0.7777777777777778, \"#fb9f3a\"], [0.8888888888888888, \"#fdca26\"], [1.0, \"#f0f921\"]], \"type\": \"heatmap\"}], \"heatmapgl\": [{\"colorbar\": {\"outlinewidth\": 0, \"ticks\": \"\"}, \"colorscale\": [[0.0, \"#0d0887\"], [0.1111111111111111, \"#46039f\"], [0.2222222222222222, \"#7201a8\"], [0.3333333333333333, \"#9c179e\"], [0.4444444444444444, \"#bd3786\"], [0.5555555555555556, \"#d8576b\"], [0.6666666666666666, \"#ed7953\"], [0.7777777777777778, \"#fb9f3a\"], [0.8888888888888888, \"#fdca26\"], [1.0, \"#f0f921\"]], \"type\": \"heatmapgl\"}], \"histogram\": [{\"marker\": {\"colorbar\": {\"outlinewidth\": 0, \"ticks\": \"\"}}, \"type\": \"histogram\"}], \"histogram2d\": [{\"colorbar\": {\"outlinewidth\": 0, \"ticks\": \"\"}, \"colorscale\": [[0.0, \"#0d0887\"], [0.1111111111111111, \"#46039f\"], [0.2222222222222222, \"#7201a8\"], [0.3333333333333333, \"#9c179e\"], [0.4444444444444444, \"#bd3786\"], [0.5555555555555556, \"#d8576b\"], [0.6666666666666666, \"#ed7953\"], [0.7777777777777778, \"#fb9f3a\"], [0.8888888888888888, \"#fdca26\"], [1.0, \"#f0f921\"]], \"type\": \"histogram2d\"}], \"histogram2dcontour\": [{\"colorbar\": {\"outlinewidth\": 0, \"ticks\": \"\"}, \"colorscale\": [[0.0, \"#0d0887\"], [0.1111111111111111, \"#46039f\"], [0.2222222222222222, \"#7201a8\"], [0.3333333333333333, \"#9c179e\"], [0.4444444444444444, \"#bd3786\"], [0.5555555555555556, \"#d8576b\"], [0.6666666666666666, \"#ed7953\"], [0.7777777777777778, \"#fb9f3a\"], [0.8888888888888888, \"#fdca26\"], [1.0, \"#f0f921\"]], \"type\": \"histogram2dcontour\"}], \"mesh3d\": [{\"colorbar\": {\"outlinewidth\": 0, \"ticks\": \"\"}, \"type\": \"mesh3d\"}], \"parcoords\": [{\"line\": {\"colorbar\": {\"outlinewidth\": 0, \"ticks\": \"\"}}, \"type\": \"parcoords\"}], \"pie\": [{\"automargin\": true, \"type\": \"pie\"}], \"scatter\": [{\"marker\": {\"colorbar\": {\"outlinewidth\": 0, \"ticks\": \"\"}}, \"type\": \"scatter\"}], \"scatter3d\": [{\"line\": {\"colorbar\": {\"outlinewidth\": 0, \"ticks\": \"\"}}, \"marker\": {\"colorbar\": {\"outlinewidth\": 0, \"ticks\": \"\"}}, \"type\": \"scatter3d\"}], \"scattercarpet\": [{\"marker\": {\"colorbar\": {\"outlinewidth\": 0, \"ticks\": \"\"}}, \"type\": \"scattercarpet\"}], \"scattergeo\": [{\"marker\": {\"colorbar\": {\"outlinewidth\": 0, \"ticks\": \"\"}}, \"type\": \"scattergeo\"}], \"scattergl\": [{\"marker\": {\"colorbar\": {\"outlinewidth\": 0, \"ticks\": \"\"}}, \"type\": \"scattergl\"}], \"scattermapbox\": [{\"marker\": {\"colorbar\": {\"outlinewidth\": 0, \"ticks\": \"\"}}, \"type\": \"scattermapbox\"}], \"scatterpolar\": [{\"marker\": {\"colorbar\": {\"outlinewidth\": 0, \"ticks\": \"\"}}, \"type\": \"scatterpolar\"}], \"scatterpolargl\": [{\"marker\": {\"colorbar\": {\"outlinewidth\": 0, \"ticks\": \"\"}}, \"type\": \"scatterpolargl\"}], \"scatterternary\": [{\"marker\": {\"colorbar\": {\"outlinewidth\": 0, \"ticks\": \"\"}}, \"type\": \"scatterternary\"}], \"surface\": [{\"colorbar\": {\"outlinewidth\": 0, \"ticks\": \"\"}, \"colorscale\": [[0.0, \"#0d0887\"], [0.1111111111111111, \"#46039f\"], [0.2222222222222222, \"#7201a8\"], [0.3333333333333333, \"#9c179e\"], [0.4444444444444444, \"#bd3786\"], [0.5555555555555556, \"#d8576b\"], [0.6666666666666666, \"#ed7953\"], [0.7777777777777778, \"#fb9f3a\"], [0.8888888888888888, \"#fdca26\"], [1.0, \"#f0f921\"]], \"type\": \"surface\"}], \"table\": [{\"cells\": {\"fill\": {\"color\": \"#EBF0F8\"}, \"line\": {\"color\": \"white\"}}, \"header\": {\"fill\": {\"color\": \"#C8D4E3\"}, \"line\": {\"color\": \"white\"}}, \"type\": \"table\"}]}, \"layout\": {\"annotationdefaults\": {\"arrowcolor\": \"#2a3f5f\", \"arrowhead\": 0, \"arrowwidth\": 1}, \"coloraxis\": {\"colorbar\": {\"outlinewidth\": 0, \"ticks\": \"\"}}, \"colorscale\": {\"diverging\": [[0, \"#8e0152\"], [0.1, \"#c51b7d\"], [0.2, \"#de77ae\"], [0.3, \"#f1b6da\"], [0.4, \"#fde0ef\"], [0.5, \"#f7f7f7\"], [0.6, \"#e6f5d0\"], [0.7, \"#b8e186\"], [0.8, \"#7fbc41\"], [0.9, \"#4d9221\"], [1, \"#276419\"]], \"sequential\": [[0.0, \"#0d0887\"], [0.1111111111111111, \"#46039f\"], [0.2222222222222222, \"#7201a8\"], [0.3333333333333333, \"#9c179e\"], [0.4444444444444444, \"#bd3786\"], [0.5555555555555556, \"#d8576b\"], [0.6666666666666666, \"#ed7953\"], [0.7777777777777778, \"#fb9f3a\"], [0.8888888888888888, \"#fdca26\"], [1.0, \"#f0f921\"]], \"sequentialminus\": [[0.0, \"#0d0887\"], [0.1111111111111111, \"#46039f\"], [0.2222222222222222, \"#7201a8\"], [0.3333333333333333, \"#9c179e\"], [0.4444444444444444, \"#bd3786\"], [0.5555555555555556, \"#d8576b\"], [0.6666666666666666, \"#ed7953\"], [0.7777777777777778, \"#fb9f3a\"], [0.8888888888888888, \"#fdca26\"], [1.0, \"#f0f921\"]]}, \"colorway\": [\"#636efa\", \"#EF553B\", \"#00cc96\", \"#ab63fa\", \"#FFA15A\", \"#19d3f3\", \"#FF6692\", \"#B6E880\", \"#FF97FF\", \"#FECB52\"], \"font\": {\"color\": \"#2a3f5f\"}, \"geo\": {\"bgcolor\": \"white\", \"lakecolor\": \"white\", \"landcolor\": \"#E5ECF6\", \"showlakes\": true, \"showland\": true, \"subunitcolor\": \"white\"}, \"hoverlabel\": {\"align\": \"left\"}, \"hovermode\": \"closest\", \"mapbox\": {\"style\": \"light\"}, \"paper_bgcolor\": \"white\", \"plot_bgcolor\": \"#E5ECF6\", \"polar\": {\"angularaxis\": {\"gridcolor\": \"white\", \"linecolor\": \"white\", \"ticks\": \"\"}, \"bgcolor\": \"#E5ECF6\", \"radialaxis\": {\"gridcolor\": \"white\", \"linecolor\": \"white\", \"ticks\": \"\"}}, \"scene\": {\"xaxis\": {\"backgroundcolor\": \"#E5ECF6\", \"gridcolor\": \"white\", \"gridwidth\": 2, \"linecolor\": \"white\", \"showbackground\": true, \"ticks\": \"\", \"zerolinecolor\": \"white\"}, \"yaxis\": {\"backgroundcolor\": \"#E5ECF6\", \"gridcolor\": \"white\", \"gridwidth\": 2, \"linecolor\": \"white\", \"showbackground\": true, \"ticks\": \"\", \"zerolinecolor\": \"white\"}, \"zaxis\": {\"backgroundcolor\": \"#E5ECF6\", \"gridcolor\": \"white\", \"gridwidth\": 2, \"linecolor\": \"white\", \"showbackground\": true, \"ticks\": \"\", \"zerolinecolor\": \"white\"}}, \"shapedefaults\": {\"line\": {\"color\": \"#2a3f5f\"}}, \"ternary\": {\"aaxis\": {\"gridcolor\": \"white\", \"linecolor\": \"white\", \"ticks\": \"\"}, \"baxis\": {\"gridcolor\": \"white\", \"linecolor\": \"white\", \"ticks\": \"\"}, \"bgcolor\": \"#E5ECF6\", \"caxis\": {\"gridcolor\": \"white\", \"linecolor\": \"white\", \"ticks\": \"\"}}, \"title\": {\"x\": 0.05}, \"xaxis\": {\"automargin\": true, \"gridcolor\": \"white\", \"linecolor\": \"white\", \"ticks\": \"\", \"title\": {\"standoff\": 15}, \"zerolinecolor\": \"white\", \"zerolinewidth\": 2}, \"yaxis\": {\"automargin\": true, \"gridcolor\": \"white\", \"linecolor\": \"white\", \"ticks\": \"\", \"title\": {\"standoff\": 15}, \"zerolinecolor\": \"white\", \"zerolinewidth\": 2}}}, \"title\": {\"text\": \"Mean Absolute Percentage Error\", \"x\": 0.5}},\n",
              "                        {\"responsive\": true}\n",
              "                    ).then(function(){\n",
              "                            \n",
              "var gd = document.getElementById('f5219465-f555-40ab-b4bb-4773b6840409');\n",
              "var x = new MutationObserver(function (mutations, observer) {{\n",
              "        var display = window.getComputedStyle(gd).display;\n",
              "        if (!display || display === 'none') {{\n",
              "            console.log([gd, 'removed!']);\n",
              "            Plotly.purge(gd);\n",
              "            observer.disconnect();\n",
              "        }}\n",
              "}});\n",
              "\n",
              "// Listen for the removal of the full notebook cells\n",
              "var notebookContainer = gd.closest('#notebook-container');\n",
              "if (notebookContainer) {{\n",
              "    x.observe(notebookContainer, {childList: true});\n",
              "}}\n",
              "\n",
              "// Listen for the clearing of the current output cell\n",
              "var outputEl = gd.closest('.output');\n",
              "if (outputEl) {{\n",
              "    x.observe(outputEl, {childList: true});\n",
              "}}\n",
              "\n",
              "                        })\n",
              "                };\n",
              "                \n",
              "            </script>\n",
              "        </div>\n",
              "</body>\n",
              "</html>"
            ]
          },
          "metadata": {}
        }
      ]
    },
    {
      "cell_type": "markdown",
      "metadata": {
        "id": "hBJzkuIpFDv8"
      },
      "source": [
        "# Transit"
      ]
    },
    {
      "cell_type": "markdown",
      "metadata": {
        "id": "rx36y6EUFDv9"
      },
      "source": [
        "## Analysis\n",
        "\n",
        "---\n",
        "\n",
        "\n",
        "\n",
        "### Hyperparameters Tuning\n",
        "\n",
        "\n",
        "Using the training set matrices for confirmed cases and confirmed deaths and univiariate and multivariate, we tuned for the most optimal numbers of parameters, staring from basic architectures. In this case, we searched for numbers of nodes for LSTM, GRU, and RNNs, and filter, kernel size, and pool for CNN. In the input layer, we added instance normalization to make all values between 0 and 1. Since we were dealing with some data that we had never seen before and the data seemed to be non-stationary, instance normalization might provide more advantages than typical standardization or normalization. The numbers of nodes that we used for our LSTM, GRU, and RNNs experiments were 4, 8, 16, 32, 64, 128, 256, 512, and 1024. Similarly, we used the same pool for CNN filter with kernel size of 3, 5 and 7, and pool of 2 and 3. The activation function for this hidden layer was sigmoid. Next, we added another instance normalization. Finally, the output layer contained one node and Linear activation function. Epoch and batch size were 50 and 1, respectively. We used mean squared error (MSE) as our loss function, ADAM optimization and mean absolute percentage error (MAPE) as a metric for model evaluation.\n"
      ]
    },
    {
      "cell_type": "markdown",
      "metadata": {
        "id": "maTinn8NFDv9"
      },
      "source": [
        "### CNN"
      ]
    },
    {
      "cell_type": "code",
      "metadata": {
        "colab": {
          "base_uri": "https://localhost:8080/"
        },
        "id": "Q0EbPB9rFDv-",
        "outputId": "2cef1bed-a608-40f4-91b9-7ab142b23ec0"
      },
      "source": [
        "# Multivariate CNN confirmed cases\n",
        "\n",
        "kernel = [3, 5, 7]\n",
        "pool = [2]\n",
        "cnn_i_multi_transit = list()\n",
        "\n",
        "for i in kernel:\n",
        "  for j in pool: \n",
        "    score = list()\n",
        "    kernel_size, pool = [i],[j]\n",
        "    score = run_experiment(filter, kernel_size, pool,X_i_tr_transit, y_i_tr)\n",
        "    cnn_i_multi_transit.append(score)\n",
        "\n",
        "pool = [3]\n",
        "\n",
        "for i in kernel:\n",
        "  for j in pool: \n",
        "    kernel_size, pool = [i],[j]\n",
        "    score = run_experiment(filter, kernel_size, pool, X_i_tr_transit, y_i_tr)\n",
        "    cnn_i_multi_transit.append(score)\n",
        "\n",
        "cnn_i_multi_transit = pd.DataFrame(cnn_i_multi_transit).T\n",
        "cnn_i_multi_transit.columns = ['k3p2', 'k5p2','k7p2', 'k3p3', 'k5p3', 'k7p3']"
      ],
      "execution_count": null,
      "outputs": [
        {
          "output_type": "stream",
          "name": "stdout",
          "text": [
            "filter = 2, kernel size = 3, pooling size = 2: 5.479\n",
            "filter = 4, kernel size = 3, pooling size = 2: 5.474\n",
            "filter = 8, kernel size = 3, pooling size = 2: 5.766\n",
            "filter = 16, kernel size = 3, pooling size = 2: 4.419\n",
            "filter = 32, kernel size = 3, pooling size = 2: 4.264\n",
            "filter = 64, kernel size = 3, pooling size = 2: 3.800\n",
            "filter = 128, kernel size = 3, pooling size = 2: 3.837\n",
            "filter = 256, kernel size = 3, pooling size = 2: 4.516\n",
            "filter = 512, kernel size = 3, pooling size = 2: 4.866\n",
            "filter = 1024, kernel size = 3, pooling size = 2: 5.301\n",
            "filter = 2, kernel size = 5, pooling size = 2: 5.552\n",
            "filter = 4, kernel size = 5, pooling size = 2: 4.680\n",
            "filter = 8, kernel size = 5, pooling size = 2: 4.436\n",
            "filter = 16, kernel size = 5, pooling size = 2: 3.326\n",
            "filter = 32, kernel size = 5, pooling size = 2: 4.345\n",
            "filter = 64, kernel size = 5, pooling size = 2: 4.048\n",
            "filter = 128, kernel size = 5, pooling size = 2: 3.912\n",
            "filter = 256, kernel size = 5, pooling size = 2: 4.438\n",
            "filter = 512, kernel size = 5, pooling size = 2: 5.150\n",
            "filter = 1024, kernel size = 5, pooling size = 2: 6.851\n",
            "filter = 2, kernel size = 7, pooling size = 2: 5.630\n",
            "filter = 4, kernel size = 7, pooling size = 2: 5.190\n",
            "filter = 8, kernel size = 7, pooling size = 2: 5.978\n",
            "filter = 16, kernel size = 7, pooling size = 2: 4.897\n",
            "filter = 32, kernel size = 7, pooling size = 2: 4.935\n",
            "filter = 64, kernel size = 7, pooling size = 2: 4.045\n",
            "filter = 128, kernel size = 7, pooling size = 2: 4.360\n",
            "filter = 256, kernel size = 7, pooling size = 2: 4.461\n",
            "filter = 512, kernel size = 7, pooling size = 2: 4.855\n",
            "filter = 1024, kernel size = 7, pooling size = 2: 6.389\n",
            "filter = 2, kernel size = 3, pooling size = 3: 5.565\n",
            "filter = 4, kernel size = 3, pooling size = 3: 4.698\n",
            "filter = 8, kernel size = 3, pooling size = 3: 4.306\n",
            "filter = 16, kernel size = 3, pooling size = 3: 4.661\n",
            "filter = 32, kernel size = 3, pooling size = 3: 4.295\n",
            "filter = 64, kernel size = 3, pooling size = 3: 4.327\n",
            "filter = 128, kernel size = 3, pooling size = 3: 3.923\n",
            "filter = 256, kernel size = 3, pooling size = 3: 3.907\n",
            "filter = 512, kernel size = 3, pooling size = 3: 4.436\n",
            "filter = 1024, kernel size = 3, pooling size = 3: 6.312\n",
            "filter = 2, kernel size = 5, pooling size = 3: 5.520\n",
            "filter = 4, kernel size = 5, pooling size = 3: 5.480\n",
            "filter = 8, kernel size = 5, pooling size = 3: 4.978\n",
            "filter = 16, kernel size = 5, pooling size = 3: 4.616\n",
            "filter = 32, kernel size = 5, pooling size = 3: 5.111\n",
            "filter = 64, kernel size = 5, pooling size = 3: 4.986\n",
            "filter = 128, kernel size = 5, pooling size = 3: 4.367\n",
            "filter = 256, kernel size = 5, pooling size = 3: 4.575\n",
            "filter = 512, kernel size = 5, pooling size = 3: 4.942\n",
            "filter = 1024, kernel size = 5, pooling size = 3: 5.550\n",
            "filter = 2, kernel size = 7, pooling size = 3: 99.984\n",
            "filter = 4, kernel size = 7, pooling size = 3: 5.747\n",
            "filter = 8, kernel size = 7, pooling size = 3: 6.178\n",
            "filter = 16, kernel size = 7, pooling size = 3: 4.932\n",
            "filter = 32, kernel size = 7, pooling size = 3: 5.798\n",
            "filter = 64, kernel size = 7, pooling size = 3: 4.927\n",
            "filter = 128, kernel size = 7, pooling size = 3: 4.610\n",
            "filter = 256, kernel size = 7, pooling size = 3: 4.623\n",
            "filter = 512, kernel size = 7, pooling size = 3: 4.911\n",
            "filter = 1024, kernel size = 7, pooling size = 3: 5.552\n"
          ]
        }
      ]
    },
    {
      "cell_type": "code",
      "metadata": {
        "colab": {
          "base_uri": "https://localhost:8080/"
        },
        "id": "eF2mQr40FDv-",
        "outputId": "811f8086-8f87-4cef-be9b-810e9e9e135f"
      },
      "source": [
        "# Multivariate CNN confirmed deaths\n",
        "\n",
        "pool = [2]\n",
        "cnn_d_multi_transit = list()\n",
        "\n",
        "for i in kernel:\n",
        "  for j in pool:\n",
        "    score = list() \n",
        "    kernel_size, pool = [i],[j]\n",
        "    score = run_experiment(filter, kernel_size, pool, X_d_tr_transit, y_d_tr)\n",
        "    cnn_d_multi_transit.append(score)\n",
        "\n",
        "pool = [3]\n",
        "\n",
        "for i in kernel:\n",
        "  for j in pool: \n",
        "    score = list()\n",
        "    kernel_size, pool = [i],[j]\n",
        "    score = run_experiment(filter, kernel_size, pool, X_d_tr_transit, y_d_tr)\n",
        "    cnn_d_multi_transit.append(score)\n",
        "\n",
        "cnn_d_multi_transit = pd.DataFrame(cnn_d_multi_transit).T\n",
        "cnn_d_multi_transit.columns = ['k3p2', 'k3p3','k5p2', 'k7p2', 'k5p3', 'k7p3']"
      ],
      "execution_count": null,
      "outputs": [
        {
          "output_type": "stream",
          "name": "stdout",
          "text": [
            "filter = 2, kernel size = 3, pooling size = 2: 12.574\n",
            "filter = 4, kernel size = 3, pooling size = 2: 12.311\n",
            "filter = 8, kernel size = 3, pooling size = 2: 8.375\n",
            "filter = 16, kernel size = 3, pooling size = 2: 9.900\n",
            "filter = 32, kernel size = 3, pooling size = 2: 8.563\n",
            "filter = 64, kernel size = 3, pooling size = 2: 6.561\n",
            "filter = 128, kernel size = 3, pooling size = 2: 6.391\n",
            "filter = 256, kernel size = 3, pooling size = 2: 5.721\n",
            "filter = 512, kernel size = 3, pooling size = 2: 5.071\n",
            "filter = 1024, kernel size = 3, pooling size = 2: 6.358\n",
            "filter = 2, kernel size = 5, pooling size = 2: 9.900\n",
            "filter = 4, kernel size = 5, pooling size = 2: 11.924\n",
            "filter = 8, kernel size = 5, pooling size = 2: 7.821\n",
            "filter = 16, kernel size = 5, pooling size = 2: 7.318\n",
            "filter = 32, kernel size = 5, pooling size = 2: 8.131\n",
            "filter = 64, kernel size = 5, pooling size = 2: 7.019\n",
            "filter = 128, kernel size = 5, pooling size = 2: 7.089\n",
            "filter = 256, kernel size = 5, pooling size = 2: 6.502\n",
            "filter = 512, kernel size = 5, pooling size = 2: 6.775\n",
            "filter = 1024, kernel size = 5, pooling size = 2: 7.930\n",
            "filter = 2, kernel size = 7, pooling size = 2: 10.153\n",
            "filter = 4, kernel size = 7, pooling size = 2: 11.326\n",
            "filter = 8, kernel size = 7, pooling size = 2: 9.122\n",
            "filter = 16, kernel size = 7, pooling size = 2: 8.088\n",
            "filter = 32, kernel size = 7, pooling size = 2: 7.350\n",
            "filter = 64, kernel size = 7, pooling size = 2: 7.196\n",
            "filter = 128, kernel size = 7, pooling size = 2: 7.356\n",
            "filter = 256, kernel size = 7, pooling size = 2: 7.725\n",
            "filter = 512, kernel size = 7, pooling size = 2: 8.067\n",
            "filter = 1024, kernel size = 7, pooling size = 2: 8.102\n",
            "filter = 2, kernel size = 3, pooling size = 3: 11.922\n",
            "filter = 4, kernel size = 3, pooling size = 3: 10.765\n",
            "filter = 8, kernel size = 3, pooling size = 3: 9.723\n",
            "filter = 16, kernel size = 3, pooling size = 3: 9.201\n",
            "filter = 32, kernel size = 3, pooling size = 3: 9.071\n",
            "filter = 64, kernel size = 3, pooling size = 3: 7.638\n",
            "filter = 128, kernel size = 3, pooling size = 3: 7.034\n",
            "filter = 256, kernel size = 3, pooling size = 3: 6.562\n",
            "filter = 512, kernel size = 3, pooling size = 3: 5.440\n",
            "filter = 1024, kernel size = 3, pooling size = 3: 5.853\n",
            "filter = 2, kernel size = 5, pooling size = 3: 10.730\n",
            "filter = 4, kernel size = 5, pooling size = 3: 11.875\n",
            "filter = 8, kernel size = 5, pooling size = 3: 9.550\n",
            "filter = 16, kernel size = 5, pooling size = 3: 8.292\n",
            "filter = 32, kernel size = 5, pooling size = 3: 8.412\n",
            "filter = 64, kernel size = 5, pooling size = 3: 7.800\n",
            "filter = 128, kernel size = 5, pooling size = 3: 8.298\n",
            "filter = 256, kernel size = 5, pooling size = 3: 7.533\n",
            "filter = 512, kernel size = 5, pooling size = 3: 7.408\n",
            "filter = 1024, kernel size = 5, pooling size = 3: 7.394\n",
            "filter = 2, kernel size = 7, pooling size = 3: 98.122\n",
            "filter = 4, kernel size = 7, pooling size = 3: 9.547\n",
            "filter = 8, kernel size = 7, pooling size = 3: 10.731\n",
            "filter = 16, kernel size = 7, pooling size = 3: 8.868\n",
            "filter = 32, kernel size = 7, pooling size = 3: 9.163\n",
            "filter = 64, kernel size = 7, pooling size = 3: 7.731\n",
            "filter = 128, kernel size = 7, pooling size = 3: 8.095\n",
            "filter = 256, kernel size = 7, pooling size = 3: 8.255\n",
            "filter = 512, kernel size = 7, pooling size = 3: 7.981\n",
            "filter = 1024, kernel size = 7, pooling size = 3: 8.175\n"
          ]
        }
      ]
    },
    {
      "cell_type": "markdown",
      "metadata": {
        "id": "_b2Sy3uqFDv_"
      },
      "source": [
        "### LSTM"
      ]
    },
    {
      "cell_type": "code",
      "metadata": {
        "id": "R-4lTZPyFDwB"
      },
      "source": [
        "def evaluate_lstm(trainX, trainy, units):\n",
        "    seed(1)\n",
        "    tensorflow.random.set_seed(1)\n",
        "\n",
        "    verbose, epochs, batch_size = 0, 50, 1\n",
        "    n_timesteps, n_features = trainX.shape[1], trainX.shape[2]\n",
        "\n",
        "    model = Sequential()\n",
        "    model.add(LSTM(units = units, activation='relu', input_shape=(n_timesteps,n_features)))\n",
        "    model.add(Dense(1, activation='linear'))\n",
        "    model.compile(loss='mse', optimizer='adam', metrics=['MAPE'])\n",
        "  \n",
        "    # fit network\n",
        "    model.fit(trainX, trainy, epochs=epochs, batch_size=batch_size, verbose=verbose, shuffle = False)\n",
        "    # evaluate model\n",
        "    _, accuracy = model.evaluate(trainX, trainy, batch_size=batch_size, verbose=0)\n",
        "    return accuracy\n",
        "\n",
        "\n",
        "# # Univariate LSTM confirmed cases\n",
        "units = [2, 4,8,16,32,64,128,256,512, 1024]\n",
        "\n",
        "\n",
        "# Multivariate LSTM confirmed cases\n",
        "\n",
        "lstm_i_multi_transit = list()\n",
        "\n",
        "for i in units:\n",
        "  score = list()\n",
        "  score = evaluate_lstm(X_i_tr_transit, y_i_tr, i)\n",
        "  lstm_i_multi_transit.append(score)\n",
        "\n",
        "\n",
        "\n",
        "# Multivariate LSTM confirmed deaths\n",
        "\n",
        "lstm_d_multi_transit = list()\n",
        "\n",
        "for i in units:\n",
        "  score = list()\n",
        "  score = evaluate_lstm(X_d_tr_grocery, y_d_tr, i)\n",
        "  lstm_d_multi_transit.append(score)"
      ],
      "execution_count": null,
      "outputs": []
    },
    {
      "cell_type": "markdown",
      "metadata": {
        "id": "yn-0thsRFDwB"
      },
      "source": [
        "### GRU"
      ]
    },
    {
      "cell_type": "code",
      "metadata": {
        "id": "TlZuy2cVFDwC"
      },
      "source": [
        "def evaluate_gru(trainX, trainy, units):\n",
        "    seed(1)\n",
        "    tensorflow.random.set_seed(1)\n",
        "\n",
        "    verbose, epochs, batch_size = 0, 50, 1\n",
        "    n_timesteps, n_features = trainX.shape[1], trainX.shape[2]\n",
        "\n",
        "    model = Sequential()\n",
        "    model.add(GRU(units = units, activation='relu', input_shape=(n_timesteps,n_features)))\n",
        "    model.add(Dense(1, activation='linear'))\n",
        "    model.compile(loss='mse', optimizer='adam', metrics=['MAPE'])\n",
        "  \n",
        "    # fit network\n",
        "    model.fit(trainX, trainy, epochs=epochs, batch_size=batch_size, verbose=verbose, shuffle = False)\n",
        "    # evaluate model\n",
        "    _, accuracy = model.evaluate(trainX, trainy, batch_size=batch_size, verbose=0)\n",
        "    return accuracy\n",
        "\n",
        "# Multivariate GRU confirmed cases\n",
        "\n",
        "gru_i_multi_transit = list()\n",
        "\n",
        "for i in units:\n",
        "  score = list()\n",
        "  score = evaluate_gru(X_i_tr_transit, y_i_tr, i)\n",
        "  gru_i_multi_transit.append(score)\n",
        "\n",
        "\n",
        "# Multivariate GRU confirmed deaths\n",
        "\n",
        "gru_d_multi_transit = list()\n",
        "\n",
        "for i in units:\n",
        "  score = list()\n",
        "  score = evaluate_gru(X_d_tr_transit, y_d_tr, i)\n",
        "  gru_d_multi_transit.append(score)"
      ],
      "execution_count": null,
      "outputs": []
    },
    {
      "cell_type": "markdown",
      "metadata": {
        "id": "MbvQS7nxFDwC"
      },
      "source": [
        "### RNNs"
      ]
    },
    {
      "cell_type": "code",
      "metadata": {
        "id": "5_uvIP-LFDwC"
      },
      "source": [
        "def evaluate_rnn(trainX, trainy, units):\n",
        "    seed(1)\n",
        "    tensorflow.random.set_seed(1)\n",
        "\n",
        "    verbose, epochs, batch_size = 0, 50, 1\n",
        "    n_timesteps, n_features = trainX.shape[1], trainX.shape[2]\n",
        "\n",
        "    model = Sequential()\n",
        "    model.add(SimpleRNN(units = units, activation='relu', input_shape=(n_timesteps,n_features)))\n",
        "    model.add(Dense(1, activation='linear'))\n",
        "    model.compile(loss='mse', optimizer='adam', metrics=['MAPE'])\n",
        "  \n",
        "    # fit network\n",
        "    model.fit(trainX, trainy, epochs=epochs, batch_size=batch_size, verbose=verbose, shuffle = False)\n",
        "    # evaluate model\n",
        "    _, accuracy = model.evaluate(trainX, trainy, batch_size=batch_size, verbose=0)\n",
        "    return accuracy\n",
        "\n",
        "# Multivariate RNNs confirmed cases\n",
        "\n",
        "rnn_i_multi_transit = list()\n",
        "\n",
        "for i in units:\n",
        "  score = list()\n",
        "  score = evaluate_rnn(X_i_tr_transit, y_i_tr, i)\n",
        "  rnn_i_multi_transit.append(score)\n",
        "\n",
        "\n",
        "# Multivariate RNNs confirmed deaths\n",
        "\n",
        "rnn_d_multi_transit = list()\n",
        "\n",
        "for i in units:\n",
        "  score = list()\n",
        "  score = evaluate_rnn(X_d_tr_transit, y_d_tr, i)\n",
        "  rnn_d_multi_transit.append(score)"
      ],
      "execution_count": null,
      "outputs": []
    },
    {
      "cell_type": "markdown",
      "metadata": {
        "id": "7AMGl12QFDwC"
      },
      "source": [
        "### Result Table"
      ]
    },
    {
      "cell_type": "markdown",
      "metadata": {
        "id": "RJoUcq6zFDwC"
      },
      "source": [
        "#### Multivariate Confirmed Cases"
      ]
    },
    {
      "cell_type": "code",
      "metadata": {
        "colab": {
          "base_uri": "https://localhost:8080/",
          "height": 737
        },
        "id": "JD7vlLpJFDwC",
        "outputId": "c0c3a7a6-7420-4d79-dc47-00af4ac77852"
      },
      "source": [
        "fig = go.Figure(data=[go.Table(header=dict(values=['Model', 'Kernel size', 'Pool', '2 Nodes', '4 Nodes', '8 Nodes', '16 Nodes', \n",
        "                                                   '32 Nodes', \"64 Nodes\", '128 Nodes', '256 Nodes', '512 Nodes', '1024 Nodes'],\n",
        "                                           line_color = 'gray'),\n",
        "                               cells=dict(values=[['LSTM', 'GRU', 'RNNs', 'CNN',\n",
        "                                                   'CNN', 'CNN', 'CNN', 'CNN', 'CNN'],\n",
        "                                                  ['-', '-', '-', '3', '5', '7', '3', '5', '7'],\n",
        "                                                  ['-', '-', '-', '2', '2', '2', '3', '3', '3'],\n",
        "                                    [round(lstm_i_multi_transit[0],3), \n",
        "                                     round(gru_i_multi_transit[0],3),\n",
        "                                     round(rnn_i_multi_transit[0],3), \n",
        "                                     round(cnn_i_multi_transit.iloc[0,0],3),\n",
        "                                     round(cnn_i_multi_transit.iloc[0,1],3),\n",
        "                                     round(cnn_i_multi_transit.iloc[0,2],3),\n",
        "                                     round(cnn_i_multi_transit.iloc[0,3],3),\n",
        "                                     round(cnn_i_multi_transit.iloc[0,4],3),\n",
        "                                     round(cnn_i_multi_transit.iloc[0,5],3)],\n",
        "                                     [round(lstm_i_multi_transit[1],3), \n",
        "                                     round(gru_i_multi_transit[1],3),\n",
        "                                     round(rnn_i_multi_transit[1],3), \n",
        "                                     round(cnn_i_multi_transit.iloc[1,0],3),\n",
        "                                     round(cnn_i_multi_transit.iloc[1,1],3),\n",
        "                                     round(cnn_i_multi_transit.iloc[1,2],3),\n",
        "                                     round(cnn_i_multi_transit.iloc[1,3],3),\n",
        "                                     round(cnn_i_multi_transit.iloc[1,4],3),\n",
        "                                     round(cnn_i_multi_transit.iloc[1,5],3)],\n",
        "                                     [round(lstm_i_multi_transit[2],3), \n",
        "                                     round(gru_i_multi_transit[2],3),\n",
        "                                     round(rnn_i_multi_transit[2],3), \n",
        "                                     round(cnn_i_multi_transit.iloc[2,0],3),\n",
        "                                     round(cnn_i_multi_transit.iloc[2,1],3),\n",
        "                                     round(cnn_i_multi_transit.iloc[2,2],3),\n",
        "                                     round(cnn_i_multi_transit.iloc[2,3],3),\n",
        "                                     round(cnn_i_multi_transit.iloc[2,4],3),\n",
        "                                     round(cnn_i_multi_transit.iloc[2,5],3)],\n",
        "                                     [round(lstm_i_multi_transit[3],3), \n",
        "                                     round(gru_i_multi_transit[3],3),\n",
        "                                     round(rnn_i_multi_transit[3],3), \n",
        "                                     round(cnn_i_multi_transit.iloc[3,0],3),\n",
        "                                     round(cnn_i_multi_transit.iloc[3,1],3),\n",
        "                                     round(cnn_i_multi_transit.iloc[3,2],3),\n",
        "                                     round(cnn_i_multi_transit.iloc[3,3],3),\n",
        "                                     round(cnn_i_multi_transit.iloc[3,4],3),\n",
        "                                     round(cnn_i_multi_transit.iloc[3,5],3)],\n",
        "                                     [round(lstm_i_multi_transit[4],3), \n",
        "                                     round(gru_i_multi_transit[4],3),\n",
        "                                     round(rnn_i_multi_transit[4],3), \n",
        "                                     round(cnn_i_multi_transit.iloc[4,0],3),\n",
        "                                     round(cnn_i_multi_transit.iloc[4,1],3),\n",
        "                                     round(cnn_i_multi_transit.iloc[4,2],3),\n",
        "                                     round(cnn_i_multi_transit.iloc[4,3],3),\n",
        "                                     round(cnn_i_multi_transit.iloc[4,4],3),\n",
        "                                     round(cnn_i_multi_transit.iloc[4,5],3)],\n",
        "                                     [round(lstm_i_multi_transit[5],3), \n",
        "                                     round(gru_i_multi_transit[5],3),\n",
        "                                     round(rnn_i_multi_transit[5],3), \n",
        "                                     round(cnn_i_multi_transit.iloc[5,0],3),\n",
        "                                     round(cnn_i_multi_transit.iloc[5,1],3),\n",
        "                                     round(cnn_i_multi_transit.iloc[5,2],3),\n",
        "                                     round(cnn_i_multi_transit.iloc[5,3],3),\n",
        "                                     round(cnn_i_multi_transit.iloc[5,4],3),\n",
        "                                     round(cnn_i_multi_transit.iloc[5,5],3)],\n",
        "                                     [round(lstm_i_multi_transit[6],3), \n",
        "                                     round(gru_i_multi_transit[6],3),\n",
        "                                     round(rnn_i_multi_transit[6],3), \n",
        "                                     round(cnn_i_multi_transit.iloc[6,0],3),\n",
        "                                     round(cnn_i_multi_transit.iloc[6,1],3),\n",
        "                                     round(cnn_i_multi_transit.iloc[6,2],3),\n",
        "                                     round(cnn_i_multi_transit.iloc[6,3],3),\n",
        "                                     round(cnn_i_multi_transit.iloc[6,4],3),\n",
        "                                     round(cnn_i_multi_transit.iloc[6,5],3)],\n",
        "                                     [round(lstm_i_multi_transit[7],3), \n",
        "                                     round(gru_i_multi_transit[7],3),\n",
        "                                     round(rnn_i_multi_transit[7],3), \n",
        "                                     round(cnn_i_multi_transit.iloc[7,0],3),\n",
        "                                     round(cnn_i_multi_transit.iloc[7,1],3),\n",
        "                                     round(cnn_i_multi_transit.iloc[7,2],3),\n",
        "                                     round(cnn_i_multi_transit.iloc[7,3],3),\n",
        "                                     round(cnn_i_multi_transit.iloc[7,4],3),\n",
        "                                     round(cnn_i_multi_transit.iloc[7,5],3)],\n",
        "                                     [round(lstm_i_multi_transit[8],3), \n",
        "                                     round(gru_i_multi_transit[8],3),\n",
        "                                     round(rnn_i_multi_transit[8],3), \n",
        "                                     round(cnn_i_multi_transit.iloc[8,0],3),\n",
        "                                     round(cnn_i_multi_transit.iloc[8,1],3),\n",
        "                                     round(cnn_i_multi_transit.iloc[8,2],3),\n",
        "                                     round(cnn_i_multi_transit.iloc[8,3],3),\n",
        "                                     round(cnn_i_multi_transit.iloc[8,4],3),\n",
        "                                     round(cnn_i_multi_transit.iloc[8,5],3)],\n",
        "                                     [round(lstm_i_multi_transit[9],3), \n",
        "                                     round(gru_i_multi_transit[9],3),\n",
        "                                     round(rnn_i_multi_transit[9],3), \n",
        "                                     round(cnn_i_multi_transit.iloc[9,0],3),\n",
        "                                     round(cnn_i_multi_transit.iloc[9,1],3),\n",
        "                                     round(cnn_i_multi_transit.iloc[9,2],3),\n",
        "                                     round(cnn_i_multi_transit.iloc[9,3],3),\n",
        "                                     round(cnn_i_multi_transit.iloc[9,4],3),\n",
        "                                     round(cnn_i_multi_transit.iloc[9,5],3)]],\n",
        "                            align=['left','center', 'center', \n",
        "                                   'right','right','right',\n",
        "                                   'right','right','right',\n",
        "                                   'right','right','right','right'],\n",
        "                            fill_color = 'white',\n",
        "                            line_color = 'gray'))\n",
        "                     ])\n",
        "fig.update_layout(title = \"Parameter Tunings Mean Absolute Percentage Error: Multivariate Confirmed Cases\",\n",
        "                  title_x=0.5, height = 700, width = 1200)\n",
        "fig.show()"
      ],
      "execution_count": null,
      "outputs": [
        {
          "output_type": "display_data",
          "data": {
            "text/html": [
              "<html>\n",
              "<head><meta charset=\"utf-8\" /></head>\n",
              "<body>\n",
              "    <div>\n",
              "            <script src=\"https://cdnjs.cloudflare.com/ajax/libs/mathjax/2.7.5/MathJax.js?config=TeX-AMS-MML_SVG\"></script><script type=\"text/javascript\">if (window.MathJax) {MathJax.Hub.Config({SVG: {font: \"STIX-Web\"}});}</script>\n",
              "                <script type=\"text/javascript\">window.PlotlyConfig = {MathJaxConfig: 'local'};</script>\n",
              "        <script src=\"https://cdn.plot.ly/plotly-latest.min.js\"></script>    \n",
              "            <div id=\"f563d069-1376-4507-a9fa-e6522bfd43b7\" class=\"plotly-graph-div\" style=\"height:700px; width:1200px;\"></div>\n",
              "            <script type=\"text/javascript\">\n",
              "                \n",
              "                    window.PLOTLYENV=window.PLOTLYENV || {};\n",
              "                    \n",
              "                if (document.getElementById(\"f563d069-1376-4507-a9fa-e6522bfd43b7\")) {\n",
              "                    Plotly.newPlot(\n",
              "                        'f563d069-1376-4507-a9fa-e6522bfd43b7',\n",
              "                        [{\"cells\": {\"align\": [\"left\", \"center\", \"center\", \"right\", \"right\", \"right\", \"right\", \"right\", \"right\", \"right\", \"right\", \"right\", \"right\"], \"fill\": {\"color\": \"white\"}, \"line\": {\"color\": \"gray\"}, \"values\": [[\"LSTM\", \"GRU\", \"RNNs\", \"CNN\", \"CNN\", \"CNN\", \"CNN\", \"CNN\", \"CNN\"], [\"-\", \"-\", \"-\", \"3\", \"5\", \"7\", \"3\", \"5\", \"7\"], [\"-\", \"-\", \"-\", \"2\", \"2\", \"2\", \"3\", \"3\", \"3\"], [99.984, 44.696, 6.054, 5.479, 5.552, 5.63, 5.565, 5.52, 99.984], [99.984, 99.984, 3.556, 5.474, 4.68, 5.19, 4.698, 5.48, 5.747], [4.374, 99.984, 3.89, 5.766, 4.436, 5.978, 4.306, 4.978, 6.178], [3.528, 6.539, 5.209, 4.419, 3.326, 4.897, 4.661, 4.616, 4.932], [3.723, 4.27, 4.134, 4.264, 4.345, 4.935, 4.295, 5.111, 5.798], [4.75, 4.583, 3.737, 3.8, 4.048, 4.045, 4.327, 4.986, 4.927], [4.356, 4.323, 3.08, 3.837, 3.912, 4.36, 3.923, 4.367, 4.61], [4.371, 4.116, 3.218, 4.516, 4.438, 4.461, 3.907, 4.575, 4.623], [3.97, 3.291, 3.287, 4.866, 5.15, 4.855, 4.436, 4.942, 4.911], [4.202, 3.669, 3.405, 5.301, 6.851, 6.389, 6.312, 5.55, 5.552]]}, \"header\": {\"line\": {\"color\": \"gray\"}, \"values\": [\"Model\", \"Kernel size\", \"Pool\", \"2 Nodes\", \"4 Nodes\", \"8 Nodes\", \"16 Nodes\", \"32 Nodes\", \"64 Nodes\", \"128 Nodes\", \"256 Nodes\", \"512 Nodes\", \"1024 Nodes\"]}, \"type\": \"table\"}],\n",
              "                        {\"height\": 700, \"template\": {\"data\": {\"bar\": [{\"error_x\": {\"color\": \"#2a3f5f\"}, \"error_y\": {\"color\": \"#2a3f5f\"}, \"marker\": {\"line\": {\"color\": \"#E5ECF6\", \"width\": 0.5}}, \"type\": \"bar\"}], \"barpolar\": [{\"marker\": {\"line\": {\"color\": \"#E5ECF6\", \"width\": 0.5}}, \"type\": \"barpolar\"}], \"carpet\": [{\"aaxis\": {\"endlinecolor\": \"#2a3f5f\", \"gridcolor\": \"white\", \"linecolor\": \"white\", \"minorgridcolor\": \"white\", \"startlinecolor\": \"#2a3f5f\"}, \"baxis\": {\"endlinecolor\": \"#2a3f5f\", \"gridcolor\": \"white\", \"linecolor\": \"white\", \"minorgridcolor\": \"white\", \"startlinecolor\": \"#2a3f5f\"}, \"type\": \"carpet\"}], \"choropleth\": [{\"colorbar\": {\"outlinewidth\": 0, \"ticks\": \"\"}, \"type\": \"choropleth\"}], \"contour\": [{\"colorbar\": {\"outlinewidth\": 0, \"ticks\": \"\"}, \"colorscale\": [[0.0, \"#0d0887\"], [0.1111111111111111, \"#46039f\"], [0.2222222222222222, \"#7201a8\"], [0.3333333333333333, \"#9c179e\"], [0.4444444444444444, \"#bd3786\"], [0.5555555555555556, \"#d8576b\"], [0.6666666666666666, \"#ed7953\"], [0.7777777777777778, \"#fb9f3a\"], [0.8888888888888888, \"#fdca26\"], [1.0, \"#f0f921\"]], \"type\": \"contour\"}], \"contourcarpet\": [{\"colorbar\": {\"outlinewidth\": 0, \"ticks\": \"\"}, \"type\": \"contourcarpet\"}], \"heatmap\": [{\"colorbar\": {\"outlinewidth\": 0, \"ticks\": \"\"}, \"colorscale\": [[0.0, \"#0d0887\"], [0.1111111111111111, \"#46039f\"], [0.2222222222222222, \"#7201a8\"], [0.3333333333333333, \"#9c179e\"], [0.4444444444444444, \"#bd3786\"], [0.5555555555555556, \"#d8576b\"], [0.6666666666666666, \"#ed7953\"], [0.7777777777777778, \"#fb9f3a\"], [0.8888888888888888, \"#fdca26\"], [1.0, \"#f0f921\"]], \"type\": \"heatmap\"}], \"heatmapgl\": [{\"colorbar\": {\"outlinewidth\": 0, \"ticks\": \"\"}, \"colorscale\": [[0.0, \"#0d0887\"], [0.1111111111111111, \"#46039f\"], [0.2222222222222222, \"#7201a8\"], [0.3333333333333333, \"#9c179e\"], [0.4444444444444444, \"#bd3786\"], [0.5555555555555556, \"#d8576b\"], [0.6666666666666666, \"#ed7953\"], [0.7777777777777778, \"#fb9f3a\"], [0.8888888888888888, \"#fdca26\"], [1.0, \"#f0f921\"]], \"type\": \"heatmapgl\"}], \"histogram\": [{\"marker\": {\"colorbar\": {\"outlinewidth\": 0, \"ticks\": \"\"}}, \"type\": \"histogram\"}], \"histogram2d\": [{\"colorbar\": {\"outlinewidth\": 0, \"ticks\": \"\"}, \"colorscale\": [[0.0, \"#0d0887\"], [0.1111111111111111, \"#46039f\"], [0.2222222222222222, \"#7201a8\"], [0.3333333333333333, \"#9c179e\"], [0.4444444444444444, \"#bd3786\"], [0.5555555555555556, \"#d8576b\"], [0.6666666666666666, \"#ed7953\"], [0.7777777777777778, \"#fb9f3a\"], [0.8888888888888888, \"#fdca26\"], [1.0, \"#f0f921\"]], \"type\": \"histogram2d\"}], \"histogram2dcontour\": [{\"colorbar\": {\"outlinewidth\": 0, \"ticks\": \"\"}, \"colorscale\": [[0.0, \"#0d0887\"], [0.1111111111111111, \"#46039f\"], [0.2222222222222222, \"#7201a8\"], [0.3333333333333333, \"#9c179e\"], [0.4444444444444444, \"#bd3786\"], [0.5555555555555556, \"#d8576b\"], [0.6666666666666666, \"#ed7953\"], [0.7777777777777778, \"#fb9f3a\"], [0.8888888888888888, \"#fdca26\"], [1.0, \"#f0f921\"]], \"type\": \"histogram2dcontour\"}], \"mesh3d\": [{\"colorbar\": {\"outlinewidth\": 0, \"ticks\": \"\"}, \"type\": \"mesh3d\"}], \"parcoords\": [{\"line\": {\"colorbar\": {\"outlinewidth\": 0, \"ticks\": \"\"}}, \"type\": \"parcoords\"}], \"pie\": [{\"automargin\": true, \"type\": \"pie\"}], \"scatter\": [{\"marker\": {\"colorbar\": {\"outlinewidth\": 0, \"ticks\": \"\"}}, \"type\": \"scatter\"}], \"scatter3d\": [{\"line\": {\"colorbar\": {\"outlinewidth\": 0, \"ticks\": \"\"}}, \"marker\": {\"colorbar\": {\"outlinewidth\": 0, \"ticks\": \"\"}}, \"type\": \"scatter3d\"}], \"scattercarpet\": [{\"marker\": {\"colorbar\": {\"outlinewidth\": 0, \"ticks\": \"\"}}, \"type\": \"scattercarpet\"}], \"scattergeo\": [{\"marker\": {\"colorbar\": {\"outlinewidth\": 0, \"ticks\": \"\"}}, \"type\": \"scattergeo\"}], \"scattergl\": [{\"marker\": {\"colorbar\": {\"outlinewidth\": 0, \"ticks\": \"\"}}, \"type\": \"scattergl\"}], \"scattermapbox\": [{\"marker\": {\"colorbar\": {\"outlinewidth\": 0, \"ticks\": \"\"}}, \"type\": \"scattermapbox\"}], \"scatterpolar\": [{\"marker\": {\"colorbar\": {\"outlinewidth\": 0, \"ticks\": \"\"}}, \"type\": \"scatterpolar\"}], \"scatterpolargl\": [{\"marker\": {\"colorbar\": {\"outlinewidth\": 0, \"ticks\": \"\"}}, \"type\": \"scatterpolargl\"}], \"scatterternary\": [{\"marker\": {\"colorbar\": {\"outlinewidth\": 0, \"ticks\": \"\"}}, \"type\": \"scatterternary\"}], \"surface\": [{\"colorbar\": {\"outlinewidth\": 0, \"ticks\": \"\"}, \"colorscale\": [[0.0, \"#0d0887\"], [0.1111111111111111, \"#46039f\"], [0.2222222222222222, \"#7201a8\"], [0.3333333333333333, \"#9c179e\"], [0.4444444444444444, \"#bd3786\"], [0.5555555555555556, \"#d8576b\"], [0.6666666666666666, \"#ed7953\"], [0.7777777777777778, \"#fb9f3a\"], [0.8888888888888888, \"#fdca26\"], [1.0, \"#f0f921\"]], \"type\": \"surface\"}], \"table\": [{\"cells\": {\"fill\": {\"color\": \"#EBF0F8\"}, \"line\": {\"color\": \"white\"}}, \"header\": {\"fill\": {\"color\": \"#C8D4E3\"}, \"line\": {\"color\": \"white\"}}, \"type\": \"table\"}]}, \"layout\": {\"annotationdefaults\": {\"arrowcolor\": \"#2a3f5f\", \"arrowhead\": 0, \"arrowwidth\": 1}, \"coloraxis\": {\"colorbar\": {\"outlinewidth\": 0, \"ticks\": \"\"}}, \"colorscale\": {\"diverging\": [[0, \"#8e0152\"], [0.1, \"#c51b7d\"], [0.2, \"#de77ae\"], [0.3, \"#f1b6da\"], [0.4, \"#fde0ef\"], [0.5, \"#f7f7f7\"], [0.6, \"#e6f5d0\"], [0.7, \"#b8e186\"], [0.8, \"#7fbc41\"], [0.9, \"#4d9221\"], [1, \"#276419\"]], \"sequential\": [[0.0, \"#0d0887\"], [0.1111111111111111, \"#46039f\"], [0.2222222222222222, \"#7201a8\"], [0.3333333333333333, \"#9c179e\"], [0.4444444444444444, \"#bd3786\"], [0.5555555555555556, \"#d8576b\"], [0.6666666666666666, \"#ed7953\"], [0.7777777777777778, \"#fb9f3a\"], [0.8888888888888888, \"#fdca26\"], [1.0, \"#f0f921\"]], \"sequentialminus\": [[0.0, \"#0d0887\"], [0.1111111111111111, \"#46039f\"], [0.2222222222222222, \"#7201a8\"], [0.3333333333333333, \"#9c179e\"], [0.4444444444444444, \"#bd3786\"], [0.5555555555555556, \"#d8576b\"], [0.6666666666666666, \"#ed7953\"], [0.7777777777777778, \"#fb9f3a\"], [0.8888888888888888, \"#fdca26\"], [1.0, \"#f0f921\"]]}, \"colorway\": [\"#636efa\", \"#EF553B\", \"#00cc96\", \"#ab63fa\", \"#FFA15A\", \"#19d3f3\", \"#FF6692\", \"#B6E880\", \"#FF97FF\", \"#FECB52\"], \"font\": {\"color\": \"#2a3f5f\"}, \"geo\": {\"bgcolor\": \"white\", \"lakecolor\": \"white\", \"landcolor\": \"#E5ECF6\", \"showlakes\": true, \"showland\": true, \"subunitcolor\": \"white\"}, \"hoverlabel\": {\"align\": \"left\"}, \"hovermode\": \"closest\", \"mapbox\": {\"style\": \"light\"}, \"paper_bgcolor\": \"white\", \"plot_bgcolor\": \"#E5ECF6\", \"polar\": {\"angularaxis\": {\"gridcolor\": \"white\", \"linecolor\": \"white\", \"ticks\": \"\"}, \"bgcolor\": \"#E5ECF6\", \"radialaxis\": {\"gridcolor\": \"white\", \"linecolor\": \"white\", \"ticks\": \"\"}}, \"scene\": {\"xaxis\": {\"backgroundcolor\": \"#E5ECF6\", \"gridcolor\": \"white\", \"gridwidth\": 2, \"linecolor\": \"white\", \"showbackground\": true, \"ticks\": \"\", \"zerolinecolor\": \"white\"}, \"yaxis\": {\"backgroundcolor\": \"#E5ECF6\", \"gridcolor\": \"white\", \"gridwidth\": 2, \"linecolor\": \"white\", \"showbackground\": true, \"ticks\": \"\", \"zerolinecolor\": \"white\"}, \"zaxis\": {\"backgroundcolor\": \"#E5ECF6\", \"gridcolor\": \"white\", \"gridwidth\": 2, \"linecolor\": \"white\", \"showbackground\": true, \"ticks\": \"\", \"zerolinecolor\": \"white\"}}, \"shapedefaults\": {\"line\": {\"color\": \"#2a3f5f\"}}, \"ternary\": {\"aaxis\": {\"gridcolor\": \"white\", \"linecolor\": \"white\", \"ticks\": \"\"}, \"baxis\": {\"gridcolor\": \"white\", \"linecolor\": \"white\", \"ticks\": \"\"}, \"bgcolor\": \"#E5ECF6\", \"caxis\": {\"gridcolor\": \"white\", \"linecolor\": \"white\", \"ticks\": \"\"}}, \"title\": {\"x\": 0.05}, \"xaxis\": {\"automargin\": true, \"gridcolor\": \"white\", \"linecolor\": \"white\", \"ticks\": \"\", \"title\": {\"standoff\": 15}, \"zerolinecolor\": \"white\", \"zerolinewidth\": 2}, \"yaxis\": {\"automargin\": true, \"gridcolor\": \"white\", \"linecolor\": \"white\", \"ticks\": \"\", \"title\": {\"standoff\": 15}, \"zerolinecolor\": \"white\", \"zerolinewidth\": 2}}}, \"title\": {\"text\": \"Parameter Tunings Mean Absolute Percentage Error: Multivariate Confirmed Cases\", \"x\": 0.5}, \"width\": 1200},\n",
              "                        {\"responsive\": true}\n",
              "                    ).then(function(){\n",
              "                            \n",
              "var gd = document.getElementById('f563d069-1376-4507-a9fa-e6522bfd43b7');\n",
              "var x = new MutationObserver(function (mutations, observer) {{\n",
              "        var display = window.getComputedStyle(gd).display;\n",
              "        if (!display || display === 'none') {{\n",
              "            console.log([gd, 'removed!']);\n",
              "            Plotly.purge(gd);\n",
              "            observer.disconnect();\n",
              "        }}\n",
              "}});\n",
              "\n",
              "// Listen for the removal of the full notebook cells\n",
              "var notebookContainer = gd.closest('#notebook-container');\n",
              "if (notebookContainer) {{\n",
              "    x.observe(notebookContainer, {childList: true});\n",
              "}}\n",
              "\n",
              "// Listen for the clearing of the current output cell\n",
              "var outputEl = gd.closest('.output');\n",
              "if (outputEl) {{\n",
              "    x.observe(outputEl, {childList: true});\n",
              "}}\n",
              "\n",
              "                        })\n",
              "                };\n",
              "                \n",
              "            </script>\n",
              "        </div>\n",
              "</body>\n",
              "</html>"
            ]
          },
          "metadata": {}
        }
      ]
    },
    {
      "cell_type": "markdown",
      "metadata": {
        "id": "VcTsblOVFDwD"
      },
      "source": [
        "#### Multivariate Confirmed Deaths"
      ]
    },
    {
      "cell_type": "code",
      "metadata": {
        "colab": {
          "base_uri": "https://localhost:8080/",
          "height": 737
        },
        "id": "SONaeugaFDwD",
        "outputId": "e9155eaf-faa6-4132-9584-b2509336db45"
      },
      "source": [
        "fig = go.Figure(data=[go.Table(header=dict(values=['Model', 'Kernel size', 'Pool', '2 Nodes','4 Nodes', '8 Nodes', '16 Nodes', '32 Nodes',\n",
        "                                                   \"64 Nodes\", '128 Nodes', '256 Nodes', '512 Nodes' , '1024 Nodes'],\n",
        "                                           line_color = 'gray'),\n",
        "                               cells=dict(values=[['LSTM', 'GRU', 'RNNs', 'CNN',\n",
        "                                                   'CNN', 'CNN', 'CNN', 'CNN', 'CNN'],\n",
        "                                                  ['-', '-', '-', '3', '5', '7', '3', '5', '7'],\n",
        "                                                  ['-', '-', '-', '2', '2', '2', '3', '3', '3'],\n",
        "                                    [round(lstm_d_multi_transit[0],3), \n",
        "                                     round(gru_d_multi_transit[0],3),\n",
        "                                     round(rnn_d_multi_transit[0],3), \n",
        "                                     round(cnn_d_multi_transit.iloc[0,0],3),\n",
        "                                     round(cnn_d_multi_transit.iloc[0,1],3),\n",
        "                                     round(cnn_d_multi_transit.iloc[0,2],3),\n",
        "                                     round(cnn_d_multi_transit.iloc[0,3],3),\n",
        "                                     round(cnn_d_multi_transit.iloc[0,4],3),\n",
        "                                     round(cnn_d_multi_transit.iloc[0,5],3)],\n",
        "                                     [round(lstm_d_multi_transit[1],3), \n",
        "                                     round(gru_d_multi_transit[1],3),\n",
        "                                     round(rnn_d_multi_transit[1],3), \n",
        "                                     round(cnn_d_multi_transit.iloc[1,0],3),\n",
        "                                     round(cnn_d_multi_transit.iloc[1,1],3),\n",
        "                                     round(cnn_d_multi_transit.iloc[1,2],3),\n",
        "                                     round(cnn_d_multi_transit.iloc[1,3],3),\n",
        "                                     round(cnn_d_multi_transit.iloc[1,4],3),\n",
        "                                     round(cnn_d_multi_transit.iloc[1,5],3)],\n",
        "                                     [round(lstm_d_multi_transit[2],3), \n",
        "                                     round(gru_d_multi_transit[2],3),\n",
        "                                     round(rnn_d_multi_transit[2],3), \n",
        "                                     round(cnn_d_multi_transit.iloc[2,0],3),\n",
        "                                     round(cnn_d_multi_transit.iloc[2,1],3),\n",
        "                                     round(cnn_d_multi_transit.iloc[2,2],3),\n",
        "                                     round(cnn_d_multi_transit.iloc[2,3],3),\n",
        "                                     round(cnn_d_multi_transit.iloc[2,4],3),\n",
        "                                     round(cnn_d_multi_transit.iloc[2,5],3)],\n",
        "                                     [round(lstm_d_multi_transit[3],3), \n",
        "                                     round(gru_d_multi_transit[3],3),\n",
        "                                     round(rnn_d_multi_transit[3],3), \n",
        "                                     round(cnn_d_multi_transit.iloc[3,0],3),\n",
        "                                     round(cnn_d_multi_transit.iloc[3,1],3),\n",
        "                                     round(cnn_d_multi_transit.iloc[3,2],3),\n",
        "                                     round(cnn_d_multi_transit.iloc[3,3],3),\n",
        "                                     round(cnn_d_multi_transit.iloc[3,4],3),\n",
        "                                     round(cnn_d_multi_transit.iloc[3,5],3)],\n",
        "                                     [round(lstm_d_multi_transit[4],3), \n",
        "                                     round(gru_d_multi_transit[4],3),\n",
        "                                     round(rnn_d_multi_transit[4],3), \n",
        "                                     round(cnn_d_multi_transit.iloc[4,0],3),\n",
        "                                     round(cnn_d_multi_transit.iloc[4,1],3),\n",
        "                                     round(cnn_d_multi_transit.iloc[4,2],3),\n",
        "                                     round(cnn_d_multi_transit.iloc[4,3],3),\n",
        "                                     round(cnn_d_multi_transit.iloc[4,4],3),\n",
        "                                     round(cnn_d_multi_transit.iloc[4,5],3)],\n",
        "                                     [round(lstm_d_multi_transit[5],3), \n",
        "                                     round(gru_d_multi_transit[5],3),\n",
        "                                     round(rnn_d_multi_transit[5],3), \n",
        "                                     round(cnn_d_multi_transit.iloc[5,0],3),\n",
        "                                     round(cnn_d_multi_transit.iloc[5,1],3),\n",
        "                                     round(cnn_d_multi_transit.iloc[5,2],3),\n",
        "                                     round(cnn_d_multi_transit.iloc[5,3],3),\n",
        "                                     round(cnn_d_multi_transit.iloc[5,4],3),\n",
        "                                     round(cnn_d_multi_transit.iloc[5,5],3)],\n",
        "                                     [round(lstm_d_multi_transit[6],3), \n",
        "                                     round(gru_d_multi_transit[6],3),\n",
        "                                     round(rnn_d_multi_transit[6],3), \n",
        "                                     round(cnn_d_multi_transit.iloc[6,0],3),\n",
        "                                     round(cnn_d_multi_transit.iloc[6,1],3),\n",
        "                                     round(cnn_d_multi_transit.iloc[6,2],3),\n",
        "                                     round(cnn_d_multi_transit.iloc[6,3],3),\n",
        "                                     round(cnn_d_multi_transit.iloc[6,4],3),\n",
        "                                     round(cnn_d_multi_transit.iloc[6,5],3)],\n",
        "                                     [round(lstm_d_multi_transit[7],3), \n",
        "                                     round(gru_d_multi_transit[7],3),\n",
        "                                     round(rnn_d_multi_transit[7],3), \n",
        "                                     round(cnn_d_multi_transit.iloc[7,0],3),\n",
        "                                     round(cnn_d_multi_transit.iloc[7,1],3),\n",
        "                                     round(cnn_d_multi_transit.iloc[7,2],3),\n",
        "                                     round(cnn_d_multi_transit.iloc[7,3],3),\n",
        "                                     round(cnn_d_multi_transit.iloc[7,4],3),\n",
        "                                     round(cnn_d_multi_transit.iloc[7,5],3)],\n",
        "                                     [round(lstm_d_multi_transit[8],3), \n",
        "                                     round(gru_d_multi_transit[8],3),\n",
        "                                     round(rnn_d_multi_transit[8],3), \n",
        "                                     round(cnn_d_multi_transit.iloc[8,0],3),\n",
        "                                     round(cnn_d_multi_transit.iloc[8,1],3),\n",
        "                                     round(cnn_d_multi_transit.iloc[8,2],3),\n",
        "                                     round(cnn_d_multi_transit.iloc[8,3],3),\n",
        "                                     round(cnn_d_multi_transit.iloc[8,4],3),\n",
        "                                     round(cnn_d_multi_transit.iloc[8,5],3)],\n",
        "                                     [round(lstm_d_multi_transit[9],3), \n",
        "                                     round(gru_d_multi_transit[9],3),\n",
        "                                     round(rnn_d_multi_transit[9],3), \n",
        "                                     round(cnn_d_multi_transit.iloc[9,0],3),\n",
        "                                     round(cnn_d_multi_transit.iloc[9,1],3),\n",
        "                                     round(cnn_d_multi_transit.iloc[9,2],3),\n",
        "                                     round(cnn_d_multi_transit.iloc[9,3],3),\n",
        "                                     round(cnn_d_multi_transit.iloc[9,4],3),\n",
        "                                     round(cnn_d_multi_transit.iloc[9,5],3)]],\n",
        "                            align=['left','center', 'center', \n",
        "                                   'right','right','right',\n",
        "                                   'right','right','right',\n",
        "                                   'right','right','right','right'],\n",
        "                            fill_color = 'white',\n",
        "                            line_color = 'gray'))\n",
        "                     ])\n",
        "fig.update_layout(title = \"Parameter Tunings Mean Absolute Percentage Error: Multivariate Confirmed Deaths\",\n",
        "                  title_x=0.5, height = 700, width = 1200)\n",
        "fig.show()"
      ],
      "execution_count": null,
      "outputs": [
        {
          "output_type": "display_data",
          "data": {
            "text/html": [
              "<html>\n",
              "<head><meta charset=\"utf-8\" /></head>\n",
              "<body>\n",
              "    <div>\n",
              "            <script src=\"https://cdnjs.cloudflare.com/ajax/libs/mathjax/2.7.5/MathJax.js?config=TeX-AMS-MML_SVG\"></script><script type=\"text/javascript\">if (window.MathJax) {MathJax.Hub.Config({SVG: {font: \"STIX-Web\"}});}</script>\n",
              "                <script type=\"text/javascript\">window.PlotlyConfig = {MathJaxConfig: 'local'};</script>\n",
              "        <script src=\"https://cdn.plot.ly/plotly-latest.min.js\"></script>    \n",
              "            <div id=\"43524352-98ec-4a56-90b6-6e5deeb140e6\" class=\"plotly-graph-div\" style=\"height:700px; width:1200px;\"></div>\n",
              "            <script type=\"text/javascript\">\n",
              "                \n",
              "                    window.PLOTLYENV=window.PLOTLYENV || {};\n",
              "                    \n",
              "                if (document.getElementById(\"43524352-98ec-4a56-90b6-6e5deeb140e6\")) {\n",
              "                    Plotly.newPlot(\n",
              "                        '43524352-98ec-4a56-90b6-6e5deeb140e6',\n",
              "                        [{\"cells\": {\"align\": [\"left\", \"center\", \"center\", \"right\", \"right\", \"right\", \"right\", \"right\", \"right\", \"right\", \"right\", \"right\", \"right\"], \"fill\": {\"color\": \"white\"}, \"line\": {\"color\": \"gray\"}, \"values\": [[\"LSTM\", \"GRU\", \"RNNs\", \"CNN\", \"CNN\", \"CNN\", \"CNN\", \"CNN\", \"CNN\"], [\"-\", \"-\", \"-\", \"3\", \"5\", \"7\", \"3\", \"5\", \"7\"], [\"-\", \"-\", \"-\", \"2\", \"2\", \"2\", \"3\", \"3\", \"3\"], [11.051, 7.9, 26.72, 12.574, 9.9, 10.153, 11.922, 10.73, 98.122], [20.885, 98.116, 7.676, 12.311, 11.924, 11.326, 10.765, 11.875, 9.547], [5.462, 7.956, 11.035, 8.375, 7.821, 9.122, 9.723, 9.55, 10.731], [9.86, 8.97, 6.256, 9.9, 7.318, 8.088, 9.201, 8.292, 8.868], [5.187, 6.872, 9.071, 8.563, 8.131, 7.35, 9.071, 8.412, 9.163], [8.839, 5.493, 7.382, 6.561, 7.019, 7.196, 7.638, 7.8, 7.731], [9.329, 6.084, 4.22, 6.391, 7.089, 7.356, 7.034, 8.298, 8.095], [8.23, 5.168, 8.406, 5.721, 6.502, 7.725, 6.562, 7.533, 8.255], [7.153, 5.6, 6.141, 5.071, 6.775, 8.067, 5.44, 7.408, 7.981], [7.683, 5.929, 20.169, 6.358, 7.93, 8.102, 5.853, 7.394, 8.175]]}, \"header\": {\"line\": {\"color\": \"gray\"}, \"values\": [\"Model\", \"Kernel size\", \"Pool\", \"2 Nodes\", \"4 Nodes\", \"8 Nodes\", \"16 Nodes\", \"32 Nodes\", \"64 Nodes\", \"128 Nodes\", \"256 Nodes\", \"512 Nodes\", \"1024 Nodes\"]}, \"type\": \"table\"}],\n",
              "                        {\"height\": 700, \"template\": {\"data\": {\"bar\": [{\"error_x\": {\"color\": \"#2a3f5f\"}, \"error_y\": {\"color\": \"#2a3f5f\"}, \"marker\": {\"line\": {\"color\": \"#E5ECF6\", \"width\": 0.5}}, \"type\": \"bar\"}], \"barpolar\": [{\"marker\": {\"line\": {\"color\": \"#E5ECF6\", \"width\": 0.5}}, \"type\": \"barpolar\"}], \"carpet\": [{\"aaxis\": {\"endlinecolor\": \"#2a3f5f\", \"gridcolor\": \"white\", \"linecolor\": \"white\", \"minorgridcolor\": \"white\", \"startlinecolor\": \"#2a3f5f\"}, \"baxis\": {\"endlinecolor\": \"#2a3f5f\", \"gridcolor\": \"white\", \"linecolor\": \"white\", \"minorgridcolor\": \"white\", \"startlinecolor\": \"#2a3f5f\"}, \"type\": \"carpet\"}], \"choropleth\": [{\"colorbar\": {\"outlinewidth\": 0, \"ticks\": \"\"}, \"type\": \"choropleth\"}], \"contour\": [{\"colorbar\": {\"outlinewidth\": 0, \"ticks\": \"\"}, \"colorscale\": [[0.0, \"#0d0887\"], [0.1111111111111111, \"#46039f\"], [0.2222222222222222, \"#7201a8\"], [0.3333333333333333, \"#9c179e\"], [0.4444444444444444, \"#bd3786\"], [0.5555555555555556, \"#d8576b\"], [0.6666666666666666, \"#ed7953\"], [0.7777777777777778, \"#fb9f3a\"], [0.8888888888888888, \"#fdca26\"], [1.0, \"#f0f921\"]], \"type\": \"contour\"}], \"contourcarpet\": [{\"colorbar\": {\"outlinewidth\": 0, \"ticks\": \"\"}, \"type\": \"contourcarpet\"}], \"heatmap\": [{\"colorbar\": {\"outlinewidth\": 0, \"ticks\": \"\"}, \"colorscale\": [[0.0, \"#0d0887\"], [0.1111111111111111, \"#46039f\"], [0.2222222222222222, \"#7201a8\"], [0.3333333333333333, \"#9c179e\"], [0.4444444444444444, \"#bd3786\"], [0.5555555555555556, \"#d8576b\"], [0.6666666666666666, \"#ed7953\"], [0.7777777777777778, \"#fb9f3a\"], [0.8888888888888888, \"#fdca26\"], [1.0, \"#f0f921\"]], \"type\": \"heatmap\"}], \"heatmapgl\": [{\"colorbar\": {\"outlinewidth\": 0, \"ticks\": \"\"}, \"colorscale\": [[0.0, \"#0d0887\"], [0.1111111111111111, \"#46039f\"], [0.2222222222222222, \"#7201a8\"], [0.3333333333333333, \"#9c179e\"], [0.4444444444444444, \"#bd3786\"], [0.5555555555555556, \"#d8576b\"], [0.6666666666666666, \"#ed7953\"], [0.7777777777777778, \"#fb9f3a\"], [0.8888888888888888, \"#fdca26\"], [1.0, \"#f0f921\"]], \"type\": \"heatmapgl\"}], \"histogram\": [{\"marker\": {\"colorbar\": {\"outlinewidth\": 0, \"ticks\": \"\"}}, \"type\": \"histogram\"}], \"histogram2d\": [{\"colorbar\": {\"outlinewidth\": 0, \"ticks\": \"\"}, \"colorscale\": [[0.0, \"#0d0887\"], [0.1111111111111111, \"#46039f\"], [0.2222222222222222, \"#7201a8\"], [0.3333333333333333, \"#9c179e\"], [0.4444444444444444, \"#bd3786\"], [0.5555555555555556, \"#d8576b\"], [0.6666666666666666, \"#ed7953\"], [0.7777777777777778, \"#fb9f3a\"], [0.8888888888888888, \"#fdca26\"], [1.0, \"#f0f921\"]], \"type\": \"histogram2d\"}], \"histogram2dcontour\": [{\"colorbar\": {\"outlinewidth\": 0, \"ticks\": \"\"}, \"colorscale\": [[0.0, \"#0d0887\"], [0.1111111111111111, \"#46039f\"], [0.2222222222222222, \"#7201a8\"], [0.3333333333333333, \"#9c179e\"], [0.4444444444444444, \"#bd3786\"], [0.5555555555555556, \"#d8576b\"], [0.6666666666666666, \"#ed7953\"], [0.7777777777777778, \"#fb9f3a\"], [0.8888888888888888, \"#fdca26\"], [1.0, \"#f0f921\"]], \"type\": \"histogram2dcontour\"}], \"mesh3d\": [{\"colorbar\": {\"outlinewidth\": 0, \"ticks\": \"\"}, \"type\": \"mesh3d\"}], \"parcoords\": [{\"line\": {\"colorbar\": {\"outlinewidth\": 0, \"ticks\": \"\"}}, \"type\": \"parcoords\"}], \"pie\": [{\"automargin\": true, \"type\": \"pie\"}], \"scatter\": [{\"marker\": {\"colorbar\": {\"outlinewidth\": 0, \"ticks\": \"\"}}, \"type\": \"scatter\"}], \"scatter3d\": [{\"line\": {\"colorbar\": {\"outlinewidth\": 0, \"ticks\": \"\"}}, \"marker\": {\"colorbar\": {\"outlinewidth\": 0, \"ticks\": \"\"}}, \"type\": \"scatter3d\"}], \"scattercarpet\": [{\"marker\": {\"colorbar\": {\"outlinewidth\": 0, \"ticks\": \"\"}}, \"type\": \"scattercarpet\"}], \"scattergeo\": [{\"marker\": {\"colorbar\": {\"outlinewidth\": 0, \"ticks\": \"\"}}, \"type\": \"scattergeo\"}], \"scattergl\": [{\"marker\": {\"colorbar\": {\"outlinewidth\": 0, \"ticks\": \"\"}}, \"type\": \"scattergl\"}], \"scattermapbox\": [{\"marker\": {\"colorbar\": {\"outlinewidth\": 0, \"ticks\": \"\"}}, \"type\": \"scattermapbox\"}], \"scatterpolar\": [{\"marker\": {\"colorbar\": {\"outlinewidth\": 0, \"ticks\": \"\"}}, \"type\": \"scatterpolar\"}], \"scatterpolargl\": [{\"marker\": {\"colorbar\": {\"outlinewidth\": 0, \"ticks\": \"\"}}, \"type\": \"scatterpolargl\"}], \"scatterternary\": [{\"marker\": {\"colorbar\": {\"outlinewidth\": 0, \"ticks\": \"\"}}, \"type\": \"scatterternary\"}], \"surface\": [{\"colorbar\": {\"outlinewidth\": 0, \"ticks\": \"\"}, \"colorscale\": [[0.0, \"#0d0887\"], [0.1111111111111111, \"#46039f\"], [0.2222222222222222, \"#7201a8\"], [0.3333333333333333, \"#9c179e\"], [0.4444444444444444, \"#bd3786\"], [0.5555555555555556, \"#d8576b\"], [0.6666666666666666, \"#ed7953\"], [0.7777777777777778, \"#fb9f3a\"], [0.8888888888888888, \"#fdca26\"], [1.0, \"#f0f921\"]], \"type\": \"surface\"}], \"table\": [{\"cells\": {\"fill\": {\"color\": \"#EBF0F8\"}, \"line\": {\"color\": \"white\"}}, \"header\": {\"fill\": {\"color\": \"#C8D4E3\"}, \"line\": {\"color\": \"white\"}}, \"type\": \"table\"}]}, \"layout\": {\"annotationdefaults\": {\"arrowcolor\": \"#2a3f5f\", \"arrowhead\": 0, \"arrowwidth\": 1}, \"coloraxis\": {\"colorbar\": {\"outlinewidth\": 0, \"ticks\": \"\"}}, \"colorscale\": {\"diverging\": [[0, \"#8e0152\"], [0.1, \"#c51b7d\"], [0.2, \"#de77ae\"], [0.3, \"#f1b6da\"], [0.4, \"#fde0ef\"], [0.5, \"#f7f7f7\"], [0.6, \"#e6f5d0\"], [0.7, \"#b8e186\"], [0.8, \"#7fbc41\"], [0.9, \"#4d9221\"], [1, \"#276419\"]], \"sequential\": [[0.0, \"#0d0887\"], [0.1111111111111111, \"#46039f\"], [0.2222222222222222, \"#7201a8\"], [0.3333333333333333, \"#9c179e\"], [0.4444444444444444, \"#bd3786\"], [0.5555555555555556, \"#d8576b\"], [0.6666666666666666, \"#ed7953\"], [0.7777777777777778, \"#fb9f3a\"], [0.8888888888888888, \"#fdca26\"], [1.0, \"#f0f921\"]], \"sequentialminus\": [[0.0, \"#0d0887\"], [0.1111111111111111, \"#46039f\"], [0.2222222222222222, \"#7201a8\"], [0.3333333333333333, \"#9c179e\"], [0.4444444444444444, \"#bd3786\"], [0.5555555555555556, \"#d8576b\"], [0.6666666666666666, \"#ed7953\"], [0.7777777777777778, \"#fb9f3a\"], [0.8888888888888888, \"#fdca26\"], [1.0, \"#f0f921\"]]}, \"colorway\": [\"#636efa\", \"#EF553B\", \"#00cc96\", \"#ab63fa\", \"#FFA15A\", \"#19d3f3\", \"#FF6692\", \"#B6E880\", \"#FF97FF\", \"#FECB52\"], \"font\": {\"color\": \"#2a3f5f\"}, \"geo\": {\"bgcolor\": \"white\", \"lakecolor\": \"white\", \"landcolor\": \"#E5ECF6\", \"showlakes\": true, \"showland\": true, \"subunitcolor\": \"white\"}, \"hoverlabel\": {\"align\": \"left\"}, \"hovermode\": \"closest\", \"mapbox\": {\"style\": \"light\"}, \"paper_bgcolor\": \"white\", \"plot_bgcolor\": \"#E5ECF6\", \"polar\": {\"angularaxis\": {\"gridcolor\": \"white\", \"linecolor\": \"white\", \"ticks\": \"\"}, \"bgcolor\": \"#E5ECF6\", \"radialaxis\": {\"gridcolor\": \"white\", \"linecolor\": \"white\", \"ticks\": \"\"}}, \"scene\": {\"xaxis\": {\"backgroundcolor\": \"#E5ECF6\", \"gridcolor\": \"white\", \"gridwidth\": 2, \"linecolor\": \"white\", \"showbackground\": true, \"ticks\": \"\", \"zerolinecolor\": \"white\"}, \"yaxis\": {\"backgroundcolor\": \"#E5ECF6\", \"gridcolor\": \"white\", \"gridwidth\": 2, \"linecolor\": \"white\", \"showbackground\": true, \"ticks\": \"\", \"zerolinecolor\": \"white\"}, \"zaxis\": {\"backgroundcolor\": \"#E5ECF6\", \"gridcolor\": \"white\", \"gridwidth\": 2, \"linecolor\": \"white\", \"showbackground\": true, \"ticks\": \"\", \"zerolinecolor\": \"white\"}}, \"shapedefaults\": {\"line\": {\"color\": \"#2a3f5f\"}}, \"ternary\": {\"aaxis\": {\"gridcolor\": \"white\", \"linecolor\": \"white\", \"ticks\": \"\"}, \"baxis\": {\"gridcolor\": \"white\", \"linecolor\": \"white\", \"ticks\": \"\"}, \"bgcolor\": \"#E5ECF6\", \"caxis\": {\"gridcolor\": \"white\", \"linecolor\": \"white\", \"ticks\": \"\"}}, \"title\": {\"x\": 0.05}, \"xaxis\": {\"automargin\": true, \"gridcolor\": \"white\", \"linecolor\": \"white\", \"ticks\": \"\", \"title\": {\"standoff\": 15}, \"zerolinecolor\": \"white\", \"zerolinewidth\": 2}, \"yaxis\": {\"automargin\": true, \"gridcolor\": \"white\", \"linecolor\": \"white\", \"ticks\": \"\", \"title\": {\"standoff\": 15}, \"zerolinecolor\": \"white\", \"zerolinewidth\": 2}}}, \"title\": {\"text\": \"Parameter Tunings Mean Absolute Percentage Error: Multivariate Confirmed Deaths\", \"x\": 0.5}, \"width\": 1200},\n",
              "                        {\"responsive\": true}\n",
              "                    ).then(function(){\n",
              "                            \n",
              "var gd = document.getElementById('43524352-98ec-4a56-90b6-6e5deeb140e6');\n",
              "var x = new MutationObserver(function (mutations, observer) {{\n",
              "        var display = window.getComputedStyle(gd).display;\n",
              "        if (!display || display === 'none') {{\n",
              "            console.log([gd, 'removed!']);\n",
              "            Plotly.purge(gd);\n",
              "            observer.disconnect();\n",
              "        }}\n",
              "}});\n",
              "\n",
              "// Listen for the removal of the full notebook cells\n",
              "var notebookContainer = gd.closest('#notebook-container');\n",
              "if (notebookContainer) {{\n",
              "    x.observe(notebookContainer, {childList: true});\n",
              "}}\n",
              "\n",
              "// Listen for the clearing of the current output cell\n",
              "var outputEl = gd.closest('.output');\n",
              "if (outputEl) {{\n",
              "    x.observe(outputEl, {childList: true});\n",
              "}}\n",
              "\n",
              "                        })\n",
              "                };\n",
              "                \n",
              "            </script>\n",
              "        </div>\n",
              "</body>\n",
              "</html>"
            ]
          },
          "metadata": {}
        }
      ]
    },
    {
      "cell_type": "markdown",
      "metadata": {
        "id": "QNyzitYsFDwD"
      },
      "source": [
        "## Training and Validation\n",
        "\n",
        "---\n",
        "\n",
        "After models were selected, using the training data set, we adjusted and trained the models to get the prediction with the lowest MAPE. We, then, used test samples for model validations and combined predicted values from both training and test sets together. This was only for illustration purpose.\n"
      ]
    },
    {
      "cell_type": "markdown",
      "metadata": {
        "id": "N8i9PHiDFDwD"
      },
      "source": [
        "### Multivariate Confirmed Cases"
      ]
    },
    {
      "cell_type": "code",
      "metadata": {
        "colab": {
          "base_uri": "https://localhost:8080/"
        },
        "id": "arqatMkqFDwD",
        "outputId": "2b8200df-923e-4edf-83fc-a71b67e6d92f"
      },
      "source": [
        "seed(1)\n",
        "tensorflow.random.set_seed(1)\n",
        "\n",
        "# model_multi_transit_i = Sequential()\n",
        "# model_multi_transit_i.add(Conv1D(filters = 128, kernel_size = 3, activation='relu', input_shape=(X_i_tr_transit.shape[1], X_i_tr_transit.shape[2])))\n",
        "# model_multi_transit_i.add(MaxPooling1D(pool_size = 2))\n",
        "# model_multi_transit_i.add(Flatten())\n",
        "# # model_multi_transit_i.add(Dense(4, activation = \"relu\"))\n",
        "# model_multi_transit_i.add(Dense(1, activation = \"linear\"))\n",
        "# model_multi_transit_i.compile(loss='mse', optimizer='adam', metrics = \"MAPE\")\n",
        "\n",
        "model_multi_transit_i = Sequential()\n",
        "model_multi_transit_i.add(SimpleRNN(128, activation='relu', input_shape=(X_i_tr_transit.shape[1], X_i_tr_transit.shape[2])))\n",
        "model_multi_transit_i.add(Dense(1, activation = \"linear\"))\n",
        "model_multi_transit_i.compile(loss='mse', optimizer='adam', metrics = \"MAPE\")\n",
        "\n",
        "# fit network\n",
        "model_multi_transit_i.fit(X_i_tr_transit, y_i_tr, \n",
        "                           epochs=50, \n",
        "                           batch_size=1, \n",
        "                           verbose=0, \n",
        "                           shuffle=False)\n",
        "\n",
        "\n",
        "scores_multi_transit_i1 = model_multi_transit_i.evaluate(X_i_tr_transit, y_i_tr, verbose=0)\n",
        "\n",
        "# MAPE\n",
        "print(\"MAPE: training = \",scores_multi_transit_i1[1])\n",
        "\n",
        "scores_multi_transit_i = model_multi_transit_i.evaluate(X_i_ts_transit, y_i_ts, verbose=0)\n",
        "\n",
        "# MAPE\n",
        "print(\"MAPE: test = \",scores_multi_transit_i[1])"
      ],
      "execution_count": null,
      "outputs": [
        {
          "output_type": "stream",
          "name": "stdout",
          "text": [
            "MAPE: training =  3.0801801681518555\n",
            "MAPE: test =  11.64378833770752\n"
          ]
        }
      ]
    },
    {
      "cell_type": "code",
      "metadata": {
        "id": "i1oNySvdFDwD"
      },
      "source": [
        "# make a prediction\n",
        "# training set\n",
        "y_multi_transit_i_tr = pd.DataFrame(model_multi_transit_i.predict(X_i_tr_transit))\n",
        "\n",
        "# test set\n",
        "y_multi_transit_i_ts = pd.DataFrame(model_multi_transit_i.predict(X_i_ts_transit))\n",
        "\n",
        "# combine training and test predictions\n",
        "y_multi_transit_i_total = pd.concat([y_multi_transit_i_tr, y_multi_transit_i_ts], ignore_index=True)\n"
      ],
      "execution_count": null,
      "outputs": []
    },
    {
      "cell_type": "markdown",
      "metadata": {
        "id": "kXtBcdYiFDwD"
      },
      "source": [
        "### Multivariate Confirmed Deaths"
      ]
    },
    {
      "cell_type": "code",
      "metadata": {
        "colab": {
          "base_uri": "https://localhost:8080/"
        },
        "id": "xvnn8oHDFDwE",
        "outputId": "84e7b9ae-9eb1-4025-8011-041f8105e83e"
      },
      "source": [
        "seed(1)\n",
        "tensorflow.random.set_seed(1)\n",
        "\n",
        "model_multi_transit_d = Sequential()\n",
        "model_multi_transit_d.add(SimpleRNN(128, activation = 'relu', input_shape=(X_d_tr_transit.shape[1], X_d_tr_transit.shape[2])))\n",
        "# model_multi_transit_d.add(Dense(4, activation = \"relu\"))\n",
        "model_multi_transit_d.add(Dense(1, activation = \"linear\"))\n",
        "model_multi_transit_d.compile(loss='mse', optimizer='adam', metrics = \"MAPE\")\n",
        "\n",
        "# model_multi_transit_d = Sequential()\n",
        "# model_multi_transit_d.add(Conv1D(32, kernel_size = 3, activation = 'relu', input_shape=(X_d_tr_transit.shape[1], X_d_tr_transit.shape[2])))\n",
        "# model_multi_transit_d.add(MaxPooling1D(2))\n",
        "# model_multi_transit_d.add(Flatten())\n",
        "# # model_multi_transit_d.add(Dense(4, activation = \"relu\"))\n",
        "# model_multi_transit_d.add(Dense(1, activation = \"linear\"))\n",
        "# model_multi_transit_d.compile(loss='mse', optimizer='adam', metrics = \"MAPE\")\n",
        "\n",
        "# fit network\n",
        "model_multi_transit_d.fit(X_d_tr_transit, y_d_tr, \n",
        "                           epochs=50, \n",
        "                           batch_size=1, \n",
        "                           verbose=0, \n",
        "                           shuffle=False)\n",
        "\n",
        "scores_multi_transit_d1 = model_multi_transit_d.evaluate(X_d_tr_transit, y_d_tr, verbose=0)\n",
        "\n",
        "# MAPE\n",
        "print(\"MAPE: training = \",scores_multi_transit_d1[1])\n",
        "\n",
        "scores_multi_transit_d = model_multi_transit_d.evaluate(X_d_ts_transit, y_d_ts, verbose=0)\n",
        "\n",
        "# MAPE\n",
        "print(\"MAPE: test = \",scores_multi_transit_d[1])"
      ],
      "execution_count": null,
      "outputs": [
        {
          "output_type": "stream",
          "name": "stdout",
          "text": [
            "MAPE: training =  4.219888210296631\n",
            "MAPE: test =  16.287612915039062\n"
          ]
        }
      ]
    },
    {
      "cell_type": "code",
      "metadata": {
        "id": "kKgKsv_jFDwE"
      },
      "source": [
        "# make a prediction\n",
        "# training set\n",
        "y_multi_transit_d_tr = pd.DataFrame(model_multi_transit_d.predict(X_d_tr_transit))\n",
        "\n",
        "# test set\n",
        "y_multi_transit_d_ts = pd.DataFrame(model_multi_transit_d.predict(X_d_ts_transit))\n",
        "\n",
        "# combine training and test predictions\n",
        "y_multi_transit_d_total = pd.concat([y_multi_transit_d_tr, y_multi_transit_d_ts], ignore_index=True)\n"
      ],
      "execution_count": null,
      "outputs": []
    },
    {
      "cell_type": "code",
      "metadata": {
        "id": "qKe_BpR_FDwE"
      },
      "source": [
        "multi_in = \"RNNs\"\n",
        "multi_de = \"RNNs\"\n",
        "tick_spacing = 5\n",
        "date_test = data['Date'][0+index+lag-1]"
      ],
      "execution_count": null,
      "outputs": []
    },
    {
      "cell_type": "markdown",
      "metadata": {
        "id": "USGZA93_FDwE"
      },
      "source": [
        "### Plots"
      ]
    },
    {
      "cell_type": "code",
      "metadata": {
        "colab": {
          "base_uri": "https://localhost:8080/",
          "height": 333
        },
        "id": "OKbqoVKTFDwE",
        "outputId": "e2bb952b-fe23-42d9-f0c6-458c1d8bc675"
      },
      "source": [
        "infect = pd.concat([y_multi_transit_i_total,\n",
        "                   data.Cases_daily.iloc[lag:].reset_index(drop = True), \n",
        "                   data.Date.iloc[lag:].reset_index(drop = True)],\n",
        "                   axis=1)\n",
        "infect.columns = ['multi_i', 'actual', 'Date']\n",
        "\n",
        "infect.dropna(subset = ['multi_i', 'actual', 'Date'], inplace=True)\n",
        "\n",
        "plt.plot(infect['Date'],infect['multi_i'], label = \"Predicted\")\n",
        "plt.plot(infect['Date'],infect['actual'], label = \"Actual\")\n",
        "plt.legend(frameon=False, loc='upper center', ncol = 2, fontsize = 'x-large')\n",
        "plt.title(\"Google: Retail Predicts Confirmed Cases\", fontsize = 'xx-large')\n",
        "plt.tick_params('x',labelrotation=90)\n",
        "plt.axvline(date_test, color=\"gray\", linestyle=\"--\")\n",
        "plt.grid(True, which='both', alpha=0.3)"
      ],
      "execution_count": null,
      "outputs": [
        {
          "output_type": "display_data",
          "data": {
            "image/png": "[encoded data removed]",
            "text/plain": [
              "<Figure size 432x288 with 1 Axes>"
            ]
          },
          "metadata": {
            "needs_background": "light"
          }
        }
      ]
    },
    {
      "cell_type": "code",
      "metadata": {
        "colab": {
          "base_uri": "https://localhost:8080/",
          "height": 333
        },
        "id": "KFiOhDNiFDwE",
        "outputId": "cae52d55-929f-4c1d-8d50-7b3b71f0409b"
      },
      "source": [
        "death = pd.concat([y_multi_transit_d_total,\n",
        "                   data.Deaths_daily.iloc[lag:].reset_index(drop = True), \n",
        "                   data.Date.iloc[lag:].reset_index(drop = True)],\n",
        "                  axis=1)\n",
        "death.columns = ['multi_d', 'actual', 'Date']\n",
        "\n",
        "death.dropna(subset = ['multi_d', 'actual', 'Date'], inplace=True)\n",
        "\n",
        "\n",
        "plt.plot(death['Date'],death['multi_d'], label = \"Predicted\")\n",
        "plt.plot(death['Date'],death['actual'], label = \"Actual\")\n",
        "plt.legend(frameon=False, loc='upper center', ncol = 2, fontsize = 'x-large')\n",
        "plt.title(\"Google: Retail Predicts Confirmed Deaths\", fontsize = 'xx-large')\n",
        "plt.tick_params('x',labelrotation=90)\n",
        "plt.axvline(date_test, color=\"gray\", linestyle=\"--\")\n",
        "plt.grid(True, which='both', alpha=0.3)\n"
      ],
      "execution_count": null,
      "outputs": [
        {
          "output_type": "display_data",
          "data": {
            "image/png": "[encoded data removed]",
            "text/plain": [
              "<Figure size 432x288 with 1 Axes>"
            ]
          },
          "metadata": {
            "needs_background": "light"
          }
        }
      ]
    },
    {
      "cell_type": "markdown",
      "metadata": {
        "id": "41pfaERVFDwE"
      },
      "source": [
        "### Result Table"
      ]
    },
    {
      "cell_type": "code",
      "metadata": {
        "colab": {
          "base_uri": "https://localhost:8080/",
          "height": 542
        },
        "id": "0LkdhhU7FDwF",
        "outputId": "d244e5cb-3bc4-4c81-e4f8-ebd618b4b80f"
      },
      "source": [
        "fig = go.Figure(data=[go.Table(header=dict(values=['Model Type', 'Best Model', 'Training', 'Test'],\n",
        "                                           line_color = 'gray'),\n",
        "                               cells=dict(values=[['Multivariate: Confirmed Cases',\n",
        "                                                   'Multivariate: Confirmed Deaths'],\n",
        "                                                  [multi_in, multi_de],\n",
        "                                    [round(scores_multi_transit_i1[1],3), round(scores_multi_transit_d1[1],3)],\n",
        "                                    [round(scores_multi_transit_i[1],3), round(scores_multi_transit_d[1],3)]],\n",
        "                            align=['left','center', 'center', 'center'],\n",
        "                            fill_color = 'white',\n",
        "                            line_color = 'gray'))\n",
        "                     ])\n",
        "fig.update_layout(title = \"Mean Absolute Percentage Error\",title_x=0.5)\n",
        "fig.show()"
      ],
      "execution_count": null,
      "outputs": [
        {
          "output_type": "display_data",
          "data": {
            "text/html": [
              "<html>\n",
              "<head><meta charset=\"utf-8\" /></head>\n",
              "<body>\n",
              "    <div>\n",
              "            <script src=\"https://cdnjs.cloudflare.com/ajax/libs/mathjax/2.7.5/MathJax.js?config=TeX-AMS-MML_SVG\"></script><script type=\"text/javascript\">if (window.MathJax) {MathJax.Hub.Config({SVG: {font: \"STIX-Web\"}});}</script>\n",
              "                <script type=\"text/javascript\">window.PlotlyConfig = {MathJaxConfig: 'local'};</script>\n",
              "        <script src=\"https://cdn.plot.ly/plotly-latest.min.js\"></script>    \n",
              "            <div id=\"2657cb13-c42b-405f-8180-dab8ae8aee98\" class=\"plotly-graph-div\" style=\"height:525px; width:100%;\"></div>\n",
              "            <script type=\"text/javascript\">\n",
              "                \n",
              "                    window.PLOTLYENV=window.PLOTLYENV || {};\n",
              "                    \n",
              "                if (document.getElementById(\"2657cb13-c42b-405f-8180-dab8ae8aee98\")) {\n",
              "                    Plotly.newPlot(\n",
              "                        '2657cb13-c42b-405f-8180-dab8ae8aee98',\n",
              "                        [{\"cells\": {\"align\": [\"left\", \"center\", \"center\", \"center\"], \"fill\": {\"color\": \"white\"}, \"line\": {\"color\": \"gray\"}, \"values\": [[\"Univariate: Confirmed Cases\", \"Univariate: Confirmed Deaths\", \"Multivariate: Confirmed Cases\", \"Multivariate: Confirmed Deaths\"], [\"RNNs\", \"LSTM\", \"CNN\", \"CNN\"], [2.715, 5.387, 3.367, 4.272], [6.312, 18.297, 43.023, 44.149]]}, \"header\": {\"line\": {\"color\": \"gray\"}, \"values\": [\"Model Type\", \"Best Model\", \"Training\", \"Test\"]}, \"type\": \"table\"}],\n",
              "                        {\"template\": {\"data\": {\"bar\": [{\"error_x\": {\"color\": \"#2a3f5f\"}, \"error_y\": {\"color\": \"#2a3f5f\"}, \"marker\": {\"line\": {\"color\": \"#E5ECF6\", \"width\": 0.5}}, \"type\": \"bar\"}], \"barpolar\": [{\"marker\": {\"line\": {\"color\": \"#E5ECF6\", \"width\": 0.5}}, \"type\": \"barpolar\"}], \"carpet\": [{\"aaxis\": {\"endlinecolor\": \"#2a3f5f\", \"gridcolor\": \"white\", \"linecolor\": \"white\", \"minorgridcolor\": \"white\", \"startlinecolor\": \"#2a3f5f\"}, \"baxis\": {\"endlinecolor\": \"#2a3f5f\", \"gridcolor\": \"white\", \"linecolor\": \"white\", \"minorgridcolor\": \"white\", \"startlinecolor\": \"#2a3f5f\"}, \"type\": \"carpet\"}], \"choropleth\": [{\"colorbar\": {\"outlinewidth\": 0, \"ticks\": \"\"}, \"type\": \"choropleth\"}], \"contour\": [{\"colorbar\": {\"outlinewidth\": 0, \"ticks\": \"\"}, \"colorscale\": [[0.0, \"#0d0887\"], [0.1111111111111111, \"#46039f\"], [0.2222222222222222, \"#7201a8\"], [0.3333333333333333, \"#9c179e\"], [0.4444444444444444, \"#bd3786\"], [0.5555555555555556, \"#d8576b\"], [0.6666666666666666, \"#ed7953\"], [0.7777777777777778, \"#fb9f3a\"], [0.8888888888888888, \"#fdca26\"], [1.0, \"#f0f921\"]], \"type\": \"contour\"}], \"contourcarpet\": [{\"colorbar\": {\"outlinewidth\": 0, \"ticks\": \"\"}, \"type\": \"contourcarpet\"}], \"heatmap\": [{\"colorbar\": {\"outlinewidth\": 0, \"ticks\": \"\"}, \"colorscale\": [[0.0, \"#0d0887\"], [0.1111111111111111, \"#46039f\"], [0.2222222222222222, \"#7201a8\"], [0.3333333333333333, \"#9c179e\"], [0.4444444444444444, \"#bd3786\"], [0.5555555555555556, \"#d8576b\"], [0.6666666666666666, \"#ed7953\"], [0.7777777777777778, \"#fb9f3a\"], [0.8888888888888888, \"#fdca26\"], [1.0, \"#f0f921\"]], \"type\": \"heatmap\"}], \"heatmapgl\": [{\"colorbar\": {\"outlinewidth\": 0, \"ticks\": \"\"}, \"colorscale\": [[0.0, \"#0d0887\"], [0.1111111111111111, \"#46039f\"], [0.2222222222222222, \"#7201a8\"], [0.3333333333333333, \"#9c179e\"], [0.4444444444444444, \"#bd3786\"], [0.5555555555555556, \"#d8576b\"], [0.6666666666666666, \"#ed7953\"], [0.7777777777777778, \"#fb9f3a\"], [0.8888888888888888, \"#fdca26\"], [1.0, \"#f0f921\"]], \"type\": \"heatmapgl\"}], \"histogram\": [{\"marker\": {\"colorbar\": {\"outlinewidth\": 0, \"ticks\": \"\"}}, \"type\": \"histogram\"}], \"histogram2d\": [{\"colorbar\": {\"outlinewidth\": 0, \"ticks\": \"\"}, \"colorscale\": [[0.0, \"#0d0887\"], [0.1111111111111111, \"#46039f\"], [0.2222222222222222, \"#7201a8\"], [0.3333333333333333, \"#9c179e\"], [0.4444444444444444, \"#bd3786\"], [0.5555555555555556, \"#d8576b\"], [0.6666666666666666, \"#ed7953\"], [0.7777777777777778, \"#fb9f3a\"], [0.8888888888888888, \"#fdca26\"], [1.0, \"#f0f921\"]], \"type\": \"histogram2d\"}], \"histogram2dcontour\": [{\"colorbar\": {\"outlinewidth\": 0, \"ticks\": \"\"}, \"colorscale\": [[0.0, \"#0d0887\"], [0.1111111111111111, \"#46039f\"], [0.2222222222222222, \"#7201a8\"], [0.3333333333333333, \"#9c179e\"], [0.4444444444444444, \"#bd3786\"], [0.5555555555555556, \"#d8576b\"], [0.6666666666666666, \"#ed7953\"], [0.7777777777777778, \"#fb9f3a\"], [0.8888888888888888, \"#fdca26\"], [1.0, \"#f0f921\"]], \"type\": \"histogram2dcontour\"}], \"mesh3d\": [{\"colorbar\": {\"outlinewidth\": 0, \"ticks\": \"\"}, \"type\": \"mesh3d\"}], \"parcoords\": [{\"line\": {\"colorbar\": {\"outlinewidth\": 0, \"ticks\": \"\"}}, \"type\": \"parcoords\"}], \"pie\": [{\"automargin\": true, \"type\": \"pie\"}], \"scatter\": [{\"marker\": {\"colorbar\": {\"outlinewidth\": 0, \"ticks\": \"\"}}, \"type\": \"scatter\"}], \"scatter3d\": [{\"line\": {\"colorbar\": {\"outlinewidth\": 0, \"ticks\": \"\"}}, \"marker\": {\"colorbar\": {\"outlinewidth\": 0, \"ticks\": \"\"}}, \"type\": \"scatter3d\"}], \"scattercarpet\": [{\"marker\": {\"colorbar\": {\"outlinewidth\": 0, \"ticks\": \"\"}}, \"type\": \"scattercarpet\"}], \"scattergeo\": [{\"marker\": {\"colorbar\": {\"outlinewidth\": 0, \"ticks\": \"\"}}, \"type\": \"scattergeo\"}], \"scattergl\": [{\"marker\": {\"colorbar\": {\"outlinewidth\": 0, \"ticks\": \"\"}}, \"type\": \"scattergl\"}], \"scattermapbox\": [{\"marker\": {\"colorbar\": {\"outlinewidth\": 0, \"ticks\": \"\"}}, \"type\": \"scattermapbox\"}], \"scatterpolar\": [{\"marker\": {\"colorbar\": {\"outlinewidth\": 0, \"ticks\": \"\"}}, \"type\": \"scatterpolar\"}], \"scatterpolargl\": [{\"marker\": {\"colorbar\": {\"outlinewidth\": 0, \"ticks\": \"\"}}, \"type\": \"scatterpolargl\"}], \"scatterternary\": [{\"marker\": {\"colorbar\": {\"outlinewidth\": 0, \"ticks\": \"\"}}, \"type\": \"scatterternary\"}], \"surface\": [{\"colorbar\": {\"outlinewidth\": 0, \"ticks\": \"\"}, \"colorscale\": [[0.0, \"#0d0887\"], [0.1111111111111111, \"#46039f\"], [0.2222222222222222, \"#7201a8\"], [0.3333333333333333, \"#9c179e\"], [0.4444444444444444, \"#bd3786\"], [0.5555555555555556, \"#d8576b\"], [0.6666666666666666, \"#ed7953\"], [0.7777777777777778, \"#fb9f3a\"], [0.8888888888888888, \"#fdca26\"], [1.0, \"#f0f921\"]], \"type\": \"surface\"}], \"table\": [{\"cells\": {\"fill\": {\"color\": \"#EBF0F8\"}, \"line\": {\"color\": \"white\"}}, \"header\": {\"fill\": {\"color\": \"#C8D4E3\"}, \"line\": {\"color\": \"white\"}}, \"type\": \"table\"}]}, \"layout\": {\"annotationdefaults\": {\"arrowcolor\": \"#2a3f5f\", \"arrowhead\": 0, \"arrowwidth\": 1}, \"coloraxis\": {\"colorbar\": {\"outlinewidth\": 0, \"ticks\": \"\"}}, \"colorscale\": {\"diverging\": [[0, \"#8e0152\"], [0.1, \"#c51b7d\"], [0.2, \"#de77ae\"], [0.3, \"#f1b6da\"], [0.4, \"#fde0ef\"], [0.5, \"#f7f7f7\"], [0.6, \"#e6f5d0\"], [0.7, \"#b8e186\"], [0.8, \"#7fbc41\"], [0.9, \"#4d9221\"], [1, \"#276419\"]], \"sequential\": [[0.0, \"#0d0887\"], [0.1111111111111111, \"#46039f\"], [0.2222222222222222, \"#7201a8\"], [0.3333333333333333, \"#9c179e\"], [0.4444444444444444, \"#bd3786\"], [0.5555555555555556, \"#d8576b\"], [0.6666666666666666, \"#ed7953\"], [0.7777777777777778, \"#fb9f3a\"], [0.8888888888888888, \"#fdca26\"], [1.0, \"#f0f921\"]], \"sequentialminus\": [[0.0, \"#0d0887\"], [0.1111111111111111, \"#46039f\"], [0.2222222222222222, \"#7201a8\"], [0.3333333333333333, \"#9c179e\"], [0.4444444444444444, \"#bd3786\"], [0.5555555555555556, \"#d8576b\"], [0.6666666666666666, \"#ed7953\"], [0.7777777777777778, \"#fb9f3a\"], [0.8888888888888888, \"#fdca26\"], [1.0, \"#f0f921\"]]}, \"colorway\": [\"#636efa\", \"#EF553B\", \"#00cc96\", \"#ab63fa\", \"#FFA15A\", \"#19d3f3\", \"#FF6692\", \"#B6E880\", \"#FF97FF\", \"#FECB52\"], \"font\": {\"color\": \"#2a3f5f\"}, \"geo\": {\"bgcolor\": \"white\", \"lakecolor\": \"white\", \"landcolor\": \"#E5ECF6\", \"showlakes\": true, \"showland\": true, \"subunitcolor\": \"white\"}, \"hoverlabel\": {\"align\": \"left\"}, \"hovermode\": \"closest\", \"mapbox\": {\"style\": \"light\"}, \"paper_bgcolor\": \"white\", \"plot_bgcolor\": \"#E5ECF6\", \"polar\": {\"angularaxis\": {\"gridcolor\": \"white\", \"linecolor\": \"white\", \"ticks\": \"\"}, \"bgcolor\": \"#E5ECF6\", \"radialaxis\": {\"gridcolor\": \"white\", \"linecolor\": \"white\", \"ticks\": \"\"}}, \"scene\": {\"xaxis\": {\"backgroundcolor\": \"#E5ECF6\", \"gridcolor\": \"white\", \"gridwidth\": 2, \"linecolor\": \"white\", \"showbackground\": true, \"ticks\": \"\", \"zerolinecolor\": \"white\"}, \"yaxis\": {\"backgroundcolor\": \"#E5ECF6\", \"gridcolor\": \"white\", \"gridwidth\": 2, \"linecolor\": \"white\", \"showbackground\": true, \"ticks\": \"\", \"zerolinecolor\": \"white\"}, \"zaxis\": {\"backgroundcolor\": \"#E5ECF6\", \"gridcolor\": \"white\", \"gridwidth\": 2, \"linecolor\": \"white\", \"showbackground\": true, \"ticks\": \"\", \"zerolinecolor\": \"white\"}}, \"shapedefaults\": {\"line\": {\"color\": \"#2a3f5f\"}}, \"ternary\": {\"aaxis\": {\"gridcolor\": \"white\", \"linecolor\": \"white\", \"ticks\": \"\"}, \"baxis\": {\"gridcolor\": \"white\", \"linecolor\": \"white\", \"ticks\": \"\"}, \"bgcolor\": \"#E5ECF6\", \"caxis\": {\"gridcolor\": \"white\", \"linecolor\": \"white\", \"ticks\": \"\"}}, \"title\": {\"x\": 0.05}, \"xaxis\": {\"automargin\": true, \"gridcolor\": \"white\", \"linecolor\": \"white\", \"ticks\": \"\", \"title\": {\"standoff\": 15}, \"zerolinecolor\": \"white\", \"zerolinewidth\": 2}, \"yaxis\": {\"automargin\": true, \"gridcolor\": \"white\", \"linecolor\": \"white\", \"ticks\": \"\", \"title\": {\"standoff\": 15}, \"zerolinecolor\": \"white\", \"zerolinewidth\": 2}}}, \"title\": {\"text\": \"Mean Absolute Percentage Error\", \"x\": 0.5}},\n",
              "                        {\"responsive\": true}\n",
              "                    ).then(function(){\n",
              "                            \n",
              "var gd = document.getElementById('2657cb13-c42b-405f-8180-dab8ae8aee98');\n",
              "var x = new MutationObserver(function (mutations, observer) {{\n",
              "        var display = window.getComputedStyle(gd).display;\n",
              "        if (!display || display === 'none') {{\n",
              "            console.log([gd, 'removed!']);\n",
              "            Plotly.purge(gd);\n",
              "            observer.disconnect();\n",
              "        }}\n",
              "}});\n",
              "\n",
              "// Listen for the removal of the full notebook cells\n",
              "var notebookContainer = gd.closest('#notebook-container');\n",
              "if (notebookContainer) {{\n",
              "    x.observe(notebookContainer, {childList: true});\n",
              "}}\n",
              "\n",
              "// Listen for the clearing of the current output cell\n",
              "var outputEl = gd.closest('.output');\n",
              "if (outputEl) {{\n",
              "    x.observe(outputEl, {childList: true});\n",
              "}}\n",
              "\n",
              "                        })\n",
              "                };\n",
              "                \n",
              "            </script>\n",
              "        </div>\n",
              "</body>\n",
              "</html>"
            ]
          },
          "metadata": {}
        }
      ]
    },
    {
      "cell_type": "markdown",
      "metadata": {
        "id": "9eLcV7p3F2Rz"
      },
      "source": [
        "# Workplace"
      ]
    },
    {
      "cell_type": "markdown",
      "metadata": {
        "id": "1y25dPFSF2Rz"
      },
      "source": [
        "## Analysis\n",
        "\n",
        "---\n",
        "\n",
        "\n",
        "\n",
        "### Hyperparameters Tuning\n",
        "\n",
        "\n",
        "Using the training set matrices for confirmed cases and confirmed deaths and univiariate and multivariate, we tuned for the most optimal numbers of parameters, staring from basic architectures. In this case, we searched for numbers of nodes for LSTM, GRU, and RNNs, and filter, kernel size, and pool for CNN. In the input layer, we added instance normalization to make all values between 0 and 1. Since we were dealing with some data that we had never seen before and the data seemed to be non-stationary, instance normalization might provide more advantages than typical standardization or normalization. The numbers of nodes that we used for our LSTM, GRU, and RNNs experiments were 4, 8, 16, 32, 64, 128, 256, 512, and 1024. Similarly, we used the same pool for CNN filter with kernel size of 3, 5 and 7, and pool of 2 and 3. The activation function for this hidden layer was sigmoid. Next, we added another instance normalization. Finally, the output layer contained one node and Linear activation function. Epoch and batch size were 50 and 1, respectively. We used mean squared error (MSE) as our loss function, ADAM optimization and mean absolute percentage error (MAPE) as a metric for model evaluation.\n"
      ]
    },
    {
      "cell_type": "markdown",
      "metadata": {
        "id": "5ZR7j3-4F2R0"
      },
      "source": [
        "### CNN"
      ]
    },
    {
      "cell_type": "code",
      "metadata": {
        "colab": {
          "base_uri": "https://localhost:8080/",
          "height": 545
        },
        "id": "diuR60MRF2R0",
        "outputId": "ba9d114a-eb52-4dd9-8803-25691c9b1e09"
      },
      "source": [
        "# Multivariate CNN confirmed cases\n",
        "\n",
        "kernel = [3, 5, 7]\n",
        "pool = [2]\n",
        "cnn_i_multi_workplace = list()\n",
        "\n",
        "for i in kernel:\n",
        "  for j in pool: \n",
        "    score = list()\n",
        "    kernel_size, pool = [i],[j]\n",
        "    score = run_experiment(filter, kernel_size, pool,X_i_tr_workplace, y_i_tr)\n",
        "    cnn_i_multi_workplace.append(score)\n",
        "\n",
        "pool = [3]\n",
        "\n",
        "for i in kernel:\n",
        "  for j in pool: \n",
        "    kernel_size, pool = [i],[j]\n",
        "    score = run_experiment(filter, kernel_size, pool, X_i_tr_workplace, y_i_tr)\n",
        "    cnn_i_multi_workplace.append(score)\n",
        "\n",
        "cnn_i_multi_workplace = pd.DataFrame(cnn_i_multi_workplace).T\n",
        "cnn_i_multi_workplace.columns = ['k3p2', 'k5p2','k7p2', 'k3p3', 'k5p3', 'k7p3']"
      ],
      "execution_count": null,
      "outputs": [
        {
          "output_type": "stream",
          "name": "stdout",
          "text": [
            "filter = 2, kernel size = 3, pooling size = 2: 5.494\n",
            "filter = 4, kernel size = 3, pooling size = 2: 5.493\n",
            "filter = 8, kernel size = 3, pooling size = 2: 5.845\n",
            "filter = 16, kernel size = 3, pooling size = 2: 4.422\n",
            "filter = 32, kernel size = 3, pooling size = 2: 4.246\n",
            "filter = 64, kernel size = 3, pooling size = 2: 3.740\n",
            "filter = 128, kernel size = 3, pooling size = 2: 3.645\n",
            "filter = 256, kernel size = 3, pooling size = 2: 4.064\n",
            "filter = 512, kernel size = 3, pooling size = 2: 4.706\n"
          ]
        },
        {
          "output_type": "error",
          "ename": "KeyboardInterrupt",
          "evalue": "ignored",
          "traceback": [
            "\u001b[0;31m---------------------------------------------------------------------------\u001b[0m",
            "\u001b[0;31mKeyboardInterrupt\u001b[0m                         Traceback (most recent call last)",
            "\u001b[0;32m<ipython-input-21-3d9988d9b566>\u001b[0m in \u001b[0;36m<module>\u001b[0;34m()\u001b[0m\n\u001b[1;32m      9\u001b[0m     \u001b[0mscore\u001b[0m \u001b[0;34m=\u001b[0m \u001b[0mlist\u001b[0m\u001b[0;34m(\u001b[0m\u001b[0;34m)\u001b[0m\u001b[0;34m\u001b[0m\u001b[0;34m\u001b[0m\u001b[0m\n\u001b[1;32m     10\u001b[0m     \u001b[0mkernel_size\u001b[0m\u001b[0;34m,\u001b[0m \u001b[0mpool\u001b[0m \u001b[0;34m=\u001b[0m \u001b[0;34m[\u001b[0m\u001b[0mi\u001b[0m\u001b[0;34m]\u001b[0m\u001b[0;34m,\u001b[0m\u001b[0;34m[\u001b[0m\u001b[0mj\u001b[0m\u001b[0;34m]\u001b[0m\u001b[0;34m\u001b[0m\u001b[0;34m\u001b[0m\u001b[0m\n\u001b[0;32m---> 11\u001b[0;31m     \u001b[0mscore\u001b[0m \u001b[0;34m=\u001b[0m \u001b[0mrun_experiment\u001b[0m\u001b[0;34m(\u001b[0m\u001b[0mfilter\u001b[0m\u001b[0;34m,\u001b[0m \u001b[0mkernel_size\u001b[0m\u001b[0;34m,\u001b[0m \u001b[0mpool\u001b[0m\u001b[0;34m,\u001b[0m\u001b[0mX_i_tr_workplace\u001b[0m\u001b[0;34m,\u001b[0m \u001b[0my_i_tr\u001b[0m\u001b[0;34m)\u001b[0m\u001b[0;34m\u001b[0m\u001b[0;34m\u001b[0m\u001b[0m\n\u001b[0m\u001b[1;32m     12\u001b[0m     \u001b[0mcnn_i_multi_workplace\u001b[0m\u001b[0;34m.\u001b[0m\u001b[0mappend\u001b[0m\u001b[0;34m(\u001b[0m\u001b[0mscore\u001b[0m\u001b[0;34m)\u001b[0m\u001b[0;34m\u001b[0m\u001b[0;34m\u001b[0m\u001b[0m\n\u001b[1;32m     13\u001b[0m \u001b[0;34m\u001b[0m\u001b[0m\n",
            "\u001b[0;32m<ipython-input-20-3934c508390a>\u001b[0m in \u001b[0;36mrun_experiment\u001b[0;34m(filters, kernel_size, pool, trainX, trainy)\u001b[0m\n\u001b[1;32m     28\u001b[0m       \u001b[0;32mfor\u001b[0m \u001b[0mkernel\u001b[0m \u001b[0;32min\u001b[0m \u001b[0mkernel_size\u001b[0m\u001b[0;34m:\u001b[0m\u001b[0;34m\u001b[0m\u001b[0;34m\u001b[0m\u001b[0m\n\u001b[1;32m     29\u001b[0m         \u001b[0;32mfor\u001b[0m \u001b[0mpooling\u001b[0m \u001b[0;32min\u001b[0m \u001b[0mpool\u001b[0m\u001b[0;34m:\u001b[0m\u001b[0;34m\u001b[0m\u001b[0;34m\u001b[0m\u001b[0m\n\u001b[0;32m---> 30\u001b[0;31m           \u001b[0mscore\u001b[0m \u001b[0;34m=\u001b[0m \u001b[0mevaluate_cnn\u001b[0m\u001b[0;34m(\u001b[0m\u001b[0mtrainX\u001b[0m\u001b[0;34m,\u001b[0m \u001b[0mtrainy\u001b[0m\u001b[0;34m,\u001b[0m \u001b[0mfilter\u001b[0m\u001b[0;34m,\u001b[0m \u001b[0mkernel_size\u001b[0m\u001b[0;34m,\u001b[0m \u001b[0mpool\u001b[0m\u001b[0;34m)\u001b[0m\u001b[0;34m\u001b[0m\u001b[0;34m\u001b[0m\u001b[0m\n\u001b[0m\u001b[1;32m     31\u001b[0m           \u001b[0mprint\u001b[0m\u001b[0;34m(\u001b[0m\u001b[0;34m'filter = %d, kernel size = %d, pooling size = %d: %.3f'\u001b[0m \u001b[0;34m%\u001b[0m \u001b[0;34m(\u001b[0m\u001b[0mfilter\u001b[0m\u001b[0;34m,\u001b[0m \u001b[0mkernel\u001b[0m\u001b[0;34m,\u001b[0m \u001b[0mpooling\u001b[0m\u001b[0;34m,\u001b[0m \u001b[0mscore\u001b[0m\u001b[0;34m)\u001b[0m\u001b[0;34m)\u001b[0m\u001b[0;34m\u001b[0m\u001b[0;34m\u001b[0m\u001b[0m\n\u001b[1;32m     32\u001b[0m           \u001b[0mall_scores\u001b[0m\u001b[0;34m.\u001b[0m\u001b[0mappend\u001b[0m\u001b[0;34m(\u001b[0m\u001b[0mscore\u001b[0m\u001b[0;34m)\u001b[0m\u001b[0;34m\u001b[0m\u001b[0;34m\u001b[0m\u001b[0m\n",
            "\u001b[0;32m<ipython-input-20-3934c508390a>\u001b[0m in \u001b[0;36mevaluate_cnn\u001b[0;34m(trainX, trainy, filter, kernel_size, pool)\u001b[0m\n\u001b[1;32m     16\u001b[0m \u001b[0;34m\u001b[0m\u001b[0m\n\u001b[1;32m     17\u001b[0m     \u001b[0;31m# fit network\u001b[0m\u001b[0;34m\u001b[0m\u001b[0;34m\u001b[0m\u001b[0;34m\u001b[0m\u001b[0m\n\u001b[0;32m---> 18\u001b[0;31m     \u001b[0mmodel\u001b[0m\u001b[0;34m.\u001b[0m\u001b[0mfit\u001b[0m\u001b[0;34m(\u001b[0m\u001b[0mtrainX\u001b[0m\u001b[0;34m,\u001b[0m \u001b[0mtrainy\u001b[0m\u001b[0;34m,\u001b[0m \u001b[0mepochs\u001b[0m\u001b[0;34m=\u001b[0m\u001b[0mepochs\u001b[0m\u001b[0;34m,\u001b[0m \u001b[0mbatch_size\u001b[0m\u001b[0;34m=\u001b[0m\u001b[0mbatch_size\u001b[0m\u001b[0;34m,\u001b[0m \u001b[0mverbose\u001b[0m\u001b[0;34m=\u001b[0m\u001b[0mverbose\u001b[0m\u001b[0;34m,\u001b[0m \u001b[0mshuffle\u001b[0m \u001b[0;34m=\u001b[0m \u001b[0;32mFalse\u001b[0m\u001b[0;34m)\u001b[0m\u001b[0;34m\u001b[0m\u001b[0;34m\u001b[0m\u001b[0m\n\u001b[0m\u001b[1;32m     19\u001b[0m     \u001b[0;31m# evaluate model\u001b[0m\u001b[0;34m\u001b[0m\u001b[0;34m\u001b[0m\u001b[0;34m\u001b[0m\u001b[0m\n\u001b[1;32m     20\u001b[0m     \u001b[0m_\u001b[0m\u001b[0;34m,\u001b[0m \u001b[0maccuracy\u001b[0m \u001b[0;34m=\u001b[0m \u001b[0mmodel\u001b[0m\u001b[0;34m.\u001b[0m\u001b[0mevaluate\u001b[0m\u001b[0;34m(\u001b[0m\u001b[0mtrainX\u001b[0m\u001b[0;34m,\u001b[0m \u001b[0mtrainy\u001b[0m\u001b[0;34m,\u001b[0m \u001b[0mbatch_size\u001b[0m\u001b[0;34m=\u001b[0m\u001b[0mbatch_size\u001b[0m\u001b[0;34m,\u001b[0m \u001b[0mverbose\u001b[0m\u001b[0;34m=\u001b[0m\u001b[0;36m0\u001b[0m\u001b[0;34m)\u001b[0m\u001b[0;34m\u001b[0m\u001b[0;34m\u001b[0m\u001b[0m\n",
            "\u001b[0;32m/usr/local/lib/python3.7/dist-packages/keras/utils/traceback_utils.py\u001b[0m in \u001b[0;36merror_handler\u001b[0;34m(*args, **kwargs)\u001b[0m\n\u001b[1;32m     62\u001b[0m     \u001b[0mfiltered_tb\u001b[0m \u001b[0;34m=\u001b[0m \u001b[0;32mNone\u001b[0m\u001b[0;34m\u001b[0m\u001b[0;34m\u001b[0m\u001b[0m\n\u001b[1;32m     63\u001b[0m     \u001b[0;32mtry\u001b[0m\u001b[0;34m:\u001b[0m\u001b[0;34m\u001b[0m\u001b[0;34m\u001b[0m\u001b[0m\n\u001b[0;32m---> 64\u001b[0;31m       \u001b[0;32mreturn\u001b[0m \u001b[0mfn\u001b[0m\u001b[0;34m(\u001b[0m\u001b[0;34m*\u001b[0m\u001b[0margs\u001b[0m\u001b[0;34m,\u001b[0m \u001b[0;34m**\u001b[0m\u001b[0mkwargs\u001b[0m\u001b[0;34m)\u001b[0m\u001b[0;34m\u001b[0m\u001b[0;34m\u001b[0m\u001b[0m\n\u001b[0m\u001b[1;32m     65\u001b[0m     \u001b[0;32mexcept\u001b[0m \u001b[0mException\u001b[0m \u001b[0;32mas\u001b[0m \u001b[0me\u001b[0m\u001b[0;34m:\u001b[0m  \u001b[0;31m# pylint: disable=broad-except\u001b[0m\u001b[0;34m\u001b[0m\u001b[0;34m\u001b[0m\u001b[0m\n\u001b[1;32m     66\u001b[0m       \u001b[0mfiltered_tb\u001b[0m \u001b[0;34m=\u001b[0m \u001b[0m_process_traceback_frames\u001b[0m\u001b[0;34m(\u001b[0m\u001b[0me\u001b[0m\u001b[0;34m.\u001b[0m\u001b[0m__traceback__\u001b[0m\u001b[0;34m)\u001b[0m\u001b[0;34m\u001b[0m\u001b[0;34m\u001b[0m\u001b[0m\n",
            "\u001b[0;32m/usr/local/lib/python3.7/dist-packages/keras/engine/training.py\u001b[0m in \u001b[0;36mfit\u001b[0;34m(self, x, y, batch_size, epochs, verbose, callbacks, validation_split, validation_data, shuffle, class_weight, sample_weight, initial_epoch, steps_per_epoch, validation_steps, validation_batch_size, validation_freq, max_queue_size, workers, use_multiprocessing)\u001b[0m\n\u001b[1;32m   1214\u001b[0m                 _r=1):\n\u001b[1;32m   1215\u001b[0m               \u001b[0mcallbacks\u001b[0m\u001b[0;34m.\u001b[0m\u001b[0mon_train_batch_begin\u001b[0m\u001b[0;34m(\u001b[0m\u001b[0mstep\u001b[0m\u001b[0;34m)\u001b[0m\u001b[0;34m\u001b[0m\u001b[0;34m\u001b[0m\u001b[0m\n\u001b[0;32m-> 1216\u001b[0;31m               \u001b[0mtmp_logs\u001b[0m \u001b[0;34m=\u001b[0m \u001b[0mself\u001b[0m\u001b[0;34m.\u001b[0m\u001b[0mtrain_function\u001b[0m\u001b[0;34m(\u001b[0m\u001b[0miterator\u001b[0m\u001b[0;34m)\u001b[0m\u001b[0;34m\u001b[0m\u001b[0;34m\u001b[0m\u001b[0m\n\u001b[0m\u001b[1;32m   1217\u001b[0m               \u001b[0;32mif\u001b[0m \u001b[0mdata_handler\u001b[0m\u001b[0;34m.\u001b[0m\u001b[0mshould_sync\u001b[0m\u001b[0;34m:\u001b[0m\u001b[0;34m\u001b[0m\u001b[0;34m\u001b[0m\u001b[0m\n\u001b[1;32m   1218\u001b[0m                 \u001b[0mcontext\u001b[0m\u001b[0;34m.\u001b[0m\u001b[0masync_wait\u001b[0m\u001b[0;34m(\u001b[0m\u001b[0;34m)\u001b[0m\u001b[0;34m\u001b[0m\u001b[0;34m\u001b[0m\u001b[0m\n",
            "\u001b[0;32m/usr/local/lib/python3.7/dist-packages/tensorflow/python/util/traceback_utils.py\u001b[0m in \u001b[0;36merror_handler\u001b[0;34m(*args, **kwargs)\u001b[0m\n\u001b[1;32m    148\u001b[0m     \u001b[0mfiltered_tb\u001b[0m \u001b[0;34m=\u001b[0m \u001b[0;32mNone\u001b[0m\u001b[0;34m\u001b[0m\u001b[0;34m\u001b[0m\u001b[0m\n\u001b[1;32m    149\u001b[0m     \u001b[0;32mtry\u001b[0m\u001b[0;34m:\u001b[0m\u001b[0;34m\u001b[0m\u001b[0;34m\u001b[0m\u001b[0m\n\u001b[0;32m--> 150\u001b[0;31m       \u001b[0;32mreturn\u001b[0m \u001b[0mfn\u001b[0m\u001b[0;34m(\u001b[0m\u001b[0;34m*\u001b[0m\u001b[0margs\u001b[0m\u001b[0;34m,\u001b[0m \u001b[0;34m**\u001b[0m\u001b[0mkwargs\u001b[0m\u001b[0;34m)\u001b[0m\u001b[0;34m\u001b[0m\u001b[0;34m\u001b[0m\u001b[0m\n\u001b[0m\u001b[1;32m    151\u001b[0m     \u001b[0;32mexcept\u001b[0m \u001b[0mException\u001b[0m \u001b[0;32mas\u001b[0m \u001b[0me\u001b[0m\u001b[0;34m:\u001b[0m\u001b[0;34m\u001b[0m\u001b[0;34m\u001b[0m\u001b[0m\n\u001b[1;32m    152\u001b[0m       \u001b[0mfiltered_tb\u001b[0m \u001b[0;34m=\u001b[0m \u001b[0m_process_traceback_frames\u001b[0m\u001b[0;34m(\u001b[0m\u001b[0me\u001b[0m\u001b[0;34m.\u001b[0m\u001b[0m__traceback__\u001b[0m\u001b[0;34m)\u001b[0m\u001b[0;34m\u001b[0m\u001b[0;34m\u001b[0m\u001b[0m\n",
            "\u001b[0;32m/usr/local/lib/python3.7/dist-packages/tensorflow/python/eager/def_function.py\u001b[0m in \u001b[0;36m__call__\u001b[0;34m(self, *args, **kwds)\u001b[0m\n\u001b[1;32m    908\u001b[0m \u001b[0;34m\u001b[0m\u001b[0m\n\u001b[1;32m    909\u001b[0m       \u001b[0;32mwith\u001b[0m \u001b[0mOptionalXlaContext\u001b[0m\u001b[0;34m(\u001b[0m\u001b[0mself\u001b[0m\u001b[0;34m.\u001b[0m\u001b[0m_jit_compile\u001b[0m\u001b[0;34m)\u001b[0m\u001b[0;34m:\u001b[0m\u001b[0;34m\u001b[0m\u001b[0;34m\u001b[0m\u001b[0m\n\u001b[0;32m--> 910\u001b[0;31m         \u001b[0mresult\u001b[0m \u001b[0;34m=\u001b[0m \u001b[0mself\u001b[0m\u001b[0;34m.\u001b[0m\u001b[0m_call\u001b[0m\u001b[0;34m(\u001b[0m\u001b[0;34m*\u001b[0m\u001b[0margs\u001b[0m\u001b[0;34m,\u001b[0m \u001b[0;34m**\u001b[0m\u001b[0mkwds\u001b[0m\u001b[0;34m)\u001b[0m\u001b[0;34m\u001b[0m\u001b[0;34m\u001b[0m\u001b[0m\n\u001b[0m\u001b[1;32m    911\u001b[0m \u001b[0;34m\u001b[0m\u001b[0m\n\u001b[1;32m    912\u001b[0m       \u001b[0mnew_tracing_count\u001b[0m \u001b[0;34m=\u001b[0m \u001b[0mself\u001b[0m\u001b[0;34m.\u001b[0m\u001b[0mexperimental_get_tracing_count\u001b[0m\u001b[0;34m(\u001b[0m\u001b[0;34m)\u001b[0m\u001b[0;34m\u001b[0m\u001b[0;34m\u001b[0m\u001b[0m\n",
            "\u001b[0;32m/usr/local/lib/python3.7/dist-packages/tensorflow/python/eager/def_function.py\u001b[0m in \u001b[0;36m_call\u001b[0;34m(self, *args, **kwds)\u001b[0m\n\u001b[1;32m    940\u001b[0m       \u001b[0;31m# In this case we have created variables on the first call, so we run the\u001b[0m\u001b[0;34m\u001b[0m\u001b[0;34m\u001b[0m\u001b[0;34m\u001b[0m\u001b[0m\n\u001b[1;32m    941\u001b[0m       \u001b[0;31m# defunned version which is guaranteed to never create variables.\u001b[0m\u001b[0;34m\u001b[0m\u001b[0;34m\u001b[0m\u001b[0;34m\u001b[0m\u001b[0m\n\u001b[0;32m--> 942\u001b[0;31m       \u001b[0;32mreturn\u001b[0m \u001b[0mself\u001b[0m\u001b[0;34m.\u001b[0m\u001b[0m_stateless_fn\u001b[0m\u001b[0;34m(\u001b[0m\u001b[0;34m*\u001b[0m\u001b[0margs\u001b[0m\u001b[0;34m,\u001b[0m \u001b[0;34m**\u001b[0m\u001b[0mkwds\u001b[0m\u001b[0;34m)\u001b[0m  \u001b[0;31m# pylint: disable=not-callable\u001b[0m\u001b[0;34m\u001b[0m\u001b[0;34m\u001b[0m\u001b[0m\n\u001b[0m\u001b[1;32m    943\u001b[0m     \u001b[0;32melif\u001b[0m \u001b[0mself\u001b[0m\u001b[0;34m.\u001b[0m\u001b[0m_stateful_fn\u001b[0m \u001b[0;32mis\u001b[0m \u001b[0;32mnot\u001b[0m \u001b[0;32mNone\u001b[0m\u001b[0;34m:\u001b[0m\u001b[0;34m\u001b[0m\u001b[0;34m\u001b[0m\u001b[0m\n\u001b[1;32m    944\u001b[0m       \u001b[0;31m# Release the lock early so that multiple threads can perform the call\u001b[0m\u001b[0;34m\u001b[0m\u001b[0;34m\u001b[0m\u001b[0;34m\u001b[0m\u001b[0m\n",
            "\u001b[0;32m/usr/local/lib/python3.7/dist-packages/tensorflow/python/eager/function.py\u001b[0m in \u001b[0;36m__call__\u001b[0;34m(self, *args, **kwargs)\u001b[0m\n\u001b[1;32m   3129\u001b[0m        filtered_flat_args) = self._maybe_define_function(args, kwargs)\n\u001b[1;32m   3130\u001b[0m     return graph_function._call_flat(\n\u001b[0;32m-> 3131\u001b[0;31m         filtered_flat_args, captured_inputs=graph_function.captured_inputs)  # pylint: disable=protected-access\n\u001b[0m\u001b[1;32m   3132\u001b[0m \u001b[0;34m\u001b[0m\u001b[0m\n\u001b[1;32m   3133\u001b[0m   \u001b[0;34m@\u001b[0m\u001b[0mproperty\u001b[0m\u001b[0;34m\u001b[0m\u001b[0;34m\u001b[0m\u001b[0m\n",
            "\u001b[0;32m/usr/local/lib/python3.7/dist-packages/tensorflow/python/eager/function.py\u001b[0m in \u001b[0;36m_call_flat\u001b[0;34m(self, args, captured_inputs, cancellation_manager)\u001b[0m\n\u001b[1;32m   1958\u001b[0m       \u001b[0;31m# No tape is watching; skip to running the function.\u001b[0m\u001b[0;34m\u001b[0m\u001b[0;34m\u001b[0m\u001b[0;34m\u001b[0m\u001b[0m\n\u001b[1;32m   1959\u001b[0m       return self._build_call_outputs(self._inference_function.call(\n\u001b[0;32m-> 1960\u001b[0;31m           ctx, args, cancellation_manager=cancellation_manager))\n\u001b[0m\u001b[1;32m   1961\u001b[0m     forward_backward = self._select_forward_and_backward_functions(\n\u001b[1;32m   1962\u001b[0m         \u001b[0margs\u001b[0m\u001b[0;34m,\u001b[0m\u001b[0;34m\u001b[0m\u001b[0;34m\u001b[0m\u001b[0m\n",
            "\u001b[0;32m/usr/local/lib/python3.7/dist-packages/tensorflow/python/eager/function.py\u001b[0m in \u001b[0;36mcall\u001b[0;34m(self, ctx, args, cancellation_manager)\u001b[0m\n\u001b[1;32m    601\u001b[0m               \u001b[0minputs\u001b[0m\u001b[0;34m=\u001b[0m\u001b[0margs\u001b[0m\u001b[0;34m,\u001b[0m\u001b[0;34m\u001b[0m\u001b[0;34m\u001b[0m\u001b[0m\n\u001b[1;32m    602\u001b[0m               \u001b[0mattrs\u001b[0m\u001b[0;34m=\u001b[0m\u001b[0mattrs\u001b[0m\u001b[0;34m,\u001b[0m\u001b[0;34m\u001b[0m\u001b[0;34m\u001b[0m\u001b[0m\n\u001b[0;32m--> 603\u001b[0;31m               ctx=ctx)\n\u001b[0m\u001b[1;32m    604\u001b[0m         \u001b[0;32melse\u001b[0m\u001b[0;34m:\u001b[0m\u001b[0;34m\u001b[0m\u001b[0;34m\u001b[0m\u001b[0m\n\u001b[1;32m    605\u001b[0m           outputs = execute.execute_with_cancellation(\n",
            "\u001b[0;32m/usr/local/lib/python3.7/dist-packages/tensorflow/python/eager/execute.py\u001b[0m in \u001b[0;36mquick_execute\u001b[0;34m(op_name, num_outputs, inputs, attrs, ctx, name)\u001b[0m\n\u001b[1;32m     57\u001b[0m     \u001b[0mctx\u001b[0m\u001b[0;34m.\u001b[0m\u001b[0mensure_initialized\u001b[0m\u001b[0;34m(\u001b[0m\u001b[0;34m)\u001b[0m\u001b[0;34m\u001b[0m\u001b[0;34m\u001b[0m\u001b[0m\n\u001b[1;32m     58\u001b[0m     tensors = pywrap_tfe.TFE_Py_Execute(ctx._handle, device_name, op_name,\n\u001b[0;32m---> 59\u001b[0;31m                                         inputs, attrs, num_outputs)\n\u001b[0m\u001b[1;32m     60\u001b[0m   \u001b[0;32mexcept\u001b[0m \u001b[0mcore\u001b[0m\u001b[0;34m.\u001b[0m\u001b[0m_NotOkStatusException\u001b[0m \u001b[0;32mas\u001b[0m \u001b[0me\u001b[0m\u001b[0;34m:\u001b[0m\u001b[0;34m\u001b[0m\u001b[0;34m\u001b[0m\u001b[0m\n\u001b[1;32m     61\u001b[0m     \u001b[0;32mif\u001b[0m \u001b[0mname\u001b[0m \u001b[0;32mis\u001b[0m \u001b[0;32mnot\u001b[0m \u001b[0;32mNone\u001b[0m\u001b[0;34m:\u001b[0m\u001b[0;34m\u001b[0m\u001b[0;34m\u001b[0m\u001b[0m\n",
            "\u001b[0;31mKeyboardInterrupt\u001b[0m: "
          ]
        }
      ]
    },
    {
      "cell_type": "code",
      "metadata": {
        "id": "4xz-Qb1NF2R0"
      },
      "source": [
        "# Multivariate CNN confirmed deaths\n",
        "\n",
        "pool = [2]\n",
        "cnn_d_multi_workplace = list()\n",
        "\n",
        "for i in kernel:\n",
        "  for j in pool:\n",
        "    score = list() \n",
        "    kernel_size, pool = [i],[j]\n",
        "    score = run_experiment(filter, kernel_size, pool, X_d_tr_workplace, y_d_tr)\n",
        "    cnn_d_multi_workplace.append(score)\n",
        "\n",
        "pool = [3]\n",
        "\n",
        "for i in kernel:\n",
        "  for j in pool: \n",
        "    score = list()\n",
        "    kernel_size, pool = [i],[j]\n",
        "    score = run_experiment(filter, kernel_size, pool, X_d_tr_workplace, y_d_tr)\n",
        "    cnn_d_multi_workplace.append(score)\n",
        "\n",
        "cnn_d_multi_workplace = pd.DataFrame(cnn_d_multi_workplace).T\n",
        "cnn_d_multi_workplace.columns = ['k3p2', 'k3p3','k5p2', 'k7p2', 'k5p3', 'k7p3']"
      ],
      "execution_count": null,
      "outputs": []
    },
    {
      "cell_type": "markdown",
      "metadata": {
        "id": "v-qN6cz2F2R1"
      },
      "source": [
        "### LSTM"
      ]
    },
    {
      "cell_type": "code",
      "metadata": {
        "id": "i-C_DJoNF2R1"
      },
      "source": [
        "def evaluate_lstm(trainX, trainy, units):\n",
        "    seed(1)\n",
        "    tensorflow.random.set_seed(1)\n",
        "\n",
        "    verbose, epochs, batch_size = 0, 50, 1\n",
        "    n_timesteps, n_features = trainX.shape[1], trainX.shape[2]\n",
        "\n",
        "    model = Sequential()\n",
        "    model.add(LSTM(units = units, activation='relu', input_shape=(n_timesteps,n_features)))\n",
        "    model.add(Dense(1, activation='linear'))\n",
        "    model.compile(loss='mse', optimizer='adam', metrics=['MAPE'])\n",
        "  \n",
        "    # fit network\n",
        "    model.fit(trainX, trainy, epochs=epochs, batch_size=batch_size, verbose=verbose, shuffle = False)\n",
        "    # evaluate model\n",
        "    _, accuracy = model.evaluate(trainX, trainy, batch_size=batch_size, verbose=0)\n",
        "    return accuracy\n",
        "\n",
        "\n",
        "# # Univariate LSTM confirmed cases\n",
        "units = [2, 4,8,16,32,64,128,256,512, 1024]\n",
        "\n",
        "\n",
        "# Multivariate LSTM confirmed cases\n",
        "\n",
        "lstm_i_multi_workplace = list()\n",
        "\n",
        "for i in units:\n",
        "  score = list()\n",
        "  score = evaluate_lstm(X_i_tr_workplace, y_i_tr, i)\n",
        "  lstm_i_multi_workplace.append(score)\n",
        "\n",
        "\n",
        "\n",
        "# Multivariate LSTM confirmed deaths\n",
        "\n",
        "lstm_d_multi_workplace = list()\n",
        "\n",
        "for i in units:\n",
        "  score = list()\n",
        "  score = evaluate_lstm(X_d_tr_grocery, y_d_tr, i)\n",
        "  lstm_d_multi_workplace.append(score)"
      ],
      "execution_count": null,
      "outputs": []
    },
    {
      "cell_type": "markdown",
      "metadata": {
        "id": "oPrElE8xF2R1"
      },
      "source": [
        "### GRU"
      ]
    },
    {
      "cell_type": "code",
      "metadata": {
        "id": "PnTlDZk4F2R1"
      },
      "source": [
        "def evaluate_gru(trainX, trainy, units):\n",
        "    seed(1)\n",
        "    tensorflow.random.set_seed(1)\n",
        "\n",
        "    verbose, epochs, batch_size = 0, 50, 1\n",
        "    n_timesteps, n_features = trainX.shape[1], trainX.shape[2]\n",
        "\n",
        "    model = Sequential()\n",
        "    model.add(GRU(units = units, activation='relu', input_shape=(n_timesteps,n_features)))\n",
        "    model.add(Dense(1, activation='linear'))\n",
        "    model.compile(loss='mse', optimizer='adam', metrics=['MAPE'])\n",
        "  \n",
        "    # fit network\n",
        "    model.fit(trainX, trainy, epochs=epochs, batch_size=batch_size, verbose=verbose, shuffle = False)\n",
        "    # evaluate model\n",
        "    _, accuracy = model.evaluate(trainX, trainy, batch_size=batch_size, verbose=0)\n",
        "    return accuracy\n",
        "\n",
        "# Multivariate GRU confirmed cases\n",
        "\n",
        "gru_i_multi_workplace = list()\n",
        "\n",
        "for i in units:\n",
        "  score = list()\n",
        "  score = evaluate_gru(X_i_tr_workplace, y_i_tr, i)\n",
        "  gru_i_multi_workplace.append(score)\n",
        "\n",
        "\n",
        "# Multivariate GRU confirmed deaths\n",
        "\n",
        "gru_d_multi_workplace = list()\n",
        "\n",
        "for i in units:\n",
        "  score = list()\n",
        "  score = evaluate_gru(X_d_tr_workplace, y_d_tr, i)\n",
        "  gru_d_multi_workplace.append(score)"
      ],
      "execution_count": null,
      "outputs": []
    },
    {
      "cell_type": "markdown",
      "metadata": {
        "id": "ZjNVTfhcF2R1"
      },
      "source": [
        "### RNNs"
      ]
    },
    {
      "cell_type": "code",
      "metadata": {
        "id": "iuoinpiDF2R1"
      },
      "source": [
        "def evaluate_rnn(trainX, trainy, units):\n",
        "    seed(1)\n",
        "    tensorflow.random.set_seed(1)\n",
        "\n",
        "    verbose, epochs, batch_size = 0, 50, 1\n",
        "    n_timesteps, n_features = trainX.shape[1], trainX.shape[2]\n",
        "\n",
        "    model = Sequential()\n",
        "    model.add(SimpleRNN(units = units, activation='relu', input_shape=(n_timesteps,n_features)))\n",
        "    model.add(Dense(1, activation='linear'))\n",
        "    model.compile(loss='mse', optimizer='adam', metrics=['MAPE'])\n",
        "  \n",
        "    # fit network\n",
        "    model.fit(trainX, trainy, epochs=epochs, batch_size=batch_size, verbose=verbose, shuffle = False)\n",
        "    # evaluate model\n",
        "    _, accuracy = model.evaluate(trainX, trainy, batch_size=batch_size, verbose=0)\n",
        "    return accuracy\n",
        "\n",
        "# Multivariate RNNs confirmed cases\n",
        "\n",
        "rnn_i_multi_workplace = list()\n",
        "\n",
        "for i in units:\n",
        "  score = list()\n",
        "  score = evaluate_rnn(X_i_tr_workplace, y_i_tr, i)\n",
        "  rnn_i_multi_workplace.append(score)\n",
        "\n",
        "\n",
        "# Multivariate RNNs confirmed deaths\n",
        "\n",
        "rnn_d_multi_workplace = list()\n",
        "\n",
        "for i in units:\n",
        "  score = list()\n",
        "  score = evaluate_rnn(X_d_tr_workplace, y_d_tr, i)\n",
        "  rnn_d_multi_workplace.append(score)"
      ],
      "execution_count": null,
      "outputs": []
    },
    {
      "cell_type": "markdown",
      "metadata": {
        "id": "4fwCcp_fF2R1"
      },
      "source": [
        "### Result Table"
      ]
    },
    {
      "cell_type": "markdown",
      "metadata": {
        "id": "0DwO08aEF2R1"
      },
      "source": [
        "#### Multivariate Confirmed Cases"
      ]
    },
    {
      "cell_type": "code",
      "metadata": {
        "colab": {
          "base_uri": "https://localhost:8080/",
          "height": 737
        },
        "id": "pShTc-AuF2R1",
        "outputId": "de8dbc95-82d6-4bb6-c41a-e2ce485ad13d"
      },
      "source": [
        "fig = go.Figure(data=[go.Table(header=dict(values=['Model', 'Kernel size', 'Pool', '2 Nodes', '4 Nodes', '8 Nodes', '16 Nodes', \n",
        "                                                   '32 Nodes', \"64 Nodes\", '128 Nodes', '256 Nodes', '512 Nodes', '1024 Nodes'],\n",
        "                                           line_color = 'gray'),\n",
        "                               cells=dict(values=[['LSTM', 'GRU', 'RNNs', 'CNN',\n",
        "                                                   'CNN', 'CNN', 'CNN', 'CNN', 'CNN'],\n",
        "                                                  ['-', '-', '-', '3', '5', '7', '3', '5', '7'],\n",
        "                                                  ['-', '-', '-', '2', '2', '2', '3', '3', '3'],\n",
        "                                    [round(lstm_i_multi_workplace[0],3), \n",
        "                                     round(gru_i_multi_workplace[0],3),\n",
        "                                     round(rnn_i_multi_workplace[0],3), \n",
        "                                     round(cnn_i_multi_workplace.iloc[0,0],3),\n",
        "                                     round(cnn_i_multi_workplace.iloc[0,1],3),\n",
        "                                     round(cnn_i_multi_workplace.iloc[0,2],3),\n",
        "                                     round(cnn_i_multi_workplace.iloc[0,3],3),\n",
        "                                     round(cnn_i_multi_workplace.iloc[0,4],3),\n",
        "                                     round(cnn_i_multi_workplace.iloc[0,5],3)],\n",
        "                                     [round(lstm_i_multi_workplace[1],3), \n",
        "                                     round(gru_i_multi_workplace[1],3),\n",
        "                                     round(rnn_i_multi_workplace[1],3), \n",
        "                                     round(cnn_i_multi_workplace.iloc[1,0],3),\n",
        "                                     round(cnn_i_multi_workplace.iloc[1,1],3),\n",
        "                                     round(cnn_i_multi_workplace.iloc[1,2],3),\n",
        "                                     round(cnn_i_multi_workplace.iloc[1,3],3),\n",
        "                                     round(cnn_i_multi_workplace.iloc[1,4],3),\n",
        "                                     round(cnn_i_multi_workplace.iloc[1,5],3)],\n",
        "                                     [round(lstm_i_multi_workplace[2],3), \n",
        "                                     round(gru_i_multi_workplace[2],3),\n",
        "                                     round(rnn_i_multi_workplace[2],3), \n",
        "                                     round(cnn_i_multi_workplace.iloc[2,0],3),\n",
        "                                     round(cnn_i_multi_workplace.iloc[2,1],3),\n",
        "                                     round(cnn_i_multi_workplace.iloc[2,2],3),\n",
        "                                     round(cnn_i_multi_workplace.iloc[2,3],3),\n",
        "                                     round(cnn_i_multi_workplace.iloc[2,4],3),\n",
        "                                     round(cnn_i_multi_workplace.iloc[2,5],3)],\n",
        "                                     [round(lstm_i_multi_workplace[3],3), \n",
        "                                     round(gru_i_multi_workplace[3],3),\n",
        "                                     round(rnn_i_multi_workplace[3],3), \n",
        "                                     round(cnn_i_multi_workplace.iloc[3,0],3),\n",
        "                                     round(cnn_i_multi_workplace.iloc[3,1],3),\n",
        "                                     round(cnn_i_multi_workplace.iloc[3,2],3),\n",
        "                                     round(cnn_i_multi_workplace.iloc[3,3],3),\n",
        "                                     round(cnn_i_multi_workplace.iloc[3,4],3),\n",
        "                                     round(cnn_i_multi_workplace.iloc[3,5],3)],\n",
        "                                     [round(lstm_i_multi_workplace[4],3), \n",
        "                                     round(gru_i_multi_workplace[4],3),\n",
        "                                     round(rnn_i_multi_workplace[4],3), \n",
        "                                     round(cnn_i_multi_workplace.iloc[4,0],3),\n",
        "                                     round(cnn_i_multi_workplace.iloc[4,1],3),\n",
        "                                     round(cnn_i_multi_workplace.iloc[4,2],3),\n",
        "                                     round(cnn_i_multi_workplace.iloc[4,3],3),\n",
        "                                     round(cnn_i_multi_workplace.iloc[4,4],3),\n",
        "                                     round(cnn_i_multi_workplace.iloc[4,5],3)],\n",
        "                                     [round(lstm_i_multi_workplace[5],3), \n",
        "                                     round(gru_i_multi_workplace[5],3),\n",
        "                                     round(rnn_i_multi_workplace[5],3), \n",
        "                                     round(cnn_i_multi_workplace.iloc[5,0],3),\n",
        "                                     round(cnn_i_multi_workplace.iloc[5,1],3),\n",
        "                                     round(cnn_i_multi_workplace.iloc[5,2],3),\n",
        "                                     round(cnn_i_multi_workplace.iloc[5,3],3),\n",
        "                                     round(cnn_i_multi_workplace.iloc[5,4],3),\n",
        "                                     round(cnn_i_multi_workplace.iloc[5,5],3)],\n",
        "                                     [round(lstm_i_multi_workplace[6],3), \n",
        "                                     round(gru_i_multi_workplace[6],3),\n",
        "                                     round(rnn_i_multi_workplace[6],3), \n",
        "                                     round(cnn_i_multi_workplace.iloc[6,0],3),\n",
        "                                     round(cnn_i_multi_workplace.iloc[6,1],3),\n",
        "                                     round(cnn_i_multi_workplace.iloc[6,2],3),\n",
        "                                     round(cnn_i_multi_workplace.iloc[6,3],3),\n",
        "                                     round(cnn_i_multi_workplace.iloc[6,4],3),\n",
        "                                     round(cnn_i_multi_workplace.iloc[6,5],3)],\n",
        "                                     [round(lstm_i_multi_workplace[7],3), \n",
        "                                     round(gru_i_multi_workplace[7],3),\n",
        "                                     round(rnn_i_multi_workplace[7],3), \n",
        "                                     round(cnn_i_multi_workplace.iloc[7,0],3),\n",
        "                                     round(cnn_i_multi_workplace.iloc[7,1],3),\n",
        "                                     round(cnn_i_multi_workplace.iloc[7,2],3),\n",
        "                                     round(cnn_i_multi_workplace.iloc[7,3],3),\n",
        "                                     round(cnn_i_multi_workplace.iloc[7,4],3),\n",
        "                                     round(cnn_i_multi_workplace.iloc[7,5],3)],\n",
        "                                     [round(lstm_i_multi_workplace[8],3), \n",
        "                                     round(gru_i_multi_workplace[8],3),\n",
        "                                     round(rnn_i_multi_workplace[8],3), \n",
        "                                     round(cnn_i_multi_workplace.iloc[8,0],3),\n",
        "                                     round(cnn_i_multi_workplace.iloc[8,1],3),\n",
        "                                     round(cnn_i_multi_workplace.iloc[8,2],3),\n",
        "                                     round(cnn_i_multi_workplace.iloc[8,3],3),\n",
        "                                     round(cnn_i_multi_workplace.iloc[8,4],3),\n",
        "                                     round(cnn_i_multi_workplace.iloc[8,5],3)],\n",
        "                                     [round(lstm_i_multi_workplace[9],3), \n",
        "                                     round(gru_i_multi_workplace[9],3),\n",
        "                                     round(rnn_i_multi_workplace[9],3), \n",
        "                                     round(cnn_i_multi_workplace.iloc[9,0],3),\n",
        "                                     round(cnn_i_multi_workplace.iloc[9,1],3),\n",
        "                                     round(cnn_i_multi_workplace.iloc[9,2],3),\n",
        "                                     round(cnn_i_multi_workplace.iloc[9,3],3),\n",
        "                                     round(cnn_i_multi_workplace.iloc[9,4],3),\n",
        "                                     round(cnn_i_multi_workplace.iloc[9,5],3)]],\n",
        "                            align=['left','center', 'center', \n",
        "                                   'right','right','right',\n",
        "                                   'right','right','right',\n",
        "                                   'right','right','right','right'],\n",
        "                            fill_color = 'white',\n",
        "                            line_color = 'gray'))\n",
        "                     ])\n",
        "fig.update_layout(title = \"Parameter Tunings Mean Absolute Percentage Error: Multivariate Confirmed Cases\",\n",
        "                  title_x=0.5, height = 700, width = 1200)\n",
        "fig.show()"
      ],
      "execution_count": null,
      "outputs": [
        {
          "output_type": "display_data",
          "data": {
            "text/html": [
              "<html>\n",
              "<head><meta charset=\"utf-8\" /></head>\n",
              "<body>\n",
              "    <div>\n",
              "            <script src=\"https://cdnjs.cloudflare.com/ajax/libs/mathjax/2.7.5/MathJax.js?config=TeX-AMS-MML_SVG\"></script><script type=\"text/javascript\">if (window.MathJax) {MathJax.Hub.Config({SVG: {font: \"STIX-Web\"}});}</script>\n",
              "                <script type=\"text/javascript\">window.PlotlyConfig = {MathJaxConfig: 'local'};</script>\n",
              "        <script src=\"https://cdn.plot.ly/plotly-latest.min.js\"></script>    \n",
              "            <div id=\"1a3af6d1-8831-4e61-8795-e600c2390aa2\" class=\"plotly-graph-div\" style=\"height:700px; width:1200px;\"></div>\n",
              "            <script type=\"text/javascript\">\n",
              "                \n",
              "                    window.PLOTLYENV=window.PLOTLYENV || {};\n",
              "                    \n",
              "                if (document.getElementById(\"1a3af6d1-8831-4e61-8795-e600c2390aa2\")) {\n",
              "                    Plotly.newPlot(\n",
              "                        '1a3af6d1-8831-4e61-8795-e600c2390aa2',\n",
              "                        [{\"cells\": {\"align\": [\"left\", \"center\", \"center\", \"right\", \"right\", \"right\", \"right\", \"right\", \"right\", \"right\", \"right\", \"right\", \"right\"], \"fill\": {\"color\": \"white\"}, \"line\": {\"color\": \"gray\"}, \"values\": [[\"LSTM\", \"GRU\", \"RNNs\", \"CNN\", \"CNN\", \"CNN\", \"CNN\", \"CNN\", \"CNN\"], [\"-\", \"-\", \"-\", \"3\", \"5\", \"7\", \"3\", \"5\", \"7\"], [\"-\", \"-\", \"-\", \"2\", \"2\", \"2\", \"3\", \"3\", \"3\"], [99.984, 38.21, 5.997, 5.494, 5.606, 5.676, 5.591, 5.556, 5.156], [99.984, 99.984, 3.562, 5.493, 4.751, 5.27, 4.718, 5.574, 5.842], [4.443, 99.984, 4.226, 5.845, 4.435, 6.086, 4.371, 4.99, 6.255], [11.126, 3.994, 5.293, 4.422, 3.37, 4.941, 4.671, 4.634, 4.96], [4.447, 4.263, 3.961, 4.246, 4.319, 5.008, 4.294, 5.109, 5.885], [4.015, 4.424, 3.773, 3.74, 3.741, 3.839, 4.31, 4.965, 4.753], [4.726, 4.334, 3.343, 3.645, 3.631, 4.09, 3.773, 4.327, 4.431], [4.144, 4.376, 3.153, 4.064, 4.176, 4.058, 3.664, 4.233, 4.404], [4.406, 3.851, 2.687, 4.706, 4.758, 3.901, 4.09, 4.844, 4.606], [4.332, 3.448, 4.406, 4.774, 5.371, 5.178, 5.42, 5.219, 5.035]]}, \"header\": {\"line\": {\"color\": \"gray\"}, \"values\": [\"Model\", \"Kernel size\", \"Pool\", \"2 Nodes\", \"4 Nodes\", \"8 Nodes\", \"16 Nodes\", \"32 Nodes\", \"64 Nodes\", \"128 Nodes\", \"256 Nodes\", \"512 Nodes\", \"1024 Nodes\"]}, \"type\": \"table\"}],\n",
              "                        {\"height\": 700, \"template\": {\"data\": {\"bar\": [{\"error_x\": {\"color\": \"#2a3f5f\"}, \"error_y\": {\"color\": \"#2a3f5f\"}, \"marker\": {\"line\": {\"color\": \"#E5ECF6\", \"width\": 0.5}}, \"type\": \"bar\"}], \"barpolar\": [{\"marker\": {\"line\": {\"color\": \"#E5ECF6\", \"width\": 0.5}}, \"type\": \"barpolar\"}], \"carpet\": [{\"aaxis\": {\"endlinecolor\": \"#2a3f5f\", \"gridcolor\": \"white\", \"linecolor\": \"white\", \"minorgridcolor\": \"white\", \"startlinecolor\": \"#2a3f5f\"}, \"baxis\": {\"endlinecolor\": \"#2a3f5f\", \"gridcolor\": \"white\", \"linecolor\": \"white\", \"minorgridcolor\": \"white\", \"startlinecolor\": \"#2a3f5f\"}, \"type\": \"carpet\"}], \"choropleth\": [{\"colorbar\": {\"outlinewidth\": 0, \"ticks\": \"\"}, \"type\": \"choropleth\"}], \"contour\": [{\"colorbar\": {\"outlinewidth\": 0, \"ticks\": \"\"}, \"colorscale\": [[0.0, \"#0d0887\"], [0.1111111111111111, \"#46039f\"], [0.2222222222222222, \"#7201a8\"], [0.3333333333333333, \"#9c179e\"], [0.4444444444444444, \"#bd3786\"], [0.5555555555555556, \"#d8576b\"], [0.6666666666666666, \"#ed7953\"], [0.7777777777777778, \"#fb9f3a\"], [0.8888888888888888, \"#fdca26\"], [1.0, \"#f0f921\"]], \"type\": \"contour\"}], \"contourcarpet\": [{\"colorbar\": {\"outlinewidth\": 0, \"ticks\": \"\"}, \"type\": \"contourcarpet\"}], \"heatmap\": [{\"colorbar\": {\"outlinewidth\": 0, \"ticks\": \"\"}, \"colorscale\": [[0.0, \"#0d0887\"], [0.1111111111111111, \"#46039f\"], [0.2222222222222222, \"#7201a8\"], [0.3333333333333333, \"#9c179e\"], [0.4444444444444444, \"#bd3786\"], [0.5555555555555556, \"#d8576b\"], [0.6666666666666666, \"#ed7953\"], [0.7777777777777778, \"#fb9f3a\"], [0.8888888888888888, \"#fdca26\"], [1.0, \"#f0f921\"]], \"type\": \"heatmap\"}], \"heatmapgl\": [{\"colorbar\": {\"outlinewidth\": 0, \"ticks\": \"\"}, \"colorscale\": [[0.0, \"#0d0887\"], [0.1111111111111111, \"#46039f\"], [0.2222222222222222, \"#7201a8\"], [0.3333333333333333, \"#9c179e\"], [0.4444444444444444, \"#bd3786\"], [0.5555555555555556, \"#d8576b\"], [0.6666666666666666, \"#ed7953\"], [0.7777777777777778, \"#fb9f3a\"], [0.8888888888888888, \"#fdca26\"], [1.0, \"#f0f921\"]], \"type\": \"heatmapgl\"}], \"histogram\": [{\"marker\": {\"colorbar\": {\"outlinewidth\": 0, \"ticks\": \"\"}}, \"type\": \"histogram\"}], \"histogram2d\": [{\"colorbar\": {\"outlinewidth\": 0, \"ticks\": \"\"}, \"colorscale\": [[0.0, \"#0d0887\"], [0.1111111111111111, \"#46039f\"], [0.2222222222222222, \"#7201a8\"], [0.3333333333333333, \"#9c179e\"], [0.4444444444444444, \"#bd3786\"], [0.5555555555555556, \"#d8576b\"], [0.6666666666666666, \"#ed7953\"], [0.7777777777777778, \"#fb9f3a\"], [0.8888888888888888, \"#fdca26\"], [1.0, \"#f0f921\"]], \"type\": \"histogram2d\"}], \"histogram2dcontour\": [{\"colorbar\": {\"outlinewidth\": 0, \"ticks\": \"\"}, \"colorscale\": [[0.0, \"#0d0887\"], [0.1111111111111111, \"#46039f\"], [0.2222222222222222, \"#7201a8\"], [0.3333333333333333, \"#9c179e\"], [0.4444444444444444, \"#bd3786\"], [0.5555555555555556, \"#d8576b\"], [0.6666666666666666, \"#ed7953\"], [0.7777777777777778, \"#fb9f3a\"], [0.8888888888888888, \"#fdca26\"], [1.0, \"#f0f921\"]], \"type\": \"histogram2dcontour\"}], \"mesh3d\": [{\"colorbar\": {\"outlinewidth\": 0, \"ticks\": \"\"}, \"type\": \"mesh3d\"}], \"parcoords\": [{\"line\": {\"colorbar\": {\"outlinewidth\": 0, \"ticks\": \"\"}}, \"type\": \"parcoords\"}], \"pie\": [{\"automargin\": true, \"type\": \"pie\"}], \"scatter\": [{\"marker\": {\"colorbar\": {\"outlinewidth\": 0, \"ticks\": \"\"}}, \"type\": \"scatter\"}], \"scatter3d\": [{\"line\": {\"colorbar\": {\"outlinewidth\": 0, \"ticks\": \"\"}}, \"marker\": {\"colorbar\": {\"outlinewidth\": 0, \"ticks\": \"\"}}, \"type\": \"scatter3d\"}], \"scattercarpet\": [{\"marker\": {\"colorbar\": {\"outlinewidth\": 0, \"ticks\": \"\"}}, \"type\": \"scattercarpet\"}], \"scattergeo\": [{\"marker\": {\"colorbar\": {\"outlinewidth\": 0, \"ticks\": \"\"}}, \"type\": \"scattergeo\"}], \"scattergl\": [{\"marker\": {\"colorbar\": {\"outlinewidth\": 0, \"ticks\": \"\"}}, \"type\": \"scattergl\"}], \"scattermapbox\": [{\"marker\": {\"colorbar\": {\"outlinewidth\": 0, \"ticks\": \"\"}}, \"type\": \"scattermapbox\"}], \"scatterpolar\": [{\"marker\": {\"colorbar\": {\"outlinewidth\": 0, \"ticks\": \"\"}}, \"type\": \"scatterpolar\"}], \"scatterpolargl\": [{\"marker\": {\"colorbar\": {\"outlinewidth\": 0, \"ticks\": \"\"}}, \"type\": \"scatterpolargl\"}], \"scatterternary\": [{\"marker\": {\"colorbar\": {\"outlinewidth\": 0, \"ticks\": \"\"}}, \"type\": \"scatterternary\"}], \"surface\": [{\"colorbar\": {\"outlinewidth\": 0, \"ticks\": \"\"}, \"colorscale\": [[0.0, \"#0d0887\"], [0.1111111111111111, \"#46039f\"], [0.2222222222222222, \"#7201a8\"], [0.3333333333333333, \"#9c179e\"], [0.4444444444444444, \"#bd3786\"], [0.5555555555555556, \"#d8576b\"], [0.6666666666666666, \"#ed7953\"], [0.7777777777777778, \"#fb9f3a\"], [0.8888888888888888, \"#fdca26\"], [1.0, \"#f0f921\"]], \"type\": \"surface\"}], \"table\": [{\"cells\": {\"fill\": {\"color\": \"#EBF0F8\"}, \"line\": {\"color\": \"white\"}}, \"header\": {\"fill\": {\"color\": \"#C8D4E3\"}, \"line\": {\"color\": \"white\"}}, \"type\": \"table\"}]}, \"layout\": {\"annotationdefaults\": {\"arrowcolor\": \"#2a3f5f\", \"arrowhead\": 0, \"arrowwidth\": 1}, \"coloraxis\": {\"colorbar\": {\"outlinewidth\": 0, \"ticks\": \"\"}}, \"colorscale\": {\"diverging\": [[0, \"#8e0152\"], [0.1, \"#c51b7d\"], [0.2, \"#de77ae\"], [0.3, \"#f1b6da\"], [0.4, \"#fde0ef\"], [0.5, \"#f7f7f7\"], [0.6, \"#e6f5d0\"], [0.7, \"#b8e186\"], [0.8, \"#7fbc41\"], [0.9, \"#4d9221\"], [1, \"#276419\"]], \"sequential\": [[0.0, \"#0d0887\"], [0.1111111111111111, \"#46039f\"], [0.2222222222222222, \"#7201a8\"], [0.3333333333333333, \"#9c179e\"], [0.4444444444444444, \"#bd3786\"], [0.5555555555555556, \"#d8576b\"], [0.6666666666666666, \"#ed7953\"], [0.7777777777777778, \"#fb9f3a\"], [0.8888888888888888, \"#fdca26\"], [1.0, \"#f0f921\"]], \"sequentialminus\": [[0.0, \"#0d0887\"], [0.1111111111111111, \"#46039f\"], [0.2222222222222222, \"#7201a8\"], [0.3333333333333333, \"#9c179e\"], [0.4444444444444444, \"#bd3786\"], [0.5555555555555556, \"#d8576b\"], [0.6666666666666666, \"#ed7953\"], [0.7777777777777778, \"#fb9f3a\"], [0.8888888888888888, \"#fdca26\"], [1.0, \"#f0f921\"]]}, \"colorway\": [\"#636efa\", \"#EF553B\", \"#00cc96\", \"#ab63fa\", \"#FFA15A\", \"#19d3f3\", \"#FF6692\", \"#B6E880\", \"#FF97FF\", \"#FECB52\"], \"font\": {\"color\": \"#2a3f5f\"}, \"geo\": {\"bgcolor\": \"white\", \"lakecolor\": \"white\", \"landcolor\": \"#E5ECF6\", \"showlakes\": true, \"showland\": true, \"subunitcolor\": \"white\"}, \"hoverlabel\": {\"align\": \"left\"}, \"hovermode\": \"closest\", \"mapbox\": {\"style\": \"light\"}, \"paper_bgcolor\": \"white\", \"plot_bgcolor\": \"#E5ECF6\", \"polar\": {\"angularaxis\": {\"gridcolor\": \"white\", \"linecolor\": \"white\", \"ticks\": \"\"}, \"bgcolor\": \"#E5ECF6\", \"radialaxis\": {\"gridcolor\": \"white\", \"linecolor\": \"white\", \"ticks\": \"\"}}, \"scene\": {\"xaxis\": {\"backgroundcolor\": \"#E5ECF6\", \"gridcolor\": \"white\", \"gridwidth\": 2, \"linecolor\": \"white\", \"showbackground\": true, \"ticks\": \"\", \"zerolinecolor\": \"white\"}, \"yaxis\": {\"backgroundcolor\": \"#E5ECF6\", \"gridcolor\": \"white\", \"gridwidth\": 2, \"linecolor\": \"white\", \"showbackground\": true, \"ticks\": \"\", \"zerolinecolor\": \"white\"}, \"zaxis\": {\"backgroundcolor\": \"#E5ECF6\", \"gridcolor\": \"white\", \"gridwidth\": 2, \"linecolor\": \"white\", \"showbackground\": true, \"ticks\": \"\", \"zerolinecolor\": \"white\"}}, \"shapedefaults\": {\"line\": {\"color\": \"#2a3f5f\"}}, \"ternary\": {\"aaxis\": {\"gridcolor\": \"white\", \"linecolor\": \"white\", \"ticks\": \"\"}, \"baxis\": {\"gridcolor\": \"white\", \"linecolor\": \"white\", \"ticks\": \"\"}, \"bgcolor\": \"#E5ECF6\", \"caxis\": {\"gridcolor\": \"white\", \"linecolor\": \"white\", \"ticks\": \"\"}}, \"title\": {\"x\": 0.05}, \"xaxis\": {\"automargin\": true, \"gridcolor\": \"white\", \"linecolor\": \"white\", \"ticks\": \"\", \"title\": {\"standoff\": 15}, \"zerolinecolor\": \"white\", \"zerolinewidth\": 2}, \"yaxis\": {\"automargin\": true, \"gridcolor\": \"white\", \"linecolor\": \"white\", \"ticks\": \"\", \"title\": {\"standoff\": 15}, \"zerolinecolor\": \"white\", \"zerolinewidth\": 2}}}, \"title\": {\"text\": \"Parameter Tunings Mean Absolute Percentage Error: Multivariate Confirmed Cases\", \"x\": 0.5}, \"width\": 1200},\n",
              "                        {\"responsive\": true}\n",
              "                    ).then(function(){\n",
              "                            \n",
              "var gd = document.getElementById('1a3af6d1-8831-4e61-8795-e600c2390aa2');\n",
              "var x = new MutationObserver(function (mutations, observer) {{\n",
              "        var display = window.getComputedStyle(gd).display;\n",
              "        if (!display || display === 'none') {{\n",
              "            console.log([gd, 'removed!']);\n",
              "            Plotly.purge(gd);\n",
              "            observer.disconnect();\n",
              "        }}\n",
              "}});\n",
              "\n",
              "// Listen for the removal of the full notebook cells\n",
              "var notebookContainer = gd.closest('#notebook-container');\n",
              "if (notebookContainer) {{\n",
              "    x.observe(notebookContainer, {childList: true});\n",
              "}}\n",
              "\n",
              "// Listen for the clearing of the current output cell\n",
              "var outputEl = gd.closest('.output');\n",
              "if (outputEl) {{\n",
              "    x.observe(outputEl, {childList: true});\n",
              "}}\n",
              "\n",
              "                        })\n",
              "                };\n",
              "                \n",
              "            </script>\n",
              "        </div>\n",
              "</body>\n",
              "</html>"
            ]
          },
          "metadata": {}
        }
      ]
    },
    {
      "cell_type": "markdown",
      "metadata": {
        "id": "-78gzVgDF2R2"
      },
      "source": [
        "#### Multivariate Confirmed Deaths"
      ]
    },
    {
      "cell_type": "code",
      "metadata": {
        "colab": {
          "base_uri": "https://localhost:8080/",
          "height": 737
        },
        "id": "1rMhwxGrF2R2",
        "outputId": "91a803d3-a464-40ae-cf72-e0a4dced399c"
      },
      "source": [
        "fig = go.Figure(data=[go.Table(header=dict(values=['Model', 'Kernel size', 'Pool', '2 Nodes','4 Nodes', '8 Nodes', '16 Nodes', '32 Nodes',\n",
        "                                                   \"64 Nodes\", '128 Nodes', '256 Nodes', '512 Nodes' , '1024 Nodes'],\n",
        "                                           line_color = 'gray'),\n",
        "                               cells=dict(values=[['LSTM', 'GRU', 'RNNs', 'CNN',\n",
        "                                                   'CNN', 'CNN', 'CNN', 'CNN', 'CNN'],\n",
        "                                                  ['-', '-', '-', '3', '5', '7', '3', '5', '7'],\n",
        "                                                  ['-', '-', '-', '2', '2', '2', '3', '3', '3'],\n",
        "                                    [round(lstm_d_multi_workplace[0],3), \n",
        "                                     round(gru_d_multi_workplace[0],3),\n",
        "                                     round(rnn_d_multi_workplace[0],3), \n",
        "                                     round(cnn_d_multi_workplace.iloc[0,0],3),\n",
        "                                     round(cnn_d_multi_workplace.iloc[0,1],3),\n",
        "                                     round(cnn_d_multi_workplace.iloc[0,2],3),\n",
        "                                     round(cnn_d_multi_workplace.iloc[0,3],3),\n",
        "                                     round(cnn_d_multi_workplace.iloc[0,4],3),\n",
        "                                     round(cnn_d_multi_workplace.iloc[0,5],3)],\n",
        "                                     [round(lstm_d_multi_workplace[1],3), \n",
        "                                     round(gru_d_multi_workplace[1],3),\n",
        "                                     round(rnn_d_multi_workplace[1],3), \n",
        "                                     round(cnn_d_multi_workplace.iloc[1,0],3),\n",
        "                                     round(cnn_d_multi_workplace.iloc[1,1],3),\n",
        "                                     round(cnn_d_multi_workplace.iloc[1,2],3),\n",
        "                                     round(cnn_d_multi_workplace.iloc[1,3],3),\n",
        "                                     round(cnn_d_multi_workplace.iloc[1,4],3),\n",
        "                                     round(cnn_d_multi_workplace.iloc[1,5],3)],\n",
        "                                     [round(lstm_d_multi_workplace[2],3), \n",
        "                                     round(gru_d_multi_workplace[2],3),\n",
        "                                     round(rnn_d_multi_workplace[2],3), \n",
        "                                     round(cnn_d_multi_workplace.iloc[2,0],3),\n",
        "                                     round(cnn_d_multi_workplace.iloc[2,1],3),\n",
        "                                     round(cnn_d_multi_workplace.iloc[2,2],3),\n",
        "                                     round(cnn_d_multi_workplace.iloc[2,3],3),\n",
        "                                     round(cnn_d_multi_workplace.iloc[2,4],3),\n",
        "                                     round(cnn_d_multi_workplace.iloc[2,5],3)],\n",
        "                                     [round(lstm_d_multi_workplace[3],3), \n",
        "                                     round(gru_d_multi_workplace[3],3),\n",
        "                                     round(rnn_d_multi_workplace[3],3), \n",
        "                                     round(cnn_d_multi_workplace.iloc[3,0],3),\n",
        "                                     round(cnn_d_multi_workplace.iloc[3,1],3),\n",
        "                                     round(cnn_d_multi_workplace.iloc[3,2],3),\n",
        "                                     round(cnn_d_multi_workplace.iloc[3,3],3),\n",
        "                                     round(cnn_d_multi_workplace.iloc[3,4],3),\n",
        "                                     round(cnn_d_multi_workplace.iloc[3,5],3)],\n",
        "                                     [round(lstm_d_multi_workplace[4],3), \n",
        "                                     round(gru_d_multi_workplace[4],3),\n",
        "                                     round(rnn_d_multi_workplace[4],3), \n",
        "                                     round(cnn_d_multi_workplace.iloc[4,0],3),\n",
        "                                     round(cnn_d_multi_workplace.iloc[4,1],3),\n",
        "                                     round(cnn_d_multi_workplace.iloc[4,2],3),\n",
        "                                     round(cnn_d_multi_workplace.iloc[4,3],3),\n",
        "                                     round(cnn_d_multi_workplace.iloc[4,4],3),\n",
        "                                     round(cnn_d_multi_workplace.iloc[4,5],3)],\n",
        "                                     [round(lstm_d_multi_workplace[5],3), \n",
        "                                     round(gru_d_multi_workplace[5],3),\n",
        "                                     round(rnn_d_multi_workplace[5],3), \n",
        "                                     round(cnn_d_multi_workplace.iloc[5,0],3),\n",
        "                                     round(cnn_d_multi_workplace.iloc[5,1],3),\n",
        "                                     round(cnn_d_multi_workplace.iloc[5,2],3),\n",
        "                                     round(cnn_d_multi_workplace.iloc[5,3],3),\n",
        "                                     round(cnn_d_multi_workplace.iloc[5,4],3),\n",
        "                                     round(cnn_d_multi_workplace.iloc[5,5],3)],\n",
        "                                     [round(lstm_d_multi_workplace[6],3), \n",
        "                                     round(gru_d_multi_workplace[6],3),\n",
        "                                     round(rnn_d_multi_workplace[6],3), \n",
        "                                     round(cnn_d_multi_workplace.iloc[6,0],3),\n",
        "                                     round(cnn_d_multi_workplace.iloc[6,1],3),\n",
        "                                     round(cnn_d_multi_workplace.iloc[6,2],3),\n",
        "                                     round(cnn_d_multi_workplace.iloc[6,3],3),\n",
        "                                     round(cnn_d_multi_workplace.iloc[6,4],3),\n",
        "                                     round(cnn_d_multi_workplace.iloc[6,5],3)],\n",
        "                                     [round(lstm_d_multi_workplace[7],3), \n",
        "                                     round(gru_d_multi_workplace[7],3),\n",
        "                                     round(rnn_d_multi_workplace[7],3), \n",
        "                                     round(cnn_d_multi_workplace.iloc[7,0],3),\n",
        "                                     round(cnn_d_multi_workplace.iloc[7,1],3),\n",
        "                                     round(cnn_d_multi_workplace.iloc[7,2],3),\n",
        "                                     round(cnn_d_multi_workplace.iloc[7,3],3),\n",
        "                                     round(cnn_d_multi_workplace.iloc[7,4],3),\n",
        "                                     round(cnn_d_multi_workplace.iloc[7,5],3)],\n",
        "                                     [round(lstm_d_multi_workplace[8],3), \n",
        "                                     round(gru_d_multi_workplace[8],3),\n",
        "                                     round(rnn_d_multi_workplace[8],3), \n",
        "                                     round(cnn_d_multi_workplace.iloc[8,0],3),\n",
        "                                     round(cnn_d_multi_workplace.iloc[8,1],3),\n",
        "                                     round(cnn_d_multi_workplace.iloc[8,2],3),\n",
        "                                     round(cnn_d_multi_workplace.iloc[8,3],3),\n",
        "                                     round(cnn_d_multi_workplace.iloc[8,4],3),\n",
        "                                     round(cnn_d_multi_workplace.iloc[8,5],3)],\n",
        "                                     [round(lstm_d_multi_workplace[9],3), \n",
        "                                     round(gru_d_multi_workplace[9],3),\n",
        "                                     round(rnn_d_multi_workplace[9],3), \n",
        "                                     round(cnn_d_multi_workplace.iloc[9,0],3),\n",
        "                                     round(cnn_d_multi_workplace.iloc[9,1],3),\n",
        "                                     round(cnn_d_multi_workplace.iloc[9,2],3),\n",
        "                                     round(cnn_d_multi_workplace.iloc[9,3],3),\n",
        "                                     round(cnn_d_multi_workplace.iloc[9,4],3),\n",
        "                                     round(cnn_d_multi_workplace.iloc[9,5],3)]],\n",
        "                            align=['left','center', 'center', \n",
        "                                   'right','right','right',\n",
        "                                   'right','right','right',\n",
        "                                   'right','right','right','right'],\n",
        "                            fill_color = 'white',\n",
        "                            line_color = 'gray'))\n",
        "                     ])\n",
        "fig.update_layout(title = \"Parameter Tunings Mean Absolute Percentage Error: Multivariate Confirmed Deaths\",\n",
        "                  title_x=0.5, height = 700, width = 1200)\n",
        "fig.show()"
      ],
      "execution_count": null,
      "outputs": [
        {
          "output_type": "display_data",
          "data": {
            "text/html": [
              "<html>\n",
              "<head><meta charset=\"utf-8\" /></head>\n",
              "<body>\n",
              "    <div>\n",
              "            <script src=\"https://cdnjs.cloudflare.com/ajax/libs/mathjax/2.7.5/MathJax.js?config=TeX-AMS-MML_SVG\"></script><script type=\"text/javascript\">if (window.MathJax) {MathJax.Hub.Config({SVG: {font: \"STIX-Web\"}});}</script>\n",
              "                <script type=\"text/javascript\">window.PlotlyConfig = {MathJaxConfig: 'local'};</script>\n",
              "        <script src=\"https://cdn.plot.ly/plotly-latest.min.js\"></script>    \n",
              "            <div id=\"a920366d-3017-4da6-a499-da6b68923004\" class=\"plotly-graph-div\" style=\"height:700px; width:1200px;\"></div>\n",
              "            <script type=\"text/javascript\">\n",
              "                \n",
              "                    window.PLOTLYENV=window.PLOTLYENV || {};\n",
              "                    \n",
              "                if (document.getElementById(\"a920366d-3017-4da6-a499-da6b68923004\")) {\n",
              "                    Plotly.newPlot(\n",
              "                        'a920366d-3017-4da6-a499-da6b68923004',\n",
              "                        [{\"cells\": {\"align\": [\"left\", \"center\", \"center\", \"right\", \"right\", \"right\", \"right\", \"right\", \"right\", \"right\", \"right\", \"right\", \"right\"], \"fill\": {\"color\": \"white\"}, \"line\": {\"color\": \"gray\"}, \"values\": [[\"LSTM\", \"GRU\", \"RNNs\", \"CNN\", \"CNN\", \"CNN\", \"CNN\", \"CNN\", \"CNN\"], [\"-\", \"-\", \"-\", \"3\", \"5\", \"7\", \"3\", \"5\", \"7\"], [\"-\", \"-\", \"-\", \"2\", \"2\", \"2\", \"3\", \"3\", \"3\"], [11.051, 8.196, 12.562, 10.899, 9.162, 8.979, 10.319, 10.448, 98.125], [20.885, 6.778, 9.063, 10.831, 9.229, 10.745, 8.911, 8.898, 10.605], [5.462, 7.671, 9.639, 9.16, 7.115, 8.918, 9.325, 8.608, 9.879], [9.86, 7.566, 6.231, 8.908, 6.673, 7.179, 8.338, 6.692, 8.023], [5.187, 5.687, 2.031, 7.703, 6.681, 7.437, 7.72, 8.448, 8.935], [8.839, 6.424, 5.062, 5.67, 6.027, 5.863, 6.003, 7.027, 7.104], [9.329, 6.873, 4.599, 4.954, 5.986, 6.168, 5.677, 6.095, 7.364], [8.23, 7.442, 8.607, 4.97, 6.25, 6.743, 4.997, 5.889, 7.34], [7.153, 7.441, 9.087, 5.009, 7.269, 7.795, 4.661, 4.422, 7.487], [7.683, 7.678, 5.378, 6.589, 8.373, 8.917, 6.122, 7.317, 8.415]]}, \"header\": {\"line\": {\"color\": \"gray\"}, \"values\": [\"Model\", \"Kernel size\", \"Pool\", \"2 Nodes\", \"4 Nodes\", \"8 Nodes\", \"16 Nodes\", \"32 Nodes\", \"64 Nodes\", \"128 Nodes\", \"256 Nodes\", \"512 Nodes\", \"1024 Nodes\"]}, \"type\": \"table\"}],\n",
              "                        {\"height\": 700, \"template\": {\"data\": {\"bar\": [{\"error_x\": {\"color\": \"#2a3f5f\"}, \"error_y\": {\"color\": \"#2a3f5f\"}, \"marker\": {\"line\": {\"color\": \"#E5ECF6\", \"width\": 0.5}}, \"type\": \"bar\"}], \"barpolar\": [{\"marker\": {\"line\": {\"color\": \"#E5ECF6\", \"width\": 0.5}}, \"type\": \"barpolar\"}], \"carpet\": [{\"aaxis\": {\"endlinecolor\": \"#2a3f5f\", \"gridcolor\": \"white\", \"linecolor\": \"white\", \"minorgridcolor\": \"white\", \"startlinecolor\": \"#2a3f5f\"}, \"baxis\": {\"endlinecolor\": \"#2a3f5f\", \"gridcolor\": \"white\", \"linecolor\": \"white\", \"minorgridcolor\": \"white\", \"startlinecolor\": \"#2a3f5f\"}, \"type\": \"carpet\"}], \"choropleth\": [{\"colorbar\": {\"outlinewidth\": 0, \"ticks\": \"\"}, \"type\": \"choropleth\"}], \"contour\": [{\"colorbar\": {\"outlinewidth\": 0, \"ticks\": \"\"}, \"colorscale\": [[0.0, \"#0d0887\"], [0.1111111111111111, \"#46039f\"], [0.2222222222222222, \"#7201a8\"], [0.3333333333333333, \"#9c179e\"], [0.4444444444444444, \"#bd3786\"], [0.5555555555555556, \"#d8576b\"], [0.6666666666666666, \"#ed7953\"], [0.7777777777777778, \"#fb9f3a\"], [0.8888888888888888, \"#fdca26\"], [1.0, \"#f0f921\"]], \"type\": \"contour\"}], \"contourcarpet\": [{\"colorbar\": {\"outlinewidth\": 0, \"ticks\": \"\"}, \"type\": \"contourcarpet\"}], \"heatmap\": [{\"colorbar\": {\"outlinewidth\": 0, \"ticks\": \"\"}, \"colorscale\": [[0.0, \"#0d0887\"], [0.1111111111111111, \"#46039f\"], [0.2222222222222222, \"#7201a8\"], [0.3333333333333333, \"#9c179e\"], [0.4444444444444444, \"#bd3786\"], [0.5555555555555556, \"#d8576b\"], [0.6666666666666666, \"#ed7953\"], [0.7777777777777778, \"#fb9f3a\"], [0.8888888888888888, \"#fdca26\"], [1.0, \"#f0f921\"]], \"type\": \"heatmap\"}], \"heatmapgl\": [{\"colorbar\": {\"outlinewidth\": 0, \"ticks\": \"\"}, \"colorscale\": [[0.0, \"#0d0887\"], [0.1111111111111111, \"#46039f\"], [0.2222222222222222, \"#7201a8\"], [0.3333333333333333, \"#9c179e\"], [0.4444444444444444, \"#bd3786\"], [0.5555555555555556, \"#d8576b\"], [0.6666666666666666, \"#ed7953\"], [0.7777777777777778, \"#fb9f3a\"], [0.8888888888888888, \"#fdca26\"], [1.0, \"#f0f921\"]], \"type\": \"heatmapgl\"}], \"histogram\": [{\"marker\": {\"colorbar\": {\"outlinewidth\": 0, \"ticks\": \"\"}}, \"type\": \"histogram\"}], \"histogram2d\": [{\"colorbar\": {\"outlinewidth\": 0, \"ticks\": \"\"}, \"colorscale\": [[0.0, \"#0d0887\"], [0.1111111111111111, \"#46039f\"], [0.2222222222222222, \"#7201a8\"], [0.3333333333333333, \"#9c179e\"], [0.4444444444444444, \"#bd3786\"], [0.5555555555555556, \"#d8576b\"], [0.6666666666666666, \"#ed7953\"], [0.7777777777777778, \"#fb9f3a\"], [0.8888888888888888, \"#fdca26\"], [1.0, \"#f0f921\"]], \"type\": \"histogram2d\"}], \"histogram2dcontour\": [{\"colorbar\": {\"outlinewidth\": 0, \"ticks\": \"\"}, \"colorscale\": [[0.0, \"#0d0887\"], [0.1111111111111111, \"#46039f\"], [0.2222222222222222, \"#7201a8\"], [0.3333333333333333, \"#9c179e\"], [0.4444444444444444, \"#bd3786\"], [0.5555555555555556, \"#d8576b\"], [0.6666666666666666, \"#ed7953\"], [0.7777777777777778, \"#fb9f3a\"], [0.8888888888888888, \"#fdca26\"], [1.0, \"#f0f921\"]], \"type\": \"histogram2dcontour\"}], \"mesh3d\": [{\"colorbar\": {\"outlinewidth\": 0, \"ticks\": \"\"}, \"type\": \"mesh3d\"}], \"parcoords\": [{\"line\": {\"colorbar\": {\"outlinewidth\": 0, \"ticks\": \"\"}}, \"type\": \"parcoords\"}], \"pie\": [{\"automargin\": true, \"type\": \"pie\"}], \"scatter\": [{\"marker\": {\"colorbar\": {\"outlinewidth\": 0, \"ticks\": \"\"}}, \"type\": \"scatter\"}], \"scatter3d\": [{\"line\": {\"colorbar\": {\"outlinewidth\": 0, \"ticks\": \"\"}}, \"marker\": {\"colorbar\": {\"outlinewidth\": 0, \"ticks\": \"\"}}, \"type\": \"scatter3d\"}], \"scattercarpet\": [{\"marker\": {\"colorbar\": {\"outlinewidth\": 0, \"ticks\": \"\"}}, \"type\": \"scattercarpet\"}], \"scattergeo\": [{\"marker\": {\"colorbar\": {\"outlinewidth\": 0, \"ticks\": \"\"}}, \"type\": \"scattergeo\"}], \"scattergl\": [{\"marker\": {\"colorbar\": {\"outlinewidth\": 0, \"ticks\": \"\"}}, \"type\": \"scattergl\"}], \"scattermapbox\": [{\"marker\": {\"colorbar\": {\"outlinewidth\": 0, \"ticks\": \"\"}}, \"type\": \"scattermapbox\"}], \"scatterpolar\": [{\"marker\": {\"colorbar\": {\"outlinewidth\": 0, \"ticks\": \"\"}}, \"type\": \"scatterpolar\"}], \"scatterpolargl\": [{\"marker\": {\"colorbar\": {\"outlinewidth\": 0, \"ticks\": \"\"}}, \"type\": \"scatterpolargl\"}], \"scatterternary\": [{\"marker\": {\"colorbar\": {\"outlinewidth\": 0, \"ticks\": \"\"}}, \"type\": \"scatterternary\"}], \"surface\": [{\"colorbar\": {\"outlinewidth\": 0, \"ticks\": \"\"}, \"colorscale\": [[0.0, \"#0d0887\"], [0.1111111111111111, \"#46039f\"], [0.2222222222222222, \"#7201a8\"], [0.3333333333333333, \"#9c179e\"], [0.4444444444444444, \"#bd3786\"], [0.5555555555555556, \"#d8576b\"], [0.6666666666666666, \"#ed7953\"], [0.7777777777777778, \"#fb9f3a\"], [0.8888888888888888, \"#fdca26\"], [1.0, \"#f0f921\"]], \"type\": \"surface\"}], \"table\": [{\"cells\": {\"fill\": {\"color\": \"#EBF0F8\"}, \"line\": {\"color\": \"white\"}}, \"header\": {\"fill\": {\"color\": \"#C8D4E3\"}, \"line\": {\"color\": \"white\"}}, \"type\": \"table\"}]}, \"layout\": {\"annotationdefaults\": {\"arrowcolor\": \"#2a3f5f\", \"arrowhead\": 0, \"arrowwidth\": 1}, \"coloraxis\": {\"colorbar\": {\"outlinewidth\": 0, \"ticks\": \"\"}}, \"colorscale\": {\"diverging\": [[0, \"#8e0152\"], [0.1, \"#c51b7d\"], [0.2, \"#de77ae\"], [0.3, \"#f1b6da\"], [0.4, \"#fde0ef\"], [0.5, \"#f7f7f7\"], [0.6, \"#e6f5d0\"], [0.7, \"#b8e186\"], [0.8, \"#7fbc41\"], [0.9, \"#4d9221\"], [1, \"#276419\"]], \"sequential\": [[0.0, \"#0d0887\"], [0.1111111111111111, \"#46039f\"], [0.2222222222222222, \"#7201a8\"], [0.3333333333333333, \"#9c179e\"], [0.4444444444444444, \"#bd3786\"], [0.5555555555555556, \"#d8576b\"], [0.6666666666666666, \"#ed7953\"], [0.7777777777777778, \"#fb9f3a\"], [0.8888888888888888, \"#fdca26\"], [1.0, \"#f0f921\"]], \"sequentialminus\": [[0.0, \"#0d0887\"], [0.1111111111111111, \"#46039f\"], [0.2222222222222222, \"#7201a8\"], [0.3333333333333333, \"#9c179e\"], [0.4444444444444444, \"#bd3786\"], [0.5555555555555556, \"#d8576b\"], [0.6666666666666666, \"#ed7953\"], [0.7777777777777778, \"#fb9f3a\"], [0.8888888888888888, \"#fdca26\"], [1.0, \"#f0f921\"]]}, \"colorway\": [\"#636efa\", \"#EF553B\", \"#00cc96\", \"#ab63fa\", \"#FFA15A\", \"#19d3f3\", \"#FF6692\", \"#B6E880\", \"#FF97FF\", \"#FECB52\"], \"font\": {\"color\": \"#2a3f5f\"}, \"geo\": {\"bgcolor\": \"white\", \"lakecolor\": \"white\", \"landcolor\": \"#E5ECF6\", \"showlakes\": true, \"showland\": true, \"subunitcolor\": \"white\"}, \"hoverlabel\": {\"align\": \"left\"}, \"hovermode\": \"closest\", \"mapbox\": {\"style\": \"light\"}, \"paper_bgcolor\": \"white\", \"plot_bgcolor\": \"#E5ECF6\", \"polar\": {\"angularaxis\": {\"gridcolor\": \"white\", \"linecolor\": \"white\", \"ticks\": \"\"}, \"bgcolor\": \"#E5ECF6\", \"radialaxis\": {\"gridcolor\": \"white\", \"linecolor\": \"white\", \"ticks\": \"\"}}, \"scene\": {\"xaxis\": {\"backgroundcolor\": \"#E5ECF6\", \"gridcolor\": \"white\", \"gridwidth\": 2, \"linecolor\": \"white\", \"showbackground\": true, \"ticks\": \"\", \"zerolinecolor\": \"white\"}, \"yaxis\": {\"backgroundcolor\": \"#E5ECF6\", \"gridcolor\": \"white\", \"gridwidth\": 2, \"linecolor\": \"white\", \"showbackground\": true, \"ticks\": \"\", \"zerolinecolor\": \"white\"}, \"zaxis\": {\"backgroundcolor\": \"#E5ECF6\", \"gridcolor\": \"white\", \"gridwidth\": 2, \"linecolor\": \"white\", \"showbackground\": true, \"ticks\": \"\", \"zerolinecolor\": \"white\"}}, \"shapedefaults\": {\"line\": {\"color\": \"#2a3f5f\"}}, \"ternary\": {\"aaxis\": {\"gridcolor\": \"white\", \"linecolor\": \"white\", \"ticks\": \"\"}, \"baxis\": {\"gridcolor\": \"white\", \"linecolor\": \"white\", \"ticks\": \"\"}, \"bgcolor\": \"#E5ECF6\", \"caxis\": {\"gridcolor\": \"white\", \"linecolor\": \"white\", \"ticks\": \"\"}}, \"title\": {\"x\": 0.05}, \"xaxis\": {\"automargin\": true, \"gridcolor\": \"white\", \"linecolor\": \"white\", \"ticks\": \"\", \"title\": {\"standoff\": 15}, \"zerolinecolor\": \"white\", \"zerolinewidth\": 2}, \"yaxis\": {\"automargin\": true, \"gridcolor\": \"white\", \"linecolor\": \"white\", \"ticks\": \"\", \"title\": {\"standoff\": 15}, \"zerolinecolor\": \"white\", \"zerolinewidth\": 2}}}, \"title\": {\"text\": \"Parameter Tunings Mean Absolute Percentage Error: Multivariate Confirmed Deaths\", \"x\": 0.5}, \"width\": 1200},\n",
              "                        {\"responsive\": true}\n",
              "                    ).then(function(){\n",
              "                            \n",
              "var gd = document.getElementById('a920366d-3017-4da6-a499-da6b68923004');\n",
              "var x = new MutationObserver(function (mutations, observer) {{\n",
              "        var display = window.getComputedStyle(gd).display;\n",
              "        if (!display || display === 'none') {{\n",
              "            console.log([gd, 'removed!']);\n",
              "            Plotly.purge(gd);\n",
              "            observer.disconnect();\n",
              "        }}\n",
              "}});\n",
              "\n",
              "// Listen for the removal of the full notebook cells\n",
              "var notebookContainer = gd.closest('#notebook-container');\n",
              "if (notebookContainer) {{\n",
              "    x.observe(notebookContainer, {childList: true});\n",
              "}}\n",
              "\n",
              "// Listen for the clearing of the current output cell\n",
              "var outputEl = gd.closest('.output');\n",
              "if (outputEl) {{\n",
              "    x.observe(outputEl, {childList: true});\n",
              "}}\n",
              "\n",
              "                        })\n",
              "                };\n",
              "                \n",
              "            </script>\n",
              "        </div>\n",
              "</body>\n",
              "</html>"
            ]
          },
          "metadata": {}
        }
      ]
    },
    {
      "cell_type": "markdown",
      "metadata": {
        "id": "poP7h34RF2R2"
      },
      "source": [
        "## Training and Validation\n",
        "\n",
        "---\n",
        "\n",
        "After models were selected, using the training data set, we adjusted and trained the models to get the prediction with the lowest MAPE. We, then, used test samples for model validations and combined predicted values from both training and test sets together. This was only for illustration purpose.\n"
      ]
    },
    {
      "cell_type": "markdown",
      "metadata": {
        "id": "ND9fHJ93F2R2"
      },
      "source": [
        "### Multivariate Confirmed Cases"
      ]
    },
    {
      "cell_type": "code",
      "metadata": {
        "colab": {
          "base_uri": "https://localhost:8080/"
        },
        "id": "OgEUWccoF2R2",
        "outputId": "006ceb55-2f5b-4167-ed0d-475359434044"
      },
      "source": [
        "seed(1)\n",
        "tensorflow.random.set_seed(1)\n",
        "\n",
        "# model_multi_workplace_i = Sequential()\n",
        "# model_multi_workplace_i.add(Conv1D(filters = 128, kernel_size = 3, activation='relu', input_shape=(X_i_tr_workplace.shape[1], X_i_tr_workplace.shape[2])))\n",
        "# model_multi_workplace_i.add(MaxPooling1D(pool_size = 2))\n",
        "# model_multi_workplace_i.add(Flatten())\n",
        "# # model_multi_workplace_i.add(Dense(4, activation = \"relu\"))\n",
        "# model_multi_workplace_i.add(Dense(1, activation = \"linear\"))\n",
        "# model_multi_workplace_i.compile(loss='mse', optimizer='adam', metrics = \"MAPE\")\n",
        "\n",
        "model_multi_workplace_i = Sequential()\n",
        "model_multi_workplace_i.add(SimpleRNN(512, activation='relu', input_shape=(X_i_tr_workplace.shape[1], X_i_tr_workplace.shape[2])))\n",
        "model_multi_workplace_i.add(Dense(1, activation = \"linear\"))\n",
        "model_multi_workplace_i.compile(loss='mse', optimizer='adam', metrics = \"MAPE\")\n",
        "\n",
        "# fit network\n",
        "model_multi_workplace_i.fit(X_i_tr_workplace, y_i_tr, \n",
        "                           epochs=50, \n",
        "                           batch_size=1, \n",
        "                           verbose=0, \n",
        "                           shuffle=False)\n",
        "\n",
        "\n",
        "scores_multi_workplace_i1 = model_multi_workplace_i.evaluate(X_i_tr_workplace, y_i_tr, verbose=0)\n",
        "\n",
        "# MAPE\n",
        "print(\"MAPE: training = \",scores_multi_workplace_i1[1])\n",
        "\n",
        "scores_multi_workplace_i = model_multi_workplace_i.evaluate(X_i_ts_workplace, y_i_ts, verbose=0)\n",
        "\n",
        "# MAPE\n",
        "print(\"MAPE: test = \",scores_multi_workplace_i[1])"
      ],
      "execution_count": null,
      "outputs": [
        {
          "output_type": "stream",
          "name": "stdout",
          "text": [
            "MAPE: training =  2.6867411136627197\n",
            "MAPE: test =  8.382006645202637\n"
          ]
        }
      ]
    },
    {
      "cell_type": "code",
      "metadata": {
        "id": "_fpUe20LF2R2"
      },
      "source": [
        "# make a prediction\n",
        "# training set\n",
        "y_multi_workplace_i_tr = pd.DataFrame(model_multi_workplace_i.predict(X_i_tr_workplace))\n",
        "\n",
        "# test set\n",
        "y_multi_workplace_i_ts = pd.DataFrame(model_multi_workplace_i.predict(X_i_ts_workplace))\n",
        "\n",
        "# combine training and test predictions\n",
        "y_multi_workplace_i_total = pd.concat([y_multi_workplace_i_tr, y_multi_workplace_i_ts], ignore_index=True)\n"
      ],
      "execution_count": null,
      "outputs": []
    },
    {
      "cell_type": "markdown",
      "metadata": {
        "id": "h4tNGjEQF2R3"
      },
      "source": [
        "### Multivariate Confirmed Deaths"
      ]
    },
    {
      "cell_type": "code",
      "metadata": {
        "colab": {
          "base_uri": "https://localhost:8080/"
        },
        "id": "j4qDbB8CF2R3",
        "outputId": "0b0f8ad1-76ff-4db0-d9ee-680ea41ed98e"
      },
      "source": [
        "seed(1)\n",
        "tensorflow.random.set_seed(1)\n",
        "\n",
        "model_multi_workplace_d = Sequential()\n",
        "model_multi_workplace_d.add(SimpleRNN(32, activation = 'relu', input_shape=(X_d_tr_workplace.shape[1], X_d_tr_workplace.shape[2])))\n",
        "model_multi_workplace_d.add(Dense(4, activation = \"relu\"))\n",
        "model_multi_workplace_d.add(Dense(1, activation = \"linear\"))\n",
        "model_multi_workplace_d.compile(loss='mse', optimizer='adam', metrics = \"MAPE\")\n",
        "\n",
        "# model_multi_workplace_d = Sequential()\n",
        "# model_multi_workplace_d.add(Conv1D(32, kernel_size = 3, activation = 'relu', input_shape=(X_d_tr_workplace.shape[1], X_d_tr_workplace.shape[2])))\n",
        "# model_multi_workplace_d.add(MaxPooling1D(2))\n",
        "# model_multi_workplace_d.add(Flatten())\n",
        "# # model_multi_workplace_d.add(Dense(4, activation = \"relu\"))\n",
        "# model_multi_workplace_d.add(Dense(1, activation = \"linear\"))\n",
        "# model_multi_workplace_d.compile(loss='mse', optimizer='adam', metrics = \"MAPE\")\n",
        "\n",
        "# fit network\n",
        "model_multi_workplace_d.fit(X_d_tr_workplace, y_d_tr, \n",
        "                           epochs=50, \n",
        "                           batch_size=1, \n",
        "                           verbose=0, \n",
        "                           shuffle=False)\n",
        "\n",
        "scores_multi_workplace_d1 = model_multi_workplace_d.evaluate(X_d_tr_workplace, y_d_tr, verbose=0)\n",
        "\n",
        "# MAPE\n",
        "print(\"MAPE: training = \",scores_multi_workplace_d1[1])\n",
        "\n",
        "scores_multi_workplace_d = model_multi_workplace_d.evaluate(X_d_ts_workplace, y_d_ts, verbose=0)\n",
        "\n",
        "# MAPE\n",
        "print(\"MAPE: test = \",scores_multi_workplace_d[1])"
      ],
      "execution_count": null,
      "outputs": [
        {
          "output_type": "stream",
          "name": "stdout",
          "text": [
            "MAPE: training =  5.553162097930908\n",
            "MAPE: test =  17.854917526245117\n"
          ]
        }
      ]
    },
    {
      "cell_type": "code",
      "metadata": {
        "id": "HkKLX23bF2R3"
      },
      "source": [
        "# make a prediction\n",
        "# training set\n",
        "y_multi_workplace_d_tr = pd.DataFrame(model_multi_workplace_d.predict(X_d_tr_workplace))\n",
        "\n",
        "# test set\n",
        "y_multi_workplace_d_ts = pd.DataFrame(model_multi_workplace_d.predict(X_d_ts_workplace))\n",
        "\n",
        "# combine training and test predictions\n",
        "y_multi_workplace_d_total = pd.concat([y_multi_workplace_d_tr, y_multi_workplace_d_ts], ignore_index=True)\n"
      ],
      "execution_count": null,
      "outputs": []
    },
    {
      "cell_type": "code",
      "metadata": {
        "id": "g5bukzhzF2R3"
      },
      "source": [
        "multi_in = \"RNNs\"\n",
        "multi_de = \"RNNs\"\n",
        "tick_spacing = 5\n",
        "date_test = data['Date'][0+index+lag-1]"
      ],
      "execution_count": null,
      "outputs": []
    },
    {
      "cell_type": "markdown",
      "metadata": {
        "id": "iKua1djXF2R3"
      },
      "source": [
        "### Plots"
      ]
    },
    {
      "cell_type": "code",
      "metadata": {
        "colab": {
          "base_uri": "https://localhost:8080/",
          "height": 333
        },
        "id": "uGIcHhTOF2R3",
        "outputId": "32c07e51-ac10-4c2b-ed43-3ff4b2bc1c02"
      },
      "source": [
        "infect = pd.concat([y_multi_workplace_i_total,\n",
        "                   data.Cases_daily.iloc[lag:].reset_index(drop = True), \n",
        "                   data.Date.iloc[lag:].reset_index(drop = True)],\n",
        "                   axis=1)\n",
        "infect.columns = ['multi_i', 'actual', 'Date']\n",
        "\n",
        "infect.dropna(subset = ['multi_i', 'actual', 'Date'], inplace=True)\n",
        "\n",
        "plt.plot(infect['Date'],infect['multi_i'], label = \"Predicted\")\n",
        "plt.plot(infect['Date'],infect['actual'], label = \"Actual\")\n",
        "plt.legend(frameon=False, loc='upper center', ncol = 2, fontsize = 'x-large')\n",
        "plt.title(\"Google: Retail Predicts Confirmed Cases\", fontsize = 'xx-large')\n",
        "plt.tick_params('x',labelrotation=90)\n",
        "plt.axvline(date_test, color=\"gray\", linestyle=\"--\")\n",
        "plt.grid(True, which='both', alpha=0.3)"
      ],
      "execution_count": null,
      "outputs": [
        {
          "output_type": "display_data",
          "data": {
            "image/png": "[encoded data removed]",
            "text/plain": [
              "<Figure size 432x288 with 1 Axes>"
            ]
          },
          "metadata": {
            "needs_background": "light"
          }
        }
      ]
    },
    {
      "cell_type": "code",
      "metadata": {
        "colab": {
          "base_uri": "https://localhost:8080/",
          "height": 333
        },
        "id": "BoEeOBv0F2R3",
        "outputId": "4270cb08-a8a7-4e3a-9068-9bf8487e949f"
      },
      "source": [
        "death = pd.concat([y_multi_workplace_d_total,\n",
        "                   data.Deaths_daily.iloc[lag:].reset_index(drop = True), \n",
        "                   data.Date.iloc[lag:].reset_index(drop = True)],\n",
        "                  axis=1)\n",
        "death.columns = ['multi_d', 'actual', 'Date']\n",
        "\n",
        "death.dropna(subset = ['multi_d', 'actual', 'Date'], inplace=True)\n",
        "\n",
        "\n",
        "plt.plot(death['Date'],death['multi_d'], label = \"Predicted\")\n",
        "plt.plot(death['Date'],death['actual'], label = \"Actual\")\n",
        "plt.legend(frameon=False, loc='upper center', ncol = 2, fontsize = 'x-large')\n",
        "plt.title(\"Google: Retail Predicts Confirmed Deaths\", fontsize = 'xx-large')\n",
        "plt.tick_params('x',labelrotation=90)\n",
        "plt.axvline(date_test, color=\"gray\", linestyle=\"--\")\n",
        "plt.grid(True, which='both', alpha=0.3)\n"
      ],
      "execution_count": null,
      "outputs": [
        {
          "output_type": "display_data",
          "data": {
            "image/png": "[encoded data removed]",
            "text/plain": [
              "<Figure size 432x288 with 1 Axes>"
            ]
          },
          "metadata": {
            "needs_background": "light"
          }
        }
      ]
    },
    {
      "cell_type": "markdown",
      "metadata": {
        "id": "h_9pZqfaF2R4"
      },
      "source": [
        "### Result Table"
      ]
    },
    {
      "cell_type": "code",
      "metadata": {
        "colab": {
          "base_uri": "https://localhost:8080/",
          "height": 542
        },
        "id": "R8QeRGzvF2R4",
        "outputId": "1cbeadf2-e0be-44f2-e7b3-03988f3f7bb4"
      },
      "source": [
        "fig = go.Figure(data=[go.Table(header=dict(values=['Model Type', 'Best Model', 'Training', 'Test'],\n",
        "                                           line_color = 'gray'),\n",
        "                               cells=dict(values=[['Multivariate: Confirmed Cases',\n",
        "                                                   'Multivariate: Confirmed Deaths'],\n",
        "                                                  [multi_in, multi_de],\n",
        "                                    [round(scores_multi_workplace_i1[1],3), round(scores_multi_workplace_d1[1],3)],\n",
        "                                    [round(scores_multi_workplace_i[1],3), round(scores_multi_workplace_d[1],3)]],\n",
        "                            align=['left','center', 'center', 'center'],\n",
        "                            fill_color = 'white',\n",
        "                            line_color = 'gray'))\n",
        "                     ])\n",
        "fig.update_layout(title = \"Mean Absolute Percentage Error\",title_x=0.5)\n",
        "fig.show()"
      ],
      "execution_count": null,
      "outputs": [
        {
          "output_type": "display_data",
          "data": {
            "text/html": [
              "<html>\n",
              "<head><meta charset=\"utf-8\" /></head>\n",
              "<body>\n",
              "    <div>\n",
              "            <script src=\"https://cdnjs.cloudflare.com/ajax/libs/mathjax/2.7.5/MathJax.js?config=TeX-AMS-MML_SVG\"></script><script type=\"text/javascript\">if (window.MathJax) {MathJax.Hub.Config({SVG: {font: \"STIX-Web\"}});}</script>\n",
              "                <script type=\"text/javascript\">window.PlotlyConfig = {MathJaxConfig: 'local'};</script>\n",
              "        <script src=\"https://cdn.plot.ly/plotly-latest.min.js\"></script>    \n",
              "            <div id=\"62927d37-44e7-44ae-b17e-359c40a9082e\" class=\"plotly-graph-div\" style=\"height:525px; width:100%;\"></div>\n",
              "            <script type=\"text/javascript\">\n",
              "                \n",
              "                    window.PLOTLYENV=window.PLOTLYENV || {};\n",
              "                    \n",
              "                if (document.getElementById(\"62927d37-44e7-44ae-b17e-359c40a9082e\")) {\n",
              "                    Plotly.newPlot(\n",
              "                        '62927d37-44e7-44ae-b17e-359c40a9082e',\n",
              "                        [{\"cells\": {\"align\": [\"left\", \"center\", \"center\", \"center\"], \"fill\": {\"color\": \"white\"}, \"line\": {\"color\": \"gray\"}, \"values\": [[\"Multivariate: Confirmed Cases\", \"Multivariate: Confirmed Deaths\"], [\"RNNs\", \"RNNs\"], [2.687, 5.553], [8.382, 17.855]]}, \"header\": {\"line\": {\"color\": \"gray\"}, \"values\": [\"Model Type\", \"Best Model\", \"Training\", \"Test\"]}, \"type\": \"table\"}],\n",
              "                        {\"template\": {\"data\": {\"bar\": [{\"error_x\": {\"color\": \"#2a3f5f\"}, \"error_y\": {\"color\": \"#2a3f5f\"}, \"marker\": {\"line\": {\"color\": \"#E5ECF6\", \"width\": 0.5}}, \"type\": \"bar\"}], \"barpolar\": [{\"marker\": {\"line\": {\"color\": \"#E5ECF6\", \"width\": 0.5}}, \"type\": \"barpolar\"}], \"carpet\": [{\"aaxis\": {\"endlinecolor\": \"#2a3f5f\", \"gridcolor\": \"white\", \"linecolor\": \"white\", \"minorgridcolor\": \"white\", \"startlinecolor\": \"#2a3f5f\"}, \"baxis\": {\"endlinecolor\": \"#2a3f5f\", \"gridcolor\": \"white\", \"linecolor\": \"white\", \"minorgridcolor\": \"white\", \"startlinecolor\": \"#2a3f5f\"}, \"type\": \"carpet\"}], \"choropleth\": [{\"colorbar\": {\"outlinewidth\": 0, \"ticks\": \"\"}, \"type\": \"choropleth\"}], \"contour\": [{\"colorbar\": {\"outlinewidth\": 0, \"ticks\": \"\"}, \"colorscale\": [[0.0, \"#0d0887\"], [0.1111111111111111, \"#46039f\"], [0.2222222222222222, \"#7201a8\"], [0.3333333333333333, \"#9c179e\"], [0.4444444444444444, \"#bd3786\"], [0.5555555555555556, \"#d8576b\"], [0.6666666666666666, \"#ed7953\"], [0.7777777777777778, \"#fb9f3a\"], [0.8888888888888888, \"#fdca26\"], [1.0, \"#f0f921\"]], \"type\": \"contour\"}], \"contourcarpet\": [{\"colorbar\": {\"outlinewidth\": 0, \"ticks\": \"\"}, \"type\": \"contourcarpet\"}], \"heatmap\": [{\"colorbar\": {\"outlinewidth\": 0, \"ticks\": \"\"}, \"colorscale\": [[0.0, \"#0d0887\"], [0.1111111111111111, \"#46039f\"], [0.2222222222222222, \"#7201a8\"], [0.3333333333333333, \"#9c179e\"], [0.4444444444444444, \"#bd3786\"], [0.5555555555555556, \"#d8576b\"], [0.6666666666666666, \"#ed7953\"], [0.7777777777777778, \"#fb9f3a\"], [0.8888888888888888, \"#fdca26\"], [1.0, \"#f0f921\"]], \"type\": \"heatmap\"}], \"heatmapgl\": [{\"colorbar\": {\"outlinewidth\": 0, \"ticks\": \"\"}, \"colorscale\": [[0.0, \"#0d0887\"], [0.1111111111111111, \"#46039f\"], [0.2222222222222222, \"#7201a8\"], [0.3333333333333333, \"#9c179e\"], [0.4444444444444444, \"#bd3786\"], [0.5555555555555556, \"#d8576b\"], [0.6666666666666666, \"#ed7953\"], [0.7777777777777778, \"#fb9f3a\"], [0.8888888888888888, \"#fdca26\"], [1.0, \"#f0f921\"]], \"type\": \"heatmapgl\"}], \"histogram\": [{\"marker\": {\"colorbar\": {\"outlinewidth\": 0, \"ticks\": \"\"}}, \"type\": \"histogram\"}], \"histogram2d\": [{\"colorbar\": {\"outlinewidth\": 0, \"ticks\": \"\"}, \"colorscale\": [[0.0, \"#0d0887\"], [0.1111111111111111, \"#46039f\"], [0.2222222222222222, \"#7201a8\"], [0.3333333333333333, \"#9c179e\"], [0.4444444444444444, \"#bd3786\"], [0.5555555555555556, \"#d8576b\"], [0.6666666666666666, \"#ed7953\"], [0.7777777777777778, \"#fb9f3a\"], [0.8888888888888888, \"#fdca26\"], [1.0, \"#f0f921\"]], \"type\": \"histogram2d\"}], \"histogram2dcontour\": [{\"colorbar\": {\"outlinewidth\": 0, \"ticks\": \"\"}, \"colorscale\": [[0.0, \"#0d0887\"], [0.1111111111111111, \"#46039f\"], [0.2222222222222222, \"#7201a8\"], [0.3333333333333333, \"#9c179e\"], [0.4444444444444444, \"#bd3786\"], [0.5555555555555556, \"#d8576b\"], [0.6666666666666666, \"#ed7953\"], [0.7777777777777778, \"#fb9f3a\"], [0.8888888888888888, \"#fdca26\"], [1.0, \"#f0f921\"]], \"type\": \"histogram2dcontour\"}], \"mesh3d\": [{\"colorbar\": {\"outlinewidth\": 0, \"ticks\": \"\"}, \"type\": \"mesh3d\"}], \"parcoords\": [{\"line\": {\"colorbar\": {\"outlinewidth\": 0, \"ticks\": \"\"}}, \"type\": \"parcoords\"}], \"pie\": [{\"automargin\": true, \"type\": \"pie\"}], \"scatter\": [{\"marker\": {\"colorbar\": {\"outlinewidth\": 0, \"ticks\": \"\"}}, \"type\": \"scatter\"}], \"scatter3d\": [{\"line\": {\"colorbar\": {\"outlinewidth\": 0, \"ticks\": \"\"}}, \"marker\": {\"colorbar\": {\"outlinewidth\": 0, \"ticks\": \"\"}}, \"type\": \"scatter3d\"}], \"scattercarpet\": [{\"marker\": {\"colorbar\": {\"outlinewidth\": 0, \"ticks\": \"\"}}, \"type\": \"scattercarpet\"}], \"scattergeo\": [{\"marker\": {\"colorbar\": {\"outlinewidth\": 0, \"ticks\": \"\"}}, \"type\": \"scattergeo\"}], \"scattergl\": [{\"marker\": {\"colorbar\": {\"outlinewidth\": 0, \"ticks\": \"\"}}, \"type\": \"scattergl\"}], \"scattermapbox\": [{\"marker\": {\"colorbar\": {\"outlinewidth\": 0, \"ticks\": \"\"}}, \"type\": \"scattermapbox\"}], \"scatterpolar\": [{\"marker\": {\"colorbar\": {\"outlinewidth\": 0, \"ticks\": \"\"}}, \"type\": \"scatterpolar\"}], \"scatterpolargl\": [{\"marker\": {\"colorbar\": {\"outlinewidth\": 0, \"ticks\": \"\"}}, \"type\": \"scatterpolargl\"}], \"scatterternary\": [{\"marker\": {\"colorbar\": {\"outlinewidth\": 0, \"ticks\": \"\"}}, \"type\": \"scatterternary\"}], \"surface\": [{\"colorbar\": {\"outlinewidth\": 0, \"ticks\": \"\"}, \"colorscale\": [[0.0, \"#0d0887\"], [0.1111111111111111, \"#46039f\"], [0.2222222222222222, \"#7201a8\"], [0.3333333333333333, \"#9c179e\"], [0.4444444444444444, \"#bd3786\"], [0.5555555555555556, \"#d8576b\"], [0.6666666666666666, \"#ed7953\"], [0.7777777777777778, \"#fb9f3a\"], [0.8888888888888888, \"#fdca26\"], [1.0, \"#f0f921\"]], \"type\": \"surface\"}], \"table\": [{\"cells\": {\"fill\": {\"color\": \"#EBF0F8\"}, \"line\": {\"color\": \"white\"}}, \"header\": {\"fill\": {\"color\": \"#C8D4E3\"}, \"line\": {\"color\": \"white\"}}, \"type\": \"table\"}]}, \"layout\": {\"annotationdefaults\": {\"arrowcolor\": \"#2a3f5f\", \"arrowhead\": 0, \"arrowwidth\": 1}, \"coloraxis\": {\"colorbar\": {\"outlinewidth\": 0, \"ticks\": \"\"}}, \"colorscale\": {\"diverging\": [[0, \"#8e0152\"], [0.1, \"#c51b7d\"], [0.2, \"#de77ae\"], [0.3, \"#f1b6da\"], [0.4, \"#fde0ef\"], [0.5, \"#f7f7f7\"], [0.6, \"#e6f5d0\"], [0.7, \"#b8e186\"], [0.8, \"#7fbc41\"], [0.9, \"#4d9221\"], [1, \"#276419\"]], \"sequential\": [[0.0, \"#0d0887\"], [0.1111111111111111, \"#46039f\"], [0.2222222222222222, \"#7201a8\"], [0.3333333333333333, \"#9c179e\"], [0.4444444444444444, \"#bd3786\"], [0.5555555555555556, \"#d8576b\"], [0.6666666666666666, \"#ed7953\"], [0.7777777777777778, \"#fb9f3a\"], [0.8888888888888888, \"#fdca26\"], [1.0, \"#f0f921\"]], \"sequentialminus\": [[0.0, \"#0d0887\"], [0.1111111111111111, \"#46039f\"], [0.2222222222222222, \"#7201a8\"], [0.3333333333333333, \"#9c179e\"], [0.4444444444444444, \"#bd3786\"], [0.5555555555555556, \"#d8576b\"], [0.6666666666666666, \"#ed7953\"], [0.7777777777777778, \"#fb9f3a\"], [0.8888888888888888, \"#fdca26\"], [1.0, \"#f0f921\"]]}, \"colorway\": [\"#636efa\", \"#EF553B\", \"#00cc96\", \"#ab63fa\", \"#FFA15A\", \"#19d3f3\", \"#FF6692\", \"#B6E880\", \"#FF97FF\", \"#FECB52\"], \"font\": {\"color\": \"#2a3f5f\"}, \"geo\": {\"bgcolor\": \"white\", \"lakecolor\": \"white\", \"landcolor\": \"#E5ECF6\", \"showlakes\": true, \"showland\": true, \"subunitcolor\": \"white\"}, \"hoverlabel\": {\"align\": \"left\"}, \"hovermode\": \"closest\", \"mapbox\": {\"style\": \"light\"}, \"paper_bgcolor\": \"white\", \"plot_bgcolor\": \"#E5ECF6\", \"polar\": {\"angularaxis\": {\"gridcolor\": \"white\", \"linecolor\": \"white\", \"ticks\": \"\"}, \"bgcolor\": \"#E5ECF6\", \"radialaxis\": {\"gridcolor\": \"white\", \"linecolor\": \"white\", \"ticks\": \"\"}}, \"scene\": {\"xaxis\": {\"backgroundcolor\": \"#E5ECF6\", \"gridcolor\": \"white\", \"gridwidth\": 2, \"linecolor\": \"white\", \"showbackground\": true, \"ticks\": \"\", \"zerolinecolor\": \"white\"}, \"yaxis\": {\"backgroundcolor\": \"#E5ECF6\", \"gridcolor\": \"white\", \"gridwidth\": 2, \"linecolor\": \"white\", \"showbackground\": true, \"ticks\": \"\", \"zerolinecolor\": \"white\"}, \"zaxis\": {\"backgroundcolor\": \"#E5ECF6\", \"gridcolor\": \"white\", \"gridwidth\": 2, \"linecolor\": \"white\", \"showbackground\": true, \"ticks\": \"\", \"zerolinecolor\": \"white\"}}, \"shapedefaults\": {\"line\": {\"color\": \"#2a3f5f\"}}, \"ternary\": {\"aaxis\": {\"gridcolor\": \"white\", \"linecolor\": \"white\", \"ticks\": \"\"}, \"baxis\": {\"gridcolor\": \"white\", \"linecolor\": \"white\", \"ticks\": \"\"}, \"bgcolor\": \"#E5ECF6\", \"caxis\": {\"gridcolor\": \"white\", \"linecolor\": \"white\", \"ticks\": \"\"}}, \"title\": {\"x\": 0.05}, \"xaxis\": {\"automargin\": true, \"gridcolor\": \"white\", \"linecolor\": \"white\", \"ticks\": \"\", \"title\": {\"standoff\": 15}, \"zerolinecolor\": \"white\", \"zerolinewidth\": 2}, \"yaxis\": {\"automargin\": true, \"gridcolor\": \"white\", \"linecolor\": \"white\", \"ticks\": \"\", \"title\": {\"standoff\": 15}, \"zerolinecolor\": \"white\", \"zerolinewidth\": 2}}}, \"title\": {\"text\": \"Mean Absolute Percentage Error\", \"x\": 0.5}},\n",
              "                        {\"responsive\": true}\n",
              "                    ).then(function(){\n",
              "                            \n",
              "var gd = document.getElementById('62927d37-44e7-44ae-b17e-359c40a9082e');\n",
              "var x = new MutationObserver(function (mutations, observer) {{\n",
              "        var display = window.getComputedStyle(gd).display;\n",
              "        if (!display || display === 'none') {{\n",
              "            console.log([gd, 'removed!']);\n",
              "            Plotly.purge(gd);\n",
              "            observer.disconnect();\n",
              "        }}\n",
              "}});\n",
              "\n",
              "// Listen for the removal of the full notebook cells\n",
              "var notebookContainer = gd.closest('#notebook-container');\n",
              "if (notebookContainer) {{\n",
              "    x.observe(notebookContainer, {childList: true});\n",
              "}}\n",
              "\n",
              "// Listen for the clearing of the current output cell\n",
              "var outputEl = gd.closest('.output');\n",
              "if (outputEl) {{\n",
              "    x.observe(outputEl, {childList: true});\n",
              "}}\n",
              "\n",
              "                        })\n",
              "                };\n",
              "                \n",
              "            </script>\n",
              "        </div>\n",
              "</body>\n",
              "</html>"
            ]
          },
          "metadata": {}
        }
      ]
    },
    {
      "cell_type": "markdown",
      "metadata": {
        "id": "fjiVlB_fF2R4"
      },
      "source": [
        ""
      ]
    },
    {
      "cell_type": "markdown",
      "metadata": {
        "id": "5uBQJgDvGbeD"
      },
      "source": [
        "# Resident"
      ]
    },
    {
      "cell_type": "markdown",
      "metadata": {
        "id": "OFwHlYWpGbeD"
      },
      "source": [
        "## Analysis\n",
        "\n",
        "---\n",
        "\n",
        "\n",
        "\n",
        "### Hyperparameters Tuning\n",
        "\n",
        "\n",
        "Using the training set matrices for confirmed cases and confirmed deaths and univiariate and multivariate, we tuned for the most optimal numbers of parameters, staring from basic architectures. In this case, we searched for numbers of nodes for LSTM, GRU, and RNNs, and filter, kernel size, and pool for CNN. In the input layer, we added instance normalization to make all values between 0 and 1. Since we were dealing with some data that we had never seen before and the data seemed to be non-stationary, instance normalization might provide more advantages than typical standardization or normalization. The numbers of nodes that we used for our LSTM, GRU, and RNNs experiments were 4, 8, 16, 32, 64, 128, 256, 512, and 1024. Similarly, we used the same pool for CNN filter with kernel size of 3, 5 and 7, and pool of 2 and 3. The activation function for this hidden layer was sigmoid. Next, we added another instance normalization. Finally, the output layer contained one node and Linear activation function. Epoch and batch size were 50 and 1, respectively. We used mean squared error (MSE) as our loss function, ADAM optimization and mean absolute percentage error (MAPE) as a metric for model evaluation.\n"
      ]
    },
    {
      "cell_type": "markdown",
      "metadata": {
        "id": "m_crmPtTGbeE"
      },
      "source": [
        "### CNN"
      ]
    },
    {
      "cell_type": "code",
      "metadata": {
        "colab": {
          "base_uri": "https://localhost:8080/"
        },
        "id": "8vfLeJm2GbeE",
        "outputId": "1142d117-05e2-4e8e-c525-2307a7938747"
      },
      "source": [
        "# Multivariate CNN confirmed cases\n",
        "\n",
        "kernel = [3, 5, 7]\n",
        "pool = [2]\n",
        "cnn_i_multi_resident = list()\n",
        "\n",
        "for i in kernel:\n",
        "  for j in pool: \n",
        "    score = list()\n",
        "    kernel_size, pool = [i],[j]\n",
        "    score = run_experiment(filter, kernel_size, pool,X_i_tr_resident, y_i_tr)\n",
        "    cnn_i_multi_resident.append(score)\n",
        "\n",
        "pool = [3]\n",
        "\n",
        "for i in kernel:\n",
        "  for j in pool: \n",
        "    kernel_size, pool = [i],[j]\n",
        "    score = run_experiment(filter, kernel_size, pool, X_i_tr_resident, y_i_tr)\n",
        "    cnn_i_multi_resident.append(score)\n",
        "\n",
        "cnn_i_multi_resident = pd.DataFrame(cnn_i_multi_resident).T\n",
        "cnn_i_multi_resident.columns = ['k3p2', 'k5p2','k7p2', 'k3p3', 'k5p3', 'k7p3']"
      ],
      "execution_count": null,
      "outputs": [
        {
          "output_type": "stream",
          "name": "stdout",
          "text": [
            "filter = 2, kernel size = 3, pooling size = 2: 5.471\n",
            "filter = 4, kernel size = 3, pooling size = 2: 5.510\n",
            "filter = 8, kernel size = 3, pooling size = 2: 5.860\n",
            "filter = 16, kernel size = 3, pooling size = 2: 4.433\n",
            "filter = 32, kernel size = 3, pooling size = 2: 4.275\n",
            "filter = 64, kernel size = 3, pooling size = 2: 3.807\n",
            "filter = 128, kernel size = 3, pooling size = 2: 3.744\n",
            "filter = 256, kernel size = 3, pooling size = 2: 4.119\n",
            "filter = 512, kernel size = 3, pooling size = 2: 4.704\n",
            "filter = 1024, kernel size = 3, pooling size = 2: 4.902\n",
            "filter = 2, kernel size = 5, pooling size = 2: 5.612\n",
            "filter = 4, kernel size = 5, pooling size = 2: 4.763\n",
            "filter = 8, kernel size = 5, pooling size = 2: 4.483\n",
            "filter = 16, kernel size = 5, pooling size = 2: 3.432\n",
            "filter = 32, kernel size = 5, pooling size = 2: 4.370\n",
            "filter = 64, kernel size = 5, pooling size = 2: 3.873\n",
            "filter = 128, kernel size = 5, pooling size = 2: 3.752\n",
            "filter = 256, kernel size = 5, pooling size = 2: 3.999\n",
            "filter = 512, kernel size = 5, pooling size = 2: 4.761\n",
            "filter = 1024, kernel size = 5, pooling size = 2: 5.921\n",
            "filter = 2, kernel size = 7, pooling size = 2: 5.678\n",
            "filter = 4, kernel size = 7, pooling size = 2: 5.284\n",
            "filter = 8, kernel size = 7, pooling size = 2: 6.105\n",
            "filter = 16, kernel size = 7, pooling size = 2: 4.968\n",
            "filter = 32, kernel size = 7, pooling size = 2: 5.079\n",
            "filter = 64, kernel size = 7, pooling size = 2: 3.980\n",
            "filter = 128, kernel size = 7, pooling size = 2: 4.226\n",
            "filter = 256, kernel size = 7, pooling size = 2: 4.122\n",
            "filter = 512, kernel size = 7, pooling size = 2: 4.108\n",
            "filter = 1024, kernel size = 7, pooling size = 2: 5.097\n",
            "filter = 2, kernel size = 3, pooling size = 3: 5.588\n",
            "filter = 4, kernel size = 3, pooling size = 3: 4.728\n",
            "filter = 8, kernel size = 3, pooling size = 3: 4.393\n",
            "filter = 16, kernel size = 3, pooling size = 3: 4.688\n",
            "filter = 32, kernel size = 3, pooling size = 3: 4.311\n",
            "filter = 64, kernel size = 3, pooling size = 3: 4.365\n",
            "filter = 128, kernel size = 3, pooling size = 3: 3.910\n",
            "filter = 256, kernel size = 3, pooling size = 3: 3.602\n",
            "filter = 512, kernel size = 3, pooling size = 3: 4.194\n",
            "filter = 1024, kernel size = 3, pooling size = 3: 5.540\n",
            "filter = 2, kernel size = 5, pooling size = 3: 5.562\n",
            "filter = 4, kernel size = 5, pooling size = 3: 5.593\n",
            "filter = 8, kernel size = 5, pooling size = 3: 5.011\n",
            "filter = 16, kernel size = 5, pooling size = 3: 4.697\n",
            "filter = 32, kernel size = 5, pooling size = 3: 5.146\n",
            "filter = 64, kernel size = 5, pooling size = 3: 4.978\n",
            "filter = 128, kernel size = 5, pooling size = 3: 4.431\n",
            "filter = 256, kernel size = 5, pooling size = 3: 4.464\n",
            "filter = 512, kernel size = 5, pooling size = 3: 5.096\n",
            "filter = 1024, kernel size = 5, pooling size = 3: 5.350\n",
            "filter = 2, kernel size = 7, pooling size = 3: 5.168\n",
            "filter = 4, kernel size = 7, pooling size = 3: 5.865\n",
            "filter = 8, kernel size = 7, pooling size = 3: 6.265\n",
            "filter = 16, kernel size = 7, pooling size = 3: 5.020\n",
            "filter = 32, kernel size = 7, pooling size = 3: 5.933\n",
            "filter = 64, kernel size = 7, pooling size = 3: 4.901\n",
            "filter = 128, kernel size = 7, pooling size = 3: 4.683\n",
            "filter = 256, kernel size = 7, pooling size = 3: 4.631\n",
            "filter = 512, kernel size = 7, pooling size = 3: 4.895\n",
            "filter = 1024, kernel size = 7, pooling size = 3: 5.327\n"
          ]
        }
      ]
    },
    {
      "cell_type": "code",
      "metadata": {
        "colab": {
          "base_uri": "https://localhost:8080/"
        },
        "id": "GfMrsFGwGbeF",
        "outputId": "c8f9e47e-edef-4eea-afd1-7695d9a62b20"
      },
      "source": [
        "# Multivariate CNN confirmed deaths\n",
        "\n",
        "pool = [2]\n",
        "cnn_d_multi_resident = list()\n",
        "\n",
        "for i in kernel:\n",
        "  for j in pool:\n",
        "    score = list() \n",
        "    kernel_size, pool = [i],[j]\n",
        "    score = run_experiment(filter, kernel_size, pool, X_d_tr_resident, y_d_tr)\n",
        "    cnn_d_multi_resident.append(score)\n",
        "\n",
        "pool = [3]\n",
        "\n",
        "for i in kernel:\n",
        "  for j in pool: \n",
        "    score = list()\n",
        "    kernel_size, pool = [i],[j]\n",
        "    score = run_experiment(filter, kernel_size, pool, X_d_tr_resident, y_d_tr)\n",
        "    cnn_d_multi_resident.append(score)\n",
        "\n",
        "cnn_d_multi_resident = pd.DataFrame(cnn_d_multi_resident).T\n",
        "cnn_d_multi_resident.columns = ['k3p2', 'k3p3','k5p2', 'k7p2', 'k5p3', 'k7p3']"
      ],
      "execution_count": null,
      "outputs": [
        {
          "output_type": "stream",
          "name": "stdout",
          "text": [
            "filter = 2, kernel size = 3, pooling size = 2: 10.777\n",
            "filter = 4, kernel size = 3, pooling size = 2: 8.141\n",
            "filter = 8, kernel size = 3, pooling size = 2: 9.481\n",
            "filter = 16, kernel size = 3, pooling size = 2: 8.906\n",
            "filter = 32, kernel size = 3, pooling size = 2: 7.754\n",
            "filter = 64, kernel size = 3, pooling size = 2: 7.359\n",
            "filter = 128, kernel size = 3, pooling size = 2: 8.910\n",
            "filter = 256, kernel size = 3, pooling size = 2: 10.822\n",
            "filter = 512, kernel size = 3, pooling size = 2: 11.365\n",
            "filter = 1024, kernel size = 3, pooling size = 2: 11.532\n",
            "filter = 2, kernel size = 5, pooling size = 2: 9.292\n",
            "filter = 4, kernel size = 5, pooling size = 2: 8.983\n",
            "filter = 8, kernel size = 5, pooling size = 2: 7.830\n",
            "filter = 16, kernel size = 5, pooling size = 2: 8.387\n",
            "filter = 32, kernel size = 5, pooling size = 2: 7.671\n",
            "filter = 64, kernel size = 5, pooling size = 2: 8.266\n",
            "filter = 128, kernel size = 5, pooling size = 2: 9.808\n",
            "filter = 256, kernel size = 5, pooling size = 2: 12.560\n",
            "filter = 512, kernel size = 5, pooling size = 2: 12.877\n"
          ]
        }
      ]
    },
    {
      "cell_type": "markdown",
      "metadata": {
        "id": "xLFOyGfsGbeG"
      },
      "source": [
        "### LSTM"
      ]
    },
    {
      "cell_type": "code",
      "metadata": {
        "id": "VCu5WhCFGbeG"
      },
      "source": [
        "def evaluate_lstm(trainX, trainy, units):\n",
        "    seed(1)\n",
        "    tensorflow.random.set_seed(1)\n",
        "\n",
        "    verbose, epochs, batch_size = 0, 50, 1\n",
        "    n_timesteps, n_features = trainX.shape[1], trainX.shape[2]\n",
        "\n",
        "    model = Sequential()\n",
        "    model.add(LSTM(units = units, activation='relu', input_shape=(n_timesteps,n_features)))\n",
        "    model.add(Dense(1, activation='linear'))\n",
        "    model.compile(loss='mse', optimizer='adam', metrics=['MAPE'])\n",
        "  \n",
        "    # fit network\n",
        "    model.fit(trainX, trainy, epochs=epochs, batch_size=batch_size, verbose=verbose, shuffle = False)\n",
        "    # evaluate model\n",
        "    _, accuracy = model.evaluate(trainX, trainy, batch_size=batch_size, verbose=0)\n",
        "    return accuracy\n",
        "\n",
        "\n",
        "# # Univariate LSTM confirmed cases\n",
        "units = [2, 4,8,16,32,64,128,256,512, 1024]\n",
        "\n",
        "\n",
        "# Multivariate LSTM confirmed cases\n",
        "\n",
        "lstm_i_multi_resident = list()\n",
        "\n",
        "for i in units:\n",
        "  score = list()\n",
        "  score = evaluate_lstm(X_i_tr_resident, y_i_tr, i)\n",
        "  lstm_i_multi_resident.append(score)\n",
        "\n",
        "\n",
        "\n",
        "# Multivariate LSTM confirmed deaths\n",
        "\n",
        "lstm_d_multi_resident = list()\n",
        "\n",
        "for i in units:\n",
        "  score = list()\n",
        "  score = evaluate_lstm(X_d_tr_grocery, y_d_tr, i)\n",
        "  lstm_d_multi_resident.append(score)"
      ],
      "execution_count": 14,
      "outputs": []
    },
    {
      "cell_type": "markdown",
      "metadata": {
        "id": "p6bqauXwGbeG"
      },
      "source": [
        "### GRU"
      ]
    },
    {
      "cell_type": "code",
      "metadata": {
        "id": "YXSadLYlGbeH"
      },
      "source": [
        "def evaluate_gru(trainX, trainy, units):\n",
        "    seed(1)\n",
        "    tensorflow.random.set_seed(1)\n",
        "\n",
        "    verbose, epochs, batch_size = 0, 50, 1\n",
        "    n_timesteps, n_features = trainX.shape[1], trainX.shape[2]\n",
        "\n",
        "    model = Sequential()\n",
        "    model.add(GRU(units = units, activation='relu', input_shape=(n_timesteps,n_features)))\n",
        "    model.add(Dense(1, activation='linear'))\n",
        "    model.compile(loss='mse', optimizer='adam', metrics=['MAPE'])\n",
        "  \n",
        "    # fit network\n",
        "    model.fit(trainX, trainy, epochs=epochs, batch_size=batch_size, verbose=verbose, shuffle = False)\n",
        "    # evaluate model\n",
        "    _, accuracy = model.evaluate(trainX, trainy, batch_size=batch_size, verbose=0)\n",
        "    return accuracy\n",
        "\n",
        "# Multivariate GRU confirmed cases\n",
        "\n",
        "gru_i_multi_resident = list()\n",
        "\n",
        "for i in units:\n",
        "  score = list()\n",
        "  score = evaluate_gru(X_i_tr_resident, y_i_tr, i)\n",
        "  gru_i_multi_resident.append(score)\n",
        "\n",
        "\n",
        "# Multivariate GRU confirmed deaths\n",
        "\n",
        "gru_d_multi_resident = list()\n",
        "\n",
        "for i in units:\n",
        "  score = list()\n",
        "  score = evaluate_gru(X_d_tr_resident, y_d_tr, i)\n",
        "  gru_d_multi_resident.append(score)"
      ],
      "execution_count": 20,
      "outputs": []
    },
    {
      "cell_type": "markdown",
      "metadata": {
        "id": "UNh1K2TXGbeH"
      },
      "source": [
        "### RNNs"
      ]
    },
    {
      "cell_type": "code",
      "metadata": {
        "id": "qLEhHUXxGbeH"
      },
      "source": [
        "def evaluate_rnn(trainX, trainy, units):\n",
        "    seed(1)\n",
        "    tensorflow.random.set_seed(1)\n",
        "\n",
        "    verbose, epochs, batch_size = 0, 50, 1\n",
        "    n_timesteps, n_features = trainX.shape[1], trainX.shape[2]\n",
        "\n",
        "    model = Sequential()\n",
        "    model.add(SimpleRNN(units = units, activation='relu', input_shape=(n_timesteps,n_features)))\n",
        "    model.add(Dense(1, activation='linear'))\n",
        "    model.compile(loss='mse', optimizer='adam', metrics=['MAPE'])\n",
        "  \n",
        "    # fit network\n",
        "    model.fit(trainX, trainy, epochs=epochs, batch_size=batch_size, verbose=verbose, shuffle = False)\n",
        "    # evaluate model\n",
        "    _, accuracy = model.evaluate(trainX, trainy, batch_size=batch_size, verbose=0)\n",
        "    return accuracy\n",
        "\n",
        "# Multivariate RNNs confirmed cases\n",
        "\n",
        "rnn_i_multi_resident = list()\n",
        "\n",
        "for i in units:\n",
        "  score = list()\n",
        "  score = evaluate_rnn(X_i_tr_resident, y_i_tr, i)\n",
        "  rnn_i_multi_resident.append(score)\n",
        "\n",
        "\n",
        "# Multivariate RNNs confirmed deaths\n",
        "\n",
        "rnn_d_multi_resident = list()\n",
        "\n",
        "for i in units:\n",
        "  score = list()\n",
        "  score = evaluate_rnn(X_d_tr_resident, y_d_tr, i)\n",
        "  rnn_d_multi_resident.append(score)"
      ],
      "execution_count": 21,
      "outputs": []
    },
    {
      "cell_type": "markdown",
      "metadata": {
        "id": "6GgJeiPCGbeH"
      },
      "source": [
        "### Result Table"
      ]
    },
    {
      "cell_type": "markdown",
      "metadata": {
        "id": "pSTo4wFuGbeH"
      },
      "source": [
        "#### Multivariate Confirmed Cases"
      ]
    },
    {
      "cell_type": "code",
      "metadata": {
        "id": "1avlY3z5GbeH",
        "colab": {
          "base_uri": "https://localhost:8080/",
          "height": 737
        },
        "outputId": "c145914b-a13e-4aa3-cc05-1726ef82f370"
      },
      "source": [
        "fig = go.Figure(data=[go.Table(header=dict(values=['Model', 'Kernel size', 'Pool', '2 Nodes', '4 Nodes', '8 Nodes', '16 Nodes', \n",
        "                                                   '32 Nodes', \"64 Nodes\", '128 Nodes', '256 Nodes', '512 Nodes', '1024 Nodes'],\n",
        "                                           line_color = 'gray'),\n",
        "                               cells=dict(values=[['LSTM', 'GRU', 'RNNs', 'CNN',\n",
        "                                                   'CNN', 'CNN', 'CNN', 'CNN', 'CNN'],\n",
        "                                                  ['-', '-', '-', '3', '5', '7', '3', '5', '7'],\n",
        "                                                  ['-', '-', '-', '2', '2', '2', '3', '3', '3'],\n",
        "                                    [round(lstm_i_multi_resident[0],3), \n",
        "                                     round(gru_i_multi_resident[0],3),\n",
        "                                     round(rnn_i_multi_resident[0],3), \n",
        "                                     round(cnn_i_multi_resident.iloc[0,0],3),\n",
        "                                     round(cnn_i_multi_resident.iloc[0,1],3),\n",
        "                                     round(cnn_i_multi_resident.iloc[0,2],3),\n",
        "                                     round(cnn_i_multi_resident.iloc[0,3],3),\n",
        "                                     round(cnn_i_multi_resident.iloc[0,4],3),\n",
        "                                     round(cnn_i_multi_resident.iloc[0,5],3)],\n",
        "                                     [round(lstm_i_multi_resident[1],3), \n",
        "                                     round(gru_i_multi_resident[1],3),\n",
        "                                     round(rnn_i_multi_resident[1],3), \n",
        "                                     round(cnn_i_multi_resident.iloc[1,0],3),\n",
        "                                     round(cnn_i_multi_resident.iloc[1,1],3),\n",
        "                                     round(cnn_i_multi_resident.iloc[1,2],3),\n",
        "                                     round(cnn_i_multi_resident.iloc[1,3],3),\n",
        "                                     round(cnn_i_multi_resident.iloc[1,4],3),\n",
        "                                     round(cnn_i_multi_resident.iloc[1,5],3)],\n",
        "                                     [round(lstm_i_multi_resident[2],3), \n",
        "                                     round(gru_i_multi_resident[2],3),\n",
        "                                     round(rnn_i_multi_resident[2],3), \n",
        "                                     round(cnn_i_multi_resident.iloc[2,0],3),\n",
        "                                     round(cnn_i_multi_resident.iloc[2,1],3),\n",
        "                                     round(cnn_i_multi_resident.iloc[2,2],3),\n",
        "                                     round(cnn_i_multi_resident.iloc[2,3],3),\n",
        "                                     round(cnn_i_multi_resident.iloc[2,4],3),\n",
        "                                     round(cnn_i_multi_resident.iloc[2,5],3)],\n",
        "                                     [round(lstm_i_multi_resident[3],3), \n",
        "                                     round(gru_i_multi_resident[3],3),\n",
        "                                     round(rnn_i_multi_resident[3],3), \n",
        "                                     round(cnn_i_multi_resident.iloc[3,0],3),\n",
        "                                     round(cnn_i_multi_resident.iloc[3,1],3),\n",
        "                                     round(cnn_i_multi_resident.iloc[3,2],3),\n",
        "                                     round(cnn_i_multi_resident.iloc[3,3],3),\n",
        "                                     round(cnn_i_multi_resident.iloc[3,4],3),\n",
        "                                     round(cnn_i_multi_resident.iloc[3,5],3)],\n",
        "                                     [round(lstm_i_multi_resident[4],3), \n",
        "                                     round(gru_i_multi_resident[4],3),\n",
        "                                     round(rnn_i_multi_resident[4],3), \n",
        "                                     round(cnn_i_multi_resident.iloc[4,0],3),\n",
        "                                     round(cnn_i_multi_resident.iloc[4,1],3),\n",
        "                                     round(cnn_i_multi_resident.iloc[4,2],3),\n",
        "                                     round(cnn_i_multi_resident.iloc[4,3],3),\n",
        "                                     round(cnn_i_multi_resident.iloc[4,4],3),\n",
        "                                     round(cnn_i_multi_resident.iloc[4,5],3)],\n",
        "                                     [round(lstm_i_multi_resident[5],3), \n",
        "                                     round(gru_i_multi_resident[5],3),\n",
        "                                     round(rnn_i_multi_resident[5],3), \n",
        "                                     round(cnn_i_multi_resident.iloc[5,0],3),\n",
        "                                     round(cnn_i_multi_resident.iloc[5,1],3),\n",
        "                                     round(cnn_i_multi_resident.iloc[5,2],3),\n",
        "                                     round(cnn_i_multi_resident.iloc[5,3],3),\n",
        "                                     round(cnn_i_multi_resident.iloc[5,4],3),\n",
        "                                     round(cnn_i_multi_resident.iloc[5,5],3)],\n",
        "                                     [round(lstm_i_multi_resident[6],3), \n",
        "                                     round(gru_i_multi_resident[6],3),\n",
        "                                     round(rnn_i_multi_resident[6],3), \n",
        "                                     round(cnn_i_multi_resident.iloc[6,0],3),\n",
        "                                     round(cnn_i_multi_resident.iloc[6,1],3),\n",
        "                                     round(cnn_i_multi_resident.iloc[6,2],3),\n",
        "                                     round(cnn_i_multi_resident.iloc[6,3],3),\n",
        "                                     round(cnn_i_multi_resident.iloc[6,4],3),\n",
        "                                     round(cnn_i_multi_resident.iloc[6,5],3)],\n",
        "                                     [round(lstm_i_multi_resident[7],3), \n",
        "                                     round(gru_i_multi_resident[7],3),\n",
        "                                     round(rnn_i_multi_resident[7],3), \n",
        "                                     round(cnn_i_multi_resident.iloc[7,0],3),\n",
        "                                     round(cnn_i_multi_resident.iloc[7,1],3),\n",
        "                                     round(cnn_i_multi_resident.iloc[7,2],3),\n",
        "                                     round(cnn_i_multi_resident.iloc[7,3],3),\n",
        "                                     round(cnn_i_multi_resident.iloc[7,4],3),\n",
        "                                     round(cnn_i_multi_resident.iloc[7,5],3)],\n",
        "                                     [round(lstm_i_multi_resident[8],3), \n",
        "                                     round(gru_i_multi_resident[8],3),\n",
        "                                     round(rnn_i_multi_resident[8],3), \n",
        "                                     round(cnn_i_multi_resident.iloc[8,0],3),\n",
        "                                     round(cnn_i_multi_resident.iloc[8,1],3),\n",
        "                                     round(cnn_i_multi_resident.iloc[8,2],3),\n",
        "                                     round(cnn_i_multi_resident.iloc[8,3],3),\n",
        "                                     round(cnn_i_multi_resident.iloc[8,4],3),\n",
        "                                     round(cnn_i_multi_resident.iloc[8,5],3)],\n",
        "                                     [round(lstm_i_multi_resident[9],3), \n",
        "                                     round(gru_i_multi_resident[9],3),\n",
        "                                     round(rnn_i_multi_resident[9],3), \n",
        "                                     round(cnn_i_multi_resident.iloc[9,0],3),\n",
        "                                     round(cnn_i_multi_resident.iloc[9,1],3),\n",
        "                                     round(cnn_i_multi_resident.iloc[9,2],3),\n",
        "                                     round(cnn_i_multi_resident.iloc[9,3],3),\n",
        "                                     round(cnn_i_multi_resident.iloc[9,4],3),\n",
        "                                     round(cnn_i_multi_resident.iloc[9,5],3)]],\n",
        "                            align=['left','center', 'center', \n",
        "                                   'right','right','right',\n",
        "                                   'right','right','right',\n",
        "                                   'right','right','right','right'],\n",
        "                            fill_color = 'white',\n",
        "                            line_color = 'gray'))\n",
        "                     ])\n",
        "fig.update_layout(title = \"Parameter Tunings Mean Absolute Percentage Error: Multivariate Confirmed Cases\",\n",
        "                  title_x=0.5, height = 700, width = 1200)\n",
        "fig.show()"
      ],
      "execution_count": 22,
      "outputs": [
        {
          "output_type": "display_data",
          "data": {
            "text/html": [
              "<html>\n",
              "<head><meta charset=\"utf-8\" /></head>\n",
              "<body>\n",
              "    <div>\n",
              "            <script src=\"https://cdnjs.cloudflare.com/ajax/libs/mathjax/2.7.5/MathJax.js?config=TeX-AMS-MML_SVG\"></script><script type=\"text/javascript\">if (window.MathJax) {MathJax.Hub.Config({SVG: {font: \"STIX-Web\"}});}</script>\n",
              "                <script type=\"text/javascript\">window.PlotlyConfig = {MathJaxConfig: 'local'};</script>\n",
              "        <script src=\"https://cdn.plot.ly/plotly-latest.min.js\"></script>    \n",
              "            <div id=\"6af95d89-3fa2-4a1d-bb43-af106a7156ec\" class=\"plotly-graph-div\" style=\"height:700px; width:1200px;\"></div>\n",
              "            <script type=\"text/javascript\">\n",
              "                \n",
              "                    window.PLOTLYENV=window.PLOTLYENV || {};\n",
              "                    \n",
              "                if (document.getElementById(\"6af95d89-3fa2-4a1d-bb43-af106a7156ec\")) {\n",
              "                    Plotly.newPlot(\n",
              "                        '6af95d89-3fa2-4a1d-bb43-af106a7156ec',\n",
              "                        [{\"cells\": {\"align\": [\"left\", \"center\", \"center\", \"right\", \"right\", \"right\", \"right\", \"right\", \"right\", \"right\", \"right\", \"right\", \"right\"], \"fill\": {\"color\": \"white\"}, \"line\": {\"color\": \"gray\"}, \"values\": [[\"LSTM\", \"GRU\", \"RNNs\", \"CNN\", \"CNN\", \"CNN\", \"CNN\", \"CNN\", \"CNN\"], [\"-\", \"-\", \"-\", \"3\", \"5\", \"7\", \"3\", \"5\", \"7\"], [\"-\", \"-\", \"-\", \"2\", \"2\", \"2\", \"3\", \"3\", \"3\"], [99.984, 16.0, 6.072, 5.471, 5.612, 5.678, 5.588, 5.562, 5.168], [99.984, 99.984, 3.558, 5.51, 4.763, 5.284, 4.728, 5.593, 5.865], [8.586, 99.984, 4.217, 5.86, 4.483, 6.105, 4.393, 5.011, 6.265], [4.171, 4.48, 5.316, 4.433, 3.432, 4.968, 4.688, 4.697, 5.02], [4.001, 4.266, 3.865, 4.275, 4.37, 5.079, 4.311, 5.146, 5.933], [4.447, 4.452, 3.659, 3.807, 3.873, 3.98, 4.365, 4.978, 4.901], [4.788, 4.35, 4.037, 3.744, 3.752, 4.226, 3.91, 4.431, 4.683], [4.041, 4.688, 3.156, 4.119, 3.999, 4.122, 3.602, 4.464, 4.631], [4.213, 3.673, 3.176, 4.704, 4.761, 4.108, 4.194, 5.096, 4.895], [3.941, 3.518, 3.248, 4.902, 5.921, 5.097, 5.54, 5.35, 5.327]]}, \"header\": {\"line\": {\"color\": \"gray\"}, \"values\": [\"Model\", \"Kernel size\", \"Pool\", \"2 Nodes\", \"4 Nodes\", \"8 Nodes\", \"16 Nodes\", \"32 Nodes\", \"64 Nodes\", \"128 Nodes\", \"256 Nodes\", \"512 Nodes\", \"1024 Nodes\"]}, \"type\": \"table\"}],\n",
              "                        {\"height\": 700, \"template\": {\"data\": {\"bar\": [{\"error_x\": {\"color\": \"#2a3f5f\"}, \"error_y\": {\"color\": \"#2a3f5f\"}, \"marker\": {\"line\": {\"color\": \"#E5ECF6\", \"width\": 0.5}}, \"type\": \"bar\"}], \"barpolar\": [{\"marker\": {\"line\": {\"color\": \"#E5ECF6\", \"width\": 0.5}}, \"type\": \"barpolar\"}], \"carpet\": [{\"aaxis\": {\"endlinecolor\": \"#2a3f5f\", \"gridcolor\": \"white\", \"linecolor\": \"white\", \"minorgridcolor\": \"white\", \"startlinecolor\": \"#2a3f5f\"}, \"baxis\": {\"endlinecolor\": \"#2a3f5f\", \"gridcolor\": \"white\", \"linecolor\": \"white\", \"minorgridcolor\": \"white\", \"startlinecolor\": \"#2a3f5f\"}, \"type\": \"carpet\"}], \"choropleth\": [{\"colorbar\": {\"outlinewidth\": 0, \"ticks\": \"\"}, \"type\": \"choropleth\"}], \"contour\": [{\"colorbar\": {\"outlinewidth\": 0, \"ticks\": \"\"}, \"colorscale\": [[0.0, \"#0d0887\"], [0.1111111111111111, \"#46039f\"], [0.2222222222222222, \"#7201a8\"], [0.3333333333333333, \"#9c179e\"], [0.4444444444444444, \"#bd3786\"], [0.5555555555555556, \"#d8576b\"], [0.6666666666666666, \"#ed7953\"], [0.7777777777777778, \"#fb9f3a\"], [0.8888888888888888, \"#fdca26\"], [1.0, \"#f0f921\"]], \"type\": \"contour\"}], \"contourcarpet\": [{\"colorbar\": {\"outlinewidth\": 0, \"ticks\": \"\"}, \"type\": \"contourcarpet\"}], \"heatmap\": [{\"colorbar\": {\"outlinewidth\": 0, \"ticks\": \"\"}, \"colorscale\": [[0.0, \"#0d0887\"], [0.1111111111111111, \"#46039f\"], [0.2222222222222222, \"#7201a8\"], [0.3333333333333333, \"#9c179e\"], [0.4444444444444444, \"#bd3786\"], [0.5555555555555556, \"#d8576b\"], [0.6666666666666666, \"#ed7953\"], [0.7777777777777778, \"#fb9f3a\"], [0.8888888888888888, \"#fdca26\"], [1.0, \"#f0f921\"]], \"type\": \"heatmap\"}], \"heatmapgl\": [{\"colorbar\": {\"outlinewidth\": 0, \"ticks\": \"\"}, \"colorscale\": [[0.0, \"#0d0887\"], [0.1111111111111111, \"#46039f\"], [0.2222222222222222, \"#7201a8\"], [0.3333333333333333, \"#9c179e\"], [0.4444444444444444, \"#bd3786\"], [0.5555555555555556, \"#d8576b\"], [0.6666666666666666, \"#ed7953\"], [0.7777777777777778, \"#fb9f3a\"], [0.8888888888888888, \"#fdca26\"], [1.0, \"#f0f921\"]], \"type\": \"heatmapgl\"}], \"histogram\": [{\"marker\": {\"colorbar\": {\"outlinewidth\": 0, \"ticks\": \"\"}}, \"type\": \"histogram\"}], \"histogram2d\": [{\"colorbar\": {\"outlinewidth\": 0, \"ticks\": \"\"}, \"colorscale\": [[0.0, \"#0d0887\"], [0.1111111111111111, \"#46039f\"], [0.2222222222222222, \"#7201a8\"], [0.3333333333333333, \"#9c179e\"], [0.4444444444444444, \"#bd3786\"], [0.5555555555555556, \"#d8576b\"], [0.6666666666666666, \"#ed7953\"], [0.7777777777777778, \"#fb9f3a\"], [0.8888888888888888, \"#fdca26\"], [1.0, \"#f0f921\"]], \"type\": \"histogram2d\"}], \"histogram2dcontour\": [{\"colorbar\": {\"outlinewidth\": 0, \"ticks\": \"\"}, \"colorscale\": [[0.0, \"#0d0887\"], [0.1111111111111111, \"#46039f\"], [0.2222222222222222, \"#7201a8\"], [0.3333333333333333, \"#9c179e\"], [0.4444444444444444, \"#bd3786\"], [0.5555555555555556, \"#d8576b\"], [0.6666666666666666, \"#ed7953\"], [0.7777777777777778, \"#fb9f3a\"], [0.8888888888888888, \"#fdca26\"], [1.0, \"#f0f921\"]], \"type\": \"histogram2dcontour\"}], \"mesh3d\": [{\"colorbar\": {\"outlinewidth\": 0, \"ticks\": \"\"}, \"type\": \"mesh3d\"}], \"parcoords\": [{\"line\": {\"colorbar\": {\"outlinewidth\": 0, \"ticks\": \"\"}}, \"type\": \"parcoords\"}], \"pie\": [{\"automargin\": true, \"type\": \"pie\"}], \"scatter\": [{\"marker\": {\"colorbar\": {\"outlinewidth\": 0, \"ticks\": \"\"}}, \"type\": \"scatter\"}], \"scatter3d\": [{\"line\": {\"colorbar\": {\"outlinewidth\": 0, \"ticks\": \"\"}}, \"marker\": {\"colorbar\": {\"outlinewidth\": 0, \"ticks\": \"\"}}, \"type\": \"scatter3d\"}], \"scattercarpet\": [{\"marker\": {\"colorbar\": {\"outlinewidth\": 0, \"ticks\": \"\"}}, \"type\": \"scattercarpet\"}], \"scattergeo\": [{\"marker\": {\"colorbar\": {\"outlinewidth\": 0, \"ticks\": \"\"}}, \"type\": \"scattergeo\"}], \"scattergl\": [{\"marker\": {\"colorbar\": {\"outlinewidth\": 0, \"ticks\": \"\"}}, \"type\": \"scattergl\"}], \"scattermapbox\": [{\"marker\": {\"colorbar\": {\"outlinewidth\": 0, \"ticks\": \"\"}}, \"type\": \"scattermapbox\"}], \"scatterpolar\": [{\"marker\": {\"colorbar\": {\"outlinewidth\": 0, \"ticks\": \"\"}}, \"type\": \"scatterpolar\"}], \"scatterpolargl\": [{\"marker\": {\"colorbar\": {\"outlinewidth\": 0, \"ticks\": \"\"}}, \"type\": \"scatterpolargl\"}], \"scatterternary\": [{\"marker\": {\"colorbar\": {\"outlinewidth\": 0, \"ticks\": \"\"}}, \"type\": \"scatterternary\"}], \"surface\": [{\"colorbar\": {\"outlinewidth\": 0, \"ticks\": \"\"}, \"colorscale\": [[0.0, \"#0d0887\"], [0.1111111111111111, \"#46039f\"], [0.2222222222222222, \"#7201a8\"], [0.3333333333333333, \"#9c179e\"], [0.4444444444444444, \"#bd3786\"], [0.5555555555555556, \"#d8576b\"], [0.6666666666666666, \"#ed7953\"], [0.7777777777777778, \"#fb9f3a\"], [0.8888888888888888, \"#fdca26\"], [1.0, \"#f0f921\"]], \"type\": \"surface\"}], \"table\": [{\"cells\": {\"fill\": {\"color\": \"#EBF0F8\"}, \"line\": {\"color\": \"white\"}}, \"header\": {\"fill\": {\"color\": \"#C8D4E3\"}, \"line\": {\"color\": \"white\"}}, \"type\": \"table\"}]}, \"layout\": {\"annotationdefaults\": {\"arrowcolor\": \"#2a3f5f\", \"arrowhead\": 0, \"arrowwidth\": 1}, \"coloraxis\": {\"colorbar\": {\"outlinewidth\": 0, \"ticks\": \"\"}}, \"colorscale\": {\"diverging\": [[0, \"#8e0152\"], [0.1, \"#c51b7d\"], [0.2, \"#de77ae\"], [0.3, \"#f1b6da\"], [0.4, \"#fde0ef\"], [0.5, \"#f7f7f7\"], [0.6, \"#e6f5d0\"], [0.7, \"#b8e186\"], [0.8, \"#7fbc41\"], [0.9, \"#4d9221\"], [1, \"#276419\"]], \"sequential\": [[0.0, \"#0d0887\"], [0.1111111111111111, \"#46039f\"], [0.2222222222222222, \"#7201a8\"], [0.3333333333333333, \"#9c179e\"], [0.4444444444444444, \"#bd3786\"], [0.5555555555555556, \"#d8576b\"], [0.6666666666666666, \"#ed7953\"], [0.7777777777777778, \"#fb9f3a\"], [0.8888888888888888, \"#fdca26\"], [1.0, \"#f0f921\"]], \"sequentialminus\": [[0.0, \"#0d0887\"], [0.1111111111111111, \"#46039f\"], [0.2222222222222222, \"#7201a8\"], [0.3333333333333333, \"#9c179e\"], [0.4444444444444444, \"#bd3786\"], [0.5555555555555556, \"#d8576b\"], [0.6666666666666666, \"#ed7953\"], [0.7777777777777778, \"#fb9f3a\"], [0.8888888888888888, \"#fdca26\"], [1.0, \"#f0f921\"]]}, \"colorway\": [\"#636efa\", \"#EF553B\", \"#00cc96\", \"#ab63fa\", \"#FFA15A\", \"#19d3f3\", \"#FF6692\", \"#B6E880\", \"#FF97FF\", \"#FECB52\"], \"font\": {\"color\": \"#2a3f5f\"}, \"geo\": {\"bgcolor\": \"white\", \"lakecolor\": \"white\", \"landcolor\": \"#E5ECF6\", \"showlakes\": true, \"showland\": true, \"subunitcolor\": \"white\"}, \"hoverlabel\": {\"align\": \"left\"}, \"hovermode\": \"closest\", \"mapbox\": {\"style\": \"light\"}, \"paper_bgcolor\": \"white\", \"plot_bgcolor\": \"#E5ECF6\", \"polar\": {\"angularaxis\": {\"gridcolor\": \"white\", \"linecolor\": \"white\", \"ticks\": \"\"}, \"bgcolor\": \"#E5ECF6\", \"radialaxis\": {\"gridcolor\": \"white\", \"linecolor\": \"white\", \"ticks\": \"\"}}, \"scene\": {\"xaxis\": {\"backgroundcolor\": \"#E5ECF6\", \"gridcolor\": \"white\", \"gridwidth\": 2, \"linecolor\": \"white\", \"showbackground\": true, \"ticks\": \"\", \"zerolinecolor\": \"white\"}, \"yaxis\": {\"backgroundcolor\": \"#E5ECF6\", \"gridcolor\": \"white\", \"gridwidth\": 2, \"linecolor\": \"white\", \"showbackground\": true, \"ticks\": \"\", \"zerolinecolor\": \"white\"}, \"zaxis\": {\"backgroundcolor\": \"#E5ECF6\", \"gridcolor\": \"white\", \"gridwidth\": 2, \"linecolor\": \"white\", \"showbackground\": true, \"ticks\": \"\", \"zerolinecolor\": \"white\"}}, \"shapedefaults\": {\"line\": {\"color\": \"#2a3f5f\"}}, \"ternary\": {\"aaxis\": {\"gridcolor\": \"white\", \"linecolor\": \"white\", \"ticks\": \"\"}, \"baxis\": {\"gridcolor\": \"white\", \"linecolor\": \"white\", \"ticks\": \"\"}, \"bgcolor\": \"#E5ECF6\", \"caxis\": {\"gridcolor\": \"white\", \"linecolor\": \"white\", \"ticks\": \"\"}}, \"title\": {\"x\": 0.05}, \"xaxis\": {\"automargin\": true, \"gridcolor\": \"white\", \"linecolor\": \"white\", \"ticks\": \"\", \"title\": {\"standoff\": 15}, \"zerolinecolor\": \"white\", \"zerolinewidth\": 2}, \"yaxis\": {\"automargin\": true, \"gridcolor\": \"white\", \"linecolor\": \"white\", \"ticks\": \"\", \"title\": {\"standoff\": 15}, \"zerolinecolor\": \"white\", \"zerolinewidth\": 2}}}, \"title\": {\"text\": \"Parameter Tunings Mean Absolute Percentage Error: Multivariate Confirmed Cases\", \"x\": 0.5}, \"width\": 1200},\n",
              "                        {\"responsive\": true}\n",
              "                    ).then(function(){\n",
              "                            \n",
              "var gd = document.getElementById('6af95d89-3fa2-4a1d-bb43-af106a7156ec');\n",
              "var x = new MutationObserver(function (mutations, observer) {{\n",
              "        var display = window.getComputedStyle(gd).display;\n",
              "        if (!display || display === 'none') {{\n",
              "            console.log([gd, 'removed!']);\n",
              "            Plotly.purge(gd);\n",
              "            observer.disconnect();\n",
              "        }}\n",
              "}});\n",
              "\n",
              "// Listen for the removal of the full notebook cells\n",
              "var notebookContainer = gd.closest('#notebook-container');\n",
              "if (notebookContainer) {{\n",
              "    x.observe(notebookContainer, {childList: true});\n",
              "}}\n",
              "\n",
              "// Listen for the clearing of the current output cell\n",
              "var outputEl = gd.closest('.output');\n",
              "if (outputEl) {{\n",
              "    x.observe(outputEl, {childList: true});\n",
              "}}\n",
              "\n",
              "                        })\n",
              "                };\n",
              "                \n",
              "            </script>\n",
              "        </div>\n",
              "</body>\n",
              "</html>"
            ]
          },
          "metadata": {}
        }
      ]
    },
    {
      "cell_type": "markdown",
      "metadata": {
        "id": "9LXMK25AGbeI"
      },
      "source": [
        "#### Multivariate Confirmed Deaths"
      ]
    },
    {
      "cell_type": "code",
      "metadata": {
        "id": "B6E0M7gfGbeI",
        "colab": {
          "base_uri": "https://localhost:8080/",
          "height": 737
        },
        "outputId": "032a4f28-7ec9-4d26-8e98-eafdbd95a848"
      },
      "source": [
        "fig = go.Figure(data=[go.Table(header=dict(values=['Model', 'Kernel size', 'Pool', '2 Nodes','4 Nodes', '8 Nodes', '16 Nodes', '32 Nodes',\n",
        "                                                   \"64 Nodes\", '128 Nodes', '256 Nodes', '512 Nodes' , '1024 Nodes'],\n",
        "                                           line_color = 'gray'),\n",
        "                               cells=dict(values=[['LSTM', 'GRU', 'RNNs', 'CNN',\n",
        "                                                   'CNN', 'CNN', 'CNN', 'CNN', 'CNN'],\n",
        "                                                  ['-', '-', '-', '3', '5', '7', '3', '5', '7'],\n",
        "                                                  ['-', '-', '-', '2', '2', '2', '3', '3', '3'],\n",
        "                                    [round(lstm_d_multi_resident[0],3), \n",
        "                                     round(gru_d_multi_resident[0],3),\n",
        "                                     round(rnn_d_multi_resident[0],3), \n",
        "                                     round(cnn_d_multi_resident.iloc[0,0],3),\n",
        "                                     round(cnn_d_multi_resident.iloc[0,1],3),\n",
        "                                     round(cnn_d_multi_resident.iloc[0,2],3),\n",
        "                                     round(cnn_d_multi_resident.iloc[0,3],3),\n",
        "                                     round(cnn_d_multi_resident.iloc[0,4],3),\n",
        "                                     round(cnn_d_multi_resident.iloc[0,5],3)],\n",
        "                                     [round(lstm_d_multi_resident[1],3), \n",
        "                                     round(gru_d_multi_resident[1],3),\n",
        "                                     round(rnn_d_multi_resident[1],3), \n",
        "                                     round(cnn_d_multi_resident.iloc[1,0],3),\n",
        "                                     round(cnn_d_multi_resident.iloc[1,1],3),\n",
        "                                     round(cnn_d_multi_resident.iloc[1,2],3),\n",
        "                                     round(cnn_d_multi_resident.iloc[1,3],3),\n",
        "                                     round(cnn_d_multi_resident.iloc[1,4],3),\n",
        "                                     round(cnn_d_multi_resident.iloc[1,5],3)],\n",
        "                                     [round(lstm_d_multi_resident[2],3), \n",
        "                                     round(gru_d_multi_resident[2],3),\n",
        "                                     round(rnn_d_multi_resident[2],3), \n",
        "                                     round(cnn_d_multi_resident.iloc[2,0],3),\n",
        "                                     round(cnn_d_multi_resident.iloc[2,1],3),\n",
        "                                     round(cnn_d_multi_resident.iloc[2,2],3),\n",
        "                                     round(cnn_d_multi_resident.iloc[2,3],3),\n",
        "                                     round(cnn_d_multi_resident.iloc[2,4],3),\n",
        "                                     round(cnn_d_multi_resident.iloc[2,5],3)],\n",
        "                                     [round(lstm_d_multi_resident[3],3), \n",
        "                                     round(gru_d_multi_resident[3],3),\n",
        "                                     round(rnn_d_multi_resident[3],3), \n",
        "                                     round(cnn_d_multi_resident.iloc[3,0],3),\n",
        "                                     round(cnn_d_multi_resident.iloc[3,1],3),\n",
        "                                     round(cnn_d_multi_resident.iloc[3,2],3),\n",
        "                                     round(cnn_d_multi_resident.iloc[3,3],3),\n",
        "                                     round(cnn_d_multi_resident.iloc[3,4],3),\n",
        "                                     round(cnn_d_multi_resident.iloc[3,5],3)],\n",
        "                                     [round(lstm_d_multi_resident[4],3), \n",
        "                                     round(gru_d_multi_resident[4],3),\n",
        "                                     round(rnn_d_multi_resident[4],3), \n",
        "                                     round(cnn_d_multi_resident.iloc[4,0],3),\n",
        "                                     round(cnn_d_multi_resident.iloc[4,1],3),\n",
        "                                     round(cnn_d_multi_resident.iloc[4,2],3),\n",
        "                                     round(cnn_d_multi_resident.iloc[4,3],3),\n",
        "                                     round(cnn_d_multi_resident.iloc[4,4],3),\n",
        "                                     round(cnn_d_multi_resident.iloc[4,5],3)],\n",
        "                                     [round(lstm_d_multi_resident[5],3), \n",
        "                                     round(gru_d_multi_resident[5],3),\n",
        "                                     round(rnn_d_multi_resident[5],3), \n",
        "                                     round(cnn_d_multi_resident.iloc[5,0],3),\n",
        "                                     round(cnn_d_multi_resident.iloc[5,1],3),\n",
        "                                     round(cnn_d_multi_resident.iloc[5,2],3),\n",
        "                                     round(cnn_d_multi_resident.iloc[5,3],3),\n",
        "                                     round(cnn_d_multi_resident.iloc[5,4],3),\n",
        "                                     round(cnn_d_multi_resident.iloc[5,5],3)],\n",
        "                                     [round(lstm_d_multi_resident[6],3), \n",
        "                                     round(gru_d_multi_resident[6],3),\n",
        "                                     round(rnn_d_multi_resident[6],3), \n",
        "                                     round(cnn_d_multi_resident.iloc[6,0],3),\n",
        "                                     round(cnn_d_multi_resident.iloc[6,1],3),\n",
        "                                     round(cnn_d_multi_resident.iloc[6,2],3),\n",
        "                                     round(cnn_d_multi_resident.iloc[6,3],3),\n",
        "                                     round(cnn_d_multi_resident.iloc[6,4],3),\n",
        "                                     round(cnn_d_multi_resident.iloc[6,5],3)],\n",
        "                                     [round(lstm_d_multi_resident[7],3), \n",
        "                                     round(gru_d_multi_resident[7],3),\n",
        "                                     round(rnn_d_multi_resident[7],3), \n",
        "                                     round(cnn_d_multi_resident.iloc[7,0],3),\n",
        "                                     round(cnn_d_multi_resident.iloc[7,1],3),\n",
        "                                     round(cnn_d_multi_resident.iloc[7,2],3),\n",
        "                                     round(cnn_d_multi_resident.iloc[7,3],3),\n",
        "                                     round(cnn_d_multi_resident.iloc[7,4],3),\n",
        "                                     round(cnn_d_multi_resident.iloc[7,5],3)],\n",
        "                                     [round(lstm_d_multi_resident[8],3), \n",
        "                                     round(gru_d_multi_resident[8],3),\n",
        "                                     round(rnn_d_multi_resident[8],3), \n",
        "                                     round(cnn_d_multi_resident.iloc[8,0],3),\n",
        "                                     round(cnn_d_multi_resident.iloc[8,1],3),\n",
        "                                     round(cnn_d_multi_resident.iloc[8,2],3),\n",
        "                                     round(cnn_d_multi_resident.iloc[8,3],3),\n",
        "                                     round(cnn_d_multi_resident.iloc[8,4],3),\n",
        "                                     round(cnn_d_multi_resident.iloc[8,5],3)],\n",
        "                                     [round(lstm_d_multi_resident[9],3), \n",
        "                                     round(gru_d_multi_resident[9],3),\n",
        "                                     round(rnn_d_multi_resident[9],3), \n",
        "                                     round(cnn_d_multi_resident.iloc[9,0],3),\n",
        "                                     round(cnn_d_multi_resident.iloc[9,1],3),\n",
        "                                     round(cnn_d_multi_resident.iloc[9,2],3),\n",
        "                                     round(cnn_d_multi_resident.iloc[9,3],3),\n",
        "                                     round(cnn_d_multi_resident.iloc[9,4],3),\n",
        "                                     round(cnn_d_multi_resident.iloc[9,5],3)]],\n",
        "                            align=['left','center', 'center', \n",
        "                                   'right','right','right',\n",
        "                                   'right','right','right',\n",
        "                                   'right','right','right','right'],\n",
        "                            fill_color = 'white',\n",
        "                            line_color = 'gray'))\n",
        "                     ])\n",
        "fig.update_layout(title = \"Parameter Tunings Mean Absolute Percentage Error: Multivariate Confirmed Deaths\",\n",
        "                  title_x=0.5, height = 700, width = 1200)\n",
        "fig.show()"
      ],
      "execution_count": 23,
      "outputs": [
        {
          "output_type": "display_data",
          "data": {
            "text/html": [
              "<html>\n",
              "<head><meta charset=\"utf-8\" /></head>\n",
              "<body>\n",
              "    <div>\n",
              "            <script src=\"https://cdnjs.cloudflare.com/ajax/libs/mathjax/2.7.5/MathJax.js?config=TeX-AMS-MML_SVG\"></script><script type=\"text/javascript\">if (window.MathJax) {MathJax.Hub.Config({SVG: {font: \"STIX-Web\"}});}</script>\n",
              "                <script type=\"text/javascript\">window.PlotlyConfig = {MathJaxConfig: 'local'};</script>\n",
              "        <script src=\"https://cdn.plot.ly/plotly-latest.min.js\"></script>    \n",
              "            <div id=\"39124488-0a17-4d8e-bc4a-cb2c08df1ea2\" class=\"plotly-graph-div\" style=\"height:700px; width:1200px;\"></div>\n",
              "            <script type=\"text/javascript\">\n",
              "                \n",
              "                    window.PLOTLYENV=window.PLOTLYENV || {};\n",
              "                    \n",
              "                if (document.getElementById(\"39124488-0a17-4d8e-bc4a-cb2c08df1ea2\")) {\n",
              "                    Plotly.newPlot(\n",
              "                        '39124488-0a17-4d8e-bc4a-cb2c08df1ea2',\n",
              "                        [{\"cells\": {\"align\": [\"left\", \"center\", \"center\", \"right\", \"right\", \"right\", \"right\", \"right\", \"right\", \"right\", \"right\", \"right\", \"right\"], \"fill\": {\"color\": \"white\"}, \"line\": {\"color\": \"gray\"}, \"values\": [[\"LSTM\", \"GRU\", \"RNNs\", \"CNN\", \"CNN\", \"CNN\", \"CNN\", \"CNN\", \"CNN\"], [\"-\", \"-\", \"-\", \"3\", \"5\", \"7\", \"3\", \"5\", \"7\"], [\"-\", \"-\", \"-\", \"2\", \"2\", \"2\", \"3\", \"3\", \"3\"], [11.051, 8.015, 11.134, 10.777, 9.292, 9.851, 8.813, 10.081, 98.124], [20.885, 7.318, 7.542, 8.141, 8.983, 9.352, 9.599, 8.976, 9.588], [5.462, 9.049, 9.071, 9.481, 7.83, 9.531, 9.9, 9.655, 9.814], [9.86, 8.633, 9.556, 8.906, 8.387, 8.979, 9.117, 9.035, 9.443], [5.187, 7.322, 5.904, 7.754, 7.671, 7.824, 9.123, 9.602, 9.504], [8.839, 5.753, 6.805, 7.359, 8.266, 8.405, 8.026, 8.735, 8.959], [9.329, 6.917, 6.013, 8.91, 9.808, 9.98, 8.076, 8.822, 9.013], [8.23, 7.494, 5.784, 10.822, 12.56, 12.151, 9.559, 10.632, 10.246], [7.153, 10.537, 4.823, 11.365, 12.877, 14.608, 11.581, 12.891, 12.623], [7.683, 12.404, 5.024, 11.532, 13.938, 27.012, 11.531, 13.921, 13.951]]}, \"header\": {\"line\": {\"color\": \"gray\"}, \"values\": [\"Model\", \"Kernel size\", \"Pool\", \"2 Nodes\", \"4 Nodes\", \"8 Nodes\", \"16 Nodes\", \"32 Nodes\", \"64 Nodes\", \"128 Nodes\", \"256 Nodes\", \"512 Nodes\", \"1024 Nodes\"]}, \"type\": \"table\"}],\n",
              "                        {\"height\": 700, \"template\": {\"data\": {\"bar\": [{\"error_x\": {\"color\": \"#2a3f5f\"}, \"error_y\": {\"color\": \"#2a3f5f\"}, \"marker\": {\"line\": {\"color\": \"#E5ECF6\", \"width\": 0.5}}, \"type\": \"bar\"}], \"barpolar\": [{\"marker\": {\"line\": {\"color\": \"#E5ECF6\", \"width\": 0.5}}, \"type\": \"barpolar\"}], \"carpet\": [{\"aaxis\": {\"endlinecolor\": \"#2a3f5f\", \"gridcolor\": \"white\", \"linecolor\": \"white\", \"minorgridcolor\": \"white\", \"startlinecolor\": \"#2a3f5f\"}, \"baxis\": {\"endlinecolor\": \"#2a3f5f\", \"gridcolor\": \"white\", \"linecolor\": \"white\", \"minorgridcolor\": \"white\", \"startlinecolor\": \"#2a3f5f\"}, \"type\": \"carpet\"}], \"choropleth\": [{\"colorbar\": {\"outlinewidth\": 0, \"ticks\": \"\"}, \"type\": \"choropleth\"}], \"contour\": [{\"colorbar\": {\"outlinewidth\": 0, \"ticks\": \"\"}, \"colorscale\": [[0.0, \"#0d0887\"], [0.1111111111111111, \"#46039f\"], [0.2222222222222222, \"#7201a8\"], [0.3333333333333333, \"#9c179e\"], [0.4444444444444444, \"#bd3786\"], [0.5555555555555556, \"#d8576b\"], [0.6666666666666666, \"#ed7953\"], [0.7777777777777778, \"#fb9f3a\"], [0.8888888888888888, \"#fdca26\"], [1.0, \"#f0f921\"]], \"type\": \"contour\"}], \"contourcarpet\": [{\"colorbar\": {\"outlinewidth\": 0, \"ticks\": \"\"}, \"type\": \"contourcarpet\"}], \"heatmap\": [{\"colorbar\": {\"outlinewidth\": 0, \"ticks\": \"\"}, \"colorscale\": [[0.0, \"#0d0887\"], [0.1111111111111111, \"#46039f\"], [0.2222222222222222, \"#7201a8\"], [0.3333333333333333, \"#9c179e\"], [0.4444444444444444, \"#bd3786\"], [0.5555555555555556, \"#d8576b\"], [0.6666666666666666, \"#ed7953\"], [0.7777777777777778, \"#fb9f3a\"], [0.8888888888888888, \"#fdca26\"], [1.0, \"#f0f921\"]], \"type\": \"heatmap\"}], \"heatmapgl\": [{\"colorbar\": {\"outlinewidth\": 0, \"ticks\": \"\"}, \"colorscale\": [[0.0, \"#0d0887\"], [0.1111111111111111, \"#46039f\"], [0.2222222222222222, \"#7201a8\"], [0.3333333333333333, \"#9c179e\"], [0.4444444444444444, \"#bd3786\"], [0.5555555555555556, \"#d8576b\"], [0.6666666666666666, \"#ed7953\"], [0.7777777777777778, \"#fb9f3a\"], [0.8888888888888888, \"#fdca26\"], [1.0, \"#f0f921\"]], \"type\": \"heatmapgl\"}], \"histogram\": [{\"marker\": {\"colorbar\": {\"outlinewidth\": 0, \"ticks\": \"\"}}, \"type\": \"histogram\"}], \"histogram2d\": [{\"colorbar\": {\"outlinewidth\": 0, \"ticks\": \"\"}, \"colorscale\": [[0.0, \"#0d0887\"], [0.1111111111111111, \"#46039f\"], [0.2222222222222222, \"#7201a8\"], [0.3333333333333333, \"#9c179e\"], [0.4444444444444444, \"#bd3786\"], [0.5555555555555556, \"#d8576b\"], [0.6666666666666666, \"#ed7953\"], [0.7777777777777778, \"#fb9f3a\"], [0.8888888888888888, \"#fdca26\"], [1.0, \"#f0f921\"]], \"type\": \"histogram2d\"}], \"histogram2dcontour\": [{\"colorbar\": {\"outlinewidth\": 0, \"ticks\": \"\"}, \"colorscale\": [[0.0, \"#0d0887\"], [0.1111111111111111, \"#46039f\"], [0.2222222222222222, \"#7201a8\"], [0.3333333333333333, \"#9c179e\"], [0.4444444444444444, \"#bd3786\"], [0.5555555555555556, \"#d8576b\"], [0.6666666666666666, \"#ed7953\"], [0.7777777777777778, \"#fb9f3a\"], [0.8888888888888888, \"#fdca26\"], [1.0, \"#f0f921\"]], \"type\": \"histogram2dcontour\"}], \"mesh3d\": [{\"colorbar\": {\"outlinewidth\": 0, \"ticks\": \"\"}, \"type\": \"mesh3d\"}], \"parcoords\": [{\"line\": {\"colorbar\": {\"outlinewidth\": 0, \"ticks\": \"\"}}, \"type\": \"parcoords\"}], \"pie\": [{\"automargin\": true, \"type\": \"pie\"}], \"scatter\": [{\"marker\": {\"colorbar\": {\"outlinewidth\": 0, \"ticks\": \"\"}}, \"type\": \"scatter\"}], \"scatter3d\": [{\"line\": {\"colorbar\": {\"outlinewidth\": 0, \"ticks\": \"\"}}, \"marker\": {\"colorbar\": {\"outlinewidth\": 0, \"ticks\": \"\"}}, \"type\": \"scatter3d\"}], \"scattercarpet\": [{\"marker\": {\"colorbar\": {\"outlinewidth\": 0, \"ticks\": \"\"}}, \"type\": \"scattercarpet\"}], \"scattergeo\": [{\"marker\": {\"colorbar\": {\"outlinewidth\": 0, \"ticks\": \"\"}}, \"type\": \"scattergeo\"}], \"scattergl\": [{\"marker\": {\"colorbar\": {\"outlinewidth\": 0, \"ticks\": \"\"}}, \"type\": \"scattergl\"}], \"scattermapbox\": [{\"marker\": {\"colorbar\": {\"outlinewidth\": 0, \"ticks\": \"\"}}, \"type\": \"scattermapbox\"}], \"scatterpolar\": [{\"marker\": {\"colorbar\": {\"outlinewidth\": 0, \"ticks\": \"\"}}, \"type\": \"scatterpolar\"}], \"scatterpolargl\": [{\"marker\": {\"colorbar\": {\"outlinewidth\": 0, \"ticks\": \"\"}}, \"type\": \"scatterpolargl\"}], \"scatterternary\": [{\"marker\": {\"colorbar\": {\"outlinewidth\": 0, \"ticks\": \"\"}}, \"type\": \"scatterternary\"}], \"surface\": [{\"colorbar\": {\"outlinewidth\": 0, \"ticks\": \"\"}, \"colorscale\": [[0.0, \"#0d0887\"], [0.1111111111111111, \"#46039f\"], [0.2222222222222222, \"#7201a8\"], [0.3333333333333333, \"#9c179e\"], [0.4444444444444444, \"#bd3786\"], [0.5555555555555556, \"#d8576b\"], [0.6666666666666666, \"#ed7953\"], [0.7777777777777778, \"#fb9f3a\"], [0.8888888888888888, \"#fdca26\"], [1.0, \"#f0f921\"]], \"type\": \"surface\"}], \"table\": [{\"cells\": {\"fill\": {\"color\": \"#EBF0F8\"}, \"line\": {\"color\": \"white\"}}, \"header\": {\"fill\": {\"color\": \"#C8D4E3\"}, \"line\": {\"color\": \"white\"}}, \"type\": \"table\"}]}, \"layout\": {\"annotationdefaults\": {\"arrowcolor\": \"#2a3f5f\", \"arrowhead\": 0, \"arrowwidth\": 1}, \"coloraxis\": {\"colorbar\": {\"outlinewidth\": 0, \"ticks\": \"\"}}, \"colorscale\": {\"diverging\": [[0, \"#8e0152\"], [0.1, \"#c51b7d\"], [0.2, \"#de77ae\"], [0.3, \"#f1b6da\"], [0.4, \"#fde0ef\"], [0.5, \"#f7f7f7\"], [0.6, \"#e6f5d0\"], [0.7, \"#b8e186\"], [0.8, \"#7fbc41\"], [0.9, \"#4d9221\"], [1, \"#276419\"]], \"sequential\": [[0.0, \"#0d0887\"], [0.1111111111111111, \"#46039f\"], [0.2222222222222222, \"#7201a8\"], [0.3333333333333333, \"#9c179e\"], [0.4444444444444444, \"#bd3786\"], [0.5555555555555556, \"#d8576b\"], [0.6666666666666666, \"#ed7953\"], [0.7777777777777778, \"#fb9f3a\"], [0.8888888888888888, \"#fdca26\"], [1.0, \"#f0f921\"]], \"sequentialminus\": [[0.0, \"#0d0887\"], [0.1111111111111111, \"#46039f\"], [0.2222222222222222, \"#7201a8\"], [0.3333333333333333, \"#9c179e\"], [0.4444444444444444, \"#bd3786\"], [0.5555555555555556, \"#d8576b\"], [0.6666666666666666, \"#ed7953\"], [0.7777777777777778, \"#fb9f3a\"], [0.8888888888888888, \"#fdca26\"], [1.0, \"#f0f921\"]]}, \"colorway\": [\"#636efa\", \"#EF553B\", \"#00cc96\", \"#ab63fa\", \"#FFA15A\", \"#19d3f3\", \"#FF6692\", \"#B6E880\", \"#FF97FF\", \"#FECB52\"], \"font\": {\"color\": \"#2a3f5f\"}, \"geo\": {\"bgcolor\": \"white\", \"lakecolor\": \"white\", \"landcolor\": \"#E5ECF6\", \"showlakes\": true, \"showland\": true, \"subunitcolor\": \"white\"}, \"hoverlabel\": {\"align\": \"left\"}, \"hovermode\": \"closest\", \"mapbox\": {\"style\": \"light\"}, \"paper_bgcolor\": \"white\", \"plot_bgcolor\": \"#E5ECF6\", \"polar\": {\"angularaxis\": {\"gridcolor\": \"white\", \"linecolor\": \"white\", \"ticks\": \"\"}, \"bgcolor\": \"#E5ECF6\", \"radialaxis\": {\"gridcolor\": \"white\", \"linecolor\": \"white\", \"ticks\": \"\"}}, \"scene\": {\"xaxis\": {\"backgroundcolor\": \"#E5ECF6\", \"gridcolor\": \"white\", \"gridwidth\": 2, \"linecolor\": \"white\", \"showbackground\": true, \"ticks\": \"\", \"zerolinecolor\": \"white\"}, \"yaxis\": {\"backgroundcolor\": \"#E5ECF6\", \"gridcolor\": \"white\", \"gridwidth\": 2, \"linecolor\": \"white\", \"showbackground\": true, \"ticks\": \"\", \"zerolinecolor\": \"white\"}, \"zaxis\": {\"backgroundcolor\": \"#E5ECF6\", \"gridcolor\": \"white\", \"gridwidth\": 2, \"linecolor\": \"white\", \"showbackground\": true, \"ticks\": \"\", \"zerolinecolor\": \"white\"}}, \"shapedefaults\": {\"line\": {\"color\": \"#2a3f5f\"}}, \"ternary\": {\"aaxis\": {\"gridcolor\": \"white\", \"linecolor\": \"white\", \"ticks\": \"\"}, \"baxis\": {\"gridcolor\": \"white\", \"linecolor\": \"white\", \"ticks\": \"\"}, \"bgcolor\": \"#E5ECF6\", \"caxis\": {\"gridcolor\": \"white\", \"linecolor\": \"white\", \"ticks\": \"\"}}, \"title\": {\"x\": 0.05}, \"xaxis\": {\"automargin\": true, \"gridcolor\": \"white\", \"linecolor\": \"white\", \"ticks\": \"\", \"title\": {\"standoff\": 15}, \"zerolinecolor\": \"white\", \"zerolinewidth\": 2}, \"yaxis\": {\"automargin\": true, \"gridcolor\": \"white\", \"linecolor\": \"white\", \"ticks\": \"\", \"title\": {\"standoff\": 15}, \"zerolinecolor\": \"white\", \"zerolinewidth\": 2}}}, \"title\": {\"text\": \"Parameter Tunings Mean Absolute Percentage Error: Multivariate Confirmed Deaths\", \"x\": 0.5}, \"width\": 1200},\n",
              "                        {\"responsive\": true}\n",
              "                    ).then(function(){\n",
              "                            \n",
              "var gd = document.getElementById('39124488-0a17-4d8e-bc4a-cb2c08df1ea2');\n",
              "var x = new MutationObserver(function (mutations, observer) {{\n",
              "        var display = window.getComputedStyle(gd).display;\n",
              "        if (!display || display === 'none') {{\n",
              "            console.log([gd, 'removed!']);\n",
              "            Plotly.purge(gd);\n",
              "            observer.disconnect();\n",
              "        }}\n",
              "}});\n",
              "\n",
              "// Listen for the removal of the full notebook cells\n",
              "var notebookContainer = gd.closest('#notebook-container');\n",
              "if (notebookContainer) {{\n",
              "    x.observe(notebookContainer, {childList: true});\n",
              "}}\n",
              "\n",
              "// Listen for the clearing of the current output cell\n",
              "var outputEl = gd.closest('.output');\n",
              "if (outputEl) {{\n",
              "    x.observe(outputEl, {childList: true});\n",
              "}}\n",
              "\n",
              "                        })\n",
              "                };\n",
              "                \n",
              "            </script>\n",
              "        </div>\n",
              "</body>\n",
              "</html>"
            ]
          },
          "metadata": {}
        }
      ]
    },
    {
      "cell_type": "markdown",
      "metadata": {
        "id": "CuvhzCWEGbeI"
      },
      "source": [
        "## Training and Validation\n",
        "\n",
        "---\n",
        "\n",
        "After models were selected, using the training data set, we adjusted and trained the models to get the prediction with the lowest MAPE. We, then, used test samples for model validations and combined predicted values from both training and test sets together. This was only for illustration purpose.\n"
      ]
    },
    {
      "cell_type": "markdown",
      "metadata": {
        "id": "O79p9e9yGbeI"
      },
      "source": [
        "### Multivariate Confirmed Cases"
      ]
    },
    {
      "cell_type": "code",
      "metadata": {
        "colab": {
          "base_uri": "https://localhost:8080/"
        },
        "id": "hKJESycXGbeI",
        "outputId": "5a829602-d225-4507-f279-fe03d2ff0f3c"
      },
      "source": [
        "seed(1)\n",
        "tensorflow.random.set_seed(1)\n",
        "\n",
        "# model_multi_resident_i = Sequential()\n",
        "# model_multi_resident_i.add(Conv1D(filters = 128, kernel_size = 3, activation='relu', input_shape=(X_i_tr_resident.shape[1], X_i_tr_resident.shape[2])))\n",
        "# model_multi_resident_i.add(MaxPooling1D(pool_size = 2))\n",
        "# model_multi_resident_i.add(Flatten())\n",
        "# # model_multi_resident_i.add(Dense(4, activation = \"relu\"))\n",
        "# model_multi_resident_i.add(Dense(1, activation = \"linear\"))\n",
        "# model_multi_resident_i.compile(loss='mse', optimizer='adam', metrics = \"MAPE\")\n",
        "\n",
        "model_multi_resident_i = Sequential()\n",
        "model_multi_resident_i.add(SimpleRNN(256, activation='relu', input_shape=(X_i_tr_resident.shape[1], X_i_tr_resident.shape[2])))\n",
        "model_multi_resident_i.add(Dense(1, activation = \"linear\"))\n",
        "model_multi_resident_i.compile(loss='mse', optimizer='adam', metrics = \"MAPE\")\n",
        "\n",
        "# fit network\n",
        "model_multi_resident_i.fit(X_i_tr_resident, y_i_tr, \n",
        "                           epochs=50, \n",
        "                           batch_size=1, \n",
        "                           verbose=0, \n",
        "                           shuffle=False)\n",
        "\n",
        "\n",
        "scores_multi_resident_i1 = model_multi_resident_i.evaluate(X_i_tr_resident, y_i_tr, verbose=0)\n",
        "\n",
        "# MAPE\n",
        "print(\"MAPE: training = \",scores_multi_resident_i1[1])\n",
        "\n",
        "scores_multi_resident_i = model_multi_resident_i.evaluate(X_i_ts_resident, y_i_ts, verbose=0)\n",
        "\n",
        "# MAPE\n",
        "print(\"MAPE: test = \",scores_multi_resident_i[1])"
      ],
      "execution_count": 24,
      "outputs": [
        {
          "output_type": "stream",
          "name": "stdout",
          "text": [
            "MAPE: training =  3.156494140625\n",
            "MAPE: test =  10.27944564819336\n"
          ]
        }
      ]
    },
    {
      "cell_type": "code",
      "metadata": {
        "id": "eESAy_aGGbeJ"
      },
      "source": [
        "# make a prediction\n",
        "# training set\n",
        "y_multi_resident_i_tr = pd.DataFrame(model_multi_resident_i.predict(X_i_tr_resident))\n",
        "\n",
        "# test set\n",
        "y_multi_resident_i_ts = pd.DataFrame(model_multi_resident_i.predict(X_i_ts_resident))\n",
        "\n",
        "# combine training and test predictions\n",
        "y_multi_resident_i_total = pd.concat([y_multi_resident_i_tr, y_multi_resident_i_ts], ignore_index=True)\n"
      ],
      "execution_count": 27,
      "outputs": []
    },
    {
      "cell_type": "markdown",
      "metadata": {
        "id": "XShCFb0ZGbeJ"
      },
      "source": [
        "### Multivariate Confirmed Deaths"
      ]
    },
    {
      "cell_type": "code",
      "metadata": {
        "colab": {
          "base_uri": "https://localhost:8080/"
        },
        "id": "4V_ILEYyGbeJ",
        "outputId": "366bf23a-e4cf-4dc0-9e3d-c477f593c2e8"
      },
      "source": [
        "seed(1)\n",
        "tensorflow.random.set_seed(1)\n",
        "\n",
        "model_multi_resident_d = Sequential()\n",
        "model_multi_resident_d.add(SimpleRNN(512, activation = 'relu', input_shape=(X_d_tr_resident.shape[1], X_d_tr_resident.shape[2])))\n",
        "# model_multi_resident_d.add(Dense(4, activation = \"relu\"))\n",
        "model_multi_resident_d.add(Dense(1, activation = \"linear\"))\n",
        "model_multi_resident_d.compile(loss='mse', optimizer='adam', metrics = \"MAPE\")\n",
        "\n",
        "# model_multi_resident_d = Sequential()\n",
        "# model_multi_resident_d.add(Conv1D(32, kernel_size = 3, activation = 'relu', input_shape=(X_d_tr_resident.shape[1], X_d_tr_resident.shape[2])))\n",
        "# model_multi_resident_d.add(MaxPooling1D(2))\n",
        "# model_multi_resident_d.add(Flatten())\n",
        "# # model_multi_resident_d.add(Dense(4, activation = \"relu\"))\n",
        "# model_multi_resident_d.add(Dense(1, activation = \"linear\"))\n",
        "# model_multi_resident_d.compile(loss='mse', optimizer='adam', metrics = \"MAPE\")\n",
        "\n",
        "# fit network\n",
        "model_multi_resident_d.fit(X_d_tr_resident, y_d_tr, \n",
        "                           epochs=50, \n",
        "                           batch_size=1, \n",
        "                           verbose=0, \n",
        "                           shuffle=False)\n",
        "\n",
        "scores_multi_resident_d1 = model_multi_resident_d.evaluate(X_d_tr_resident, y_d_tr, verbose=0)\n",
        "\n",
        "# MAPE\n",
        "print(\"MAPE: training = \",scores_multi_resident_d1[1])\n",
        "\n",
        "scores_multi_resident_d = model_multi_resident_d.evaluate(X_d_ts_resident, y_d_ts, verbose=0)\n",
        "\n",
        "# MAPE\n",
        "print(\"MAPE: test = \",scores_multi_resident_d[1])"
      ],
      "execution_count": 31,
      "outputs": [
        {
          "output_type": "stream",
          "name": "stdout",
          "text": [
            "MAPE: training =  4.822949409484863\n",
            "MAPE: test =  10.245637893676758\n"
          ]
        }
      ]
    },
    {
      "cell_type": "code",
      "metadata": {
        "id": "o16jVfMzGbeJ"
      },
      "source": [
        "# make a prediction\n",
        "# training set\n",
        "y_multi_resident_d_tr = pd.DataFrame(model_multi_resident_d.predict(X_d_tr_resident))\n",
        "\n",
        "# test set\n",
        "y_multi_resident_d_ts = pd.DataFrame(model_multi_resident_d.predict(X_d_ts_resident))\n",
        "\n",
        "# combine training and test predictions\n",
        "y_multi_resident_d_total = pd.concat([y_multi_resident_d_tr, y_multi_resident_d_ts], ignore_index=True)\n"
      ],
      "execution_count": 32,
      "outputs": []
    },
    {
      "cell_type": "code",
      "metadata": {
        "id": "MXIWZMe4GbeJ"
      },
      "source": [
        "multi_in = \"RNNs\"\n",
        "multi_de = \"RNNs\"\n",
        "tick_spacing = 5\n",
        "date_test = data['Date'][0+index+lag-1]"
      ],
      "execution_count": 28,
      "outputs": []
    },
    {
      "cell_type": "markdown",
      "metadata": {
        "id": "Xxsr2nsMGbeJ"
      },
      "source": [
        "### Plots"
      ]
    },
    {
      "cell_type": "code",
      "metadata": {
        "id": "9rJIVr96GbeJ",
        "colab": {
          "base_uri": "https://localhost:8080/",
          "height": 333
        },
        "outputId": "a066c855-bfe8-4fcc-cc3c-b1840d4918fd"
      },
      "source": [
        "infect = pd.concat([y_multi_resident_i_total,\n",
        "                   data.Cases_daily.iloc[lag:].reset_index(drop = True), \n",
        "                   data.Date.iloc[lag:].reset_index(drop = True)],\n",
        "                   axis=1)\n",
        "infect.columns = ['multi_i', 'actual', 'Date']\n",
        "\n",
        "infect.dropna(subset = ['multi_i', 'actual', 'Date'], inplace=True)\n",
        "\n",
        "plt.plot(infect['Date'],infect['multi_i'], label = \"Predicted\")\n",
        "plt.plot(infect['Date'],infect['actual'], label = \"Actual\")\n",
        "plt.legend(frameon=False, loc='upper center', ncol = 2, fontsize = 'x-large')\n",
        "plt.title(\"Google: Retail Predicts Confirmed Cases\", fontsize = 'xx-large')\n",
        "plt.tick_params('x',labelrotation=90)\n",
        "plt.axvline(date_test, color=\"gray\", linestyle=\"--\")\n",
        "plt.grid(True, which='both', alpha=0.3)"
      ],
      "execution_count": 29,
      "outputs": [
        {
          "output_type": "display_data",
          "data": {
            "image/png": "[encoded data removed]",
            "text/plain": [
              "<Figure size 432x288 with 1 Axes>"
            ]
          },
          "metadata": {
            "needs_background": "light"
          }
        }
      ]
    },
    {
      "cell_type": "code",
      "metadata": {
        "colab": {
          "base_uri": "https://localhost:8080/",
          "height": 333
        },
        "id": "cNOYhwnWGbeJ",
        "outputId": "c37c047b-3f5a-433d-ebd2-6603d0b57e6a"
      },
      "source": [
        "death = pd.concat([y_multi_resident_d_total,\n",
        "                   data.Deaths_daily.iloc[lag:].reset_index(drop = True), \n",
        "                   data.Date.iloc[lag:].reset_index(drop = True)],\n",
        "                  axis=1)\n",
        "death.columns = ['multi_d', 'actual', 'Date']\n",
        "\n",
        "death.dropna(subset = ['multi_d', 'actual', 'Date'], inplace=True)\n",
        "\n",
        "\n",
        "plt.plot(death['Date'],death['multi_d'], label = \"Predicted\")\n",
        "plt.plot(death['Date'],death['actual'], label = \"Actual\")\n",
        "plt.legend(frameon=False, loc='upper center', ncol = 2, fontsize = 'x-large')\n",
        "plt.title(\"Google: Retail Predicts Confirmed Deaths\", fontsize = 'xx-large')\n",
        "plt.tick_params('x',labelrotation=90)\n",
        "plt.axvline(date_test, color=\"gray\", linestyle=\"--\")\n",
        "plt.grid(True, which='both', alpha=0.3)\n"
      ],
      "execution_count": 33,
      "outputs": [
        {
          "output_type": "display_data",
          "data": {
            "image/png": "[encoded data removed]",
            "text/plain": [
              "<Figure size 432x288 with 1 Axes>"
            ]
          },
          "metadata": {
            "needs_background": "light"
          }
        }
      ]
    },
    {
      "cell_type": "markdown",
      "metadata": {
        "id": "5BZuTkNGGbeK"
      },
      "source": [
        "### Result Table"
      ]
    },
    {
      "cell_type": "code",
      "metadata": {
        "colab": {
          "base_uri": "https://localhost:8080/",
          "height": 542
        },
        "id": "s3qeMuFHGbeK",
        "outputId": "2d124132-6300-4b1f-e3d9-581f0fc31843"
      },
      "source": [
        "fig = go.Figure(data=[go.Table(header=dict(values=['Model Type', 'Best Model', 'Training', 'Test'],\n",
        "                                           line_color = 'gray'),\n",
        "                               cells=dict(values=[['Multivariate: Confirmed Cases',\n",
        "                                                   'Multivariate: Confirmed Deaths'],\n",
        "                                                  [multi_in, multi_de],\n",
        "                                    [round(scores_multi_resident_i1[1],3), round(scores_multi_resident_d1[1],3)],\n",
        "                                    [round(scores_multi_resident_i[1],3), round(scores_multi_resident_d[1],3)]],\n",
        "                            align=['left','center', 'center', 'center'],\n",
        "                            fill_color = 'white',\n",
        "                            line_color = 'gray'))\n",
        "                     ])\n",
        "fig.update_layout(title = \"Mean Absolute Percentage Error\",title_x=0.5)\n",
        "fig.show()"
      ],
      "execution_count": 34,
      "outputs": [
        {
          "output_type": "display_data",
          "data": {
            "text/html": [
              "<html>\n",
              "<head><meta charset=\"utf-8\" /></head>\n",
              "<body>\n",
              "    <div>\n",
              "            <script src=\"https://cdnjs.cloudflare.com/ajax/libs/mathjax/2.7.5/MathJax.js?config=TeX-AMS-MML_SVG\"></script><script type=\"text/javascript\">if (window.MathJax) {MathJax.Hub.Config({SVG: {font: \"STIX-Web\"}});}</script>\n",
              "                <script type=\"text/javascript\">window.PlotlyConfig = {MathJaxConfig: 'local'};</script>\n",
              "        <script src=\"https://cdn.plot.ly/plotly-latest.min.js\"></script>    \n",
              "            <div id=\"5c350e9c-1e5f-4c29-9e94-057564d7b3ea\" class=\"plotly-graph-div\" style=\"height:525px; width:100%;\"></div>\n",
              "            <script type=\"text/javascript\">\n",
              "                \n",
              "                    window.PLOTLYENV=window.PLOTLYENV || {};\n",
              "                    \n",
              "                if (document.getElementById(\"5c350e9c-1e5f-4c29-9e94-057564d7b3ea\")) {\n",
              "                    Plotly.newPlot(\n",
              "                        '5c350e9c-1e5f-4c29-9e94-057564d7b3ea',\n",
              "                        [{\"cells\": {\"align\": [\"left\", \"center\", \"center\", \"center\"], \"fill\": {\"color\": \"white\"}, \"line\": {\"color\": \"gray\"}, \"values\": [[\"Multivariate: Confirmed Cases\", \"Multivariate: Confirmed Deaths\"], [\"RNNs\", \"RNNs\"], [3.156, 4.823], [10.279, 10.246]]}, \"header\": {\"line\": {\"color\": \"gray\"}, \"values\": [\"Model Type\", \"Best Model\", \"Training\", \"Test\"]}, \"type\": \"table\"}],\n",
              "                        {\"template\": {\"data\": {\"bar\": [{\"error_x\": {\"color\": \"#2a3f5f\"}, \"error_y\": {\"color\": \"#2a3f5f\"}, \"marker\": {\"line\": {\"color\": \"#E5ECF6\", \"width\": 0.5}}, \"type\": \"bar\"}], \"barpolar\": [{\"marker\": {\"line\": {\"color\": \"#E5ECF6\", \"width\": 0.5}}, \"type\": \"barpolar\"}], \"carpet\": [{\"aaxis\": {\"endlinecolor\": \"#2a3f5f\", \"gridcolor\": \"white\", \"linecolor\": \"white\", \"minorgridcolor\": \"white\", \"startlinecolor\": \"#2a3f5f\"}, \"baxis\": {\"endlinecolor\": \"#2a3f5f\", \"gridcolor\": \"white\", \"linecolor\": \"white\", \"minorgridcolor\": \"white\", \"startlinecolor\": \"#2a3f5f\"}, \"type\": \"carpet\"}], \"choropleth\": [{\"colorbar\": {\"outlinewidth\": 0, \"ticks\": \"\"}, \"type\": \"choropleth\"}], \"contour\": [{\"colorbar\": {\"outlinewidth\": 0, \"ticks\": \"\"}, \"colorscale\": [[0.0, \"#0d0887\"], [0.1111111111111111, \"#46039f\"], [0.2222222222222222, \"#7201a8\"], [0.3333333333333333, \"#9c179e\"], [0.4444444444444444, \"#bd3786\"], [0.5555555555555556, \"#d8576b\"], [0.6666666666666666, \"#ed7953\"], [0.7777777777777778, \"#fb9f3a\"], [0.8888888888888888, \"#fdca26\"], [1.0, \"#f0f921\"]], \"type\": \"contour\"}], \"contourcarpet\": [{\"colorbar\": {\"outlinewidth\": 0, \"ticks\": \"\"}, \"type\": \"contourcarpet\"}], \"heatmap\": [{\"colorbar\": {\"outlinewidth\": 0, \"ticks\": \"\"}, \"colorscale\": [[0.0, \"#0d0887\"], [0.1111111111111111, \"#46039f\"], [0.2222222222222222, \"#7201a8\"], [0.3333333333333333, \"#9c179e\"], [0.4444444444444444, \"#bd3786\"], [0.5555555555555556, \"#d8576b\"], [0.6666666666666666, \"#ed7953\"], [0.7777777777777778, \"#fb9f3a\"], [0.8888888888888888, \"#fdca26\"], [1.0, \"#f0f921\"]], \"type\": \"heatmap\"}], \"heatmapgl\": [{\"colorbar\": {\"outlinewidth\": 0, \"ticks\": \"\"}, \"colorscale\": [[0.0, \"#0d0887\"], [0.1111111111111111, \"#46039f\"], [0.2222222222222222, \"#7201a8\"], [0.3333333333333333, \"#9c179e\"], [0.4444444444444444, \"#bd3786\"], [0.5555555555555556, \"#d8576b\"], [0.6666666666666666, \"#ed7953\"], [0.7777777777777778, \"#fb9f3a\"], [0.8888888888888888, \"#fdca26\"], [1.0, \"#f0f921\"]], \"type\": \"heatmapgl\"}], \"histogram\": [{\"marker\": {\"colorbar\": {\"outlinewidth\": 0, \"ticks\": \"\"}}, \"type\": \"histogram\"}], \"histogram2d\": [{\"colorbar\": {\"outlinewidth\": 0, \"ticks\": \"\"}, \"colorscale\": [[0.0, \"#0d0887\"], [0.1111111111111111, \"#46039f\"], [0.2222222222222222, \"#7201a8\"], [0.3333333333333333, \"#9c179e\"], [0.4444444444444444, \"#bd3786\"], [0.5555555555555556, \"#d8576b\"], [0.6666666666666666, \"#ed7953\"], [0.7777777777777778, \"#fb9f3a\"], [0.8888888888888888, \"#fdca26\"], [1.0, \"#f0f921\"]], \"type\": \"histogram2d\"}], \"histogram2dcontour\": [{\"colorbar\": {\"outlinewidth\": 0, \"ticks\": \"\"}, \"colorscale\": [[0.0, \"#0d0887\"], [0.1111111111111111, \"#46039f\"], [0.2222222222222222, \"#7201a8\"], [0.3333333333333333, \"#9c179e\"], [0.4444444444444444, \"#bd3786\"], [0.5555555555555556, \"#d8576b\"], [0.6666666666666666, \"#ed7953\"], [0.7777777777777778, \"#fb9f3a\"], [0.8888888888888888, \"#fdca26\"], [1.0, \"#f0f921\"]], \"type\": \"histogram2dcontour\"}], \"mesh3d\": [{\"colorbar\": {\"outlinewidth\": 0, \"ticks\": \"\"}, \"type\": \"mesh3d\"}], \"parcoords\": [{\"line\": {\"colorbar\": {\"outlinewidth\": 0, \"ticks\": \"\"}}, \"type\": \"parcoords\"}], \"pie\": [{\"automargin\": true, \"type\": \"pie\"}], \"scatter\": [{\"marker\": {\"colorbar\": {\"outlinewidth\": 0, \"ticks\": \"\"}}, \"type\": \"scatter\"}], \"scatter3d\": [{\"line\": {\"colorbar\": {\"outlinewidth\": 0, \"ticks\": \"\"}}, \"marker\": {\"colorbar\": {\"outlinewidth\": 0, \"ticks\": \"\"}}, \"type\": \"scatter3d\"}], \"scattercarpet\": [{\"marker\": {\"colorbar\": {\"outlinewidth\": 0, \"ticks\": \"\"}}, \"type\": \"scattercarpet\"}], \"scattergeo\": [{\"marker\": {\"colorbar\": {\"outlinewidth\": 0, \"ticks\": \"\"}}, \"type\": \"scattergeo\"}], \"scattergl\": [{\"marker\": {\"colorbar\": {\"outlinewidth\": 0, \"ticks\": \"\"}}, \"type\": \"scattergl\"}], \"scattermapbox\": [{\"marker\": {\"colorbar\": {\"outlinewidth\": 0, \"ticks\": \"\"}}, \"type\": \"scattermapbox\"}], \"scatterpolar\": [{\"marker\": {\"colorbar\": {\"outlinewidth\": 0, \"ticks\": \"\"}}, \"type\": \"scatterpolar\"}], \"scatterpolargl\": [{\"marker\": {\"colorbar\": {\"outlinewidth\": 0, \"ticks\": \"\"}}, \"type\": \"scatterpolargl\"}], \"scatterternary\": [{\"marker\": {\"colorbar\": {\"outlinewidth\": 0, \"ticks\": \"\"}}, \"type\": \"scatterternary\"}], \"surface\": [{\"colorbar\": {\"outlinewidth\": 0, \"ticks\": \"\"}, \"colorscale\": [[0.0, \"#0d0887\"], [0.1111111111111111, \"#46039f\"], [0.2222222222222222, \"#7201a8\"], [0.3333333333333333, \"#9c179e\"], [0.4444444444444444, \"#bd3786\"], [0.5555555555555556, \"#d8576b\"], [0.6666666666666666, \"#ed7953\"], [0.7777777777777778, \"#fb9f3a\"], [0.8888888888888888, \"#fdca26\"], [1.0, \"#f0f921\"]], \"type\": \"surface\"}], \"table\": [{\"cells\": {\"fill\": {\"color\": \"#EBF0F8\"}, \"line\": {\"color\": \"white\"}}, \"header\": {\"fill\": {\"color\": \"#C8D4E3\"}, \"line\": {\"color\": \"white\"}}, \"type\": \"table\"}]}, \"layout\": {\"annotationdefaults\": {\"arrowcolor\": \"#2a3f5f\", \"arrowhead\": 0, \"arrowwidth\": 1}, \"coloraxis\": {\"colorbar\": {\"outlinewidth\": 0, \"ticks\": \"\"}}, \"colorscale\": {\"diverging\": [[0, \"#8e0152\"], [0.1, \"#c51b7d\"], [0.2, \"#de77ae\"], [0.3, \"#f1b6da\"], [0.4, \"#fde0ef\"], [0.5, \"#f7f7f7\"], [0.6, \"#e6f5d0\"], [0.7, \"#b8e186\"], [0.8, \"#7fbc41\"], [0.9, \"#4d9221\"], [1, \"#276419\"]], \"sequential\": [[0.0, \"#0d0887\"], [0.1111111111111111, \"#46039f\"], [0.2222222222222222, \"#7201a8\"], [0.3333333333333333, \"#9c179e\"], [0.4444444444444444, \"#bd3786\"], [0.5555555555555556, \"#d8576b\"], [0.6666666666666666, \"#ed7953\"], [0.7777777777777778, \"#fb9f3a\"], [0.8888888888888888, \"#fdca26\"], [1.0, \"#f0f921\"]], \"sequentialminus\": [[0.0, \"#0d0887\"], [0.1111111111111111, \"#46039f\"], [0.2222222222222222, \"#7201a8\"], [0.3333333333333333, \"#9c179e\"], [0.4444444444444444, \"#bd3786\"], [0.5555555555555556, \"#d8576b\"], [0.6666666666666666, \"#ed7953\"], [0.7777777777777778, \"#fb9f3a\"], [0.8888888888888888, \"#fdca26\"], [1.0, \"#f0f921\"]]}, \"colorway\": [\"#636efa\", \"#EF553B\", \"#00cc96\", \"#ab63fa\", \"#FFA15A\", \"#19d3f3\", \"#FF6692\", \"#B6E880\", \"#FF97FF\", \"#FECB52\"], \"font\": {\"color\": \"#2a3f5f\"}, \"geo\": {\"bgcolor\": \"white\", \"lakecolor\": \"white\", \"landcolor\": \"#E5ECF6\", \"showlakes\": true, \"showland\": true, \"subunitcolor\": \"white\"}, \"hoverlabel\": {\"align\": \"left\"}, \"hovermode\": \"closest\", \"mapbox\": {\"style\": \"light\"}, \"paper_bgcolor\": \"white\", \"plot_bgcolor\": \"#E5ECF6\", \"polar\": {\"angularaxis\": {\"gridcolor\": \"white\", \"linecolor\": \"white\", \"ticks\": \"\"}, \"bgcolor\": \"#E5ECF6\", \"radialaxis\": {\"gridcolor\": \"white\", \"linecolor\": \"white\", \"ticks\": \"\"}}, \"scene\": {\"xaxis\": {\"backgroundcolor\": \"#E5ECF6\", \"gridcolor\": \"white\", \"gridwidth\": 2, \"linecolor\": \"white\", \"showbackground\": true, \"ticks\": \"\", \"zerolinecolor\": \"white\"}, \"yaxis\": {\"backgroundcolor\": \"#E5ECF6\", \"gridcolor\": \"white\", \"gridwidth\": 2, \"linecolor\": \"white\", \"showbackground\": true, \"ticks\": \"\", \"zerolinecolor\": \"white\"}, \"zaxis\": {\"backgroundcolor\": \"#E5ECF6\", \"gridcolor\": \"white\", \"gridwidth\": 2, \"linecolor\": \"white\", \"showbackground\": true, \"ticks\": \"\", \"zerolinecolor\": \"white\"}}, \"shapedefaults\": {\"line\": {\"color\": \"#2a3f5f\"}}, \"ternary\": {\"aaxis\": {\"gridcolor\": \"white\", \"linecolor\": \"white\", \"ticks\": \"\"}, \"baxis\": {\"gridcolor\": \"white\", \"linecolor\": \"white\", \"ticks\": \"\"}, \"bgcolor\": \"#E5ECF6\", \"caxis\": {\"gridcolor\": \"white\", \"linecolor\": \"white\", \"ticks\": \"\"}}, \"title\": {\"x\": 0.05}, \"xaxis\": {\"automargin\": true, \"gridcolor\": \"white\", \"linecolor\": \"white\", \"ticks\": \"\", \"title\": {\"standoff\": 15}, \"zerolinecolor\": \"white\", \"zerolinewidth\": 2}, \"yaxis\": {\"automargin\": true, \"gridcolor\": \"white\", \"linecolor\": \"white\", \"ticks\": \"\", \"title\": {\"standoff\": 15}, \"zerolinecolor\": \"white\", \"zerolinewidth\": 2}}}, \"title\": {\"text\": \"Mean Absolute Percentage Error\", \"x\": 0.5}},\n",
              "                        {\"responsive\": true}\n",
              "                    ).then(function(){\n",
              "                            \n",
              "var gd = document.getElementById('5c350e9c-1e5f-4c29-9e94-057564d7b3ea');\n",
              "var x = new MutationObserver(function (mutations, observer) {{\n",
              "        var display = window.getComputedStyle(gd).display;\n",
              "        if (!display || display === 'none') {{\n",
              "            console.log([gd, 'removed!']);\n",
              "            Plotly.purge(gd);\n",
              "            observer.disconnect();\n",
              "        }}\n",
              "}});\n",
              "\n",
              "// Listen for the removal of the full notebook cells\n",
              "var notebookContainer = gd.closest('#notebook-container');\n",
              "if (notebookContainer) {{\n",
              "    x.observe(notebookContainer, {childList: true});\n",
              "}}\n",
              "\n",
              "// Listen for the clearing of the current output cell\n",
              "var outputEl = gd.closest('.output');\n",
              "if (outputEl) {{\n",
              "    x.observe(outputEl, {childList: true});\n",
              "}}\n",
              "\n",
              "                        })\n",
              "                };\n",
              "                \n",
              "            </script>\n",
              "        </div>\n",
              "</body>\n",
              "</html>"
            ]
          },
          "metadata": {}
        }
      ]
    }
  ]
}